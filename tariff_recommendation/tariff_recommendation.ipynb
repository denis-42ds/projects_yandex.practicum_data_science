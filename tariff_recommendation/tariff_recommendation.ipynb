{
  "cells": [
    {
      "cell_type": "markdown",
      "metadata": {
        "id": "GqZY2BntCV9_"
      },
      "source": [
        "# Рекомендация тарифов"
      ]
    },
    {
      "cell_type": "markdown",
      "metadata": {
        "id": "K9pn0nlRCV9_"
      },
      "source": [
        "В вашем распоряжении данные о поведении клиентов, которые уже перешли на эти тарифы (из проекта курса «Статистический анализ данных»). Нужно построить модель для задачи классификации, которая выберет подходящий тариф. Предобработка данных не понадобится — вы её уже сделали.\n",
        "\n",
        "Постройте модель с максимально большим значением *accuracy*. Чтобы сдать проект успешно, нужно довести долю правильных ответов по крайней мере до 0.75. Проверьте *accuracy* на тестовой выборке самостоятельно."
      ]
    },
    {
      "cell_type": "markdown",
      "metadata": {
        "id": "s8m56HYgCV-A"
      },
      "source": [
        "<b>Описание проекта</b>\n",
        "\n",
        "Оператор мобильной связи «Мегалайн» выяснил: многие клиенты пользуются архивными тарифами. Они хотят построить систему, способную проанализировать поведение клиентов и предложить пользователям новый тариф: «Смарт» или «Ультра».\n",
        "В вашем распоряжении данные о поведении клиентов, которые уже перешли на эти тарифы (из проекта курса «Статистический анализ данных»). Нужно построить модель для задачи классификации, которая выберет подходящий тариф. Предобработка данных не понадобится — вы её уже сделали."
      ]
    },
    {
      "cell_type": "markdown",
      "metadata": {
        "id": "OZHxGt6HCV-B"
      },
      "source": [
        "<b>Инструкция по выполнению проекта</b>\n",
        "\n",
        "- Откройте файл с данными и изучите его. \n",
        "    Путь к файлу: /datasets/users_behavior.csv.\n",
        "- Разделите исходные данные на обучающую, валидационную и тестовую выборки.\n",
        "- Исследуйте качество разных моделей, меняя гиперпараметры. Кратко напишите выводы исследования.\n",
        "- Проверьте качество модели на тестовой выборке.\n",
        "- Дополнительное задание: проверьте модели на вменяемость. Ничего страшного, если не получится: эти данные сложнее тех, с которыми вы работали раньше. В следующем курсе подробнее об этом расскажем."
      ]
    },
    {
      "cell_type": "markdown",
      "metadata": {
        "id": "o0LFeFt9CV-C"
      },
      "source": [
        "<b>Описание данных</b>\n",
        "\n",
        "Каждый объект в наборе данных — это информация о поведении одного пользователя за месяц. \n",
        "\n",
        "Известно:\n",
        "- сalls — количество звонков,\n",
        "- minutes — суммарная длительность звонков в минутах,\n",
        "- messages — количество sms-сообщений,\n",
        "- mb_used — израсходованный интернет-трафик в Мб,\n",
        "- is_ultra — каким тарифом пользовался в течение месяца («Ультра» — 1, «Смарт» — 0)."
      ]
    },
    {
      "cell_type": "markdown",
      "metadata": {
        "id": "dv6xZzmyCV-E"
      },
      "source": [
        "## Откройте и изучите файл"
      ]
    },
    {
      "cell_type": "markdown",
      "metadata": {
        "id": "jR5-x3frCV-F"
      },
      "source": [
        "Импортируем необходимые инструменты."
      ]
    },
    {
      "cell_type": "code",
      "execution_count": null,
      "metadata": {
        "id": "O75Qm-QPCV-G"
      },
      "outputs": [],
      "source": [
        "import pandas as pd\n",
        "from sklearn.tree import DecisionTreeClassifier\n",
        "from sklearn.ensemble import RandomForestClassifier\n",
        "from sklearn.linear_model import LogisticRegression\n",
        "from sklearn.model_selection import train_test_split\n",
        "from sklearn.metrics import accuracy_score\n",
        "import matplotlib.pyplot as plt\n",
        "from sklearn.dummy import DummyClassifier"
      ]
    },
    {
      "cell_type": "markdown",
      "metadata": {
        "id": "IIpy52K9CV-J"
      },
      "source": [
        "Откроем датафрейм и ознакомимся с данными"
      ]
    },
    {
      "cell_type": "code",
      "execution_count": null,
      "metadata": {
        "scrolled": false,
        "id": "GuwUwM8UCV-J",
        "outputId": "a3289b59-4267-4f99-dbbb-2fe6c1eb817c"
      },
      "outputs": [
        {
          "data": {
            "text/html": [
              "<div>\n",
              "<style scoped>\n",
              "    .dataframe tbody tr th:only-of-type {\n",
              "        vertical-align: middle;\n",
              "    }\n",
              "\n",
              "    .dataframe tbody tr th {\n",
              "        vertical-align: top;\n",
              "    }\n",
              "\n",
              "    .dataframe thead th {\n",
              "        text-align: right;\n",
              "    }\n",
              "</style>\n",
              "<table border=\"1\" class=\"dataframe\">\n",
              "  <thead>\n",
              "    <tr style=\"text-align: right;\">\n",
              "      <th></th>\n",
              "      <th>calls</th>\n",
              "      <th>minutes</th>\n",
              "      <th>messages</th>\n",
              "      <th>mb_used</th>\n",
              "      <th>is_ultra</th>\n",
              "    </tr>\n",
              "  </thead>\n",
              "  <tbody>\n",
              "    <tr>\n",
              "      <th>0</th>\n",
              "      <td>40.0</td>\n",
              "      <td>311.90</td>\n",
              "      <td>83.0</td>\n",
              "      <td>19915.42</td>\n",
              "      <td>0</td>\n",
              "    </tr>\n",
              "    <tr>\n",
              "      <th>1</th>\n",
              "      <td>85.0</td>\n",
              "      <td>516.75</td>\n",
              "      <td>56.0</td>\n",
              "      <td>22696.96</td>\n",
              "      <td>0</td>\n",
              "    </tr>\n",
              "    <tr>\n",
              "      <th>2</th>\n",
              "      <td>77.0</td>\n",
              "      <td>467.66</td>\n",
              "      <td>86.0</td>\n",
              "      <td>21060.45</td>\n",
              "      <td>0</td>\n",
              "    </tr>\n",
              "    <tr>\n",
              "      <th>3</th>\n",
              "      <td>106.0</td>\n",
              "      <td>745.53</td>\n",
              "      <td>81.0</td>\n",
              "      <td>8437.39</td>\n",
              "      <td>1</td>\n",
              "    </tr>\n",
              "    <tr>\n",
              "      <th>4</th>\n",
              "      <td>66.0</td>\n",
              "      <td>418.74</td>\n",
              "      <td>1.0</td>\n",
              "      <td>14502.75</td>\n",
              "      <td>0</td>\n",
              "    </tr>\n",
              "  </tbody>\n",
              "</table>\n",
              "</div>"
            ],
            "text/plain": [
              "   calls  minutes  messages   mb_used  is_ultra\n",
              "0   40.0   311.90      83.0  19915.42         0\n",
              "1   85.0   516.75      56.0  22696.96         0\n",
              "2   77.0   467.66      86.0  21060.45         0\n",
              "3  106.0   745.53      81.0   8437.39         1\n",
              "4   66.0   418.74       1.0  14502.75         0"
            ]
          },
          "metadata": {},
          "output_type": "display_data"
        },
        {
          "name": "stdout",
          "output_type": "stream",
          "text": [
            "<class 'pandas.core.frame.DataFrame'>\n",
            "RangeIndex: 3214 entries, 0 to 3213\n",
            "Data columns (total 5 columns):\n",
            " #   Column    Non-Null Count  Dtype  \n",
            "---  ------    --------------  -----  \n",
            " 0   calls     3214 non-null   float64\n",
            " 1   minutes   3214 non-null   float64\n",
            " 2   messages  3214 non-null   float64\n",
            " 3   mb_used   3214 non-null   float64\n",
            " 4   is_ultra  3214 non-null   int64  \n",
            "dtypes: float64(4), int64(1)\n",
            "memory usage: 125.7 KB\n"
          ]
        }
      ],
      "source": [
        "df = pd.read_csv('/datasets/users_behavior.csv')\n",
        "display(df.head())\n",
        "df.info()"
      ]
    },
    {
      "cell_type": "markdown",
      "metadata": {
        "id": "oqN6CIeQCV-K"
      },
      "source": [
        "Убедимся, что в столбце *is_ultra* записаны только нули и единицы."
      ]
    },
    {
      "cell_type": "code",
      "execution_count": null,
      "metadata": {
        "id": "uKtkHrYHCV-L",
        "outputId": "c8adf47c-aa2b-4a82-a911-fe24b91105c8"
      },
      "outputs": [
        {
          "data": {
            "text/plain": [
              "array([0, 1])"
            ]
          },
          "execution_count": 3,
          "metadata": {},
          "output_type": "execute_result"
        }
      ],
      "source": [
        "df['is_ultra'].unique()"
      ]
    },
    {
      "cell_type": "markdown",
      "metadata": {
        "id": "_LoMKyOgCV-L"
      },
      "source": [
        "<b>Вывод.</b>\n",
        "\n",
        "Данные подготовлены к работе."
      ]
    },
    {
      "cell_type": "markdown",
      "metadata": {
        "id": "bF3GGz8GCV-N"
      },
      "source": [
        "## Разбейте данные на выборки"
      ]
    },
    {
      "cell_type": "markdown",
      "metadata": {
        "id": "760KBkxtCV-N"
      },
      "source": [
        "Разделим датафрейм, используя функцию *train_test_split* на три выборки: обучающую (60%), валидационную (20%) и тестовую (20%).\n",
        "\n",
        "Выведем результат на экран."
      ]
    },
    {
      "cell_type": "code",
      "execution_count": null,
      "metadata": {
        "id": "FbG-j8eSCV-O",
        "outputId": "ce4d3c6f-b74e-4e97-8d61-ebb197484a09"
      },
      "outputs": [
        {
          "name": "stdout",
          "output_type": "stream",
          "text": [
            "<class 'pandas.core.frame.DataFrame'>\n",
            "Int64Index: 1928 entries, 2656 to 510\n",
            "Data columns (total 5 columns):\n",
            " #   Column    Non-Null Count  Dtype  \n",
            "---  ------    --------------  -----  \n",
            " 0   calls     1928 non-null   float64\n",
            " 1   minutes   1928 non-null   float64\n",
            " 2   messages  1928 non-null   float64\n",
            " 3   mb_used   1928 non-null   float64\n",
            " 4   is_ultra  1928 non-null   int64  \n",
            "dtypes: float64(4), int64(1)\n",
            "memory usage: 90.4 KB\n"
          ]
        },
        {
          "data": {
            "text/plain": [
              "None"
            ]
          },
          "metadata": {},
          "output_type": "display_data"
        },
        {
          "name": "stdout",
          "output_type": "stream",
          "text": [
            "<class 'pandas.core.frame.DataFrame'>\n",
            "Int64Index: 643 entries, 1415 to 1196\n",
            "Data columns (total 5 columns):\n",
            " #   Column    Non-Null Count  Dtype  \n",
            "---  ------    --------------  -----  \n",
            " 0   calls     643 non-null    float64\n",
            " 1   minutes   643 non-null    float64\n",
            " 2   messages  643 non-null    float64\n",
            " 3   mb_used   643 non-null    float64\n",
            " 4   is_ultra  643 non-null    int64  \n",
            "dtypes: float64(4), int64(1)\n",
            "memory usage: 30.1 KB\n"
          ]
        },
        {
          "data": {
            "text/plain": [
              "None"
            ]
          },
          "metadata": {},
          "output_type": "display_data"
        },
        {
          "name": "stdout",
          "output_type": "stream",
          "text": [
            "<class 'pandas.core.frame.DataFrame'>\n",
            "Int64Index: 643 entries, 2699 to 1806\n",
            "Data columns (total 5 columns):\n",
            " #   Column    Non-Null Count  Dtype  \n",
            "---  ------    --------------  -----  \n",
            " 0   calls     643 non-null    float64\n",
            " 1   minutes   643 non-null    float64\n",
            " 2   messages  643 non-null    float64\n",
            " 3   mb_used   643 non-null    float64\n",
            " 4   is_ultra  643 non-null    int64  \n",
            "dtypes: float64(4), int64(1)\n",
            "memory usage: 30.1 KB\n"
          ]
        }
      ],
      "source": [
        "df_80, df_test = train_test_split(df, test_size=.2, random_state=12345)\n",
        "df_train, df_valid = train_test_split(df_80, test_size=.25, random_state=12345)\n",
        "display(df_train.info())\n",
        "display(df_test.info())\n",
        "df_valid.info()"
      ]
    },
    {
      "cell_type": "markdown",
      "metadata": {
        "id": "OLdnm0JcCV-O"
      },
      "source": [
        "<b>Вывод</b> \n",
        "\n",
        "Исходный датафрейм разбит на три выборки."
      ]
    },
    {
      "cell_type": "markdown",
      "metadata": {
        "id": "MsQT71OICV-P"
      },
      "source": [
        "## Исследуйте модели"
      ]
    },
    {
      "cell_type": "markdown",
      "metadata": {
        "id": "aDL6VbAACV-P"
      },
      "source": [
        "### Дерево решений"
      ]
    },
    {
      "cell_type": "markdown",
      "metadata": {
        "id": "drI4HAuUCV-Q"
      },
      "source": [
        "Запишем в обучающие признаки данные из обучающей выборки, исключив столбец *is_ultra*. В целевой признак внесём столбец *is_ultra* из обучающей выборки.\n",
        "\n",
        "Создадим цикл, в котором переберём пять моделей деревьев с разной глубиной, обучим каждую на обучающей выборке, проверим результат обучения на валидационной выборке и выберем из них дерево с максимальной долей правильных ответов."
      ]
    },
    {
      "cell_type": "code",
      "execution_count": null,
      "metadata": {
        "scrolled": false,
        "id": "YI1ti89QCV-Q",
        "outputId": "5697043d-2381-46f6-a496-e7ee895df40f"
      },
      "outputs": [
        {
          "data": {
            "text/plain": [
              "0.7651632970451011"
            ]
          },
          "metadata": {},
          "output_type": "display_data"
        },
        {
          "data": {
            "text/plain": [
              "3"
            ]
          },
          "metadata": {},
          "output_type": "display_data"
        },
        {
          "data": {
            "image/png": "[encoded data removed]",
            "text/plain": [
              "<Figure size 432x288 with 1 Axes>"
            ]
          },
          "metadata": {
            "needs_background": "light"
          },
          "output_type": "display_data"
        }
      ],
      "source": [
        "features_train = df_train.drop(['is_ultra'], axis=1)\n",
        "target_train = df_train['is_ultra']\n",
        "features_valid = df_valid.drop(['is_ultra'], axis=1)\n",
        "target_valid = df_valid['is_ultra']\n",
        "\n",
        "best_result = 0\n",
        "depth = 0\n",
        "depths = []\n",
        "results = []\n",
        "\n",
        "for depth in range(1, 6):\n",
        "    model = DecisionTreeClassifier(random_state=12345, max_depth=depth)\n",
        "    model.fit(features_train, target_train)\n",
        "    predictions_valid = model.predict(features_valid)\n",
        "    result = accuracy_score(target_valid, predictions_valid)\n",
        "    depths.append(depth)\n",
        "    results.append(result)\n",
        "        \n",
        "    plt.plot(depths, results)\n",
        "    plt.title(\"Зависимость доли правильных ответов от глубины дерева\")\n",
        "    plt.xlabel(\"Глубина дерева\")\n",
        "    plt.ylabel(\"Доля правильных ответов\")\n",
        "    plt.grid()\n",
        "    plt.show\n",
        "            \n",
        "    if result > best_result:\n",
        "        best_depth = depth\n",
        "        best_result = result\n",
        "\n",
        "display(best_result, best_depth)"
      ]
    },
    {
      "cell_type": "markdown",
      "metadata": {
        "id": "eP0PQBQhCV-Q"
      },
      "source": [
        "<b>Вывод</b>\n",
        "\n",
        "Наибольшая доля правильных ответов наблюдается у дерева с глубиной 3 - 76.5%"
      ]
    },
    {
      "cell_type": "markdown",
      "metadata": {
        "id": "eDjzQ-JaCV-S"
      },
      "source": [
        "### Случайный лес"
      ]
    },
    {
      "cell_type": "markdown",
      "metadata": {
        "id": "YEZQcQgHCV-S"
      },
      "source": [
        "Создадим цикл, в котором переберём модели случайного леса с количеством деревьев от 10 до 100 с шагом 10, обучим каждую на обучающей выборке, проверим результат обучения на валидационной выборке и выберем из них лес с максимальной долей правильных ответов."
      ]
    },
    {
      "cell_type": "code",
      "execution_count": null,
      "metadata": {
        "scrolled": true,
        "id": "h3SQcUcwCV-S",
        "outputId": "697717d2-4303-45d8-8115-8546d6d8081f"
      },
      "outputs": [
        {
          "data": {
            "text/plain": [
              "0.7993779160186625"
            ]
          },
          "metadata": {},
          "output_type": "display_data"
        },
        {
          "data": {
            "text/plain": [
              "80"
            ]
          },
          "metadata": {},
          "output_type": "display_data"
        }
      ],
      "source": [
        "best_model = None\n",
        "best_result = 0\n",
        "for est in range(10, 101, 10):\n",
        "    model = RandomForestClassifier(random_state=12345, n_estimators=est)\n",
        "    model.fit(features_train, target_train)\n",
        "    result = model.score(features_valid, target_valid)\n",
        "    if result > best_result:\n",
        "        best_model = model\n",
        "        best_result = result\n",
        "        best_est = est\n",
        "\n",
        "display(best_result, best_est)"
      ]
    },
    {
      "cell_type": "markdown",
      "metadata": {
        "id": "sSgr_mL5CV-T"
      },
      "source": [
        "<b>Вывод</b>\n",
        "\n",
        "Лучший результат зафиксирован у 80-ти деревьев - 79.9%."
      ]
    },
    {
      "cell_type": "markdown",
      "metadata": {
        "id": "NJ9VJ8VICV-U"
      },
      "source": [
        "### Логистическая регрессия"
      ]
    },
    {
      "cell_type": "markdown",
      "metadata": {
        "id": "elORpCZjCV-V"
      },
      "source": [
        "Создадим модель логистической регрессии, обучим её на обучающей выборке, проверим на валидационной и выведем результат."
      ]
    },
    {
      "cell_type": "code",
      "execution_count": null,
      "metadata": {
        "id": "qCLw4Uu3CV-V",
        "outputId": "1ca78211-10fc-4a8a-95fd-11644b7fb911"
      },
      "outputs": [
        {
          "data": {
            "text/plain": [
              "0.7262830482115086"
            ]
          },
          "execution_count": 7,
          "metadata": {},
          "output_type": "execute_result"
        }
      ],
      "source": [
        "model_lr = LogisticRegression()\n",
        "model_lr.fit(features_train, target_train)\n",
        "predictions_valid = model_lr.predict(features_valid)\n",
        "accuracy = model_lr.score(features_valid, target_valid)\n",
        "accuracy"
      ]
    },
    {
      "cell_type": "markdown",
      "metadata": {
        "id": "M9bc8_tRCV-V"
      },
      "source": [
        "<b>Вывод</b>\n",
        "\n",
        "Доля правильных ответов в модели логистической регрессии - 72.6%"
      ]
    },
    {
      "cell_type": "markdown",
      "metadata": {
        "id": "-jPcBktuCV-W"
      },
      "source": [
        "## Проверьте модель на тестовой выборке"
      ]
    },
    {
      "cell_type": "markdown",
      "metadata": {
        "id": "OxdevhOnCV-X"
      },
      "source": [
        "Запишем в тестовые признаки данные из тестовой выборки, исключив столбец is_ultra. В целевой признак внесём столбец is_ultra из обучающей выборки."
      ]
    },
    {
      "cell_type": "code",
      "execution_count": null,
      "metadata": {
        "id": "XBkG_CuMCV-X"
      },
      "outputs": [],
      "source": [
        "features_test = df_test.drop(['is_ultra'], axis=1)\n",
        "target_test = df_test['is_ultra']"
      ]
    },
    {
      "cell_type": "markdown",
      "metadata": {
        "id": "yjXlg6Y3CV-X"
      },
      "source": [
        "Проверка модели с наибольшей долей правильных ответов на тестовой выборке. Для более полного обучения модели объединим обучающую и валидационную выборки."
      ]
    },
    {
      "cell_type": "code",
      "execution_count": null,
      "metadata": {
        "id": "VhZYtnx7CV-X",
        "outputId": "1a302c83-1661-4c60-e28a-0ed3ca506601"
      },
      "outputs": [
        {
          "data": {
            "text/plain": [
              "0.7713841368584758"
            ]
          },
          "execution_count": 9,
          "metadata": {},
          "output_type": "execute_result"
        }
      ],
      "source": [
        "features_train_80 = df_80.drop(['is_ultra'], axis=1)\n",
        "target_train_80 = df_80['is_ultra']\n",
        "\n",
        "model_forest = RandomForestClassifier(random_state=12345, n_estimators=80)\n",
        "model_forest.fit(features_train_80, target_train_80)\n",
        "\n",
        "predictions_test_forest = model_forest.predict(features_test)\n",
        "accuracy_test_forest = accuracy_score(target_test, predictions_test_forest)\n",
        "accuracy_test_forest"
      ]
    },
    {
      "cell_type": "markdown",
      "metadata": {
        "id": "Cu2INz_QCV-Y"
      },
      "source": [
        "<b>Вывод</b>\n",
        "\n",
        "На тестовой выборке лучшая модель показала почти такой же результат, как на валидационной - доля правильных ответов 77.1%"
      ]
    },
    {
      "cell_type": "markdown",
      "metadata": {
        "id": "Ue-dTSszCV-Z"
      },
      "source": [
        "## (бонус) Проверьте модели на адекватность"
      ]
    },
    {
      "cell_type": "markdown",
      "metadata": {
        "id": "5rgvhVoBCV-Z"
      },
      "source": [
        "Посчитаем долю *is_ultra == True* в тестовой выборке"
      ]
    },
    {
      "cell_type": "code",
      "execution_count": null,
      "metadata": {
        "id": "3tfS02ktCV-a",
        "outputId": "e730a7bd-5091-4d08-9a23-d3f07a219960"
      },
      "outputs": [
        {
          "data": {
            "text/plain": [
              "0.3048211508553655"
            ]
          },
          "execution_count": 10,
          "metadata": {},
          "output_type": "execute_result"
        }
      ],
      "source": [
        "df_test['is_ultra'].sum() / df_test['is_ultra'].count()"
      ]
    },
    {
      "cell_type": "markdown",
      "metadata": {
        "id": "2mOOajrnCV-a"
      },
      "source": [
        "Ввиду того, что целевой признак распределён неравномерно, воспользуемся *DummyClassifier*.\n",
        "И посчитаем долю правильных ответов с параметром *strategy='most_frequent'*"
      ]
    },
    {
      "cell_type": "code",
      "execution_count": null,
      "metadata": {
        "id": "4GxWEh07CV-b",
        "outputId": "5de35410-47de-4ba3-d4e9-c773a8d82eb5"
      },
      "outputs": [
        {
          "data": {
            "text/plain": [
              "0.6951788491446346"
            ]
          },
          "execution_count": 11,
          "metadata": {},
          "output_type": "execute_result"
        }
      ],
      "source": [
        "dummy_clf = DummyClassifier(strategy='most_frequent')\n",
        "dummy_clf.fit(features_train, target_train)\n",
        "dummy_clf.predict(features_test)\n",
        "dummy_clf.score(features_test, target_test)"
      ]
    },
    {
      "cell_type": "markdown",
      "metadata": {
        "id": "t_VyOkvbCV-c"
      },
      "source": [
        "<b>Вывод</b>\n",
        "\n",
        "Доля правильных ответов у выбранной модели выше, чем при случайном предсказании."
      ]
    },
    {
      "cell_type": "markdown",
      "metadata": {
        "id": "CY0v9g4sCV-d"
      },
      "source": [
        "## Общий вывод"
      ]
    },
    {
      "cell_type": "markdown",
      "metadata": {
        "id": "mO9iEK_WCV-d"
      },
      "source": [
        "- В исследовании участвовали три различные алгоритма классификации: дерево решений, случайный лес и логистическая регрессия.\n",
        "- Для проведения обучения, проверки моделей и тестирования лучшей модели исходный датафрейм был разделён на три выборки: обучающую (60%), валидационную (20%) и тестовую (20%).\n",
        "- При проверке модели на адекватность сделан вывод, что она показывает намного лучший результат, чем модель с примитивным прогнозом.\n",
        "- По итогам исследования можно сделать заключение о том, что для получения рекомендации тарифных планов наиболее подходящей моделью является модель, построенная на случайном лесе с количеством деревьев 80 - доля правильных ответов в тестовой выборке составила 77.1%"
      ]
    }
  ],
  "metadata": {
    "ExecuteTimeLog": [
      {
        "duration": 1047,
        "start_time": "2022-06-15T17:01:31.778Z"
      },
      {
        "duration": 67,
        "start_time": "2022-06-15T17:03:08.009Z"
      },
      {
        "duration": 47,
        "start_time": "2022-06-15T17:04:08.100Z"
      },
      {
        "duration": 4,
        "start_time": "2022-06-15T17:05:29.937Z"
      },
      {
        "duration": 25,
        "start_time": "2022-06-15T17:22:46.857Z"
      },
      {
        "duration": 44,
        "start_time": "2022-06-15T17:24:57.693Z"
      },
      {
        "duration": 38,
        "start_time": "2022-06-15T17:25:14.560Z"
      },
      {
        "duration": 1136,
        "start_time": "2022-06-16T15:38:54.381Z"
      },
      {
        "duration": 191,
        "start_time": "2022-06-16T15:38:55.519Z"
      },
      {
        "duration": 5,
        "start_time": "2022-06-16T15:38:55.711Z"
      },
      {
        "duration": 39,
        "start_time": "2022-06-16T15:38:55.718Z"
      },
      {
        "duration": 98,
        "start_time": "2022-06-16T15:50:37.673Z"
      },
      {
        "duration": 1123,
        "start_time": "2022-06-16T15:51:22.001Z"
      },
      {
        "duration": 53,
        "start_time": "2022-06-16T15:51:23.129Z"
      },
      {
        "duration": 5,
        "start_time": "2022-06-16T15:51:23.184Z"
      },
      {
        "duration": 39,
        "start_time": "2022-06-16T15:51:23.190Z"
      },
      {
        "duration": 44,
        "start_time": "2022-06-16T15:51:23.232Z"
      },
      {
        "duration": 114,
        "start_time": "2022-06-16T15:58:04.830Z"
      },
      {
        "duration": 21,
        "start_time": "2022-06-16T15:58:50.824Z"
      },
      {
        "duration": 55,
        "start_time": "2022-06-16T15:59:00.756Z"
      },
      {
        "duration": 55,
        "start_time": "2022-06-16T15:59:10.341Z"
      },
      {
        "duration": 40,
        "start_time": "2022-06-16T15:59:48.424Z"
      },
      {
        "duration": 1138,
        "start_time": "2022-06-16T16:00:30.117Z"
      },
      {
        "duration": 62,
        "start_time": "2022-06-16T16:00:31.259Z"
      },
      {
        "duration": 5,
        "start_time": "2022-06-16T16:00:31.322Z"
      },
      {
        "duration": 100,
        "start_time": "2022-06-16T16:00:31.329Z"
      },
      {
        "duration": 6,
        "start_time": "2022-06-16T16:00:34.781Z"
      },
      {
        "duration": 36,
        "start_time": "2022-06-16T16:02:23.937Z"
      },
      {
        "duration": 25,
        "start_time": "2022-06-16T16:02:52.739Z"
      },
      {
        "duration": 34,
        "start_time": "2022-06-16T16:03:05.576Z"
      },
      {
        "duration": 264,
        "start_time": "2022-06-16T16:04:48.943Z"
      },
      {
        "duration": 340,
        "start_time": "2022-06-16T16:05:00.219Z"
      },
      {
        "duration": 298,
        "start_time": "2022-06-16T16:06:53.450Z"
      },
      {
        "duration": 5089,
        "start_time": "2022-06-16T16:07:51.154Z"
      },
      {
        "duration": 488,
        "start_time": "2022-06-16T16:10:35.299Z"
      },
      {
        "duration": 408,
        "start_time": "2022-06-16T16:11:09.982Z"
      },
      {
        "duration": 54,
        "start_time": "2022-06-16T16:11:51.104Z"
      },
      {
        "duration": 49,
        "start_time": "2022-06-16T16:12:04.710Z"
      },
      {
        "duration": 4,
        "start_time": "2022-06-16T16:15:41.663Z"
      },
      {
        "duration": 67,
        "start_time": "2022-06-16T16:17:30.591Z"
      },
      {
        "duration": 42,
        "start_time": "2022-06-16T16:17:38.616Z"
      },
      {
        "duration": 41,
        "start_time": "2022-06-16T16:17:57.735Z"
      },
      {
        "duration": 52,
        "start_time": "2022-06-16T16:18:05.523Z"
      },
      {
        "duration": 934,
        "start_time": "2022-06-17T15:13:36.648Z"
      },
      {
        "duration": 85,
        "start_time": "2022-06-17T15:13:37.584Z"
      },
      {
        "duration": 4,
        "start_time": "2022-06-17T15:13:37.671Z"
      },
      {
        "duration": 27,
        "start_time": "2022-06-17T15:13:37.677Z"
      },
      {
        "duration": 37,
        "start_time": "2022-06-17T15:13:37.705Z"
      },
      {
        "duration": 400,
        "start_time": "2022-06-17T15:13:37.743Z"
      },
      {
        "duration": 42,
        "start_time": "2022-06-17T15:13:38.145Z"
      },
      {
        "duration": 901,
        "start_time": "2022-06-17T15:22:21.125Z"
      },
      {
        "duration": 53,
        "start_time": "2022-06-17T15:22:22.028Z"
      },
      {
        "duration": 4,
        "start_time": "2022-06-17T15:22:22.082Z"
      },
      {
        "duration": 36,
        "start_time": "2022-06-17T15:22:22.088Z"
      },
      {
        "duration": 42,
        "start_time": "2022-06-17T15:22:22.126Z"
      },
      {
        "duration": 392,
        "start_time": "2022-06-17T15:22:22.170Z"
      },
      {
        "duration": 41,
        "start_time": "2022-06-17T15:22:22.563Z"
      },
      {
        "duration": 3,
        "start_time": "2022-06-17T15:25:49.547Z"
      },
      {
        "duration": 33,
        "start_time": "2022-06-17T15:27:14.661Z"
      },
      {
        "duration": 103,
        "start_time": "2022-06-17T15:27:24.233Z"
      },
      {
        "duration": 8,
        "start_time": "2022-06-17T15:30:01.525Z"
      },
      {
        "duration": 11,
        "start_time": "2022-06-17T15:30:22.513Z"
      },
      {
        "duration": 915,
        "start_time": "2022-06-17T15:32:30.023Z"
      },
      {
        "duration": 52,
        "start_time": "2022-06-17T15:32:30.940Z"
      },
      {
        "duration": 4,
        "start_time": "2022-06-17T15:32:30.993Z"
      },
      {
        "duration": 30,
        "start_time": "2022-06-17T15:32:30.998Z"
      },
      {
        "duration": 66,
        "start_time": "2022-06-17T15:32:31.030Z"
      },
      {
        "duration": 366,
        "start_time": "2022-06-17T15:32:31.098Z"
      },
      {
        "duration": 41,
        "start_time": "2022-06-17T15:32:31.465Z"
      },
      {
        "duration": 3,
        "start_time": "2022-06-17T15:32:31.507Z"
      },
      {
        "duration": 22,
        "start_time": "2022-06-17T15:32:31.512Z"
      },
      {
        "duration": 9,
        "start_time": "2022-06-17T15:33:21.459Z"
      },
      {
        "duration": 10,
        "start_time": "2022-06-17T15:34:49.256Z"
      },
      {
        "duration": 76,
        "start_time": "2022-06-17T15:35:51.660Z"
      },
      {
        "duration": 10,
        "start_time": "2022-06-17T15:37:05.123Z"
      },
      {
        "duration": 76,
        "start_time": "2022-06-17T15:37:16.522Z"
      },
      {
        "duration": 122,
        "start_time": "2022-06-17T15:40:22.749Z"
      },
      {
        "duration": 998,
        "start_time": "2022-06-17T15:40:39.449Z"
      },
      {
        "duration": 52,
        "start_time": "2022-06-17T15:40:40.448Z"
      },
      {
        "duration": 5,
        "start_time": "2022-06-17T15:40:40.502Z"
      },
      {
        "duration": 27,
        "start_time": "2022-06-17T15:40:40.509Z"
      },
      {
        "duration": 84,
        "start_time": "2022-06-17T15:40:40.537Z"
      },
      {
        "duration": 394,
        "start_time": "2022-06-17T15:40:40.622Z"
      },
      {
        "duration": 128,
        "start_time": "2022-06-17T15:40:41.018Z"
      },
      {
        "duration": 0,
        "start_time": "2022-06-17T15:40:41.148Z"
      },
      {
        "duration": 0,
        "start_time": "2022-06-17T15:40:41.149Z"
      },
      {
        "duration": 0,
        "start_time": "2022-06-17T15:40:41.150Z"
      },
      {
        "duration": 0,
        "start_time": "2022-06-17T15:40:41.151Z"
      },
      {
        "duration": 39,
        "start_time": "2022-06-17T15:41:07.571Z"
      },
      {
        "duration": 4,
        "start_time": "2022-06-17T15:41:15.358Z"
      },
      {
        "duration": 10,
        "start_time": "2022-06-17T15:41:18.655Z"
      },
      {
        "duration": 83,
        "start_time": "2022-06-17T15:41:21.958Z"
      },
      {
        "duration": 7,
        "start_time": "2022-06-17T15:41:35.319Z"
      },
      {
        "duration": 21,
        "start_time": "2022-06-17T16:01:40.769Z"
      },
      {
        "duration": 8,
        "start_time": "2022-06-17T16:01:55.696Z"
      },
      {
        "duration": 17,
        "start_time": "2022-06-17T16:02:13.710Z"
      },
      {
        "duration": 4,
        "start_time": "2022-06-17T16:02:41.748Z"
      },
      {
        "duration": 4,
        "start_time": "2022-06-17T16:03:21.237Z"
      },
      {
        "duration": 3,
        "start_time": "2022-06-17T16:20:08.322Z"
      },
      {
        "duration": 3,
        "start_time": "2022-06-17T16:20:26.694Z"
      },
      {
        "duration": 4,
        "start_time": "2022-06-17T16:20:48.700Z"
      },
      {
        "duration": 989,
        "start_time": "2022-06-17T17:37:27.560Z"
      },
      {
        "duration": 136,
        "start_time": "2022-06-17T17:37:28.551Z"
      },
      {
        "duration": 4,
        "start_time": "2022-06-17T17:37:28.688Z"
      },
      {
        "duration": 34,
        "start_time": "2022-06-17T17:37:28.694Z"
      },
      {
        "duration": 53,
        "start_time": "2022-06-17T17:37:28.729Z"
      },
      {
        "duration": 391,
        "start_time": "2022-06-17T17:37:28.784Z"
      },
      {
        "duration": 36,
        "start_time": "2022-06-17T17:37:29.176Z"
      },
      {
        "duration": 3,
        "start_time": "2022-06-17T17:37:29.214Z"
      },
      {
        "duration": 15,
        "start_time": "2022-06-17T17:37:29.219Z"
      },
      {
        "duration": 100,
        "start_time": "2022-06-17T17:37:29.236Z"
      },
      {
        "duration": 8,
        "start_time": "2022-06-17T17:37:29.338Z"
      },
      {
        "duration": 4,
        "start_time": "2022-06-17T17:37:29.359Z"
      },
      {
        "duration": 6,
        "start_time": "2022-06-17T17:37:29.365Z"
      },
      {
        "duration": 1019,
        "start_time": "2022-06-17T17:38:10.574Z"
      },
      {
        "duration": 50,
        "start_time": "2022-06-17T17:38:11.595Z"
      },
      {
        "duration": 4,
        "start_time": "2022-06-17T17:38:11.646Z"
      },
      {
        "duration": 27,
        "start_time": "2022-06-17T17:38:11.652Z"
      },
      {
        "duration": 39,
        "start_time": "2022-06-17T17:38:11.681Z"
      },
      {
        "duration": 424,
        "start_time": "2022-06-17T17:38:11.722Z"
      },
      {
        "duration": 55,
        "start_time": "2022-06-17T17:38:12.147Z"
      },
      {
        "duration": 4,
        "start_time": "2022-06-17T17:38:12.203Z"
      },
      {
        "duration": 20,
        "start_time": "2022-06-17T17:38:12.208Z"
      },
      {
        "duration": 100,
        "start_time": "2022-06-17T17:38:12.230Z"
      },
      {
        "duration": 8,
        "start_time": "2022-06-17T17:38:12.332Z"
      },
      {
        "duration": 18,
        "start_time": "2022-06-17T17:38:12.341Z"
      },
      {
        "duration": 5,
        "start_time": "2022-06-17T17:38:12.361Z"
      },
      {
        "duration": 1210,
        "start_time": "2022-06-17T18:09:27.327Z"
      },
      {
        "duration": 51,
        "start_time": "2022-06-17T18:09:28.541Z"
      },
      {
        "duration": 4,
        "start_time": "2022-06-17T18:09:28.594Z"
      },
      {
        "duration": 31,
        "start_time": "2022-06-17T18:09:28.600Z"
      },
      {
        "duration": 69,
        "start_time": "2022-06-17T18:09:28.633Z"
      },
      {
        "duration": 428,
        "start_time": "2022-06-17T18:09:28.704Z"
      },
      {
        "duration": 39,
        "start_time": "2022-06-17T18:09:29.135Z"
      },
      {
        "duration": 4,
        "start_time": "2022-06-17T18:09:29.176Z"
      },
      {
        "duration": 13,
        "start_time": "2022-06-17T18:09:29.181Z"
      },
      {
        "duration": 125,
        "start_time": "2022-06-17T18:09:29.197Z"
      },
      {
        "duration": 7,
        "start_time": "2022-06-17T18:09:29.327Z"
      },
      {
        "duration": 8,
        "start_time": "2022-06-17T18:09:29.336Z"
      },
      {
        "duration": 8,
        "start_time": "2022-06-17T18:09:29.345Z"
      },
      {
        "duration": 1056,
        "start_time": "2022-06-18T13:24:03.641Z"
      },
      {
        "duration": 998,
        "start_time": "2022-06-18T13:26:05.317Z"
      },
      {
        "duration": 174,
        "start_time": "2022-06-18T13:26:06.317Z"
      },
      {
        "duration": 5,
        "start_time": "2022-06-18T13:26:06.492Z"
      },
      {
        "duration": 32,
        "start_time": "2022-06-18T13:26:06.499Z"
      },
      {
        "duration": 52,
        "start_time": "2022-06-18T13:26:06.533Z"
      },
      {
        "duration": 428,
        "start_time": "2022-06-18T13:26:06.587Z"
      },
      {
        "duration": 52,
        "start_time": "2022-06-18T13:26:07.017Z"
      },
      {
        "duration": 4,
        "start_time": "2022-06-18T13:26:07.071Z"
      },
      {
        "duration": 18,
        "start_time": "2022-06-18T13:26:07.076Z"
      },
      {
        "duration": 109,
        "start_time": "2022-06-18T13:26:07.097Z"
      },
      {
        "duration": 11,
        "start_time": "2022-06-18T13:26:07.208Z"
      },
      {
        "duration": 12,
        "start_time": "2022-06-18T13:26:07.220Z"
      },
      {
        "duration": 11,
        "start_time": "2022-06-18T13:26:07.234Z"
      },
      {
        "duration": 930,
        "start_time": "2022-06-18T13:31:11.087Z"
      },
      {
        "duration": 54,
        "start_time": "2022-06-18T13:31:12.019Z"
      },
      {
        "duration": 4,
        "start_time": "2022-06-18T13:31:12.075Z"
      },
      {
        "duration": 37,
        "start_time": "2022-06-18T13:31:12.081Z"
      },
      {
        "duration": 65,
        "start_time": "2022-06-18T13:31:12.120Z"
      },
      {
        "duration": 99,
        "start_time": "2022-06-18T13:34:18.413Z"
      },
      {
        "duration": 30,
        "start_time": "2022-06-18T13:34:41.229Z"
      },
      {
        "duration": 32,
        "start_time": "2022-06-18T13:35:08.439Z"
      },
      {
        "duration": 31,
        "start_time": "2022-06-18T13:35:21.658Z"
      },
      {
        "duration": 36,
        "start_time": "2022-06-18T13:38:07.767Z"
      },
      {
        "duration": 432,
        "start_time": "2022-06-18T13:40:45.453Z"
      },
      {
        "duration": 4,
        "start_time": "2022-06-18T13:40:55.011Z"
      },
      {
        "duration": 83,
        "start_time": "2022-06-18T13:44:00.214Z"
      },
      {
        "duration": 1046,
        "start_time": "2022-06-18T13:45:24.174Z"
      },
      {
        "duration": 53,
        "start_time": "2022-06-18T13:45:25.222Z"
      },
      {
        "duration": 5,
        "start_time": "2022-06-18T13:45:25.277Z"
      },
      {
        "duration": 32,
        "start_time": "2022-06-18T13:45:25.284Z"
      },
      {
        "duration": 52,
        "start_time": "2022-06-18T13:45:25.318Z"
      },
      {
        "duration": 405,
        "start_time": "2022-06-18T13:45:25.371Z"
      },
      {
        "duration": 52,
        "start_time": "2022-06-18T13:45:25.777Z"
      },
      {
        "duration": 3,
        "start_time": "2022-06-18T13:45:25.831Z"
      },
      {
        "duration": 108,
        "start_time": "2022-06-18T13:45:25.836Z"
      },
      {
        "duration": 4,
        "start_time": "2022-06-18T13:48:52.267Z"
      },
      {
        "duration": 598,
        "start_time": "2022-06-18T14:35:35.523Z"
      },
      {
        "duration": 1044,
        "start_time": "2022-06-18T14:35:52.296Z"
      },
      {
        "duration": 53,
        "start_time": "2022-06-18T14:35:53.342Z"
      },
      {
        "duration": 4,
        "start_time": "2022-06-18T14:35:53.396Z"
      },
      {
        "duration": 27,
        "start_time": "2022-06-18T14:35:53.402Z"
      },
      {
        "duration": 58,
        "start_time": "2022-06-18T14:35:53.431Z"
      },
      {
        "duration": 681,
        "start_time": "2022-06-18T14:35:57.279Z"
      },
      {
        "duration": 579,
        "start_time": "2022-06-18T14:37:36.321Z"
      },
      {
        "duration": 47,
        "start_time": "2022-06-18T14:39:04.853Z"
      },
      {
        "duration": 4,
        "start_time": "2022-06-18T14:39:11.977Z"
      },
      {
        "duration": 85,
        "start_time": "2022-06-18T14:39:15.428Z"
      },
      {
        "duration": 1074,
        "start_time": "2022-06-18T14:50:01.436Z"
      },
      {
        "duration": 49,
        "start_time": "2022-06-18T14:50:02.512Z"
      },
      {
        "duration": 4,
        "start_time": "2022-06-18T14:50:02.563Z"
      },
      {
        "duration": 55,
        "start_time": "2022-06-18T14:50:02.568Z"
      },
      {
        "duration": 30,
        "start_time": "2022-06-18T14:50:02.625Z"
      },
      {
        "duration": 40,
        "start_time": "2022-06-18T14:50:08.616Z"
      },
      {
        "duration": 4,
        "start_time": "2022-06-18T14:50:12.990Z"
      },
      {
        "duration": 194,
        "start_time": "2022-06-18T14:50:18.480Z"
      },
      {
        "duration": 399,
        "start_time": "2022-06-18T14:59:55.627Z"
      },
      {
        "duration": 229,
        "start_time": "2022-06-18T15:02:51.857Z"
      },
      {
        "duration": 1134,
        "start_time": "2022-06-18T15:05:07.878Z"
      },
      {
        "duration": 44,
        "start_time": "2022-06-18T15:05:09.014Z"
      },
      {
        "duration": 4,
        "start_time": "2022-06-18T15:05:09.059Z"
      },
      {
        "duration": 28,
        "start_time": "2022-06-18T15:05:09.065Z"
      },
      {
        "duration": 205,
        "start_time": "2022-06-18T15:05:11.783Z"
      },
      {
        "duration": 108,
        "start_time": "2022-06-18T15:05:58.608Z"
      },
      {
        "duration": 135,
        "start_time": "2022-06-18T15:06:17.105Z"
      },
      {
        "duration": 154,
        "start_time": "2022-06-18T15:08:09.145Z"
      },
      {
        "duration": 156,
        "start_time": "2022-06-18T15:09:12.305Z"
      },
      {
        "duration": 161,
        "start_time": "2022-06-18T15:09:44.046Z"
      },
      {
        "duration": 143,
        "start_time": "2022-06-18T15:10:35.202Z"
      },
      {
        "duration": 215,
        "start_time": "2022-06-18T15:10:47.427Z"
      },
      {
        "duration": 163,
        "start_time": "2022-06-18T15:13:11.036Z"
      },
      {
        "duration": 182,
        "start_time": "2022-06-18T15:13:26.058Z"
      },
      {
        "duration": 87,
        "start_time": "2022-06-18T15:15:29.215Z"
      },
      {
        "duration": 1263,
        "start_time": "2022-06-18T15:15:41.235Z"
      },
      {
        "duration": 46,
        "start_time": "2022-06-18T15:15:42.500Z"
      },
      {
        "duration": 5,
        "start_time": "2022-06-18T15:15:42.547Z"
      },
      {
        "duration": 33,
        "start_time": "2022-06-18T15:15:42.553Z"
      },
      {
        "duration": 132,
        "start_time": "2022-06-18T15:16:38.535Z"
      },
      {
        "duration": 184,
        "start_time": "2022-06-18T15:17:23.105Z"
      },
      {
        "duration": 29,
        "start_time": "2022-06-18T15:20:25.083Z"
      },
      {
        "duration": 57,
        "start_time": "2022-06-18T15:20:30.725Z"
      },
      {
        "duration": 40,
        "start_time": "2022-06-18T15:20:50.961Z"
      },
      {
        "duration": 21,
        "start_time": "2022-06-18T15:21:25.603Z"
      },
      {
        "duration": 1302,
        "start_time": "2022-06-18T15:21:46.643Z"
      },
      {
        "duration": 48,
        "start_time": "2022-06-18T15:21:47.947Z"
      },
      {
        "duration": 5,
        "start_time": "2022-06-18T15:21:47.997Z"
      },
      {
        "duration": 46,
        "start_time": "2022-06-18T15:21:48.003Z"
      },
      {
        "duration": 112,
        "start_time": "2022-06-18T15:21:49.932Z"
      },
      {
        "duration": 32,
        "start_time": "2022-06-18T15:22:59.283Z"
      },
      {
        "duration": 1283,
        "start_time": "2022-06-18T15:26:43.777Z"
      },
      {
        "duration": 48,
        "start_time": "2022-06-18T15:26:45.062Z"
      },
      {
        "duration": 5,
        "start_time": "2022-06-18T15:26:45.112Z"
      },
      {
        "duration": 53,
        "start_time": "2022-06-18T15:26:45.120Z"
      },
      {
        "duration": 159,
        "start_time": "2022-06-18T15:26:48.033Z"
      },
      {
        "duration": 1196,
        "start_time": "2022-06-18T15:27:34.017Z"
      },
      {
        "duration": 47,
        "start_time": "2022-06-18T15:27:38.743Z"
      },
      {
        "duration": 5,
        "start_time": "2022-06-18T15:27:41.045Z"
      },
      {
        "duration": 27,
        "start_time": "2022-06-18T15:27:43.728Z"
      },
      {
        "duration": 136,
        "start_time": "2022-06-18T15:27:47.511Z"
      },
      {
        "duration": 191,
        "start_time": "2022-06-18T15:28:06.499Z"
      },
      {
        "duration": 20,
        "start_time": "2022-06-18T15:28:47.471Z"
      },
      {
        "duration": 119,
        "start_time": "2022-06-18T15:28:56.278Z"
      },
      {
        "duration": 196,
        "start_time": "2022-06-18T15:29:05.456Z"
      },
      {
        "duration": 1200,
        "start_time": "2022-06-18T15:33:30.922Z"
      },
      {
        "duration": 49,
        "start_time": "2022-06-18T15:33:32.125Z"
      },
      {
        "duration": 5,
        "start_time": "2022-06-18T15:33:32.175Z"
      },
      {
        "duration": 31,
        "start_time": "2022-06-18T15:33:32.182Z"
      },
      {
        "duration": 210,
        "start_time": "2022-06-18T15:33:32.215Z"
      },
      {
        "duration": 611,
        "start_time": "2022-06-18T15:33:32.426Z"
      },
      {
        "duration": 66,
        "start_time": "2022-06-18T15:33:33.039Z"
      },
      {
        "duration": 5,
        "start_time": "2022-06-18T15:33:33.106Z"
      },
      {
        "duration": 216,
        "start_time": "2022-06-18T15:33:33.113Z"
      },
      {
        "duration": 5,
        "start_time": "2022-06-18T15:33:33.331Z"
      },
      {
        "duration": 8,
        "start_time": "2022-06-18T15:33:33.337Z"
      },
      {
        "duration": 132,
        "start_time": "2022-06-18T15:40:44.365Z"
      },
      {
        "duration": 6,
        "start_time": "2022-06-18T15:40:52.951Z"
      },
      {
        "duration": 1217,
        "start_time": "2022-06-18T15:46:12.901Z"
      },
      {
        "duration": 46,
        "start_time": "2022-06-18T15:46:14.120Z"
      },
      {
        "duration": 4,
        "start_time": "2022-06-18T15:46:14.168Z"
      },
      {
        "duration": 43,
        "start_time": "2022-06-18T15:46:14.174Z"
      },
      {
        "duration": 183,
        "start_time": "2022-06-18T15:46:14.219Z"
      },
      {
        "duration": 576,
        "start_time": "2022-06-18T15:46:14.404Z"
      },
      {
        "duration": 37,
        "start_time": "2022-06-18T15:46:14.981Z"
      },
      {
        "duration": 4,
        "start_time": "2022-06-18T15:46:15.019Z"
      },
      {
        "duration": 211,
        "start_time": "2022-06-18T15:46:15.024Z"
      },
      {
        "duration": 4,
        "start_time": "2022-06-18T15:46:15.237Z"
      },
      {
        "duration": 23,
        "start_time": "2022-06-18T15:46:15.243Z"
      },
      {
        "duration": 111,
        "start_time": "2022-06-18T16:01:45.357Z"
      },
      {
        "duration": 1232,
        "start_time": "2022-06-18T16:02:12.503Z"
      },
      {
        "duration": 46,
        "start_time": "2022-06-18T16:02:13.737Z"
      },
      {
        "duration": 4,
        "start_time": "2022-06-18T16:02:13.785Z"
      },
      {
        "duration": 33,
        "start_time": "2022-06-18T16:02:13.791Z"
      },
      {
        "duration": 120,
        "start_time": "2022-06-18T16:02:17.381Z"
      },
      {
        "duration": 17,
        "start_time": "2022-06-18T16:02:44.568Z"
      },
      {
        "duration": 186,
        "start_time": "2022-06-18T16:03:51.805Z"
      },
      {
        "duration": 18,
        "start_time": "2022-06-18T16:04:46.639Z"
      },
      {
        "duration": 192,
        "start_time": "2022-06-18T16:05:28.328Z"
      },
      {
        "duration": 1274,
        "start_time": "2022-06-18T16:07:48.179Z"
      },
      {
        "duration": 46,
        "start_time": "2022-06-18T16:07:49.454Z"
      },
      {
        "duration": 6,
        "start_time": "2022-06-18T16:07:49.501Z"
      },
      {
        "duration": 37,
        "start_time": "2022-06-18T16:07:49.509Z"
      },
      {
        "duration": 188,
        "start_time": "2022-06-18T16:07:49.548Z"
      },
      {
        "duration": 585,
        "start_time": "2022-06-18T16:07:49.738Z"
      },
      {
        "duration": 49,
        "start_time": "2022-06-18T16:07:50.325Z"
      },
      {
        "duration": 4,
        "start_time": "2022-06-18T16:07:50.376Z"
      },
      {
        "duration": 199,
        "start_time": "2022-06-18T16:07:50.381Z"
      },
      {
        "duration": 5,
        "start_time": "2022-06-18T16:07:50.581Z"
      },
      {
        "duration": 7,
        "start_time": "2022-06-18T16:07:50.588Z"
      },
      {
        "duration": 232,
        "start_time": "2022-06-18T16:15:29.285Z"
      },
      {
        "duration": 186,
        "start_time": "2022-06-18T16:16:14.104Z"
      },
      {
        "duration": 251,
        "start_time": "2022-06-18T16:17:57.491Z"
      },
      {
        "duration": 1203,
        "start_time": "2022-06-18T16:20:34.458Z"
      },
      {
        "duration": 45,
        "start_time": "2022-06-18T16:20:35.663Z"
      },
      {
        "duration": 4,
        "start_time": "2022-06-18T16:20:35.710Z"
      },
      {
        "duration": 32,
        "start_time": "2022-06-18T16:20:35.716Z"
      },
      {
        "duration": 193,
        "start_time": "2022-06-18T16:20:35.749Z"
      },
      {
        "duration": 612,
        "start_time": "2022-06-18T16:20:35.944Z"
      },
      {
        "duration": 38,
        "start_time": "2022-06-18T16:20:36.559Z"
      },
      {
        "duration": 3,
        "start_time": "2022-06-18T16:20:36.599Z"
      },
      {
        "duration": 262,
        "start_time": "2022-06-18T16:20:36.604Z"
      },
      {
        "duration": 4,
        "start_time": "2022-06-18T16:20:36.868Z"
      },
      {
        "duration": 9,
        "start_time": "2022-06-18T16:20:36.874Z"
      },
      {
        "duration": 2045,
        "start_time": "2022-06-18T16:23:39.191Z"
      },
      {
        "duration": 384,
        "start_time": "2022-06-18T16:24:29.392Z"
      },
      {
        "duration": 1272,
        "start_time": "2022-06-18T16:25:16.533Z"
      },
      {
        "duration": 43,
        "start_time": "2022-06-18T16:25:17.807Z"
      },
      {
        "duration": 5,
        "start_time": "2022-06-18T16:25:17.852Z"
      },
      {
        "duration": 32,
        "start_time": "2022-06-18T16:25:17.859Z"
      },
      {
        "duration": 200,
        "start_time": "2022-06-18T16:25:17.893Z"
      },
      {
        "duration": 2003,
        "start_time": "2022-06-18T16:25:18.095Z"
      },
      {
        "duration": 39,
        "start_time": "2022-06-18T16:25:20.100Z"
      },
      {
        "duration": 4,
        "start_time": "2022-06-18T16:25:20.158Z"
      },
      {
        "duration": 380,
        "start_time": "2022-06-18T16:25:20.164Z"
      },
      {
        "duration": 4,
        "start_time": "2022-06-18T16:25:20.547Z"
      },
      {
        "duration": 5,
        "start_time": "2022-06-18T16:25:20.559Z"
      },
      {
        "duration": 1267,
        "start_time": "2022-06-19T06:51:19.794Z"
      },
      {
        "duration": 98,
        "start_time": "2022-06-19T06:51:21.063Z"
      },
      {
        "duration": 4,
        "start_time": "2022-06-19T06:51:21.163Z"
      },
      {
        "duration": 66,
        "start_time": "2022-06-19T06:51:21.170Z"
      },
      {
        "duration": 233,
        "start_time": "2022-06-19T06:51:21.238Z"
      },
      {
        "duration": 2108,
        "start_time": "2022-06-19T06:51:21.472Z"
      },
      {
        "duration": 50,
        "start_time": "2022-06-19T06:51:23.582Z"
      },
      {
        "duration": 4,
        "start_time": "2022-06-19T06:51:23.634Z"
      },
      {
        "duration": 458,
        "start_time": "2022-06-19T06:51:23.639Z"
      },
      {
        "duration": 5,
        "start_time": "2022-06-19T06:51:24.099Z"
      },
      {
        "duration": 8,
        "start_time": "2022-06-19T06:51:24.106Z"
      },
      {
        "duration": 1264,
        "start_time": "2022-06-19T06:58:59.291Z"
      },
      {
        "duration": 50,
        "start_time": "2022-06-19T06:59:00.558Z"
      },
      {
        "duration": 5,
        "start_time": "2022-06-19T06:59:00.613Z"
      },
      {
        "duration": 61,
        "start_time": "2022-06-19T06:59:00.619Z"
      },
      {
        "duration": 208,
        "start_time": "2022-06-19T06:59:00.683Z"
      },
      {
        "duration": 2369,
        "start_time": "2022-06-19T06:59:00.893Z"
      },
      {
        "duration": 54,
        "start_time": "2022-06-19T06:59:03.264Z"
      },
      {
        "duration": 11,
        "start_time": "2022-06-19T06:59:03.327Z"
      },
      {
        "duration": 437,
        "start_time": "2022-06-19T06:59:03.345Z"
      },
      {
        "duration": 4,
        "start_time": "2022-06-19T06:59:03.784Z"
      },
      {
        "duration": 9,
        "start_time": "2022-06-19T06:59:03.790Z"
      }
    ],
    "kernelspec": {
      "display_name": "Python 3 (ipykernel)",
      "language": "python",
      "name": "python3"
    },
    "language_info": {
      "codemirror_mode": {
        "name": "ipython",
        "version": 3
      },
      "file_extension": ".py",
      "mimetype": "text/x-python",
      "name": "python",
      "nbconvert_exporter": "python",
      "pygments_lexer": "ipython3",
      "version": "3.9.5"
    },
    "toc": {
      "base_numbering": 1,
      "nav_menu": {},
      "number_sections": true,
      "sideBar": true,
      "skip_h1_title": true,
      "title_cell": "Table of Contents",
      "title_sidebar": "Contents",
      "toc_cell": false,
      "toc_position": {
        "height": "calc(100% - 180px)",
        "left": "10px",
        "top": "150px",
        "width": "304px"
      },
      "toc_section_display": true,
      "toc_window_display": true
    },
    "colab": {
      "provenance": [],
      "toc_visible": true
    }
  },
  "nbformat": 4,
  "nbformat_minor": 0
}
{
  "cells": [
    {
      "cell_type": "markdown",
      "metadata": {
        "id": "S4ZszFguzJN-"
      },
      "source": [
        "# Определение перспективного тарифа для телеком-компании"
      ]
    },
    {
      "cell_type": "markdown",
      "metadata": {
        "id": "-ZvqmWOYzJN-"
      },
      "source": [
        "<b>Описание проекта</b>\n",
        "\n",
        "Проект для компании «Мегалайн» — федерального оператора сотовой связи. Клиентам предлагают два тарифных плана: «Смарт» и «Ультра». Чтобы скорректировать рекламный бюджет, коммерческий департамент хочет понять, какой тариф приносит больше денег.\n",
        "\n",
        "Предстоит сделать предварительный анализ тарифов на небольшой выборке клиентов. В нашем распоряжении данные 500 пользователей «Мегалайна»: кто они, откуда, каким тарифом пользуются, сколько звонков и сообщений каждый отправил за 2018 год. Нужно проанализировать поведение клиентов и сделать вывод — какой тариф лучше."
      ]
    },
    {
      "cell_type": "markdown",
      "metadata": {
        "id": "jdNChaatzJN_"
      },
      "source": [
        "<b>Описание тарифов</b>\n",
        "\n",
        "Тариф «Смарт»\n",
        "1. Ежемесячная плата: 550 рублей\n",
        "2. Включено 500 минут разговора, 50 сообщений и 15 Гб интернет-трафика\n",
        "3. Стоимость услуг сверх тарифного пакета:\n",
        "    - минута разговора: 3 рубля\n",
        "    - сообщение: 3 рубля\n",
        "    - 1 Гб интернет-трафика: 200 рублей\n",
        "\n",
        "Тариф «Ультра»\n",
        "1. Ежемесячная плата: 1950 рублей\n",
        "2. Включено 3000 минут разговора, 1000 сообщений и 30 Гб интернет-трафика\n",
        "3. Стоимость услуг сверх тарифного пакета:\n",
        "    - минута разговора: 1 рубль\n",
        "    - сообщение: 1 рубль\n",
        "    - 1 Гб интернет-трафика: 150 рублей"
      ]
    },
    {
      "cell_type": "markdown",
      "metadata": {
        "id": "LeWRAprgzJN_"
      },
      "source": [
        "<b>Описание данных</b>\n",
        "\n",
        "Таблица users (информация о пользователях):\n",
        "\n",
        "- user_id — уникальный идентификатор пользователя\n",
        "- first_name — имя пользователя\n",
        "- last_name — фамилия пользователя\n",
        "- age — возраст пользователя (годы)\n",
        "- reg_date — дата подключения тарифа (день, месяц, год)\n",
        "- churn_date — дата прекращения пользования тарифом (если значение пропущено, то тариф ещё действовал на момент выгрузки данных)\n",
        "- city — город проживания пользователя\n",
        "- tariff — название тарифного плана\n",
        "\n",
        "Таблица calls (информация о звонках):\n",
        "\n",
        "- id — уникальный номер звонка\n",
        "- call_date — дата звонка\n",
        "- duration — длительность звонка в минутах\n",
        "- user_id — идентификатор пользователя, сделавшего звонок\n",
        "\n",
        "Таблица messages (информация о сообщениях):\n",
        "\n",
        "- id — уникальный номер сообщения\n",
        "- message_date — дата сообщения\n",
        "- user_id — идентификатор пользователя, отправившего сообщение\n",
        "\n",
        "Таблица internet (информация об интернет-сессиях):\n",
        "\n",
        "- id — уникальный номер сессии\n",
        "- mb_used — объём потраченного за сессию интернет-трафика (в мегабайтах)\n",
        "- session_date — дата интернет-сессии\n",
        "- user_id — идентификатор пользователя\n",
        "\n",
        "Таблица tariffs (информация о тарифах):\n",
        "\n",
        "- tariff_name — название тарифа\n",
        "- rub_monthly_fee — ежемесячная абонентская плата в рублях\n",
        "- minutes_included — количество минут разговора в месяц, включённых в абонентскую плату\n",
        "- messages_included — количество сообщений в месяц, включённых в абонентскую плату\n",
        "- mb_per_month_included — объём интернет-трафика, включённого в абонентскую плату (в мегабайтах)\n",
        "- rub_per_minute — стоимость минуты разговора сверх тарифного пакета (например, если в тарифе 100 минут разговора в месяц, то со 101 минуты будет взиматься плата)\n",
        "- rub_per_message — стоимость отправки сообщения сверх тарифного пакета\n",
        "- rub_per_gb — стоимость дополнительного гигабайта интернет-трафика сверх тарифного пакета (1 гигабайт = 1024 мегабайта)"
      ]
    },
    {
      "cell_type": "markdown",
      "metadata": {
        "id": "UnlPghubzJOA"
      },
      "source": [
        "<b>Порядок выполнения</b>\n",
        "\n",
        "Шаг 1. Откройте файл с данными и изучите общую информацию\n",
        "\n",
        "Путь к файлам:\n",
        "\n",
        "    - /datasets/calls.csv. \n",
        "    - /datasets/internet.csv.\n",
        "    - /datasets/messages.csv.\n",
        "    - /datasets/tariffs.csv.\n",
        "    - /datasets/users.csv.\n",
        "\n",
        "Шаг 2. Подготовьте данные\n",
        "\n",
        "- Приведите данные к нужным типам;\n",
        "- Найдите и исправьте ошибки в данных, если они есть.\n",
        "- Поясните, какие ошибки вы нашли и как их исправили. В данных вы найдёте звонки с нулевой продолжительностью. Это не ошибка: нулями обозначены пропущенные звонки, поэтому их не нужно удалять.\n",
        "- Посчитайте для каждого пользователя:\n",
        "    - количество сделанных звонков и израсходованных минут разговора по месяцам;\n",
        "    - количество отправленных сообщений по месяцам;\n",
        "    - объем израсходованного интернет-трафика по месяцам;\n",
        "    - помесячную выручку с каждого пользователя (вычтите бесплатный лимит из суммарного количества звонков, сообщений и интернет-трафика; остаток умножьте на значение из тарифного плана; прибавьте абонентскую плату, соответствующую тарифному плану).\n",
        "\n",
        "Шаг 3. Проанализируйте данные\n",
        "\n",
        "Опишите поведение клиентов оператора, исходя из выборки. Сколько минут разговора, сколько сообщений и какой объём интернет-трафика требуется пользователям каждого тарифа в месяц? Посчитайте среднее количество, дисперсию и стандартное отклонение. Постройте гистограммы. Опишите распределения.\n",
        "\n",
        "Шаг 4. Проверьте гипотезы\n",
        "\n",
        "- средняя выручка пользователей тарифов «Ультра» и «Смарт» различаются;\n",
        "- средняя выручка пользователей из Москвы отличается от выручки пользователей из других регионов.\n",
        "\n",
        "Пороговое значение alpha задайте самостоятельно.\n",
        "\n",
        "Поясните:\n",
        "\n",
        "- как вы формулировали нулевую и альтернативную гипотезы;\n",
        "- какой критерий использовали для проверки гипотез и почему.\n",
        "\n",
        "Шаг 5. Напишите общий вывод"
      ]
    },
    {
      "cell_type": "markdown",
      "metadata": {
        "id": "ZpWXPvfazJOB"
      },
      "source": [
        "## Обзор данных"
      ]
    },
    {
      "cell_type": "markdown",
      "metadata": {
        "id": "UuUaxRRHzJOB"
      },
      "source": [
        "Импортируем необходимые для исследования библиотеки."
      ]
    },
    {
      "cell_type": "code",
      "execution_count": null,
      "metadata": {
        "id": "TU_aoDRbzJOC"
      },
      "outputs": [],
      "source": [
        "import pandas as pd\n",
        "import numpy as np\n",
        "import matplotlib.pyplot as plt\n",
        "from scipy import stats as st"
      ]
    },
    {
      "cell_type": "markdown",
      "metadata": {
        "id": "MkX0O3tgzJOD"
      },
      "source": [
        "<b>Загрузка датасетов и изучение общей информации.</b>"
      ]
    },
    {
      "cell_type": "code",
      "execution_count": null,
      "metadata": {
        "scrolled": true,
        "id": "-ohwYVQnzJOD",
        "outputId": "17c5ca1c-c9a8-45fd-aff6-7d37457e29b0"
      },
      "outputs": [
        {
          "name": "stdout",
          "output_type": "stream",
          "text": [
            "<class 'pandas.core.frame.DataFrame'>\n",
            "RangeIndex: 202607 entries, 0 to 202606\n",
            "Data columns (total 4 columns):\n",
            " #   Column     Non-Null Count   Dtype  \n",
            "---  ------     --------------   -----  \n",
            " 0   id         202607 non-null  object \n",
            " 1   call_date  202607 non-null  object \n",
            " 2   duration   202607 non-null  float64\n",
            " 3   user_id    202607 non-null  int64  \n",
            "dtypes: float64(1), int64(1), object(2)\n",
            "memory usage: 6.2+ MB\n"
          ]
        }
      ],
      "source": [
        "calls = pd.read_csv('/datasets/calls.csv')\n",
        "calls.info()"
      ]
    },
    {
      "cell_type": "markdown",
      "metadata": {
        "id": "k_1g3TerzJOE"
      },
      "source": [
        "Информация о звонках. Пропусков в таблице нет. Нужно изменить типы данных в нескольких столбцах."
      ]
    },
    {
      "cell_type": "code",
      "execution_count": null,
      "metadata": {
        "scrolled": true,
        "id": "ZnF3ZTXnzJOF",
        "outputId": "c0070b61-e178-46bc-e4bd-a6468247490e"
      },
      "outputs": [
        {
          "name": "stdout",
          "output_type": "stream",
          "text": [
            "<class 'pandas.core.frame.DataFrame'>\n",
            "RangeIndex: 149396 entries, 0 to 149395\n",
            "Data columns (total 5 columns):\n",
            " #   Column        Non-Null Count   Dtype  \n",
            "---  ------        --------------   -----  \n",
            " 0   Unnamed: 0    149396 non-null  int64  \n",
            " 1   id            149396 non-null  object \n",
            " 2   mb_used       149396 non-null  float64\n",
            " 3   session_date  149396 non-null  object \n",
            " 4   user_id       149396 non-null  int64  \n",
            "dtypes: float64(1), int64(2), object(2)\n",
            "memory usage: 5.7+ MB\n"
          ]
        }
      ],
      "source": [
        "internet = pd.read_csv('/datasets/internet.csv')\n",
        "internet.info()"
      ]
    },
    {
      "cell_type": "markdown",
      "metadata": {
        "id": "qcINUnJCzJOF"
      },
      "source": [
        "Информация об интернет-сессиях. Пропусков в таблице нет. Имеется безымянный столбец. Также нужно изменить типы данных."
      ]
    },
    {
      "cell_type": "code",
      "execution_count": null,
      "metadata": {
        "scrolled": true,
        "id": "uYlg7ZpczJOF",
        "outputId": "6f8f6a03-d2b0-4341-d65b-0056269e55c4"
      },
      "outputs": [
        {
          "name": "stdout",
          "output_type": "stream",
          "text": [
            "<class 'pandas.core.frame.DataFrame'>\n",
            "RangeIndex: 123036 entries, 0 to 123035\n",
            "Data columns (total 3 columns):\n",
            " #   Column        Non-Null Count   Dtype \n",
            "---  ------        --------------   ----- \n",
            " 0   id            123036 non-null  object\n",
            " 1   message_date  123036 non-null  object\n",
            " 2   user_id       123036 non-null  int64 \n",
            "dtypes: int64(1), object(2)\n",
            "memory usage: 2.8+ MB\n"
          ]
        }
      ],
      "source": [
        "messages = pd.read_csv('/datasets/messages.csv')\n",
        "messages.info()"
      ]
    },
    {
      "cell_type": "markdown",
      "metadata": {
        "id": "ZXJ-XOI_zJOG"
      },
      "source": [
        "Информация о сообщениях. Пропусков нет. Нужно изменить тип данных в столбце 'message_date'."
      ]
    },
    {
      "cell_type": "code",
      "execution_count": null,
      "metadata": {
        "scrolled": true,
        "id": "013eNanHzJOG",
        "outputId": "f5ae1d11-3f57-4b9c-fd13-f0f2ca096804"
      },
      "outputs": [
        {
          "name": "stdout",
          "output_type": "stream",
          "text": [
            "<class 'pandas.core.frame.DataFrame'>\n",
            "RangeIndex: 2 entries, 0 to 1\n",
            "Data columns (total 8 columns):\n",
            " #   Column                 Non-Null Count  Dtype \n",
            "---  ------                 --------------  ----- \n",
            " 0   messages_included      2 non-null      int64 \n",
            " 1   mb_per_month_included  2 non-null      int64 \n",
            " 2   minutes_included       2 non-null      int64 \n",
            " 3   rub_monthly_fee        2 non-null      int64 \n",
            " 4   rub_per_gb             2 non-null      int64 \n",
            " 5   rub_per_message        2 non-null      int64 \n",
            " 6   rub_per_minute         2 non-null      int64 \n",
            " 7   tariff_name            2 non-null      object\n",
            "dtypes: int64(7), object(1)\n",
            "memory usage: 256.0+ bytes\n"
          ]
        }
      ],
      "source": [
        "tariffs = pd.read_csv('/datasets/tariffs.csv')\n",
        "tariffs.info()"
      ]
    },
    {
      "cell_type": "markdown",
      "metadata": {
        "id": "5RPf4gg4zJOH"
      },
      "source": [
        "Информация о тарифных планах. Здесь нет пропусков. Данные в порядке."
      ]
    },
    {
      "cell_type": "code",
      "execution_count": null,
      "metadata": {
        "id": "ICzu9etpzJOH",
        "outputId": "d1a0041b-673e-4faf-89c8-be5ba7f2d0f2"
      },
      "outputs": [
        {
          "name": "stdout",
          "output_type": "stream",
          "text": [
            "<class 'pandas.core.frame.DataFrame'>\n",
            "RangeIndex: 500 entries, 0 to 499\n",
            "Data columns (total 8 columns):\n",
            " #   Column      Non-Null Count  Dtype \n",
            "---  ------      --------------  ----- \n",
            " 0   user_id     500 non-null    int64 \n",
            " 1   age         500 non-null    int64 \n",
            " 2   churn_date  38 non-null     object\n",
            " 3   city        500 non-null    object\n",
            " 4   first_name  500 non-null    object\n",
            " 5   last_name   500 non-null    object\n",
            " 6   reg_date    500 non-null    object\n",
            " 7   tariff      500 non-null    object\n",
            "dtypes: int64(2), object(6)\n",
            "memory usage: 31.4+ KB\n"
          ]
        }
      ],
      "source": [
        "users = pd.read_csv('/datasets/users.csv')\n",
        "users.info()"
      ]
    },
    {
      "cell_type": "markdown",
      "metadata": {
        "id": "5kMdHDUWzJOH"
      },
      "source": [
        "Таблица с описанием пользователей. Пропуски в столбце 'churn_date' означают, что тариф ещё действовал на момент выгрузки данных. Их можно заполнить текущей датой. Также нужно изменить типы данных в столбце с датами."
      ]
    },
    {
      "cell_type": "markdown",
      "metadata": {
        "id": "k-U-RFqCzJOI"
      },
      "source": [
        "### Вывод"
      ]
    },
    {
      "cell_type": "markdown",
      "metadata": {
        "id": "CGyGD4MbzJOI"
      },
      "source": [
        "Предварительно можно утверждать, что полноты предоставленных данных достаточно для проведения анализа.\n",
        "\n",
        "Но в таблицах обнаружены некоторые проблемы:\n",
        "- Нужно изменить типы данных.\n",
        "- Проверить безымянный столбец.\n",
        "- Заполнить пропуски."
      ]
    },
    {
      "cell_type": "markdown",
      "metadata": {
        "id": "nlMV9L-WzJOJ"
      },
      "source": [
        "## Предобработка данных"
      ]
    },
    {
      "cell_type": "markdown",
      "metadata": {
        "id": "UZQxtBllzJOJ"
      },
      "source": [
        "### Работа с таблицей \"Информация о звонках\"."
      ]
    },
    {
      "cell_type": "markdown",
      "metadata": {
        "id": "IAc26DAhzJOJ"
      },
      "source": [
        "Проверка на наличие явных дубликатов."
      ]
    },
    {
      "cell_type": "code",
      "execution_count": null,
      "metadata": {
        "id": "n70nX4X3zJOK",
        "outputId": "941bbe5c-dc7e-4b87-d7c3-814261387151"
      },
      "outputs": [
        {
          "data": {
            "text/plain": [
              "0"
            ]
          },
          "execution_count": 7,
          "metadata": {},
          "output_type": "execute_result"
        }
      ],
      "source": [
        "calls.duplicated().sum()"
      ]
    },
    {
      "cell_type": "markdown",
      "metadata": {
        "id": "9LOO2AECzJOK"
      },
      "source": [
        "Явных дубликатов не обнаружено.\n",
        "\n",
        "Изменим тип данных в столбце 'call_date' на 'datetime'. Для того, чтобы с данными можно было выполнять математические действия."
      ]
    },
    {
      "cell_type": "code",
      "execution_count": null,
      "metadata": {
        "id": "-Mm0bE5HzJOL"
      },
      "outputs": [],
      "source": [
        "calls['call_date'] = pd.to_datetime(calls['call_date'], format='%Y-%m-%d')"
      ]
    },
    {
      "cell_type": "markdown",
      "metadata": {
        "id": "4Wv9DEVWzJOL"
      },
      "source": [
        "### Работа с таблицей \"Информация об интернет-сессиях\"."
      ]
    },
    {
      "cell_type": "markdown",
      "metadata": {
        "id": "Lt_7_oOZzJOM"
      },
      "source": [
        "Проверка на наличие явных дубликатов."
      ]
    },
    {
      "cell_type": "code",
      "execution_count": null,
      "metadata": {
        "id": "7dLXwpEpzJOM",
        "outputId": "4b74eb23-08db-4b19-d589-282ce3498fc0"
      },
      "outputs": [
        {
          "data": {
            "text/plain": [
              "0"
            ]
          },
          "execution_count": 9,
          "metadata": {},
          "output_type": "execute_result"
        }
      ],
      "source": [
        "internet.duplicated().sum()"
      ]
    },
    {
      "cell_type": "markdown",
      "metadata": {
        "id": "q7Hxy_jBzJOM"
      },
      "source": [
        "Явных дубликатов не обнаружено.\n",
        "\n",
        "Посмотрим, какая информация записана в безымянном солбце."
      ]
    },
    {
      "cell_type": "code",
      "execution_count": null,
      "metadata": {
        "id": "8L3v4q01zJON",
        "outputId": "efb5e4cb-6c16-4b7b-9e4c-82eec0498409"
      },
      "outputs": [
        {
          "data": {
            "text/html": [
              "<div>\n",
              "<style scoped>\n",
              "    .dataframe tbody tr th:only-of-type {\n",
              "        vertical-align: middle;\n",
              "    }\n",
              "\n",
              "    .dataframe tbody tr th {\n",
              "        vertical-align: top;\n",
              "    }\n",
              "\n",
              "    .dataframe thead th {\n",
              "        text-align: right;\n",
              "    }\n",
              "</style>\n",
              "<table border=\"1\" class=\"dataframe\">\n",
              "  <thead>\n",
              "    <tr style=\"text-align: right;\">\n",
              "      <th></th>\n",
              "      <th>Unnamed: 0</th>\n",
              "      <th>id</th>\n",
              "      <th>mb_used</th>\n",
              "      <th>session_date</th>\n",
              "      <th>user_id</th>\n",
              "    </tr>\n",
              "  </thead>\n",
              "  <tbody>\n",
              "    <tr>\n",
              "      <th>0</th>\n",
              "      <td>0</td>\n",
              "      <td>1000_0</td>\n",
              "      <td>112.95</td>\n",
              "      <td>2018-11-25</td>\n",
              "      <td>1000</td>\n",
              "    </tr>\n",
              "    <tr>\n",
              "      <th>1</th>\n",
              "      <td>1</td>\n",
              "      <td>1000_1</td>\n",
              "      <td>1052.81</td>\n",
              "      <td>2018-09-07</td>\n",
              "      <td>1000</td>\n",
              "    </tr>\n",
              "    <tr>\n",
              "      <th>2</th>\n",
              "      <td>2</td>\n",
              "      <td>1000_2</td>\n",
              "      <td>1197.26</td>\n",
              "      <td>2018-06-25</td>\n",
              "      <td>1000</td>\n",
              "    </tr>\n",
              "    <tr>\n",
              "      <th>3</th>\n",
              "      <td>3</td>\n",
              "      <td>1000_3</td>\n",
              "      <td>550.27</td>\n",
              "      <td>2018-08-22</td>\n",
              "      <td>1000</td>\n",
              "    </tr>\n",
              "    <tr>\n",
              "      <th>4</th>\n",
              "      <td>4</td>\n",
              "      <td>1000_4</td>\n",
              "      <td>302.56</td>\n",
              "      <td>2018-09-24</td>\n",
              "      <td>1000</td>\n",
              "    </tr>\n",
              "  </tbody>\n",
              "</table>\n",
              "</div>"
            ],
            "text/plain": [
              "   Unnamed: 0      id  mb_used session_date  user_id\n",
              "0           0  1000_0   112.95   2018-11-25     1000\n",
              "1           1  1000_1  1052.81   2018-09-07     1000\n",
              "2           2  1000_2  1197.26   2018-06-25     1000\n",
              "3           3  1000_3   550.27   2018-08-22     1000\n",
              "4           4  1000_4   302.56   2018-09-24     1000"
            ]
          },
          "execution_count": 10,
          "metadata": {},
          "output_type": "execute_result"
        }
      ],
      "source": [
        "internet.head()"
      ]
    },
    {
      "cell_type": "markdown",
      "metadata": {
        "id": "x17LAOB3zJON"
      },
      "source": [
        "В описании к таблице он отсутствует и, судя по всему, просто дублирует столбец индексов. Соответственно, его можно удалить."
      ]
    },
    {
      "cell_type": "code",
      "execution_count": null,
      "metadata": {
        "id": "FBW3iC0NzJON"
      },
      "outputs": [],
      "source": [
        "internet = internet.drop(internet.columns[[0]], axis = 1)"
      ]
    },
    {
      "cell_type": "markdown",
      "metadata": {
        "id": "47aVCzxVzJOO"
      },
      "source": [
        "Переходим к изменению типов данных: преобразуем данные в столбце 'session_date' в 'datetime'. Для того, чтобы с ними можно было выполнять математические действия."
      ]
    },
    {
      "cell_type": "code",
      "execution_count": null,
      "metadata": {
        "id": "ZdcM-YUFzJOP",
        "outputId": "1e68eb90-e01b-45f0-f1e3-591fa63d1b33"
      },
      "outputs": [
        {
          "data": {
            "text/html": [
              "<div>\n",
              "<style scoped>\n",
              "    .dataframe tbody tr th:only-of-type {\n",
              "        vertical-align: middle;\n",
              "    }\n",
              "\n",
              "    .dataframe tbody tr th {\n",
              "        vertical-align: top;\n",
              "    }\n",
              "\n",
              "    .dataframe thead th {\n",
              "        text-align: right;\n",
              "    }\n",
              "</style>\n",
              "<table border=\"1\" class=\"dataframe\">\n",
              "  <thead>\n",
              "    <tr style=\"text-align: right;\">\n",
              "      <th></th>\n",
              "      <th>id</th>\n",
              "      <th>mb_used</th>\n",
              "      <th>session_date</th>\n",
              "      <th>user_id</th>\n",
              "    </tr>\n",
              "  </thead>\n",
              "  <tbody>\n",
              "    <tr>\n",
              "      <th>0</th>\n",
              "      <td>1000_0</td>\n",
              "      <td>112.95</td>\n",
              "      <td>2018-11-25</td>\n",
              "      <td>1000</td>\n",
              "    </tr>\n",
              "    <tr>\n",
              "      <th>1</th>\n",
              "      <td>1000_1</td>\n",
              "      <td>1052.81</td>\n",
              "      <td>2018-09-07</td>\n",
              "      <td>1000</td>\n",
              "    </tr>\n",
              "    <tr>\n",
              "      <th>2</th>\n",
              "      <td>1000_2</td>\n",
              "      <td>1197.26</td>\n",
              "      <td>2018-06-25</td>\n",
              "      <td>1000</td>\n",
              "    </tr>\n",
              "    <tr>\n",
              "      <th>3</th>\n",
              "      <td>1000_3</td>\n",
              "      <td>550.27</td>\n",
              "      <td>2018-08-22</td>\n",
              "      <td>1000</td>\n",
              "    </tr>\n",
              "    <tr>\n",
              "      <th>4</th>\n",
              "      <td>1000_4</td>\n",
              "      <td>302.56</td>\n",
              "      <td>2018-09-24</td>\n",
              "      <td>1000</td>\n",
              "    </tr>\n",
              "  </tbody>\n",
              "</table>\n",
              "</div>"
            ],
            "text/plain": [
              "       id  mb_used session_date  user_id\n",
              "0  1000_0   112.95   2018-11-25     1000\n",
              "1  1000_1  1052.81   2018-09-07     1000\n",
              "2  1000_2  1197.26   2018-06-25     1000\n",
              "3  1000_3   550.27   2018-08-22     1000\n",
              "4  1000_4   302.56   2018-09-24     1000"
            ]
          },
          "execution_count": 12,
          "metadata": {},
          "output_type": "execute_result"
        }
      ],
      "source": [
        "internet['session_date'] = pd.to_datetime(internet['session_date'], format='%Y-%m-%d')\n",
        "internet.head()"
      ]
    },
    {
      "cell_type": "markdown",
      "metadata": {
        "id": "zL871q3mzJOP"
      },
      "source": [
        "### Работа с таблицей \"Информация о сообщениях\"."
      ]
    },
    {
      "cell_type": "markdown",
      "metadata": {
        "id": "6pqcnDeQzJOP"
      },
      "source": [
        "Проверка на наличие явных дубликатов."
      ]
    },
    {
      "cell_type": "code",
      "execution_count": null,
      "metadata": {
        "id": "OVtNAvhWzJOQ",
        "outputId": "c5cd09f4-41ec-452e-9de4-3905c8f0f4e2"
      },
      "outputs": [
        {
          "data": {
            "text/plain": [
              "0"
            ]
          },
          "execution_count": 13,
          "metadata": {},
          "output_type": "execute_result"
        }
      ],
      "source": [
        "messages.duplicated().sum()"
      ]
    },
    {
      "cell_type": "markdown",
      "metadata": {
        "id": "7zVST8tLzJOQ"
      },
      "source": [
        "Дубликатов не обнаружено.\n",
        "\n",
        "Преобразуем данные в столбце 'message_date' в 'datetime'. Для того, чтобы с ними можно было выполнять математические действия."
      ]
    },
    {
      "cell_type": "code",
      "execution_count": null,
      "metadata": {
        "id": "wWsyTp1AzJOQ"
      },
      "outputs": [],
      "source": [
        "messages['message_date'] = pd.to_datetime(messages['message_date'], format='%Y-%m-%d')"
      ]
    },
    {
      "cell_type": "markdown",
      "metadata": {
        "id": "g5EThpVyzJOR"
      },
      "source": [
        "### Работа с таблицей \"Информация о пользователях\"."
      ]
    },
    {
      "cell_type": "markdown",
      "metadata": {
        "id": "DZZXNh9AzJOR"
      },
      "source": [
        "Проверим таблицу на наличие явных дубликатов."
      ]
    },
    {
      "cell_type": "code",
      "execution_count": null,
      "metadata": {
        "id": "MeC-anclzJOR",
        "outputId": "452fdf70-aa24-432d-e62b-79728ed6f89e"
      },
      "outputs": [
        {
          "data": {
            "text/plain": [
              "0"
            ]
          },
          "execution_count": 15,
          "metadata": {},
          "output_type": "execute_result"
        }
      ],
      "source": [
        "users.duplicated().sum()"
      ]
    },
    {
      "cell_type": "markdown",
      "metadata": {
        "id": "pBebQQqYzJOS"
      },
      "source": [
        "Дубликатов не обнаружено.\n",
        "\n",
        "Заполним пропуски в столбце 'churn_date' текущей датой."
      ]
    },
    {
      "cell_type": "code",
      "execution_count": null,
      "metadata": {
        "scrolled": true,
        "id": "XErVh2MHzJOT"
      },
      "outputs": [],
      "source": [
        "users['churn_date'] = users['churn_date'].fillna('2022-05-30')"
      ]
    },
    {
      "cell_type": "markdown",
      "metadata": {
        "id": "ChrFUQyyzJOT"
      },
      "source": [
        "Преобразуем данные в столбце с датами в 'datetime'. Для того, чтобы с ними можно было выполнять математические действия."
      ]
    },
    {
      "cell_type": "code",
      "execution_count": null,
      "metadata": {
        "scrolled": false,
        "id": "2J0Lg1AdzJOT"
      },
      "outputs": [],
      "source": [
        "users['churn_date'] = pd.to_datetime(users['churn_date'], format='%Y-%m-%d')\n",
        "users['reg_date'] = pd.to_datetime(users['reg_date'], format='%Y-%m-%d')"
      ]
    },
    {
      "cell_type": "markdown",
      "metadata": {
        "id": "md0i61ctzJOT"
      },
      "source": [
        "### Создание и обработка сводного датафрейма."
      ]
    },
    {
      "cell_type": "markdown",
      "metadata": {
        "id": "apI4rsNwzJOU"
      },
      "source": [
        "<b>Добавим год и месяц совершения действия в таблицы звонков, траффика и сообщений.</b>"
      ]
    },
    {
      "cell_type": "code",
      "execution_count": null,
      "metadata": {
        "id": "8hQb-ZnQzJOU"
      },
      "outputs": [],
      "source": [
        "calls['month'] = pd.DatetimeIndex(calls['call_date']).month\n",
        "calls['year'] = pd.DatetimeIndex(calls['call_date']).year\n",
        "\n",
        "internet['month'] = pd.DatetimeIndex(internet['session_date']).month\n",
        "internet['year'] = pd.DatetimeIndex(internet['session_date']).year\n",
        "\n",
        "messages['month'] = pd.DatetimeIndex(messages['message_date']).month\n",
        "messages['year'] = pd.DatetimeIndex(messages['message_date']).year"
      ]
    },
    {
      "cell_type": "markdown",
      "metadata": {
        "id": "Bk6ml9RfzJOU"
      },
      "source": [
        "Проверим за какие годы представлены данные."
      ]
    },
    {
      "cell_type": "code",
      "execution_count": null,
      "metadata": {
        "id": "4k_n1sLbzJOV",
        "outputId": "2310e18a-babd-460e-dd34-17620655b9b4"
      },
      "outputs": [
        {
          "data": {
            "text/plain": [
              "array([2018])"
            ]
          },
          "metadata": {},
          "output_type": "display_data"
        },
        {
          "data": {
            "text/plain": [
              "array([2018])"
            ]
          },
          "metadata": {},
          "output_type": "display_data"
        },
        {
          "data": {
            "text/plain": [
              "array([2018])"
            ]
          },
          "metadata": {},
          "output_type": "display_data"
        }
      ],
      "source": [
        "display(calls['year'].unique())\n",
        "display(internet['year'].unique())\n",
        "display(messages['year'].unique())"
      ]
    },
    {
      "cell_type": "markdown",
      "metadata": {
        "id": "ErjgvkS4zJOV"
      },
      "source": [
        "Все данные представлены только за один год. Колонки с годами можно удалить."
      ]
    },
    {
      "cell_type": "code",
      "execution_count": null,
      "metadata": {
        "id": "WhTrQhGQzJOW"
      },
      "outputs": [],
      "source": [
        "calls = calls.drop(['year'], axis=1)\n",
        "internet = internet.drop(['year'], axis=1)\n",
        "messages = messages.drop(['year'], axis=1)"
      ]
    },
    {
      "cell_type": "markdown",
      "metadata": {
        "id": "pVdNEGDEzJOW"
      },
      "source": [
        "Посчитаем для каждого пользователя и соберём в одну таблицу:\n",
        "- количество сделанных звонков и израсходованных минут разговора по месяцам;\n",
        "- количество отправленных сообщений по месяцам;\n",
        "- объем израсходованного интернет-трафика по месяцам"
      ]
    },
    {
      "cell_type": "code",
      "execution_count": null,
      "metadata": {
        "id": "giE5POJhzJOX",
        "outputId": "be0a49dc-7e1f-4ada-9b34-e6818d9ff2d9"
      },
      "outputs": [
        {
          "data": {
            "text/html": [
              "<div>\n",
              "<style scoped>\n",
              "    .dataframe tbody tr th:only-of-type {\n",
              "        vertical-align: middle;\n",
              "    }\n",
              "\n",
              "    .dataframe tbody tr th {\n",
              "        vertical-align: top;\n",
              "    }\n",
              "\n",
              "    .dataframe thead th {\n",
              "        text-align: right;\n",
              "    }\n",
              "</style>\n",
              "<table border=\"1\" class=\"dataframe\">\n",
              "  <thead>\n",
              "    <tr style=\"text-align: right;\">\n",
              "      <th></th>\n",
              "      <th>user_id</th>\n",
              "      <th>month</th>\n",
              "      <th>duration</th>\n",
              "      <th>id</th>\n",
              "      <th>mb_used</th>\n",
              "      <th>tariff</th>\n",
              "    </tr>\n",
              "  </thead>\n",
              "  <tbody>\n",
              "    <tr>\n",
              "      <th>0</th>\n",
              "      <td>1000</td>\n",
              "      <td>5.0</td>\n",
              "      <td>159.0</td>\n",
              "      <td>22.0</td>\n",
              "      <td>2253.49</td>\n",
              "      <td>ultra</td>\n",
              "    </tr>\n",
              "    <tr>\n",
              "      <th>1</th>\n",
              "      <td>1000</td>\n",
              "      <td>6.0</td>\n",
              "      <td>172.0</td>\n",
              "      <td>60.0</td>\n",
              "      <td>23233.77</td>\n",
              "      <td>ultra</td>\n",
              "    </tr>\n",
              "    <tr>\n",
              "      <th>2</th>\n",
              "      <td>1000</td>\n",
              "      <td>7.0</td>\n",
              "      <td>340.0</td>\n",
              "      <td>75.0</td>\n",
              "      <td>14003.64</td>\n",
              "      <td>ultra</td>\n",
              "    </tr>\n",
              "    <tr>\n",
              "      <th>3</th>\n",
              "      <td>1000</td>\n",
              "      <td>8.0</td>\n",
              "      <td>408.0</td>\n",
              "      <td>81.0</td>\n",
              "      <td>14055.93</td>\n",
              "      <td>ultra</td>\n",
              "    </tr>\n",
              "    <tr>\n",
              "      <th>4</th>\n",
              "      <td>1000</td>\n",
              "      <td>9.0</td>\n",
              "      <td>466.0</td>\n",
              "      <td>57.0</td>\n",
              "      <td>14568.91</td>\n",
              "      <td>ultra</td>\n",
              "    </tr>\n",
              "  </tbody>\n",
              "</table>\n",
              "</div>"
            ],
            "text/plain": [
              "   user_id  month  duration    id   mb_used tariff\n",
              "0     1000    5.0     159.0  22.0   2253.49  ultra\n",
              "1     1000    6.0     172.0  60.0  23233.77  ultra\n",
              "2     1000    7.0     340.0  75.0  14003.64  ultra\n",
              "3     1000    8.0     408.0  81.0  14055.93  ultra\n",
              "4     1000    9.0     466.0  57.0  14568.91  ultra"
            ]
          },
          "execution_count": 21,
          "metadata": {},
          "output_type": "execute_result"
        }
      ],
      "source": [
        "#Округлим минуты вверх.\n",
        "calls['duration'] = calls['duration'].apply(np.ceil)\n",
        "\n",
        "calls_filtered = calls[['user_id', 'duration', 'month']].groupby(['user_id', 'month']).sum()\n",
        "\n",
        "messages_filtered = messages[['user_id', 'month', 'id']].groupby(['user_id', 'month']).count()\n",
        "\n",
        "internet_filtered = internet[['user_id', 'month', 'mb_used']].groupby(['user_id', 'month']).sum()\n",
        "\n",
        "users_total = calls_filtered.merge(messages_filtered, on=['user_id', 'month'], how='outer')\n",
        "users_total = users_total.merge(internet_filtered, on=['user_id', 'month'], how='outer')\n",
        "users_total = users_total.reset_index()\n",
        "users_total = users_total.merge(users[['user_id', 'tariff']], on=['user_id'], how='outer')\n",
        "users_total.head()"
      ]
    },
    {
      "cell_type": "markdown",
      "metadata": {
        "id": "zFeqIKISzJOY"
      },
      "source": [
        "Приведём наименования и порядок столбцов к удобному виду."
      ]
    },
    {
      "cell_type": "code",
      "execution_count": null,
      "metadata": {
        "id": "AbQFPj5hzJOY",
        "outputId": "eb871121-ae2c-455f-b5ce-519090e5fb9d"
      },
      "outputs": [
        {
          "data": {
            "text/html": [
              "<div>\n",
              "<style scoped>\n",
              "    .dataframe tbody tr th:only-of-type {\n",
              "        vertical-align: middle;\n",
              "    }\n",
              "\n",
              "    .dataframe tbody tr th {\n",
              "        vertical-align: top;\n",
              "    }\n",
              "\n",
              "    .dataframe thead th {\n",
              "        text-align: right;\n",
              "    }\n",
              "</style>\n",
              "<table border=\"1\" class=\"dataframe\">\n",
              "  <thead>\n",
              "    <tr style=\"text-align: right;\">\n",
              "      <th></th>\n",
              "      <th>user_id</th>\n",
              "      <th>tariff</th>\n",
              "      <th>month</th>\n",
              "      <th>calls_min</th>\n",
              "      <th>messages</th>\n",
              "      <th>mb_used</th>\n",
              "    </tr>\n",
              "  </thead>\n",
              "  <tbody>\n",
              "    <tr>\n",
              "      <th>0</th>\n",
              "      <td>1000</td>\n",
              "      <td>ultra</td>\n",
              "      <td>5.0</td>\n",
              "      <td>159.0</td>\n",
              "      <td>22.0</td>\n",
              "      <td>2253.49</td>\n",
              "    </tr>\n",
              "    <tr>\n",
              "      <th>1</th>\n",
              "      <td>1000</td>\n",
              "      <td>ultra</td>\n",
              "      <td>6.0</td>\n",
              "      <td>172.0</td>\n",
              "      <td>60.0</td>\n",
              "      <td>23233.77</td>\n",
              "    </tr>\n",
              "    <tr>\n",
              "      <th>2</th>\n",
              "      <td>1000</td>\n",
              "      <td>ultra</td>\n",
              "      <td>7.0</td>\n",
              "      <td>340.0</td>\n",
              "      <td>75.0</td>\n",
              "      <td>14003.64</td>\n",
              "    </tr>\n",
              "    <tr>\n",
              "      <th>3</th>\n",
              "      <td>1000</td>\n",
              "      <td>ultra</td>\n",
              "      <td>8.0</td>\n",
              "      <td>408.0</td>\n",
              "      <td>81.0</td>\n",
              "      <td>14055.93</td>\n",
              "    </tr>\n",
              "    <tr>\n",
              "      <th>4</th>\n",
              "      <td>1000</td>\n",
              "      <td>ultra</td>\n",
              "      <td>9.0</td>\n",
              "      <td>466.0</td>\n",
              "      <td>57.0</td>\n",
              "      <td>14568.91</td>\n",
              "    </tr>\n",
              "  </tbody>\n",
              "</table>\n",
              "</div>"
            ],
            "text/plain": [
              "   user_id tariff  month  calls_min  messages   mb_used\n",
              "0     1000  ultra    5.0      159.0      22.0   2253.49\n",
              "1     1000  ultra    6.0      172.0      60.0  23233.77\n",
              "2     1000  ultra    7.0      340.0      75.0  14003.64\n",
              "3     1000  ultra    8.0      408.0      81.0  14055.93\n",
              "4     1000  ultra    9.0      466.0      57.0  14568.91"
            ]
          },
          "execution_count": 22,
          "metadata": {},
          "output_type": "execute_result"
        }
      ],
      "source": [
        "users_total = users_total.rename(columns={'id': 'messages', 'duration': 'calls_min'})\n",
        "users_total = users_total.reindex(columns=['user_id', 'tariff', 'month', 'calls_min', 'messages', 'mb_used'])\n",
        "users_total.head()"
      ]
    },
    {
      "cell_type": "markdown",
      "metadata": {
        "id": "U2c_xUuvzJOZ"
      },
      "source": [
        "Посчитаем помесячную выручку с каждого пользователя:\n",
        "\n",
        "- вычитаем бесплатный лимит ('tariffs') из суммарно количества звонков ('calls'), сообщений('messages') и трафика ('internet').\n",
        "- умножаем остаток на значение из тарифного плана ('tariffs').\n",
        "display(tariffs)\n",
        "- прибавляем абонентскую плату ('tariffs')."
      ]
    },
    {
      "cell_type": "code",
      "execution_count": null,
      "metadata": {
        "scrolled": true,
        "id": "u5eM1lUYzJOZ",
        "outputId": "2802dfb6-0e60-46d4-ec36-c81762eb9994"
      },
      "outputs": [
        {
          "data": {
            "text/html": [
              "<div>\n",
              "<style scoped>\n",
              "    .dataframe tbody tr th:only-of-type {\n",
              "        vertical-align: middle;\n",
              "    }\n",
              "\n",
              "    .dataframe tbody tr th {\n",
              "        vertical-align: top;\n",
              "    }\n",
              "\n",
              "    .dataframe thead th {\n",
              "        text-align: right;\n",
              "    }\n",
              "</style>\n",
              "<table border=\"1\" class=\"dataframe\">\n",
              "  <thead>\n",
              "    <tr style=\"text-align: right;\">\n",
              "      <th></th>\n",
              "      <th>messages_included</th>\n",
              "      <th>mb_per_month_included</th>\n",
              "      <th>minutes_included</th>\n",
              "      <th>rub_monthly_fee</th>\n",
              "      <th>rub_per_gb</th>\n",
              "      <th>rub_per_message</th>\n",
              "      <th>rub_per_minute</th>\n",
              "      <th>tariff_name</th>\n",
              "    </tr>\n",
              "  </thead>\n",
              "  <tbody>\n",
              "    <tr>\n",
              "      <th>0</th>\n",
              "      <td>50</td>\n",
              "      <td>15360</td>\n",
              "      <td>500</td>\n",
              "      <td>550</td>\n",
              "      <td>200</td>\n",
              "      <td>3</td>\n",
              "      <td>3</td>\n",
              "      <td>smart</td>\n",
              "    </tr>\n",
              "    <tr>\n",
              "      <th>1</th>\n",
              "      <td>1000</td>\n",
              "      <td>30720</td>\n",
              "      <td>3000</td>\n",
              "      <td>1950</td>\n",
              "      <td>150</td>\n",
              "      <td>1</td>\n",
              "      <td>1</td>\n",
              "      <td>ultra</td>\n",
              "    </tr>\n",
              "  </tbody>\n",
              "</table>\n",
              "</div>"
            ],
            "text/plain": [
              "   messages_included  mb_per_month_included  minutes_included  \\\n",
              "0                 50                  15360               500   \n",
              "1               1000                  30720              3000   \n",
              "\n",
              "   rub_monthly_fee  rub_per_gb  rub_per_message  rub_per_minute tariff_name  \n",
              "0              550         200                3               3       smart  \n",
              "1             1950         150                1               1       ultra  "
            ]
          },
          "metadata": {},
          "output_type": "display_data"
        },
        {
          "data": {
            "text/plain": [
              "messages_included           50\n",
              "mb_per_month_included    15360\n",
              "minutes_included           500\n",
              "rub_monthly_fee            550\n",
              "rub_per_gb                 200\n",
              "rub_per_message              3\n",
              "rub_per_minute               3\n",
              "tariff_name              smart\n",
              "Name: 0, dtype: object"
            ]
          },
          "metadata": {},
          "output_type": "display_data"
        },
        {
          "data": {
            "text/plain": [
              "3000"
            ]
          },
          "metadata": {},
          "output_type": "display_data"
        }
      ],
      "source": [
        "display(tariffs)\n",
        "display(tariffs[tariffs.tariff_name == 'smart'].iloc[0])\n",
        "display(tariffs.query('tariff_name == \"ultra\"').iloc[0]['minutes_included'])"
      ]
    },
    {
      "cell_type": "code",
      "execution_count": null,
      "metadata": {
        "id": "bezONI4UzJOZ",
        "outputId": "8bc93550-7f1d-47c1-f14e-f8c8a8b91489"
      },
      "outputs": [
        {
          "data": {
            "text/plain": [
              "2102.0"
            ]
          },
          "metadata": {},
          "output_type": "display_data"
        }
      ],
      "source": [
        "#Создание функции.\n",
        "def user_gain(row):\n",
        "    \"\"\"\n",
        "   Считает помесячную выручку.\n",
        "    \"\"\"\n",
        "    calls_min = row['calls_min']\n",
        "    messages = row['messages']\n",
        "    mb_used = row['mb_used']\n",
        "    tariff = row['tariff']\n",
        "    c_rub = 0\n",
        "    m_rub = 0\n",
        "    i_rub = 0\n",
        "    \n",
        "    try:\n",
        "        if tariff == 'smart':\n",
        "            if (\n",
        "                calls_min <= (tariffs.query('tariff_name == \"smart\"').iloc[0]['minutes_included']) and \n",
        "                messages <= (tariffs.query('tariff_name == \"smart\"').iloc[0]['messages_included']) and \n",
        "                mb_used <= (tariffs.query('tariff_name == \"smart\"').iloc[0]['mb_per_month_included'])\n",
        "            ):\n",
        "                return (tariffs.query('tariff_name == \"smart\"').iloc[0]['rub_monthly_fee'])\n",
        "            else:\n",
        "                if calls_min > (tariffs.query('tariff_name == \"smart\"').iloc[0]['minutes_included']):\n",
        "                    c_rub = (calls_min - (tariffs.query('tariff_name == \"smart\"').iloc[0]['minutes_included'])) * 3\n",
        "                if messages > (tariffs.query('tariff_name == \"smart\"').iloc[0]['messages_included']):\n",
        "                    m_rub = (messages - (tariffs.query('tariff_name == \"smart\"').iloc[0]['messages_included'])) * 3\n",
        "                if mb_used > (tariffs.query('tariff_name == \"smart\"').iloc[0]['mb_per_month_included']):\n",
        "                    i_rub = np.ceil((mb_used - (tariffs.query('tariff_name == \"smart\"').iloc[0]['mb_per_month_included'])) / 1024) * (tariffs.query('tariff_name == \"smart\"').iloc[0]['rub_per_gb'])\n",
        "                return((tariffs.query('tariff_name == \"smart\"').iloc[0]['rub_monthly_fee']) + m_rub + c_rub + i_rub)\n",
        "        if tariff == 'ultra':\n",
        "            if(\n",
        "                calls_min <= (tariffs.query('tariff_name == \"ultra\"').iloc[0]['minutes_included']) and \n",
        "                messages <= (tariffs.query('tariff_name == \"ultra\"').iloc[0]['messages_included']) and \n",
        "                mb_used <= (tariffs.query('tariff_name == \"ultra\"').iloc[0]['mb_per_month_included'])\n",
        "            ):\n",
        "                return (tariffs.query('tariff_name == \"ultra\"').iloc[0]['rub_monthly_fee'])\n",
        "            else:\n",
        "                if calls_min > (tariffs.query('tariff_name == \"ultra\"').iloc[0]['minutes_included']):\n",
        "                    c_rub = (calls_min - (tariffs.query('tariff_name == \"ultra\"').iloc[0]['minutes_included'])) * 1\n",
        "                if messages > (tariffs.query('tariff_name == \"ultra\"').iloc[0]['messages_included']):\n",
        "                    m_rub = (messages - (tariffs.query('tariff_name == \"ultra\"').iloc[0]['messages_included'])) * 1\n",
        "                if mb_used > (tariffs.query('tariff_name == \"ultra\"').iloc[0]['mb_per_month_included']):\n",
        "                    i_rub = np.ceil((mb_used - (tariffs.query('tariff_name == \"ultra\"').iloc[0]['mb_per_month_included'])) / 1024) * (tariffs.query('tariff_name == \"ultra\"').iloc[0]['rub_per_gb'])\n",
        "                return ((tariffs.query('tariff_name == \"ultra\"').iloc[0]['rub_monthly_fee']) + m_rub + c_rub + i_rub)\n",
        "        return('Тариф не указан')\n",
        "    except:\n",
        "        display('Введено некорректное значение')\n",
        "\n",
        "#Проверка работоспособности функции.\n",
        "row_values = ['ultra', 501, 1002, 30721]\n",
        "row_columns = ['tariff', 'calls_min', 'messages', 'mb_used']\n",
        "row = pd.Series(data=row_values, index=row_columns)\n",
        "display(user_gain(row))"
      ]
    },
    {
      "cell_type": "markdown",
      "metadata": {
        "id": "90-SQ49czJOc"
      },
      "source": [
        "Добавим столбец с полученными значениями к датафрейму."
      ]
    },
    {
      "cell_type": "code",
      "execution_count": null,
      "metadata": {
        "scrolled": true,
        "id": "7L8rXFNLzJOc",
        "outputId": "b5b6132d-7e7c-4cab-8158-77222ffee81f"
      },
      "outputs": [
        {
          "name": "stdout",
          "output_type": "stream",
          "text": [
            "<class 'pandas.core.frame.DataFrame'>\n",
            "Int64Index: 3216 entries, 0 to 3215\n",
            "Data columns (total 7 columns):\n",
            " #   Column     Non-Null Count  Dtype  \n",
            "---  ------     --------------  -----  \n",
            " 0   user_id    3216 non-null   int64  \n",
            " 1   tariff     3216 non-null   object \n",
            " 2   month      3214 non-null   float64\n",
            " 3   calls_min  3174 non-null   float64\n",
            " 4   messages   2717 non-null   float64\n",
            " 5   mb_used    3203 non-null   float64\n",
            " 6   user_gain  3216 non-null   int64  \n",
            "dtypes: float64(4), int64(2), object(1)\n",
            "memory usage: 201.0+ KB\n"
          ]
        },
        {
          "data": {
            "text/html": [
              "<div>\n",
              "<style scoped>\n",
              "    .dataframe tbody tr th:only-of-type {\n",
              "        vertical-align: middle;\n",
              "    }\n",
              "\n",
              "    .dataframe tbody tr th {\n",
              "        vertical-align: top;\n",
              "    }\n",
              "\n",
              "    .dataframe thead th {\n",
              "        text-align: right;\n",
              "    }\n",
              "</style>\n",
              "<table border=\"1\" class=\"dataframe\">\n",
              "  <thead>\n",
              "    <tr style=\"text-align: right;\">\n",
              "      <th></th>\n",
              "      <th>user_id</th>\n",
              "      <th>tariff</th>\n",
              "      <th>month</th>\n",
              "      <th>calls_min</th>\n",
              "      <th>messages</th>\n",
              "      <th>mb_used</th>\n",
              "      <th>user_gain</th>\n",
              "    </tr>\n",
              "  </thead>\n",
              "  <tbody>\n",
              "    <tr>\n",
              "      <th>0</th>\n",
              "      <td>1000</td>\n",
              "      <td>ultra</td>\n",
              "      <td>5.0</td>\n",
              "      <td>159.0</td>\n",
              "      <td>22.0</td>\n",
              "      <td>2253.49</td>\n",
              "      <td>1950</td>\n",
              "    </tr>\n",
              "    <tr>\n",
              "      <th>1</th>\n",
              "      <td>1000</td>\n",
              "      <td>ultra</td>\n",
              "      <td>6.0</td>\n",
              "      <td>172.0</td>\n",
              "      <td>60.0</td>\n",
              "      <td>23233.77</td>\n",
              "      <td>1950</td>\n",
              "    </tr>\n",
              "    <tr>\n",
              "      <th>2</th>\n",
              "      <td>1000</td>\n",
              "      <td>ultra</td>\n",
              "      <td>7.0</td>\n",
              "      <td>340.0</td>\n",
              "      <td>75.0</td>\n",
              "      <td>14003.64</td>\n",
              "      <td>1950</td>\n",
              "    </tr>\n",
              "    <tr>\n",
              "      <th>3</th>\n",
              "      <td>1000</td>\n",
              "      <td>ultra</td>\n",
              "      <td>8.0</td>\n",
              "      <td>408.0</td>\n",
              "      <td>81.0</td>\n",
              "      <td>14055.93</td>\n",
              "      <td>1950</td>\n",
              "    </tr>\n",
              "    <tr>\n",
              "      <th>4</th>\n",
              "      <td>1000</td>\n",
              "      <td>ultra</td>\n",
              "      <td>9.0</td>\n",
              "      <td>466.0</td>\n",
              "      <td>57.0</td>\n",
              "      <td>14568.91</td>\n",
              "      <td>1950</td>\n",
              "    </tr>\n",
              "  </tbody>\n",
              "</table>\n",
              "</div>"
            ],
            "text/plain": [
              "   user_id tariff  month  calls_min  messages   mb_used  user_gain\n",
              "0     1000  ultra    5.0      159.0      22.0   2253.49       1950\n",
              "1     1000  ultra    6.0      172.0      60.0  23233.77       1950\n",
              "2     1000  ultra    7.0      340.0      75.0  14003.64       1950\n",
              "3     1000  ultra    8.0      408.0      81.0  14055.93       1950\n",
              "4     1000  ultra    9.0      466.0      57.0  14568.91       1950"
            ]
          },
          "execution_count": 25,
          "metadata": {},
          "output_type": "execute_result"
        }
      ],
      "source": [
        "users_total['user_gain'] = users_total.apply(user_gain, axis=1)\n",
        "users_total['user_gain'] = users_total['user_gain'].astype('int')\n",
        "users_total.info()\n",
        "users_total.head()"
      ]
    },
    {
      "cell_type": "markdown",
      "metadata": {
        "id": "8IjOiw8czJOd"
      },
      "source": [
        "Обработаем пропущенные значения.\n",
        "\n",
        "Причиной появления такого рода пропусков могли явиться:\n",
        "- в колонке `month` возможны пропуски ввиду отсутствия данных по абонентам. Их можно удалить.\n",
        "- в колонке `calls_min` - абонент не пользовался мобильной связью (использовал звонки через интернет, например) в таком случае их можно было бы заменить нулями. Но гарантировать, что данные просто не предоставлены или не учтены по причине ошибки мы не можем. Количество пропусков в этом столбце составляет чуть более 1% датафрейма. Решение - удаляем.\n",
        "- в колонке `messages` - абонент на самом деле не отправлял ни одного sms, что очень даже вероятно\n",
        "- в колонке `mb_used` - абонент использовал wi-fi для выхода в интернет."
      ]
    },
    {
      "cell_type": "code",
      "execution_count": null,
      "metadata": {
        "scrolled": false,
        "id": "Is8xJ3V6zJOf",
        "outputId": "54690b31-48ea-4833-fb75-273fdab2f93d"
      },
      "outputs": [
        {
          "data": {
            "text/html": [
              "<div>\n",
              "<style scoped>\n",
              "    .dataframe tbody tr th:only-of-type {\n",
              "        vertical-align: middle;\n",
              "    }\n",
              "\n",
              "    .dataframe tbody tr th {\n",
              "        vertical-align: top;\n",
              "    }\n",
              "\n",
              "    .dataframe thead th {\n",
              "        text-align: right;\n",
              "    }\n",
              "</style>\n",
              "<table border=\"1\" class=\"dataframe\">\n",
              "  <thead>\n",
              "    <tr style=\"text-align: right;\">\n",
              "      <th></th>\n",
              "      <th>user_id</th>\n",
              "      <th>tariff</th>\n",
              "      <th>month</th>\n",
              "      <th>calls_min</th>\n",
              "      <th>messages</th>\n",
              "      <th>mb_used</th>\n",
              "      <th>user_gain</th>\n",
              "    </tr>\n",
              "  </thead>\n",
              "  <tbody>\n",
              "    <tr>\n",
              "      <th>3211</th>\n",
              "      <td>1489</td>\n",
              "      <td>smart</td>\n",
              "      <td>10.0</td>\n",
              "      <td>NaN</td>\n",
              "      <td>21.0</td>\n",
              "      <td>19559.44</td>\n",
              "      <td>1550</td>\n",
              "    </tr>\n",
              "    <tr>\n",
              "      <th>3212</th>\n",
              "      <td>1489</td>\n",
              "      <td>smart</td>\n",
              "      <td>11.0</td>\n",
              "      <td>NaN</td>\n",
              "      <td>20.0</td>\n",
              "      <td>17491.56</td>\n",
              "      <td>1150</td>\n",
              "    </tr>\n",
              "    <tr>\n",
              "      <th>3213</th>\n",
              "      <td>1489</td>\n",
              "      <td>smart</td>\n",
              "      <td>12.0</td>\n",
              "      <td>NaN</td>\n",
              "      <td>35.0</td>\n",
              "      <td>17322.51</td>\n",
              "      <td>950</td>\n",
              "    </tr>\n",
              "    <tr>\n",
              "      <th>3214</th>\n",
              "      <td>1128</td>\n",
              "      <td>ultra</td>\n",
              "      <td>NaN</td>\n",
              "      <td>NaN</td>\n",
              "      <td>NaN</td>\n",
              "      <td>NaN</td>\n",
              "      <td>1950</td>\n",
              "    </tr>\n",
              "    <tr>\n",
              "      <th>3215</th>\n",
              "      <td>1371</td>\n",
              "      <td>smart</td>\n",
              "      <td>NaN</td>\n",
              "      <td>NaN</td>\n",
              "      <td>NaN</td>\n",
              "      <td>NaN</td>\n",
              "      <td>550</td>\n",
              "    </tr>\n",
              "  </tbody>\n",
              "</table>\n",
              "</div>"
            ],
            "text/plain": [
              "      user_id tariff  month  calls_min  messages   mb_used  user_gain\n",
              "3211     1489  smart   10.0        NaN      21.0  19559.44       1550\n",
              "3212     1489  smart   11.0        NaN      20.0  17491.56       1150\n",
              "3213     1489  smart   12.0        NaN      35.0  17322.51        950\n",
              "3214     1128  ultra    NaN        NaN       NaN       NaN       1950\n",
              "3215     1371  smart    NaN        NaN       NaN       NaN        550"
            ]
          },
          "execution_count": 26,
          "metadata": {},
          "output_type": "execute_result"
        }
      ],
      "source": [
        "users_total.tail()"
      ]
    },
    {
      "cell_type": "markdown",
      "metadata": {
        "id": "pTjCRYvRzJOf"
      },
      "source": [
        "Удалим пропуски в столбцах `month` и `calls_min`."
      ]
    },
    {
      "cell_type": "code",
      "execution_count": null,
      "metadata": {
        "scrolled": false,
        "id": "EssLOKeWzJOg",
        "outputId": "489cbd5f-f650-4f93-ab18-e723d9b78880"
      },
      "outputs": [
        {
          "name": "stdout",
          "output_type": "stream",
          "text": [
            "<class 'pandas.core.frame.DataFrame'>\n",
            "Int64Index: 3174 entries, 0 to 3175\n",
            "Data columns (total 7 columns):\n",
            " #   Column     Non-Null Count  Dtype  \n",
            "---  ------     --------------  -----  \n",
            " 0   user_id    3174 non-null   int64  \n",
            " 1   tariff     3174 non-null   object \n",
            " 2   month      3174 non-null   float64\n",
            " 3   calls_min  3174 non-null   float64\n",
            " 4   messages   2678 non-null   float64\n",
            " 5   mb_used    3163 non-null   float64\n",
            " 6   user_gain  3174 non-null   int64  \n",
            "dtypes: float64(4), int64(2), object(1)\n",
            "memory usage: 198.4+ KB\n"
          ]
        }
      ],
      "source": [
        "users_total = users_total.dropna(subset=['month', 'calls_min'])\n",
        "users_total.info()"
      ]
    },
    {
      "cell_type": "markdown",
      "metadata": {
        "id": "cI7w093MzJOg"
      },
      "source": [
        "Заменим пропуски в столбцах `mb_used` и `messages` нулями."
      ]
    },
    {
      "cell_type": "code",
      "execution_count": null,
      "metadata": {
        "scrolled": false,
        "id": "Z-xU00y2zJOg"
      },
      "outputs": [],
      "source": [
        "users_total['mb_used'] = users_total['mb_used'].fillna(0)\n",
        "users_total['messages'] = users_total['messages'].fillna(0)"
      ]
    },
    {
      "cell_type": "code",
      "execution_count": null,
      "metadata": {
        "id": "XAiz93VPzJOg",
        "outputId": "dc4e0623-5031-47c6-cc78-ce6e8df697bd"
      },
      "outputs": [
        {
          "name": "stdout",
          "output_type": "stream",
          "text": [
            "<class 'pandas.core.frame.DataFrame'>\n",
            "Int64Index: 3174 entries, 0 to 3175\n",
            "Data columns (total 7 columns):\n",
            " #   Column     Non-Null Count  Dtype  \n",
            "---  ------     --------------  -----  \n",
            " 0   user_id    3174 non-null   int64  \n",
            " 1   tariff     3174 non-null   object \n",
            " 2   month      3174 non-null   float64\n",
            " 3   calls_min  3174 non-null   float64\n",
            " 4   messages   3174 non-null   float64\n",
            " 5   mb_used    3174 non-null   float64\n",
            " 6   user_gain  3174 non-null   int64  \n",
            "dtypes: float64(4), int64(2), object(1)\n",
            "memory usage: 198.4+ KB\n"
          ]
        }
      ],
      "source": [
        "users_total.info()"
      ]
    },
    {
      "cell_type": "markdown",
      "metadata": {
        "id": "AHJbJQYFzJOh"
      },
      "source": [
        "### Вывод"
      ]
    },
    {
      "cell_type": "markdown",
      "metadata": {
        "id": "kcNUSfnGzJOh"
      },
      "source": [
        "Данные прошли предобработку и подготовлены к дальнейшему исследованию."
      ]
    },
    {
      "cell_type": "markdown",
      "metadata": {
        "id": "6XqLPylIzJOh"
      },
      "source": [
        "## Анализ данных"
      ]
    },
    {
      "cell_type": "markdown",
      "metadata": {
        "id": "k0e3xYGmzJOh"
      },
      "source": [
        "### Расчёт и сравнение средних значений основных показателей использования тарифных планов."
      ]
    },
    {
      "cell_type": "markdown",
      "metadata": {
        "id": "Hfo9NguazJOh"
      },
      "source": [
        "<b>Проверим, сколько минут разговора требуется пользователям каждого тарифа в месяц.</b>"
      ]
    },
    {
      "cell_type": "code",
      "execution_count": null,
      "metadata": {
        "scrolled": true,
        "id": "4RtOG6nizJOi",
        "outputId": "e3ecc7b2-1548-4d68-dce1-00eb02e033f3"
      },
      "outputs": [
        {
          "data": {
            "text/plain": [
              "count     951.000000\n",
              "mean      545.451104\n",
              "std       306.925754\n",
              "min         0.000000\n",
              "25%       310.000000\n",
              "50%       528.000000\n",
              "75%       756.500000\n",
              "max      1673.000000\n",
              "Name: calls_min, dtype: float64"
            ]
          },
          "metadata": {},
          "output_type": "display_data"
        },
        {
          "data": {
            "text/plain": [
              "count    2223.000000\n",
              "mean      419.062978\n",
              "std       189.325618\n",
              "min         0.000000\n",
              "25%       285.000000\n",
              "50%       423.000000\n",
              "75%       545.500000\n",
              "max      1435.000000\n",
              "Name: calls_min, dtype: float64"
            ]
          },
          "metadata": {},
          "output_type": "display_data"
        }
      ],
      "source": [
        "display(users_total[users_total['tariff'] == 'ultra']['calls_min'].describe())\n",
        "display(users_total[users_total['tariff'] == 'smart']['calls_min'].describe())"
      ]
    },
    {
      "cell_type": "markdown",
      "metadata": {
        "id": "1a757SWZzJOi"
      },
      "source": [
        "Пользователи тарифного плана ultra разговаривают в среднем в 1.5 раза больше, чем пользователи smart."
      ]
    },
    {
      "cell_type": "markdown",
      "metadata": {
        "id": "JFY6sLUPzJOi"
      },
      "source": [
        "<b>Проверим, сколько сообщений отправляют пользователи каждого тарифа в месяц.</b>"
      ]
    },
    {
      "cell_type": "code",
      "execution_count": null,
      "metadata": {
        "scrolled": true,
        "id": "AWh2y5qlzJOi",
        "outputId": "69cbd055-4573-4d63-ea71-fcc9e4fd25e4"
      },
      "outputs": [
        {
          "data": {
            "text/plain": [
              "count    951.000000\n",
              "mean      49.033649\n",
              "std       46.890656\n",
              "min        0.000000\n",
              "25%        5.000000\n",
              "50%       39.000000\n",
              "75%       79.000000\n",
              "max      224.000000\n",
              "Name: messages, dtype: float64"
            ]
          },
          "metadata": {},
          "output_type": "display_data"
        },
        {
          "data": {
            "text/plain": [
              "count    2223.000000\n",
              "mean       33.396311\n",
              "std        28.259437\n",
              "min         0.000000\n",
              "25%        10.000000\n",
              "50%        28.000000\n",
              "75%        51.000000\n",
              "max       143.000000\n",
              "Name: messages, dtype: float64"
            ]
          },
          "metadata": {},
          "output_type": "display_data"
        }
      ],
      "source": [
        "display(users_total[users_total['tariff'] == 'ultra']['messages'].describe())\n",
        "display(users_total[users_total['tariff'] == 'smart']['messages'].describe())"
      ]
    },
    {
      "cell_type": "markdown",
      "metadata": {
        "id": "IuNorxU4zJOj"
      },
      "source": [
        "Пользователи тарифного плана ultra отправляют sms в среднем в 1.5 раза больше, чем пользователи smart."
      ]
    },
    {
      "cell_type": "markdown",
      "metadata": {
        "id": "6loFV-FLzJOj"
      },
      "source": [
        "<b>Проверим, какой объём интернет-трафика расходуют пользователи каждого тарифа в месяц.</b>"
      ]
    },
    {
      "cell_type": "code",
      "execution_count": null,
      "metadata": {
        "scrolled": false,
        "id": "E0M1DZK5zJOj",
        "outputId": "211e9f67-dbbc-4040-b55b-24bb9be6c797"
      },
      "outputs": [
        {
          "data": {
            "text/plain": [
              "count      951.000000\n",
              "mean     19462.456225\n",
              "std      10126.820419\n",
              "min          0.000000\n",
              "25%      11623.240000\n",
              "50%      19352.480000\n",
              "75%      26834.080000\n",
              "max      49745.690000\n",
              "Name: mb_used, dtype: float64"
            ]
          },
          "metadata": {},
          "output_type": "display_data"
        },
        {
          "data": {
            "text/plain": [
              "count     2223.000000\n",
              "mean     16209.366329\n",
              "std       5876.257150\n",
              "min          0.000000\n",
              "25%      12647.185000\n",
              "50%      16504.110000\n",
              "75%      20047.490000\n",
              "max      38552.450000\n",
              "Name: mb_used, dtype: float64"
            ]
          },
          "metadata": {},
          "output_type": "display_data"
        }
      ],
      "source": [
        "display(users_total[users_total['tariff'] == 'ultra']['mb_used'].describe())\n",
        "display(users_total[users_total['tariff'] == 'smart']['mb_used'].describe())"
      ]
    },
    {
      "cell_type": "markdown",
      "metadata": {
        "id": "ayg5QFhozJOk"
      },
      "source": [
        "Пользователи тарифного плана ultra расходуют интернет-трафика в среднем на 3 ГБ больше, чем пользователи smart."
      ]
    },
    {
      "cell_type": "markdown",
      "metadata": {
        "id": "ECXml47kzJOk"
      },
      "source": [
        "### Расчёт дисперсий и стандартных отклонений основных показателей использования тарифных планов."
      ]
    },
    {
      "cell_type": "markdown",
      "metadata": {
        "id": "TCxzRCEFzJOk"
      },
      "source": [
        "<b>Расчёты для тарифа ultra.</b>"
      ]
    },
    {
      "cell_type": "code",
      "execution_count": null,
      "metadata": {
        "scrolled": false,
        "id": "uoEdKpugzJOk",
        "outputId": "4c8287b5-6a59-4c21-ba3d-76999a626226"
      },
      "outputs": [
        {
          "data": {
            "text/plain": [
              "user_id      1.969519e+04\n",
              "month        8.308348e+00\n",
              "calls_min    9.410436e+04\n",
              "messages     2.196422e+03\n",
              "mb_used      1.024447e+08\n",
              "user_gain    1.438107e+05\n",
              "dtype: float64"
            ]
          },
          "metadata": {},
          "output_type": "display_data"
        },
        {
          "data": {
            "text/plain": [
              "user_id        140.339562\n",
              "month            2.882420\n",
              "calls_min      306.764341\n",
              "messages        46.865996\n",
              "mb_used      10121.494717\n",
              "user_gain      379.223833\n",
              "dtype: float64"
            ]
          },
          "metadata": {},
          "output_type": "display_data"
        }
      ],
      "source": [
        "variance_ultra = np.var(users_total.query('tariff == \"ultra\"'))\n",
        "display(variance_ultra)\n",
        "\n",
        "standard_deviation_ultra = np.sqrt(variance_ultra)\n",
        "display(standard_deviation_ultra)"
      ]
    },
    {
      "cell_type": "code",
      "execution_count": null,
      "metadata": {
        "scrolled": true,
        "id": "uYYVfQTszJOl",
        "outputId": "732d33ee-a309-4840-d416-93c810a2e50c"
      },
      "outputs": [
        {
          "data": {
            "text/html": [
              "<div>\n",
              "<style scoped>\n",
              "    .dataframe tbody tr th:only-of-type {\n",
              "        vertical-align: middle;\n",
              "    }\n",
              "\n",
              "    .dataframe tbody tr th {\n",
              "        vertical-align: top;\n",
              "    }\n",
              "\n",
              "    .dataframe thead tr th {\n",
              "        text-align: left;\n",
              "    }\n",
              "\n",
              "    .dataframe thead tr:last-of-type th {\n",
              "        text-align: right;\n",
              "    }\n",
              "</style>\n",
              "<table border=\"1\" class=\"dataframe\">\n",
              "  <thead>\n",
              "    <tr>\n",
              "      <th></th>\n",
              "      <th colspan=\"4\" halign=\"left\">mean</th>\n",
              "      <th colspan=\"4\" halign=\"left\">var</th>\n",
              "      <th colspan=\"4\" halign=\"left\">std</th>\n",
              "    </tr>\n",
              "    <tr>\n",
              "      <th></th>\n",
              "      <th>calls_min</th>\n",
              "      <th>mb_used</th>\n",
              "      <th>messages</th>\n",
              "      <th>user_gain</th>\n",
              "      <th>calls_min</th>\n",
              "      <th>mb_used</th>\n",
              "      <th>messages</th>\n",
              "      <th>user_gain</th>\n",
              "      <th>calls_min</th>\n",
              "      <th>mb_used</th>\n",
              "      <th>messages</th>\n",
              "      <th>user_gain</th>\n",
              "    </tr>\n",
              "    <tr>\n",
              "      <th>tariff</th>\n",
              "      <th></th>\n",
              "      <th></th>\n",
              "      <th></th>\n",
              "      <th></th>\n",
              "      <th></th>\n",
              "      <th></th>\n",
              "      <th></th>\n",
              "      <th></th>\n",
              "      <th></th>\n",
              "      <th></th>\n",
              "      <th></th>\n",
              "      <th></th>\n",
              "    </tr>\n",
              "  </thead>\n",
              "  <tbody>\n",
              "    <tr>\n",
              "      <th>smart</th>\n",
              "      <td>419.062978</td>\n",
              "      <td>16209.366329</td>\n",
              "      <td>33.396311</td>\n",
              "      <td>1290.891138</td>\n",
              "      <td>35844.189551</td>\n",
              "      <td>3.453040e+07</td>\n",
              "      <td>798.595792</td>\n",
              "      <td>670957.332878</td>\n",
              "      <td>189.325618</td>\n",
              "      <td>5876.257150</td>\n",
              "      <td>28.259437</td>\n",
              "      <td>819.119853</td>\n",
              "    </tr>\n",
              "    <tr>\n",
              "      <th>ultra</th>\n",
              "      <td>545.451104</td>\n",
              "      <td>19462.456225</td>\n",
              "      <td>49.033649</td>\n",
              "      <td>2070.977918</td>\n",
              "      <td>94203.418396</td>\n",
              "      <td>1.025525e+08</td>\n",
              "      <td>2198.733603</td>\n",
              "      <td>143962.095301</td>\n",
              "      <td>306.925754</td>\n",
              "      <td>10126.820419</td>\n",
              "      <td>46.890656</td>\n",
              "      <td>379.423372</td>\n",
              "    </tr>\n",
              "  </tbody>\n",
              "</table>\n",
              "</div>"
            ],
            "text/plain": [
              "              mean                                                 var  \\\n",
              "         calls_min       mb_used   messages    user_gain     calls_min   \n",
              "tariff                                                                   \n",
              "smart   419.062978  16209.366329  33.396311  1290.891138  35844.189551   \n",
              "ultra   545.451104  19462.456225  49.033649  2070.977918  94203.418396   \n",
              "\n",
              "                                                         std                \\\n",
              "             mb_used     messages      user_gain   calls_min       mb_used   \n",
              "tariff                                                                       \n",
              "smart   3.453040e+07   798.595792  670957.332878  189.325618   5876.257150   \n",
              "ultra   1.025525e+08  2198.733603  143962.095301  306.925754  10126.820419   \n",
              "\n",
              "                               \n",
              "         messages   user_gain  \n",
              "tariff                         \n",
              "smart   28.259437  819.119853  \n",
              "ultra   46.890656  379.423372  "
            ]
          },
          "execution_count": 34,
          "metadata": {},
          "output_type": "execute_result"
        }
      ],
      "source": [
        "users_total.pivot_table(index= 'tariff', values= ['calls_min', 'messages', 'mb_used', 'user_gain'], aggfunc=['mean', 'var','std', ])"
      ]
    },
    {
      "cell_type": "markdown",
      "metadata": {
        "id": "0w9y7P1ZzJOm"
      },
      "source": [
        "Построение гистограмм."
      ]
    },
    {
      "cell_type": "code",
      "execution_count": null,
      "metadata": {
        "scrolled": false,
        "id": "5g34enJ2zJOm",
        "outputId": "e33f6813-2552-403f-f0cc-f0367bb9cb57"
      },
      "outputs": [
        {
          "data": {
            "text/plain": [
              "<AxesSubplot:ylabel='Frequency'>"
            ]
          },
          "execution_count": 35,
          "metadata": {},
          "output_type": "execute_result"
        },
        {
          "data": {
            "image/png": "[encoded data removed]",
            "text/plain": [
              "<Figure size 432x288 with 1 Axes>"
            ]
          },
          "metadata": {
            "needs_background": "light"
          },
          "output_type": "display_data"
        },
        {
          "data": {
            "image/png": "[encoded data removed]",
            "text/plain": [
              "<Figure size 432x288 with 1 Axes>"
            ]
          },
          "metadata": {
            "needs_background": "light"
          },
          "output_type": "display_data"
        },
        {
          "data": {
            "image/png": "[encoded data removed]",
            "text/plain": [
              "<Figure size 432x288 with 1 Axes>"
            ]
          },
          "metadata": {
            "needs_background": "light"
          },
          "output_type": "display_data"
        }
      ],
      "source": [
        "users_total.query('tariff == \"ultra\"').plot(kind='hist', y='calls_min', bins=100, grid=True, legend=True)\n",
        "users_total.query('tariff == \"ultra\"').plot(kind='hist', y='messages', bins=20, grid=True, legend=True)\n",
        "users_total.query('tariff == \"ultra\"').plot(kind='hist', y='mb_used', bins=100, grid=True, legend=True)"
      ]
    },
    {
      "cell_type": "markdown",
      "metadata": {
        "id": "v9q4ad6fzJOn"
      },
      "source": [
        "<b>Расчёты для тарифа smart.</b>"
      ]
    },
    {
      "cell_type": "code",
      "execution_count": null,
      "metadata": {
        "id": "hWoXjVEJzJOn",
        "outputId": "849a0664-c8f3-4973-afb0-eeafd8889713"
      },
      "outputs": [
        {
          "data": {
            "text/plain": [
              "user_id      2.125911e+04\n",
              "month        8.534296e+00\n",
              "calls_min    3.582807e+04\n",
              "messages     7.982365e+02\n",
              "mb_used      3.451486e+07\n",
              "user_gain    6.706555e+05\n",
              "dtype: float64"
            ]
          },
          "metadata": {},
          "output_type": "display_data"
        },
        {
          "data": {
            "text/plain": [
              "user_id       145.805037\n",
              "month           2.921352\n",
              "calls_min     189.283030\n",
              "messages       28.253080\n",
              "mb_used      5874.935307\n",
              "user_gain     818.935594\n",
              "dtype: float64"
            ]
          },
          "metadata": {},
          "output_type": "display_data"
        }
      ],
      "source": [
        "variance_smart = np.var(users_total.query('tariff == \"smart\"'))\n",
        "display(variance_smart)\n",
        "\n",
        "standard_deviation_smart = np.sqrt(variance_smart)\n",
        "display(standard_deviation_smart)"
      ]
    },
    {
      "cell_type": "markdown",
      "metadata": {
        "id": "3xKwi9sszJOn"
      },
      "source": [
        "Построение гистограмм."
      ]
    },
    {
      "cell_type": "code",
      "execution_count": null,
      "metadata": {
        "scrolled": true,
        "id": "lgItAfvuzJOn",
        "outputId": "2a72fc01-3631-479f-9b07-b4e33eac5adf"
      },
      "outputs": [
        {
          "data": {
            "text/plain": [
              "<AxesSubplot:ylabel='Frequency'>"
            ]
          },
          "execution_count": 37,
          "metadata": {},
          "output_type": "execute_result"
        },
        {
          "data": {
            "image/png": "[encoded data removed]",
            "text/plain": [
              "<Figure size 432x288 with 1 Axes>"
            ]
          },
          "metadata": {
            "needs_background": "light"
          },
          "output_type": "display_data"
        },
        {
          "data": {
            "image/png": "[encoded data removed]",
            "text/plain": [
              "<Figure size 432x288 with 1 Axes>"
            ]
          },
          "metadata": {
            "needs_background": "light"
          },
          "output_type": "display_data"
        },
        {
          "data": {
            "image/png": "[encoded data removed]",
            "text/plain": [
              "<Figure size 432x288 with 1 Axes>"
            ]
          },
          "metadata": {
            "needs_background": "light"
          },
          "output_type": "display_data"
        }
      ],
      "source": [
        "users_total.query('tariff == \"smart\"').plot(kind='hist', y='calls_min', bins=100, grid=True, legend=True)\n",
        "users_total.query('tariff == \"smart\"').plot(kind='hist', y='messages', bins=20, grid=True, legend=True)\n",
        "users_total.query('tariff == \"smart\"').plot(kind='hist', y='mb_used', bins=100, grid=True, legend=True)"
      ]
    },
    {
      "cell_type": "markdown",
      "metadata": {
        "id": "3fVWPXmszJOo"
      },
      "source": [
        "### Выводы"
      ]
    },
    {
      "cell_type": "markdown",
      "metadata": {
        "id": "rNqSDYzOzJOo"
      },
      "source": [
        "- Пользователи тарифного плана ultra разговаривают в среднем в 1.5 раза больше, чем пользователи smart.\n",
        "- Пользователи тарифного плана ultra отправляют sms в среднем в 1.5 раза больше, чем пользователи smart.\n",
        "- Пользователи тарифного плана ultra расходуют интернет-трафика в среднем на 3 ГБ больше, чем пользователи smart.\n",
        "- Для обоих тарифов можно утверждать, что данные об интернет-трафике и звонках распределены нормально, тогда как графики с данными по сообщениям скошены вправо."
      ]
    },
    {
      "cell_type": "markdown",
      "metadata": {
        "id": "rDgUsGobzJOo"
      },
      "source": [
        "## Проверка гипотез"
      ]
    },
    {
      "cell_type": "markdown",
      "metadata": {
        "id": "JAncRIR6zJOp"
      },
      "source": [
        "### Средняя выручка пользователей тарифов «Ультра» и «Смарт» различаются"
      ]
    },
    {
      "cell_type": "markdown",
      "metadata": {
        "id": "W0iKcHajzJOp"
      },
      "source": [
        "<b>Нулевая гипотеза: средняя выручка пользователей тарифа \"Ультра\" равна средней выручке тарифа \"Смарт\". Альтернативная гипотеза: Средняя выручка пользователей тарифов «Ультра» и «Смарт» различаются</b>"
      ]
    },
    {
      "cell_type": "markdown",
      "metadata": {
        "id": "mErRX7uwzJOp"
      },
      "source": [
        "Проверка гипотезы при помощи ttest."
      ]
    },
    {
      "cell_type": "code",
      "execution_count": null,
      "metadata": {
        "id": "s38ZJzENzJOp",
        "outputId": "69da7c2a-008a-4625-b73e-b09e072994da"
      },
      "outputs": [
        {
          "name": "stdout",
          "output_type": "stream",
          "text": [
            "p-значение: 2.1830308249112928e-155\n",
            "Отвергаем нулевую гипотезу\n"
          ]
        }
      ],
      "source": [
        "alpha = .01\n",
        "\n",
        "results = st.ttest_ind(\n",
        "    users_total[users_total['tariff'] == 'ultra']['user_gain'], \n",
        "    users_total[users_total['tariff'] == 'smart']['user_gain']\n",
        ")\n",
        "\n",
        "print('p-значение:', results.pvalue)\n",
        "\n",
        "if results.pvalue < alpha:\n",
        "    print(\"Отвергаем нулевую гипотезу\")\n",
        "else:\n",
        "    print(\"Не получилось отвергнуть нулевую гипотезу\")"
      ]
    },
    {
      "cell_type": "markdown",
      "metadata": {
        "id": "6DMcJfrnzJOq"
      },
      "source": [
        "Проведённый ttest позволяет сделать заключение о том, что нулевую гипотезу мы отвергаем. Соответственно, можем сказать, что средняя выручка пользователей тарифов «Ультра» и «Смарт» различаются"
      ]
    },
    {
      "cell_type": "markdown",
      "metadata": {
        "id": "sKAYeRtOzJOq"
      },
      "source": [
        "### Средняя выручка пользователей из Москвы отличается от выручки пользователей из других регионов"
      ]
    },
    {
      "cell_type": "markdown",
      "metadata": {
        "id": "pk2KOJALzJOr"
      },
      "source": [
        "<b>Нулевая гипотеза: средняя выручка пользователей из Москвы равна средней выручке пользователей из других регионов. Альтернативная гипотеза: средняя выручка пользователей из Москвы отличается от выручки пользователей из других регионов.</b>"
      ]
    },
    {
      "cell_type": "markdown",
      "metadata": {
        "id": "7z2tTKg8zJOr"
      },
      "source": [
        "Проверка гипотезы при помощи ttest."
      ]
    },
    {
      "cell_type": "code",
      "execution_count": null,
      "metadata": {
        "id": "lirZnVxDzJOs",
        "outputId": "c120eedd-beb8-4490-afef-40bc6975c8cc"
      },
      "outputs": [
        {
          "name": "stdout",
          "output_type": "stream",
          "text": [
            "p-значение: 0.4619932225305272\n",
            "Не получилось отвергнуть нулевую гипотезу\n"
          ]
        }
      ],
      "source": [
        "users_total_city = users_total.merge(users[['user_id', 'city']], on='user_id', how='left')\n",
        "alpha=.01\n",
        "\n",
        "results = st.ttest_ind(\n",
        "    users_total_city[users_total_city['city'] == 'Москва']['user_gain'],\n",
        "    users_total_city[users_total_city['city'] != 'Москва']['user_gain']\n",
        ")\n",
        "print('p-значение:', results.pvalue)\n",
        "\n",
        "if results.pvalue < alpha:\n",
        "    print(\"Отвергаем нулевую гипотезу\")\n",
        "else:\n",
        "    print(\"Не получилось отвергнуть нулевую гипотезу\") "
      ]
    },
    {
      "cell_type": "markdown",
      "metadata": {
        "id": "qOqAwBbgzJOv"
      },
      "source": [
        "Проведённый статистический тест не позволяет нам отвергнуть нулевую гипотезу. Но и утверждать, что средняя выручка пользователей из Москвы отличается от выручки пользователей из других регионов на его основании мы не можем."
      ]
    },
    {
      "cell_type": "markdown",
      "metadata": {
        "id": "dZXTO4S5zJOv"
      },
      "source": [
        "## Общий вывод"
      ]
    },
    {
      "cell_type": "markdown",
      "metadata": {
        "id": "6BLG3MeCzJOx"
      },
      "source": [
        "По итогам проведённого исследования можем сделать следующие заключения:\n",
        "\n",
        "- Пользователи тарифного плана ultra разговаривают в среднем в 1.5 раза больше, чем пользователи smart.\n",
        "- Пользователи тарифного плана ultra отправляют sms в среднем в 1.5 раза больше, чем пользователи smart.\n",
        "- Пользователи тарифного плана ultra расходуют интернет-трафика в среднем на 3 ГБ больше, чем пользователи smart.\n",
        "- Пользователи обоих тарифов в среднем отправляют совсем немного sms (40-60 штук).\n",
        "- Средняя выручка пользователей тарифов «Ультра» и «Смарт» различаются.\n",
        "- Проведённый статистический тест не позволяет нам отвергнуть нулевую гипотезу. Но и утверждать, что средняя выручка пользователей из Москвы отличается от выручки пользователей из других регионов на его основании мы не можем.\n",
        "\n",
        "Более выгодный для компании тарифный план - 'ultra'. Средняя выручка в представленной выборке с него на 60% выше, при этом стандартное отклонение по данному показателю в два раза ниже."
      ]
    }
  ],
  "metadata": {
    "ExecuteTimeLog": [
      {
        "duration": 1270,
        "start_time": "2022-05-19T17:15:07.727Z"
      },
      {
        "duration": 59,
        "start_time": "2022-05-20T15:12:57.322Z"
      },
      {
        "duration": 1010,
        "start_time": "2022-05-20T15:13:04.686Z"
      },
      {
        "duration": 231,
        "start_time": "2022-05-20T15:13:07.942Z"
      },
      {
        "duration": 193,
        "start_time": "2022-05-20T15:13:18.118Z"
      },
      {
        "duration": 322,
        "start_time": "2022-05-20T15:14:27.975Z"
      },
      {
        "duration": 156,
        "start_time": "2022-05-20T15:15:30.446Z"
      },
      {
        "duration": 45,
        "start_time": "2022-05-20T15:16:25.461Z"
      },
      {
        "duration": 55,
        "start_time": "2022-05-20T15:17:30.487Z"
      },
      {
        "duration": 13,
        "start_time": "2022-05-20T16:08:44.668Z"
      },
      {
        "duration": 15,
        "start_time": "2022-05-20T16:09:18.612Z"
      },
      {
        "duration": 10,
        "start_time": "2022-05-20T16:10:01.143Z"
      },
      {
        "duration": 8,
        "start_time": "2022-05-20T16:13:39.917Z"
      },
      {
        "duration": 10,
        "start_time": "2022-05-20T16:19:57.651Z"
      },
      {
        "duration": 5,
        "start_time": "2022-05-20T16:20:32.959Z"
      },
      {
        "duration": 114,
        "start_time": "2022-05-20T16:29:03.460Z"
      },
      {
        "duration": 117,
        "start_time": "2022-05-20T16:29:13.134Z"
      },
      {
        "duration": 112,
        "start_time": "2022-05-20T16:36:12.218Z"
      },
      {
        "duration": 9,
        "start_time": "2022-05-20T16:38:07.615Z"
      },
      {
        "duration": 9,
        "start_time": "2022-05-20T16:38:50.364Z"
      },
      {
        "duration": 9,
        "start_time": "2022-05-20T16:39:11.168Z"
      },
      {
        "duration": 31,
        "start_time": "2022-05-20T16:43:41.640Z"
      },
      {
        "duration": 32,
        "start_time": "2022-05-20T16:43:52.330Z"
      },
      {
        "duration": 16,
        "start_time": "2022-05-20T16:44:33.751Z"
      },
      {
        "duration": 47,
        "start_time": "2022-05-20T16:48:24.621Z"
      },
      {
        "duration": 82,
        "start_time": "2022-05-20T16:48:32.887Z"
      },
      {
        "duration": 9,
        "start_time": "2022-05-20T16:50:15.639Z"
      },
      {
        "duration": 7,
        "start_time": "2022-05-20T16:58:39.556Z"
      },
      {
        "duration": 16,
        "start_time": "2022-05-20T16:58:55.500Z"
      },
      {
        "duration": 13,
        "start_time": "2022-05-20T16:59:34.647Z"
      },
      {
        "duration": 12,
        "start_time": "2022-05-20T17:00:24.851Z"
      },
      {
        "duration": 15,
        "start_time": "2022-05-20T17:00:31.861Z"
      },
      {
        "duration": 12,
        "start_time": "2022-05-20T17:00:50.748Z"
      },
      {
        "duration": 17,
        "start_time": "2022-05-20T17:03:47.931Z"
      },
      {
        "duration": 19,
        "start_time": "2022-05-20T17:04:08.974Z"
      },
      {
        "duration": 29,
        "start_time": "2022-05-20T17:05:00.076Z"
      },
      {
        "duration": 41,
        "start_time": "2022-05-20T17:10:13.471Z"
      },
      {
        "duration": 31,
        "start_time": "2022-05-20T17:11:13.544Z"
      },
      {
        "duration": 17,
        "start_time": "2022-05-20T17:11:18.617Z"
      },
      {
        "duration": 61,
        "start_time": "2022-05-20T17:12:50.139Z"
      },
      {
        "duration": 31,
        "start_time": "2022-05-20T17:15:28.497Z"
      },
      {
        "duration": 50,
        "start_time": "2022-05-20T17:15:40.466Z"
      },
      {
        "duration": 11,
        "start_time": "2022-05-20T17:15:52.574Z"
      },
      {
        "duration": 34,
        "start_time": "2022-05-20T17:16:06.134Z"
      },
      {
        "duration": 15,
        "start_time": "2022-05-20T17:16:22.070Z"
      },
      {
        "duration": 8,
        "start_time": "2022-05-20T17:21:36.498Z"
      },
      {
        "duration": 7,
        "start_time": "2022-05-20T17:23:21.516Z"
      },
      {
        "duration": 13,
        "start_time": "2022-05-20T17:26:18.233Z"
      },
      {
        "duration": 13,
        "start_time": "2022-05-20T17:26:59.204Z"
      },
      {
        "duration": 417,
        "start_time": "2022-05-20T17:27:52.482Z"
      },
      {
        "duration": 16,
        "start_time": "2022-05-20T17:29:17.338Z"
      },
      {
        "duration": 5,
        "start_time": "2022-05-20T17:33:55.891Z"
      },
      {
        "duration": 13,
        "start_time": "2022-05-20T17:34:06.378Z"
      },
      {
        "duration": 15,
        "start_time": "2022-05-20T17:34:32.901Z"
      },
      {
        "duration": 795,
        "start_time": "2022-05-20T17:35:28.847Z"
      },
      {
        "duration": 213,
        "start_time": "2022-05-20T17:35:29.644Z"
      },
      {
        "duration": 179,
        "start_time": "2022-05-20T17:35:29.859Z"
      },
      {
        "duration": 124,
        "start_time": "2022-05-20T17:35:30.040Z"
      },
      {
        "duration": 33,
        "start_time": "2022-05-20T17:35:30.167Z"
      },
      {
        "duration": 23,
        "start_time": "2022-05-20T17:35:30.203Z"
      },
      {
        "duration": 138,
        "start_time": "2022-05-20T17:35:30.228Z"
      },
      {
        "duration": 44,
        "start_time": "2022-05-20T17:35:30.369Z"
      },
      {
        "duration": 111,
        "start_time": "2022-05-20T17:35:30.415Z"
      },
      {
        "duration": 12,
        "start_time": "2022-05-20T17:35:30.528Z"
      },
      {
        "duration": 59,
        "start_time": "2022-05-20T17:35:30.542Z"
      },
      {
        "duration": 86,
        "start_time": "2022-05-20T17:35:30.603Z"
      },
      {
        "duration": 58,
        "start_time": "2022-05-20T17:35:30.691Z"
      },
      {
        "duration": 31,
        "start_time": "2022-05-20T17:35:30.764Z"
      },
      {
        "duration": 8,
        "start_time": "2022-05-20T17:35:30.797Z"
      },
      {
        "duration": 7,
        "start_time": "2022-05-20T17:35:34.705Z"
      },
      {
        "duration": 15,
        "start_time": "2022-05-20T17:35:58.409Z"
      },
      {
        "duration": 5,
        "start_time": "2022-05-20T17:36:11.179Z"
      },
      {
        "duration": 105,
        "start_time": "2022-05-20T17:36:15.303Z"
      },
      {
        "duration": 802,
        "start_time": "2022-05-20T17:36:37.449Z"
      },
      {
        "duration": 226,
        "start_time": "2022-05-20T17:36:38.253Z"
      },
      {
        "duration": 164,
        "start_time": "2022-05-20T17:36:38.482Z"
      },
      {
        "duration": 119,
        "start_time": "2022-05-20T17:36:38.648Z"
      },
      {
        "duration": 26,
        "start_time": "2022-05-20T17:36:38.771Z"
      },
      {
        "duration": 23,
        "start_time": "2022-05-20T17:36:38.799Z"
      },
      {
        "duration": 153,
        "start_time": "2022-05-20T17:36:38.824Z"
      },
      {
        "duration": 52,
        "start_time": "2022-05-20T17:36:38.979Z"
      },
      {
        "duration": 113,
        "start_time": "2022-05-20T17:36:39.033Z"
      },
      {
        "duration": 32,
        "start_time": "2022-05-20T17:36:39.148Z"
      },
      {
        "duration": 47,
        "start_time": "2022-05-20T17:36:39.182Z"
      },
      {
        "duration": 30,
        "start_time": "2022-05-20T17:36:39.231Z"
      },
      {
        "duration": 64,
        "start_time": "2022-05-20T17:36:39.264Z"
      },
      {
        "duration": 35,
        "start_time": "2022-05-20T17:36:39.330Z"
      },
      {
        "duration": 9,
        "start_time": "2022-05-20T17:36:39.367Z"
      },
      {
        "duration": 4,
        "start_time": "2022-05-20T17:36:43.708Z"
      },
      {
        "duration": 107,
        "start_time": "2022-05-20T17:36:50.460Z"
      },
      {
        "duration": 13,
        "start_time": "2022-05-20T17:37:15.095Z"
      },
      {
        "duration": 789,
        "start_time": "2022-05-20T17:37:29.694Z"
      },
      {
        "duration": 218,
        "start_time": "2022-05-20T17:37:30.485Z"
      },
      {
        "duration": 192,
        "start_time": "2022-05-20T17:37:30.705Z"
      },
      {
        "duration": 126,
        "start_time": "2022-05-20T17:37:30.900Z"
      },
      {
        "duration": 18,
        "start_time": "2022-05-20T17:37:31.028Z"
      },
      {
        "duration": 30,
        "start_time": "2022-05-20T17:37:31.048Z"
      },
      {
        "duration": 153,
        "start_time": "2022-05-20T17:37:31.080Z"
      },
      {
        "duration": 65,
        "start_time": "2022-05-20T17:37:31.236Z"
      },
      {
        "duration": 104,
        "start_time": "2022-05-20T17:37:31.303Z"
      },
      {
        "duration": 17,
        "start_time": "2022-05-20T17:37:31.409Z"
      },
      {
        "duration": 88,
        "start_time": "2022-05-20T17:37:31.428Z"
      },
      {
        "duration": 23,
        "start_time": "2022-05-20T17:37:31.518Z"
      },
      {
        "duration": 60,
        "start_time": "2022-05-20T17:37:31.543Z"
      },
      {
        "duration": 22,
        "start_time": "2022-05-20T17:37:35.024Z"
      },
      {
        "duration": 7,
        "start_time": "2022-05-20T17:37:37.548Z"
      },
      {
        "duration": 4,
        "start_time": "2022-05-20T17:37:40.659Z"
      },
      {
        "duration": 15,
        "start_time": "2022-05-20T17:37:43.382Z"
      },
      {
        "duration": 11,
        "start_time": "2022-05-20T17:38:42.669Z"
      },
      {
        "duration": 714,
        "start_time": "2022-05-20T17:40:59.918Z"
      },
      {
        "duration": 203,
        "start_time": "2022-05-20T17:41:00.635Z"
      },
      {
        "duration": 173,
        "start_time": "2022-05-20T17:41:00.840Z"
      },
      {
        "duration": 125,
        "start_time": "2022-05-20T17:41:01.016Z"
      },
      {
        "duration": 22,
        "start_time": "2022-05-20T17:41:01.143Z"
      },
      {
        "duration": 25,
        "start_time": "2022-05-20T17:41:01.168Z"
      },
      {
        "duration": 139,
        "start_time": "2022-05-20T17:41:01.196Z"
      },
      {
        "duration": 52,
        "start_time": "2022-05-20T17:41:01.338Z"
      },
      {
        "duration": 99,
        "start_time": "2022-05-20T17:41:01.392Z"
      },
      {
        "duration": 12,
        "start_time": "2022-05-20T17:41:01.493Z"
      },
      {
        "duration": 20,
        "start_time": "2022-05-20T17:41:05.238Z"
      },
      {
        "duration": 26,
        "start_time": "2022-05-20T17:41:39.628Z"
      },
      {
        "duration": 66,
        "start_time": "2022-05-20T17:42:01.063Z"
      },
      {
        "duration": 907,
        "start_time": "2022-05-21T09:48:44.666Z"
      },
      {
        "duration": 307,
        "start_time": "2022-05-21T09:48:45.576Z"
      },
      {
        "duration": 389,
        "start_time": "2022-05-21T09:48:45.885Z"
      },
      {
        "duration": 152,
        "start_time": "2022-05-21T09:48:46.276Z"
      },
      {
        "duration": 51,
        "start_time": "2022-05-21T09:48:46.432Z"
      },
      {
        "duration": 51,
        "start_time": "2022-05-21T09:48:46.485Z"
      },
      {
        "duration": 142,
        "start_time": "2022-05-21T09:48:46.544Z"
      },
      {
        "duration": 48,
        "start_time": "2022-05-21T09:48:46.688Z"
      },
      {
        "duration": 120,
        "start_time": "2022-05-21T09:48:46.739Z"
      },
      {
        "duration": 122,
        "start_time": "2022-05-21T09:48:52.690Z"
      },
      {
        "duration": 17,
        "start_time": "2022-05-21T09:48:56.439Z"
      },
      {
        "duration": 34,
        "start_time": "2022-05-21T09:49:22.464Z"
      },
      {
        "duration": 22,
        "start_time": "2022-05-21T09:49:50.277Z"
      },
      {
        "duration": 36,
        "start_time": "2022-05-21T09:50:24.755Z"
      },
      {
        "duration": 741,
        "start_time": "2022-05-21T09:51:12.801Z"
      },
      {
        "duration": 189,
        "start_time": "2022-05-21T09:51:13.544Z"
      },
      {
        "duration": 156,
        "start_time": "2022-05-21T09:51:13.738Z"
      },
      {
        "duration": 117,
        "start_time": "2022-05-21T09:51:13.897Z"
      },
      {
        "duration": 31,
        "start_time": "2022-05-21T09:51:14.016Z"
      },
      {
        "duration": 23,
        "start_time": "2022-05-21T09:51:14.048Z"
      },
      {
        "duration": 129,
        "start_time": "2022-05-21T09:51:14.073Z"
      },
      {
        "duration": 46,
        "start_time": "2022-05-21T09:51:14.204Z"
      },
      {
        "duration": 91,
        "start_time": "2022-05-21T09:51:14.252Z"
      },
      {
        "duration": 12,
        "start_time": "2022-05-21T09:51:14.346Z"
      },
      {
        "duration": 15,
        "start_time": "2022-05-21T09:51:14.360Z"
      },
      {
        "duration": 40,
        "start_time": "2022-05-21T09:51:21.305Z"
      },
      {
        "duration": 31,
        "start_time": "2022-05-21T09:51:44.816Z"
      },
      {
        "duration": 61,
        "start_time": "2022-05-21T09:51:52.183Z"
      },
      {
        "duration": 22,
        "start_time": "2022-05-21T09:51:55.873Z"
      },
      {
        "duration": 7,
        "start_time": "2022-05-21T09:51:58.669Z"
      },
      {
        "duration": 5,
        "start_time": "2022-05-21T09:52:02.564Z"
      },
      {
        "duration": 18,
        "start_time": "2022-05-21T09:52:23.639Z"
      },
      {
        "duration": 7,
        "start_time": "2022-05-21T09:52:37.867Z"
      },
      {
        "duration": 13,
        "start_time": "2022-05-21T09:58:30.575Z"
      },
      {
        "duration": 14,
        "start_time": "2022-05-21T09:59:45.540Z"
      },
      {
        "duration": 12,
        "start_time": "2022-05-21T10:00:09.210Z"
      },
      {
        "duration": 12,
        "start_time": "2022-05-21T10:07:34.137Z"
      },
      {
        "duration": 107,
        "start_time": "2022-05-21T10:14:56.492Z"
      },
      {
        "duration": 60,
        "start_time": "2022-05-21T10:15:05.776Z"
      },
      {
        "duration": 60,
        "start_time": "2022-05-21T10:15:12.674Z"
      },
      {
        "duration": 70,
        "start_time": "2022-05-21T10:15:36.423Z"
      },
      {
        "duration": 646,
        "start_time": "2022-05-21T10:20:16.765Z"
      },
      {
        "duration": 629,
        "start_time": "2022-05-21T10:22:03.146Z"
      },
      {
        "duration": 128,
        "start_time": "2022-05-21T10:22:23.023Z"
      },
      {
        "duration": 246,
        "start_time": "2022-05-21T10:29:35.470Z"
      },
      {
        "duration": 23,
        "start_time": "2022-05-21T10:31:51.294Z"
      },
      {
        "duration": 58,
        "start_time": "2022-05-21T10:32:28.720Z"
      },
      {
        "duration": 31,
        "start_time": "2022-05-21T10:32:52.880Z"
      },
      {
        "duration": 44,
        "start_time": "2022-05-21T10:35:53.792Z"
      },
      {
        "duration": 78,
        "start_time": "2022-05-21T11:08:13.693Z"
      },
      {
        "duration": 121,
        "start_time": "2022-05-21T11:09:37.088Z"
      },
      {
        "duration": 147,
        "start_time": "2022-05-21T11:10:51.606Z"
      },
      {
        "duration": 140,
        "start_time": "2022-05-21T11:12:18.874Z"
      },
      {
        "duration": 79,
        "start_time": "2022-05-21T11:25:04.113Z"
      },
      {
        "duration": 47,
        "start_time": "2022-05-21T11:27:50.605Z"
      },
      {
        "duration": 59,
        "start_time": "2022-05-21T11:28:22.487Z"
      },
      {
        "duration": 659,
        "start_time": "2022-05-21T11:28:55.676Z"
      },
      {
        "duration": 171,
        "start_time": "2022-05-21T11:28:56.336Z"
      },
      {
        "duration": 136,
        "start_time": "2022-05-21T11:28:56.509Z"
      },
      {
        "duration": 96,
        "start_time": "2022-05-21T11:28:56.647Z"
      },
      {
        "duration": 15,
        "start_time": "2022-05-21T11:28:56.744Z"
      },
      {
        "duration": 22,
        "start_time": "2022-05-21T11:28:56.761Z"
      },
      {
        "duration": 113,
        "start_time": "2022-05-21T11:28:56.784Z"
      },
      {
        "duration": 43,
        "start_time": "2022-05-21T11:28:56.899Z"
      },
      {
        "duration": 85,
        "start_time": "2022-05-21T11:28:56.944Z"
      },
      {
        "duration": 11,
        "start_time": "2022-05-21T11:28:57.033Z"
      },
      {
        "duration": 7,
        "start_time": "2022-05-21T11:28:57.046Z"
      },
      {
        "duration": 38,
        "start_time": "2022-05-21T11:28:57.055Z"
      },
      {
        "duration": 73,
        "start_time": "2022-05-21T11:28:57.095Z"
      },
      {
        "duration": 19,
        "start_time": "2022-05-21T11:28:57.170Z"
      },
      {
        "duration": 6,
        "start_time": "2022-05-21T11:28:57.191Z"
      },
      {
        "duration": 4,
        "start_time": "2022-05-21T11:28:57.198Z"
      },
      {
        "duration": 7,
        "start_time": "2022-05-21T11:28:57.222Z"
      },
      {
        "duration": 112,
        "start_time": "2022-05-21T11:28:57.231Z"
      },
      {
        "duration": 85,
        "start_time": "2022-05-21T11:28:57.345Z"
      },
      {
        "duration": 35,
        "start_time": "2022-05-21T11:28:57.432Z"
      },
      {
        "duration": 32,
        "start_time": "2022-05-21T11:28:57.470Z"
      },
      {
        "duration": 57,
        "start_time": "2022-05-21T11:28:57.522Z"
      },
      {
        "duration": 945,
        "start_time": "2022-05-21T16:16:36.530Z"
      },
      {
        "duration": 531,
        "start_time": "2022-05-21T16:16:37.477Z"
      },
      {
        "duration": 437,
        "start_time": "2022-05-21T16:16:38.011Z"
      },
      {
        "duration": 287,
        "start_time": "2022-05-21T16:16:38.450Z"
      },
      {
        "duration": 84,
        "start_time": "2022-05-21T16:16:38.740Z"
      },
      {
        "duration": 74,
        "start_time": "2022-05-21T16:16:38.826Z"
      },
      {
        "duration": 106,
        "start_time": "2022-05-21T16:16:38.901Z"
      },
      {
        "duration": 39,
        "start_time": "2022-05-21T16:16:39.009Z"
      },
      {
        "duration": 71,
        "start_time": "2022-05-21T16:16:39.050Z"
      },
      {
        "duration": 23,
        "start_time": "2022-05-21T16:16:39.124Z"
      },
      {
        "duration": 15,
        "start_time": "2022-05-21T16:16:39.149Z"
      },
      {
        "duration": 33,
        "start_time": "2022-05-21T16:16:39.166Z"
      },
      {
        "duration": 64,
        "start_time": "2022-05-21T16:16:39.200Z"
      },
      {
        "duration": 20,
        "start_time": "2022-05-21T16:16:39.265Z"
      },
      {
        "duration": 6,
        "start_time": "2022-05-21T16:16:39.286Z"
      },
      {
        "duration": 3,
        "start_time": "2022-05-21T16:16:39.294Z"
      },
      {
        "duration": 7,
        "start_time": "2022-05-21T16:16:39.299Z"
      },
      {
        "duration": 125,
        "start_time": "2022-05-21T16:16:39.307Z"
      },
      {
        "duration": 78,
        "start_time": "2022-05-21T16:16:39.433Z"
      },
      {
        "duration": 45,
        "start_time": "2022-05-21T16:16:39.513Z"
      },
      {
        "duration": 34,
        "start_time": "2022-05-21T16:16:39.560Z"
      },
      {
        "duration": 66,
        "start_time": "2022-05-21T16:16:39.595Z"
      },
      {
        "duration": 61,
        "start_time": "2022-05-21T16:20:40.373Z"
      },
      {
        "duration": 678,
        "start_time": "2022-05-21T16:20:58.895Z"
      },
      {
        "duration": 583,
        "start_time": "2022-05-21T16:20:59.576Z"
      },
      {
        "duration": 443,
        "start_time": "2022-05-21T16:21:00.161Z"
      },
      {
        "duration": 320,
        "start_time": "2022-05-21T16:21:00.606Z"
      },
      {
        "duration": 72,
        "start_time": "2022-05-21T16:21:00.928Z"
      },
      {
        "duration": 72,
        "start_time": "2022-05-21T16:21:01.002Z"
      },
      {
        "duration": 109,
        "start_time": "2022-05-21T16:21:01.076Z"
      },
      {
        "duration": 33,
        "start_time": "2022-05-21T16:21:01.187Z"
      },
      {
        "duration": 85,
        "start_time": "2022-05-21T16:21:01.221Z"
      },
      {
        "duration": 11,
        "start_time": "2022-05-21T16:21:01.309Z"
      },
      {
        "duration": 6,
        "start_time": "2022-05-21T16:21:01.321Z"
      },
      {
        "duration": 33,
        "start_time": "2022-05-21T16:21:01.341Z"
      },
      {
        "duration": 47,
        "start_time": "2022-05-21T16:21:01.376Z"
      },
      {
        "duration": 20,
        "start_time": "2022-05-21T16:21:01.442Z"
      },
      {
        "duration": 6,
        "start_time": "2022-05-21T16:21:01.463Z"
      },
      {
        "duration": 5,
        "start_time": "2022-05-21T16:21:01.471Z"
      },
      {
        "duration": 9,
        "start_time": "2022-05-21T16:21:01.478Z"
      },
      {
        "duration": 120,
        "start_time": "2022-05-21T16:21:01.489Z"
      },
      {
        "duration": 76,
        "start_time": "2022-05-21T16:21:01.611Z"
      },
      {
        "duration": 35,
        "start_time": "2022-05-21T16:21:01.689Z"
      },
      {
        "duration": 47,
        "start_time": "2022-05-21T16:21:01.726Z"
      },
      {
        "duration": 70,
        "start_time": "2022-05-21T16:22:09.833Z"
      },
      {
        "duration": 741,
        "start_time": "2022-05-21T16:22:32.816Z"
      },
      {
        "duration": 581,
        "start_time": "2022-05-21T16:22:33.560Z"
      },
      {
        "duration": 462,
        "start_time": "2022-05-21T16:22:34.144Z"
      },
      {
        "duration": 296,
        "start_time": "2022-05-21T16:22:34.609Z"
      },
      {
        "duration": 74,
        "start_time": "2022-05-21T16:22:34.906Z"
      },
      {
        "duration": 73,
        "start_time": "2022-05-21T16:22:34.981Z"
      },
      {
        "duration": 129,
        "start_time": "2022-05-21T16:22:35.055Z"
      },
      {
        "duration": 34,
        "start_time": "2022-05-21T16:22:35.186Z"
      },
      {
        "duration": 90,
        "start_time": "2022-05-21T16:22:35.222Z"
      },
      {
        "duration": 11,
        "start_time": "2022-05-21T16:22:35.315Z"
      },
      {
        "duration": 16,
        "start_time": "2022-05-21T16:22:35.327Z"
      },
      {
        "duration": 33,
        "start_time": "2022-05-21T16:22:35.345Z"
      },
      {
        "duration": 62,
        "start_time": "2022-05-21T16:22:35.380Z"
      },
      {
        "duration": 20,
        "start_time": "2022-05-21T16:22:35.444Z"
      },
      {
        "duration": 6,
        "start_time": "2022-05-21T16:22:35.465Z"
      },
      {
        "duration": 4,
        "start_time": "2022-05-21T16:22:35.473Z"
      },
      {
        "duration": 10,
        "start_time": "2022-05-21T16:22:35.479Z"
      },
      {
        "duration": 119,
        "start_time": "2022-05-21T16:22:35.491Z"
      },
      {
        "duration": 86,
        "start_time": "2022-05-21T16:22:35.611Z"
      },
      {
        "duration": 43,
        "start_time": "2022-05-21T16:22:35.698Z"
      },
      {
        "duration": 37,
        "start_time": "2022-05-21T16:22:35.743Z"
      },
      {
        "duration": 67,
        "start_time": "2022-05-21T16:22:35.782Z"
      },
      {
        "duration": 820,
        "start_time": "2022-05-21T16:25:15.979Z"
      },
      {
        "duration": 554,
        "start_time": "2022-05-21T16:25:16.802Z"
      },
      {
        "duration": 461,
        "start_time": "2022-05-21T16:25:17.358Z"
      },
      {
        "duration": 299,
        "start_time": "2022-05-21T16:25:17.821Z"
      },
      {
        "duration": 74,
        "start_time": "2022-05-21T16:25:18.121Z"
      },
      {
        "duration": 78,
        "start_time": "2022-05-21T16:25:18.197Z"
      },
      {
        "duration": 112,
        "start_time": "2022-05-21T16:25:18.276Z"
      },
      {
        "duration": 32,
        "start_time": "2022-05-21T16:25:18.390Z"
      },
      {
        "duration": 97,
        "start_time": "2022-05-21T16:25:18.424Z"
      },
      {
        "duration": 21,
        "start_time": "2022-05-21T16:25:18.524Z"
      },
      {
        "duration": 10,
        "start_time": "2022-05-21T16:25:18.547Z"
      },
      {
        "duration": 40,
        "start_time": "2022-05-21T16:25:18.558Z"
      },
      {
        "duration": 74,
        "start_time": "2022-05-21T16:25:18.601Z"
      },
      {
        "duration": 21,
        "start_time": "2022-05-21T16:25:18.677Z"
      },
      {
        "duration": 8,
        "start_time": "2022-05-21T16:25:18.700Z"
      },
      {
        "duration": 4,
        "start_time": "2022-05-21T16:25:18.710Z"
      },
      {
        "duration": 30,
        "start_time": "2022-05-21T16:25:18.716Z"
      },
      {
        "duration": 104,
        "start_time": "2022-05-21T16:25:18.748Z"
      },
      {
        "duration": 100,
        "start_time": "2022-05-21T16:25:18.853Z"
      },
      {
        "duration": 0,
        "start_time": "2022-05-21T16:25:18.955Z"
      },
      {
        "duration": 0,
        "start_time": "2022-05-21T16:25:18.956Z"
      },
      {
        "duration": 0,
        "start_time": "2022-05-21T16:25:18.958Z"
      },
      {
        "duration": 72,
        "start_time": "2022-05-21T16:26:06.299Z"
      },
      {
        "duration": 38,
        "start_time": "2022-05-21T16:26:11.024Z"
      },
      {
        "duration": 37,
        "start_time": "2022-05-21T16:26:15.897Z"
      },
      {
        "duration": 58,
        "start_time": "2022-05-21T16:26:19.709Z"
      },
      {
        "duration": 41,
        "start_time": "2022-05-21T16:26:30.311Z"
      },
      {
        "duration": 804,
        "start_time": "2022-05-21T16:39:13.341Z"
      },
      {
        "duration": 609,
        "start_time": "2022-05-21T16:39:14.147Z"
      },
      {
        "duration": 466,
        "start_time": "2022-05-21T16:39:14.759Z"
      },
      {
        "duration": 304,
        "start_time": "2022-05-21T16:39:15.228Z"
      },
      {
        "duration": 75,
        "start_time": "2022-05-21T16:39:15.534Z"
      },
      {
        "duration": 86,
        "start_time": "2022-05-21T16:39:15.611Z"
      },
      {
        "duration": 166,
        "start_time": "2022-05-21T16:39:15.698Z"
      },
      {
        "duration": 56,
        "start_time": "2022-05-21T16:39:15.866Z"
      },
      {
        "duration": 107,
        "start_time": "2022-05-21T16:39:15.924Z"
      },
      {
        "duration": 13,
        "start_time": "2022-05-21T16:39:16.041Z"
      },
      {
        "duration": 9,
        "start_time": "2022-05-21T16:39:16.056Z"
      },
      {
        "duration": 77,
        "start_time": "2022-05-21T16:39:16.067Z"
      },
      {
        "duration": 76,
        "start_time": "2022-05-21T16:39:16.147Z"
      },
      {
        "duration": 37,
        "start_time": "2022-05-21T16:39:16.225Z"
      },
      {
        "duration": 12,
        "start_time": "2022-05-21T16:39:16.264Z"
      },
      {
        "duration": 6,
        "start_time": "2022-05-21T16:39:16.278Z"
      },
      {
        "duration": 11,
        "start_time": "2022-05-21T16:39:16.285Z"
      },
      {
        "duration": 134,
        "start_time": "2022-05-21T16:39:16.299Z"
      },
      {
        "duration": 108,
        "start_time": "2022-05-21T16:39:16.435Z"
      },
      {
        "duration": 55,
        "start_time": "2022-05-21T16:39:16.545Z"
      },
      {
        "duration": 62,
        "start_time": "2022-05-21T16:39:16.604Z"
      },
      {
        "duration": 150,
        "start_time": "2022-05-21T16:39:16.668Z"
      },
      {
        "duration": 107,
        "start_time": "2022-05-21T16:45:01.074Z"
      },
      {
        "duration": 61,
        "start_time": "2022-05-21T16:45:25.508Z"
      },
      {
        "duration": 45,
        "start_time": "2022-05-21T16:46:22.579Z"
      },
      {
        "duration": 52,
        "start_time": "2022-05-21T16:47:02.696Z"
      },
      {
        "duration": 46,
        "start_time": "2022-05-21T16:47:52.862Z"
      },
      {
        "duration": 56,
        "start_time": "2022-05-21T16:48:40.381Z"
      },
      {
        "duration": 41,
        "start_time": "2022-05-21T16:54:28.374Z"
      },
      {
        "duration": 37,
        "start_time": "2022-05-21T16:58:02.394Z"
      },
      {
        "duration": 14,
        "start_time": "2022-05-21T16:58:27.634Z"
      },
      {
        "duration": 11,
        "start_time": "2022-05-21T16:59:15.585Z"
      },
      {
        "duration": 770,
        "start_time": "2022-05-21T16:59:31.867Z"
      },
      {
        "duration": 222,
        "start_time": "2022-05-21T16:59:32.640Z"
      },
      {
        "duration": 149,
        "start_time": "2022-05-21T16:59:32.865Z"
      },
      {
        "duration": 146,
        "start_time": "2022-05-21T16:59:33.016Z"
      },
      {
        "duration": 26,
        "start_time": "2022-05-21T16:59:33.165Z"
      },
      {
        "duration": 38,
        "start_time": "2022-05-21T16:59:33.193Z"
      },
      {
        "duration": 116,
        "start_time": "2022-05-21T16:59:33.233Z"
      },
      {
        "duration": 49,
        "start_time": "2022-05-21T16:59:33.351Z"
      },
      {
        "duration": 96,
        "start_time": "2022-05-21T16:59:33.402Z"
      },
      {
        "duration": 11,
        "start_time": "2022-05-21T16:59:33.500Z"
      },
      {
        "duration": 7,
        "start_time": "2022-05-21T16:59:33.513Z"
      },
      {
        "duration": 51,
        "start_time": "2022-05-21T16:59:33.522Z"
      },
      {
        "duration": 68,
        "start_time": "2022-05-21T16:59:33.575Z"
      },
      {
        "duration": 21,
        "start_time": "2022-05-21T16:59:33.645Z"
      },
      {
        "duration": 8,
        "start_time": "2022-05-21T16:59:33.668Z"
      },
      {
        "duration": 4,
        "start_time": "2022-05-21T16:59:33.678Z"
      },
      {
        "duration": 7,
        "start_time": "2022-05-21T16:59:33.684Z"
      },
      {
        "duration": 144,
        "start_time": "2022-05-21T16:59:33.694Z"
      },
      {
        "duration": 106,
        "start_time": "2022-05-21T16:59:33.841Z"
      },
      {
        "duration": 50,
        "start_time": "2022-05-21T16:59:33.949Z"
      },
      {
        "duration": 66,
        "start_time": "2022-05-21T16:59:34.001Z"
      },
      {
        "duration": 189,
        "start_time": "2022-05-21T16:59:34.069Z"
      },
      {
        "duration": 0,
        "start_time": "2022-05-21T16:59:34.261Z"
      },
      {
        "duration": 769,
        "start_time": "2022-05-21T16:59:58.472Z"
      },
      {
        "duration": 198,
        "start_time": "2022-05-21T16:59:59.243Z"
      },
      {
        "duration": 154,
        "start_time": "2022-05-21T16:59:59.444Z"
      },
      {
        "duration": 148,
        "start_time": "2022-05-21T16:59:59.601Z"
      },
      {
        "duration": 27,
        "start_time": "2022-05-21T16:59:59.752Z"
      },
      {
        "duration": 40,
        "start_time": "2022-05-21T16:59:59.782Z"
      },
      {
        "duration": 170,
        "start_time": "2022-05-21T16:59:59.826Z"
      },
      {
        "duration": 44,
        "start_time": "2022-05-21T16:59:59.998Z"
      },
      {
        "duration": 84,
        "start_time": "2022-05-21T17:00:00.043Z"
      },
      {
        "duration": 12,
        "start_time": "2022-05-21T17:00:00.143Z"
      },
      {
        "duration": 10,
        "start_time": "2022-05-21T17:00:00.156Z"
      },
      {
        "duration": 36,
        "start_time": "2022-05-21T17:00:00.168Z"
      },
      {
        "duration": 76,
        "start_time": "2022-05-21T17:00:00.206Z"
      },
      {
        "duration": 19,
        "start_time": "2022-05-21T17:00:00.284Z"
      },
      {
        "duration": 10,
        "start_time": "2022-05-21T17:00:00.305Z"
      },
      {
        "duration": 26,
        "start_time": "2022-05-21T17:00:00.317Z"
      },
      {
        "duration": 17,
        "start_time": "2022-05-21T17:00:00.345Z"
      },
      {
        "duration": 138,
        "start_time": "2022-05-21T17:00:00.365Z"
      },
      {
        "duration": 103,
        "start_time": "2022-05-21T17:00:00.505Z"
      },
      {
        "duration": 54,
        "start_time": "2022-05-21T17:00:00.610Z"
      },
      {
        "duration": 46,
        "start_time": "2022-05-21T17:00:00.666Z"
      },
      {
        "duration": 54,
        "start_time": "2022-05-21T17:00:00.714Z"
      },
      {
        "duration": 13,
        "start_time": "2022-05-21T17:00:00.770Z"
      },
      {
        "duration": 91,
        "start_time": "2022-05-21T17:07:12.099Z"
      },
      {
        "duration": 667,
        "start_time": "2022-05-21T17:08:47.373Z"
      },
      {
        "duration": 196,
        "start_time": "2022-05-21T17:08:48.042Z"
      },
      {
        "duration": 154,
        "start_time": "2022-05-21T17:08:48.240Z"
      },
      {
        "duration": 102,
        "start_time": "2022-05-21T17:08:48.397Z"
      },
      {
        "duration": 22,
        "start_time": "2022-05-21T17:08:48.501Z"
      },
      {
        "duration": 35,
        "start_time": "2022-05-21T17:08:48.525Z"
      },
      {
        "duration": 111,
        "start_time": "2022-05-21T17:08:48.561Z"
      },
      {
        "duration": 35,
        "start_time": "2022-05-21T17:08:48.673Z"
      },
      {
        "duration": 92,
        "start_time": "2022-05-21T17:08:48.710Z"
      },
      {
        "duration": 12,
        "start_time": "2022-05-21T17:08:48.804Z"
      },
      {
        "duration": 26,
        "start_time": "2022-05-21T17:08:48.818Z"
      },
      {
        "duration": 43,
        "start_time": "2022-05-21T17:08:48.847Z"
      },
      {
        "duration": 68,
        "start_time": "2022-05-21T17:08:48.892Z"
      },
      {
        "duration": 19,
        "start_time": "2022-05-21T17:08:48.961Z"
      },
      {
        "duration": 6,
        "start_time": "2022-05-21T17:08:48.982Z"
      },
      {
        "duration": 6,
        "start_time": "2022-05-21T17:08:48.990Z"
      },
      {
        "duration": 15,
        "start_time": "2022-05-21T17:08:48.997Z"
      },
      {
        "duration": 120,
        "start_time": "2022-05-21T17:08:49.014Z"
      },
      {
        "duration": 81,
        "start_time": "2022-05-21T17:08:49.136Z"
      },
      {
        "duration": 55,
        "start_time": "2022-05-21T17:08:49.218Z"
      },
      {
        "duration": 34,
        "start_time": "2022-05-21T17:08:49.274Z"
      },
      {
        "duration": 79,
        "start_time": "2022-05-21T17:09:16.113Z"
      },
      {
        "duration": 34,
        "start_time": "2022-05-21T17:09:29.385Z"
      },
      {
        "duration": 25,
        "start_time": "2022-05-21T17:09:41.880Z"
      },
      {
        "duration": 34,
        "start_time": "2022-05-21T17:11:07.689Z"
      },
      {
        "duration": 49,
        "start_time": "2022-05-21T17:11:45.047Z"
      },
      {
        "duration": 66,
        "start_time": "2022-05-21T17:15:14.073Z"
      },
      {
        "duration": 84,
        "start_time": "2022-05-21T17:15:27.392Z"
      },
      {
        "duration": 768,
        "start_time": "2022-05-21T17:17:24.316Z"
      },
      {
        "duration": 543,
        "start_time": "2022-05-21T17:17:25.086Z"
      },
      {
        "duration": 437,
        "start_time": "2022-05-21T17:17:25.632Z"
      },
      {
        "duration": 286,
        "start_time": "2022-05-21T17:17:26.071Z"
      },
      {
        "duration": 85,
        "start_time": "2022-05-21T17:17:26.358Z"
      },
      {
        "duration": 74,
        "start_time": "2022-05-21T17:17:26.444Z"
      },
      {
        "duration": 110,
        "start_time": "2022-05-21T17:17:26.519Z"
      },
      {
        "duration": 39,
        "start_time": "2022-05-21T17:17:26.631Z"
      },
      {
        "duration": 95,
        "start_time": "2022-05-21T17:17:26.673Z"
      },
      {
        "duration": 12,
        "start_time": "2022-05-21T17:17:26.771Z"
      },
      {
        "duration": 7,
        "start_time": "2022-05-21T17:17:26.785Z"
      },
      {
        "duration": 64,
        "start_time": "2022-05-21T17:17:26.794Z"
      },
      {
        "duration": 69,
        "start_time": "2022-05-21T17:17:26.861Z"
      },
      {
        "duration": 36,
        "start_time": "2022-05-21T17:17:26.933Z"
      },
      {
        "duration": 9,
        "start_time": "2022-05-21T17:17:26.971Z"
      },
      {
        "duration": 13,
        "start_time": "2022-05-21T17:17:26.982Z"
      },
      {
        "duration": 17,
        "start_time": "2022-05-21T17:17:26.997Z"
      },
      {
        "duration": 132,
        "start_time": "2022-05-21T17:17:27.016Z"
      },
      {
        "duration": 98,
        "start_time": "2022-05-21T17:17:27.152Z"
      },
      {
        "duration": 39,
        "start_time": "2022-05-21T17:17:27.252Z"
      },
      {
        "duration": 26,
        "start_time": "2022-05-21T17:17:27.293Z"
      },
      {
        "duration": 70,
        "start_time": "2022-05-21T17:17:27.322Z"
      },
      {
        "duration": 171,
        "start_time": "2022-05-21T17:17:27.395Z"
      },
      {
        "duration": 13,
        "start_time": "2022-05-21T17:17:47.830Z"
      },
      {
        "duration": 3,
        "start_time": "2022-05-21T17:21:08.609Z"
      },
      {
        "duration": 185,
        "start_time": "2022-05-21T17:21:08.615Z"
      },
      {
        "duration": 189,
        "start_time": "2022-05-21T17:21:08.803Z"
      },
      {
        "duration": 108,
        "start_time": "2022-05-21T17:21:08.994Z"
      },
      {
        "duration": 24,
        "start_time": "2022-05-21T17:21:09.105Z"
      },
      {
        "duration": 35,
        "start_time": "2022-05-21T17:21:09.131Z"
      },
      {
        "duration": 98,
        "start_time": "2022-05-21T17:21:09.168Z"
      },
      {
        "duration": 34,
        "start_time": "2022-05-21T17:21:09.268Z"
      },
      {
        "duration": 95,
        "start_time": "2022-05-21T17:21:09.305Z"
      },
      {
        "duration": 10,
        "start_time": "2022-05-21T17:21:09.401Z"
      },
      {
        "duration": 8,
        "start_time": "2022-05-21T17:21:09.413Z"
      },
      {
        "duration": 51,
        "start_time": "2022-05-21T17:21:09.422Z"
      },
      {
        "duration": 49,
        "start_time": "2022-05-21T17:21:09.474Z"
      },
      {
        "duration": 20,
        "start_time": "2022-05-21T17:21:09.542Z"
      },
      {
        "duration": 8,
        "start_time": "2022-05-21T17:21:09.564Z"
      },
      {
        "duration": 7,
        "start_time": "2022-05-21T17:21:09.575Z"
      },
      {
        "duration": 9,
        "start_time": "2022-05-21T17:21:09.584Z"
      },
      {
        "duration": 133,
        "start_time": "2022-05-21T17:21:09.595Z"
      },
      {
        "duration": 89,
        "start_time": "2022-05-21T17:21:09.730Z"
      },
      {
        "duration": 36,
        "start_time": "2022-05-21T17:21:09.822Z"
      },
      {
        "duration": 36,
        "start_time": "2022-05-21T17:21:09.861Z"
      },
      {
        "duration": 78,
        "start_time": "2022-05-21T17:21:09.899Z"
      },
      {
        "duration": 668,
        "start_time": "2022-05-21T17:22:07.574Z"
      },
      {
        "duration": 183,
        "start_time": "2022-05-21T17:22:08.244Z"
      },
      {
        "duration": 142,
        "start_time": "2022-05-21T17:22:08.428Z"
      },
      {
        "duration": 102,
        "start_time": "2022-05-21T17:22:08.573Z"
      },
      {
        "duration": 23,
        "start_time": "2022-05-21T17:22:08.677Z"
      },
      {
        "duration": 39,
        "start_time": "2022-05-21T17:22:08.702Z"
      },
      {
        "duration": 118,
        "start_time": "2022-05-21T17:22:08.743Z"
      },
      {
        "duration": 57,
        "start_time": "2022-05-21T17:22:08.863Z"
      },
      {
        "duration": 107,
        "start_time": "2022-05-21T17:22:08.922Z"
      },
      {
        "duration": 19,
        "start_time": "2022-05-21T17:22:09.032Z"
      },
      {
        "duration": 7,
        "start_time": "2022-05-21T17:22:09.052Z"
      },
      {
        "duration": 35,
        "start_time": "2022-05-21T17:22:09.060Z"
      },
      {
        "duration": 80,
        "start_time": "2022-05-21T17:22:09.097Z"
      },
      {
        "duration": 27,
        "start_time": "2022-05-21T17:22:09.179Z"
      },
      {
        "duration": 8,
        "start_time": "2022-05-21T17:22:09.208Z"
      },
      {
        "duration": 24,
        "start_time": "2022-05-21T17:22:09.218Z"
      },
      {
        "duration": 17,
        "start_time": "2022-05-21T17:22:09.245Z"
      },
      {
        "duration": 152,
        "start_time": "2022-05-21T17:22:09.265Z"
      },
      {
        "duration": 131,
        "start_time": "2022-05-21T17:22:09.419Z"
      },
      {
        "duration": 52,
        "start_time": "2022-05-21T17:22:09.553Z"
      },
      {
        "duration": 33,
        "start_time": "2022-05-21T17:22:14.827Z"
      },
      {
        "duration": 45,
        "start_time": "2022-05-22T14:30:04.909Z"
      },
      {
        "duration": 69,
        "start_time": "2022-05-22T14:39:29.044Z"
      },
      {
        "duration": 948,
        "start_time": "2022-05-22T14:39:38.379Z"
      },
      {
        "duration": 223,
        "start_time": "2022-05-22T14:39:39.329Z"
      },
      {
        "duration": 291,
        "start_time": "2022-05-22T14:39:39.554Z"
      },
      {
        "duration": 124,
        "start_time": "2022-05-22T14:39:39.847Z"
      },
      {
        "duration": 42,
        "start_time": "2022-05-22T14:39:39.972Z"
      },
      {
        "duration": 43,
        "start_time": "2022-05-22T14:39:40.017Z"
      },
      {
        "duration": 115,
        "start_time": "2022-05-22T14:39:40.062Z"
      },
      {
        "duration": 50,
        "start_time": "2022-05-22T14:39:40.179Z"
      },
      {
        "duration": 97,
        "start_time": "2022-05-22T14:39:40.231Z"
      },
      {
        "duration": 10,
        "start_time": "2022-05-22T14:39:40.330Z"
      },
      {
        "duration": 6,
        "start_time": "2022-05-22T14:39:40.341Z"
      },
      {
        "duration": 47,
        "start_time": "2022-05-22T14:39:40.349Z"
      },
      {
        "duration": 56,
        "start_time": "2022-05-22T14:39:40.398Z"
      },
      {
        "duration": 17,
        "start_time": "2022-05-22T14:39:40.456Z"
      },
      {
        "duration": 26,
        "start_time": "2022-05-22T14:39:40.475Z"
      },
      {
        "duration": 7,
        "start_time": "2022-05-22T14:39:40.503Z"
      },
      {
        "duration": 9,
        "start_time": "2022-05-22T14:39:40.512Z"
      },
      {
        "duration": 116,
        "start_time": "2022-05-22T14:39:40.522Z"
      },
      {
        "duration": 92,
        "start_time": "2022-05-22T14:39:40.640Z"
      },
      {
        "duration": 35,
        "start_time": "2022-05-22T14:39:40.733Z"
      },
      {
        "duration": 49,
        "start_time": "2022-05-22T14:39:40.769Z"
      },
      {
        "duration": 107,
        "start_time": "2022-05-22T14:39:40.820Z"
      },
      {
        "duration": 7,
        "start_time": "2022-05-22T14:39:54.021Z"
      },
      {
        "duration": 5,
        "start_time": "2022-05-22T14:40:21.235Z"
      },
      {
        "duration": 7,
        "start_time": "2022-05-22T14:40:29.211Z"
      },
      {
        "duration": 4,
        "start_time": "2022-05-22T14:43:01.716Z"
      },
      {
        "duration": 88,
        "start_time": "2022-05-22T14:44:51.615Z"
      },
      {
        "duration": 4,
        "start_time": "2022-05-22T14:46:53.937Z"
      },
      {
        "duration": 14,
        "start_time": "2022-05-22T14:47:15.204Z"
      },
      {
        "duration": 9,
        "start_time": "2022-05-22T14:47:31.417Z"
      },
      {
        "duration": 9,
        "start_time": "2022-05-22T14:50:35.657Z"
      },
      {
        "duration": 3,
        "start_time": "2022-05-22T14:52:49.184Z"
      },
      {
        "duration": 191,
        "start_time": "2022-05-22T14:52:49.189Z"
      },
      {
        "duration": 148,
        "start_time": "2022-05-22T14:52:49.382Z"
      },
      {
        "duration": 106,
        "start_time": "2022-05-22T14:52:49.532Z"
      },
      {
        "duration": 15,
        "start_time": "2022-05-22T14:52:49.640Z"
      },
      {
        "duration": 19,
        "start_time": "2022-05-22T14:52:49.656Z"
      },
      {
        "duration": 97,
        "start_time": "2022-05-22T14:52:49.677Z"
      },
      {
        "duration": 39,
        "start_time": "2022-05-22T14:52:49.776Z"
      },
      {
        "duration": 51,
        "start_time": "2022-05-22T14:52:49.817Z"
      },
      {
        "duration": 8,
        "start_time": "2022-05-22T14:52:49.869Z"
      },
      {
        "duration": 7,
        "start_time": "2022-05-22T14:52:49.894Z"
      },
      {
        "duration": 28,
        "start_time": "2022-05-22T14:52:49.903Z"
      },
      {
        "duration": 39,
        "start_time": "2022-05-22T14:52:49.932Z"
      },
      {
        "duration": 38,
        "start_time": "2022-05-22T14:52:49.973Z"
      },
      {
        "duration": 9,
        "start_time": "2022-05-22T14:52:50.013Z"
      },
      {
        "duration": 16,
        "start_time": "2022-05-22T14:52:50.023Z"
      },
      {
        "duration": 26,
        "start_time": "2022-05-22T14:52:50.040Z"
      },
      {
        "duration": 115,
        "start_time": "2022-05-22T14:52:50.068Z"
      },
      {
        "duration": 13,
        "start_time": "2022-05-22T14:52:50.185Z"
      },
      {
        "duration": 11,
        "start_time": "2022-05-22T14:52:50.200Z"
      },
      {
        "duration": 0,
        "start_time": "2022-05-22T14:52:50.213Z"
      },
      {
        "duration": 0,
        "start_time": "2022-05-22T14:52:50.215Z"
      },
      {
        "duration": 0,
        "start_time": "2022-05-22T14:52:50.216Z"
      },
      {
        "duration": 0,
        "start_time": "2022-05-22T14:52:50.218Z"
      },
      {
        "duration": 6,
        "start_time": "2022-05-22T14:54:44.426Z"
      },
      {
        "duration": 13,
        "start_time": "2022-05-22T14:54:59.754Z"
      },
      {
        "duration": 62,
        "start_time": "2022-05-22T14:56:52.217Z"
      },
      {
        "duration": 687,
        "start_time": "2022-05-22T14:57:04.789Z"
      },
      {
        "duration": 188,
        "start_time": "2022-05-22T14:57:05.478Z"
      },
      {
        "duration": 154,
        "start_time": "2022-05-22T14:57:05.668Z"
      },
      {
        "duration": 105,
        "start_time": "2022-05-22T14:57:05.824Z"
      },
      {
        "duration": 14,
        "start_time": "2022-05-22T14:57:05.931Z"
      },
      {
        "duration": 20,
        "start_time": "2022-05-22T14:57:05.947Z"
      },
      {
        "duration": 118,
        "start_time": "2022-05-22T14:57:05.969Z"
      },
      {
        "duration": 47,
        "start_time": "2022-05-22T14:57:06.089Z"
      },
      {
        "duration": 95,
        "start_time": "2022-05-22T14:57:06.137Z"
      },
      {
        "duration": 9,
        "start_time": "2022-05-22T14:57:06.234Z"
      },
      {
        "duration": 15,
        "start_time": "2022-05-22T14:57:06.244Z"
      },
      {
        "duration": 42,
        "start_time": "2022-05-22T14:57:06.260Z"
      },
      {
        "duration": 49,
        "start_time": "2022-05-22T14:57:06.305Z"
      },
      {
        "duration": 18,
        "start_time": "2022-05-22T14:57:06.355Z"
      },
      {
        "duration": 24,
        "start_time": "2022-05-22T14:57:06.374Z"
      },
      {
        "duration": 12,
        "start_time": "2022-05-22T14:57:06.402Z"
      },
      {
        "duration": 15,
        "start_time": "2022-05-22T14:57:06.417Z"
      },
      {
        "duration": 106,
        "start_time": "2022-05-22T14:57:06.434Z"
      },
      {
        "duration": 9,
        "start_time": "2022-05-22T14:57:06.541Z"
      },
      {
        "duration": 32,
        "start_time": "2022-05-22T14:57:06.552Z"
      },
      {
        "duration": 16,
        "start_time": "2022-05-22T14:57:17.098Z"
      },
      {
        "duration": 8,
        "start_time": "2022-05-22T14:57:21.334Z"
      },
      {
        "duration": 671,
        "start_time": "2022-05-22T14:59:27.005Z"
      },
      {
        "duration": 179,
        "start_time": "2022-05-22T14:59:27.677Z"
      },
      {
        "duration": 154,
        "start_time": "2022-05-22T14:59:27.857Z"
      },
      {
        "duration": 113,
        "start_time": "2022-05-22T14:59:28.014Z"
      },
      {
        "duration": 15,
        "start_time": "2022-05-22T14:59:28.129Z"
      },
      {
        "duration": 18,
        "start_time": "2022-05-22T14:59:28.146Z"
      },
      {
        "duration": 112,
        "start_time": "2022-05-22T14:59:28.165Z"
      },
      {
        "duration": 37,
        "start_time": "2022-05-22T14:59:28.279Z"
      },
      {
        "duration": 78,
        "start_time": "2022-05-22T14:59:28.318Z"
      },
      {
        "duration": 13,
        "start_time": "2022-05-22T14:59:28.399Z"
      },
      {
        "duration": 7,
        "start_time": "2022-05-22T14:59:28.414Z"
      },
      {
        "duration": 35,
        "start_time": "2022-05-22T14:59:28.422Z"
      },
      {
        "duration": 63,
        "start_time": "2022-05-22T14:59:28.459Z"
      },
      {
        "duration": 17,
        "start_time": "2022-05-22T14:59:28.524Z"
      },
      {
        "duration": 5,
        "start_time": "2022-05-22T14:59:28.542Z"
      },
      {
        "duration": 4,
        "start_time": "2022-05-22T14:59:28.548Z"
      },
      {
        "duration": 7,
        "start_time": "2022-05-22T14:59:28.553Z"
      },
      {
        "duration": 111,
        "start_time": "2022-05-22T14:59:28.561Z"
      },
      {
        "duration": 8,
        "start_time": "2022-05-22T14:59:28.674Z"
      },
      {
        "duration": 34,
        "start_time": "2022-05-22T14:59:31.275Z"
      },
      {
        "duration": 18,
        "start_time": "2022-05-22T14:59:33.739Z"
      },
      {
        "duration": 53,
        "start_time": "2022-05-22T14:59:54.325Z"
      },
      {
        "duration": 29,
        "start_time": "2022-05-22T15:00:07.830Z"
      },
      {
        "duration": 30,
        "start_time": "2022-05-22T15:00:21.038Z"
      },
      {
        "duration": 43,
        "start_time": "2022-05-23T16:20:50.667Z"
      },
      {
        "duration": 846,
        "start_time": "2022-05-23T16:21:04.177Z"
      },
      {
        "duration": 1024,
        "start_time": "2022-05-23T16:21:05.025Z"
      },
      {
        "duration": 726,
        "start_time": "2022-05-23T16:21:06.051Z"
      },
      {
        "duration": 166,
        "start_time": "2022-05-23T16:21:06.779Z"
      },
      {
        "duration": 57,
        "start_time": "2022-05-23T16:21:06.947Z"
      },
      {
        "duration": 94,
        "start_time": "2022-05-23T16:21:07.006Z"
      },
      {
        "duration": 146,
        "start_time": "2022-05-23T16:21:07.102Z"
      },
      {
        "duration": 36,
        "start_time": "2022-05-23T16:21:07.250Z"
      },
      {
        "duration": 82,
        "start_time": "2022-05-23T16:21:07.287Z"
      },
      {
        "duration": 11,
        "start_time": "2022-05-23T16:21:07.370Z"
      },
      {
        "duration": 22,
        "start_time": "2022-05-23T16:21:07.383Z"
      },
      {
        "duration": 50,
        "start_time": "2022-05-23T16:21:07.406Z"
      },
      {
        "duration": 59,
        "start_time": "2022-05-23T16:21:07.458Z"
      },
      {
        "duration": 18,
        "start_time": "2022-05-23T16:21:07.519Z"
      },
      {
        "duration": 23,
        "start_time": "2022-05-23T16:21:07.539Z"
      },
      {
        "duration": 15,
        "start_time": "2022-05-23T16:21:07.564Z"
      },
      {
        "duration": 33,
        "start_time": "2022-05-23T16:21:07.582Z"
      },
      {
        "duration": 130,
        "start_time": "2022-05-23T16:21:07.618Z"
      },
      {
        "duration": 18,
        "start_time": "2022-05-23T16:21:07.751Z"
      },
      {
        "duration": 100,
        "start_time": "2022-05-23T16:21:07.770Z"
      },
      {
        "duration": 77,
        "start_time": "2022-05-23T16:21:07.872Z"
      },
      {
        "duration": 39,
        "start_time": "2022-05-23T16:21:07.952Z"
      },
      {
        "duration": 45,
        "start_time": "2022-05-23T16:21:07.993Z"
      },
      {
        "duration": 5,
        "start_time": "2022-05-23T16:21:29.014Z"
      },
      {
        "duration": 1277,
        "start_time": "2022-05-23T16:21:55.596Z"
      },
      {
        "duration": 486,
        "start_time": "2022-05-23T16:23:29.183Z"
      },
      {
        "duration": 1131,
        "start_time": "2022-05-23T16:23:46.535Z"
      },
      {
        "duration": 790,
        "start_time": "2022-05-23T16:24:45.992Z"
      },
      {
        "duration": 7,
        "start_time": "2022-05-23T16:26:23.709Z"
      },
      {
        "duration": 51,
        "start_time": "2022-05-23T16:35:25.023Z"
      },
      {
        "duration": 675,
        "start_time": "2022-05-23T16:36:21.324Z"
      },
      {
        "duration": 637,
        "start_time": "2022-05-23T16:36:22.000Z"
      },
      {
        "duration": 427,
        "start_time": "2022-05-23T16:36:22.639Z"
      },
      {
        "duration": 157,
        "start_time": "2022-05-23T16:36:23.068Z"
      },
      {
        "duration": 57,
        "start_time": "2022-05-23T16:36:23.227Z"
      },
      {
        "duration": 67,
        "start_time": "2022-05-23T16:36:23.285Z"
      },
      {
        "duration": 106,
        "start_time": "2022-05-23T16:36:23.353Z"
      },
      {
        "duration": 31,
        "start_time": "2022-05-23T16:36:23.461Z"
      },
      {
        "duration": 73,
        "start_time": "2022-05-23T16:36:23.494Z"
      },
      {
        "duration": 9,
        "start_time": "2022-05-23T16:36:23.570Z"
      },
      {
        "duration": 5,
        "start_time": "2022-05-23T16:36:23.580Z"
      },
      {
        "duration": 38,
        "start_time": "2022-05-23T16:36:23.587Z"
      },
      {
        "duration": 46,
        "start_time": "2022-05-23T16:36:23.626Z"
      },
      {
        "duration": 19,
        "start_time": "2022-05-23T16:36:23.673Z"
      },
      {
        "duration": 8,
        "start_time": "2022-05-23T16:36:23.693Z"
      },
      {
        "duration": 10,
        "start_time": "2022-05-23T16:36:23.702Z"
      },
      {
        "duration": 30,
        "start_time": "2022-05-23T16:36:23.713Z"
      },
      {
        "duration": 90,
        "start_time": "2022-05-23T16:36:23.744Z"
      },
      {
        "duration": 11,
        "start_time": "2022-05-23T16:36:23.836Z"
      },
      {
        "duration": 36,
        "start_time": "2022-05-23T16:36:23.849Z"
      },
      {
        "duration": 57,
        "start_time": "2022-05-23T16:36:23.886Z"
      },
      {
        "duration": 38,
        "start_time": "2022-05-23T16:36:23.945Z"
      },
      {
        "duration": 28,
        "start_time": "2022-05-23T16:36:23.985Z"
      },
      {
        "duration": 10,
        "start_time": "2022-05-23T16:36:24.014Z"
      },
      {
        "duration": 31,
        "start_time": "2022-05-23T16:40:58.575Z"
      },
      {
        "duration": 36,
        "start_time": "2022-05-23T16:41:12.018Z"
      },
      {
        "duration": 31,
        "start_time": "2022-05-23T16:41:27.656Z"
      },
      {
        "duration": 18,
        "start_time": "2022-05-23T16:48:25.118Z"
      },
      {
        "duration": 20,
        "start_time": "2022-05-23T16:49:05.839Z"
      },
      {
        "duration": 89,
        "start_time": "2022-05-23T16:49:45.623Z"
      },
      {
        "duration": 455,
        "start_time": "2022-05-23T16:52:33.273Z"
      },
      {
        "duration": 517,
        "start_time": "2022-05-23T16:52:49.328Z"
      },
      {
        "duration": 60,
        "start_time": "2022-05-23T16:55:46.112Z"
      },
      {
        "duration": 679,
        "start_time": "2022-05-23T16:56:00.555Z"
      },
      {
        "duration": 684,
        "start_time": "2022-05-23T16:56:01.237Z"
      },
      {
        "duration": 462,
        "start_time": "2022-05-23T16:56:01.923Z"
      },
      {
        "duration": 169,
        "start_time": "2022-05-23T16:56:02.386Z"
      },
      {
        "duration": 58,
        "start_time": "2022-05-23T16:56:02.557Z"
      },
      {
        "duration": 77,
        "start_time": "2022-05-23T16:56:02.617Z"
      },
      {
        "duration": 99,
        "start_time": "2022-05-23T16:56:02.696Z"
      },
      {
        "duration": 29,
        "start_time": "2022-05-23T16:56:02.797Z"
      },
      {
        "duration": 80,
        "start_time": "2022-05-23T16:56:02.828Z"
      },
      {
        "duration": 9,
        "start_time": "2022-05-23T16:56:02.910Z"
      },
      {
        "duration": 7,
        "start_time": "2022-05-23T16:56:02.921Z"
      },
      {
        "duration": 55,
        "start_time": "2022-05-23T16:56:02.929Z"
      },
      {
        "duration": 39,
        "start_time": "2022-05-23T16:56:02.985Z"
      },
      {
        "duration": 17,
        "start_time": "2022-05-23T16:56:03.025Z"
      },
      {
        "duration": 22,
        "start_time": "2022-05-23T16:56:03.044Z"
      },
      {
        "duration": 9,
        "start_time": "2022-05-23T16:56:03.069Z"
      },
      {
        "duration": 7,
        "start_time": "2022-05-23T16:56:03.080Z"
      },
      {
        "duration": 94,
        "start_time": "2022-05-23T16:56:03.088Z"
      },
      {
        "duration": 9,
        "start_time": "2022-05-23T16:56:03.183Z"
      },
      {
        "duration": 40,
        "start_time": "2022-05-23T16:56:03.193Z"
      },
      {
        "duration": 68,
        "start_time": "2022-05-23T16:56:03.234Z"
      },
      {
        "duration": 25,
        "start_time": "2022-05-23T16:56:03.303Z"
      },
      {
        "duration": 46,
        "start_time": "2022-05-23T16:56:03.329Z"
      },
      {
        "duration": 10,
        "start_time": "2022-05-23T16:56:03.377Z"
      },
      {
        "duration": 40,
        "start_time": "2022-05-23T16:56:03.388Z"
      },
      {
        "duration": 495,
        "start_time": "2022-05-23T16:56:03.429Z"
      },
      {
        "duration": 90,
        "start_time": "2022-05-23T16:56:03.926Z"
      },
      {
        "duration": 11,
        "start_time": "2022-05-23T16:56:25.631Z"
      },
      {
        "duration": 12,
        "start_time": "2022-05-23T16:57:30.218Z"
      },
      {
        "duration": 2,
        "start_time": "2022-05-23T16:59:39.153Z"
      },
      {
        "duration": 3,
        "start_time": "2022-05-23T16:59:52.645Z"
      },
      {
        "duration": 10,
        "start_time": "2022-05-23T17:01:47.830Z"
      },
      {
        "duration": 646,
        "start_time": "2022-05-23T17:04:13.492Z"
      },
      {
        "duration": 9,
        "start_time": "2022-05-23T17:04:26.769Z"
      },
      {
        "duration": 20,
        "start_time": "2022-05-23T17:04:40.321Z"
      },
      {
        "duration": 10,
        "start_time": "2022-05-23T17:05:20.134Z"
      },
      {
        "duration": 16,
        "start_time": "2022-05-23T17:06:29.992Z"
      },
      {
        "duration": 30,
        "start_time": "2022-05-23T17:06:56.586Z"
      },
      {
        "duration": 27,
        "start_time": "2022-05-23T17:07:44.350Z"
      },
      {
        "duration": 34,
        "start_time": "2022-05-23T17:08:05.031Z"
      },
      {
        "duration": 25,
        "start_time": "2022-05-23T17:08:25.802Z"
      },
      {
        "duration": 29,
        "start_time": "2022-05-23T17:08:53.582Z"
      },
      {
        "duration": 30,
        "start_time": "2022-05-23T17:11:26.374Z"
      },
      {
        "duration": 59,
        "start_time": "2022-05-23T17:11:57.775Z"
      },
      {
        "duration": 727,
        "start_time": "2022-05-23T17:12:38.423Z"
      },
      {
        "duration": 181,
        "start_time": "2022-05-23T17:12:39.152Z"
      },
      {
        "duration": 145,
        "start_time": "2022-05-23T17:12:39.335Z"
      },
      {
        "duration": 100,
        "start_time": "2022-05-23T17:12:39.483Z"
      },
      {
        "duration": 27,
        "start_time": "2022-05-23T17:12:39.585Z"
      },
      {
        "duration": 36,
        "start_time": "2022-05-23T17:12:39.614Z"
      },
      {
        "duration": 103,
        "start_time": "2022-05-23T17:12:39.652Z"
      },
      {
        "duration": 45,
        "start_time": "2022-05-23T17:12:39.760Z"
      },
      {
        "duration": 93,
        "start_time": "2022-05-23T17:12:39.807Z"
      },
      {
        "duration": 13,
        "start_time": "2022-05-23T17:12:39.902Z"
      },
      {
        "duration": 21,
        "start_time": "2022-05-23T17:12:39.917Z"
      },
      {
        "duration": 40,
        "start_time": "2022-05-23T17:12:39.939Z"
      },
      {
        "duration": 49,
        "start_time": "2022-05-23T17:12:39.981Z"
      },
      {
        "duration": 36,
        "start_time": "2022-05-23T17:12:40.034Z"
      },
      {
        "duration": 10,
        "start_time": "2022-05-23T17:12:40.073Z"
      },
      {
        "duration": 8,
        "start_time": "2022-05-23T17:12:40.085Z"
      },
      {
        "duration": 11,
        "start_time": "2022-05-23T17:12:40.096Z"
      },
      {
        "duration": 123,
        "start_time": "2022-05-23T17:12:40.109Z"
      },
      {
        "duration": 11,
        "start_time": "2022-05-23T17:12:40.233Z"
      },
      {
        "duration": 28,
        "start_time": "2022-05-23T17:12:40.260Z"
      },
      {
        "duration": 2,
        "start_time": "2022-05-23T17:12:40.290Z"
      },
      {
        "duration": 15,
        "start_time": "2022-05-23T17:12:40.293Z"
      },
      {
        "duration": 76,
        "start_time": "2022-05-23T17:12:40.310Z"
      },
      {
        "duration": 61,
        "start_time": "2022-05-23T17:13:03.159Z"
      },
      {
        "duration": 138,
        "start_time": "2022-05-23T17:14:32.736Z"
      },
      {
        "duration": 76,
        "start_time": "2022-05-23T17:14:49.556Z"
      },
      {
        "duration": 79,
        "start_time": "2022-05-23T17:15:06.649Z"
      },
      {
        "duration": 82,
        "start_time": "2022-05-23T17:17:41.161Z"
      },
      {
        "duration": 64,
        "start_time": "2022-05-23T17:18:12.123Z"
      },
      {
        "duration": 13,
        "start_time": "2022-05-23T17:18:43.155Z"
      },
      {
        "duration": 63,
        "start_time": "2022-05-23T17:19:06.349Z"
      },
      {
        "duration": 105,
        "start_time": "2022-05-23T17:19:51.197Z"
      },
      {
        "duration": 110,
        "start_time": "2022-05-23T17:20:27.932Z"
      },
      {
        "duration": 94,
        "start_time": "2022-05-23T17:22:07.426Z"
      },
      {
        "duration": 133,
        "start_time": "2022-05-23T17:22:27.298Z"
      },
      {
        "duration": 75,
        "start_time": "2022-05-23T17:23:39.308Z"
      },
      {
        "duration": 35,
        "start_time": "2022-05-23T17:25:13.510Z"
      },
      {
        "duration": 4,
        "start_time": "2022-05-23T17:25:33.511Z"
      },
      {
        "duration": 83,
        "start_time": "2022-05-23T17:25:43.940Z"
      },
      {
        "duration": 107,
        "start_time": "2022-05-23T17:27:53.830Z"
      },
      {
        "duration": 101,
        "start_time": "2022-05-23T17:28:45.473Z"
      },
      {
        "duration": 82,
        "start_time": "2022-05-23T17:29:25.544Z"
      },
      {
        "duration": 79,
        "start_time": "2022-05-23T17:30:26.814Z"
      },
      {
        "duration": 81,
        "start_time": "2022-05-23T17:32:05.510Z"
      },
      {
        "duration": 74,
        "start_time": "2022-05-23T17:33:15.844Z"
      },
      {
        "duration": 19,
        "start_time": "2022-05-23T17:33:23.513Z"
      },
      {
        "duration": 32,
        "start_time": "2022-05-23T17:33:35.089Z"
      },
      {
        "duration": 76,
        "start_time": "2022-05-23T17:33:42.078Z"
      },
      {
        "duration": 19,
        "start_time": "2022-05-23T17:38:09.455Z"
      },
      {
        "duration": 14,
        "start_time": "2022-05-23T17:38:18.878Z"
      },
      {
        "duration": 3,
        "start_time": "2022-05-23T17:39:02.198Z"
      },
      {
        "duration": 12,
        "start_time": "2022-05-23T17:39:14.255Z"
      },
      {
        "duration": 13,
        "start_time": "2022-05-23T17:39:24.753Z"
      },
      {
        "duration": 3,
        "start_time": "2022-05-23T17:42:17.276Z"
      },
      {
        "duration": 12,
        "start_time": "2022-05-23T17:42:28.057Z"
      },
      {
        "duration": 697,
        "start_time": "2022-05-23T17:42:44.142Z"
      },
      {
        "duration": 180,
        "start_time": "2022-05-23T17:42:44.841Z"
      },
      {
        "duration": 151,
        "start_time": "2022-05-23T17:42:45.022Z"
      },
      {
        "duration": 100,
        "start_time": "2022-05-23T17:42:45.175Z"
      },
      {
        "duration": 22,
        "start_time": "2022-05-23T17:42:45.277Z"
      },
      {
        "duration": 33,
        "start_time": "2022-05-23T17:42:45.301Z"
      },
      {
        "duration": 96,
        "start_time": "2022-05-23T17:42:45.336Z"
      },
      {
        "duration": 46,
        "start_time": "2022-05-23T17:42:45.433Z"
      },
      {
        "duration": 63,
        "start_time": "2022-05-23T17:42:45.481Z"
      },
      {
        "duration": 30,
        "start_time": "2022-05-23T17:42:45.546Z"
      },
      {
        "duration": 8,
        "start_time": "2022-05-23T17:42:45.577Z"
      },
      {
        "duration": 46,
        "start_time": "2022-05-23T17:42:45.587Z"
      },
      {
        "duration": 53,
        "start_time": "2022-05-23T17:42:45.634Z"
      },
      {
        "duration": 16,
        "start_time": "2022-05-23T17:42:45.690Z"
      },
      {
        "duration": 5,
        "start_time": "2022-05-23T17:42:45.708Z"
      },
      {
        "duration": 9,
        "start_time": "2022-05-23T17:42:45.714Z"
      },
      {
        "duration": 7,
        "start_time": "2022-05-23T17:42:45.724Z"
      },
      {
        "duration": 107,
        "start_time": "2022-05-23T17:42:45.733Z"
      },
      {
        "duration": 18,
        "start_time": "2022-05-23T17:42:45.842Z"
      },
      {
        "duration": 39,
        "start_time": "2022-05-23T17:42:45.862Z"
      },
      {
        "duration": 77,
        "start_time": "2022-05-23T17:42:45.902Z"
      },
      {
        "duration": 9,
        "start_time": "2022-05-23T17:42:45.980Z"
      },
      {
        "duration": 13,
        "start_time": "2022-05-23T17:45:53.448Z"
      },
      {
        "duration": 3,
        "start_time": "2022-05-23T17:48:09.746Z"
      },
      {
        "duration": 740,
        "start_time": "2022-05-23T17:48:55.357Z"
      },
      {
        "duration": 227,
        "start_time": "2022-05-23T17:48:56.099Z"
      },
      {
        "duration": 169,
        "start_time": "2022-05-23T17:48:56.328Z"
      },
      {
        "duration": 103,
        "start_time": "2022-05-23T17:48:56.499Z"
      },
      {
        "duration": 22,
        "start_time": "2022-05-23T17:48:56.604Z"
      },
      {
        "duration": 62,
        "start_time": "2022-05-23T17:48:56.628Z"
      },
      {
        "duration": 118,
        "start_time": "2022-05-23T17:48:56.692Z"
      },
      {
        "duration": 32,
        "start_time": "2022-05-23T17:48:56.811Z"
      },
      {
        "duration": 104,
        "start_time": "2022-05-23T17:48:56.846Z"
      },
      {
        "duration": 18,
        "start_time": "2022-05-23T17:48:56.952Z"
      },
      {
        "duration": 27,
        "start_time": "2022-05-23T17:48:56.972Z"
      },
      {
        "duration": 43,
        "start_time": "2022-05-23T17:48:57.001Z"
      },
      {
        "duration": 54,
        "start_time": "2022-05-23T17:48:57.046Z"
      },
      {
        "duration": 19,
        "start_time": "2022-05-23T17:48:57.101Z"
      },
      {
        "duration": 16,
        "start_time": "2022-05-23T17:48:57.121Z"
      },
      {
        "duration": 19,
        "start_time": "2022-05-23T17:48:57.138Z"
      },
      {
        "duration": 33,
        "start_time": "2022-05-23T17:48:57.160Z"
      },
      {
        "duration": 128,
        "start_time": "2022-05-23T17:48:57.194Z"
      },
      {
        "duration": 10,
        "start_time": "2022-05-23T17:48:57.324Z"
      },
      {
        "duration": 44,
        "start_time": "2022-05-23T17:48:57.335Z"
      },
      {
        "duration": 63,
        "start_time": "2022-05-23T17:49:01.195Z"
      },
      {
        "duration": 75,
        "start_time": "2022-05-23T17:49:44.095Z"
      },
      {
        "duration": 72,
        "start_time": "2022-05-23T17:50:21.404Z"
      },
      {
        "duration": 81,
        "start_time": "2022-05-23T17:50:48.555Z"
      },
      {
        "duration": 82,
        "start_time": "2022-05-23T17:51:55.442Z"
      },
      {
        "duration": 94,
        "start_time": "2022-05-23T17:52:11.690Z"
      },
      {
        "duration": 84,
        "start_time": "2022-05-23T17:52:38.300Z"
      },
      {
        "duration": 98,
        "start_time": "2022-05-23T17:53:04.243Z"
      },
      {
        "duration": 78,
        "start_time": "2022-05-23T17:53:34.169Z"
      },
      {
        "duration": 90,
        "start_time": "2022-05-23T17:54:44.585Z"
      },
      {
        "duration": 108,
        "start_time": "2022-05-23T17:58:17.845Z"
      },
      {
        "duration": 74,
        "start_time": "2022-05-23T17:59:17.011Z"
      },
      {
        "duration": 77,
        "start_time": "2022-05-23T17:59:30.699Z"
      },
      {
        "duration": 79,
        "start_time": "2022-05-23T17:59:37.001Z"
      },
      {
        "duration": 11,
        "start_time": "2022-05-23T17:59:48.798Z"
      },
      {
        "duration": 10,
        "start_time": "2022-05-23T18:00:13.492Z"
      },
      {
        "duration": 11,
        "start_time": "2022-05-23T18:00:56.738Z"
      },
      {
        "duration": 104,
        "start_time": "2022-05-23T18:01:07.759Z"
      },
      {
        "duration": 70,
        "start_time": "2022-05-23T18:01:23.974Z"
      },
      {
        "duration": 104,
        "start_time": "2022-05-23T18:01:53.326Z"
      },
      {
        "duration": 78,
        "start_time": "2022-05-23T18:02:52.283Z"
      },
      {
        "duration": 70,
        "start_time": "2022-05-23T18:03:18.072Z"
      },
      {
        "duration": 78,
        "start_time": "2022-05-23T18:03:28.413Z"
      },
      {
        "duration": 81,
        "start_time": "2022-05-23T18:03:37.216Z"
      },
      {
        "duration": 76,
        "start_time": "2022-05-23T18:03:47.273Z"
      },
      {
        "duration": 82,
        "start_time": "2022-05-23T18:03:56.327Z"
      },
      {
        "duration": 645,
        "start_time": "2022-05-23T18:04:26.999Z"
      },
      {
        "duration": 190,
        "start_time": "2022-05-23T18:04:27.646Z"
      },
      {
        "duration": 193,
        "start_time": "2022-05-23T18:04:27.838Z"
      },
      {
        "duration": 134,
        "start_time": "2022-05-23T18:04:28.033Z"
      },
      {
        "duration": 32,
        "start_time": "2022-05-23T18:04:28.169Z"
      },
      {
        "duration": 36,
        "start_time": "2022-05-23T18:04:28.203Z"
      },
      {
        "duration": 136,
        "start_time": "2022-05-23T18:04:28.241Z"
      },
      {
        "duration": 35,
        "start_time": "2022-05-23T18:04:28.378Z"
      },
      {
        "duration": 97,
        "start_time": "2022-05-23T18:04:28.414Z"
      },
      {
        "duration": 10,
        "start_time": "2022-05-23T18:04:28.513Z"
      },
      {
        "duration": 7,
        "start_time": "2022-05-23T18:04:28.524Z"
      },
      {
        "duration": 53,
        "start_time": "2022-05-23T18:04:28.532Z"
      },
      {
        "duration": 44,
        "start_time": "2022-05-23T18:04:28.586Z"
      },
      {
        "duration": 41,
        "start_time": "2022-05-23T18:04:28.631Z"
      },
      {
        "duration": 6,
        "start_time": "2022-05-23T18:04:28.673Z"
      },
      {
        "duration": 6,
        "start_time": "2022-05-23T18:04:28.680Z"
      },
      {
        "duration": 9,
        "start_time": "2022-05-23T18:04:28.687Z"
      },
      {
        "duration": 96,
        "start_time": "2022-05-23T18:04:28.697Z"
      },
      {
        "duration": 9,
        "start_time": "2022-05-23T18:04:28.795Z"
      },
      {
        "duration": 28,
        "start_time": "2022-05-23T18:04:28.805Z"
      },
      {
        "duration": 89,
        "start_time": "2022-05-23T18:04:28.835Z"
      },
      {
        "duration": 12,
        "start_time": "2022-05-23T18:04:28.926Z"
      },
      {
        "duration": 6,
        "start_time": "2022-05-23T18:04:28.940Z"
      },
      {
        "duration": 14,
        "start_time": "2022-05-23T18:07:25.455Z"
      },
      {
        "duration": 10,
        "start_time": "2022-05-23T18:21:32.416Z"
      },
      {
        "duration": 704,
        "start_time": "2022-05-23T18:24:57.750Z"
      },
      {
        "duration": 189,
        "start_time": "2022-05-23T18:24:58.455Z"
      },
      {
        "duration": 172,
        "start_time": "2022-05-23T18:24:58.646Z"
      },
      {
        "duration": 109,
        "start_time": "2022-05-23T18:24:58.820Z"
      },
      {
        "duration": 22,
        "start_time": "2022-05-23T18:24:58.930Z"
      },
      {
        "duration": 36,
        "start_time": "2022-05-23T18:24:58.954Z"
      },
      {
        "duration": 115,
        "start_time": "2022-05-23T18:24:58.992Z"
      },
      {
        "duration": 34,
        "start_time": "2022-05-23T18:24:59.108Z"
      },
      {
        "duration": 85,
        "start_time": "2022-05-23T18:24:59.143Z"
      },
      {
        "duration": 11,
        "start_time": "2022-05-23T18:24:59.230Z"
      },
      {
        "duration": 32,
        "start_time": "2022-05-23T18:24:59.242Z"
      },
      {
        "duration": 54,
        "start_time": "2022-05-23T18:24:59.276Z"
      },
      {
        "duration": 49,
        "start_time": "2022-05-23T18:24:59.331Z"
      },
      {
        "duration": 19,
        "start_time": "2022-05-23T18:24:59.381Z"
      },
      {
        "duration": 11,
        "start_time": "2022-05-23T18:24:59.401Z"
      },
      {
        "duration": 37,
        "start_time": "2022-05-23T18:24:59.413Z"
      },
      {
        "duration": 26,
        "start_time": "2022-05-23T18:24:59.452Z"
      },
      {
        "duration": 112,
        "start_time": "2022-05-23T18:24:59.479Z"
      },
      {
        "duration": 8,
        "start_time": "2022-05-23T18:24:59.593Z"
      },
      {
        "duration": 29,
        "start_time": "2022-05-23T18:24:59.603Z"
      },
      {
        "duration": 88,
        "start_time": "2022-05-23T18:24:59.633Z"
      },
      {
        "duration": 11,
        "start_time": "2022-05-23T18:24:59.723Z"
      },
      {
        "duration": 7,
        "start_time": "2022-05-23T18:24:59.736Z"
      },
      {
        "duration": 56,
        "start_time": "2022-05-24T15:43:09.608Z"
      },
      {
        "duration": 850,
        "start_time": "2022-05-24T15:43:31.686Z"
      },
      {
        "duration": 246,
        "start_time": "2022-05-24T15:43:32.538Z"
      },
      {
        "duration": 321,
        "start_time": "2022-05-24T15:43:32.785Z"
      },
      {
        "duration": 317,
        "start_time": "2022-05-24T15:43:33.108Z"
      },
      {
        "duration": 69,
        "start_time": "2022-05-24T15:43:33.427Z"
      },
      {
        "duration": 62,
        "start_time": "2022-05-24T15:43:33.498Z"
      },
      {
        "duration": 116,
        "start_time": "2022-05-24T15:43:33.562Z"
      },
      {
        "duration": 37,
        "start_time": "2022-05-24T15:43:33.679Z"
      },
      {
        "duration": 63,
        "start_time": "2022-05-24T15:43:33.717Z"
      },
      {
        "duration": 20,
        "start_time": "2022-05-24T15:43:33.781Z"
      },
      {
        "duration": 24,
        "start_time": "2022-05-24T15:43:33.802Z"
      },
      {
        "duration": 32,
        "start_time": "2022-05-24T15:43:33.827Z"
      },
      {
        "duration": 49,
        "start_time": "2022-05-24T15:43:33.860Z"
      },
      {
        "duration": 23,
        "start_time": "2022-05-24T15:43:33.911Z"
      },
      {
        "duration": 7,
        "start_time": "2022-05-24T15:43:33.935Z"
      },
      {
        "duration": 13,
        "start_time": "2022-05-24T15:43:33.944Z"
      },
      {
        "duration": 20,
        "start_time": "2022-05-24T15:43:33.959Z"
      },
      {
        "duration": 97,
        "start_time": "2022-05-24T15:43:33.980Z"
      },
      {
        "duration": 16,
        "start_time": "2022-05-24T15:43:34.079Z"
      },
      {
        "duration": 30,
        "start_time": "2022-05-24T15:43:34.096Z"
      },
      {
        "duration": 84,
        "start_time": "2022-05-24T15:43:34.127Z"
      },
      {
        "duration": 10,
        "start_time": "2022-05-24T15:43:34.213Z"
      },
      {
        "duration": 37,
        "start_time": "2022-05-24T15:43:34.225Z"
      },
      {
        "duration": 10,
        "start_time": "2022-05-24T15:43:42.422Z"
      },
      {
        "duration": 8,
        "start_time": "2022-05-24T15:46:59.460Z"
      },
      {
        "duration": 10,
        "start_time": "2022-05-24T15:47:37.860Z"
      },
      {
        "duration": 14,
        "start_time": "2022-05-24T15:48:50.064Z"
      },
      {
        "duration": 9,
        "start_time": "2022-05-24T15:49:50.842Z"
      },
      {
        "duration": 11,
        "start_time": "2022-05-24T15:50:07.927Z"
      },
      {
        "duration": 44,
        "start_time": "2022-05-24T15:50:37.732Z"
      },
      {
        "duration": 104,
        "start_time": "2022-05-24T15:50:46.059Z"
      },
      {
        "duration": 16,
        "start_time": "2022-05-24T15:51:10.387Z"
      },
      {
        "duration": 9,
        "start_time": "2022-05-24T15:51:55.419Z"
      },
      {
        "duration": 10,
        "start_time": "2022-05-24T15:52:53.173Z"
      },
      {
        "duration": 43,
        "start_time": "2022-05-24T15:54:14.297Z"
      },
      {
        "duration": 10,
        "start_time": "2022-05-24T15:54:26.463Z"
      },
      {
        "duration": 39,
        "start_time": "2022-05-24T15:57:29.684Z"
      },
      {
        "duration": 11,
        "start_time": "2022-05-24T15:57:53.223Z"
      },
      {
        "duration": 9,
        "start_time": "2022-05-24T15:58:03.864Z"
      },
      {
        "duration": 10,
        "start_time": "2022-05-24T15:58:28.285Z"
      },
      {
        "duration": 11,
        "start_time": "2022-05-24T15:58:36.259Z"
      },
      {
        "duration": 9,
        "start_time": "2022-05-24T15:59:19.479Z"
      },
      {
        "duration": 8,
        "start_time": "2022-05-24T15:59:56.503Z"
      },
      {
        "duration": 14,
        "start_time": "2022-05-24T16:00:32.504Z"
      },
      {
        "duration": 8,
        "start_time": "2022-05-24T16:07:38.055Z"
      },
      {
        "duration": 9,
        "start_time": "2022-05-24T16:07:56.368Z"
      },
      {
        "duration": 9,
        "start_time": "2022-05-24T16:08:14.117Z"
      },
      {
        "duration": 8,
        "start_time": "2022-05-24T16:08:39.336Z"
      },
      {
        "duration": 17,
        "start_time": "2022-05-24T16:09:54.486Z"
      },
      {
        "duration": 9,
        "start_time": "2022-05-24T16:10:34.709Z"
      },
      {
        "duration": 10,
        "start_time": "2022-05-24T16:11:06.937Z"
      },
      {
        "duration": 9,
        "start_time": "2022-05-24T16:13:36.182Z"
      },
      {
        "duration": 9,
        "start_time": "2022-05-24T16:21:33.111Z"
      },
      {
        "duration": 11,
        "start_time": "2022-05-24T16:21:42.430Z"
      },
      {
        "duration": 8,
        "start_time": "2022-05-24T16:23:32.059Z"
      },
      {
        "duration": 23,
        "start_time": "2022-05-24T16:23:38.685Z"
      },
      {
        "duration": 11,
        "start_time": "2022-05-24T16:23:45.715Z"
      },
      {
        "duration": 8,
        "start_time": "2022-05-24T16:23:50.029Z"
      },
      {
        "duration": 7,
        "start_time": "2022-05-24T16:24:36.537Z"
      },
      {
        "duration": 9,
        "start_time": "2022-05-24T16:24:53.033Z"
      },
      {
        "duration": 8,
        "start_time": "2022-05-24T16:25:07.120Z"
      },
      {
        "duration": 7,
        "start_time": "2022-05-24T16:25:22.984Z"
      },
      {
        "duration": 7,
        "start_time": "2022-05-24T16:25:34.082Z"
      },
      {
        "duration": 9,
        "start_time": "2022-05-24T16:25:55.303Z"
      },
      {
        "duration": 9,
        "start_time": "2022-05-24T16:26:34.276Z"
      },
      {
        "duration": 8,
        "start_time": "2022-05-24T16:26:49.640Z"
      },
      {
        "duration": 10,
        "start_time": "2022-05-24T16:26:53.405Z"
      },
      {
        "duration": 8,
        "start_time": "2022-05-24T16:26:57.861Z"
      },
      {
        "duration": 8,
        "start_time": "2022-05-24T16:27:14.113Z"
      },
      {
        "duration": 8,
        "start_time": "2022-05-24T16:27:18.040Z"
      },
      {
        "duration": 8,
        "start_time": "2022-05-24T16:27:23.137Z"
      },
      {
        "duration": 9,
        "start_time": "2022-05-24T16:27:26.671Z"
      },
      {
        "duration": 8,
        "start_time": "2022-05-24T16:27:37.058Z"
      },
      {
        "duration": 8,
        "start_time": "2022-05-24T16:27:44.879Z"
      },
      {
        "duration": 11,
        "start_time": "2022-05-24T16:27:48.905Z"
      },
      {
        "duration": 9,
        "start_time": "2022-05-24T16:27:53.409Z"
      },
      {
        "duration": 8,
        "start_time": "2022-05-24T16:28:20.911Z"
      },
      {
        "duration": 9,
        "start_time": "2022-05-24T16:28:45.243Z"
      },
      {
        "duration": 11,
        "start_time": "2022-05-24T16:29:03.339Z"
      },
      {
        "duration": 9,
        "start_time": "2022-05-24T16:29:20.869Z"
      },
      {
        "duration": 8,
        "start_time": "2022-05-24T16:29:29.711Z"
      },
      {
        "duration": 9,
        "start_time": "2022-05-24T16:33:13.830Z"
      },
      {
        "duration": 8,
        "start_time": "2022-05-24T16:33:39.925Z"
      },
      {
        "duration": 8,
        "start_time": "2022-05-24T16:34:05.462Z"
      },
      {
        "duration": 9,
        "start_time": "2022-05-24T16:35:12.642Z"
      },
      {
        "duration": 10,
        "start_time": "2022-05-24T16:35:16.415Z"
      },
      {
        "duration": 10,
        "start_time": "2022-05-24T16:35:37.128Z"
      },
      {
        "duration": 35,
        "start_time": "2022-05-24T16:36:22.441Z"
      },
      {
        "duration": 42,
        "start_time": "2022-05-24T16:36:49.446Z"
      },
      {
        "duration": 42,
        "start_time": "2022-05-24T16:37:03.806Z"
      },
      {
        "duration": 56,
        "start_time": "2022-05-24T16:37:26.879Z"
      },
      {
        "duration": 48,
        "start_time": "2022-05-24T16:41:07.965Z"
      },
      {
        "duration": 23,
        "start_time": "2022-05-24T16:41:17.210Z"
      },
      {
        "duration": 8,
        "start_time": "2022-05-24T16:41:39.148Z"
      },
      {
        "duration": 13,
        "start_time": "2022-05-24T16:41:59.662Z"
      },
      {
        "duration": 8,
        "start_time": "2022-05-24T16:42:17.630Z"
      },
      {
        "duration": 11,
        "start_time": "2022-05-24T16:42:24.547Z"
      },
      {
        "duration": 39,
        "start_time": "2022-05-24T16:49:14.815Z"
      },
      {
        "duration": 10,
        "start_time": "2022-05-24T16:49:27.249Z"
      },
      {
        "duration": 14,
        "start_time": "2022-05-24T16:54:13.893Z"
      },
      {
        "duration": 7,
        "start_time": "2022-05-24T17:05:34.446Z"
      },
      {
        "duration": 10,
        "start_time": "2022-05-24T17:06:21.181Z"
      },
      {
        "duration": 8,
        "start_time": "2022-05-24T17:06:42.684Z"
      },
      {
        "duration": 8,
        "start_time": "2022-05-24T17:06:46.716Z"
      },
      {
        "duration": 8,
        "start_time": "2022-05-24T17:07:08.399Z"
      },
      {
        "duration": 9,
        "start_time": "2022-05-24T17:07:38.302Z"
      },
      {
        "duration": 9,
        "start_time": "2022-05-24T17:41:05.712Z"
      },
      {
        "duration": 7,
        "start_time": "2022-05-24T17:41:14.393Z"
      },
      {
        "duration": 8,
        "start_time": "2022-05-24T17:41:23.291Z"
      },
      {
        "duration": 8,
        "start_time": "2022-05-24T17:41:41.749Z"
      },
      {
        "duration": 13,
        "start_time": "2022-05-24T17:45:08.871Z"
      },
      {
        "duration": 10,
        "start_time": "2022-05-24T17:45:18.385Z"
      },
      {
        "duration": 12,
        "start_time": "2022-05-24T17:45:49.313Z"
      },
      {
        "duration": 9,
        "start_time": "2022-05-24T17:45:58.174Z"
      },
      {
        "duration": 13,
        "start_time": "2022-05-24T17:46:07.749Z"
      },
      {
        "duration": 9,
        "start_time": "2022-05-24T17:46:11.838Z"
      },
      {
        "duration": 14,
        "start_time": "2022-05-24T17:46:39.318Z"
      },
      {
        "duration": 14,
        "start_time": "2022-05-24T17:47:14.057Z"
      },
      {
        "duration": 8,
        "start_time": "2022-05-24T17:47:21.937Z"
      },
      {
        "duration": 13,
        "start_time": "2022-05-24T17:47:26.249Z"
      },
      {
        "duration": 8,
        "start_time": "2022-05-24T17:50:05.751Z"
      },
      {
        "duration": 11,
        "start_time": "2022-05-24T17:50:18.526Z"
      },
      {
        "duration": 8,
        "start_time": "2022-05-24T17:51:54.912Z"
      },
      {
        "duration": 8,
        "start_time": "2022-05-24T17:52:39.794Z"
      },
      {
        "duration": 11,
        "start_time": "2022-05-24T17:52:54.395Z"
      },
      {
        "duration": 8,
        "start_time": "2022-05-24T17:52:59.350Z"
      },
      {
        "duration": 12,
        "start_time": "2022-05-24T17:53:14.000Z"
      },
      {
        "duration": 11,
        "start_time": "2022-05-24T17:53:25.121Z"
      },
      {
        "duration": 8,
        "start_time": "2022-05-24T17:53:36.911Z"
      },
      {
        "duration": 10,
        "start_time": "2022-05-24T17:53:47.894Z"
      },
      {
        "duration": 52,
        "start_time": "2022-05-24T17:57:22.394Z"
      },
      {
        "duration": 56,
        "start_time": "2022-05-24T17:57:39.443Z"
      },
      {
        "duration": 57,
        "start_time": "2022-05-24T17:58:48.345Z"
      },
      {
        "duration": 58,
        "start_time": "2022-05-24T17:59:05.525Z"
      },
      {
        "duration": 90,
        "start_time": "2022-05-24T17:59:28.853Z"
      },
      {
        "duration": 68,
        "start_time": "2022-05-24T18:02:26.139Z"
      },
      {
        "duration": 52,
        "start_time": "2022-05-24T18:05:19.313Z"
      },
      {
        "duration": 8,
        "start_time": "2022-05-24T18:18:07.840Z"
      },
      {
        "duration": 8,
        "start_time": "2022-05-24T18:18:15.915Z"
      },
      {
        "duration": 11,
        "start_time": "2022-05-24T18:19:35.833Z"
      },
      {
        "duration": 19,
        "start_time": "2022-05-24T18:20:38.971Z"
      },
      {
        "duration": 14,
        "start_time": "2022-05-24T18:26:01.596Z"
      },
      {
        "duration": 14,
        "start_time": "2022-05-24T18:26:21.920Z"
      },
      {
        "duration": 14,
        "start_time": "2022-05-24T18:28:57.816Z"
      },
      {
        "duration": 151,
        "start_time": "2022-05-24T18:47:28.030Z"
      },
      {
        "duration": 13,
        "start_time": "2022-05-24T18:48:37.409Z"
      },
      {
        "duration": 20,
        "start_time": "2022-05-24T18:49:14.796Z"
      },
      {
        "duration": 9,
        "start_time": "2022-05-24T18:52:23.910Z"
      },
      {
        "duration": 21,
        "start_time": "2022-05-24T18:53:03.402Z"
      },
      {
        "duration": 9,
        "start_time": "2022-05-24T18:53:55.043Z"
      },
      {
        "duration": 16,
        "start_time": "2022-05-24T18:56:09.539Z"
      },
      {
        "duration": 59,
        "start_time": "2022-05-25T16:05:19.234Z"
      },
      {
        "duration": 893,
        "start_time": "2022-05-25T16:05:30.586Z"
      },
      {
        "duration": 594,
        "start_time": "2022-05-25T16:05:31.481Z"
      },
      {
        "duration": 450,
        "start_time": "2022-05-25T16:05:32.076Z"
      },
      {
        "duration": 180,
        "start_time": "2022-05-25T16:05:32.528Z"
      },
      {
        "duration": 58,
        "start_time": "2022-05-25T16:05:32.710Z"
      },
      {
        "duration": 73,
        "start_time": "2022-05-25T16:05:32.769Z"
      },
      {
        "duration": 111,
        "start_time": "2022-05-25T16:05:32.844Z"
      },
      {
        "duration": 32,
        "start_time": "2022-05-25T16:05:32.956Z"
      },
      {
        "duration": 83,
        "start_time": "2022-05-25T16:05:32.989Z"
      },
      {
        "duration": 11,
        "start_time": "2022-05-25T16:05:33.074Z"
      },
      {
        "duration": 6,
        "start_time": "2022-05-25T16:05:33.087Z"
      },
      {
        "duration": 60,
        "start_time": "2022-05-25T16:05:33.094Z"
      },
      {
        "duration": 46,
        "start_time": "2022-05-25T16:05:33.156Z"
      },
      {
        "duration": 30,
        "start_time": "2022-05-25T16:05:33.204Z"
      },
      {
        "duration": 6,
        "start_time": "2022-05-25T16:05:33.236Z"
      },
      {
        "duration": 3,
        "start_time": "2022-05-25T16:05:33.243Z"
      },
      {
        "duration": 8,
        "start_time": "2022-05-25T16:05:33.248Z"
      },
      {
        "duration": 125,
        "start_time": "2022-05-25T16:05:33.258Z"
      },
      {
        "duration": 9,
        "start_time": "2022-05-25T16:05:33.384Z"
      },
      {
        "duration": 65,
        "start_time": "2022-05-25T16:05:33.394Z"
      },
      {
        "duration": 78,
        "start_time": "2022-05-25T16:05:33.461Z"
      },
      {
        "duration": 14,
        "start_time": "2022-05-25T16:05:33.541Z"
      },
      {
        "duration": 11,
        "start_time": "2022-05-25T16:05:33.557Z"
      },
      {
        "duration": 9,
        "start_time": "2022-05-25T16:05:33.570Z"
      },
      {
        "duration": 84,
        "start_time": "2022-05-25T16:05:33.581Z"
      },
      {
        "duration": 17,
        "start_time": "2022-05-25T16:05:33.667Z"
      },
      {
        "duration": 37,
        "start_time": "2022-05-25T16:05:33.685Z"
      },
      {
        "duration": 26,
        "start_time": "2022-05-25T16:05:33.725Z"
      },
      {
        "duration": 85,
        "start_time": "2022-05-25T16:05:33.753Z"
      },
      {
        "duration": 0,
        "start_time": "2022-05-25T16:05:33.839Z"
      },
      {
        "duration": 312,
        "start_time": "2022-05-25T16:05:44.670Z"
      },
      {
        "duration": 587,
        "start_time": "2022-05-25T16:10:44.955Z"
      },
      {
        "duration": 362,
        "start_time": "2022-05-25T16:11:31.307Z"
      },
      {
        "duration": 14,
        "start_time": "2022-05-25T16:12:04.258Z"
      },
      {
        "duration": 654,
        "start_time": "2022-05-25T16:12:25.979Z"
      },
      {
        "duration": 185,
        "start_time": "2022-05-25T16:12:26.635Z"
      },
      {
        "duration": 154,
        "start_time": "2022-05-25T16:12:26.825Z"
      },
      {
        "duration": 112,
        "start_time": "2022-05-25T16:12:26.982Z"
      },
      {
        "duration": 29,
        "start_time": "2022-05-25T16:12:27.096Z"
      },
      {
        "duration": 40,
        "start_time": "2022-05-25T16:12:27.127Z"
      },
      {
        "duration": 127,
        "start_time": "2022-05-25T16:12:27.173Z"
      },
      {
        "duration": 47,
        "start_time": "2022-05-25T16:12:27.302Z"
      },
      {
        "duration": 82,
        "start_time": "2022-05-25T16:12:27.350Z"
      },
      {
        "duration": 12,
        "start_time": "2022-05-25T16:12:27.435Z"
      },
      {
        "duration": 8,
        "start_time": "2022-05-25T16:12:27.449Z"
      },
      {
        "duration": 37,
        "start_time": "2022-05-25T16:12:27.459Z"
      },
      {
        "duration": 60,
        "start_time": "2022-05-25T16:12:27.516Z"
      },
      {
        "duration": 18,
        "start_time": "2022-05-25T16:12:27.578Z"
      },
      {
        "duration": 19,
        "start_time": "2022-05-25T16:12:27.598Z"
      },
      {
        "duration": 3,
        "start_time": "2022-05-25T16:12:27.626Z"
      },
      {
        "duration": 8,
        "start_time": "2022-05-25T16:12:27.631Z"
      },
      {
        "duration": 105,
        "start_time": "2022-05-25T16:12:27.641Z"
      },
      {
        "duration": 10,
        "start_time": "2022-05-25T16:12:27.748Z"
      },
      {
        "duration": 32,
        "start_time": "2022-05-25T16:12:27.760Z"
      },
      {
        "duration": 110,
        "start_time": "2022-05-25T16:12:27.794Z"
      },
      {
        "duration": 25,
        "start_time": "2022-05-25T16:12:27.906Z"
      },
      {
        "duration": 7,
        "start_time": "2022-05-25T16:12:27.933Z"
      },
      {
        "duration": 10,
        "start_time": "2022-05-25T16:12:27.942Z"
      },
      {
        "duration": 111,
        "start_time": "2022-05-25T16:12:27.954Z"
      },
      {
        "duration": 13,
        "start_time": "2022-05-25T16:12:28.067Z"
      },
      {
        "duration": 35,
        "start_time": "2022-05-25T16:12:28.082Z"
      },
      {
        "duration": 16,
        "start_time": "2022-05-25T16:12:28.121Z"
      },
      {
        "duration": 97,
        "start_time": "2022-05-25T16:12:28.138Z"
      },
      {
        "duration": 0,
        "start_time": "2022-05-25T16:12:28.236Z"
      },
      {
        "duration": 12,
        "start_time": "2022-05-25T16:12:49.229Z"
      },
      {
        "duration": 308,
        "start_time": "2022-05-25T16:12:54.849Z"
      },
      {
        "duration": 1803,
        "start_time": "2022-05-25T16:14:58.248Z"
      },
      {
        "duration": 839,
        "start_time": "2022-05-25T16:16:17.821Z"
      },
      {
        "duration": 1004,
        "start_time": "2022-05-25T16:17:13.728Z"
      },
      {
        "duration": 11,
        "start_time": "2022-05-25T16:18:22.679Z"
      },
      {
        "duration": 14,
        "start_time": "2022-05-25T16:18:41.492Z"
      },
      {
        "duration": 798,
        "start_time": "2022-05-26T16:00:49.200Z"
      },
      {
        "duration": 253,
        "start_time": "2022-05-26T16:00:50.000Z"
      },
      {
        "duration": 356,
        "start_time": "2022-05-26T16:00:50.255Z"
      },
      {
        "duration": 628,
        "start_time": "2022-05-26T16:00:50.613Z"
      },
      {
        "duration": 72,
        "start_time": "2022-05-26T16:00:51.243Z"
      },
      {
        "duration": 58,
        "start_time": "2022-05-26T16:00:51.317Z"
      },
      {
        "duration": 109,
        "start_time": "2022-05-26T16:00:51.377Z"
      },
      {
        "duration": 36,
        "start_time": "2022-05-26T16:00:51.489Z"
      },
      {
        "duration": 93,
        "start_time": "2022-05-26T16:00:51.527Z"
      },
      {
        "duration": 11,
        "start_time": "2022-05-26T16:00:51.622Z"
      },
      {
        "duration": 25,
        "start_time": "2022-05-26T16:00:51.634Z"
      },
      {
        "duration": 44,
        "start_time": "2022-05-26T16:00:51.660Z"
      },
      {
        "duration": 46,
        "start_time": "2022-05-26T16:00:51.705Z"
      },
      {
        "duration": 23,
        "start_time": "2022-05-26T16:00:51.753Z"
      },
      {
        "duration": 9,
        "start_time": "2022-05-26T16:00:51.778Z"
      },
      {
        "duration": 18,
        "start_time": "2022-05-26T16:00:51.788Z"
      },
      {
        "duration": 16,
        "start_time": "2022-05-26T16:00:51.808Z"
      },
      {
        "duration": 112,
        "start_time": "2022-05-26T16:00:51.825Z"
      },
      {
        "duration": 10,
        "start_time": "2022-05-26T16:00:51.938Z"
      },
      {
        "duration": 31,
        "start_time": "2022-05-26T16:00:51.959Z"
      },
      {
        "duration": 96,
        "start_time": "2022-05-26T16:00:51.991Z"
      },
      {
        "duration": 15,
        "start_time": "2022-05-26T16:00:52.089Z"
      },
      {
        "duration": 20,
        "start_time": "2022-05-26T16:00:52.106Z"
      },
      {
        "duration": 12,
        "start_time": "2022-05-26T16:00:52.128Z"
      },
      {
        "duration": 92,
        "start_time": "2022-05-26T16:00:52.141Z"
      },
      {
        "duration": 15,
        "start_time": "2022-05-26T16:00:52.234Z"
      },
      {
        "duration": 19,
        "start_time": "2022-05-26T16:00:52.250Z"
      },
      {
        "duration": 20,
        "start_time": "2022-05-26T16:00:52.274Z"
      },
      {
        "duration": 12,
        "start_time": "2022-05-26T16:00:52.296Z"
      },
      {
        "duration": 946,
        "start_time": "2022-05-26T16:00:52.309Z"
      },
      {
        "duration": 12,
        "start_time": "2022-05-26T16:00:53.258Z"
      },
      {
        "duration": 971,
        "start_time": "2022-05-26T16:00:53.272Z"
      },
      {
        "duration": 629,
        "start_time": "2022-05-26T16:14:37.967Z"
      },
      {
        "duration": 1147,
        "start_time": "2022-05-26T16:14:50.240Z"
      },
      {
        "duration": 198,
        "start_time": "2022-05-26T16:14:51.389Z"
      },
      {
        "duration": 155,
        "start_time": "2022-05-26T16:14:51.589Z"
      },
      {
        "duration": 118,
        "start_time": "2022-05-26T16:14:51.746Z"
      },
      {
        "duration": 23,
        "start_time": "2022-05-26T16:14:51.874Z"
      },
      {
        "duration": 33,
        "start_time": "2022-05-26T16:14:51.898Z"
      },
      {
        "duration": 121,
        "start_time": "2022-05-26T16:14:51.933Z"
      },
      {
        "duration": 42,
        "start_time": "2022-05-26T16:14:52.058Z"
      },
      {
        "duration": 93,
        "start_time": "2022-05-26T16:14:52.102Z"
      },
      {
        "duration": 10,
        "start_time": "2022-05-26T16:14:52.198Z"
      },
      {
        "duration": 8,
        "start_time": "2022-05-26T16:14:52.210Z"
      },
      {
        "duration": 58,
        "start_time": "2022-05-26T16:14:52.220Z"
      },
      {
        "duration": 59,
        "start_time": "2022-05-26T16:14:52.281Z"
      },
      {
        "duration": 31,
        "start_time": "2022-05-26T16:14:52.342Z"
      },
      {
        "duration": 7,
        "start_time": "2022-05-26T16:14:52.376Z"
      },
      {
        "duration": 6,
        "start_time": "2022-05-26T16:14:52.384Z"
      },
      {
        "duration": 9,
        "start_time": "2022-05-26T16:14:52.391Z"
      },
      {
        "duration": 127,
        "start_time": "2022-05-26T16:14:52.402Z"
      },
      {
        "duration": 11,
        "start_time": "2022-05-26T16:14:52.531Z"
      },
      {
        "duration": 44,
        "start_time": "2022-05-26T16:14:52.543Z"
      },
      {
        "duration": 85,
        "start_time": "2022-05-26T16:14:52.589Z"
      },
      {
        "duration": 14,
        "start_time": "2022-05-26T16:14:52.676Z"
      },
      {
        "duration": 10,
        "start_time": "2022-05-26T16:14:52.691Z"
      },
      {
        "duration": 12,
        "start_time": "2022-05-26T16:14:52.702Z"
      },
      {
        "duration": 88,
        "start_time": "2022-05-26T16:14:52.715Z"
      },
      {
        "duration": 14,
        "start_time": "2022-05-26T16:14:52.805Z"
      },
      {
        "duration": 15,
        "start_time": "2022-05-26T16:14:52.820Z"
      },
      {
        "duration": 28,
        "start_time": "2022-05-26T16:14:52.859Z"
      },
      {
        "duration": 16,
        "start_time": "2022-05-26T16:14:52.888Z"
      },
      {
        "duration": 986,
        "start_time": "2022-05-26T16:14:52.906Z"
      },
      {
        "duration": 12,
        "start_time": "2022-05-26T16:14:53.893Z"
      },
      {
        "duration": 911,
        "start_time": "2022-05-26T16:14:53.907Z"
      },
      {
        "duration": 7,
        "start_time": "2022-05-26T16:24:25.887Z"
      },
      {
        "duration": 10,
        "start_time": "2022-05-26T16:24:44.576Z"
      },
      {
        "duration": 12,
        "start_time": "2022-05-26T16:25:12.852Z"
      },
      {
        "duration": 5,
        "start_time": "2022-05-26T16:29:52.045Z"
      },
      {
        "duration": 12,
        "start_time": "2022-05-26T16:30:52.270Z"
      },
      {
        "duration": 1091,
        "start_time": "2022-05-26T16:31:16.313Z"
      },
      {
        "duration": 184,
        "start_time": "2022-05-26T16:31:17.406Z"
      },
      {
        "duration": 151,
        "start_time": "2022-05-26T16:31:17.592Z"
      },
      {
        "duration": 99,
        "start_time": "2022-05-26T16:31:17.745Z"
      },
      {
        "duration": 20,
        "start_time": "2022-05-26T16:31:17.845Z"
      },
      {
        "duration": 32,
        "start_time": "2022-05-26T16:31:17.867Z"
      },
      {
        "duration": 112,
        "start_time": "2022-05-26T16:31:17.901Z"
      },
      {
        "duration": 33,
        "start_time": "2022-05-26T16:31:18.015Z"
      },
      {
        "duration": 78,
        "start_time": "2022-05-26T16:31:18.050Z"
      },
      {
        "duration": 28,
        "start_time": "2022-05-26T16:31:18.132Z"
      },
      {
        "duration": 6,
        "start_time": "2022-05-26T16:31:18.161Z"
      },
      {
        "duration": 36,
        "start_time": "2022-05-26T16:31:18.169Z"
      },
      {
        "duration": 76,
        "start_time": "2022-05-26T16:31:18.208Z"
      },
      {
        "duration": 19,
        "start_time": "2022-05-26T16:31:18.285Z"
      },
      {
        "duration": 7,
        "start_time": "2022-05-26T16:31:18.305Z"
      },
      {
        "duration": 11,
        "start_time": "2022-05-26T16:31:18.313Z"
      },
      {
        "duration": 16,
        "start_time": "2022-05-26T16:31:18.326Z"
      },
      {
        "duration": 97,
        "start_time": "2022-05-26T16:31:18.344Z"
      },
      {
        "duration": 17,
        "start_time": "2022-05-26T16:31:18.443Z"
      },
      {
        "duration": 29,
        "start_time": "2022-05-26T16:31:18.461Z"
      },
      {
        "duration": 83,
        "start_time": "2022-05-26T16:31:18.492Z"
      },
      {
        "duration": 14,
        "start_time": "2022-05-26T16:31:18.577Z"
      },
      {
        "duration": 12,
        "start_time": "2022-05-26T16:31:18.592Z"
      },
      {
        "duration": 9,
        "start_time": "2022-05-26T16:31:18.606Z"
      },
      {
        "duration": 88,
        "start_time": "2022-05-26T16:31:18.616Z"
      },
      {
        "duration": 15,
        "start_time": "2022-05-26T16:31:18.706Z"
      },
      {
        "duration": 38,
        "start_time": "2022-05-26T16:31:18.722Z"
      },
      {
        "duration": 21,
        "start_time": "2022-05-26T16:31:18.764Z"
      },
      {
        "duration": 16,
        "start_time": "2022-05-26T16:31:18.787Z"
      },
      {
        "duration": 890,
        "start_time": "2022-05-26T16:31:18.804Z"
      },
      {
        "duration": 11,
        "start_time": "2022-05-26T16:31:19.695Z"
      },
      {
        "duration": 869,
        "start_time": "2022-05-26T16:31:19.708Z"
      },
      {
        "duration": 10,
        "start_time": "2022-05-26T16:31:20.579Z"
      },
      {
        "duration": 10,
        "start_time": "2022-05-26T16:31:50.481Z"
      },
      {
        "duration": 8,
        "start_time": "2022-05-26T16:37:43.667Z"
      },
      {
        "duration": 7,
        "start_time": "2022-05-26T16:37:51.865Z"
      },
      {
        "duration": 8,
        "start_time": "2022-05-26T16:39:43.924Z"
      },
      {
        "duration": 6,
        "start_time": "2022-05-26T16:40:19.687Z"
      },
      {
        "duration": 8,
        "start_time": "2022-05-26T16:40:58.050Z"
      },
      {
        "duration": 13,
        "start_time": "2022-05-26T16:44:16.458Z"
      },
      {
        "duration": 6,
        "start_time": "2022-05-26T16:44:55.575Z"
      },
      {
        "duration": 9,
        "start_time": "2022-05-26T16:46:48.912Z"
      },
      {
        "duration": 7,
        "start_time": "2022-05-26T16:47:04.505Z"
      },
      {
        "duration": 9,
        "start_time": "2022-05-26T16:48:34.848Z"
      },
      {
        "duration": 13,
        "start_time": "2022-05-26T16:48:50.654Z"
      },
      {
        "duration": 6,
        "start_time": "2022-05-26T16:49:10.815Z"
      },
      {
        "duration": 6,
        "start_time": "2022-05-26T16:49:15.404Z"
      },
      {
        "duration": 7,
        "start_time": "2022-05-26T16:49:39.515Z"
      },
      {
        "duration": 7,
        "start_time": "2022-05-26T16:49:55.474Z"
      },
      {
        "duration": 7,
        "start_time": "2022-05-26T16:50:08.790Z"
      },
      {
        "duration": 7,
        "start_time": "2022-05-26T16:50:15.127Z"
      },
      {
        "duration": 7,
        "start_time": "2022-05-26T16:50:28.987Z"
      },
      {
        "duration": 9,
        "start_time": "2022-05-26T16:53:10.108Z"
      },
      {
        "duration": 9,
        "start_time": "2022-05-26T16:53:28.662Z"
      },
      {
        "duration": 10,
        "start_time": "2022-05-26T16:54:41.107Z"
      },
      {
        "duration": 9,
        "start_time": "2022-05-26T16:54:54.986Z"
      },
      {
        "duration": 11,
        "start_time": "2022-05-26T17:11:09.981Z"
      },
      {
        "duration": 16,
        "start_time": "2022-05-26T17:11:17.149Z"
      },
      {
        "duration": 17,
        "start_time": "2022-05-26T17:11:34.789Z"
      },
      {
        "duration": 647,
        "start_time": "2022-05-26T17:14:25.077Z"
      },
      {
        "duration": 31,
        "start_time": "2022-05-26T17:14:48.952Z"
      },
      {
        "duration": 515,
        "start_time": "2022-05-26T17:18:38.795Z"
      },
      {
        "duration": 9,
        "start_time": "2022-05-26T17:20:06.761Z"
      },
      {
        "duration": 16,
        "start_time": "2022-05-26T17:20:18.076Z"
      },
      {
        "duration": 11,
        "start_time": "2022-05-26T17:20:28.353Z"
      },
      {
        "duration": 17,
        "start_time": "2022-05-26T17:20:50.101Z"
      },
      {
        "duration": 13,
        "start_time": "2022-05-26T17:23:21.397Z"
      },
      {
        "duration": 6,
        "start_time": "2022-05-26T17:23:59.797Z"
      },
      {
        "duration": 8,
        "start_time": "2022-05-26T17:24:13.709Z"
      },
      {
        "duration": 13,
        "start_time": "2022-05-26T17:24:24.056Z"
      },
      {
        "duration": 20,
        "start_time": "2022-05-26T17:24:48.255Z"
      },
      {
        "duration": 17,
        "start_time": "2022-05-26T17:25:32.511Z"
      },
      {
        "duration": 18,
        "start_time": "2022-05-26T17:29:13.802Z"
      },
      {
        "duration": 16,
        "start_time": "2022-05-26T17:29:55.858Z"
      },
      {
        "duration": 7,
        "start_time": "2022-05-26T17:30:03.970Z"
      },
      {
        "duration": 1099,
        "start_time": "2022-05-26T17:39:52.801Z"
      },
      {
        "duration": 212,
        "start_time": "2022-05-26T17:39:53.904Z"
      },
      {
        "duration": 185,
        "start_time": "2022-05-26T17:39:54.118Z"
      },
      {
        "duration": 121,
        "start_time": "2022-05-26T17:39:54.305Z"
      },
      {
        "duration": 51,
        "start_time": "2022-05-26T17:39:54.428Z"
      },
      {
        "duration": 45,
        "start_time": "2022-05-26T17:39:54.481Z"
      },
      {
        "duration": 150,
        "start_time": "2022-05-26T17:39:54.529Z"
      },
      {
        "duration": 47,
        "start_time": "2022-05-26T17:39:54.684Z"
      },
      {
        "duration": 90,
        "start_time": "2022-05-26T17:39:54.734Z"
      },
      {
        "duration": 11,
        "start_time": "2022-05-26T17:39:54.828Z"
      },
      {
        "duration": 20,
        "start_time": "2022-05-26T17:39:54.840Z"
      },
      {
        "duration": 59,
        "start_time": "2022-05-26T17:39:54.869Z"
      },
      {
        "duration": 60,
        "start_time": "2022-05-26T17:39:54.930Z"
      },
      {
        "duration": 36,
        "start_time": "2022-05-26T17:39:54.991Z"
      },
      {
        "duration": 8,
        "start_time": "2022-05-26T17:39:55.029Z"
      },
      {
        "duration": 20,
        "start_time": "2022-05-26T17:39:55.039Z"
      },
      {
        "duration": 9,
        "start_time": "2022-05-26T17:39:55.068Z"
      },
      {
        "duration": 116,
        "start_time": "2022-05-26T17:39:55.085Z"
      },
      {
        "duration": 9,
        "start_time": "2022-05-26T17:39:55.204Z"
      },
      {
        "duration": 29,
        "start_time": "2022-05-26T17:39:55.215Z"
      },
      {
        "duration": 94,
        "start_time": "2022-05-26T17:39:55.245Z"
      },
      {
        "duration": 28,
        "start_time": "2022-05-26T17:39:55.341Z"
      },
      {
        "duration": 15,
        "start_time": "2022-05-26T17:39:55.379Z"
      },
      {
        "duration": 13,
        "start_time": "2022-05-26T17:39:55.398Z"
      },
      {
        "duration": 100,
        "start_time": "2022-05-26T17:39:55.413Z"
      },
      {
        "duration": 18,
        "start_time": "2022-05-26T17:39:55.515Z"
      },
      {
        "duration": 43,
        "start_time": "2022-05-26T17:39:55.534Z"
      },
      {
        "duration": 23,
        "start_time": "2022-05-26T17:39:55.581Z"
      },
      {
        "duration": 12,
        "start_time": "2022-05-26T17:39:55.606Z"
      },
      {
        "duration": 992,
        "start_time": "2022-05-26T17:39:55.620Z"
      },
      {
        "duration": 12,
        "start_time": "2022-05-26T17:39:56.614Z"
      },
      {
        "duration": 1152,
        "start_time": "2022-05-26T17:39:56.628Z"
      },
      {
        "duration": 19,
        "start_time": "2022-05-26T17:39:57.782Z"
      },
      {
        "duration": 13,
        "start_time": "2022-05-26T17:39:57.803Z"
      },
      {
        "duration": 1206,
        "start_time": "2022-05-27T13:33:42.421Z"
      },
      {
        "duration": 575,
        "start_time": "2022-05-27T13:33:43.630Z"
      },
      {
        "duration": 454,
        "start_time": "2022-05-27T13:33:44.208Z"
      },
      {
        "duration": 177,
        "start_time": "2022-05-27T13:33:44.664Z"
      },
      {
        "duration": 56,
        "start_time": "2022-05-27T13:33:44.842Z"
      },
      {
        "duration": 65,
        "start_time": "2022-05-27T13:33:44.901Z"
      },
      {
        "duration": 133,
        "start_time": "2022-05-27T13:33:44.968Z"
      },
      {
        "duration": 41,
        "start_time": "2022-05-27T13:33:45.104Z"
      },
      {
        "duration": 97,
        "start_time": "2022-05-27T13:33:45.146Z"
      },
      {
        "duration": 12,
        "start_time": "2022-05-27T13:33:45.246Z"
      },
      {
        "duration": 7,
        "start_time": "2022-05-27T13:33:45.260Z"
      },
      {
        "duration": 63,
        "start_time": "2022-05-27T13:33:45.269Z"
      },
      {
        "duration": 63,
        "start_time": "2022-05-27T13:33:45.334Z"
      },
      {
        "duration": 29,
        "start_time": "2022-05-27T13:33:45.399Z"
      },
      {
        "duration": 8,
        "start_time": "2022-05-27T13:33:45.430Z"
      },
      {
        "duration": 5,
        "start_time": "2022-05-27T13:33:45.439Z"
      },
      {
        "duration": 8,
        "start_time": "2022-05-27T13:33:45.446Z"
      },
      {
        "duration": 144,
        "start_time": "2022-05-27T13:33:45.456Z"
      },
      {
        "duration": 14,
        "start_time": "2022-05-27T13:33:45.605Z"
      },
      {
        "duration": 37,
        "start_time": "2022-05-27T13:33:45.620Z"
      },
      {
        "duration": 97,
        "start_time": "2022-05-27T13:33:45.659Z"
      },
      {
        "duration": 13,
        "start_time": "2022-05-27T13:33:45.757Z"
      },
      {
        "duration": 8,
        "start_time": "2022-05-27T13:33:45.771Z"
      },
      {
        "duration": 20,
        "start_time": "2022-05-27T13:33:45.795Z"
      },
      {
        "duration": 62,
        "start_time": "2022-05-27T13:33:45.816Z"
      },
      {
        "duration": 35,
        "start_time": "2022-05-27T13:33:45.880Z"
      },
      {
        "duration": 15,
        "start_time": "2022-05-27T13:33:45.917Z"
      },
      {
        "duration": 16,
        "start_time": "2022-05-27T13:33:45.935Z"
      },
      {
        "duration": 12,
        "start_time": "2022-05-27T13:33:45.953Z"
      },
      {
        "duration": 1055,
        "start_time": "2022-05-27T13:33:46.001Z"
      },
      {
        "duration": 14,
        "start_time": "2022-05-27T13:33:47.058Z"
      },
      {
        "duration": 1105,
        "start_time": "2022-05-27T13:33:47.074Z"
      },
      {
        "duration": 7,
        "start_time": "2022-05-27T13:33:48.180Z"
      },
      {
        "duration": 17,
        "start_time": "2022-05-27T13:33:48.196Z"
      },
      {
        "duration": 1349,
        "start_time": "2022-05-28T09:54:16.785Z"
      },
      {
        "duration": 718,
        "start_time": "2022-05-28T09:54:18.137Z"
      },
      {
        "duration": 555,
        "start_time": "2022-05-28T09:54:18.857Z"
      },
      {
        "duration": 233,
        "start_time": "2022-05-28T09:54:19.415Z"
      },
      {
        "duration": 83,
        "start_time": "2022-05-28T09:54:19.650Z"
      },
      {
        "duration": 91,
        "start_time": "2022-05-28T09:54:19.743Z"
      },
      {
        "duration": 131,
        "start_time": "2022-05-28T09:54:19.836Z"
      },
      {
        "duration": 35,
        "start_time": "2022-05-28T09:54:19.968Z"
      },
      {
        "duration": 80,
        "start_time": "2022-05-28T09:54:20.008Z"
      },
      {
        "duration": 17,
        "start_time": "2022-05-28T09:54:20.098Z"
      },
      {
        "duration": 23,
        "start_time": "2022-05-28T09:54:20.119Z"
      },
      {
        "duration": 32,
        "start_time": "2022-05-28T09:54:20.144Z"
      },
      {
        "duration": 84,
        "start_time": "2022-05-28T09:54:20.178Z"
      },
      {
        "duration": 26,
        "start_time": "2022-05-28T09:54:20.264Z"
      },
      {
        "duration": 12,
        "start_time": "2022-05-28T09:54:20.292Z"
      },
      {
        "duration": 25,
        "start_time": "2022-05-28T09:54:20.310Z"
      },
      {
        "duration": 8,
        "start_time": "2022-05-28T09:54:20.337Z"
      },
      {
        "duration": 115,
        "start_time": "2022-05-28T09:54:20.347Z"
      },
      {
        "duration": 9,
        "start_time": "2022-05-28T09:54:20.463Z"
      },
      {
        "duration": 60,
        "start_time": "2022-05-28T09:54:20.474Z"
      },
      {
        "duration": 10,
        "start_time": "2022-05-28T09:56:36.356Z"
      },
      {
        "duration": 38,
        "start_time": "2022-05-28T09:57:03.589Z"
      },
      {
        "duration": 1219,
        "start_time": "2022-05-28T09:57:17.956Z"
      },
      {
        "duration": 260,
        "start_time": "2022-05-28T09:57:19.177Z"
      },
      {
        "duration": 206,
        "start_time": "2022-05-28T09:57:19.438Z"
      },
      {
        "duration": 153,
        "start_time": "2022-05-28T09:57:19.647Z"
      },
      {
        "duration": 36,
        "start_time": "2022-05-28T09:57:19.803Z"
      },
      {
        "duration": 57,
        "start_time": "2022-05-28T09:57:19.843Z"
      },
      {
        "duration": 152,
        "start_time": "2022-05-28T09:57:19.902Z"
      },
      {
        "duration": 41,
        "start_time": "2022-05-28T09:57:20.056Z"
      },
      {
        "duration": 102,
        "start_time": "2022-05-28T09:57:20.099Z"
      },
      {
        "duration": 16,
        "start_time": "2022-05-28T09:57:20.206Z"
      },
      {
        "duration": 52,
        "start_time": "2022-05-28T09:57:20.224Z"
      },
      {
        "duration": 94,
        "start_time": "2022-05-28T09:57:20.279Z"
      },
      {
        "duration": 69,
        "start_time": "2022-05-28T09:57:20.375Z"
      },
      {
        "duration": 22,
        "start_time": "2022-05-28T09:57:20.446Z"
      },
      {
        "duration": 21,
        "start_time": "2022-05-28T09:57:20.469Z"
      },
      {
        "duration": 54,
        "start_time": "2022-05-28T09:57:20.492Z"
      },
      {
        "duration": 33,
        "start_time": "2022-05-28T09:57:20.549Z"
      },
      {
        "duration": 133,
        "start_time": "2022-05-28T09:57:20.585Z"
      },
      {
        "duration": 18,
        "start_time": "2022-05-28T09:57:20.720Z"
      },
      {
        "duration": 46,
        "start_time": "2022-05-28T09:57:20.740Z"
      },
      {
        "duration": 17,
        "start_time": "2022-05-28T09:57:26.537Z"
      },
      {
        "duration": 80,
        "start_time": "2022-05-28T10:02:35.833Z"
      },
      {
        "duration": 12,
        "start_time": "2022-05-28T10:05:42.067Z"
      },
      {
        "duration": 8,
        "start_time": "2022-05-28T10:05:55.127Z"
      },
      {
        "duration": 9,
        "start_time": "2022-05-28T10:05:59.656Z"
      },
      {
        "duration": 10,
        "start_time": "2022-05-28T10:12:13.186Z"
      },
      {
        "duration": 4,
        "start_time": "2022-05-28T10:12:38.010Z"
      },
      {
        "duration": 11,
        "start_time": "2022-05-28T10:12:48.913Z"
      },
      {
        "duration": 11,
        "start_time": "2022-05-28T10:12:53.483Z"
      },
      {
        "duration": 8599,
        "start_time": "2022-05-28T10:13:18.748Z"
      },
      {
        "duration": 36,
        "start_time": "2022-05-28T10:14:33.769Z"
      },
      {
        "duration": 38,
        "start_time": "2022-05-28T10:15:41.047Z"
      },
      {
        "duration": 1633,
        "start_time": "2022-05-28T12:32:08.471Z"
      },
      {
        "duration": 278,
        "start_time": "2022-05-28T12:32:10.113Z"
      },
      {
        "duration": 278,
        "start_time": "2022-05-28T12:32:10.392Z"
      },
      {
        "duration": 170,
        "start_time": "2022-05-28T12:32:10.674Z"
      },
      {
        "duration": 35,
        "start_time": "2022-05-28T12:32:10.847Z"
      },
      {
        "duration": 86,
        "start_time": "2022-05-28T12:32:10.884Z"
      },
      {
        "duration": 185,
        "start_time": "2022-05-28T12:32:10.973Z"
      },
      {
        "duration": 36,
        "start_time": "2022-05-28T12:32:11.161Z"
      },
      {
        "duration": 147,
        "start_time": "2022-05-28T12:32:11.199Z"
      },
      {
        "duration": 19,
        "start_time": "2022-05-28T12:32:11.348Z"
      },
      {
        "duration": 8,
        "start_time": "2022-05-28T12:32:11.369Z"
      },
      {
        "duration": 71,
        "start_time": "2022-05-28T12:32:11.380Z"
      },
      {
        "duration": 109,
        "start_time": "2022-05-28T12:32:11.453Z"
      },
      {
        "duration": 21,
        "start_time": "2022-05-28T12:32:11.565Z"
      },
      {
        "duration": 7,
        "start_time": "2022-05-28T12:32:11.588Z"
      },
      {
        "duration": 71,
        "start_time": "2022-05-28T12:32:11.596Z"
      },
      {
        "duration": 18,
        "start_time": "2022-05-28T12:32:11.669Z"
      },
      {
        "duration": 195,
        "start_time": "2022-05-28T12:32:11.689Z"
      },
      {
        "duration": 13,
        "start_time": "2022-05-28T12:32:11.886Z"
      },
      {
        "duration": 107,
        "start_time": "2022-05-28T12:32:11.901Z"
      },
      {
        "duration": 133,
        "start_time": "2022-05-28T12:32:12.016Z"
      },
      {
        "duration": 19,
        "start_time": "2022-05-28T12:32:12.151Z"
      },
      {
        "duration": 58,
        "start_time": "2022-05-28T12:32:17.909Z"
      },
      {
        "duration": 18,
        "start_time": "2022-05-28T12:32:45.221Z"
      },
      {
        "duration": 17,
        "start_time": "2022-05-28T12:39:55.082Z"
      },
      {
        "duration": 14,
        "start_time": "2022-05-28T12:40:12.015Z"
      },
      {
        "duration": 19,
        "start_time": "2022-05-28T12:41:50.776Z"
      },
      {
        "duration": 60,
        "start_time": "2022-05-28T12:43:40.599Z"
      },
      {
        "duration": 166,
        "start_time": "2022-05-28T12:43:53.934Z"
      },
      {
        "duration": 16,
        "start_time": "2022-05-28T12:44:18.092Z"
      },
      {
        "duration": 17,
        "start_time": "2022-05-28T12:45:24.384Z"
      },
      {
        "duration": 16,
        "start_time": "2022-05-28T12:45:39.772Z"
      },
      {
        "duration": 9311,
        "start_time": "2022-05-28T12:46:04.325Z"
      },
      {
        "duration": 4,
        "start_time": "2022-05-28T12:46:58.231Z"
      },
      {
        "duration": 18,
        "start_time": "2022-05-28T12:47:06.894Z"
      },
      {
        "duration": 15,
        "start_time": "2022-05-28T12:47:31.016Z"
      },
      {
        "duration": 20,
        "start_time": "2022-05-28T12:47:43.130Z"
      },
      {
        "duration": 46,
        "start_time": "2022-05-28T12:51:39.343Z"
      },
      {
        "duration": 1217,
        "start_time": "2022-05-28T12:52:18.511Z"
      },
      {
        "duration": 248,
        "start_time": "2022-05-28T12:52:19.730Z"
      },
      {
        "duration": 174,
        "start_time": "2022-05-28T12:52:19.979Z"
      },
      {
        "duration": 139,
        "start_time": "2022-05-28T12:52:20.156Z"
      },
      {
        "duration": 23,
        "start_time": "2022-05-28T12:52:20.297Z"
      },
      {
        "duration": 37,
        "start_time": "2022-05-28T12:52:20.322Z"
      },
      {
        "duration": 140,
        "start_time": "2022-05-28T12:52:20.362Z"
      },
      {
        "duration": 51,
        "start_time": "2022-05-28T12:52:20.504Z"
      },
      {
        "duration": 121,
        "start_time": "2022-05-28T12:52:20.557Z"
      },
      {
        "duration": 22,
        "start_time": "2022-05-28T12:52:20.681Z"
      },
      {
        "duration": 7,
        "start_time": "2022-05-28T12:52:20.704Z"
      },
      {
        "duration": 50,
        "start_time": "2022-05-28T12:52:20.713Z"
      },
      {
        "duration": 90,
        "start_time": "2022-05-28T12:52:20.765Z"
      },
      {
        "duration": 38,
        "start_time": "2022-05-28T12:52:20.857Z"
      },
      {
        "duration": 7,
        "start_time": "2022-05-28T12:52:20.897Z"
      },
      {
        "duration": 9,
        "start_time": "2022-05-28T12:52:20.906Z"
      },
      {
        "duration": 13,
        "start_time": "2022-05-28T12:52:20.917Z"
      },
      {
        "duration": 135,
        "start_time": "2022-05-28T12:52:20.932Z"
      },
      {
        "duration": 14,
        "start_time": "2022-05-28T12:52:21.069Z"
      },
      {
        "duration": 43,
        "start_time": "2022-05-28T12:52:21.084Z"
      },
      {
        "duration": 98,
        "start_time": "2022-05-28T12:52:21.129Z"
      },
      {
        "duration": 18,
        "start_time": "2022-05-28T12:52:21.229Z"
      },
      {
        "duration": 156,
        "start_time": "2022-05-28T12:52:24.239Z"
      },
      {
        "duration": 16,
        "start_time": "2022-05-28T12:52:33.722Z"
      },
      {
        "duration": 19,
        "start_time": "2022-05-28T12:52:44.608Z"
      },
      {
        "duration": 13,
        "start_time": "2022-05-28T12:53:16.374Z"
      },
      {
        "duration": 19,
        "start_time": "2022-05-28T12:54:02.116Z"
      },
      {
        "duration": 12329,
        "start_time": "2022-05-28T12:54:09.819Z"
      },
      {
        "duration": 65,
        "start_time": "2022-05-28T12:55:01.968Z"
      },
      {
        "duration": 20,
        "start_time": "2022-05-28T12:55:49.824Z"
      },
      {
        "duration": 28,
        "start_time": "2022-05-28T13:09:36.420Z"
      },
      {
        "duration": 25,
        "start_time": "2022-05-28T13:11:10.429Z"
      },
      {
        "duration": 27,
        "start_time": "2022-05-28T13:11:40.518Z"
      },
      {
        "duration": 15,
        "start_time": "2022-05-28T13:12:20.914Z"
      },
      {
        "duration": 30,
        "start_time": "2022-05-28T13:13:45.717Z"
      },
      {
        "duration": 15,
        "start_time": "2022-05-28T13:15:13.850Z"
      },
      {
        "duration": 15,
        "start_time": "2022-05-28T13:15:40.840Z"
      },
      {
        "duration": 15,
        "start_time": "2022-05-28T13:16:08.360Z"
      },
      {
        "duration": 11,
        "start_time": "2022-05-28T13:16:31.405Z"
      },
      {
        "duration": 16,
        "start_time": "2022-05-28T13:17:38.212Z"
      },
      {
        "duration": 23,
        "start_time": "2022-05-28T13:17:45.896Z"
      },
      {
        "duration": 11,
        "start_time": "2022-05-28T13:17:54.422Z"
      },
      {
        "duration": 15,
        "start_time": "2022-05-28T13:18:07.218Z"
      },
      {
        "duration": 16,
        "start_time": "2022-05-28T13:18:20.821Z"
      },
      {
        "duration": 16,
        "start_time": "2022-05-28T13:18:40.257Z"
      },
      {
        "duration": 1389,
        "start_time": "2022-05-28T13:19:10.250Z"
      },
      {
        "duration": 231,
        "start_time": "2022-05-28T13:19:11.642Z"
      },
      {
        "duration": 199,
        "start_time": "2022-05-28T13:19:11.876Z"
      },
      {
        "duration": 149,
        "start_time": "2022-05-28T13:19:12.077Z"
      },
      {
        "duration": 36,
        "start_time": "2022-05-28T13:19:12.228Z"
      },
      {
        "duration": 51,
        "start_time": "2022-05-28T13:19:12.267Z"
      },
      {
        "duration": 155,
        "start_time": "2022-05-28T13:19:12.320Z"
      },
      {
        "duration": 63,
        "start_time": "2022-05-28T13:19:12.477Z"
      },
      {
        "duration": 122,
        "start_time": "2022-05-28T13:19:12.546Z"
      },
      {
        "duration": 16,
        "start_time": "2022-05-28T13:19:12.673Z"
      },
      {
        "duration": 12,
        "start_time": "2022-05-28T13:19:12.696Z"
      },
      {
        "duration": 74,
        "start_time": "2022-05-28T13:19:12.711Z"
      },
      {
        "duration": 72,
        "start_time": "2022-05-28T13:19:12.787Z"
      },
      {
        "duration": 42,
        "start_time": "2022-05-28T13:19:12.861Z"
      },
      {
        "duration": 18,
        "start_time": "2022-05-28T13:19:12.905Z"
      },
      {
        "duration": 15,
        "start_time": "2022-05-28T13:19:12.925Z"
      },
      {
        "duration": 10,
        "start_time": "2022-05-28T13:19:12.943Z"
      },
      {
        "duration": 123,
        "start_time": "2022-05-28T13:19:12.955Z"
      },
      {
        "duration": 23,
        "start_time": "2022-05-28T13:19:13.080Z"
      },
      {
        "duration": 52,
        "start_time": "2022-05-28T13:19:13.105Z"
      },
      {
        "duration": 96,
        "start_time": "2022-05-28T13:19:13.159Z"
      },
      {
        "duration": 15,
        "start_time": "2022-05-28T13:19:13.256Z"
      },
      {
        "duration": 36,
        "start_time": "2022-05-28T13:19:13.272Z"
      },
      {
        "duration": 10,
        "start_time": "2022-05-28T13:19:18.928Z"
      },
      {
        "duration": 28,
        "start_time": "2022-05-28T13:20:23.637Z"
      },
      {
        "duration": 19,
        "start_time": "2022-05-28T13:20:51.562Z"
      },
      {
        "duration": 32,
        "start_time": "2022-05-28T13:23:08.750Z"
      },
      {
        "duration": 22,
        "start_time": "2022-05-28T13:23:35.129Z"
      },
      {
        "duration": 13,
        "start_time": "2022-05-28T13:23:41.749Z"
      },
      {
        "duration": 14,
        "start_time": "2022-05-28T13:23:52.723Z"
      },
      {
        "duration": 35,
        "start_time": "2022-05-28T13:25:21.068Z"
      },
      {
        "duration": 17,
        "start_time": "2022-05-28T13:34:29.798Z"
      },
      {
        "duration": 9027,
        "start_time": "2022-05-28T13:34:38.804Z"
      },
      {
        "duration": 14,
        "start_time": "2022-05-28T13:35:05.534Z"
      },
      {
        "duration": 8942,
        "start_time": "2022-05-28T13:35:10.867Z"
      },
      {
        "duration": 9,
        "start_time": "2022-05-28T13:35:32.908Z"
      },
      {
        "duration": 67,
        "start_time": "2022-05-28T13:35:37.011Z"
      },
      {
        "duration": 16,
        "start_time": "2022-05-28T13:35:53.938Z"
      },
      {
        "duration": 18,
        "start_time": "2022-05-28T13:35:57.110Z"
      },
      {
        "duration": 20,
        "start_time": "2022-05-28T13:36:00.145Z"
      },
      {
        "duration": 12,
        "start_time": "2022-05-28T13:36:03.813Z"
      },
      {
        "duration": 932,
        "start_time": "2022-05-28T13:36:32.708Z"
      },
      {
        "duration": 13,
        "start_time": "2022-05-28T13:37:27.697Z"
      },
      {
        "duration": 932,
        "start_time": "2022-05-28T13:37:31.951Z"
      },
      {
        "duration": 9,
        "start_time": "2022-05-28T13:37:49.117Z"
      },
      {
        "duration": 15,
        "start_time": "2022-05-28T13:37:57.831Z"
      },
      {
        "duration": 8,
        "start_time": "2022-05-28T13:53:19.913Z"
      },
      {
        "duration": 27,
        "start_time": "2022-05-28T13:53:45.738Z"
      },
      {
        "duration": 21,
        "start_time": "2022-05-28T13:55:13.603Z"
      },
      {
        "duration": 16,
        "start_time": "2022-05-28T13:55:48.545Z"
      },
      {
        "duration": 22,
        "start_time": "2022-05-28T13:59:01.954Z"
      },
      {
        "duration": 11,
        "start_time": "2022-05-28T14:01:50.090Z"
      },
      {
        "duration": 20,
        "start_time": "2022-05-28T14:02:10.629Z"
      },
      {
        "duration": 30,
        "start_time": "2022-05-28T14:02:26.918Z"
      },
      {
        "duration": 26,
        "start_time": "2022-05-28T14:02:44.293Z"
      },
      {
        "duration": 23,
        "start_time": "2022-05-28T14:08:24.490Z"
      },
      {
        "duration": 21,
        "start_time": "2022-05-28T14:08:59.590Z"
      },
      {
        "duration": 14,
        "start_time": "2022-05-28T14:10:46.020Z"
      },
      {
        "duration": 10,
        "start_time": "2022-05-28T14:11:31.520Z"
      },
      {
        "duration": 9,
        "start_time": "2022-05-28T14:11:55.082Z"
      },
      {
        "duration": 62,
        "start_time": "2022-05-28T14:12:42.389Z"
      },
      {
        "duration": 41,
        "start_time": "2022-05-28T14:12:50.112Z"
      },
      {
        "duration": 15,
        "start_time": "2022-05-28T14:13:29.385Z"
      },
      {
        "duration": 21,
        "start_time": "2022-05-28T14:14:07.793Z"
      },
      {
        "duration": 12,
        "start_time": "2022-05-28T14:14:39.644Z"
      },
      {
        "duration": 15,
        "start_time": "2022-05-28T14:14:46.940Z"
      },
      {
        "duration": 10,
        "start_time": "2022-05-28T14:15:23.917Z"
      },
      {
        "duration": 12,
        "start_time": "2022-05-28T14:16:02.134Z"
      },
      {
        "duration": 1309,
        "start_time": "2022-05-28T14:16:32.233Z"
      },
      {
        "duration": 543,
        "start_time": "2022-05-28T14:16:33.544Z"
      },
      {
        "duration": 199,
        "start_time": "2022-05-28T14:16:34.089Z"
      },
      {
        "duration": 146,
        "start_time": "2022-05-28T14:16:34.290Z"
      },
      {
        "duration": 21,
        "start_time": "2022-05-28T14:16:34.438Z"
      },
      {
        "duration": 30,
        "start_time": "2022-05-28T14:16:34.461Z"
      },
      {
        "duration": 154,
        "start_time": "2022-05-28T14:16:34.493Z"
      },
      {
        "duration": 34,
        "start_time": "2022-05-28T14:16:34.648Z"
      },
      {
        "duration": 101,
        "start_time": "2022-05-28T14:16:34.684Z"
      },
      {
        "duration": 18,
        "start_time": "2022-05-28T14:16:34.788Z"
      },
      {
        "duration": 37,
        "start_time": "2022-05-28T14:16:34.808Z"
      },
      {
        "duration": 35,
        "start_time": "2022-05-28T14:16:34.847Z"
      },
      {
        "duration": 70,
        "start_time": "2022-05-28T14:16:34.883Z"
      },
      {
        "duration": 25,
        "start_time": "2022-05-28T14:16:34.955Z"
      },
      {
        "duration": 6,
        "start_time": "2022-05-28T14:16:34.982Z"
      },
      {
        "duration": 4,
        "start_time": "2022-05-28T14:16:34.994Z"
      },
      {
        "duration": 17,
        "start_time": "2022-05-28T14:16:34.999Z"
      },
      {
        "duration": 136,
        "start_time": "2022-05-28T14:16:35.020Z"
      },
      {
        "duration": 11,
        "start_time": "2022-05-28T14:16:35.158Z"
      },
      {
        "duration": 69,
        "start_time": "2022-05-28T14:16:35.171Z"
      },
      {
        "duration": 128,
        "start_time": "2022-05-28T14:16:35.243Z"
      },
      {
        "duration": 14,
        "start_time": "2022-05-28T14:16:35.373Z"
      },
      {
        "duration": 61,
        "start_time": "2022-05-28T14:16:35.389Z"
      },
      {
        "duration": 16,
        "start_time": "2022-05-28T14:16:35.453Z"
      },
      {
        "duration": 101,
        "start_time": "2022-05-28T14:16:35.471Z"
      },
      {
        "duration": 16,
        "start_time": "2022-05-28T14:16:35.574Z"
      },
      {
        "duration": 16,
        "start_time": "2022-05-28T14:16:40.870Z"
      },
      {
        "duration": 24,
        "start_time": "2022-05-28T14:16:46.985Z"
      },
      {
        "duration": 10,
        "start_time": "2022-05-28T14:17:11.734Z"
      },
      {
        "duration": 13,
        "start_time": "2022-05-28T14:17:21.462Z"
      },
      {
        "duration": 15,
        "start_time": "2022-05-28T14:17:29.969Z"
      },
      {
        "duration": 1501,
        "start_time": "2022-05-28T14:17:46.550Z"
      },
      {
        "duration": 305,
        "start_time": "2022-05-28T14:17:48.054Z"
      },
      {
        "duration": 192,
        "start_time": "2022-05-28T14:17:48.362Z"
      },
      {
        "duration": 123,
        "start_time": "2022-05-28T14:17:48.557Z"
      },
      {
        "duration": 37,
        "start_time": "2022-05-28T14:17:48.682Z"
      },
      {
        "duration": 41,
        "start_time": "2022-05-28T14:17:48.721Z"
      },
      {
        "duration": 141,
        "start_time": "2022-05-28T14:17:48.764Z"
      },
      {
        "duration": 45,
        "start_time": "2022-05-28T14:17:48.907Z"
      },
      {
        "duration": 107,
        "start_time": "2022-05-28T14:17:48.954Z"
      },
      {
        "duration": 16,
        "start_time": "2022-05-28T14:17:49.065Z"
      },
      {
        "duration": 18,
        "start_time": "2022-05-28T14:17:49.083Z"
      },
      {
        "duration": 84,
        "start_time": "2022-05-28T14:17:49.103Z"
      },
      {
        "duration": 85,
        "start_time": "2022-05-28T14:17:49.190Z"
      },
      {
        "duration": 31,
        "start_time": "2022-05-28T14:17:49.278Z"
      },
      {
        "duration": 27,
        "start_time": "2022-05-28T14:17:49.318Z"
      },
      {
        "duration": 11,
        "start_time": "2022-05-28T14:17:49.347Z"
      },
      {
        "duration": 18,
        "start_time": "2022-05-28T14:17:49.360Z"
      },
      {
        "duration": 160,
        "start_time": "2022-05-28T14:17:49.380Z"
      },
      {
        "duration": 14,
        "start_time": "2022-05-28T14:17:49.543Z"
      },
      {
        "duration": 52,
        "start_time": "2022-05-28T14:17:49.559Z"
      },
      {
        "duration": 132,
        "start_time": "2022-05-28T14:17:49.617Z"
      },
      {
        "duration": 20,
        "start_time": "2022-05-28T14:17:49.751Z"
      },
      {
        "duration": 42,
        "start_time": "2022-05-28T14:17:49.774Z"
      },
      {
        "duration": 33,
        "start_time": "2022-05-28T14:17:49.818Z"
      },
      {
        "duration": 111,
        "start_time": "2022-05-28T14:17:49.854Z"
      },
      {
        "duration": 15,
        "start_time": "2022-05-28T14:17:49.967Z"
      },
      {
        "duration": 20,
        "start_time": "2022-05-28T14:17:49.984Z"
      },
      {
        "duration": 31,
        "start_time": "2022-05-28T14:18:13.580Z"
      },
      {
        "duration": 11,
        "start_time": "2022-05-28T14:19:12.320Z"
      },
      {
        "duration": 1170,
        "start_time": "2022-05-28T14:19:40.663Z"
      },
      {
        "duration": 223,
        "start_time": "2022-05-28T14:19:41.835Z"
      },
      {
        "duration": 188,
        "start_time": "2022-05-28T14:19:42.060Z"
      },
      {
        "duration": 150,
        "start_time": "2022-05-28T14:19:42.251Z"
      },
      {
        "duration": 34,
        "start_time": "2022-05-28T14:19:42.403Z"
      },
      {
        "duration": 40,
        "start_time": "2022-05-28T14:19:42.440Z"
      },
      {
        "duration": 167,
        "start_time": "2022-05-28T14:19:42.483Z"
      },
      {
        "duration": 51,
        "start_time": "2022-05-28T14:19:42.651Z"
      },
      {
        "duration": 122,
        "start_time": "2022-05-28T14:19:42.704Z"
      },
      {
        "duration": 16,
        "start_time": "2022-05-28T14:19:42.830Z"
      },
      {
        "duration": 11,
        "start_time": "2022-05-28T14:19:42.848Z"
      },
      {
        "duration": 74,
        "start_time": "2022-05-28T14:19:42.861Z"
      },
      {
        "duration": 94,
        "start_time": "2022-05-28T14:19:42.937Z"
      },
      {
        "duration": 35,
        "start_time": "2022-05-28T14:19:43.033Z"
      },
      {
        "duration": 34,
        "start_time": "2022-05-28T14:19:43.070Z"
      },
      {
        "duration": 6,
        "start_time": "2022-05-28T14:19:43.110Z"
      },
      {
        "duration": 15,
        "start_time": "2022-05-28T14:19:43.117Z"
      },
      {
        "duration": 105,
        "start_time": "2022-05-28T14:19:43.134Z"
      },
      {
        "duration": 12,
        "start_time": "2022-05-28T14:19:43.241Z"
      },
      {
        "duration": 63,
        "start_time": "2022-05-28T14:19:43.256Z"
      },
      {
        "duration": 100,
        "start_time": "2022-05-28T14:19:43.321Z"
      },
      {
        "duration": 15,
        "start_time": "2022-05-28T14:19:43.423Z"
      },
      {
        "duration": 13,
        "start_time": "2022-05-28T14:19:43.439Z"
      },
      {
        "duration": 44,
        "start_time": "2022-05-28T14:19:43.453Z"
      },
      {
        "duration": 112,
        "start_time": "2022-05-28T14:19:43.505Z"
      },
      {
        "duration": 15,
        "start_time": "2022-05-28T14:19:43.619Z"
      },
      {
        "duration": 19,
        "start_time": "2022-05-28T14:19:43.636Z"
      },
      {
        "duration": 6,
        "start_time": "2022-05-28T14:19:48.188Z"
      },
      {
        "duration": 13,
        "start_time": "2022-05-28T14:19:50.731Z"
      },
      {
        "duration": 16,
        "start_time": "2022-05-28T14:20:04.289Z"
      },
      {
        "duration": 5,
        "start_time": "2022-05-28T14:20:28.072Z"
      },
      {
        "duration": 18,
        "start_time": "2022-05-28T14:20:31.860Z"
      },
      {
        "duration": 1160,
        "start_time": "2022-05-28T14:21:47.615Z"
      },
      {
        "duration": 221,
        "start_time": "2022-05-28T14:21:48.778Z"
      },
      {
        "duration": 188,
        "start_time": "2022-05-28T14:21:49.001Z"
      },
      {
        "duration": 148,
        "start_time": "2022-05-28T14:21:49.192Z"
      },
      {
        "duration": 30,
        "start_time": "2022-05-28T14:21:49.342Z"
      },
      {
        "duration": 41,
        "start_time": "2022-05-28T14:21:49.374Z"
      },
      {
        "duration": 145,
        "start_time": "2022-05-28T14:21:49.417Z"
      },
      {
        "duration": 65,
        "start_time": "2022-05-28T14:21:49.564Z"
      },
      {
        "duration": 99,
        "start_time": "2022-05-28T14:21:49.631Z"
      },
      {
        "duration": 13,
        "start_time": "2022-05-28T14:21:49.733Z"
      },
      {
        "duration": 16,
        "start_time": "2022-05-28T14:21:49.748Z"
      },
      {
        "duration": 50,
        "start_time": "2022-05-28T14:21:49.767Z"
      },
      {
        "duration": 100,
        "start_time": "2022-05-28T14:21:49.820Z"
      },
      {
        "duration": 31,
        "start_time": "2022-05-28T14:21:49.922Z"
      },
      {
        "duration": 8,
        "start_time": "2022-05-28T14:21:49.956Z"
      },
      {
        "duration": 31,
        "start_time": "2022-05-28T14:21:49.966Z"
      },
      {
        "duration": 15,
        "start_time": "2022-05-28T14:21:49.999Z"
      },
      {
        "duration": 135,
        "start_time": "2022-05-28T14:21:50.016Z"
      },
      {
        "duration": 11,
        "start_time": "2022-05-28T14:21:50.153Z"
      },
      {
        "duration": 61,
        "start_time": "2022-05-28T14:21:50.165Z"
      },
      {
        "duration": 103,
        "start_time": "2022-05-28T14:21:50.228Z"
      },
      {
        "duration": 15,
        "start_time": "2022-05-28T14:21:50.333Z"
      },
      {
        "duration": 23,
        "start_time": "2022-05-28T14:21:50.351Z"
      },
      {
        "duration": 29,
        "start_time": "2022-05-28T14:21:50.376Z"
      },
      {
        "duration": 102,
        "start_time": "2022-05-28T14:21:50.407Z"
      },
      {
        "duration": 15,
        "start_time": "2022-05-28T14:21:50.511Z"
      },
      {
        "duration": 39,
        "start_time": "2022-05-28T14:21:50.528Z"
      },
      {
        "duration": 817,
        "start_time": "2022-05-28T14:22:45.117Z"
      },
      {
        "duration": 4,
        "start_time": "2022-05-28T14:23:08.906Z"
      },
      {
        "duration": 18,
        "start_time": "2022-05-28T14:23:37.088Z"
      },
      {
        "duration": 6,
        "start_time": "2022-05-28T14:23:46.185Z"
      },
      {
        "duration": 12,
        "start_time": "2022-05-28T14:23:49.290Z"
      },
      {
        "duration": 1229,
        "start_time": "2022-05-28T14:24:18.616Z"
      },
      {
        "duration": 259,
        "start_time": "2022-05-28T14:24:19.847Z"
      },
      {
        "duration": 175,
        "start_time": "2022-05-28T14:24:20.108Z"
      },
      {
        "duration": 123,
        "start_time": "2022-05-28T14:24:20.287Z"
      },
      {
        "duration": 29,
        "start_time": "2022-05-28T14:24:20.413Z"
      },
      {
        "duration": 43,
        "start_time": "2022-05-28T14:24:20.445Z"
      },
      {
        "duration": 136,
        "start_time": "2022-05-28T14:24:20.490Z"
      },
      {
        "duration": 34,
        "start_time": "2022-05-28T14:24:20.628Z"
      },
      {
        "duration": 101,
        "start_time": "2022-05-28T14:24:20.665Z"
      },
      {
        "duration": 26,
        "start_time": "2022-05-28T14:24:20.770Z"
      },
      {
        "duration": 9,
        "start_time": "2022-05-28T14:24:20.799Z"
      },
      {
        "duration": 52,
        "start_time": "2022-05-28T14:24:20.810Z"
      },
      {
        "duration": 105,
        "start_time": "2022-05-28T14:24:20.864Z"
      },
      {
        "duration": 51,
        "start_time": "2022-05-28T14:24:20.971Z"
      },
      {
        "duration": 8,
        "start_time": "2022-05-28T14:24:21.025Z"
      },
      {
        "duration": 27,
        "start_time": "2022-05-28T14:24:21.035Z"
      },
      {
        "duration": 10,
        "start_time": "2022-05-28T14:24:21.064Z"
      },
      {
        "duration": 110,
        "start_time": "2022-05-28T14:24:21.076Z"
      },
      {
        "duration": 13,
        "start_time": "2022-05-28T14:24:21.188Z"
      },
      {
        "duration": 36,
        "start_time": "2022-05-28T14:24:21.203Z"
      },
      {
        "duration": 109,
        "start_time": "2022-05-28T14:24:21.240Z"
      },
      {
        "duration": 15,
        "start_time": "2022-05-28T14:24:21.351Z"
      },
      {
        "duration": 34,
        "start_time": "2022-05-28T14:24:21.368Z"
      },
      {
        "duration": 15,
        "start_time": "2022-05-28T14:24:21.404Z"
      },
      {
        "duration": 131,
        "start_time": "2022-05-28T14:24:21.421Z"
      },
      {
        "duration": 16,
        "start_time": "2022-05-28T14:24:21.554Z"
      },
      {
        "duration": 34,
        "start_time": "2022-05-28T14:24:21.572Z"
      },
      {
        "duration": 6,
        "start_time": "2022-05-28T14:24:21.610Z"
      },
      {
        "duration": 25,
        "start_time": "2022-05-28T14:24:21.618Z"
      },
      {
        "duration": 26,
        "start_time": "2022-05-28T14:24:21.645Z"
      },
      {
        "duration": 38,
        "start_time": "2022-05-28T14:24:21.673Z"
      },
      {
        "duration": 23,
        "start_time": "2022-05-28T14:25:43.982Z"
      },
      {
        "duration": 19,
        "start_time": "2022-05-28T14:25:50.403Z"
      },
      {
        "duration": 1069,
        "start_time": "2022-05-28T14:26:35.322Z"
      },
      {
        "duration": 195,
        "start_time": "2022-05-28T14:26:36.395Z"
      },
      {
        "duration": 173,
        "start_time": "2022-05-28T14:26:36.594Z"
      },
      {
        "duration": 109,
        "start_time": "2022-05-28T14:26:36.769Z"
      },
      {
        "duration": 30,
        "start_time": "2022-05-28T14:26:36.880Z"
      },
      {
        "duration": 41,
        "start_time": "2022-05-28T14:26:36.912Z"
      },
      {
        "duration": 120,
        "start_time": "2022-05-28T14:26:36.956Z"
      },
      {
        "duration": 38,
        "start_time": "2022-05-28T14:26:37.078Z"
      },
      {
        "duration": 94,
        "start_time": "2022-05-28T14:26:37.118Z"
      },
      {
        "duration": 17,
        "start_time": "2022-05-28T14:26:37.216Z"
      },
      {
        "duration": 8,
        "start_time": "2022-05-28T14:26:37.235Z"
      },
      {
        "duration": 67,
        "start_time": "2022-05-28T14:26:37.246Z"
      },
      {
        "duration": 94,
        "start_time": "2022-05-28T14:26:37.315Z"
      },
      {
        "duration": 30,
        "start_time": "2022-05-28T14:26:37.411Z"
      },
      {
        "duration": 8,
        "start_time": "2022-05-28T14:26:37.443Z"
      },
      {
        "duration": 19,
        "start_time": "2022-05-28T14:26:37.453Z"
      },
      {
        "duration": 24,
        "start_time": "2022-05-28T14:26:37.475Z"
      },
      {
        "duration": 129,
        "start_time": "2022-05-28T14:26:37.501Z"
      },
      {
        "duration": 14,
        "start_time": "2022-05-28T14:26:37.633Z"
      },
      {
        "duration": 86,
        "start_time": "2022-05-28T14:26:37.649Z"
      },
      {
        "duration": 157,
        "start_time": "2022-05-28T14:26:37.737Z"
      },
      {
        "duration": 17,
        "start_time": "2022-05-28T14:26:37.898Z"
      },
      {
        "duration": 18,
        "start_time": "2022-05-28T14:26:37.917Z"
      },
      {
        "duration": 14,
        "start_time": "2022-05-28T14:26:37.937Z"
      },
      {
        "duration": 128,
        "start_time": "2022-05-28T14:26:37.953Z"
      },
      {
        "duration": 24,
        "start_time": "2022-05-28T14:26:38.084Z"
      },
      {
        "duration": 27,
        "start_time": "2022-05-28T14:26:38.110Z"
      },
      {
        "duration": 5,
        "start_time": "2022-05-28T14:26:38.142Z"
      },
      {
        "duration": 19,
        "start_time": "2022-05-28T14:26:38.149Z"
      },
      {
        "duration": 50,
        "start_time": "2022-05-28T14:26:38.170Z"
      },
      {
        "duration": 33,
        "start_time": "2022-05-28T14:26:38.223Z"
      },
      {
        "duration": 18,
        "start_time": "2022-05-28T14:26:42.661Z"
      },
      {
        "duration": 17,
        "start_time": "2022-05-28T14:26:49.842Z"
      },
      {
        "duration": 1381,
        "start_time": "2022-05-28T14:26:55.277Z"
      },
      {
        "duration": 23,
        "start_time": "2022-05-28T14:27:00.718Z"
      },
      {
        "duration": 1504,
        "start_time": "2022-05-28T14:27:04.215Z"
      },
      {
        "duration": 886,
        "start_time": "2022-05-28T14:28:34.289Z"
      },
      {
        "duration": 1141,
        "start_time": "2022-05-28T14:28:40.793Z"
      },
      {
        "duration": 866,
        "start_time": "2022-05-28T14:28:49.367Z"
      },
      {
        "duration": 1011,
        "start_time": "2022-05-28T14:29:00.418Z"
      },
      {
        "duration": 13,
        "start_time": "2022-05-28T14:29:18.818Z"
      },
      {
        "duration": 21,
        "start_time": "2022-05-28T14:29:33.421Z"
      },
      {
        "duration": 523,
        "start_time": "2022-05-28T14:46:32.228Z"
      },
      {
        "duration": 375,
        "start_time": "2022-05-28T14:48:36.555Z"
      },
      {
        "duration": 23,
        "start_time": "2022-05-28T14:53:50.114Z"
      },
      {
        "duration": 19,
        "start_time": "2022-05-28T14:54:19.855Z"
      },
      {
        "duration": 54,
        "start_time": "2022-05-28T14:56:12.820Z"
      },
      {
        "duration": 1497,
        "start_time": "2022-05-28T14:56:37.145Z"
      },
      {
        "duration": 243,
        "start_time": "2022-05-28T14:56:38.649Z"
      },
      {
        "duration": 276,
        "start_time": "2022-05-28T14:56:38.915Z"
      },
      {
        "duration": 148,
        "start_time": "2022-05-28T14:56:39.193Z"
      },
      {
        "duration": 32,
        "start_time": "2022-05-28T14:56:39.344Z"
      },
      {
        "duration": 53,
        "start_time": "2022-05-28T14:56:39.377Z"
      },
      {
        "duration": 129,
        "start_time": "2022-05-28T14:56:39.432Z"
      },
      {
        "duration": 53,
        "start_time": "2022-05-28T14:56:39.564Z"
      },
      {
        "duration": 85,
        "start_time": "2022-05-28T14:56:39.618Z"
      },
      {
        "duration": 18,
        "start_time": "2022-05-28T14:56:39.712Z"
      },
      {
        "duration": 9,
        "start_time": "2022-05-28T14:56:39.732Z"
      },
      {
        "duration": 33,
        "start_time": "2022-05-28T14:56:39.743Z"
      },
      {
        "duration": 73,
        "start_time": "2022-05-28T14:56:39.778Z"
      },
      {
        "duration": 21,
        "start_time": "2022-05-28T14:56:39.854Z"
      },
      {
        "duration": 12,
        "start_time": "2022-05-28T14:56:39.896Z"
      },
      {
        "duration": 21,
        "start_time": "2022-05-28T14:56:39.910Z"
      },
      {
        "duration": 8,
        "start_time": "2022-05-28T14:56:39.933Z"
      },
      {
        "duration": 110,
        "start_time": "2022-05-28T14:56:39.943Z"
      },
      {
        "duration": 14,
        "start_time": "2022-05-28T14:56:40.055Z"
      },
      {
        "duration": 54,
        "start_time": "2022-05-28T14:56:40.071Z"
      },
      {
        "duration": 104,
        "start_time": "2022-05-28T14:56:40.127Z"
      },
      {
        "duration": 21,
        "start_time": "2022-05-28T14:56:40.237Z"
      },
      {
        "duration": 19,
        "start_time": "2022-05-28T14:56:46.619Z"
      },
      {
        "duration": 54,
        "start_time": "2022-05-28T14:57:26.192Z"
      },
      {
        "duration": 1219,
        "start_time": "2022-05-28T14:57:45.877Z"
      },
      {
        "duration": 221,
        "start_time": "2022-05-28T14:57:47.097Z"
      },
      {
        "duration": 213,
        "start_time": "2022-05-28T14:57:47.320Z"
      },
      {
        "duration": 100,
        "start_time": "2022-05-28T14:57:47.535Z"
      },
      {
        "duration": 22,
        "start_time": "2022-05-28T14:57:47.637Z"
      },
      {
        "duration": 48,
        "start_time": "2022-05-28T14:57:47.661Z"
      },
      {
        "duration": 122,
        "start_time": "2022-05-28T14:57:47.710Z"
      },
      {
        "duration": 33,
        "start_time": "2022-05-28T14:57:47.834Z"
      },
      {
        "duration": 90,
        "start_time": "2022-05-28T14:57:47.869Z"
      },
      {
        "duration": 10,
        "start_time": "2022-05-28T14:57:47.962Z"
      },
      {
        "duration": 21,
        "start_time": "2022-05-28T14:57:47.974Z"
      },
      {
        "duration": 34,
        "start_time": "2022-05-28T14:57:47.996Z"
      },
      {
        "duration": 65,
        "start_time": "2022-05-28T14:57:48.031Z"
      },
      {
        "duration": 19,
        "start_time": "2022-05-28T14:57:48.098Z"
      },
      {
        "duration": 7,
        "start_time": "2022-05-28T14:57:48.119Z"
      },
      {
        "duration": 3,
        "start_time": "2022-05-28T14:57:48.128Z"
      },
      {
        "duration": 11,
        "start_time": "2022-05-28T14:57:48.133Z"
      },
      {
        "duration": 120,
        "start_time": "2022-05-28T14:57:48.146Z"
      },
      {
        "duration": 10,
        "start_time": "2022-05-28T14:57:48.268Z"
      },
      {
        "duration": 44,
        "start_time": "2022-05-28T14:57:48.279Z"
      },
      {
        "duration": 92,
        "start_time": "2022-05-28T14:57:48.325Z"
      },
      {
        "duration": 16,
        "start_time": "2022-05-28T14:57:48.418Z"
      },
      {
        "duration": 15,
        "start_time": "2022-05-28T14:57:48.435Z"
      },
      {
        "duration": 11,
        "start_time": "2022-05-28T14:57:48.452Z"
      },
      {
        "duration": 86,
        "start_time": "2022-05-28T14:57:48.464Z"
      },
      {
        "duration": 11,
        "start_time": "2022-05-28T14:57:48.552Z"
      },
      {
        "duration": 36,
        "start_time": "2022-05-28T14:57:48.565Z"
      },
      {
        "duration": 4,
        "start_time": "2022-05-28T14:57:48.604Z"
      },
      {
        "duration": 15,
        "start_time": "2022-05-28T14:57:48.610Z"
      },
      {
        "duration": 19,
        "start_time": "2022-05-28T14:57:48.627Z"
      },
      {
        "duration": 54,
        "start_time": "2022-05-28T14:57:48.649Z"
      },
      {
        "duration": 20,
        "start_time": "2022-05-28T14:57:48.704Z"
      },
      {
        "duration": 12,
        "start_time": "2022-05-28T14:57:48.725Z"
      },
      {
        "duration": 854,
        "start_time": "2022-05-28T14:57:48.738Z"
      },
      {
        "duration": 14,
        "start_time": "2022-05-28T14:57:49.594Z"
      },
      {
        "duration": 822,
        "start_time": "2022-05-28T14:57:49.609Z"
      },
      {
        "duration": 7,
        "start_time": "2022-05-28T14:57:50.433Z"
      },
      {
        "duration": 15,
        "start_time": "2022-05-28T14:57:50.442Z"
      },
      {
        "duration": 1056,
        "start_time": "2022-05-28T14:58:10.339Z"
      },
      {
        "duration": 192,
        "start_time": "2022-05-28T14:58:11.396Z"
      },
      {
        "duration": 149,
        "start_time": "2022-05-28T14:58:11.590Z"
      },
      {
        "duration": 105,
        "start_time": "2022-05-28T14:58:11.741Z"
      },
      {
        "duration": 22,
        "start_time": "2022-05-28T14:58:11.848Z"
      },
      {
        "duration": 34,
        "start_time": "2022-05-28T14:58:11.871Z"
      },
      {
        "duration": 119,
        "start_time": "2022-05-28T14:58:11.907Z"
      },
      {
        "duration": 32,
        "start_time": "2022-05-28T14:58:12.028Z"
      },
      {
        "duration": 90,
        "start_time": "2022-05-28T14:58:12.062Z"
      },
      {
        "duration": 11,
        "start_time": "2022-05-28T14:58:12.153Z"
      },
      {
        "duration": 9,
        "start_time": "2022-05-28T14:58:12.166Z"
      },
      {
        "duration": 49,
        "start_time": "2022-05-28T14:58:12.177Z"
      },
      {
        "duration": 74,
        "start_time": "2022-05-28T14:58:12.228Z"
      },
      {
        "duration": 18,
        "start_time": "2022-05-28T14:58:12.305Z"
      },
      {
        "duration": 7,
        "start_time": "2022-05-28T14:58:12.325Z"
      },
      {
        "duration": 4,
        "start_time": "2022-05-28T14:58:12.333Z"
      },
      {
        "duration": 10,
        "start_time": "2022-05-28T14:58:12.338Z"
      },
      {
        "duration": 129,
        "start_time": "2022-05-28T14:58:12.350Z"
      },
      {
        "duration": 17,
        "start_time": "2022-05-28T14:58:12.481Z"
      },
      {
        "duration": 31,
        "start_time": "2022-05-28T14:58:12.499Z"
      },
      {
        "duration": 102,
        "start_time": "2022-05-28T14:58:12.532Z"
      },
      {
        "duration": 12,
        "start_time": "2022-05-28T14:58:12.636Z"
      },
      {
        "duration": 19,
        "start_time": "2022-05-28T15:00:15.510Z"
      },
      {
        "duration": 150,
        "start_time": "2022-05-28T15:07:05.871Z"
      },
      {
        "duration": 20,
        "start_time": "2022-05-28T15:07:40.994Z"
      },
      {
        "duration": 14,
        "start_time": "2022-05-28T15:08:29.258Z"
      },
      {
        "duration": 20,
        "start_time": "2022-05-28T15:08:56.708Z"
      },
      {
        "duration": 21,
        "start_time": "2022-05-28T15:09:53.853Z"
      },
      {
        "duration": 24,
        "start_time": "2022-05-28T15:10:15.348Z"
      },
      {
        "duration": 24,
        "start_time": "2022-05-28T15:10:43.981Z"
      },
      {
        "duration": 17,
        "start_time": "2022-05-28T15:10:58.761Z"
      },
      {
        "duration": 41,
        "start_time": "2022-05-28T15:11:22.089Z"
      },
      {
        "duration": 34,
        "start_time": "2022-05-28T15:11:28.194Z"
      },
      {
        "duration": 33,
        "start_time": "2022-05-28T15:11:44.553Z"
      },
      {
        "duration": 45,
        "start_time": "2022-05-28T15:11:50.183Z"
      },
      {
        "duration": 17,
        "start_time": "2022-05-28T15:11:54.338Z"
      },
      {
        "duration": 16,
        "start_time": "2022-05-28T15:14:28.775Z"
      },
      {
        "duration": 19,
        "start_time": "2022-05-28T15:15:00.944Z"
      },
      {
        "duration": 14,
        "start_time": "2022-05-28T15:15:34.902Z"
      },
      {
        "duration": 10,
        "start_time": "2022-05-28T15:16:10.944Z"
      },
      {
        "duration": 20,
        "start_time": "2022-05-28T15:20:58.752Z"
      },
      {
        "duration": 16,
        "start_time": "2022-05-28T15:21:17.315Z"
      },
      {
        "duration": 17,
        "start_time": "2022-05-28T15:23:41.489Z"
      },
      {
        "duration": 14,
        "start_time": "2022-05-28T15:24:09.250Z"
      },
      {
        "duration": 29,
        "start_time": "2022-05-28T15:24:24.681Z"
      },
      {
        "duration": 18,
        "start_time": "2022-05-28T15:24:44.661Z"
      },
      {
        "duration": 14,
        "start_time": "2022-05-28T15:24:52.831Z"
      },
      {
        "duration": 14,
        "start_time": "2022-05-28T15:25:12.564Z"
      },
      {
        "duration": 12,
        "start_time": "2022-05-28T15:26:16.211Z"
      },
      {
        "duration": 9242,
        "start_time": "2022-05-28T15:26:22.777Z"
      },
      {
        "duration": 9,
        "start_time": "2022-05-28T15:26:33.674Z"
      },
      {
        "duration": 60,
        "start_time": "2022-05-28T15:26:40.163Z"
      },
      {
        "duration": 11,
        "start_time": "2022-05-28T15:26:56.283Z"
      },
      {
        "duration": 102,
        "start_time": "2022-05-28T15:27:01.587Z"
      },
      {
        "duration": 1204,
        "start_time": "2022-05-28T15:30:47.070Z"
      },
      {
        "duration": 195,
        "start_time": "2022-05-28T15:30:48.276Z"
      },
      {
        "duration": 158,
        "start_time": "2022-05-28T15:30:48.473Z"
      },
      {
        "duration": 102,
        "start_time": "2022-05-28T15:30:48.633Z"
      },
      {
        "duration": 23,
        "start_time": "2022-05-28T15:30:48.737Z"
      },
      {
        "duration": 33,
        "start_time": "2022-05-28T15:30:48.762Z"
      },
      {
        "duration": 120,
        "start_time": "2022-05-28T15:30:48.797Z"
      },
      {
        "duration": 32,
        "start_time": "2022-05-28T15:30:48.918Z"
      },
      {
        "duration": 93,
        "start_time": "2022-05-28T15:30:48.952Z"
      },
      {
        "duration": 11,
        "start_time": "2022-05-28T15:30:49.047Z"
      },
      {
        "duration": 7,
        "start_time": "2022-05-28T15:30:49.060Z"
      },
      {
        "duration": 48,
        "start_time": "2022-05-28T15:30:49.069Z"
      },
      {
        "duration": 48,
        "start_time": "2022-05-28T15:30:49.119Z"
      },
      {
        "duration": 34,
        "start_time": "2022-05-28T15:30:49.170Z"
      },
      {
        "duration": 6,
        "start_time": "2022-05-28T15:30:49.205Z"
      },
      {
        "duration": 4,
        "start_time": "2022-05-28T15:30:49.214Z"
      },
      {
        "duration": 10,
        "start_time": "2022-05-28T15:30:49.220Z"
      },
      {
        "duration": 126,
        "start_time": "2022-05-28T15:30:49.232Z"
      },
      {
        "duration": 9,
        "start_time": "2022-05-28T15:30:49.360Z"
      },
      {
        "duration": 53,
        "start_time": "2022-05-28T15:30:49.371Z"
      },
      {
        "duration": 95,
        "start_time": "2022-05-28T15:30:49.426Z"
      },
      {
        "duration": 18,
        "start_time": "2022-05-28T15:30:49.523Z"
      },
      {
        "duration": 16,
        "start_time": "2022-05-28T15:30:49.544Z"
      },
      {
        "duration": 35,
        "start_time": "2022-05-28T15:30:49.562Z"
      },
      {
        "duration": 68,
        "start_time": "2022-05-28T15:30:49.598Z"
      },
      {
        "duration": 11,
        "start_time": "2022-05-28T15:30:49.667Z"
      },
      {
        "duration": 14,
        "start_time": "2022-05-28T15:30:49.694Z"
      },
      {
        "duration": 5,
        "start_time": "2022-05-28T15:30:49.709Z"
      },
      {
        "duration": 14,
        "start_time": "2022-05-28T15:30:49.716Z"
      },
      {
        "duration": 15,
        "start_time": "2022-05-28T15:30:49.732Z"
      },
      {
        "duration": 54,
        "start_time": "2022-05-28T15:30:49.749Z"
      },
      {
        "duration": 17,
        "start_time": "2022-05-28T15:30:49.805Z"
      },
      {
        "duration": 13,
        "start_time": "2022-05-28T15:30:49.823Z"
      },
      {
        "duration": 855,
        "start_time": "2022-05-28T15:30:49.837Z"
      },
      {
        "duration": 12,
        "start_time": "2022-05-28T15:30:50.695Z"
      },
      {
        "duration": 749,
        "start_time": "2022-05-28T15:30:50.708Z"
      },
      {
        "duration": 9,
        "start_time": "2022-05-28T15:30:51.458Z"
      },
      {
        "duration": 27,
        "start_time": "2022-05-28T15:30:51.469Z"
      },
      {
        "duration": 133,
        "start_time": "2022-05-28T15:35:40.959Z"
      },
      {
        "duration": 173,
        "start_time": "2022-05-28T15:35:53.056Z"
      },
      {
        "duration": 40,
        "start_time": "2022-05-28T15:36:02.782Z"
      },
      {
        "duration": 118,
        "start_time": "2022-05-28T15:58:23.180Z"
      },
      {
        "duration": 18,
        "start_time": "2022-05-28T15:59:09.805Z"
      },
      {
        "duration": 23,
        "start_time": "2022-05-28T16:02:30.014Z"
      },
      {
        "duration": 240,
        "start_time": "2022-05-28T16:03:07.590Z"
      },
      {
        "duration": 15,
        "start_time": "2022-05-28T16:03:53.170Z"
      },
      {
        "duration": 23,
        "start_time": "2022-05-28T16:04:11.182Z"
      },
      {
        "duration": 10,
        "start_time": "2022-05-28T16:06:53.781Z"
      },
      {
        "duration": 15,
        "start_time": "2022-05-28T16:09:14.063Z"
      },
      {
        "duration": 305,
        "start_time": "2022-05-28T16:09:50.604Z"
      },
      {
        "duration": 15,
        "start_time": "2022-05-28T16:12:05.590Z"
      },
      {
        "duration": 22,
        "start_time": "2022-05-28T16:12:53.538Z"
      },
      {
        "duration": 24,
        "start_time": "2022-05-28T16:13:12.488Z"
      },
      {
        "duration": 6,
        "start_time": "2022-05-28T16:13:37.787Z"
      },
      {
        "duration": 16,
        "start_time": "2022-05-28T16:13:47.576Z"
      },
      {
        "duration": 20,
        "start_time": "2022-05-28T16:15:51.008Z"
      },
      {
        "duration": 21,
        "start_time": "2022-05-28T16:19:21.721Z"
      },
      {
        "duration": 1687,
        "start_time": "2022-05-28T16:20:36.674Z"
      },
      {
        "duration": 256,
        "start_time": "2022-05-28T16:20:38.364Z"
      },
      {
        "duration": 235,
        "start_time": "2022-05-28T16:20:38.623Z"
      },
      {
        "duration": 156,
        "start_time": "2022-05-28T16:20:38.861Z"
      },
      {
        "duration": 44,
        "start_time": "2022-05-28T16:20:39.019Z"
      },
      {
        "duration": 69,
        "start_time": "2022-05-28T16:20:39.065Z"
      },
      {
        "duration": 145,
        "start_time": "2022-05-28T16:20:39.136Z"
      },
      {
        "duration": 54,
        "start_time": "2022-05-28T16:20:39.283Z"
      },
      {
        "duration": 100,
        "start_time": "2022-05-28T16:20:39.340Z"
      },
      {
        "duration": 15,
        "start_time": "2022-05-28T16:20:39.444Z"
      },
      {
        "duration": 9,
        "start_time": "2022-05-28T16:20:39.461Z"
      },
      {
        "duration": 50,
        "start_time": "2022-05-28T16:20:39.494Z"
      },
      {
        "duration": 71,
        "start_time": "2022-05-28T16:20:39.546Z"
      },
      {
        "duration": 26,
        "start_time": "2022-05-28T16:20:39.619Z"
      },
      {
        "duration": 7,
        "start_time": "2022-05-28T16:20:39.647Z"
      },
      {
        "duration": 9,
        "start_time": "2022-05-28T16:20:39.656Z"
      },
      {
        "duration": 33,
        "start_time": "2022-05-28T16:20:39.667Z"
      },
      {
        "duration": 134,
        "start_time": "2022-05-28T16:20:39.702Z"
      },
      {
        "duration": 13,
        "start_time": "2022-05-28T16:20:39.838Z"
      },
      {
        "duration": 57,
        "start_time": "2022-05-28T16:20:39.852Z"
      },
      {
        "duration": 134,
        "start_time": "2022-05-28T16:20:39.911Z"
      },
      {
        "duration": 22,
        "start_time": "2022-05-28T16:20:40.048Z"
      },
      {
        "duration": 156,
        "start_time": "2022-05-28T16:20:42.609Z"
      },
      {
        "duration": 18,
        "start_time": "2022-05-28T16:21:24.418Z"
      },
      {
        "duration": 25,
        "start_time": "2022-05-28T16:21:37.019Z"
      },
      {
        "duration": 68,
        "start_time": "2022-05-28T16:30:39.145Z"
      },
      {
        "duration": 42,
        "start_time": "2022-05-28T16:30:45.826Z"
      },
      {
        "duration": 17,
        "start_time": "2022-05-28T16:31:40.995Z"
      },
      {
        "duration": 96,
        "start_time": "2022-05-28T16:33:37.171Z"
      },
      {
        "duration": 693,
        "start_time": "2022-05-28T16:37:21.584Z"
      },
      {
        "duration": 12,
        "start_time": "2022-05-28T16:37:52.410Z"
      },
      {
        "duration": 17,
        "start_time": "2022-05-28T16:39:36.626Z"
      },
      {
        "duration": 5,
        "start_time": "2022-05-28T16:40:28.848Z"
      },
      {
        "duration": 30,
        "start_time": "2022-05-28T16:40:40.535Z"
      },
      {
        "duration": 35,
        "start_time": "2022-05-28T16:41:10.215Z"
      },
      {
        "duration": 7,
        "start_time": "2022-05-28T16:41:46.509Z"
      },
      {
        "duration": 30,
        "start_time": "2022-05-28T16:42:37.447Z"
      },
      {
        "duration": 24,
        "start_time": "2022-05-28T16:43:02.831Z"
      },
      {
        "duration": 12,
        "start_time": "2022-05-28T16:52:49.699Z"
      },
      {
        "duration": 3,
        "start_time": "2022-05-28T16:56:36.285Z"
      },
      {
        "duration": 1380,
        "start_time": "2022-05-28T16:56:56.190Z"
      },
      {
        "duration": 668,
        "start_time": "2022-05-28T16:56:57.576Z"
      },
      {
        "duration": 535,
        "start_time": "2022-05-28T16:56:58.247Z"
      },
      {
        "duration": 222,
        "start_time": "2022-05-28T16:56:58.785Z"
      },
      {
        "duration": 60,
        "start_time": "2022-05-28T16:56:59.010Z"
      },
      {
        "duration": 70,
        "start_time": "2022-05-28T16:56:59.073Z"
      },
      {
        "duration": 170,
        "start_time": "2022-05-28T16:56:59.145Z"
      },
      {
        "duration": 57,
        "start_time": "2022-05-28T16:56:59.317Z"
      },
      {
        "duration": 130,
        "start_time": "2022-05-28T16:56:59.377Z"
      },
      {
        "duration": 15,
        "start_time": "2022-05-28T16:56:59.510Z"
      },
      {
        "duration": 8,
        "start_time": "2022-05-28T16:56:59.528Z"
      },
      {
        "duration": 74,
        "start_time": "2022-05-28T16:56:59.539Z"
      },
      {
        "duration": 83,
        "start_time": "2022-05-28T16:56:59.615Z"
      },
      {
        "duration": 33,
        "start_time": "2022-05-28T16:56:59.701Z"
      },
      {
        "duration": 12,
        "start_time": "2022-05-28T16:56:59.738Z"
      },
      {
        "duration": 8,
        "start_time": "2022-05-28T16:56:59.754Z"
      },
      {
        "duration": 35,
        "start_time": "2022-05-28T16:56:59.765Z"
      },
      {
        "duration": 143,
        "start_time": "2022-05-28T16:56:59.804Z"
      },
      {
        "duration": 17,
        "start_time": "2022-05-28T16:56:59.949Z"
      },
      {
        "duration": 56,
        "start_time": "2022-05-28T16:56:59.969Z"
      },
      {
        "duration": 96,
        "start_time": "2022-05-28T16:57:00.027Z"
      },
      {
        "duration": 13,
        "start_time": "2022-05-28T16:57:00.124Z"
      },
      {
        "duration": 12,
        "start_time": "2022-05-28T16:57:00.139Z"
      },
      {
        "duration": 16,
        "start_time": "2022-05-28T16:57:00.154Z"
      },
      {
        "duration": 22,
        "start_time": "2022-05-28T16:57:00.173Z"
      },
      {
        "duration": 83,
        "start_time": "2022-05-28T16:57:00.197Z"
      },
      {
        "duration": 19,
        "start_time": "2022-05-28T16:57:00.281Z"
      },
      {
        "duration": 27,
        "start_time": "2022-05-28T16:57:00.304Z"
      },
      {
        "duration": 5,
        "start_time": "2022-05-28T16:57:00.333Z"
      },
      {
        "duration": 21,
        "start_time": "2022-05-28T16:57:00.340Z"
      },
      {
        "duration": 32,
        "start_time": "2022-05-28T16:57:00.364Z"
      },
      {
        "duration": 29,
        "start_time": "2022-05-28T16:57:00.398Z"
      },
      {
        "duration": 19,
        "start_time": "2022-05-28T16:57:00.429Z"
      },
      {
        "duration": 16,
        "start_time": "2022-05-28T16:57:00.450Z"
      },
      {
        "duration": 64,
        "start_time": "2022-05-28T16:57:00.468Z"
      },
      {
        "duration": 1208,
        "start_time": "2022-05-28T16:57:00.534Z"
      },
      {
        "duration": 17,
        "start_time": "2022-05-28T16:57:01.744Z"
      },
      {
        "duration": 1303,
        "start_time": "2022-05-28T16:57:01.765Z"
      },
      {
        "duration": 8,
        "start_time": "2022-05-28T16:57:03.070Z"
      },
      {
        "duration": 27,
        "start_time": "2022-05-28T16:57:03.080Z"
      },
      {
        "duration": 1431,
        "start_time": "2022-05-28T17:02:06.520Z"
      },
      {
        "duration": 221,
        "start_time": "2022-05-28T17:02:07.954Z"
      },
      {
        "duration": 195,
        "start_time": "2022-05-28T17:02:08.177Z"
      },
      {
        "duration": 148,
        "start_time": "2022-05-28T17:02:08.375Z"
      },
      {
        "duration": 47,
        "start_time": "2022-05-28T17:02:08.525Z"
      },
      {
        "duration": 44,
        "start_time": "2022-05-28T17:02:08.575Z"
      },
      {
        "duration": 211,
        "start_time": "2022-05-28T17:02:08.622Z"
      },
      {
        "duration": 61,
        "start_time": "2022-05-28T17:02:08.836Z"
      },
      {
        "duration": 132,
        "start_time": "2022-05-28T17:02:08.899Z"
      },
      {
        "duration": 18,
        "start_time": "2022-05-28T17:02:09.034Z"
      },
      {
        "duration": 20,
        "start_time": "2022-05-28T17:02:09.054Z"
      },
      {
        "duration": 57,
        "start_time": "2022-05-28T17:02:09.078Z"
      },
      {
        "duration": 89,
        "start_time": "2022-05-28T17:02:09.138Z"
      },
      {
        "duration": 30,
        "start_time": "2022-05-28T17:02:09.230Z"
      },
      {
        "duration": 8,
        "start_time": "2022-05-28T17:02:09.262Z"
      },
      {
        "duration": 23,
        "start_time": "2022-05-28T17:02:09.272Z"
      },
      {
        "duration": 42,
        "start_time": "2022-05-28T17:02:09.297Z"
      },
      {
        "duration": 135,
        "start_time": "2022-05-28T17:02:09.341Z"
      },
      {
        "duration": 13,
        "start_time": "2022-05-28T17:02:09.478Z"
      },
      {
        "duration": 68,
        "start_time": "2022-05-28T17:02:09.495Z"
      },
      {
        "duration": 117,
        "start_time": "2022-05-28T17:02:09.565Z"
      },
      {
        "duration": 21,
        "start_time": "2022-05-28T17:02:09.684Z"
      },
      {
        "duration": 33,
        "start_time": "2022-05-28T17:02:09.707Z"
      },
      {
        "duration": 13,
        "start_time": "2022-05-28T17:02:09.742Z"
      },
      {
        "duration": 15,
        "start_time": "2022-05-28T17:02:09.757Z"
      },
      {
        "duration": 103,
        "start_time": "2022-05-28T17:02:09.776Z"
      },
      {
        "duration": 25,
        "start_time": "2022-05-28T17:02:09.881Z"
      },
      {
        "duration": 39,
        "start_time": "2022-05-28T17:02:09.911Z"
      },
      {
        "duration": 6,
        "start_time": "2022-05-28T17:02:09.952Z"
      },
      {
        "duration": 22,
        "start_time": "2022-05-28T17:02:09.960Z"
      },
      {
        "duration": 42,
        "start_time": "2022-05-28T17:02:09.984Z"
      },
      {
        "duration": 29,
        "start_time": "2022-05-28T17:02:10.029Z"
      },
      {
        "duration": 19,
        "start_time": "2022-05-28T17:02:10.060Z"
      },
      {
        "duration": 15,
        "start_time": "2022-05-28T17:02:10.094Z"
      },
      {
        "duration": 72,
        "start_time": "2022-05-28T17:02:10.111Z"
      },
      {
        "duration": 1193,
        "start_time": "2022-05-28T17:02:10.185Z"
      },
      {
        "duration": 24,
        "start_time": "2022-05-28T17:02:11.380Z"
      },
      {
        "duration": 983,
        "start_time": "2022-05-28T17:02:11.406Z"
      },
      {
        "duration": 11,
        "start_time": "2022-05-28T17:02:12.391Z"
      },
      {
        "duration": 46,
        "start_time": "2022-05-28T17:02:12.404Z"
      },
      {
        "duration": 41,
        "start_time": "2022-05-29T08:53:07.067Z"
      },
      {
        "duration": 1127,
        "start_time": "2022-05-29T09:02:02.404Z"
      },
      {
        "duration": 183,
        "start_time": "2022-05-29T09:02:03.532Z"
      },
      {
        "duration": 155,
        "start_time": "2022-05-29T09:02:03.717Z"
      },
      {
        "duration": 106,
        "start_time": "2022-05-29T09:02:03.875Z"
      },
      {
        "duration": 22,
        "start_time": "2022-05-29T09:02:03.983Z"
      },
      {
        "duration": 33,
        "start_time": "2022-05-29T09:02:04.007Z"
      },
      {
        "duration": 107,
        "start_time": "2022-05-29T09:02:04.042Z"
      },
      {
        "duration": 33,
        "start_time": "2022-05-29T09:02:04.150Z"
      },
      {
        "duration": 84,
        "start_time": "2022-05-29T09:02:04.184Z"
      },
      {
        "duration": 10,
        "start_time": "2022-05-29T09:02:04.270Z"
      },
      {
        "duration": 27,
        "start_time": "2022-05-29T09:02:04.282Z"
      },
      {
        "duration": 33,
        "start_time": "2022-05-29T09:02:04.311Z"
      },
      {
        "duration": 45,
        "start_time": "2022-05-29T09:02:04.346Z"
      },
      {
        "duration": 18,
        "start_time": "2022-05-29T09:02:04.392Z"
      },
      {
        "duration": 21,
        "start_time": "2022-05-29T09:02:04.411Z"
      },
      {
        "duration": 5,
        "start_time": "2022-05-29T09:02:04.434Z"
      },
      {
        "duration": 10,
        "start_time": "2022-05-29T09:02:04.441Z"
      },
      {
        "duration": 107,
        "start_time": "2022-05-29T09:02:04.453Z"
      },
      {
        "duration": 9,
        "start_time": "2022-05-29T09:02:04.563Z"
      },
      {
        "duration": 31,
        "start_time": "2022-05-29T09:02:04.573Z"
      },
      {
        "duration": 92,
        "start_time": "2022-05-29T09:02:04.606Z"
      },
      {
        "duration": 12,
        "start_time": "2022-05-29T09:02:04.700Z"
      },
      {
        "duration": 10,
        "start_time": "2022-05-29T09:02:04.727Z"
      },
      {
        "duration": 11,
        "start_time": "2022-05-29T09:02:04.738Z"
      },
      {
        "duration": 10,
        "start_time": "2022-05-29T09:02:04.751Z"
      },
      {
        "duration": 80,
        "start_time": "2022-05-29T09:02:04.762Z"
      },
      {
        "duration": 14,
        "start_time": "2022-05-29T09:02:04.844Z"
      },
      {
        "duration": 22,
        "start_time": "2022-05-29T09:02:04.862Z"
      },
      {
        "duration": 12,
        "start_time": "2022-05-29T09:02:04.885Z"
      },
      {
        "duration": 29,
        "start_time": "2022-05-29T09:02:04.899Z"
      },
      {
        "duration": 15,
        "start_time": "2022-05-29T09:02:04.929Z"
      },
      {
        "duration": 13,
        "start_time": "2022-05-29T09:02:04.946Z"
      },
      {
        "duration": 13,
        "start_time": "2022-05-29T09:02:04.961Z"
      },
      {
        "duration": 12,
        "start_time": "2022-05-29T09:02:04.976Z"
      },
      {
        "duration": 72,
        "start_time": "2022-05-29T09:02:04.990Z"
      },
      {
        "duration": 785,
        "start_time": "2022-05-29T09:02:05.063Z"
      },
      {
        "duration": 12,
        "start_time": "2022-05-29T09:02:05.850Z"
      },
      {
        "duration": 850,
        "start_time": "2022-05-29T09:02:05.864Z"
      },
      {
        "duration": 13,
        "start_time": "2022-05-29T09:02:06.715Z"
      },
      {
        "duration": 16,
        "start_time": "2022-05-29T09:02:06.730Z"
      },
      {
        "duration": 1156,
        "start_time": "2022-05-29T13:29:16.438Z"
      },
      {
        "duration": 512,
        "start_time": "2022-05-29T13:29:17.596Z"
      },
      {
        "duration": 417,
        "start_time": "2022-05-29T13:29:18.110Z"
      },
      {
        "duration": 147,
        "start_time": "2022-05-29T13:29:18.529Z"
      },
      {
        "duration": 63,
        "start_time": "2022-05-29T13:29:18.678Z"
      },
      {
        "duration": 62,
        "start_time": "2022-05-29T13:29:18.742Z"
      },
      {
        "duration": 98,
        "start_time": "2022-05-29T13:29:18.805Z"
      },
      {
        "duration": 32,
        "start_time": "2022-05-29T13:29:18.905Z"
      },
      {
        "duration": 83,
        "start_time": "2022-05-29T13:29:18.938Z"
      },
      {
        "duration": 9,
        "start_time": "2022-05-29T13:29:19.023Z"
      },
      {
        "duration": 5,
        "start_time": "2022-05-29T13:29:19.034Z"
      },
      {
        "duration": 37,
        "start_time": "2022-05-29T13:29:19.040Z"
      },
      {
        "duration": 55,
        "start_time": "2022-05-29T13:29:19.078Z"
      },
      {
        "duration": 18,
        "start_time": "2022-05-29T13:29:19.136Z"
      },
      {
        "duration": 6,
        "start_time": "2022-05-29T13:29:19.155Z"
      },
      {
        "duration": 5,
        "start_time": "2022-05-29T13:29:19.162Z"
      },
      {
        "duration": 8,
        "start_time": "2022-05-29T13:29:19.168Z"
      },
      {
        "duration": 90,
        "start_time": "2022-05-29T13:29:19.202Z"
      },
      {
        "duration": 15,
        "start_time": "2022-05-29T13:29:19.294Z"
      },
      {
        "duration": 28,
        "start_time": "2022-05-29T13:29:19.311Z"
      },
      {
        "duration": 89,
        "start_time": "2022-05-29T13:29:19.341Z"
      },
      {
        "duration": 10,
        "start_time": "2022-05-29T13:29:19.432Z"
      },
      {
        "duration": 17,
        "start_time": "2022-05-29T13:29:19.444Z"
      },
      {
        "duration": 8,
        "start_time": "2022-05-29T13:29:19.462Z"
      },
      {
        "duration": 9,
        "start_time": "2022-05-29T13:29:19.472Z"
      },
      {
        "duration": 68,
        "start_time": "2022-05-29T13:29:19.482Z"
      },
      {
        "duration": 9,
        "start_time": "2022-05-29T13:29:19.551Z"
      },
      {
        "duration": 14,
        "start_time": "2022-05-29T13:29:19.562Z"
      },
      {
        "duration": 3,
        "start_time": "2022-05-29T13:29:19.577Z"
      },
      {
        "duration": 25,
        "start_time": "2022-05-29T13:29:19.581Z"
      },
      {
        "duration": 13,
        "start_time": "2022-05-29T13:29:19.608Z"
      },
      {
        "duration": 12,
        "start_time": "2022-05-29T13:29:19.622Z"
      },
      {
        "duration": 12,
        "start_time": "2022-05-29T13:29:19.636Z"
      },
      {
        "duration": 10,
        "start_time": "2022-05-29T13:29:19.649Z"
      },
      {
        "duration": 75,
        "start_time": "2022-05-29T13:29:19.660Z"
      },
      {
        "duration": 750,
        "start_time": "2022-05-29T13:29:19.736Z"
      },
      {
        "duration": 17,
        "start_time": "2022-05-29T13:29:20.487Z"
      },
      {
        "duration": 765,
        "start_time": "2022-05-29T13:29:20.506Z"
      },
      {
        "duration": 8,
        "start_time": "2022-05-29T13:29:21.273Z"
      },
      {
        "duration": 20,
        "start_time": "2022-05-29T13:29:21.283Z"
      },
      {
        "duration": 1089,
        "start_time": "2022-05-29T13:42:30.486Z"
      },
      {
        "duration": 174,
        "start_time": "2022-05-29T13:42:31.577Z"
      },
      {
        "duration": 159,
        "start_time": "2022-05-29T13:42:31.753Z"
      },
      {
        "duration": 94,
        "start_time": "2022-05-29T13:42:31.914Z"
      },
      {
        "duration": 20,
        "start_time": "2022-05-29T13:42:32.010Z"
      },
      {
        "duration": 32,
        "start_time": "2022-05-29T13:42:32.032Z"
      },
      {
        "duration": 97,
        "start_time": "2022-05-29T13:42:32.065Z"
      },
      {
        "duration": 32,
        "start_time": "2022-05-29T13:42:32.164Z"
      },
      {
        "duration": 67,
        "start_time": "2022-05-29T13:42:32.202Z"
      },
      {
        "duration": 11,
        "start_time": "2022-05-29T13:42:32.272Z"
      },
      {
        "duration": 7,
        "start_time": "2022-05-29T13:42:32.303Z"
      },
      {
        "duration": 34,
        "start_time": "2022-05-29T13:42:32.311Z"
      },
      {
        "duration": 59,
        "start_time": "2022-05-29T13:42:32.347Z"
      },
      {
        "duration": 18,
        "start_time": "2022-05-29T13:42:32.408Z"
      },
      {
        "duration": 7,
        "start_time": "2022-05-29T13:42:32.427Z"
      },
      {
        "duration": 3,
        "start_time": "2022-05-29T13:42:32.435Z"
      },
      {
        "duration": 7,
        "start_time": "2022-05-29T13:42:32.440Z"
      },
      {
        "duration": 118,
        "start_time": "2022-05-29T13:42:32.448Z"
      },
      {
        "duration": 9,
        "start_time": "2022-05-29T13:42:32.567Z"
      },
      {
        "duration": 43,
        "start_time": "2022-05-29T13:42:32.577Z"
      },
      {
        "duration": 70,
        "start_time": "2022-05-29T13:42:32.621Z"
      },
      {
        "duration": 18,
        "start_time": "2022-05-29T13:42:32.693Z"
      },
      {
        "duration": 96,
        "start_time": "2022-05-29T13:43:20.956Z"
      },
      {
        "duration": 10,
        "start_time": "2022-05-29T13:43:30.245Z"
      },
      {
        "duration": 4,
        "start_time": "2022-05-29T13:44:19.767Z"
      },
      {
        "duration": 15,
        "start_time": "2022-05-29T13:44:43.380Z"
      },
      {
        "duration": 17,
        "start_time": "2022-05-29T13:45:47.082Z"
      },
      {
        "duration": 143,
        "start_time": "2022-05-29T13:46:34.259Z"
      },
      {
        "duration": 24,
        "start_time": "2022-05-29T13:46:49.773Z"
      },
      {
        "duration": 13,
        "start_time": "2022-05-29T13:49:06.403Z"
      },
      {
        "duration": 26,
        "start_time": "2022-05-29T13:55:30.476Z"
      },
      {
        "duration": 941,
        "start_time": "2022-05-29T13:56:27.052Z"
      },
      {
        "duration": 174,
        "start_time": "2022-05-29T13:56:27.995Z"
      },
      {
        "duration": 145,
        "start_time": "2022-05-29T13:56:28.170Z"
      },
      {
        "duration": 106,
        "start_time": "2022-05-29T13:56:28.316Z"
      },
      {
        "duration": 24,
        "start_time": "2022-05-29T13:56:28.424Z"
      },
      {
        "duration": 36,
        "start_time": "2022-05-29T13:56:28.450Z"
      },
      {
        "duration": 111,
        "start_time": "2022-05-29T13:56:28.487Z"
      },
      {
        "duration": 35,
        "start_time": "2022-05-29T13:56:28.599Z"
      },
      {
        "duration": 76,
        "start_time": "2022-05-29T13:56:28.635Z"
      },
      {
        "duration": 9,
        "start_time": "2022-05-29T13:56:28.713Z"
      },
      {
        "duration": 5,
        "start_time": "2022-05-29T13:56:28.724Z"
      },
      {
        "duration": 31,
        "start_time": "2022-05-29T13:56:28.731Z"
      },
      {
        "duration": 70,
        "start_time": "2022-05-29T13:56:28.763Z"
      },
      {
        "duration": 19,
        "start_time": "2022-05-29T13:56:28.836Z"
      },
      {
        "duration": 6,
        "start_time": "2022-05-29T13:56:28.857Z"
      },
      {
        "duration": 3,
        "start_time": "2022-05-29T13:56:28.865Z"
      },
      {
        "duration": 32,
        "start_time": "2022-05-29T13:56:28.870Z"
      },
      {
        "duration": 98,
        "start_time": "2022-05-29T13:56:28.904Z"
      },
      {
        "duration": 12,
        "start_time": "2022-05-29T13:56:29.004Z"
      },
      {
        "duration": 28,
        "start_time": "2022-05-29T13:56:29.017Z"
      },
      {
        "duration": 99,
        "start_time": "2022-05-29T13:56:29.047Z"
      },
      {
        "duration": 13,
        "start_time": "2022-05-29T13:56:29.148Z"
      },
      {
        "duration": 15,
        "start_time": "2022-05-29T13:56:29.163Z"
      },
      {
        "duration": 24,
        "start_time": "2022-05-29T13:56:29.203Z"
      },
      {
        "duration": 6,
        "start_time": "2022-05-29T13:56:29.229Z"
      },
      {
        "duration": 26045,
        "start_time": "2022-05-29T13:56:29.237Z"
      },
      {
        "duration": 10,
        "start_time": "2022-05-29T13:56:55.283Z"
      },
      {
        "duration": 12,
        "start_time": "2022-05-29T13:56:55.302Z"
      },
      {
        "duration": 3,
        "start_time": "2022-05-29T13:56:55.315Z"
      },
      {
        "duration": 10,
        "start_time": "2022-05-29T13:56:55.320Z"
      },
      {
        "duration": 13,
        "start_time": "2022-05-29T13:56:55.331Z"
      },
      {
        "duration": 11,
        "start_time": "2022-05-29T13:56:55.345Z"
      },
      {
        "duration": 47,
        "start_time": "2022-05-29T13:56:55.358Z"
      },
      {
        "duration": 10,
        "start_time": "2022-05-29T13:56:55.407Z"
      },
      {
        "duration": 38,
        "start_time": "2022-05-29T13:56:55.418Z"
      },
      {
        "duration": 751,
        "start_time": "2022-05-29T13:56:55.458Z"
      },
      {
        "duration": 11,
        "start_time": "2022-05-29T13:56:56.211Z"
      },
      {
        "duration": 719,
        "start_time": "2022-05-29T13:56:56.224Z"
      },
      {
        "duration": 7,
        "start_time": "2022-05-29T13:56:56.944Z"
      },
      {
        "duration": 12,
        "start_time": "2022-05-29T13:56:56.953Z"
      },
      {
        "duration": 1079,
        "start_time": "2022-05-29T14:05:52.699Z"
      },
      {
        "duration": 175,
        "start_time": "2022-05-29T14:05:53.780Z"
      },
      {
        "duration": 140,
        "start_time": "2022-05-29T14:05:53.957Z"
      },
      {
        "duration": 95,
        "start_time": "2022-05-29T14:05:54.098Z"
      },
      {
        "duration": 20,
        "start_time": "2022-05-29T14:05:54.195Z"
      },
      {
        "duration": 33,
        "start_time": "2022-05-29T14:05:54.217Z"
      },
      {
        "duration": 104,
        "start_time": "2022-05-29T14:05:54.252Z"
      },
      {
        "duration": 35,
        "start_time": "2022-05-29T14:05:54.358Z"
      },
      {
        "duration": 72,
        "start_time": "2022-05-29T14:05:54.394Z"
      },
      {
        "duration": 11,
        "start_time": "2022-05-29T14:05:54.470Z"
      },
      {
        "duration": 27,
        "start_time": "2022-05-29T14:05:54.482Z"
      },
      {
        "duration": 32,
        "start_time": "2022-05-29T14:05:54.510Z"
      },
      {
        "duration": 67,
        "start_time": "2022-05-29T14:05:54.544Z"
      },
      {
        "duration": 18,
        "start_time": "2022-05-29T14:05:54.613Z"
      },
      {
        "duration": 6,
        "start_time": "2022-05-29T14:05:54.632Z"
      },
      {
        "duration": 5,
        "start_time": "2022-05-29T14:05:54.639Z"
      },
      {
        "duration": 9,
        "start_time": "2022-05-29T14:05:54.645Z"
      },
      {
        "duration": 115,
        "start_time": "2022-05-29T14:05:54.655Z"
      },
      {
        "duration": 8,
        "start_time": "2022-05-29T14:05:54.772Z"
      },
      {
        "duration": 43,
        "start_time": "2022-05-29T14:05:54.781Z"
      },
      {
        "duration": 77,
        "start_time": "2022-05-29T14:05:54.826Z"
      },
      {
        "duration": 11,
        "start_time": "2022-05-29T14:05:54.904Z"
      },
      {
        "duration": 14,
        "start_time": "2022-05-29T14:05:54.917Z"
      },
      {
        "duration": 26,
        "start_time": "2022-05-29T14:05:54.932Z"
      },
      {
        "duration": 26707,
        "start_time": "2022-05-29T14:05:54.959Z"
      },
      {
        "duration": 10,
        "start_time": "2022-05-29T14:06:21.667Z"
      },
      {
        "duration": 28,
        "start_time": "2022-05-29T14:06:21.679Z"
      },
      {
        "duration": 3,
        "start_time": "2022-05-29T14:06:21.710Z"
      },
      {
        "duration": 11,
        "start_time": "2022-05-29T14:06:21.715Z"
      },
      {
        "duration": 13,
        "start_time": "2022-05-29T14:06:21.728Z"
      },
      {
        "duration": 12,
        "start_time": "2022-05-29T14:06:21.742Z"
      },
      {
        "duration": 12,
        "start_time": "2022-05-29T14:06:21.755Z"
      },
      {
        "duration": 40,
        "start_time": "2022-05-29T14:06:21.769Z"
      },
      {
        "duration": 34,
        "start_time": "2022-05-29T14:06:21.811Z"
      },
      {
        "duration": 804,
        "start_time": "2022-05-29T14:06:21.847Z"
      },
      {
        "duration": 11,
        "start_time": "2022-05-29T14:06:22.652Z"
      },
      {
        "duration": 776,
        "start_time": "2022-05-29T14:06:22.665Z"
      },
      {
        "duration": 7,
        "start_time": "2022-05-29T14:06:23.443Z"
      },
      {
        "duration": 11,
        "start_time": "2022-05-29T14:06:23.452Z"
      },
      {
        "duration": 964,
        "start_time": "2022-05-30T10:12:34.182Z"
      },
      {
        "duration": 161,
        "start_time": "2022-05-30T10:12:35.147Z"
      },
      {
        "duration": 128,
        "start_time": "2022-05-30T10:12:35.309Z"
      },
      {
        "duration": 86,
        "start_time": "2022-05-30T10:12:35.439Z"
      },
      {
        "duration": 18,
        "start_time": "2022-05-30T10:12:35.526Z"
      },
      {
        "duration": 28,
        "start_time": "2022-05-30T10:12:35.546Z"
      },
      {
        "duration": 86,
        "start_time": "2022-05-30T10:12:35.576Z"
      },
      {
        "duration": 31,
        "start_time": "2022-05-30T10:12:35.664Z"
      },
      {
        "duration": 79,
        "start_time": "2022-05-30T10:12:35.696Z"
      },
      {
        "duration": 9,
        "start_time": "2022-05-30T10:12:35.778Z"
      },
      {
        "duration": 5,
        "start_time": "2022-05-30T10:12:35.789Z"
      },
      {
        "duration": 28,
        "start_time": "2022-05-30T10:12:35.796Z"
      },
      {
        "duration": 70,
        "start_time": "2022-05-30T10:12:35.825Z"
      },
      {
        "duration": 27,
        "start_time": "2022-05-30T10:12:35.897Z"
      },
      {
        "duration": 7,
        "start_time": "2022-05-30T10:12:35.926Z"
      },
      {
        "duration": 12,
        "start_time": "2022-05-30T10:12:35.934Z"
      },
      {
        "duration": 11,
        "start_time": "2022-05-30T10:12:35.947Z"
      },
      {
        "duration": 88,
        "start_time": "2022-05-30T10:12:35.959Z"
      },
      {
        "duration": 10,
        "start_time": "2022-05-30T10:12:36.048Z"
      },
      {
        "duration": 25,
        "start_time": "2022-05-30T10:12:36.074Z"
      },
      {
        "duration": 66,
        "start_time": "2022-05-30T10:12:36.100Z"
      },
      {
        "duration": 11,
        "start_time": "2022-05-30T10:12:36.174Z"
      },
      {
        "duration": 19,
        "start_time": "2022-05-30T10:12:36.186Z"
      },
      {
        "duration": 24,
        "start_time": "2022-05-30T10:12:36.207Z"
      },
      {
        "duration": 25210,
        "start_time": "2022-05-30T10:12:36.232Z"
      },
      {
        "duration": 9,
        "start_time": "2022-05-30T10:13:01.444Z"
      },
      {
        "duration": 26,
        "start_time": "2022-05-30T10:13:01.455Z"
      },
      {
        "duration": 3,
        "start_time": "2022-05-30T10:13:01.484Z"
      },
      {
        "duration": 32,
        "start_time": "2022-05-30T10:13:01.489Z"
      },
      {
        "duration": 34,
        "start_time": "2022-05-30T10:13:01.522Z"
      },
      {
        "duration": 13,
        "start_time": "2022-05-30T10:13:01.557Z"
      },
      {
        "duration": 13,
        "start_time": "2022-05-30T10:13:01.571Z"
      },
      {
        "duration": 14,
        "start_time": "2022-05-30T10:13:01.586Z"
      },
      {
        "duration": 32,
        "start_time": "2022-05-30T10:13:01.602Z"
      },
      {
        "duration": 739,
        "start_time": "2022-05-30T10:13:01.635Z"
      },
      {
        "duration": 14,
        "start_time": "2022-05-30T10:13:02.378Z"
      },
      {
        "duration": 763,
        "start_time": "2022-05-30T10:13:02.393Z"
      },
      {
        "duration": 6,
        "start_time": "2022-05-30T10:13:03.157Z"
      },
      {
        "duration": 10,
        "start_time": "2022-05-30T10:13:03.174Z"
      },
      {
        "duration": 1015,
        "start_time": "2022-05-30T10:37:21.860Z"
      },
      {
        "duration": 179,
        "start_time": "2022-05-30T10:37:22.877Z"
      },
      {
        "duration": 127,
        "start_time": "2022-05-30T10:37:23.057Z"
      },
      {
        "duration": 87,
        "start_time": "2022-05-30T10:37:23.186Z"
      },
      {
        "duration": 19,
        "start_time": "2022-05-30T10:37:23.275Z"
      },
      {
        "duration": 29,
        "start_time": "2022-05-30T10:37:23.296Z"
      },
      {
        "duration": 89,
        "start_time": "2022-05-30T10:37:23.326Z"
      },
      {
        "duration": 28,
        "start_time": "2022-05-30T10:37:23.416Z"
      },
      {
        "duration": 72,
        "start_time": "2022-05-30T10:37:23.446Z"
      },
      {
        "duration": 9,
        "start_time": "2022-05-30T10:37:23.520Z"
      },
      {
        "duration": 7,
        "start_time": "2022-05-30T10:37:23.530Z"
      },
      {
        "duration": 40,
        "start_time": "2022-05-30T10:37:23.538Z"
      },
      {
        "duration": 40,
        "start_time": "2022-05-30T10:37:23.579Z"
      },
      {
        "duration": 16,
        "start_time": "2022-05-30T10:37:23.620Z"
      },
      {
        "duration": 4,
        "start_time": "2022-05-30T10:37:23.638Z"
      },
      {
        "duration": 3,
        "start_time": "2022-05-30T10:37:23.644Z"
      },
      {
        "duration": 28,
        "start_time": "2022-05-30T10:37:23.649Z"
      },
      {
        "duration": 81,
        "start_time": "2022-05-30T10:37:23.678Z"
      },
      {
        "duration": 16,
        "start_time": "2022-05-30T10:37:23.761Z"
      },
      {
        "duration": 26,
        "start_time": "2022-05-30T10:37:23.778Z"
      },
      {
        "duration": 81,
        "start_time": "2022-05-30T10:37:23.806Z"
      },
      {
        "duration": 10,
        "start_time": "2022-05-30T10:37:23.888Z"
      },
      {
        "duration": 15,
        "start_time": "2022-05-30T10:37:23.899Z"
      },
      {
        "duration": 23,
        "start_time": "2022-05-30T10:37:23.915Z"
      },
      {
        "duration": 24897,
        "start_time": "2022-05-30T10:37:23.939Z"
      },
      {
        "duration": 9,
        "start_time": "2022-05-30T10:37:48.837Z"
      },
      {
        "duration": 29,
        "start_time": "2022-05-30T10:37:48.847Z"
      },
      {
        "duration": 4,
        "start_time": "2022-05-30T10:37:48.880Z"
      },
      {
        "duration": 10,
        "start_time": "2022-05-30T10:37:48.885Z"
      },
      {
        "duration": 15,
        "start_time": "2022-05-30T10:37:48.897Z"
      },
      {
        "duration": 16,
        "start_time": "2022-05-30T10:37:48.913Z"
      },
      {
        "duration": 11,
        "start_time": "2022-05-30T10:37:48.931Z"
      },
      {
        "duration": 10,
        "start_time": "2022-05-30T10:37:48.975Z"
      },
      {
        "duration": 38,
        "start_time": "2022-05-30T10:37:48.986Z"
      },
      {
        "duration": 680,
        "start_time": "2022-05-30T10:37:49.025Z"
      },
      {
        "duration": 10,
        "start_time": "2022-05-30T10:37:49.706Z"
      },
      {
        "duration": 678,
        "start_time": "2022-05-30T10:37:49.717Z"
      },
      {
        "duration": 7,
        "start_time": "2022-05-30T10:37:50.397Z"
      },
      {
        "duration": 23,
        "start_time": "2022-05-30T10:37:50.405Z"
      }
    ],
    "kernelspec": {
      "display_name": "Python 3 (ipykernel)",
      "language": "python",
      "name": "python3"
    },
    "language_info": {
      "codemirror_mode": {
        "name": "ipython",
        "version": 3
      },
      "file_extension": ".py",
      "mimetype": "text/x-python",
      "name": "python",
      "nbconvert_exporter": "python",
      "pygments_lexer": "ipython3",
      "version": "3.9.5"
    },
    "toc": {
      "base_numbering": 1,
      "nav_menu": {},
      "number_sections": true,
      "sideBar": true,
      "skip_h1_title": true,
      "title_cell": "Table of Contents",
      "title_sidebar": "Contents",
      "toc_cell": false,
      "toc_position": {
        "height": "calc(100% - 180px)",
        "left": "10px",
        "top": "150px",
        "width": "273.391px"
      },
      "toc_section_display": true,
      "toc_window_display": true
    },
    "colab": {
      "provenance": [],
      "toc_visible": true
    }
  },
  "nbformat": 4,
  "nbformat_minor": 0
}
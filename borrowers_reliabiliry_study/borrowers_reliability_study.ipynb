{
  "metadata": {
    "ExecuteTimeLog": [
      {
        "duration": 703,
        "start_time": "2022-04-23T16:05:56.605Z"
      },
      {
        "duration": 101,
        "start_time": "2022-04-23T16:06:52.769Z"
      },
      {
        "duration": 140,
        "start_time": "2022-04-23T16:07:07.400Z"
      },
      {
        "duration": 166,
        "start_time": "2022-04-23T16:07:29.772Z"
      },
      {
        "duration": 86,
        "start_time": "2022-04-23T16:10:34.868Z"
      },
      {
        "duration": 9,
        "start_time": "2022-04-23T16:32:46.756Z"
      },
      {
        "duration": 29,
        "start_time": "2022-04-23T16:41:04.432Z"
      },
      {
        "duration": 6,
        "start_time": "2022-04-23T16:52:58.077Z"
      },
      {
        "duration": 159,
        "start_time": "2022-04-23T16:53:52.264Z"
      },
      {
        "duration": 5,
        "start_time": "2022-04-23T16:54:03.913Z"
      },
      {
        "duration": 7,
        "start_time": "2022-04-23T16:54:21.152Z"
      },
      {
        "duration": 7,
        "start_time": "2022-04-23T16:54:28.709Z"
      },
      {
        "duration": 8,
        "start_time": "2022-04-23T16:58:42.188Z"
      },
      {
        "duration": 8,
        "start_time": "2022-04-23T17:01:26.639Z"
      },
      {
        "duration": 9,
        "start_time": "2022-04-23T17:01:31.421Z"
      },
      {
        "duration": 128,
        "start_time": "2022-04-23T17:01:43.974Z"
      },
      {
        "duration": 35,
        "start_time": "2022-04-23T17:02:32.148Z"
      },
      {
        "duration": 22,
        "start_time": "2022-04-23T17:02:50.391Z"
      },
      {
        "duration": 23,
        "start_time": "2022-04-23T17:03:15.619Z"
      },
      {
        "duration": 29,
        "start_time": "2022-04-23T17:03:45.256Z"
      },
      {
        "duration": 7,
        "start_time": "2022-04-23T17:04:07.000Z"
      },
      {
        "duration": 22,
        "start_time": "2022-04-23T17:05:01.585Z"
      },
      {
        "duration": 29,
        "start_time": "2022-04-23T17:11:11.130Z"
      },
      {
        "duration": 106,
        "start_time": "2022-04-23T17:12:14.011Z"
      },
      {
        "duration": 750,
        "start_time": "2022-04-23T17:12:37.202Z"
      },
      {
        "duration": 13,
        "start_time": "2022-04-23T17:13:51.872Z"
      },
      {
        "duration": 6,
        "start_time": "2022-04-23T17:13:57.789Z"
      },
      {
        "duration": 33,
        "start_time": "2022-04-23T17:14:04.664Z"
      },
      {
        "duration": 577,
        "start_time": "2022-04-23T17:14:30.660Z"
      },
      {
        "duration": 13,
        "start_time": "2022-04-23T17:14:40.754Z"
      },
      {
        "duration": 24,
        "start_time": "2022-04-23T17:14:45.200Z"
      },
      {
        "duration": 26,
        "start_time": "2022-04-23T17:14:52.951Z"
      },
      {
        "duration": 22,
        "start_time": "2022-04-23T17:14:58.338Z"
      },
      {
        "duration": 797,
        "start_time": "2022-04-23T17:16:59.839Z"
      },
      {
        "duration": 27,
        "start_time": "2022-04-23T17:17:00.639Z"
      },
      {
        "duration": 38,
        "start_time": "2022-04-23T17:17:00.669Z"
      },
      {
        "duration": 45,
        "start_time": "2022-04-23T17:17:00.711Z"
      },
      {
        "duration": 28,
        "start_time": "2022-04-23T17:17:00.759Z"
      },
      {
        "duration": 31,
        "start_time": "2022-04-23T17:18:57.537Z"
      },
      {
        "duration": 25,
        "start_time": "2022-04-23T17:19:29.677Z"
      },
      {
        "duration": 43,
        "start_time": "2022-04-24T08:03:57.018Z"
      },
      {
        "duration": 562,
        "start_time": "2022-04-24T08:07:13.244Z"
      },
      {
        "duration": 13,
        "start_time": "2022-04-24T08:07:13.808Z"
      },
      {
        "duration": 16,
        "start_time": "2022-04-24T08:07:13.823Z"
      },
      {
        "duration": 14,
        "start_time": "2022-04-24T08:07:13.841Z"
      },
      {
        "duration": 12,
        "start_time": "2022-04-24T08:07:13.857Z"
      },
      {
        "duration": 15,
        "start_time": "2022-04-24T08:07:13.870Z"
      },
      {
        "duration": 49,
        "start_time": "2022-04-24T08:07:13.886Z"
      },
      {
        "duration": 11,
        "start_time": "2022-04-24T08:09:01.875Z"
      },
      {
        "duration": 11,
        "start_time": "2022-04-24T08:15:36.140Z"
      },
      {
        "duration": 426,
        "start_time": "2022-04-24T08:15:49.151Z"
      },
      {
        "duration": 20,
        "start_time": "2022-04-24T08:15:53.105Z"
      },
      {
        "duration": 5,
        "start_time": "2022-04-24T08:17:53.543Z"
      },
      {
        "duration": 21,
        "start_time": "2022-04-24T08:18:06.422Z"
      },
      {
        "duration": 21,
        "start_time": "2022-04-24T08:18:12.868Z"
      },
      {
        "duration": 7,
        "start_time": "2022-04-24T08:46:47.439Z"
      },
      {
        "duration": 6,
        "start_time": "2022-04-24T08:48:04.083Z"
      },
      {
        "duration": 63,
        "start_time": "2022-04-24T08:54:03.225Z"
      },
      {
        "duration": 21,
        "start_time": "2022-04-24T08:55:07.292Z"
      },
      {
        "duration": 9,
        "start_time": "2022-04-24T08:57:01.542Z"
      },
      {
        "duration": 117,
        "start_time": "2022-04-24T08:57:26.961Z"
      },
      {
        "duration": 100,
        "start_time": "2022-04-24T08:57:50.903Z"
      },
      {
        "duration": 8,
        "start_time": "2022-04-24T08:57:57.130Z"
      },
      {
        "duration": 8,
        "start_time": "2022-04-24T08:58:16.767Z"
      },
      {
        "duration": 23,
        "start_time": "2022-04-24T08:59:20.852Z"
      },
      {
        "duration": 17,
        "start_time": "2022-04-24T09:00:24.473Z"
      },
      {
        "duration": 6,
        "start_time": "2022-04-24T09:03:45.466Z"
      },
      {
        "duration": 1479,
        "start_time": "2022-04-24T09:10:34.939Z"
      },
      {
        "duration": 1202,
        "start_time": "2022-04-24T09:10:57.162Z"
      },
      {
        "duration": 22,
        "start_time": "2022-04-24T09:11:32.126Z"
      },
      {
        "duration": 1707,
        "start_time": "2022-04-24T09:11:38.425Z"
      },
      {
        "duration": 8,
        "start_time": "2022-04-24T09:18:35.104Z"
      },
      {
        "duration": 7,
        "start_time": "2022-04-24T09:18:45.889Z"
      },
      {
        "duration": 10,
        "start_time": "2022-04-24T09:18:57.434Z"
      },
      {
        "duration": 8,
        "start_time": "2022-04-24T09:19:06.805Z"
      },
      {
        "duration": 106,
        "start_time": "2022-04-24T09:19:56.768Z"
      },
      {
        "duration": 111,
        "start_time": "2022-04-24T09:20:12.421Z"
      },
      {
        "duration": 16,
        "start_time": "2022-04-24T09:20:33.629Z"
      },
      {
        "duration": 7,
        "start_time": "2022-04-24T09:20:58.974Z"
      },
      {
        "duration": 7,
        "start_time": "2022-04-24T09:21:24.615Z"
      },
      {
        "duration": 7,
        "start_time": "2022-04-24T09:21:30.181Z"
      },
      {
        "duration": 7,
        "start_time": "2022-04-24T09:21:57.875Z"
      },
      {
        "duration": 6,
        "start_time": "2022-04-24T09:22:31.575Z"
      },
      {
        "duration": 7,
        "start_time": "2022-04-24T09:22:54.387Z"
      },
      {
        "duration": 7,
        "start_time": "2022-04-24T09:23:06.483Z"
      },
      {
        "duration": 7,
        "start_time": "2022-04-24T09:23:15.161Z"
      },
      {
        "duration": 6,
        "start_time": "2022-04-24T09:29:39.559Z"
      },
      {
        "duration": 1217,
        "start_time": "2022-04-24T09:32:06.895Z"
      },
      {
        "duration": 1359,
        "start_time": "2022-04-24T09:32:19.331Z"
      },
      {
        "duration": 16,
        "start_time": "2022-04-24T09:33:04.052Z"
      },
      {
        "duration": 19,
        "start_time": "2022-04-24T09:33:32.437Z"
      },
      {
        "duration": 6,
        "start_time": "2022-04-24T09:35:55.583Z"
      },
      {
        "duration": 1474,
        "start_time": "2022-04-24T09:36:13.533Z"
      },
      {
        "duration": 11,
        "start_time": "2022-04-24T09:40:21.933Z"
      },
      {
        "duration": 21,
        "start_time": "2022-04-24T09:43:03.413Z"
      },
      {
        "duration": 6,
        "start_time": "2022-04-24T09:44:04.454Z"
      },
      {
        "duration": 5,
        "start_time": "2022-04-24T09:44:25.347Z"
      },
      {
        "duration": 18,
        "start_time": "2022-04-24T09:47:03.193Z"
      },
      {
        "duration": 20,
        "start_time": "2022-04-24T09:47:22.309Z"
      },
      {
        "duration": 28,
        "start_time": "2022-04-24T09:47:56.310Z"
      },
      {
        "duration": 1655,
        "start_time": "2022-04-24T09:53:12.965Z"
      },
      {
        "duration": 105,
        "start_time": "2022-04-24T09:55:35.661Z"
      },
      {
        "duration": 16,
        "start_time": "2022-04-24T09:55:43.150Z"
      },
      {
        "duration": 17,
        "start_time": "2022-04-24T09:56:03.170Z"
      },
      {
        "duration": 8,
        "start_time": "2022-04-24T10:00:17.811Z"
      },
      {
        "duration": 102,
        "start_time": "2022-04-24T10:02:14.242Z"
      },
      {
        "duration": 16,
        "start_time": "2022-04-24T10:02:19.503Z"
      },
      {
        "duration": 16,
        "start_time": "2022-04-24T10:22:35.450Z"
      },
      {
        "duration": 20,
        "start_time": "2022-04-24T10:22:59.150Z"
      },
      {
        "duration": 14,
        "start_time": "2022-04-24T10:23:25.636Z"
      },
      {
        "duration": 16,
        "start_time": "2022-04-24T10:23:41.906Z"
      },
      {
        "duration": 8,
        "start_time": "2022-04-24T10:24:38.460Z"
      },
      {
        "duration": 13,
        "start_time": "2022-04-24T10:25:10.375Z"
      },
      {
        "duration": 7,
        "start_time": "2022-04-24T10:25:53.677Z"
      },
      {
        "duration": 114,
        "start_time": "2022-04-24T10:27:08.154Z"
      },
      {
        "duration": 125,
        "start_time": "2022-04-24T10:27:37.069Z"
      },
      {
        "duration": 105,
        "start_time": "2022-04-24T10:27:50.767Z"
      },
      {
        "duration": 14,
        "start_time": "2022-04-24T10:28:08.629Z"
      },
      {
        "duration": 9,
        "start_time": "2022-04-24T10:28:22.046Z"
      },
      {
        "duration": 32,
        "start_time": "2022-04-24T10:29:25.306Z"
      },
      {
        "duration": 7,
        "start_time": "2022-04-24T10:39:59.025Z"
      },
      {
        "duration": 25,
        "start_time": "2022-04-24T10:41:12.242Z"
      },
      {
        "duration": 27,
        "start_time": "2022-04-24T10:41:28.064Z"
      },
      {
        "duration": 506,
        "start_time": "2022-04-24T10:41:49.903Z"
      },
      {
        "duration": 27,
        "start_time": "2022-04-24T10:41:50.411Z"
      },
      {
        "duration": 17,
        "start_time": "2022-04-24T10:41:50.444Z"
      },
      {
        "duration": 15,
        "start_time": "2022-04-24T10:41:50.464Z"
      },
      {
        "duration": 14,
        "start_time": "2022-04-24T10:41:50.480Z"
      },
      {
        "duration": 7,
        "start_time": "2022-04-24T10:41:50.496Z"
      },
      {
        "duration": 29,
        "start_time": "2022-04-24T10:41:50.504Z"
      },
      {
        "duration": 38,
        "start_time": "2022-04-24T10:41:50.534Z"
      },
      {
        "duration": 18,
        "start_time": "2022-04-24T10:41:50.574Z"
      },
      {
        "duration": 25,
        "start_time": "2022-04-24T10:41:50.594Z"
      },
      {
        "duration": 16,
        "start_time": "2022-04-24T12:35:23.138Z"
      },
      {
        "duration": 15,
        "start_time": "2022-04-24T12:53:33.390Z"
      },
      {
        "duration": 34,
        "start_time": "2022-04-24T12:56:47.612Z"
      },
      {
        "duration": 27,
        "start_time": "2022-04-24T12:59:02.682Z"
      },
      {
        "duration": 27,
        "start_time": "2022-04-24T13:00:29.598Z"
      },
      {
        "duration": 18,
        "start_time": "2022-04-24T13:02:48.541Z"
      },
      {
        "duration": 35,
        "start_time": "2022-04-24T13:06:12.638Z"
      },
      {
        "duration": 24,
        "start_time": "2022-04-24T13:11:02.688Z"
      },
      {
        "duration": 6,
        "start_time": "2022-04-24T13:14:00.262Z"
      },
      {
        "duration": 16,
        "start_time": "2022-04-24T13:21:31.333Z"
      },
      {
        "duration": 10,
        "start_time": "2022-04-24T13:25:19.183Z"
      },
      {
        "duration": 5,
        "start_time": "2022-04-24T13:25:51.268Z"
      },
      {
        "duration": 5,
        "start_time": "2022-04-24T13:26:14.660Z"
      },
      {
        "duration": 10,
        "start_time": "2022-04-24T13:26:25.334Z"
      },
      {
        "duration": 6,
        "start_time": "2022-04-24T13:26:37.409Z"
      },
      {
        "duration": 23,
        "start_time": "2022-04-24T13:28:53.833Z"
      },
      {
        "duration": 18,
        "start_time": "2022-04-24T13:29:25.766Z"
      },
      {
        "duration": 488,
        "start_time": "2022-04-24T13:30:14.725Z"
      },
      {
        "duration": 20,
        "start_time": "2022-04-24T13:30:15.215Z"
      },
      {
        "duration": 6,
        "start_time": "2022-04-24T13:30:15.237Z"
      },
      {
        "duration": 17,
        "start_time": "2022-04-24T13:30:15.246Z"
      },
      {
        "duration": 16,
        "start_time": "2022-04-24T13:30:15.265Z"
      },
      {
        "duration": 8,
        "start_time": "2022-04-24T13:30:15.283Z"
      },
      {
        "duration": 53,
        "start_time": "2022-04-24T13:30:15.293Z"
      },
      {
        "duration": 31,
        "start_time": "2022-04-24T13:30:15.349Z"
      },
      {
        "duration": 24,
        "start_time": "2022-04-24T13:30:15.382Z"
      },
      {
        "duration": 26,
        "start_time": "2022-04-24T13:30:15.427Z"
      },
      {
        "duration": 22,
        "start_time": "2022-04-24T13:30:15.456Z"
      },
      {
        "duration": 48,
        "start_time": "2022-04-24T13:30:15.480Z"
      },
      {
        "duration": 20,
        "start_time": "2022-04-24T13:30:15.530Z"
      },
      {
        "duration": 17,
        "start_time": "2022-04-24T13:32:04.075Z"
      },
      {
        "duration": 32,
        "start_time": "2022-04-24T13:32:57.663Z"
      },
      {
        "duration": 29,
        "start_time": "2022-04-24T13:38:06.333Z"
      },
      {
        "duration": 5,
        "start_time": "2022-04-24T13:39:17.355Z"
      },
      {
        "duration": 19,
        "start_time": "2022-04-24T13:41:43.284Z"
      },
      {
        "duration": 19,
        "start_time": "2022-04-24T13:41:51.294Z"
      },
      {
        "duration": 21,
        "start_time": "2022-04-24T13:57:13.513Z"
      },
      {
        "duration": 12,
        "start_time": "2022-04-24T13:57:22.245Z"
      },
      {
        "duration": 13,
        "start_time": "2022-04-24T14:00:28.395Z"
      },
      {
        "duration": 100,
        "start_time": "2022-04-24T14:00:44.268Z"
      },
      {
        "duration": 19,
        "start_time": "2022-04-24T14:00:54.129Z"
      },
      {
        "duration": 19,
        "start_time": "2022-04-24T14:02:50.317Z"
      },
      {
        "duration": 11,
        "start_time": "2022-04-24T14:03:11.866Z"
      },
      {
        "duration": 10,
        "start_time": "2022-04-24T14:07:32.379Z"
      },
      {
        "duration": 19,
        "start_time": "2022-04-24T14:18:20.583Z"
      },
      {
        "duration": 13,
        "start_time": "2022-04-24T14:18:36.476Z"
      },
      {
        "duration": 17,
        "start_time": "2022-04-24T14:19:40.692Z"
      },
      {
        "duration": 16,
        "start_time": "2022-04-24T14:23:03.166Z"
      },
      {
        "duration": 497,
        "start_time": "2022-04-24T14:23:19.465Z"
      },
      {
        "duration": 18,
        "start_time": "2022-04-24T14:23:19.965Z"
      },
      {
        "duration": 5,
        "start_time": "2022-04-24T14:23:19.985Z"
      },
      {
        "duration": 15,
        "start_time": "2022-04-24T14:23:19.992Z"
      },
      {
        "duration": 32,
        "start_time": "2022-04-24T14:23:20.009Z"
      },
      {
        "duration": 28,
        "start_time": "2022-04-24T14:23:20.042Z"
      },
      {
        "duration": 20,
        "start_time": "2022-04-24T14:23:20.072Z"
      },
      {
        "duration": 19,
        "start_time": "2022-04-24T14:23:20.094Z"
      },
      {
        "duration": 39,
        "start_time": "2022-04-24T14:23:20.124Z"
      },
      {
        "duration": 16,
        "start_time": "2022-04-24T14:23:20.165Z"
      },
      {
        "duration": 14,
        "start_time": "2022-04-24T14:23:20.182Z"
      },
      {
        "duration": 51,
        "start_time": "2022-04-24T14:23:20.198Z"
      },
      {
        "duration": 23,
        "start_time": "2022-04-24T14:23:20.250Z"
      },
      {
        "duration": 17,
        "start_time": "2022-04-24T14:23:20.275Z"
      },
      {
        "duration": 12,
        "start_time": "2022-04-24T14:23:20.294Z"
      },
      {
        "duration": 17,
        "start_time": "2022-04-24T14:23:20.328Z"
      },
      {
        "duration": 28,
        "start_time": "2022-04-24T14:23:20.346Z"
      },
      {
        "duration": 77,
        "start_time": "2022-04-24T14:27:23.022Z"
      },
      {
        "duration": 12,
        "start_time": "2022-04-24T14:27:55.219Z"
      },
      {
        "duration": 584,
        "start_time": "2022-04-24T14:28:06.945Z"
      },
      {
        "duration": 35,
        "start_time": "2022-04-24T14:28:07.532Z"
      },
      {
        "duration": 6,
        "start_time": "2022-04-24T14:28:07.569Z"
      },
      {
        "duration": 26,
        "start_time": "2022-04-24T14:28:07.577Z"
      },
      {
        "duration": 35,
        "start_time": "2022-04-24T14:28:07.606Z"
      },
      {
        "duration": 12,
        "start_time": "2022-04-24T14:28:07.645Z"
      },
      {
        "duration": 19,
        "start_time": "2022-04-24T14:28:07.659Z"
      },
      {
        "duration": 65,
        "start_time": "2022-04-24T14:28:07.681Z"
      },
      {
        "duration": 34,
        "start_time": "2022-04-24T14:28:07.750Z"
      },
      {
        "duration": 47,
        "start_time": "2022-04-24T14:28:07.786Z"
      },
      {
        "duration": 21,
        "start_time": "2022-04-24T14:28:07.836Z"
      },
      {
        "duration": 28,
        "start_time": "2022-04-24T14:28:07.859Z"
      },
      {
        "duration": 45,
        "start_time": "2022-04-24T14:28:07.889Z"
      },
      {
        "duration": 13,
        "start_time": "2022-04-24T14:28:07.940Z"
      },
      {
        "duration": 15,
        "start_time": "2022-04-24T14:28:07.955Z"
      },
      {
        "duration": 11,
        "start_time": "2022-04-24T14:28:07.972Z"
      },
      {
        "duration": 42,
        "start_time": "2022-04-24T14:28:07.985Z"
      },
      {
        "duration": 100,
        "start_time": "2022-04-24T14:28:15.598Z"
      },
      {
        "duration": 17,
        "start_time": "2022-04-24T14:28:41.184Z"
      },
      {
        "duration": 590,
        "start_time": "2022-04-24T14:29:21.847Z"
      },
      {
        "duration": 20,
        "start_time": "2022-04-24T14:29:22.440Z"
      },
      {
        "duration": 5,
        "start_time": "2022-04-24T14:29:22.462Z"
      },
      {
        "duration": 18,
        "start_time": "2022-04-24T14:29:22.470Z"
      },
      {
        "duration": 47,
        "start_time": "2022-04-24T14:29:22.489Z"
      },
      {
        "duration": 10,
        "start_time": "2022-04-24T14:29:22.538Z"
      },
      {
        "duration": 23,
        "start_time": "2022-04-24T14:29:22.550Z"
      },
      {
        "duration": 22,
        "start_time": "2022-04-24T14:29:22.574Z"
      },
      {
        "duration": 47,
        "start_time": "2022-04-24T14:29:22.598Z"
      },
      {
        "duration": 24,
        "start_time": "2022-04-24T14:29:22.649Z"
      },
      {
        "duration": 15,
        "start_time": "2022-04-24T14:29:22.675Z"
      },
      {
        "duration": 52,
        "start_time": "2022-04-24T14:29:22.692Z"
      },
      {
        "duration": 14,
        "start_time": "2022-04-24T14:29:22.748Z"
      },
      {
        "duration": 11,
        "start_time": "2022-04-24T14:29:22.765Z"
      },
      {
        "duration": 11,
        "start_time": "2022-04-24T14:29:22.778Z"
      },
      {
        "duration": 43,
        "start_time": "2022-04-24T14:29:22.792Z"
      },
      {
        "duration": 142,
        "start_time": "2022-04-24T14:43:00.637Z"
      },
      {
        "duration": 121,
        "start_time": "2022-04-24T14:45:31.692Z"
      },
      {
        "duration": 12,
        "start_time": "2022-04-24T14:46:08.251Z"
      },
      {
        "duration": 116,
        "start_time": "2022-04-24T14:46:44.939Z"
      },
      {
        "duration": 11,
        "start_time": "2022-04-24T14:47:35.893Z"
      },
      {
        "duration": 11,
        "start_time": "2022-04-24T14:47:55.421Z"
      },
      {
        "duration": 112,
        "start_time": "2022-04-24T14:48:11.875Z"
      },
      {
        "duration": 15,
        "start_time": "2022-04-24T14:48:19.703Z"
      },
      {
        "duration": 26,
        "start_time": "2022-04-24T14:52:43.219Z"
      },
      {
        "duration": 108,
        "start_time": "2022-04-24T15:59:37.162Z"
      },
      {
        "duration": 120,
        "start_time": "2022-04-24T16:00:19.909Z"
      },
      {
        "duration": 8,
        "start_time": "2022-04-24T16:00:26.615Z"
      },
      {
        "duration": 16,
        "start_time": "2022-04-24T16:02:45.937Z"
      },
      {
        "duration": 28,
        "start_time": "2022-04-24T16:03:07.575Z"
      },
      {
        "duration": 17,
        "start_time": "2022-04-24T16:03:50.981Z"
      },
      {
        "duration": 21,
        "start_time": "2022-04-24T16:04:28.417Z"
      },
      {
        "duration": 9,
        "start_time": "2022-04-24T16:12:20.755Z"
      },
      {
        "duration": 5,
        "start_time": "2022-04-24T16:13:25.539Z"
      },
      {
        "duration": 5,
        "start_time": "2022-04-24T16:15:45.982Z"
      },
      {
        "duration": 127,
        "start_time": "2022-04-24T16:17:40.562Z"
      },
      {
        "duration": 10,
        "start_time": "2022-04-24T16:21:34.224Z"
      },
      {
        "duration": 5,
        "start_time": "2022-04-24T16:21:36.546Z"
      },
      {
        "duration": 6,
        "start_time": "2022-04-24T16:22:07.705Z"
      },
      {
        "duration": 16,
        "start_time": "2022-04-24T16:22:53.454Z"
      },
      {
        "duration": 15,
        "start_time": "2022-04-24T16:23:20.241Z"
      },
      {
        "duration": 6,
        "start_time": "2022-04-24T16:23:30.701Z"
      },
      {
        "duration": 586,
        "start_time": "2022-04-24T16:24:23.578Z"
      },
      {
        "duration": 28,
        "start_time": "2022-04-24T16:24:24.166Z"
      },
      {
        "duration": 5,
        "start_time": "2022-04-24T16:24:24.196Z"
      },
      {
        "duration": 34,
        "start_time": "2022-04-24T16:24:24.204Z"
      },
      {
        "duration": 14,
        "start_time": "2022-04-24T16:24:24.240Z"
      },
      {
        "duration": 7,
        "start_time": "2022-04-24T16:24:24.256Z"
      },
      {
        "duration": 15,
        "start_time": "2022-04-24T16:24:24.264Z"
      },
      {
        "duration": 54,
        "start_time": "2022-04-24T16:24:24.280Z"
      },
      {
        "duration": 21,
        "start_time": "2022-04-24T16:24:24.338Z"
      },
      {
        "duration": 15,
        "start_time": "2022-04-24T16:24:24.361Z"
      },
      {
        "duration": 4,
        "start_time": "2022-04-24T16:24:24.377Z"
      },
      {
        "duration": 10,
        "start_time": "2022-04-24T16:24:24.383Z"
      },
      {
        "duration": 17,
        "start_time": "2022-04-24T16:24:24.424Z"
      },
      {
        "duration": 14,
        "start_time": "2022-04-24T16:24:24.443Z"
      },
      {
        "duration": 13,
        "start_time": "2022-04-24T16:24:24.459Z"
      },
      {
        "duration": 12,
        "start_time": "2022-04-24T16:24:24.473Z"
      },
      {
        "duration": 48,
        "start_time": "2022-04-24T16:24:24.487Z"
      },
      {
        "duration": 16,
        "start_time": "2022-04-24T16:24:24.537Z"
      },
      {
        "duration": 13,
        "start_time": "2022-04-24T16:24:24.555Z"
      },
      {
        "duration": 14,
        "start_time": "2022-04-24T16:24:24.569Z"
      },
      {
        "duration": 41,
        "start_time": "2022-04-24T16:24:24.584Z"
      },
      {
        "duration": 19,
        "start_time": "2022-04-24T16:24:24.631Z"
      },
      {
        "duration": 3,
        "start_time": "2022-04-24T16:24:24.652Z"
      },
      {
        "duration": 7,
        "start_time": "2022-04-24T16:24:45.345Z"
      },
      {
        "duration": 12,
        "start_time": "2022-04-24T16:35:10.013Z"
      },
      {
        "duration": 9,
        "start_time": "2022-04-24T16:36:02.142Z"
      },
      {
        "duration": 65,
        "start_time": "2022-04-24T16:40:43.721Z"
      },
      {
        "duration": 6,
        "start_time": "2022-04-24T16:42:01.174Z"
      },
      {
        "duration": 9,
        "start_time": "2022-04-24T16:49:34.644Z"
      },
      {
        "duration": 4,
        "start_time": "2022-04-24T16:51:43.810Z"
      },
      {
        "duration": 4,
        "start_time": "2022-04-24T16:51:53.163Z"
      },
      {
        "duration": 9,
        "start_time": "2022-04-24T16:51:57.561Z"
      },
      {
        "duration": 137,
        "start_time": "2022-04-24T16:52:16.812Z"
      },
      {
        "duration": 116,
        "start_time": "2022-04-24T16:52:34.600Z"
      },
      {
        "duration": 102,
        "start_time": "2022-04-24T16:52:49.457Z"
      },
      {
        "duration": 9,
        "start_time": "2022-04-24T16:52:57.659Z"
      },
      {
        "duration": 144,
        "start_time": "2022-04-24T16:59:08.814Z"
      },
      {
        "duration": 121,
        "start_time": "2022-04-24T16:59:31.243Z"
      },
      {
        "duration": 109,
        "start_time": "2022-04-24T16:59:36.867Z"
      },
      {
        "duration": 108,
        "start_time": "2022-04-24T16:59:45.776Z"
      },
      {
        "duration": 18,
        "start_time": "2022-04-24T16:59:51.933Z"
      },
      {
        "duration": 175,
        "start_time": "2022-04-24T17:00:05.211Z"
      },
      {
        "duration": 176,
        "start_time": "2022-04-24T17:00:14.912Z"
      },
      {
        "duration": 11,
        "start_time": "2022-04-24T17:02:05.831Z"
      },
      {
        "duration": 13,
        "start_time": "2022-04-24T17:07:35.333Z"
      },
      {
        "duration": 16,
        "start_time": "2022-04-24T17:10:03.633Z"
      },
      {
        "duration": 8,
        "start_time": "2022-04-24T17:10:15.868Z"
      },
      {
        "duration": 8,
        "start_time": "2022-04-24T17:13:16.550Z"
      },
      {
        "duration": 8,
        "start_time": "2022-04-24T17:14:39.464Z"
      },
      {
        "duration": 9,
        "start_time": "2022-04-24T17:21:26.165Z"
      },
      {
        "duration": 8,
        "start_time": "2022-04-24T17:21:36.397Z"
      },
      {
        "duration": 8,
        "start_time": "2022-04-24T17:23:09.541Z"
      },
      {
        "duration": 6,
        "start_time": "2022-04-24T17:23:47.240Z"
      },
      {
        "duration": 8,
        "start_time": "2022-04-24T17:26:44.789Z"
      },
      {
        "duration": 11,
        "start_time": "2022-04-24T17:28:16.062Z"
      },
      {
        "duration": 8,
        "start_time": "2022-04-24T17:28:43.692Z"
      },
      {
        "duration": 8,
        "start_time": "2022-04-24T17:32:03.417Z"
      },
      {
        "duration": 8,
        "start_time": "2022-04-24T17:33:49.796Z"
      },
      {
        "duration": 11,
        "start_time": "2022-04-24T17:45:32.962Z"
      },
      {
        "duration": 9,
        "start_time": "2022-04-24T17:47:37.641Z"
      },
      {
        "duration": 8,
        "start_time": "2022-04-24T17:48:21.480Z"
      },
      {
        "duration": 10,
        "start_time": "2022-04-24T17:51:21.112Z"
      },
      {
        "duration": 8,
        "start_time": "2022-04-24T17:52:09.385Z"
      },
      {
        "duration": 12,
        "start_time": "2022-04-24T17:52:48.899Z"
      },
      {
        "duration": 10,
        "start_time": "2022-04-24T17:57:29.997Z"
      },
      {
        "duration": 17,
        "start_time": "2022-04-24T17:58:53.835Z"
      },
      {
        "duration": 8,
        "start_time": "2022-04-24T18:00:23.093Z"
      },
      {
        "duration": 489,
        "start_time": "2022-04-24T18:02:24.647Z"
      },
      {
        "duration": 32,
        "start_time": "2022-04-24T18:02:25.138Z"
      },
      {
        "duration": 12,
        "start_time": "2022-04-24T18:02:25.172Z"
      },
      {
        "duration": 15,
        "start_time": "2022-04-24T18:02:25.186Z"
      },
      {
        "duration": 14,
        "start_time": "2022-04-24T18:02:25.202Z"
      },
      {
        "duration": 11,
        "start_time": "2022-04-24T18:02:25.217Z"
      },
      {
        "duration": 62,
        "start_time": "2022-04-24T18:02:25.236Z"
      },
      {
        "duration": 20,
        "start_time": "2022-04-24T18:02:25.300Z"
      },
      {
        "duration": 39,
        "start_time": "2022-04-24T18:02:25.321Z"
      },
      {
        "duration": 32,
        "start_time": "2022-04-24T18:02:25.364Z"
      },
      {
        "duration": 4,
        "start_time": "2022-04-24T18:02:25.398Z"
      },
      {
        "duration": 12,
        "start_time": "2022-04-24T18:02:25.403Z"
      },
      {
        "duration": 21,
        "start_time": "2022-04-24T18:02:25.416Z"
      },
      {
        "duration": 50,
        "start_time": "2022-04-24T18:02:25.441Z"
      },
      {
        "duration": 13,
        "start_time": "2022-04-24T18:02:25.493Z"
      },
      {
        "duration": 12,
        "start_time": "2022-04-24T18:02:25.508Z"
      },
      {
        "duration": 20,
        "start_time": "2022-04-24T18:02:25.522Z"
      },
      {
        "duration": 53,
        "start_time": "2022-04-24T18:02:25.544Z"
      },
      {
        "duration": 12,
        "start_time": "2022-04-24T18:02:25.599Z"
      },
      {
        "duration": 27,
        "start_time": "2022-04-24T18:02:25.613Z"
      },
      {
        "duration": 20,
        "start_time": "2022-04-24T18:02:25.642Z"
      },
      {
        "duration": 46,
        "start_time": "2022-04-24T18:02:25.663Z"
      },
      {
        "duration": 22,
        "start_time": "2022-04-24T18:02:25.711Z"
      },
      {
        "duration": 12,
        "start_time": "2022-04-24T18:02:25.737Z"
      },
      {
        "duration": 40,
        "start_time": "2022-04-24T18:02:25.751Z"
      },
      {
        "duration": 10,
        "start_time": "2022-04-24T18:02:25.793Z"
      },
      {
        "duration": 19,
        "start_time": "2022-04-24T18:04:21.450Z"
      },
      {
        "duration": 39,
        "start_time": "2022-04-24T18:05:01.657Z"
      },
      {
        "duration": 39,
        "start_time": "2022-04-24T18:05:52.810Z"
      },
      {
        "duration": 497,
        "start_time": "2022-04-24T18:06:50.046Z"
      },
      {
        "duration": 31,
        "start_time": "2022-04-24T18:06:50.549Z"
      },
      {
        "duration": 5,
        "start_time": "2022-04-24T18:06:50.582Z"
      },
      {
        "duration": 16,
        "start_time": "2022-04-24T18:06:50.589Z"
      },
      {
        "duration": 45,
        "start_time": "2022-04-24T18:06:50.606Z"
      },
      {
        "duration": 15,
        "start_time": "2022-04-24T18:06:50.653Z"
      },
      {
        "duration": 27,
        "start_time": "2022-04-24T18:06:50.670Z"
      },
      {
        "duration": 42,
        "start_time": "2022-04-24T18:06:50.699Z"
      },
      {
        "duration": 24,
        "start_time": "2022-04-24T18:06:50.746Z"
      },
      {
        "duration": 23,
        "start_time": "2022-04-24T18:06:50.773Z"
      },
      {
        "duration": 4,
        "start_time": "2022-04-24T18:06:50.798Z"
      },
      {
        "duration": 40,
        "start_time": "2022-04-24T18:06:50.803Z"
      },
      {
        "duration": 30,
        "start_time": "2022-04-24T18:06:50.848Z"
      },
      {
        "duration": 16,
        "start_time": "2022-04-24T18:06:50.880Z"
      },
      {
        "duration": 37,
        "start_time": "2022-04-24T18:06:50.897Z"
      },
      {
        "duration": 20,
        "start_time": "2022-04-24T18:06:50.936Z"
      },
      {
        "duration": 19,
        "start_time": "2022-04-24T18:06:50.958Z"
      },
      {
        "duration": 23,
        "start_time": "2022-04-24T18:06:50.978Z"
      },
      {
        "duration": 17,
        "start_time": "2022-04-24T18:06:51.003Z"
      },
      {
        "duration": 51,
        "start_time": "2022-04-24T18:06:51.024Z"
      },
      {
        "duration": 9,
        "start_time": "2022-04-24T18:06:51.076Z"
      },
      {
        "duration": 36,
        "start_time": "2022-04-24T18:06:51.086Z"
      },
      {
        "duration": 48,
        "start_time": "2022-04-24T18:06:51.127Z"
      },
      {
        "duration": 42,
        "start_time": "2022-04-24T18:06:51.176Z"
      },
      {
        "duration": 22,
        "start_time": "2022-04-24T18:06:51.219Z"
      },
      {
        "duration": 39,
        "start_time": "2022-04-24T18:06:51.244Z"
      },
      {
        "duration": 421,
        "start_time": "2022-04-25T15:39:46.543Z"
      },
      {
        "duration": 17,
        "start_time": "2022-04-25T15:39:56.157Z"
      },
      {
        "duration": 14,
        "start_time": "2022-04-25T15:40:46.980Z"
      },
      {
        "duration": 15,
        "start_time": "2022-04-25T15:40:57.812Z"
      },
      {
        "duration": 8,
        "start_time": "2022-04-25T15:41:12.478Z"
      },
      {
        "duration": 16,
        "start_time": "2022-04-25T15:41:30.217Z"
      },
      {
        "duration": 19,
        "start_time": "2022-04-25T15:41:44.580Z"
      },
      {
        "duration": 19,
        "start_time": "2022-04-25T15:42:01.609Z"
      },
      {
        "duration": 16,
        "start_time": "2022-04-25T15:42:09.888Z"
      },
      {
        "duration": 4,
        "start_time": "2022-04-25T15:42:18.029Z"
      },
      {
        "duration": 10,
        "start_time": "2022-04-25T15:42:27.940Z"
      },
      {
        "duration": 15,
        "start_time": "2022-04-25T15:42:45.394Z"
      },
      {
        "duration": 17,
        "start_time": "2022-04-25T15:42:52.532Z"
      },
      {
        "duration": 15,
        "start_time": "2022-04-25T15:42:59.348Z"
      },
      {
        "duration": 12,
        "start_time": "2022-04-25T15:43:17.212Z"
      },
      {
        "duration": 13,
        "start_time": "2022-04-25T15:43:35.196Z"
      },
      {
        "duration": 11,
        "start_time": "2022-04-25T15:43:43.605Z"
      },
      {
        "duration": 11,
        "start_time": "2022-04-25T15:43:53.591Z"
      },
      {
        "duration": 11,
        "start_time": "2022-04-25T15:44:03.978Z"
      },
      {
        "duration": 10,
        "start_time": "2022-04-25T15:44:12.604Z"
      },
      {
        "duration": 15,
        "start_time": "2022-04-25T15:44:21.295Z"
      },
      {
        "duration": 7,
        "start_time": "2022-04-25T15:44:26.911Z"
      },
      {
        "duration": 16,
        "start_time": "2022-04-25T15:44:34.119Z"
      },
      {
        "duration": 11,
        "start_time": "2022-04-25T15:44:51.245Z"
      },
      {
        "duration": 29,
        "start_time": "2022-04-25T15:45:05.897Z"
      },
      {
        "duration": 10,
        "start_time": "2022-04-25T15:45:13.509Z"
      },
      {
        "duration": 12,
        "start_time": "2022-04-25T15:45:21.471Z"
      },
      {
        "duration": 106,
        "start_time": "2022-04-25T16:00:14.809Z"
      },
      {
        "duration": 19,
        "start_time": "2022-04-25T16:00:32.813Z"
      },
      {
        "duration": 21,
        "start_time": "2022-04-25T16:01:17.846Z"
      },
      {
        "duration": 25,
        "start_time": "2022-04-25T16:01:32.453Z"
      },
      {
        "duration": 448,
        "start_time": "2022-04-25T16:03:18.913Z"
      },
      {
        "duration": 18,
        "start_time": "2022-04-25T16:03:19.362Z"
      },
      {
        "duration": 19,
        "start_time": "2022-04-25T16:03:19.382Z"
      },
      {
        "duration": 14,
        "start_time": "2022-04-25T16:03:19.403Z"
      },
      {
        "duration": 8,
        "start_time": "2022-04-25T16:03:19.418Z"
      },
      {
        "duration": 16,
        "start_time": "2022-04-25T16:03:19.427Z"
      },
      {
        "duration": 19,
        "start_time": "2022-04-25T16:03:19.444Z"
      },
      {
        "duration": 55,
        "start_time": "2022-04-25T16:03:19.464Z"
      },
      {
        "duration": 23,
        "start_time": "2022-04-25T16:03:19.521Z"
      },
      {
        "duration": 5,
        "start_time": "2022-04-25T16:03:19.547Z"
      },
      {
        "duration": 11,
        "start_time": "2022-04-25T16:03:19.554Z"
      },
      {
        "duration": 45,
        "start_time": "2022-04-25T16:03:19.566Z"
      },
      {
        "duration": 14,
        "start_time": "2022-04-25T16:03:19.613Z"
      },
      {
        "duration": 15,
        "start_time": "2022-04-25T16:03:19.629Z"
      },
      {
        "duration": 13,
        "start_time": "2022-04-25T16:03:19.646Z"
      },
      {
        "duration": 42,
        "start_time": "2022-04-25T16:03:19.661Z"
      },
      {
        "duration": 10,
        "start_time": "2022-04-25T16:03:19.705Z"
      },
      {
        "duration": 11,
        "start_time": "2022-04-25T16:03:19.717Z"
      },
      {
        "duration": 21,
        "start_time": "2022-04-25T16:03:19.729Z"
      },
      {
        "duration": 9,
        "start_time": "2022-04-25T16:03:19.752Z"
      },
      {
        "duration": 50,
        "start_time": "2022-04-25T16:03:19.762Z"
      },
      {
        "duration": 8,
        "start_time": "2022-04-25T16:03:19.814Z"
      },
      {
        "duration": 25,
        "start_time": "2022-04-25T16:03:19.823Z"
      },
      {
        "duration": 10,
        "start_time": "2022-04-25T16:03:19.849Z"
      },
      {
        "duration": 41,
        "start_time": "2022-04-25T16:03:19.860Z"
      },
      {
        "duration": 54,
        "start_time": "2022-05-01T17:21:28.058Z"
      },
      {
        "duration": 7,
        "start_time": "2022-05-01T17:23:31.016Z"
      },
      {
        "duration": 51,
        "start_time": "2022-05-01T17:24:28.680Z"
      },
      {
        "duration": 0,
        "start_time": "2022-05-01T17:24:28.733Z"
      },
      {
        "duration": 0,
        "start_time": "2022-05-01T17:24:28.734Z"
      },
      {
        "duration": 0,
        "start_time": "2022-05-01T17:24:28.735Z"
      },
      {
        "duration": 0,
        "start_time": "2022-05-01T17:24:28.737Z"
      },
      {
        "duration": 0,
        "start_time": "2022-05-01T17:24:28.738Z"
      },
      {
        "duration": 0,
        "start_time": "2022-05-01T17:24:28.739Z"
      },
      {
        "duration": 0,
        "start_time": "2022-05-01T17:24:28.740Z"
      },
      {
        "duration": 0,
        "start_time": "2022-05-01T17:24:28.741Z"
      },
      {
        "duration": 0,
        "start_time": "2022-05-01T17:24:28.742Z"
      },
      {
        "duration": 0,
        "start_time": "2022-05-01T17:24:28.744Z"
      },
      {
        "duration": 1,
        "start_time": "2022-05-01T17:24:28.744Z"
      },
      {
        "duration": 0,
        "start_time": "2022-05-01T17:24:28.745Z"
      },
      {
        "duration": 0,
        "start_time": "2022-05-01T17:24:28.747Z"
      },
      {
        "duration": 7,
        "start_time": "2022-05-01T17:24:28.762Z"
      },
      {
        "duration": 513,
        "start_time": "2022-05-01T17:24:59.215Z"
      },
      {
        "duration": 21,
        "start_time": "2022-05-01T17:25:03.535Z"
      },
      {
        "duration": 15,
        "start_time": "2022-05-01T17:25:07.955Z"
      },
      {
        "duration": 18,
        "start_time": "2022-05-01T17:25:12.102Z"
      },
      {
        "duration": 8,
        "start_time": "2022-05-01T17:25:17.650Z"
      },
      {
        "duration": 18,
        "start_time": "2022-05-01T17:25:21.020Z"
      },
      {
        "duration": 22,
        "start_time": "2022-05-01T17:25:24.024Z"
      },
      {
        "duration": 22,
        "start_time": "2022-05-01T17:25:27.415Z"
      },
      {
        "duration": 21,
        "start_time": "2022-05-01T17:25:30.056Z"
      },
      {
        "duration": 5,
        "start_time": "2022-05-01T17:25:32.359Z"
      },
      {
        "duration": 13,
        "start_time": "2022-05-01T17:25:34.357Z"
      },
      {
        "duration": 5,
        "start_time": "2022-05-01T17:25:39.110Z"
      },
      {
        "duration": 4,
        "start_time": "2022-05-01T17:26:00.257Z"
      },
      {
        "duration": 9,
        "start_time": "2022-05-01T17:28:39.399Z"
      },
      {
        "duration": 7,
        "start_time": "2022-05-01T17:29:18.884Z"
      },
      {
        "duration": 8,
        "start_time": "2022-05-01T17:29:25.615Z"
      },
      {
        "duration": 6,
        "start_time": "2022-05-01T17:29:31.963Z"
      },
      {
        "duration": 6,
        "start_time": "2022-05-01T17:30:36.621Z"
      },
      {
        "duration": 6,
        "start_time": "2022-05-01T17:31:04.662Z"
      },
      {
        "duration": 4,
        "start_time": "2022-05-01T17:31:40.267Z"
      },
      {
        "duration": 4,
        "start_time": "2022-05-01T17:34:51.715Z"
      },
      {
        "duration": 22,
        "start_time": "2022-05-01T17:35:29.108Z"
      },
      {
        "duration": 70,
        "start_time": "2022-05-01T17:35:43.705Z"
      },
      {
        "duration": 8,
        "start_time": "2022-05-01T17:36:33.607Z"
      },
      {
        "duration": 5,
        "start_time": "2022-05-01T17:37:10.127Z"
      },
      {
        "duration": 6,
        "start_time": "2022-05-01T17:40:07.184Z"
      },
      {
        "duration": 7,
        "start_time": "2022-05-01T17:40:51.354Z"
      },
      {
        "duration": 17,
        "start_time": "2022-05-01T18:04:12.002Z"
      },
      {
        "duration": 16,
        "start_time": "2022-05-01T18:04:15.965Z"
      },
      {
        "duration": 17,
        "start_time": "2022-05-01T18:04:22.593Z"
      },
      {
        "duration": 7,
        "start_time": "2022-05-01T18:07:30.902Z"
      },
      {
        "duration": 22,
        "start_time": "2022-05-01T18:07:39.061Z"
      },
      {
        "duration": 18,
        "start_time": "2022-05-01T18:07:48.206Z"
      },
      {
        "duration": 19,
        "start_time": "2022-05-01T18:08:10.259Z"
      },
      {
        "duration": 18,
        "start_time": "2022-05-01T18:08:23.788Z"
      },
      {
        "duration": 18,
        "start_time": "2022-05-01T18:08:34.894Z"
      },
      {
        "duration": 17,
        "start_time": "2022-05-01T18:08:48.669Z"
      },
      {
        "duration": 35,
        "start_time": "2022-05-01T18:10:23.254Z"
      },
      {
        "duration": 37,
        "start_time": "2022-05-01T18:11:03.340Z"
      },
      {
        "duration": 34,
        "start_time": "2022-05-01T18:11:17.479Z"
      },
      {
        "duration": 12,
        "start_time": "2022-05-01T18:14:15.339Z"
      },
      {
        "duration": 12,
        "start_time": "2022-05-01T18:14:28.936Z"
      },
      {
        "duration": 12,
        "start_time": "2022-05-01T18:14:37.821Z"
      },
      {
        "duration": 10,
        "start_time": "2022-05-01T18:14:49.053Z"
      },
      {
        "duration": 17,
        "start_time": "2022-05-01T18:14:56.320Z"
      },
      {
        "duration": 8,
        "start_time": "2022-05-01T18:15:10.968Z"
      },
      {
        "duration": 18,
        "start_time": "2022-05-01T18:15:14.819Z"
      },
      {
        "duration": 8,
        "start_time": "2022-05-01T18:15:41.276Z"
      },
      {
        "duration": 9,
        "start_time": "2022-05-01T18:30:55.284Z"
      },
      {
        "duration": 16,
        "start_time": "2022-05-01T18:34:03.175Z"
      },
      {
        "duration": 16,
        "start_time": "2022-05-01T18:35:05.900Z"
      },
      {
        "duration": 16,
        "start_time": "2022-05-01T18:35:10.844Z"
      },
      {
        "duration": 14,
        "start_time": "2022-05-01T18:38:18.342Z"
      },
      {
        "duration": 16,
        "start_time": "2022-05-01T18:40:13.169Z"
      },
      {
        "duration": 5,
        "start_time": "2022-05-01T18:41:17.466Z"
      },
      {
        "duration": 5,
        "start_time": "2022-05-01T18:42:25.729Z"
      },
      {
        "duration": 5,
        "start_time": "2022-05-01T18:42:42.589Z"
      },
      {
        "duration": 6,
        "start_time": "2022-05-01T18:43:53.318Z"
      },
      {
        "duration": 5,
        "start_time": "2022-05-01T18:43:58.187Z"
      },
      {
        "duration": 7,
        "start_time": "2022-05-01T18:47:32.670Z"
      },
      {
        "duration": 5,
        "start_time": "2022-05-01T18:47:49.401Z"
      },
      {
        "duration": 72,
        "start_time": "2022-05-02T07:08:45.963Z"
      },
      {
        "duration": 580,
        "start_time": "2022-05-02T07:09:38.459Z"
      },
      {
        "duration": 28,
        "start_time": "2022-05-02T07:09:39.041Z"
      },
      {
        "duration": 22,
        "start_time": "2022-05-02T07:09:39.071Z"
      },
      {
        "duration": 23,
        "start_time": "2022-05-02T07:09:39.095Z"
      },
      {
        "duration": 38,
        "start_time": "2022-05-02T07:09:39.120Z"
      },
      {
        "duration": 27,
        "start_time": "2022-05-02T07:09:39.160Z"
      },
      {
        "duration": 28,
        "start_time": "2022-05-02T07:09:39.189Z"
      },
      {
        "duration": 58,
        "start_time": "2022-05-02T07:09:39.219Z"
      },
      {
        "duration": 23,
        "start_time": "2022-05-02T07:09:39.279Z"
      },
      {
        "duration": 5,
        "start_time": "2022-05-02T07:09:39.305Z"
      },
      {
        "duration": 14,
        "start_time": "2022-05-02T07:09:39.352Z"
      },
      {
        "duration": 25,
        "start_time": "2022-05-02T07:09:39.368Z"
      },
      {
        "duration": 9,
        "start_time": "2022-05-02T07:09:39.395Z"
      },
      {
        "duration": 7,
        "start_time": "2022-05-02T07:09:39.406Z"
      },
      {
        "duration": 41,
        "start_time": "2022-05-02T07:09:39.415Z"
      },
      {
        "duration": 24,
        "start_time": "2022-05-02T07:09:39.457Z"
      },
      {
        "duration": 20,
        "start_time": "2022-05-02T07:09:39.483Z"
      },
      {
        "duration": 68,
        "start_time": "2022-05-02T07:09:39.505Z"
      },
      {
        "duration": 48,
        "start_time": "2022-05-02T07:09:39.575Z"
      },
      {
        "duration": 31,
        "start_time": "2022-05-02T07:09:39.625Z"
      },
      {
        "duration": 16,
        "start_time": "2022-05-02T07:09:39.658Z"
      },
      {
        "duration": 17,
        "start_time": "2022-05-02T07:09:39.676Z"
      },
      {
        "duration": 58,
        "start_time": "2022-05-02T07:09:39.695Z"
      },
      {
        "duration": 26,
        "start_time": "2022-05-02T07:09:39.755Z"
      },
      {
        "duration": 14,
        "start_time": "2022-05-02T07:09:39.783Z"
      },
      {
        "duration": 65,
        "start_time": "2022-05-02T07:09:39.799Z"
      },
      {
        "duration": 13,
        "start_time": "2022-05-02T07:09:39.866Z"
      },
      {
        "duration": 20,
        "start_time": "2022-05-02T07:09:39.883Z"
      },
      {
        "duration": 6,
        "start_time": "2022-05-02T07:09:39.905Z"
      },
      {
        "duration": 43,
        "start_time": "2022-05-02T07:09:47.884Z"
      },
      {
        "duration": 8,
        "start_time": "2022-05-02T07:12:04.647Z"
      },
      {
        "duration": 16,
        "start_time": "2022-05-02T07:21:08.209Z"
      },
      {
        "duration": 7,
        "start_time": "2022-05-02T07:23:53.307Z"
      },
      {
        "duration": 16,
        "start_time": "2022-05-02T07:28:13.253Z"
      },
      {
        "duration": 46,
        "start_time": "2022-05-02T07:28:26.397Z"
      },
      {
        "duration": 7,
        "start_time": "2022-05-02T07:29:07.726Z"
      },
      {
        "duration": 15,
        "start_time": "2022-05-02T07:29:24.987Z"
      },
      {
        "duration": 8,
        "start_time": "2022-05-02T07:30:15.672Z"
      },
      {
        "duration": 17,
        "start_time": "2022-05-02T07:32:13.783Z"
      },
      {
        "duration": 19,
        "start_time": "2022-05-02T07:32:21.360Z"
      },
      {
        "duration": 98,
        "start_time": "2022-05-02T07:33:53.771Z"
      },
      {
        "duration": 7,
        "start_time": "2022-05-02T07:34:00.469Z"
      },
      {
        "duration": 586,
        "start_time": "2022-05-02T07:41:29.349Z"
      },
      {
        "duration": 29,
        "start_time": "2022-05-02T07:41:29.938Z"
      },
      {
        "duration": 22,
        "start_time": "2022-05-02T07:41:29.969Z"
      },
      {
        "duration": 22,
        "start_time": "2022-05-02T07:41:29.994Z"
      },
      {
        "duration": 42,
        "start_time": "2022-05-02T07:41:30.019Z"
      },
      {
        "duration": 27,
        "start_time": "2022-05-02T07:41:30.064Z"
      },
      {
        "duration": 70,
        "start_time": "2022-05-02T07:41:30.093Z"
      },
      {
        "duration": 32,
        "start_time": "2022-05-02T07:41:30.166Z"
      },
      {
        "duration": 61,
        "start_time": "2022-05-02T07:41:30.201Z"
      },
      {
        "duration": 6,
        "start_time": "2022-05-02T07:41:30.266Z"
      },
      {
        "duration": 25,
        "start_time": "2022-05-02T07:41:30.274Z"
      },
      {
        "duration": 10,
        "start_time": "2022-05-02T07:41:30.301Z"
      },
      {
        "duration": 7,
        "start_time": "2022-05-02T07:41:30.313Z"
      },
      {
        "duration": 8,
        "start_time": "2022-05-02T07:41:30.353Z"
      },
      {
        "duration": 36,
        "start_time": "2022-05-02T07:41:30.364Z"
      },
      {
        "duration": 57,
        "start_time": "2022-05-02T07:41:30.403Z"
      },
      {
        "duration": 21,
        "start_time": "2022-05-02T07:41:30.463Z"
      },
      {
        "duration": 45,
        "start_time": "2022-05-02T07:41:30.487Z"
      },
      {
        "duration": 65,
        "start_time": "2022-05-02T07:41:30.534Z"
      },
      {
        "duration": 18,
        "start_time": "2022-05-02T07:41:30.602Z"
      },
      {
        "duration": 41,
        "start_time": "2022-05-02T07:41:30.622Z"
      },
      {
        "duration": 39,
        "start_time": "2022-05-02T07:41:30.666Z"
      },
      {
        "duration": 37,
        "start_time": "2022-05-02T07:41:30.707Z"
      },
      {
        "duration": 33,
        "start_time": "2022-05-02T07:41:30.747Z"
      },
      {
        "duration": 53,
        "start_time": "2022-05-02T07:41:30.782Z"
      },
      {
        "duration": 33,
        "start_time": "2022-05-02T07:41:30.837Z"
      },
      {
        "duration": 12,
        "start_time": "2022-05-02T07:41:30.872Z"
      },
      {
        "duration": 20,
        "start_time": "2022-05-02T07:41:30.888Z"
      },
      {
        "duration": 7,
        "start_time": "2022-05-02T07:41:30.910Z"
      },
      {
        "duration": 76,
        "start_time": "2022-05-02T07:41:30.919Z"
      },
      {
        "duration": 18,
        "start_time": "2022-05-02T07:41:30.997Z"
      },
      {
        "duration": 36,
        "start_time": "2022-05-02T07:41:31.017Z"
      },
      {
        "duration": 6,
        "start_time": "2022-05-02T07:41:31.055Z"
      },
      {
        "duration": 22,
        "start_time": "2022-05-02T07:41:31.063Z"
      },
      {
        "duration": 6,
        "start_time": "2022-05-02T07:41:31.087Z"
      },
      {
        "duration": 97,
        "start_time": "2022-05-02T07:44:03.666Z"
      },
      {
        "duration": 6,
        "start_time": "2022-05-02T07:44:13.304Z"
      },
      {
        "duration": 651,
        "start_time": "2022-05-09T15:38:22.286Z"
      },
      {
        "duration": 30,
        "start_time": "2022-05-09T15:38:22.940Z"
      },
      {
        "duration": 22,
        "start_time": "2022-05-09T15:38:22.973Z"
      },
      {
        "duration": 22,
        "start_time": "2022-05-09T15:38:23.026Z"
      },
      {
        "duration": 13,
        "start_time": "2022-05-09T15:38:23.052Z"
      },
      {
        "duration": 80,
        "start_time": "2022-05-09T15:38:23.068Z"
      },
      {
        "duration": 38,
        "start_time": "2022-05-09T15:38:23.150Z"
      },
      {
        "duration": 54,
        "start_time": "2022-05-09T15:38:23.190Z"
      },
      {
        "duration": 28,
        "start_time": "2022-05-09T15:38:23.246Z"
      },
      {
        "duration": 6,
        "start_time": "2022-05-09T15:38:23.276Z"
      },
      {
        "duration": 56,
        "start_time": "2022-05-09T15:38:23.284Z"
      },
      {
        "duration": 13,
        "start_time": "2022-05-09T15:38:23.343Z"
      },
      {
        "duration": 6,
        "start_time": "2022-05-09T15:38:23.359Z"
      },
      {
        "duration": 8,
        "start_time": "2022-05-09T15:38:23.370Z"
      },
      {
        "duration": 24,
        "start_time": "2022-05-09T15:38:23.425Z"
      },
      {
        "duration": 27,
        "start_time": "2022-05-09T15:38:23.451Z"
      },
      {
        "duration": 22,
        "start_time": "2022-05-09T15:38:23.524Z"
      },
      {
        "duration": 30,
        "start_time": "2022-05-09T15:38:23.548Z"
      },
      {
        "duration": 90,
        "start_time": "2022-05-09T15:38:23.581Z"
      },
      {
        "duration": 17,
        "start_time": "2022-05-09T15:38:23.673Z"
      },
      {
        "duration": 40,
        "start_time": "2022-05-09T15:38:23.693Z"
      },
      {
        "duration": 19,
        "start_time": "2022-05-09T15:38:23.735Z"
      },
      {
        "duration": 16,
        "start_time": "2022-05-09T15:38:23.756Z"
      },
      {
        "duration": 71,
        "start_time": "2022-05-09T15:38:23.774Z"
      },
      {
        "duration": 20,
        "start_time": "2022-05-09T15:38:23.849Z"
      },
      {
        "duration": 66,
        "start_time": "2022-05-09T15:38:23.872Z"
      },
      {
        "duration": 13,
        "start_time": "2022-05-09T15:38:23.940Z"
      },
      {
        "duration": 20,
        "start_time": "2022-05-09T15:38:23.956Z"
      },
      {
        "duration": 8,
        "start_time": "2022-05-09T15:38:23.978Z"
      },
      {
        "duration": 47,
        "start_time": "2022-05-09T15:38:24.025Z"
      },
      {
        "duration": 8,
        "start_time": "2022-05-09T15:38:24.074Z"
      },
      {
        "duration": 52,
        "start_time": "2022-05-09T15:38:24.085Z"
      },
      {
        "duration": 7,
        "start_time": "2022-05-09T15:38:24.140Z"
      },
      {
        "duration": 21,
        "start_time": "2022-05-09T15:38:24.149Z"
      },
      {
        "duration": 8,
        "start_time": "2022-05-09T15:38:24.173Z"
      }
    ],
    "kernelspec": {
      "name": "python",
      "display_name": "Python (Pyodide)",
      "language": "python"
    },
    "language_info": {
      "codemirror_mode": {
        "name": "python",
        "version": 3
      },
      "file_extension": ".py",
      "mimetype": "text/x-python",
      "name": "python",
      "nbconvert_exporter": "python",
      "pygments_lexer": "ipython3",
      "version": "3.8"
    },
    "toc": {
      "base_numbering": 1,
      "nav_menu": {},
      "number_sections": true,
      "sideBar": true,
      "skip_h1_title": true,
      "title_cell": "Table of Contents",
      "title_sidebar": "Contents",
      "toc_cell": false,
      "toc_position": {},
      "toc_section_display": true,
      "toc_window_display": true
    }
  },
  "nbformat_minor": 5,
  "nbformat": 4,
  "cells": [
    {
      "cell_type": "markdown",
      "source": "# Исследование надежности заемщиков.",
      "metadata": {},
      "id": "346fd8a1"
    },
    {
      "cell_type": "markdown",
      "source": "Заказчик — кредитный отдел банка. \n<br>Входные данные от банка — статистика о платёжеспособности клиентов.\n<br>Результаты исследования будут учтены при построении модели кредитного скоринга — специальной системы, которая оценивает способность потенциального заёмщика вернуть кредит банку.\n\n<b>Цель исследования:<b>\n\nНужно разобраться, влияет ли семейное положение и количество детей клиента на факт погашения кредита в срок.\n    \n<b>Ход исследования:<b>\n    <br>- Предобработка данных\n    <br>- Декомпозиция исходного датафрейма\n    <br>- Категоризация данных\n    <br>- Формирование заключений",
      "metadata": {},
      "id": "3c9f8833"
    },
    {
      "cell_type": "markdown",
      "source": "<b>Описание данных:<b>\n- children — количество детей в семье\n- days_employed — общий трудовой стаж в днях\n- dob_years — возраст клиента в годах\n- education — уровень образования клиента\n- education_id — идентификатор уровня образования\n- family_status — семейное положение\n- family_status_id — идентификатор семейного положения\n- gender — пол клиента\n- income_type — тип занятости\n- debt — имел ли задолженность по возврату кредитов\n- total_income — ежемесячный доход\n- purpose — цель получения кредита",
      "metadata": {},
      "id": "03f3aebf"
    },
    {
      "cell_type": "markdown",
      "source": "### Шаг 1. Обзор данных",
      "metadata": {},
      "id": "4529e296"
    },
    {
      "cell_type": "markdown",
      "source": "Получение общей информации о данных в датасете.",
      "metadata": {},
      "id": "c8424890"
    },
    {
      "cell_type": "code",
      "source": "import pandas as pd\ndata = pd.read_csv('/datasets/data.csv')\ndata.info()",
      "metadata": {},
      "execution_count": 1,
      "outputs": [
        {
          "name": "stdout",
          "output_type": "stream",
          "text": "<class 'pandas.core.frame.DataFrame'>\n\nRangeIndex: 21525 entries, 0 to 21524\n\nData columns (total 12 columns):\n\n #   Column            Non-Null Count  Dtype  \n\n---  ------            --------------  -----  \n\n 0   children          21525 non-null  int64  \n\n 1   days_employed     19351 non-null  float64\n\n 2   dob_years         21525 non-null  int64  \n\n 3   education         21525 non-null  object \n\n 4   education_id      21525 non-null  int64  \n\n 5   family_status     21525 non-null  object \n\n 6   family_status_id  21525 non-null  int64  \n\n 7   gender            21525 non-null  object \n\n 8   income_type       21525 non-null  object \n\n 9   debt              21525 non-null  int64  \n\n 10  total_income      19351 non-null  float64\n\n 11  purpose           21525 non-null  object \n\ndtypes: float64(2), int64(5), object(5)\n\nmemory usage: 2.0+ MB\n"
        }
      ],
      "id": "5c30a672"
    },
    {
      "cell_type": "markdown",
      "source": "В данных обнаружены пропуски в столбцах 'days_employed' и 'total_income'.\nИзучим первые 10 строк датасета.",
      "metadata": {},
      "id": "f5a2444a"
    },
    {
      "cell_type": "code",
      "source": "data.head(10)",
      "metadata": {},
      "execution_count": 2,
      "outputs": [
        {
          "execution_count": 2,
          "output_type": "execute_result",
          "data": {
            "text/html": [
              "<div>\n",
              "<style scoped>\n",
              "    .dataframe tbody tr th:only-of-type {\n",
              "        vertical-align: middle;\n",
              "    }\n",
              "\n",
              "    .dataframe tbody tr th {\n",
              "        vertical-align: top;\n",
              "    }\n",
              "\n",
              "    .dataframe thead th {\n",
              "        text-align: right;\n",
              "    }\n",
              "</style>\n",
              "<table border=\"1\" class=\"dataframe\">\n",
              "  <thead>\n",
              "    <tr style=\"text-align: right;\">\n",
              "      <th></th>\n",
              "      <th>children</th>\n",
              "      <th>days_employed</th>\n",
              "      <th>dob_years</th>\n",
              "      <th>education</th>\n",
              "      <th>education_id</th>\n",
              "      <th>family_status</th>\n",
              "      <th>family_status_id</th>\n",
              "      <th>gender</th>\n",
              "      <th>income_type</th>\n",
              "      <th>debt</th>\n",
              "      <th>total_income</th>\n",
              "      <th>purpose</th>\n",
              "    </tr>\n",
              "  </thead>\n",
              "  <tbody>\n",
              "    <tr>\n",
              "      <th>0</th>\n",
              "      <td>1</td>\n",
              "      <td>-8437.673028</td>\n",
              "      <td>42</td>\n",
              "      <td>высшее</td>\n",
              "      <td>0</td>\n",
              "      <td>женат / замужем</td>\n",
              "      <td>0</td>\n",
              "      <td>F</td>\n",
              "      <td>сотрудник</td>\n",
              "      <td>0</td>\n",
              "      <td>253875.639453</td>\n",
              "      <td>покупка жилья</td>\n",
              "    </tr>\n",
              "    <tr>\n",
              "      <th>1</th>\n",
              "      <td>1</td>\n",
              "      <td>-4024.803754</td>\n",
              "      <td>36</td>\n",
              "      <td>среднее</td>\n",
              "      <td>1</td>\n",
              "      <td>женат / замужем</td>\n",
              "      <td>0</td>\n",
              "      <td>F</td>\n",
              "      <td>сотрудник</td>\n",
              "      <td>0</td>\n",
              "      <td>112080.014102</td>\n",
              "      <td>приобретение автомобиля</td>\n",
              "    </tr>\n",
              "    <tr>\n",
              "      <th>2</th>\n",
              "      <td>0</td>\n",
              "      <td>-5623.422610</td>\n",
              "      <td>33</td>\n",
              "      <td>Среднее</td>\n",
              "      <td>1</td>\n",
              "      <td>женат / замужем</td>\n",
              "      <td>0</td>\n",
              "      <td>M</td>\n",
              "      <td>сотрудник</td>\n",
              "      <td>0</td>\n",
              "      <td>145885.952297</td>\n",
              "      <td>покупка жилья</td>\n",
              "    </tr>\n",
              "    <tr>\n",
              "      <th>3</th>\n",
              "      <td>3</td>\n",
              "      <td>-4124.747207</td>\n",
              "      <td>32</td>\n",
              "      <td>среднее</td>\n",
              "      <td>1</td>\n",
              "      <td>женат / замужем</td>\n",
              "      <td>0</td>\n",
              "      <td>M</td>\n",
              "      <td>сотрудник</td>\n",
              "      <td>0</td>\n",
              "      <td>267628.550329</td>\n",
              "      <td>дополнительное образование</td>\n",
              "    </tr>\n",
              "    <tr>\n",
              "      <th>4</th>\n",
              "      <td>0</td>\n",
              "      <td>340266.072047</td>\n",
              "      <td>53</td>\n",
              "      <td>среднее</td>\n",
              "      <td>1</td>\n",
              "      <td>гражданский брак</td>\n",
              "      <td>1</td>\n",
              "      <td>F</td>\n",
              "      <td>пенсионер</td>\n",
              "      <td>0</td>\n",
              "      <td>158616.077870</td>\n",
              "      <td>сыграть свадьбу</td>\n",
              "    </tr>\n",
              "    <tr>\n",
              "      <th>5</th>\n",
              "      <td>0</td>\n",
              "      <td>-926.185831</td>\n",
              "      <td>27</td>\n",
              "      <td>высшее</td>\n",
              "      <td>0</td>\n",
              "      <td>гражданский брак</td>\n",
              "      <td>1</td>\n",
              "      <td>M</td>\n",
              "      <td>компаньон</td>\n",
              "      <td>0</td>\n",
              "      <td>255763.565419</td>\n",
              "      <td>покупка жилья</td>\n",
              "    </tr>\n",
              "    <tr>\n",
              "      <th>6</th>\n",
              "      <td>0</td>\n",
              "      <td>-2879.202052</td>\n",
              "      <td>43</td>\n",
              "      <td>высшее</td>\n",
              "      <td>0</td>\n",
              "      <td>женат / замужем</td>\n",
              "      <td>0</td>\n",
              "      <td>F</td>\n",
              "      <td>компаньон</td>\n",
              "      <td>0</td>\n",
              "      <td>240525.971920</td>\n",
              "      <td>операции с жильем</td>\n",
              "    </tr>\n",
              "    <tr>\n",
              "      <th>7</th>\n",
              "      <td>0</td>\n",
              "      <td>-152.779569</td>\n",
              "      <td>50</td>\n",
              "      <td>СРЕДНЕЕ</td>\n",
              "      <td>1</td>\n",
              "      <td>женат / замужем</td>\n",
              "      <td>0</td>\n",
              "      <td>M</td>\n",
              "      <td>сотрудник</td>\n",
              "      <td>0</td>\n",
              "      <td>135823.934197</td>\n",
              "      <td>образование</td>\n",
              "    </tr>\n",
              "    <tr>\n",
              "      <th>8</th>\n",
              "      <td>2</td>\n",
              "      <td>-6929.865299</td>\n",
              "      <td>35</td>\n",
              "      <td>ВЫСШЕЕ</td>\n",
              "      <td>0</td>\n",
              "      <td>гражданский брак</td>\n",
              "      <td>1</td>\n",
              "      <td>F</td>\n",
              "      <td>сотрудник</td>\n",
              "      <td>0</td>\n",
              "      <td>95856.832424</td>\n",
              "      <td>на проведение свадьбы</td>\n",
              "    </tr>\n",
              "    <tr>\n",
              "      <th>9</th>\n",
              "      <td>0</td>\n",
              "      <td>-2188.756445</td>\n",
              "      <td>41</td>\n",
              "      <td>среднее</td>\n",
              "      <td>1</td>\n",
              "      <td>женат / замужем</td>\n",
              "      <td>0</td>\n",
              "      <td>M</td>\n",
              "      <td>сотрудник</td>\n",
              "      <td>0</td>\n",
              "      <td>144425.938277</td>\n",
              "      <td>покупка жилья для семьи</td>\n",
              "    </tr>\n",
              "  </tbody>\n",
              "</table>\n",
              "</div>"
            ],
            "text/plain": [
              "   children  days_employed  dob_years education  education_id  \\\n",
              "0         1   -8437.673028         42    высшее             0   \n",
              "1         1   -4024.803754         36   среднее             1   \n",
              "2         0   -5623.422610         33   Среднее             1   \n",
              "3         3   -4124.747207         32   среднее             1   \n",
              "4         0  340266.072047         53   среднее             1   \n",
              "5         0    -926.185831         27    высшее             0   \n",
              "6         0   -2879.202052         43    высшее             0   \n",
              "7         0    -152.779569         50   СРЕДНЕЕ             1   \n",
              "8         2   -6929.865299         35    ВЫСШЕЕ             0   \n",
              "9         0   -2188.756445         41   среднее             1   \n",
              "\n",
              "      family_status  family_status_id gender income_type  debt   total_income  \\\n",
              "0   женат / замужем                 0      F   сотрудник     0  253875.639453   \n",
              "1   женат / замужем                 0      F   сотрудник     0  112080.014102   \n",
              "2   женат / замужем                 0      M   сотрудник     0  145885.952297   \n",
              "3   женат / замужем                 0      M   сотрудник     0  267628.550329   \n",
              "4  гражданский брак                 1      F   пенсионер     0  158616.077870   \n",
              "5  гражданский брак                 1      M   компаньон     0  255763.565419   \n",
              "6   женат / замужем                 0      F   компаньон     0  240525.971920   \n",
              "7   женат / замужем                 0      M   сотрудник     0  135823.934197   \n",
              "8  гражданский брак                 1      F   сотрудник     0   95856.832424   \n",
              "9   женат / замужем                 0      M   сотрудник     0  144425.938277   \n",
              "\n",
              "                      purpose  \n",
              "0               покупка жилья  \n",
              "1     приобретение автомобиля  \n",
              "2               покупка жилья  \n",
              "3  дополнительное образование  \n",
              "4             сыграть свадьбу  \n",
              "5               покупка жилья  \n",
              "6           операции с жильем  \n",
              "7                 образование  \n",
              "8       на проведение свадьбы  \n",
              "9     покупка жилья для семьи  "
            ]
          },
          "metadata": {}
        }
      ],
      "id": "0dd6325d"
    },
    {
      "cell_type": "markdown",
      "source": "В столбце 'days_employed' помимо пропусков присутствуют аномальные данные: отрицательные и абсурдно высокие значения.",
      "metadata": {},
      "id": "207d9508"
    },
    {
      "cell_type": "markdown",
      "source": "### Шаг 2.1 Заполнение пропусков",
      "metadata": {},
      "id": "15a1c7ce"
    },
    {
      "cell_type": "markdown",
      "source": "Предобработку данных начнём с заполнения пропущенных значений в столбце с ежемесячным доходом 'total_income'.",
      "metadata": {},
      "id": "00539743"
    },
    {
      "cell_type": "markdown",
      "source": "Ежемесячный доход пропущен в 2174 случаях - это 10% всех значений датафрейма. \nСоответственно, просто \"пожертвовать\" данными из строк, в которых нет значений, мы не можем.\nДля начала отфильтруем строки с пропущенными значениями чтобы попробовать выявить закономерности.",
      "metadata": {},
      "id": "221da9eb"
    },
    {
      "cell_type": "code",
      "source": "data[data['total_income'].isna()].head(10)",
      "metadata": {
        "scrolled": true
      },
      "execution_count": 3,
      "outputs": [
        {
          "execution_count": 3,
          "output_type": "execute_result",
          "data": {
            "text/html": [
              "<div>\n",
              "<style scoped>\n",
              "    .dataframe tbody tr th:only-of-type {\n",
              "        vertical-align: middle;\n",
              "    }\n",
              "\n",
              "    .dataframe tbody tr th {\n",
              "        vertical-align: top;\n",
              "    }\n",
              "\n",
              "    .dataframe thead th {\n",
              "        text-align: right;\n",
              "    }\n",
              "</style>\n",
              "<table border=\"1\" class=\"dataframe\">\n",
              "  <thead>\n",
              "    <tr style=\"text-align: right;\">\n",
              "      <th></th>\n",
              "      <th>children</th>\n",
              "      <th>days_employed</th>\n",
              "      <th>dob_years</th>\n",
              "      <th>education</th>\n",
              "      <th>education_id</th>\n",
              "      <th>family_status</th>\n",
              "      <th>family_status_id</th>\n",
              "      <th>gender</th>\n",
              "      <th>income_type</th>\n",
              "      <th>debt</th>\n",
              "      <th>total_income</th>\n",
              "      <th>purpose</th>\n",
              "    </tr>\n",
              "  </thead>\n",
              "  <tbody>\n",
              "    <tr>\n",
              "      <th>12</th>\n",
              "      <td>0</td>\n",
              "      <td>NaN</td>\n",
              "      <td>65</td>\n",
              "      <td>среднее</td>\n",
              "      <td>1</td>\n",
              "      <td>гражданский брак</td>\n",
              "      <td>1</td>\n",
              "      <td>M</td>\n",
              "      <td>пенсионер</td>\n",
              "      <td>0</td>\n",
              "      <td>NaN</td>\n",
              "      <td>сыграть свадьбу</td>\n",
              "    </tr>\n",
              "    <tr>\n",
              "      <th>26</th>\n",
              "      <td>0</td>\n",
              "      <td>NaN</td>\n",
              "      <td>41</td>\n",
              "      <td>среднее</td>\n",
              "      <td>1</td>\n",
              "      <td>женат / замужем</td>\n",
              "      <td>0</td>\n",
              "      <td>M</td>\n",
              "      <td>госслужащий</td>\n",
              "      <td>0</td>\n",
              "      <td>NaN</td>\n",
              "      <td>образование</td>\n",
              "    </tr>\n",
              "    <tr>\n",
              "      <th>29</th>\n",
              "      <td>0</td>\n",
              "      <td>NaN</td>\n",
              "      <td>63</td>\n",
              "      <td>среднее</td>\n",
              "      <td>1</td>\n",
              "      <td>Не женат / не замужем</td>\n",
              "      <td>4</td>\n",
              "      <td>F</td>\n",
              "      <td>пенсионер</td>\n",
              "      <td>0</td>\n",
              "      <td>NaN</td>\n",
              "      <td>строительство жилой недвижимости</td>\n",
              "    </tr>\n",
              "    <tr>\n",
              "      <th>41</th>\n",
              "      <td>0</td>\n",
              "      <td>NaN</td>\n",
              "      <td>50</td>\n",
              "      <td>среднее</td>\n",
              "      <td>1</td>\n",
              "      <td>женат / замужем</td>\n",
              "      <td>0</td>\n",
              "      <td>F</td>\n",
              "      <td>госслужащий</td>\n",
              "      <td>0</td>\n",
              "      <td>NaN</td>\n",
              "      <td>сделка с подержанным автомобилем</td>\n",
              "    </tr>\n",
              "    <tr>\n",
              "      <th>55</th>\n",
              "      <td>0</td>\n",
              "      <td>NaN</td>\n",
              "      <td>54</td>\n",
              "      <td>среднее</td>\n",
              "      <td>1</td>\n",
              "      <td>гражданский брак</td>\n",
              "      <td>1</td>\n",
              "      <td>F</td>\n",
              "      <td>пенсионер</td>\n",
              "      <td>1</td>\n",
              "      <td>NaN</td>\n",
              "      <td>сыграть свадьбу</td>\n",
              "    </tr>\n",
              "    <tr>\n",
              "      <th>65</th>\n",
              "      <td>0</td>\n",
              "      <td>NaN</td>\n",
              "      <td>21</td>\n",
              "      <td>среднее</td>\n",
              "      <td>1</td>\n",
              "      <td>Не женат / не замужем</td>\n",
              "      <td>4</td>\n",
              "      <td>M</td>\n",
              "      <td>компаньон</td>\n",
              "      <td>0</td>\n",
              "      <td>NaN</td>\n",
              "      <td>операции с коммерческой недвижимостью</td>\n",
              "    </tr>\n",
              "    <tr>\n",
              "      <th>67</th>\n",
              "      <td>0</td>\n",
              "      <td>NaN</td>\n",
              "      <td>52</td>\n",
              "      <td>высшее</td>\n",
              "      <td>0</td>\n",
              "      <td>женат / замужем</td>\n",
              "      <td>0</td>\n",
              "      <td>F</td>\n",
              "      <td>пенсионер</td>\n",
              "      <td>0</td>\n",
              "      <td>NaN</td>\n",
              "      <td>покупка жилья для семьи</td>\n",
              "    </tr>\n",
              "    <tr>\n",
              "      <th>72</th>\n",
              "      <td>1</td>\n",
              "      <td>NaN</td>\n",
              "      <td>32</td>\n",
              "      <td>высшее</td>\n",
              "      <td>0</td>\n",
              "      <td>женат / замужем</td>\n",
              "      <td>0</td>\n",
              "      <td>M</td>\n",
              "      <td>госслужащий</td>\n",
              "      <td>0</td>\n",
              "      <td>NaN</td>\n",
              "      <td>операции с коммерческой недвижимостью</td>\n",
              "    </tr>\n",
              "    <tr>\n",
              "      <th>82</th>\n",
              "      <td>2</td>\n",
              "      <td>NaN</td>\n",
              "      <td>50</td>\n",
              "      <td>высшее</td>\n",
              "      <td>0</td>\n",
              "      <td>женат / замужем</td>\n",
              "      <td>0</td>\n",
              "      <td>F</td>\n",
              "      <td>сотрудник</td>\n",
              "      <td>0</td>\n",
              "      <td>NaN</td>\n",
              "      <td>жилье</td>\n",
              "    </tr>\n",
              "    <tr>\n",
              "      <th>83</th>\n",
              "      <td>0</td>\n",
              "      <td>NaN</td>\n",
              "      <td>52</td>\n",
              "      <td>среднее</td>\n",
              "      <td>1</td>\n",
              "      <td>женат / замужем</td>\n",
              "      <td>0</td>\n",
              "      <td>M</td>\n",
              "      <td>сотрудник</td>\n",
              "      <td>0</td>\n",
              "      <td>NaN</td>\n",
              "      <td>жилье</td>\n",
              "    </tr>\n",
              "  </tbody>\n",
              "</table>\n",
              "</div>"
            ],
            "text/plain": [
              "    children  days_employed  dob_years education  education_id  \\\n",
              "12         0            NaN         65   среднее             1   \n",
              "26         0            NaN         41   среднее             1   \n",
              "29         0            NaN         63   среднее             1   \n",
              "41         0            NaN         50   среднее             1   \n",
              "55         0            NaN         54   среднее             1   \n",
              "65         0            NaN         21   среднее             1   \n",
              "67         0            NaN         52    высшее             0   \n",
              "72         1            NaN         32    высшее             0   \n",
              "82         2            NaN         50    высшее             0   \n",
              "83         0            NaN         52   среднее             1   \n",
              "\n",
              "            family_status  family_status_id gender  income_type  debt  \\\n",
              "12       гражданский брак                 1      M    пенсионер     0   \n",
              "26        женат / замужем                 0      M  госслужащий     0   \n",
              "29  Не женат / не замужем                 4      F    пенсионер     0   \n",
              "41        женат / замужем                 0      F  госслужащий     0   \n",
              "55       гражданский брак                 1      F    пенсионер     1   \n",
              "65  Не женат / не замужем                 4      M    компаньон     0   \n",
              "67        женат / замужем                 0      F    пенсионер     0   \n",
              "72        женат / замужем                 0      M  госслужащий     0   \n",
              "82        женат / замужем                 0      F    сотрудник     0   \n",
              "83        женат / замужем                 0      M    сотрудник     0   \n",
              "\n",
              "    total_income                                purpose  \n",
              "12           NaN                        сыграть свадьбу  \n",
              "26           NaN                            образование  \n",
              "29           NaN       строительство жилой недвижимости  \n",
              "41           NaN       сделка с подержанным автомобилем  \n",
              "55           NaN                        сыграть свадьбу  \n",
              "65           NaN  операции с коммерческой недвижимостью  \n",
              "67           NaN                покупка жилья для семьи  \n",
              "72           NaN  операции с коммерческой недвижимостью  \n",
              "82           NaN                                  жилье  \n",
              "83           NaN                                  жилье  "
            ]
          },
          "metadata": {}
        }
      ],
      "id": "02eaa516"
    },
    {
      "cell_type": "markdown",
      "source": "Закономерности в пропусках не обнаружены. Заполним их медианным значением, чтобы результат обработки не исказил данные. И выведем обновлённую общую информацию о датасете.",
      "metadata": {},
      "id": "7cc5eb38"
    },
    {
      "cell_type": "code",
      "source": "data['total_income'] = data['total_income'].fillna(data['total_income'].median())\ndata.info()",
      "metadata": {
        "scrolled": true
      },
      "execution_count": 4,
      "outputs": [
        {
          "name": "stdout",
          "output_type": "stream",
          "text": "<class 'pandas.core.frame.DataFrame'>\n\nRangeIndex: 21525 entries, 0 to 21524\n\nData columns (total 12 columns):\n\n #   Column            Non-Null Count  Dtype  \n\n---  ------            --------------  -----  \n\n 0   children          21525 non-null  int64  \n\n 1   days_employed     19351 non-null  float64\n\n 2   dob_years         21525 non-null  int64  \n\n 3   education         21525 non-null  object \n\n 4   education_id      21525 non-null  int64  \n\n 5   family_status     21525 non-null  object \n\n 6   family_status_id  21525 non-null  int64  \n\n 7   gender            21525 non-null  object \n\n 8   income_type       21525 non-null  object \n\n 9   debt              21525 non-null  int64  \n\n 10  total_income      21525 non-null  float64\n\n 11  purpose           21525 non-null  object \n\ndtypes: float64(2), int64(5), object(5)\n\nmemory usage: 2.0+ MB\n"
        }
      ],
      "id": "e28dd759"
    },
    {
      "cell_type": "markdown",
      "source": "Причин пропущенных значений в столбце с ежемесячным доходом может быть несколько:\n- Сотруднику банка было достаточно предоставленных данных для принятия решения;\n- Заёмщик решил скрыть данную информацию;\n- Сотрудник банка при занесении данных пропустил этот параметр;\n- Произошёл сбой системы и данные за определённый период по двум столбцам таблицы \"слетели\".",
      "metadata": {},
      "id": "1ac6b05e"
    },
    {
      "cell_type": "markdown",
      "source": "Пропущенные значения в столбце 'total_income' обработаны. В столбце 'days_employed' нужно сначала разобраться с аномалиями.",
      "metadata": {},
      "id": "50ea05f2"
    },
    {
      "cell_type": "markdown",
      "source": "### Шаг 2.2 Проверка данных на аномалии и исправления.",
      "metadata": {},
      "id": "c8705d53"
    },
    {
      "cell_type": "markdown",
      "source": "Отрицательные значения в столбце 'days_employed' с общим трудовым стажем могли возникнуть в следствии того, что были перепутаны даты начала и конца работы. Завышенные значения могли появиться, если при внесении данных перепутать единицы измерения (вместо дней внести часы).\nОбъединим данные в категории:\n- Клиенты до 18 лет включительно попадают в категорию «дети»;\n- Клиенты от 19 до 64 лет — категория «взрослые»;\n- Клиенты 65 лет и старше принадлежат к категории «пенсионеры».",
      "metadata": {},
      "id": "8ca99a3f"
    },
    {
      "cell_type": "code",
      "source": "def age_group(age):\n    \"\"\"\n    Возвращает возрастную группу по значению возраста age, используя правила:\n    - 'дети', если age <= 18 лет;\n    - 'взрослые', если age от 19 до 64;\n    - 'пенсионеры' — от 65 и старше.\n    \"\"\"\n    try:\n        if age <= 18:\n            return 'дети'\n        if age <= 64:\n            return 'взрослые'\n        return 'пенсионеры'\n    except:\n        display('Некорректное указание возраста')\n\n#Проверка работоспособности функции\n\ndisplay(age_group(14))\ndisplay(age_group('cat'))\ndisplay(age_group(99))\n",
      "metadata": {},
      "execution_count": 5,
      "outputs": [
        {
          "output_type": "display_data",
          "data": {
            "text/plain": [
              "'дети'"
            ]
          },
          "metadata": {}
        },
        {
          "output_type": "display_data",
          "data": {
            "text/plain": [
              "'Некорректное указание возраста'"
            ]
          },
          "metadata": {}
        },
        {
          "output_type": "display_data",
          "data": {
            "text/plain": [
              "None"
            ]
          },
          "metadata": {}
        },
        {
          "output_type": "display_data",
          "data": {
            "text/plain": [
              "'пенсионеры'"
            ]
          },
          "metadata": {}
        }
      ],
      "id": "5ea7e6f6"
    },
    {
      "cell_type": "code",
      "source": "data['age_group'] = data['dob_years'].apply(age_group)\ndata.head()",
      "metadata": {
        "scrolled": true
      },
      "execution_count": 6,
      "outputs": [
        {
          "execution_count": 6,
          "output_type": "execute_result",
          "data": {
            "text/html": [
              "<div>\n",
              "<style scoped>\n",
              "    .dataframe tbody tr th:only-of-type {\n",
              "        vertical-align: middle;\n",
              "    }\n",
              "\n",
              "    .dataframe tbody tr th {\n",
              "        vertical-align: top;\n",
              "    }\n",
              "\n",
              "    .dataframe thead th {\n",
              "        text-align: right;\n",
              "    }\n",
              "</style>\n",
              "<table border=\"1\" class=\"dataframe\">\n",
              "  <thead>\n",
              "    <tr style=\"text-align: right;\">\n",
              "      <th></th>\n",
              "      <th>children</th>\n",
              "      <th>days_employed</th>\n",
              "      <th>dob_years</th>\n",
              "      <th>education</th>\n",
              "      <th>education_id</th>\n",
              "      <th>family_status</th>\n",
              "      <th>family_status_id</th>\n",
              "      <th>gender</th>\n",
              "      <th>income_type</th>\n",
              "      <th>debt</th>\n",
              "      <th>total_income</th>\n",
              "      <th>purpose</th>\n",
              "      <th>age_group</th>\n",
              "    </tr>\n",
              "  </thead>\n",
              "  <tbody>\n",
              "    <tr>\n",
              "      <th>0</th>\n",
              "      <td>1</td>\n",
              "      <td>-8437.673028</td>\n",
              "      <td>42</td>\n",
              "      <td>высшее</td>\n",
              "      <td>0</td>\n",
              "      <td>женат / замужем</td>\n",
              "      <td>0</td>\n",
              "      <td>F</td>\n",
              "      <td>сотрудник</td>\n",
              "      <td>0</td>\n",
              "      <td>253875.639453</td>\n",
              "      <td>покупка жилья</td>\n",
              "      <td>взрослые</td>\n",
              "    </tr>\n",
              "    <tr>\n",
              "      <th>1</th>\n",
              "      <td>1</td>\n",
              "      <td>-4024.803754</td>\n",
              "      <td>36</td>\n",
              "      <td>среднее</td>\n",
              "      <td>1</td>\n",
              "      <td>женат / замужем</td>\n",
              "      <td>0</td>\n",
              "      <td>F</td>\n",
              "      <td>сотрудник</td>\n",
              "      <td>0</td>\n",
              "      <td>112080.014102</td>\n",
              "      <td>приобретение автомобиля</td>\n",
              "      <td>взрослые</td>\n",
              "    </tr>\n",
              "    <tr>\n",
              "      <th>2</th>\n",
              "      <td>0</td>\n",
              "      <td>-5623.422610</td>\n",
              "      <td>33</td>\n",
              "      <td>Среднее</td>\n",
              "      <td>1</td>\n",
              "      <td>женат / замужем</td>\n",
              "      <td>0</td>\n",
              "      <td>M</td>\n",
              "      <td>сотрудник</td>\n",
              "      <td>0</td>\n",
              "      <td>145885.952297</td>\n",
              "      <td>покупка жилья</td>\n",
              "      <td>взрослые</td>\n",
              "    </tr>\n",
              "    <tr>\n",
              "      <th>3</th>\n",
              "      <td>3</td>\n",
              "      <td>-4124.747207</td>\n",
              "      <td>32</td>\n",
              "      <td>среднее</td>\n",
              "      <td>1</td>\n",
              "      <td>женат / замужем</td>\n",
              "      <td>0</td>\n",
              "      <td>M</td>\n",
              "      <td>сотрудник</td>\n",
              "      <td>0</td>\n",
              "      <td>267628.550329</td>\n",
              "      <td>дополнительное образование</td>\n",
              "      <td>взрослые</td>\n",
              "    </tr>\n",
              "    <tr>\n",
              "      <th>4</th>\n",
              "      <td>0</td>\n",
              "      <td>340266.072047</td>\n",
              "      <td>53</td>\n",
              "      <td>среднее</td>\n",
              "      <td>1</td>\n",
              "      <td>гражданский брак</td>\n",
              "      <td>1</td>\n",
              "      <td>F</td>\n",
              "      <td>пенсионер</td>\n",
              "      <td>0</td>\n",
              "      <td>158616.077870</td>\n",
              "      <td>сыграть свадьбу</td>\n",
              "      <td>взрослые</td>\n",
              "    </tr>\n",
              "  </tbody>\n",
              "</table>\n",
              "</div>"
            ],
            "text/plain": [
              "   children  days_employed  dob_years education  education_id  \\\n",
              "0         1   -8437.673028         42    высшее             0   \n",
              "1         1   -4024.803754         36   среднее             1   \n",
              "2         0   -5623.422610         33   Среднее             1   \n",
              "3         3   -4124.747207         32   среднее             1   \n",
              "4         0  340266.072047         53   среднее             1   \n",
              "\n",
              "      family_status  family_status_id gender income_type  debt   total_income  \\\n",
              "0   женат / замужем                 0      F   сотрудник     0  253875.639453   \n",
              "1   женат / замужем                 0      F   сотрудник     0  112080.014102   \n",
              "2   женат / замужем                 0      M   сотрудник     0  145885.952297   \n",
              "3   женат / замужем                 0      M   сотрудник     0  267628.550329   \n",
              "4  гражданский брак                 1      F   пенсионер     0  158616.077870   \n",
              "\n",
              "                      purpose age_group  \n",
              "0               покупка жилья  взрослые  \n",
              "1     приобретение автомобиля  взрослые  \n",
              "2               покупка жилья  взрослые  \n",
              "3  дополнительное образование  взрослые  \n",
              "4             сыграть свадьбу  взрослые  "
            ]
          },
          "metadata": {}
        }
      ],
      "id": "8ddc5965"
    },
    {
      "cell_type": "markdown",
      "source": "Выведем на экран количество клиентов каждой возрастной категории.",
      "metadata": {},
      "id": "11549410"
    },
    {
      "cell_type": "code",
      "source": "data.groupby('age_group').count()",
      "metadata": {},
      "execution_count": 7,
      "outputs": [
        {
          "execution_count": 7,
          "output_type": "execute_result",
          "data": {
            "text/html": [
              "<div>\n",
              "<style scoped>\n",
              "    .dataframe tbody tr th:only-of-type {\n",
              "        vertical-align: middle;\n",
              "    }\n",
              "\n",
              "    .dataframe tbody tr th {\n",
              "        vertical-align: top;\n",
              "    }\n",
              "\n",
              "    .dataframe thead th {\n",
              "        text-align: right;\n",
              "    }\n",
              "</style>\n",
              "<table border=\"1\" class=\"dataframe\">\n",
              "  <thead>\n",
              "    <tr style=\"text-align: right;\">\n",
              "      <th></th>\n",
              "      <th>children</th>\n",
              "      <th>days_employed</th>\n",
              "      <th>dob_years</th>\n",
              "      <th>education</th>\n",
              "      <th>education_id</th>\n",
              "      <th>family_status</th>\n",
              "      <th>family_status_id</th>\n",
              "      <th>gender</th>\n",
              "      <th>income_type</th>\n",
              "      <th>debt</th>\n",
              "      <th>total_income</th>\n",
              "      <th>purpose</th>\n",
              "    </tr>\n",
              "    <tr>\n",
              "      <th>age_group</th>\n",
              "      <th></th>\n",
              "      <th></th>\n",
              "      <th></th>\n",
              "      <th></th>\n",
              "      <th></th>\n",
              "      <th></th>\n",
              "      <th></th>\n",
              "      <th></th>\n",
              "      <th></th>\n",
              "      <th></th>\n",
              "      <th></th>\n",
              "      <th></th>\n",
              "    </tr>\n",
              "  </thead>\n",
              "  <tbody>\n",
              "    <tr>\n",
              "      <th>взрослые</th>\n",
              "      <td>20525</td>\n",
              "      <td>18442</td>\n",
              "      <td>20525</td>\n",
              "      <td>20525</td>\n",
              "      <td>20525</td>\n",
              "      <td>20525</td>\n",
              "      <td>20525</td>\n",
              "      <td>20525</td>\n",
              "      <td>20525</td>\n",
              "      <td>20525</td>\n",
              "      <td>20525</td>\n",
              "      <td>20525</td>\n",
              "    </tr>\n",
              "    <tr>\n",
              "      <th>дети</th>\n",
              "      <td>101</td>\n",
              "      <td>91</td>\n",
              "      <td>101</td>\n",
              "      <td>101</td>\n",
              "      <td>101</td>\n",
              "      <td>101</td>\n",
              "      <td>101</td>\n",
              "      <td>101</td>\n",
              "      <td>101</td>\n",
              "      <td>101</td>\n",
              "      <td>101</td>\n",
              "      <td>101</td>\n",
              "    </tr>\n",
              "    <tr>\n",
              "      <th>пенсионеры</th>\n",
              "      <td>899</td>\n",
              "      <td>818</td>\n",
              "      <td>899</td>\n",
              "      <td>899</td>\n",
              "      <td>899</td>\n",
              "      <td>899</td>\n",
              "      <td>899</td>\n",
              "      <td>899</td>\n",
              "      <td>899</td>\n",
              "      <td>899</td>\n",
              "      <td>899</td>\n",
              "      <td>899</td>\n",
              "    </tr>\n",
              "  </tbody>\n",
              "</table>\n",
              "</div>"
            ],
            "text/plain": [
              "            children  days_employed  dob_years  education  education_id  \\\n",
              "age_group                                                                 \n",
              "взрослые       20525          18442      20525      20525         20525   \n",
              "дети             101             91        101        101           101   \n",
              "пенсионеры       899            818        899        899           899   \n",
              "\n",
              "            family_status  family_status_id  gender  income_type   debt  \\\n",
              "age_group                                                                 \n",
              "взрослые            20525             20525   20525        20525  20525   \n",
              "дети                  101               101     101          101    101   \n",
              "пенсионеры            899               899     899          899    899   \n",
              "\n",
              "            total_income  purpose  \n",
              "age_group                          \n",
              "взрослые           20525    20525  \n",
              "дети                 101      101  \n",
              "пенсионеры           899      899  "
            ]
          },
          "metadata": {}
        }
      ],
      "id": "6c7da2b0"
    },
    {
      "cell_type": "markdown",
      "source": "Посмотрим медианные значения в столбце days_employed по каждой возрастной группе.",
      "metadata": {},
      "id": "b0bb5434"
    },
    {
      "cell_type": "code",
      "source": "display('Медианное значение в возрастной группе \"дети\":', data[data['age_group'] == 'дети']['days_employed'].median())\ndisplay('Медианное значение в возрастной группе \"взрослые\":', data[data['age_group'] == 'взрослые']['days_employed'].median())\ndisplay('Медианное значение в возрастной группе \"пенсионеры\":', data[data['age_group'] == 'пенсионеры']['days_employed'].median())",
      "metadata": {
        "scrolled": true
      },
      "execution_count": 8,
      "outputs": [
        {
          "output_type": "display_data",
          "data": {
            "text/plain": [
              "'Медианное значение в возрастной группе \"дети\":'"
            ]
          },
          "metadata": {}
        },
        {
          "output_type": "display_data",
          "data": {
            "text/plain": [
              "-1146.6895862897618"
            ]
          },
          "metadata": {}
        },
        {
          "output_type": "display_data",
          "data": {
            "text/plain": [
              "'Медианное значение в возрастной группе \"взрослые\":'"
            ]
          },
          "metadata": {}
        },
        {
          "output_type": "display_data",
          "data": {
            "text/plain": [
              "-1277.251538081112"
            ]
          },
          "metadata": {}
        },
        {
          "output_type": "display_data",
          "data": {
            "text/plain": [
              "'Медианное значение в возрастной группе \"пенсионеры\":'"
            ]
          },
          "metadata": {}
        },
        {
          "output_type": "display_data",
          "data": {
            "text/plain": [
              "360304.23230829864"
            ]
          },
          "metadata": {}
        }
      ],
      "id": "008a757e"
    },
    {
      "cell_type": "markdown",
      "source": "Заполнение данными значениями не очень корректное действие. Но по заданию нет использования данных из столбца с общим стажем в дальнейшем. Если бы такое потребовалось, то рекомендовано обратиться к поставщику данных с уточнениями - для корректного избавления от пропусков и аномалий. Также можно удалить вновь созданный столбец 'age_group', так как он для нас в этот раз не актуален.",
      "metadata": {},
      "id": "48dc9020"
    },
    {
      "cell_type": "code",
      "source": "data['days_employed'] = data['days_employed'].fillna(data['days_employed'].median())\ndata = data.drop(['age_group'], axis=1)\ndata.info()",
      "metadata": {
        "scrolled": true
      },
      "execution_count": 9,
      "outputs": [
        {
          "name": "stdout",
          "output_type": "stream",
          "text": "<class 'pandas.core.frame.DataFrame'>\n\nRangeIndex: 21525 entries, 0 to 21524\n\nData columns (total 12 columns):\n\n #   Column            Non-Null Count  Dtype  \n\n---  ------            --------------  -----  \n\n 0   children          21525 non-null  int64  \n\n 1   days_employed     21525 non-null  float64\n\n 2   dob_years         21525 non-null  int64  \n\n 3   education         21525 non-null  object \n\n 4   education_id      21525 non-null  int64  \n\n 5   family_status     21525 non-null  object \n\n 6   family_status_id  21525 non-null  int64  \n\n 7   gender            21525 non-null  object \n\n 8   income_type       21525 non-null  object \n\n 9   debt              21525 non-null  int64  \n\n 10  total_income      21525 non-null  float64\n\n 11  purpose           21525 non-null  object \n\ndtypes: float64(2), int64(5), object(5)\n\nmemory usage: 2.0+ MB\n"
        }
      ],
      "id": "88defcf9"
    },
    {
      "cell_type": "markdown",
      "source": "Пропущенных значений в таблице нет.",
      "metadata": {},
      "id": "f7e780ff"
    },
    {
      "cell_type": "markdown",
      "source": "Проверка аномальных значений в столбце с количеством детей.",
      "metadata": {},
      "id": "2800440d"
    },
    {
      "cell_type": "code",
      "source": "data['children'].unique()",
      "metadata": {},
      "execution_count": 10,
      "outputs": [
        {
          "execution_count": 10,
          "output_type": "execute_result",
          "data": {
            "text/plain": [
              "array([ 1,  0,  3,  2, -1,  4, 20,  5])"
            ]
          },
          "metadata": {}
        }
      ],
      "id": "6a650818"
    },
    {
      "cell_type": "markdown",
      "source": "Отрицательным количество быть не может априори. Необходимо заменить данные медианным значением.",
      "metadata": {},
      "id": "80093408"
    },
    {
      "cell_type": "code",
      "source": "data['children'] = data['children'].replace(-1, data['children'].median()).astype(int)\ndata['children'].unique()",
      "metadata": {},
      "execution_count": 11,
      "outputs": [
        {
          "execution_count": 11,
          "output_type": "execute_result",
          "data": {
            "text/plain": [
              "array([ 1,  0,  3,  2,  4, 20,  5])"
            ]
          },
          "metadata": {}
        }
      ],
      "id": "a3a42ede"
    },
    {
      "cell_type": "markdown",
      "source": "Проверим возраст людей, в семьях которых количество детей равно двадцати.",
      "metadata": {},
      "id": "e9234d6d"
    },
    {
      "cell_type": "code",
      "source": "data[data['children'] == 20]['dob_years']",
      "metadata": {
        "scrolled": true
      },
      "execution_count": 12,
      "outputs": [
        {
          "execution_count": 12,
          "output_type": "execute_result",
          "data": {
            "text/plain": [
              "606      21\n",
              "720      44\n",
              "1074     56\n",
              "2510     59\n",
              "2941      0\n",
              "         ..\n",
              "21008    40\n",
              "21325    37\n",
              "21390    53\n",
              "21404    52\n",
              "21491    27\n",
              "Name: dob_years, Length: 76, dtype: int64"
            ]
          },
          "metadata": {}
        }
      ],
      "id": "19c82a0f"
    },
    {
      "cell_type": "markdown",
      "source": "В датасете таких семей всего 76, что составляет 0,4% от общего количества. Их можно проигнорировать.\n    \nВ ходе этой проверки замечены заёмщики с нулевым возрастом.\nПроверим уникальные значения в столбце с возрастом.",
      "metadata": {},
      "id": "ba24e31f"
    },
    {
      "cell_type": "code",
      "source": "data['dob_years'].unique()",
      "metadata": {
        "scrolled": true
      },
      "execution_count": 13,
      "outputs": [
        {
          "execution_count": 13,
          "output_type": "execute_result",
          "data": {
            "text/plain": [
              "array([42, 36, 33, 32, 53, 27, 43, 50, 35, 41, 40, 65, 54, 56, 26, 48, 24,\n",
              "       21, 57, 67, 28, 63, 62, 47, 34, 68, 25, 31, 30, 20, 49, 37, 45, 61,\n",
              "       64, 44, 52, 46, 23, 38, 39, 51,  0, 59, 29, 60, 55, 58, 71, 22, 73,\n",
              "       66, 69, 19, 72, 70, 74, 75])"
            ]
          },
          "metadata": {}
        }
      ],
      "id": "5981dd05"
    },
    {
      "cell_type": "markdown",
      "source": "Подсчёт количества заёмщицов, у которых указан нулевой возраст.",
      "metadata": {},
      "id": "78dc8f1b"
    },
    {
      "cell_type": "code",
      "source": "data[data['dob_years'] == 0]['children'].count()",
      "metadata": {},
      "execution_count": 14,
      "outputs": [
        {
          "execution_count": 14,
          "output_type": "execute_result",
          "data": {
            "text/plain": [
              "101"
            ]
          },
          "metadata": {}
        }
      ],
      "id": "665f640a"
    },
    {
      "cell_type": "markdown",
      "source": "По поводу количества детей, равного 20, можно только предполагать: либо это действительно очень большие семьи (в таком случае это будет исключением из правила), либо в данных опечатка (и на самом деле, там должно быть 2 ребёнка, например).\n<br>Заёмщики с нулевым возрастом, возможно, не пожелали указывать свой настоящий возраст, либо эта информация не требовалась при заполнении данных для выдачи кредита. В нашем исследовании информация о возрасте в дальнейшем не потребуется. Можно с этими данными ничего не делать.",
      "metadata": {},
      "id": "81dbbe1a"
    },
    {
      "cell_type": "markdown",
      "source": "### Шаг 2.3. Изменение типов данных.",
      "metadata": {},
      "id": "608ea94e"
    },
    {
      "cell_type": "markdown",
      "source": "Замена вещественного типа значений в столбце 'total_income' на целочисленный.",
      "metadata": {},
      "id": "14f588fd"
    },
    {
      "cell_type": "code",
      "source": "data['total_income'] = data['total_income'].astype('int')\ndata.info()",
      "metadata": {},
      "execution_count": 15,
      "outputs": [
        {
          "name": "stdout",
          "output_type": "stream",
          "text": "<class 'pandas.core.frame.DataFrame'>\n\nRangeIndex: 21525 entries, 0 to 21524\n\nData columns (total 12 columns):\n\n #   Column            Non-Null Count  Dtype  \n\n---  ------            --------------  -----  \n\n 0   children          21525 non-null  int64  \n\n 1   days_employed     21525 non-null  float64\n\n 2   dob_years         21525 non-null  int64  \n\n 3   education         21525 non-null  object \n\n 4   education_id      21525 non-null  int64  \n\n 5   family_status     21525 non-null  object \n\n 6   family_status_id  21525 non-null  int64  \n\n 7   gender            21525 non-null  object \n\n 8   income_type       21525 non-null  object \n\n 9   debt              21525 non-null  int64  \n\n 10  total_income      21525 non-null  int64  \n\n 11  purpose           21525 non-null  object \n\ndtypes: float64(1), int64(6), object(5)\n\nmemory usage: 2.0+ MB\n"
        }
      ],
      "id": "9a338ad4"
    },
    {
      "cell_type": "markdown",
      "source": "### Шаг 2.4. Удаление дубликатов.",
      "metadata": {},
      "id": "fe49bd51"
    },
    {
      "cell_type": "markdown",
      "source": "Поиск неявных дубликатов в столбцах.",
      "metadata": {},
      "id": "eba5bf0c"
    },
    {
      "cell_type": "code",
      "source": "display(data['education'].unique())\ndisplay(data['family_status'].unique())\ndisplay(data['gender'].unique())\ndisplay(data['income_type'].unique())\ndisplay(data['purpose'].unique())",
      "metadata": {
        "scrolled": true
      },
      "execution_count": 16,
      "outputs": [
        {
          "output_type": "display_data",
          "data": {
            "text/plain": [
              "array(['высшее', 'среднее', 'Среднее', 'СРЕДНЕЕ', 'ВЫСШЕЕ',\n",
              "       'неоконченное высшее', 'начальное', 'Высшее',\n",
              "       'НЕОКОНЧЕННОЕ ВЫСШЕЕ', 'Неоконченное высшее', 'НАЧАЛЬНОЕ',\n",
              "       'Начальное', 'Ученая степень', 'УЧЕНАЯ СТЕПЕНЬ', 'ученая степень'],\n",
              "      dtype=object)"
            ]
          },
          "metadata": {}
        },
        {
          "output_type": "display_data",
          "data": {
            "text/plain": [
              "array(['женат / замужем', 'гражданский брак', 'вдовец / вдова',\n",
              "       'в разводе', 'Не женат / не замужем'], dtype=object)"
            ]
          },
          "metadata": {}
        },
        {
          "output_type": "display_data",
          "data": {
            "text/plain": [
              "array(['F', 'M', 'XNA'], dtype=object)"
            ]
          },
          "metadata": {}
        },
        {
          "output_type": "display_data",
          "data": {
            "text/plain": [
              "array(['сотрудник', 'пенсионер', 'компаньон', 'госслужащий',\n",
              "       'безработный', 'предприниматель', 'студент', 'в декрете'],\n",
              "      dtype=object)"
            ]
          },
          "metadata": {}
        },
        {
          "output_type": "display_data",
          "data": {
            "text/plain": [
              "array(['покупка жилья', 'приобретение автомобиля',\n",
              "       'дополнительное образование', 'сыграть свадьбу',\n",
              "       'операции с жильем', 'образование', 'на проведение свадьбы',\n",
              "       'покупка жилья для семьи', 'покупка недвижимости',\n",
              "       'покупка коммерческой недвижимости', 'покупка жилой недвижимости',\n",
              "       'строительство собственной недвижимости', 'недвижимость',\n",
              "       'строительство недвижимости', 'на покупку подержанного автомобиля',\n",
              "       'на покупку своего автомобиля',\n",
              "       'операции с коммерческой недвижимостью',\n",
              "       'строительство жилой недвижимости', 'жилье',\n",
              "       'операции со своей недвижимостью', 'автомобили',\n",
              "       'заняться образованием', 'сделка с подержанным автомобилем',\n",
              "       'получение образования', 'автомобиль', 'свадьба',\n",
              "       'получение дополнительного образования', 'покупка своего жилья',\n",
              "       'операции с недвижимостью', 'получение высшего образования',\n",
              "       'свой автомобиль', 'сделка с автомобилем',\n",
              "       'профильное образование', 'высшее образование',\n",
              "       'покупка жилья для сдачи', 'на покупку автомобиля', 'ремонт жилью',\n",
              "       'заняться высшим образованием'], dtype=object)"
            ]
          },
          "metadata": {}
        }
      ],
      "id": "44b1e193"
    },
    {
      "cell_type": "markdown",
      "source": "Приведение данных в столбце 'education' к единообразному виду.",
      "metadata": {},
      "id": "c7bce633"
    },
    {
      "cell_type": "code",
      "source": "data['education'] = data['education'].str.lower()\ndata['education'].unique()",
      "metadata": {
        "scrolled": true
      },
      "execution_count": 17,
      "outputs": [
        {
          "execution_count": 17,
          "output_type": "execute_result",
          "data": {
            "text/plain": [
              "array(['высшее', 'среднее', 'неоконченное высшее', 'начальное',\n",
              "       'ученая степень'], dtype=object)"
            ]
          },
          "metadata": {}
        }
      ],
      "id": "93223979"
    },
    {
      "cell_type": "markdown",
      "source": "Проверим датасет на наличие явных дубликатов.",
      "metadata": {},
      "id": "d5923ef1"
    },
    {
      "cell_type": "code",
      "source": "data.duplicated().sum()",
      "metadata": {},
      "execution_count": 18,
      "outputs": [
        {
          "execution_count": 18,
          "output_type": "execute_result",
          "data": {
            "text/plain": [
              "71"
            ]
          },
          "metadata": {}
        }
      ],
      "id": "1b46165f"
    },
    {
      "cell_type": "markdown",
      "source": "Удалим явные дубликаты из таблицы.",
      "metadata": {},
      "id": "c59b24d7"
    },
    {
      "cell_type": "code",
      "source": "data = data.drop_duplicates().reset_index(drop=True)\ndata.duplicated().sum()",
      "metadata": {},
      "execution_count": 19,
      "outputs": [
        {
          "execution_count": 19,
          "output_type": "execute_result",
          "data": {
            "text/plain": [
              "0"
            ]
          },
          "metadata": {}
        }
      ],
      "id": "f6e4aa51"
    },
    {
      "cell_type": "markdown",
      "source": "От неявных дубликатов в столбце 'education' избавились методом .str.lower(), так как данные различались только регистром. Такие дубликаты могли явиться следствием человеческого фактора: зажатый 'Caps Lock', привычка начинать каждую новую строку с заглавной буквы.",
      "metadata": {},
      "id": "217da165"
    },
    {
      "cell_type": "markdown",
      "source": "Явные дубликаты могли появиться в следствии человеческого фактора (случайное копирование строк, например).\n\nТеперь и от них датафрейм чист.",
      "metadata": {},
      "id": "1250873e"
    },
    {
      "cell_type": "markdown",
      "source": "### Шаг 2.5. Формирование дополнительных датафреймов словарей, декомпозиция исходного датафрейма.",
      "metadata": {},
      "id": "88b9108e"
    },
    {
      "cell_type": "markdown",
      "source": "Создание таблицы 'education_log', в которой каждому уникальному значению из 'education' соответствует уникальное значение 'education_id'.",
      "metadata": {},
      "id": "03ba3e72"
    },
    {
      "cell_type": "code",
      "source": "education_log = data[['education', 'education_id']]\neducation_log = education_log.drop_duplicates().reset_index(drop=True)\neducation_log",
      "metadata": {
        "scrolled": true
      },
      "execution_count": 20,
      "outputs": [
        {
          "execution_count": 20,
          "output_type": "execute_result",
          "data": {
            "text/html": [
              "<div>\n",
              "<style scoped>\n",
              "    .dataframe tbody tr th:only-of-type {\n",
              "        vertical-align: middle;\n",
              "    }\n",
              "\n",
              "    .dataframe tbody tr th {\n",
              "        vertical-align: top;\n",
              "    }\n",
              "\n",
              "    .dataframe thead th {\n",
              "        text-align: right;\n",
              "    }\n",
              "</style>\n",
              "<table border=\"1\" class=\"dataframe\">\n",
              "  <thead>\n",
              "    <tr style=\"text-align: right;\">\n",
              "      <th></th>\n",
              "      <th>education</th>\n",
              "      <th>education_id</th>\n",
              "    </tr>\n",
              "  </thead>\n",
              "  <tbody>\n",
              "    <tr>\n",
              "      <th>0</th>\n",
              "      <td>высшее</td>\n",
              "      <td>0</td>\n",
              "    </tr>\n",
              "    <tr>\n",
              "      <th>1</th>\n",
              "      <td>среднее</td>\n",
              "      <td>1</td>\n",
              "    </tr>\n",
              "    <tr>\n",
              "      <th>2</th>\n",
              "      <td>неоконченное высшее</td>\n",
              "      <td>2</td>\n",
              "    </tr>\n",
              "    <tr>\n",
              "      <th>3</th>\n",
              "      <td>начальное</td>\n",
              "      <td>3</td>\n",
              "    </tr>\n",
              "    <tr>\n",
              "      <th>4</th>\n",
              "      <td>ученая степень</td>\n",
              "      <td>4</td>\n",
              "    </tr>\n",
              "  </tbody>\n",
              "</table>\n",
              "</div>"
            ],
            "text/plain": [
              "             education  education_id\n",
              "0               высшее             0\n",
              "1              среднее             1\n",
              "2  неоконченное высшее             2\n",
              "3            начальное             3\n",
              "4       ученая степень             4"
            ]
          },
          "metadata": {}
        }
      ],
      "id": "c35d49be"
    },
    {
      "cell_type": "markdown",
      "source": "Создание таблицы 'family_log', в которой каждому уникальному значению из 'family_status' соответствует уникальное значение 'family_status_id'.",
      "metadata": {},
      "id": "c5e92862"
    },
    {
      "cell_type": "code",
      "source": "family_log = data[['family_status', 'family_status_id']]\nfamily_log = family_log.drop_duplicates().reset_index(drop=True)\nfamily_log",
      "metadata": {
        "scrolled": true
      },
      "execution_count": 21,
      "outputs": [
        {
          "execution_count": 21,
          "output_type": "execute_result",
          "data": {
            "text/html": [
              "<div>\n",
              "<style scoped>\n",
              "    .dataframe tbody tr th:only-of-type {\n",
              "        vertical-align: middle;\n",
              "    }\n",
              "\n",
              "    .dataframe tbody tr th {\n",
              "        vertical-align: top;\n",
              "    }\n",
              "\n",
              "    .dataframe thead th {\n",
              "        text-align: right;\n",
              "    }\n",
              "</style>\n",
              "<table border=\"1\" class=\"dataframe\">\n",
              "  <thead>\n",
              "    <tr style=\"text-align: right;\">\n",
              "      <th></th>\n",
              "      <th>family_status</th>\n",
              "      <th>family_status_id</th>\n",
              "    </tr>\n",
              "  </thead>\n",
              "  <tbody>\n",
              "    <tr>\n",
              "      <th>0</th>\n",
              "      <td>женат / замужем</td>\n",
              "      <td>0</td>\n",
              "    </tr>\n",
              "    <tr>\n",
              "      <th>1</th>\n",
              "      <td>гражданский брак</td>\n",
              "      <td>1</td>\n",
              "    </tr>\n",
              "    <tr>\n",
              "      <th>2</th>\n",
              "      <td>вдовец / вдова</td>\n",
              "      <td>2</td>\n",
              "    </tr>\n",
              "    <tr>\n",
              "      <th>3</th>\n",
              "      <td>в разводе</td>\n",
              "      <td>3</td>\n",
              "    </tr>\n",
              "    <tr>\n",
              "      <th>4</th>\n",
              "      <td>Не женат / не замужем</td>\n",
              "      <td>4</td>\n",
              "    </tr>\n",
              "  </tbody>\n",
              "</table>\n",
              "</div>"
            ],
            "text/plain": [
              "           family_status  family_status_id\n",
              "0        женат / замужем                 0\n",
              "1       гражданский брак                 1\n",
              "2         вдовец / вдова                 2\n",
              "3              в разводе                 3\n",
              "4  Не женат / не замужем                 4"
            ]
          },
          "metadata": {}
        }
      ],
      "id": "8ca972f2"
    },
    {
      "cell_type": "markdown",
      "source": "Удаление из исходного датафрейма столбцов 'education' и 'family_status', оставим только их идентификаторы: education_id и family_status_id. В качестве \"словарей\", к которым можно обращаться по идентификатору будут использованы 'education_log' и 'family_log'.",
      "metadata": {},
      "id": "f590f8c8"
    },
    {
      "cell_type": "code",
      "source": "data = data.drop(['education', 'family_status'], axis=1)\ndata.head()",
      "metadata": {},
      "execution_count": 22,
      "outputs": [
        {
          "execution_count": 22,
          "output_type": "execute_result",
          "data": {
            "text/html": [
              "<div>\n",
              "<style scoped>\n",
              "    .dataframe tbody tr th:only-of-type {\n",
              "        vertical-align: middle;\n",
              "    }\n",
              "\n",
              "    .dataframe tbody tr th {\n",
              "        vertical-align: top;\n",
              "    }\n",
              "\n",
              "    .dataframe thead th {\n",
              "        text-align: right;\n",
              "    }\n",
              "</style>\n",
              "<table border=\"1\" class=\"dataframe\">\n",
              "  <thead>\n",
              "    <tr style=\"text-align: right;\">\n",
              "      <th></th>\n",
              "      <th>children</th>\n",
              "      <th>days_employed</th>\n",
              "      <th>dob_years</th>\n",
              "      <th>education_id</th>\n",
              "      <th>family_status_id</th>\n",
              "      <th>gender</th>\n",
              "      <th>income_type</th>\n",
              "      <th>debt</th>\n",
              "      <th>total_income</th>\n",
              "      <th>purpose</th>\n",
              "    </tr>\n",
              "  </thead>\n",
              "  <tbody>\n",
              "    <tr>\n",
              "      <th>0</th>\n",
              "      <td>1</td>\n",
              "      <td>-8437.673028</td>\n",
              "      <td>42</td>\n",
              "      <td>0</td>\n",
              "      <td>0</td>\n",
              "      <td>F</td>\n",
              "      <td>сотрудник</td>\n",
              "      <td>0</td>\n",
              "      <td>253875</td>\n",
              "      <td>покупка жилья</td>\n",
              "    </tr>\n",
              "    <tr>\n",
              "      <th>1</th>\n",
              "      <td>1</td>\n",
              "      <td>-4024.803754</td>\n",
              "      <td>36</td>\n",
              "      <td>1</td>\n",
              "      <td>0</td>\n",
              "      <td>F</td>\n",
              "      <td>сотрудник</td>\n",
              "      <td>0</td>\n",
              "      <td>112080</td>\n",
              "      <td>приобретение автомобиля</td>\n",
              "    </tr>\n",
              "    <tr>\n",
              "      <th>2</th>\n",
              "      <td>0</td>\n",
              "      <td>-5623.422610</td>\n",
              "      <td>33</td>\n",
              "      <td>1</td>\n",
              "      <td>0</td>\n",
              "      <td>M</td>\n",
              "      <td>сотрудник</td>\n",
              "      <td>0</td>\n",
              "      <td>145885</td>\n",
              "      <td>покупка жилья</td>\n",
              "    </tr>\n",
              "    <tr>\n",
              "      <th>3</th>\n",
              "      <td>3</td>\n",
              "      <td>-4124.747207</td>\n",
              "      <td>32</td>\n",
              "      <td>1</td>\n",
              "      <td>0</td>\n",
              "      <td>M</td>\n",
              "      <td>сотрудник</td>\n",
              "      <td>0</td>\n",
              "      <td>267628</td>\n",
              "      <td>дополнительное образование</td>\n",
              "    </tr>\n",
              "    <tr>\n",
              "      <th>4</th>\n",
              "      <td>0</td>\n",
              "      <td>340266.072047</td>\n",
              "      <td>53</td>\n",
              "      <td>1</td>\n",
              "      <td>1</td>\n",
              "      <td>F</td>\n",
              "      <td>пенсионер</td>\n",
              "      <td>0</td>\n",
              "      <td>158616</td>\n",
              "      <td>сыграть свадьбу</td>\n",
              "    </tr>\n",
              "  </tbody>\n",
              "</table>\n",
              "</div>"
            ],
            "text/plain": [
              "   children  days_employed  dob_years  education_id  family_status_id gender  \\\n",
              "0         1   -8437.673028         42             0                 0      F   \n",
              "1         1   -4024.803754         36             1                 0      F   \n",
              "2         0   -5623.422610         33             1                 0      M   \n",
              "3         3   -4124.747207         32             1                 0      M   \n",
              "4         0  340266.072047         53             1                 1      F   \n",
              "\n",
              "  income_type  debt  total_income                     purpose  \n",
              "0   сотрудник     0        253875               покупка жилья  \n",
              "1   сотрудник     0        112080     приобретение автомобиля  \n",
              "2   сотрудник     0        145885               покупка жилья  \n",
              "3   сотрудник     0        267628  дополнительное образование  \n",
              "4   пенсионер     0        158616             сыграть свадьбу  "
            ]
          },
          "metadata": {}
        }
      ],
      "id": "588a5387"
    },
    {
      "cell_type": "markdown",
      "source": "### Шаг 2.6. Категоризация дохода.",
      "metadata": {},
      "id": "b0be9c28"
    },
    {
      "cell_type": "markdown",
      "source": "Создание столбца 'total_income_category' с категориями ежемесячного дохода:\n- 0–30000 — 'E';\n- 30001–50000 — 'D';\n- 50001–200000 — 'C';\n- 200001–1000000 — 'B';\n- 1000001 и выше — 'A'",
      "metadata": {},
      "id": "f69c779c"
    },
    {
      "cell_type": "markdown",
      "source": "Первый этап: создание функции и проверка её работоспособности.",
      "metadata": {},
      "id": "5cc3aa76"
    },
    {
      "cell_type": "code",
      "source": "def total_income_category(total_income):\n    try:\n        if total_income <= 30000:\n            return 'E'\n        if total_income <= 50000:\n            return 'D'\n        if total_income <= 200000:\n            return 'C'\n        if total_income <= 1000000:\n            return 'B'\n        return 'A'\n    except:\n        display('Некорректное значение дохода')\n        \ndisplay(total_income_category(15000))\ndisplay(total_income_category('4o5000'))\ndisplay(total_income_category(100000))\ndisplay(total_income_category(500000))\ndisplay(total_income_category(2000000))",
      "metadata": {},
      "execution_count": 23,
      "outputs": [
        {
          "output_type": "display_data",
          "data": {
            "text/plain": [
              "'E'"
            ]
          },
          "metadata": {}
        },
        {
          "output_type": "display_data",
          "data": {
            "text/plain": [
              "'Некорректное значение дохода'"
            ]
          },
          "metadata": {}
        },
        {
          "output_type": "display_data",
          "data": {
            "text/plain": [
              "None"
            ]
          },
          "metadata": {}
        },
        {
          "output_type": "display_data",
          "data": {
            "text/plain": [
              "'C'"
            ]
          },
          "metadata": {}
        },
        {
          "output_type": "display_data",
          "data": {
            "text/plain": [
              "'B'"
            ]
          },
          "metadata": {}
        },
        {
          "output_type": "display_data",
          "data": {
            "text/plain": [
              "'A'"
            ]
          },
          "metadata": {}
        }
      ],
      "id": "2999ca37"
    },
    {
      "cell_type": "markdown",
      "source": "Второй этап: добавление столбца к датафрейму. И вывод его первых строк.",
      "metadata": {},
      "id": "b64a6c95"
    },
    {
      "cell_type": "code",
      "source": "data['total_income_category'] = data['total_income'].apply(total_income_category)\ndata.head()",
      "metadata": {},
      "execution_count": 24,
      "outputs": [
        {
          "execution_count": 24,
          "output_type": "execute_result",
          "data": {
            "text/html": [
              "<div>\n",
              "<style scoped>\n",
              "    .dataframe tbody tr th:only-of-type {\n",
              "        vertical-align: middle;\n",
              "    }\n",
              "\n",
              "    .dataframe tbody tr th {\n",
              "        vertical-align: top;\n",
              "    }\n",
              "\n",
              "    .dataframe thead th {\n",
              "        text-align: right;\n",
              "    }\n",
              "</style>\n",
              "<table border=\"1\" class=\"dataframe\">\n",
              "  <thead>\n",
              "    <tr style=\"text-align: right;\">\n",
              "      <th></th>\n",
              "      <th>children</th>\n",
              "      <th>days_employed</th>\n",
              "      <th>dob_years</th>\n",
              "      <th>education_id</th>\n",
              "      <th>family_status_id</th>\n",
              "      <th>gender</th>\n",
              "      <th>income_type</th>\n",
              "      <th>debt</th>\n",
              "      <th>total_income</th>\n",
              "      <th>purpose</th>\n",
              "      <th>total_income_category</th>\n",
              "    </tr>\n",
              "  </thead>\n",
              "  <tbody>\n",
              "    <tr>\n",
              "      <th>0</th>\n",
              "      <td>1</td>\n",
              "      <td>-8437.673028</td>\n",
              "      <td>42</td>\n",
              "      <td>0</td>\n",
              "      <td>0</td>\n",
              "      <td>F</td>\n",
              "      <td>сотрудник</td>\n",
              "      <td>0</td>\n",
              "      <td>253875</td>\n",
              "      <td>покупка жилья</td>\n",
              "      <td>B</td>\n",
              "    </tr>\n",
              "    <tr>\n",
              "      <th>1</th>\n",
              "      <td>1</td>\n",
              "      <td>-4024.803754</td>\n",
              "      <td>36</td>\n",
              "      <td>1</td>\n",
              "      <td>0</td>\n",
              "      <td>F</td>\n",
              "      <td>сотрудник</td>\n",
              "      <td>0</td>\n",
              "      <td>112080</td>\n",
              "      <td>приобретение автомобиля</td>\n",
              "      <td>C</td>\n",
              "    </tr>\n",
              "    <tr>\n",
              "      <th>2</th>\n",
              "      <td>0</td>\n",
              "      <td>-5623.422610</td>\n",
              "      <td>33</td>\n",
              "      <td>1</td>\n",
              "      <td>0</td>\n",
              "      <td>M</td>\n",
              "      <td>сотрудник</td>\n",
              "      <td>0</td>\n",
              "      <td>145885</td>\n",
              "      <td>покупка жилья</td>\n",
              "      <td>C</td>\n",
              "    </tr>\n",
              "    <tr>\n",
              "      <th>3</th>\n",
              "      <td>3</td>\n",
              "      <td>-4124.747207</td>\n",
              "      <td>32</td>\n",
              "      <td>1</td>\n",
              "      <td>0</td>\n",
              "      <td>M</td>\n",
              "      <td>сотрудник</td>\n",
              "      <td>0</td>\n",
              "      <td>267628</td>\n",
              "      <td>дополнительное образование</td>\n",
              "      <td>B</td>\n",
              "    </tr>\n",
              "    <tr>\n",
              "      <th>4</th>\n",
              "      <td>0</td>\n",
              "      <td>340266.072047</td>\n",
              "      <td>53</td>\n",
              "      <td>1</td>\n",
              "      <td>1</td>\n",
              "      <td>F</td>\n",
              "      <td>пенсионер</td>\n",
              "      <td>0</td>\n",
              "      <td>158616</td>\n",
              "      <td>сыграть свадьбу</td>\n",
              "      <td>C</td>\n",
              "    </tr>\n",
              "  </tbody>\n",
              "</table>\n",
              "</div>"
            ],
            "text/plain": [
              "   children  days_employed  dob_years  education_id  family_status_id gender  \\\n",
              "0         1   -8437.673028         42             0                 0      F   \n",
              "1         1   -4024.803754         36             1                 0      F   \n",
              "2         0   -5623.422610         33             1                 0      M   \n",
              "3         3   -4124.747207         32             1                 0      M   \n",
              "4         0  340266.072047         53             1                 1      F   \n",
              "\n",
              "  income_type  debt  total_income                     purpose  \\\n",
              "0   сотрудник     0        253875               покупка жилья   \n",
              "1   сотрудник     0        112080     приобретение автомобиля   \n",
              "2   сотрудник     0        145885               покупка жилья   \n",
              "3   сотрудник     0        267628  дополнительное образование   \n",
              "4   пенсионер     0        158616             сыграть свадьбу   \n",
              "\n",
              "  total_income_category  \n",
              "0                     B  \n",
              "1                     C  \n",
              "2                     C  \n",
              "3                     B  \n",
              "4                     C  "
            ]
          },
          "metadata": {}
        }
      ],
      "id": "70b561fb"
    },
    {
      "cell_type": "markdown",
      "source": "### Шаг 2.7. Категоризация целей кредита.",
      "metadata": {},
      "id": "d16818a8"
    },
    {
      "cell_type": "markdown",
      "source": "Создание столбца 'purpose_category', в который войдут следующие категории:\n- 'операции с автомобилем',\n- 'операции с недвижимостью',\n- 'проведение свадьбы',\n- 'получение образования'.",
      "metadata": {},
      "id": "d7fd417a"
    },
    {
      "cell_type": "markdown",
      "source": "Первый этап: написание функции и проверка её работоспособности.",
      "metadata": {},
      "id": "6ced6f5a"
    },
    {
      "cell_type": "code",
      "source": "def purpose_category(purpose):\n    try:\n        if 'авто' in purpose:\n            return 'операции с автомобилем'\n        if 'свадьб' in purpose:\n            return 'проведение свадьбы'\n        if 'образ' in purpose:\n            return 'получение образования'\n        return 'операции с недвижимостью'\n    except:\n        display('Некорректное значение')\n    \ndisplay(purpose_category('высшее образование'))\ndisplay(purpose_category('жилье'))\ndisplay(purpose_category('на проведение свадьбы'))\ndisplay(purpose_category('приобретение автомобиля'))",
      "metadata": {},
      "execution_count": 25,
      "outputs": [
        {
          "output_type": "display_data",
          "data": {
            "text/plain": [
              "'получение образования'"
            ]
          },
          "metadata": {}
        },
        {
          "output_type": "display_data",
          "data": {
            "text/plain": [
              "'операции с недвижимостью'"
            ]
          },
          "metadata": {}
        },
        {
          "output_type": "display_data",
          "data": {
            "text/plain": [
              "'проведение свадьбы'"
            ]
          },
          "metadata": {}
        },
        {
          "output_type": "display_data",
          "data": {
            "text/plain": [
              "'операции с автомобилем'"
            ]
          },
          "metadata": {}
        }
      ],
      "id": "d56a0dea"
    },
    {
      "cell_type": "markdown",
      "source": "Второй этап: добавление столбца к датафрейму и вывод его первых строк.",
      "metadata": {},
      "id": "80383ae4"
    },
    {
      "cell_type": "code",
      "source": "data['purpose_category'] = data['purpose'].apply(purpose_category)\ndata.head()",
      "metadata": {},
      "execution_count": 26,
      "outputs": [
        {
          "execution_count": 26,
          "output_type": "execute_result",
          "data": {
            "text/html": [
              "<div>\n",
              "<style scoped>\n",
              "    .dataframe tbody tr th:only-of-type {\n",
              "        vertical-align: middle;\n",
              "    }\n",
              "\n",
              "    .dataframe tbody tr th {\n",
              "        vertical-align: top;\n",
              "    }\n",
              "\n",
              "    .dataframe thead th {\n",
              "        text-align: right;\n",
              "    }\n",
              "</style>\n",
              "<table border=\"1\" class=\"dataframe\">\n",
              "  <thead>\n",
              "    <tr style=\"text-align: right;\">\n",
              "      <th></th>\n",
              "      <th>children</th>\n",
              "      <th>days_employed</th>\n",
              "      <th>dob_years</th>\n",
              "      <th>education_id</th>\n",
              "      <th>family_status_id</th>\n",
              "      <th>gender</th>\n",
              "      <th>income_type</th>\n",
              "      <th>debt</th>\n",
              "      <th>total_income</th>\n",
              "      <th>purpose</th>\n",
              "      <th>total_income_category</th>\n",
              "      <th>purpose_category</th>\n",
              "    </tr>\n",
              "  </thead>\n",
              "  <tbody>\n",
              "    <tr>\n",
              "      <th>0</th>\n",
              "      <td>1</td>\n",
              "      <td>-8437.673028</td>\n",
              "      <td>42</td>\n",
              "      <td>0</td>\n",
              "      <td>0</td>\n",
              "      <td>F</td>\n",
              "      <td>сотрудник</td>\n",
              "      <td>0</td>\n",
              "      <td>253875</td>\n",
              "      <td>покупка жилья</td>\n",
              "      <td>B</td>\n",
              "      <td>операции с недвижимостью</td>\n",
              "    </tr>\n",
              "    <tr>\n",
              "      <th>1</th>\n",
              "      <td>1</td>\n",
              "      <td>-4024.803754</td>\n",
              "      <td>36</td>\n",
              "      <td>1</td>\n",
              "      <td>0</td>\n",
              "      <td>F</td>\n",
              "      <td>сотрудник</td>\n",
              "      <td>0</td>\n",
              "      <td>112080</td>\n",
              "      <td>приобретение автомобиля</td>\n",
              "      <td>C</td>\n",
              "      <td>операции с автомобилем</td>\n",
              "    </tr>\n",
              "    <tr>\n",
              "      <th>2</th>\n",
              "      <td>0</td>\n",
              "      <td>-5623.422610</td>\n",
              "      <td>33</td>\n",
              "      <td>1</td>\n",
              "      <td>0</td>\n",
              "      <td>M</td>\n",
              "      <td>сотрудник</td>\n",
              "      <td>0</td>\n",
              "      <td>145885</td>\n",
              "      <td>покупка жилья</td>\n",
              "      <td>C</td>\n",
              "      <td>операции с недвижимостью</td>\n",
              "    </tr>\n",
              "    <tr>\n",
              "      <th>3</th>\n",
              "      <td>3</td>\n",
              "      <td>-4124.747207</td>\n",
              "      <td>32</td>\n",
              "      <td>1</td>\n",
              "      <td>0</td>\n",
              "      <td>M</td>\n",
              "      <td>сотрудник</td>\n",
              "      <td>0</td>\n",
              "      <td>267628</td>\n",
              "      <td>дополнительное образование</td>\n",
              "      <td>B</td>\n",
              "      <td>получение образования</td>\n",
              "    </tr>\n",
              "    <tr>\n",
              "      <th>4</th>\n",
              "      <td>0</td>\n",
              "      <td>340266.072047</td>\n",
              "      <td>53</td>\n",
              "      <td>1</td>\n",
              "      <td>1</td>\n",
              "      <td>F</td>\n",
              "      <td>пенсионер</td>\n",
              "      <td>0</td>\n",
              "      <td>158616</td>\n",
              "      <td>сыграть свадьбу</td>\n",
              "      <td>C</td>\n",
              "      <td>проведение свадьбы</td>\n",
              "    </tr>\n",
              "  </tbody>\n",
              "</table>\n",
              "</div>"
            ],
            "text/plain": [
              "   children  days_employed  dob_years  education_id  family_status_id gender  \\\n",
              "0         1   -8437.673028         42             0                 0      F   \n",
              "1         1   -4024.803754         36             1                 0      F   \n",
              "2         0   -5623.422610         33             1                 0      M   \n",
              "3         3   -4124.747207         32             1                 0      M   \n",
              "4         0  340266.072047         53             1                 1      F   \n",
              "\n",
              "  income_type  debt  total_income                     purpose  \\\n",
              "0   сотрудник     0        253875               покупка жилья   \n",
              "1   сотрудник     0        112080     приобретение автомобиля   \n",
              "2   сотрудник     0        145885               покупка жилья   \n",
              "3   сотрудник     0        267628  дополнительное образование   \n",
              "4   пенсионер     0        158616             сыграть свадьбу   \n",
              "\n",
              "  total_income_category          purpose_category  \n",
              "0                     B  операции с недвижимостью  \n",
              "1                     C    операции с автомобилем  \n",
              "2                     C  операции с недвижимостью  \n",
              "3                     B     получение образования  \n",
              "4                     C        проведение свадьбы  "
            ]
          },
          "metadata": {}
        }
      ],
      "id": "3d24211b"
    },
    {
      "cell_type": "markdown",
      "source": "### Ответы на вопросы.",
      "metadata": {},
      "id": "55d89c06"
    },
    {
      "cell_type": "markdown",
      "source": "##### Вопрос 1: Есть ли зависимость между количеством детей и возвратом кредита в срок?",
      "metadata": {},
      "id": "60693e83"
    },
    {
      "cell_type": "code",
      "source": "#Количество задержек по возврату кредитов, сгруппированное по количеству детей.\ndebt_by_children_sum = data.groupby('children')['debt'].sum()\n\n#Общее количество выданных кредитов по категориям.\ndebt_children_count = data.groupby('children')['debt'].count()\n\n#Доля просроченных кредитов в выданных по категориям.\ndebt_by_children_sum / debt_children_count *100",
      "metadata": {},
      "execution_count": 27,
      "outputs": [
        {
          "execution_count": 27,
          "output_type": "execute_result",
          "data": {
            "text/plain": [
              "children\n",
              "0      7.525817\n",
              "1      9.234609\n",
              "2      9.454191\n",
              "3      8.181818\n",
              "4      9.756098\n",
              "5      0.000000\n",
              "20    10.526316\n",
              "Name: debt, dtype: float64"
            ]
          },
          "metadata": {}
        }
      ],
      "id": "2114bc5d"
    },
    {
      "cell_type": "code",
      "source": "#То же самое с использованием сводной таблицы:\n\ndata.pivot_table(index=['children'], values=['debt'], aggfunc='mean')",
      "metadata": {},
      "execution_count": 28,
      "outputs": [
        {
          "execution_count": 28,
          "output_type": "execute_result",
          "data": {
            "text/html": [
              "<div>\n",
              "<style scoped>\n",
              "    .dataframe tbody tr th:only-of-type {\n",
              "        vertical-align: middle;\n",
              "    }\n",
              "\n",
              "    .dataframe tbody tr th {\n",
              "        vertical-align: top;\n",
              "    }\n",
              "\n",
              "    .dataframe thead th {\n",
              "        text-align: right;\n",
              "    }\n",
              "</style>\n",
              "<table border=\"1\" class=\"dataframe\">\n",
              "  <thead>\n",
              "    <tr style=\"text-align: right;\">\n",
              "      <th></th>\n",
              "      <th>debt</th>\n",
              "    </tr>\n",
              "    <tr>\n",
              "      <th>children</th>\n",
              "      <th></th>\n",
              "    </tr>\n",
              "  </thead>\n",
              "  <tbody>\n",
              "    <tr>\n",
              "      <th>0</th>\n",
              "      <td>0.075258</td>\n",
              "    </tr>\n",
              "    <tr>\n",
              "      <th>1</th>\n",
              "      <td>0.092346</td>\n",
              "    </tr>\n",
              "    <tr>\n",
              "      <th>2</th>\n",
              "      <td>0.094542</td>\n",
              "    </tr>\n",
              "    <tr>\n",
              "      <th>3</th>\n",
              "      <td>0.081818</td>\n",
              "    </tr>\n",
              "    <tr>\n",
              "      <th>4</th>\n",
              "      <td>0.097561</td>\n",
              "    </tr>\n",
              "    <tr>\n",
              "      <th>5</th>\n",
              "      <td>0.000000</td>\n",
              "    </tr>\n",
              "    <tr>\n",
              "      <th>20</th>\n",
              "      <td>0.105263</td>\n",
              "    </tr>\n",
              "  </tbody>\n",
              "</table>\n",
              "</div>"
            ],
            "text/plain": [
              "              debt\n",
              "children          \n",
              "0         0.075258\n",
              "1         0.092346\n",
              "2         0.094542\n",
              "3         0.081818\n",
              "4         0.097561\n",
              "5         0.000000\n",
              "20        0.105263"
            ]
          },
          "metadata": {}
        }
      ],
      "id": "5506c675"
    },
    {
      "cell_type": "markdown",
      "source": "Проверим количество невозвратов кредитов по отношению к общему количеству займов, отфильтрованное по количеству детей.",
      "metadata": {},
      "id": "fb650eec"
    },
    {
      "cell_type": "code",
      "source": "debt_by_children_sum / 21454 * 100",
      "metadata": {},
      "execution_count": 29,
      "outputs": [
        {
          "execution_count": 29,
          "output_type": "execute_result",
          "data": {
            "text/plain": [
              "children\n",
              "0     4.959448\n",
              "1     2.069544\n",
              "2     0.904260\n",
              "3     0.125851\n",
              "4     0.018645\n",
              "5     0.000000\n",
              "20    0.037289\n",
              "Name: debt, dtype: float64"
            ]
          },
          "metadata": {}
        }
      ],
      "id": "e4bd1b6d"
    },
    {
      "cell_type": "markdown",
      "source": "##### Вывод 1:\nЗаёмщики без детей имеют тенденцию к просрочке возращения кредита чаще, чем заёмщики с детьми. При наличии в семье от двух детей и более, заёмщики практически всегда выплачивают кредиты в срок.",
      "metadata": {},
      "id": "1b1e1ff9"
    },
    {
      "cell_type": "markdown",
      "source": "##### Вопрос 2: Есть ли зависимость между семейным положением и возвратом кредита в срок?",
      "metadata": {},
      "id": "f6ef3983"
    },
    {
      "cell_type": "code",
      "source": "#Количество задержек по возврату кредитов, сгруппированно по семейному положению.\ndebt_by_family_status_sum = data.merge(family_log, on='family_status_id', how='left').groupby('family_status')['debt'].sum()\n\n#Общее количество выданных кредитов по категориям.\ndebt_by_family_status_count = data.merge(family_log, on='family_status_id', how='left').groupby('family_status')['debt'].count()\n\n#Доля просроченных кредитов в выданных по категориям.\ndebt_by_family_status_sum / debt_by_family_status_count * 100",
      "metadata": {},
      "execution_count": 30,
      "outputs": [
        {
          "execution_count": 30,
          "output_type": "execute_result",
          "data": {
            "text/plain": [
              "family_status\n",
              "Не женат / не замужем    9.750890\n",
              "в разводе                7.112971\n",
              "вдовец / вдова           6.569343\n",
              "гражданский брак         9.347145\n",
              "женат / замужем          7.545182\n",
              "Name: debt, dtype: float64"
            ]
          },
          "metadata": {}
        }
      ],
      "id": "6d0e04f5"
    },
    {
      "cell_type": "markdown",
      "source": "Проверим количество невозвратов кредитов по отношению к общему количеству займов, отфильтрованное по семейному положению.",
      "metadata": {},
      "id": "25d54fb3"
    },
    {
      "cell_type": "code",
      "source": "debt_by_family_status_sum / 21454 *100",
      "metadata": {},
      "execution_count": 31,
      "outputs": [
        {
          "execution_count": 31,
          "output_type": "execute_result",
          "data": {
            "text/plain": [
              "family_status\n",
              "Не женат / не замужем    1.277151\n",
              "в разводе                0.396197\n",
              "вдовец / вдова           0.293652\n",
              "гражданский брак         1.808521\n",
              "женат / замужем          4.339517\n",
              "Name: debt, dtype: float64"
            ]
          },
          "metadata": {}
        }
      ],
      "id": "97f08bf4"
    },
    {
      "cell_type": "markdown",
      "source": "##### Вывод 2: \nИз общего числа заёмщиков люди, состоящие в браке, возвращают кредиты хуже остальных категорий. Одинокие заёмщики, ранее состоящие в браке, возвращают вовремя заёмные средства практически в 100% случаев.",
      "metadata": {},
      "id": "3a2b9964"
    },
    {
      "cell_type": "markdown",
      "source": "##### Вопрос 3: Есть ли зависимость между уровнем дохода и возвратом кредита в срок?",
      "metadata": {},
      "id": "7a7ea5e4"
    },
    {
      "cell_type": "code",
      "source": "#Количество задержек по возврату кредитов, сгруппированно по семейному положению.\ndebt_by_total_income_category_sum = data.groupby('total_income_category')['debt'].sum()\n\n#Общее количество выданных кредитов по категориям.\ndebt_by_total_income_category_count = data.groupby('total_income_category')['debt'].count()\n\n#Доля просроченных кредитов в выданных по категориям.\ndebt_by_total_income_category_sum / debt_by_total_income_category_count * 100",
      "metadata": {
        "scrolled": true
      },
      "execution_count": 32,
      "outputs": [
        {
          "execution_count": 32,
          "output_type": "execute_result",
          "data": {
            "text/plain": [
              "total_income_category\n",
              "A    8.000000\n",
              "B    7.062091\n",
              "C    8.491508\n",
              "D    6.000000\n",
              "E    9.090909\n",
              "Name: debt, dtype: float64"
            ]
          },
          "metadata": {}
        }
      ],
      "id": "bb77eb5f"
    },
    {
      "cell_type": "markdown",
      "source": "Проверим количество невозвратов кредитов по отношению к общему количеству займов, отфильтрованное по категориям ежемесячного дохода.",
      "metadata": {},
      "id": "a30795ff"
    },
    {
      "cell_type": "code",
      "source": "debt_by_total_income_category_sum / 21454 *100",
      "metadata": {},
      "execution_count": 33,
      "outputs": [
        {
          "execution_count": 33,
          "output_type": "execute_result",
          "data": {
            "text/plain": [
              "total_income_category\n",
              "A    0.009322\n",
              "B    1.659364\n",
              "C    6.339144\n",
              "D    0.097884\n",
              "E    0.009322\n",
              "Name: debt, dtype: float64"
            ]
          },
          "metadata": {}
        }
      ],
      "id": "123cad33"
    },
    {
      "cell_type": "markdown",
      "source": "##### Вывод 3:\nЗаёмщики с доходом от 50000 до 200000 позволяют себе вернуть кредит с просрочкой в 6% случаев от общего количества выданных кредитов.",
      "metadata": {},
      "id": "12305eff"
    },
    {
      "cell_type": "markdown",
      "source": "##### Вопрос 4: Как разные цели кредита влияют на его возврат в срок?",
      "metadata": {},
      "id": "1751fb7b"
    },
    {
      "cell_type": "code",
      "source": "#Количество задержек по возврату кредитов, сгруппированно по цели кредита.\ndebt_by_purpose_category_sum = data.groupby('purpose_category')['debt'].sum()\n\n#Общее количество выданных кредитов по категориям.\ndebt_by_purpose_category_count = data.groupby('purpose_category')['debt'].count()\n\n#Доля просроченных кредитов в выданных по категориям.\ndebt_by_purpose_category_sum / debt_by_purpose_category_count * 100",
      "metadata": {
        "scrolled": true
      },
      "execution_count": 34,
      "outputs": [
        {
          "execution_count": 34,
          "output_type": "execute_result",
          "data": {
            "text/plain": [
              "purpose_category\n",
              "операции с автомобилем      9.359034\n",
              "операции с недвижимостью    7.233373\n",
              "получение образования       9.220035\n",
              "проведение свадьбы          8.003442\n",
              "Name: debt, dtype: float64"
            ]
          },
          "metadata": {}
        }
      ],
      "id": "d470ba80"
    },
    {
      "cell_type": "markdown",
      "source": "Проверим количество невозвратов кредитов по отношению к общему количеству займов, по цели оформления кредита.",
      "metadata": {},
      "id": "4f7669e6"
    },
    {
      "cell_type": "code",
      "source": "debt_by_purpose_category_sum / 21454 * 100",
      "metadata": {},
      "execution_count": 35,
      "outputs": [
        {
          "execution_count": 35,
          "output_type": "execute_result",
          "data": {
            "text/plain": [
              "purpose_category\n",
              "операции с автомобилем      1.878438\n",
              "операции с недвижимостью    3.645008\n",
              "получение образования       1.724620\n",
              "проведение свадьбы          0.866971\n",
              "Name: debt, dtype: float64"
            ]
          },
          "metadata": {}
        }
      ],
      "id": "e4890087"
    },
    {
      "cell_type": "markdown",
      "source": "##### Вывод 4:\nЗаёмщики, оформившие кредит на операции с недвижимостью в 3% случаев получения кредитов возвращают их несвоевременно. Лучше всех возвращаю вредиты, люди, взявшие их на проведение свадьбы.",
      "metadata": {},
      "id": "878c1880"
    },
    {
      "cell_type": "markdown",
      "source": "## Общий вывод:",
      "metadata": {},
      "id": "a2a76509"
    },
    {
      "cell_type": "markdown",
      "source": "Проведя исследование по влиянию разных факторов на возврат кредита в срок, подвожу итоги:\n- Заёмщики без детей имеют тенденцию к просрочке возращения кредита чаще, чем заёмщики с детьми. При наличии в семье от двух детей и более, заёмщики практически всегда выплачивают кредиты в срок.\n- Из общего числа заёмщиков люди, состоящие в браке, возвращают кредиты хуже остальных категорий. Одинокие заёмщики, ранее состоящие в браке, возвращают вовремя заёмные средства практически в 100% случаев.\n- Заёмщики с доходом от 50000 до 200000 позволяют себе вернуть кредит с просрочкой в 6% случаев от общего количества выданных кредитов. Остальные категории заёмщиков по уровню дохода возвращают займы практически одинаково хорошо.\n- Заёмщики, оформившие кредит на операции с недвижимостью в 3% случаев получения кредитов возвращают их несвоевременно. Лучше всех возвращаю вредиты, люди, взявшие их на проведение свадьбы.",
      "metadata": {},
      "id": "3fa1b479"
    }
  ]
}
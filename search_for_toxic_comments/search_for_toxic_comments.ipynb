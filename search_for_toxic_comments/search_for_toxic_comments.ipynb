{
  "cells": [
    {
      "cell_type": "markdown",
      "metadata": {
        "id": "VRrjR3vHrWxA"
      },
      "source": [
        "# Проект для «Викишоп»"
      ]
    },
    {
      "cell_type": "markdown",
      "metadata": {
        "id": "-Do718OBrWxB"
      },
      "source": [
        "Интернет-магазин «Викишоп» запускает новый сервис. Теперь пользователи могут редактировать и дополнять описания товаров, как в вики-сообществах. То есть клиенты предлагают свои правки и комментируют изменения других. Магазину нужен инструмент, который будет искать токсичные комментарии и отправлять их на модерацию. \n",
        "\n",
        "Необходимо:\n",
        "- обучить модель классифицировать комментарии на позитивные и негативные. \n",
        "  <br>В нашем распоряжении набор данных с разметкой о токсичности правок.\n",
        "- построить модель со значением метрики качества *F1* не меньше 0.75. \n",
        "\n",
        "**План работы**\n",
        "\n",
        "1. Загрузка и подготовка данных.\n",
        "2. Обучение разных моделей. \n",
        "3. Формулирование выводов.\n",
        "\n",
        "**Описание данных**\n",
        "\n",
        "Данные находятся в файле `toxic_comments.csv`. \n",
        "<br>Столбец *text* в нём содержит текст комментария, а *toxic* — целевой признак."
      ]
    },
    {
      "cell_type": "markdown",
      "metadata": {
        "id": "U5pLeLDTrWxB"
      },
      "source": [
        "## Подготовка"
      ]
    },
    {
      "cell_type": "markdown",
      "metadata": {
        "id": "x2QyNjzBrWxC"
      },
      "source": [
        "Импорт необходимых для исследования инструментов"
      ]
    },
    {
      "cell_type": "code",
      "execution_count": null,
      "metadata": {
        "id": "h8AW5r_irWxC"
      },
      "outputs": [],
      "source": [
        "import pandas as pd\n",
        "import numpy as np\n",
        "import nltk\n",
        "import time\n",
        "import re\n",
        "from tqdm import notebook\n",
        "from nltk.corpus import stopwords as nltk_stopwords\n",
        "from sklearn.feature_extraction.text import TfidfVectorizer\n",
        "from sklearn.linear_model import LogisticRegression\n",
        "from sklearn.ensemble import RandomForestClassifier\n",
        "from sklearn.model_selection import GridSearchCV\n",
        "from sklearn.dummy import DummyClassifier\n",
        "from sklearn.pipeline import Pipeline\n",
        "from sklearn.model_selection import train_test_split\n",
        "from sklearn.model_selection import RandomizedSearchCV\n",
        "from sklearn.metrics import make_scorer\n",
        "from sklearn.metrics import f1_score\n",
        "from catboost import CatBoostClassifier, Pool"
      ]
    },
    {
      "cell_type": "markdown",
      "metadata": {
        "id": "40aof32krWxE"
      },
      "source": [
        "### Знакомство с данными"
      ]
    },
    {
      "cell_type": "markdown",
      "metadata": {
        "id": "r0IzAwy3rWxF"
      },
      "source": [
        "Открытие файла и знакомство с данными"
      ]
    },
    {
      "cell_type": "code",
      "execution_count": null,
      "metadata": {
        "id": "tIyA6Dd4rWxF",
        "outputId": "93527baa-15d6-491a-8bda-e7be82a097bd"
      },
      "outputs": [
        {
          "data": {
            "text/html": [
              "<div>\n",
              "<style scoped>\n",
              "    .dataframe tbody tr th:only-of-type {\n",
              "        vertical-align: middle;\n",
              "    }\n",
              "\n",
              "    .dataframe tbody tr th {\n",
              "        vertical-align: top;\n",
              "    }\n",
              "\n",
              "    .dataframe thead th {\n",
              "        text-align: right;\n",
              "    }\n",
              "</style>\n",
              "<table border=\"1\" class=\"dataframe\">\n",
              "  <thead>\n",
              "    <tr style=\"text-align: right;\">\n",
              "      <th></th>\n",
              "      <th>text</th>\n",
              "      <th>toxic</th>\n",
              "    </tr>\n",
              "  </thead>\n",
              "  <tbody>\n",
              "    <tr>\n",
              "      <th>0</th>\n",
              "      <td>Explanation\\nWhy the edits made under my usern...</td>\n",
              "      <td>0</td>\n",
              "    </tr>\n",
              "    <tr>\n",
              "      <th>1</th>\n",
              "      <td>D'aww! He matches this background colour I'm s...</td>\n",
              "      <td>0</td>\n",
              "    </tr>\n",
              "    <tr>\n",
              "      <th>2</th>\n",
              "      <td>Hey man, I'm really not trying to edit war. It...</td>\n",
              "      <td>0</td>\n",
              "    </tr>\n",
              "    <tr>\n",
              "      <th>3</th>\n",
              "      <td>\"\\nMore\\nI can't make any real suggestions on ...</td>\n",
              "      <td>0</td>\n",
              "    </tr>\n",
              "    <tr>\n",
              "      <th>4</th>\n",
              "      <td>You, sir, are my hero. Any chance you remember...</td>\n",
              "      <td>0</td>\n",
              "    </tr>\n",
              "  </tbody>\n",
              "</table>\n",
              "</div>"
            ],
            "text/plain": [
              "                                                text  toxic\n",
              "0  Explanation\\nWhy the edits made under my usern...      0\n",
              "1  D'aww! He matches this background colour I'm s...      0\n",
              "2  Hey man, I'm really not trying to edit war. It...      0\n",
              "3  \"\\nMore\\nI can't make any real suggestions on ...      0\n",
              "4  You, sir, are my hero. Any chance you remember...      0"
            ]
          },
          "metadata": {},
          "output_type": "display_data"
        },
        {
          "name": "stdout",
          "output_type": "stream",
          "text": [
            "<class 'pandas.core.frame.DataFrame'>\n",
            "Int64Index: 159292 entries, 0 to 159450\n",
            "Data columns (total 2 columns):\n",
            " #   Column  Non-Null Count   Dtype \n",
            "---  ------  --------------   ----- \n",
            " 0   text    159292 non-null  object\n",
            " 1   toxic   159292 non-null  int64 \n",
            "dtypes: int64(1), object(1)\n",
            "memory usage: 3.6+ MB\n"
          ]
        }
      ],
      "source": [
        "df = pd.read_csv('/datasets/toxic_comments.csv', index_col=0)\n",
        "display(df.head())\n",
        "df.info()"
      ]
    },
    {
      "cell_type": "markdown",
      "metadata": {
        "id": "WnUv0OhorWxG"
      },
      "source": [
        "Проверка на наличие явных дубликатов строк"
      ]
    },
    {
      "cell_type": "code",
      "execution_count": null,
      "metadata": {
        "id": "5xqTG9b5rWxH",
        "outputId": "380c9dc9-2db3-4c32-bc60-b0e1f28c9af5"
      },
      "outputs": [
        {
          "data": {
            "text/plain": [
              "0"
            ]
          },
          "execution_count": 3,
          "metadata": {},
          "output_type": "execute_result"
        }
      ],
      "source": [
        "df.duplicated().sum()"
      ]
    },
    {
      "cell_type": "markdown",
      "metadata": {
        "id": "oDhCiMJJrWxI"
      },
      "source": [
        "Проверка количества позитивных и негативных комментариев"
      ]
    },
    {
      "cell_type": "code",
      "execution_count": null,
      "metadata": {
        "id": "CMdqsQqErWxI",
        "outputId": "e2305f9b-a6a5-499d-9740-7a1524363fe4"
      },
      "outputs": [
        {
          "data": {
            "text/plain": [
              "0    0.898388\n",
              "1    0.101612\n",
              "Name: toxic, dtype: float64"
            ]
          },
          "execution_count": 4,
          "metadata": {},
          "output_type": "execute_result"
        }
      ],
      "source": [
        "df['toxic'].value_counts(normalize=True)"
      ]
    },
    {
      "cell_type": "markdown",
      "metadata": {
        "id": "hvYxFX9MrWxJ"
      },
      "source": [
        "### Предобработка данных"
      ]
    },
    {
      "cell_type": "markdown",
      "metadata": {
        "id": "P6ClOBc0rWxK"
      },
      "source": [
        "Функция для лемматизации, удаления цифр, символов и лишних пробелов"
      ]
    },
    {
      "cell_type": "code",
      "execution_count": null,
      "metadata": {
        "id": "3xx5nlJIrWxK"
      },
      "outputs": [],
      "source": [
        "def text_preprocessing(text):\n",
        "    tokenized = nltk.word_tokenize(text)\n",
        "    joined = ' '.join(tokenized)\n",
        "    text_only = re.sub(r'[^a-zA-Z]', ' ', joined)\n",
        "    desired_result = ' '.join(text_only.split())\n",
        "    return desired_result"
      ]
    },
    {
      "cell_type": "markdown",
      "metadata": {
        "id": "7ufIJistrWxL"
      },
      "source": [
        "Применение функции к исследуемому тексту"
      ]
    },
    {
      "cell_type": "code",
      "execution_count": null,
      "metadata": {
        "colab": {
          "referenced_widgets": [
            "1a416030d6324646bb1211a57dcb7883"
          ]
        },
        "id": "_i81Q5T3rWxL",
        "outputId": "fdfea327-ed88-452a-f456-a26a2708d600"
      },
      "outputs": [
        {
          "data": {
            "application/vnd.jupyter.widget-view+json": {
              "model_id": "1a416030d6324646bb1211a57dcb7883",
              "version_major": 2,
              "version_minor": 0
            },
            "text/plain": [
              "  0%|          | 0/159292 [00:00<?, ?it/s]"
            ]
          },
          "metadata": {},
          "output_type": "display_data"
        }
      ],
      "source": [
        "notebook.tqdm.pandas() \n",
        "df['text_clear'] = df['text'].progress_apply(text_preprocessing)"
      ]
    },
    {
      "cell_type": "markdown",
      "metadata": {
        "id": "Ug0ZMcxUrWxM"
      },
      "source": [
        "Деление датафрейма на две выборки: обучающую (75%) и тестовую (25%)"
      ]
    },
    {
      "cell_type": "code",
      "execution_count": null,
      "metadata": {
        "id": "48vv1PrprWxM",
        "outputId": "ef2beebb-5039-4753-e929-e33795a5fe70"
      },
      "outputs": [
        {
          "data": {
            "text/plain": [
              "((119469,), (39823,), (119469,), (39823,))"
            ]
          },
          "execution_count": 7,
          "metadata": {},
          "output_type": "execute_result"
        }
      ],
      "source": [
        "X_train_clear, X_test_clear = train_test_split(df['text_clear'], test_size=.25, random_state=12345)\n",
        "y_train, y_test = train_test_split(df['toxic'], test_size=.25, random_state=12345)\n",
        "\n",
        "X_train_clear.shape, X_test_clear.shape, y_train.shape, y_test.shape"
      ]
    },
    {
      "cell_type": "markdown",
      "metadata": {
        "id": "VvWjBPYGrWxN"
      },
      "source": [
        "Очистка текста от стоп-слов"
      ]
    },
    {
      "cell_type": "code",
      "execution_count": null,
      "metadata": {
        "id": "1_GWvsH3rWxN",
        "outputId": "2903dd7d-e4ff-4394-d2cf-3dce9a64f81a"
      },
      "outputs": [
        {
          "name": "stdout",
          "output_type": "stream",
          "text": [
            "CPU times: user 3 µs, sys: 0 ns, total: 3 µs\n",
            "Wall time: 5.72 µs\n"
          ]
        },
        {
          "data": {
            "text/plain": [
              "((119469, 142013), (39823, 142013))"
            ]
          },
          "execution_count": 8,
          "metadata": {},
          "output_type": "execute_result"
        }
      ],
      "source": [
        "%time\n",
        "stopwords = set(nltk_stopwords.words('english'))\n",
        "count_tf_idf = TfidfVectorizer(stop_words=stopwords)\n",
        "\n",
        "X_train = count_tf_idf.fit_transform(X_train_clear)\n",
        "X_test = count_tf_idf.transform(X_test_clear)\n",
        "X_train.shape, X_test.shape"
      ]
    },
    {
      "cell_type": "markdown",
      "metadata": {
        "id": "04X7QybOrWxN"
      },
      "source": [
        "### Вывод"
      ]
    },
    {
      "cell_type": "markdown",
      "metadata": {
        "id": "zhN1KZrErWxN"
      },
      "source": [
        "- данные импортированы с удалением лишнего индекса при чтении\n",
        "- удалены стоп-слова\n",
        "- явных дубликатов не обнаружено\n",
        "- в данных наблюдается большой дисбаланс классов\n",
        "- данные поделены на две выборки: обучающую и тестовую"
      ]
    },
    {
      "cell_type": "markdown",
      "metadata": {
        "id": "Xx3FC6zyrWxO"
      },
      "source": [
        "## Обучение"
      ]
    },
    {
      "cell_type": "markdown",
      "metadata": {
        "id": "ajPygoiKrWxO"
      },
      "source": [
        "Выделение констант для обучения моделей"
      ]
    },
    {
      "cell_type": "code",
      "execution_count": null,
      "metadata": {
        "id": "GV42zAWYrWxO"
      },
      "outputs": [],
      "source": [
        "N_SPLITS = 3\n",
        "RS = [12345]"
      ]
    },
    {
      "cell_type": "markdown",
      "metadata": {
        "id": "nNI7Fqb-rWxO"
      },
      "source": [
        "Создание вызываемого объекта для оценки"
      ]
    },
    {
      "cell_type": "code",
      "execution_count": null,
      "metadata": {
        "id": "zv4l2c9MrWxO"
      },
      "outputs": [],
      "source": [
        "score = make_scorer(f1_score)"
      ]
    },
    {
      "cell_type": "markdown",
      "metadata": {
        "id": "L_Lgkr63rWxP"
      },
      "source": [
        "### Модель *LogisticRegression*"
      ]
    },
    {
      "cell_type": "markdown",
      "metadata": {
        "id": "2z_GHkjPrWxP"
      },
      "source": [
        "Кросс-валидация  и обучение модели *Логистической регрессии*"
      ]
    },
    {
      "cell_type": "code",
      "execution_count": null,
      "metadata": {
        "scrolled": true,
        "id": "uyC9P8izrWxP",
        "outputId": "95db842c-72ac-469b-9060-4103dfca106c"
      },
      "outputs": [
        {
          "name": "stdout",
          "output_type": "stream",
          "text": [
            "Fitting 3 folds for each of 3 candidates, totalling 9 fits\n",
            "CPU times: user 2min 36s, sys: 3min 4s, total: 5min 40s\n",
            "Wall time: 5min 40s\n"
          ]
        },
        {
          "data": {
            "text/plain": [
              "RandomizedSearchCV(cv=3, estimator=LogisticRegression(), n_iter=3,\n",
              "                   param_distributions={'C': [0.5, 1.0, 1.5],\n",
              "                                        'class_weight': ['balanced'],\n",
              "                                        'max_iter': [100, 150, 200],\n",
              "                                        'random_state': [12345]},\n",
              "                   scoring=make_scorer(f1_score), verbose=True)"
            ]
          },
          "execution_count": 11,
          "metadata": {},
          "output_type": "execute_result"
        }
      ],
      "source": [
        "%%time\n",
        "\n",
        "params_lr = {\"class_weight\": ['balanced'], \n",
        "             \"random_state\": RS,\n",
        "             \"max_iter\": [100, 150, 200],\n",
        "             \"C\": [0.5, 1.0, 1.5]\n",
        "            }\n",
        "model_lr = LogisticRegression()\n",
        "model_lr_rs = RandomizedSearchCV(\n",
        "    model_lr, cv=N_SPLITS, scoring=score, \n",
        "    param_distributions=params_lr, n_iter=N_SPLITS, verbose=True\n",
        ")\n",
        "model_lr_rs.fit(X_train, y_train)"
      ]
    },
    {
      "cell_type": "markdown",
      "metadata": {
        "id": "_lsvLOg7rWxP"
      },
      "source": [
        "Вывод лучших параметров"
      ]
    },
    {
      "cell_type": "code",
      "execution_count": null,
      "metadata": {
        "id": "Wyjza8PArWxP",
        "outputId": "80127de2-7b24-4fdc-ce32-4a7505ac8da4"
      },
      "outputs": [
        {
          "data": {
            "text/plain": [
              "'Лучший результат f1-меры:'"
            ]
          },
          "metadata": {},
          "output_type": "display_data"
        },
        {
          "data": {
            "text/plain": [
              "0.7529015458098378"
            ]
          },
          "metadata": {},
          "output_type": "display_data"
        },
        {
          "data": {
            "text/plain": [
              "{'random_state': 12345, 'max_iter': 200, 'class_weight': 'balanced', 'C': 1.5}"
            ]
          },
          "execution_count": 12,
          "metadata": {},
          "output_type": "execute_result"
        }
      ],
      "source": [
        "display('Лучший результат f1-меры:', model_lr_rs.best_score_)\n",
        "model_lr_rs.best_params_"
      ]
    },
    {
      "cell_type": "markdown",
      "metadata": {
        "id": "wFAqWbYOrWxR"
      },
      "source": [
        "### Модель *RandomForestClassifier*"
      ]
    },
    {
      "cell_type": "markdown",
      "metadata": {
        "id": "rGUdR5WQrWxR"
      },
      "source": [
        "Обучение модели *Случайного Леса*"
      ]
    },
    {
      "cell_type": "code",
      "execution_count": null,
      "metadata": {
        "id": "9SssjQrarWxR",
        "outputId": "62dc0372-c022-40b6-aeed-39a2293987a7"
      },
      "outputs": [
        {
          "name": "stderr",
          "output_type": "stream",
          "text": [
            "/opt/conda/lib/python3.9/site-packages/sklearn/model_selection/_search.py:285: UserWarning: The total space of parameters 9 is smaller than n_iter=10. Running 9 iterations. For exhaustive searches, use GridSearchCV.\n",
            "  warnings.warn(\n"
          ]
        },
        {
          "name": "stdout",
          "output_type": "stream",
          "text": [
            "CPU times: user 6min 6s, sys: 0 ns, total: 6min 6s\n",
            "Wall time: 6min 6s\n"
          ]
        },
        {
          "data": {
            "text/plain": [
              "RandomizedSearchCV(cv=3, estimator=RandomForestClassifier(),\n",
              "                   param_distributions={'class_weight': ['balanced'],\n",
              "                                        'max_depth': [5, 10, 15],\n",
              "                                        'n_estimators': [30, 90, 150],\n",
              "                                        'random_state': [12345]},\n",
              "                   scoring=make_scorer(f1_score))"
            ]
          },
          "execution_count": 13,
          "metadata": {},
          "output_type": "execute_result"
        }
      ],
      "source": [
        "%%time\n",
        "\n",
        "params = {\"max_depth\": [5, 10, 15], \n",
        "          \"n_estimators\": [30, 90, 150], \n",
        "          \"random_state\": RS, \n",
        "          \"class_weight\": ['balanced']\n",
        "         }\n",
        "model_rfc = RandomForestClassifier()\n",
        "\n",
        "model_rfc_rs = RandomizedSearchCV(model_rfc, cv=N_SPLITS, scoring=score, param_distributions=params)\n",
        "model_rfc_rs.fit(X_train, y_train)"
      ]
    },
    {
      "cell_type": "markdown",
      "metadata": {
        "id": "_Ru5vgMkrWxR"
      },
      "source": [
        "Вывод лучших параметров"
      ]
    },
    {
      "cell_type": "code",
      "execution_count": null,
      "metadata": {
        "id": "05bM5W_JrWxR",
        "outputId": "b64e3b9e-3161-466a-c7b5-0f11db27c5e9"
      },
      "outputs": [
        {
          "data": {
            "text/plain": [
              "'Лучший результат f1-меры:'"
            ]
          },
          "metadata": {},
          "output_type": "display_data"
        },
        {
          "data": {
            "text/plain": [
              "0.41332566634279905"
            ]
          },
          "metadata": {},
          "output_type": "display_data"
        },
        {
          "data": {
            "text/plain": [
              "{'random_state': 12345,\n",
              " 'n_estimators': 90,\n",
              " 'max_depth': 15,\n",
              " 'class_weight': 'balanced'}"
            ]
          },
          "execution_count": 14,
          "metadata": {},
          "output_type": "execute_result"
        }
      ],
      "source": [
        "display('Лучший результат f1-меры:', model_rfc_rs.best_score_)\n",
        "model_rfc_rs.best_params_"
      ]
    },
    {
      "cell_type": "markdown",
      "metadata": {
        "id": "_twNGAtSrWxS"
      },
      "source": [
        "### Модель *CatBoostClassifier*"
      ]
    },
    {
      "cell_type": "markdown",
      "metadata": {
        "id": "MgGp5IKBrWxS"
      },
      "source": [
        "Обучение модели *CatBoost*"
      ]
    },
    {
      "cell_type": "code",
      "execution_count": null,
      "metadata": {
        "scrolled": true,
        "colab": {
          "referenced_widgets": [
            "198503aeec9740da90d7bd29f730e397"
          ]
        },
        "id": "4rP2PfVrrWxS",
        "outputId": "daee8041-0048-409a-dd4a-4165a583d9bb"
      },
      "outputs": [
        {
          "data": {
            "application/vnd.jupyter.widget-view+json": {
              "model_id": "198503aeec9740da90d7bd29f730e397",
              "version_major": 2,
              "version_minor": 0
            },
            "text/plain": [
              "MetricVisualizer(layout=Layout(align_self='stretch', height='500px'))"
            ]
          },
          "metadata": {},
          "output_type": "display_data"
        },
        {
          "name": "stdout",
          "output_type": "stream",
          "text": [
            "0:\tlearn: 0.4865936\ttest: 0.4841108\tbest: 0.4841108 (0)\ttotal: 561ms\tremaining: 5.05s\n",
            "1:\tlearn: 0.4865936\ttest: 0.4841108\tbest: 0.4841108 (0)\ttotal: 1.04s\tremaining: 4.15s\n",
            "2:\tlearn: 0.4865936\ttest: 0.4841108\tbest: 0.4841108 (0)\ttotal: 1.53s\tremaining: 3.56s\n",
            "3:\tlearn: 0.4865936\ttest: 0.4841108\tbest: 0.4841108 (0)\ttotal: 2.02s\tremaining: 3.03s\n",
            "4:\tlearn: 0.5451321\ttest: 0.5396663\tbest: 0.5396663 (4)\ttotal: 2.5s\tremaining: 2.5s\n",
            "5:\tlearn: 0.5451321\ttest: 0.5396663\tbest: 0.5396663 (4)\ttotal: 2.97s\tremaining: 1.98s\n",
            "6:\tlearn: 0.5451321\ttest: 0.5396663\tbest: 0.5396663 (4)\ttotal: 3.45s\tremaining: 1.48s\n",
            "7:\tlearn: 0.5451321\ttest: 0.5396663\tbest: 0.5396663 (4)\ttotal: 3.92s\tremaining: 981ms\n",
            "8:\tlearn: 0.5467378\ttest: 0.5415895\tbest: 0.5415895 (8)\ttotal: 4.41s\tremaining: 490ms\n",
            "9:\tlearn: 0.5467378\ttest: 0.5415895\tbest: 0.5415895 (8)\ttotal: 4.89s\tremaining: 0us\n",
            "\n",
            "bestTest = 0.5415895333\n",
            "bestIteration = 8\n",
            "\n",
            "0:\tloss: 0.5415895\tbest: 0.5415895 (0)\ttotal: 58.6s\tremaining: 7m 48s\n",
            "0:\tlearn: 0.4865936\ttest: 0.4841108\tbest: 0.4841108 (0)\ttotal: 517ms\tremaining: 51.2s\n",
            "1:\tlearn: 0.4865936\ttest: 0.4841108\tbest: 0.4841108 (0)\ttotal: 1000ms\tremaining: 49s\n",
            "2:\tlearn: 0.4865936\ttest: 0.4841108\tbest: 0.4841108 (0)\ttotal: 1.48s\tremaining: 47.8s\n",
            "3:\tlearn: 0.4865936\ttest: 0.4841108\tbest: 0.4841108 (0)\ttotal: 1.96s\tremaining: 47.1s\n",
            "4:\tlearn: 0.5451321\ttest: 0.5396663\tbest: 0.5396663 (4)\ttotal: 2.45s\tremaining: 46.6s\n",
            "5:\tlearn: 0.5451321\ttest: 0.5396663\tbest: 0.5396663 (4)\ttotal: 2.96s\tremaining: 46.5s\n",
            "6:\tlearn: 0.5451321\ttest: 0.5396663\tbest: 0.5396663 (4)\ttotal: 3.43s\tremaining: 45.6s\n",
            "7:\tlearn: 0.5451321\ttest: 0.5396663\tbest: 0.5396663 (4)\ttotal: 3.9s\tremaining: 44.9s\n",
            "8:\tlearn: 0.5467378\ttest: 0.5415895\tbest: 0.5415895 (8)\ttotal: 4.38s\tremaining: 44.3s\n",
            "9:\tlearn: 0.5467378\ttest: 0.5415895\tbest: 0.5415895 (8)\ttotal: 4.86s\tremaining: 43.7s\n",
            "10:\tlearn: 0.5467378\ttest: 0.5415895\tbest: 0.5415895 (8)\ttotal: 5.35s\tremaining: 43.3s\n",
            "11:\tlearn: 0.5460924\ttest: 0.5416248\tbest: 0.5416248 (11)\ttotal: 5.83s\tremaining: 42.7s\n",
            "12:\tlearn: 0.5784964\ttest: 0.5761239\tbest: 0.5761239 (12)\ttotal: 6.33s\tremaining: 42.3s\n",
            "13:\tlearn: 0.5785011\ttest: 0.5761239\tbest: 0.5761239 (12)\ttotal: 6.8s\tremaining: 41.8s\n",
            "14:\tlearn: 0.5785011\ttest: 0.5761239\tbest: 0.5761239 (12)\ttotal: 7.27s\tremaining: 41.2s\n",
            "15:\tlearn: 0.6056084\ttest: 0.6058821\tbest: 0.6058821 (15)\ttotal: 7.74s\tremaining: 40.6s\n",
            "16:\tlearn: 0.6086079\ttest: 0.6077665\tbest: 0.6077665 (16)\ttotal: 8.23s\tremaining: 40.2s\n",
            "17:\tlearn: 0.6086079\ttest: 0.6077665\tbest: 0.6077665 (16)\ttotal: 8.7s\tremaining: 39.6s\n",
            "18:\tlearn: 0.6057668\ttest: 0.6061765\tbest: 0.6077665 (16)\ttotal: 9.19s\tremaining: 39.2s\n",
            "19:\tlearn: 0.6057668\ttest: 0.6061765\tbest: 0.6077665 (16)\ttotal: 9.66s\tremaining: 38.6s\n",
            "20:\tlearn: 0.6057668\ttest: 0.6061765\tbest: 0.6077665 (16)\ttotal: 10.1s\tremaining: 38.2s\n",
            "21:\tlearn: 0.6076266\ttest: 0.6061189\tbest: 0.6077665 (16)\ttotal: 10.6s\tremaining: 37.6s\n",
            "22:\tlearn: 0.6076315\ttest: 0.6061189\tbest: 0.6077665 (16)\ttotal: 11.1s\tremaining: 37.2s\n",
            "23:\tlearn: 0.6083906\ttest: 0.6077665\tbest: 0.6077665 (16)\ttotal: 11.6s\tremaining: 36.7s\n",
            "24:\tlearn: 0.6072604\ttest: 0.6061189\tbest: 0.6077665 (16)\ttotal: 12.1s\tremaining: 36.2s\n",
            "25:\tlearn: 0.6072653\ttest: 0.6058245\tbest: 0.6077665 (16)\ttotal: 12.6s\tremaining: 35.8s\n",
            "26:\tlearn: 0.6072653\ttest: 0.6058245\tbest: 0.6077665 (16)\ttotal: 13.1s\tremaining: 35.4s\n",
            "27:\tlearn: 0.6072653\ttest: 0.6058245\tbest: 0.6077665 (16)\ttotal: 13.6s\tremaining: 34.9s\n",
            "28:\tlearn: 0.6071216\ttest: 0.6058245\tbest: 0.6077665 (16)\ttotal: 14.1s\tremaining: 34.4s\n",
            "29:\tlearn: 0.6073347\ttest: 0.6058245\tbest: 0.6077665 (16)\ttotal: 14.5s\tremaining: 33.9s\n",
            "30:\tlearn: 0.6071216\ttest: 0.6058245\tbest: 0.6077665 (16)\ttotal: 15s\tremaining: 33.5s\n",
            "31:\tlearn: 0.6278151\ttest: 0.6253516\tbest: 0.6253516 (31)\ttotal: 15.5s\tremaining: 33s\n",
            "32:\tlearn: 0.6276092\ttest: 0.6253516\tbest: 0.6253516 (31)\ttotal: 16s\tremaining: 32.5s\n",
            "33:\tlearn: 0.6271871\ttest: 0.6253516\tbest: 0.6253516 (31)\ttotal: 16.5s\tremaining: 32.1s\n",
            "34:\tlearn: 0.6272591\ttest: 0.6253516\tbest: 0.6253516 (31)\ttotal: 17.1s\tremaining: 31.7s\n",
            "35:\tlearn: 0.6271250\ttest: 0.6253516\tbest: 0.6253516 (31)\ttotal: 17.5s\tremaining: 31.2s\n",
            "36:\tlearn: 0.6270727\ttest: 0.6253909\tbest: 0.6253909 (36)\ttotal: 18.1s\tremaining: 30.8s\n",
            "37:\tlearn: 0.6286158\ttest: 0.6261888\tbest: 0.6261888 (37)\ttotal: 18.6s\tremaining: 30.3s\n",
            "38:\tlearn: 0.6288982\ttest: 0.6261888\tbest: 0.6261888 (37)\ttotal: 19.1s\tremaining: 29.9s\n",
            "39:\tlearn: 0.6302044\ttest: 0.6274964\tbest: 0.6274964 (39)\ttotal: 19.6s\tremaining: 29.4s\n",
            "40:\tlearn: 0.6299696\ttest: 0.6280657\tbest: 0.6280657 (40)\ttotal: 20.1s\tremaining: 28.9s\n",
            "41:\tlearn: 0.6299894\ttest: 0.6274964\tbest: 0.6280657 (40)\ttotal: 20.6s\tremaining: 28.4s\n",
            "42:\tlearn: 0.6305428\ttest: 0.6277811\tbest: 0.6280657 (40)\ttotal: 21.1s\tremaining: 27.9s\n",
            "43:\tlearn: 0.6305428\ttest: 0.6277811\tbest: 0.6280657 (40)\ttotal: 21.6s\tremaining: 27.4s\n",
            "44:\tlearn: 0.6304712\ttest: 0.6277811\tbest: 0.6280657 (40)\ttotal: 22s\tremaining: 26.9s\n",
            "45:\tlearn: 0.6303328\ttest: 0.6278007\tbest: 0.6280657 (40)\ttotal: 22.6s\tremaining: 26.5s\n",
            "46:\tlearn: 0.6305797\ttest: 0.6283304\tbest: 0.6283304 (46)\ttotal: 23.1s\tremaining: 26s\n",
            "47:\tlearn: 0.6304514\ttest: 0.6283304\tbest: 0.6283304 (46)\ttotal: 23.6s\tremaining: 25.5s\n",
            "48:\tlearn: 0.6306513\ttest: 0.6280263\tbest: 0.6283304 (46)\ttotal: 24s\tremaining: 25s\n",
            "49:\tlearn: 0.6311573\ttest: 0.6280263\tbest: 0.6283304 (46)\ttotal: 24.5s\tremaining: 24.5s\n",
            "50:\tlearn: 0.6310857\ttest: 0.6280263\tbest: 0.6283304 (46)\ttotal: 25s\tremaining: 24s\n",
            "51:\tlearn: 0.6310907\ttest: 0.6280263\tbest: 0.6283304 (46)\ttotal: 25.5s\tremaining: 23.5s\n",
            "52:\tlearn: 0.6309525\ttest: 0.6280460\tbest: 0.6283304 (46)\ttotal: 25.9s\tremaining: 23s\n",
            "53:\tlearn: 0.6473664\ttest: 0.6442519\tbest: 0.6442519 (53)\ttotal: 26.4s\tremaining: 22.5s\n",
            "54:\tlearn: 0.6606895\ttest: 0.6570855\tbest: 0.6570855 (54)\ttotal: 26.9s\tremaining: 22s\n",
            "55:\tlearn: 0.6604840\ttest: 0.6570855\tbest: 0.6570855 (54)\ttotal: 27.4s\tremaining: 21.5s\n",
            "56:\tlearn: 0.6607529\ttest: 0.6576306\tbest: 0.6576306 (56)\ttotal: 27.9s\tremaining: 21s\n",
            "57:\tlearn: 0.6612066\ttest: 0.6579029\tbest: 0.6579029 (57)\ttotal: 28.4s\tremaining: 20.5s\n",
            "58:\tlearn: 0.6622068\ttest: 0.6584271\tbest: 0.6584271 (58)\ttotal: 28.9s\tremaining: 20s\n",
            "59:\tlearn: 0.6619385\ttest: 0.6584271\tbest: 0.6584271 (58)\ttotal: 29.3s\tremaining: 19.6s\n",
            "60:\tlearn: 0.6619436\ttest: 0.6584271\tbest: 0.6584271 (58)\ttotal: 29.8s\tremaining: 19.1s\n",
            "61:\tlearn: 0.6622649\ttest: 0.6584069\tbest: 0.6584271 (58)\ttotal: 30.3s\tremaining: 18.6s\n",
            "62:\tlearn: 0.6623230\ttest: 0.6583866\tbest: 0.6584271 (58)\ttotal: 30.8s\tremaining: 18.1s\n",
            "63:\tlearn: 0.6621863\ttest: 0.6583866\tbest: 0.6584271 (58)\ttotal: 31.3s\tremaining: 17.6s\n",
            "64:\tlearn: 0.6621914\ttest: 0.6584069\tbest: 0.6584271 (58)\ttotal: 31.8s\tremaining: 17.1s\n",
            "65:\tlearn: 0.6720868\ttest: 0.6686104\tbest: 0.6686104 (65)\ttotal: 32.2s\tremaining: 16.6s\n",
            "66:\tlearn: 0.6719521\ttest: 0.6686104\tbest: 0.6686104 (65)\ttotal: 32.7s\tremaining: 16.1s\n",
            "67:\tlearn: 0.6718173\ttest: 0.6686104\tbest: 0.6686104 (65)\ttotal: 33.2s\tremaining: 15.6s\n",
            "68:\tlearn: 0.6717550\ttest: 0.6686104\tbest: 0.6686104 (65)\ttotal: 33.7s\tremaining: 15.1s\n",
            "69:\tlearn: 0.6721388\ttest: 0.6688171\tbest: 0.6688171 (69)\ttotal: 34.2s\tremaining: 14.7s\n",
            "70:\tlearn: 0.6720714\ttest: 0.6687967\tbest: 0.6688171 (69)\ttotal: 34.7s\tremaining: 14.2s\n",
            "71:\tlearn: 0.6728330\ttest: 0.6693326\tbest: 0.6693326 (71)\ttotal: 35.2s\tremaining: 13.7s\n",
            "72:\tlearn: 0.6742759\ttest: 0.6715751\tbest: 0.6715751 (72)\ttotal: 35.6s\tremaining: 13.2s\n",
            "73:\tlearn: 0.6742140\ttest: 0.6715751\tbest: 0.6715751 (72)\ttotal: 36.1s\tremaining: 12.7s\n",
            "74:\tlearn: 0.6742759\ttest: 0.6713081\tbest: 0.6715751 (72)\ttotal: 36.6s\tremaining: 12.2s\n",
            "75:\tlearn: 0.6740332\ttest: 0.6713491\tbest: 0.6715751 (72)\ttotal: 37.1s\tremaining: 11.7s\n",
            "76:\tlearn: 0.6739143\ttest: 0.6713491\tbest: 0.6715751 (72)\ttotal: 37.6s\tremaining: 11.2s\n",
            "77:\tlearn: 0.6739608\ttest: 0.6718830\tbest: 0.6718830 (77)\ttotal: 38.1s\tremaining: 10.7s\n",
            "78:\tlearn: 0.6835818\ttest: 0.6769139\tbest: 0.6769139 (78)\ttotal: 38.6s\tremaining: 10.3s\n",
            "79:\tlearn: 0.6929342\ttest: 0.6858499\tbest: 0.6858499 (79)\ttotal: 39.1s\tremaining: 9.77s\n",
            "80:\tlearn: 0.6926442\ttest: 0.6850654\tbest: 0.6858499 (79)\ttotal: 39.6s\tremaining: 9.29s\n",
            "81:\tlearn: 0.6927043\ttest: 0.6852648\tbest: 0.6858499 (79)\ttotal: 40.1s\tremaining: 8.8s\n",
            "82:\tlearn: 0.6926991\ttest: 0.6852648\tbest: 0.6858499 (79)\ttotal: 40.6s\tremaining: 8.31s\n",
            "83:\tlearn: 0.6925841\ttest: 0.6852648\tbest: 0.6858499 (79)\ttotal: 41.1s\tremaining: 7.82s\n",
            "84:\tlearn: 0.6936466\ttest: 0.6856425\tbest: 0.6858499 (79)\ttotal: 41.6s\tremaining: 7.34s\n",
            "85:\tlearn: 0.6938918\ttest: 0.6856633\tbest: 0.6858499 (79)\ttotal: 42.1s\tremaining: 6.85s\n",
            "86:\tlearn: 0.6944732\ttest: 0.6862065\tbest: 0.6862065 (86)\ttotal: 42.6s\tremaining: 6.36s\n",
            "87:\tlearn: 0.6944627\ttest: 0.6864261\tbest: 0.6864261 (87)\ttotal: 43.1s\tremaining: 5.88s\n",
            "88:\tlearn: 0.6944028\ttest: 0.6864261\tbest: 0.6864261 (87)\ttotal: 43.6s\tremaining: 5.39s\n",
            "89:\tlearn: 0.6994656\ttest: 0.6934284\tbest: 0.6934284 (89)\ttotal: 44.1s\tremaining: 4.9s\n",
            "90:\tlearn: 0.6999776\ttest: 0.6937286\tbest: 0.6937286 (90)\ttotal: 44.6s\tremaining: 4.41s\n",
            "91:\tlearn: 0.6999670\ttest: 0.6937077\tbest: 0.6937286 (90)\ttotal: 45.1s\tremaining: 3.92s\n",
            "92:\tlearn: 0.6999077\ttest: 0.6937286\tbest: 0.6937286 (90)\ttotal: 45.6s\tremaining: 3.43s\n",
            "93:\tlearn: 0.6999077\ttest: 0.6937286\tbest: 0.6937286 (90)\ttotal: 46.1s\tremaining: 2.94s\n",
            "94:\tlearn: 0.6998588\ttest: 0.6937286\tbest: 0.6937286 (90)\ttotal: 46.6s\tremaining: 2.45s\n",
            "95:\tlearn: 0.6997453\ttest: 0.6937495\tbest: 0.6937495 (95)\ttotal: 47s\tremaining: 1.96s\n",
            "96:\tlearn: 0.6997506\ttest: 0.6937495\tbest: 0.6937495 (95)\ttotal: 47.5s\tremaining: 1.47s\n",
            "97:\tlearn: 0.6999287\ttest: 0.6937495\tbest: 0.6937495 (95)\ttotal: 48s\tremaining: 981ms\n",
            "98:\tlearn: 0.6999010\ttest: 0.6938121\tbest: 0.6938121 (98)\ttotal: 48.5s\tremaining: 490ms\n",
            "99:\tlearn: 0.6999986\ttest: 0.6937912\tbest: 0.6938121 (98)\ttotal: 49s\tremaining: 0us\n",
            "\n",
            "bestTest = 0.6938120873\n",
            "bestIteration = 98\n",
            "\n",
            "1:\tloss: 0.6938121\tbest: 0.6938121 (1)\ttotal: 1m 47s\tremaining: 6m 17s\n",
            "0:\tlearn: 0.4865936\ttest: 0.4841108\tbest: 0.4841108 (0)\ttotal: 512ms\tremaining: 1m 16s\n",
            "1:\tlearn: 0.4865936\ttest: 0.4841108\tbest: 0.4841108 (0)\ttotal: 996ms\tremaining: 1m 13s\n",
            "2:\tlearn: 0.4865936\ttest: 0.4841108\tbest: 0.4841108 (0)\ttotal: 1.48s\tremaining: 1m 12s\n",
            "3:\tlearn: 0.4865936\ttest: 0.4841108\tbest: 0.4841108 (0)\ttotal: 1.97s\tremaining: 1m 11s\n",
            "4:\tlearn: 0.5451321\ttest: 0.5396663\tbest: 0.5396663 (4)\ttotal: 2.47s\tremaining: 1m 11s\n",
            "5:\tlearn: 0.5451321\ttest: 0.5396663\tbest: 0.5396663 (4)\ttotal: 2.96s\tremaining: 1m 11s\n",
            "6:\tlearn: 0.5451321\ttest: 0.5396663\tbest: 0.5396663 (4)\ttotal: 3.49s\tremaining: 1m 11s\n",
            "7:\tlearn: 0.5451321\ttest: 0.5396663\tbest: 0.5396663 (4)\ttotal: 4s\tremaining: 1m 10s\n",
            "8:\tlearn: 0.5467378\ttest: 0.5415895\tbest: 0.5415895 (8)\ttotal: 4.47s\tremaining: 1m 10s\n",
            "9:\tlearn: 0.5467378\ttest: 0.5415895\tbest: 0.5415895 (8)\ttotal: 4.95s\tremaining: 1m 9s\n",
            "10:\tlearn: 0.5467378\ttest: 0.5415895\tbest: 0.5415895 (8)\ttotal: 5.43s\tremaining: 1m 8s\n",
            "11:\tlearn: 0.5460924\ttest: 0.5416248\tbest: 0.5416248 (11)\ttotal: 5.93s\tremaining: 1m 8s\n",
            "12:\tlearn: 0.5784964\ttest: 0.5761239\tbest: 0.5761239 (12)\ttotal: 6.41s\tremaining: 1m 7s\n",
            "13:\tlearn: 0.5785011\ttest: 0.5761239\tbest: 0.5761239 (12)\ttotal: 6.91s\tremaining: 1m 7s\n",
            "14:\tlearn: 0.5785011\ttest: 0.5761239\tbest: 0.5761239 (12)\ttotal: 7.39s\tremaining: 1m 6s\n",
            "15:\tlearn: 0.6056084\ttest: 0.6058821\tbest: 0.6058821 (15)\ttotal: 7.87s\tremaining: 1m 5s\n",
            "16:\tlearn: 0.6086079\ttest: 0.6077665\tbest: 0.6077665 (16)\ttotal: 8.36s\tremaining: 1m 5s\n",
            "17:\tlearn: 0.6086079\ttest: 0.6077665\tbest: 0.6077665 (16)\ttotal: 8.83s\tremaining: 1m 4s\n",
            "18:\tlearn: 0.6057668\ttest: 0.6061765\tbest: 0.6077665 (16)\ttotal: 9.33s\tremaining: 1m 4s\n",
            "19:\tlearn: 0.6057668\ttest: 0.6061765\tbest: 0.6077665 (16)\ttotal: 9.81s\tremaining: 1m 3s\n",
            "20:\tlearn: 0.6057668\ttest: 0.6061765\tbest: 0.6077665 (16)\ttotal: 10.3s\tremaining: 1m 3s\n",
            "21:\tlearn: 0.6076266\ttest: 0.6061189\tbest: 0.6077665 (16)\ttotal: 10.9s\tremaining: 1m 3s\n",
            "22:\tlearn: 0.6076315\ttest: 0.6061189\tbest: 0.6077665 (16)\ttotal: 11.4s\tremaining: 1m 2s\n",
            "23:\tlearn: 0.6083906\ttest: 0.6077665\tbest: 0.6077665 (16)\ttotal: 11.8s\tremaining: 1m 2s\n",
            "24:\tlearn: 0.6072604\ttest: 0.6061189\tbest: 0.6077665 (16)\ttotal: 12.3s\tremaining: 1m 1s\n",
            "25:\tlearn: 0.6072653\ttest: 0.6058245\tbest: 0.6077665 (16)\ttotal: 12.8s\tremaining: 1m 1s\n",
            "26:\tlearn: 0.6072653\ttest: 0.6058245\tbest: 0.6077665 (16)\ttotal: 13.3s\tremaining: 1m\n",
            "27:\tlearn: 0.6072653\ttest: 0.6058245\tbest: 0.6077665 (16)\ttotal: 13.9s\tremaining: 1m\n",
            "28:\tlearn: 0.6071216\ttest: 0.6058245\tbest: 0.6077665 (16)\ttotal: 14.4s\tremaining: 59.9s\n",
            "29:\tlearn: 0.6073347\ttest: 0.6058245\tbest: 0.6077665 (16)\ttotal: 14.8s\tremaining: 59.4s\n",
            "30:\tlearn: 0.6071216\ttest: 0.6058245\tbest: 0.6077665 (16)\ttotal: 15.3s\tremaining: 58.9s\n",
            "31:\tlearn: 0.6278151\ttest: 0.6253516\tbest: 0.6253516 (31)\ttotal: 15.8s\tremaining: 58.4s\n",
            "32:\tlearn: 0.6276092\ttest: 0.6253516\tbest: 0.6253516 (31)\ttotal: 16.3s\tremaining: 57.8s\n",
            "33:\tlearn: 0.6271871\ttest: 0.6253516\tbest: 0.6253516 (31)\ttotal: 16.8s\tremaining: 57.3s\n",
            "34:\tlearn: 0.6272591\ttest: 0.6253516\tbest: 0.6253516 (31)\ttotal: 17.3s\tremaining: 56.8s\n",
            "35:\tlearn: 0.6271250\ttest: 0.6253516\tbest: 0.6253516 (31)\ttotal: 17.8s\tremaining: 56.3s\n",
            "36:\tlearn: 0.6270727\ttest: 0.6253909\tbest: 0.6253909 (36)\ttotal: 18.2s\tremaining: 55.7s\n",
            "37:\tlearn: 0.6286158\ttest: 0.6261888\tbest: 0.6261888 (37)\ttotal: 18.7s\tremaining: 55.2s\n",
            "38:\tlearn: 0.6288982\ttest: 0.6261888\tbest: 0.6261888 (37)\ttotal: 19.2s\tremaining: 54.7s\n",
            "39:\tlearn: 0.6302044\ttest: 0.6274964\tbest: 0.6274964 (39)\ttotal: 19.7s\tremaining: 54.2s\n",
            "40:\tlearn: 0.6299696\ttest: 0.6280657\tbest: 0.6280657 (40)\ttotal: 20.2s\tremaining: 53.7s\n",
            "41:\tlearn: 0.6299894\ttest: 0.6274964\tbest: 0.6280657 (40)\ttotal: 20.7s\tremaining: 53.2s\n",
            "42:\tlearn: 0.6305428\ttest: 0.6277811\tbest: 0.6280657 (40)\ttotal: 21.2s\tremaining: 52.7s\n",
            "43:\tlearn: 0.6305428\ttest: 0.6277811\tbest: 0.6280657 (40)\ttotal: 21.7s\tremaining: 52.2s\n",
            "44:\tlearn: 0.6304712\ttest: 0.6277811\tbest: 0.6280657 (40)\ttotal: 22.2s\tremaining: 51.7s\n",
            "45:\tlearn: 0.6303328\ttest: 0.6278007\tbest: 0.6280657 (40)\ttotal: 22.7s\tremaining: 51.2s\n",
            "46:\tlearn: 0.6305797\ttest: 0.6283304\tbest: 0.6283304 (46)\ttotal: 23.1s\tremaining: 50.7s\n",
            "47:\tlearn: 0.6304514\ttest: 0.6283304\tbest: 0.6283304 (46)\ttotal: 23.7s\tremaining: 50.3s\n",
            "48:\tlearn: 0.6306513\ttest: 0.6280263\tbest: 0.6283304 (46)\ttotal: 24.2s\tremaining: 49.8s\n",
            "49:\tlearn: 0.6311573\ttest: 0.6280263\tbest: 0.6283304 (46)\ttotal: 24.6s\tremaining: 49.3s\n",
            "50:\tlearn: 0.6310857\ttest: 0.6280263\tbest: 0.6283304 (46)\ttotal: 25.1s\tremaining: 48.8s\n",
            "51:\tlearn: 0.6310907\ttest: 0.6280263\tbest: 0.6283304 (46)\ttotal: 25.6s\tremaining: 48.3s\n",
            "52:\tlearn: 0.6309525\ttest: 0.6280460\tbest: 0.6283304 (46)\ttotal: 26.1s\tremaining: 47.8s\n",
            "53:\tlearn: 0.6473664\ttest: 0.6442519\tbest: 0.6442519 (53)\ttotal: 26.6s\tremaining: 47.3s\n",
            "54:\tlearn: 0.6606895\ttest: 0.6570855\tbest: 0.6570855 (54)\ttotal: 27.1s\tremaining: 46.8s\n",
            "55:\tlearn: 0.6604840\ttest: 0.6570855\tbest: 0.6570855 (54)\ttotal: 27.6s\tremaining: 46.4s\n",
            "56:\tlearn: 0.6607529\ttest: 0.6576306\tbest: 0.6576306 (56)\ttotal: 28.1s\tremaining: 45.9s\n",
            "57:\tlearn: 0.6612066\ttest: 0.6579029\tbest: 0.6579029 (57)\ttotal: 28.7s\tremaining: 45.5s\n",
            "58:\tlearn: 0.6622068\ttest: 0.6584271\tbest: 0.6584271 (58)\ttotal: 29.2s\tremaining: 45s\n",
            "59:\tlearn: 0.6619385\ttest: 0.6584271\tbest: 0.6584271 (58)\ttotal: 29.7s\tremaining: 44.5s\n",
            "60:\tlearn: 0.6619436\ttest: 0.6584271\tbest: 0.6584271 (58)\ttotal: 30.2s\tremaining: 44.1s\n",
            "61:\tlearn: 0.6622649\ttest: 0.6584069\tbest: 0.6584271 (58)\ttotal: 30.8s\tremaining: 43.6s\n",
            "62:\tlearn: 0.6623230\ttest: 0.6583866\tbest: 0.6584271 (58)\ttotal: 31.3s\tremaining: 43.2s\n",
            "63:\tlearn: 0.6621863\ttest: 0.6583866\tbest: 0.6584271 (58)\ttotal: 31.8s\tremaining: 42.7s\n",
            "64:\tlearn: 0.6621914\ttest: 0.6584069\tbest: 0.6584271 (58)\ttotal: 32.3s\tremaining: 42.2s\n",
            "65:\tlearn: 0.6720868\ttest: 0.6686104\tbest: 0.6686104 (65)\ttotal: 32.8s\tremaining: 41.7s\n",
            "66:\tlearn: 0.6719521\ttest: 0.6686104\tbest: 0.6686104 (65)\ttotal: 33.3s\tremaining: 41.2s\n",
            "67:\tlearn: 0.6718173\ttest: 0.6686104\tbest: 0.6686104 (65)\ttotal: 33.8s\tremaining: 40.8s\n",
            "68:\tlearn: 0.6717550\ttest: 0.6686104\tbest: 0.6686104 (65)\ttotal: 34.3s\tremaining: 40.3s\n",
            "69:\tlearn: 0.6721388\ttest: 0.6688171\tbest: 0.6688171 (69)\ttotal: 34.8s\tremaining: 39.8s\n",
            "70:\tlearn: 0.6720714\ttest: 0.6687967\tbest: 0.6688171 (69)\ttotal: 35.3s\tremaining: 39.3s\n",
            "71:\tlearn: 0.6728330\ttest: 0.6693326\tbest: 0.6693326 (71)\ttotal: 35.8s\tremaining: 38.8s\n",
            "72:\tlearn: 0.6742759\ttest: 0.6715751\tbest: 0.6715751 (72)\ttotal: 36.2s\tremaining: 38.2s\n",
            "73:\tlearn: 0.6742140\ttest: 0.6715751\tbest: 0.6715751 (72)\ttotal: 36.7s\tremaining: 37.7s\n",
            "74:\tlearn: 0.6742759\ttest: 0.6713081\tbest: 0.6715751 (72)\ttotal: 37.2s\tremaining: 37.2s\n",
            "75:\tlearn: 0.6740332\ttest: 0.6713491\tbest: 0.6715751 (72)\ttotal: 37.7s\tremaining: 36.7s\n",
            "76:\tlearn: 0.6739143\ttest: 0.6713491\tbest: 0.6715751 (72)\ttotal: 38.2s\tremaining: 36.2s\n",
            "77:\tlearn: 0.6739608\ttest: 0.6718830\tbest: 0.6718830 (77)\ttotal: 38.6s\tremaining: 35.7s\n",
            "78:\tlearn: 0.6835818\ttest: 0.6769139\tbest: 0.6769139 (78)\ttotal: 39.1s\tremaining: 35.2s\n",
            "79:\tlearn: 0.6929342\ttest: 0.6858499\tbest: 0.6858499 (79)\ttotal: 39.6s\tremaining: 34.6s\n",
            "80:\tlearn: 0.6926442\ttest: 0.6850654\tbest: 0.6858499 (79)\ttotal: 40.1s\tremaining: 34.1s\n",
            "81:\tlearn: 0.6927043\ttest: 0.6852648\tbest: 0.6858499 (79)\ttotal: 40.6s\tremaining: 33.7s\n",
            "82:\tlearn: 0.6926991\ttest: 0.6852648\tbest: 0.6858499 (79)\ttotal: 41.1s\tremaining: 33.2s\n",
            "83:\tlearn: 0.6925841\ttest: 0.6852648\tbest: 0.6858499 (79)\ttotal: 41.6s\tremaining: 32.7s\n",
            "84:\tlearn: 0.6936466\ttest: 0.6856425\tbest: 0.6858499 (79)\ttotal: 42.1s\tremaining: 32.2s\n",
            "85:\tlearn: 0.6938918\ttest: 0.6856633\tbest: 0.6858499 (79)\ttotal: 42.6s\tremaining: 31.7s\n",
            "86:\tlearn: 0.6944732\ttest: 0.6862065\tbest: 0.6862065 (86)\ttotal: 43.1s\tremaining: 31.2s\n",
            "87:\tlearn: 0.6944627\ttest: 0.6864261\tbest: 0.6864261 (87)\ttotal: 43.6s\tremaining: 30.7s\n",
            "88:\tlearn: 0.6944028\ttest: 0.6864261\tbest: 0.6864261 (87)\ttotal: 44.1s\tremaining: 30.2s\n",
            "89:\tlearn: 0.6994656\ttest: 0.6934284\tbest: 0.6934284 (89)\ttotal: 44.5s\tremaining: 29.7s\n",
            "90:\tlearn: 0.6999776\ttest: 0.6937286\tbest: 0.6937286 (90)\ttotal: 45s\tremaining: 29.2s\n",
            "91:\tlearn: 0.6999670\ttest: 0.6937077\tbest: 0.6937286 (90)\ttotal: 45.5s\tremaining: 28.7s\n",
            "92:\tlearn: 0.6999077\ttest: 0.6937286\tbest: 0.6937286 (90)\ttotal: 46s\tremaining: 28.2s\n",
            "93:\tlearn: 0.6999077\ttest: 0.6937286\tbest: 0.6937286 (90)\ttotal: 46.4s\tremaining: 27.7s\n",
            "94:\tlearn: 0.6998588\ttest: 0.6937286\tbest: 0.6937286 (90)\ttotal: 46.9s\tremaining: 27.2s\n",
            "95:\tlearn: 0.6997453\ttest: 0.6937495\tbest: 0.6937495 (95)\ttotal: 47.4s\tremaining: 26.7s\n",
            "96:\tlearn: 0.6997506\ttest: 0.6937495\tbest: 0.6937495 (95)\ttotal: 47.9s\tremaining: 26.2s\n",
            "97:\tlearn: 0.6999287\ttest: 0.6937495\tbest: 0.6937495 (95)\ttotal: 48.4s\tremaining: 25.7s\n",
            "98:\tlearn: 0.6999010\ttest: 0.6938121\tbest: 0.6938121 (98)\ttotal: 48.8s\tremaining: 25.2s\n",
            "99:\tlearn: 0.6999986\ttest: 0.6937912\tbest: 0.6938121 (98)\ttotal: 49.3s\tremaining: 24.7s\n",
            "100:\tlearn: 0.7066214\ttest: 0.6991764\tbest: 0.6991764 (100)\ttotal: 49.8s\tremaining: 24.2s\n",
            "101:\tlearn: 0.7066854\ttest: 0.6991764\tbest: 0.6991764 (100)\ttotal: 50.3s\tremaining: 23.7s\n",
            "102:\tlearn: 0.7066960\ttest: 0.6989199\tbest: 0.6991764 (100)\ttotal: 50.8s\tremaining: 23.2s\n",
            "103:\tlearn: 0.7066696\ttest: 0.6991764\tbest: 0.6991764 (100)\ttotal: 51.3s\tremaining: 22.7s\n",
            "104:\tlearn: 0.7066749\ttest: 0.6991764\tbest: 0.6991764 (100)\ttotal: 51.8s\tremaining: 22.2s\n",
            "105:\tlearn: 0.7070967\ttest: 0.6993281\tbest: 0.6993281 (105)\ttotal: 52.2s\tremaining: 21.7s\n",
            "106:\tlearn: 0.7072247\ttest: 0.6993281\tbest: 0.6993281 (105)\ttotal: 52.7s\tremaining: 21.2s\n",
            "107:\tlearn: 0.7070697\ttest: 0.6993700\tbest: 0.6993700 (107)\ttotal: 53.2s\tremaining: 20.7s\n",
            "108:\tlearn: 0.7137515\ttest: 0.7076154\tbest: 0.7076154 (108)\ttotal: 53.7s\tremaining: 20.2s\n",
            "109:\tlearn: 0.7136987\ttest: 0.7076154\tbest: 0.7076154 (108)\ttotal: 54.2s\tremaining: 19.7s\n",
            "110:\tlearn: 0.7135718\ttest: 0.7076365\tbest: 0.7076365 (110)\ttotal: 54.7s\tremaining: 19.2s\n",
            "111:\tlearn: 0.7135243\ttest: 0.7074040\tbest: 0.7076365 (110)\ttotal: 55.2s\tremaining: 18.7s\n",
            "112:\tlearn: 0.7143906\ttest: 0.7083756\tbest: 0.7083756 (112)\ttotal: 55.7s\tremaining: 18.2s\n",
            "113:\tlearn: 0.7146441\ttest: 0.7083967\tbest: 0.7083967 (113)\ttotal: 56.2s\tremaining: 17.7s\n",
            "114:\tlearn: 0.7145280\ttest: 0.7081645\tbest: 0.7083967 (113)\ttotal: 56.7s\tremaining: 17.2s\n",
            "115:\tlearn: 0.7144966\ttest: 0.7067903\tbest: 0.7083967 (113)\ttotal: 57.1s\tremaining: 16.7s\n",
            "116:\tlearn: 0.7143277\ttest: 0.7070652\tbest: 0.7083967 (113)\ttotal: 57.6s\tremaining: 16.2s\n",
            "117:\tlearn: 0.7238267\ttest: 0.7151167\tbest: 0.7151167 (117)\ttotal: 58.1s\tremaining: 15.7s\n",
            "118:\tlearn: 0.7237267\ttest: 0.7148657\tbest: 0.7151167 (117)\ttotal: 58.5s\tremaining: 15.3s\n",
            "119:\tlearn: 0.7236694\ttest: 0.7151167\tbest: 0.7151167 (117)\ttotal: 59s\tremaining: 14.8s\n",
            "120:\tlearn: 0.7237374\ttest: 0.7148445\tbest: 0.7151167 (117)\ttotal: 59.5s\tremaining: 14.3s\n",
            "121:\tlearn: 0.7237213\ttest: 0.7148445\tbest: 0.7151167 (117)\ttotal: 60s\tremaining: 13.8s\n",
            "122:\tlearn: 0.7236641\ttest: 0.7148233\tbest: 0.7151167 (117)\ttotal: 1m\tremaining: 13.3s\n",
            "123:\tlearn: 0.7238929\ttest: 0.7155122\tbest: 0.7155122 (123)\ttotal: 1m\tremaining: 12.8s\n",
            "124:\tlearn: 0.7304014\ttest: 0.7207967\tbest: 0.7207967 (124)\ttotal: 1m 1s\tremaining: 12.3s\n",
            "125:\tlearn: 0.7304767\ttest: 0.7212930\tbest: 0.7212930 (125)\ttotal: 1m 1s\tremaining: 11.8s\n",
            "126:\tlearn: 0.7307967\ttest: 0.7213143\tbest: 0.7213143 (126)\ttotal: 1m 2s\tremaining: 11.3s\n",
            "127:\tlearn: 0.7311889\ttest: 0.7229848\tbest: 0.7229848 (127)\ttotal: 1m 2s\tremaining: 10.8s\n",
            "128:\tlearn: 0.7312292\ttest: 0.7231469\tbest: 0.7231469 (128)\ttotal: 1m 3s\tremaining: 10.3s\n",
            "129:\tlearn: 0.7310143\ttest: 0.7229848\tbest: 0.7231469 (128)\ttotal: 1m 3s\tremaining: 9.82s\n",
            "130:\tlearn: 0.7311943\ttest: 0.7230061\tbest: 0.7231469 (128)\ttotal: 1m 4s\tremaining: 9.33s\n",
            "131:\tlearn: 0.7277409\ttest: 0.7181255\tbest: 0.7231469 (128)\ttotal: 1m 4s\tremaining: 8.84s\n",
            "132:\tlearn: 0.7279218\ttest: 0.7181043\tbest: 0.7231469 (128)\ttotal: 1m 5s\tremaining: 8.34s\n",
            "133:\tlearn: 0.7279057\ttest: 0.7178126\tbest: 0.7231469 (128)\ttotal: 1m 5s\tremaining: 7.85s\n",
            "134:\tlearn: 0.7279218\ttest: 0.7178339\tbest: 0.7231469 (128)\ttotal: 1m 6s\tremaining: 7.36s\n",
            "135:\tlearn: 0.7281755\ttest: 0.7180617\tbest: 0.7231469 (128)\ttotal: 1m 6s\tremaining: 6.86s\n",
            "136:\tlearn: 0.7281403\ttest: 0.7178976\tbest: 0.7231469 (128)\ttotal: 1m 7s\tremaining: 6.37s\n",
            "137:\tlearn: 0.7321933\ttest: 0.7241999\tbest: 0.7241999 (137)\ttotal: 1m 7s\tremaining: 5.88s\n",
            "138:\tlearn: 0.7320753\ttest: 0.7241999\tbest: 0.7241999 (137)\ttotal: 1m 8s\tremaining: 5.39s\n",
            "139:\tlearn: 0.7322521\ttest: 0.7248982\tbest: 0.7248982 (139)\ttotal: 1m 8s\tremaining: 4.9s\n",
            "140:\tlearn: 0.7321394\ttest: 0.7246513\tbest: 0.7248982 (139)\ttotal: 1m 9s\tremaining: 4.41s\n",
            "141:\tlearn: 0.7319356\ttest: 0.7246727\tbest: 0.7248982 (139)\ttotal: 1m 9s\tremaining: 3.92s\n",
            "142:\tlearn: 0.7324480\ttest: 0.7251664\tbest: 0.7251664 (142)\ttotal: 1m 10s\tremaining: 3.43s\n",
            "143:\tlearn: 0.7327696\ttest: 0.7253704\tbest: 0.7253704 (143)\ttotal: 1m 10s\tremaining: 2.94s\n",
            "144:\tlearn: 0.7327187\ttest: 0.7253491\tbest: 0.7253704 (143)\ttotal: 1m 10s\tremaining: 2.45s\n",
            "145:\tlearn: 0.7326840\ttest: 0.7246513\tbest: 0.7253704 (143)\ttotal: 1m 11s\tremaining: 1.96s\n",
            "146:\tlearn: 0.7327965\ttest: 0.7246513\tbest: 0.7253704 (143)\ttotal: 1m 11s\tremaining: 1.47s\n",
            "147:\tlearn: 0.7326493\ttest: 0.7243830\tbest: 0.7253704 (143)\ttotal: 1m 12s\tremaining: 978ms\n",
            "148:\tlearn: 0.7325313\ttest: 0.7244043\tbest: 0.7253704 (143)\ttotal: 1m 12s\tremaining: 489ms\n",
            "149:\tlearn: 0.7325313\ttest: 0.7241786\tbest: 0.7253704 (143)\ttotal: 1m 13s\tremaining: 0us\n",
            "\n",
            "bestTest = 0.7253704448\n",
            "bestIteration = 143\n",
            "\n",
            "2:\tloss: 0.7253704\tbest: 0.7253704 (2)\ttotal: 3m 1s\tremaining: 6m 2s\n",
            "0:\tlearn: 0.5466649\ttest: 0.5415895\tbest: 0.5415895 (0)\ttotal: 735ms\tremaining: 6.61s\n",
            "1:\tlearn: 0.5466649\ttest: 0.5415895\tbest: 0.5415895 (0)\ttotal: 1.38s\tremaining: 5.53s\n",
            "2:\tlearn: 0.5466649\ttest: 0.5415895\tbest: 0.5415895 (0)\ttotal: 2.04s\tremaining: 4.75s\n",
            "3:\tlearn: 0.5472369\ttest: 0.5415895\tbest: 0.5415895 (0)\ttotal: 2.69s\tremaining: 4.04s\n",
            "4:\tlearn: 0.5472369\ttest: 0.5415895\tbest: 0.5415895 (0)\ttotal: 3.35s\tremaining: 3.35s\n",
            "5:\tlearn: 0.5826053\ttest: 0.5781320\tbest: 0.5781320 (5)\ttotal: 4.04s\tremaining: 2.69s\n",
            "6:\tlearn: 0.6027744\ttest: 0.5969258\tbest: 0.5969258 (6)\ttotal: 4.73s\tremaining: 2.03s\n",
            "7:\tlearn: 0.6026294\ttest: 0.5969448\tbest: 0.5969448 (7)\ttotal: 5.42s\tremaining: 1.35s\n",
            "8:\tlearn: 0.6026342\ttest: 0.5969448\tbest: 0.5969448 (7)\ttotal: 6.1s\tremaining: 678ms\n",
            "9:\tlearn: 0.6055595\ttest: 0.5988619\tbest: 0.5988619 (9)\ttotal: 6.8s\tremaining: 0us\n",
            "\n",
            "bestTest = 0.5988619428\n",
            "bestIteration = 9\n",
            "\n",
            "3:\tloss: 0.5988619\tbest: 0.7253704 (2)\ttotal: 3m 8s\tremaining: 3m 55s\n",
            "0:\tlearn: 0.5466649\ttest: 0.5415895\tbest: 0.5415895 (0)\ttotal: 731ms\tremaining: 1m 12s\n",
            "1:\tlearn: 0.5466649\ttest: 0.5415895\tbest: 0.5415895 (0)\ttotal: 1.47s\tremaining: 1m 11s\n",
            "2:\tlearn: 0.5466649\ttest: 0.5415895\tbest: 0.5415895 (0)\ttotal: 2.23s\tremaining: 1m 11s\n",
            "3:\tlearn: 0.5472369\ttest: 0.5415895\tbest: 0.5415895 (0)\ttotal: 2.92s\tremaining: 1m 10s\n",
            "4:\tlearn: 0.5472369\ttest: 0.5415895\tbest: 0.5415895 (0)\ttotal: 3.65s\tremaining: 1m 9s\n",
            "5:\tlearn: 0.5826053\ttest: 0.5781320\tbest: 0.5781320 (5)\ttotal: 4.32s\tremaining: 1m 7s\n",
            "6:\tlearn: 0.6027744\ttest: 0.5969258\tbest: 0.5969258 (6)\ttotal: 5.01s\tremaining: 1m 6s\n",
            "7:\tlearn: 0.6026294\ttest: 0.5969448\tbest: 0.5969448 (7)\ttotal: 5.71s\tremaining: 1m 5s\n",
            "8:\tlearn: 0.6026342\ttest: 0.5969448\tbest: 0.5969448 (7)\ttotal: 6.41s\tremaining: 1m 4s\n",
            "9:\tlearn: 0.6055595\ttest: 0.5988619\tbest: 0.5988619 (9)\ttotal: 7.12s\tremaining: 1m 4s\n",
            "10:\tlearn: 0.6304193\ttest: 0.6272901\tbest: 0.6272901 (10)\ttotal: 7.81s\tremaining: 1m 3s\n",
            "11:\tlearn: 0.6293142\ttest: 0.6256570\tbest: 0.6272901 (10)\ttotal: 8.52s\tremaining: 1m 2s\n",
            "12:\tlearn: 0.6274081\ttest: 0.6240975\tbest: 0.6272901 (10)\ttotal: 9.26s\tremaining: 1m 2s\n",
            "13:\tlearn: 0.6272641\ttest: 0.6241171\tbest: 0.6272901 (10)\ttotal: 10s\tremaining: 1m 1s\n",
            "14:\tlearn: 0.6298287\ttest: 0.6270052\tbest: 0.6272901 (10)\ttotal: 10.7s\tremaining: 1m\n",
            "15:\tlearn: 0.6304586\ttest: 0.6275750\tbest: 0.6275750 (15)\ttotal: 11.4s\tremaining: 59.9s\n",
            "16:\tlearn: 0.6442204\ttest: 0.6413489\tbest: 0.6413489 (16)\ttotal: 12.2s\tremaining: 59.4s\n",
            "17:\tlearn: 0.6455371\ttest: 0.6409502\tbest: 0.6413489 (16)\ttotal: 12.9s\tremaining: 58.6s\n",
            "18:\tlearn: 0.6453521\ttest: 0.6412691\tbest: 0.6413489 (16)\ttotal: 13.6s\tremaining: 58s\n",
            "19:\tlearn: 0.6616099\ttest: 0.6576913\tbest: 0.6576913 (19)\ttotal: 14.3s\tremaining: 57.1s\n",
            "20:\tlearn: 0.6616783\ttest: 0.6571462\tbest: 0.6576913 (19)\ttotal: 15s\tremaining: 56.3s\n",
            "21:\tlearn: 0.6614782\ttest: 0.6571462\tbest: 0.6576913 (19)\ttotal: 15.6s\tremaining: 55.4s\n",
            "22:\tlearn: 0.6626542\ttest: 0.6586181\tbest: 0.6586181 (22)\ttotal: 16.3s\tremaining: 54.5s\n",
            "23:\tlearn: 0.6623230\ttest: 0.6580942\tbest: 0.6586181 (22)\ttotal: 17s\tremaining: 53.7s\n",
            "24:\tlearn: 0.6621302\ttest: 0.6586384\tbest: 0.6586384 (24)\ttotal: 17.6s\tremaining: 52.9s\n",
            "25:\tlearn: 0.6620772\ttest: 0.6583663\tbest: 0.6586384 (24)\ttotal: 18.3s\tremaining: 52.1s\n",
            "26:\tlearn: 0.6618191\ttest: 0.6581144\tbest: 0.6586384 (24)\ttotal: 19s\tremaining: 51.3s\n",
            "27:\tlearn: 0.6619303\ttest: 0.6578422\tbest: 0.6586384 (24)\ttotal: 19.7s\tremaining: 50.6s\n",
            "28:\tlearn: 0.6616518\ttest: 0.6578422\tbest: 0.6586384 (24)\ttotal: 20.4s\tremaining: 49.8s\n",
            "29:\tlearn: 0.6616773\ttest: 0.6578624\tbest: 0.6586384 (24)\ttotal: 21s\tremaining: 49.1s\n",
            "30:\tlearn: 0.6722874\ttest: 0.6684921\tbest: 0.6684921 (30)\ttotal: 21.7s\tremaining: 48.3s\n",
            "31:\tlearn: 0.6737343\ttest: 0.6705290\tbest: 0.6705290 (31)\ttotal: 22.4s\tremaining: 47.5s\n",
            "32:\tlearn: 0.6724685\ttest: 0.6682242\tbest: 0.6705290 (31)\ttotal: 23.1s\tremaining: 46.8s\n",
            "33:\tlearn: 0.6721375\ttest: 0.6682242\tbest: 0.6705290 (31)\ttotal: 23.8s\tremaining: 46.1s\n",
            "34:\tlearn: 0.6725357\ttest: 0.6684512\tbest: 0.6705290 (31)\ttotal: 24.4s\tremaining: 45.3s\n",
            "35:\tlearn: 0.6750745\ttest: 0.6715141\tbest: 0.6715141 (35)\ttotal: 25.1s\tremaining: 44.6s\n",
            "36:\tlearn: 0.6823980\ttest: 0.6795655\tbest: 0.6795655 (36)\ttotal: 25.7s\tremaining: 43.8s\n",
            "37:\tlearn: 0.6907679\ttest: 0.6884701\tbest: 0.6884701 (37)\ttotal: 26.4s\tremaining: 43.1s\n",
            "38:\tlearn: 0.6925311\ttest: 0.6894898\tbest: 0.6894898 (38)\ttotal: 27.1s\tremaining: 42.3s\n",
            "39:\tlearn: 0.6920842\ttest: 0.6895314\tbest: 0.6895314 (39)\ttotal: 27.7s\tremaining: 41.6s\n",
            "40:\tlearn: 0.6928081\ttest: 0.6899262\tbest: 0.6899262 (40)\ttotal: 28.3s\tremaining: 40.8s\n",
            "41:\tlearn: 0.6926827\ttest: 0.6899679\tbest: 0.6899679 (41)\ttotal: 29s\tremaining: 40s\n",
            "42:\tlearn: 0.6928028\ttest: 0.6899470\tbest: 0.6899679 (41)\ttotal: 29.6s\tremaining: 39.3s\n",
            "43:\tlearn: 0.7017763\ttest: 0.6943078\tbest: 0.6943078 (43)\ttotal: 30.3s\tremaining: 38.5s\n",
            "44:\tlearn: 0.7017658\ttest: 0.6943287\tbest: 0.6943287 (44)\ttotal: 30.9s\tremaining: 37.8s\n",
            "45:\tlearn: 0.7015828\ttest: 0.6940495\tbest: 0.6943287 (44)\ttotal: 31.6s\tremaining: 37.1s\n",
            "46:\tlearn: 0.7014367\ttest: 0.6936163\tbest: 0.6943287 (44)\ttotal: 32.2s\tremaining: 36.3s\n",
            "47:\tlearn: 0.7011943\ttest: 0.6936371\tbest: 0.6943287 (44)\ttotal: 32.9s\tremaining: 35.6s\n",
            "48:\tlearn: 0.7005681\ttest: 0.6916289\tbest: 0.6943287 (44)\ttotal: 33.6s\tremaining: 34.9s\n",
            "49:\tlearn: 0.7106309\ttest: 0.7004201\tbest: 0.7004201 (49)\ttotal: 34.2s\tremaining: 34.2s\n",
            "50:\tlearn: 0.7106521\ttest: 0.7012085\tbest: 0.7012085 (50)\ttotal: 34.9s\tremaining: 33.5s\n",
            "51:\tlearn: 0.7105937\ttest: 0.7012085\tbest: 0.7012085 (50)\ttotal: 35.5s\tremaining: 32.8s\n",
            "52:\tlearn: 0.7115487\ttest: 0.7031880\tbest: 0.7031880 (52)\ttotal: 36.1s\tremaining: 32s\n",
            "53:\tlearn: 0.7120627\ttest: 0.7031249\tbest: 0.7031880 (52)\ttotal: 36.8s\tremaining: 31.3s\n",
            "54:\tlearn: 0.7118613\ttest: 0.7036136\tbest: 0.7036136 (54)\ttotal: 37.4s\tremaining: 30.6s\n",
            "55:\tlearn: 0.7118083\ttest: 0.7033588\tbest: 0.7036136 (54)\ttotal: 38.1s\tremaining: 29.9s\n",
            "56:\tlearn: 0.7130895\ttest: 0.7045057\tbest: 0.7045057 (56)\ttotal: 38.7s\tremaining: 29.2s\n",
            "57:\tlearn: 0.7145513\ttest: 0.7061370\tbest: 0.7061370 (57)\ttotal: 39.4s\tremaining: 28.5s\n",
            "58:\tlearn: 0.7144247\ttest: 0.7055871\tbest: 0.7061370 (57)\ttotal: 40s\tremaining: 27.8s\n",
            "59:\tlearn: 0.7196847\ttest: 0.7129348\tbest: 0.7129348 (59)\ttotal: 40.7s\tremaining: 27.1s\n",
            "60:\tlearn: 0.7199509\ttest: 0.7136463\tbest: 0.7136463 (60)\ttotal: 41.4s\tremaining: 26.4s\n",
            "61:\tlearn: 0.7235375\ttest: 0.7167934\tbest: 0.7167934 (61)\ttotal: 42s\tremaining: 25.8s\n",
            "62:\tlearn: 0.7231514\ttest: 0.7162979\tbest: 0.7167934 (61)\ttotal: 42.7s\tremaining: 25.1s\n",
            "63:\tlearn: 0.7239429\ttest: 0.7167934\tbest: 0.7167934 (61)\ttotal: 43.5s\tremaining: 24.4s\n",
            "64:\tlearn: 0.7230209\ttest: 0.7170057\tbest: 0.7170057 (64)\ttotal: 44.1s\tremaining: 23.8s\n",
            "65:\tlearn: 0.7231300\ttest: 0.7167133\tbest: 0.7170057 (64)\ttotal: 44.8s\tremaining: 23.1s\n",
            "66:\tlearn: 0.7266476\ttest: 0.7181558\tbest: 0.7181558 (66)\ttotal: 45.5s\tremaining: 22.4s\n",
            "67:\tlearn: 0.7264858\ttest: 0.7181558\tbest: 0.7181558 (66)\ttotal: 46.1s\tremaining: 21.7s\n",
            "68:\tlearn: 0.7267211\ttest: 0.7190441\tbest: 0.7190441 (68)\ttotal: 46.8s\tremaining: 21s\n",
            "69:\tlearn: 0.7270506\ttest: 0.7195410\tbest: 0.7195410 (69)\ttotal: 47.4s\tremaining: 20.3s\n",
            "70:\tlearn: 0.7269993\ttest: 0.7200588\tbest: 0.7200588 (70)\ttotal: 48.1s\tremaining: 19.6s\n",
            "71:\tlearn: 0.7330916\ttest: 0.7242670\tbest: 0.7242670 (71)\ttotal: 48.8s\tremaining: 19s\n",
            "72:\tlearn: 0.7333380\ttest: 0.7242670\tbest: 0.7242670 (71)\ttotal: 49.5s\tremaining: 18.3s\n",
            "73:\tlearn: 0.7333218\ttest: 0.7237518\tbest: 0.7242670 (71)\ttotal: 50.2s\tremaining: 17.7s\n",
            "74:\tlearn: 0.7334050\ttest: 0.7237304\tbest: 0.7242670 (71)\ttotal: 50.9s\tremaining: 17s\n",
            "75:\tlearn: 0.7334558\ttest: 0.7237304\tbest: 0.7242670 (71)\ttotal: 51.6s\tremaining: 16.3s\n",
            "76:\tlearn: 0.7365522\ttest: 0.7265610\tbest: 0.7265610 (76)\ttotal: 52.3s\tremaining: 15.6s\n",
            "77:\tlearn: 0.7365468\ttest: 0.7268285\tbest: 0.7268285 (77)\ttotal: 53s\tremaining: 14.9s\n",
            "78:\tlearn: 0.7375778\ttest: 0.7276836\tbest: 0.7276836 (78)\ttotal: 53.7s\tremaining: 14.3s\n",
            "79:\tlearn: 0.7462718\ttest: 0.7327703\tbest: 0.7327703 (79)\ttotal: 54.4s\tremaining: 13.6s\n",
            "80:\tlearn: 0.7464749\ttest: 0.7330129\tbest: 0.7330129 (80)\ttotal: 55s\tremaining: 12.9s\n",
            "81:\tlearn: 0.7463887\ttest: 0.7325769\tbest: 0.7330129 (80)\ttotal: 55.7s\tremaining: 12.2s\n",
            "82:\tlearn: 0.7492924\ttest: 0.7348227\tbest: 0.7348227 (82)\ttotal: 56.3s\tremaining: 11.5s\n",
            "83:\tlearn: 0.7458432\ttest: 0.7310266\tbest: 0.7348227 (82)\ttotal: 57s\tremaining: 10.9s\n",
            "84:\tlearn: 0.7458596\ttest: 0.7315129\tbest: 0.7348227 (82)\ttotal: 57.7s\tremaining: 10.2s\n",
            "85:\tlearn: 0.7459525\ttest: 0.7312913\tbest: 0.7348227 (82)\ttotal: 58.4s\tremaining: 9.5s\n",
            "86:\tlearn: 0.7527530\ttest: 0.7373301\tbest: 0.7373301 (86)\ttotal: 59s\tremaining: 8.82s\n",
            "87:\tlearn: 0.7527421\ttest: 0.7375282\tbest: 0.7375282 (87)\ttotal: 59.7s\tremaining: 8.14s\n",
            "88:\tlearn: 0.7526388\ttest: 0.7375282\tbest: 0.7375282 (87)\ttotal: 1m\tremaining: 7.46s\n",
            "89:\tlearn: 0.7501220\ttest: 0.7364292\tbest: 0.7375282 (87)\ttotal: 1m 1s\tremaining: 6.78s\n",
            "90:\tlearn: 0.7505802\ttest: 0.7366061\tbest: 0.7375282 (87)\ttotal: 1m 1s\tremaining: 6.1s\n",
            "91:\tlearn: 0.7504275\ttest: 0.7365845\tbest: 0.7375282 (87)\ttotal: 1m 2s\tremaining: 5.42s\n",
            "92:\tlearn: 0.7505254\ttest: 0.7375324\tbest: 0.7375324 (92)\ttotal: 1m 3s\tremaining: 4.74s\n",
            "93:\tlearn: 0.7504165\ttest: 0.7373774\tbest: 0.7375324 (92)\ttotal: 1m 3s\tremaining: 4.07s\n",
            "94:\tlearn: 0.7509395\ttest: 0.7379027\tbest: 0.7379027 (94)\ttotal: 1m 4s\tremaining: 3.39s\n",
            "95:\tlearn: 0.7510863\ttest: 0.7380575\tbest: 0.7380575 (95)\ttotal: 1m 5s\tremaining: 2.71s\n",
            "96:\tlearn: 0.7512551\ttest: 0.7380359\tbest: 0.7380575 (95)\ttotal: 1m 5s\tremaining: 2.04s\n",
            "97:\tlearn: 0.7514077\ttest: 0.7385392\tbest: 0.7385392 (97)\ttotal: 1m 6s\tremaining: 1.36s\n",
            "98:\tlearn: 0.7551456\ttest: 0.7422515\tbest: 0.7422515 (98)\ttotal: 1m 7s\tremaining: 679ms\n",
            "99:\tlearn: 0.7575376\ttest: 0.7439067\tbest: 0.7439067 (99)\ttotal: 1m 7s\tremaining: 0us\n",
            "\n",
            "bestTest = 0.7439066762\n",
            "bestIteration = 99\n",
            "\n",
            "4:\tloss: 0.7439067\tbest: 0.7439067 (4)\ttotal: 4m 16s\tremaining: 3m 24s\n",
            "0:\tlearn: 0.5466649\ttest: 0.5415895\tbest: 0.5415895 (0)\ttotal: 755ms\tremaining: 1m 52s\n",
            "1:\tlearn: 0.5466649\ttest: 0.5415895\tbest: 0.5415895 (0)\ttotal: 1.43s\tremaining: 1m 46s\n",
            "2:\tlearn: 0.5466649\ttest: 0.5415895\tbest: 0.5415895 (0)\ttotal: 2.11s\tremaining: 1m 43s\n",
            "3:\tlearn: 0.5472369\ttest: 0.5415895\tbest: 0.5415895 (0)\ttotal: 2.78s\tremaining: 1m 41s\n",
            "4:\tlearn: 0.5472369\ttest: 0.5415895\tbest: 0.5415895 (0)\ttotal: 3.44s\tremaining: 1m 39s\n",
            "5:\tlearn: 0.5826053\ttest: 0.5781320\tbest: 0.5781320 (5)\ttotal: 4.12s\tremaining: 1m 38s\n",
            "6:\tlearn: 0.6027744\ttest: 0.5969258\tbest: 0.5969258 (6)\ttotal: 4.83s\tremaining: 1m 38s\n",
            "7:\tlearn: 0.6026294\ttest: 0.5969448\tbest: 0.5969448 (7)\ttotal: 5.55s\tremaining: 1m 38s\n",
            "8:\tlearn: 0.6026342\ttest: 0.5969448\tbest: 0.5969448 (7)\ttotal: 6.27s\tremaining: 1m 38s\n",
            "9:\tlearn: 0.6055595\ttest: 0.5988619\tbest: 0.5988619 (9)\ttotal: 6.95s\tremaining: 1m 37s\n",
            "10:\tlearn: 0.6304193\ttest: 0.6272901\tbest: 0.6272901 (10)\ttotal: 7.63s\tremaining: 1m 36s\n",
            "11:\tlearn: 0.6293142\ttest: 0.6256570\tbest: 0.6272901 (10)\ttotal: 8.33s\tremaining: 1m 35s\n",
            "12:\tlearn: 0.6274081\ttest: 0.6240975\tbest: 0.6272901 (10)\ttotal: 9.03s\tremaining: 1m 35s\n",
            "13:\tlearn: 0.6272641\ttest: 0.6241171\tbest: 0.6272901 (10)\ttotal: 9.71s\tremaining: 1m 34s\n",
            "14:\tlearn: 0.6298287\ttest: 0.6270052\tbest: 0.6272901 (10)\ttotal: 10.4s\tremaining: 1m 33s\n",
            "15:\tlearn: 0.6304586\ttest: 0.6275750\tbest: 0.6275750 (15)\ttotal: 11.1s\tremaining: 1m 32s\n",
            "16:\tlearn: 0.6442204\ttest: 0.6413489\tbest: 0.6413489 (16)\ttotal: 11.8s\tremaining: 1m 32s\n",
            "17:\tlearn: 0.6455371\ttest: 0.6409502\tbest: 0.6413489 (16)\ttotal: 12.4s\tremaining: 1m 31s\n",
            "18:\tlearn: 0.6453521\ttest: 0.6412691\tbest: 0.6413489 (16)\ttotal: 13.1s\tremaining: 1m 30s\n",
            "19:\tlearn: 0.6616099\ttest: 0.6576913\tbest: 0.6576913 (19)\ttotal: 13.8s\tremaining: 1m 29s\n",
            "20:\tlearn: 0.6616783\ttest: 0.6571462\tbest: 0.6576913 (19)\ttotal: 14.5s\tremaining: 1m 29s\n",
            "21:\tlearn: 0.6614782\ttest: 0.6571462\tbest: 0.6576913 (19)\ttotal: 15.2s\tremaining: 1m 28s\n",
            "22:\tlearn: 0.6626542\ttest: 0.6586181\tbest: 0.6586181 (22)\ttotal: 16s\tremaining: 1m 28s\n",
            "23:\tlearn: 0.6623230\ttest: 0.6580942\tbest: 0.6586181 (22)\ttotal: 16.6s\tremaining: 1m 27s\n",
            "24:\tlearn: 0.6621302\ttest: 0.6586384\tbest: 0.6586384 (24)\ttotal: 17.3s\tremaining: 1m 26s\n",
            "25:\tlearn: 0.6620772\ttest: 0.6583663\tbest: 0.6586384 (24)\ttotal: 18s\tremaining: 1m 25s\n",
            "26:\tlearn: 0.6618191\ttest: 0.6581144\tbest: 0.6586384 (24)\ttotal: 18.7s\tremaining: 1m 25s\n",
            "27:\tlearn: 0.6619303\ttest: 0.6578422\tbest: 0.6586384 (24)\ttotal: 19.4s\tremaining: 1m 24s\n",
            "28:\tlearn: 0.6616518\ttest: 0.6578422\tbest: 0.6586384 (24)\ttotal: 20.1s\tremaining: 1m 23s\n",
            "29:\tlearn: 0.6616773\ttest: 0.6578624\tbest: 0.6586384 (24)\ttotal: 20.7s\tremaining: 1m 22s\n",
            "30:\tlearn: 0.6722874\ttest: 0.6684921\tbest: 0.6684921 (30)\ttotal: 21.4s\tremaining: 1m 22s\n",
            "31:\tlearn: 0.6737343\ttest: 0.6705290\tbest: 0.6705290 (31)\ttotal: 22s\tremaining: 1m 21s\n",
            "32:\tlearn: 0.6724685\ttest: 0.6682242\tbest: 0.6705290 (31)\ttotal: 22.7s\tremaining: 1m 20s\n",
            "33:\tlearn: 0.6721375\ttest: 0.6682242\tbest: 0.6705290 (31)\ttotal: 23.4s\tremaining: 1m 19s\n",
            "34:\tlearn: 0.6725357\ttest: 0.6684512\tbest: 0.6705290 (31)\ttotal: 24.1s\tremaining: 1m 19s\n",
            "35:\tlearn: 0.6750745\ttest: 0.6715141\tbest: 0.6715141 (35)\ttotal: 24.7s\tremaining: 1m 18s\n",
            "36:\tlearn: 0.6823980\ttest: 0.6795655\tbest: 0.6795655 (36)\ttotal: 25.4s\tremaining: 1m 17s\n",
            "37:\tlearn: 0.6907679\ttest: 0.6884701\tbest: 0.6884701 (37)\ttotal: 26.1s\tremaining: 1m 16s\n",
            "38:\tlearn: 0.6925311\ttest: 0.6894898\tbest: 0.6894898 (38)\ttotal: 26.8s\tremaining: 1m 16s\n",
            "39:\tlearn: 0.6920842\ttest: 0.6895314\tbest: 0.6895314 (39)\ttotal: 27.4s\tremaining: 1m 15s\n",
            "40:\tlearn: 0.6928081\ttest: 0.6899262\tbest: 0.6899262 (40)\ttotal: 28.1s\tremaining: 1m 14s\n",
            "41:\tlearn: 0.6926827\ttest: 0.6899679\tbest: 0.6899679 (41)\ttotal: 28.8s\tremaining: 1m 13s\n",
            "42:\tlearn: 0.6928028\ttest: 0.6899470\tbest: 0.6899679 (41)\ttotal: 29.5s\tremaining: 1m 13s\n",
            "43:\tlearn: 0.7017763\ttest: 0.6943078\tbest: 0.6943078 (43)\ttotal: 30.1s\tremaining: 1m 12s\n",
            "44:\tlearn: 0.7017658\ttest: 0.6943287\tbest: 0.6943287 (44)\ttotal: 30.8s\tremaining: 1m 11s\n",
            "45:\tlearn: 0.7015828\ttest: 0.6940495\tbest: 0.6943287 (44)\ttotal: 31.5s\tremaining: 1m 11s\n",
            "46:\tlearn: 0.7014367\ttest: 0.6936163\tbest: 0.6943287 (44)\ttotal: 32.1s\tremaining: 1m 10s\n",
            "47:\tlearn: 0.7011943\ttest: 0.6936371\tbest: 0.6943287 (44)\ttotal: 32.8s\tremaining: 1m 9s\n",
            "48:\tlearn: 0.7005681\ttest: 0.6916289\tbest: 0.6943287 (44)\ttotal: 33.5s\tremaining: 1m 8s\n",
            "49:\tlearn: 0.7106309\ttest: 0.7004201\tbest: 0.7004201 (49)\ttotal: 34.1s\tremaining: 1m 8s\n",
            "50:\tlearn: 0.7106521\ttest: 0.7012085\tbest: 0.7012085 (50)\ttotal: 34.8s\tremaining: 1m 7s\n",
            "51:\tlearn: 0.7105937\ttest: 0.7012085\tbest: 0.7012085 (50)\ttotal: 35.5s\tremaining: 1m 6s\n",
            "52:\tlearn: 0.7115487\ttest: 0.7031880\tbest: 0.7031880 (52)\ttotal: 36.2s\tremaining: 1m 6s\n",
            "53:\tlearn: 0.7120627\ttest: 0.7031249\tbest: 0.7031880 (52)\ttotal: 36.9s\tremaining: 1m 5s\n",
            "54:\tlearn: 0.7118613\ttest: 0.7036136\tbest: 0.7036136 (54)\ttotal: 37.6s\tremaining: 1m 4s\n",
            "55:\tlearn: 0.7118083\ttest: 0.7033588\tbest: 0.7036136 (54)\ttotal: 38.3s\tremaining: 1m 4s\n",
            "56:\tlearn: 0.7130895\ttest: 0.7045057\tbest: 0.7045057 (56)\ttotal: 39s\tremaining: 1m 3s\n",
            "57:\tlearn: 0.7145513\ttest: 0.7061370\tbest: 0.7061370 (57)\ttotal: 39.7s\tremaining: 1m 2s\n",
            "58:\tlearn: 0.7144247\ttest: 0.7055871\tbest: 0.7061370 (57)\ttotal: 40.4s\tremaining: 1m 2s\n",
            "59:\tlearn: 0.7196847\ttest: 0.7129348\tbest: 0.7129348 (59)\ttotal: 41.1s\tremaining: 1m 1s\n",
            "60:\tlearn: 0.7199509\ttest: 0.7136463\tbest: 0.7136463 (60)\ttotal: 41.8s\tremaining: 1m\n",
            "61:\tlearn: 0.7235375\ttest: 0.7167934\tbest: 0.7167934 (61)\ttotal: 42.5s\tremaining: 1m\n",
            "62:\tlearn: 0.7231514\ttest: 0.7162979\tbest: 0.7167934 (61)\ttotal: 43.2s\tremaining: 59.7s\n",
            "63:\tlearn: 0.7239429\ttest: 0.7167934\tbest: 0.7167934 (61)\ttotal: 43.9s\tremaining: 59s\n",
            "64:\tlearn: 0.7230209\ttest: 0.7170057\tbest: 0.7170057 (64)\ttotal: 44.6s\tremaining: 58.3s\n",
            "65:\tlearn: 0.7231300\ttest: 0.7167133\tbest: 0.7170057 (64)\ttotal: 45.3s\tremaining: 57.6s\n",
            "66:\tlearn: 0.7266476\ttest: 0.7181558\tbest: 0.7181558 (66)\ttotal: 45.9s\tremaining: 56.9s\n",
            "67:\tlearn: 0.7264858\ttest: 0.7181558\tbest: 0.7181558 (66)\ttotal: 46.6s\tremaining: 56.2s\n",
            "68:\tlearn: 0.7267211\ttest: 0.7190441\tbest: 0.7190441 (68)\ttotal: 47.3s\tremaining: 55.5s\n",
            "69:\tlearn: 0.7270506\ttest: 0.7195410\tbest: 0.7195410 (69)\ttotal: 48s\tremaining: 54.8s\n",
            "70:\tlearn: 0.7269993\ttest: 0.7200588\tbest: 0.7200588 (70)\ttotal: 48.6s\tremaining: 54.1s\n",
            "71:\tlearn: 0.7330916\ttest: 0.7242670\tbest: 0.7242670 (71)\ttotal: 49.3s\tremaining: 53.4s\n",
            "72:\tlearn: 0.7333380\ttest: 0.7242670\tbest: 0.7242670 (71)\ttotal: 50s\tremaining: 52.7s\n",
            "73:\tlearn: 0.7333218\ttest: 0.7237518\tbest: 0.7242670 (71)\ttotal: 50.7s\tremaining: 52.1s\n",
            "74:\tlearn: 0.7334050\ttest: 0.7237304\tbest: 0.7242670 (71)\ttotal: 51.4s\tremaining: 51.4s\n",
            "75:\tlearn: 0.7334558\ttest: 0.7237304\tbest: 0.7242670 (71)\ttotal: 52.1s\tremaining: 50.7s\n",
            "76:\tlearn: 0.7365522\ttest: 0.7265610\tbest: 0.7265610 (76)\ttotal: 52.8s\tremaining: 50s\n",
            "77:\tlearn: 0.7365468\ttest: 0.7268285\tbest: 0.7268285 (77)\ttotal: 53.5s\tremaining: 49.3s\n",
            "78:\tlearn: 0.7375778\ttest: 0.7276836\tbest: 0.7276836 (78)\ttotal: 54.1s\tremaining: 48.6s\n",
            "79:\tlearn: 0.7462718\ttest: 0.7327703\tbest: 0.7327703 (79)\ttotal: 54.8s\tremaining: 47.9s\n",
            "80:\tlearn: 0.7464749\ttest: 0.7330129\tbest: 0.7330129 (80)\ttotal: 55.5s\tremaining: 47.3s\n",
            "81:\tlearn: 0.7463887\ttest: 0.7325769\tbest: 0.7330129 (80)\ttotal: 56.2s\tremaining: 46.6s\n",
            "82:\tlearn: 0.7492924\ttest: 0.7348227\tbest: 0.7348227 (82)\ttotal: 56.8s\tremaining: 45.9s\n",
            "83:\tlearn: 0.7458432\ttest: 0.7310266\tbest: 0.7348227 (82)\ttotal: 57.5s\tremaining: 45.2s\n",
            "84:\tlearn: 0.7458596\ttest: 0.7315129\tbest: 0.7348227 (82)\ttotal: 58.2s\tremaining: 44.5s\n",
            "85:\tlearn: 0.7459525\ttest: 0.7312913\tbest: 0.7348227 (82)\ttotal: 58.9s\tremaining: 43.9s\n",
            "86:\tlearn: 0.7527530\ttest: 0.7373301\tbest: 0.7373301 (86)\ttotal: 59.6s\tremaining: 43.2s\n",
            "87:\tlearn: 0.7527421\ttest: 0.7375282\tbest: 0.7375282 (87)\ttotal: 1m\tremaining: 42.5s\n",
            "88:\tlearn: 0.7526388\ttest: 0.7375282\tbest: 0.7375282 (87)\ttotal: 1m 1s\tremaining: 41.8s\n",
            "89:\tlearn: 0.7501220\ttest: 0.7364292\tbest: 0.7375282 (87)\ttotal: 1m 1s\tremaining: 41.2s\n",
            "90:\tlearn: 0.7505802\ttest: 0.7366061\tbest: 0.7375282 (87)\ttotal: 1m 2s\tremaining: 40.5s\n",
            "91:\tlearn: 0.7504275\ttest: 0.7365845\tbest: 0.7375282 (87)\ttotal: 1m 3s\tremaining: 39.8s\n",
            "92:\tlearn: 0.7505254\ttest: 0.7375324\tbest: 0.7375324 (92)\ttotal: 1m 3s\tremaining: 39.1s\n",
            "93:\tlearn: 0.7504165\ttest: 0.7373774\tbest: 0.7375324 (92)\ttotal: 1m 4s\tremaining: 38.4s\n",
            "94:\tlearn: 0.7509395\ttest: 0.7379027\tbest: 0.7379027 (94)\ttotal: 1m 5s\tremaining: 37.8s\n",
            "95:\tlearn: 0.7510863\ttest: 0.7380575\tbest: 0.7380575 (95)\ttotal: 1m 5s\tremaining: 37.1s\n",
            "96:\tlearn: 0.7512551\ttest: 0.7380359\tbest: 0.7380575 (95)\ttotal: 1m 6s\tremaining: 36.4s\n",
            "97:\tlearn: 0.7514077\ttest: 0.7385392\tbest: 0.7385392 (97)\ttotal: 1m 7s\tremaining: 35.7s\n",
            "98:\tlearn: 0.7551456\ttest: 0.7422515\tbest: 0.7422515 (98)\ttotal: 1m 7s\tremaining: 35s\n",
            "99:\tlearn: 0.7575376\ttest: 0.7439067\tbest: 0.7439067 (99)\ttotal: 1m 8s\tremaining: 34.3s\n",
            "100:\tlearn: 0.7575117\ttest: 0.7439308\tbest: 0.7439308 (100)\ttotal: 1m 9s\tremaining: 33.6s\n",
            "101:\tlearn: 0.7576360\ttest: 0.7436917\tbest: 0.7439308 (100)\ttotal: 1m 10s\tremaining: 33s\n",
            "102:\tlearn: 0.7576423\ttest: 0.7442348\tbest: 0.7442348 (102)\ttotal: 1m 10s\tremaining: 32.3s\n",
            "103:\tlearn: 0.7584264\ttest: 0.7449300\tbest: 0.7449300 (103)\ttotal: 1m 11s\tremaining: 31.6s\n",
            "104:\tlearn: 0.7588100\ttest: 0.7452338\tbest: 0.7452338 (104)\ttotal: 1m 12s\tremaining: 30.9s\n",
            "105:\tlearn: 0.7592803\ttest: 0.7454292\tbest: 0.7454292 (105)\ttotal: 1m 12s\tremaining: 30.2s\n",
            "106:\tlearn: 0.7591980\ttest: 0.7458416\tbest: 0.7458416 (106)\ttotal: 1m 13s\tremaining: 29.5s\n",
            "107:\tlearn: 0.7575251\ttest: 0.7453426\tbest: 0.7458416 (106)\ttotal: 1m 14s\tremaining: 28.8s\n",
            "108:\tlearn: 0.7578551\ttest: 0.7454509\tbest: 0.7458416 (106)\ttotal: 1m 14s\tremaining: 28.1s\n",
            "109:\tlearn: 0.7577182\ttest: 0.7460368\tbest: 0.7460368 (109)\ttotal: 1m 15s\tremaining: 27.5s\n",
            "110:\tlearn: 0.7577941\ttest: 0.7460801\tbest: 0.7460801 (110)\ttotal: 1m 16s\tremaining: 26.8s\n",
            "111:\tlearn: 0.7607589\ttest: 0.7478776\tbest: 0.7478776 (111)\ttotal: 1m 16s\tremaining: 26.1s\n",
            "112:\tlearn: 0.7607523\ttest: 0.7480939\tbest: 0.7480939 (112)\ttotal: 1m 17s\tremaining: 25.4s\n",
            "113:\tlearn: 0.7639422\ttest: 0.7494983\tbest: 0.7494983 (113)\ttotal: 1m 18s\tremaining: 24.7s\n",
            "114:\tlearn: 0.7643621\ttest: 0.7490449\tbest: 0.7494983 (113)\ttotal: 1m 18s\tremaining: 24s\n",
            "115:\tlearn: 0.7642716\ttest: 0.7488506\tbest: 0.7494983 (113)\ttotal: 1m 19s\tremaining: 23.3s\n",
            "116:\tlearn: 0.7644485\ttest: 0.7491100\tbest: 0.7494983 (113)\ttotal: 1m 20s\tremaining: 22.7s\n",
            "117:\tlearn: 0.7642811\ttest: 0.7493042\tbest: 0.7494983 (113)\ttotal: 1m 21s\tremaining: 22s\n",
            "118:\tlearn: 0.7640137\ttest: 0.7495635\tbest: 0.7495635 (118)\ttotal: 1m 21s\tremaining: 21.3s\n",
            "119:\tlearn: 0.7643621\ttest: 0.7496069\tbest: 0.7496069 (119)\ttotal: 1m 22s\tremaining: 20.6s\n",
            "120:\tlearn: 0.7644800\ttest: 0.7498009\tbest: 0.7498009 (120)\ttotal: 1m 23s\tremaining: 19.9s\n",
            "121:\tlearn: 0.7642441\ttest: 0.7497792\tbest: 0.7498009 (120)\ttotal: 1m 23s\tremaining: 19.3s\n",
            "122:\tlearn: 0.7643825\ttest: 0.7498009\tbest: 0.7498009 (120)\ttotal: 1m 24s\tremaining: 18.6s\n",
            "123:\tlearn: 0.7643126\ttest: 0.7497792\tbest: 0.7498009 (120)\ttotal: 1m 25s\tremaining: 17.9s\n",
            "124:\tlearn: 0.7683121\ttest: 0.7573135\tbest: 0.7573135 (124)\ttotal: 1m 26s\tremaining: 17.2s\n",
            "125:\tlearn: 0.7710262\ttest: 0.7584836\tbest: 0.7584836 (125)\ttotal: 1m 26s\tremaining: 16.5s\n",
            "126:\tlearn: 0.7710417\ttest: 0.7583797\tbest: 0.7584836 (125)\ttotal: 1m 27s\tremaining: 15.8s\n",
            "127:\tlearn: 0.7711077\ttest: 0.7581615\tbest: 0.7584836 (125)\ttotal: 1m 28s\tremaining: 15.1s\n",
            "128:\tlearn: 0.7710240\ttest: 0.7579703\tbest: 0.7584836 (125)\ttotal: 1m 28s\tremaining: 14.4s\n",
            "129:\tlearn: 0.7714274\ttest: 0.7583964\tbest: 0.7584836 (125)\ttotal: 1m 29s\tremaining: 13.8s\n",
            "130:\tlearn: 0.7714891\ttest: 0.7580743\tbest: 0.7584836 (125)\ttotal: 1m 30s\tremaining: 13.1s\n",
            "131:\tlearn: 0.7712002\ttest: 0.7583309\tbest: 0.7584836 (125)\ttotal: 1m 30s\tremaining: 12.4s\n",
            "132:\tlearn: 0.7713051\ttest: 0.7583964\tbest: 0.7584836 (125)\ttotal: 1m 31s\tremaining: 11.7s\n",
            "133:\tlearn: 0.7713074\ttest: 0.7582270\tbest: 0.7584836 (125)\ttotal: 1m 32s\tremaining: 11s\n",
            "134:\tlearn: 0.7713437\ttest: 0.7584182\tbest: 0.7584836 (125)\ttotal: 1m 32s\tremaining: 10.3s\n",
            "135:\tlearn: 0.7715893\ttest: 0.7582873\tbest: 0.7584836 (125)\ttotal: 1m 33s\tremaining: 9.63s\n",
            "136:\tlearn: 0.7716059\ttest: 0.7582873\tbest: 0.7584836 (125)\ttotal: 1m 34s\tremaining: 8.95s\n",
            "137:\tlearn: 0.7718536\ttest: 0.7583091\tbest: 0.7584836 (125)\ttotal: 1m 35s\tremaining: 8.27s\n",
            "138:\tlearn: 0.7720374\ttest: 0.7587131\tbest: 0.7587131 (138)\ttotal: 1m 35s\tremaining: 7.58s\n",
            "139:\tlearn: 0.7721179\ttest: 0.7587349\tbest: 0.7587349 (139)\ttotal: 1m 36s\tremaining: 6.89s\n",
            "140:\tlearn: 0.7726651\ttest: 0.7592259\tbest: 0.7592259 (140)\ttotal: 1m 37s\tremaining: 6.2s\n",
            "141:\tlearn: 0.7727123\ttest: 0.7589913\tbest: 0.7592259 (140)\ttotal: 1m 37s\tremaining: 5.51s\n",
            "142:\tlearn: 0.7729732\ttest: 0.7592259\tbest: 0.7592259 (140)\ttotal: 1m 38s\tremaining: 4.82s\n",
            "143:\tlearn: 0.7732923\ttest: 0.7594822\tbest: 0.7594822 (143)\ttotal: 1m 39s\tremaining: 4.13s\n",
            "144:\tlearn: 0.7732285\ttest: 0.7592695\tbest: 0.7594822 (143)\ttotal: 1m 39s\tremaining: 3.45s\n",
            "145:\tlearn: 0.7735978\ttest: 0.7599510\tbest: 0.7599510 (145)\ttotal: 1m 40s\tremaining: 2.76s\n",
            "146:\tlearn: 0.7737505\ttest: 0.7599510\tbest: 0.7599510 (145)\ttotal: 1m 41s\tremaining: 2.07s\n",
            "147:\tlearn: 0.7738087\ttest: 0.7603978\tbest: 0.7603978 (147)\ttotal: 1m 42s\tremaining: 1.38s\n",
            "148:\tlearn: 0.7739835\ttest: 0.7603978\tbest: 0.7603978 (147)\ttotal: 1m 42s\tremaining: 691ms\n",
            "149:\tlearn: 0.7763904\ttest: 0.7619484\tbest: 0.7619484 (149)\ttotal: 1m 43s\tremaining: 0us\n",
            "\n",
            "bestTest = 0.7619483733\n",
            "bestIteration = 149\n",
            "\n",
            "5:\tloss: 0.7619484\tbest: 0.7619484 (5)\ttotal: 6m\tremaining: 3m\n",
            "0:\tlearn: 0.5820060\ttest: 0.5781691\tbest: 0.5781691 (0)\ttotal: 1.01s\tremaining: 9.14s\n",
            "1:\tlearn: 0.5820739\ttest: 0.5781691\tbest: 0.5781691 (0)\ttotal: 2.03s\tremaining: 8.11s\n",
            "2:\tlearn: 0.5820739\ttest: 0.5781691\tbest: 0.5781691 (0)\ttotal: 2.99s\tremaining: 6.99s\n",
            "3:\tlearn: 0.5820060\ttest: 0.5781691\tbest: 0.5781691 (0)\ttotal: 3.9s\tremaining: 5.84s\n",
            "4:\tlearn: 0.5817928\ttest: 0.5781877\tbest: 0.5781877 (4)\ttotal: 4.86s\tremaining: 4.86s\n",
            "5:\tlearn: 0.6092208\ttest: 0.6083916\tbest: 0.6083916 (5)\ttotal: 5.81s\tremaining: 3.87s\n",
            "6:\tlearn: 0.6091468\ttest: 0.6086655\tbest: 0.6086655 (6)\ttotal: 6.75s\tremaining: 2.89s\n",
            "7:\tlearn: 0.6309993\ttest: 0.6284092\tbest: 0.6284092 (7)\ttotal: 7.78s\tremaining: 1.95s\n",
            "8:\tlearn: 0.6314286\ttest: 0.6284288\tbest: 0.6284288 (8)\ttotal: 8.78s\tremaining: 975ms\n",
            "9:\tlearn: 0.6319459\ttest: 0.6288793\tbest: 0.6288793 (9)\ttotal: 9.73s\tremaining: 0us\n",
            "\n",
            "bestTest = 0.6288793348\n",
            "bestIteration = 9\n",
            "\n",
            "6:\tloss: 0.6288793\tbest: 0.7619484 (5)\ttotal: 6m 9s\tremaining: 1m 45s\n",
            "0:\tlearn: 0.5820060\ttest: 0.5781691\tbest: 0.5781691 (0)\ttotal: 1.05s\tremaining: 1m 43s\n",
            "1:\tlearn: 0.5820739\ttest: 0.5781691\tbest: 0.5781691 (0)\ttotal: 2.07s\tremaining: 1m 41s\n",
            "2:\tlearn: 0.5820739\ttest: 0.5781691\tbest: 0.5781691 (0)\ttotal: 3.02s\tremaining: 1m 37s\n",
            "3:\tlearn: 0.5820060\ttest: 0.5781691\tbest: 0.5781691 (0)\ttotal: 3.92s\tremaining: 1m 34s\n",
            "4:\tlearn: 0.5817928\ttest: 0.5781877\tbest: 0.5781877 (4)\ttotal: 4.89s\tremaining: 1m 32s\n",
            "5:\tlearn: 0.6092208\ttest: 0.6083916\tbest: 0.6083916 (5)\ttotal: 5.83s\tremaining: 1m 31s\n",
            "6:\tlearn: 0.6091468\ttest: 0.6086655\tbest: 0.6086655 (6)\ttotal: 6.8s\tremaining: 1m 30s\n",
            "7:\tlearn: 0.6309993\ttest: 0.6284092\tbest: 0.6284092 (7)\ttotal: 7.8s\tremaining: 1m 29s\n",
            "8:\tlearn: 0.6314286\ttest: 0.6284288\tbest: 0.6284288 (8)\ttotal: 8.8s\tremaining: 1m 28s\n",
            "9:\tlearn: 0.6319459\ttest: 0.6288793\tbest: 0.6288793 (9)\ttotal: 9.75s\tremaining: 1m 27s\n",
            "10:\tlearn: 0.6319409\ttest: 0.6285951\tbest: 0.6288793 (9)\ttotal: 10.7s\tremaining: 1m 26s\n",
            "11:\tlearn: 0.6320025\ttest: 0.6285951\tbest: 0.6288793 (9)\ttotal: 11.7s\tremaining: 1m 26s\n",
            "12:\tlearn: 0.6488552\ttest: 0.6450247\tbest: 0.6450247 (12)\ttotal: 12.7s\tremaining: 1m 24s\n",
            "13:\tlearn: 0.6487159\ttest: 0.6450247\tbest: 0.6450247 (12)\ttotal: 13.6s\tremaining: 1m 23s\n",
            "14:\tlearn: 0.6619385\ttest: 0.6584474\tbest: 0.6584474 (14)\ttotal: 14.6s\tremaining: 1m 22s\n",
            "15:\tlearn: 0.6619487\ttest: 0.6584676\tbest: 0.6584676 (15)\ttotal: 15.6s\tremaining: 1m 21s\n",
            "16:\tlearn: 0.6618957\ttest: 0.6584676\tbest: 0.6584676 (15)\ttotal: 16.5s\tremaining: 1m 20s\n",
            "17:\tlearn: 0.6717911\ttest: 0.6686717\tbest: 0.6686717 (17)\ttotal: 17.5s\tremaining: 1m 19s\n",
            "18:\tlearn: 0.6716563\ttest: 0.6686717\tbest: 0.6686717 (17)\ttotal: 18.4s\tremaining: 1m 18s\n",
            "19:\tlearn: 0.6712310\ttest: 0.6686308\tbest: 0.6686717 (17)\ttotal: 19.3s\tremaining: 1m 17s\n",
            "20:\tlearn: 0.6724862\ttest: 0.6703622\tbest: 0.6703622 (20)\ttotal: 20.3s\tremaining: 1m 16s\n",
            "21:\tlearn: 0.6740124\ttest: 0.6715751\tbest: 0.6715751 (21)\ttotal: 21.2s\tremaining: 1m 15s\n",
            "22:\tlearn: 0.6840767\ttest: 0.6766078\tbest: 0.6766078 (22)\ttotal: 22.2s\tremaining: 1m 14s\n",
            "23:\tlearn: 0.6932583\ttest: 0.6855470\tbest: 0.6855470 (23)\ttotal: 23.1s\tremaining: 1m 13s\n",
            "24:\tlearn: 0.7038208\ttest: 0.6962659\tbest: 0.6962659 (24)\ttotal: 24s\tremaining: 1m 12s\n",
            "25:\tlearn: 0.7048503\ttest: 0.6967179\tbest: 0.6967179 (25)\ttotal: 24.9s\tremaining: 1m 10s\n",
            "26:\tlearn: 0.7055082\ttest: 0.6972322\tbest: 0.6972322 (26)\ttotal: 25.9s\tremaining: 1m 9s\n",
            "27:\tlearn: 0.7134935\ttest: 0.7044730\tbest: 0.7044730 (27)\ttotal: 26.8s\tremaining: 1m 8s\n",
            "28:\tlearn: 0.7136785\ttest: 0.7043037\tbest: 0.7044730 (27)\ttotal: 27.7s\tremaining: 1m 7s\n",
            "29:\tlearn: 0.7251993\ttest: 0.7118615\tbest: 0.7118615 (29)\ttotal: 28.6s\tremaining: 1m 6s\n",
            "30:\tlearn: 0.7248086\ttest: 0.7113626\tbest: 0.7118615 (29)\ttotal: 29.6s\tremaining: 1m 5s\n",
            "31:\tlearn: 0.7257138\ttest: 0.7119413\tbest: 0.7119413 (31)\ttotal: 30.5s\tremaining: 1m 4s\n",
            "32:\tlearn: 0.7300607\ttest: 0.7186765\tbest: 0.7186765 (32)\ttotal: 31.5s\tremaining: 1m 3s\n",
            "33:\tlearn: 0.7297270\ttest: 0.7188255\tbest: 0.7188255 (33)\ttotal: 32.4s\tremaining: 1m 2s\n",
            "34:\tlearn: 0.7300553\ttest: 0.7185358\tbest: 0.7188255 (33)\ttotal: 33.3s\tremaining: 1m 1s\n",
            "35:\tlearn: 0.7308556\ttest: 0.7193320\tbest: 0.7193320 (35)\ttotal: 34.2s\tremaining: 1m\n",
            "36:\tlearn: 0.7311971\ttest: 0.7198254\tbest: 0.7198254 (36)\ttotal: 35.2s\tremaining: 59.9s\n",
            "37:\tlearn: 0.7366961\ttest: 0.7269977\tbest: 0.7269977 (37)\ttotal: 36.1s\tremaining: 58.8s\n",
            "38:\tlearn: 0.7191732\ttest: 0.7142756\tbest: 0.7269977 (37)\ttotal: 37s\tremaining: 57.9s\n",
            "39:\tlearn: 0.7192682\ttest: 0.7148834\tbest: 0.7269977 (37)\ttotal: 37.9s\tremaining: 56.9s\n",
            "40:\tlearn: 0.7196777\ttest: 0.7151130\tbest: 0.7269977 (37)\ttotal: 38.9s\tremaining: 55.9s\n",
            "41:\tlearn: 0.7373637\ttest: 0.7275504\tbest: 0.7275504 (41)\ttotal: 39.8s\tremaining: 55s\n",
            "42:\tlearn: 0.7405803\ttest: 0.7303470\tbest: 0.7303470 (42)\ttotal: 40.7s\tremaining: 54s\n",
            "43:\tlearn: 0.7409173\ttest: 0.7303685\tbest: 0.7303685 (43)\ttotal: 41.7s\tremaining: 53s\n",
            "44:\tlearn: 0.7412271\ttest: 0.7313197\tbest: 0.7313197 (44)\ttotal: 42.5s\tremaining: 52s\n",
            "45:\tlearn: 0.7413818\ttest: 0.7308121\tbest: 0.7313197 (44)\ttotal: 43.4s\tremaining: 51s\n",
            "46:\tlearn: 0.7419273\ttest: 0.7308121\tbest: 0.7313197 (44)\ttotal: 44.3s\tremaining: 50s\n",
            "47:\tlearn: 0.7475111\ttest: 0.7348711\tbest: 0.7348711 (47)\ttotal: 45.2s\tremaining: 49s\n",
            "48:\tlearn: 0.7479880\ttest: 0.7349460\tbest: 0.7349460 (48)\ttotal: 46.2s\tremaining: 48.1s\n",
            "49:\tlearn: 0.7511571\ttest: 0.7373384\tbest: 0.7373384 (49)\ttotal: 47.1s\tremaining: 47.1s\n",
            "50:\tlearn: 0.7513260\ttest: 0.7373815\tbest: 0.7373815 (50)\ttotal: 48.1s\tremaining: 46.2s\n",
            "51:\tlearn: 0.7511354\ttest: 0.7376441\tbest: 0.7376441 (51)\ttotal: 49s\tremaining: 45.2s\n",
            "52:\tlearn: 0.7507760\ttest: 0.7378850\tbest: 0.7378850 (52)\ttotal: 49.9s\tremaining: 44.3s\n",
            "53:\tlearn: 0.7511354\ttest: 0.7377087\tbest: 0.7378850 (52)\ttotal: 50.9s\tremaining: 43.3s\n",
            "54:\tlearn: 0.7508957\ttest: 0.7369424\tbest: 0.7378850 (52)\ttotal: 51.9s\tremaining: 42.4s\n",
            "55:\tlearn: 0.7508742\ttest: 0.7366106\tbest: 0.7378850 (52)\ttotal: 52.8s\tremaining: 41.5s\n",
            "56:\tlearn: 0.7508959\ttest: 0.7370716\tbest: 0.7378850 (52)\ttotal: 53.7s\tremaining: 40.5s\n",
            "57:\tlearn: 0.7512772\ttest: 0.7384961\tbest: 0.7384961 (57)\ttotal: 54.5s\tremaining: 39.5s\n",
            "58:\tlearn: 0.7512009\ttest: 0.7384530\tbest: 0.7384961 (57)\ttotal: 55.4s\tremaining: 38.5s\n",
            "59:\tlearn: 0.7513207\ttest: 0.7389344\tbest: 0.7389344 (59)\ttotal: 56.3s\tremaining: 37.6s\n",
            "60:\tlearn: 0.7547544\ttest: 0.7405741\tbest: 0.7405741 (60)\ttotal: 57.2s\tremaining: 36.6s\n",
            "61:\tlearn: 0.7587288\ttest: 0.7425382\tbest: 0.7425382 (61)\ttotal: 58.2s\tremaining: 35.6s\n",
            "62:\tlearn: 0.7589132\ttest: 0.7426247\tbest: 0.7426247 (62)\ttotal: 59.1s\tremaining: 34.7s\n",
            "63:\tlearn: 0.7591726\ttest: 0.7428209\tbest: 0.7428209 (63)\ttotal: 1m\tremaining: 33.8s\n",
            "64:\tlearn: 0.7558827\ttest: 0.7413158\tbest: 0.7428209 (63)\ttotal: 1m\tremaining: 32.8s\n",
            "65:\tlearn: 0.7588448\ttest: 0.7433862\tbest: 0.7433862 (65)\ttotal: 1m 1s\tremaining: 31.9s\n",
            "66:\tlearn: 0.7560998\ttest: 0.7425364\tbest: 0.7433862 (65)\ttotal: 1m 2s\tremaining: 30.9s\n",
            "67:\tlearn: 0.7563647\ttest: 0.7424932\tbest: 0.7433862 (65)\ttotal: 1m 3s\tremaining: 30s\n",
            "68:\tlearn: 0.7564297\ttest: 0.7419706\tbest: 0.7433862 (65)\ttotal: 1m 4s\tremaining: 29s\n",
            "69:\tlearn: 0.7566357\ttest: 0.7422319\tbest: 0.7433862 (65)\ttotal: 1m 5s\tremaining: 28.1s\n",
            "70:\tlearn: 0.7609648\ttest: 0.7499515\tbest: 0.7499515 (70)\ttotal: 1m 6s\tremaining: 27.1s\n",
            "71:\tlearn: 0.7604791\ttest: 0.7499298\tbest: 0.7499515 (70)\ttotal: 1m 7s\tremaining: 26.2s\n",
            "72:\tlearn: 0.7604002\ttest: 0.7501252\tbest: 0.7501252 (72)\ttotal: 1m 8s\tremaining: 25.3s\n",
            "73:\tlearn: 0.7607017\ttest: 0.7503625\tbest: 0.7503625 (73)\ttotal: 1m 9s\tremaining: 24.3s\n",
            "74:\tlearn: 0.7608299\ttest: 0.7513330\tbest: 0.7513330 (74)\ttotal: 1m 10s\tremaining: 23.4s\n",
            "75:\tlearn: 0.7618029\ttest: 0.7517831\tbest: 0.7517831 (75)\ttotal: 1m 11s\tremaining: 22.5s\n",
            "76:\tlearn: 0.7649592\ttest: 0.7529638\tbest: 0.7529638 (76)\ttotal: 1m 12s\tremaining: 21.5s\n",
            "77:\tlearn: 0.7647974\ttest: 0.7527056\tbest: 0.7529638 (76)\ttotal: 1m 12s\tremaining: 20.6s\n",
            "78:\tlearn: 0.7650263\ttest: 0.7525534\tbest: 0.7529638 (76)\ttotal: 1m 13s\tremaining: 19.6s\n",
            "79:\tlearn: 0.7649675\ttest: 0.7532842\tbest: 0.7532842 (79)\ttotal: 1m 14s\tremaining: 18.7s\n",
            "80:\tlearn: 0.7677291\ttest: 0.7560496\tbest: 0.7560496 (80)\ttotal: 1m 15s\tremaining: 17.7s\n",
            "81:\tlearn: 0.7650373\ttest: 0.7546136\tbest: 0.7560496 (80)\ttotal: 1m 16s\tremaining: 16.8s\n",
            "82:\tlearn: 0.7654051\ttest: 0.7547842\tbest: 0.7560496 (80)\ttotal: 1m 17s\tremaining: 15.8s\n",
            "83:\tlearn: 0.7660759\ttest: 0.7554260\tbest: 0.7560496 (80)\ttotal: 1m 18s\tremaining: 14.9s\n",
            "84:\tlearn: 0.7661715\ttest: 0.7554655\tbest: 0.7560496 (80)\ttotal: 1m 19s\tremaining: 14s\n",
            "85:\tlearn: 0.7688846\ttest: 0.7571998\tbest: 0.7571998 (85)\ttotal: 1m 19s\tremaining: 13s\n",
            "86:\tlearn: 0.7692966\ttest: 0.7577135\tbest: 0.7577135 (86)\ttotal: 1m 20s\tremaining: 12.1s\n",
            "87:\tlearn: 0.7695507\ttest: 0.7576481\tbest: 0.7577135 (86)\ttotal: 1m 21s\tremaining: 11.2s\n",
            "88:\tlearn: 0.7701227\ttest: 0.7580525\tbest: 0.7580525 (88)\ttotal: 1m 22s\tremaining: 10.2s\n",
            "89:\tlearn: 0.7744935\ttest: 0.7619702\tbest: 0.7619702 (89)\ttotal: 1m 23s\tremaining: 9.28s\n",
            "90:\tlearn: 0.7743295\ttest: 0.7618020\tbest: 0.7619702 (89)\ttotal: 1m 24s\tremaining: 8.35s\n",
            "91:\tlearn: 0.7742794\ttest: 0.7619331\tbest: 0.7619702 (89)\ttotal: 1m 25s\tremaining: 7.42s\n",
            "92:\tlearn: 0.7743321\ttest: 0.7616774\tbest: 0.7619702 (89)\ttotal: 1m 26s\tremaining: 6.49s\n",
            "93:\tlearn: 0.7745182\ttest: 0.7618676\tbest: 0.7619702 (89)\ttotal: 1m 27s\tremaining: 5.56s\n",
            "94:\tlearn: 0.7746483\ttest: 0.7621451\tbest: 0.7621451 (94)\ttotal: 1m 27s\tremaining: 4.63s\n",
            "95:\tlearn: 0.7746704\ttest: 0.7621670\tbest: 0.7621670 (95)\ttotal: 1m 28s\tremaining: 3.7s\n",
            "96:\tlearn: 0.7748954\ttest: 0.7629705\tbest: 0.7629705 (96)\ttotal: 1m 29s\tremaining: 2.77s\n",
            "97:\tlearn: 0.7751064\ttest: 0.7635177\tbest: 0.7635177 (97)\ttotal: 1m 30s\tremaining: 1.85s\n",
            "98:\tlearn: 0.7749591\ttest: 0.7629486\tbest: 0.7635177 (97)\ttotal: 1m 31s\tremaining: 924ms\n",
            "99:\tlearn: 0.7752198\ttest: 0.7635615\tbest: 0.7635615 (99)\ttotal: 1m 32s\tremaining: 0us\n",
            "\n",
            "bestTest = 0.7635614984\n",
            "bestIteration = 99\n",
            "\n",
            "7:\tloss: 0.7635615\tbest: 0.7635615 (7)\ttotal: 7m 42s\tremaining: 57.8s\n",
            "0:\tlearn: 0.5820060\ttest: 0.5781691\tbest: 0.5781691 (0)\ttotal: 1.01s\tremaining: 2m 29s\n",
            "1:\tlearn: 0.5820739\ttest: 0.5781691\tbest: 0.5781691 (0)\ttotal: 1.92s\tremaining: 2m 22s\n",
            "2:\tlearn: 0.5820739\ttest: 0.5781691\tbest: 0.5781691 (0)\ttotal: 2.84s\tremaining: 2m 19s\n",
            "3:\tlearn: 0.5820060\ttest: 0.5781691\tbest: 0.5781691 (0)\ttotal: 3.7s\tremaining: 2m 14s\n",
            "4:\tlearn: 0.5817928\ttest: 0.5781877\tbest: 0.5781877 (4)\ttotal: 4.58s\tremaining: 2m 12s\n",
            "5:\tlearn: 0.6092208\ttest: 0.6083916\tbest: 0.6083916 (5)\ttotal: 5.48s\tremaining: 2m 11s\n",
            "6:\tlearn: 0.6091468\ttest: 0.6086655\tbest: 0.6086655 (6)\ttotal: 6.37s\tremaining: 2m 10s\n",
            "7:\tlearn: 0.6309993\ttest: 0.6284092\tbest: 0.6284092 (7)\ttotal: 7.24s\tremaining: 2m 8s\n",
            "8:\tlearn: 0.6314286\ttest: 0.6284288\tbest: 0.6284288 (8)\ttotal: 8.2s\tremaining: 2m 8s\n",
            "9:\tlearn: 0.6319459\ttest: 0.6288793\tbest: 0.6288793 (9)\ttotal: 9.18s\tremaining: 2m 8s\n",
            "10:\tlearn: 0.6319409\ttest: 0.6285951\tbest: 0.6288793 (9)\ttotal: 10.1s\tremaining: 2m 7s\n",
            "11:\tlearn: 0.6320025\ttest: 0.6285951\tbest: 0.6288793 (9)\ttotal: 11s\tremaining: 2m 6s\n",
            "12:\tlearn: 0.6488552\ttest: 0.6450247\tbest: 0.6450247 (12)\ttotal: 11.9s\tremaining: 2m 5s\n",
            "13:\tlearn: 0.6487159\ttest: 0.6450247\tbest: 0.6450247 (12)\ttotal: 12.8s\tremaining: 2m 4s\n",
            "14:\tlearn: 0.6619385\ttest: 0.6584474\tbest: 0.6584474 (14)\ttotal: 13.7s\tremaining: 2m 3s\n",
            "15:\tlearn: 0.6619487\ttest: 0.6584676\tbest: 0.6584676 (15)\ttotal: 14.6s\tremaining: 2m 2s\n",
            "16:\tlearn: 0.6618957\ttest: 0.6584676\tbest: 0.6584676 (15)\ttotal: 15.6s\tremaining: 2m 1s\n",
            "17:\tlearn: 0.6717911\ttest: 0.6686717\tbest: 0.6686717 (17)\ttotal: 16.5s\tremaining: 2m 1s\n",
            "18:\tlearn: 0.6716563\ttest: 0.6686717\tbest: 0.6686717 (17)\ttotal: 17.5s\tremaining: 2m\n",
            "19:\tlearn: 0.6712310\ttest: 0.6686308\tbest: 0.6686717 (17)\ttotal: 18.4s\tremaining: 1m 59s\n",
            "20:\tlearn: 0.6724862\ttest: 0.6703622\tbest: 0.6703622 (20)\ttotal: 19.4s\tremaining: 1m 59s\n",
            "21:\tlearn: 0.6740124\ttest: 0.6715751\tbest: 0.6715751 (21)\ttotal: 20.4s\tremaining: 1m 58s\n",
            "22:\tlearn: 0.6840767\ttest: 0.6766078\tbest: 0.6766078 (22)\ttotal: 21.3s\tremaining: 1m 57s\n",
            "23:\tlearn: 0.6932583\ttest: 0.6855470\tbest: 0.6855470 (23)\ttotal: 22.2s\tremaining: 1m 56s\n",
            "24:\tlearn: 0.7038208\ttest: 0.6962659\tbest: 0.6962659 (24)\ttotal: 23.1s\tremaining: 1m 55s\n",
            "25:\tlearn: 0.7048503\ttest: 0.6967179\tbest: 0.6967179 (25)\ttotal: 24s\tremaining: 1m 54s\n",
            "26:\tlearn: 0.7055082\ttest: 0.6972322\tbest: 0.6972322 (26)\ttotal: 24.9s\tremaining: 1m 53s\n",
            "27:\tlearn: 0.7134935\ttest: 0.7044730\tbest: 0.7044730 (27)\ttotal: 25.8s\tremaining: 1m 52s\n",
            "28:\tlearn: 0.7136785\ttest: 0.7043037\tbest: 0.7044730 (27)\ttotal: 26.7s\tremaining: 1m 51s\n",
            "29:\tlearn: 0.7251993\ttest: 0.7118615\tbest: 0.7118615 (29)\ttotal: 27.7s\tremaining: 1m 50s\n",
            "30:\tlearn: 0.7248086\ttest: 0.7113626\tbest: 0.7118615 (29)\ttotal: 28.6s\tremaining: 1m 49s\n",
            "31:\tlearn: 0.7257138\ttest: 0.7119413\tbest: 0.7119413 (31)\ttotal: 29.6s\tremaining: 1m 49s\n",
            "32:\tlearn: 0.7300607\ttest: 0.7186765\tbest: 0.7186765 (32)\ttotal: 30.5s\tremaining: 1m 48s\n",
            "33:\tlearn: 0.7297270\ttest: 0.7188255\tbest: 0.7188255 (33)\ttotal: 31.4s\tremaining: 1m 47s\n",
            "34:\tlearn: 0.7300553\ttest: 0.7185358\tbest: 0.7188255 (33)\ttotal: 32.4s\tremaining: 1m 46s\n",
            "35:\tlearn: 0.7308556\ttest: 0.7193320\tbest: 0.7193320 (35)\ttotal: 33.3s\tremaining: 1m 45s\n",
            "36:\tlearn: 0.7311971\ttest: 0.7198254\tbest: 0.7198254 (36)\ttotal: 34.3s\tremaining: 1m 44s\n",
            "37:\tlearn: 0.7366961\ttest: 0.7269977\tbest: 0.7269977 (37)\ttotal: 35.3s\tremaining: 1m 44s\n",
            "38:\tlearn: 0.7191732\ttest: 0.7142756\tbest: 0.7269977 (37)\ttotal: 36.2s\tremaining: 1m 43s\n",
            "39:\tlearn: 0.7192682\ttest: 0.7148834\tbest: 0.7269977 (37)\ttotal: 37.2s\tremaining: 1m 42s\n",
            "40:\tlearn: 0.7196777\ttest: 0.7151130\tbest: 0.7269977 (37)\ttotal: 38.2s\tremaining: 1m 41s\n",
            "41:\tlearn: 0.7373637\ttest: 0.7275504\tbest: 0.7275504 (41)\ttotal: 39.2s\tremaining: 1m 40s\n",
            "42:\tlearn: 0.7405803\ttest: 0.7303470\tbest: 0.7303470 (42)\ttotal: 40.1s\tremaining: 1m 39s\n",
            "43:\tlearn: 0.7409173\ttest: 0.7303685\tbest: 0.7303685 (43)\ttotal: 41s\tremaining: 1m 38s\n",
            "44:\tlearn: 0.7412271\ttest: 0.7313197\tbest: 0.7313197 (44)\ttotal: 41.8s\tremaining: 1m 37s\n",
            "45:\tlearn: 0.7413818\ttest: 0.7308121\tbest: 0.7313197 (44)\ttotal: 42.7s\tremaining: 1m 36s\n",
            "46:\tlearn: 0.7419273\ttest: 0.7308121\tbest: 0.7313197 (44)\ttotal: 43.6s\tremaining: 1m 35s\n",
            "47:\tlearn: 0.7475111\ttest: 0.7348711\tbest: 0.7348711 (47)\ttotal: 44.5s\tremaining: 1m 34s\n",
            "48:\tlearn: 0.7479880\ttest: 0.7349460\tbest: 0.7349460 (48)\ttotal: 45.4s\tremaining: 1m 33s\n",
            "49:\tlearn: 0.7511571\ttest: 0.7373384\tbest: 0.7373384 (49)\ttotal: 46.3s\tremaining: 1m 32s\n",
            "50:\tlearn: 0.7513260\ttest: 0.7373815\tbest: 0.7373815 (50)\ttotal: 47.2s\tremaining: 1m 31s\n",
            "51:\tlearn: 0.7511354\ttest: 0.7376441\tbest: 0.7376441 (51)\ttotal: 48.1s\tremaining: 1m 30s\n",
            "52:\tlearn: 0.7507760\ttest: 0.7378850\tbest: 0.7378850 (52)\ttotal: 49.1s\tremaining: 1m 29s\n",
            "53:\tlearn: 0.7511354\ttest: 0.7377087\tbest: 0.7378850 (52)\ttotal: 50s\tremaining: 1m 28s\n",
            "54:\tlearn: 0.7508957\ttest: 0.7369424\tbest: 0.7378850 (52)\ttotal: 50.9s\tremaining: 1m 27s\n",
            "55:\tlearn: 0.7508742\ttest: 0.7366106\tbest: 0.7378850 (52)\ttotal: 51.7s\tremaining: 1m 26s\n",
            "56:\tlearn: 0.7508959\ttest: 0.7370716\tbest: 0.7378850 (52)\ttotal: 52.6s\tremaining: 1m 25s\n",
            "57:\tlearn: 0.7512772\ttest: 0.7384961\tbest: 0.7384961 (57)\ttotal: 53.5s\tremaining: 1m 24s\n",
            "58:\tlearn: 0.7512009\ttest: 0.7384530\tbest: 0.7384961 (57)\ttotal: 54.4s\tremaining: 1m 23s\n",
            "59:\tlearn: 0.7513207\ttest: 0.7389344\tbest: 0.7389344 (59)\ttotal: 55.3s\tremaining: 1m 22s\n",
            "60:\tlearn: 0.7547544\ttest: 0.7405741\tbest: 0.7405741 (60)\ttotal: 56.2s\tremaining: 1m 21s\n",
            "61:\tlearn: 0.7587288\ttest: 0.7425382\tbest: 0.7425382 (61)\ttotal: 57.1s\tremaining: 1m 20s\n",
            "62:\tlearn: 0.7589132\ttest: 0.7426247\tbest: 0.7426247 (62)\ttotal: 58s\tremaining: 1m 20s\n",
            "63:\tlearn: 0.7591726\ttest: 0.7428209\tbest: 0.7428209 (63)\ttotal: 58.9s\tremaining: 1m 19s\n",
            "64:\tlearn: 0.7558827\ttest: 0.7413158\tbest: 0.7428209 (63)\ttotal: 59.8s\tremaining: 1m 18s\n",
            "65:\tlearn: 0.7588448\ttest: 0.7433862\tbest: 0.7433862 (65)\ttotal: 1m\tremaining: 1m 17s\n",
            "66:\tlearn: 0.7560998\ttest: 0.7425364\tbest: 0.7433862 (65)\ttotal: 1m 1s\tremaining: 1m 16s\n",
            "67:\tlearn: 0.7563647\ttest: 0.7424932\tbest: 0.7433862 (65)\ttotal: 1m 2s\tremaining: 1m 15s\n",
            "68:\tlearn: 0.7564297\ttest: 0.7419706\tbest: 0.7433862 (65)\ttotal: 1m 3s\tremaining: 1m 14s\n",
            "69:\tlearn: 0.7566357\ttest: 0.7422319\tbest: 0.7433862 (65)\ttotal: 1m 4s\tremaining: 1m 13s\n",
            "70:\tlearn: 0.7609648\ttest: 0.7499515\tbest: 0.7499515 (70)\ttotal: 1m 5s\tremaining: 1m 12s\n",
            "71:\tlearn: 0.7604791\ttest: 0.7499298\tbest: 0.7499515 (70)\ttotal: 1m 5s\tremaining: 1m 11s\n",
            "72:\tlearn: 0.7604002\ttest: 0.7501252\tbest: 0.7501252 (72)\ttotal: 1m 6s\tremaining: 1m 10s\n",
            "73:\tlearn: 0.7607017\ttest: 0.7503625\tbest: 0.7503625 (73)\ttotal: 1m 7s\tremaining: 1m 9s\n",
            "74:\tlearn: 0.7608299\ttest: 0.7513330\tbest: 0.7513330 (74)\ttotal: 1m 8s\tremaining: 1m 8s\n",
            "75:\tlearn: 0.7618029\ttest: 0.7517831\tbest: 0.7517831 (75)\ttotal: 1m 9s\tremaining: 1m 7s\n",
            "76:\tlearn: 0.7649592\ttest: 0.7529638\tbest: 0.7529638 (76)\ttotal: 1m 10s\tremaining: 1m 6s\n",
            "77:\tlearn: 0.7647974\ttest: 0.7527056\tbest: 0.7529638 (76)\ttotal: 1m 11s\tremaining: 1m 5s\n",
            "78:\tlearn: 0.7650263\ttest: 0.7525534\tbest: 0.7529638 (76)\ttotal: 1m 12s\tremaining: 1m 4s\n",
            "79:\tlearn: 0.7649675\ttest: 0.7532842\tbest: 0.7532842 (79)\ttotal: 1m 12s\tremaining: 1m 3s\n",
            "80:\tlearn: 0.7677291\ttest: 0.7560496\tbest: 0.7560496 (80)\ttotal: 1m 13s\tremaining: 1m 2s\n",
            "81:\tlearn: 0.7650373\ttest: 0.7546136\tbest: 0.7560496 (80)\ttotal: 1m 14s\tremaining: 1m 1s\n",
            "82:\tlearn: 0.7654051\ttest: 0.7547842\tbest: 0.7560496 (80)\ttotal: 1m 15s\tremaining: 1m\n",
            "83:\tlearn: 0.7660759\ttest: 0.7554260\tbest: 0.7560496 (80)\ttotal: 1m 16s\tremaining: 1m\n",
            "84:\tlearn: 0.7661715\ttest: 0.7554655\tbest: 0.7560496 (80)\ttotal: 1m 17s\tremaining: 59.1s\n",
            "85:\tlearn: 0.7688846\ttest: 0.7571998\tbest: 0.7571998 (85)\ttotal: 1m 18s\tremaining: 58.2s\n",
            "86:\tlearn: 0.7692966\ttest: 0.7577135\tbest: 0.7577135 (86)\ttotal: 1m 19s\tremaining: 57.3s\n",
            "87:\tlearn: 0.7695507\ttest: 0.7576481\tbest: 0.7577135 (86)\ttotal: 1m 20s\tremaining: 56.4s\n",
            "88:\tlearn: 0.7701227\ttest: 0.7580525\tbest: 0.7580525 (88)\ttotal: 1m 20s\tremaining: 55.5s\n",
            "89:\tlearn: 0.7744935\ttest: 0.7619702\tbest: 0.7619702 (89)\ttotal: 1m 21s\tremaining: 54.5s\n",
            "90:\tlearn: 0.7743295\ttest: 0.7618020\tbest: 0.7619702 (89)\ttotal: 1m 22s\tremaining: 53.6s\n",
            "91:\tlearn: 0.7742794\ttest: 0.7619331\tbest: 0.7619702 (89)\ttotal: 1m 23s\tremaining: 52.7s\n",
            "92:\tlearn: 0.7743321\ttest: 0.7616774\tbest: 0.7619702 (89)\ttotal: 1m 24s\tremaining: 51.8s\n",
            "93:\tlearn: 0.7745182\ttest: 0.7618676\tbest: 0.7619702 (89)\ttotal: 1m 25s\tremaining: 50.8s\n",
            "94:\tlearn: 0.7746483\ttest: 0.7621451\tbest: 0.7621451 (94)\ttotal: 1m 26s\tremaining: 49.9s\n",
            "95:\tlearn: 0.7746704\ttest: 0.7621670\tbest: 0.7621670 (95)\ttotal: 1m 27s\tremaining: 49s\n",
            "96:\tlearn: 0.7748954\ttest: 0.7629705\tbest: 0.7629705 (96)\ttotal: 1m 28s\tremaining: 48.1s\n",
            "97:\tlearn: 0.7751064\ttest: 0.7635177\tbest: 0.7635177 (97)\ttotal: 1m 29s\tremaining: 47.3s\n",
            "98:\tlearn: 0.7749591\ttest: 0.7629486\tbest: 0.7635177 (97)\ttotal: 1m 30s\tremaining: 46.4s\n",
            "99:\tlearn: 0.7752198\ttest: 0.7635615\tbest: 0.7635615 (99)\ttotal: 1m 30s\tremaining: 45.5s\n",
            "100:\tlearn: 0.7750373\ttest: 0.7630072\tbest: 0.7635615 (99)\ttotal: 1m 31s\tremaining: 44.5s\n",
            "101:\tlearn: 0.7784670\ttest: 0.7670113\tbest: 0.7670113 (101)\ttotal: 1m 32s\tremaining: 43.6s\n",
            "102:\tlearn: 0.7761331\ttest: 0.7660153\tbest: 0.7670113 (101)\ttotal: 1m 33s\tremaining: 42.7s\n",
            "103:\tlearn: 0.7765588\ttest: 0.7662041\tbest: 0.7670113 (101)\ttotal: 1m 34s\tremaining: 41.8s\n",
            "104:\tlearn: 0.7766859\ttest: 0.7659496\tbest: 0.7670113 (101)\ttotal: 1m 35s\tremaining: 40.9s\n",
            "105:\tlearn: 0.7767329\ttest: 0.7662041\tbest: 0.7670113 (101)\ttotal: 1m 36s\tremaining: 40s\n",
            "106:\tlearn: 0.7741540\ttest: 0.7631312\tbest: 0.7670113 (101)\ttotal: 1m 37s\tremaining: 39.1s\n",
            "107:\tlearn: 0.7726841\ttest: 0.7610283\tbest: 0.7670113 (101)\ttotal: 1m 38s\tremaining: 38.2s\n",
            "108:\tlearn: 0.7734440\ttest: 0.7617517\tbest: 0.7670113 (101)\ttotal: 1m 39s\tremaining: 37.4s\n",
            "109:\tlearn: 0.7734912\ttest: 0.7616642\tbest: 0.7670113 (101)\ttotal: 1m 40s\tremaining: 36.4s\n",
            "110:\tlearn: 0.7734802\ttest: 0.7617079\tbest: 0.7670113 (101)\ttotal: 1m 41s\tremaining: 35.5s\n",
            "111:\tlearn: 0.7741040\ttest: 0.7619417\tbest: 0.7670113 (101)\ttotal: 1m 42s\tremaining: 34.6s\n",
            "112:\tlearn: 0.7742649\ttest: 0.7630656\tbest: 0.7670113 (101)\ttotal: 1m 42s\tremaining: 33.7s\n",
            "113:\tlearn: 0.7763238\ttest: 0.7643992\tbest: 0.7670113 (101)\ttotal: 1m 43s\tremaining: 32.8s\n",
            "114:\tlearn: 0.7765891\ttest: 0.7646541\tbest: 0.7670113 (101)\ttotal: 1m 44s\tremaining: 31.9s\n",
            "115:\tlearn: 0.7765588\ttest: 0.7644649\tbest: 0.7670113 (101)\ttotal: 1m 45s\tremaining: 31s\n",
            "116:\tlearn: 0.7766749\ttest: 0.7651418\tbest: 0.7670113 (101)\ttotal: 1m 46s\tremaining: 30.1s\n",
            "117:\tlearn: 0.7770865\ttest: 0.7651856\tbest: 0.7670113 (101)\ttotal: 1m 47s\tremaining: 29.1s\n",
            "118:\tlearn: 0.7773654\ttest: 0.7649089\tbest: 0.7670113 (101)\ttotal: 1m 48s\tremaining: 28.2s\n",
            "119:\tlearn: 0.7776609\ttest: 0.7654403\tbest: 0.7670113 (101)\ttotal: 1m 49s\tremaining: 27.3s\n",
            "120:\tlearn: 0.7790973\ttest: 0.7684962\tbest: 0.7684962 (120)\ttotal: 1m 50s\tremaining: 26.4s\n",
            "121:\tlearn: 0.7791878\ttest: 0.7689600\tbest: 0.7689600 (121)\ttotal: 1m 50s\tremaining: 25.5s\n",
            "122:\tlearn: 0.7792148\ttest: 0.7686404\tbest: 0.7689600 (121)\ttotal: 1m 51s\tremaining: 24.6s\n",
            "123:\tlearn: 0.7838259\ttest: 0.7723210\tbest: 0.7723210 (123)\ttotal: 1m 52s\tremaining: 23.6s\n",
            "124:\tlearn: 0.7840153\ttest: 0.7722331\tbest: 0.7723210 (123)\ttotal: 1m 53s\tremaining: 22.7s\n",
            "125:\tlearn: 0.7849099\ttest: 0.7721232\tbest: 0.7723210 (123)\ttotal: 1m 54s\tremaining: 21.8s\n",
            "126:\tlearn: 0.7863666\ttest: 0.7739029\tbest: 0.7739029 (126)\ttotal: 1m 55s\tremaining: 20.9s\n",
            "127:\tlearn: 0.7893725\ttest: 0.7784530\tbest: 0.7784530 (127)\ttotal: 1m 56s\tremaining: 20s\n",
            "128:\tlearn: 0.7877066\ttest: 0.7778994\tbest: 0.7784530 (127)\ttotal: 1m 57s\tremaining: 19.1s\n",
            "129:\tlearn: 0.7878821\ttest: 0.7779435\tbest: 0.7784530 (127)\ttotal: 1m 58s\tremaining: 18.2s\n",
            "130:\tlearn: 0.7873959\ttest: 0.7745280\tbest: 0.7784530 (127)\ttotal: 1m 59s\tremaining: 17.3s\n",
            "131:\tlearn: 0.7899681\ttest: 0.7788880\tbest: 0.7788880 (131)\ttotal: 1m 59s\tremaining: 16.4s\n",
            "132:\tlearn: 0.7880488\ttest: 0.7751966\tbest: 0.7788880 (131)\ttotal: 2m\tremaining: 15.5s\n",
            "133:\tlearn: 0.7883354\ttest: 0.7754047\tbest: 0.7788880 (131)\ttotal: 2m 1s\tremaining: 14.5s\n",
            "134:\tlearn: 0.7883632\ttest: 0.7761387\tbest: 0.7788880 (131)\ttotal: 2m 2s\tremaining: 13.6s\n",
            "135:\tlearn: 0.7883743\ttest: 0.7759528\tbest: 0.7788880 (131)\ttotal: 2m 3s\tremaining: 12.7s\n",
            "136:\tlearn: 0.7882614\ttest: 0.7756568\tbest: 0.7788880 (131)\ttotal: 2m 4s\tremaining: 11.8s\n",
            "137:\tlearn: 0.7900265\ttest: 0.7771994\tbest: 0.7788880 (131)\ttotal: 2m 5s\tremaining: 10.9s\n",
            "138:\tlearn: 0.7905941\ttest: 0.7775483\tbest: 0.7788880 (131)\ttotal: 2m 6s\tremaining: 10s\n",
            "139:\tlearn: 0.7926589\ttest: 0.7795012\tbest: 0.7795012 (139)\ttotal: 2m 7s\tremaining: 9.09s\n",
            "140:\tlearn: 0.7925101\ttest: 0.7795233\tbest: 0.7795233 (140)\ttotal: 2m 8s\tremaining: 8.18s\n",
            "141:\tlearn: 0.7936894\ttest: 0.7800776\tbest: 0.7800776 (141)\ttotal: 2m 9s\tremaining: 7.27s\n",
            "142:\tlearn: 0.7954365\ttest: 0.7812651\tbest: 0.7812651 (142)\ttotal: 2m 9s\tremaining: 6.36s\n",
            "143:\tlearn: 0.7960662\ttest: 0.7818325\tbest: 0.7818325 (143)\ttotal: 2m 10s\tremaining: 5.45s\n",
            "144:\tlearn: 0.7959759\ttest: 0.7819505\tbest: 0.7819505 (144)\ttotal: 2m 11s\tremaining: 4.54s\n",
            "145:\tlearn: 0.7961910\ttest: 0.7817663\tbest: 0.7819505 (144)\ttotal: 2m 12s\tremaining: 3.63s\n",
            "146:\tlearn: 0.7963726\ttest: 0.7817663\tbest: 0.7819505 (144)\ttotal: 2m 13s\tremaining: 2.73s\n",
            "147:\tlearn: 0.7963046\ttest: 0.7820168\tbest: 0.7820168 (147)\ttotal: 2m 14s\tremaining: 1.82s\n",
            "148:\tlearn: 0.7965886\ttest: 0.7817884\tbest: 0.7820168 (147)\ttotal: 2m 15s\tremaining: 908ms\n",
            "149:\tlearn: 0.7967589\ttest: 0.7815820\tbest: 0.7820168 (147)\ttotal: 2m 16s\tremaining: 0us\n",
            "\n",
            "bestTest = 0.7820167877\n",
            "bestIteration = 147\n",
            "\n",
            "8:\tloss: 0.7820168\tbest: 0.7820168 (8)\ttotal: 9m 58s\tremaining: 0us\n",
            "Estimating final quality...\n",
            "Training on fold [0/3]\n",
            "0:\tlearn: 0.5442660\ttest: 0.5453238\tbest: 0.5453238 (0)\ttotal: 754ms\tremaining: 1m 52s\n",
            "1:\tlearn: 0.5769728\ttest: 0.5743963\tbest: 0.5743963 (1)\ttotal: 1.49s\tremaining: 1m 49s\n",
            "2:\tlearn: 0.5797967\ttest: 0.5815604\tbest: 0.5815604 (2)\ttotal: 2.17s\tremaining: 1m 46s\n",
            "3:\tlearn: 0.5769125\ttest: 0.5784265\tbest: 0.5815604 (2)\ttotal: 2.87s\tremaining: 1m 44s\n",
            "4:\tlearn: 0.6061123\ttest: 0.6039880\tbest: 0.6039880 (4)\ttotal: 3.58s\tremaining: 1m 43s\n",
            "5:\tlearn: 0.6062014\ttest: 0.6041551\tbest: 0.6041551 (5)\ttotal: 4.3s\tremaining: 1m 43s\n",
            "6:\tlearn: 0.6105678\ttest: 0.6076865\tbest: 0.6076865 (6)\ttotal: 5s\tremaining: 1m 42s\n",
            "7:\tlearn: 0.6128104\ttest: 0.6084843\tbest: 0.6084843 (7)\ttotal: 5.7s\tremaining: 1m 41s\n",
            "8:\tlearn: 0.6125985\ttest: 0.6089082\tbest: 0.6089082 (8)\ttotal: 6.4s\tremaining: 1m 40s\n",
            "9:\tlearn: 0.6301924\ttest: 0.6230471\tbest: 0.6230471 (9)\ttotal: 7.1s\tremaining: 1m 39s\n",
            "10:\tlearn: 0.6325957\ttest: 0.6241621\tbest: 0.6241621 (10)\ttotal: 7.8s\tremaining: 1m 38s\n",
            "11:\tlearn: 0.6324307\ttest: 0.6245200\tbest: 0.6245200 (11)\ttotal: 8.56s\tremaining: 1m 38s\n",
            "12:\tlearn: 0.6647162\ttest: 0.6593880\tbest: 0.6593880 (12)\ttotal: 9.24s\tremaining: 1m 37s\n",
            "13:\tlearn: 0.6648730\ttest: 0.6587185\tbest: 0.6593880 (12)\ttotal: 9.91s\tremaining: 1m 36s\n",
            "14:\tlearn: 0.6650298\ttest: 0.6588585\tbest: 0.6593880 (12)\ttotal: 10.6s\tremaining: 1m 35s\n",
            "15:\tlearn: 0.6658455\ttest: 0.6599347\tbest: 0.6599347 (15)\ttotal: 11.3s\tremaining: 1m 34s\n",
            "16:\tlearn: 0.6658899\ttest: 0.6599102\tbest: 0.6599347 (15)\ttotal: 12s\tremaining: 1m 33s\n",
            "17:\tlearn: 0.6663088\ttest: 0.6606273\tbest: 0.6606273 (17)\ttotal: 12.7s\tremaining: 1m 33s\n",
            "18:\tlearn: 0.6664775\ttest: 0.6606395\tbest: 0.6606395 (18)\ttotal: 13.4s\tremaining: 1m 32s\n",
            "19:\tlearn: 0.6668838\ttest: 0.6612827\tbest: 0.6612827 (19)\ttotal: 14s\tremaining: 1m 31s\n",
            "20:\tlearn: 0.6666585\ttest: 0.6613071\tbest: 0.6613071 (20)\ttotal: 14.7s\tremaining: 1m 30s\n",
            "21:\tlearn: 0.6844232\ttest: 0.6807362\tbest: 0.6807362 (21)\ttotal: 15.4s\tremaining: 1m 29s\n",
            "22:\tlearn: 0.6925643\ttest: 0.6890722\tbest: 0.6890722 (22)\ttotal: 16.1s\tremaining: 1m 28s\n",
            "23:\tlearn: 0.6929962\ttest: 0.6890596\tbest: 0.6890722 (22)\ttotal: 16.8s\tremaining: 1m 28s\n",
            "24:\tlearn: 0.6926957\ttest: 0.6889023\tbest: 0.6890722 (22)\ttotal: 17.5s\tremaining: 1m 27s\n",
            "25:\tlearn: 0.7000950\ttest: 0.6970287\tbest: 0.6970287 (25)\ttotal: 18.2s\tremaining: 1m 27s\n",
            "26:\tlearn: 0.7082554\ttest: 0.7040107\tbest: 0.7040107 (26)\ttotal: 18.9s\tremaining: 1m 26s\n",
            "27:\tlearn: 0.7083510\ttest: 0.7041774\tbest: 0.7041774 (27)\ttotal: 19.6s\tremaining: 1m 25s\n",
            "28:\tlearn: 0.7080574\ttest: 0.7037281\tbest: 0.7041774 (27)\ttotal: 20.2s\tremaining: 1m 24s\n",
            "29:\tlearn: 0.7088549\ttest: 0.7048959\tbest: 0.7048959 (29)\ttotal: 20.9s\tremaining: 1m 23s\n",
            "30:\tlearn: 0.7087784\ttest: 0.7050497\tbest: 0.7050497 (30)\ttotal: 21.6s\tremaining: 1m 22s\n",
            "31:\tlearn: 0.7141261\ttest: 0.7090366\tbest: 0.7090366 (31)\ttotal: 22.2s\tremaining: 1m 22s\n",
            "32:\tlearn: 0.7155914\ttest: 0.7099787\tbest: 0.7099787 (32)\ttotal: 22.9s\tremaining: 1m 21s\n",
            "33:\tlearn: 0.7155914\ttest: 0.7099787\tbest: 0.7099787 (32)\ttotal: 23.6s\tremaining: 1m 20s\n",
            "34:\tlearn: 0.7185717\ttest: 0.7122141\tbest: 0.7122141 (34)\ttotal: 24.3s\tremaining: 1m 19s\n",
            "35:\tlearn: 0.7252902\ttest: 0.7174839\tbest: 0.7174839 (35)\ttotal: 25s\tremaining: 1m 19s\n",
            "36:\tlearn: 0.7249160\ttest: 0.7172455\tbest: 0.7174839 (35)\ttotal: 25.7s\tremaining: 1m 18s\n",
            "37:\tlearn: 0.7262805\ttest: 0.7193565\tbest: 0.7193565 (37)\ttotal: 26.4s\tremaining: 1m 17s\n",
            "38:\tlearn: 0.7263462\ttest: 0.7192669\tbest: 0.7193565 (37)\ttotal: 27s\tremaining: 1m 16s\n",
            "39:\tlearn: 0.7270798\ttest: 0.7192540\tbest: 0.7193565 (37)\ttotal: 27.7s\tremaining: 1m 16s\n",
            "40:\tlearn: 0.7273744\ttest: 0.7190294\tbest: 0.7193565 (37)\ttotal: 28.4s\tremaining: 1m 15s\n",
            "41:\tlearn: 0.7268869\ttest: 0.7186280\tbest: 0.7193565 (37)\ttotal: 29.1s\tremaining: 1m 14s\n",
            "42:\tlearn: 0.7343704\ttest: 0.7256284\tbest: 0.7256284 (42)\ttotal: 29.8s\tremaining: 1m 14s\n",
            "43:\tlearn: 0.7350831\ttest: 0.7264442\tbest: 0.7264442 (43)\ttotal: 30.5s\tremaining: 1m 13s\n",
            "44:\tlearn: 0.7345023\ttest: 0.7262939\tbest: 0.7264442 (43)\ttotal: 31.2s\tremaining: 1m 12s\n",
            "45:\tlearn: 0.7343744\ttest: 0.7263068\tbest: 0.7264442 (43)\ttotal: 31.9s\tremaining: 1m 12s\n",
            "46:\tlearn: 0.7346561\ttest: 0.7267404\tbest: 0.7267404 (46)\ttotal: 32.6s\tremaining: 1m 11s\n",
            "47:\tlearn: 0.7357191\ttest: 0.7275424\tbest: 0.7275424 (47)\ttotal: 33.2s\tremaining: 1m 10s\n",
            "48:\tlearn: 0.7437873\ttest: 0.7376191\tbest: 0.7376191 (48)\ttotal: 34s\tremaining: 1m 9s\n",
            "49:\tlearn: 0.7394102\ttest: 0.7323008\tbest: 0.7376191 (48)\ttotal: 34.6s\tremaining: 1m 9s\n",
            "50:\tlearn: 0.7397572\ttest: 0.7330813\tbest: 0.7376191 (48)\ttotal: 35.3s\tremaining: 1m 8s\n",
            "51:\tlearn: 0.7399097\ttest: 0.7333886\tbest: 0.7376191 (48)\ttotal: 36s\tremaining: 1m 7s\n",
            "52:\tlearn: 0.7399032\ttest: 0.7335358\tbest: 0.7376191 (48)\ttotal: 36.7s\tremaining: 1m 7s\n",
            "53:\tlearn: 0.7495321\ttest: 0.7414894\tbest: 0.7414894 (53)\ttotal: 37.4s\tremaining: 1m 6s\n",
            "54:\tlearn: 0.7588444\ttest: 0.7469430\tbest: 0.7469430 (54)\ttotal: 38.1s\tremaining: 1m 5s\n",
            "55:\tlearn: 0.7593984\ttest: 0.7473876\tbest: 0.7473876 (55)\ttotal: 38.8s\tremaining: 1m 5s\n",
            "56:\tlearn: 0.7600542\ttest: 0.7483154\tbest: 0.7483154 (56)\ttotal: 39.6s\tremaining: 1m 4s\n",
            "57:\tlearn: 0.7602403\ttest: 0.7485634\tbest: 0.7485634 (57)\ttotal: 40.3s\tremaining: 1m 3s\n",
            "58:\tlearn: 0.7625274\ttest: 0.7514304\tbest: 0.7514304 (58)\ttotal: 40.9s\tremaining: 1m 3s\n",
            "59:\tlearn: 0.7627769\ttest: 0.7516904\tbest: 0.7516904 (59)\ttotal: 41.6s\tremaining: 1m 2s\n",
            "60:\tlearn: 0.7569125\ttest: 0.7457325\tbest: 0.7516904 (59)\ttotal: 42.3s\tremaining: 1m 1s\n",
            "61:\tlearn: 0.7689569\ttest: 0.7578993\tbest: 0.7578993 (61)\ttotal: 43s\tremaining: 1m 1s\n",
            "62:\tlearn: 0.7621064\ttest: 0.7495307\tbest: 0.7578993 (61)\ttotal: 43.7s\tremaining: 1m\n",
            "63:\tlearn: 0.7619451\ttest: 0.7499750\tbest: 0.7578993 (61)\ttotal: 44.5s\tremaining: 59.8s\n",
            "64:\tlearn: 0.7625030\ttest: 0.7510323\tbest: 0.7578993 (61)\ttotal: 45.2s\tremaining: 59.1s\n",
            "65:\tlearn: 0.7625294\ttest: 0.7506542\tbest: 0.7578993 (61)\ttotal: 45.9s\tremaining: 58.5s\n",
            "66:\tlearn: 0.7628881\ttest: 0.7507322\tbest: 0.7578993 (61)\ttotal: 46.6s\tremaining: 57.8s\n",
            "67:\tlearn: 0.7693103\ttest: 0.7587361\tbest: 0.7587361 (67)\ttotal: 47.3s\tremaining: 57.1s\n",
            "68:\tlearn: 0.7725171\ttest: 0.7620883\tbest: 0.7620883 (68)\ttotal: 48.1s\tremaining: 56.5s\n",
            "69:\tlearn: 0.7734453\ttest: 0.7623572\tbest: 0.7623572 (69)\ttotal: 48.8s\tremaining: 55.8s\n",
            "70:\tlearn: 0.7713287\ttest: 0.7608610\tbest: 0.7623572 (69)\ttotal: 49.5s\tremaining: 55.1s\n",
            "71:\tlearn: 0.7714717\ttest: 0.7609496\tbest: 0.7623572 (69)\ttotal: 50.2s\tremaining: 54.4s\n",
            "72:\tlearn: 0.7712655\ttest: 0.7609136\tbest: 0.7623572 (69)\ttotal: 50.8s\tremaining: 53.6s\n",
            "73:\tlearn: 0.7722113\ttest: 0.7613409\tbest: 0.7623572 (69)\ttotal: 51.5s\tremaining: 52.9s\n",
            "74:\tlearn: 0.7722311\ttest: 0.7616629\tbest: 0.7623572 (69)\ttotal: 52.2s\tremaining: 52.2s\n",
            "75:\tlearn: 0.7722872\ttest: 0.7616007\tbest: 0.7623572 (69)\ttotal: 52.9s\tremaining: 51.5s\n",
            "76:\tlearn: 0.7736308\ttest: 0.7621749\tbest: 0.7623572 (69)\ttotal: 53.6s\tremaining: 50.8s\n",
            "77:\tlearn: 0.7739854\ttest: 0.7624758\tbest: 0.7624758 (77)\ttotal: 54.3s\tremaining: 50.1s\n",
            "78:\tlearn: 0.7741047\ttest: 0.7623292\tbest: 0.7624758 (77)\ttotal: 55s\tremaining: 49.4s\n",
            "79:\tlearn: 0.7762653\ttest: 0.7648434\tbest: 0.7648434 (79)\ttotal: 55.7s\tremaining: 48.7s\n",
            "80:\tlearn: 0.7776723\ttest: 0.7660074\tbest: 0.7660074 (80)\ttotal: 56.4s\tremaining: 48s\n",
            "81:\tlearn: 0.7781355\ttest: 0.7666469\tbest: 0.7666469 (81)\ttotal: 57.1s\tremaining: 47.3s\n",
            "82:\tlearn: 0.7782361\ttest: 0.7674060\tbest: 0.7674060 (82)\ttotal: 57.8s\tremaining: 46.6s\n",
            "83:\tlearn: 0.7771627\ttest: 0.7662391\tbest: 0.7674060 (82)\ttotal: 58.5s\tremaining: 46s\n",
            "84:\tlearn: 0.7759244\ttest: 0.7652125\tbest: 0.7674060 (82)\ttotal: 59.2s\tremaining: 45.2s\n",
            "85:\tlearn: 0.7774532\ttest: 0.7670991\tbest: 0.7674060 (82)\ttotal: 59.9s\tremaining: 44.5s\n",
            "86:\tlearn: 0.7773433\ttest: 0.7668218\tbest: 0.7674060 (82)\ttotal: 1m\tremaining: 43.9s\n",
            "87:\tlearn: 0.7794887\ttest: 0.7694692\tbest: 0.7694692 (87)\ttotal: 1m 1s\tremaining: 43.2s\n",
            "88:\tlearn: 0.7794993\ttest: 0.7696675\tbest: 0.7696675 (88)\ttotal: 1m 1s\tremaining: 42.5s\n",
            "89:\tlearn: 0.7804416\ttest: 0.7700133\tbest: 0.7700133 (89)\ttotal: 1m 2s\tremaining: 41.7s\n",
            "90:\tlearn: 0.7772711\ttest: 0.7663315\tbest: 0.7700133 (89)\ttotal: 1m 3s\tremaining: 41s\n",
            "91:\tlearn: 0.7794873\ttest: 0.7675197\tbest: 0.7700133 (89)\ttotal: 1m 3s\tremaining: 40.3s\n",
            "92:\tlearn: 0.7797080\ttest: 0.7671387\tbest: 0.7700133 (89)\ttotal: 1m 4s\tremaining: 39.6s\n",
            "93:\tlearn: 0.7794514\ttest: 0.7673318\tbest: 0.7700133 (89)\ttotal: 1m 5s\tremaining: 38.9s\n",
            "94:\tlearn: 0.7796256\ttest: 0.7673450\tbest: 0.7700133 (89)\ttotal: 1m 6s\tremaining: 38.2s\n",
            "95:\tlearn: 0.7798197\ttest: 0.7675990\tbest: 0.7700133 (89)\ttotal: 1m 6s\tremaining: 37.5s\n",
            "96:\tlearn: 0.7798713\ttest: 0.7686166\tbest: 0.7700133 (89)\ttotal: 1m 7s\tremaining: 36.8s\n",
            "97:\tlearn: 0.7822907\ttest: 0.7703285\tbest: 0.7703285 (97)\ttotal: 1m 8s\tremaining: 36.2s\n",
            "98:\tlearn: 0.7847896\ttest: 0.7721494\tbest: 0.7721494 (98)\ttotal: 1m 8s\tremaining: 35.4s\n",
            "99:\tlearn: 0.7831215\ttest: 0.7697845\tbest: 0.7721494 (98)\ttotal: 1m 9s\tremaining: 34.7s\n",
            "100:\tlearn: 0.7820198\ttest: 0.7684207\tbest: 0.7721494 (98)\ttotal: 1m 10s\tremaining: 34s\n",
            "101:\tlearn: 0.7819157\ttest: 0.7681696\tbest: 0.7721494 (98)\ttotal: 1m 10s\tremaining: 33.3s\n",
            "102:\tlearn: 0.7821712\ttest: 0.7684284\tbest: 0.7721494 (98)\ttotal: 1m 11s\tremaining: 32.7s\n",
            "103:\tlearn: 0.7825643\ttest: 0.7690613\tbest: 0.7721494 (98)\ttotal: 1m 12s\tremaining: 32s\n",
            "104:\tlearn: 0.7824399\ttest: 0.7690008\tbest: 0.7721494 (98)\ttotal: 1m 12s\tremaining: 31.3s\n",
            "105:\tlearn: 0.7843877\ttest: 0.7710023\tbest: 0.7721494 (98)\ttotal: 1m 13s\tremaining: 30.6s\n",
            "106:\tlearn: 0.7844411\ttest: 0.7713606\tbest: 0.7721494 (98)\ttotal: 1m 14s\tremaining: 29.9s\n",
            "107:\tlearn: 0.7867657\ttest: 0.7727801\tbest: 0.7727801 (107)\ttotal: 1m 14s\tremaining: 29.2s\n",
            "108:\tlearn: 0.7867990\ttest: 0.7729325\tbest: 0.7729325 (108)\ttotal: 1m 15s\tremaining: 28.5s\n",
            "109:\tlearn: 0.7865115\ttest: 0.7732506\tbest: 0.7732506 (109)\ttotal: 1m 16s\tremaining: 27.8s\n",
            "110:\tlearn: 0.7868894\ttest: 0.7735156\tbest: 0.7735156 (110)\ttotal: 1m 17s\tremaining: 27.1s\n",
            "111:\tlearn: 0.7869228\ttest: 0.7732174\tbest: 0.7735156 (110)\ttotal: 1m 17s\tremaining: 26.4s\n",
            "112:\tlearn: 0.7873072\ttest: 0.7742176\tbest: 0.7742176 (112)\ttotal: 1m 18s\tremaining: 25.7s\n",
            "113:\tlearn: 0.7873210\ttest: 0.7742438\tbest: 0.7742438 (113)\ttotal: 1m 19s\tremaining: 25s\n",
            "114:\tlearn: 0.7872726\ttest: 0.7743233\tbest: 0.7743233 (114)\ttotal: 1m 19s\tremaining: 24.3s\n",
            "115:\tlearn: 0.7874913\ttest: 0.7749516\tbest: 0.7749516 (115)\ttotal: 1m 20s\tremaining: 23.6s\n",
            "116:\tlearn: 0.7887448\ttest: 0.7761343\tbest: 0.7761343 (116)\ttotal: 1m 21s\tremaining: 22.9s\n",
            "117:\tlearn: 0.7887830\ttest: 0.7761933\tbest: 0.7761933 (117)\ttotal: 1m 21s\tremaining: 22.2s\n",
            "118:\tlearn: 0.7893112\ttest: 0.7766947\tbest: 0.7766947 (118)\ttotal: 1m 22s\tremaining: 21.5s\n",
            "119:\tlearn: 0.7892614\ttest: 0.7767154\tbest: 0.7767154 (119)\ttotal: 1m 23s\tremaining: 20.8s\n",
            "120:\tlearn: 0.7913226\ttest: 0.7794568\tbest: 0.7794568 (120)\ttotal: 1m 23s\tremaining: 20.1s\n",
            "121:\tlearn: 0.7925894\ttest: 0.7804420\tbest: 0.7804420 (121)\ttotal: 1m 24s\tremaining: 19.4s\n",
            "122:\tlearn: 0.7927725\ttest: 0.7800861\tbest: 0.7804420 (121)\ttotal: 1m 25s\tremaining: 18.7s\n",
            "123:\tlearn: 0.7925025\ttest: 0.7800197\tbest: 0.7804420 (121)\ttotal: 1m 25s\tremaining: 18s\n",
            "124:\tlearn: 0.7928351\ttest: 0.7801976\tbest: 0.7804420 (121)\ttotal: 1m 26s\tremaining: 17.3s\n",
            "125:\tlearn: 0.7929980\ttest: 0.7803622\tbest: 0.7804420 (121)\ttotal: 1m 27s\tremaining: 16.6s\n",
            "126:\tlearn: 0.7945962\ttest: 0.7817548\tbest: 0.7817548 (126)\ttotal: 1m 27s\tremaining: 15.9s\n",
            "127:\tlearn: 0.7946853\ttest: 0.7824171\tbest: 0.7824171 (127)\ttotal: 1m 28s\tremaining: 15.2s\n",
            "128:\tlearn: 0.7965698\ttest: 0.7843292\tbest: 0.7843292 (128)\ttotal: 1m 29s\tremaining: 14.5s\n",
            "129:\tlearn: 0.7968477\ttest: 0.7845773\tbest: 0.7845773 (129)\ttotal: 1m 29s\tremaining: 13.8s\n",
            "130:\tlearn: 0.7969215\ttest: 0.7848386\tbest: 0.7848386 (130)\ttotal: 1m 30s\tremaining: 13.1s\n",
            "131:\tlearn: 0.7970429\ttest: 0.7847413\tbest: 0.7848386 (130)\ttotal: 1m 31s\tremaining: 12.4s\n",
            "132:\tlearn: 0.7972664\ttest: 0.7852331\tbest: 0.7852331 (132)\ttotal: 1m 31s\tremaining: 11.8s\n",
            "133:\tlearn: 0.7973617\ttest: 0.7853037\tbest: 0.7853037 (133)\ttotal: 1m 32s\tremaining: 11.1s\n",
            "134:\tlearn: 0.7975978\ttest: 0.7856314\tbest: 0.7856314 (134)\ttotal: 1m 33s\tremaining: 10.4s\n",
            "135:\tlearn: 0.7964903\ttest: 0.7847064\tbest: 0.7856314 (134)\ttotal: 1m 33s\tremaining: 9.67s\n",
            "136:\tlearn: 0.7976708\ttest: 0.7858448\tbest: 0.7858448 (136)\ttotal: 1m 34s\tremaining: 8.98s\n",
            "137:\tlearn: 0.7979560\ttest: 0.7857914\tbest: 0.7858448 (136)\ttotal: 1m 35s\tremaining: 8.28s\n",
            "138:\tlearn: 0.7982002\ttest: 0.7860258\tbest: 0.7860258 (138)\ttotal: 1m 35s\tremaining: 7.59s\n",
            "139:\tlearn: 0.7979493\ttest: 0.7858353\tbest: 0.7860258 (138)\ttotal: 1m 36s\tremaining: 6.9s\n",
            "140:\tlearn: 0.7962331\ttest: 0.7841659\tbest: 0.7860258 (138)\ttotal: 1m 37s\tremaining: 6.21s\n",
            "141:\tlearn: 0.7978554\ttest: 0.7858353\tbest: 0.7860258 (138)\ttotal: 1m 38s\tremaining: 5.52s\n",
            "142:\tlearn: 0.7963688\ttest: 0.7845383\tbest: 0.7860258 (138)\ttotal: 1m 38s\tremaining: 4.83s\n",
            "143:\tlearn: 0.7967349\ttest: 0.7850478\tbest: 0.7860258 (138)\ttotal: 1m 39s\tremaining: 4.14s\n",
            "144:\tlearn: 0.7971351\ttest: 0.7854730\tbest: 0.7860258 (138)\ttotal: 1m 40s\tremaining: 3.45s\n",
            "145:\tlearn: 0.7973929\ttest: 0.7856636\tbest: 0.7860258 (138)\ttotal: 1m 40s\tremaining: 2.76s\n",
            "146:\tlearn: 0.7974741\ttest: 0.7860886\tbest: 0.7860886 (146)\ttotal: 1m 41s\tremaining: 2.07s\n",
            "147:\tlearn: 0.7989852\ttest: 0.7868848\tbest: 0.7868848 (147)\ttotal: 1m 42s\tremaining: 1.38s\n",
            "148:\tlearn: 0.7991547\ttest: 0.7867781\tbest: 0.7868848 (147)\ttotal: 1m 42s\tremaining: 690ms\n",
            "149:\tlearn: 0.7993113\ttest: 0.7869722\tbest: 0.7869722 (149)\ttotal: 1m 43s\tremaining: 0us\n",
            "\n",
            "bestTest = 0.7869721967\n",
            "bestIteration = 149\n",
            "\n",
            "Training on fold [1/3]\n",
            "0:\tlearn: 0.5740662\ttest: 0.5810374\tbest: 0.5810374 (0)\ttotal: 894ms\tremaining: 2m 13s\n",
            "1:\tlearn: 0.5758620\ttest: 0.5828518\tbest: 0.5828518 (1)\ttotal: 1.59s\tremaining: 1m 57s\n",
            "2:\tlearn: 0.5758620\ttest: 0.5828518\tbest: 0.5828518 (1)\ttotal: 2.29s\tremaining: 1m 52s\n",
            "3:\tlearn: 0.6002671\ttest: 0.6040138\tbest: 0.6040138 (3)\ttotal: 3.02s\tremaining: 1m 50s\n",
            "4:\tlearn: 0.5991437\ttest: 0.6028082\tbest: 0.6040138 (3)\ttotal: 3.76s\tremaining: 1m 49s\n",
            "5:\tlearn: 0.6253818\ttest: 0.6301178\tbest: 0.6301178 (5)\ttotal: 4.49s\tremaining: 1m 47s\n",
            "6:\tlearn: 0.6274631\ttest: 0.6326648\tbest: 0.6326648 (6)\ttotal: 5.2s\tremaining: 1m 46s\n",
            "7:\tlearn: 0.6253818\ttest: 0.6297743\tbest: 0.6326648 (6)\ttotal: 5.96s\tremaining: 1m 45s\n",
            "8:\tlearn: 0.6281226\ttest: 0.6331540\tbest: 0.6331540 (8)\ttotal: 6.67s\tremaining: 1m 44s\n",
            "9:\tlearn: 0.6281167\ttest: 0.6333249\tbest: 0.6333249 (9)\ttotal: 7.37s\tremaining: 1m 43s\n",
            "10:\tlearn: 0.6282920\ttest: 0.6334957\tbest: 0.6334957 (10)\ttotal: 8.12s\tremaining: 1m 42s\n",
            "11:\tlearn: 0.6280515\ttest: 0.6335195\tbest: 0.6335195 (11)\ttotal: 8.85s\tremaining: 1m 41s\n",
            "12:\tlearn: 0.6282505\ttest: 0.6337301\tbest: 0.6337301 (12)\ttotal: 9.56s\tremaining: 1m 40s\n",
            "13:\tlearn: 0.6433961\ttest: 0.6487055\tbest: 0.6487055 (13)\ttotal: 10.3s\tremaining: 1m 40s\n",
            "14:\tlearn: 0.6449732\ttest: 0.6507383\tbest: 0.6507383 (14)\ttotal: 11.1s\tremaining: 1m 39s\n",
            "15:\tlearn: 0.6458409\ttest: 0.6513912\tbest: 0.6513912 (15)\ttotal: 11.8s\tremaining: 1m 39s\n",
            "16:\tlearn: 0.6598185\ttest: 0.6686489\tbest: 0.6686489 (16)\ttotal: 12.6s\tremaining: 1m 38s\n",
            "17:\tlearn: 0.6597364\ttest: 0.6684991\tbest: 0.6686489 (16)\ttotal: 13.3s\tremaining: 1m 37s\n",
            "18:\tlearn: 0.6704034\ttest: 0.6777935\tbest: 0.6777935 (18)\ttotal: 14.1s\tremaining: 1m 36s\n",
            "19:\tlearn: 0.6703287\ttest: 0.6779411\tbest: 0.6779411 (19)\ttotal: 14.8s\tremaining: 1m 36s\n",
            "20:\tlearn: 0.6708014\ttest: 0.6785436\tbest: 0.6785436 (20)\ttotal: 15.6s\tremaining: 1m 35s\n",
            "21:\tlearn: 0.6819885\ttest: 0.6890647\tbest: 0.6890647 (21)\ttotal: 16.3s\tremaining: 1m 34s\n",
            "22:\tlearn: 0.6833741\ttest: 0.6898138\tbest: 0.6898138 (22)\ttotal: 17s\tremaining: 1m 33s\n",
            "23:\tlearn: 0.6833197\ttest: 0.6898388\tbest: 0.6898388 (23)\ttotal: 17.8s\tremaining: 1m 33s\n",
            "24:\tlearn: 0.6831066\ttest: 0.6895744\tbest: 0.6898388 (23)\ttotal: 18.5s\tremaining: 1m 32s\n",
            "25:\tlearn: 0.6827471\ttest: 0.6897693\tbest: 0.6898388 (23)\ttotal: 19.2s\tremaining: 1m 31s\n",
            "26:\tlearn: 0.6833554\ttest: 0.6909637\tbest: 0.6909637 (26)\ttotal: 20s\tremaining: 1m 30s\n",
            "27:\tlearn: 0.6831236\ttest: 0.6911207\tbest: 0.6911207 (27)\ttotal: 20.8s\tremaining: 1m 30s\n",
            "28:\tlearn: 0.6899380\ttest: 0.6990325\tbest: 0.6990325 (28)\ttotal: 21.5s\tremaining: 1m 29s\n",
            "29:\tlearn: 0.6980556\ttest: 0.7090986\tbest: 0.7090986 (29)\ttotal: 22.2s\tremaining: 1m 28s\n",
            "30:\tlearn: 0.6984851\ttest: 0.7093539\tbest: 0.7093539 (30)\ttotal: 23s\tremaining: 1m 28s\n",
            "31:\tlearn: 0.7068784\ttest: 0.7159591\tbest: 0.7159591 (31)\ttotal: 23.7s\tremaining: 1m 27s\n",
            "32:\tlearn: 0.7070444\ttest: 0.7162876\tbest: 0.7162876 (32)\ttotal: 24.4s\tremaining: 1m 26s\n",
            "33:\tlearn: 0.7111642\ttest: 0.7202176\tbest: 0.7202176 (33)\ttotal: 25.1s\tremaining: 1m 25s\n",
            "34:\tlearn: 0.7108597\ttest: 0.7202945\tbest: 0.7202945 (34)\ttotal: 25.9s\tremaining: 1m 24s\n",
            "35:\tlearn: 0.7165678\ttest: 0.7253602\tbest: 0.7253602 (35)\ttotal: 26.6s\tremaining: 1m 24s\n",
            "36:\tlearn: 0.7231416\ttest: 0.7334372\tbest: 0.7334372 (36)\ttotal: 27.3s\tremaining: 1m 23s\n",
            "37:\tlearn: 0.7235808\ttest: 0.7340838\tbest: 0.7340838 (37)\ttotal: 28.1s\tremaining: 1m 22s\n",
            "38:\tlearn: 0.7247679\ttest: 0.7358373\tbest: 0.7358373 (38)\ttotal: 28.8s\tremaining: 1m 22s\n",
            "39:\tlearn: 0.7248682\ttest: 0.7357984\tbest: 0.7358373 (38)\ttotal: 29.6s\tremaining: 1m 21s\n",
            "40:\tlearn: 0.7252187\ttest: 0.7369220\tbest: 0.7369220 (40)\ttotal: 30.4s\tremaining: 1m 20s\n",
            "41:\tlearn: 0.7252343\ttest: 0.7366110\tbest: 0.7369220 (40)\ttotal: 31.1s\tremaining: 1m 20s\n",
            "42:\tlearn: 0.7259197\ttest: 0.7377065\tbest: 0.7377065 (42)\ttotal: 31.9s\tremaining: 1m 19s\n",
            "43:\tlearn: 0.7229750\ttest: 0.7330151\tbest: 0.7377065 (42)\ttotal: 32.6s\tremaining: 1m 18s\n",
            "44:\tlearn: 0.7261125\ttest: 0.7360765\tbest: 0.7377065 (42)\ttotal: 33.3s\tremaining: 1m 17s\n",
            "45:\tlearn: 0.7340598\ttest: 0.7448204\tbest: 0.7448204 (45)\ttotal: 34s\tremaining: 1m 16s\n",
            "46:\tlearn: 0.7353533\ttest: 0.7463937\tbest: 0.7463937 (46)\ttotal: 34.7s\tremaining: 1m 16s\n",
            "47:\tlearn: 0.7360181\ttest: 0.7470670\tbest: 0.7470670 (47)\ttotal: 35.4s\tremaining: 1m 15s\n",
            "48:\tlearn: 0.7367558\ttest: 0.7477121\tbest: 0.7477121 (48)\ttotal: 36.1s\tremaining: 1m 14s\n",
            "49:\tlearn: 0.7373041\ttest: 0.7484373\tbest: 0.7484373 (49)\ttotal: 36.9s\tremaining: 1m 13s\n",
            "50:\tlearn: 0.7323137\ttest: 0.7431995\tbest: 0.7484373 (49)\ttotal: 37.6s\tremaining: 1m 12s\n",
            "51:\tlearn: 0.7328608\ttest: 0.7438354\tbest: 0.7484373 (49)\ttotal: 38.3s\tremaining: 1m 12s\n",
            "52:\tlearn: 0.7328514\ttest: 0.7449339\tbest: 0.7484373 (49)\ttotal: 39s\tremaining: 1m 11s\n",
            "53:\tlearn: 0.7373892\ttest: 0.7520657\tbest: 0.7520657 (53)\ttotal: 39.7s\tremaining: 1m 10s\n",
            "54:\tlearn: 0.7375060\ttest: 0.7517647\tbest: 0.7520657 (53)\ttotal: 40.5s\tremaining: 1m 9s\n",
            "55:\tlearn: 0.7444969\ttest: 0.7593218\tbest: 0.7593218 (55)\ttotal: 41.2s\tremaining: 1m 9s\n",
            "56:\tlearn: 0.7446403\ttest: 0.7591033\tbest: 0.7593218 (55)\ttotal: 42s\tremaining: 1m 8s\n",
            "57:\tlearn: 0.7444827\ttest: 0.7587796\tbest: 0.7593218 (55)\ttotal: 42.7s\tremaining: 1m 7s\n",
            "58:\tlearn: 0.7447398\ttest: 0.7595796\tbest: 0.7595796 (58)\ttotal: 43.5s\tremaining: 1m 7s\n",
            "59:\tlearn: 0.7447985\ttest: 0.7593243\tbest: 0.7595796 (58)\ttotal: 44.3s\tremaining: 1m 6s\n",
            "60:\tlearn: 0.7452078\ttest: 0.7596532\tbest: 0.7596532 (60)\ttotal: 45s\tremaining: 1m 5s\n",
            "61:\tlearn: 0.7495595\ttest: 0.7638474\tbest: 0.7638474 (61)\ttotal: 45.7s\tremaining: 1m 4s\n",
            "62:\tlearn: 0.7494880\ttest: 0.7637628\tbest: 0.7638474 (61)\ttotal: 46.4s\tremaining: 1m 4s\n",
            "63:\tlearn: 0.7493379\ttest: 0.7633031\tbest: 0.7638474 (61)\ttotal: 47.1s\tremaining: 1m 3s\n",
            "64:\tlearn: 0.7498141\ttest: 0.7640358\tbest: 0.7640358 (64)\ttotal: 47.8s\tremaining: 1m 2s\n",
            "65:\tlearn: 0.7495923\ttest: 0.7638682\tbest: 0.7640358 (64)\ttotal: 48.5s\tremaining: 1m 1s\n",
            "66:\tlearn: 0.7494553\ttest: 0.7639567\tbest: 0.7640358 (64)\ttotal: 49.3s\tremaining: 1m 1s\n",
            "67:\tlearn: 0.7497033\ttest: 0.7644593\tbest: 0.7644593 (67)\ttotal: 50s\tremaining: 1m\n",
            "68:\tlearn: 0.7501927\ttest: 0.7650764\tbest: 0.7650764 (68)\ttotal: 50.7s\tremaining: 59.5s\n",
            "69:\tlearn: 0.7505576\ttest: 0.7653411\tbest: 0.7653411 (69)\ttotal: 51.4s\tremaining: 58.8s\n",
            "70:\tlearn: 0.7530041\ttest: 0.7676287\tbest: 0.7676287 (70)\ttotal: 52.1s\tremaining: 58s\n",
            "71:\tlearn: 0.7532881\ttest: 0.7675316\tbest: 0.7676287 (70)\ttotal: 52.8s\tremaining: 57.2s\n",
            "72:\tlearn: 0.7536387\ttest: 0.7680540\tbest: 0.7680540 (72)\ttotal: 53.5s\tremaining: 56.5s\n",
            "73:\tlearn: 0.7535352\ttest: 0.7681068\tbest: 0.7681068 (73)\ttotal: 54.2s\tremaining: 55.7s\n",
            "74:\tlearn: 0.7533583\ttest: 0.7677946\tbest: 0.7681068 (73)\ttotal: 54.9s\tremaining: 54.9s\n",
            "75:\tlearn: 0.7533969\ttest: 0.7678823\tbest: 0.7681068 (73)\ttotal: 55.6s\tremaining: 54.2s\n",
            "76:\tlearn: 0.7531375\ttest: 0.7677682\tbest: 0.7681068 (73)\ttotal: 56.4s\tremaining: 53.4s\n",
            "77:\tlearn: 0.7532082\ttest: 0.7681763\tbest: 0.7681763 (77)\ttotal: 57.1s\tremaining: 52.7s\n",
            "78:\tlearn: 0.7533321\ttest: 0.7683960\tbest: 0.7683960 (78)\ttotal: 57.8s\tremaining: 51.9s\n",
            "79:\tlearn: 0.7531178\ttest: 0.7684092\tbest: 0.7684092 (79)\ttotal: 58.5s\tremaining: 51.2s\n",
            "80:\tlearn: 0.7584450\ttest: 0.7736385\tbest: 0.7736385 (80)\ttotal: 59.2s\tremaining: 50.4s\n",
            "81:\tlearn: 0.7589134\ttest: 0.7739828\tbest: 0.7739828 (81)\ttotal: 59.9s\tremaining: 49.7s\n",
            "82:\tlearn: 0.7590103\ttest: 0.7738041\tbest: 0.7739828 (81)\ttotal: 1m\tremaining: 49s\n",
            "83:\tlearn: 0.7615952\ttest: 0.7756829\tbest: 0.7756829 (83)\ttotal: 1m 1s\tremaining: 48.2s\n",
            "84:\tlearn: 0.7616261\ttest: 0.7759073\tbest: 0.7759073 (84)\ttotal: 1m 2s\tremaining: 47.4s\n",
            "85:\tlearn: 0.7618507\ttest: 0.7765284\tbest: 0.7765284 (85)\ttotal: 1m 2s\tremaining: 46.7s\n",
            "86:\tlearn: 0.7622139\ttest: 0.7761980\tbest: 0.7765284 (85)\ttotal: 1m 3s\tremaining: 45.9s\n",
            "87:\tlearn: 0.7620842\ttest: 0.7762835\tbest: 0.7765284 (85)\ttotal: 1m 4s\tremaining: 45.2s\n",
            "88:\tlearn: 0.7626761\ttest: 0.7764679\tbest: 0.7765284 (85)\ttotal: 1m 4s\tremaining: 44.4s\n",
            "89:\tlearn: 0.7626452\ttest: 0.7763824\tbest: 0.7765284 (85)\ttotal: 1m 5s\tremaining: 43.7s\n",
            "90:\tlearn: 0.7621611\ttest: 0.7759324\tbest: 0.7765284 (85)\ttotal: 1m 6s\tremaining: 42.9s\n",
            "91:\tlearn: 0.7624784\ttest: 0.7764294\tbest: 0.7765284 (85)\ttotal: 1m 6s\tremaining: 42.2s\n",
            "92:\tlearn: 0.7646790\ttest: 0.7789568\tbest: 0.7789568 (92)\ttotal: 1m 7s\tremaining: 41.5s\n",
            "93:\tlearn: 0.7684267\ttest: 0.7828317\tbest: 0.7828317 (93)\ttotal: 1m 8s\tremaining: 40.7s\n",
            "94:\tlearn: 0.7683992\ttest: 0.7831471\tbest: 0.7831471 (94)\ttotal: 1m 9s\tremaining: 40s\n",
            "95:\tlearn: 0.7681960\ttest: 0.7827472\tbest: 0.7831471 (94)\ttotal: 1m 9s\tremaining: 39.2s\n",
            "96:\tlearn: 0.7685220\ttest: 0.7830893\tbest: 0.7831471 (94)\ttotal: 1m 10s\tremaining: 38.5s\n",
            "97:\tlearn: 0.7707496\ttest: 0.7853436\tbest: 0.7853436 (97)\ttotal: 1m 11s\tremaining: 37.8s\n",
            "98:\tlearn: 0.7705866\ttest: 0.7854102\tbest: 0.7854102 (98)\ttotal: 1m 11s\tremaining: 37s\n",
            "99:\tlearn: 0.7705866\ttest: 0.7859864\tbest: 0.7859864 (99)\ttotal: 1m 12s\tremaining: 36.3s\n",
            "100:\tlearn: 0.7710581\ttest: 0.7862744\tbest: 0.7862744 (100)\ttotal: 1m 13s\tremaining: 35.6s\n",
            "101:\tlearn: 0.7712877\ttest: 0.7860037\tbest: 0.7862744 (100)\ttotal: 1m 13s\tremaining: 34.8s\n",
            "102:\tlearn: 0.7715101\ttest: 0.7860437\tbest: 0.7862744 (100)\ttotal: 1m 14s\tremaining: 34.1s\n",
            "103:\tlearn: 0.7715101\ttest: 0.7864822\tbest: 0.7864822 (103)\ttotal: 1m 15s\tremaining: 33.3s\n",
            "104:\tlearn: 0.7699384\ttest: 0.7856276\tbest: 0.7864822 (103)\ttotal: 1m 15s\tremaining: 32.6s\n",
            "105:\tlearn: 0.7748435\ttest: 0.7892636\tbest: 0.7892636 (105)\ttotal: 1m 16s\tremaining: 31.8s\n",
            "106:\tlearn: 0.7764988\ttest: 0.7901145\tbest: 0.7901145 (106)\ttotal: 1m 17s\tremaining: 31.1s\n",
            "107:\tlearn: 0.7784409\ttest: 0.7928054\tbest: 0.7928054 (107)\ttotal: 1m 18s\tremaining: 30.4s\n",
            "108:\tlearn: 0.7786976\ttest: 0.7929418\tbest: 0.7929418 (108)\ttotal: 1m 18s\tremaining: 29.6s\n",
            "109:\tlearn: 0.7791032\ttest: 0.7928322\tbest: 0.7929418 (108)\ttotal: 1m 19s\tremaining: 28.9s\n",
            "110:\tlearn: 0.7793371\ttest: 0.7929685\tbest: 0.7929685 (110)\ttotal: 1m 20s\tremaining: 28.2s\n",
            "111:\tlearn: 0.7793238\ttest: 0.7930915\tbest: 0.7930915 (111)\ttotal: 1m 21s\tremaining: 27.5s\n",
            "112:\tlearn: 0.7790672\ttest: 0.7931877\tbest: 0.7931877 (112)\ttotal: 1m 21s\tremaining: 26.8s\n",
            "113:\tlearn: 0.7790114\ttest: 0.7930648\tbest: 0.7931877 (112)\ttotal: 1m 22s\tremaining: 26s\n",
            "114:\tlearn: 0.7813953\ttest: 0.7957877\tbest: 0.7957877 (114)\ttotal: 1m 23s\tremaining: 25.3s\n",
            "115:\tlearn: 0.7813571\ttest: 0.7956229\tbest: 0.7957877 (114)\ttotal: 1m 23s\tremaining: 24.6s\n",
            "116:\tlearn: 0.7838553\ttest: 0.7977296\tbest: 0.7977296 (116)\ttotal: 1m 24s\tremaining: 23.9s\n",
            "117:\tlearn: 0.7844564\ttest: 0.7978938\tbest: 0.7978938 (117)\ttotal: 1m 25s\tremaining: 23.1s\n",
            "118:\tlearn: 0.7848954\ttest: 0.7980696\tbest: 0.7980696 (118)\ttotal: 1m 26s\tremaining: 22.4s\n",
            "119:\tlearn: 0.7849908\ttest: 0.7979876\tbest: 0.7980696 (118)\ttotal: 1m 26s\tremaining: 21.7s\n",
            "120:\tlearn: 0.7844721\ttest: 0.7975922\tbest: 0.7980696 (118)\ttotal: 1m 27s\tremaining: 21s\n",
            "121:\tlearn: 0.7847205\ttest: 0.7978637\tbest: 0.7980696 (118)\ttotal: 1m 28s\tremaining: 20.2s\n",
            "122:\tlearn: 0.7847892\ttest: 0.7978503\tbest: 0.7980696 (118)\ttotal: 1m 28s\tremaining: 19.5s\n",
            "123:\tlearn: 0.7851261\ttest: 0.7982305\tbest: 0.7982305 (123)\ttotal: 1m 29s\tremaining: 18.8s\n",
            "124:\tlearn: 0.7854630\ttest: 0.7983930\tbest: 0.7983930 (124)\ttotal: 1m 30s\tremaining: 18.1s\n",
            "125:\tlearn: 0.7881649\ttest: 0.7988160\tbest: 0.7988160 (125)\ttotal: 1m 31s\tremaining: 17.4s\n",
            "126:\tlearn: 0.7881568\ttest: 0.7992207\tbest: 0.7992207 (126)\ttotal: 1m 31s\tremaining: 16.6s\n",
            "127:\tlearn: 0.7882584\ttest: 0.7993689\tbest: 0.7993689 (127)\ttotal: 1m 32s\tremaining: 15.9s\n",
            "128:\tlearn: 0.7862698\ttest: 0.7976134\tbest: 0.7993689 (127)\ttotal: 1m 33s\tremaining: 15.2s\n",
            "129:\tlearn: 0.7850603\ttest: 0.7965594\tbest: 0.7993689 (127)\ttotal: 1m 34s\tremaining: 14.5s\n",
            "130:\tlearn: 0.7853211\ttest: 0.7968438\tbest: 0.7993689 (127)\ttotal: 1m 34s\tremaining: 13.8s\n",
            "131:\tlearn: 0.7873980\ttest: 0.7982656\tbest: 0.7993689 (127)\ttotal: 1m 35s\tremaining: 13s\n",
            "132:\tlearn: 0.7877248\ttest: 0.7981840\tbest: 0.7993689 (127)\ttotal: 1m 36s\tremaining: 12.3s\n",
            "133:\tlearn: 0.7879447\ttest: 0.7980219\tbest: 0.7993689 (127)\ttotal: 1m 37s\tremaining: 11.6s\n",
            "134:\tlearn: 0.7870243\ttest: 0.7971683\tbest: 0.7993689 (127)\ttotal: 1m 37s\tremaining: 10.9s\n",
            "135:\tlearn: 0.7876081\ttest: 0.7980487\tbest: 0.7993689 (127)\ttotal: 1m 38s\tremaining: 10.1s\n",
            "136:\tlearn: 0.7877381\ttest: 0.7979537\tbest: 0.7993689 (127)\ttotal: 1m 39s\tremaining: 9.42s\n",
            "137:\tlearn: 0.7840451\ttest: 0.7954192\tbest: 0.7993689 (127)\ttotal: 1m 39s\tremaining: 8.69s\n",
            "138:\tlearn: 0.7839205\ttest: 0.7957053\tbest: 0.7993689 (127)\ttotal: 1m 40s\tremaining: 7.97s\n",
            "139:\tlearn: 0.7821435\ttest: 0.7944510\tbest: 0.7993689 (127)\ttotal: 1m 41s\tremaining: 7.24s\n",
            "140:\tlearn: 0.7824331\ttest: 0.7944912\tbest: 0.7993689 (127)\ttotal: 1m 42s\tremaining: 6.52s\n",
            "141:\tlearn: 0.7848984\ttest: 0.7950206\tbest: 0.7993689 (127)\ttotal: 1m 42s\tremaining: 5.79s\n",
            "142:\tlearn: 0.7848145\ttest: 0.7950474\tbest: 0.7993689 (127)\ttotal: 1m 43s\tremaining: 5.07s\n",
            "143:\tlearn: 0.7850042\ttest: 0.7949001\tbest: 0.7993689 (127)\ttotal: 1m 44s\tremaining: 4.35s\n",
            "144:\tlearn: 0.7852470\ttest: 0.7951868\tbest: 0.7993689 (127)\ttotal: 1m 45s\tremaining: 3.62s\n",
            "145:\tlearn: 0.7854697\ttest: 0.7955821\tbest: 0.7993689 (127)\ttotal: 1m 45s\tremaining: 2.9s\n",
            "146:\tlearn: 0.7843747\ttest: 0.7942956\tbest: 0.7993689 (127)\ttotal: 1m 46s\tremaining: 2.17s\n",
            "147:\tlearn: 0.7850974\ttest: 0.7955034\tbest: 0.7993689 (127)\ttotal: 1m 47s\tremaining: 1.45s\n",
            "148:\tlearn: 0.7851726\ttest: 0.7957746\tbest: 0.7993689 (127)\ttotal: 1m 47s\tremaining: 724ms\n",
            "149:\tlearn: 0.7854097\ttest: 0.7958416\tbest: 0.7993689 (127)\ttotal: 1m 48s\tremaining: 0us\n",
            "\n",
            "bestTest = 0.7993689398\n",
            "bestIteration = 127\n",
            "\n",
            "Training on fold [2/3]\n",
            "0:\tlearn: 0.5433354\ttest: 0.5377552\tbest: 0.5377552 (0)\ttotal: 803ms\tremaining: 1m 59s\n",
            "1:\tlearn: 0.5803993\ttest: 0.5793041\tbest: 0.5793041 (1)\ttotal: 1.55s\tremaining: 1m 54s\n",
            "2:\tlearn: 0.6111117\ttest: 0.6069046\tbest: 0.6069046 (2)\ttotal: 2.3s\tremaining: 1m 52s\n",
            "3:\tlearn: 0.6108700\ttest: 0.6065259\tbest: 0.6069046 (2)\ttotal: 3.04s\tremaining: 1m 51s\n",
            "4:\tlearn: 0.6114416\ttest: 0.6068236\tbest: 0.6069046 (2)\ttotal: 3.77s\tremaining: 1m 49s\n",
            "5:\tlearn: 0.6114416\ttest: 0.6068352\tbest: 0.6069046 (2)\ttotal: 4.53s\tremaining: 1m 48s\n",
            "6:\tlearn: 0.6334535\ttest: 0.6285136\tbest: 0.6285136 (6)\ttotal: 5.27s\tremaining: 1m 47s\n",
            "7:\tlearn: 0.6333006\ttest: 0.6287091\tbest: 0.6287091 (7)\ttotal: 6.03s\tremaining: 1m 47s\n",
            "8:\tlearn: 0.6320460\ttest: 0.6276354\tbest: 0.6287091 (7)\ttotal: 6.78s\tremaining: 1m 46s\n",
            "9:\tlearn: 0.6334773\ttest: 0.6285609\tbest: 0.6287091 (7)\ttotal: 7.53s\tremaining: 1m 45s\n",
            "10:\tlearn: 0.6334832\ttest: 0.6285609\tbest: 0.6287091 (7)\ttotal: 8.32s\tremaining: 1m 45s\n",
            "11:\tlearn: 0.6334832\ttest: 0.6285609\tbest: 0.6287091 (7)\ttotal: 9.04s\tremaining: 1m 43s\n",
            "12:\tlearn: 0.6334951\ttest: 0.6284009\tbest: 0.6287091 (7)\ttotal: 9.76s\tremaining: 1m 42s\n",
            "13:\tlearn: 0.6449111\ttest: 0.6402705\tbest: 0.6402705 (13)\ttotal: 10.5s\tremaining: 1m 41s\n",
            "14:\tlearn: 0.6586857\ttest: 0.6546297\tbest: 0.6546297 (14)\ttotal: 11.2s\tremaining: 1m 40s\n",
            "15:\tlearn: 0.6584511\ttest: 0.6543232\tbest: 0.6546297 (14)\ttotal: 11.9s\tremaining: 1m 39s\n",
            "16:\tlearn: 0.6691306\ttest: 0.6632975\tbest: 0.6632975 (16)\ttotal: 12.6s\tremaining: 1m 38s\n",
            "17:\tlearn: 0.6837590\ttest: 0.6796203\tbest: 0.6796203 (17)\ttotal: 13.4s\tremaining: 1m 38s\n",
            "18:\tlearn: 0.6846779\ttest: 0.6806970\tbest: 0.6806970 (18)\ttotal: 14.1s\tremaining: 1m 37s\n",
            "19:\tlearn: 0.6835106\ttest: 0.6798044\tbest: 0.6806970 (18)\ttotal: 14.9s\tremaining: 1m 36s\n",
            "20:\tlearn: 0.6928258\ttest: 0.6856599\tbest: 0.6856599 (20)\ttotal: 15.6s\tremaining: 1m 35s\n",
            "21:\tlearn: 0.6943262\ttest: 0.6866522\tbest: 0.6866522 (21)\ttotal: 16.3s\tremaining: 1m 34s\n",
            "22:\tlearn: 0.6949996\ttest: 0.6871127\tbest: 0.6871127 (22)\ttotal: 17s\tremaining: 1m 34s\n",
            "23:\tlearn: 0.6948814\ttest: 0.6866773\tbest: 0.6871127 (22)\ttotal: 17.7s\tremaining: 1m 33s\n",
            "24:\tlearn: 0.6960678\ttest: 0.6887816\tbest: 0.6887816 (24)\ttotal: 18.5s\tremaining: 1m 32s\n",
            "25:\tlearn: 0.7071409\ttest: 0.6975703\tbest: 0.6975703 (25)\ttotal: 19.2s\tremaining: 1m 31s\n",
            "26:\tlearn: 0.7070905\ttest: 0.6981693\tbest: 0.6981693 (26)\ttotal: 19.9s\tremaining: 1m 30s\n",
            "27:\tlearn: 0.7080227\ttest: 0.6987513\tbest: 0.6987513 (27)\ttotal: 20.7s\tremaining: 1m 30s\n",
            "28:\tlearn: 0.7075050\ttest: 0.6982414\tbest: 0.6987513 (27)\ttotal: 21.4s\tremaining: 1m 29s\n",
            "29:\tlearn: 0.7153655\ttest: 0.7056116\tbest: 0.7056116 (29)\ttotal: 22.1s\tremaining: 1m 28s\n",
            "30:\tlearn: 0.7153347\ttest: 0.7054841\tbest: 0.7056116 (29)\ttotal: 22.8s\tremaining: 1m 27s\n",
            "31:\tlearn: 0.7158746\ttest: 0.7060572\tbest: 0.7060572 (31)\ttotal: 23.5s\tremaining: 1m 26s\n",
            "32:\tlearn: 0.7167297\ttest: 0.7066425\tbest: 0.7066425 (32)\ttotal: 24.2s\tremaining: 1m 25s\n",
            "33:\tlearn: 0.7280998\ttest: 0.7156846\tbest: 0.7156846 (33)\ttotal: 24.9s\tremaining: 1m 25s\n",
            "34:\tlearn: 0.7280260\ttest: 0.7154234\tbest: 0.7156846 (33)\ttotal: 25.6s\tremaining: 1m 24s\n",
            "35:\tlearn: 0.7337901\ttest: 0.7222609\tbest: 0.7222609 (35)\ttotal: 26.4s\tremaining: 1m 23s\n",
            "36:\tlearn: 0.7338720\ttest: 0.7223838\tbest: 0.7223838 (36)\ttotal: 27.1s\tremaining: 1m 22s\n",
            "37:\tlearn: 0.7390376\ttest: 0.7263908\tbest: 0.7263908 (37)\ttotal: 27.8s\tremaining: 1m 21s\n",
            "38:\tlearn: 0.7425610\ttest: 0.7279765\tbest: 0.7279765 (38)\ttotal: 28.6s\tremaining: 1m 21s\n",
            "39:\tlearn: 0.7423228\ttest: 0.7282273\tbest: 0.7282273 (39)\ttotal: 29.3s\tremaining: 1m 20s\n",
            "40:\tlearn: 0.7396855\ttest: 0.7289999\tbest: 0.7289999 (40)\ttotal: 30s\tremaining: 1m 19s\n",
            "41:\tlearn: 0.7399645\ttest: 0.7293918\tbest: 0.7293918 (41)\ttotal: 30.7s\tremaining: 1m 18s\n",
            "42:\tlearn: 0.7403959\ttest: 0.7295654\tbest: 0.7295654 (42)\ttotal: 31.4s\tremaining: 1m 18s\n",
            "43:\tlearn: 0.7415689\ttest: 0.7295525\tbest: 0.7295654 (42)\ttotal: 32.1s\tremaining: 1m 17s\n",
            "44:\tlearn: 0.7418603\ttest: 0.7300085\tbest: 0.7300085 (44)\ttotal: 32.8s\tremaining: 1m 16s\n",
            "45:\tlearn: 0.7417744\ttest: 0.7300473\tbest: 0.7300473 (45)\ttotal: 33.5s\tremaining: 1m 15s\n",
            "46:\tlearn: 0.7420462\ttest: 0.7302208\tbest: 0.7302208 (46)\ttotal: 34.2s\tremaining: 1m 14s\n",
            "47:\tlearn: 0.7441084\ttest: 0.7329260\tbest: 0.7329260 (47)\ttotal: 34.9s\tremaining: 1m 14s\n",
            "48:\tlearn: 0.7447497\ttest: 0.7341200\tbest: 0.7341200 (48)\ttotal: 35.5s\tremaining: 1m 13s\n",
            "49:\tlearn: 0.7443077\ttest: 0.7340812\tbest: 0.7341200 (48)\ttotal: 36.2s\tremaining: 1m 12s\n",
            "50:\tlearn: 0.7448362\ttest: 0.7351220\tbest: 0.7351220 (50)\ttotal: 37s\tremaining: 1m 11s\n",
            "51:\tlearn: 0.7363444\ttest: 0.7283733\tbest: 0.7351220 (50)\ttotal: 37.7s\tremaining: 1m 11s\n",
            "52:\tlearn: 0.7458064\ttest: 0.7352081\tbest: 0.7352081 (52)\ttotal: 38.4s\tremaining: 1m 10s\n",
            "53:\tlearn: 0.7455905\ttest: 0.7354236\tbest: 0.7354236 (53)\ttotal: 39.1s\tremaining: 1m 9s\n",
            "54:\tlearn: 0.7459658\ttest: 0.7357556\tbest: 0.7357556 (54)\ttotal: 39.8s\tremaining: 1m 8s\n",
            "55:\tlearn: 0.7458144\ttest: 0.7357427\tbest: 0.7357556 (54)\ttotal: 40.4s\tremaining: 1m 7s\n",
            "56:\tlearn: 0.7458137\ttest: 0.7354495\tbest: 0.7357556 (54)\ttotal: 41.1s\tremaining: 1m 7s\n",
            "57:\tlearn: 0.7528110\ttest: 0.7411890\tbest: 0.7411890 (57)\ttotal: 41.8s\tremaining: 1m 6s\n",
            "58:\tlearn: 0.7587165\ttest: 0.7447805\tbest: 0.7447805 (58)\ttotal: 42.5s\tremaining: 1m 5s\n",
            "59:\tlearn: 0.7609865\ttest: 0.7479686\tbest: 0.7479686 (59)\ttotal: 43.2s\tremaining: 1m 4s\n",
            "60:\tlearn: 0.7604248\ttest: 0.7480208\tbest: 0.7480208 (60)\ttotal: 43.9s\tremaining: 1m 4s\n",
            "61:\tlearn: 0.7606051\ttest: 0.7485315\tbest: 0.7485315 (61)\ttotal: 44.7s\tremaining: 1m 3s\n",
            "62:\tlearn: 0.7605472\ttest: 0.7483614\tbest: 0.7485315 (61)\ttotal: 45.5s\tremaining: 1m 2s\n",
            "63:\tlearn: 0.7617221\ttest: 0.7490549\tbest: 0.7490549 (63)\ttotal: 46.3s\tremaining: 1m 2s\n",
            "64:\tlearn: 0.7616014\ttest: 0.7487803\tbest: 0.7490549 (63)\ttotal: 47s\tremaining: 1m 1s\n",
            "65:\tlearn: 0.7648143\ttest: 0.7513136\tbest: 0.7513136 (65)\ttotal: 47.7s\tremaining: 1m\n",
            "66:\tlearn: 0.7648041\ttest: 0.7523693\tbest: 0.7523693 (66)\ttotal: 48.4s\tremaining: 1m\n",
            "67:\tlearn: 0.7651450\ttest: 0.7526836\tbest: 0.7526836 (67)\ttotal: 49.1s\tremaining: 59.2s\n",
            "68:\tlearn: 0.7634765\ttest: 0.7504646\tbest: 0.7526836 (67)\ttotal: 49.8s\tremaining: 58.5s\n",
            "69:\tlearn: 0.7636311\ttest: 0.7507645\tbest: 0.7526836 (67)\ttotal: 50.5s\tremaining: 57.7s\n",
            "70:\tlearn: 0.7638516\ttest: 0.7508169\tbest: 0.7526836 (67)\ttotal: 51.2s\tremaining: 57s\n",
            "71:\tlearn: 0.7646291\ttest: 0.7518071\tbest: 0.7526836 (67)\ttotal: 51.9s\tremaining: 56.2s\n",
            "72:\tlearn: 0.7642553\ttest: 0.7518710\tbest: 0.7526836 (67)\ttotal: 52.6s\tremaining: 55.5s\n",
            "73:\tlearn: 0.7689125\ttest: 0.7593792\tbest: 0.7593792 (73)\ttotal: 53.3s\tremaining: 54.7s\n",
            "74:\tlearn: 0.7713787\ttest: 0.7611160\tbest: 0.7611160 (74)\ttotal: 54s\tremaining: 54s\n",
            "75:\tlearn: 0.7714972\ttest: 0.7613332\tbest: 0.7613332 (75)\ttotal: 54.7s\tremaining: 53.2s\n",
            "76:\tlearn: 0.7713246\ttest: 0.7610139\tbest: 0.7613332 (75)\ttotal: 55.4s\tremaining: 52.5s\n",
            "77:\tlearn: 0.7714884\ttest: 0.7614253\tbest: 0.7614253 (77)\ttotal: 56.1s\tremaining: 51.8s\n",
            "78:\tlearn: 0.7718517\ttest: 0.7615536\tbest: 0.7615536 (78)\ttotal: 56.8s\tremaining: 51.1s\n",
            "79:\tlearn: 0.7726158\ttest: 0.7625039\tbest: 0.7625039 (79)\ttotal: 57.5s\tremaining: 50.4s\n",
            "80:\tlearn: 0.7725628\ttest: 0.7623231\tbest: 0.7625039 (79)\ttotal: 58.3s\tremaining: 49.7s\n",
            "81:\tlearn: 0.7725467\ttest: 0.7623854\tbest: 0.7625039 (79)\ttotal: 59s\tremaining: 49s\n",
            "82:\tlearn: 0.7727498\ttest: 0.7623590\tbest: 0.7625039 (79)\ttotal: 59.7s\tremaining: 48.2s\n",
            "83:\tlearn: 0.7731293\ttest: 0.7596422\tbest: 0.7625039 (79)\ttotal: 1m\tremaining: 47.5s\n",
            "84:\tlearn: 0.7773688\ttest: 0.7654976\tbest: 0.7654976 (84)\ttotal: 1m 1s\tremaining: 46.7s\n",
            "85:\tlearn: 0.7779251\ttest: 0.7659594\tbest: 0.7659594 (85)\ttotal: 1m 1s\tremaining: 46s\n",
            "86:\tlearn: 0.7784018\ttest: 0.7664079\tbest: 0.7664079 (86)\ttotal: 1m 2s\tremaining: 45.3s\n",
            "87:\tlearn: 0.7783876\ttest: 0.7667063\tbest: 0.7667063 (87)\ttotal: 1m 3s\tremaining: 44.6s\n",
            "88:\tlearn: 0.7786986\ttest: 0.7669610\tbest: 0.7669610 (88)\ttotal: 1m 3s\tremaining: 43.9s\n",
            "89:\tlearn: 0.7767723\ttest: 0.7650181\tbest: 0.7669610 (88)\ttotal: 1m 4s\tremaining: 43.2s\n",
            "90:\tlearn: 0.7771434\ttest: 0.7649432\tbest: 0.7669610 (88)\ttotal: 1m 5s\tremaining: 42.4s\n",
            "91:\tlearn: 0.7800198\ttest: 0.7669742\tbest: 0.7669742 (91)\ttotal: 1m 6s\tremaining: 41.7s\n",
            "92:\tlearn: 0.7831571\ttest: 0.7714163\tbest: 0.7714163 (92)\ttotal: 1m 6s\tremaining: 41s\n",
            "93:\tlearn: 0.7808821\ttest: 0.7692192\tbest: 0.7714163 (92)\ttotal: 1m 7s\tremaining: 40.3s\n",
            "94:\tlearn: 0.7778973\ttest: 0.7647454\tbest: 0.7714163 (92)\ttotal: 1m 8s\tremaining: 39.6s\n",
            "95:\tlearn: 0.7795519\ttest: 0.7665432\tbest: 0.7714163 (92)\ttotal: 1m 9s\tremaining: 38.9s\n",
            "96:\tlearn: 0.7803540\ttest: 0.7664291\tbest: 0.7714163 (92)\ttotal: 1m 9s\tremaining: 38.2s\n",
            "97:\tlearn: 0.7827554\ttest: 0.7678730\tbest: 0.7714163 (92)\ttotal: 1m 10s\tremaining: 37.4s\n",
            "98:\tlearn: 0.7831565\ttest: 0.7682278\tbest: 0.7714163 (92)\ttotal: 1m 11s\tremaining: 36.7s\n",
            "99:\tlearn: 0.7831590\ttest: 0.7684898\tbest: 0.7714163 (92)\ttotal: 1m 11s\tremaining: 36s\n",
            "100:\tlearn: 0.7831657\ttest: 0.7689975\tbest: 0.7714163 (92)\ttotal: 1m 12s\tremaining: 35.2s\n",
            "101:\tlearn: 0.7832031\ttest: 0.7691693\tbest: 0.7714163 (92)\ttotal: 1m 13s\tremaining: 34.5s\n",
            "102:\tlearn: 0.7835750\ttest: 0.7690689\tbest: 0.7714163 (92)\ttotal: 1m 13s\tremaining: 33.7s\n",
            "103:\tlearn: 0.7841937\ttest: 0.7689684\tbest: 0.7714163 (92)\ttotal: 1m 14s\tremaining: 33s\n",
            "104:\tlearn: 0.7839334\ttest: 0.7689684\tbest: 0.7714163 (92)\ttotal: 1m 15s\tremaining: 32.3s\n",
            "105:\tlearn: 0.7836216\ttest: 0.7688679\tbest: 0.7714163 (92)\ttotal: 1m 16s\tremaining: 31.6s\n",
            "106:\tlearn: 0.7866082\ttest: 0.7732980\tbest: 0.7732980 (106)\ttotal: 1m 16s\tremaining: 30.9s\n",
            "107:\tlearn: 0.7865510\ttest: 0.7736290\tbest: 0.7736290 (107)\ttotal: 1m 17s\tremaining: 30.1s\n",
            "108:\tlearn: 0.7868561\ttest: 0.7740787\tbest: 0.7740787 (108)\ttotal: 1m 18s\tremaining: 29.4s\n",
            "109:\tlearn: 0.7871791\ttest: 0.7743697\tbest: 0.7743697 (109)\ttotal: 1m 18s\tremaining: 28.7s\n",
            "110:\tlearn: 0.7870552\ttest: 0.7743830\tbest: 0.7743830 (110)\ttotal: 1m 19s\tremaining: 28s\n",
            "111:\tlearn: 0.7868427\ttest: 0.7741317\tbest: 0.7743830 (110)\ttotal: 1m 20s\tremaining: 27.2s\n",
            "112:\tlearn: 0.7872658\ttest: 0.7741980\tbest: 0.7743830 (110)\ttotal: 1m 20s\tremaining: 26.5s\n",
            "113:\tlearn: 0.7877392\ttest: 0.7743635\tbest: 0.7743830 (110)\ttotal: 1m 21s\tremaining: 25.8s\n",
            "114:\tlearn: 0.7894702\ttest: 0.7756186\tbest: 0.7756186 (114)\ttotal: 1m 22s\tremaining: 25.1s\n",
            "115:\tlearn: 0.7893901\ttest: 0.7760213\tbest: 0.7760213 (115)\ttotal: 1m 23s\tremaining: 24.3s\n",
            "116:\tlearn: 0.7895069\ttest: 0.7766610\tbest: 0.7766610 (116)\ttotal: 1m 23s\tremaining: 23.6s\n",
            "117:\tlearn: 0.7902391\ttest: 0.7774386\tbest: 0.7774386 (117)\ttotal: 1m 24s\tremaining: 22.9s\n",
            "118:\tlearn: 0.7903141\ttest: 0.7774519\tbest: 0.7774519 (118)\ttotal: 1m 25s\tremaining: 22.2s\n",
            "119:\tlearn: 0.7903008\ttest: 0.7774840\tbest: 0.7774840 (119)\ttotal: 1m 25s\tremaining: 21.5s\n",
            "120:\tlearn: 0.7906322\ttest: 0.7779177\tbest: 0.7779177 (120)\ttotal: 1m 26s\tremaining: 20.7s\n",
            "121:\tlearn: 0.7912053\ttest: 0.7776544\tbest: 0.7779177 (120)\ttotal: 1m 27s\tremaining: 20s\n",
            "122:\tlearn: 0.7898222\ttest: 0.7767787\tbest: 0.7779177 (120)\ttotal: 1m 27s\tremaining: 19.3s\n",
            "123:\tlearn: 0.7913256\ttest: 0.7785238\tbest: 0.7785238 (123)\ttotal: 1m 28s\tremaining: 18.6s\n",
            "124:\tlearn: 0.7914554\ttest: 0.7785371\tbest: 0.7785371 (124)\ttotal: 1m 29s\tremaining: 17.9s\n",
            "125:\tlearn: 0.7917605\ttest: 0.7789862\tbest: 0.7789862 (125)\ttotal: 1m 29s\tremaining: 17.1s\n",
            "126:\tlearn: 0.7935631\ttest: 0.7801624\tbest: 0.7801624 (126)\ttotal: 1m 30s\tremaining: 16.4s\n",
            "127:\tlearn: 0.7939864\ttest: 0.7799845\tbest: 0.7801624 (126)\ttotal: 1m 31s\tremaining: 15.7s\n",
            "128:\tlearn: 0.7964005\ttest: 0.7820257\tbest: 0.7820257 (128)\ttotal: 1m 32s\tremaining: 15s\n",
            "129:\tlearn: 0.7962865\ttest: 0.7821415\tbest: 0.7821415 (129)\ttotal: 1m 32s\tremaining: 14.3s\n",
            "130:\tlearn: 0.7965236\ttest: 0.7821815\tbest: 0.7821815 (130)\ttotal: 1m 33s\tremaining: 13.5s\n",
            "131:\tlearn: 0.7967800\ttest: 0.7827982\tbest: 0.7827982 (131)\ttotal: 1m 34s\tremaining: 12.8s\n",
            "132:\tlearn: 0.7970715\ttest: 0.7830998\tbest: 0.7830998 (132)\ttotal: 1m 34s\tremaining: 12.1s\n",
            "133:\tlearn: 0.7972877\ttest: 0.7830156\tbest: 0.7830998 (132)\ttotal: 1m 35s\tremaining: 11.4s\n",
            "134:\tlearn: 0.7972801\ttest: 0.7832862\tbest: 0.7832862 (134)\ttotal: 1m 36s\tremaining: 10.7s\n",
            "135:\tlearn: 0.7987390\ttest: 0.7855005\tbest: 0.7855005 (135)\ttotal: 1m 36s\tremaining: 9.96s\n",
            "136:\tlearn: 0.7990033\ttest: 0.7855576\tbest: 0.7855576 (136)\ttotal: 1m 37s\tremaining: 9.25s\n",
            "137:\tlearn: 0.7991247\ttest: 0.7855138\tbest: 0.7855576 (136)\ttotal: 1m 38s\tremaining: 8.55s\n",
            "138:\tlearn: 0.7991247\ttest: 0.7856643\tbest: 0.7856643 (138)\ttotal: 1m 38s\tremaining: 7.83s\n",
            "139:\tlearn: 0.8011963\ttest: 0.7878458\tbest: 0.7878458 (139)\ttotal: 1m 39s\tremaining: 7.12s\n",
            "140:\tlearn: 0.8010776\ttest: 0.7881290\tbest: 0.7881290 (140)\ttotal: 1m 40s\tremaining: 6.4s\n",
            "141:\tlearn: 0.8010638\ttest: 0.7880190\tbest: 0.7881290 (140)\ttotal: 1m 40s\tremaining: 5.69s\n",
            "142:\tlearn: 0.8014623\ttest: 0.7887022\tbest: 0.7887022 (142)\ttotal: 1m 41s\tremaining: 4.98s\n",
            "143:\tlearn: 0.8002188\ttest: 0.7876521\tbest: 0.7887022 (142)\ttotal: 1m 42s\tremaining: 4.27s\n",
            "144:\tlearn: 0.8000366\ttest: 0.7876521\tbest: 0.7887022 (142)\ttotal: 1m 43s\tremaining: 3.56s\n",
            "145:\tlearn: 0.8014627\ttest: 0.7885256\tbest: 0.7887022 (142)\ttotal: 1m 43s\tremaining: 2.84s\n",
            "146:\tlearn: 0.8014559\ttest: 0.7886755\tbest: 0.7887022 (142)\ttotal: 1m 44s\tremaining: 2.13s\n",
            "147:\tlearn: 0.8004633\ttest: 0.7871885\tbest: 0.7887022 (142)\ttotal: 1m 45s\tremaining: 1.42s\n",
            "148:\tlearn: 0.8004695\ttest: 0.7874320\tbest: 0.7887022 (142)\ttotal: 1m 46s\tremaining: 712ms\n",
            "149:\tlearn: 0.8020433\ttest: 0.7885256\tbest: 0.7887022 (142)\ttotal: 1m 46s\tremaining: 0us\n",
            "\n",
            "bestTest = 0.7887022288\n",
            "bestIteration = 142\n",
            "\n",
            "CPU times: user 19min 47s, sys: 16.9 s, total: 20min 4s\n",
            "Wall time: 20min 10s\n"
          ]
        }
      ],
      "source": [
        "%%time\n",
        "\n",
        "params = {\"max_depth\": [1, 2, 3], \n",
        "          \"n_estimators\": [10, 100, 150], \n",
        "          \"random_state\": RS, \n",
        "          \"auto_class_weights\": ['Balanced']\n",
        "         }\n",
        "model_cbc = CatBoostClassifier(eval_metric='TotalF1')\n",
        "\n",
        "model_cbc_gs = model_cbc.grid_search(params, Pool(X_train,y_train),verbose=True, cv=N_SPLITS, plot=True)"
      ]
    },
    {
      "cell_type": "markdown",
      "metadata": {
        "id": "HQlIL4G_rWxS"
      },
      "source": [
        "Вывод лучших параметров"
      ]
    },
    {
      "cell_type": "code",
      "execution_count": null,
      "metadata": {
        "id": "3siXn9GwrWxS",
        "outputId": "a6f7825f-f645-438b-93e4-3794f7ee025d"
      },
      "outputs": [
        {
          "data": {
            "text/plain": [
              "'Лучший результат f1-меры:'"
            ]
          },
          "metadata": {},
          "output_type": "display_data"
        },
        {
          "data": {
            "text/plain": [
              "{'learn': {'Logloss': 0.26642270222050074, 'TotalF1': 0.9048847996908846}}"
            ]
          },
          "metadata": {},
          "output_type": "display_data"
        },
        {
          "data": {
            "text/plain": [
              "{'nan_mode': 'Min',\n",
              " 'eval_metric': 'TotalF1',\n",
              " 'iterations': 150,\n",
              " 'sampling_frequency': 'PerTree',\n",
              " 'leaf_estimation_method': 'Newton',\n",
              " 'grow_policy': 'SymmetricTree',\n",
              " 'penalties_coefficient': 1,\n",
              " 'boosting_type': 'Plain',\n",
              " 'model_shrink_mode': 'Constant',\n",
              " 'feature_border_type': 'GreedyLogSum',\n",
              " 'bayesian_matrix_reg': 0.10000000149011612,\n",
              " 'force_unit_auto_pair_weights': False,\n",
              " 'l2_leaf_reg': 3,\n",
              " 'random_strength': 1,\n",
              " 'rsm': 1,\n",
              " 'boost_from_average': False,\n",
              " 'model_size_reg': 0.5,\n",
              " 'pool_metainfo_options': {'tags': {}},\n",
              " 'subsample': 0.800000011920929,\n",
              " 'use_best_model': False,\n",
              " 'class_names': [0, 1],\n",
              " 'random_seed': 12345,\n",
              " 'depth': 3,\n",
              " 'posterior_sampling': False,\n",
              " 'border_count': 254,\n",
              " 'class_weights': [1, 8.83931827545166],\n",
              " 'classes_count': 0,\n",
              " 'auto_class_weights': 'Balanced',\n",
              " 'sparse_features_conflict_fraction': 0,\n",
              " 'leaf_estimation_backtracking': 'AnyImprovement',\n",
              " 'best_model_min_trees': 1,\n",
              " 'model_shrink_rate': 0,\n",
              " 'min_data_in_leaf': 1,\n",
              " 'loss_function': 'Logloss',\n",
              " 'learning_rate': 0.4523209929466248,\n",
              " 'score_function': 'Cosine',\n",
              " 'task_type': 'CPU',\n",
              " 'leaf_estimation_iterations': 10,\n",
              " 'bootstrap_type': 'MVS',\n",
              " 'max_leaves': 8}"
            ]
          },
          "execution_count": 16,
          "metadata": {},
          "output_type": "execute_result"
        }
      ],
      "source": [
        "display('Лучший результат f1-меры:', model_cbc.best_score_)\n",
        "model_cbc.get_all_params()"
      ]
    },
    {
      "cell_type": "markdown",
      "metadata": {
        "id": "0maPsDKYrWxT"
      },
      "source": [
        "### Вывод"
      ]
    },
    {
      "cell_type": "markdown",
      "metadata": {
        "id": "t0Qx391srWxT"
      },
      "source": [
        "- При обучении *Логистической Регрессии* получено значение *f1=0.753* за 5min 37s обучения\n",
        "- При обучении *Случайного Леса* получено значение *f1=0.41* за 5min 6s обучения\n",
        "- При обучении *CatBoost* получено значение *f1=0.9* за 18min 20s обучения\n",
        "<br>С заданием справились две модели, но обучение ***LogisticRegression*** проходит значительно быстрее"
      ]
    },
    {
      "cell_type": "markdown",
      "metadata": {
        "id": "e4lqQXUXrWxT"
      },
      "source": [
        "## Тестирование выбранной модели"
      ]
    },
    {
      "cell_type": "code",
      "execution_count": null,
      "metadata": {
        "id": "46TTg983rWxU",
        "outputId": "fce5d95a-cc4b-45d4-8c5e-054a49e112a4"
      },
      "outputs": [
        {
          "data": {
            "text/plain": [
              "0.7585751978891822"
            ]
          },
          "execution_count": 17,
          "metadata": {},
          "output_type": "execute_result"
        }
      ],
      "source": [
        "predict = model_lr_rs.predict(X_test)\n",
        "f1_score(y_test, predict)"
      ]
    },
    {
      "cell_type": "markdown",
      "metadata": {
        "id": "hxLH_U7qrWxU"
      },
      "source": [
        "### Проверка адекватности модели"
      ]
    },
    {
      "cell_type": "markdown",
      "metadata": {
        "id": "Vrfupfo8rWxU"
      },
      "source": [
        "Сравнение результатов выбранной модели с результатами простейшей модели для проверки адекватности предсказаний"
      ]
    },
    {
      "cell_type": "code",
      "execution_count": null,
      "metadata": {
        "id": "FzB7LciYrWxU",
        "outputId": "5ae7e638-7e16-4c32-9602-e3ad56f37b06"
      },
      "outputs": [
        {
          "data": {
            "text/plain": [
              "0.16900237035804883"
            ]
          },
          "execution_count": 18,
          "metadata": {},
          "output_type": "execute_result"
        }
      ],
      "source": [
        "dummy_model = DummyClassifier(strategy='uniform', random_state=12345)\n",
        "dummy_model.fit(X_train, y_train)\n",
        "f1_score(y_test, dummy_model.predict(X_test))"
      ]
    },
    {
      "cell_type": "markdown",
      "metadata": {
        "id": "8zAqFYbgrWxV"
      },
      "source": [
        "## Выводы"
      ]
    },
    {
      "cell_type": "markdown",
      "metadata": {
        "id": "a0HvIgh_rWxV"
      },
      "source": [
        "- В ходе знакомства и предобработки данных были сделаны следующие выводы и наблюдения:\n",
        "    - данные импортированы с удалением лишнего индекса при чтении\n",
        "    - удалены стоп-слова\n",
        "    - явных дубликатов не обнаружено\n",
        "    - в данных наблюдается большой дисбаланс классов\n",
        "    - данные поделены на две выборки: обучающую и тестовую\n",
        "    - для улучшения метрики качества была применена техника *downsampling*, но она положительных результатов не дала\n",
        "- На этапе обучения были подобраны параметры и обучены модели со следующими результатами:\n",
        "    - При обучении Логистической Регрессии получено значение *f1=0.753* за 5min 37s обучения\n",
        "    - При обучении Случайного Леса получено значение *f1=0.41* за 5min 6s обучения\n",
        "    - При обучении CatBoost получено значение *f1=0.9* за 18min 20s обучения\n",
        "    - С заданием справились две модели, но обучение ***LogisticRegression*** проходит значительно быстрее\n",
        "- На тестовой выборке данных выбранная модель показала результат удовлетворяющий поставленной задаче: **0.759>0.75**\n",
        "    - Для проверки адекватности модели точность её предсказаний была сопоставлена с точностью предсказаний *Dummy* модели. Результат выбранной модели значительно лучше результата *Dummy* модели\n",
        "\n",
        "<br>Общее заключение: для выполнения поставленной задачи заказчика подходит модель ***LogisticRegression***"
      ]
    }
  ],
  "metadata": {
    "ExecuteTimeLog": [
      {
        "duration": 49,
        "start_time": "2022-09-15T15:52:19.057Z"
      },
      {
        "duration": 2502,
        "start_time": "2022-09-15T15:52:23.042Z"
      },
      {
        "duration": 154,
        "start_time": "2022-09-15T15:52:28.654Z"
      },
      {
        "duration": 3235,
        "start_time": "2022-09-15T15:53:10.823Z"
      },
      {
        "duration": 861,
        "start_time": "2022-09-15T15:53:53.843Z"
      },
      {
        "duration": 823,
        "start_time": "2022-09-15T15:55:23.572Z"
      },
      {
        "duration": 809,
        "start_time": "2022-09-15T15:55:40.231Z"
      },
      {
        "duration": 6,
        "start_time": "2022-09-15T15:56:29.095Z"
      },
      {
        "duration": 218,
        "start_time": "2022-09-15T16:00:43.337Z"
      },
      {
        "duration": 5800,
        "start_time": "2022-09-15T16:01:18.969Z"
      },
      {
        "duration": 208,
        "start_time": "2022-09-15T16:01:34.862Z"
      },
      {
        "duration": 8,
        "start_time": "2022-09-15T16:01:37.886Z"
      },
      {
        "duration": 20,
        "start_time": "2022-09-15T16:37:55.292Z"
      },
      {
        "duration": 4,
        "start_time": "2022-09-15T16:38:40.097Z"
      },
      {
        "duration": 817,
        "start_time": "2022-09-15T16:38:44.750Z"
      },
      {
        "duration": 210,
        "start_time": "2022-09-15T16:38:48.338Z"
      },
      {
        "duration": 6,
        "start_time": "2022-09-15T16:38:50.889Z"
      },
      {
        "duration": 21,
        "start_time": "2022-09-15T16:38:53.906Z"
      },
      {
        "duration": 3,
        "start_time": "2022-09-15T16:39:19.079Z"
      },
      {
        "duration": 47,
        "start_time": "2022-09-15T16:41:07.273Z"
      },
      {
        "duration": 21,
        "start_time": "2022-09-15T16:41:13.737Z"
      },
      {
        "duration": 71,
        "start_time": "2022-09-15T16:41:34.938Z"
      },
      {
        "duration": 94,
        "start_time": "2022-09-15T16:43:12.410Z"
      },
      {
        "duration": 3,
        "start_time": "2022-09-15T16:44:20.656Z"
      },
      {
        "duration": 77,
        "start_time": "2022-09-15T16:44:28.790Z"
      },
      {
        "duration": 13267,
        "start_time": "2022-09-15T16:50:50.486Z"
      },
      {
        "duration": 2679,
        "start_time": "2022-09-15T16:52:01.607Z"
      },
      {
        "duration": 3346,
        "start_time": "2022-09-15T16:52:04.289Z"
      },
      {
        "duration": 243,
        "start_time": "2022-09-15T16:52:07.637Z"
      },
      {
        "duration": 12,
        "start_time": "2022-09-15T16:52:07.882Z"
      },
      {
        "duration": 13379,
        "start_time": "2022-09-15T16:52:17.004Z"
      },
      {
        "duration": 26,
        "start_time": "2022-09-15T16:58:44.605Z"
      },
      {
        "duration": 2780,
        "start_time": "2022-09-15T17:02:01.473Z"
      },
      {
        "duration": 3381,
        "start_time": "2022-09-15T17:02:04.255Z"
      },
      {
        "duration": 226,
        "start_time": "2022-09-15T17:02:07.638Z"
      },
      {
        "duration": 9,
        "start_time": "2022-09-15T17:02:07.865Z"
      },
      {
        "duration": 12247,
        "start_time": "2022-09-15T17:02:11.974Z"
      },
      {
        "duration": 194,
        "start_time": "2022-09-15T17:11:06.103Z"
      },
      {
        "duration": 61,
        "start_time": "2022-09-15T17:11:14.322Z"
      },
      {
        "duration": 98,
        "start_time": "2022-09-15T17:17:45.204Z"
      },
      {
        "duration": 33711,
        "start_time": "2022-09-15T17:27:06.709Z"
      },
      {
        "duration": 2449,
        "start_time": "2022-09-15T17:27:51.879Z"
      },
      {
        "duration": 861,
        "start_time": "2022-09-15T17:27:54.330Z"
      },
      {
        "duration": 242,
        "start_time": "2022-09-15T17:27:55.193Z"
      },
      {
        "duration": 9,
        "start_time": "2022-09-15T17:27:55.438Z"
      },
      {
        "duration": 12069,
        "start_time": "2022-09-15T17:27:55.449Z"
      },
      {
        "duration": 48,
        "start_time": "2022-09-15T17:28:07.519Z"
      },
      {
        "duration": 135040,
        "start_time": "2022-09-15T17:28:07.568Z"
      },
      {
        "duration": 102765,
        "start_time": "2022-09-15T17:48:10.837Z"
      },
      {
        "duration": 8,
        "start_time": "2022-09-15T18:03:46.768Z"
      },
      {
        "duration": 8,
        "start_time": "2022-09-15T18:04:16.026Z"
      },
      {
        "duration": 207,
        "start_time": "2022-09-15T18:06:37.215Z"
      },
      {
        "duration": 4,
        "start_time": "2022-09-15T18:07:12.333Z"
      },
      {
        "duration": 4367,
        "start_time": "2022-09-15T18:07:19.208Z"
      },
      {
        "duration": 3,
        "start_time": "2022-09-15T18:08:03.798Z"
      },
      {
        "duration": 4,
        "start_time": "2022-09-15T18:08:16.834Z"
      },
      {
        "duration": 6,
        "start_time": "2022-09-15T18:08:25.474Z"
      },
      {
        "duration": 27,
        "start_time": "2022-09-15T18:12:44.969Z"
      },
      {
        "duration": 29,
        "start_time": "2022-09-15T18:14:42.201Z"
      },
      {
        "duration": 14,
        "start_time": "2022-09-15T18:17:05.386Z"
      },
      {
        "duration": 12,
        "start_time": "2022-09-15T18:21:05.932Z"
      },
      {
        "duration": 3024,
        "start_time": "2022-09-18T15:35:10.208Z"
      },
      {
        "duration": 3822,
        "start_time": "2022-09-18T15:35:13.234Z"
      },
      {
        "duration": 239,
        "start_time": "2022-09-18T15:35:17.058Z"
      },
      {
        "duration": 12,
        "start_time": "2022-09-18T15:35:17.300Z"
      },
      {
        "duration": 11237,
        "start_time": "2022-09-18T15:35:17.335Z"
      },
      {
        "duration": 0,
        "start_time": "2022-09-18T15:35:28.582Z"
      },
      {
        "duration": 0,
        "start_time": "2022-09-18T15:35:28.583Z"
      },
      {
        "duration": 3375,
        "start_time": "2022-09-18T15:35:57.965Z"
      },
      {
        "duration": 926,
        "start_time": "2022-09-18T15:36:01.347Z"
      },
      {
        "duration": 260,
        "start_time": "2022-09-18T15:36:02.276Z"
      },
      {
        "duration": 16,
        "start_time": "2022-09-18T15:36:02.537Z"
      },
      {
        "duration": 10595,
        "start_time": "2022-09-18T15:36:07.370Z"
      },
      {
        "duration": 81,
        "start_time": "2022-09-18T15:36:24.470Z"
      },
      {
        "duration": 156972,
        "start_time": "2022-09-18T15:36:30.377Z"
      },
      {
        "duration": 122010,
        "start_time": "2022-09-18T15:39:13.976Z"
      },
      {
        "duration": 5,
        "start_time": "2022-09-18T16:11:56.453Z"
      },
      {
        "duration": 3097,
        "start_time": "2022-09-18T16:12:24.901Z"
      },
      {
        "duration": 1210,
        "start_time": "2022-09-18T16:12:28.001Z"
      },
      {
        "duration": 303,
        "start_time": "2022-09-18T16:12:29.212Z"
      },
      {
        "duration": 25,
        "start_time": "2022-09-18T16:12:29.518Z"
      },
      {
        "duration": 10254,
        "start_time": "2022-09-18T16:12:29.548Z"
      },
      {
        "duration": 68,
        "start_time": "2022-09-18T16:12:39.804Z"
      },
      {
        "duration": 66,
        "start_time": "2022-09-18T16:12:49.390Z"
      },
      {
        "duration": 200,
        "start_time": "2022-09-18T16:12:59.707Z"
      },
      {
        "duration": 17,
        "start_time": "2022-09-18T16:13:06.946Z"
      },
      {
        "duration": 4,
        "start_time": "2022-09-18T16:13:16.456Z"
      },
      {
        "duration": 53,
        "start_time": "2022-09-18T16:18:17.089Z"
      },
      {
        "duration": 84,
        "start_time": "2022-09-18T16:25:31.414Z"
      },
      {
        "duration": 3,
        "start_time": "2022-09-18T16:25:45.657Z"
      },
      {
        "duration": 17,
        "start_time": "2022-09-18T16:25:48.924Z"
      },
      {
        "duration": 6,
        "start_time": "2022-09-18T16:25:55.555Z"
      },
      {
        "duration": 63,
        "start_time": "2022-09-18T16:27:06.996Z"
      },
      {
        "duration": 52,
        "start_time": "2022-09-18T16:30:06.752Z"
      },
      {
        "duration": 58,
        "start_time": "2022-09-18T16:30:23.719Z"
      },
      {
        "duration": 139,
        "start_time": "2022-09-18T16:32:22.747Z"
      },
      {
        "duration": 169,
        "start_time": "2022-09-18T16:35:14.016Z"
      },
      {
        "duration": 5,
        "start_time": "2022-09-18T16:35:43.251Z"
      },
      {
        "duration": 126,
        "start_time": "2022-09-18T16:38:00.900Z"
      },
      {
        "duration": 65,
        "start_time": "2022-09-18T16:38:23.806Z"
      },
      {
        "duration": 4,
        "start_time": "2022-09-18T16:44:38.707Z"
      },
      {
        "duration": 7,
        "start_time": "2022-09-18T16:46:50.124Z"
      },
      {
        "duration": 3,
        "start_time": "2022-09-18T16:47:17.920Z"
      },
      {
        "duration": 114197,
        "start_time": "2022-09-18T16:47:34.283Z"
      },
      {
        "duration": 111784,
        "start_time": "2022-09-18T16:49:43.743Z"
      },
      {
        "duration": 75,
        "start_time": "2022-09-18T16:52:53.379Z"
      },
      {
        "duration": 152471,
        "start_time": "2022-09-18T16:54:01.681Z"
      },
      {
        "duration": 6,
        "start_time": "2022-09-18T16:57:19.880Z"
      },
      {
        "duration": 2714,
        "start_time": "2022-09-18T17:00:41.514Z"
      },
      {
        "duration": 828,
        "start_time": "2022-09-18T17:00:44.230Z"
      },
      {
        "duration": 248,
        "start_time": "2022-09-18T17:00:45.060Z"
      },
      {
        "duration": 15,
        "start_time": "2022-09-18T17:00:45.310Z"
      },
      {
        "duration": 7952,
        "start_time": "2022-09-18T17:00:45.326Z"
      },
      {
        "duration": 58,
        "start_time": "2022-09-18T17:00:53.280Z"
      },
      {
        "duration": 3,
        "start_time": "2022-09-18T17:00:53.341Z"
      },
      {
        "duration": 8,
        "start_time": "2022-09-18T17:00:53.346Z"
      },
      {
        "duration": 14,
        "start_time": "2022-09-18T17:00:59.317Z"
      },
      {
        "duration": 160,
        "start_time": "2022-09-18T17:02:09.192Z"
      },
      {
        "duration": 107,
        "start_time": "2022-09-18T17:04:19.487Z"
      },
      {
        "duration": 158183,
        "start_time": "2022-09-18T17:05:11.141Z"
      },
      {
        "duration": 98,
        "start_time": "2022-09-18T17:09:17.077Z"
      },
      {
        "duration": 12,
        "start_time": "2022-09-18T17:09:56.284Z"
      },
      {
        "duration": 171,
        "start_time": "2022-09-18T17:10:05.037Z"
      },
      {
        "duration": 3,
        "start_time": "2022-09-18T17:10:37.896Z"
      },
      {
        "duration": 471610,
        "start_time": "2022-09-18T17:10:40.639Z"
      },
      {
        "duration": 2823,
        "start_time": "2022-09-18T17:19:04.450Z"
      },
      {
        "duration": 910,
        "start_time": "2022-09-18T17:19:07.274Z"
      },
      {
        "duration": 263,
        "start_time": "2022-09-18T17:19:08.186Z"
      },
      {
        "duration": 8,
        "start_time": "2022-09-18T17:19:08.452Z"
      },
      {
        "duration": 9322,
        "start_time": "2022-09-18T17:19:08.462Z"
      },
      {
        "duration": 64,
        "start_time": "2022-09-18T17:19:17.785Z"
      },
      {
        "duration": 5,
        "start_time": "2022-09-18T17:19:17.852Z"
      },
      {
        "duration": 23,
        "start_time": "2022-09-18T17:19:17.859Z"
      },
      {
        "duration": 2845,
        "start_time": "2022-09-18T17:26:54.357Z"
      },
      {
        "duration": 937,
        "start_time": "2022-09-18T17:26:57.204Z"
      },
      {
        "duration": 251,
        "start_time": "2022-09-18T17:26:58.143Z"
      },
      {
        "duration": 8,
        "start_time": "2022-09-18T17:26:58.396Z"
      },
      {
        "duration": 8870,
        "start_time": "2022-09-18T17:26:58.406Z"
      },
      {
        "duration": 72,
        "start_time": "2022-09-18T17:27:07.278Z"
      },
      {
        "duration": 3,
        "start_time": "2022-09-18T17:27:07.351Z"
      },
      {
        "duration": 6,
        "start_time": "2022-09-18T17:27:07.356Z"
      },
      {
        "duration": 264,
        "start_time": "2022-09-18T17:27:11.212Z"
      },
      {
        "duration": 101,
        "start_time": "2022-09-18T17:27:38.410Z"
      },
      {
        "duration": 17237,
        "start_time": "2022-09-18T17:27:57.790Z"
      },
      {
        "duration": 8,
        "start_time": "2022-09-18T17:28:22.079Z"
      },
      {
        "duration": 300255,
        "start_time": "2022-09-18T17:33:48.339Z"
      },
      {
        "duration": 67,
        "start_time": "2022-09-18T17:39:01.790Z"
      },
      {
        "duration": 2683,
        "start_time": "2022-09-18T17:40:05.955Z"
      },
      {
        "duration": 972,
        "start_time": "2022-09-18T17:40:08.645Z"
      },
      {
        "duration": 262,
        "start_time": "2022-09-18T17:40:09.620Z"
      },
      {
        "duration": 9,
        "start_time": "2022-09-18T17:40:09.884Z"
      },
      {
        "duration": 9184,
        "start_time": "2022-09-18T17:40:09.895Z"
      },
      {
        "duration": 70,
        "start_time": "2022-09-18T17:40:19.081Z"
      },
      {
        "duration": 8,
        "start_time": "2022-09-18T17:40:19.153Z"
      },
      {
        "duration": 20,
        "start_time": "2022-09-18T17:40:19.164Z"
      },
      {
        "duration": 22199,
        "start_time": "2022-09-18T17:40:21.543Z"
      },
      {
        "duration": 6,
        "start_time": "2022-09-18T17:40:50.012Z"
      },
      {
        "duration": 108933,
        "start_time": "2022-09-18T17:41:05.512Z"
      },
      {
        "duration": 6,
        "start_time": "2022-09-18T17:43:03.515Z"
      },
      {
        "duration": 5,
        "start_time": "2022-09-18T17:43:36.023Z"
      },
      {
        "duration": 3395,
        "start_time": "2022-09-18T17:44:06.965Z"
      },
      {
        "duration": 12,
        "start_time": "2022-09-18T17:45:06.698Z"
      },
      {
        "duration": 440185,
        "start_time": "2022-09-18T17:46:31.159Z"
      },
      {
        "duration": 8,
        "start_time": "2022-09-18T17:54:25.855Z"
      },
      {
        "duration": 55,
        "start_time": "2022-09-18T18:03:49.250Z"
      },
      {
        "duration": 3464,
        "start_time": "2022-09-18T18:04:13.549Z"
      },
      {
        "duration": 1071,
        "start_time": "2022-09-18T18:04:17.015Z"
      },
      {
        "duration": 251,
        "start_time": "2022-09-18T18:04:18.088Z"
      },
      {
        "duration": 13,
        "start_time": "2022-09-18T18:04:18.342Z"
      },
      {
        "duration": 8998,
        "start_time": "2022-09-18T18:04:18.357Z"
      },
      {
        "duration": 49,
        "start_time": "2022-09-18T18:04:27.357Z"
      },
      {
        "duration": 25,
        "start_time": "2022-09-18T18:04:27.408Z"
      },
      {
        "duration": 21,
        "start_time": "2022-09-18T18:04:27.435Z"
      },
      {
        "duration": 18689,
        "start_time": "2022-09-18T18:04:40.054Z"
      },
      {
        "duration": 11,
        "start_time": "2022-09-18T18:06:15.162Z"
      },
      {
        "duration": 4,
        "start_time": "2022-09-18T18:10:12.046Z"
      },
      {
        "duration": 134,
        "start_time": "2022-09-18T18:13:45.051Z"
      },
      {
        "duration": 86,
        "start_time": "2022-09-18T18:19:11.606Z"
      },
      {
        "duration": 1572,
        "start_time": "2022-09-18T18:19:28.870Z"
      },
      {
        "duration": 1390,
        "start_time": "2022-09-18T18:19:44.221Z"
      },
      {
        "duration": 1256,
        "start_time": "2022-09-18T18:20:44.418Z"
      },
      {
        "duration": 1699,
        "start_time": "2022-09-18T18:23:53.100Z"
      },
      {
        "duration": 2116,
        "start_time": "2022-09-18T18:25:45.278Z"
      },
      {
        "duration": 823,
        "start_time": "2022-09-18T18:26:51.451Z"
      },
      {
        "duration": 2206,
        "start_time": "2022-09-18T18:27:30.192Z"
      },
      {
        "duration": 2270,
        "start_time": "2022-09-18T18:31:05.630Z"
      },
      {
        "duration": 1214,
        "start_time": "2022-09-18T18:31:56.604Z"
      },
      {
        "duration": 823,
        "start_time": "2022-09-18T18:34:25.852Z"
      },
      {
        "duration": 684580,
        "start_time": "2022-09-18T18:34:48.655Z"
      },
      {
        "duration": 2543,
        "start_time": "2022-09-18T18:46:26.714Z"
      },
      {
        "duration": 887,
        "start_time": "2022-09-18T18:46:29.259Z"
      },
      {
        "duration": 251,
        "start_time": "2022-09-18T18:46:30.147Z"
      },
      {
        "duration": 8,
        "start_time": "2022-09-18T18:46:30.400Z"
      },
      {
        "duration": 8162,
        "start_time": "2022-09-18T18:46:30.410Z"
      },
      {
        "duration": 62,
        "start_time": "2022-09-18T18:46:38.574Z"
      },
      {
        "duration": 3,
        "start_time": "2022-09-18T18:46:38.637Z"
      },
      {
        "duration": 25,
        "start_time": "2022-09-18T18:46:38.642Z"
      },
      {
        "duration": 1300372,
        "start_time": "2022-09-18T18:46:55.399Z"
      },
      {
        "duration": 160,
        "start_time": "2022-09-18T19:08:44.216Z"
      },
      {
        "duration": 11,
        "start_time": "2022-09-18T19:09:21.400Z"
      },
      {
        "duration": 15,
        "start_time": "2022-09-18T19:09:39.972Z"
      },
      {
        "duration": 21,
        "start_time": "2022-09-18T19:09:53.846Z"
      },
      {
        "duration": 19,
        "start_time": "2022-09-18T19:10:24.295Z"
      },
      {
        "duration": 18,
        "start_time": "2022-09-18T19:10:38.156Z"
      },
      {
        "duration": 23,
        "start_time": "2022-09-18T19:10:55.420Z"
      },
      {
        "duration": 13,
        "start_time": "2022-09-18T19:12:28.742Z"
      },
      {
        "duration": 14,
        "start_time": "2022-09-18T19:12:41.505Z"
      },
      {
        "duration": 15,
        "start_time": "2022-09-18T19:12:52.771Z"
      },
      {
        "duration": 15,
        "start_time": "2022-09-18T19:13:12.933Z"
      },
      {
        "duration": 27,
        "start_time": "2022-09-18T19:14:03.247Z"
      },
      {
        "duration": 6,
        "start_time": "2022-09-18T19:15:07.910Z"
      },
      {
        "duration": 7,
        "start_time": "2022-09-18T19:16:23.908Z"
      },
      {
        "duration": 4,
        "start_time": "2022-09-18T19:25:13.893Z"
      },
      {
        "duration": 13,
        "start_time": "2022-09-18T19:29:10.209Z"
      },
      {
        "duration": 11,
        "start_time": "2022-09-18T19:29:23.259Z"
      },
      {
        "duration": 3,
        "start_time": "2022-09-18T19:30:32.507Z"
      },
      {
        "duration": 11,
        "start_time": "2022-09-18T19:32:50.906Z"
      },
      {
        "duration": 1215,
        "start_time": "2022-09-18T19:33:03.109Z"
      },
      {
        "duration": 1176,
        "start_time": "2022-09-18T19:33:44.867Z"
      },
      {
        "duration": 13,
        "start_time": "2022-09-18T19:34:41.294Z"
      },
      {
        "duration": 3,
        "start_time": "2022-09-18T19:34:52.200Z"
      },
      {
        "duration": 543,
        "start_time": "2022-09-18T19:35:04.457Z"
      },
      {
        "duration": 14,
        "start_time": "2022-09-18T19:35:41.264Z"
      },
      {
        "duration": 542,
        "start_time": "2022-09-18T19:35:53.714Z"
      },
      {
        "duration": 550,
        "start_time": "2022-09-18T19:35:59.998Z"
      },
      {
        "duration": 2690,
        "start_time": "2022-09-19T15:09:21.703Z"
      },
      {
        "duration": 2266,
        "start_time": "2022-09-19T15:09:24.396Z"
      },
      {
        "duration": 198,
        "start_time": "2022-09-19T15:09:26.664Z"
      },
      {
        "duration": 8,
        "start_time": "2022-09-19T15:09:26.863Z"
      },
      {
        "duration": 6713,
        "start_time": "2022-09-19T15:09:26.873Z"
      },
      {
        "duration": 52,
        "start_time": "2022-09-19T15:09:33.588Z"
      },
      {
        "duration": 3,
        "start_time": "2022-09-19T15:09:33.641Z"
      },
      {
        "duration": 7,
        "start_time": "2022-09-19T15:09:33.645Z"
      },
      {
        "duration": 92264,
        "start_time": "2022-09-19T15:09:33.653Z"
      },
      {
        "duration": 85,
        "start_time": "2022-09-19T15:11:05.919Z"
      },
      {
        "duration": 357938,
        "start_time": "2022-09-19T15:11:06.006Z"
      },
      {
        "duration": 6,
        "start_time": "2022-09-19T15:17:03.946Z"
      },
      {
        "duration": 1134554,
        "start_time": "2022-09-19T15:17:03.953Z"
      },
      {
        "duration": 6,
        "start_time": "2022-09-19T15:35:58.510Z"
      },
      {
        "duration": 511,
        "start_time": "2022-09-19T15:35:58.518Z"
      },
      {
        "duration": 169,
        "start_time": "2022-09-19T15:36:24.281Z"
      },
      {
        "duration": 12,
        "start_time": "2022-09-19T15:36:32.328Z"
      },
      {
        "duration": 17,
        "start_time": "2022-09-19T15:37:16.118Z"
      },
      {
        "duration": 16,
        "start_time": "2022-09-19T15:37:31.929Z"
      },
      {
        "duration": 31,
        "start_time": "2022-09-19T15:37:43.392Z"
      },
      {
        "duration": 18,
        "start_time": "2022-09-19T15:37:53.924Z"
      },
      {
        "duration": 9,
        "start_time": "2022-09-19T15:51:44.739Z"
      },
      {
        "duration": 1718,
        "start_time": "2022-09-19T15:53:16.638Z"
      },
      {
        "duration": 6,
        "start_time": "2022-09-19T15:59:32.586Z"
      },
      {
        "duration": 6,
        "start_time": "2022-09-19T15:59:48.451Z"
      },
      {
        "duration": 4,
        "start_time": "2022-09-19T16:02:15.270Z"
      },
      {
        "duration": 16,
        "start_time": "2022-09-19T16:02:22.691Z"
      },
      {
        "duration": 11,
        "start_time": "2022-09-19T16:02:32.033Z"
      },
      {
        "duration": 11,
        "start_time": "2022-09-19T16:03:03.300Z"
      },
      {
        "duration": 11,
        "start_time": "2022-09-19T16:03:14.874Z"
      },
      {
        "duration": 4067,
        "start_time": "2022-09-19T16:14:44.746Z"
      },
      {
        "duration": 42,
        "start_time": "2022-09-19T16:16:17.472Z"
      },
      {
        "duration": 4244,
        "start_time": "2022-09-19T16:16:34.818Z"
      },
      {
        "duration": 30,
        "start_time": "2022-09-19T16:17:29.039Z"
      },
      {
        "duration": 40,
        "start_time": "2022-09-19T16:18:31.334Z"
      },
      {
        "duration": 3816,
        "start_time": "2022-09-19T16:18:39.724Z"
      },
      {
        "duration": 4020,
        "start_time": "2022-09-19T16:20:01.921Z"
      },
      {
        "duration": 14,
        "start_time": "2022-09-19T16:21:14.539Z"
      },
      {
        "duration": 20,
        "start_time": "2022-09-19T16:21:51.404Z"
      },
      {
        "duration": 19,
        "start_time": "2022-09-19T16:22:13.753Z"
      },
      {
        "duration": 6,
        "start_time": "2022-09-19T16:23:01.607Z"
      },
      {
        "duration": 32,
        "start_time": "2022-09-19T16:25:35.367Z"
      },
      {
        "duration": 24,
        "start_time": "2022-09-19T16:27:02.666Z"
      },
      {
        "duration": 31,
        "start_time": "2022-09-19T16:30:32.433Z"
      },
      {
        "duration": 34,
        "start_time": "2022-09-19T16:30:57.335Z"
      },
      {
        "duration": 24,
        "start_time": "2022-09-19T16:31:21.905Z"
      },
      {
        "duration": 24,
        "start_time": "2022-09-19T16:31:37.312Z"
      },
      {
        "duration": 24,
        "start_time": "2022-09-19T16:34:02.018Z"
      },
      {
        "duration": 22,
        "start_time": "2022-09-19T16:36:19.941Z"
      },
      {
        "duration": 1233,
        "start_time": "2022-09-19T16:36:40.617Z"
      },
      {
        "duration": 11,
        "start_time": "2022-09-19T16:38:58.331Z"
      },
      {
        "duration": 14,
        "start_time": "2022-09-19T16:47:51.212Z"
      },
      {
        "duration": 22,
        "start_time": "2022-09-19T16:47:57.940Z"
      },
      {
        "duration": 1245,
        "start_time": "2022-09-19T16:51:37.947Z"
      },
      {
        "duration": 505,
        "start_time": "2022-09-19T16:52:00.469Z"
      },
      {
        "duration": 15,
        "start_time": "2022-09-19T17:06:59.593Z"
      },
      {
        "duration": 13,
        "start_time": "2022-09-19T17:07:17.468Z"
      },
      {
        "duration": 7,
        "start_time": "2022-09-19T17:07:24.481Z"
      },
      {
        "duration": 4,
        "start_time": "2022-09-19T17:08:52.557Z"
      },
      {
        "duration": 4,
        "start_time": "2022-09-19T17:09:17.261Z"
      },
      {
        "duration": 4,
        "start_time": "2022-09-19T17:14:56.353Z"
      },
      {
        "duration": 704,
        "start_time": "2022-09-19T17:15:02.542Z"
      },
      {
        "duration": 1302,
        "start_time": "2022-09-19T17:15:31.012Z"
      },
      {
        "duration": 777,
        "start_time": "2022-09-19T17:15:35.492Z"
      },
      {
        "duration": 209,
        "start_time": "2022-09-19T17:15:39.340Z"
      },
      {
        "duration": 7,
        "start_time": "2022-09-19T17:15:43.602Z"
      },
      {
        "duration": 3,
        "start_time": "2022-09-19T17:18:39.301Z"
      },
      {
        "duration": 88509,
        "start_time": "2022-09-19T17:20:23.598Z"
      },
      {
        "duration": 9822,
        "start_time": "2022-09-19T17:22:36.706Z"
      },
      {
        "duration": 44,
        "start_time": "2022-09-19T17:22:53.684Z"
      },
      {
        "duration": 2,
        "start_time": "2022-09-19T17:23:30.233Z"
      },
      {
        "duration": 3,
        "start_time": "2022-09-19T17:23:33.572Z"
      },
      {
        "duration": 85368,
        "start_time": "2022-09-19T17:23:37.338Z"
      },
      {
        "duration": 6,
        "start_time": "2022-09-19T17:25:06.614Z"
      },
      {
        "duration": 6,
        "start_time": "2022-09-19T17:25:40.688Z"
      },
      {
        "duration": 317199,
        "start_time": "2022-09-19T17:25:40.696Z"
      },
      {
        "duration": 8,
        "start_time": "2022-09-19T17:30:57.897Z"
      },
      {
        "duration": 1590,
        "start_time": "2022-09-19T17:35:12.646Z"
      },
      {
        "duration": 2424,
        "start_time": "2022-09-19T17:35:14.238Z"
      },
      {
        "duration": 217,
        "start_time": "2022-09-19T17:35:16.663Z"
      },
      {
        "duration": 18,
        "start_time": "2022-09-19T17:35:16.882Z"
      },
      {
        "duration": 5,
        "start_time": "2022-09-19T17:35:16.902Z"
      },
      {
        "duration": 89565,
        "start_time": "2022-09-19T17:35:16.908Z"
      },
      {
        "duration": 9915,
        "start_time": "2022-09-19T17:36:46.474Z"
      },
      {
        "duration": 48,
        "start_time": "2022-09-19T17:36:56.391Z"
      },
      {
        "duration": 3,
        "start_time": "2022-09-19T17:36:56.441Z"
      },
      {
        "duration": 4,
        "start_time": "2022-09-19T17:36:56.446Z"
      },
      {
        "duration": 1516,
        "start_time": "2022-09-19T17:38:33.577Z"
      },
      {
        "duration": 2495,
        "start_time": "2022-09-19T17:38:35.095Z"
      },
      {
        "duration": 221,
        "start_time": "2022-09-19T17:38:37.591Z"
      },
      {
        "duration": 7,
        "start_time": "2022-09-19T17:38:37.814Z"
      },
      {
        "duration": 3,
        "start_time": "2022-09-19T17:38:37.822Z"
      },
      {
        "duration": 92945,
        "start_time": "2022-09-19T17:38:37.826Z"
      },
      {
        "duration": 10363,
        "start_time": "2022-09-19T17:40:10.773Z"
      },
      {
        "duration": 43,
        "start_time": "2022-09-19T17:40:21.138Z"
      },
      {
        "duration": 45,
        "start_time": "2022-09-19T17:40:21.183Z"
      },
      {
        "duration": 5,
        "start_time": "2022-09-19T17:40:21.230Z"
      },
      {
        "duration": 1377,
        "start_time": "2022-09-19T17:46:35.222Z"
      },
      {
        "duration": 2375,
        "start_time": "2022-09-19T17:46:36.600Z"
      },
      {
        "duration": 231,
        "start_time": "2022-09-19T17:46:38.977Z"
      },
      {
        "duration": 7,
        "start_time": "2022-09-19T17:46:39.210Z"
      },
      {
        "duration": 3,
        "start_time": "2022-09-19T17:46:39.219Z"
      },
      {
        "duration": 89049,
        "start_time": "2022-09-19T17:46:39.223Z"
      },
      {
        "duration": 36,
        "start_time": "2022-09-19T17:51:37.830Z"
      },
      {
        "duration": 37,
        "start_time": "2022-09-19T17:55:45.319Z"
      },
      {
        "duration": 137,
        "start_time": "2022-09-19T18:00:17.312Z"
      },
      {
        "duration": 6820,
        "start_time": "2022-09-19T18:00:45.296Z"
      },
      {
        "duration": 4,
        "start_time": "2022-09-19T18:01:37.716Z"
      },
      {
        "duration": 2,
        "start_time": "2022-09-19T18:01:41.091Z"
      },
      {
        "duration": 1101791,
        "start_time": "2022-09-19T18:01:46.360Z"
      },
      {
        "duration": 13,
        "start_time": "2022-09-19T18:20:54.616Z"
      },
      {
        "duration": 394,
        "start_time": "2022-09-19T18:20:59.221Z"
      },
      {
        "duration": 17,
        "start_time": "2022-09-19T18:21:45.762Z"
      },
      {
        "duration": 87157,
        "start_time": "2022-09-19T18:23:12.349Z"
      },
      {
        "duration": 6,
        "start_time": "2022-09-19T18:24:43.674Z"
      },
      {
        "duration": 11,
        "start_time": "2022-09-19T18:27:28.463Z"
      },
      {
        "duration": 17,
        "start_time": "2022-09-19T18:27:39.160Z"
      },
      {
        "duration": 14,
        "start_time": "2022-09-19T18:27:45.965Z"
      },
      {
        "duration": 30,
        "start_time": "2022-09-19T18:28:27.599Z"
      },
      {
        "duration": 15,
        "start_time": "2022-09-19T18:28:33.538Z"
      },
      {
        "duration": 22,
        "start_time": "2022-09-19T18:29:25.565Z"
      },
      {
        "duration": 15,
        "start_time": "2022-09-19T18:30:24.180Z"
      },
      {
        "duration": 39,
        "start_time": "2022-09-19T18:30:37.371Z"
      },
      {
        "duration": 5,
        "start_time": "2022-09-19T18:33:27.659Z"
      },
      {
        "duration": 16,
        "start_time": "2022-09-19T18:34:46.811Z"
      },
      {
        "duration": 10,
        "start_time": "2022-09-19T18:35:42.820Z"
      },
      {
        "duration": 13,
        "start_time": "2022-09-19T18:35:52.462Z"
      },
      {
        "duration": 17,
        "start_time": "2022-09-19T18:36:25.698Z"
      },
      {
        "duration": 25,
        "start_time": "2022-09-19T18:37:26.501Z"
      },
      {
        "duration": 15,
        "start_time": "2022-09-19T18:38:20.513Z"
      },
      {
        "duration": 21,
        "start_time": "2022-09-19T18:39:39.925Z"
      },
      {
        "duration": 19,
        "start_time": "2022-09-19T18:39:57.446Z"
      },
      {
        "duration": 24,
        "start_time": "2022-09-19T18:40:05.896Z"
      },
      {
        "duration": 13,
        "start_time": "2022-09-19T18:42:19.347Z"
      },
      {
        "duration": 3968,
        "start_time": "2022-09-19T18:42:34.787Z"
      },
      {
        "duration": 37,
        "start_time": "2022-09-19T18:43:24.024Z"
      },
      {
        "duration": 34,
        "start_time": "2022-09-19T18:45:00.137Z"
      },
      {
        "duration": 38,
        "start_time": "2022-09-19T18:45:25.597Z"
      },
      {
        "duration": 33,
        "start_time": "2022-09-19T18:45:37.151Z"
      },
      {
        "duration": 4,
        "start_time": "2022-09-19T18:46:46.345Z"
      },
      {
        "duration": 34,
        "start_time": "2022-09-19T18:46:53.979Z"
      },
      {
        "duration": 4,
        "start_time": "2022-09-19T18:47:32.555Z"
      },
      {
        "duration": 7,
        "start_time": "2022-09-19T18:48:36.911Z"
      },
      {
        "duration": 2258,
        "start_time": "2022-09-19T18:50:28.433Z"
      },
      {
        "duration": 2,
        "start_time": "2022-09-19T18:51:24.980Z"
      },
      {
        "duration": 2,
        "start_time": "2022-09-19T18:51:28.614Z"
      },
      {
        "duration": 83,
        "start_time": "2022-09-19T18:52:19.309Z"
      },
      {
        "duration": 182979,
        "start_time": "2022-09-19T18:53:06.756Z"
      },
      {
        "duration": 9,
        "start_time": "2022-09-19T18:58:37.679Z"
      },
      {
        "duration": 221,
        "start_time": "2022-09-19T18:58:51.924Z"
      },
      {
        "duration": 2018,
        "start_time": "2022-09-19T19:01:26.386Z"
      },
      {
        "duration": 2382,
        "start_time": "2022-09-19T19:01:28.406Z"
      },
      {
        "duration": 218,
        "start_time": "2022-09-19T19:01:30.790Z"
      },
      {
        "duration": 8,
        "start_time": "2022-09-19T19:01:31.010Z"
      },
      {
        "duration": 7,
        "start_time": "2022-09-19T19:01:31.019Z"
      },
      {
        "duration": 90424,
        "start_time": "2022-09-19T19:01:31.027Z"
      },
      {
        "duration": 48,
        "start_time": "2022-09-19T19:03:01.454Z"
      },
      {
        "duration": 6194,
        "start_time": "2022-09-19T19:03:01.504Z"
      },
      {
        "duration": 2,
        "start_time": "2022-09-19T19:03:07.700Z"
      },
      {
        "duration": 9,
        "start_time": "2022-09-19T19:03:07.704Z"
      },
      {
        "duration": 83188,
        "start_time": "2022-09-19T19:03:07.714Z"
      },
      {
        "duration": 5,
        "start_time": "2022-09-19T19:04:30.903Z"
      },
      {
        "duration": 306591,
        "start_time": "2022-09-19T19:04:30.910Z"
      },
      {
        "duration": 5,
        "start_time": "2022-09-19T19:09:37.503Z"
      },
      {
        "duration": 1100122,
        "start_time": "2022-09-19T19:09:37.510Z"
      },
      {
        "duration": 8,
        "start_time": "2022-09-19T19:27:57.634Z"
      },
      {
        "duration": 426,
        "start_time": "2022-09-19T19:27:57.644Z"
      },
      {
        "duration": 28,
        "start_time": "2022-09-19T19:27:58.072Z"
      },
      {
        "duration": 1648,
        "start_time": "2022-09-20T15:37:09.220Z"
      },
      {
        "duration": 3703,
        "start_time": "2022-09-20T15:37:10.870Z"
      },
      {
        "duration": 241,
        "start_time": "2022-09-20T15:37:14.574Z"
      },
      {
        "duration": 8,
        "start_time": "2022-09-20T15:37:14.816Z"
      },
      {
        "duration": 3,
        "start_time": "2022-09-20T15:37:14.825Z"
      },
      {
        "duration": 107902,
        "start_time": "2022-09-20T15:37:14.830Z"
      },
      {
        "duration": 38,
        "start_time": "2022-09-20T15:39:02.735Z"
      },
      {
        "duration": 7542,
        "start_time": "2022-09-20T15:39:02.789Z"
      },
      {
        "duration": 3,
        "start_time": "2022-09-20T15:39:10.332Z"
      },
      {
        "duration": 9,
        "start_time": "2022-09-20T15:39:10.337Z"
      },
      {
        "duration": 38,
        "start_time": "2022-09-20T15:39:15.814Z"
      },
      {
        "duration": 284074,
        "start_time": "2022-09-20T15:40:56.516Z"
      },
      {
        "duration": 7,
        "start_time": "2022-09-20T15:46:48.167Z"
      },
      {
        "duration": 346229,
        "start_time": "2022-09-20T15:49:19.864Z"
      },
      {
        "duration": 8,
        "start_time": "2022-09-20T15:57:03.353Z"
      },
      {
        "duration": 20,
        "start_time": "2022-09-20T15:58:26.523Z"
      },
      {
        "duration": 4,
        "start_time": "2022-09-20T16:00:29.701Z"
      },
      {
        "duration": 238,
        "start_time": "2022-09-20T16:01:48.607Z"
      },
      {
        "duration": 5,
        "start_time": "2022-09-20T16:02:09.047Z"
      },
      {
        "duration": 132,
        "start_time": "2022-09-20T16:02:13.914Z"
      },
      {
        "duration": 531035,
        "start_time": "2022-09-20T16:02:30.530Z"
      },
      {
        "duration": 6,
        "start_time": "2022-09-20T16:11:42.777Z"
      },
      {
        "duration": 225224,
        "start_time": "2022-09-20T16:12:35.096Z"
      },
      {
        "duration": 6,
        "start_time": "2022-09-20T16:16:31.274Z"
      },
      {
        "duration": 337394,
        "start_time": "2022-09-20T16:17:31.902Z"
      },
      {
        "duration": 6,
        "start_time": "2022-09-20T16:23:13.799Z"
      },
      {
        "duration": 18,
        "start_time": "2022-09-20T16:23:37.729Z"
      },
      {
        "duration": 21,
        "start_time": "2022-09-20T16:24:04.601Z"
      },
      {
        "duration": 14,
        "start_time": "2022-09-20T16:36:22.030Z"
      },
      {
        "duration": 1422,
        "start_time": "2022-09-20T17:05:09.082Z"
      },
      {
        "duration": 955,
        "start_time": "2022-09-20T17:05:10.506Z"
      },
      {
        "duration": 233,
        "start_time": "2022-09-20T17:05:11.462Z"
      },
      {
        "duration": 9,
        "start_time": "2022-09-20T17:05:11.697Z"
      },
      {
        "duration": 3,
        "start_time": "2022-09-20T17:05:11.708Z"
      },
      {
        "duration": 102683,
        "start_time": "2022-09-20T17:05:11.712Z"
      },
      {
        "duration": 37,
        "start_time": "2022-09-20T17:06:54.396Z"
      },
      {
        "duration": 7126,
        "start_time": "2022-09-20T17:06:54.435Z"
      },
      {
        "duration": 3,
        "start_time": "2022-09-20T17:07:01.563Z"
      },
      {
        "duration": 30,
        "start_time": "2022-09-20T17:07:01.568Z"
      },
      {
        "duration": 340792,
        "start_time": "2022-09-20T17:07:01.600Z"
      },
      {
        "duration": 99,
        "start_time": "2022-09-20T17:12:42.394Z"
      },
      {
        "duration": 366615,
        "start_time": "2022-09-20T17:12:42.495Z"
      },
      {
        "duration": 15,
        "start_time": "2022-09-20T17:18:49.111Z"
      },
      {
        "duration": 1210191,
        "start_time": "2022-09-20T17:18:49.128Z"
      },
      {
        "duration": 10,
        "start_time": "2022-09-20T17:38:59.323Z"
      },
      {
        "duration": 30,
        "start_time": "2022-09-20T17:38:59.335Z"
      },
      {
        "duration": 56,
        "start_time": "2022-09-20T17:38:59.366Z"
      }
    ],
    "kernelspec": {
      "display_name": "Python 3 (ipykernel)",
      "language": "python",
      "name": "python3"
    },
    "language_info": {
      "codemirror_mode": {
        "name": "ipython",
        "version": 3
      },
      "file_extension": ".py",
      "mimetype": "text/x-python",
      "name": "python",
      "nbconvert_exporter": "python",
      "pygments_lexer": "ipython3",
      "version": "3.9.5"
    },
    "toc": {
      "base_numbering": 1,
      "nav_menu": {},
      "number_sections": true,
      "sideBar": true,
      "skip_h1_title": true,
      "title_cell": "Содержание",
      "title_sidebar": "Contents",
      "toc_cell": true,
      "toc_position": {
        "height": "calc(100% - 180px)",
        "left": "10px",
        "top": "150px",
        "width": "302.391px"
      },
      "toc_section_display": true,
      "toc_window_display": false
    },
    "colab": {
      "provenance": [],
      "toc_visible": true
    }
  },
  "nbformat": 4,
  "nbformat_minor": 0
}
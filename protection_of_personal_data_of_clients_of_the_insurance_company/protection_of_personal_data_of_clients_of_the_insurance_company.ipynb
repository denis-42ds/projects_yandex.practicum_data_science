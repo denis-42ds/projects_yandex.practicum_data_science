{
  "cells": [
    {
      "cell_type": "markdown",
      "metadata": {
        "toc": true,
        "id": "T8XmU9JMRWB-"
      },
      "source": [
        "<h1>Содержание<span class=\"tocSkip\"></span></h1>\n",
        "<div class=\"toc\"><ul class=\"toc-item\"><li><span><a href=\"#Загрузка-данных\" data-toc-modified-id=\"Загрузка-данных-1\"><span class=\"toc-item-num\">1&nbsp;&nbsp;</span>Загрузка данных</a></span><ul class=\"toc-item\"><li><span><a href=\"#Открытие-файла-и-ознакомление-с-ним\" data-toc-modified-id=\"Открытие-файла-и-ознакомление-с-ним-1.1\"><span class=\"toc-item-num\">1.1&nbsp;&nbsp;</span>Открытие файла и ознакомление с ним</a></span></li><li><span><a href=\"#Вывод\" data-toc-modified-id=\"Вывод-1.2\"><span class=\"toc-item-num\">1.2&nbsp;&nbsp;</span>Вывод</a></span></li></ul></li><li><span><a href=\"#Умножение-матриц\" data-toc-modified-id=\"Умножение-матриц-2\"><span class=\"toc-item-num\">2&nbsp;&nbsp;</span>Умножение матриц</a></span></li><li><span><a href=\"#Алгоритм-преобразования\" data-toc-modified-id=\"Алгоритм-преобразования-3\"><span class=\"toc-item-num\">3&nbsp;&nbsp;</span>Алгоритм преобразования</a></span></li><li><span><a href=\"#Проверка-алгоритма\" data-toc-modified-id=\"Проверка-алгоритма-4\"><span class=\"toc-item-num\">4&nbsp;&nbsp;</span>Проверка алгоритма</a></span></li><li><span><a href=\"#Общий-вывод\" data-toc-modified-id=\"Общий-вывод-5\"><span class=\"toc-item-num\">5&nbsp;&nbsp;</span>Общий вывод</a></span></li><li><span><a href=\"#Чек-лист-проверки\" data-toc-modified-id=\"Чек-лист-проверки-6\"><span class=\"toc-item-num\">6&nbsp;&nbsp;</span>Чек-лист проверки</a></span></li></ul></div>"
      ]
    },
    {
      "cell_type": "markdown",
      "metadata": {
        "id": "JLoQC7CnRWB_"
      },
      "source": [
        "# Защита персональных данных клиентов"
      ]
    },
    {
      "cell_type": "markdown",
      "metadata": {
        "id": "Fd6fmYBvRWCA"
      },
      "source": [
        "Вам нужно защитить данные клиентов страховой компании «Хоть потоп». Разработайте такой метод преобразования данных, чтобы по ним было сложно восстановить персональную информацию. Обоснуйте корректность его работы.\n",
        "\n",
        "Нужно защитить данные, чтобы при преобразовании качество моделей машинного обучения не ухудшилось. Подбирать наилучшую модель не требуется."
      ]
    },
    {
      "cell_type": "markdown",
      "metadata": {
        "id": "BRG5SvmTRWCB"
      },
      "source": [
        "**Инструкция по выполнению проекта**<p>1. Загрузите и изучите данные.<p>2. Ответьте на вопрос и обоснуйте решение.<p>Признаки умножают на обратимую матрицу.<p>Изменится ли качество линейной регрессии? (Её можно обучить заново.)<p>a. Изменится. Приведите примеры матриц.<p>b. Не изменится. Укажите, как связаны параметры линейной регрессии в исходной задаче и в преобразованной.<p>3. Предложите алгоритм преобразования данных для решения задачи.<p>Обоснуйте, почему качество линейной регрессии не поменяется.<p>4. Запрограммируйте этот алгоритм, применив матричные операции.<p>Проверьте, что качество линейной регрессии из sklearn не отличается до и после преобразования. Примените метрику R2."
      ]
    },
    {
      "cell_type": "markdown",
      "metadata": {
        "id": "xbUe0A7ZRWCC"
      },
      "source": [
        "**Описание данных**\n",
        "\n",
        "Набор данных находится в файле /datasets/insurance.csv\n",
        "- Признаки: пол, возраст и зарплата застрахованного, количество членов его семьи.\n",
        "- Целевой признак: количество страховых выплат клиенту за последние 5 лет."
      ]
    },
    {
      "cell_type": "markdown",
      "metadata": {
        "id": "E6tYgRIkRWCE"
      },
      "source": [
        "## Загрузка данных"
      ]
    },
    {
      "cell_type": "markdown",
      "metadata": {
        "id": "or-mPNLLRWCE"
      },
      "source": [
        "Импорт необходимых для исследования инструментов"
      ]
    },
    {
      "cell_type": "code",
      "execution_count": null,
      "metadata": {
        "id": "4gUevMXZRWCF"
      },
      "outputs": [],
      "source": [
        "import pandas as pd\n",
        "import numpy as np\n",
        "from sklearn.model_selection import train_test_split\n",
        "from sklearn.linear_model import LinearRegression\n",
        "from sklearn.metrics import r2_score"
      ]
    },
    {
      "cell_type": "markdown",
      "metadata": {
        "id": "6jaMROWMRWCH"
      },
      "source": [
        "### Открытие файла и ознакомление с ним"
      ]
    },
    {
      "cell_type": "code",
      "execution_count": null,
      "metadata": {
        "scrolled": false,
        "id": "FrxyOHAfRWCH",
        "outputId": "6ddc9e24-b623-4eaa-bd04-c58647d54e3f"
      },
      "outputs": [
        {
          "data": {
            "text/html": [
              "<div>\n",
              "<style scoped>\n",
              "    .dataframe tbody tr th:only-of-type {\n",
              "        vertical-align: middle;\n",
              "    }\n",
              "\n",
              "    .dataframe tbody tr th {\n",
              "        vertical-align: top;\n",
              "    }\n",
              "\n",
              "    .dataframe thead th {\n",
              "        text-align: right;\n",
              "    }\n",
              "</style>\n",
              "<table border=\"1\" class=\"dataframe\">\n",
              "  <thead>\n",
              "    <tr style=\"text-align: right;\">\n",
              "      <th></th>\n",
              "      <th>Пол</th>\n",
              "      <th>Возраст</th>\n",
              "      <th>Зарплата</th>\n",
              "      <th>Члены семьи</th>\n",
              "      <th>Страховые выплаты</th>\n",
              "    </tr>\n",
              "  </thead>\n",
              "  <tbody>\n",
              "    <tr>\n",
              "      <th>2080</th>\n",
              "      <td>1</td>\n",
              "      <td>27.0</td>\n",
              "      <td>41800.0</td>\n",
              "      <td>1</td>\n",
              "      <td>0</td>\n",
              "    </tr>\n",
              "    <tr>\n",
              "      <th>3621</th>\n",
              "      <td>1</td>\n",
              "      <td>33.0</td>\n",
              "      <td>39800.0</td>\n",
              "      <td>0</td>\n",
              "      <td>0</td>\n",
              "    </tr>\n",
              "    <tr>\n",
              "      <th>2524</th>\n",
              "      <td>1</td>\n",
              "      <td>41.0</td>\n",
              "      <td>34100.0</td>\n",
              "      <td>0</td>\n",
              "      <td>0</td>\n",
              "    </tr>\n",
              "    <tr>\n",
              "      <th>2685</th>\n",
              "      <td>1</td>\n",
              "      <td>24.0</td>\n",
              "      <td>50000.0</td>\n",
              "      <td>0</td>\n",
              "      <td>0</td>\n",
              "    </tr>\n",
              "    <tr>\n",
              "      <th>1663</th>\n",
              "      <td>0</td>\n",
              "      <td>29.0</td>\n",
              "      <td>40300.0</td>\n",
              "      <td>1</td>\n",
              "      <td>0</td>\n",
              "    </tr>\n",
              "  </tbody>\n",
              "</table>\n",
              "</div>"
            ],
            "text/plain": [
              "      Пол  Возраст  Зарплата  Члены семьи  Страховые выплаты\n",
              "2080    1     27.0   41800.0            1                  0\n",
              "3621    1     33.0   39800.0            0                  0\n",
              "2524    1     41.0   34100.0            0                  0\n",
              "2685    1     24.0   50000.0            0                  0\n",
              "1663    0     29.0   40300.0            1                  0"
            ]
          },
          "metadata": {},
          "output_type": "display_data"
        },
        {
          "name": "stdout",
          "output_type": "stream",
          "text": [
            "<class 'pandas.core.frame.DataFrame'>\n",
            "RangeIndex: 5000 entries, 0 to 4999\n",
            "Data columns (total 5 columns):\n",
            " #   Column             Non-Null Count  Dtype  \n",
            "---  ------             --------------  -----  \n",
            " 0   Пол                5000 non-null   int64  \n",
            " 1   Возраст            5000 non-null   float64\n",
            " 2   Зарплата           5000 non-null   float64\n",
            " 3   Члены семьи        5000 non-null   int64  \n",
            " 4   Страховые выплаты  5000 non-null   int64  \n",
            "dtypes: float64(2), int64(3)\n",
            "memory usage: 195.4 KB\n"
          ]
        }
      ],
      "source": [
        "df = pd.read_csv('/datasets/insurance.csv')\n",
        "display(df.sample(5))\n",
        "df.info()"
      ]
    },
    {
      "cell_type": "markdown",
      "metadata": {
        "id": "ClGttPCmRWCJ"
      },
      "source": [
        "Проверка уникальных значений каждого признака"
      ]
    },
    {
      "cell_type": "code",
      "execution_count": null,
      "metadata": {
        "id": "YOn2vkwGRWCJ",
        "outputId": "9fab3d86-5053-4394-cdb1-4673709cde1f"
      },
      "outputs": [
        {
          "data": {
            "text/plain": [
              "0    2505\n",
              "1    2495\n",
              "Name: Пол, dtype: int64"
            ]
          },
          "execution_count": 3,
          "metadata": {},
          "output_type": "execute_result"
        }
      ],
      "source": [
        "df['Пол'].value_counts()"
      ]
    },
    {
      "cell_type": "code",
      "execution_count": null,
      "metadata": {
        "id": "g6r1XFACRWCJ",
        "outputId": "93e8f4c6-56a4-4e88-dcfa-4b20e5b99486"
      },
      "outputs": [
        {
          "data": {
            "text/plain": [
              "1    1814\n",
              "0    1513\n",
              "2    1071\n",
              "3     439\n",
              "4     124\n",
              "5      32\n",
              "6       7\n",
              "Name: Члены семьи, dtype: int64"
            ]
          },
          "execution_count": 4,
          "metadata": {},
          "output_type": "execute_result"
        }
      ],
      "source": [
        "df['Члены семьи'].value_counts()"
      ]
    },
    {
      "cell_type": "code",
      "execution_count": null,
      "metadata": {
        "scrolled": true,
        "id": "_U1cVtOgRWCK",
        "outputId": "eb278fca-6a32-4655-8533-b8a6acd6dbd2"
      },
      "outputs": [
        {
          "data": {
            "text/plain": [
              "0    4436\n",
              "1     423\n",
              "2     115\n",
              "3      18\n",
              "4       7\n",
              "5       1\n",
              "Name: Страховые выплаты, dtype: int64"
            ]
          },
          "execution_count": 5,
          "metadata": {},
          "output_type": "execute_result"
        }
      ],
      "source": [
        "df['Страховые выплаты'].value_counts()"
      ]
    },
    {
      "cell_type": "markdown",
      "metadata": {
        "id": "ISmcMvhuRWCL"
      },
      "source": [
        "Проверка на наличие явных дубликатов строк"
      ]
    },
    {
      "cell_type": "code",
      "execution_count": null,
      "metadata": {
        "id": "8b-TCTjoRWCL",
        "outputId": "7380c2f0-ce55-4323-e235-4a9d564aeccd"
      },
      "outputs": [
        {
          "data": {
            "text/plain": [
              "153"
            ]
          },
          "execution_count": 6,
          "metadata": {},
          "output_type": "execute_result"
        }
      ],
      "source": [
        "df.duplicated().sum()"
      ]
    },
    {
      "cell_type": "markdown",
      "metadata": {
        "id": "rsr2NWmNRWCM"
      },
      "source": [
        "Преобразование типов данных *float* в *int*. Построение матрицы корреляции признаков."
      ]
    },
    {
      "cell_type": "code",
      "execution_count": null,
      "metadata": {
        "id": "9A5tQZwhRWCN",
        "outputId": "77bcc005-b3c6-46f5-8fc6-42513064015d"
      },
      "outputs": [
        {
          "name": "stdout",
          "output_type": "stream",
          "text": [
            "<class 'pandas.core.frame.DataFrame'>\n",
            "RangeIndex: 5000 entries, 0 to 4999\n",
            "Data columns (total 5 columns):\n",
            " #   Column             Non-Null Count  Dtype\n",
            "---  ------             --------------  -----\n",
            " 0   Пол                5000 non-null   int64\n",
            " 1   Возраст            5000 non-null   int64\n",
            " 2   Зарплата           5000 non-null   int64\n",
            " 3   Члены семьи        5000 non-null   int64\n",
            " 4   Страховые выплаты  5000 non-null   int64\n",
            "dtypes: int64(5)\n",
            "memory usage: 195.4 KB\n"
          ]
        },
        {
          "data": {
            "text/html": [
              "<div>\n",
              "<style scoped>\n",
              "    .dataframe tbody tr th:only-of-type {\n",
              "        vertical-align: middle;\n",
              "    }\n",
              "\n",
              "    .dataframe tbody tr th {\n",
              "        vertical-align: top;\n",
              "    }\n",
              "\n",
              "    .dataframe thead th {\n",
              "        text-align: right;\n",
              "    }\n",
              "</style>\n",
              "<table border=\"1\" class=\"dataframe\">\n",
              "  <thead>\n",
              "    <tr style=\"text-align: right;\">\n",
              "      <th></th>\n",
              "      <th>Пол</th>\n",
              "      <th>Возраст</th>\n",
              "      <th>Зарплата</th>\n",
              "      <th>Члены семьи</th>\n",
              "      <th>Страховые выплаты</th>\n",
              "    </tr>\n",
              "  </thead>\n",
              "  <tbody>\n",
              "    <tr>\n",
              "      <th>Пол</th>\n",
              "      <td>1.000000</td>\n",
              "      <td>0.002074</td>\n",
              "      <td>0.014910</td>\n",
              "      <td>-0.008991</td>\n",
              "      <td>0.010140</td>\n",
              "    </tr>\n",
              "    <tr>\n",
              "      <th>Возраст</th>\n",
              "      <td>0.002074</td>\n",
              "      <td>1.000000</td>\n",
              "      <td>-0.019093</td>\n",
              "      <td>-0.006692</td>\n",
              "      <td>0.651030</td>\n",
              "    </tr>\n",
              "    <tr>\n",
              "      <th>Зарплата</th>\n",
              "      <td>0.014910</td>\n",
              "      <td>-0.019093</td>\n",
              "      <td>1.000000</td>\n",
              "      <td>-0.030296</td>\n",
              "      <td>-0.014963</td>\n",
              "    </tr>\n",
              "    <tr>\n",
              "      <th>Члены семьи</th>\n",
              "      <td>-0.008991</td>\n",
              "      <td>-0.006692</td>\n",
              "      <td>-0.030296</td>\n",
              "      <td>1.000000</td>\n",
              "      <td>-0.036290</td>\n",
              "    </tr>\n",
              "    <tr>\n",
              "      <th>Страховые выплаты</th>\n",
              "      <td>0.010140</td>\n",
              "      <td>0.651030</td>\n",
              "      <td>-0.014963</td>\n",
              "      <td>-0.036290</td>\n",
              "      <td>1.000000</td>\n",
              "    </tr>\n",
              "  </tbody>\n",
              "</table>\n",
              "</div>"
            ],
            "text/plain": [
              "                        Пол   Возраст  Зарплата  Члены семьи  \\\n",
              "Пол                1.000000  0.002074  0.014910    -0.008991   \n",
              "Возраст            0.002074  1.000000 -0.019093    -0.006692   \n",
              "Зарплата           0.014910 -0.019093  1.000000    -0.030296   \n",
              "Члены семьи       -0.008991 -0.006692 -0.030296     1.000000   \n",
              "Страховые выплаты  0.010140  0.651030 -0.014963    -0.036290   \n",
              "\n",
              "                   Страховые выплаты  \n",
              "Пол                         0.010140  \n",
              "Возраст                     0.651030  \n",
              "Зарплата                   -0.014963  \n",
              "Члены семьи                -0.036290  \n",
              "Страховые выплаты           1.000000  "
            ]
          },
          "execution_count": 7,
          "metadata": {},
          "output_type": "execute_result"
        }
      ],
      "source": [
        "df['Возраст'] = df['Возраст'].astype('int')\n",
        "df['Зарплата'] = df['Зарплата'].astype('int')\n",
        "df.info()\n",
        "df.corr()"
      ]
    },
    {
      "cell_type": "markdown",
      "metadata": {
        "id": "9v5ClikcRWCP"
      },
      "source": [
        "### Вывод"
      ]
    },
    {
      "cell_type": "markdown",
      "metadata": {
        "id": "hKIsOZDjRWCP"
      },
      "source": [
        "- датафрейм состоит из четырёх признаков и одного целевого, в которых по 5 тысяч строк\n",
        "- пропусков в данных не обнаружено\n",
        "- распределение значений признаков неравномерное\n",
        "- присутствуют явные дубликаты, но нашему исследованию они не помешают\n",
        "- все типы данных приведены к целочисленным\n",
        "- матрица корелляции показывает прямую связь между возрастом клиента и количеством страховых выплат. Среди других признаков зависимостей не прослеживается."
      ]
    },
    {
      "cell_type": "markdown",
      "metadata": {
        "id": "OXs5kLeJRWCU"
      },
      "source": [
        "## Умножение матриц"
      ]
    },
    {
      "cell_type": "markdown",
      "metadata": {
        "id": "d764aIWIRWCV"
      },
      "source": [
        "Обозначения:\n",
        "\n",
        "- $X$ — матрица признаков (нулевой столбец состоит из единиц)\n",
        "\n",
        "- $y$ — вектор целевого признака\n",
        "\n",
        "- $P$ — матрица, на которую умножаются признаки\n",
        "\n",
        "- $w$ — вектор весов линейной регрессии (нулевой элемент равен сдвигу)"
      ]
    },
    {
      "cell_type": "markdown",
      "metadata": {
        "id": "bV6pZyHjRWCV"
      },
      "source": [
        "Предсказания:\n",
        "\n",
        "$$\n",
        "a = Xw\n",
        "$$\n",
        "\n",
        "Задача обучения:\n",
        "\n",
        "$$\n",
        "w = \\arg\\min_w MSE(Xw, y)\n",
        "$$\n",
        "\n",
        "Формула обучения:\n",
        "\n",
        "$$\n",
        "w = (X^T X)^{-1} X^T y\n",
        "$$"
      ]
    },
    {
      "cell_type": "markdown",
      "metadata": {
        "id": "bd3TJu_7RWCV"
      },
      "source": [
        "**Ответ:** качество линейной регрессии не изменится\n",
        "\n",
        "**Обоснование:** \n",
        "\n",
        "Предсказания для новой матрицы:\n",
        "$$\n",
        "a_P = XPw\n",
        "$$\n",
        "\n",
        "Вектор весов:\n",
        "$$\n",
        "w = ((XP)^T (XP))^{-1} (XP)^T y\n",
        "$$\n",
        "\n",
        "Подставим в формулу расчёта предсказаний значение вектора весов:\n",
        "$$\n",
        "a_P = (XP)((XP)^T (XP))^{-1} (XP)^T y\n",
        "$$\n",
        "\n",
        "Раскроем скобки с транспонированием:\n",
        "$$\n",
        "a_P = (XP)(P^TX^TXP)^{-1}P^TX^T y\n",
        "$$\n",
        "\n",
        "Выносим ***P*** за скобки, так как она квадратная (по условию):\n",
        "$$\n",
        "a_P = XPP^{-1}(X^TX)^{-1}(P^T)^{-1}P^TX^Ty\n",
        "$$\n",
        "\n",
        "Ввиду того, что выражения:\n",
        "$$\n",
        "PP^{-1}\n",
        "$$\n",
        "и\n",
        "$$\n",
        "P^T(P^T)^{-1}\n",
        "$$\n",
        "равны ***E***, получаем:\n",
        "\n",
        "$$\n",
        "a_P = X(X^T X)^{-1}X^T y\n",
        "$$\n",
        "\n",
        "Из чего следует:\n",
        "$$\n",
        "a_P= Xw=a\n",
        "$$"
      ]
    },
    {
      "cell_type": "markdown",
      "metadata": {
        "id": "x90OyX1zRWCX"
      },
      "source": [
        "## Алгоритм преобразования"
      ]
    },
    {
      "cell_type": "markdown",
      "metadata": {
        "id": "dMD9-T_tRWCX"
      },
      "source": [
        "**Алгоритм**\n",
        "\n",
        "1. Деление данных на две выборки.\n",
        "2. Обучение модели и вычисление коэффициента детерминации.\n",
        "3. Умножение признаков на обратимую матрицу.\n",
        "4. Обучение модели и вычисление коэффициента детерминации на изменённых данных.\n",
        "5. Сравнение коэффициентов детерминации моделей."
      ]
    },
    {
      "cell_type": "markdown",
      "metadata": {
        "id": "zi0F36fpRWCX"
      },
      "source": [
        "**Обоснование**\n",
        "\n",
        "Качество линейной регрессии не изменится, потому что веса признаков до и после преобразования будут равны."
      ]
    },
    {
      "cell_type": "markdown",
      "metadata": {
        "id": "k_m0DUcRRWCY"
      },
      "source": [
        "## Проверка алгоритма"
      ]
    },
    {
      "cell_type": "markdown",
      "metadata": {
        "id": "iK-tSm2cRWCY"
      },
      "source": [
        "Внесение признаков в отдельные переменные."
      ]
    },
    {
      "cell_type": "code",
      "execution_count": null,
      "metadata": {
        "id": "Wi3eLFdsRWCY"
      },
      "outputs": [],
      "source": [
        "features = df.drop('Страховые выплаты',axis=1)\n",
        "target = df['Страховые выплаты']"
      ]
    },
    {
      "cell_type": "markdown",
      "metadata": {
        "id": "b0LCrC81RWCZ"
      },
      "source": [
        "Деление данных на обучающую и тестовую выборки."
      ]
    },
    {
      "cell_type": "code",
      "execution_count": null,
      "metadata": {
        "id": "IV9AsHi3RWCZ"
      },
      "outputs": [],
      "source": [
        "features_train, features_test, target_train, target_test = train_test_split(\n",
        "    features, target, test_size=.25, random_state=12345)"
      ]
    },
    {
      "cell_type": "markdown",
      "metadata": {
        "id": "ggxoTmrCRWCZ"
      },
      "source": [
        "Обучение модели линейной регрессии."
      ]
    },
    {
      "cell_type": "code",
      "execution_count": null,
      "metadata": {
        "id": "DPcWMse8RWCZ",
        "outputId": "6213643c-2a16-4729-b58a-eb2e55ecb1eb"
      },
      "outputs": [
        {
          "data": {
            "text/plain": [
              "LinearRegression()"
            ]
          },
          "execution_count": 10,
          "metadata": {},
          "output_type": "execute_result"
        }
      ],
      "source": [
        "model = LinearRegression()\n",
        "model.fit(features_train, target_train)"
      ]
    },
    {
      "cell_type": "markdown",
      "metadata": {
        "id": "PDA2qXBWRWCa"
      },
      "source": [
        "Вычисление коэффициента детерминации."
      ]
    },
    {
      "cell_type": "code",
      "execution_count": null,
      "metadata": {
        "id": "4Jvh9thuRWCa",
        "outputId": "e8314475-9bdd-416d-c734-30f35dcf4752"
      },
      "outputs": [
        {
          "data": {
            "text/plain": [
              "('Базовый коэффициент детерминации', 0.4352275684083322)"
            ]
          },
          "execution_count": 11,
          "metadata": {},
          "output_type": "execute_result"
        }
      ],
      "source": [
        "r2_base = r2_score(target_test, model.predict(features_test))\n",
        "'Базовый коэффициент детерминации', r2_base"
      ]
    },
    {
      "cell_type": "markdown",
      "metadata": {
        "id": "g-QE68LfRWCb"
      },
      "source": [
        "Создание обратимой матрицы для кодирования."
      ]
    },
    {
      "cell_type": "code",
      "execution_count": null,
      "metadata": {
        "id": "GUDrjvckRWCb"
      },
      "outputs": [],
      "source": [
        "matrix_encoder = np.random.normal(size=(features_train.shape[1], features_train.shape[1]))"
      ]
    },
    {
      "cell_type": "markdown",
      "metadata": {
        "id": "5nBXUOC6RWCb"
      },
      "source": [
        "Проверка полученной матрицы на обратимость: найдём для неё обратную матрицу."
      ]
    },
    {
      "cell_type": "code",
      "execution_count": null,
      "metadata": {
        "id": "sNHCKJ6YRWCc",
        "outputId": "5c438dbe-e376-4979-a039-0b92fe692ce2"
      },
      "outputs": [
        {
          "data": {
            "text/plain": [
              "array([[-2.18567465, -4.25557765, -0.64882818, -1.99152845],\n",
              "       [ 0.1510414 ,  0.29376766, -0.38635327, -0.22289231],\n",
              "       [-0.71042662, -2.47373698, -0.22580772, -1.58395271],\n",
              "       [-2.47030496, -6.21695178, -1.10808186, -3.0149389 ]])"
            ]
          },
          "execution_count": 13,
          "metadata": {},
          "output_type": "execute_result"
        }
      ],
      "source": [
        "matrix_encoder_inverse = np.linalg.inv(matrix_encoder)\n",
        "matrix_encoder_inverse"
      ]
    },
    {
      "cell_type": "markdown",
      "metadata": {
        "id": "RrzDGI1uRWCc"
      },
      "source": [
        "Умножение признаков на обратимую матрицу."
      ]
    },
    {
      "cell_type": "markdown",
      "metadata": {
        "id": "239mOwn_RWCe"
      },
      "source": [
        "<div class=\"alert alert-info\"> <b>ℹ️ Комментарий студента: </b> Спасибо. Беру на вооружение:) </div>"
      ]
    },
    {
      "cell_type": "code",
      "execution_count": null,
      "metadata": {
        "id": "JPaip3bcRWCe",
        "outputId": "6c82c372-602d-40ee-e4fe-6b3abeeade95"
      },
      "outputs": [
        {
          "data": {
            "text/plain": [
              "array([[ 25553.80121585, -50287.99565488,  52663.47584724,\n",
              "        -40829.93865579],\n",
              "       [ 40622.49381378, -80047.73399605,  83779.57175363,\n",
              "        -64930.57229903],\n",
              "       [ 28995.36046567, -57110.63170678,  59782.74042043,\n",
              "        -46339.11448754],\n",
              "       ...,\n",
              "       [ 31540.47298194, -62107.36035205,  65022.85950016,\n",
              "        -50403.88424304],\n",
              "       [ 35321.79975294, -69636.26554846,  72859.5342266 ,\n",
              "        -56463.18017381],\n",
              "       [ 28769.70784034, -56705.09582712,  59340.98172576,\n",
              "        -45987.62223029]])"
            ]
          },
          "execution_count": 14,
          "metadata": {},
          "output_type": "execute_result"
        }
      ],
      "source": [
        "features_train_encoded = features_train.values@matrix_encoder\n",
        "features_test_encoded = features_test.values@matrix_encoder\n",
        "features_train_encoded"
      ]
    },
    {
      "cell_type": "markdown",
      "metadata": {
        "id": "PcmClmdtRWCe"
      },
      "source": [
        "Обучение модели линейной регрессии."
      ]
    },
    {
      "cell_type": "code",
      "execution_count": null,
      "metadata": {
        "id": "VRNBo2AqRWCf",
        "outputId": "81f9a2a9-178a-4471-cf44-4b6106d048a0"
      },
      "outputs": [
        {
          "data": {
            "text/plain": [
              "LinearRegression()"
            ]
          },
          "execution_count": 15,
          "metadata": {},
          "output_type": "execute_result"
        }
      ],
      "source": [
        "model_encoded = LinearRegression()\n",
        "model_encoded.fit(features_train_encoded, target_train)"
      ]
    },
    {
      "cell_type": "markdown",
      "metadata": {
        "id": "kI1VZtZHRWCf"
      },
      "source": [
        "Вычисление коэффициента детерминации для модели шифрованных данных."
      ]
    },
    {
      "cell_type": "code",
      "execution_count": null,
      "metadata": {
        "id": "NxyGCjzuRWCn",
        "outputId": "dc99a5a4-2402-4d0d-bb96-455e156af438"
      },
      "outputs": [
        {
          "data": {
            "text/plain": [
              "('Коэффициент детерминации модели на зашифрованных данных',\n",
              " 0.43522756840756316)"
            ]
          },
          "execution_count": 16,
          "metadata": {},
          "output_type": "execute_result"
        }
      ],
      "source": [
        "r2_encode = r2_score(target_test, model_encoded.predict(features_test_encoded))\n",
        "'Коэффициент детерминации модели на зашифрованных данных', r2_encode"
      ]
    },
    {
      "cell_type": "markdown",
      "metadata": {
        "id": "Gxce3nZZRWCo"
      },
      "source": [
        "## Общий вывод"
      ]
    },
    {
      "cell_type": "markdown",
      "metadata": {
        "id": "62PZ7ZQ2RWCo"
      },
      "source": [
        "В процессе выполнения проекта по защите данных клиентов страховой компании проделана следующая работа:\n",
        "- Проанализированы предоставленные данные: они представляют из себя датафрейм пяти признаков, в каждом из которых 5000 значений.\n",
        "- Для шифрования данных применено их умножение на обратимую матрицу.\n",
        "- Для построения предсказаний о том, обратится ли потенциальный клиент за выплатами в компанию, использована модель линейной регрессии.\n",
        "- Для проверки уровня изменения качества проведены измерения коэффициентов детерминации модели до и после преобразований - они оказались равными, что свидетельствует о том, что выбор варианта шифрования не сказался на качестве модели."
      ]
    }
  ],
  "metadata": {
    "ExecuteTimeLog": [
      {
        "duration": 1569,
        "start_time": "2022-08-12T15:30:00.879Z"
      },
      {
        "duration": 78,
        "start_time": "2022-08-12T15:32:36.767Z"
      },
      {
        "duration": 50,
        "start_time": "2022-08-12T15:33:21.520Z"
      },
      {
        "duration": 5,
        "start_time": "2022-08-12T15:34:49.745Z"
      },
      {
        "duration": 4,
        "start_time": "2022-08-12T15:35:35.094Z"
      },
      {
        "duration": 4,
        "start_time": "2022-08-12T15:36:07.507Z"
      },
      {
        "duration": 94,
        "start_time": "2022-08-12T15:36:34.672Z"
      },
      {
        "duration": 11,
        "start_time": "2022-08-12T15:36:42.851Z"
      },
      {
        "duration": 9,
        "start_time": "2022-08-12T15:37:42.967Z"
      },
      {
        "duration": 5,
        "start_time": "2022-08-12T15:38:39.525Z"
      },
      {
        "duration": 5,
        "start_time": "2022-08-12T15:38:58.532Z"
      },
      {
        "duration": 6,
        "start_time": "2022-08-12T15:39:10.352Z"
      },
      {
        "duration": 6,
        "start_time": "2022-08-12T15:42:29.990Z"
      },
      {
        "duration": 952,
        "start_time": "2022-08-12T15:47:56.746Z"
      },
      {
        "duration": 12,
        "start_time": "2022-08-12T15:48:48.618Z"
      },
      {
        "duration": 11,
        "start_time": "2022-08-12T15:49:10.561Z"
      },
      {
        "duration": 55,
        "start_time": "2022-08-18T17:05:08.086Z"
      },
      {
        "duration": 1568,
        "start_time": "2022-08-18T17:05:27.937Z"
      },
      {
        "duration": 121,
        "start_time": "2022-08-18T17:05:29.507Z"
      },
      {
        "duration": 6,
        "start_time": "2022-08-18T17:05:29.630Z"
      },
      {
        "duration": 8,
        "start_time": "2022-08-18T17:05:29.638Z"
      },
      {
        "duration": 7,
        "start_time": "2022-08-18T17:05:29.648Z"
      },
      {
        "duration": 33,
        "start_time": "2022-08-18T17:05:29.657Z"
      },
      {
        "duration": 12,
        "start_time": "2022-08-18T17:05:29.692Z"
      },
      {
        "duration": 109,
        "start_time": "2022-08-18T17:05:29.705Z"
      },
      {
        "duration": 5,
        "start_time": "2022-08-18T17:10:28.986Z"
      },
      {
        "duration": 6,
        "start_time": "2022-08-18T17:10:34.527Z"
      },
      {
        "duration": 8,
        "start_time": "2022-08-18T17:12:55.636Z"
      },
      {
        "duration": 6,
        "start_time": "2022-08-18T17:15:16.382Z"
      },
      {
        "duration": 8,
        "start_time": "2022-08-18T17:15:29.251Z"
      },
      {
        "duration": 7,
        "start_time": "2022-08-18T17:20:08.416Z"
      },
      {
        "duration": 6,
        "start_time": "2022-08-18T17:20:24.395Z"
      },
      {
        "duration": 7,
        "start_time": "2022-08-18T17:20:44.726Z"
      },
      {
        "duration": 7,
        "start_time": "2022-08-18T17:20:47.870Z"
      },
      {
        "duration": 52,
        "start_time": "2022-08-18T17:20:54.211Z"
      },
      {
        "duration": 6,
        "start_time": "2022-08-18T17:21:02.442Z"
      },
      {
        "duration": 6,
        "start_time": "2022-08-18T17:22:15.162Z"
      },
      {
        "duration": 101,
        "start_time": "2022-08-18T17:22:24.129Z"
      },
      {
        "duration": 8,
        "start_time": "2022-08-18T17:22:30.996Z"
      },
      {
        "duration": 82,
        "start_time": "2022-08-18T17:41:45.395Z"
      },
      {
        "duration": 4,
        "start_time": "2022-08-18T17:41:53.951Z"
      },
      {
        "duration": 952,
        "start_time": "2022-08-18T18:07:46.990Z"
      },
      {
        "duration": 47,
        "start_time": "2022-08-18T18:07:47.944Z"
      },
      {
        "duration": 5,
        "start_time": "2022-08-18T18:07:47.993Z"
      },
      {
        "duration": 16,
        "start_time": "2022-08-18T18:07:47.999Z"
      },
      {
        "duration": 12,
        "start_time": "2022-08-18T18:07:48.016Z"
      },
      {
        "duration": 10,
        "start_time": "2022-08-18T18:07:48.029Z"
      },
      {
        "duration": 14,
        "start_time": "2022-08-18T18:07:48.041Z"
      },
      {
        "duration": 4,
        "start_time": "2022-08-18T18:07:48.056Z"
      },
      {
        "duration": 10,
        "start_time": "2022-08-18T18:07:48.061Z"
      },
      {
        "duration": 10,
        "start_time": "2022-08-18T18:07:48.073Z"
      },
      {
        "duration": 7,
        "start_time": "2022-08-18T18:07:48.084Z"
      },
      {
        "duration": 10,
        "start_time": "2022-08-18T18:07:48.093Z"
      },
      {
        "duration": 1018,
        "start_time": "2022-08-18T18:19:57.028Z"
      },
      {
        "duration": 49,
        "start_time": "2022-08-18T18:19:58.048Z"
      },
      {
        "duration": 5,
        "start_time": "2022-08-18T18:19:58.098Z"
      },
      {
        "duration": 18,
        "start_time": "2022-08-18T18:19:58.105Z"
      },
      {
        "duration": 11,
        "start_time": "2022-08-18T18:19:58.125Z"
      },
      {
        "duration": 10,
        "start_time": "2022-08-18T18:19:58.138Z"
      },
      {
        "duration": 21,
        "start_time": "2022-08-18T18:19:58.150Z"
      },
      {
        "duration": 11,
        "start_time": "2022-08-18T18:19:58.173Z"
      },
      {
        "duration": 8,
        "start_time": "2022-08-18T18:19:58.185Z"
      },
      {
        "duration": 18,
        "start_time": "2022-08-18T18:19:58.194Z"
      },
      {
        "duration": 19,
        "start_time": "2022-08-18T18:19:58.215Z"
      },
      {
        "duration": 16,
        "start_time": "2022-08-18T18:19:58.236Z"
      },
      {
        "duration": 102,
        "start_time": "2022-08-18T18:19:58.253Z"
      },
      {
        "duration": 0,
        "start_time": "2022-08-18T18:19:58.356Z"
      },
      {
        "duration": 3,
        "start_time": "2022-08-18T18:20:09.074Z"
      },
      {
        "duration": 11,
        "start_time": "2022-08-18T18:20:12.146Z"
      },
      {
        "duration": 4,
        "start_time": "2022-08-18T18:20:40.149Z"
      },
      {
        "duration": 11,
        "start_time": "2022-08-18T18:20:42.926Z"
      },
      {
        "duration": 3,
        "start_time": "2022-08-18T18:21:06.066Z"
      },
      {
        "duration": 15,
        "start_time": "2022-08-18T18:21:08.086Z"
      },
      {
        "duration": 4,
        "start_time": "2022-08-18T18:21:11.330Z"
      },
      {
        "duration": 13,
        "start_time": "2022-08-18T18:21:13.192Z"
      },
      {
        "duration": 4,
        "start_time": "2022-08-18T18:21:15.429Z"
      },
      {
        "duration": 12,
        "start_time": "2022-08-18T18:21:17.273Z"
      },
      {
        "duration": 4,
        "start_time": "2022-08-18T18:23:04.966Z"
      },
      {
        "duration": 49,
        "start_time": "2022-08-18T18:23:18.150Z"
      },
      {
        "duration": 48,
        "start_time": "2022-08-18T18:23:52.029Z"
      },
      {
        "duration": 4,
        "start_time": "2022-08-18T18:24:02.381Z"
      },
      {
        "duration": 16,
        "start_time": "2022-08-18T18:24:05.245Z"
      },
      {
        "duration": 4,
        "start_time": "2022-08-18T18:28:59.725Z"
      },
      {
        "duration": 13,
        "start_time": "2022-08-18T18:29:04.013Z"
      },
      {
        "duration": 4,
        "start_time": "2022-08-18T18:30:08.625Z"
      },
      {
        "duration": 12,
        "start_time": "2022-08-18T18:30:11.759Z"
      },
      {
        "duration": 4,
        "start_time": "2022-08-18T18:50:25.941Z"
      },
      {
        "duration": 8,
        "start_time": "2022-08-18T18:52:54.935Z"
      },
      {
        "duration": 952,
        "start_time": "2022-08-18T18:57:37.799Z"
      },
      {
        "duration": 47,
        "start_time": "2022-08-18T18:57:38.753Z"
      },
      {
        "duration": 5,
        "start_time": "2022-08-18T18:57:38.802Z"
      },
      {
        "duration": 10,
        "start_time": "2022-08-18T18:57:38.808Z"
      },
      {
        "duration": 8,
        "start_time": "2022-08-18T18:57:38.819Z"
      },
      {
        "duration": 7,
        "start_time": "2022-08-18T18:57:38.829Z"
      },
      {
        "duration": 11,
        "start_time": "2022-08-18T18:57:38.838Z"
      },
      {
        "duration": 3,
        "start_time": "2022-08-18T18:57:38.851Z"
      },
      {
        "duration": 6,
        "start_time": "2022-08-18T18:57:38.856Z"
      },
      {
        "duration": 9,
        "start_time": "2022-08-18T18:57:38.864Z"
      },
      {
        "duration": 6,
        "start_time": "2022-08-18T18:57:38.874Z"
      },
      {
        "duration": 16,
        "start_time": "2022-08-18T18:57:38.881Z"
      },
      {
        "duration": 316,
        "start_time": "2022-08-18T18:57:38.898Z"
      },
      {
        "duration": 0,
        "start_time": "2022-08-18T18:57:39.216Z"
      },
      {
        "duration": 0,
        "start_time": "2022-08-18T18:57:39.217Z"
      },
      {
        "duration": 6,
        "start_time": "2022-08-18T18:57:52.512Z"
      },
      {
        "duration": 6,
        "start_time": "2022-08-18T18:57:59.323Z"
      },
      {
        "duration": 5,
        "start_time": "2022-08-18T18:58:02.323Z"
      },
      {
        "duration": 1147,
        "start_time": "2022-08-18T19:11:11.251Z"
      },
      {
        "duration": 49,
        "start_time": "2022-08-18T19:11:12.400Z"
      },
      {
        "duration": 5,
        "start_time": "2022-08-18T19:11:12.451Z"
      },
      {
        "duration": 9,
        "start_time": "2022-08-18T19:11:12.459Z"
      },
      {
        "duration": 11,
        "start_time": "2022-08-18T19:11:12.469Z"
      },
      {
        "duration": 12,
        "start_time": "2022-08-18T19:11:12.482Z"
      },
      {
        "duration": 15,
        "start_time": "2022-08-18T19:11:12.496Z"
      },
      {
        "duration": 4,
        "start_time": "2022-08-18T19:11:12.512Z"
      },
      {
        "duration": 10,
        "start_time": "2022-08-18T19:11:12.517Z"
      },
      {
        "duration": 9,
        "start_time": "2022-08-18T19:11:12.529Z"
      },
      {
        "duration": 27,
        "start_time": "2022-08-18T19:11:12.539Z"
      },
      {
        "duration": 14,
        "start_time": "2022-08-18T19:11:12.568Z"
      },
      {
        "duration": 12,
        "start_time": "2022-08-18T19:11:12.583Z"
      },
      {
        "duration": 63,
        "start_time": "2022-08-18T19:11:12.597Z"
      },
      {
        "duration": 8,
        "start_time": "2022-08-18T19:11:12.662Z"
      },
      {
        "duration": 1035,
        "start_time": "2022-08-18T19:11:41.431Z"
      },
      {
        "duration": 49,
        "start_time": "2022-08-18T19:11:42.468Z"
      },
      {
        "duration": 5,
        "start_time": "2022-08-18T19:11:42.518Z"
      },
      {
        "duration": 10,
        "start_time": "2022-08-18T19:11:42.524Z"
      },
      {
        "duration": 6,
        "start_time": "2022-08-18T19:11:42.536Z"
      },
      {
        "duration": 10,
        "start_time": "2022-08-18T19:11:42.544Z"
      },
      {
        "duration": 12,
        "start_time": "2022-08-18T19:11:42.555Z"
      },
      {
        "duration": 8,
        "start_time": "2022-08-18T19:11:42.569Z"
      },
      {
        "duration": 5,
        "start_time": "2022-08-18T19:11:42.579Z"
      },
      {
        "duration": 11,
        "start_time": "2022-08-18T19:11:42.586Z"
      },
      {
        "duration": 12,
        "start_time": "2022-08-18T19:11:42.599Z"
      },
      {
        "duration": 4,
        "start_time": "2022-08-18T19:11:42.613Z"
      },
      {
        "duration": 14,
        "start_time": "2022-08-18T19:11:42.618Z"
      },
      {
        "duration": 5,
        "start_time": "2022-08-18T19:11:42.658Z"
      },
      {
        "duration": 93,
        "start_time": "2022-08-18T19:11:42.665Z"
      },
      {
        "duration": 1461,
        "start_time": "2022-08-19T05:36:32.735Z"
      },
      {
        "duration": 105,
        "start_time": "2022-08-19T05:36:34.198Z"
      },
      {
        "duration": 5,
        "start_time": "2022-08-19T05:36:34.304Z"
      },
      {
        "duration": 9,
        "start_time": "2022-08-19T05:36:34.311Z"
      },
      {
        "duration": 9,
        "start_time": "2022-08-19T05:36:34.323Z"
      },
      {
        "duration": 6,
        "start_time": "2022-08-19T05:36:34.334Z"
      },
      {
        "duration": 11,
        "start_time": "2022-08-19T05:36:34.342Z"
      },
      {
        "duration": 4,
        "start_time": "2022-08-19T05:36:34.368Z"
      },
      {
        "duration": 5,
        "start_time": "2022-08-19T05:36:34.374Z"
      },
      {
        "duration": 10,
        "start_time": "2022-08-19T05:36:34.380Z"
      },
      {
        "duration": 7,
        "start_time": "2022-08-19T05:36:34.392Z"
      },
      {
        "duration": 6,
        "start_time": "2022-08-19T05:36:34.401Z"
      },
      {
        "duration": 9,
        "start_time": "2022-08-19T05:36:34.408Z"
      },
      {
        "duration": 7,
        "start_time": "2022-08-19T05:36:34.467Z"
      },
      {
        "duration": 6,
        "start_time": "2022-08-19T05:36:34.476Z"
      },
      {
        "duration": 158,
        "start_time": "2022-08-19T05:44:39.149Z"
      },
      {
        "duration": 982,
        "start_time": "2022-08-19T17:34:07.709Z"
      },
      {
        "duration": 98,
        "start_time": "2022-08-19T17:34:08.693Z"
      },
      {
        "duration": 11,
        "start_time": "2022-08-19T17:34:08.792Z"
      },
      {
        "duration": 8,
        "start_time": "2022-08-19T17:34:08.805Z"
      },
      {
        "duration": 7,
        "start_time": "2022-08-19T17:34:08.815Z"
      },
      {
        "duration": 9,
        "start_time": "2022-08-19T17:34:08.824Z"
      },
      {
        "duration": 11,
        "start_time": "2022-08-19T17:34:08.834Z"
      },
      {
        "duration": 3,
        "start_time": "2022-08-19T17:34:08.847Z"
      },
      {
        "duration": 5,
        "start_time": "2022-08-19T17:34:08.852Z"
      },
      {
        "duration": 42,
        "start_time": "2022-08-19T17:34:08.858Z"
      },
      {
        "duration": 7,
        "start_time": "2022-08-19T17:34:08.902Z"
      },
      {
        "duration": 4,
        "start_time": "2022-08-19T17:34:08.910Z"
      },
      {
        "duration": 6,
        "start_time": "2022-08-19T17:34:12.000Z"
      },
      {
        "duration": 5,
        "start_time": "2022-08-19T17:34:31.219Z"
      },
      {
        "duration": 5,
        "start_time": "2022-08-19T17:34:35.477Z"
      },
      {
        "duration": 5,
        "start_time": "2022-08-19T17:35:09.601Z"
      },
      {
        "duration": 6,
        "start_time": "2022-08-19T17:37:31.935Z"
      },
      {
        "duration": 8,
        "start_time": "2022-08-19T17:37:51.342Z"
      },
      {
        "duration": 6,
        "start_time": "2022-08-19T17:37:54.723Z"
      },
      {
        "duration": 26,
        "start_time": "2022-08-19T19:06:49.018Z"
      },
      {
        "duration": 2166,
        "start_time": "2022-08-19T19:10:14.453Z"
      },
      {
        "duration": 30,
        "start_time": "2022-08-19T19:10:34.886Z"
      },
      {
        "duration": 1451,
        "start_time": "2022-08-19T19:10:41.935Z"
      },
      {
        "duration": 1142,
        "start_time": "2022-08-19T19:14:50.775Z"
      },
      {
        "duration": 63,
        "start_time": "2022-08-19T19:14:51.920Z"
      },
      {
        "duration": 6,
        "start_time": "2022-08-19T19:14:51.986Z"
      },
      {
        "duration": 32,
        "start_time": "2022-08-19T19:14:51.995Z"
      },
      {
        "duration": 11,
        "start_time": "2022-08-19T19:14:52.029Z"
      },
      {
        "duration": 11,
        "start_time": "2022-08-19T19:14:52.041Z"
      },
      {
        "duration": 31,
        "start_time": "2022-08-19T19:14:52.054Z"
      },
      {
        "duration": 8,
        "start_time": "2022-08-19T19:14:52.087Z"
      },
      {
        "duration": 23,
        "start_time": "2022-08-19T19:14:52.097Z"
      },
      {
        "duration": 10,
        "start_time": "2022-08-19T19:14:52.123Z"
      },
      {
        "duration": 15,
        "start_time": "2022-08-19T19:14:52.135Z"
      },
      {
        "duration": 3,
        "start_time": "2022-08-19T19:14:52.152Z"
      },
      {
        "duration": 10,
        "start_time": "2022-08-19T19:14:52.156Z"
      },
      {
        "duration": 102,
        "start_time": "2022-08-19T19:14:52.186Z"
      },
      {
        "duration": 42,
        "start_time": "2022-08-19T19:14:52.290Z"
      },
      {
        "duration": 22,
        "start_time": "2022-08-19T19:14:52.335Z"
      }
    ],
    "kernelspec": {
      "display_name": "Python 3 (ipykernel)",
      "language": "python",
      "name": "python3"
    },
    "language_info": {
      "codemirror_mode": {
        "name": "ipython",
        "version": 3
      },
      "file_extension": ".py",
      "mimetype": "text/x-python",
      "name": "python",
      "nbconvert_exporter": "python",
      "pygments_lexer": "ipython3",
      "version": "3.9.5"
    },
    "toc": {
      "base_numbering": 1,
      "nav_menu": {},
      "number_sections": true,
      "sideBar": true,
      "skip_h1_title": true,
      "title_cell": "Содержание",
      "title_sidebar": "Contents",
      "toc_cell": true,
      "toc_position": {
        "height": "calc(100% - 180px)",
        "left": "10px",
        "top": "150px",
        "width": "178.854px"
      },
      "toc_section_display": true,
      "toc_window_display": true
    },
    "colab": {
      "provenance": [],
      "toc_visible": true
    }
  },
  "nbformat": 4,
  "nbformat_minor": 0
}
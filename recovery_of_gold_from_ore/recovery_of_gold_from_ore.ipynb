{
  "cells": [
    {
      "cell_type": "markdown",
      "metadata": {
        "toc": true,
        "id": "EECQQ08PNgxy"
      },
      "source": [
        "<h1>Содержание<span class=\"tocSkip\"></span></h1>\n",
        "<div class=\"toc\"><ul class=\"toc-item\"><li><ul class=\"toc-item\"><li><span><a href=\"#-Комментарий-ревьюера-v2\" data-toc-modified-id=\"-Комментарий-ревьюера-v2-0.1\"><span class=\"toc-item-num\">0.1&nbsp;&nbsp;</span> Комментарий ревьюера v2</a></span></li></ul></li><li><span><a href=\"#Подготовка-данных\" data-toc-modified-id=\"Подготовка-данных-1\"><span class=\"toc-item-num\">1&nbsp;&nbsp;</span>Подготовка данных</a></span><ul class=\"toc-item\"><li><span><a href=\"#Открытие-файлов-и-ознакомление-с-ними\" data-toc-modified-id=\"Открытие-файлов-и-ознакомление-с-ними-1.1\"><span class=\"toc-item-num\">1.1&nbsp;&nbsp;</span>Открытие файлов и ознакомление с ними</a></span></li><li><span><a href=\"#Проверка-корректности-расчёта-эффективности-обогащения\" data-toc-modified-id=\"Проверка-корректности-расчёта-эффективности-обогащения-1.2\"><span class=\"toc-item-num\">1.2&nbsp;&nbsp;</span>Проверка корректности расчёта эффективности обогащения</a></span></li><li><span><a href=\"#-Комментарий-ревьюера-v1\" data-toc-modified-id=\"-Комментарий-ревьюера-v1-1.3\"><span class=\"toc-item-num\">1.3&nbsp;&nbsp;</span> Комментарий ревьюера v1</a></span></li><li><span><a href=\"#Анализ-признаков,-недоступных-в-тестовой-выборке\" data-toc-modified-id=\"Анализ-признаков,-недоступных-в-тестовой-выборке-1.4\"><span class=\"toc-item-num\">1.4&nbsp;&nbsp;</span>Анализ признаков, недоступных в тестовой выборке</a></span></li><li><span><a href=\"#-Комментарий-ревьюера-v1\" data-toc-modified-id=\"-Комментарий-ревьюера-v1-1.5\"><span class=\"toc-item-num\">1.5&nbsp;&nbsp;</span> Комментарий ревьюера v1</a></span></li><li><span><a href=\"#Предобработка-данных\" data-toc-modified-id=\"Предобработка-данных-1.6\"><span class=\"toc-item-num\">1.6&nbsp;&nbsp;</span>Предобработка данных</a></span></li><li><span><a href=\"#-Комментарий-ревьюера-v1\" data-toc-modified-id=\"-Комментарий-ревьюера-v1-1.7\"><span class=\"toc-item-num\">1.7&nbsp;&nbsp;</span> Комментарий ревьюера v1</a></span></li><li><span><a href=\"#Вывод\" data-toc-modified-id=\"Вывод-1.8\"><span class=\"toc-item-num\">1.8&nbsp;&nbsp;</span>Вывод</a></span></li><li><span><a href=\"#-Комментарий-ревьюера-v1\" data-toc-modified-id=\"-Комментарий-ревьюера-v1-1.9\"><span class=\"toc-item-num\">1.9&nbsp;&nbsp;</span> Комментарий ревьюера v1</a></span></li></ul></li><li><span><a href=\"#Анализ-данных\" data-toc-modified-id=\"Анализ-данных-2\"><span class=\"toc-item-num\">2&nbsp;&nbsp;</span>Анализ данных</a></span><ul class=\"toc-item\"><li><span><a href=\"#Динамика-изменения-концентрации-металлов-(Au,-Ag,-Pb)-на-различных-этапах-очистки\" data-toc-modified-id=\"Динамика-изменения-концентрации-металлов-(Au,-Ag,-Pb)-на-различных-этапах-очистки-2.1\"><span class=\"toc-item-num\">2.1&nbsp;&nbsp;</span>Динамика изменения концентрации металлов (Au, Ag, Pb) на различных этапах очистки</a></span></li><li><span><a href=\"#-Комментарий-ревьюера-v1\" data-toc-modified-id=\"-Комментарий-ревьюера-v1-2.2\"><span class=\"toc-item-num\">2.2&nbsp;&nbsp;</span> Комментарий ревьюера v1</a></span></li><li><span><a href=\"#Распределение-размеров-гранул-сырья-на-обучающей-и-тестовой-выборках\" data-toc-modified-id=\"Распределение-размеров-гранул-сырья-на-обучающей-и-тестовой-выборках-2.3\"><span class=\"toc-item-num\">2.3&nbsp;&nbsp;</span>Распределение размеров гранул сырья на обучающей и тестовой выборках</a></span></li><li><span><a href=\"#-Комментарий-ревьюера-v1\" data-toc-modified-id=\"-Комментарий-ревьюера-v1-2.4\"><span class=\"toc-item-num\">2.4&nbsp;&nbsp;</span> Комментарий ревьюера v1</a></span></li><li><span><a href=\"#-Комментарий-ревьюера-v2\" data-toc-modified-id=\"-Комментарий-ревьюера-v2-2.5\"><span class=\"toc-item-num\">2.5&nbsp;&nbsp;</span> Комментарий ревьюера v2</a></span></li><li><span><a href=\"#Исследование-суммарной-концентрации-всех-веществ-на-разных-стадиях\" data-toc-modified-id=\"Исследование-суммарной-концентрации-всех-веществ-на-разных-стадиях-2.6\"><span class=\"toc-item-num\">2.6&nbsp;&nbsp;</span>Исследование суммарной концентрации всех веществ на разных стадиях</a></span></li><li><span><a href=\"#-Комментарий-ревьюера-v1\" data-toc-modified-id=\"-Комментарий-ревьюера-v1-2.7\"><span class=\"toc-item-num\">2.7&nbsp;&nbsp;</span> Комментарий ревьюера v1</a></span></li><li><span><a href=\"#-Комментарий-ревьюера-v2\" data-toc-modified-id=\"-Комментарий-ревьюера-v2-2.8\"><span class=\"toc-item-num\">2.8&nbsp;&nbsp;</span> Комментарий ревьюера v2</a></span></li><li><span><a href=\"#Вывод\" data-toc-modified-id=\"Вывод-2.9\"><span class=\"toc-item-num\">2.9&nbsp;&nbsp;</span>Вывод</a></span></li></ul></li><li><span><a href=\"#Модель\" data-toc-modified-id=\"Модель-3\"><span class=\"toc-item-num\">3&nbsp;&nbsp;</span>Модель</a></span><ul class=\"toc-item\"><li><span><a href=\"#Функция-для-вычисления-sMAPE\" data-toc-modified-id=\"Функция-для-вычисления-sMAPE-3.1\"><span class=\"toc-item-num\">3.1&nbsp;&nbsp;</span>Функция для вычисления sMAPE</a></span></li><li><span><a href=\"#-Комментарий-ревьюера-v1\" data-toc-modified-id=\"-Комментарий-ревьюера-v1-3.2\"><span class=\"toc-item-num\">3.2&nbsp;&nbsp;</span> Комментарий ревьюера v1</a></span></li><li><span><a href=\"#Обучение-моделей-и-выбор-лучшей\" data-toc-modified-id=\"Обучение-моделей-и-выбор-лучшей-3.3\"><span class=\"toc-item-num\">3.3&nbsp;&nbsp;</span>Обучение моделей и выбор лучшей</a></span></li><li><span><a href=\"#-Комментарий-ревьюера-v1\" data-toc-modified-id=\"-Комментарий-ревьюера-v1-3.4\"><span class=\"toc-item-num\">3.4&nbsp;&nbsp;</span> Комментарий ревьюера v1</a></span><ul class=\"toc-item\"><li><span><a href=\"#Модель-дерева-решений\" data-toc-modified-id=\"Модель-дерева-решений-3.4.1\"><span class=\"toc-item-num\">3.4.1&nbsp;&nbsp;</span>Модель дерева решений</a></span></li></ul></li><li><span><a href=\"#-Комментарий-ревьюера-v1\" data-toc-modified-id=\"-Комментарий-ревьюера-v1-3.5\"><span class=\"toc-item-num\">3.5&nbsp;&nbsp;</span> Комментарий ревьюера v1</a></span><ul class=\"toc-item\"><li><span><a href=\"#Модель-случайного-леса\" data-toc-modified-id=\"Модель-случайного-леса-3.5.1\"><span class=\"toc-item-num\">3.5.1&nbsp;&nbsp;</span>Модель случайного леса</a></span></li></ul></li><li><span><a href=\"#-Комментарий-ревьюера-v1\" data-toc-modified-id=\"-Комментарий-ревьюера-v1-3.6\"><span class=\"toc-item-num\">3.6&nbsp;&nbsp;</span> Комментарий ревьюера v1</a></span></li><li><span><a href=\"#-Комментарий-ревьюера-v2\" data-toc-modified-id=\"-Комментарий-ревьюера-v2-3.7\"><span class=\"toc-item-num\">3.7&nbsp;&nbsp;</span> Комментарий ревьюера v2</a></span></li><li><span><a href=\"#-Комментарий-ревьюера-v1\" data-toc-modified-id=\"-Комментарий-ревьюера-v1-3.8\"><span class=\"toc-item-num\">3.8&nbsp;&nbsp;</span> Комментарий ревьюера v1</a></span><ul class=\"toc-item\"><li><span><a href=\"#Модель-линейной-регрессии\" data-toc-modified-id=\"Модель-линейной-регрессии-3.8.1\"><span class=\"toc-item-num\">3.8.1&nbsp;&nbsp;</span>Модель линейной регрессии</a></span></li><li><span><a href=\"#Вывод\" data-toc-modified-id=\"Вывод-3.8.2\"><span class=\"toc-item-num\">3.8.2&nbsp;&nbsp;</span>Вывод</a></span></li></ul></li><li><span><a href=\"#-Комментарий-ревьюера-v1\" data-toc-modified-id=\"-Комментарий-ревьюера-v1-3.9\"><span class=\"toc-item-num\">3.9&nbsp;&nbsp;</span> Комментарий ревьюера v1</a></span></li><li><span><a href=\"#Проверка-модели-на-тестовой-выборке\" data-toc-modified-id=\"Проверка-модели-на-тестовой-выборке-3.10\"><span class=\"toc-item-num\">3.10&nbsp;&nbsp;</span>Проверка модели на тестовой выборке</a></span></li><li><span><a href=\"#Проверка-адекватности-модели\" data-toc-modified-id=\"Проверка-адекватности-модели-3.11\"><span class=\"toc-item-num\">3.11&nbsp;&nbsp;</span>Проверка адекватности модели</a></span></li><li><span><a href=\"#-Комментарий-ревьюера-v1\" data-toc-modified-id=\"-Комментарий-ревьюера-v1-3.12\"><span class=\"toc-item-num\">3.12&nbsp;&nbsp;</span> Комментарий ревьюера v1</a></span></li></ul></li><li><span><a href=\"#Вывод\" data-toc-modified-id=\"Вывод-4\"><span class=\"toc-item-num\">4&nbsp;&nbsp;</span>Вывод</a></span></li><li><span><a href=\"#Чек-лист-готовности-проекта\" data-toc-modified-id=\"Чек-лист-готовности-проекта-5\"><span class=\"toc-item-num\">5&nbsp;&nbsp;</span>Чек-лист готовности проекта</a></span><ul class=\"toc-item\"><li><span><a href=\"#-Итоговый-комментарий\" data-toc-modified-id=\"-Итоговый-комментарий-5.1\"><span class=\"toc-item-num\">5.1&nbsp;&nbsp;</span> Итоговый комментарий</a></span></li></ul></li></ul></div>"
      ]
    },
    {
      "cell_type": "markdown",
      "metadata": {
        "id": "Dts2LRDlNgx2"
      },
      "source": [
        "# Восстановление золота из руды"
      ]
    },
    {
      "cell_type": "markdown",
      "metadata": {
        "id": "MH1O4aVvNgx4"
      },
      "source": [
        "Подготовьте прототип модели машинного обучения для «Цифры». Компания разрабатывает решения для эффективной работы промышленных предприятий.\n",
        "\n",
        "Модель должна предсказать коэффициент восстановления золота из золотосодержащей руды. Используйте данные с параметрами добычи и очистки. \n",
        "\n",
        "Модель поможет оптимизировать производство, чтобы не запускать предприятие с убыточными характеристиками.\n",
        "\n",
        "Вам нужно:\n",
        "\n",
        "1. Подготовить данные;\n",
        "2. Провести исследовательский анализ данных;\n",
        "3. Построить и обучить модель.\n",
        "\n",
        "Чтобы выполнить проект, обращайтесь к библиотекам *pandas*, *matplotlib* и *sklearn.* Вам поможет их документация."
      ]
    },
    {
      "cell_type": "markdown",
      "metadata": {
        "id": "n0y2JzW5Ngx5"
      },
      "source": [
        "<b>Описание проекта</b>\n",
        "\n",
        "Данные находятся в трёх файлах:\n",
        "- gold_recovery_train_new.csv — обучающая выборка;\n",
        "- gold_recovery_test_new.csv — тестовая выборка;\n",
        "- gold_recovery_full_new.csv — исходные данные.\n",
        "\n",
        "<p>Данные индексируются датой и временем получения информации (признак date). Соседние по времени параметры часто похожи.<p>Некоторые параметры недоступны, потому что замеряются и/или рассчитываются значительно позже. Из-за этого в тестовой выборке отсутствуют некоторые признаки, которые могут быть в обучающей. <p>Также в тестовом наборе нет целевых признаков.\n",
        "<p>Исходный датасет содержит обучающую и тестовую выборки со всеми признаками.\n",
        "<p>В вашем распоряжении сырые данные: их просто выгрузили из хранилища. Прежде чем приступить к построению модели, проверьте по нашей инструкции их на корректность."
      ]
    },
    {
      "cell_type": "markdown",
      "metadata": {
        "id": "jnnE5YGENgx7"
      },
      "source": [
        "<b>Инструкция по выполнению проекта</b>\n",
        "\n",
        "1. Подготовьте данные\n",
        "\n",
        "    1.1. Откройте файлы и изучите их.\n",
        "        Путь к файлам:\n",
        "        - /datasets/gold_recovery_train_new.csv\n",
        "        - /datasets/gold_recovery_test_new.csv\n",
        "        - /datasets/gold_recovery_full_new.csv\n",
        "    1.2. Проверьте, что эффективность обогащения рассчитана правильно. Вычислите её на обучающей выборке для признака rougher.output.recovery. Найдите MAE между вашими расчётами и значением признака. Опишите выводы.\n",
        "    \n",
        "    1.3. Проанализируйте признаки, недоступные в тестовой выборке. Что это за параметры? К какому типу относятся?\n",
        "    \n",
        "    1.4. Проведите предобработку данных.\n",
        "    \n",
        "    \n",
        "2. Проанализируйте данные\n",
        "\n",
        "    2.1. Посмотрите, как меняется концентрация металлов (Au, Ag, Pb) на различных этапах очистки. Опишите выводы.\n",
        "    \n",
        "    2.2. Сравните распределения размеров гранул сырья на обучающей и тестовой выборках. Если распределения сильно отличаются друг от друга, оценка модели будет неправильной.\n",
        "    \n",
        "    2.3. Исследуйте суммарную концентрацию всех веществ на разных стадиях: в сырье, в черновом и финальном концентратах.\n",
        "    \n",
        "    \n",
        "3. Постройте модель\n",
        "\n",
        "    3.1. Напишите функцию для вычисления итоговой sMAPE.\n",
        "    \n",
        "    3.2. Обучите разные модели и оцените их качество кросс-валидацией. Выберите лучшую модель и проверьте её на тестовой выборке. Опишите выводы."
      ]
    },
    {
      "cell_type": "markdown",
      "metadata": {
        "id": "9SFbNjkFNgx9"
      },
      "source": [
        "<b>Описание данных</b>\n",
        "\n",
        "Технологический процесс (<b>rougher.input.feed_au -- rougher.output.concentrate_au -- primary_cleaner.output.concentrate_au -- final.output.concentrate_au</b>)\n",
        "- Rougher feed — исходное сырье\n",
        "- Rougher additions (или reagent additions) — флотационные реагенты: Xanthate, Sulphate, Depressant\n",
        "- Xanthate — ксантогенат (промотер, или активатор флотации);\n",
        "- Sulphate — сульфат (на данном производстве сульфид натрия);\n",
        "- Depressant — депрессант (силикат натрия).\n",
        "- Rougher process (англ. «грубый процесс») — флотация\n",
        "- Rougher tails — отвальные хвосты\n",
        "- Float banks — флотационная установка\n",
        "- Cleaner process — очистка\n",
        "- Rougher Au — черновой концентрат золота\n",
        "- Final Au — финальный концентрат золота\n",
        "\n",
        "<b>Параметры этапов</b>\n",
        "\n",
        "- air amount — объём воздуха\n",
        "- fluid levels — уровень жидкости\n",
        "- feed size — размер гранул сырья\n",
        "- feed rate — скорость подачи\n",
        "\n",
        "<b>Наименование признаков должно быть такое:</b>\n",
        "\n",
        "[этап].[тип_параметра].[название_параметра]\n",
        "\n",
        "Пример: rougher.input.feed_ag\n",
        "\n",
        "Возможные значения для блока [этап]:\n",
        "- rougher — флотация\n",
        "- primary_cleaner — первичная очистка\n",
        "- secondary_cleaner — вторичная очистка\n",
        "- final — финальные характеристики\n",
        "\n",
        "Возможные значения для блока [тип_параметра]:\n",
        "- input — параметры сырья\n",
        "- output — параметры продукта\n",
        "- state — параметры, характеризующие текущее состояние этапа\n",
        "- calculation — расчётные характеристики"
      ]
    },
    {
      "cell_type": "markdown",
      "metadata": {
        "id": "y0Ym6ZzJNgx_"
      },
      "source": [
        "## Подготовка данных"
      ]
    },
    {
      "cell_type": "markdown",
      "metadata": {
        "id": "fD_qxCilNgyA"
      },
      "source": [
        "Импорт необходимых для исследования инструментов"
      ]
    },
    {
      "cell_type": "code",
      "execution_count": null,
      "metadata": {
        "id": "FcHrew3XNgyB"
      },
      "outputs": [],
      "source": [
        "import pandas as pd\n",
        "import numpy as np\n",
        "import matplotlib.pyplot as plt\n",
        "from sklearn.tree import DecisionTreeRegressor\n",
        "from sklearn.ensemble import RandomForestRegressor\n",
        "from sklearn.linear_model import LinearRegression\n",
        "from sklearn.metrics import mean_absolute_error\n",
        "from sklearn.metrics import make_scorer\n",
        "from sklearn.preprocessing import StandardScaler\n",
        "from sklearn.pipeline import make_pipeline\n",
        "from sklearn.model_selection import RandomizedSearchCV\n",
        "from sklearn.dummy import DummyRegressor"
      ]
    },
    {
      "cell_type": "markdown",
      "metadata": {
        "id": "_DXG-5_DNgyE"
      },
      "source": [
        "### Открытие файлов и ознакомление с ними"
      ]
    },
    {
      "cell_type": "code",
      "execution_count": null,
      "metadata": {
        "scrolled": false,
        "id": "dR_uZHRGNgyF",
        "outputId": "fad28f73-a0e8-48dc-bf8c-11e67bab41ec"
      },
      "outputs": [
        {
          "name": "stdout",
          "output_type": "stream",
          "text": [
            "<class 'pandas.core.frame.DataFrame'>\n",
            "RangeIndex: 14149 entries, 0 to 14148\n",
            "Data columns (total 87 columns):\n",
            " #   Column                                              Non-Null Count  Dtype  \n",
            "---  ------                                              --------------  -----  \n",
            " 0   date                                                14149 non-null  object \n",
            " 1   final.output.concentrate_ag                         14148 non-null  float64\n",
            " 2   final.output.concentrate_pb                         14148 non-null  float64\n",
            " 3   final.output.concentrate_sol                        13938 non-null  float64\n",
            " 4   final.output.concentrate_au                         14149 non-null  float64\n",
            " 5   final.output.recovery                               14149 non-null  float64\n",
            " 6   final.output.tail_ag                                14149 non-null  float64\n",
            " 7   final.output.tail_pb                                14049 non-null  float64\n",
            " 8   final.output.tail_sol                               14144 non-null  float64\n",
            " 9   final.output.tail_au                                14149 non-null  float64\n",
            " 10  primary_cleaner.input.sulfate                       14129 non-null  float64\n",
            " 11  primary_cleaner.input.depressant                    14117 non-null  float64\n",
            " 12  primary_cleaner.input.feed_size                     14149 non-null  float64\n",
            " 13  primary_cleaner.input.xanthate                      14049 non-null  float64\n",
            " 14  primary_cleaner.output.concentrate_ag               14149 non-null  float64\n",
            " 15  primary_cleaner.output.concentrate_pb               14063 non-null  float64\n",
            " 16  primary_cleaner.output.concentrate_sol              13863 non-null  float64\n",
            " 17  primary_cleaner.output.concentrate_au               14149 non-null  float64\n",
            " 18  primary_cleaner.output.tail_ag                      14148 non-null  float64\n",
            " 19  primary_cleaner.output.tail_pb                      14134 non-null  float64\n",
            " 20  primary_cleaner.output.tail_sol                     14103 non-null  float64\n",
            " 21  primary_cleaner.output.tail_au                      14149 non-null  float64\n",
            " 22  primary_cleaner.state.floatbank8_a_air              14145 non-null  float64\n",
            " 23  primary_cleaner.state.floatbank8_a_level            14148 non-null  float64\n",
            " 24  primary_cleaner.state.floatbank8_b_air              14145 non-null  float64\n",
            " 25  primary_cleaner.state.floatbank8_b_level            14148 non-null  float64\n",
            " 26  primary_cleaner.state.floatbank8_c_air              14147 non-null  float64\n",
            " 27  primary_cleaner.state.floatbank8_c_level            14148 non-null  float64\n",
            " 28  primary_cleaner.state.floatbank8_d_air              14146 non-null  float64\n",
            " 29  primary_cleaner.state.floatbank8_d_level            14148 non-null  float64\n",
            " 30  rougher.calculation.sulfate_to_au_concentrate       14148 non-null  float64\n",
            " 31  rougher.calculation.floatbank10_sulfate_to_au_feed  14148 non-null  float64\n",
            " 32  rougher.calculation.floatbank11_sulfate_to_au_feed  14148 non-null  float64\n",
            " 33  rougher.calculation.au_pb_ratio                     14149 non-null  float64\n",
            " 34  rougher.input.feed_ag                               14149 non-null  float64\n",
            " 35  rougher.input.feed_pb                               14049 non-null  float64\n",
            " 36  rougher.input.feed_rate                             14141 non-null  float64\n",
            " 37  rougher.input.feed_size                             14005 non-null  float64\n",
            " 38  rougher.input.feed_sol                              14071 non-null  float64\n",
            " 39  rougher.input.feed_au                               14149 non-null  float64\n",
            " 40  rougher.input.floatbank10_sulfate                   14120 non-null  float64\n",
            " 41  rougher.input.floatbank10_xanthate                  14141 non-null  float64\n",
            " 42  rougher.input.floatbank11_sulfate                   14113 non-null  float64\n",
            " 43  rougher.input.floatbank11_xanthate                  13721 non-null  float64\n",
            " 44  rougher.output.concentrate_ag                       14149 non-null  float64\n",
            " 45  rougher.output.concentrate_pb                       14149 non-null  float64\n",
            " 46  rougher.output.concentrate_sol                      14127 non-null  float64\n",
            " 47  rougher.output.concentrate_au                       14149 non-null  float64\n",
            " 48  rougher.output.recovery                             14149 non-null  float64\n",
            " 49  rougher.output.tail_ag                              14148 non-null  float64\n",
            " 50  rougher.output.tail_pb                              14149 non-null  float64\n",
            " 51  rougher.output.tail_sol                             14149 non-null  float64\n",
            " 52  rougher.output.tail_au                              14149 non-null  float64\n",
            " 53  rougher.state.floatbank10_a_air                     14148 non-null  float64\n",
            " 54  rougher.state.floatbank10_a_level                   14148 non-null  float64\n",
            " 55  rougher.state.floatbank10_b_air                     14148 non-null  float64\n",
            " 56  rougher.state.floatbank10_b_level                   14148 non-null  float64\n",
            " 57  rougher.state.floatbank10_c_air                     14148 non-null  float64\n",
            " 58  rougher.state.floatbank10_c_level                   14148 non-null  float64\n",
            " 59  rougher.state.floatbank10_d_air                     14149 non-null  float64\n",
            " 60  rougher.state.floatbank10_d_level                   14149 non-null  float64\n",
            " 61  rougher.state.floatbank10_e_air                     13713 non-null  float64\n",
            " 62  rougher.state.floatbank10_e_level                   14149 non-null  float64\n",
            " 63  rougher.state.floatbank10_f_air                     14149 non-null  float64\n",
            " 64  rougher.state.floatbank10_f_level                   14149 non-null  float64\n",
            " 65  secondary_cleaner.output.tail_ag                    14147 non-null  float64\n",
            " 66  secondary_cleaner.output.tail_pb                    14139 non-null  float64\n",
            " 67  secondary_cleaner.output.tail_sol                   12544 non-null  float64\n",
            " 68  secondary_cleaner.output.tail_au                    14149 non-null  float64\n",
            " 69  secondary_cleaner.state.floatbank2_a_air            13932 non-null  float64\n",
            " 70  secondary_cleaner.state.floatbank2_a_level          14148 non-null  float64\n",
            " 71  secondary_cleaner.state.floatbank2_b_air            14128 non-null  float64\n",
            " 72  secondary_cleaner.state.floatbank2_b_level          14148 non-null  float64\n",
            " 73  secondary_cleaner.state.floatbank3_a_air            14145 non-null  float64\n",
            " 74  secondary_cleaner.state.floatbank3_a_level          14148 non-null  float64\n",
            " 75  secondary_cleaner.state.floatbank3_b_air            14148 non-null  float64\n",
            " 76  secondary_cleaner.state.floatbank3_b_level          14148 non-null  float64\n",
            " 77  secondary_cleaner.state.floatbank4_a_air            14143 non-null  float64\n",
            " 78  secondary_cleaner.state.floatbank4_a_level          14148 non-null  float64\n",
            " 79  secondary_cleaner.state.floatbank4_b_air            14148 non-null  float64\n",
            " 80  secondary_cleaner.state.floatbank4_b_level          14148 non-null  float64\n",
            " 81  secondary_cleaner.state.floatbank5_a_air            14148 non-null  float64\n",
            " 82  secondary_cleaner.state.floatbank5_a_level          14148 non-null  float64\n",
            " 83  secondary_cleaner.state.floatbank5_b_air            14148 non-null  float64\n",
            " 84  secondary_cleaner.state.floatbank5_b_level          14148 non-null  float64\n",
            " 85  secondary_cleaner.state.floatbank6_a_air            14147 non-null  float64\n",
            " 86  secondary_cleaner.state.floatbank6_a_level          14148 non-null  float64\n",
            "dtypes: float64(86), object(1)\n",
            "memory usage: 9.4+ MB\n"
          ]
        },
        {
          "data": {
            "text/plain": [
              "None"
            ]
          },
          "metadata": {},
          "output_type": "display_data"
        },
        {
          "data": {
            "text/html": [
              "<div>\n",
              "<style scoped>\n",
              "    .dataframe tbody tr th:only-of-type {\n",
              "        vertical-align: middle;\n",
              "    }\n",
              "\n",
              "    .dataframe tbody tr th {\n",
              "        vertical-align: top;\n",
              "    }\n",
              "\n",
              "    .dataframe thead th {\n",
              "        text-align: right;\n",
              "    }\n",
              "</style>\n",
              "<table border=\"1\" class=\"dataframe\">\n",
              "  <thead>\n",
              "    <tr style=\"text-align: right;\">\n",
              "      <th></th>\n",
              "      <th>date</th>\n",
              "      <th>final.output.concentrate_ag</th>\n",
              "      <th>final.output.concentrate_pb</th>\n",
              "      <th>final.output.concentrate_sol</th>\n",
              "      <th>final.output.concentrate_au</th>\n",
              "      <th>final.output.recovery</th>\n",
              "      <th>final.output.tail_ag</th>\n",
              "      <th>final.output.tail_pb</th>\n",
              "      <th>final.output.tail_sol</th>\n",
              "      <th>final.output.tail_au</th>\n",
              "      <th>...</th>\n",
              "      <th>secondary_cleaner.state.floatbank4_a_air</th>\n",
              "      <th>secondary_cleaner.state.floatbank4_a_level</th>\n",
              "      <th>secondary_cleaner.state.floatbank4_b_air</th>\n",
              "      <th>secondary_cleaner.state.floatbank4_b_level</th>\n",
              "      <th>secondary_cleaner.state.floatbank5_a_air</th>\n",
              "      <th>secondary_cleaner.state.floatbank5_a_level</th>\n",
              "      <th>secondary_cleaner.state.floatbank5_b_air</th>\n",
              "      <th>secondary_cleaner.state.floatbank5_b_level</th>\n",
              "      <th>secondary_cleaner.state.floatbank6_a_air</th>\n",
              "      <th>secondary_cleaner.state.floatbank6_a_level</th>\n",
              "    </tr>\n",
              "  </thead>\n",
              "  <tbody>\n",
              "    <tr>\n",
              "      <th>0</th>\n",
              "      <td>2016-01-15 00:00:00</td>\n",
              "      <td>6.055403</td>\n",
              "      <td>9.889648</td>\n",
              "      <td>5.507324</td>\n",
              "      <td>42.192020</td>\n",
              "      <td>70.541216</td>\n",
              "      <td>10.411962</td>\n",
              "      <td>0.895447</td>\n",
              "      <td>16.904297</td>\n",
              "      <td>2.143149</td>\n",
              "      <td>...</td>\n",
              "      <td>14.016835</td>\n",
              "      <td>-502.488007</td>\n",
              "      <td>12.099931</td>\n",
              "      <td>-504.715942</td>\n",
              "      <td>9.925633</td>\n",
              "      <td>-498.310211</td>\n",
              "      <td>8.079666</td>\n",
              "      <td>-500.470978</td>\n",
              "      <td>14.151341</td>\n",
              "      <td>-605.841980</td>\n",
              "    </tr>\n",
              "    <tr>\n",
              "      <th>1</th>\n",
              "      <td>2016-01-15 01:00:00</td>\n",
              "      <td>6.029369</td>\n",
              "      <td>9.968944</td>\n",
              "      <td>5.257781</td>\n",
              "      <td>42.701629</td>\n",
              "      <td>69.266198</td>\n",
              "      <td>10.462676</td>\n",
              "      <td>0.927452</td>\n",
              "      <td>16.634514</td>\n",
              "      <td>2.224930</td>\n",
              "      <td>...</td>\n",
              "      <td>13.992281</td>\n",
              "      <td>-505.503262</td>\n",
              "      <td>11.950531</td>\n",
              "      <td>-501.331529</td>\n",
              "      <td>10.039245</td>\n",
              "      <td>-500.169983</td>\n",
              "      <td>7.984757</td>\n",
              "      <td>-500.582168</td>\n",
              "      <td>13.998353</td>\n",
              "      <td>-599.787184</td>\n",
              "    </tr>\n",
              "    <tr>\n",
              "      <th>2</th>\n",
              "      <td>2016-01-15 02:00:00</td>\n",
              "      <td>6.055926</td>\n",
              "      <td>10.213995</td>\n",
              "      <td>5.383759</td>\n",
              "      <td>42.657501</td>\n",
              "      <td>68.116445</td>\n",
              "      <td>10.507046</td>\n",
              "      <td>0.953716</td>\n",
              "      <td>16.208849</td>\n",
              "      <td>2.257889</td>\n",
              "      <td>...</td>\n",
              "      <td>14.015015</td>\n",
              "      <td>-502.520901</td>\n",
              "      <td>11.912783</td>\n",
              "      <td>-501.133383</td>\n",
              "      <td>10.070913</td>\n",
              "      <td>-500.129135</td>\n",
              "      <td>8.013877</td>\n",
              "      <td>-500.517572</td>\n",
              "      <td>14.028663</td>\n",
              "      <td>-601.427363</td>\n",
              "    </tr>\n",
              "    <tr>\n",
              "      <th>3</th>\n",
              "      <td>2016-01-15 03:00:00</td>\n",
              "      <td>6.047977</td>\n",
              "      <td>9.977019</td>\n",
              "      <td>4.858634</td>\n",
              "      <td>42.689819</td>\n",
              "      <td>68.347543</td>\n",
              "      <td>10.422762</td>\n",
              "      <td>0.883763</td>\n",
              "      <td>16.532835</td>\n",
              "      <td>2.146849</td>\n",
              "      <td>...</td>\n",
              "      <td>14.036510</td>\n",
              "      <td>-500.857308</td>\n",
              "      <td>11.999550</td>\n",
              "      <td>-501.193686</td>\n",
              "      <td>9.970366</td>\n",
              "      <td>-499.201640</td>\n",
              "      <td>7.977324</td>\n",
              "      <td>-500.255908</td>\n",
              "      <td>14.005551</td>\n",
              "      <td>-599.996129</td>\n",
              "    </tr>\n",
              "    <tr>\n",
              "      <th>4</th>\n",
              "      <td>2016-01-15 04:00:00</td>\n",
              "      <td>6.148599</td>\n",
              "      <td>10.142511</td>\n",
              "      <td>4.939416</td>\n",
              "      <td>42.774141</td>\n",
              "      <td>66.927016</td>\n",
              "      <td>10.360302</td>\n",
              "      <td>0.792826</td>\n",
              "      <td>16.525686</td>\n",
              "      <td>2.055292</td>\n",
              "      <td>...</td>\n",
              "      <td>14.027298</td>\n",
              "      <td>-499.838632</td>\n",
              "      <td>11.953070</td>\n",
              "      <td>-501.053894</td>\n",
              "      <td>9.925709</td>\n",
              "      <td>-501.686727</td>\n",
              "      <td>7.894242</td>\n",
              "      <td>-500.356035</td>\n",
              "      <td>13.996647</td>\n",
              "      <td>-601.496691</td>\n",
              "    </tr>\n",
              "  </tbody>\n",
              "</table>\n",
              "<p>5 rows × 87 columns</p>\n",
              "</div>"
            ],
            "text/plain": [
              "                  date  final.output.concentrate_ag  \\\n",
              "0  2016-01-15 00:00:00                     6.055403   \n",
              "1  2016-01-15 01:00:00                     6.029369   \n",
              "2  2016-01-15 02:00:00                     6.055926   \n",
              "3  2016-01-15 03:00:00                     6.047977   \n",
              "4  2016-01-15 04:00:00                     6.148599   \n",
              "\n",
              "   final.output.concentrate_pb  final.output.concentrate_sol  \\\n",
              "0                     9.889648                      5.507324   \n",
              "1                     9.968944                      5.257781   \n",
              "2                    10.213995                      5.383759   \n",
              "3                     9.977019                      4.858634   \n",
              "4                    10.142511                      4.939416   \n",
              "\n",
              "   final.output.concentrate_au  final.output.recovery  final.output.tail_ag  \\\n",
              "0                    42.192020              70.541216             10.411962   \n",
              "1                    42.701629              69.266198             10.462676   \n",
              "2                    42.657501              68.116445             10.507046   \n",
              "3                    42.689819              68.347543             10.422762   \n",
              "4                    42.774141              66.927016             10.360302   \n",
              "\n",
              "   final.output.tail_pb  final.output.tail_sol  final.output.tail_au  ...  \\\n",
              "0              0.895447              16.904297              2.143149  ...   \n",
              "1              0.927452              16.634514              2.224930  ...   \n",
              "2              0.953716              16.208849              2.257889  ...   \n",
              "3              0.883763              16.532835              2.146849  ...   \n",
              "4              0.792826              16.525686              2.055292  ...   \n",
              "\n",
              "   secondary_cleaner.state.floatbank4_a_air  \\\n",
              "0                                 14.016835   \n",
              "1                                 13.992281   \n",
              "2                                 14.015015   \n",
              "3                                 14.036510   \n",
              "4                                 14.027298   \n",
              "\n",
              "   secondary_cleaner.state.floatbank4_a_level  \\\n",
              "0                                 -502.488007   \n",
              "1                                 -505.503262   \n",
              "2                                 -502.520901   \n",
              "3                                 -500.857308   \n",
              "4                                 -499.838632   \n",
              "\n",
              "   secondary_cleaner.state.floatbank4_b_air  \\\n",
              "0                                 12.099931   \n",
              "1                                 11.950531   \n",
              "2                                 11.912783   \n",
              "3                                 11.999550   \n",
              "4                                 11.953070   \n",
              "\n",
              "   secondary_cleaner.state.floatbank4_b_level  \\\n",
              "0                                 -504.715942   \n",
              "1                                 -501.331529   \n",
              "2                                 -501.133383   \n",
              "3                                 -501.193686   \n",
              "4                                 -501.053894   \n",
              "\n",
              "   secondary_cleaner.state.floatbank5_a_air  \\\n",
              "0                                  9.925633   \n",
              "1                                 10.039245   \n",
              "2                                 10.070913   \n",
              "3                                  9.970366   \n",
              "4                                  9.925709   \n",
              "\n",
              "   secondary_cleaner.state.floatbank5_a_level  \\\n",
              "0                                 -498.310211   \n",
              "1                                 -500.169983   \n",
              "2                                 -500.129135   \n",
              "3                                 -499.201640   \n",
              "4                                 -501.686727   \n",
              "\n",
              "   secondary_cleaner.state.floatbank5_b_air  \\\n",
              "0                                  8.079666   \n",
              "1                                  7.984757   \n",
              "2                                  8.013877   \n",
              "3                                  7.977324   \n",
              "4                                  7.894242   \n",
              "\n",
              "   secondary_cleaner.state.floatbank5_b_level  \\\n",
              "0                                 -500.470978   \n",
              "1                                 -500.582168   \n",
              "2                                 -500.517572   \n",
              "3                                 -500.255908   \n",
              "4                                 -500.356035   \n",
              "\n",
              "   secondary_cleaner.state.floatbank6_a_air  \\\n",
              "0                                 14.151341   \n",
              "1                                 13.998353   \n",
              "2                                 14.028663   \n",
              "3                                 14.005551   \n",
              "4                                 13.996647   \n",
              "\n",
              "   secondary_cleaner.state.floatbank6_a_level  \n",
              "0                                 -605.841980  \n",
              "1                                 -599.787184  \n",
              "2                                 -601.427363  \n",
              "3                                 -599.996129  \n",
              "4                                 -601.496691  \n",
              "\n",
              "[5 rows x 87 columns]"
            ]
          },
          "metadata": {},
          "output_type": "display_data"
        },
        {
          "name": "stdout",
          "output_type": "stream",
          "text": [
            "<class 'pandas.core.frame.DataFrame'>\n",
            "RangeIndex: 5290 entries, 0 to 5289\n",
            "Data columns (total 53 columns):\n",
            " #   Column                                      Non-Null Count  Dtype  \n",
            "---  ------                                      --------------  -----  \n",
            " 0   date                                        5290 non-null   object \n",
            " 1   primary_cleaner.input.sulfate               5286 non-null   float64\n",
            " 2   primary_cleaner.input.depressant            5285 non-null   float64\n",
            " 3   primary_cleaner.input.feed_size             5290 non-null   float64\n",
            " 4   primary_cleaner.input.xanthate              5286 non-null   float64\n",
            " 5   primary_cleaner.state.floatbank8_a_air      5290 non-null   float64\n",
            " 6   primary_cleaner.state.floatbank8_a_level    5290 non-null   float64\n",
            " 7   primary_cleaner.state.floatbank8_b_air      5290 non-null   float64\n",
            " 8   primary_cleaner.state.floatbank8_b_level    5290 non-null   float64\n",
            " 9   primary_cleaner.state.floatbank8_c_air      5290 non-null   float64\n",
            " 10  primary_cleaner.state.floatbank8_c_level    5290 non-null   float64\n",
            " 11  primary_cleaner.state.floatbank8_d_air      5290 non-null   float64\n",
            " 12  primary_cleaner.state.floatbank8_d_level    5290 non-null   float64\n",
            " 13  rougher.input.feed_ag                       5290 non-null   float64\n",
            " 14  rougher.input.feed_pb                       5290 non-null   float64\n",
            " 15  rougher.input.feed_rate                     5287 non-null   float64\n",
            " 16  rougher.input.feed_size                     5289 non-null   float64\n",
            " 17  rougher.input.feed_sol                      5269 non-null   float64\n",
            " 18  rougher.input.feed_au                       5290 non-null   float64\n",
            " 19  rougher.input.floatbank10_sulfate           5285 non-null   float64\n",
            " 20  rougher.input.floatbank10_xanthate          5290 non-null   float64\n",
            " 21  rougher.input.floatbank11_sulfate           5282 non-null   float64\n",
            " 22  rougher.input.floatbank11_xanthate          5265 non-null   float64\n",
            " 23  rougher.state.floatbank10_a_air             5290 non-null   float64\n",
            " 24  rougher.state.floatbank10_a_level           5290 non-null   float64\n",
            " 25  rougher.state.floatbank10_b_air             5290 non-null   float64\n",
            " 26  rougher.state.floatbank10_b_level           5290 non-null   float64\n",
            " 27  rougher.state.floatbank10_c_air             5290 non-null   float64\n",
            " 28  rougher.state.floatbank10_c_level           5290 non-null   float64\n",
            " 29  rougher.state.floatbank10_d_air             5290 non-null   float64\n",
            " 30  rougher.state.floatbank10_d_level           5290 non-null   float64\n",
            " 31  rougher.state.floatbank10_e_air             5290 non-null   float64\n",
            " 32  rougher.state.floatbank10_e_level           5290 non-null   float64\n",
            " 33  rougher.state.floatbank10_f_air             5290 non-null   float64\n",
            " 34  rougher.state.floatbank10_f_level           5290 non-null   float64\n",
            " 35  secondary_cleaner.state.floatbank2_a_air    5287 non-null   float64\n",
            " 36  secondary_cleaner.state.floatbank2_a_level  5290 non-null   float64\n",
            " 37  secondary_cleaner.state.floatbank2_b_air    5288 non-null   float64\n",
            " 38  secondary_cleaner.state.floatbank2_b_level  5290 non-null   float64\n",
            " 39  secondary_cleaner.state.floatbank3_a_air    5281 non-null   float64\n",
            " 40  secondary_cleaner.state.floatbank3_a_level  5290 non-null   float64\n",
            " 41  secondary_cleaner.state.floatbank3_b_air    5290 non-null   float64\n",
            " 42  secondary_cleaner.state.floatbank3_b_level  5290 non-null   float64\n",
            " 43  secondary_cleaner.state.floatbank4_a_air    5290 non-null   float64\n",
            " 44  secondary_cleaner.state.floatbank4_a_level  5290 non-null   float64\n",
            " 45  secondary_cleaner.state.floatbank4_b_air    5290 non-null   float64\n",
            " 46  secondary_cleaner.state.floatbank4_b_level  5290 non-null   float64\n",
            " 47  secondary_cleaner.state.floatbank5_a_air    5290 non-null   float64\n",
            " 48  secondary_cleaner.state.floatbank5_a_level  5290 non-null   float64\n",
            " 49  secondary_cleaner.state.floatbank5_b_air    5290 non-null   float64\n",
            " 50  secondary_cleaner.state.floatbank5_b_level  5290 non-null   float64\n",
            " 51  secondary_cleaner.state.floatbank6_a_air    5290 non-null   float64\n",
            " 52  secondary_cleaner.state.floatbank6_a_level  5290 non-null   float64\n",
            "dtypes: float64(52), object(1)\n",
            "memory usage: 2.1+ MB\n"
          ]
        },
        {
          "data": {
            "text/plain": [
              "None"
            ]
          },
          "metadata": {},
          "output_type": "display_data"
        },
        {
          "data": {
            "text/html": [
              "<div>\n",
              "<style scoped>\n",
              "    .dataframe tbody tr th:only-of-type {\n",
              "        vertical-align: middle;\n",
              "    }\n",
              "\n",
              "    .dataframe tbody tr th {\n",
              "        vertical-align: top;\n",
              "    }\n",
              "\n",
              "    .dataframe thead th {\n",
              "        text-align: right;\n",
              "    }\n",
              "</style>\n",
              "<table border=\"1\" class=\"dataframe\">\n",
              "  <thead>\n",
              "    <tr style=\"text-align: right;\">\n",
              "      <th></th>\n",
              "      <th>date</th>\n",
              "      <th>primary_cleaner.input.sulfate</th>\n",
              "      <th>primary_cleaner.input.depressant</th>\n",
              "      <th>primary_cleaner.input.feed_size</th>\n",
              "      <th>primary_cleaner.input.xanthate</th>\n",
              "      <th>primary_cleaner.state.floatbank8_a_air</th>\n",
              "      <th>primary_cleaner.state.floatbank8_a_level</th>\n",
              "      <th>primary_cleaner.state.floatbank8_b_air</th>\n",
              "      <th>primary_cleaner.state.floatbank8_b_level</th>\n",
              "      <th>primary_cleaner.state.floatbank8_c_air</th>\n",
              "      <th>...</th>\n",
              "      <th>secondary_cleaner.state.floatbank4_a_air</th>\n",
              "      <th>secondary_cleaner.state.floatbank4_a_level</th>\n",
              "      <th>secondary_cleaner.state.floatbank4_b_air</th>\n",
              "      <th>secondary_cleaner.state.floatbank4_b_level</th>\n",
              "      <th>secondary_cleaner.state.floatbank5_a_air</th>\n",
              "      <th>secondary_cleaner.state.floatbank5_a_level</th>\n",
              "      <th>secondary_cleaner.state.floatbank5_b_air</th>\n",
              "      <th>secondary_cleaner.state.floatbank5_b_level</th>\n",
              "      <th>secondary_cleaner.state.floatbank6_a_air</th>\n",
              "      <th>secondary_cleaner.state.floatbank6_a_level</th>\n",
              "    </tr>\n",
              "  </thead>\n",
              "  <tbody>\n",
              "    <tr>\n",
              "      <th>0</th>\n",
              "      <td>2016-09-01 00:59:59</td>\n",
              "      <td>210.800909</td>\n",
              "      <td>14.993118</td>\n",
              "      <td>8.080000</td>\n",
              "      <td>1.005021</td>\n",
              "      <td>1398.981301</td>\n",
              "      <td>-500.225577</td>\n",
              "      <td>1399.144926</td>\n",
              "      <td>-499.919735</td>\n",
              "      <td>1400.102998</td>\n",
              "      <td>...</td>\n",
              "      <td>12.023554</td>\n",
              "      <td>-497.795834</td>\n",
              "      <td>8.016656</td>\n",
              "      <td>-501.289139</td>\n",
              "      <td>7.946562</td>\n",
              "      <td>-432.317850</td>\n",
              "      <td>4.872511</td>\n",
              "      <td>-500.037437</td>\n",
              "      <td>26.705889</td>\n",
              "      <td>-499.709414</td>\n",
              "    </tr>\n",
              "    <tr>\n",
              "      <th>1</th>\n",
              "      <td>2016-09-01 01:59:59</td>\n",
              "      <td>215.392455</td>\n",
              "      <td>14.987471</td>\n",
              "      <td>8.080000</td>\n",
              "      <td>0.990469</td>\n",
              "      <td>1398.777912</td>\n",
              "      <td>-500.057435</td>\n",
              "      <td>1398.055362</td>\n",
              "      <td>-499.778182</td>\n",
              "      <td>1396.151033</td>\n",
              "      <td>...</td>\n",
              "      <td>12.058140</td>\n",
              "      <td>-498.695773</td>\n",
              "      <td>8.130979</td>\n",
              "      <td>-499.634209</td>\n",
              "      <td>7.958270</td>\n",
              "      <td>-525.839648</td>\n",
              "      <td>4.878850</td>\n",
              "      <td>-500.162375</td>\n",
              "      <td>25.019940</td>\n",
              "      <td>-499.819438</td>\n",
              "    </tr>\n",
              "    <tr>\n",
              "      <th>2</th>\n",
              "      <td>2016-09-01 02:59:59</td>\n",
              "      <td>215.259946</td>\n",
              "      <td>12.884934</td>\n",
              "      <td>7.786667</td>\n",
              "      <td>0.996043</td>\n",
              "      <td>1398.493666</td>\n",
              "      <td>-500.868360</td>\n",
              "      <td>1398.860436</td>\n",
              "      <td>-499.764529</td>\n",
              "      <td>1398.075709</td>\n",
              "      <td>...</td>\n",
              "      <td>11.962366</td>\n",
              "      <td>-498.767484</td>\n",
              "      <td>8.096893</td>\n",
              "      <td>-500.827423</td>\n",
              "      <td>8.071056</td>\n",
              "      <td>-500.801673</td>\n",
              "      <td>4.905125</td>\n",
              "      <td>-499.828510</td>\n",
              "      <td>24.994862</td>\n",
              "      <td>-500.622559</td>\n",
              "    </tr>\n",
              "    <tr>\n",
              "      <th>3</th>\n",
              "      <td>2016-09-01 03:59:59</td>\n",
              "      <td>215.336236</td>\n",
              "      <td>12.006805</td>\n",
              "      <td>7.640000</td>\n",
              "      <td>0.863514</td>\n",
              "      <td>1399.618111</td>\n",
              "      <td>-498.863574</td>\n",
              "      <td>1397.440120</td>\n",
              "      <td>-499.211024</td>\n",
              "      <td>1400.129303</td>\n",
              "      <td>...</td>\n",
              "      <td>12.033091</td>\n",
              "      <td>-498.350935</td>\n",
              "      <td>8.074946</td>\n",
              "      <td>-499.474407</td>\n",
              "      <td>7.897085</td>\n",
              "      <td>-500.868509</td>\n",
              "      <td>4.931400</td>\n",
              "      <td>-499.963623</td>\n",
              "      <td>24.948919</td>\n",
              "      <td>-498.709987</td>\n",
              "    </tr>\n",
              "    <tr>\n",
              "      <th>4</th>\n",
              "      <td>2016-09-01 04:59:59</td>\n",
              "      <td>199.099327</td>\n",
              "      <td>10.682530</td>\n",
              "      <td>7.530000</td>\n",
              "      <td>0.805575</td>\n",
              "      <td>1401.268123</td>\n",
              "      <td>-500.808305</td>\n",
              "      <td>1398.128818</td>\n",
              "      <td>-499.504543</td>\n",
              "      <td>1402.172226</td>\n",
              "      <td>...</td>\n",
              "      <td>12.025367</td>\n",
              "      <td>-500.786497</td>\n",
              "      <td>8.054678</td>\n",
              "      <td>-500.397500</td>\n",
              "      <td>8.107890</td>\n",
              "      <td>-509.526725</td>\n",
              "      <td>4.957674</td>\n",
              "      <td>-500.360026</td>\n",
              "      <td>25.003331</td>\n",
              "      <td>-500.856333</td>\n",
              "    </tr>\n",
              "  </tbody>\n",
              "</table>\n",
              "<p>5 rows × 53 columns</p>\n",
              "</div>"
            ],
            "text/plain": [
              "                  date  primary_cleaner.input.sulfate  \\\n",
              "0  2016-09-01 00:59:59                     210.800909   \n",
              "1  2016-09-01 01:59:59                     215.392455   \n",
              "2  2016-09-01 02:59:59                     215.259946   \n",
              "3  2016-09-01 03:59:59                     215.336236   \n",
              "4  2016-09-01 04:59:59                     199.099327   \n",
              "\n",
              "   primary_cleaner.input.depressant  primary_cleaner.input.feed_size  \\\n",
              "0                         14.993118                         8.080000   \n",
              "1                         14.987471                         8.080000   \n",
              "2                         12.884934                         7.786667   \n",
              "3                         12.006805                         7.640000   \n",
              "4                         10.682530                         7.530000   \n",
              "\n",
              "   primary_cleaner.input.xanthate  primary_cleaner.state.floatbank8_a_air  \\\n",
              "0                        1.005021                             1398.981301   \n",
              "1                        0.990469                             1398.777912   \n",
              "2                        0.996043                             1398.493666   \n",
              "3                        0.863514                             1399.618111   \n",
              "4                        0.805575                             1401.268123   \n",
              "\n",
              "   primary_cleaner.state.floatbank8_a_level  \\\n",
              "0                               -500.225577   \n",
              "1                               -500.057435   \n",
              "2                               -500.868360   \n",
              "3                               -498.863574   \n",
              "4                               -500.808305   \n",
              "\n",
              "   primary_cleaner.state.floatbank8_b_air  \\\n",
              "0                             1399.144926   \n",
              "1                             1398.055362   \n",
              "2                             1398.860436   \n",
              "3                             1397.440120   \n",
              "4                             1398.128818   \n",
              "\n",
              "   primary_cleaner.state.floatbank8_b_level  \\\n",
              "0                               -499.919735   \n",
              "1                               -499.778182   \n",
              "2                               -499.764529   \n",
              "3                               -499.211024   \n",
              "4                               -499.504543   \n",
              "\n",
              "   primary_cleaner.state.floatbank8_c_air  ...  \\\n",
              "0                             1400.102998  ...   \n",
              "1                             1396.151033  ...   \n",
              "2                             1398.075709  ...   \n",
              "3                             1400.129303  ...   \n",
              "4                             1402.172226  ...   \n",
              "\n",
              "   secondary_cleaner.state.floatbank4_a_air  \\\n",
              "0                                 12.023554   \n",
              "1                                 12.058140   \n",
              "2                                 11.962366   \n",
              "3                                 12.033091   \n",
              "4                                 12.025367   \n",
              "\n",
              "   secondary_cleaner.state.floatbank4_a_level  \\\n",
              "0                                 -497.795834   \n",
              "1                                 -498.695773   \n",
              "2                                 -498.767484   \n",
              "3                                 -498.350935   \n",
              "4                                 -500.786497   \n",
              "\n",
              "   secondary_cleaner.state.floatbank4_b_air  \\\n",
              "0                                  8.016656   \n",
              "1                                  8.130979   \n",
              "2                                  8.096893   \n",
              "3                                  8.074946   \n",
              "4                                  8.054678   \n",
              "\n",
              "   secondary_cleaner.state.floatbank4_b_level  \\\n",
              "0                                 -501.289139   \n",
              "1                                 -499.634209   \n",
              "2                                 -500.827423   \n",
              "3                                 -499.474407   \n",
              "4                                 -500.397500   \n",
              "\n",
              "   secondary_cleaner.state.floatbank5_a_air  \\\n",
              "0                                  7.946562   \n",
              "1                                  7.958270   \n",
              "2                                  8.071056   \n",
              "3                                  7.897085   \n",
              "4                                  8.107890   \n",
              "\n",
              "   secondary_cleaner.state.floatbank5_a_level  \\\n",
              "0                                 -432.317850   \n",
              "1                                 -525.839648   \n",
              "2                                 -500.801673   \n",
              "3                                 -500.868509   \n",
              "4                                 -509.526725   \n",
              "\n",
              "   secondary_cleaner.state.floatbank5_b_air  \\\n",
              "0                                  4.872511   \n",
              "1                                  4.878850   \n",
              "2                                  4.905125   \n",
              "3                                  4.931400   \n",
              "4                                  4.957674   \n",
              "\n",
              "   secondary_cleaner.state.floatbank5_b_level  \\\n",
              "0                                 -500.037437   \n",
              "1                                 -500.162375   \n",
              "2                                 -499.828510   \n",
              "3                                 -499.963623   \n",
              "4                                 -500.360026   \n",
              "\n",
              "   secondary_cleaner.state.floatbank6_a_air  \\\n",
              "0                                 26.705889   \n",
              "1                                 25.019940   \n",
              "2                                 24.994862   \n",
              "3                                 24.948919   \n",
              "4                                 25.003331   \n",
              "\n",
              "   secondary_cleaner.state.floatbank6_a_level  \n",
              "0                                 -499.709414  \n",
              "1                                 -499.819438  \n",
              "2                                 -500.622559  \n",
              "3                                 -498.709987  \n",
              "4                                 -500.856333  \n",
              "\n",
              "[5 rows x 53 columns]"
            ]
          },
          "metadata": {},
          "output_type": "display_data"
        },
        {
          "name": "stdout",
          "output_type": "stream",
          "text": [
            "<class 'pandas.core.frame.DataFrame'>\n",
            "RangeIndex: 19439 entries, 0 to 19438\n",
            "Data columns (total 87 columns):\n",
            " #   Column                                              Non-Null Count  Dtype  \n",
            "---  ------                                              --------------  -----  \n",
            " 0   date                                                19439 non-null  object \n",
            " 1   final.output.concentrate_ag                         19438 non-null  float64\n",
            " 2   final.output.concentrate_pb                         19438 non-null  float64\n",
            " 3   final.output.concentrate_sol                        19228 non-null  float64\n",
            " 4   final.output.concentrate_au                         19439 non-null  float64\n",
            " 5   final.output.recovery                               19439 non-null  float64\n",
            " 6   final.output.tail_ag                                19438 non-null  float64\n",
            " 7   final.output.tail_pb                                19338 non-null  float64\n",
            " 8   final.output.tail_sol                               19433 non-null  float64\n",
            " 9   final.output.tail_au                                19439 non-null  float64\n",
            " 10  primary_cleaner.input.sulfate                       19415 non-null  float64\n",
            " 11  primary_cleaner.input.depressant                    19402 non-null  float64\n",
            " 12  primary_cleaner.input.feed_size                     19439 non-null  float64\n",
            " 13  primary_cleaner.input.xanthate                      19335 non-null  float64\n",
            " 14  primary_cleaner.output.concentrate_ag               19439 non-null  float64\n",
            " 15  primary_cleaner.output.concentrate_pb               19323 non-null  float64\n",
            " 16  primary_cleaner.output.concentrate_sol              19069 non-null  float64\n",
            " 17  primary_cleaner.output.concentrate_au               19439 non-null  float64\n",
            " 18  primary_cleaner.output.tail_ag                      19435 non-null  float64\n",
            " 19  primary_cleaner.output.tail_pb                      19418 non-null  float64\n",
            " 20  primary_cleaner.output.tail_sol                     19377 non-null  float64\n",
            " 21  primary_cleaner.output.tail_au                      19439 non-null  float64\n",
            " 22  primary_cleaner.state.floatbank8_a_air              19435 non-null  float64\n",
            " 23  primary_cleaner.state.floatbank8_a_level            19438 non-null  float64\n",
            " 24  primary_cleaner.state.floatbank8_b_air              19435 non-null  float64\n",
            " 25  primary_cleaner.state.floatbank8_b_level            19438 non-null  float64\n",
            " 26  primary_cleaner.state.floatbank8_c_air              19437 non-null  float64\n",
            " 27  primary_cleaner.state.floatbank8_c_level            19438 non-null  float64\n",
            " 28  primary_cleaner.state.floatbank8_d_air              19436 non-null  float64\n",
            " 29  primary_cleaner.state.floatbank8_d_level            19438 non-null  float64\n",
            " 30  rougher.calculation.sulfate_to_au_concentrate       19437 non-null  float64\n",
            " 31  rougher.calculation.floatbank10_sulfate_to_au_feed  19437 non-null  float64\n",
            " 32  rougher.calculation.floatbank11_sulfate_to_au_feed  19437 non-null  float64\n",
            " 33  rougher.calculation.au_pb_ratio                     19439 non-null  float64\n",
            " 34  rougher.input.feed_ag                               19439 non-null  float64\n",
            " 35  rougher.input.feed_pb                               19339 non-null  float64\n",
            " 36  rougher.input.feed_rate                             19428 non-null  float64\n",
            " 37  rougher.input.feed_size                             19294 non-null  float64\n",
            " 38  rougher.input.feed_sol                              19340 non-null  float64\n",
            " 39  rougher.input.feed_au                               19439 non-null  float64\n",
            " 40  rougher.input.floatbank10_sulfate                   19405 non-null  float64\n",
            " 41  rougher.input.floatbank10_xanthate                  19431 non-null  float64\n",
            " 42  rougher.input.floatbank11_sulfate                   19395 non-null  float64\n",
            " 43  rougher.input.floatbank11_xanthate                  18986 non-null  float64\n",
            " 44  rougher.output.concentrate_ag                       19439 non-null  float64\n",
            " 45  rougher.output.concentrate_pb                       19439 non-null  float64\n",
            " 46  rougher.output.concentrate_sol                      19416 non-null  float64\n",
            " 47  rougher.output.concentrate_au                       19439 non-null  float64\n",
            " 48  rougher.output.recovery                             19439 non-null  float64\n",
            " 49  rougher.output.tail_ag                              19438 non-null  float64\n",
            " 50  rougher.output.tail_pb                              19439 non-null  float64\n",
            " 51  rougher.output.tail_sol                             19439 non-null  float64\n",
            " 52  rougher.output.tail_au                              19439 non-null  float64\n",
            " 53  rougher.state.floatbank10_a_air                     19438 non-null  float64\n",
            " 54  rougher.state.floatbank10_a_level                   19438 non-null  float64\n",
            " 55  rougher.state.floatbank10_b_air                     19438 non-null  float64\n",
            " 56  rougher.state.floatbank10_b_level                   19438 non-null  float64\n",
            " 57  rougher.state.floatbank10_c_air                     19438 non-null  float64\n",
            " 58  rougher.state.floatbank10_c_level                   19438 non-null  float64\n",
            " 59  rougher.state.floatbank10_d_air                     19439 non-null  float64\n",
            " 60  rougher.state.floatbank10_d_level                   19439 non-null  float64\n",
            " 61  rougher.state.floatbank10_e_air                     19003 non-null  float64\n",
            " 62  rougher.state.floatbank10_e_level                   19439 non-null  float64\n",
            " 63  rougher.state.floatbank10_f_air                     19439 non-null  float64\n",
            " 64  rougher.state.floatbank10_f_level                   19439 non-null  float64\n",
            " 65  secondary_cleaner.output.tail_ag                    19437 non-null  float64\n",
            " 66  secondary_cleaner.output.tail_pb                    19427 non-null  float64\n",
            " 67  secondary_cleaner.output.tail_sol                   17691 non-null  float64\n",
            " 68  secondary_cleaner.output.tail_au                    19439 non-null  float64\n",
            " 69  secondary_cleaner.state.floatbank2_a_air            19219 non-null  float64\n",
            " 70  secondary_cleaner.state.floatbank2_a_level          19438 non-null  float64\n",
            " 71  secondary_cleaner.state.floatbank2_b_air            19416 non-null  float64\n",
            " 72  secondary_cleaner.state.floatbank2_b_level          19438 non-null  float64\n",
            " 73  secondary_cleaner.state.floatbank3_a_air            19426 non-null  float64\n",
            " 74  secondary_cleaner.state.floatbank3_a_level          19438 non-null  float64\n",
            " 75  secondary_cleaner.state.floatbank3_b_air            19438 non-null  float64\n",
            " 76  secondary_cleaner.state.floatbank3_b_level          19438 non-null  float64\n",
            " 77  secondary_cleaner.state.floatbank4_a_air            19433 non-null  float64\n",
            " 78  secondary_cleaner.state.floatbank4_a_level          19438 non-null  float64\n",
            " 79  secondary_cleaner.state.floatbank4_b_air            19438 non-null  float64\n",
            " 80  secondary_cleaner.state.floatbank4_b_level          19438 non-null  float64\n",
            " 81  secondary_cleaner.state.floatbank5_a_air            19438 non-null  float64\n",
            " 82  secondary_cleaner.state.floatbank5_a_level          19438 non-null  float64\n",
            " 83  secondary_cleaner.state.floatbank5_b_air            19438 non-null  float64\n",
            " 84  secondary_cleaner.state.floatbank5_b_level          19438 non-null  float64\n",
            " 85  secondary_cleaner.state.floatbank6_a_air            19437 non-null  float64\n",
            " 86  secondary_cleaner.state.floatbank6_a_level          19438 non-null  float64\n",
            "dtypes: float64(86), object(1)\n",
            "memory usage: 12.9+ MB\n"
          ]
        },
        {
          "data": {
            "text/plain": [
              "None"
            ]
          },
          "metadata": {},
          "output_type": "display_data"
        },
        {
          "data": {
            "text/html": [
              "<div>\n",
              "<style scoped>\n",
              "    .dataframe tbody tr th:only-of-type {\n",
              "        vertical-align: middle;\n",
              "    }\n",
              "\n",
              "    .dataframe tbody tr th {\n",
              "        vertical-align: top;\n",
              "    }\n",
              "\n",
              "    .dataframe thead th {\n",
              "        text-align: right;\n",
              "    }\n",
              "</style>\n",
              "<table border=\"1\" class=\"dataframe\">\n",
              "  <thead>\n",
              "    <tr style=\"text-align: right;\">\n",
              "      <th></th>\n",
              "      <th>date</th>\n",
              "      <th>final.output.concentrate_ag</th>\n",
              "      <th>final.output.concentrate_pb</th>\n",
              "      <th>final.output.concentrate_sol</th>\n",
              "      <th>final.output.concentrate_au</th>\n",
              "      <th>final.output.recovery</th>\n",
              "      <th>final.output.tail_ag</th>\n",
              "      <th>final.output.tail_pb</th>\n",
              "      <th>final.output.tail_sol</th>\n",
              "      <th>final.output.tail_au</th>\n",
              "      <th>...</th>\n",
              "      <th>secondary_cleaner.state.floatbank4_a_air</th>\n",
              "      <th>secondary_cleaner.state.floatbank4_a_level</th>\n",
              "      <th>secondary_cleaner.state.floatbank4_b_air</th>\n",
              "      <th>secondary_cleaner.state.floatbank4_b_level</th>\n",
              "      <th>secondary_cleaner.state.floatbank5_a_air</th>\n",
              "      <th>secondary_cleaner.state.floatbank5_a_level</th>\n",
              "      <th>secondary_cleaner.state.floatbank5_b_air</th>\n",
              "      <th>secondary_cleaner.state.floatbank5_b_level</th>\n",
              "      <th>secondary_cleaner.state.floatbank6_a_air</th>\n",
              "      <th>secondary_cleaner.state.floatbank6_a_level</th>\n",
              "    </tr>\n",
              "  </thead>\n",
              "  <tbody>\n",
              "    <tr>\n",
              "      <th>0</th>\n",
              "      <td>2016-01-15 00:00:00</td>\n",
              "      <td>6.055403</td>\n",
              "      <td>9.889648</td>\n",
              "      <td>5.507324</td>\n",
              "      <td>42.192020</td>\n",
              "      <td>70.541216</td>\n",
              "      <td>10.411962</td>\n",
              "      <td>0.895447</td>\n",
              "      <td>16.904297</td>\n",
              "      <td>2.143149</td>\n",
              "      <td>...</td>\n",
              "      <td>14.016835</td>\n",
              "      <td>-502.488007</td>\n",
              "      <td>12.099931</td>\n",
              "      <td>-504.715942</td>\n",
              "      <td>9.925633</td>\n",
              "      <td>-498.310211</td>\n",
              "      <td>8.079666</td>\n",
              "      <td>-500.470978</td>\n",
              "      <td>14.151341</td>\n",
              "      <td>-605.841980</td>\n",
              "    </tr>\n",
              "    <tr>\n",
              "      <th>1</th>\n",
              "      <td>2016-01-15 01:00:00</td>\n",
              "      <td>6.029369</td>\n",
              "      <td>9.968944</td>\n",
              "      <td>5.257781</td>\n",
              "      <td>42.701629</td>\n",
              "      <td>69.266198</td>\n",
              "      <td>10.462676</td>\n",
              "      <td>0.927452</td>\n",
              "      <td>16.634514</td>\n",
              "      <td>2.224930</td>\n",
              "      <td>...</td>\n",
              "      <td>13.992281</td>\n",
              "      <td>-505.503262</td>\n",
              "      <td>11.950531</td>\n",
              "      <td>-501.331529</td>\n",
              "      <td>10.039245</td>\n",
              "      <td>-500.169983</td>\n",
              "      <td>7.984757</td>\n",
              "      <td>-500.582168</td>\n",
              "      <td>13.998353</td>\n",
              "      <td>-599.787184</td>\n",
              "    </tr>\n",
              "    <tr>\n",
              "      <th>2</th>\n",
              "      <td>2016-01-15 02:00:00</td>\n",
              "      <td>6.055926</td>\n",
              "      <td>10.213995</td>\n",
              "      <td>5.383759</td>\n",
              "      <td>42.657501</td>\n",
              "      <td>68.116445</td>\n",
              "      <td>10.507046</td>\n",
              "      <td>0.953716</td>\n",
              "      <td>16.208849</td>\n",
              "      <td>2.257889</td>\n",
              "      <td>...</td>\n",
              "      <td>14.015015</td>\n",
              "      <td>-502.520901</td>\n",
              "      <td>11.912783</td>\n",
              "      <td>-501.133383</td>\n",
              "      <td>10.070913</td>\n",
              "      <td>-500.129135</td>\n",
              "      <td>8.013877</td>\n",
              "      <td>-500.517572</td>\n",
              "      <td>14.028663</td>\n",
              "      <td>-601.427363</td>\n",
              "    </tr>\n",
              "    <tr>\n",
              "      <th>3</th>\n",
              "      <td>2016-01-15 03:00:00</td>\n",
              "      <td>6.047977</td>\n",
              "      <td>9.977019</td>\n",
              "      <td>4.858634</td>\n",
              "      <td>42.689819</td>\n",
              "      <td>68.347543</td>\n",
              "      <td>10.422762</td>\n",
              "      <td>0.883763</td>\n",
              "      <td>16.532835</td>\n",
              "      <td>2.146849</td>\n",
              "      <td>...</td>\n",
              "      <td>14.036510</td>\n",
              "      <td>-500.857308</td>\n",
              "      <td>11.999550</td>\n",
              "      <td>-501.193686</td>\n",
              "      <td>9.970366</td>\n",
              "      <td>-499.201640</td>\n",
              "      <td>7.977324</td>\n",
              "      <td>-500.255908</td>\n",
              "      <td>14.005551</td>\n",
              "      <td>-599.996129</td>\n",
              "    </tr>\n",
              "    <tr>\n",
              "      <th>4</th>\n",
              "      <td>2016-01-15 04:00:00</td>\n",
              "      <td>6.148599</td>\n",
              "      <td>10.142511</td>\n",
              "      <td>4.939416</td>\n",
              "      <td>42.774141</td>\n",
              "      <td>66.927016</td>\n",
              "      <td>10.360302</td>\n",
              "      <td>0.792826</td>\n",
              "      <td>16.525686</td>\n",
              "      <td>2.055292</td>\n",
              "      <td>...</td>\n",
              "      <td>14.027298</td>\n",
              "      <td>-499.838632</td>\n",
              "      <td>11.953070</td>\n",
              "      <td>-501.053894</td>\n",
              "      <td>9.925709</td>\n",
              "      <td>-501.686727</td>\n",
              "      <td>7.894242</td>\n",
              "      <td>-500.356035</td>\n",
              "      <td>13.996647</td>\n",
              "      <td>-601.496691</td>\n",
              "    </tr>\n",
              "  </tbody>\n",
              "</table>\n",
              "<p>5 rows × 87 columns</p>\n",
              "</div>"
            ],
            "text/plain": [
              "                  date  final.output.concentrate_ag  \\\n",
              "0  2016-01-15 00:00:00                     6.055403   \n",
              "1  2016-01-15 01:00:00                     6.029369   \n",
              "2  2016-01-15 02:00:00                     6.055926   \n",
              "3  2016-01-15 03:00:00                     6.047977   \n",
              "4  2016-01-15 04:00:00                     6.148599   \n",
              "\n",
              "   final.output.concentrate_pb  final.output.concentrate_sol  \\\n",
              "0                     9.889648                      5.507324   \n",
              "1                     9.968944                      5.257781   \n",
              "2                    10.213995                      5.383759   \n",
              "3                     9.977019                      4.858634   \n",
              "4                    10.142511                      4.939416   \n",
              "\n",
              "   final.output.concentrate_au  final.output.recovery  final.output.tail_ag  \\\n",
              "0                    42.192020              70.541216             10.411962   \n",
              "1                    42.701629              69.266198             10.462676   \n",
              "2                    42.657501              68.116445             10.507046   \n",
              "3                    42.689819              68.347543             10.422762   \n",
              "4                    42.774141              66.927016             10.360302   \n",
              "\n",
              "   final.output.tail_pb  final.output.tail_sol  final.output.tail_au  ...  \\\n",
              "0              0.895447              16.904297              2.143149  ...   \n",
              "1              0.927452              16.634514              2.224930  ...   \n",
              "2              0.953716              16.208849              2.257889  ...   \n",
              "3              0.883763              16.532835              2.146849  ...   \n",
              "4              0.792826              16.525686              2.055292  ...   \n",
              "\n",
              "   secondary_cleaner.state.floatbank4_a_air  \\\n",
              "0                                 14.016835   \n",
              "1                                 13.992281   \n",
              "2                                 14.015015   \n",
              "3                                 14.036510   \n",
              "4                                 14.027298   \n",
              "\n",
              "   secondary_cleaner.state.floatbank4_a_level  \\\n",
              "0                                 -502.488007   \n",
              "1                                 -505.503262   \n",
              "2                                 -502.520901   \n",
              "3                                 -500.857308   \n",
              "4                                 -499.838632   \n",
              "\n",
              "   secondary_cleaner.state.floatbank4_b_air  \\\n",
              "0                                 12.099931   \n",
              "1                                 11.950531   \n",
              "2                                 11.912783   \n",
              "3                                 11.999550   \n",
              "4                                 11.953070   \n",
              "\n",
              "   secondary_cleaner.state.floatbank4_b_level  \\\n",
              "0                                 -504.715942   \n",
              "1                                 -501.331529   \n",
              "2                                 -501.133383   \n",
              "3                                 -501.193686   \n",
              "4                                 -501.053894   \n",
              "\n",
              "   secondary_cleaner.state.floatbank5_a_air  \\\n",
              "0                                  9.925633   \n",
              "1                                 10.039245   \n",
              "2                                 10.070913   \n",
              "3                                  9.970366   \n",
              "4                                  9.925709   \n",
              "\n",
              "   secondary_cleaner.state.floatbank5_a_level  \\\n",
              "0                                 -498.310211   \n",
              "1                                 -500.169983   \n",
              "2                                 -500.129135   \n",
              "3                                 -499.201640   \n",
              "4                                 -501.686727   \n",
              "\n",
              "   secondary_cleaner.state.floatbank5_b_air  \\\n",
              "0                                  8.079666   \n",
              "1                                  7.984757   \n",
              "2                                  8.013877   \n",
              "3                                  7.977324   \n",
              "4                                  7.894242   \n",
              "\n",
              "   secondary_cleaner.state.floatbank5_b_level  \\\n",
              "0                                 -500.470978   \n",
              "1                                 -500.582168   \n",
              "2                                 -500.517572   \n",
              "3                                 -500.255908   \n",
              "4                                 -500.356035   \n",
              "\n",
              "   secondary_cleaner.state.floatbank6_a_air  \\\n",
              "0                                 14.151341   \n",
              "1                                 13.998353   \n",
              "2                                 14.028663   \n",
              "3                                 14.005551   \n",
              "4                                 13.996647   \n",
              "\n",
              "   secondary_cleaner.state.floatbank6_a_level  \n",
              "0                                 -605.841980  \n",
              "1                                 -599.787184  \n",
              "2                                 -601.427363  \n",
              "3                                 -599.996129  \n",
              "4                                 -601.496691  \n",
              "\n",
              "[5 rows x 87 columns]"
            ]
          },
          "execution_count": 2,
          "metadata": {},
          "output_type": "execute_result"
        }
      ],
      "source": [
        "gold_recovery_train = pd.read_csv('/datasets/gold_recovery_train_new.csv')\n",
        "gold_recovery_test = pd.read_csv('/datasets/gold_recovery_test_new.csv')\n",
        "gold_recovery_full = pd.read_csv('/datasets/gold_recovery_full_new.csv')\n",
        "\n",
        "display(gold_recovery_train.info())\n",
        "display(gold_recovery_train.head())\n",
        "\n",
        "display(gold_recovery_test.info())\n",
        "display(gold_recovery_test.head())\n",
        "\n",
        "display(gold_recovery_full.info())\n",
        "gold_recovery_full.head()"
      ]
    },
    {
      "cell_type": "markdown",
      "metadata": {
        "id": "wjPQGegjNgyH"
      },
      "source": [
        "<b>Вывод</b>\n",
        "\n",
        "- во всех датафреймах значения записаны в формате *float*, кроме данных в столбце *date*\n",
        "- во всех датафреймах имеются пропущенные значения\n",
        "- в тестовой выборке на 33 признака меньше, чем в обучающей и исходной"
      ]
    },
    {
      "cell_type": "markdown",
      "metadata": {
        "id": "gqNB00ZgNgyI"
      },
      "source": [
        "### Проверка корректности расчёта эффективности обогащения"
      ]
    },
    {
      "cell_type": "markdown",
      "metadata": {
        "id": "ra6L7jhrNgyI"
      },
      "source": [
        "Проверим корректность расчёта эффективности обогащения в одной из строк по формуле:\n",
        "\n",
        "rougher.output.recovery.calc = (\n",
        "    (rougher.output.concentrate_au * (rougher.input.feed_au - rougher.output.tail_au)) /\n",
        "    (rougher.input.feed_au * (rougher.output.concentrate_au - rougher.output.tail_au))\n",
        ")\n",
        "\n",
        "И расчитаем среднее абсолютное отклонение"
      ]
    },
    {
      "cell_type": "code",
      "execution_count": null,
      "metadata": {
        "id": "_izu4FZYNgyJ",
        "outputId": "0806683b-85af-4869-b6aa-9428ebdeda56"
      },
      "outputs": [
        {
          "data": {
            "text/html": [
              "<div>\n",
              "<style scoped>\n",
              "    .dataframe tbody tr th:only-of-type {\n",
              "        vertical-align: middle;\n",
              "    }\n",
              "\n",
              "    .dataframe tbody tr th {\n",
              "        vertical-align: top;\n",
              "    }\n",
              "\n",
              "    .dataframe thead th {\n",
              "        text-align: right;\n",
              "    }\n",
              "</style>\n",
              "<table border=\"1\" class=\"dataframe\">\n",
              "  <thead>\n",
              "    <tr style=\"text-align: right;\">\n",
              "      <th></th>\n",
              "      <th>rougher.output.concentrate_au</th>\n",
              "      <th>rougher.output.recovery</th>\n",
              "      <th>rougher.input.feed_au</th>\n",
              "      <th>rougher.output.tail_au</th>\n",
              "    </tr>\n",
              "  </thead>\n",
              "  <tbody>\n",
              "    <tr>\n",
              "      <th>0</th>\n",
              "      <td>19.793808</td>\n",
              "      <td>87.107763</td>\n",
              "      <td>6.486150</td>\n",
              "      <td>1.170244</td>\n",
              "    </tr>\n",
              "    <tr>\n",
              "      <th>1</th>\n",
              "      <td>20.050975</td>\n",
              "      <td>86.843261</td>\n",
              "      <td>6.478583</td>\n",
              "      <td>1.184827</td>\n",
              "    </tr>\n",
              "    <tr>\n",
              "      <th>2</th>\n",
              "      <td>19.737170</td>\n",
              "      <td>86.842308</td>\n",
              "      <td>6.362222</td>\n",
              "      <td>1.162562</td>\n",
              "    </tr>\n",
              "    <tr>\n",
              "      <th>3</th>\n",
              "      <td>19.320810</td>\n",
              "      <td>87.226430</td>\n",
              "      <td>6.118189</td>\n",
              "      <td>1.079755</td>\n",
              "    </tr>\n",
              "    <tr>\n",
              "      <th>4</th>\n",
              "      <td>19.216101</td>\n",
              "      <td>86.688794</td>\n",
              "      <td>5.663707</td>\n",
              "      <td>1.012642</td>\n",
              "    </tr>\n",
              "  </tbody>\n",
              "</table>\n",
              "</div>"
            ],
            "text/plain": [
              "   rougher.output.concentrate_au  rougher.output.recovery  \\\n",
              "0                      19.793808                87.107763   \n",
              "1                      20.050975                86.843261   \n",
              "2                      19.737170                86.842308   \n",
              "3                      19.320810                87.226430   \n",
              "4                      19.216101                86.688794   \n",
              "\n",
              "   rougher.input.feed_au  rougher.output.tail_au  \n",
              "0               6.486150                1.170244  \n",
              "1               6.478583                1.184827  \n",
              "2               6.362222                1.162562  \n",
              "3               6.118189                1.079755  \n",
              "4               5.663707                1.012642  "
            ]
          },
          "execution_count": 3,
          "metadata": {},
          "output_type": "execute_result"
        }
      ],
      "source": [
        "gold_recovery_train_verification = gold_recovery_train[['rougher.output.concentrate_au', 'rougher.output.recovery', 'rougher.input.feed_au', 'rougher.output.tail_au']]\n",
        "gold_recovery_train_verification.head()"
      ]
    },
    {
      "cell_type": "code",
      "execution_count": null,
      "metadata": {
        "id": "umff433vNgyJ",
        "outputId": "3d36caff-483e-4502-fd27-c5482c512d8b"
      },
      "outputs": [
        {
          "data": {
            "text/plain": [
              "9.73512347450521e-15"
            ]
          },
          "execution_count": 4,
          "metadata": {},
          "output_type": "execute_result"
        }
      ],
      "source": [
        "rougher_output_recovery_calc = (\n",
        "    ((gold_recovery_train_verification['rougher.output.concentrate_au'] * \n",
        "         (gold_recovery_train_verification['rougher.input.feed_au'] - \n",
        "          gold_recovery_train_verification['rougher.output.tail_au'])\n",
        "    ) / \n",
        "        (gold_recovery_train_verification['rougher.input.feed_au'] * \n",
        "         (gold_recovery_train_verification['rougher.output.concentrate_au'] - \n",
        "          gold_recovery_train_verification['rougher.output.tail_au']))) * 100\n",
        ")\n",
        "\n",
        "mean_absolute_error(rougher_output_recovery_calc, gold_recovery_train_verification['rougher.output.recovery'])"
      ]
    },
    {
      "cell_type": "markdown",
      "metadata": {
        "id": "u7VoJxqBNgyL"
      },
      "source": [
        "<b>Вывод</b>\n",
        "- расчётная эффективность обогащения практически равна фактической, на что указывает значение *mae* незначительно отклоняющеесе от нуля"
      ]
    },
    {
      "cell_type": "markdown",
      "metadata": {
        "id": "vRrszNCFNgyN"
      },
      "source": [
        "### Анализ признаков, недоступных в тестовой выборке"
      ]
    },
    {
      "cell_type": "markdown",
      "metadata": {
        "id": "ACTe8ww6NgyN"
      },
      "source": [
        "Вывод списка значений признаков, которые не вошли в тестовую выборку"
      ]
    },
    {
      "cell_type": "code",
      "execution_count": null,
      "metadata": {
        "id": "7xbe2GQENgyP",
        "outputId": "d43b3065-183f-4022-d074-adb214fd59d7"
      },
      "outputs": [
        {
          "data": {
            "text/plain": [
              "34"
            ]
          },
          "metadata": {},
          "output_type": "display_data"
        },
        {
          "data": {
            "text/plain": [
              "['rougher.calculation.sulfate_to_au_concentrate',\n",
              " 'rougher.output.concentrate_ag',\n",
              " 'secondary_cleaner.output.tail_au',\n",
              " 'secondary_cleaner.output.tail_ag',\n",
              " 'primary_cleaner.output.tail_sol',\n",
              " 'rougher.output.concentrate_pb',\n",
              " 'rougher.output.tail_ag',\n",
              " 'final.output.concentrate_pb',\n",
              " 'rougher.calculation.floatbank10_sulfate_to_au_feed',\n",
              " 'rougher.output.concentrate_au',\n",
              " 'rougher.output.tail_sol',\n",
              " 'primary_cleaner.output.tail_au',\n",
              " 'primary_cleaner.output.tail_ag',\n",
              " 'final.output.tail_sol',\n",
              " 'final.output.concentrate_au',\n",
              " 'rougher.output.tail_au',\n",
              " 'rougher.calculation.au_pb_ratio',\n",
              " 'rougher.output.tail_pb',\n",
              " 'secondary_cleaner.output.tail_sol',\n",
              " 'rougher.output.concentrate_sol',\n",
              " 'rougher.calculation.floatbank11_sulfate_to_au_feed',\n",
              " 'final.output.concentrate_sol',\n",
              " 'final.output.tail_au',\n",
              " 'primary_cleaner.output.tail_pb',\n",
              " 'primary_cleaner.output.concentrate_au',\n",
              " 'secondary_cleaner.output.tail_pb',\n",
              " 'primary_cleaner.output.concentrate_ag',\n",
              " 'final.output.tail_pb',\n",
              " 'primary_cleaner.output.concentrate_sol',\n",
              " 'rougher.output.recovery',\n",
              " 'final.output.tail_ag',\n",
              " 'final.output.recovery',\n",
              " 'primary_cleaner.output.concentrate_pb',\n",
              " 'final.output.concentrate_ag']"
            ]
          },
          "execution_count": 5,
          "metadata": {},
          "output_type": "execute_result"
        }
      ],
      "source": [
        "display(len(list(set(gold_recovery_full.columns) - set(gold_recovery_test.columns))))\n",
        "list(set(gold_recovery_full.columns) - set(gold_recovery_test.columns))"
      ]
    },
    {
      "cell_type": "markdown",
      "metadata": {
        "id": "j1BiCu9VNgyQ"
      },
      "source": [
        "<b>Вывод</b>\n",
        "- почти все признаки, не вошедшие в тестовую выборку, являются промежуточными, их можно исключить и из обучающей выборки\n",
        "- признаки *final.output.recovery* и *rougher.output.recovery* являются целевыми - их необходимо добавить в тестовую выборку из полного датафрейма"
      ]
    },
    {
      "cell_type": "markdown",
      "metadata": {
        "id": "OoP1A81MNgyQ"
      },
      "source": [
        "### Предобработка данных"
      ]
    },
    {
      "cell_type": "markdown",
      "metadata": {
        "id": "OPIFTXC7NgyR"
      },
      "source": [
        "<b>Добавление целевых признаков в тестовую выборку</b>"
      ]
    },
    {
      "cell_type": "markdown",
      "metadata": {
        "id": "WXQ1-UmsNgyR"
      },
      "source": [
        "Используем для добавления признаков признак *date* и функцию *merge*"
      ]
    },
    {
      "cell_type": "code",
      "execution_count": null,
      "metadata": {
        "id": "JEBLtXFUNgyR"
      },
      "outputs": [],
      "source": [
        "gold_recovery_test = (\n",
        "    (gold_recovery_test\n",
        "    .merge(gold_recovery_full[['date', 'final.output.recovery', 'rougher.output.recovery']],\n",
        "          how='outer', on='date'))\n",
        "    .dropna(subset=['rougher.input.feed_au'])\n",
        ")"
      ]
    },
    {
      "cell_type": "code",
      "execution_count": null,
      "metadata": {
        "id": "NTJLXCPVNgyS",
        "outputId": "5aa62ebc-450e-4357-f893-7c98e41e843e"
      },
      "outputs": [
        {
          "data": {
            "text/plain": [
              "(5290, 55)"
            ]
          },
          "execution_count": 7,
          "metadata": {},
          "output_type": "execute_result"
        }
      ],
      "source": [
        "gold_recovery_test.shape"
      ]
    },
    {
      "cell_type": "markdown",
      "metadata": {
        "id": "TVYRBWSmNgyS"
      },
      "source": [
        "<b>Вывод</b>\n",
        "- в тестовую выборку добавлены целевые признаки"
      ]
    },
    {
      "cell_type": "markdown",
      "metadata": {
        "id": "cDNjx3INNgyT"
      },
      "source": [
        "<b>Удаление промежуточных данных из обучающей выборки</b>"
      ]
    },
    {
      "cell_type": "markdown",
      "metadata": {
        "id": "spZPrI6PNgyT"
      },
      "source": [
        "Оставим в обучающей выборке только те признаки, которые имеются в тестовой"
      ]
    },
    {
      "cell_type": "code",
      "execution_count": null,
      "metadata": {
        "id": "MFGH7a1UNgyT",
        "outputId": "04c88197-6448-4709-f041-b4f866ec4e02"
      },
      "outputs": [
        {
          "data": {
            "text/plain": [
              "(14149, 55)"
            ]
          },
          "execution_count": 8,
          "metadata": {},
          "output_type": "execute_result"
        }
      ],
      "source": [
        "gold_recovery_train = (\n",
        "    gold_recovery_train.drop(list(set(gold_recovery_train.columns) - set(gold_recovery_test.columns)), axis=1)\n",
        ")\n",
        "gold_recovery_train.shape"
      ]
    },
    {
      "cell_type": "markdown",
      "metadata": {
        "id": "AhFqBNdfNgyU"
      },
      "source": [
        "<b>Проверка датафреймов на наличие явных дубликатов"
      ]
    },
    {
      "cell_type": "code",
      "execution_count": null,
      "metadata": {
        "id": "esoCuHoaNgyU",
        "outputId": "48b3d85e-fdc8-48d4-89f5-fd80aad826cd"
      },
      "outputs": [
        {
          "data": {
            "text/plain": [
              "0"
            ]
          },
          "metadata": {},
          "output_type": "display_data"
        },
        {
          "data": {
            "text/plain": [
              "0"
            ]
          },
          "execution_count": 9,
          "metadata": {},
          "output_type": "execute_result"
        }
      ],
      "source": [
        "display(gold_recovery_train.duplicated().sum())\n",
        "gold_recovery_test.duplicated().sum()"
      ]
    },
    {
      "cell_type": "markdown",
      "metadata": {
        "id": "oWzlPggONgyV"
      },
      "source": [
        "<b>Обработка пропущенных значений в выборках</b>"
      ]
    },
    {
      "cell_type": "markdown",
      "metadata": {
        "id": "jfcq4GFaNgyV"
      },
      "source": [
        "В описании сказано, что соседние по времени параметры часто похожи, соответственно, заполнить пропущенные значения можно, взяв близкие по дате и времени."
      ]
    },
    {
      "cell_type": "code",
      "execution_count": null,
      "metadata": {
        "scrolled": true,
        "id": "GglW3Lt5NgyV",
        "outputId": "cf080072-d2aa-4176-81d1-ec7e39c8986d"
      },
      "outputs": [
        {
          "name": "stdout",
          "output_type": "stream",
          "text": [
            "<class 'pandas.core.frame.DataFrame'>\n",
            "Int64Index: 14149 entries, 0 to 14148\n",
            "Data columns (total 54 columns):\n",
            " #   Column                                      Non-Null Count  Dtype  \n",
            "---  ------                                      --------------  -----  \n",
            " 0   final.output.recovery                       14149 non-null  float64\n",
            " 1   primary_cleaner.input.sulfate               14149 non-null  float64\n",
            " 2   primary_cleaner.input.depressant            14149 non-null  float64\n",
            " 3   primary_cleaner.input.feed_size             14149 non-null  float64\n",
            " 4   primary_cleaner.input.xanthate              14149 non-null  float64\n",
            " 5   primary_cleaner.state.floatbank8_a_air      14149 non-null  float64\n",
            " 6   primary_cleaner.state.floatbank8_a_level    14149 non-null  float64\n",
            " 7   primary_cleaner.state.floatbank8_b_air      14149 non-null  float64\n",
            " 8   primary_cleaner.state.floatbank8_b_level    14149 non-null  float64\n",
            " 9   primary_cleaner.state.floatbank8_c_air      14149 non-null  float64\n",
            " 10  primary_cleaner.state.floatbank8_c_level    14149 non-null  float64\n",
            " 11  primary_cleaner.state.floatbank8_d_air      14149 non-null  float64\n",
            " 12  primary_cleaner.state.floatbank8_d_level    14149 non-null  float64\n",
            " 13  rougher.input.feed_ag                       14149 non-null  float64\n",
            " 14  rougher.input.feed_pb                       14149 non-null  float64\n",
            " 15  rougher.input.feed_rate                     14149 non-null  float64\n",
            " 16  rougher.input.feed_size                     14149 non-null  float64\n",
            " 17  rougher.input.feed_sol                      14149 non-null  float64\n",
            " 18  rougher.input.feed_au                       14149 non-null  float64\n",
            " 19  rougher.input.floatbank10_sulfate           14149 non-null  float64\n",
            " 20  rougher.input.floatbank10_xanthate          14149 non-null  float64\n",
            " 21  rougher.input.floatbank11_sulfate           14149 non-null  float64\n",
            " 22  rougher.input.floatbank11_xanthate          14149 non-null  float64\n",
            " 23  rougher.output.recovery                     14149 non-null  float64\n",
            " 24  rougher.state.floatbank10_a_air             14149 non-null  float64\n",
            " 25  rougher.state.floatbank10_a_level           14149 non-null  float64\n",
            " 26  rougher.state.floatbank10_b_air             14149 non-null  float64\n",
            " 27  rougher.state.floatbank10_b_level           14149 non-null  float64\n",
            " 28  rougher.state.floatbank10_c_air             14149 non-null  float64\n",
            " 29  rougher.state.floatbank10_c_level           14149 non-null  float64\n",
            " 30  rougher.state.floatbank10_d_air             14149 non-null  float64\n",
            " 31  rougher.state.floatbank10_d_level           14149 non-null  float64\n",
            " 32  rougher.state.floatbank10_e_air             14149 non-null  float64\n",
            " 33  rougher.state.floatbank10_e_level           14149 non-null  float64\n",
            " 34  rougher.state.floatbank10_f_air             14149 non-null  float64\n",
            " 35  rougher.state.floatbank10_f_level           14149 non-null  float64\n",
            " 36  secondary_cleaner.state.floatbank2_a_air    14149 non-null  float64\n",
            " 37  secondary_cleaner.state.floatbank2_a_level  14149 non-null  float64\n",
            " 38  secondary_cleaner.state.floatbank2_b_air    14149 non-null  float64\n",
            " 39  secondary_cleaner.state.floatbank2_b_level  14149 non-null  float64\n",
            " 40  secondary_cleaner.state.floatbank3_a_air    14149 non-null  float64\n",
            " 41  secondary_cleaner.state.floatbank3_a_level  14149 non-null  float64\n",
            " 42  secondary_cleaner.state.floatbank3_b_air    14149 non-null  float64\n",
            " 43  secondary_cleaner.state.floatbank3_b_level  14149 non-null  float64\n",
            " 44  secondary_cleaner.state.floatbank4_a_air    14149 non-null  float64\n",
            " 45  secondary_cleaner.state.floatbank4_a_level  14149 non-null  float64\n",
            " 46  secondary_cleaner.state.floatbank4_b_air    14149 non-null  float64\n",
            " 47  secondary_cleaner.state.floatbank4_b_level  14149 non-null  float64\n",
            " 48  secondary_cleaner.state.floatbank5_a_air    14149 non-null  float64\n",
            " 49  secondary_cleaner.state.floatbank5_a_level  14149 non-null  float64\n",
            " 50  secondary_cleaner.state.floatbank5_b_air    14149 non-null  float64\n",
            " 51  secondary_cleaner.state.floatbank5_b_level  14149 non-null  float64\n",
            " 52  secondary_cleaner.state.floatbank6_a_air    14149 non-null  float64\n",
            " 53  secondary_cleaner.state.floatbank6_a_level  14149 non-null  float64\n",
            "dtypes: float64(54)\n",
            "memory usage: 5.9 MB\n"
          ]
        },
        {
          "data": {
            "text/plain": [
              "None"
            ]
          },
          "metadata": {},
          "output_type": "display_data"
        },
        {
          "name": "stdout",
          "output_type": "stream",
          "text": [
            "<class 'pandas.core.frame.DataFrame'>\n",
            "Int64Index: 5290 entries, 0 to 5289\n",
            "Data columns (total 54 columns):\n",
            " #   Column                                      Non-Null Count  Dtype  \n",
            "---  ------                                      --------------  -----  \n",
            " 0   primary_cleaner.input.sulfate               5290 non-null   float64\n",
            " 1   primary_cleaner.input.depressant            5290 non-null   float64\n",
            " 2   primary_cleaner.input.feed_size             5290 non-null   float64\n",
            " 3   primary_cleaner.input.xanthate              5290 non-null   float64\n",
            " 4   primary_cleaner.state.floatbank8_a_air      5290 non-null   float64\n",
            " 5   primary_cleaner.state.floatbank8_a_level    5290 non-null   float64\n",
            " 6   primary_cleaner.state.floatbank8_b_air      5290 non-null   float64\n",
            " 7   primary_cleaner.state.floatbank8_b_level    5290 non-null   float64\n",
            " 8   primary_cleaner.state.floatbank8_c_air      5290 non-null   float64\n",
            " 9   primary_cleaner.state.floatbank8_c_level    5290 non-null   float64\n",
            " 10  primary_cleaner.state.floatbank8_d_air      5290 non-null   float64\n",
            " 11  primary_cleaner.state.floatbank8_d_level    5290 non-null   float64\n",
            " 12  rougher.input.feed_ag                       5290 non-null   float64\n",
            " 13  rougher.input.feed_pb                       5290 non-null   float64\n",
            " 14  rougher.input.feed_rate                     5290 non-null   float64\n",
            " 15  rougher.input.feed_size                     5290 non-null   float64\n",
            " 16  rougher.input.feed_sol                      5290 non-null   float64\n",
            " 17  rougher.input.feed_au                       5290 non-null   float64\n",
            " 18  rougher.input.floatbank10_sulfate           5290 non-null   float64\n",
            " 19  rougher.input.floatbank10_xanthate          5290 non-null   float64\n",
            " 20  rougher.input.floatbank11_sulfate           5290 non-null   float64\n",
            " 21  rougher.input.floatbank11_xanthate          5290 non-null   float64\n",
            " 22  rougher.state.floatbank10_a_air             5290 non-null   float64\n",
            " 23  rougher.state.floatbank10_a_level           5290 non-null   float64\n",
            " 24  rougher.state.floatbank10_b_air             5290 non-null   float64\n",
            " 25  rougher.state.floatbank10_b_level           5290 non-null   float64\n",
            " 26  rougher.state.floatbank10_c_air             5290 non-null   float64\n",
            " 27  rougher.state.floatbank10_c_level           5290 non-null   float64\n",
            " 28  rougher.state.floatbank10_d_air             5290 non-null   float64\n",
            " 29  rougher.state.floatbank10_d_level           5290 non-null   float64\n",
            " 30  rougher.state.floatbank10_e_air             5290 non-null   float64\n",
            " 31  rougher.state.floatbank10_e_level           5290 non-null   float64\n",
            " 32  rougher.state.floatbank10_f_air             5290 non-null   float64\n",
            " 33  rougher.state.floatbank10_f_level           5290 non-null   float64\n",
            " 34  secondary_cleaner.state.floatbank2_a_air    5290 non-null   float64\n",
            " 35  secondary_cleaner.state.floatbank2_a_level  5290 non-null   float64\n",
            " 36  secondary_cleaner.state.floatbank2_b_air    5290 non-null   float64\n",
            " 37  secondary_cleaner.state.floatbank2_b_level  5290 non-null   float64\n",
            " 38  secondary_cleaner.state.floatbank3_a_air    5290 non-null   float64\n",
            " 39  secondary_cleaner.state.floatbank3_a_level  5290 non-null   float64\n",
            " 40  secondary_cleaner.state.floatbank3_b_air    5290 non-null   float64\n",
            " 41  secondary_cleaner.state.floatbank3_b_level  5290 non-null   float64\n",
            " 42  secondary_cleaner.state.floatbank4_a_air    5290 non-null   float64\n",
            " 43  secondary_cleaner.state.floatbank4_a_level  5290 non-null   float64\n",
            " 44  secondary_cleaner.state.floatbank4_b_air    5290 non-null   float64\n",
            " 45  secondary_cleaner.state.floatbank4_b_level  5290 non-null   float64\n",
            " 46  secondary_cleaner.state.floatbank5_a_air    5290 non-null   float64\n",
            " 47  secondary_cleaner.state.floatbank5_a_level  5290 non-null   float64\n",
            " 48  secondary_cleaner.state.floatbank5_b_air    5290 non-null   float64\n",
            " 49  secondary_cleaner.state.floatbank5_b_level  5290 non-null   float64\n",
            " 50  secondary_cleaner.state.floatbank6_a_air    5290 non-null   float64\n",
            " 51  secondary_cleaner.state.floatbank6_a_level  5290 non-null   float64\n",
            " 52  final.output.recovery                       5290 non-null   float64\n",
            " 53  rougher.output.recovery                     5290 non-null   float64\n",
            "dtypes: float64(54)\n",
            "memory usage: 2.2 MB\n"
          ]
        }
      ],
      "source": [
        "gold_recovery_train = pd.concat([gold_recovery_train.ffill(), gold_recovery_train.bfill()]).groupby(level=0).mean()\n",
        "gold_recovery_test = pd.concat([gold_recovery_test.ffill(), gold_recovery_test.bfill()]).groupby(level=0).mean()\n",
        "\n",
        "display(gold_recovery_train.info())\n",
        "gold_recovery_test.info()"
      ]
    },
    {
      "cell_type": "markdown",
      "metadata": {
        "id": "TID1-zS4NgyX"
      },
      "source": [
        "### Вывод"
      ]
    },
    {
      "cell_type": "markdown",
      "metadata": {
        "id": "5ai65UhqNgyX"
      },
      "source": [
        "- во всех датафреймах значения записаны в формате float, кроме данных в столбце date\n",
        "- расчётная эффективность обогащения практически равна фактической, на что указывает значение mae незначительно отклоняющеесе от нуля\n",
        "- из выборок удалены промежуточные признаки\n",
        "- в тестовую выборку добавлены значения целевых признаков\n",
        "- явных дубликатов в выборках не обнаружено\n",
        "- пропущенные значения в выборках обработаны"
      ]
    },
    {
      "cell_type": "markdown",
      "metadata": {
        "id": "9YSKHPaVNgyX"
      },
      "source": [
        "## Анализ данных"
      ]
    },
    {
      "cell_type": "markdown",
      "metadata": {
        "id": "83dixEL3NgyY"
      },
      "source": [
        "### Динамика изменения концентрации металлов (Au, Ag, Pb) на различных этапах очистки"
      ]
    },
    {
      "cell_type": "code",
      "execution_count": null,
      "metadata": {
        "id": "POnAdtNUNgyY",
        "outputId": "ae79779d-aacd-43d5-e359-c4db918ade18"
      },
      "outputs": [
        {
          "data": {
            "text/plain": [
              "<function matplotlib.pyplot.show(close=None, block=None)>"
            ]
          },
          "execution_count": 11,
          "metadata": {},
          "output_type": "execute_result"
        },
        {
          "data": {
            "image/png": "[encoded data removed]",
            "text/plain": [
              "<Figure size 1080x576 with 1 Axes>"
            ]
          },
          "metadata": {
            "needs_background": "light"
          },
          "output_type": "display_data"
        }
      ],
      "source": [
        "plt.figure(figsize=(15, 8))\n",
        "x_values = (\n",
        "    'Сырьё', 'После флотации', \n",
        "    'После первичной очистки', 'После вторичной очистки'\n",
        ")\n",
        "y_values = (\n",
        "    gold_recovery_full['rougher.input.feed_au'].sum(), \n",
        "    gold_recovery_full['rougher.output.concentrate_au'].sum(), \n",
        "    gold_recovery_full['primary_cleaner.output.concentrate_au'].sum(), \n",
        "    gold_recovery_full['final.output.concentrate_au'].sum()\n",
        ")\n",
        "plt.bar(x_values, y_values)\n",
        "plt.title(\"Изменение концентрации золота на различных этапах очистки\")\n",
        "plt.xlabel(\"Этапы очистки\")\n",
        "plt.ylabel(\"Концентрация золота\")\n",
        "plt.grid(True)\n",
        "plt.show"
      ]
    },
    {
      "cell_type": "code",
      "execution_count": null,
      "metadata": {
        "scrolled": false,
        "id": "18mu4F-bNgyY",
        "outputId": "90721174-526a-42e6-e4b5-d83fe046ed50"
      },
      "outputs": [
        {
          "data": {
            "text/plain": [
              "<function matplotlib.pyplot.show(close=None, block=None)>"
            ]
          },
          "execution_count": 12,
          "metadata": {},
          "output_type": "execute_result"
        },
        {
          "data": {
            "image/png": "[encoded data removed]",
            "text/plain": [
              "<Figure size 1080x576 with 1 Axes>"
            ]
          },
          "metadata": {
            "needs_background": "light"
          },
          "output_type": "display_data"
        }
      ],
      "source": [
        "plt.figure(figsize=(15, 8))\n",
        "x_values = (\n",
        "    'Сырьё', 'После флотации', \n",
        "    'После первичной очистки', 'После вторичной очистки'\n",
        ")\n",
        "y_values = (\n",
        "    gold_recovery_full['rougher.input.feed_ag'].sum(), \n",
        "    gold_recovery_full['rougher.output.concentrate_ag'].sum(), \n",
        "    gold_recovery_full['primary_cleaner.output.concentrate_ag'].sum(), \n",
        "    gold_recovery_full['final.output.concentrate_ag'].sum()\n",
        ")\n",
        "plt.bar(x_values, y_values)\n",
        "plt.title(\"Изменение концентрации серебра на различных этапах очистки\")\n",
        "plt.xlabel(\"Этапы очистки\")\n",
        "plt.ylabel(\"Концентрация серебра\")\n",
        "plt.grid(True)\n",
        "plt.show"
      ]
    },
    {
      "cell_type": "code",
      "execution_count": null,
      "metadata": {
        "id": "1YycemCsNgyZ",
        "outputId": "58cc44e4-37fa-4052-ac3d-dc9c90ddefbb"
      },
      "outputs": [
        {
          "data": {
            "text/plain": [
              "<function matplotlib.pyplot.show(close=None, block=None)>"
            ]
          },
          "execution_count": 13,
          "metadata": {},
          "output_type": "execute_result"
        },
        {
          "data": {
            "image/png": "[encoded data removed]",
            "text/plain": [
              "<Figure size 1080x576 with 1 Axes>"
            ]
          },
          "metadata": {
            "needs_background": "light"
          },
          "output_type": "display_data"
        }
      ],
      "source": [
        "plt.figure(figsize=(15, 8))\n",
        "x_values = (\n",
        "    'Сырьё', 'После флотации', \n",
        "    'После первичной очистки', 'После вторичной очистки'\n",
        ")\n",
        "y_values = (\n",
        "    gold_recovery_full['rougher.input.feed_pb'].sum(), \n",
        "    gold_recovery_full['rougher.output.concentrate_pb'].sum(), \n",
        "    gold_recovery_full['primary_cleaner.output.concentrate_pb'].sum(), \n",
        "    gold_recovery_full['final.output.concentrate_pb'].sum()\n",
        ")\n",
        "plt.bar(x_values, y_values)\n",
        "plt.title(\"Изменение концентрации свинца на различных этапах очистки\")\n",
        "plt.xlabel(\"Этапы очистки\")\n",
        "plt.ylabel(\"Концентрация свинца\")\n",
        "plt.grid(True)\n",
        "plt.show"
      ]
    },
    {
      "cell_type": "markdown",
      "metadata": {
        "id": "scT9XkhfNgya"
      },
      "source": [
        "<b>Вывод</b>\n",
        "- после каждого этапа очистки концентрация золота значительно возрастает\n",
        "- концентрация серебра повысилась только после флотации, на последующих этапах очистки прослеживается тенденция к снижению. Возможно, больше металла ушло в \"хвосты\"\n",
        "- концентрация свинца значительно повысилась после флотации, при последующей очистке повышение не такое явное"
      ]
    },
    {
      "cell_type": "markdown",
      "metadata": {
        "id": "rakIRc6oNgya"
      },
      "source": [
        "### Распределение размеров гранул сырья на обучающей и тестовой выборках"
      ]
    },
    {
      "cell_type": "code",
      "execution_count": null,
      "metadata": {
        "id": "jLwRjyN4Ngya",
        "outputId": "c7628aa0-539a-4c9c-c48e-edb70a56f2db"
      },
      "outputs": [
        {
          "data": {
            "text/plain": [
              "<function matplotlib.pyplot.show(close=None, block=None)>"
            ]
          },
          "execution_count": 14,
          "metadata": {},
          "output_type": "execute_result"
        },
        {
          "data": {
            "image/png": "[encoded data removed]",
            "text/plain": [
              "<Figure size 1080x576 with 1 Axes>"
            ]
          },
          "metadata": {
            "needs_background": "light"
          },
          "output_type": "display_data"
        }
      ],
      "source": [
        "plt.figure(figsize=(15, 8))\n",
        "\n",
        "gold_recovery_train['rougher.input.feed_size'].plot.kde(label='Обучающая выборка')\n",
        "gold_recovery_test['rougher.input.feed_size'].plot.kde(label='Тестовая выборка')\n",
        "\n",
        "plt.xlim(20, 120)\n",
        "plt.title(\"Распределение размеров гранул в выборках\")\n",
        "plt.xlabel(\"Количество гранул\")\n",
        "plt.ylabel(\"Размер гранул\")\n",
        "plt.grid(True)\n",
        "plt.legend()\n",
        "plt.show"
      ]
    },
    {
      "cell_type": "markdown",
      "metadata": {
        "id": "qkKT4vn9Ngyb"
      },
      "source": [
        "<b>Вывод</b>\n",
        "- распределения размеров гранул сырья в выборках схожи, никаких корректировок вносить не требуется"
      ]
    },
    {
      "cell_type": "markdown",
      "metadata": {
        "id": "Mn2eEXXENgyc"
      },
      "source": [
        "### Исследование суммарной концентрации всех веществ на разных стадиях"
      ]
    },
    {
      "cell_type": "code",
      "execution_count": null,
      "metadata": {
        "scrolled": false,
        "id": "8JqEIxpZNgyc",
        "outputId": "a679269a-b87a-4c13-c4e1-8e2cbc6ff61c"
      },
      "outputs": [
        {
          "data": {
            "text/plain": [
              "<function matplotlib.pyplot.show(close=None, block=None)>"
            ]
          },
          "execution_count": 15,
          "metadata": {},
          "output_type": "execute_result"
        },
        {
          "data": {
            "image/png": "[encoded data removed]",
            "text/plain": [
              "<Figure size 1080x576 with 1 Axes>"
            ]
          },
          "metadata": {
            "needs_background": "light"
          },
          "output_type": "display_data"
        }
      ],
      "source": [
        "plt.figure(figsize=(15, 8))\n",
        "x_values = (\n",
        "    'Сырьё', 'После флотации', \n",
        "    'После первичной очистки', 'После вторичной очистки'\n",
        ")\n",
        "y_values = (\n",
        "    (\n",
        "        gold_recovery_full['rougher.input.feed_au'] + \n",
        "        gold_recovery_full['rougher.input.feed_ag'] + \n",
        "        gold_recovery_full['rougher.input.feed_pb']\n",
        "    ).sum(), \n",
        "    (\n",
        "        gold_recovery_full['rougher.output.concentrate_au'] +\n",
        "        gold_recovery_full['rougher.output.concentrate_ag'] +\n",
        "        gold_recovery_full['rougher.output.concentrate_pb']\n",
        "    ).sum(), \n",
        "    (\n",
        "        gold_recovery_full['primary_cleaner.output.concentrate_au'] +\n",
        "        gold_recovery_full['primary_cleaner.output.concentrate_ag'] +\n",
        "        gold_recovery_full['primary_cleaner.output.concentrate_pb']\n",
        "    ).sum(), \n",
        "    (\n",
        "        gold_recovery_full['final.output.concentrate_au'] +\n",
        "        gold_recovery_full['final.output.concentrate_ag'] +\n",
        "        gold_recovery_full['final.output.concentrate_pb']\n",
        "    ).sum()\n",
        ")\n",
        "plt.bar(x_values, y_values)\n",
        "plt.title(\"Изменение суммарной концентрации металлов на различных этапах очистки\")\n",
        "plt.xlabel(\"Этапы очистки\")\n",
        "plt.ylabel(\"Суммарная концентрация металлов\")\n",
        "plt.grid(True)\n",
        "plt.show"
      ]
    },
    {
      "cell_type": "markdown",
      "metadata": {
        "id": "b8fCjgumNgyc"
      },
      "source": [
        "<b>Вывод</b>\n",
        "- суммарная концентрация металлов стабильно повышается после прохождения кажого этапа очистки"
      ]
    },
    {
      "cell_type": "markdown",
      "metadata": {
        "id": "eS6lzaVkNgyd"
      },
      "source": [
        "Посмотрим распределения концентраций."
      ]
    },
    {
      "cell_type": "code",
      "execution_count": null,
      "metadata": {
        "id": "mcu6dhA1Ngyd",
        "outputId": "a4d4c189-76e2-4369-fb6f-ff506efb75c1"
      },
      "outputs": [
        {
          "data": {
            "text/plain": [
              "<function matplotlib.pyplot.show(close=None, block=None)>"
            ]
          },
          "execution_count": 16,
          "metadata": {},
          "output_type": "execute_result"
        },
        {
          "data": {
            "image/png": "[encoded data removed]",
            "text/plain": [
              "<Figure size 1080x576 with 1 Axes>"
            ]
          },
          "metadata": {
            "needs_background": "light"
          },
          "output_type": "display_data"
        }
      ],
      "source": [
        "plt.figure(figsize=(15, 8))\n",
        "\n",
        "rougher_input_data = (\n",
        "        gold_recovery_full['rougher.input.feed_au'] + \n",
        "        gold_recovery_full['rougher.input.feed_ag'] + \n",
        "        gold_recovery_full['rougher.input.feed_pb']\n",
        "    ).plot.kde(label='Распределение сырья')\n",
        "\n",
        "rougher_output_data = (\n",
        "        gold_recovery_full['rougher.output.concentrate_au'] +\n",
        "        gold_recovery_full['rougher.output.concentrate_ag'] +\n",
        "        gold_recovery_full['rougher.output.concentrate_pb']\n",
        "    ).plot.kde(label='Распределение после флотации')\n",
        "\n",
        "primary_cleaner_output_data = (\n",
        "        gold_recovery_full['primary_cleaner.output.concentrate_au'] +\n",
        "        gold_recovery_full['primary_cleaner.output.concentrate_ag'] +\n",
        "        gold_recovery_full['primary_cleaner.output.concentrate_pb']\n",
        "    ).plot.kde(label='Распределение после первой очистки')\n",
        "\n",
        "final_output_data = (\n",
        "        gold_recovery_full['final.output.concentrate_au'] +\n",
        "        gold_recovery_full['final.output.concentrate_ag'] +\n",
        "        gold_recovery_full['final.output.concentrate_pb']\n",
        "    ).plot.kde(label='Распределение после второй очистки')\n",
        "\n",
        "plt.xlim(0, 70)\n",
        "plt.title(\"Распределения значений суммарнных концетраций\")\n",
        "plt.xlabel(\"Количество\")\n",
        "plt.ylabel(\"Суммарная концентрация металлов\")\n",
        "plt.grid(True)\n",
        "plt.legend()\n",
        "plt.show"
      ]
    },
    {
      "cell_type": "markdown",
      "metadata": {
        "id": "PgE8NmpFNgye"
      },
      "source": [
        "### Вывод"
      ]
    },
    {
      "cell_type": "markdown",
      "metadata": {
        "id": "I1CS1-WqNgye"
      },
      "source": [
        "- после каждого этапа очистки концентрация золота значительно возрастает\n",
        "- концентрация серебра повысилась только после флотации, на последующих этапах очистки прослеживается тенденция к снижению. Возможно, больше металла ушло в \"хвосты\"\n",
        "- концентрация свинца значительно повысилась после флотации, при последующей очистке повышение не такое явное\n",
        "- распределения размеров гранул сырья в выборках схожи, никаких корректировок вносить не требуется\n",
        "- суммарная концентрация металлов стабильно повышается после прохождения каждого этапа очистки"
      ]
    },
    {
      "cell_type": "markdown",
      "metadata": {
        "id": "pMnWSgDKNgyf"
      },
      "source": [
        "## Модель"
      ]
    },
    {
      "cell_type": "markdown",
      "metadata": {
        "id": "v28Xb3ReNgyf"
      },
      "source": [
        "### Функция для вычисления sMAPE"
      ]
    },
    {
      "cell_type": "markdown",
      "metadata": {
        "id": "0rZHuN83Ngyf"
      },
      "source": [
        "- На вход функция принимает \n",
        "     - Значение целевого признака для объекта с порядковым номером *i* в выборке, на которой измеряется качество\n",
        "     - Значение предсказания для объекта с порядковым номером *i*, например, в тестовой выборке\n",
        "- Расчёт симметричного среднего абсолютного процентного отклонения: \n",
        "    *sMAPE = mean(( |target-predict| / (( |target| + |predict| ) / 2)) * 100)*"
      ]
    },
    {
      "cell_type": "code",
      "execution_count": null,
      "metadata": {
        "id": "XVyF-ZqCNgyg"
      },
      "outputs": [],
      "source": [
        "def sMAPE_calc(target, predict):\n",
        "    smape = np.mean((abs(target - predict) / ((abs(target) + abs(predict)) / 2)) * 100)\n",
        "    return smape"
      ]
    },
    {
      "cell_type": "markdown",
      "metadata": {
        "id": "REJvEACeNgyg"
      },
      "source": [
        "Функция для вычисления итогового *sMAPE*"
      ]
    },
    {
      "cell_type": "code",
      "execution_count": null,
      "metadata": {
        "id": "bax4Ld0tNgyg"
      },
      "outputs": [],
      "source": [
        "def sMAPE_final_calc(smape_rougher, smape_final):\n",
        "    return .25 * smape_rougher + .75 * smape_final"
      ]
    },
    {
      "cell_type": "markdown",
      "metadata": {
        "id": "C0Iu4lg9Ngyh"
      },
      "source": [
        "### Обучение моделей и выбор лучшей"
      ]
    },
    {
      "cell_type": "markdown",
      "metadata": {
        "id": "w1J7H52FNgyh"
      },
      "source": [
        "Выделение из обучающей выборки признаков"
      ]
    },
    {
      "cell_type": "code",
      "execution_count": null,
      "metadata": {
        "id": "XmXFbzbHNgyh"
      },
      "outputs": [],
      "source": [
        "features_train = gold_recovery_train.drop(['rougher.output.recovery', 'final.output.recovery'], axis=1)\n",
        "target_train_rougher = gold_recovery_train['rougher.output.recovery']\n",
        "target_train_final = gold_recovery_train['final.output.recovery']"
      ]
    },
    {
      "cell_type": "markdown",
      "metadata": {
        "id": "a9muu_qZNgyi"
      },
      "source": [
        "Ввод своей метрики для оптимизации подсчёта *sMAPE*"
      ]
    },
    {
      "cell_type": "code",
      "execution_count": null,
      "metadata": {
        "id": "rKK6gksLNgyi"
      },
      "outputs": [],
      "source": [
        "score = make_scorer(sMAPE_calc, greater_is_better=False)"
      ]
    },
    {
      "cell_type": "markdown",
      "metadata": {
        "id": "PvhwfMseNgyj"
      },
      "source": [
        "#### Модель дерева решений"
      ]
    },
    {
      "cell_type": "markdown",
      "metadata": {
        "id": "sjEuv1p4Ngyj"
      },
      "source": [
        "Применение *RandomizedSearchCV* для кросс-валидации"
      ]
    },
    {
      "cell_type": "code",
      "execution_count": null,
      "metadata": {
        "id": "KOq7dCv4Ngyj"
      },
      "outputs": [],
      "source": [
        "model_dtr = DecisionTreeRegressor()\n",
        "\n",
        "parameters_dtr = {'max_depth':[1, 6, 11, 16, 21], 'random_state': [12345]}\n",
        "model_rougher_dtr = RandomizedSearchCV(model_dtr, param_distributions=parameters_dtr, cv=4, scoring=score, verbose=3)\n",
        "model_final_dtr = RandomizedSearchCV(model_dtr, param_distributions=parameters_dtr,cv=4, scoring=score, verbose=3)"
      ]
    },
    {
      "cell_type": "markdown",
      "metadata": {
        "id": "-Z2RDDFENgyk"
      },
      "source": [
        "Обучение моделей"
      ]
    },
    {
      "cell_type": "code",
      "execution_count": null,
      "metadata": {
        "id": "Zo7Ot2AkNgyk",
        "outputId": "d49920ca-01b9-4c4f-e8dd-aadd9633c113"
      },
      "outputs": [
        {
          "name": "stderr",
          "output_type": "stream",
          "text": [
            "/opt/conda/lib/python3.9/site-packages/sklearn/model_selection/_search.py:285: UserWarning: The total space of parameters 5 is smaller than n_iter=10. Running 5 iterations. For exhaustive searches, use GridSearchCV.\n",
            "  warnings.warn(\n"
          ]
        },
        {
          "name": "stdout",
          "output_type": "stream",
          "text": [
            "Fitting 4 folds for each of 5 candidates, totalling 20 fits\n",
            "[CV 1/4] END ................max_depth=1, random_state=12345; total time=   0.1s\n",
            "[CV 2/4] END ................max_depth=1, random_state=12345; total time=   0.1s\n",
            "[CV 3/4] END ................max_depth=1, random_state=12345; total time=   0.1s\n",
            "[CV 4/4] END ................max_depth=1, random_state=12345; total time=   0.1s\n",
            "[CV 1/4] END ................max_depth=6, random_state=12345; total time=   0.3s\n",
            "[CV 2/4] END ................max_depth=6, random_state=12345; total time=   0.3s\n",
            "[CV 3/4] END ................max_depth=6, random_state=12345; total time=   0.3s\n",
            "[CV 4/4] END ................max_depth=6, random_state=12345; total time=   0.4s\n",
            "[CV 1/4] END ...............max_depth=11, random_state=12345; total time=   0.5s\n",
            "[CV 2/4] END ...............max_depth=11, random_state=12345; total time=   0.5s\n",
            "[CV 3/4] END ...............max_depth=11, random_state=12345; total time=   0.5s\n",
            "[CV 4/4] END ...............max_depth=11, random_state=12345; total time=   0.6s\n",
            "[CV 1/4] END ...............max_depth=16, random_state=12345; total time=   0.8s\n",
            "[CV 2/4] END ...............max_depth=16, random_state=12345; total time=   0.7s\n",
            "[CV 3/4] END ...............max_depth=16, random_state=12345; total time=   0.7s\n",
            "[CV 4/4] END ...............max_depth=16, random_state=12345; total time=   0.8s\n",
            "[CV 1/4] END ...............max_depth=21, random_state=12345; total time=   0.9s\n",
            "[CV 2/4] END ...............max_depth=21, random_state=12345; total time=   0.8s\n",
            "[CV 3/4] END ...............max_depth=21, random_state=12345; total time=   0.7s\n",
            "[CV 4/4] END ...............max_depth=21, random_state=12345; total time=   0.9s\n",
            "Fitting 4 folds for each of 5 candidates, totalling 20 fits\n",
            "[CV 1/4] END ................max_depth=1, random_state=12345; total time=   0.1s\n"
          ]
        },
        {
          "name": "stderr",
          "output_type": "stream",
          "text": [
            "/opt/conda/lib/python3.9/site-packages/sklearn/model_selection/_search.py:285: UserWarning: The total space of parameters 5 is smaller than n_iter=10. Running 5 iterations. For exhaustive searches, use GridSearchCV.\n",
            "  warnings.warn(\n"
          ]
        },
        {
          "name": "stdout",
          "output_type": "stream",
          "text": [
            "[CV 2/4] END ................max_depth=1, random_state=12345; total time=   0.1s\n",
            "[CV 3/4] END ................max_depth=1, random_state=12345; total time=   0.1s\n",
            "[CV 4/4] END ................max_depth=1, random_state=12345; total time=   0.1s\n",
            "[CV 1/4] END ................max_depth=6, random_state=12345; total time=   0.3s\n",
            "[CV 2/4] END ................max_depth=6, random_state=12345; total time=   0.3s\n",
            "[CV 3/4] END ................max_depth=6, random_state=12345; total time=   0.3s\n",
            "[CV 4/4] END ................max_depth=6, random_state=12345; total time=   0.3s\n",
            "[CV 1/4] END ...............max_depth=11, random_state=12345; total time=   0.5s\n",
            "[CV 2/4] END ...............max_depth=11, random_state=12345; total time=   0.5s\n",
            "[CV 3/4] END ...............max_depth=11, random_state=12345; total time=   0.5s\n",
            "[CV 4/4] END ...............max_depth=11, random_state=12345; total time=   0.5s\n",
            "[CV 1/4] END ...............max_depth=16, random_state=12345; total time=   0.7s\n",
            "[CV 2/4] END ...............max_depth=16, random_state=12345; total time=   0.7s\n",
            "[CV 3/4] END ...............max_depth=16, random_state=12345; total time=   0.7s\n",
            "[CV 4/4] END ...............max_depth=16, random_state=12345; total time=   0.7s\n",
            "[CV 1/4] END ...............max_depth=21, random_state=12345; total time=   0.9s\n",
            "[CV 2/4] END ...............max_depth=21, random_state=12345; total time=   0.8s\n",
            "[CV 3/4] END ...............max_depth=21, random_state=12345; total time=   0.7s\n",
            "[CV 4/4] END ...............max_depth=21, random_state=12345; total time=   0.8s\n"
          ]
        },
        {
          "data": {
            "text/plain": [
              "RandomizedSearchCV(cv=4, estimator=DecisionTreeRegressor(),\n",
              "                   param_distributions={'max_depth': [1, 6, 11, 16, 21],\n",
              "                                        'random_state': [12345]},\n",
              "                   scoring=make_scorer(sMAPE_calc, greater_is_better=False),\n",
              "                   verbose=3)"
            ]
          },
          "execution_count": 22,
          "metadata": {},
          "output_type": "execute_result"
        }
      ],
      "source": [
        "model_rougher_dtr.fit(features_train, target_train_rougher)\n",
        "model_final_dtr.fit(features_train, target_train_final)"
      ]
    },
    {
      "cell_type": "markdown",
      "metadata": {
        "id": "zBILdU6kNgyl"
      },
      "source": [
        "Вывод лучших значений *sMAPE*"
      ]
    },
    {
      "cell_type": "code",
      "execution_count": null,
      "metadata": {
        "scrolled": true,
        "id": "dZI91iCPNgyl",
        "outputId": "56784566-0e19-480c-99fb-6d355ec936dd"
      },
      "outputs": [
        {
          "data": {
            "text/plain": [
              "'лучшее значение sMAPE после флотации'"
            ]
          },
          "metadata": {},
          "output_type": "display_data"
        },
        {
          "data": {
            "text/plain": [
              "-12.772602767726264"
            ]
          },
          "metadata": {},
          "output_type": "display_data"
        },
        {
          "data": {
            "text/plain": [
              "'лучшее значение sMAPE на выходе'"
            ]
          },
          "metadata": {},
          "output_type": "display_data"
        },
        {
          "data": {
            "text/plain": [
              "-11.517843741608882"
            ]
          },
          "metadata": {},
          "output_type": "display_data"
        },
        {
          "data": {
            "text/plain": [
              "'итоговое значение sMAPE'"
            ]
          },
          "metadata": {},
          "output_type": "display_data"
        },
        {
          "data": {
            "text/plain": [
              "-11.831533498138226"
            ]
          },
          "metadata": {},
          "output_type": "display_data"
        },
        {
          "data": {
            "text/plain": [
              "'параметры лучшего дерева'"
            ]
          },
          "metadata": {},
          "output_type": "display_data"
        },
        {
          "data": {
            "text/plain": [
              "{'random_state': 12345, 'max_depth': 1}"
            ]
          },
          "metadata": {},
          "output_type": "display_data"
        }
      ],
      "source": [
        "best_score_rougher_dtr = model_rougher_dtr.best_score_\n",
        "best_score_final_dtr = model_final_dtr.best_score_\n",
        "sMAPE_final_dtr = sMAPE_final_calc(best_score_rougher_dtr, best_score_final_dtr)\n",
        "display(\"лучшее значение sMAPE после флотации\", best_score_rougher_dtr)\n",
        "display(\"лучшее значение sMAPE на выходе\", best_score_final_dtr)\n",
        "display(\"итоговое значение sMAPE\", sMAPE_final_dtr)\n",
        "display(\"параметры лучшего дерева\", model_rougher_dtr.best_params_)"
      ]
    },
    {
      "cell_type": "markdown",
      "metadata": {
        "id": "WdcIkFPBNgyl"
      },
      "source": [
        "#### Модель случайного леса"
      ]
    },
    {
      "cell_type": "markdown",
      "metadata": {
        "id": "CX2xqPXONgyl"
      },
      "source": [
        "Применение *RandomizedSearchCV* для кросс-валидации"
      ]
    },
    {
      "cell_type": "code",
      "execution_count": null,
      "metadata": {
        "id": "BMMI79bJNgym"
      },
      "outputs": [],
      "source": [
        "model_rfr = RandomForestRegressor()\n",
        "\n",
        "parameters_rfr = {'n_estimators': [1, 31, 61, 91, 121],'max_depth':[1, 5, 15], 'random_state': [12345]}\n",
        "model_rougher_rfr = RandomizedSearchCV(model_rfr, param_distributions=parameters_rfr, cv=2, scoring=score, verbose=3)\n",
        "model_final_rfr = RandomizedSearchCV(model_rfr, param_distributions=parameters_rfr, cv=2, scoring=score, verbose=3)"
      ]
    },
    {
      "cell_type": "markdown",
      "metadata": {
        "id": "1IdMiDHzNgyn"
      },
      "source": [
        "Обучение моделей"
      ]
    },
    {
      "cell_type": "code",
      "execution_count": null,
      "metadata": {
        "id": "MnVriWF5Ngyo",
        "outputId": "9b612bc2-b049-4b28-86bb-25379bd504bb"
      },
      "outputs": [
        {
          "name": "stdout",
          "output_type": "stream",
          "text": [
            "Fitting 2 folds for each of 10 candidates, totalling 20 fits\n",
            "[CV 1/2] END max_depth=15, n_estimators=1, random_state=12345; total time=   0.3s\n",
            "[CV 2/2] END max_depth=15, n_estimators=1, random_state=12345; total time=   0.3s\n",
            "[CV 1/2] END max_depth=5, n_estimators=1, random_state=12345; total time=   0.1s\n",
            "[CV 2/2] END max_depth=5, n_estimators=1, random_state=12345; total time=   0.1s\n",
            "[CV 1/2] END max_depth=15, n_estimators=121, random_state=12345; total time=  30.7s\n",
            "[CV 2/2] END max_depth=15, n_estimators=121, random_state=12345; total time=  29.7s\n",
            "[CV 1/2] END max_depth=15, n_estimators=91, random_state=12345; total time=  22.7s\n",
            "[CV 2/2] END max_depth=15, n_estimators=91, random_state=12345; total time=  22.0s\n",
            "[CV 1/2] END max_depth=5, n_estimators=91, random_state=12345; total time=   9.6s\n",
            "[CV 2/2] END max_depth=5, n_estimators=91, random_state=12345; total time=   9.2s\n",
            "[CV 1/2] END max_depth=1, n_estimators=61, random_state=12345; total time=   1.5s\n",
            "[CV 2/2] END max_depth=1, n_estimators=61, random_state=12345; total time=   1.5s\n",
            "[CV 1/2] END max_depth=1, n_estimators=31, random_state=12345; total time=   0.7s\n",
            "[CV 2/2] END max_depth=1, n_estimators=31, random_state=12345; total time=   0.7s\n",
            "[CV 1/2] END max_depth=15, n_estimators=31, random_state=12345; total time=   7.9s\n",
            "[CV 2/2] END max_depth=15, n_estimators=31, random_state=12345; total time=   7.7s\n",
            "[CV 1/2] END max_depth=1, n_estimators=1, random_state=12345; total time=   0.0s\n",
            "[CV 2/2] END max_depth=1, n_estimators=1, random_state=12345; total time=   0.0s\n",
            "[CV 1/2] END max_depth=1, n_estimators=121, random_state=12345; total time=   2.8s\n",
            "[CV 2/2] END max_depth=1, n_estimators=121, random_state=12345; total time=   2.8s\n",
            "Fitting 2 folds for each of 10 candidates, totalling 20 fits\n",
            "[CV 1/2] END max_depth=5, n_estimators=121, random_state=12345; total time=  12.2s\n",
            "[CV 2/2] END max_depth=5, n_estimators=121, random_state=12345; total time=  12.5s\n",
            "[CV 1/2] END max_depth=15, n_estimators=1, random_state=12345; total time=   0.3s\n",
            "[CV 2/2] END max_depth=15, n_estimators=1, random_state=12345; total time=   0.3s\n",
            "[CV 1/2] END max_depth=1, n_estimators=1, random_state=12345; total time=   0.0s\n",
            "[CV 2/2] END max_depth=1, n_estimators=1, random_state=12345; total time=   0.0s\n",
            "[CV 1/2] END max_depth=15, n_estimators=31, random_state=12345; total time=   7.7s\n",
            "[CV 2/2] END max_depth=15, n_estimators=31, random_state=12345; total time=   7.8s\n",
            "[CV 1/2] END max_depth=15, n_estimators=121, random_state=12345; total time=  29.8s\n",
            "[CV 2/2] END max_depth=15, n_estimators=121, random_state=12345; total time=  31.2s\n",
            "[CV 1/2] END max_depth=5, n_estimators=91, random_state=12345; total time=  10.0s\n",
            "[CV 2/2] END max_depth=5, n_estimators=91, random_state=12345; total time=   9.6s\n",
            "[CV 1/2] END max_depth=1, n_estimators=61, random_state=12345; total time=   1.5s\n",
            "[CV 2/2] END max_depth=1, n_estimators=61, random_state=12345; total time=   1.5s\n",
            "[CV 1/2] END max_depth=15, n_estimators=91, random_state=12345; total time=  22.5s\n",
            "[CV 2/2] END max_depth=15, n_estimators=91, random_state=12345; total time=  22.9s\n",
            "[CV 1/2] END max_depth=1, n_estimators=91, random_state=12345; total time=   2.1s\n",
            "[CV 2/2] END max_depth=1, n_estimators=91, random_state=12345; total time=   2.1s\n",
            "[CV 1/2] END max_depth=5, n_estimators=31, random_state=12345; total time=   3.1s\n",
            "[CV 2/2] END max_depth=5, n_estimators=31, random_state=12345; total time=   3.1s\n"
          ]
        },
        {
          "data": {
            "text/plain": [
              "RandomizedSearchCV(cv=2, estimator=RandomForestRegressor(),\n",
              "                   param_distributions={'max_depth': [1, 5, 15],\n",
              "                                        'n_estimators': [1, 31, 61, 91, 121],\n",
              "                                        'random_state': [12345]},\n",
              "                   scoring=make_scorer(sMAPE_calc, greater_is_better=False),\n",
              "                   verbose=3)"
            ]
          },
          "execution_count": 25,
          "metadata": {},
          "output_type": "execute_result"
        }
      ],
      "source": [
        "model_rougher_rfr.fit(features_train, target_train_rougher)\n",
        "model_final_rfr.fit(features_train, target_train_final)"
      ]
    },
    {
      "cell_type": "markdown",
      "metadata": {
        "id": "aXpZTPbyNgyo"
      },
      "source": [
        "Вывод лучших значений *sMAPE*"
      ]
    },
    {
      "cell_type": "code",
      "execution_count": null,
      "metadata": {
        "scrolled": true,
        "id": "mFilaPJqNgyo",
        "outputId": "dc1c401b-2f33-4e1a-ac07-38e9687392f4"
      },
      "outputs": [
        {
          "data": {
            "text/plain": [
              "'лучшее значение sMAPE после флотации'"
            ]
          },
          "metadata": {},
          "output_type": "display_data"
        },
        {
          "data": {
            "text/plain": [
              "-12.534727460427554"
            ]
          },
          "metadata": {},
          "output_type": "display_data"
        },
        {
          "data": {
            "text/plain": [
              "'лучшее значение sMAPE на выходе'"
            ]
          },
          "metadata": {},
          "output_type": "display_data"
        },
        {
          "data": {
            "text/plain": [
              "-11.018930995311287"
            ]
          },
          "metadata": {},
          "output_type": "display_data"
        },
        {
          "data": {
            "text/plain": [
              "'итоговое значение sMAPE'"
            ]
          },
          "metadata": {},
          "output_type": "display_data"
        },
        {
          "data": {
            "text/plain": [
              "-11.397880111590354"
            ]
          },
          "metadata": {},
          "output_type": "display_data"
        },
        {
          "data": {
            "text/plain": [
              "'параметры лучшего леса'"
            ]
          },
          "metadata": {},
          "output_type": "display_data"
        },
        {
          "data": {
            "text/plain": [
              "{'random_state': 12345, 'n_estimators': 121, 'max_depth': 5}"
            ]
          },
          "metadata": {},
          "output_type": "display_data"
        }
      ],
      "source": [
        "best_score_rougher_rfr = model_rougher_rfr.best_score_\n",
        "best_score_final_rfr = model_final_rfr.best_score_\n",
        "sMAPE_final_rfr = sMAPE_final_calc(best_score_rougher_rfr, best_score_final_rfr)\n",
        "display(\"лучшее значение sMAPE после флотации\", best_score_rougher_rfr)\n",
        "display(\"лучшее значение sMAPE на выходе\", best_score_final_rfr)\n",
        "display(\"итоговое значение sMAPE\", sMAPE_final_rfr)\n",
        "display(\"параметры лучшего леса\", model_final_rfr.best_params_)"
      ]
    },
    {
      "cell_type": "markdown",
      "metadata": {
        "id": "ulLR0BCsNgyq"
      },
      "source": [
        "#### Модель линейной регрессии"
      ]
    },
    {
      "cell_type": "markdown",
      "metadata": {
        "id": "L8ZRyaUENgyq"
      },
      "source": [
        "Применение *RandomizedSearchCV* для кросс-валидации"
      ]
    },
    {
      "cell_type": "code",
      "execution_count": null,
      "metadata": {
        "id": "lxo9A6qWNgyq"
      },
      "outputs": [],
      "source": [
        "model_lr = LinearRegression()\n",
        "\n",
        "parameters_lr = {}\n",
        "model_rougher_lr = RandomizedSearchCV(model_lr, param_distributions=parameters_lr, n_iter=10, cv=2, scoring=score, verbose=3)\n",
        "model_final_lr = RandomizedSearchCV(model_lr, param_distributions=parameters_lr, n_iter=10, cv=2, scoring=score, verbose=3)"
      ]
    },
    {
      "cell_type": "markdown",
      "metadata": {
        "id": "KcRD-nQTNgyq"
      },
      "source": [
        "Обучение моделей"
      ]
    },
    {
      "cell_type": "code",
      "execution_count": null,
      "metadata": {
        "id": "fgsag4zHNgyr",
        "outputId": "f594c1be-5bbe-472d-c78a-39c2809bd871"
      },
      "outputs": [
        {
          "name": "stderr",
          "output_type": "stream",
          "text": [
            "/opt/conda/lib/python3.9/site-packages/sklearn/model_selection/_search.py:285: UserWarning: The total space of parameters 1 is smaller than n_iter=10. Running 1 iterations. For exhaustive searches, use GridSearchCV.\n",
            "  warnings.warn(\n"
          ]
        },
        {
          "name": "stdout",
          "output_type": "stream",
          "text": [
            "Fitting 2 folds for each of 1 candidates, totalling 2 fits\n",
            "[CV 1/2] END ................................................ total time=   0.3s\n",
            "[CV 2/2] END ................................................ total time=   0.3s\n",
            "Fitting 2 folds for each of 1 candidates, totalling 2 fits\n"
          ]
        },
        {
          "name": "stderr",
          "output_type": "stream",
          "text": [
            "/opt/conda/lib/python3.9/site-packages/sklearn/model_selection/_search.py:285: UserWarning: The total space of parameters 1 is smaller than n_iter=10. Running 1 iterations. For exhaustive searches, use GridSearchCV.\n",
            "  warnings.warn(\n"
          ]
        },
        {
          "name": "stdout",
          "output_type": "stream",
          "text": [
            "[CV 1/2] END ................................................ total time=   0.2s\n",
            "[CV 2/2] END ................................................ total time=   0.2s\n"
          ]
        },
        {
          "data": {
            "text/plain": [
              "RandomizedSearchCV(cv=2, estimator=LinearRegression(), param_distributions={},\n",
              "                   scoring=make_scorer(sMAPE_calc, greater_is_better=False),\n",
              "                   verbose=3)"
            ]
          },
          "execution_count": 28,
          "metadata": {},
          "output_type": "execute_result"
        }
      ],
      "source": [
        "model_rougher_lr.fit(features_train, target_train_rougher)\n",
        "model_final_lr.fit(features_train, target_train_final)"
      ]
    },
    {
      "cell_type": "markdown",
      "metadata": {
        "id": "SBoT-chSNgyr"
      },
      "source": [
        "Вывод лучших значений *sMAPE*"
      ]
    },
    {
      "cell_type": "code",
      "execution_count": null,
      "metadata": {
        "scrolled": true,
        "id": "o5kBSGFxNgyr",
        "outputId": "c1118fb1-4114-41c9-a097-986eecfa4268"
      },
      "outputs": [
        {
          "data": {
            "text/plain": [
              "'лучшее значение sMAPE после флотации'"
            ]
          },
          "metadata": {},
          "output_type": "display_data"
        },
        {
          "data": {
            "text/plain": [
              "-17.66046447241368"
            ]
          },
          "metadata": {},
          "output_type": "display_data"
        },
        {
          "data": {
            "text/plain": [
              "'лучшее значение sMAPE на выходе'"
            ]
          },
          "metadata": {},
          "output_type": "display_data"
        },
        {
          "data": {
            "text/plain": [
              "-12.968398595917968"
            ]
          },
          "metadata": {},
          "output_type": "display_data"
        },
        {
          "data": {
            "text/plain": [
              "'итоговое значение sMAPE'"
            ]
          },
          "metadata": {},
          "output_type": "display_data"
        },
        {
          "data": {
            "text/plain": [
              "-14.141415065041896"
            ]
          },
          "metadata": {},
          "output_type": "display_data"
        }
      ],
      "source": [
        "best_score_rougher_lr = model_rougher_lr.best_score_\n",
        "best_score_final_lr = model_final_lr.best_score_\n",
        "sMAPE_final_lr = sMAPE_final_calc(best_score_rougher_lr, best_score_final_lr)\n",
        "display(\"лучшее значение sMAPE после флотации\", best_score_rougher_lr)\n",
        "display(\"лучшее значение sMAPE на выходе\", best_score_final_lr)\n",
        "display(\"итоговое значение sMAPE\", sMAPE_final_lr)"
      ]
    },
    {
      "cell_type": "markdown",
      "metadata": {
        "id": "272U52W0Ngys"
      },
      "source": [
        "#### Вывод"
      ]
    },
    {
      "cell_type": "markdown",
      "metadata": {
        "id": "WV7gmh2cNgys"
      },
      "source": [
        "После обучения и анализа итоговых *sMAPE* трёх моделей, делаю заключение, что наиболее подходящим прототипом модели машинного обучения представляется модель Случайного Леса со значением *sMAPE_final = 11.38*, количеством деревьев 61, глубиной 5."
      ]
    },
    {
      "cell_type": "markdown",
      "metadata": {
        "id": "IbtnnZ_ENgyu"
      },
      "source": [
        "### Проверка модели на тестовой выборке"
      ]
    },
    {
      "cell_type": "markdown",
      "metadata": {
        "id": "0ghtiRbiNgyu"
      },
      "source": [
        "Обучение модели на обучающей выборке"
      ]
    },
    {
      "cell_type": "code",
      "execution_count": null,
      "metadata": {
        "id": "dxQxf_dmNgyu",
        "outputId": "bebf729c-ae22-4681-91cb-3725e3fb9180"
      },
      "outputs": [
        {
          "data": {
            "text/plain": [
              "RandomForestRegressor(max_depth=5, n_estimators=61, random_state=12345)"
            ]
          },
          "execution_count": 30,
          "metadata": {},
          "output_type": "execute_result"
        }
      ],
      "source": [
        "model_selected_rougher_rfr = RandomForestRegressor(n_estimators=61, max_depth=5, random_state=12345)\n",
        "model_selected_final_rfr = RandomForestRegressor(n_estimators=61, max_depth=5, random_state=12345)\n",
        "\n",
        "model_selected_rougher_rfr.fit(features_train, target_train_rougher)\n",
        "model_selected_final_rfr.fit(features_train, target_train_final)"
      ]
    },
    {
      "cell_type": "markdown",
      "metadata": {
        "id": "TuvJQ5qNNgyv"
      },
      "source": [
        "Получение предсказаний на тестовой выборке"
      ]
    },
    {
      "cell_type": "code",
      "execution_count": null,
      "metadata": {
        "id": "CXPwNdJlNgyv"
      },
      "outputs": [],
      "source": [
        "features_test = gold_recovery_test.drop(['rougher.output.recovery', 'final.output.recovery'], axis=1)\n",
        "target_test_rougher = gold_recovery_test['rougher.output.recovery']\n",
        "target_test_final = gold_recovery_test['final.output.recovery']\n",
        "\n",
        "predict_rougher = model_selected_rougher_rfr.predict(features_test)\n",
        "predict_final = model_selected_final_rfr.predict(features_test)"
      ]
    },
    {
      "cell_type": "markdown",
      "metadata": {
        "id": "aWrZJhimNgyw"
      },
      "source": [
        "Расчёт *sMAPE*"
      ]
    },
    {
      "cell_type": "code",
      "execution_count": null,
      "metadata": {
        "id": "swH05C6GNgyw",
        "outputId": "604ad9bf-d679-4937-995b-fcc63646047a"
      },
      "outputs": [
        {
          "data": {
            "text/plain": [
              "9.880148974374682"
            ]
          },
          "execution_count": 32,
          "metadata": {},
          "output_type": "execute_result"
        }
      ],
      "source": [
        "sMAPE_test_rougher = sMAPE_calc(target_test_rougher, predict_rougher)\n",
        "sMAPE_test_final = sMAPE_calc(target_test_final, predict_final)\n",
        "sMAPE_final_calc_test = sMAPE_final_calc(sMAPE_test_rougher, sMAPE_test_final)\n",
        "sMAPE_final_calc_test"
      ]
    },
    {
      "cell_type": "markdown",
      "metadata": {
        "id": "7TVH3XKwNgyx"
      },
      "source": [
        "### Проверка адекватности модели"
      ]
    },
    {
      "cell_type": "markdown",
      "metadata": {
        "id": "l_E5G9n3Ngyx"
      },
      "source": [
        "Для проверки модели на адекватность воспользуемся *DummyRegressor*, предсказывающим средние значения"
      ]
    },
    {
      "cell_type": "code",
      "execution_count": null,
      "metadata": {
        "id": "Afcu7dpZNgyy",
        "outputId": "a5eccec5-53fd-49e8-fdb7-dd2336177567"
      },
      "outputs": [
        {
          "data": {
            "text/plain": [
              "17.823661345419204"
            ]
          },
          "execution_count": 33,
          "metadata": {},
          "output_type": "execute_result"
        }
      ],
      "source": [
        "dr_rougher = DummyRegressor(strategy='mean')\n",
        "dr_final = DummyRegressor(strategy='mean')\n",
        "\n",
        "dr_final.fit(features_train, target_train_final)\n",
        "dr_rougher.fit(features_train, target_train_rougher)\n",
        "\n",
        "dr_predict_rougher = dr_rougher.predict(features_test)\n",
        "dr_predict_final = dr_rougher.predict(features_test)\n",
        "\n",
        "sMAPE_dr_rougher = sMAPE_calc(target_test_rougher, dr_predict_rougher)\n",
        "sMAPE_dr_final = sMAPE_calc(target_test_final, dr_predict_final)\n",
        "sMAPE_final_calc_dr = sMAPE_final_calc(sMAPE_dr_rougher, sMAPE_dr_final)\n",
        "sMAPE_final_calc_dr"
      ]
    },
    {
      "cell_type": "markdown",
      "metadata": {
        "id": "QHrXfMz7Ngyy"
      },
      "source": [
        "<b>Вывод</b>:\n",
        "Значение, полученное у выбранной модели значительно отличается от константной"
      ]
    },
    {
      "cell_type": "markdown",
      "metadata": {
        "id": "roPVuqplNgyz"
      },
      "source": [
        "## Вывод"
      ]
    },
    {
      "cell_type": "markdown",
      "metadata": {
        "id": "HIdm3-VdNgyz"
      },
      "source": [
        "В исследовании участвовали три различные модели прогнозирования: Случайный Лес, Решающее Дерево и Линейная Регрессия. \n",
        "\n",
        "По результатам исследования можем сделать следующие выводы:\n",
        "- в ходе предобработки и анализа полученных данных были обработаны пропуски, удалены промежуточные значения\n",
        "- проверена формула вычисления эффективности обогащения на соответствие действительности\n",
        "- исследованы изменения концентрации элементов на каждом этапе очистки\n",
        "    - после каждого этапа очистки концентрация золота значительно возрастает\n",
        "    - концентрация серебра повысилась только после флотации, на последующих этапах очистки прослеживается тенденция к снижению. Возможно, больше металла ушло в \"хвосты\"\n",
        "    - концентрация свинца значительно повысилась после флотации, при последующей очистке повышение не такое явное\n",
        "    - суммарная концентрация металлов стабильно повышается после прохождения каждого этапа очистки\n",
        "- распределения размеров гранул сырья в выборках схожи, никаких корректировок вносить не требуется\n",
        "- обучены разные модели и оценено их качество кросс-валидацией и подсчётом метрики *sMAPE* (симметричное среднее абсолютное процентное отклонение)\n",
        "- лучшей моделью оказалась модель Случайного Леса с параметрами: количество деревьев 61, глубина 5, полученное итоговое *sMAPE* на тестовой выборке получилось равным 9.88"
      ]
    }
  ],
  "metadata": {
    "ExecuteTimeLog": [
      {
        "duration": 1516,
        "start_time": "2022-07-25T18:03:15.592Z"
      },
      {
        "duration": 3107,
        "start_time": "2022-07-25T18:09:05.145Z"
      },
      {
        "duration": 774,
        "start_time": "2022-07-25T18:09:32.493Z"
      },
      {
        "duration": 832,
        "start_time": "2022-07-25T18:10:23.875Z"
      },
      {
        "duration": 864,
        "start_time": "2022-07-25T18:11:48.252Z"
      },
      {
        "duration": 897,
        "start_time": "2022-07-25T18:12:09.646Z"
      },
      {
        "duration": 818,
        "start_time": "2022-07-25T18:12:38.253Z"
      },
      {
        "duration": 765,
        "start_time": "2022-07-25T18:14:19.838Z"
      },
      {
        "duration": 757,
        "start_time": "2022-07-25T18:15:29.050Z"
      },
      {
        "duration": 17,
        "start_time": "2022-07-25T18:18:48.960Z"
      },
      {
        "duration": 19,
        "start_time": "2022-07-25T18:29:16.869Z"
      },
      {
        "duration": 1045,
        "start_time": "2022-07-25T18:30:32.172Z"
      },
      {
        "duration": 1018,
        "start_time": "2022-07-25T18:31:57.590Z"
      },
      {
        "duration": 1081,
        "start_time": "2022-07-25T18:32:36.498Z"
      },
      {
        "duration": 1513,
        "start_time": "2022-07-26T17:14:50.402Z"
      },
      {
        "duration": 3021,
        "start_time": "2022-07-26T17:14:51.917Z"
      },
      {
        "duration": 1212,
        "start_time": "2022-07-26T17:15:03.013Z"
      },
      {
        "duration": 2,
        "start_time": "2022-07-26T17:18:20.460Z"
      },
      {
        "duration": 6,
        "start_time": "2022-07-26T17:18:41.739Z"
      },
      {
        "duration": 724,
        "start_time": "2022-07-26T17:19:13.364Z"
      },
      {
        "duration": 830,
        "start_time": "2022-07-26T17:24:09.087Z"
      },
      {
        "duration": 1066,
        "start_time": "2022-07-26T17:24:44.833Z"
      },
      {
        "duration": 7,
        "start_time": "2022-07-26T17:25:33.102Z"
      },
      {
        "duration": 830,
        "start_time": "2022-07-26T17:26:10.325Z"
      },
      {
        "duration": 756,
        "start_time": "2022-07-26T17:26:20.770Z"
      },
      {
        "duration": 9,
        "start_time": "2022-07-26T17:30:15.637Z"
      },
      {
        "duration": 12,
        "start_time": "2022-07-26T17:30:57.054Z"
      },
      {
        "duration": 8,
        "start_time": "2022-07-26T17:38:37.701Z"
      },
      {
        "duration": 107,
        "start_time": "2022-07-26T17:39:15.692Z"
      },
      {
        "duration": 7,
        "start_time": "2022-07-26T17:40:22.859Z"
      },
      {
        "duration": 11,
        "start_time": "2022-07-26T17:44:07.442Z"
      },
      {
        "duration": 55,
        "start_time": "2022-07-26T17:50:19.426Z"
      },
      {
        "duration": 75,
        "start_time": "2022-07-26T17:50:44.918Z"
      },
      {
        "duration": 4,
        "start_time": "2022-07-26T17:52:18.452Z"
      },
      {
        "duration": 16,
        "start_time": "2022-07-26T17:54:12.135Z"
      },
      {
        "duration": 13,
        "start_time": "2022-07-26T17:58:08.955Z"
      },
      {
        "duration": 10,
        "start_time": "2022-07-26T17:59:26.523Z"
      },
      {
        "duration": 18,
        "start_time": "2022-07-26T18:06:53.675Z"
      },
      {
        "duration": 18,
        "start_time": "2022-07-26T18:08:36.466Z"
      },
      {
        "duration": 1301,
        "start_time": "2022-07-26T18:08:50.643Z"
      },
      {
        "duration": 768,
        "start_time": "2022-07-26T18:08:51.947Z"
      },
      {
        "duration": 122,
        "start_time": "2022-07-26T18:08:57.694Z"
      },
      {
        "duration": 22,
        "start_time": "2022-07-26T18:19:19.556Z"
      },
      {
        "duration": 1334,
        "start_time": "2022-07-26T18:20:11.198Z"
      },
      {
        "duration": 777,
        "start_time": "2022-07-26T18:20:12.534Z"
      },
      {
        "duration": 115,
        "start_time": "2022-07-26T18:20:17.115Z"
      },
      {
        "duration": 61,
        "start_time": "2022-07-27T18:22:09.722Z"
      },
      {
        "duration": 1786,
        "start_time": "2022-07-27T18:22:27.054Z"
      },
      {
        "duration": 2107,
        "start_time": "2022-07-27T18:22:28.843Z"
      },
      {
        "duration": 15,
        "start_time": "2022-07-27T18:22:36.998Z"
      },
      {
        "duration": 13,
        "start_time": "2022-07-27T18:23:04.127Z"
      },
      {
        "duration": 6,
        "start_time": "2022-07-27T18:26:01.425Z"
      },
      {
        "duration": 129,
        "start_time": "2022-07-27T18:26:17.134Z"
      },
      {
        "duration": 5,
        "start_time": "2022-07-27T18:26:30.723Z"
      },
      {
        "duration": 10,
        "start_time": "2022-07-27T18:29:41.049Z"
      },
      {
        "duration": 5,
        "start_time": "2022-07-27T18:31:49.302Z"
      },
      {
        "duration": 12,
        "start_time": "2022-07-27T18:33:23.134Z"
      },
      {
        "duration": 5,
        "start_time": "2022-07-27T18:36:20.744Z"
      },
      {
        "duration": 6,
        "start_time": "2022-07-27T18:36:35.419Z"
      },
      {
        "duration": 5,
        "start_time": "2022-07-27T18:37:23.883Z"
      },
      {
        "duration": 6,
        "start_time": "2022-07-27T18:42:02.507Z"
      },
      {
        "duration": 1718,
        "start_time": "2022-07-29T15:32:44.037Z"
      },
      {
        "duration": 2124,
        "start_time": "2022-07-29T15:32:45.757Z"
      },
      {
        "duration": 37,
        "start_time": "2022-07-29T15:32:47.883Z"
      },
      {
        "duration": 7,
        "start_time": "2022-07-29T15:32:47.924Z"
      },
      {
        "duration": 5,
        "start_time": "2022-07-29T15:32:50.987Z"
      },
      {
        "duration": 117,
        "start_time": "2022-07-29T15:36:21.245Z"
      },
      {
        "duration": 13,
        "start_time": "2022-07-29T15:36:36.423Z"
      },
      {
        "duration": 5,
        "start_time": "2022-07-29T15:36:53.246Z"
      },
      {
        "duration": 4,
        "start_time": "2022-07-29T15:41:48.688Z"
      },
      {
        "duration": 6,
        "start_time": "2022-07-29T15:42:45.755Z"
      },
      {
        "duration": 4,
        "start_time": "2022-07-29T15:46:04.797Z"
      },
      {
        "duration": 10,
        "start_time": "2022-07-29T15:47:18.817Z"
      },
      {
        "duration": 5,
        "start_time": "2022-07-29T15:47:23.525Z"
      },
      {
        "duration": 7,
        "start_time": "2022-07-29T15:47:34.568Z"
      },
      {
        "duration": 13,
        "start_time": "2022-07-29T15:48:01.958Z"
      },
      {
        "duration": 10,
        "start_time": "2022-07-29T15:48:21.392Z"
      },
      {
        "duration": 6,
        "start_time": "2022-07-29T15:48:38.162Z"
      },
      {
        "duration": 10,
        "start_time": "2022-07-29T15:50:12.673Z"
      },
      {
        "duration": 11,
        "start_time": "2022-07-29T15:50:29.400Z"
      },
      {
        "duration": 12,
        "start_time": "2022-07-29T15:50:41.136Z"
      },
      {
        "duration": 12,
        "start_time": "2022-07-29T15:51:11.850Z"
      },
      {
        "duration": 6,
        "start_time": "2022-07-29T15:51:47.428Z"
      },
      {
        "duration": 5,
        "start_time": "2022-07-29T15:52:54.636Z"
      },
      {
        "duration": 10,
        "start_time": "2022-07-29T15:53:05.539Z"
      },
      {
        "duration": 89,
        "start_time": "2022-07-29T15:53:17.737Z"
      },
      {
        "duration": 4,
        "start_time": "2022-07-29T15:53:28.195Z"
      },
      {
        "duration": 9,
        "start_time": "2022-07-29T15:53:50.408Z"
      },
      {
        "duration": 1498,
        "start_time": "2022-07-29T16:01:53.648Z"
      },
      {
        "duration": 937,
        "start_time": "2022-07-29T16:01:55.148Z"
      },
      {
        "duration": 10,
        "start_time": "2022-07-29T16:01:56.087Z"
      },
      {
        "duration": 14,
        "start_time": "2022-07-29T16:01:56.099Z"
      },
      {
        "duration": 6,
        "start_time": "2022-07-29T16:01:56.115Z"
      },
      {
        "duration": 6,
        "start_time": "2022-07-29T16:10:14.667Z"
      },
      {
        "duration": 7,
        "start_time": "2022-07-29T16:13:36.233Z"
      },
      {
        "duration": 4,
        "start_time": "2022-07-29T16:14:17.384Z"
      },
      {
        "duration": 8,
        "start_time": "2022-07-29T16:15:20.173Z"
      },
      {
        "duration": 1442,
        "start_time": "2022-07-29T16:37:26.893Z"
      },
      {
        "duration": 840,
        "start_time": "2022-07-29T16:37:28.337Z"
      },
      {
        "duration": 32,
        "start_time": "2022-07-29T16:37:29.178Z"
      },
      {
        "duration": 11,
        "start_time": "2022-07-29T16:37:29.212Z"
      },
      {
        "duration": 6,
        "start_time": "2022-07-29T16:37:29.225Z"
      },
      {
        "duration": 116,
        "start_time": "2022-07-29T16:38:07.410Z"
      },
      {
        "duration": 14,
        "start_time": "2022-07-29T16:38:25.597Z"
      },
      {
        "duration": 391,
        "start_time": "2022-07-29T16:40:20.704Z"
      },
      {
        "duration": 28,
        "start_time": "2022-07-29T16:40:32.964Z"
      },
      {
        "duration": 24,
        "start_time": "2022-07-29T16:41:11.893Z"
      },
      {
        "duration": 31,
        "start_time": "2022-07-29T16:41:37.927Z"
      },
      {
        "duration": 4,
        "start_time": "2022-07-29T16:42:01.259Z"
      },
      {
        "duration": 1417,
        "start_time": "2022-07-30T17:51:49.452Z"
      },
      {
        "duration": 3288,
        "start_time": "2022-07-30T17:51:50.870Z"
      },
      {
        "duration": 13,
        "start_time": "2022-07-30T17:51:54.176Z"
      },
      {
        "duration": 23,
        "start_time": "2022-07-30T17:51:54.191Z"
      },
      {
        "duration": 14,
        "start_time": "2022-07-30T17:51:54.215Z"
      },
      {
        "duration": 21,
        "start_time": "2022-07-30T17:54:09.594Z"
      },
      {
        "duration": 15,
        "start_time": "2022-07-30T17:54:27.289Z"
      },
      {
        "duration": 32,
        "start_time": "2022-07-30T18:00:06.537Z"
      },
      {
        "duration": 12,
        "start_time": "2022-07-30T18:00:10.080Z"
      },
      {
        "duration": 1214,
        "start_time": "2022-07-30T18:01:32.570Z"
      },
      {
        "duration": 707,
        "start_time": "2022-07-30T18:01:33.786Z"
      },
      {
        "duration": 8,
        "start_time": "2022-07-30T18:01:34.495Z"
      },
      {
        "duration": 9,
        "start_time": "2022-07-30T18:01:34.504Z"
      },
      {
        "duration": 6,
        "start_time": "2022-07-30T18:01:34.514Z"
      },
      {
        "duration": 32,
        "start_time": "2022-07-30T18:01:39.161Z"
      },
      {
        "duration": 13,
        "start_time": "2022-07-30T18:01:41.957Z"
      },
      {
        "duration": 5,
        "start_time": "2022-07-30T18:02:32.970Z"
      },
      {
        "duration": 9,
        "start_time": "2022-07-30T18:08:10.472Z"
      },
      {
        "duration": 8,
        "start_time": "2022-07-30T18:13:53.826Z"
      },
      {
        "duration": 74,
        "start_time": "2022-07-30T18:18:11.064Z"
      },
      {
        "duration": 100,
        "start_time": "2022-07-30T18:18:29.138Z"
      },
      {
        "duration": 12,
        "start_time": "2022-07-30T18:18:57.372Z"
      },
      {
        "duration": 5,
        "start_time": "2022-07-30T18:22:57.044Z"
      },
      {
        "duration": 8,
        "start_time": "2022-07-30T18:23:44.413Z"
      },
      {
        "duration": 7,
        "start_time": "2022-07-30T18:23:52.919Z"
      },
      {
        "duration": 13,
        "start_time": "2022-07-30T18:29:14.664Z"
      },
      {
        "duration": 48,
        "start_time": "2022-07-30T18:40:01.228Z"
      },
      {
        "duration": 70,
        "start_time": "2022-07-30T18:41:07.558Z"
      },
      {
        "duration": 81,
        "start_time": "2022-07-30T18:47:54.320Z"
      },
      {
        "duration": 11,
        "start_time": "2022-07-30T19:09:38.860Z"
      },
      {
        "duration": 173,
        "start_time": "2022-07-30T19:10:08.575Z"
      },
      {
        "duration": 138,
        "start_time": "2022-07-30T19:11:39.878Z"
      },
      {
        "duration": 134,
        "start_time": "2022-07-30T19:12:55.322Z"
      },
      {
        "duration": 257,
        "start_time": "2022-07-30T19:17:18.371Z"
      },
      {
        "duration": 161,
        "start_time": "2022-07-30T19:18:28.579Z"
      },
      {
        "duration": 14,
        "start_time": "2022-07-30T19:20:24.876Z"
      },
      {
        "duration": 241,
        "start_time": "2022-07-30T19:24:08.395Z"
      },
      {
        "duration": 166,
        "start_time": "2022-07-30T19:30:51.763Z"
      },
      {
        "duration": 13,
        "start_time": "2022-07-30T19:31:19.103Z"
      },
      {
        "duration": 178,
        "start_time": "2022-07-30T19:31:29.419Z"
      },
      {
        "duration": 190,
        "start_time": "2022-07-30T19:32:19.656Z"
      },
      {
        "duration": 514,
        "start_time": "2022-07-30T19:33:21.081Z"
      },
      {
        "duration": 26101,
        "start_time": "2022-07-30T19:39:10.648Z"
      },
      {
        "duration": 11,
        "start_time": "2022-07-30T19:46:42.349Z"
      },
      {
        "duration": 28136,
        "start_time": "2022-07-30T19:47:38.852Z"
      },
      {
        "duration": 11,
        "start_time": "2022-07-30T19:50:19.077Z"
      },
      {
        "duration": 208,
        "start_time": "2022-07-30T19:58:00.965Z"
      },
      {
        "duration": 216,
        "start_time": "2022-07-30T19:59:07.999Z"
      },
      {
        "duration": 216,
        "start_time": "2022-07-30T19:59:44.825Z"
      },
      {
        "duration": 189,
        "start_time": "2022-07-30T20:00:54.606Z"
      },
      {
        "duration": 18,
        "start_time": "2022-07-30T20:07:14.819Z"
      },
      {
        "duration": 13,
        "start_time": "2022-07-30T20:07:22.500Z"
      },
      {
        "duration": 13,
        "start_time": "2022-07-30T20:07:27.556Z"
      },
      {
        "duration": 13,
        "start_time": "2022-07-30T20:07:49.947Z"
      },
      {
        "duration": 2941,
        "start_time": "2022-07-30T20:08:56.867Z"
      },
      {
        "duration": 11,
        "start_time": "2022-07-30T20:09:36.001Z"
      },
      {
        "duration": 9,
        "start_time": "2022-07-30T20:09:48.364Z"
      },
      {
        "duration": 5,
        "start_time": "2022-07-30T20:10:08.917Z"
      },
      {
        "duration": 45,
        "start_time": "2022-07-30T20:10:27.559Z"
      },
      {
        "duration": 6,
        "start_time": "2022-07-30T20:10:32.451Z"
      },
      {
        "duration": 183,
        "start_time": "2022-07-30T20:13:28.289Z"
      },
      {
        "duration": 154,
        "start_time": "2022-07-30T20:17:05.420Z"
      },
      {
        "duration": 1449,
        "start_time": "2022-07-31T08:25:43.102Z"
      },
      {
        "duration": 2942,
        "start_time": "2022-07-31T08:25:44.553Z"
      },
      {
        "duration": 8,
        "start_time": "2022-07-31T08:25:47.496Z"
      },
      {
        "duration": 10,
        "start_time": "2022-07-31T08:25:47.505Z"
      },
      {
        "duration": 5,
        "start_time": "2022-07-31T08:25:47.516Z"
      },
      {
        "duration": 47,
        "start_time": "2022-07-31T08:25:47.522Z"
      },
      {
        "duration": 4,
        "start_time": "2022-07-31T08:25:47.570Z"
      },
      {
        "duration": 13,
        "start_time": "2022-07-31T08:25:47.576Z"
      },
      {
        "duration": 107,
        "start_time": "2022-07-31T08:25:47.590Z"
      },
      {
        "duration": 73,
        "start_time": "2022-07-31T08:25:47.699Z"
      },
      {
        "duration": 213,
        "start_time": "2022-07-31T08:25:47.773Z"
      },
      {
        "duration": 6,
        "start_time": "2022-07-31T08:25:47.988Z"
      },
      {
        "duration": 179,
        "start_time": "2022-07-31T08:26:52.389Z"
      },
      {
        "duration": 279,
        "start_time": "2022-07-31T08:27:26.226Z"
      },
      {
        "duration": 191,
        "start_time": "2022-07-31T08:29:08.956Z"
      },
      {
        "duration": 197,
        "start_time": "2022-07-31T08:30:59.340Z"
      },
      {
        "duration": 248,
        "start_time": "2022-07-31T08:32:23.278Z"
      },
      {
        "duration": 12,
        "start_time": "2022-07-31T08:34:50.859Z"
      },
      {
        "duration": 210,
        "start_time": "2022-07-31T08:44:02.259Z"
      },
      {
        "duration": 170,
        "start_time": "2022-07-31T08:44:09.896Z"
      },
      {
        "duration": 147,
        "start_time": "2022-07-31T08:44:25.404Z"
      },
      {
        "duration": 176,
        "start_time": "2022-07-31T08:44:33.140Z"
      },
      {
        "duration": 197,
        "start_time": "2022-07-31T09:19:40.683Z"
      },
      {
        "duration": 185,
        "start_time": "2022-07-31T09:20:03.604Z"
      },
      {
        "duration": 120,
        "start_time": "2022-07-31T09:21:35.197Z"
      },
      {
        "duration": 172,
        "start_time": "2022-07-31T09:21:43.773Z"
      },
      {
        "duration": 12,
        "start_time": "2022-07-31T09:26:00.870Z"
      },
      {
        "duration": 11,
        "start_time": "2022-07-31T09:29:44.756Z"
      },
      {
        "duration": 171,
        "start_time": "2022-07-31T09:29:51.532Z"
      },
      {
        "duration": 570,
        "start_time": "2022-07-31T09:31:27.434Z"
      },
      {
        "duration": 596,
        "start_time": "2022-07-31T09:32:25.635Z"
      },
      {
        "duration": 538,
        "start_time": "2022-07-31T09:33:04.209Z"
      },
      {
        "duration": 706,
        "start_time": "2022-07-31T09:33:17.739Z"
      },
      {
        "duration": 543,
        "start_time": "2022-07-31T09:33:23.774Z"
      },
      {
        "duration": 535,
        "start_time": "2022-07-31T09:39:10.673Z"
      },
      {
        "duration": 506,
        "start_time": "2022-07-31T09:40:53.216Z"
      },
      {
        "duration": 543,
        "start_time": "2022-07-31T09:41:48.402Z"
      },
      {
        "duration": 521,
        "start_time": "2022-07-31T09:42:17.012Z"
      },
      {
        "duration": 504,
        "start_time": "2022-07-31T09:42:23.794Z"
      },
      {
        "duration": 532,
        "start_time": "2022-07-31T09:42:50.384Z"
      },
      {
        "duration": 564,
        "start_time": "2022-07-31T09:43:00.978Z"
      },
      {
        "duration": 537,
        "start_time": "2022-07-31T09:43:44.162Z"
      },
      {
        "duration": 1305,
        "start_time": "2022-07-31T09:45:54.693Z"
      },
      {
        "duration": 915,
        "start_time": "2022-07-31T09:45:56.000Z"
      },
      {
        "duration": 13,
        "start_time": "2022-07-31T09:45:56.917Z"
      },
      {
        "duration": 34,
        "start_time": "2022-07-31T09:45:56.932Z"
      },
      {
        "duration": 6,
        "start_time": "2022-07-31T09:45:56.968Z"
      },
      {
        "duration": 30,
        "start_time": "2022-07-31T09:45:56.976Z"
      },
      {
        "duration": 4,
        "start_time": "2022-07-31T09:45:57.008Z"
      },
      {
        "duration": 11,
        "start_time": "2022-07-31T09:45:57.014Z"
      },
      {
        "duration": 127,
        "start_time": "2022-07-31T09:45:57.027Z"
      },
      {
        "duration": 74,
        "start_time": "2022-07-31T09:45:57.163Z"
      },
      {
        "duration": 221,
        "start_time": "2022-07-31T09:45:57.239Z"
      },
      {
        "duration": 193,
        "start_time": "2022-07-31T09:45:57.463Z"
      },
      {
        "duration": 192,
        "start_time": "2022-07-31T09:45:57.657Z"
      },
      {
        "duration": 576,
        "start_time": "2022-07-31T09:45:57.851Z"
      },
      {
        "duration": 12,
        "start_time": "2022-07-31T09:45:58.429Z"
      },
      {
        "duration": 554,
        "start_time": "2022-07-31T09:46:16.395Z"
      },
      {
        "duration": 657,
        "start_time": "2022-07-31T09:46:43.617Z"
      },
      {
        "duration": 662,
        "start_time": "2022-07-31T09:47:02.279Z"
      },
      {
        "duration": 651,
        "start_time": "2022-07-31T09:48:31.799Z"
      },
      {
        "duration": 662,
        "start_time": "2022-07-31T09:49:47.047Z"
      },
      {
        "duration": 1246,
        "start_time": "2022-07-31T09:50:09.291Z"
      },
      {
        "duration": 769,
        "start_time": "2022-07-31T09:50:10.539Z"
      },
      {
        "duration": 9,
        "start_time": "2022-07-31T09:50:11.309Z"
      },
      {
        "duration": 13,
        "start_time": "2022-07-31T09:50:11.320Z"
      },
      {
        "duration": 26,
        "start_time": "2022-07-31T09:50:11.335Z"
      },
      {
        "duration": 36,
        "start_time": "2022-07-31T09:50:11.363Z"
      },
      {
        "duration": 4,
        "start_time": "2022-07-31T09:50:11.401Z"
      },
      {
        "duration": 10,
        "start_time": "2022-07-31T09:50:11.407Z"
      },
      {
        "duration": 124,
        "start_time": "2022-07-31T09:50:11.419Z"
      },
      {
        "duration": 79,
        "start_time": "2022-07-31T09:50:11.546Z"
      },
      {
        "duration": 190,
        "start_time": "2022-07-31T09:50:11.627Z"
      },
      {
        "duration": 181,
        "start_time": "2022-07-31T09:50:11.820Z"
      },
      {
        "duration": 174,
        "start_time": "2022-07-31T09:50:12.003Z"
      },
      {
        "duration": 728,
        "start_time": "2022-07-31T09:50:12.178Z"
      },
      {
        "duration": 9,
        "start_time": "2022-07-31T09:50:12.908Z"
      },
      {
        "duration": 672,
        "start_time": "2022-07-31T09:51:13.035Z"
      },
      {
        "duration": 1251,
        "start_time": "2022-07-31T09:51:24.094Z"
      },
      {
        "duration": 781,
        "start_time": "2022-07-31T09:51:25.347Z"
      },
      {
        "duration": 9,
        "start_time": "2022-07-31T09:51:26.129Z"
      },
      {
        "duration": 10,
        "start_time": "2022-07-31T09:51:26.160Z"
      },
      {
        "duration": 18,
        "start_time": "2022-07-31T09:51:26.172Z"
      },
      {
        "duration": 54,
        "start_time": "2022-07-31T09:51:26.193Z"
      },
      {
        "duration": 4,
        "start_time": "2022-07-31T09:51:26.250Z"
      },
      {
        "duration": 20,
        "start_time": "2022-07-31T09:51:26.256Z"
      },
      {
        "duration": 129,
        "start_time": "2022-07-31T09:51:26.277Z"
      },
      {
        "duration": 102,
        "start_time": "2022-07-31T09:51:26.409Z"
      },
      {
        "duration": 197,
        "start_time": "2022-07-31T09:51:26.513Z"
      },
      {
        "duration": 161,
        "start_time": "2022-07-31T09:51:26.712Z"
      },
      {
        "duration": 169,
        "start_time": "2022-07-31T09:51:26.874Z"
      },
      {
        "duration": 753,
        "start_time": "2022-07-31T09:51:27.044Z"
      },
      {
        "duration": 13,
        "start_time": "2022-07-31T09:51:27.800Z"
      },
      {
        "duration": 608,
        "start_time": "2022-07-31T09:51:55.001Z"
      },
      {
        "duration": 632,
        "start_time": "2022-07-31T09:53:27.558Z"
      },
      {
        "duration": 610,
        "start_time": "2022-07-31T09:53:47.074Z"
      },
      {
        "duration": 717,
        "start_time": "2022-07-31T09:54:16.240Z"
      },
      {
        "duration": 636,
        "start_time": "2022-07-31T10:06:00.382Z"
      },
      {
        "duration": 134,
        "start_time": "2022-07-31T10:19:18.055Z"
      },
      {
        "duration": 6,
        "start_time": "2022-07-31T10:20:55.632Z"
      },
      {
        "duration": 5,
        "start_time": "2022-07-31T10:21:13.943Z"
      },
      {
        "duration": 155,
        "start_time": "2022-07-31T10:25:26.764Z"
      },
      {
        "duration": 1361,
        "start_time": "2022-07-31T10:27:21.837Z"
      },
      {
        "duration": 806,
        "start_time": "2022-07-31T10:27:23.200Z"
      },
      {
        "duration": 8,
        "start_time": "2022-07-31T10:27:24.008Z"
      },
      {
        "duration": 14,
        "start_time": "2022-07-31T10:27:24.018Z"
      },
      {
        "duration": 6,
        "start_time": "2022-07-31T10:27:24.033Z"
      },
      {
        "duration": 31,
        "start_time": "2022-07-31T10:27:24.060Z"
      },
      {
        "duration": 5,
        "start_time": "2022-07-31T10:27:24.092Z"
      },
      {
        "duration": 12,
        "start_time": "2022-07-31T10:27:24.098Z"
      },
      {
        "duration": 116,
        "start_time": "2022-07-31T10:27:24.112Z"
      },
      {
        "duration": 84,
        "start_time": "2022-07-31T10:27:24.230Z"
      },
      {
        "duration": 192,
        "start_time": "2022-07-31T10:27:24.316Z"
      },
      {
        "duration": 153,
        "start_time": "2022-07-31T10:27:24.510Z"
      },
      {
        "duration": 180,
        "start_time": "2022-07-31T10:27:24.665Z"
      },
      {
        "duration": 686,
        "start_time": "2022-07-31T10:27:24.847Z"
      },
      {
        "duration": 165,
        "start_time": "2022-07-31T10:27:25.535Z"
      },
      {
        "duration": 5,
        "start_time": "2022-07-31T10:27:25.702Z"
      },
      {
        "duration": 61,
        "start_time": "2022-08-01T17:17:10.413Z"
      },
      {
        "duration": 1592,
        "start_time": "2022-08-01T17:54:11.704Z"
      },
      {
        "duration": 3492,
        "start_time": "2022-08-01T17:54:13.298Z"
      },
      {
        "duration": 9,
        "start_time": "2022-08-01T17:54:16.798Z"
      },
      {
        "duration": 12,
        "start_time": "2022-08-01T17:54:16.810Z"
      },
      {
        "duration": 6,
        "start_time": "2022-08-01T17:54:16.824Z"
      },
      {
        "duration": 28,
        "start_time": "2022-08-01T17:54:16.831Z"
      },
      {
        "duration": 4,
        "start_time": "2022-08-01T17:54:16.861Z"
      },
      {
        "duration": 38,
        "start_time": "2022-08-01T17:54:16.867Z"
      },
      {
        "duration": 131,
        "start_time": "2022-08-01T17:54:16.907Z"
      },
      {
        "duration": 66,
        "start_time": "2022-08-01T17:54:17.041Z"
      },
      {
        "duration": 193,
        "start_time": "2022-08-01T17:54:17.108Z"
      },
      {
        "duration": 165,
        "start_time": "2022-08-01T17:54:17.304Z"
      },
      {
        "duration": 178,
        "start_time": "2022-08-01T17:54:17.471Z"
      },
      {
        "duration": 702,
        "start_time": "2022-08-01T17:54:17.650Z"
      },
      {
        "duration": 178,
        "start_time": "2022-08-01T17:54:18.353Z"
      },
      {
        "duration": 3,
        "start_time": "2022-08-01T17:54:18.533Z"
      },
      {
        "duration": 7,
        "start_time": "2022-08-01T17:54:18.538Z"
      },
      {
        "duration": 1257,
        "start_time": "2022-08-01T18:00:31.714Z"
      },
      {
        "duration": 744,
        "start_time": "2022-08-01T18:00:32.973Z"
      },
      {
        "duration": 8,
        "start_time": "2022-08-01T18:00:33.718Z"
      },
      {
        "duration": 11,
        "start_time": "2022-08-01T18:00:33.728Z"
      },
      {
        "duration": 16,
        "start_time": "2022-08-01T18:00:33.740Z"
      },
      {
        "duration": 44,
        "start_time": "2022-08-01T18:00:33.758Z"
      },
      {
        "duration": 5,
        "start_time": "2022-08-01T18:00:33.804Z"
      },
      {
        "duration": 15,
        "start_time": "2022-08-01T18:00:33.810Z"
      },
      {
        "duration": 118,
        "start_time": "2022-08-01T18:00:33.827Z"
      },
      {
        "duration": 71,
        "start_time": "2022-08-01T18:00:33.947Z"
      },
      {
        "duration": 198,
        "start_time": "2022-08-01T18:00:34.020Z"
      },
      {
        "duration": 164,
        "start_time": "2022-08-01T18:00:34.220Z"
      },
      {
        "duration": 224,
        "start_time": "2022-08-01T18:00:34.386Z"
      },
      {
        "duration": 747,
        "start_time": "2022-08-01T18:00:34.612Z"
      },
      {
        "duration": 180,
        "start_time": "2022-08-01T18:00:35.360Z"
      },
      {
        "duration": 3,
        "start_time": "2022-08-01T18:00:35.542Z"
      },
      {
        "duration": 13,
        "start_time": "2022-08-01T18:00:35.546Z"
      },
      {
        "duration": 3,
        "start_time": "2022-08-01T18:02:33.040Z"
      },
      {
        "duration": 123,
        "start_time": "2022-08-01T18:15:02.189Z"
      },
      {
        "duration": 1375,
        "start_time": "2022-08-01T18:16:16.999Z"
      },
      {
        "duration": 857,
        "start_time": "2022-08-01T18:16:18.375Z"
      },
      {
        "duration": 11,
        "start_time": "2022-08-01T18:16:19.234Z"
      },
      {
        "duration": 11,
        "start_time": "2022-08-01T18:16:19.248Z"
      },
      {
        "duration": 10,
        "start_time": "2022-08-01T18:16:19.260Z"
      },
      {
        "duration": 57,
        "start_time": "2022-08-01T18:16:19.272Z"
      },
      {
        "duration": 4,
        "start_time": "2022-08-01T18:16:19.331Z"
      },
      {
        "duration": 11,
        "start_time": "2022-08-01T18:16:19.336Z"
      },
      {
        "duration": 119,
        "start_time": "2022-08-01T18:16:19.348Z"
      },
      {
        "duration": 72,
        "start_time": "2022-08-01T18:16:19.470Z"
      },
      {
        "duration": 195,
        "start_time": "2022-08-01T18:16:19.544Z"
      },
      {
        "duration": 173,
        "start_time": "2022-08-01T18:16:19.740Z"
      },
      {
        "duration": 196,
        "start_time": "2022-08-01T18:16:19.915Z"
      },
      {
        "duration": 658,
        "start_time": "2022-08-01T18:16:20.113Z"
      },
      {
        "duration": 250,
        "start_time": "2022-08-01T18:16:20.773Z"
      },
      {
        "duration": 3,
        "start_time": "2022-08-01T18:16:21.025Z"
      },
      {
        "duration": 18,
        "start_time": "2022-08-01T18:16:21.030Z"
      },
      {
        "duration": 7,
        "start_time": "2022-08-01T18:16:21.049Z"
      },
      {
        "duration": 125,
        "start_time": "2022-08-01T18:16:21.057Z"
      },
      {
        "duration": 1382,
        "start_time": "2022-08-01T18:17:44.295Z"
      },
      {
        "duration": 779,
        "start_time": "2022-08-01T18:17:45.679Z"
      },
      {
        "duration": 8,
        "start_time": "2022-08-01T18:17:46.460Z"
      },
      {
        "duration": 32,
        "start_time": "2022-08-01T18:17:46.470Z"
      },
      {
        "duration": 6,
        "start_time": "2022-08-01T18:17:46.503Z"
      },
      {
        "duration": 28,
        "start_time": "2022-08-01T18:17:46.510Z"
      },
      {
        "duration": 4,
        "start_time": "2022-08-01T18:17:46.539Z"
      },
      {
        "duration": 10,
        "start_time": "2022-08-01T18:17:46.546Z"
      },
      {
        "duration": 143,
        "start_time": "2022-08-01T18:17:46.558Z"
      },
      {
        "duration": 59,
        "start_time": "2022-08-01T18:17:46.706Z"
      },
      {
        "duration": 192,
        "start_time": "2022-08-01T18:17:46.767Z"
      },
      {
        "duration": 162,
        "start_time": "2022-08-01T18:17:46.961Z"
      },
      {
        "duration": 177,
        "start_time": "2022-08-01T18:17:47.125Z"
      },
      {
        "duration": 658,
        "start_time": "2022-08-01T18:17:47.304Z"
      },
      {
        "duration": 242,
        "start_time": "2022-08-01T18:17:47.964Z"
      },
      {
        "duration": 3,
        "start_time": "2022-08-01T18:17:48.208Z"
      },
      {
        "duration": 7,
        "start_time": "2022-08-01T18:17:48.212Z"
      },
      {
        "duration": 4,
        "start_time": "2022-08-01T18:17:48.221Z"
      },
      {
        "duration": 132,
        "start_time": "2022-08-01T18:17:48.226Z"
      },
      {
        "duration": 34,
        "start_time": "2022-08-01T18:18:14.496Z"
      },
      {
        "duration": 7,
        "start_time": "2022-08-01T18:21:48.730Z"
      },
      {
        "duration": 3,
        "start_time": "2022-08-01T18:21:51.192Z"
      },
      {
        "duration": 29,
        "start_time": "2022-08-01T18:21:55.217Z"
      },
      {
        "duration": 1344,
        "start_time": "2022-08-01T18:22:22.917Z"
      },
      {
        "duration": 838,
        "start_time": "2022-08-01T18:22:24.263Z"
      },
      {
        "duration": 9,
        "start_time": "2022-08-01T18:22:25.103Z"
      },
      {
        "duration": 8,
        "start_time": "2022-08-01T18:22:25.114Z"
      },
      {
        "duration": 6,
        "start_time": "2022-08-01T18:22:25.123Z"
      },
      {
        "duration": 28,
        "start_time": "2022-08-01T18:22:25.131Z"
      },
      {
        "duration": 4,
        "start_time": "2022-08-01T18:22:25.160Z"
      },
      {
        "duration": 38,
        "start_time": "2022-08-01T18:22:25.166Z"
      },
      {
        "duration": 126,
        "start_time": "2022-08-01T18:22:25.206Z"
      },
      {
        "duration": 71,
        "start_time": "2022-08-01T18:22:25.334Z"
      },
      {
        "duration": 197,
        "start_time": "2022-08-01T18:22:25.407Z"
      },
      {
        "duration": 160,
        "start_time": "2022-08-01T18:22:25.605Z"
      },
      {
        "duration": 177,
        "start_time": "2022-08-01T18:22:25.767Z"
      },
      {
        "duration": 630,
        "start_time": "2022-08-01T18:22:25.945Z"
      },
      {
        "duration": 243,
        "start_time": "2022-08-01T18:22:26.577Z"
      },
      {
        "duration": 3,
        "start_time": "2022-08-01T18:22:26.822Z"
      },
      {
        "duration": 10,
        "start_time": "2022-08-01T18:22:26.826Z"
      },
      {
        "duration": 4,
        "start_time": "2022-08-01T18:22:26.837Z"
      },
      {
        "duration": 145,
        "start_time": "2022-08-01T18:22:26.843Z"
      },
      {
        "duration": 11,
        "start_time": "2022-08-01T18:24:36.084Z"
      },
      {
        "duration": 10,
        "start_time": "2022-08-01T18:25:01.870Z"
      },
      {
        "duration": 4,
        "start_time": "2022-08-01T18:25:08.647Z"
      },
      {
        "duration": 5,
        "start_time": "2022-08-01T18:25:19.786Z"
      },
      {
        "duration": 5,
        "start_time": "2022-08-01T18:25:39.437Z"
      },
      {
        "duration": 6,
        "start_time": "2022-08-01T18:25:41.795Z"
      },
      {
        "duration": 14,
        "start_time": "2022-08-01T18:25:58.205Z"
      },
      {
        "duration": 5,
        "start_time": "2022-08-01T18:26:59.599Z"
      },
      {
        "duration": 4,
        "start_time": "2022-08-01T18:27:02.403Z"
      },
      {
        "duration": 5,
        "start_time": "2022-08-01T18:27:25.143Z"
      },
      {
        "duration": 5,
        "start_time": "2022-08-01T18:27:35.186Z"
      },
      {
        "duration": 5,
        "start_time": "2022-08-01T18:27:47.491Z"
      },
      {
        "duration": 24,
        "start_time": "2022-08-01T18:27:49.744Z"
      },
      {
        "duration": 3,
        "start_time": "2022-08-01T18:27:55.909Z"
      },
      {
        "duration": 7,
        "start_time": "2022-08-01T18:28:07.145Z"
      },
      {
        "duration": 9,
        "start_time": "2022-08-01T18:28:14.603Z"
      },
      {
        "duration": 7,
        "start_time": "2022-08-01T18:28:22.954Z"
      },
      {
        "duration": 6,
        "start_time": "2022-08-01T18:28:26.351Z"
      },
      {
        "duration": 4,
        "start_time": "2022-08-01T18:30:28.007Z"
      },
      {
        "duration": 1402,
        "start_time": "2022-08-01T18:30:41.275Z"
      },
      {
        "duration": 752,
        "start_time": "2022-08-01T18:30:42.679Z"
      },
      {
        "duration": 8,
        "start_time": "2022-08-01T18:30:43.433Z"
      },
      {
        "duration": 8,
        "start_time": "2022-08-01T18:30:43.443Z"
      },
      {
        "duration": 4,
        "start_time": "2022-08-01T18:30:43.453Z"
      },
      {
        "duration": 59,
        "start_time": "2022-08-01T18:30:43.459Z"
      },
      {
        "duration": 5,
        "start_time": "2022-08-01T18:30:43.519Z"
      },
      {
        "duration": 15,
        "start_time": "2022-08-01T18:30:43.525Z"
      },
      {
        "duration": 131,
        "start_time": "2022-08-01T18:30:43.541Z"
      },
      {
        "duration": 70,
        "start_time": "2022-08-01T18:30:43.675Z"
      },
      {
        "duration": 213,
        "start_time": "2022-08-01T18:30:43.747Z"
      },
      {
        "duration": 164,
        "start_time": "2022-08-01T18:30:43.962Z"
      },
      {
        "duration": 181,
        "start_time": "2022-08-01T18:30:44.128Z"
      },
      {
        "duration": 696,
        "start_time": "2022-08-01T18:30:44.311Z"
      },
      {
        "duration": 238,
        "start_time": "2022-08-01T18:30:45.011Z"
      },
      {
        "duration": 3,
        "start_time": "2022-08-01T18:30:45.250Z"
      },
      {
        "duration": 27,
        "start_time": "2022-08-01T18:30:45.255Z"
      },
      {
        "duration": 4,
        "start_time": "2022-08-01T18:30:45.283Z"
      },
      {
        "duration": 10,
        "start_time": "2022-08-01T18:30:45.288Z"
      },
      {
        "duration": 134,
        "start_time": "2022-08-01T18:30:51.314Z"
      },
      {
        "duration": 6,
        "start_time": "2022-08-01T18:33:46.057Z"
      },
      {
        "duration": 3,
        "start_time": "2022-08-01T18:33:49.873Z"
      },
      {
        "duration": 3,
        "start_time": "2022-08-01T18:33:51.991Z"
      },
      {
        "duration": 23,
        "start_time": "2022-08-01T18:33:55.241Z"
      },
      {
        "duration": 25,
        "start_time": "2022-08-01T18:40:51.991Z"
      },
      {
        "duration": 25,
        "start_time": "2022-08-01T18:47:43.040Z"
      },
      {
        "duration": 27,
        "start_time": "2022-08-01T18:48:11.684Z"
      },
      {
        "duration": 23,
        "start_time": "2022-08-01T18:49:22.297Z"
      },
      {
        "duration": 10,
        "start_time": "2022-08-01T18:49:35.737Z"
      },
      {
        "duration": 25,
        "start_time": "2022-08-01T18:49:45.199Z"
      },
      {
        "duration": 1358,
        "start_time": "2022-08-01T18:50:41.521Z"
      },
      {
        "duration": 823,
        "start_time": "2022-08-01T18:50:42.881Z"
      },
      {
        "duration": 10,
        "start_time": "2022-08-01T18:50:43.705Z"
      },
      {
        "duration": 10,
        "start_time": "2022-08-01T18:50:43.717Z"
      },
      {
        "duration": 8,
        "start_time": "2022-08-01T18:50:43.729Z"
      },
      {
        "duration": 60,
        "start_time": "2022-08-01T18:50:43.738Z"
      },
      {
        "duration": 4,
        "start_time": "2022-08-01T18:50:43.801Z"
      },
      {
        "duration": 11,
        "start_time": "2022-08-01T18:50:43.806Z"
      },
      {
        "duration": 128,
        "start_time": "2022-08-01T18:50:43.818Z"
      },
      {
        "duration": 70,
        "start_time": "2022-08-01T18:50:43.949Z"
      },
      {
        "duration": 193,
        "start_time": "2022-08-01T18:50:44.020Z"
      },
      {
        "duration": 160,
        "start_time": "2022-08-01T18:50:44.214Z"
      },
      {
        "duration": 227,
        "start_time": "2022-08-01T18:50:44.376Z"
      },
      {
        "duration": 668,
        "start_time": "2022-08-01T18:50:44.605Z"
      },
      {
        "duration": 232,
        "start_time": "2022-08-01T18:50:45.274Z"
      },
      {
        "duration": 3,
        "start_time": "2022-08-01T18:50:45.508Z"
      },
      {
        "duration": 9,
        "start_time": "2022-08-01T18:50:45.512Z"
      },
      {
        "duration": 8,
        "start_time": "2022-08-01T18:50:45.524Z"
      },
      {
        "duration": 144,
        "start_time": "2022-08-01T18:50:45.533Z"
      },
      {
        "duration": 1439,
        "start_time": "2022-08-01T19:01:03.156Z"
      },
      {
        "duration": 918,
        "start_time": "2022-08-01T19:01:04.597Z"
      },
      {
        "duration": 12,
        "start_time": "2022-08-01T19:01:05.517Z"
      },
      {
        "duration": 22,
        "start_time": "2022-08-01T19:01:05.532Z"
      },
      {
        "duration": 8,
        "start_time": "2022-08-01T19:01:05.556Z"
      },
      {
        "duration": 45,
        "start_time": "2022-08-01T19:01:05.565Z"
      },
      {
        "duration": 4,
        "start_time": "2022-08-01T19:01:05.612Z"
      },
      {
        "duration": 13,
        "start_time": "2022-08-01T19:01:05.618Z"
      },
      {
        "duration": 125,
        "start_time": "2022-08-01T19:01:05.633Z"
      },
      {
        "duration": 80,
        "start_time": "2022-08-01T19:01:05.761Z"
      },
      {
        "duration": 207,
        "start_time": "2022-08-01T19:01:05.842Z"
      },
      {
        "duration": 181,
        "start_time": "2022-08-01T19:01:06.051Z"
      },
      {
        "duration": 189,
        "start_time": "2022-08-01T19:01:06.233Z"
      },
      {
        "duration": 649,
        "start_time": "2022-08-01T19:01:06.423Z"
      },
      {
        "duration": 258,
        "start_time": "2022-08-01T19:01:07.074Z"
      },
      {
        "duration": 3,
        "start_time": "2022-08-01T19:01:07.334Z"
      },
      {
        "duration": 8,
        "start_time": "2022-08-01T19:01:07.338Z"
      },
      {
        "duration": 9,
        "start_time": "2022-08-01T19:01:07.347Z"
      },
      {
        "duration": 140,
        "start_time": "2022-08-01T19:01:07.357Z"
      },
      {
        "duration": 26,
        "start_time": "2022-08-01T19:02:00.151Z"
      },
      {
        "duration": 24,
        "start_time": "2022-08-01T19:02:30.842Z"
      },
      {
        "duration": 1307,
        "start_time": "2022-08-01T19:09:57.072Z"
      },
      {
        "duration": 785,
        "start_time": "2022-08-01T19:09:58.381Z"
      },
      {
        "duration": 30,
        "start_time": "2022-08-01T19:09:59.168Z"
      },
      {
        "duration": 7,
        "start_time": "2022-08-01T19:09:59.200Z"
      },
      {
        "duration": 5,
        "start_time": "2022-08-01T19:09:59.209Z"
      },
      {
        "duration": 28,
        "start_time": "2022-08-01T19:09:59.215Z"
      },
      {
        "duration": 4,
        "start_time": "2022-08-01T19:09:59.244Z"
      },
      {
        "duration": 11,
        "start_time": "2022-08-01T19:09:59.250Z"
      },
      {
        "duration": 149,
        "start_time": "2022-08-01T19:09:59.262Z"
      },
      {
        "duration": 59,
        "start_time": "2022-08-01T19:09:59.413Z"
      },
      {
        "duration": 199,
        "start_time": "2022-08-01T19:09:59.474Z"
      },
      {
        "duration": 165,
        "start_time": "2022-08-01T19:09:59.674Z"
      },
      {
        "duration": 177,
        "start_time": "2022-08-01T19:09:59.841Z"
      },
      {
        "duration": 668,
        "start_time": "2022-08-01T19:10:00.019Z"
      },
      {
        "duration": 244,
        "start_time": "2022-08-01T19:10:00.688Z"
      },
      {
        "duration": 3,
        "start_time": "2022-08-01T19:10:00.935Z"
      },
      {
        "duration": 15,
        "start_time": "2022-08-01T19:10:00.940Z"
      },
      {
        "duration": 23,
        "start_time": "2022-08-01T19:10:00.957Z"
      },
      {
        "duration": 136,
        "start_time": "2022-08-01T19:10:00.981Z"
      },
      {
        "duration": 25,
        "start_time": "2022-08-01T19:10:37.908Z"
      },
      {
        "duration": 1335,
        "start_time": "2022-08-01T19:10:56.653Z"
      },
      {
        "duration": 793,
        "start_time": "2022-08-01T19:10:57.989Z"
      },
      {
        "duration": 22,
        "start_time": "2022-08-01T19:10:58.783Z"
      },
      {
        "duration": 9,
        "start_time": "2022-08-01T19:10:58.807Z"
      },
      {
        "duration": 6,
        "start_time": "2022-08-01T19:10:58.817Z"
      },
      {
        "duration": 28,
        "start_time": "2022-08-01T19:10:58.824Z"
      },
      {
        "duration": 3,
        "start_time": "2022-08-01T19:10:58.854Z"
      },
      {
        "duration": 43,
        "start_time": "2022-08-01T19:10:58.858Z"
      },
      {
        "duration": 119,
        "start_time": "2022-08-01T19:10:58.903Z"
      },
      {
        "duration": 74,
        "start_time": "2022-08-01T19:10:59.024Z"
      },
      {
        "duration": 189,
        "start_time": "2022-08-01T19:10:59.099Z"
      },
      {
        "duration": 165,
        "start_time": "2022-08-01T19:10:59.290Z"
      },
      {
        "duration": 184,
        "start_time": "2022-08-01T19:10:59.457Z"
      },
      {
        "duration": 665,
        "start_time": "2022-08-01T19:10:59.643Z"
      },
      {
        "duration": 241,
        "start_time": "2022-08-01T19:11:00.309Z"
      },
      {
        "duration": 4,
        "start_time": "2022-08-01T19:11:00.552Z"
      },
      {
        "duration": 18,
        "start_time": "2022-08-01T19:11:00.558Z"
      },
      {
        "duration": 23,
        "start_time": "2022-08-01T19:11:00.578Z"
      },
      {
        "duration": 165,
        "start_time": "2022-08-01T19:11:00.603Z"
      },
      {
        "duration": 23,
        "start_time": "2022-08-01T19:11:49.093Z"
      },
      {
        "duration": 1283,
        "start_time": "2022-08-01T19:12:10.179Z"
      },
      {
        "duration": 759,
        "start_time": "2022-08-01T19:12:11.464Z"
      },
      {
        "duration": 11,
        "start_time": "2022-08-01T19:12:12.224Z"
      },
      {
        "duration": 14,
        "start_time": "2022-08-01T19:12:12.237Z"
      },
      {
        "duration": 23,
        "start_time": "2022-08-01T19:12:12.253Z"
      },
      {
        "duration": 41,
        "start_time": "2022-08-01T19:12:12.278Z"
      },
      {
        "duration": 4,
        "start_time": "2022-08-01T19:12:12.320Z"
      },
      {
        "duration": 23,
        "start_time": "2022-08-01T19:12:12.325Z"
      },
      {
        "duration": 120,
        "start_time": "2022-08-01T19:12:12.350Z"
      },
      {
        "duration": 68,
        "start_time": "2022-08-01T19:12:12.473Z"
      },
      {
        "duration": 209,
        "start_time": "2022-08-01T19:12:12.542Z"
      },
      {
        "duration": 160,
        "start_time": "2022-08-01T19:12:12.752Z"
      },
      {
        "duration": 181,
        "start_time": "2022-08-01T19:12:12.913Z"
      },
      {
        "duration": 693,
        "start_time": "2022-08-01T19:12:13.098Z"
      },
      {
        "duration": 234,
        "start_time": "2022-08-01T19:12:13.797Z"
      },
      {
        "duration": 3,
        "start_time": "2022-08-01T19:12:14.032Z"
      },
      {
        "duration": 9,
        "start_time": "2022-08-01T19:12:14.037Z"
      },
      {
        "duration": 8,
        "start_time": "2022-08-01T19:12:14.048Z"
      },
      {
        "duration": 141,
        "start_time": "2022-08-01T19:12:14.057Z"
      },
      {
        "duration": 24,
        "start_time": "2022-08-01T19:12:55.488Z"
      },
      {
        "duration": 3,
        "start_time": "2022-08-01T19:15:28.574Z"
      },
      {
        "duration": 28,
        "start_time": "2022-08-01T19:15:30.909Z"
      },
      {
        "duration": 1370,
        "start_time": "2022-08-01T19:16:29.495Z"
      },
      {
        "duration": 775,
        "start_time": "2022-08-01T19:16:30.867Z"
      },
      {
        "duration": 8,
        "start_time": "2022-08-01T19:16:31.644Z"
      },
      {
        "duration": 35,
        "start_time": "2022-08-01T19:16:31.654Z"
      },
      {
        "duration": 9,
        "start_time": "2022-08-01T19:16:31.691Z"
      },
      {
        "duration": 34,
        "start_time": "2022-08-01T19:16:31.701Z"
      },
      {
        "duration": 4,
        "start_time": "2022-08-01T19:16:31.736Z"
      },
      {
        "duration": 14,
        "start_time": "2022-08-01T19:16:31.742Z"
      },
      {
        "duration": 142,
        "start_time": "2022-08-01T19:16:31.757Z"
      },
      {
        "duration": 58,
        "start_time": "2022-08-01T19:16:31.901Z"
      },
      {
        "duration": 196,
        "start_time": "2022-08-01T19:16:31.961Z"
      },
      {
        "duration": 169,
        "start_time": "2022-08-01T19:16:32.158Z"
      },
      {
        "duration": 180,
        "start_time": "2022-08-01T19:16:32.329Z"
      },
      {
        "duration": 745,
        "start_time": "2022-08-01T19:16:32.511Z"
      },
      {
        "duration": 236,
        "start_time": "2022-08-01T19:16:33.258Z"
      },
      {
        "duration": 4,
        "start_time": "2022-08-01T19:16:33.495Z"
      },
      {
        "duration": 8,
        "start_time": "2022-08-01T19:16:33.501Z"
      },
      {
        "duration": 155,
        "start_time": "2022-08-01T19:16:33.511Z"
      },
      {
        "duration": 3,
        "start_time": "2022-08-01T19:17:06.951Z"
      },
      {
        "duration": 3,
        "start_time": "2022-08-01T19:17:15.327Z"
      },
      {
        "duration": 1406,
        "start_time": "2022-08-01T19:21:43.883Z"
      },
      {
        "duration": 782,
        "start_time": "2022-08-01T19:21:45.291Z"
      },
      {
        "duration": 25,
        "start_time": "2022-08-01T19:21:46.074Z"
      },
      {
        "duration": 9,
        "start_time": "2022-08-01T19:21:46.102Z"
      },
      {
        "duration": 5,
        "start_time": "2022-08-01T19:21:46.113Z"
      },
      {
        "duration": 28,
        "start_time": "2022-08-01T19:21:46.120Z"
      },
      {
        "duration": 4,
        "start_time": "2022-08-01T19:21:46.149Z"
      },
      {
        "duration": 9,
        "start_time": "2022-08-01T19:21:46.155Z"
      },
      {
        "duration": 118,
        "start_time": "2022-08-01T19:21:46.198Z"
      },
      {
        "duration": 58,
        "start_time": "2022-08-01T19:21:46.320Z"
      },
      {
        "duration": 205,
        "start_time": "2022-08-01T19:21:46.380Z"
      },
      {
        "duration": 165,
        "start_time": "2022-08-01T19:21:46.586Z"
      },
      {
        "duration": 176,
        "start_time": "2022-08-01T19:21:46.753Z"
      },
      {
        "duration": 736,
        "start_time": "2022-08-01T19:21:46.931Z"
      },
      {
        "duration": 243,
        "start_time": "2022-08-01T19:21:47.669Z"
      },
      {
        "duration": 2,
        "start_time": "2022-08-01T19:21:47.914Z"
      },
      {
        "duration": 9,
        "start_time": "2022-08-01T19:21:47.918Z"
      },
      {
        "duration": 7,
        "start_time": "2022-08-01T19:21:47.929Z"
      },
      {
        "duration": 127,
        "start_time": "2022-08-01T19:21:47.938Z"
      },
      {
        "duration": 4,
        "start_time": "2022-08-01T19:24:48.248Z"
      },
      {
        "duration": 25,
        "start_time": "2022-08-01T19:24:55.918Z"
      },
      {
        "duration": 1480,
        "start_time": "2022-08-02T15:17:53.485Z"
      },
      {
        "duration": 3414,
        "start_time": "2022-08-02T15:17:54.967Z"
      },
      {
        "duration": 17,
        "start_time": "2022-08-02T15:17:58.383Z"
      },
      {
        "duration": 19,
        "start_time": "2022-08-02T15:17:58.402Z"
      },
      {
        "duration": 16,
        "start_time": "2022-08-02T15:17:58.423Z"
      },
      {
        "duration": 43,
        "start_time": "2022-08-02T15:17:58.440Z"
      },
      {
        "duration": 4,
        "start_time": "2022-08-02T15:17:58.485Z"
      },
      {
        "duration": 26,
        "start_time": "2022-08-02T15:17:58.490Z"
      },
      {
        "duration": 107,
        "start_time": "2022-08-02T15:17:58.518Z"
      },
      {
        "duration": 69,
        "start_time": "2022-08-02T15:17:58.628Z"
      },
      {
        "duration": 169,
        "start_time": "2022-08-02T15:17:58.698Z"
      },
      {
        "duration": 153,
        "start_time": "2022-08-02T15:17:58.869Z"
      },
      {
        "duration": 168,
        "start_time": "2022-08-02T15:17:59.023Z"
      },
      {
        "duration": 733,
        "start_time": "2022-08-02T15:17:59.193Z"
      },
      {
        "duration": 192,
        "start_time": "2022-08-02T15:17:59.928Z"
      },
      {
        "duration": 3,
        "start_time": "2022-08-02T15:18:00.122Z"
      },
      {
        "duration": 16,
        "start_time": "2022-08-02T15:18:00.127Z"
      },
      {
        "duration": 9,
        "start_time": "2022-08-02T15:18:00.145Z"
      },
      {
        "duration": 105,
        "start_time": "2022-08-02T15:18:05.011Z"
      },
      {
        "duration": 45,
        "start_time": "2022-08-02T15:27:15.975Z"
      },
      {
        "duration": 36,
        "start_time": "2022-08-02T15:27:24.610Z"
      },
      {
        "duration": 3,
        "start_time": "2022-08-02T15:30:35.779Z"
      },
      {
        "duration": 24,
        "start_time": "2022-08-02T15:30:40.821Z"
      },
      {
        "duration": 4,
        "start_time": "2022-08-02T15:31:45.883Z"
      },
      {
        "duration": 19,
        "start_time": "2022-08-02T15:31:48.573Z"
      },
      {
        "duration": 3,
        "start_time": "2022-08-02T15:32:13.647Z"
      },
      {
        "duration": 18,
        "start_time": "2022-08-02T15:32:16.515Z"
      },
      {
        "duration": 4,
        "start_time": "2022-08-02T15:34:26.017Z"
      },
      {
        "duration": 21,
        "start_time": "2022-08-02T15:34:28.817Z"
      },
      {
        "duration": 1320,
        "start_time": "2022-08-02T15:35:09.840Z"
      },
      {
        "duration": 783,
        "start_time": "2022-08-02T15:35:11.162Z"
      },
      {
        "duration": 11,
        "start_time": "2022-08-02T15:35:11.946Z"
      },
      {
        "duration": 36,
        "start_time": "2022-08-02T15:35:11.959Z"
      },
      {
        "duration": 8,
        "start_time": "2022-08-02T15:35:11.996Z"
      },
      {
        "duration": 32,
        "start_time": "2022-08-02T15:35:12.007Z"
      },
      {
        "duration": 6,
        "start_time": "2022-08-02T15:35:12.041Z"
      },
      {
        "duration": 40,
        "start_time": "2022-08-02T15:35:12.048Z"
      },
      {
        "duration": 119,
        "start_time": "2022-08-02T15:35:12.091Z"
      },
      {
        "duration": 85,
        "start_time": "2022-08-02T15:35:12.213Z"
      },
      {
        "duration": 188,
        "start_time": "2022-08-02T15:35:12.300Z"
      },
      {
        "duration": 153,
        "start_time": "2022-08-02T15:35:12.490Z"
      },
      {
        "duration": 184,
        "start_time": "2022-08-02T15:35:12.646Z"
      },
      {
        "duration": 687,
        "start_time": "2022-08-02T15:35:12.832Z"
      },
      {
        "duration": 240,
        "start_time": "2022-08-02T15:35:13.521Z"
      },
      {
        "duration": 2,
        "start_time": "2022-08-02T15:35:13.763Z"
      },
      {
        "duration": 20,
        "start_time": "2022-08-02T15:35:13.767Z"
      },
      {
        "duration": 7,
        "start_time": "2022-08-02T15:35:13.788Z"
      },
      {
        "duration": 7,
        "start_time": "2022-08-02T15:35:13.796Z"
      },
      {
        "duration": 123,
        "start_time": "2022-08-02T15:35:13.804Z"
      },
      {
        "duration": 3,
        "start_time": "2022-08-02T15:38:57.139Z"
      },
      {
        "duration": 3311,
        "start_time": "2022-08-02T15:39:00.122Z"
      },
      {
        "duration": 2,
        "start_time": "2022-08-02T15:40:22.889Z"
      },
      {
        "duration": 3336,
        "start_time": "2022-08-02T15:40:25.845Z"
      },
      {
        "duration": 5,
        "start_time": "2022-08-02T15:42:32.797Z"
      },
      {
        "duration": 3,
        "start_time": "2022-08-02T15:42:36.197Z"
      },
      {
        "duration": 2,
        "start_time": "2022-08-02T15:42:39.374Z"
      },
      {
        "duration": 3218,
        "start_time": "2022-08-02T15:42:42.155Z"
      },
      {
        "duration": 1288,
        "start_time": "2022-08-02T15:43:09.319Z"
      },
      {
        "duration": 781,
        "start_time": "2022-08-02T15:43:10.610Z"
      },
      {
        "duration": 10,
        "start_time": "2022-08-02T15:43:11.393Z"
      },
      {
        "duration": 37,
        "start_time": "2022-08-02T15:43:11.404Z"
      },
      {
        "duration": 40,
        "start_time": "2022-08-02T15:43:11.443Z"
      },
      {
        "duration": 47,
        "start_time": "2022-08-02T15:43:11.484Z"
      },
      {
        "duration": 20,
        "start_time": "2022-08-02T15:43:11.533Z"
      },
      {
        "duration": 20,
        "start_time": "2022-08-02T15:43:11.555Z"
      },
      {
        "duration": 131,
        "start_time": "2022-08-02T15:43:11.576Z"
      },
      {
        "duration": 83,
        "start_time": "2022-08-02T15:43:11.708Z"
      },
      {
        "duration": 180,
        "start_time": "2022-08-02T15:43:11.792Z"
      },
      {
        "duration": 171,
        "start_time": "2022-08-02T15:43:11.974Z"
      },
      {
        "duration": 172,
        "start_time": "2022-08-02T15:43:12.147Z"
      },
      {
        "duration": 618,
        "start_time": "2022-08-02T15:43:12.321Z"
      },
      {
        "duration": 247,
        "start_time": "2022-08-02T15:43:12.940Z"
      },
      {
        "duration": 2,
        "start_time": "2022-08-02T15:43:13.189Z"
      },
      {
        "duration": 29,
        "start_time": "2022-08-02T15:43:13.193Z"
      },
      {
        "duration": 23,
        "start_time": "2022-08-02T15:43:13.223Z"
      },
      {
        "duration": 14,
        "start_time": "2022-08-02T15:43:13.248Z"
      },
      {
        "duration": 3483,
        "start_time": "2022-08-02T15:43:13.264Z"
      },
      {
        "duration": 3,
        "start_time": "2022-08-02T15:43:36.821Z"
      },
      {
        "duration": 5,
        "start_time": "2022-08-02T15:43:40.189Z"
      },
      {
        "duration": 3,
        "start_time": "2022-08-02T15:43:42.732Z"
      },
      {
        "duration": 3,
        "start_time": "2022-08-02T15:43:45.150Z"
      },
      {
        "duration": 3233,
        "start_time": "2022-08-02T15:43:48.459Z"
      },
      {
        "duration": 2,
        "start_time": "2022-08-02T15:44:29.231Z"
      },
      {
        "duration": 6,
        "start_time": "2022-08-02T15:44:43.883Z"
      },
      {
        "duration": 3,
        "start_time": "2022-08-02T15:44:47.178Z"
      },
      {
        "duration": 4,
        "start_time": "2022-08-02T15:44:49.296Z"
      },
      {
        "duration": 3213,
        "start_time": "2022-08-02T15:44:52.339Z"
      },
      {
        "duration": 6,
        "start_time": "2022-08-02T15:45:04.564Z"
      },
      {
        "duration": 2,
        "start_time": "2022-08-02T15:45:07.355Z"
      },
      {
        "duration": 3,
        "start_time": "2022-08-02T15:45:09.696Z"
      },
      {
        "duration": 3370,
        "start_time": "2022-08-02T15:45:12.197Z"
      },
      {
        "duration": 3,
        "start_time": "2022-08-02T15:45:32.960Z"
      },
      {
        "duration": 7708,
        "start_time": "2022-08-02T15:45:35.948Z"
      },
      {
        "duration": 1297,
        "start_time": "2022-08-02T15:46:06.690Z"
      },
      {
        "duration": 798,
        "start_time": "2022-08-02T15:46:07.989Z"
      },
      {
        "duration": 12,
        "start_time": "2022-08-02T15:46:08.789Z"
      },
      {
        "duration": 12,
        "start_time": "2022-08-02T15:46:08.804Z"
      },
      {
        "duration": 7,
        "start_time": "2022-08-02T15:46:08.818Z"
      },
      {
        "duration": 60,
        "start_time": "2022-08-02T15:46:08.827Z"
      },
      {
        "duration": 5,
        "start_time": "2022-08-02T15:46:08.888Z"
      },
      {
        "duration": 12,
        "start_time": "2022-08-02T15:46:08.895Z"
      },
      {
        "duration": 119,
        "start_time": "2022-08-02T15:46:08.909Z"
      },
      {
        "duration": 78,
        "start_time": "2022-08-02T15:46:09.030Z"
      },
      {
        "duration": 186,
        "start_time": "2022-08-02T15:46:09.110Z"
      },
      {
        "duration": 163,
        "start_time": "2022-08-02T15:46:09.298Z"
      },
      {
        "duration": 175,
        "start_time": "2022-08-02T15:46:09.463Z"
      },
      {
        "duration": 700,
        "start_time": "2022-08-02T15:46:09.639Z"
      },
      {
        "duration": 229,
        "start_time": "2022-08-02T15:46:10.341Z"
      },
      {
        "duration": 3,
        "start_time": "2022-08-02T15:46:10.571Z"
      },
      {
        "duration": 14,
        "start_time": "2022-08-02T15:46:10.576Z"
      },
      {
        "duration": 6,
        "start_time": "2022-08-02T15:46:10.591Z"
      },
      {
        "duration": 6,
        "start_time": "2022-08-02T15:46:10.599Z"
      },
      {
        "duration": 7649,
        "start_time": "2022-08-02T15:46:10.606Z"
      },
      {
        "duration": 4,
        "start_time": "2022-08-02T15:46:47.119Z"
      },
      {
        "duration": 116,
        "start_time": "2022-08-02T15:46:50.121Z"
      },
      {
        "duration": 4,
        "start_time": "2022-08-02T15:47:12.255Z"
      },
      {
        "duration": 7641,
        "start_time": "2022-08-02T15:47:14.826Z"
      },
      {
        "duration": 4,
        "start_time": "2022-08-02T15:52:27.664Z"
      },
      {
        "duration": 6,
        "start_time": "2022-08-02T15:52:30.247Z"
      },
      {
        "duration": 11,
        "start_time": "2022-08-02T15:52:32.874Z"
      },
      {
        "duration": 10,
        "start_time": "2022-08-02T15:53:12.976Z"
      },
      {
        "duration": 4,
        "start_time": "2022-08-02T15:53:20.856Z"
      },
      {
        "duration": 4,
        "start_time": "2022-08-02T15:54:21.952Z"
      },
      {
        "duration": 7,
        "start_time": "2022-08-02T15:54:25.640Z"
      },
      {
        "duration": 4,
        "start_time": "2022-08-02T15:54:28.731Z"
      },
      {
        "duration": 4,
        "start_time": "2022-08-02T15:59:05.061Z"
      },
      {
        "duration": 8,
        "start_time": "2022-08-02T15:59:08.270Z"
      },
      {
        "duration": 5,
        "start_time": "2022-08-02T15:59:11.739Z"
      },
      {
        "duration": 7,
        "start_time": "2022-08-02T15:59:33.584Z"
      },
      {
        "duration": 10,
        "start_time": "2022-08-02T15:59:36.504Z"
      },
      {
        "duration": 4,
        "start_time": "2022-08-02T15:59:39.345Z"
      },
      {
        "duration": 4,
        "start_time": "2022-08-02T16:02:36.121Z"
      },
      {
        "duration": 6,
        "start_time": "2022-08-02T16:02:39.817Z"
      },
      {
        "duration": 4,
        "start_time": "2022-08-02T16:02:42.257Z"
      },
      {
        "duration": 4,
        "start_time": "2022-08-02T16:03:42.270Z"
      },
      {
        "duration": 7,
        "start_time": "2022-08-02T16:03:45.025Z"
      },
      {
        "duration": 5,
        "start_time": "2022-08-02T16:03:47.353Z"
      },
      {
        "duration": 1580,
        "start_time": "2022-08-02T16:04:12.978Z"
      },
      {
        "duration": 908,
        "start_time": "2022-08-02T16:04:14.560Z"
      },
      {
        "duration": 38,
        "start_time": "2022-08-02T16:04:15.469Z"
      },
      {
        "duration": 18,
        "start_time": "2022-08-02T16:04:15.510Z"
      },
      {
        "duration": 9,
        "start_time": "2022-08-02T16:04:15.530Z"
      },
      {
        "duration": 38,
        "start_time": "2022-08-02T16:04:15.541Z"
      },
      {
        "duration": 10,
        "start_time": "2022-08-02T16:04:15.581Z"
      },
      {
        "duration": 34,
        "start_time": "2022-08-02T16:04:15.592Z"
      },
      {
        "duration": 118,
        "start_time": "2022-08-02T16:04:15.627Z"
      },
      {
        "duration": 100,
        "start_time": "2022-08-02T16:04:15.749Z"
      },
      {
        "duration": 289,
        "start_time": "2022-08-02T16:04:15.851Z"
      },
      {
        "duration": 225,
        "start_time": "2022-08-02T16:04:16.142Z"
      },
      {
        "duration": 248,
        "start_time": "2022-08-02T16:04:16.369Z"
      },
      {
        "duration": 838,
        "start_time": "2022-08-02T16:04:16.619Z"
      },
      {
        "duration": 330,
        "start_time": "2022-08-02T16:04:17.459Z"
      },
      {
        "duration": 10,
        "start_time": "2022-08-02T16:04:17.799Z"
      },
      {
        "duration": 6,
        "start_time": "2022-08-02T16:04:21.374Z"
      },
      {
        "duration": 6,
        "start_time": "2022-08-02T16:04:25.652Z"
      },
      {
        "duration": 8,
        "start_time": "2022-08-02T16:04:35.349Z"
      },
      {
        "duration": 4,
        "start_time": "2022-08-02T16:05:19.131Z"
      },
      {
        "duration": 6,
        "start_time": "2022-08-02T16:05:22.560Z"
      },
      {
        "duration": 8,
        "start_time": "2022-08-02T16:05:25.165Z"
      },
      {
        "duration": 5,
        "start_time": "2022-08-02T16:05:35.634Z"
      },
      {
        "duration": 110,
        "start_time": "2022-08-02T16:05:38.677Z"
      },
      {
        "duration": 3,
        "start_time": "2022-08-02T16:05:52.066Z"
      },
      {
        "duration": 5,
        "start_time": "2022-08-02T16:05:55.316Z"
      },
      {
        "duration": 6,
        "start_time": "2022-08-02T16:05:57.974Z"
      },
      {
        "duration": 3,
        "start_time": "2022-08-02T16:06:39.075Z"
      },
      {
        "duration": 5,
        "start_time": "2022-08-02T16:06:41.937Z"
      },
      {
        "duration": 7,
        "start_time": "2022-08-02T16:06:44.615Z"
      },
      {
        "duration": 3,
        "start_time": "2022-08-02T16:07:35.523Z"
      },
      {
        "duration": 5,
        "start_time": "2022-08-02T16:07:37.815Z"
      },
      {
        "duration": 7,
        "start_time": "2022-08-02T16:07:40.225Z"
      },
      {
        "duration": 4,
        "start_time": "2022-08-02T16:09:05.420Z"
      },
      {
        "duration": 16,
        "start_time": "2022-08-02T16:09:08.618Z"
      },
      {
        "duration": 1277,
        "start_time": "2022-08-02T16:09:34.226Z"
      },
      {
        "duration": 872,
        "start_time": "2022-08-02T16:09:35.505Z"
      },
      {
        "duration": 15,
        "start_time": "2022-08-02T16:09:36.386Z"
      },
      {
        "duration": 30,
        "start_time": "2022-08-02T16:09:36.409Z"
      },
      {
        "duration": 25,
        "start_time": "2022-08-02T16:09:36.440Z"
      },
      {
        "duration": 48,
        "start_time": "2022-08-02T16:09:36.467Z"
      },
      {
        "duration": 16,
        "start_time": "2022-08-02T16:09:36.517Z"
      },
      {
        "duration": 27,
        "start_time": "2022-08-02T16:09:36.535Z"
      },
      {
        "duration": 153,
        "start_time": "2022-08-02T16:09:36.564Z"
      },
      {
        "duration": 86,
        "start_time": "2022-08-02T16:09:36.719Z"
      },
      {
        "duration": 177,
        "start_time": "2022-08-02T16:09:36.807Z"
      },
      {
        "duration": 168,
        "start_time": "2022-08-02T16:09:36.985Z"
      },
      {
        "duration": 182,
        "start_time": "2022-08-02T16:09:37.155Z"
      },
      {
        "duration": 753,
        "start_time": "2022-08-02T16:09:37.339Z"
      },
      {
        "duration": 238,
        "start_time": "2022-08-02T16:09:38.098Z"
      },
      {
        "duration": 4,
        "start_time": "2022-08-02T16:09:38.337Z"
      },
      {
        "duration": 117,
        "start_time": "2022-08-02T16:09:42.156Z"
      },
      {
        "duration": 6,
        "start_time": "2022-08-02T16:10:01.015Z"
      },
      {
        "duration": 8,
        "start_time": "2022-08-02T16:10:04.072Z"
      },
      {
        "duration": 4,
        "start_time": "2022-08-02T16:10:56.436Z"
      },
      {
        "duration": 5,
        "start_time": "2022-08-02T16:10:59.977Z"
      },
      {
        "duration": 8359,
        "start_time": "2022-08-02T16:11:03.279Z"
      },
      {
        "duration": 8,
        "start_time": "2022-08-02T16:11:57.720Z"
      },
      {
        "duration": 5358,
        "start_time": "2022-08-02T16:12:01.458Z"
      },
      {
        "duration": 12,
        "start_time": "2022-08-02T16:15:46.345Z"
      },
      {
        "duration": 27,
        "start_time": "2022-08-02T16:15:56.631Z"
      },
      {
        "duration": 4,
        "start_time": "2022-08-02T16:16:25.615Z"
      },
      {
        "duration": 8141,
        "start_time": "2022-08-02T16:16:28.638Z"
      },
      {
        "duration": 5,
        "start_time": "2022-08-02T16:16:39.738Z"
      },
      {
        "duration": 7,
        "start_time": "2022-08-02T16:16:57.315Z"
      },
      {
        "duration": 8,
        "start_time": "2022-08-02T16:19:33.791Z"
      },
      {
        "duration": 3,
        "start_time": "2022-08-02T16:20:07.143Z"
      },
      {
        "duration": 3,
        "start_time": "2022-08-02T16:20:13.858Z"
      },
      {
        "duration": 10387,
        "start_time": "2022-08-02T16:20:16.577Z"
      },
      {
        "duration": 6,
        "start_time": "2022-08-02T16:20:29.570Z"
      },
      {
        "duration": 4,
        "start_time": "2022-08-02T16:22:07.375Z"
      },
      {
        "duration": 3,
        "start_time": "2022-08-02T16:22:33.019Z"
      },
      {
        "duration": 4,
        "start_time": "2022-08-02T16:22:43.535Z"
      },
      {
        "duration": 10,
        "start_time": "2022-08-02T16:22:52.398Z"
      },
      {
        "duration": 9,
        "start_time": "2022-08-02T16:24:09.332Z"
      },
      {
        "duration": 9,
        "start_time": "2022-08-02T16:24:18.707Z"
      },
      {
        "duration": 3,
        "start_time": "2022-08-02T16:28:19.344Z"
      },
      {
        "duration": 9996,
        "start_time": "2022-08-02T16:28:24.877Z"
      },
      {
        "duration": 11,
        "start_time": "2022-08-02T16:28:37.924Z"
      },
      {
        "duration": 4,
        "start_time": "2022-08-02T16:34:26.457Z"
      },
      {
        "duration": 10,
        "start_time": "2022-08-02T16:35:02.169Z"
      },
      {
        "duration": 3,
        "start_time": "2022-08-02T16:35:22.049Z"
      },
      {
        "duration": 121916,
        "start_time": "2022-08-02T16:35:24.818Z"
      },
      {
        "duration": 3,
        "start_time": "2022-08-02T16:37:45.137Z"
      },
      {
        "duration": 252465,
        "start_time": "2022-08-02T16:37:51.623Z"
      },
      {
        "duration": 4,
        "start_time": "2022-08-02T16:44:29.697Z"
      },
      {
        "duration": 171698,
        "start_time": "2022-08-02T16:44:32.430Z"
      },
      {
        "duration": 5,
        "start_time": "2022-08-02T16:47:47.624Z"
      },
      {
        "duration": 239435,
        "start_time": "2022-08-02T16:47:50.520Z"
      },
      {
        "duration": 8,
        "start_time": "2022-08-02T16:52:48.285Z"
      },
      {
        "duration": 3,
        "start_time": "2022-08-02T16:57:44.633Z"
      },
      {
        "duration": 20,
        "start_time": "2022-08-02T16:58:20.175Z"
      },
      {
        "duration": 3,
        "start_time": "2022-08-02T16:58:43.324Z"
      },
      {
        "duration": 20,
        "start_time": "2022-08-02T16:58:45.894Z"
      },
      {
        "duration": 3,
        "start_time": "2022-08-02T17:00:20.979Z"
      },
      {
        "duration": 30,
        "start_time": "2022-08-02T17:00:24.641Z"
      },
      {
        "duration": 4,
        "start_time": "2022-08-02T17:02:08.192Z"
      },
      {
        "duration": 24,
        "start_time": "2022-08-02T17:02:10.785Z"
      },
      {
        "duration": 3,
        "start_time": "2022-08-02T17:03:33.358Z"
      },
      {
        "duration": 19,
        "start_time": "2022-08-02T17:03:39.019Z"
      },
      {
        "duration": 3,
        "start_time": "2022-08-02T17:03:55.924Z"
      },
      {
        "duration": 20,
        "start_time": "2022-08-02T17:03:58.319Z"
      },
      {
        "duration": 3,
        "start_time": "2022-08-02T17:04:10.874Z"
      },
      {
        "duration": 1441,
        "start_time": "2022-08-02T17:04:13.549Z"
      },
      {
        "duration": 7,
        "start_time": "2022-08-02T17:05:00.435Z"
      },
      {
        "duration": 8,
        "start_time": "2022-08-03T15:23:11.631Z"
      },
      {
        "duration": 3,
        "start_time": "2022-08-03T15:25:19.529Z"
      },
      {
        "duration": 3,
        "start_time": "2022-08-03T15:26:06.625Z"
      },
      {
        "duration": 1489,
        "start_time": "2022-08-03T15:26:15.021Z"
      },
      {
        "duration": 3069,
        "start_time": "2022-08-03T15:26:16.512Z"
      },
      {
        "duration": 8,
        "start_time": "2022-08-03T15:26:19.583Z"
      },
      {
        "duration": 12,
        "start_time": "2022-08-03T15:26:19.593Z"
      },
      {
        "duration": 5,
        "start_time": "2022-08-03T15:26:19.606Z"
      },
      {
        "duration": 54,
        "start_time": "2022-08-03T15:26:19.613Z"
      },
      {
        "duration": 4,
        "start_time": "2022-08-03T15:26:19.669Z"
      },
      {
        "duration": 12,
        "start_time": "2022-08-03T15:26:19.675Z"
      },
      {
        "duration": 118,
        "start_time": "2022-08-03T15:26:19.689Z"
      },
      {
        "duration": 83,
        "start_time": "2022-08-03T15:26:19.810Z"
      },
      {
        "duration": 179,
        "start_time": "2022-08-03T15:26:19.895Z"
      },
      {
        "duration": 158,
        "start_time": "2022-08-03T15:26:20.075Z"
      },
      {
        "duration": 174,
        "start_time": "2022-08-03T15:26:20.237Z"
      },
      {
        "duration": 657,
        "start_time": "2022-08-03T15:26:20.413Z"
      },
      {
        "duration": 232,
        "start_time": "2022-08-03T15:26:21.072Z"
      },
      {
        "duration": 3,
        "start_time": "2022-08-03T15:26:21.306Z"
      },
      {
        "duration": 21,
        "start_time": "2022-08-03T15:26:21.310Z"
      },
      {
        "duration": 35,
        "start_time": "2022-08-03T15:26:21.332Z"
      },
      {
        "duration": 24,
        "start_time": "2022-08-03T15:26:21.368Z"
      },
      {
        "duration": 8654,
        "start_time": "2022-08-03T15:26:21.394Z"
      },
      {
        "duration": 9,
        "start_time": "2022-08-03T15:26:30.050Z"
      },
      {
        "duration": 17,
        "start_time": "2022-08-03T15:26:30.061Z"
      },
      {
        "duration": 11,
        "start_time": "2022-08-03T15:26:30.080Z"
      },
      {
        "duration": 247255,
        "start_time": "2022-08-03T15:26:30.093Z"
      },
      {
        "duration": 7,
        "start_time": "2022-08-03T15:30:37.350Z"
      },
      {
        "duration": 12,
        "start_time": "2022-08-03T15:30:37.359Z"
      },
      {
        "duration": 12,
        "start_time": "2022-08-03T15:30:37.373Z"
      },
      {
        "duration": 1652,
        "start_time": "2022-08-03T15:30:37.388Z"
      },
      {
        "duration": 98,
        "start_time": "2022-08-03T15:30:39.045Z"
      },
      {
        "duration": 3,
        "start_time": "2022-08-03T15:30:39.145Z"
      },
      {
        "duration": 4,
        "start_time": "2022-08-03T15:31:15.928Z"
      },
      {
        "duration": 3,
        "start_time": "2022-08-03T15:31:32.658Z"
      },
      {
        "duration": 4,
        "start_time": "2022-08-03T15:31:58.729Z"
      },
      {
        "duration": 108,
        "start_time": "2022-08-03T15:53:49.799Z"
      },
      {
        "duration": 1290,
        "start_time": "2022-08-03T15:54:13.975Z"
      },
      {
        "duration": 810,
        "start_time": "2022-08-03T15:54:15.267Z"
      },
      {
        "duration": 10,
        "start_time": "2022-08-03T15:54:16.079Z"
      },
      {
        "duration": 10,
        "start_time": "2022-08-03T15:54:16.091Z"
      },
      {
        "duration": 6,
        "start_time": "2022-08-03T15:54:16.103Z"
      },
      {
        "duration": 61,
        "start_time": "2022-08-03T15:54:16.111Z"
      },
      {
        "duration": 4,
        "start_time": "2022-08-03T15:54:16.173Z"
      },
      {
        "duration": 9,
        "start_time": "2022-08-03T15:54:16.179Z"
      },
      {
        "duration": 122,
        "start_time": "2022-08-03T15:54:16.189Z"
      },
      {
        "duration": 80,
        "start_time": "2022-08-03T15:54:16.314Z"
      },
      {
        "duration": 190,
        "start_time": "2022-08-03T15:54:16.396Z"
      },
      {
        "duration": 158,
        "start_time": "2022-08-03T15:54:16.587Z"
      },
      {
        "duration": 183,
        "start_time": "2022-08-03T15:54:16.748Z"
      },
      {
        "duration": 647,
        "start_time": "2022-08-03T15:54:16.937Z"
      },
      {
        "duration": 244,
        "start_time": "2022-08-03T15:54:17.586Z"
      },
      {
        "duration": 6,
        "start_time": "2022-08-03T15:54:17.832Z"
      },
      {
        "duration": 8,
        "start_time": "2022-08-03T15:54:17.840Z"
      },
      {
        "duration": 5,
        "start_time": "2022-08-03T15:54:17.850Z"
      },
      {
        "duration": 5,
        "start_time": "2022-08-03T15:54:17.856Z"
      },
      {
        "duration": 8609,
        "start_time": "2022-08-03T15:54:17.863Z"
      },
      {
        "duration": 114,
        "start_time": "2022-08-03T15:54:26.473Z"
      },
      {
        "duration": 0,
        "start_time": "2022-08-03T15:54:26.589Z"
      },
      {
        "duration": 0,
        "start_time": "2022-08-03T15:54:26.590Z"
      },
      {
        "duration": 0,
        "start_time": "2022-08-03T15:54:26.592Z"
      },
      {
        "duration": 12,
        "start_time": "2022-08-03T15:55:37.856Z"
      },
      {
        "duration": 8,
        "start_time": "2022-08-03T15:55:53.592Z"
      },
      {
        "duration": 4,
        "start_time": "2022-08-03T15:56:03.529Z"
      },
      {
        "duration": 3,
        "start_time": "2022-08-03T15:56:06.980Z"
      },
      {
        "duration": 248078,
        "start_time": "2022-08-03T15:56:09.530Z"
      },
      {
        "duration": 11,
        "start_time": "2022-08-03T16:00:34.010Z"
      },
      {
        "duration": 3,
        "start_time": "2022-08-03T16:02:48.314Z"
      },
      {
        "duration": 4,
        "start_time": "2022-08-03T16:03:40.250Z"
      },
      {
        "duration": 4,
        "start_time": "2022-08-03T16:04:23.402Z"
      },
      {
        "duration": 3,
        "start_time": "2022-08-03T16:04:30.312Z"
      },
      {
        "duration": 1318,
        "start_time": "2022-08-03T16:04:33.424Z"
      },
      {
        "duration": 7,
        "start_time": "2022-08-03T16:04:38.723Z"
      },
      {
        "duration": 4,
        "start_time": "2022-08-03T16:05:04.699Z"
      },
      {
        "duration": 8,
        "start_time": "2022-08-03T16:05:45.841Z"
      },
      {
        "duration": 7,
        "start_time": "2022-08-03T16:05:54.999Z"
      },
      {
        "duration": 11,
        "start_time": "2022-08-03T16:07:06.395Z"
      },
      {
        "duration": 12,
        "start_time": "2022-08-03T16:08:01.257Z"
      },
      {
        "duration": 11,
        "start_time": "2022-08-03T16:08:21.057Z"
      },
      {
        "duration": 11,
        "start_time": "2022-08-03T16:09:04.098Z"
      },
      {
        "duration": 4,
        "start_time": "2022-08-03T16:13:29.294Z"
      },
      {
        "duration": 4,
        "start_time": "2022-08-03T16:16:21.232Z"
      },
      {
        "duration": 262277,
        "start_time": "2022-08-03T16:16:23.593Z"
      },
      {
        "duration": 12,
        "start_time": "2022-08-03T16:20:55.087Z"
      },
      {
        "duration": 4,
        "start_time": "2022-08-03T16:21:35.308Z"
      },
      {
        "duration": 28821,
        "start_time": "2022-08-03T16:21:40.026Z"
      },
      {
        "duration": 1365,
        "start_time": "2022-08-03T16:22:18.529Z"
      },
      {
        "duration": 782,
        "start_time": "2022-08-03T16:22:19.895Z"
      },
      {
        "duration": 8,
        "start_time": "2022-08-03T16:22:20.679Z"
      },
      {
        "duration": 11,
        "start_time": "2022-08-03T16:22:20.690Z"
      },
      {
        "duration": 6,
        "start_time": "2022-08-03T16:22:20.702Z"
      },
      {
        "duration": 31,
        "start_time": "2022-08-03T16:22:20.738Z"
      },
      {
        "duration": 5,
        "start_time": "2022-08-03T16:22:20.771Z"
      },
      {
        "duration": 9,
        "start_time": "2022-08-03T16:22:20.777Z"
      },
      {
        "duration": 127,
        "start_time": "2022-08-03T16:22:20.788Z"
      },
      {
        "duration": 84,
        "start_time": "2022-08-03T16:22:20.918Z"
      },
      {
        "duration": 192,
        "start_time": "2022-08-03T16:22:21.004Z"
      },
      {
        "duration": 159,
        "start_time": "2022-08-03T16:22:21.197Z"
      },
      {
        "duration": 164,
        "start_time": "2022-08-03T16:22:21.358Z"
      },
      {
        "duration": 657,
        "start_time": "2022-08-03T16:22:21.524Z"
      },
      {
        "duration": 238,
        "start_time": "2022-08-03T16:22:22.183Z"
      },
      {
        "duration": 4,
        "start_time": "2022-08-03T16:22:22.422Z"
      },
      {
        "duration": 32,
        "start_time": "2022-08-03T16:22:22.427Z"
      },
      {
        "duration": 11,
        "start_time": "2022-08-03T16:22:22.460Z"
      },
      {
        "duration": 6,
        "start_time": "2022-08-03T16:22:22.472Z"
      },
      {
        "duration": 10,
        "start_time": "2022-08-03T16:22:22.480Z"
      },
      {
        "duration": 9509,
        "start_time": "2022-08-03T16:22:22.492Z"
      },
      {
        "duration": 11,
        "start_time": "2022-08-03T16:22:32.002Z"
      },
      {
        "duration": 10,
        "start_time": "2022-08-03T16:22:32.014Z"
      },
      {
        "duration": 104470,
        "start_time": "2022-08-03T16:22:32.038Z"
      },
      {
        "duration": 0,
        "start_time": "2022-08-03T16:24:16.510Z"
      },
      {
        "duration": 0,
        "start_time": "2022-08-03T16:24:16.511Z"
      },
      {
        "duration": 0,
        "start_time": "2022-08-03T16:24:16.512Z"
      },
      {
        "duration": 0,
        "start_time": "2022-08-03T16:24:16.513Z"
      },
      {
        "duration": 1305,
        "start_time": "2022-08-03T16:24:32.839Z"
      },
      {
        "duration": 814,
        "start_time": "2022-08-03T16:24:34.145Z"
      },
      {
        "duration": 8,
        "start_time": "2022-08-03T16:24:34.961Z"
      },
      {
        "duration": 9,
        "start_time": "2022-08-03T16:24:34.972Z"
      },
      {
        "duration": 7,
        "start_time": "2022-08-03T16:24:34.982Z"
      },
      {
        "duration": 59,
        "start_time": "2022-08-03T16:24:34.991Z"
      },
      {
        "duration": 5,
        "start_time": "2022-08-03T16:24:35.051Z"
      },
      {
        "duration": 19,
        "start_time": "2022-08-03T16:24:35.058Z"
      },
      {
        "duration": 117,
        "start_time": "2022-08-03T16:24:35.079Z"
      },
      {
        "duration": 79,
        "start_time": "2022-08-03T16:24:35.199Z"
      },
      {
        "duration": 188,
        "start_time": "2022-08-03T16:24:35.280Z"
      },
      {
        "duration": 154,
        "start_time": "2022-08-03T16:24:35.469Z"
      },
      {
        "duration": 175,
        "start_time": "2022-08-03T16:24:35.625Z"
      },
      {
        "duration": 699,
        "start_time": "2022-08-03T16:24:35.802Z"
      },
      {
        "duration": 244,
        "start_time": "2022-08-03T16:24:36.502Z"
      },
      {
        "duration": 3,
        "start_time": "2022-08-03T16:24:36.748Z"
      },
      {
        "duration": 33,
        "start_time": "2022-08-03T16:24:36.752Z"
      },
      {
        "duration": 13,
        "start_time": "2022-08-03T16:24:36.787Z"
      },
      {
        "duration": 34,
        "start_time": "2022-08-03T16:24:36.801Z"
      },
      {
        "duration": 13,
        "start_time": "2022-08-03T16:24:36.837Z"
      },
      {
        "duration": 11020,
        "start_time": "2022-08-03T16:24:36.852Z"
      },
      {
        "duration": 13,
        "start_time": "2022-08-03T16:24:47.874Z"
      },
      {
        "duration": 3,
        "start_time": "2022-08-03T16:24:47.888Z"
      },
      {
        "duration": 44917,
        "start_time": "2022-08-03T16:24:47.894Z"
      },
      {
        "duration": 0,
        "start_time": "2022-08-03T16:25:32.814Z"
      },
      {
        "duration": 0,
        "start_time": "2022-08-03T16:25:32.815Z"
      },
      {
        "duration": 0,
        "start_time": "2022-08-03T16:25:32.817Z"
      },
      {
        "duration": 0,
        "start_time": "2022-08-03T16:25:32.818Z"
      },
      {
        "duration": 1267,
        "start_time": "2022-08-03T16:26:04.113Z"
      },
      {
        "duration": 799,
        "start_time": "2022-08-03T16:26:05.382Z"
      },
      {
        "duration": 10,
        "start_time": "2022-08-03T16:26:06.183Z"
      },
      {
        "duration": 12,
        "start_time": "2022-08-03T16:26:06.195Z"
      },
      {
        "duration": 31,
        "start_time": "2022-08-03T16:26:06.208Z"
      },
      {
        "duration": 31,
        "start_time": "2022-08-03T16:26:06.241Z"
      },
      {
        "duration": 4,
        "start_time": "2022-08-03T16:26:06.274Z"
      },
      {
        "duration": 11,
        "start_time": "2022-08-03T16:26:06.280Z"
      },
      {
        "duration": 125,
        "start_time": "2022-08-03T16:26:06.293Z"
      },
      {
        "duration": 79,
        "start_time": "2022-08-03T16:26:06.421Z"
      },
      {
        "duration": 188,
        "start_time": "2022-08-03T16:26:06.502Z"
      },
      {
        "duration": 167,
        "start_time": "2022-08-03T16:26:06.692Z"
      },
      {
        "duration": 168,
        "start_time": "2022-08-03T16:26:06.862Z"
      },
      {
        "duration": 634,
        "start_time": "2022-08-03T16:26:07.038Z"
      },
      {
        "duration": 242,
        "start_time": "2022-08-03T16:26:07.674Z"
      },
      {
        "duration": 3,
        "start_time": "2022-08-03T16:26:07.917Z"
      },
      {
        "duration": 14,
        "start_time": "2022-08-03T16:26:07.921Z"
      },
      {
        "duration": 15,
        "start_time": "2022-08-03T16:26:07.937Z"
      },
      {
        "duration": 18,
        "start_time": "2022-08-03T16:26:07.953Z"
      },
      {
        "duration": 47,
        "start_time": "2022-08-03T16:26:07.973Z"
      },
      {
        "duration": 0,
        "start_time": "2022-08-03T16:26:08.021Z"
      },
      {
        "duration": 0,
        "start_time": "2022-08-03T16:26:08.022Z"
      },
      {
        "duration": 0,
        "start_time": "2022-08-03T16:26:08.023Z"
      },
      {
        "duration": 0,
        "start_time": "2022-08-03T16:26:08.024Z"
      },
      {
        "duration": 0,
        "start_time": "2022-08-03T16:26:08.025Z"
      },
      {
        "duration": 0,
        "start_time": "2022-08-03T16:26:08.026Z"
      },
      {
        "duration": 0,
        "start_time": "2022-08-03T16:26:08.027Z"
      },
      {
        "duration": 0,
        "start_time": "2022-08-03T16:26:08.028Z"
      },
      {
        "duration": 5,
        "start_time": "2022-08-03T16:26:43.819Z"
      },
      {
        "duration": 10075,
        "start_time": "2022-08-03T16:26:48.869Z"
      },
      {
        "duration": 3,
        "start_time": "2022-08-03T16:27:36.586Z"
      },
      {
        "duration": 20876,
        "start_time": "2022-08-03T16:27:40.331Z"
      },
      {
        "duration": 13,
        "start_time": "2022-08-03T16:28:08.272Z"
      },
      {
        "duration": 5,
        "start_time": "2022-08-03T16:29:03.221Z"
      },
      {
        "duration": 352164,
        "start_time": "2022-08-03T16:29:08.775Z"
      },
      {
        "duration": 1278,
        "start_time": "2022-08-03T16:35:08.823Z"
      },
      {
        "duration": 807,
        "start_time": "2022-08-03T16:35:10.102Z"
      },
      {
        "duration": 8,
        "start_time": "2022-08-03T16:35:10.911Z"
      },
      {
        "duration": 8,
        "start_time": "2022-08-03T16:35:10.939Z"
      },
      {
        "duration": 33,
        "start_time": "2022-08-03T16:35:10.948Z"
      },
      {
        "duration": 66,
        "start_time": "2022-08-03T16:35:10.983Z"
      },
      {
        "duration": 4,
        "start_time": "2022-08-03T16:35:11.050Z"
      },
      {
        "duration": 27,
        "start_time": "2022-08-03T16:35:11.055Z"
      },
      {
        "duration": 114,
        "start_time": "2022-08-03T16:35:11.084Z"
      },
      {
        "duration": 73,
        "start_time": "2022-08-03T16:35:11.201Z"
      },
      {
        "duration": 183,
        "start_time": "2022-08-03T16:35:11.276Z"
      },
      {
        "duration": 154,
        "start_time": "2022-08-03T16:35:11.460Z"
      },
      {
        "duration": 188,
        "start_time": "2022-08-03T16:35:11.616Z"
      },
      {
        "duration": 676,
        "start_time": "2022-08-03T16:35:11.806Z"
      },
      {
        "duration": 236,
        "start_time": "2022-08-03T16:35:12.484Z"
      },
      {
        "duration": 3,
        "start_time": "2022-08-03T16:35:12.722Z"
      },
      {
        "duration": 23,
        "start_time": "2022-08-03T16:35:12.726Z"
      },
      {
        "duration": 11,
        "start_time": "2022-08-03T16:35:12.750Z"
      },
      {
        "duration": 20,
        "start_time": "2022-08-03T16:35:12.762Z"
      },
      {
        "duration": 27,
        "start_time": "2022-08-03T16:35:12.783Z"
      },
      {
        "duration": 20973,
        "start_time": "2022-08-03T16:35:12.811Z"
      },
      {
        "duration": 12,
        "start_time": "2022-08-03T16:35:33.785Z"
      },
      {
        "duration": 4,
        "start_time": "2022-08-03T16:35:33.798Z"
      },
      {
        "duration": 466057,
        "start_time": "2022-08-03T16:35:33.803Z"
      },
      {
        "duration": 10,
        "start_time": "2022-08-03T16:43:19.862Z"
      },
      {
        "duration": 3,
        "start_time": "2022-08-03T16:43:19.874Z"
      },
      {
        "duration": 1262,
        "start_time": "2022-08-03T16:43:19.878Z"
      },
      {
        "duration": 101,
        "start_time": "2022-08-03T16:43:21.144Z"
      },
      {
        "duration": 506,
        "start_time": "2022-08-03T16:48:44.540Z"
      },
      {
        "duration": 99,
        "start_time": "2022-08-03T16:53:59.729Z"
      },
      {
        "duration": 13,
        "start_time": "2022-08-03T16:56:21.655Z"
      },
      {
        "duration": 7,
        "start_time": "2022-08-03T16:59:58.332Z"
      },
      {
        "duration": 7,
        "start_time": "2022-08-03T17:00:17.478Z"
      },
      {
        "duration": 4,
        "start_time": "2022-08-03T17:02:32.179Z"
      },
      {
        "duration": 12,
        "start_time": "2022-08-03T17:10:47.401Z"
      },
      {
        "duration": 15,
        "start_time": "2022-08-03T17:11:14.240Z"
      },
      {
        "duration": 1359,
        "start_time": "2022-08-03T17:25:09.559Z"
      },
      {
        "duration": 844,
        "start_time": "2022-08-03T17:25:10.920Z"
      },
      {
        "duration": 9,
        "start_time": "2022-08-03T17:25:11.765Z"
      },
      {
        "duration": 12,
        "start_time": "2022-08-03T17:25:11.775Z"
      },
      {
        "duration": 5,
        "start_time": "2022-08-03T17:25:11.789Z"
      },
      {
        "duration": 62,
        "start_time": "2022-08-03T17:25:11.796Z"
      },
      {
        "duration": 5,
        "start_time": "2022-08-03T17:25:11.860Z"
      },
      {
        "duration": 11,
        "start_time": "2022-08-03T17:25:11.867Z"
      },
      {
        "duration": 119,
        "start_time": "2022-08-03T17:25:11.879Z"
      },
      {
        "duration": 84,
        "start_time": "2022-08-03T17:25:12.000Z"
      },
      {
        "duration": 201,
        "start_time": "2022-08-03T17:25:12.086Z"
      },
      {
        "duration": 165,
        "start_time": "2022-08-03T17:25:12.289Z"
      },
      {
        "duration": 186,
        "start_time": "2022-08-03T17:25:12.456Z"
      },
      {
        "duration": 700,
        "start_time": "2022-08-03T17:25:12.645Z"
      },
      {
        "duration": 257,
        "start_time": "2022-08-03T17:25:13.347Z"
      },
      {
        "duration": 3,
        "start_time": "2022-08-03T17:25:13.605Z"
      },
      {
        "duration": 13,
        "start_time": "2022-08-03T17:25:13.610Z"
      },
      {
        "duration": 11,
        "start_time": "2022-08-03T17:25:13.625Z"
      },
      {
        "duration": 9,
        "start_time": "2022-08-03T17:25:13.637Z"
      },
      {
        "duration": 6,
        "start_time": "2022-08-03T17:25:13.648Z"
      },
      {
        "duration": 21960,
        "start_time": "2022-08-03T17:25:13.655Z"
      },
      {
        "duration": 33,
        "start_time": "2022-08-03T17:25:35.618Z"
      },
      {
        "duration": 5,
        "start_time": "2022-08-03T17:25:35.653Z"
      },
      {
        "duration": 496037,
        "start_time": "2022-08-03T17:25:35.659Z"
      },
      {
        "duration": 12,
        "start_time": "2022-08-03T17:33:51.698Z"
      },
      {
        "duration": 4,
        "start_time": "2022-08-03T17:33:51.712Z"
      },
      {
        "duration": 1544,
        "start_time": "2022-08-03T17:33:51.717Z"
      },
      {
        "duration": 108,
        "start_time": "2022-08-03T17:33:53.340Z"
      },
      {
        "duration": 291,
        "start_time": "2022-08-03T17:33:53.450Z"
      },
      {
        "duration": 108,
        "start_time": "2022-08-03T17:33:53.749Z"
      },
      {
        "duration": 192,
        "start_time": "2022-08-03T17:33:53.859Z"
      },
      {
        "duration": 13,
        "start_time": "2022-08-03T17:33:54.053Z"
      },
      {
        "duration": 1492,
        "start_time": "2022-08-04T15:16:04.790Z"
      },
      {
        "duration": 4189,
        "start_time": "2022-08-04T15:16:06.284Z"
      },
      {
        "duration": 9,
        "start_time": "2022-08-04T15:16:10.475Z"
      },
      {
        "duration": 9,
        "start_time": "2022-08-04T15:16:10.486Z"
      },
      {
        "duration": 7,
        "start_time": "2022-08-04T15:16:10.496Z"
      },
      {
        "duration": 56,
        "start_time": "2022-08-04T15:16:10.505Z"
      },
      {
        "duration": 5,
        "start_time": "2022-08-04T15:16:10.563Z"
      },
      {
        "duration": 11,
        "start_time": "2022-08-04T15:16:10.570Z"
      },
      {
        "duration": 113,
        "start_time": "2022-08-04T15:16:10.582Z"
      },
      {
        "duration": 74,
        "start_time": "2022-08-04T15:16:10.697Z"
      },
      {
        "duration": 177,
        "start_time": "2022-08-04T15:16:10.773Z"
      },
      {
        "duration": 151,
        "start_time": "2022-08-04T15:16:10.952Z"
      },
      {
        "duration": 165,
        "start_time": "2022-08-04T15:16:11.104Z"
      },
      {
        "duration": 656,
        "start_time": "2022-08-04T15:16:11.271Z"
      },
      {
        "duration": 225,
        "start_time": "2022-08-04T15:16:11.929Z"
      },
      {
        "duration": 3,
        "start_time": "2022-08-04T15:16:12.155Z"
      },
      {
        "duration": 11,
        "start_time": "2022-08-04T15:16:12.160Z"
      },
      {
        "duration": 11,
        "start_time": "2022-08-04T15:16:12.172Z"
      },
      {
        "duration": 3,
        "start_time": "2022-08-04T15:16:15.433Z"
      },
      {
        "duration": 4,
        "start_time": "2022-08-04T15:16:30.215Z"
      },
      {
        "duration": 18657,
        "start_time": "2022-08-04T15:16:38.620Z"
      },
      {
        "duration": 11,
        "start_time": "2022-08-04T15:17:01.181Z"
      },
      {
        "duration": 109,
        "start_time": "2022-08-04T15:17:27.664Z"
      },
      {
        "duration": 3,
        "start_time": "2022-08-04T15:17:48.715Z"
      },
      {
        "duration": 9,
        "start_time": "2022-08-04T15:23:44.997Z"
      },
      {
        "duration": 9,
        "start_time": "2022-08-04T15:23:58.629Z"
      },
      {
        "duration": 2,
        "start_time": "2022-08-04T15:24:11.216Z"
      },
      {
        "duration": 4,
        "start_time": "2022-08-04T15:24:44.528Z"
      },
      {
        "duration": 18548,
        "start_time": "2022-08-04T15:24:47.423Z"
      },
      {
        "duration": 11,
        "start_time": "2022-08-04T15:25:08.732Z"
      },
      {
        "duration": 4,
        "start_time": "2022-08-04T15:25:19.062Z"
      },
      {
        "duration": 466982,
        "start_time": "2022-08-04T15:26:01.671Z"
      },
      {
        "duration": 11,
        "start_time": "2022-08-04T15:33:54.810Z"
      },
      {
        "duration": 4,
        "start_time": "2022-08-04T15:34:23.188Z"
      },
      {
        "duration": 1280,
        "start_time": "2022-08-04T15:34:26.964Z"
      },
      {
        "duration": 9,
        "start_time": "2022-08-04T15:34:34.154Z"
      },
      {
        "duration": 1262,
        "start_time": "2022-08-04T15:38:28.151Z"
      },
      {
        "duration": 750,
        "start_time": "2022-08-04T15:38:29.414Z"
      },
      {
        "duration": 8,
        "start_time": "2022-08-04T15:38:30.166Z"
      },
      {
        "duration": 14,
        "start_time": "2022-08-04T15:38:30.176Z"
      },
      {
        "duration": 18,
        "start_time": "2022-08-04T15:38:30.192Z"
      },
      {
        "duration": 49,
        "start_time": "2022-08-04T15:38:30.212Z"
      },
      {
        "duration": 3,
        "start_time": "2022-08-04T15:38:30.263Z"
      },
      {
        "duration": 17,
        "start_time": "2022-08-04T15:38:30.268Z"
      },
      {
        "duration": 126,
        "start_time": "2022-08-04T15:38:30.286Z"
      },
      {
        "duration": 76,
        "start_time": "2022-08-04T15:38:30.414Z"
      },
      {
        "duration": 192,
        "start_time": "2022-08-04T15:38:30.492Z"
      },
      {
        "duration": 167,
        "start_time": "2022-08-04T15:38:30.686Z"
      },
      {
        "duration": 176,
        "start_time": "2022-08-04T15:38:30.855Z"
      },
      {
        "duration": 645,
        "start_time": "2022-08-04T15:38:31.038Z"
      },
      {
        "duration": 241,
        "start_time": "2022-08-04T15:38:31.684Z"
      },
      {
        "duration": 2,
        "start_time": "2022-08-04T15:38:34.998Z"
      },
      {
        "duration": 1285,
        "start_time": "2022-08-04T15:38:53.980Z"
      },
      {
        "duration": 747,
        "start_time": "2022-08-04T15:38:55.267Z"
      },
      {
        "duration": 28,
        "start_time": "2022-08-04T15:38:56.015Z"
      },
      {
        "duration": 17,
        "start_time": "2022-08-04T15:38:56.044Z"
      },
      {
        "duration": 6,
        "start_time": "2022-08-04T15:38:56.063Z"
      },
      {
        "duration": 32,
        "start_time": "2022-08-04T15:38:56.070Z"
      },
      {
        "duration": 4,
        "start_time": "2022-08-04T15:38:56.104Z"
      },
      {
        "duration": 36,
        "start_time": "2022-08-04T15:38:56.110Z"
      },
      {
        "duration": 115,
        "start_time": "2022-08-04T15:38:56.147Z"
      },
      {
        "duration": 77,
        "start_time": "2022-08-04T15:38:56.265Z"
      },
      {
        "duration": 190,
        "start_time": "2022-08-04T15:38:56.344Z"
      },
      {
        "duration": 155,
        "start_time": "2022-08-04T15:38:56.537Z"
      },
      {
        "duration": 177,
        "start_time": "2022-08-04T15:38:56.693Z"
      },
      {
        "duration": 602,
        "start_time": "2022-08-04T15:38:56.872Z"
      },
      {
        "duration": 231,
        "start_time": "2022-08-04T15:38:57.476Z"
      },
      {
        "duration": 4,
        "start_time": "2022-08-04T15:38:57.708Z"
      },
      {
        "duration": 3,
        "start_time": "2022-08-04T15:39:00.917Z"
      },
      {
        "duration": 5,
        "start_time": "2022-08-04T15:39:05.125Z"
      },
      {
        "duration": 3,
        "start_time": "2022-08-04T15:39:08.760Z"
      },
      {
        "duration": 4,
        "start_time": "2022-08-04T15:40:30.397Z"
      },
      {
        "duration": 18625,
        "start_time": "2022-08-04T15:40:38.555Z"
      },
      {
        "duration": 13,
        "start_time": "2022-08-04T15:41:45.451Z"
      },
      {
        "duration": 4,
        "start_time": "2022-08-04T15:42:48.644Z"
      },
      {
        "duration": 364191,
        "start_time": "2022-08-04T15:43:34.209Z"
      },
      {
        "duration": 12,
        "start_time": "2022-08-04T15:51:41.333Z"
      },
      {
        "duration": 4,
        "start_time": "2022-08-04T15:53:37.759Z"
      },
      {
        "duration": 1538,
        "start_time": "2022-08-04T15:53:40.616Z"
      },
      {
        "duration": 9,
        "start_time": "2022-08-04T15:53:57.816Z"
      },
      {
        "duration": 25829,
        "start_time": "2022-08-04T15:56:25.154Z"
      },
      {
        "duration": 31,
        "start_time": "2022-08-04T15:57:39.769Z"
      },
      {
        "duration": 7,
        "start_time": "2022-08-04T15:57:49.314Z"
      },
      {
        "duration": 9,
        "start_time": "2022-08-04T15:58:31.657Z"
      },
      {
        "duration": 102,
        "start_time": "2022-08-04T16:17:05.855Z"
      },
      {
        "duration": 630,
        "start_time": "2022-08-04T16:18:05.574Z"
      },
      {
        "duration": 623,
        "start_time": "2022-08-04T16:18:21.467Z"
      },
      {
        "duration": 655,
        "start_time": "2022-08-04T16:18:30.430Z"
      },
      {
        "duration": 658,
        "start_time": "2022-08-04T16:20:08.225Z"
      },
      {
        "duration": 1180,
        "start_time": "2022-08-04T16:21:27.018Z"
      },
      {
        "duration": 2075,
        "start_time": "2022-08-04T16:23:31.866Z"
      },
      {
        "duration": 2071,
        "start_time": "2022-08-04T16:23:41.248Z"
      },
      {
        "duration": 2103,
        "start_time": "2022-08-04T16:23:55.227Z"
      },
      {
        "duration": 181,
        "start_time": "2022-08-04T16:26:55.761Z"
      },
      {
        "duration": 16,
        "start_time": "2022-08-04T16:29:00.224Z"
      },
      {
        "duration": 14,
        "start_time": "2022-08-04T16:29:18.150Z"
      },
      {
        "duration": 15,
        "start_time": "2022-08-04T16:30:54.210Z"
      },
      {
        "duration": 16,
        "start_time": "2022-08-04T16:39:14.730Z"
      },
      {
        "duration": 17,
        "start_time": "2022-08-04T16:39:26.456Z"
      },
      {
        "duration": 1363,
        "start_time": "2022-08-04T16:40:55.961Z"
      },
      {
        "duration": 780,
        "start_time": "2022-08-04T16:40:57.326Z"
      },
      {
        "duration": 10,
        "start_time": "2022-08-04T16:40:58.107Z"
      },
      {
        "duration": 28,
        "start_time": "2022-08-04T16:40:58.119Z"
      },
      {
        "duration": 26,
        "start_time": "2022-08-04T16:40:58.149Z"
      },
      {
        "duration": 47,
        "start_time": "2022-08-04T16:40:58.177Z"
      },
      {
        "duration": 5,
        "start_time": "2022-08-04T16:40:58.226Z"
      },
      {
        "duration": 25,
        "start_time": "2022-08-04T16:40:58.233Z"
      },
      {
        "duration": 130,
        "start_time": "2022-08-04T16:40:58.261Z"
      },
      {
        "duration": 80,
        "start_time": "2022-08-04T16:40:58.393Z"
      },
      {
        "duration": 200,
        "start_time": "2022-08-04T16:40:58.474Z"
      },
      {
        "duration": 241,
        "start_time": "2022-08-04T16:40:58.676Z"
      },
      {
        "duration": 245,
        "start_time": "2022-08-04T16:40:58.919Z"
      },
      {
        "duration": 729,
        "start_time": "2022-08-04T16:40:59.166Z"
      },
      {
        "duration": 261,
        "start_time": "2022-08-04T16:40:59.897Z"
      },
      {
        "duration": 2241,
        "start_time": "2022-08-04T16:41:00.160Z"
      },
      {
        "duration": 4,
        "start_time": "2022-08-04T16:41:02.403Z"
      },
      {
        "duration": 10,
        "start_time": "2022-08-04T16:41:02.408Z"
      },
      {
        "duration": 7,
        "start_time": "2022-08-04T16:41:02.420Z"
      },
      {
        "duration": 7,
        "start_time": "2022-08-04T16:41:02.429Z"
      },
      {
        "duration": 6,
        "start_time": "2022-08-04T16:41:02.438Z"
      },
      {
        "duration": 19501,
        "start_time": "2022-08-04T16:41:02.445Z"
      },
      {
        "duration": 12,
        "start_time": "2022-08-04T16:41:21.949Z"
      },
      {
        "duration": 4,
        "start_time": "2022-08-04T16:41:21.962Z"
      },
      {
        "duration": 359348,
        "start_time": "2022-08-04T16:41:21.967Z"
      },
      {
        "duration": 27,
        "start_time": "2022-08-04T16:47:21.316Z"
      },
      {
        "duration": 3,
        "start_time": "2022-08-04T16:47:21.345Z"
      },
      {
        "duration": 1400,
        "start_time": "2022-08-04T16:47:21.352Z"
      },
      {
        "duration": 102,
        "start_time": "2022-08-04T16:47:22.839Z"
      },
      {
        "duration": 26066,
        "start_time": "2022-08-04T16:47:22.942Z"
      },
      {
        "duration": 51,
        "start_time": "2022-08-04T16:47:49.010Z"
      },
      {
        "duration": 9,
        "start_time": "2022-08-04T16:47:49.064Z"
      },
      {
        "duration": 14,
        "start_time": "2022-08-04T16:47:49.076Z"
      }
    ],
    "kernelspec": {
      "display_name": "Python 3 (ipykernel)",
      "language": "python",
      "name": "python3"
    },
    "language_info": {
      "codemirror_mode": {
        "name": "ipython",
        "version": 3
      },
      "file_extension": ".py",
      "mimetype": "text/x-python",
      "name": "python",
      "nbconvert_exporter": "python",
      "pygments_lexer": "ipython3",
      "version": "3.9.5"
    },
    "toc": {
      "base_numbering": 1,
      "nav_menu": {},
      "number_sections": true,
      "sideBar": true,
      "skip_h1_title": true,
      "title_cell": "Содержание",
      "title_sidebar": "Contents",
      "toc_cell": true,
      "toc_position": {
        "height": "calc(100% - 180px)",
        "left": "10px",
        "top": "150px",
        "width": "384px"
      },
      "toc_section_display": true,
      "toc_window_display": true
    },
    "colab": {
      "provenance": [],
      "toc_visible": true
    }
  },
  "nbformat": 4,
  "nbformat_minor": 0
}
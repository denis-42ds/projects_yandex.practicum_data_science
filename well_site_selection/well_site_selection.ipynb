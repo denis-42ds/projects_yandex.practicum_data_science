{
  "cells": [
    {
      "cell_type": "markdown",
      "metadata": {
        "id": "pa8KvxXOJARh"
      },
      "source": [
        "# Выбор локации для скважины"
      ]
    },
    {
      "cell_type": "markdown",
      "metadata": {
        "id": "AfTqatZGJARi"
      },
      "source": [
        "Допустим, вы работаете в добывающей компании «ГлавРосГосНефть». Нужно решить, где бурить новую скважину.\n",
        "\n",
        "Вам предоставлены пробы нефти в трёх регионах: в каждом 10 000 месторождений, где измерили качество нефти и объём её запасов. Постройте модель машинного обучения, которая поможет определить регион, где добыча принесёт наибольшую прибыль. Проанализируйте возможную прибыль и риски техникой *Bootstrap.*\n",
        "\n",
        "Шаги для выбора локации:\n",
        "\n",
        "- В избранном регионе ищут месторождения, для каждого определяют значения признаков;\n",
        "- Строят модель и оценивают объём запасов;\n",
        "- Выбирают месторождения с самым высокими оценками значений. Количество месторождений зависит от бюджета компании и стоимости разработки одной скважины;\n",
        "- Прибыль равна суммарной прибыли отобранных месторождений."
      ]
    },
    {
      "cell_type": "markdown",
      "metadata": {
        "id": "2iJMFEY6JARj"
      },
      "source": [
        "<b>Инструкция по выполнению проекта</b>\n",
        "\n",
        "1.Загрузите и подготовьте данные. Поясните порядок действий.\n",
        "\n",
        "2.Обучите и проверьте модель для каждого региона:\n",
        "\n",
        "    2.1. Разбейте данные на обучающую и валидационную выборки в соотношении 75:25.\n",
        "    2.2. Обучите модель и сделайте предсказания на валидационной выборке.\n",
        "    2.3. Сохраните предсказания и правильные ответы на валидационной выборке.\n",
        "    2.4. Напечатайте на экране средний запас предсказанного сырья и RMSE модели.\n",
        "    2.5. Проанализируйте результаты.\n",
        "\n",
        "3.Подготовьтесь к расчёту прибыли:\n",
        "\n",
        "    3.1. Все ключевые значения для расчётов сохраните в отдельных переменных.\n",
        "    3.2. Рассчитайте достаточный объём сырья для безубыточной разработки новой скважины. Сравните полученный объём сырья со средним запасом в каждом регионе.\n",
        "    3.3. Напишите выводы по этапу подготовки расчёта прибыли.\n",
        "\n",
        "4.Напишите функцию для расчёта прибыли по выбранным скважинам и предсказаниям модели:\n",
        "\n",
        "    4.1. Выберите скважины с максимальными значениями предсказаний.\n",
        "    4.2. Просуммируйте целевое значение объёма сырья, соответствующее этим предсказаниям.\n",
        "    4.3. Рассчитайте прибыль для полученного объёма сырья.\n",
        "\n",
        "5.Посчитайте риски и прибыль для каждого региона:\n",
        "\n",
        "    5.1. Примените технику Bootstrap с 1000 выборок, чтобы найти распределение прибыли.\n",
        "    5.2. Найдите среднюю прибыль, 95%-й доверительный интервал и риск убытков. Убыток — это отрицательная прибыль.\n",
        "    5.3. Напишите выводы: предложите регион для разработки скважин и обоснуйте выбор."
      ]
    },
    {
      "cell_type": "markdown",
      "metadata": {
        "id": "APJXTVuRJARl"
      },
      "source": [
        "<b>Описание данных</b>\n",
        "\n",
        "Данные геологоразведки трёх регионов находятся в файлах:\n",
        "\n",
        "/datasets/geo_data_0.csv.\n",
        "\n",
        "/datasets/geo_data_1.csv.\n",
        "\n",
        "/datasets/geo_data_2.csv.\n",
        "- id — уникальный идентификатор скважины;\n",
        "- f0, f1, f2 — три признака точек (неважно, что они означают, но сами признаки значимы);\n",
        "- product — объём запасов в скважине (тыс. баррелей).\n",
        "\n",
        "Условия задачи:\n",
        "- Для обучения модели подходит только линейная регрессия (остальные — недостаточно предсказуемые).\n",
        "- При разведке региона исследуют 500 точек, из которых с помощью машинного обучения выбирают 200 лучших для разработки.\n",
        "- Бюджет на разработку скважин в регионе — 10 млрд рублей.\n",
        "- При нынешних ценах один баррель сырья приносит 450 рублей дохода. Доход с каждой единицы продукта составляет 450 тыс. рублей, поскольку объём указан в тысячах баррелей.\n",
        "- После оценки рисков нужно оставить лишь те регионы, в которых вероятность убытков меньше 2.5%. Среди них выбирают регион с наибольшей средней прибылью.\n",
        "\n",
        "Данные синтетические: детали контрактов и характеристики месторождений не разглашаются."
      ]
    },
    {
      "cell_type": "markdown",
      "metadata": {
        "id": "gLtARh33JARp"
      },
      "source": [
        "## Загрузка и подготовка данных"
      ]
    },
    {
      "cell_type": "markdown",
      "metadata": {
        "id": "wAlG_bmYJARq"
      },
      "source": [
        "Импорт необходимых инструментов"
      ]
    },
    {
      "cell_type": "code",
      "execution_count": null,
      "metadata": {
        "id": "b65v8ooIJARr"
      },
      "outputs": [],
      "source": [
        "import pandas as pd\n",
        "import numpy as np\n",
        "from sklearn.model_selection import train_test_split\n",
        "from sklearn.linear_model import LinearRegression\n",
        "from sklearn.metrics import mean_squared_error"
      ]
    },
    {
      "cell_type": "markdown",
      "metadata": {
        "id": "SQ4QjPuSJARu"
      },
      "source": [
        "Загрузка данных и ознакомление с ними"
      ]
    },
    {
      "cell_type": "code",
      "execution_count": null,
      "metadata": {
        "scrolled": true,
        "id": "UbO1xpxcJARv",
        "outputId": "cc63b3db-c9ff-43a1-f74a-e5b692b7a4aa"
      },
      "outputs": [
        {
          "data": {
            "text/html": [
              "<div>\n",
              "<style scoped>\n",
              "    .dataframe tbody tr th:only-of-type {\n",
              "        vertical-align: middle;\n",
              "    }\n",
              "\n",
              "    .dataframe tbody tr th {\n",
              "        vertical-align: top;\n",
              "    }\n",
              "\n",
              "    .dataframe thead th {\n",
              "        text-align: right;\n",
              "    }\n",
              "</style>\n",
              "<table border=\"1\" class=\"dataframe\">\n",
              "  <thead>\n",
              "    <tr style=\"text-align: right;\">\n",
              "      <th></th>\n",
              "      <th>id</th>\n",
              "      <th>f0</th>\n",
              "      <th>f1</th>\n",
              "      <th>f2</th>\n",
              "      <th>product</th>\n",
              "    </tr>\n",
              "  </thead>\n",
              "  <tbody>\n",
              "    <tr>\n",
              "      <th>0</th>\n",
              "      <td>txEyH</td>\n",
              "      <td>0.705745</td>\n",
              "      <td>-0.497823</td>\n",
              "      <td>1.221170</td>\n",
              "      <td>105.280062</td>\n",
              "    </tr>\n",
              "    <tr>\n",
              "      <th>1</th>\n",
              "      <td>2acmU</td>\n",
              "      <td>1.334711</td>\n",
              "      <td>-0.340164</td>\n",
              "      <td>4.365080</td>\n",
              "      <td>73.037750</td>\n",
              "    </tr>\n",
              "    <tr>\n",
              "      <th>2</th>\n",
              "      <td>409Wp</td>\n",
              "      <td>1.022732</td>\n",
              "      <td>0.151990</td>\n",
              "      <td>1.419926</td>\n",
              "      <td>85.265647</td>\n",
              "    </tr>\n",
              "    <tr>\n",
              "      <th>3</th>\n",
              "      <td>iJLyR</td>\n",
              "      <td>-0.032172</td>\n",
              "      <td>0.139033</td>\n",
              "      <td>2.978566</td>\n",
              "      <td>168.620776</td>\n",
              "    </tr>\n",
              "    <tr>\n",
              "      <th>4</th>\n",
              "      <td>Xdl7t</td>\n",
              "      <td>1.988431</td>\n",
              "      <td>0.155413</td>\n",
              "      <td>4.751769</td>\n",
              "      <td>154.036647</td>\n",
              "    </tr>\n",
              "  </tbody>\n",
              "</table>\n",
              "</div>"
            ],
            "text/plain": [
              "      id        f0        f1        f2     product\n",
              "0  txEyH  0.705745 -0.497823  1.221170  105.280062\n",
              "1  2acmU  1.334711 -0.340164  4.365080   73.037750\n",
              "2  409Wp  1.022732  0.151990  1.419926   85.265647\n",
              "3  iJLyR -0.032172  0.139033  2.978566  168.620776\n",
              "4  Xdl7t  1.988431  0.155413  4.751769  154.036647"
            ]
          },
          "metadata": {},
          "output_type": "display_data"
        },
        {
          "name": "stdout",
          "output_type": "stream",
          "text": [
            "<class 'pandas.core.frame.DataFrame'>\n",
            "RangeIndex: 100000 entries, 0 to 99999\n",
            "Data columns (total 5 columns):\n",
            " #   Column   Non-Null Count   Dtype  \n",
            "---  ------   --------------   -----  \n",
            " 0   id       100000 non-null  object \n",
            " 1   f0       100000 non-null  float64\n",
            " 2   f1       100000 non-null  float64\n",
            " 3   f2       100000 non-null  float64\n",
            " 4   product  100000 non-null  float64\n",
            "dtypes: float64(4), object(1)\n",
            "memory usage: 3.8+ MB\n"
          ]
        },
        {
          "data": {
            "text/plain": [
              "None"
            ]
          },
          "metadata": {},
          "output_type": "display_data"
        },
        {
          "data": {
            "text/html": [
              "<div>\n",
              "<style scoped>\n",
              "    .dataframe tbody tr th:only-of-type {\n",
              "        vertical-align: middle;\n",
              "    }\n",
              "\n",
              "    .dataframe tbody tr th {\n",
              "        vertical-align: top;\n",
              "    }\n",
              "\n",
              "    .dataframe thead th {\n",
              "        text-align: right;\n",
              "    }\n",
              "</style>\n",
              "<table border=\"1\" class=\"dataframe\">\n",
              "  <thead>\n",
              "    <tr style=\"text-align: right;\">\n",
              "      <th></th>\n",
              "      <th>id</th>\n",
              "      <th>f0</th>\n",
              "      <th>f1</th>\n",
              "      <th>f2</th>\n",
              "      <th>product</th>\n",
              "    </tr>\n",
              "  </thead>\n",
              "  <tbody>\n",
              "    <tr>\n",
              "      <th>0</th>\n",
              "      <td>kBEdx</td>\n",
              "      <td>-15.001348</td>\n",
              "      <td>-8.276000</td>\n",
              "      <td>-0.005876</td>\n",
              "      <td>3.179103</td>\n",
              "    </tr>\n",
              "    <tr>\n",
              "      <th>1</th>\n",
              "      <td>62mP7</td>\n",
              "      <td>14.272088</td>\n",
              "      <td>-3.475083</td>\n",
              "      <td>0.999183</td>\n",
              "      <td>26.953261</td>\n",
              "    </tr>\n",
              "    <tr>\n",
              "      <th>2</th>\n",
              "      <td>vyE1P</td>\n",
              "      <td>6.263187</td>\n",
              "      <td>-5.948386</td>\n",
              "      <td>5.001160</td>\n",
              "      <td>134.766305</td>\n",
              "    </tr>\n",
              "    <tr>\n",
              "      <th>3</th>\n",
              "      <td>KcrkZ</td>\n",
              "      <td>-13.081196</td>\n",
              "      <td>-11.506057</td>\n",
              "      <td>4.999415</td>\n",
              "      <td>137.945408</td>\n",
              "    </tr>\n",
              "    <tr>\n",
              "      <th>4</th>\n",
              "      <td>AHL4O</td>\n",
              "      <td>12.702195</td>\n",
              "      <td>-8.147433</td>\n",
              "      <td>5.004363</td>\n",
              "      <td>134.766305</td>\n",
              "    </tr>\n",
              "  </tbody>\n",
              "</table>\n",
              "</div>"
            ],
            "text/plain": [
              "      id         f0         f1        f2     product\n",
              "0  kBEdx -15.001348  -8.276000 -0.005876    3.179103\n",
              "1  62mP7  14.272088  -3.475083  0.999183   26.953261\n",
              "2  vyE1P   6.263187  -5.948386  5.001160  134.766305\n",
              "3  KcrkZ -13.081196 -11.506057  4.999415  137.945408\n",
              "4  AHL4O  12.702195  -8.147433  5.004363  134.766305"
            ]
          },
          "metadata": {},
          "output_type": "display_data"
        },
        {
          "name": "stdout",
          "output_type": "stream",
          "text": [
            "<class 'pandas.core.frame.DataFrame'>\n",
            "RangeIndex: 100000 entries, 0 to 99999\n",
            "Data columns (total 5 columns):\n",
            " #   Column   Non-Null Count   Dtype  \n",
            "---  ------   --------------   -----  \n",
            " 0   id       100000 non-null  object \n",
            " 1   f0       100000 non-null  float64\n",
            " 2   f1       100000 non-null  float64\n",
            " 3   f2       100000 non-null  float64\n",
            " 4   product  100000 non-null  float64\n",
            "dtypes: float64(4), object(1)\n",
            "memory usage: 3.8+ MB\n"
          ]
        },
        {
          "data": {
            "text/plain": [
              "None"
            ]
          },
          "metadata": {},
          "output_type": "display_data"
        },
        {
          "data": {
            "text/html": [
              "<div>\n",
              "<style scoped>\n",
              "    .dataframe tbody tr th:only-of-type {\n",
              "        vertical-align: middle;\n",
              "    }\n",
              "\n",
              "    .dataframe tbody tr th {\n",
              "        vertical-align: top;\n",
              "    }\n",
              "\n",
              "    .dataframe thead th {\n",
              "        text-align: right;\n",
              "    }\n",
              "</style>\n",
              "<table border=\"1\" class=\"dataframe\">\n",
              "  <thead>\n",
              "    <tr style=\"text-align: right;\">\n",
              "      <th></th>\n",
              "      <th>id</th>\n",
              "      <th>f0</th>\n",
              "      <th>f1</th>\n",
              "      <th>f2</th>\n",
              "      <th>product</th>\n",
              "    </tr>\n",
              "  </thead>\n",
              "  <tbody>\n",
              "    <tr>\n",
              "      <th>0</th>\n",
              "      <td>fwXo0</td>\n",
              "      <td>-1.146987</td>\n",
              "      <td>0.963328</td>\n",
              "      <td>-0.828965</td>\n",
              "      <td>27.758673</td>\n",
              "    </tr>\n",
              "    <tr>\n",
              "      <th>1</th>\n",
              "      <td>WJtFt</td>\n",
              "      <td>0.262778</td>\n",
              "      <td>0.269839</td>\n",
              "      <td>-2.530187</td>\n",
              "      <td>56.069697</td>\n",
              "    </tr>\n",
              "    <tr>\n",
              "      <th>2</th>\n",
              "      <td>ovLUW</td>\n",
              "      <td>0.194587</td>\n",
              "      <td>0.289035</td>\n",
              "      <td>-5.586433</td>\n",
              "      <td>62.871910</td>\n",
              "    </tr>\n",
              "    <tr>\n",
              "      <th>3</th>\n",
              "      <td>q6cA6</td>\n",
              "      <td>2.236060</td>\n",
              "      <td>-0.553760</td>\n",
              "      <td>0.930038</td>\n",
              "      <td>114.572842</td>\n",
              "    </tr>\n",
              "    <tr>\n",
              "      <th>4</th>\n",
              "      <td>WPMUX</td>\n",
              "      <td>-0.515993</td>\n",
              "      <td>1.716266</td>\n",
              "      <td>5.899011</td>\n",
              "      <td>149.600746</td>\n",
              "    </tr>\n",
              "  </tbody>\n",
              "</table>\n",
              "</div>"
            ],
            "text/plain": [
              "      id        f0        f1        f2     product\n",
              "0  fwXo0 -1.146987  0.963328 -0.828965   27.758673\n",
              "1  WJtFt  0.262778  0.269839 -2.530187   56.069697\n",
              "2  ovLUW  0.194587  0.289035 -5.586433   62.871910\n",
              "3  q6cA6  2.236060 -0.553760  0.930038  114.572842\n",
              "4  WPMUX -0.515993  1.716266  5.899011  149.600746"
            ]
          },
          "metadata": {},
          "output_type": "display_data"
        },
        {
          "name": "stdout",
          "output_type": "stream",
          "text": [
            "<class 'pandas.core.frame.DataFrame'>\n",
            "RangeIndex: 100000 entries, 0 to 99999\n",
            "Data columns (total 5 columns):\n",
            " #   Column   Non-Null Count   Dtype  \n",
            "---  ------   --------------   -----  \n",
            " 0   id       100000 non-null  object \n",
            " 1   f0       100000 non-null  float64\n",
            " 2   f1       100000 non-null  float64\n",
            " 3   f2       100000 non-null  float64\n",
            " 4   product  100000 non-null  float64\n",
            "dtypes: float64(4), object(1)\n",
            "memory usage: 3.8+ MB\n"
          ]
        }
      ],
      "source": [
        "data_0 = pd.read_csv('/datasets/geo_data_0.csv')\n",
        "data_1 = pd.read_csv('/datasets/geo_data_1.csv')\n",
        "data_2 = pd.read_csv('/datasets/geo_data_2.csv')\n",
        "\n",
        "display(data_0.head())\n",
        "display(data_0.info())\n",
        "\n",
        "display(data_1.head())\n",
        "display(data_1.info())\n",
        "\n",
        "display(data_2.head())\n",
        "data_2.info()"
      ]
    },
    {
      "cell_type": "markdown",
      "metadata": {
        "id": "acr24i1AJARx"
      },
      "source": [
        "Проверка датафреймвов на наличие явных дубликатов"
      ]
    },
    {
      "cell_type": "code",
      "execution_count": null,
      "metadata": {
        "id": "ZW4MOAXjJARy",
        "outputId": "14e95ee7-307f-4cba-d1ad-fc1ee10accc1"
      },
      "outputs": [
        {
          "data": {
            "text/plain": [
              "0"
            ]
          },
          "metadata": {},
          "output_type": "display_data"
        },
        {
          "data": {
            "text/plain": [
              "0"
            ]
          },
          "metadata": {},
          "output_type": "display_data"
        },
        {
          "data": {
            "text/plain": [
              "0"
            ]
          },
          "execution_count": 3,
          "metadata": {},
          "output_type": "execute_result"
        }
      ],
      "source": [
        "display(data_0.duplicated().sum())\n",
        "display(data_1.duplicated().sum())\n",
        "data_2.duplicated().sum()"
      ]
    },
    {
      "cell_type": "markdown",
      "metadata": {
        "id": "2_j8Zb6nJARz"
      },
      "source": [
        "### Вывод"
      ]
    },
    {
      "cell_type": "markdown",
      "metadata": {
        "id": "xWZsS2z7JARz"
      },
      "source": [
        "- Пропусков в данных не обнаружено\n",
        "- Размер трёх выборок одинаковый\n",
        "- Дубликатов в данных не обнаружено\n",
        "- Данные представлены в одном мастштабе\n",
        "- Все признаки являются численными"
      ]
    },
    {
      "cell_type": "markdown",
      "metadata": {
        "id": "SC558TFxJAR0"
      },
      "source": [
        "## Обучение и проверка модели"
      ]
    },
    {
      "cell_type": "markdown",
      "metadata": {
        "id": "M0a3gx-rJAR1"
      },
      "source": [
        "### Работа с данными первого региона"
      ]
    },
    {
      "cell_type": "markdown",
      "metadata": {
        "id": "9i-vW5tuJAR1"
      },
      "source": [
        "#### Деление данных"
      ]
    },
    {
      "cell_type": "markdown",
      "metadata": {
        "id": "sHXkZLjnJAR2"
      },
      "source": [
        "Деление данных первого региона, используя функцию train_test_split на две выборки: обучающую (75%) и валидационную (25%).\n",
        "\n",
        "Вывод результатов на экран."
      ]
    },
    {
      "cell_type": "code",
      "execution_count": null,
      "metadata": {
        "id": "kAI-3U4DJAR2",
        "outputId": "780cf4a4-3bb9-464d-e565-80baebcf11f0"
      },
      "outputs": [
        {
          "data": {
            "text/plain": [
              "(75000, 5)"
            ]
          },
          "metadata": {},
          "output_type": "display_data"
        },
        {
          "data": {
            "text/plain": [
              "(25000, 5)"
            ]
          },
          "execution_count": 4,
          "metadata": {},
          "output_type": "execute_result"
        }
      ],
      "source": [
        "df_0_train, df_0_valid = train_test_split(data_0, test_size=.25, random_state=12345)\n",
        "display(df_0_train.shape)\n",
        "df_0_valid.shape"
      ]
    },
    {
      "cell_type": "markdown",
      "metadata": {
        "id": "3HC3f1ygJAR3"
      },
      "source": [
        "Запишем в обучающие признаки данные из обучающей выборки, исключив ненужные столбцы. В целевой признак внесём столбец *product*. Такую же процедуру проделаем с валидационной выборкой."
      ]
    },
    {
      "cell_type": "code",
      "execution_count": null,
      "metadata": {
        "id": "AkIzz5_OJAR3"
      },
      "outputs": [],
      "source": [
        "features_train_0 = df_0_train.drop(['id', 'product'], axis=1)\n",
        "target_train_0 = df_0_train['product']\n",
        "features_valid_0 = df_0_valid.drop(['id', 'product'], axis=1)\n",
        "target_valid_0 = df_0_valid['product']"
      ]
    },
    {
      "cell_type": "markdown",
      "metadata": {
        "id": "dp0hIdy5JAR5"
      },
      "source": [
        "#### Обучение модели"
      ]
    },
    {
      "cell_type": "markdown",
      "metadata": {
        "id": "xC7jii8NJAR5"
      },
      "source": [
        "Создание модели логистической регрессии, её обучение и сохранение предсказаний"
      ]
    },
    {
      "cell_type": "code",
      "execution_count": null,
      "metadata": {
        "id": "EyBEjyBOJAR5"
      },
      "outputs": [],
      "source": [
        "model_0 = LinearRegression()\n",
        "model_0.fit(features_train_0, target_train_0)\n",
        "predictions_valid_0 = model_0.predict(features_valid_0)"
      ]
    },
    {
      "cell_type": "markdown",
      "metadata": {
        "id": "UYnAK_jHJAR5"
      },
      "source": [
        "#### Вычисления корня из среднеквадратичной ошибки (RMSE)"
      ]
    },
    {
      "cell_type": "code",
      "execution_count": null,
      "metadata": {
        "id": "nOAIYTrmJAR6",
        "outputId": "cee7f455-6f79-4fe6-ec50-8a8943a81b60"
      },
      "outputs": [
        {
          "data": {
            "text/plain": [
              "37.5794217150813"
            ]
          },
          "execution_count": 7,
          "metadata": {},
          "output_type": "execute_result"
        }
      ],
      "source": [
        "rmse_0 = mean_squared_error(target_valid_0, predictions_valid_0) ** .5\n",
        "rmse_0"
      ]
    },
    {
      "cell_type": "markdown",
      "metadata": {
        "id": "4lPxnPexJAR6"
      },
      "source": [
        "#### Вычисление среднего запаса предсказанного сырья"
      ]
    },
    {
      "cell_type": "code",
      "execution_count": null,
      "metadata": {
        "id": "82BiJ-CQJAR6",
        "outputId": "3360bdec-fd50-4d88-8027-cfb9e9533e2f"
      },
      "outputs": [
        {
          "data": {
            "text/plain": [
              "92.59256778438035"
            ]
          },
          "execution_count": 8,
          "metadata": {},
          "output_type": "execute_result"
        }
      ],
      "source": [
        "product_pred_mean_0 = predictions_valid_0.mean()\n",
        "product_pred_mean_0"
      ]
    },
    {
      "cell_type": "markdown",
      "metadata": {
        "id": "-71zflSLJAR7"
      },
      "source": [
        "#### Вывод"
      ]
    },
    {
      "cell_type": "markdown",
      "metadata": {
        "id": "4y8L2LYyJAR7"
      },
      "source": [
        "- средний запас предсказанного сырья - 92.6\n",
        "- отклонение 37.6"
      ]
    },
    {
      "cell_type": "markdown",
      "metadata": {
        "id": "zj2GD_y2JAR7"
      },
      "source": [
        "### Работа с данными второго региона"
      ]
    },
    {
      "cell_type": "markdown",
      "metadata": {
        "id": "11jejPMwJAR8"
      },
      "source": [
        "#### Деление данных"
      ]
    },
    {
      "cell_type": "markdown",
      "metadata": {
        "id": "D89vOZZmJAR8"
      },
      "source": [
        "Деление данных второго региона, используя функцию train_test_split на две выборки: обучающую (75%) и валидационную (25%).\n",
        "\n",
        "Вывод результатов на экран."
      ]
    },
    {
      "cell_type": "code",
      "execution_count": null,
      "metadata": {
        "id": "ru9HsR3UJAR8",
        "outputId": "490bb83e-5f73-4e93-e4bb-b82f09138769"
      },
      "outputs": [
        {
          "data": {
            "text/plain": [
              "(75000, 5)"
            ]
          },
          "metadata": {},
          "output_type": "display_data"
        },
        {
          "data": {
            "text/plain": [
              "(25000, 5)"
            ]
          },
          "execution_count": 9,
          "metadata": {},
          "output_type": "execute_result"
        }
      ],
      "source": [
        "df_1_train, df_1_valid = train_test_split(data_1, test_size=.25, random_state=12345)\n",
        "display(df_1_train.shape)\n",
        "df_1_valid.shape"
      ]
    },
    {
      "cell_type": "markdown",
      "metadata": {
        "id": "moUVvoNJJAR8"
      },
      "source": [
        "Запишем в обучающие признаки данные из обучающей выборки, исключив ненужные столбцы. В целевой признак внесём столбец product. Такую же процедуру проделаем с валидационной выборкой."
      ]
    },
    {
      "cell_type": "code",
      "execution_count": null,
      "metadata": {
        "id": "ckT0pffSJAR9"
      },
      "outputs": [],
      "source": [
        "features_train_1 = df_1_train.drop(['id', 'product'], axis=1)\n",
        "target_train_1 = df_1_train['product']\n",
        "features_valid_1 = df_1_valid.drop(['id', 'product'], axis=1)\n",
        "target_valid_1 = df_1_valid['product']"
      ]
    },
    {
      "cell_type": "markdown",
      "metadata": {
        "id": "w-FfXGUHJAR9"
      },
      "source": [
        "#### Обучение модели"
      ]
    },
    {
      "cell_type": "markdown",
      "metadata": {
        "id": "jU5V8JKVJAR9"
      },
      "source": [
        "Создание модели логистической регрессии, её обучение и сохранение предсказаний"
      ]
    },
    {
      "cell_type": "code",
      "execution_count": null,
      "metadata": {
        "id": "2qNvx3RjJAR9"
      },
      "outputs": [],
      "source": [
        "model_1 = LinearRegression()\n",
        "model_1.fit(features_train_1, target_train_1)\n",
        "predictions_valid_1 = model_1.predict(features_valid_1)"
      ]
    },
    {
      "cell_type": "markdown",
      "metadata": {
        "id": "HTmMAUO5JAR-"
      },
      "source": [
        "#### Вычисления корня из среднеквадратичной ошибки (RMSE)"
      ]
    },
    {
      "cell_type": "code",
      "execution_count": null,
      "metadata": {
        "id": "FVk0J2y9JAR-",
        "outputId": "cfc5003c-4705-4171-c782-78f0aef28eb7"
      },
      "outputs": [
        {
          "data": {
            "text/plain": [
              "0.893099286775617"
            ]
          },
          "execution_count": 12,
          "metadata": {},
          "output_type": "execute_result"
        }
      ],
      "source": [
        "rmse_1 = mean_squared_error(target_valid_1, predictions_valid_1) ** .5\n",
        "rmse_1"
      ]
    },
    {
      "cell_type": "markdown",
      "metadata": {
        "id": "q3nbApvZJAR-"
      },
      "source": [
        "#### Вычисление среднего запаса предсказанного сырья"
      ]
    },
    {
      "cell_type": "code",
      "execution_count": null,
      "metadata": {
        "id": "WG1BDXnCJAR-",
        "outputId": "c1fd5f89-588b-4f03-e10c-1c727b95b64b"
      },
      "outputs": [
        {
          "data": {
            "text/plain": [
              "68.728546895446"
            ]
          },
          "execution_count": 13,
          "metadata": {},
          "output_type": "execute_result"
        }
      ],
      "source": [
        "product_pred_mean_1 = predictions_valid_1.mean()\n",
        "product_pred_mean_1"
      ]
    },
    {
      "cell_type": "markdown",
      "metadata": {
        "id": "Vp7nW7JYJAR_"
      },
      "source": [
        "#### Вывод"
      ]
    },
    {
      "cell_type": "markdown",
      "metadata": {
        "id": "jQuaIsG5JAR_"
      },
      "source": [
        "- средний запас предсказанного сырья 68.7\n",
        "- отклонение - 0.89"
      ]
    },
    {
      "cell_type": "markdown",
      "metadata": {
        "id": "9cjVggakJAR_"
      },
      "source": [
        "### Работа с данными третьего региона"
      ]
    },
    {
      "cell_type": "markdown",
      "metadata": {
        "id": "AiXez3puJAR_"
      },
      "source": [
        "#### Деление данных"
      ]
    },
    {
      "cell_type": "markdown",
      "metadata": {
        "id": "IxAMQjh1JASA"
      },
      "source": [
        "Деление данных третьего региона, используя функцию train_test_split на две выборки: обучающую (75%) и валидационную (25%).\n",
        "\n",
        "Вывод результатов на экран."
      ]
    },
    {
      "cell_type": "code",
      "execution_count": null,
      "metadata": {
        "id": "FgrR_uPdJASA",
        "outputId": "1b8340f1-5a66-4ddc-d99b-490a7dc630ed"
      },
      "outputs": [
        {
          "data": {
            "text/plain": [
              "(75000, 5)"
            ]
          },
          "metadata": {},
          "output_type": "display_data"
        },
        {
          "data": {
            "text/plain": [
              "(25000, 5)"
            ]
          },
          "execution_count": 14,
          "metadata": {},
          "output_type": "execute_result"
        }
      ],
      "source": [
        "df_2_train, df_2_valid = train_test_split(data_2, test_size=.25, random_state=12345)\n",
        "display(df_2_train.shape)\n",
        "df_2_valid.shape"
      ]
    },
    {
      "cell_type": "markdown",
      "metadata": {
        "id": "vJTY4i43JASA"
      },
      "source": [
        "Запишем в обучающие признаки данные из обучающей выборки, исключив ненужные столбцы. В целевой признак внесём столбец product. Такую же процедуру проделаем с валидационной выборкой."
      ]
    },
    {
      "cell_type": "code",
      "execution_count": null,
      "metadata": {
        "id": "z9Tu82ZnJASB"
      },
      "outputs": [],
      "source": [
        "features_train_2 = df_2_train.drop(['id', 'product'], axis=1)\n",
        "target_train_2 = df_2_train['product']\n",
        "features_valid_2 = df_2_valid.drop(['id', 'product'], axis=1)\n",
        "target_valid_2 = df_2_valid['product']"
      ]
    },
    {
      "cell_type": "markdown",
      "metadata": {
        "id": "NV5hylPpJASB"
      },
      "source": [
        "#### Обучение модели"
      ]
    },
    {
      "cell_type": "markdown",
      "metadata": {
        "id": "jdmT8j2FJASB"
      },
      "source": [
        "Создание модели логистической регрессии, её обучение и сохранение предсказаний"
      ]
    },
    {
      "cell_type": "code",
      "execution_count": null,
      "metadata": {
        "id": "mAzNZ4gqJASB"
      },
      "outputs": [],
      "source": [
        "model_2 = LinearRegression()\n",
        "model_2.fit(features_train_2, target_train_2)\n",
        "predictions_valid_2 = model_2.predict(features_valid_2)"
      ]
    },
    {
      "cell_type": "markdown",
      "metadata": {
        "id": "3880EY0XJASC"
      },
      "source": [
        "#### Вычисления корня из среднеквадратичной ошибки (RMSE)"
      ]
    },
    {
      "cell_type": "code",
      "execution_count": null,
      "metadata": {
        "id": "vAG0Udc8JASC",
        "outputId": "69aba14a-8851-4b20-897c-cba070fd197b"
      },
      "outputs": [
        {
          "data": {
            "text/plain": [
              "40.02970873393434"
            ]
          },
          "execution_count": 17,
          "metadata": {},
          "output_type": "execute_result"
        }
      ],
      "source": [
        "rmse_2 = mean_squared_error(target_valid_2, predictions_valid_2) ** .5\n",
        "rmse_2"
      ]
    },
    {
      "cell_type": "markdown",
      "metadata": {
        "id": "dBgnQo0RJASD"
      },
      "source": [
        "#### Вычисление среднего запаса предсказанного сырья"
      ]
    },
    {
      "cell_type": "code",
      "execution_count": null,
      "metadata": {
        "id": "BMtn0QCjJASD",
        "outputId": "5979a15d-1c49-4aab-ae55-7a2af9c27af9"
      },
      "outputs": [
        {
          "data": {
            "text/plain": [
              "94.96504596800489"
            ]
          },
          "execution_count": 18,
          "metadata": {},
          "output_type": "execute_result"
        }
      ],
      "source": [
        "product_pred_mean_2 = predictions_valid_2.mean()\n",
        "product_pred_mean_2"
      ]
    },
    {
      "cell_type": "markdown",
      "metadata": {
        "id": "55888-b6JASD"
      },
      "source": [
        "#### Вывод"
      ]
    },
    {
      "cell_type": "markdown",
      "metadata": {
        "id": "ujsgX9EiJASE"
      },
      "source": [
        "- средний запас предсказанного сырья - 95\n",
        "- отклонение - 40"
      ]
    },
    {
      "cell_type": "markdown",
      "metadata": {
        "id": "uUt-grk1JASE"
      },
      "source": [
        "### Вывод"
      ]
    },
    {
      "cell_type": "markdown",
      "metadata": {
        "id": "ZgQQBK-qJASE"
      },
      "source": [
        "- Для каждого региона обучена модель логистической регрессии и получены предсказания среднего запаса сырья в скважине\n",
        "- Предсказанный средний запас сырья в скважине первого региона 92.6 при отклонении 37.6\n",
        "- Предсказанный средний запас сырья в скважине второго региона 68.7 при отклонении 0.89\n",
        "- Предсказанный средний запас сырья в скважине третьего региона 95 при отконении 40\n",
        "- Наименьшее отклонение во втором регионе, но в нём в среднем меньше запасов сырья, следовательно, потребуются дополнительлные исследования"
      ]
    },
    {
      "cell_type": "markdown",
      "metadata": {
        "id": "JD69KiIvJASH"
      },
      "source": [
        "## Подготовка к расчёту прибыли"
      ]
    },
    {
      "cell_type": "markdown",
      "metadata": {
        "id": "5mciZHDtJASH"
      },
      "source": [
        "<b>Сохранение ключевых значений в отдельных переменных</b>"
      ]
    },
    {
      "cell_type": "markdown",
      "metadata": {
        "id": "FTuvbvGuJASI"
      },
      "source": [
        "Преобразование целевых признаков и предсказаний моделей в объект *Series*"
      ]
    },
    {
      "cell_type": "code",
      "execution_count": null,
      "metadata": {
        "id": "SV-ZnAdmJASI"
      },
      "outputs": [],
      "source": [
        "target_valid_0 = pd.Series(target_valid_0).reset_index(drop=True)\n",
        "predictions_valid_0 = pd.Series(predictions_valid_0).reset_index(drop=True)\n",
        "\n",
        "target_valid_1 = pd.Series(target_valid_1).reset_index(drop=True)\n",
        "predictions_valid_1 = pd.Series(predictions_valid_1).reset_index(drop=True)\n",
        "\n",
        "target_valid_2 = pd.Series(target_valid_2).reset_index(drop=True)\n",
        "predictions_valid_2 = pd.Series(predictions_valid_2).reset_index(drop=True)"
      ]
    },
    {
      "cell_type": "markdown",
      "metadata": {
        "id": "G7eLOh07JASJ"
      },
      "source": [
        "Предоставленные данные"
      ]
    },
    {
      "cell_type": "code",
      "execution_count": null,
      "metadata": {
        "id": "EidIXpS1JASJ"
      },
      "outputs": [],
      "source": [
        "UNIT_INCOME = 450000\n",
        "TOTAL_COUNT = 500\n",
        "COUNT = 200\n",
        "BUDGET = 10000000000\n",
        "SAMPLES_NUMBER = 1000"
      ]
    },
    {
      "cell_type": "markdown",
      "metadata": {
        "id": "wh9FGd8kJASL"
      },
      "source": [
        "<b>Достаточный объём сырья для безубыточной разработки новой скважины</b>"
      ]
    },
    {
      "cell_type": "markdown",
      "metadata": {
        "id": "aq-jyMv8JASL"
      },
      "source": [
        "Деление заложенного буджета на стоимоcть единицы продукта и на количество разрабатываемых скважин"
      ]
    },
    {
      "cell_type": "code",
      "execution_count": null,
      "metadata": {
        "scrolled": false,
        "id": "0TbAYgWFJASL",
        "outputId": "8177f545-da54-4c71-b0a9-8dde22098b81"
      },
      "outputs": [
        {
          "data": {
            "text/plain": [
              "111.11111111111111"
            ]
          },
          "metadata": {},
          "output_type": "display_data"
        }
      ],
      "source": [
        "enough_raw_oil = BUDGET / UNIT_INCOME /COUNT\n",
        "display(enough_raw_oil)"
      ]
    },
    {
      "cell_type": "markdown",
      "metadata": {
        "id": "sMo_jF0FJASL"
      },
      "source": [
        "### Вывод"
      ]
    },
    {
      "cell_type": "markdown",
      "metadata": {
        "id": "J30J-CSvJASM"
      },
      "source": [
        "Средний запас сырья скважин в каждом разрабатываемом регионе ниже необходимого для безубыточной разработки запаса:\n",
        "\n",
        "- Необходимый запас - 111"
      ]
    },
    {
      "cell_type": "markdown",
      "metadata": {
        "id": "QtnshoZtJASM"
      },
      "source": [
        "## Расчёт прибыли и рисков "
      ]
    },
    {
      "cell_type": "markdown",
      "metadata": {
        "id": "TYewMLNYJASM"
      },
      "source": [
        "### Создание функции для расчёта прибыли по выбранным скважинам и предсказаниям модели"
      ]
    },
    {
      "cell_type": "markdown",
      "metadata": {
        "id": "0yVRAk_ZJASN"
      },
      "source": [
        "- На вход функция принимает целевые значения объёмов запасов скважин, предсказания модели по запасам и количество точек для разработки.\n",
        "- В теле функции: выбор скважины с максимальными значениями предсказаний, суммирование целевых значений объёмов сырья, соответствующее этим предсказаниям.\n",
        "- На выходе: прибыль для полученного объёма сырья."
      ]
    },
    {
      "cell_type": "code",
      "execution_count": null,
      "metadata": {
        "id": "PzIshUb3JASN"
      },
      "outputs": [],
      "source": [
        "def revenue(target, predictions, COUNT):\n",
        "    preds_sorted = predictions.sort_values(ascending=False)\n",
        "    selected = target[preds_sorted.index][:COUNT]\n",
        "    return UNIT_INCOME * selected.sum() - BUDGET"
      ]
    },
    {
      "cell_type": "markdown",
      "metadata": {
        "id": "156Az31ZJASP"
      },
      "source": [
        "Проверка работоспособности функции"
      ]
    },
    {
      "cell_type": "code",
      "execution_count": null,
      "metadata": {
        "id": "5fMHawwYJASP",
        "outputId": "481ef582-9e1d-43e6-bf9e-ca1d032c9b2b"
      },
      "outputs": [
        {
          "data": {
            "text/plain": [
              "3320826043.1398506"
            ]
          },
          "execution_count": 23,
          "metadata": {},
          "output_type": "execute_result"
        }
      ],
      "source": [
        "revenue(target_valid_0, predictions_valid_0, COUNT)"
      ]
    },
    {
      "cell_type": "markdown",
      "metadata": {
        "id": "KpQqW-d2JASQ"
      },
      "source": [
        "### Расчёт рисков и прибыли для каждого региона"
      ]
    },
    {
      "cell_type": "markdown",
      "metadata": {
        "id": "KTs80v0QJASQ"
      },
      "source": [
        "Создание цикла, который расчитает прибыль и риски для регионов"
      ]
    },
    {
      "cell_type": "code",
      "execution_count": null,
      "metadata": {
        "id": "OjMduv0VJASR",
        "outputId": "d660c972-603d-4d33-954f-dfea81f7f3f7"
      },
      "outputs": [
        {
          "name": "stdout",
          "output_type": "stream",
          "text": [
            "Первый регион\n",
            "Средняя возможная прибыль: 396164984.8023711\n",
            "95%-доверительный интервал: от -111215545.89049526 до 909766941.5534226\n",
            "Вероятность убытков: 6.9 %\n",
            "Второй регион\n",
            "Средняя возможная прибыль: 461155817.2772397\n",
            "95%-доверительный интервал: от 78050810.7517417 до 862952060.2637234\n",
            "Вероятность убытков: 0.7000000000000001 %\n",
            "Третий регион\n",
            "Средняя возможная прибыль: 392950475.17060447\n",
            "95%-доверительный интервал: от -112227625.37857565 до 934562914.5511636\n",
            "Вероятность убытков: 6.5 %\n"
          ]
        }
      ],
      "source": [
        "target = [target_valid_0, target_valid_1, target_valid_2]\n",
        "predictions = [predictions_valid_0, predictions_valid_1, predictions_valid_2]\n",
        "regions = ['Первый регион', 'Второй регион', 'Третий регион']\n",
        "\n",
        "state = np.random.RandomState(12345)\n",
        "\n",
        "for m in range(len(target)):\n",
        "    values = []\n",
        "    for i in range(SAMPLES_NUMBER):\n",
        "        target_subsample = target[m].sample(n=TOTAL_COUNT, replace=True, random_state=state)\n",
        "        predictions_subsample = predictions[m].loc[target_subsample.index]\n",
        "        values.append(revenue(target_subsample.reset_index(drop=True), predictions_subsample.reset_index(drop=True), COUNT))\n",
        "\n",
        "    values = pd.Series(values)\n",
        "    lower = values.quantile(.025)\n",
        "    upper = values.quantile(.975)\n",
        "\n",
        "    mean = values.mean()\n",
        "    \n",
        "    loss_probability = sum(values < 0) / values.count() * 100\n",
        "    \n",
        "    print(regions[m])\n",
        "    print(\"Средняя возможная прибыль:\", mean)\n",
        "    print(\"95%-доверительный интервал:\", \"от\", lower, \"до\", upper)\n",
        "    print(\"Вероятность убытков:\", loss_probability, \"%\")\n",
        "    "
      ]
    },
    {
      "cell_type": "markdown",
      "metadata": {
        "id": "pULUfecXJAST"
      },
      "source": [
        "### Вывод"
      ]
    },
    {
      "cell_type": "markdown",
      "metadata": {
        "id": "XgB4nIDBJAST"
      },
      "source": [
        "- Чтобы найти распределение прибыли, применили технику Bootstrap с 1000 выборок\n",
        "- Вероятность убытков во втором регионе минимальная и возможная средняя прибыль у него самая высокая"
      ]
    },
    {
      "cell_type": "markdown",
      "metadata": {
        "id": "bZVwuZGPJASV"
      },
      "source": [
        "## Общий вывод"
      ]
    },
    {
      "cell_type": "markdown",
      "metadata": {
        "id": "3zJPVE_YJASV"
      },
      "source": [
        "- Для выполнения поставленной задачи были обработаны данные трёх регионов с 10000 месторождений в каждом.\n",
        "- Для составления прогноза по объёму запасов в каждом регионе была создана модель линейной регрессии.\n",
        "- Наиболее точные предсказания оказались у модели второго региона: средний запас сырья в скважине 68.7 при отклонении 0.89, предсказания по первому и третьему региону получились схожими между собой\n",
        "- Рассчитан достаточный объём сырья для безубыточной разработки новой скважины - 111\n",
        "- Для расчёта распределения прибыли применена техника *Bootstrap* с 1000 выборок, которая показала, что <b>наиболее подходящий для разработки регион - второй</b>, так как у него наименьшая вероятность убытков и наибольшая средняя возможная прибыль"
      ]
    }
  ],
  "metadata": {
    "ExecuteTimeLog": [
      {
        "duration": 458,
        "start_time": "2022-07-15T15:25:42.843Z"
      },
      {
        "duration": 1046,
        "start_time": "2022-07-15T15:33:25.053Z"
      },
      {
        "duration": 452,
        "start_time": "2022-07-15T15:33:58.065Z"
      },
      {
        "duration": 72,
        "start_time": "2022-07-15T15:48:43.431Z"
      },
      {
        "duration": 148,
        "start_time": "2022-07-15T15:49:16.471Z"
      },
      {
        "duration": 157,
        "start_time": "2022-07-15T15:49:33.846Z"
      },
      {
        "duration": 1214,
        "start_time": "2022-07-18T15:53:51.019Z"
      },
      {
        "duration": 1035,
        "start_time": "2022-07-18T15:53:52.235Z"
      },
      {
        "duration": 171,
        "start_time": "2022-07-18T15:53:53.272Z"
      },
      {
        "duration": 26,
        "start_time": "2022-07-18T15:53:53.454Z"
      },
      {
        "duration": 124,
        "start_time": "2022-07-18T15:53:53.482Z"
      },
      {
        "duration": 0,
        "start_time": "2022-07-18T15:53:53.607Z"
      },
      {
        "duration": 0,
        "start_time": "2022-07-18T15:53:53.609Z"
      },
      {
        "duration": 0,
        "start_time": "2022-07-18T15:53:53.610Z"
      },
      {
        "duration": 8,
        "start_time": "2022-07-18T15:54:22.769Z"
      },
      {
        "duration": 24,
        "start_time": "2022-07-18T15:54:35.687Z"
      },
      {
        "duration": 8,
        "start_time": "2022-07-18T15:54:44.341Z"
      },
      {
        "duration": 27,
        "start_time": "2022-07-18T15:54:48.063Z"
      },
      {
        "duration": 9,
        "start_time": "2022-07-18T15:54:54.591Z"
      },
      {
        "duration": 1270,
        "start_time": "2022-07-18T16:08:46.971Z"
      },
      {
        "duration": 563,
        "start_time": "2022-07-18T16:08:48.243Z"
      },
      {
        "duration": 218,
        "start_time": "2022-07-18T16:08:48.808Z"
      },
      {
        "duration": 43,
        "start_time": "2022-07-18T16:08:49.028Z"
      },
      {
        "duration": 31,
        "start_time": "2022-07-18T16:08:49.074Z"
      },
      {
        "duration": 115,
        "start_time": "2022-07-18T16:08:51.930Z"
      },
      {
        "duration": 17,
        "start_time": "2022-07-18T16:09:37.170Z"
      },
      {
        "duration": 1069,
        "start_time": "2022-07-18T16:11:04.719Z"
      },
      {
        "duration": 490,
        "start_time": "2022-07-18T16:11:05.790Z"
      },
      {
        "duration": 164,
        "start_time": "2022-07-18T16:11:06.282Z"
      },
      {
        "duration": 23,
        "start_time": "2022-07-18T16:11:06.448Z"
      },
      {
        "duration": 13,
        "start_time": "2022-07-18T16:11:06.473Z"
      },
      {
        "duration": 100,
        "start_time": "2022-07-18T16:11:17.224Z"
      },
      {
        "duration": 17,
        "start_time": "2022-07-18T16:15:20.521Z"
      },
      {
        "duration": 21,
        "start_time": "2022-07-18T16:18:04.115Z"
      },
      {
        "duration": 8,
        "start_time": "2022-07-18T16:18:07.505Z"
      },
      {
        "duration": 16,
        "start_time": "2022-07-18T16:19:12.017Z"
      },
      {
        "duration": 21,
        "start_time": "2022-07-18T16:20:51.166Z"
      },
      {
        "duration": 7,
        "start_time": "2022-07-18T16:20:54.122Z"
      },
      {
        "duration": 21,
        "start_time": "2022-07-18T16:21:49.554Z"
      },
      {
        "duration": 1144,
        "start_time": "2022-07-19T15:29:42.363Z"
      },
      {
        "duration": 2013,
        "start_time": "2022-07-19T15:29:43.509Z"
      },
      {
        "duration": 153,
        "start_time": "2022-07-19T15:29:45.523Z"
      },
      {
        "duration": 33,
        "start_time": "2022-07-19T15:29:45.678Z"
      },
      {
        "duration": 6,
        "start_time": "2022-07-19T15:29:45.713Z"
      },
      {
        "duration": 19,
        "start_time": "2022-07-19T15:29:45.721Z"
      },
      {
        "duration": 4,
        "start_time": "2022-07-19T15:29:49.620Z"
      },
      {
        "duration": 5,
        "start_time": "2022-07-19T15:30:01.143Z"
      },
      {
        "duration": 5,
        "start_time": "2022-07-19T15:30:13.127Z"
      },
      {
        "duration": 5,
        "start_time": "2022-07-19T15:30:28.286Z"
      },
      {
        "duration": 3,
        "start_time": "2022-07-19T15:36:29.662Z"
      },
      {
        "duration": 5,
        "start_time": "2022-07-19T15:36:57.748Z"
      },
      {
        "duration": 104,
        "start_time": "2022-07-19T15:37:25.712Z"
      },
      {
        "duration": 6,
        "start_time": "2022-07-19T15:37:34.420Z"
      },
      {
        "duration": 4,
        "start_time": "2022-07-19T15:37:48.365Z"
      },
      {
        "duration": 26,
        "start_time": "2022-07-19T15:51:16.397Z"
      },
      {
        "duration": 8,
        "start_time": "2022-07-19T15:51:19.142Z"
      },
      {
        "duration": 25,
        "start_time": "2022-07-19T15:51:21.941Z"
      },
      {
        "duration": 6,
        "start_time": "2022-07-19T15:51:24.619Z"
      },
      {
        "duration": 5,
        "start_time": "2022-07-19T15:51:30.899Z"
      },
      {
        "duration": 22,
        "start_time": "2022-07-19T15:51:48.020Z"
      },
      {
        "duration": 7,
        "start_time": "2022-07-19T15:51:50.675Z"
      },
      {
        "duration": 17,
        "start_time": "2022-07-19T15:51:53.005Z"
      },
      {
        "duration": 8,
        "start_time": "2022-07-19T15:51:56.883Z"
      },
      {
        "duration": 9,
        "start_time": "2022-07-19T15:52:00.080Z"
      },
      {
        "duration": 9,
        "start_time": "2022-07-19T15:52:17.401Z"
      },
      {
        "duration": 19,
        "start_time": "2022-07-19T15:52:22.275Z"
      },
      {
        "duration": 7,
        "start_time": "2022-07-19T15:52:24.698Z"
      },
      {
        "duration": 4,
        "start_time": "2022-07-19T15:52:28.515Z"
      },
      {
        "duration": 12,
        "start_time": "2022-07-20T15:51:46.164Z"
      },
      {
        "duration": 9,
        "start_time": "2022-07-20T15:53:49.564Z"
      },
      {
        "duration": 4,
        "start_time": "2022-07-20T15:54:50.070Z"
      },
      {
        "duration": 3,
        "start_time": "2022-07-20T15:55:54.487Z"
      },
      {
        "duration": 4,
        "start_time": "2022-07-20T15:56:11.358Z"
      },
      {
        "duration": 1143,
        "start_time": "2022-07-20T15:56:48.700Z"
      },
      {
        "duration": 2005,
        "start_time": "2022-07-20T15:56:49.845Z"
      },
      {
        "duration": 179,
        "start_time": "2022-07-20T15:56:51.852Z"
      },
      {
        "duration": 28,
        "start_time": "2022-07-20T15:56:52.034Z"
      },
      {
        "duration": 11,
        "start_time": "2022-07-20T15:56:52.065Z"
      },
      {
        "duration": 50,
        "start_time": "2022-07-20T15:56:52.080Z"
      },
      {
        "duration": 8,
        "start_time": "2022-07-20T15:56:52.204Z"
      },
      {
        "duration": 91,
        "start_time": "2022-07-20T15:56:52.214Z"
      },
      {
        "duration": 23,
        "start_time": "2022-07-20T15:56:52.307Z"
      },
      {
        "duration": 7,
        "start_time": "2022-07-20T15:56:52.332Z"
      },
      {
        "duration": 70,
        "start_time": "2022-07-20T15:56:52.341Z"
      },
      {
        "duration": 94,
        "start_time": "2022-07-20T15:56:52.414Z"
      },
      {
        "duration": 7,
        "start_time": "2022-07-20T15:56:52.510Z"
      },
      {
        "duration": 33,
        "start_time": "2022-07-20T15:56:52.519Z"
      },
      {
        "duration": 10,
        "start_time": "2022-07-20T15:56:52.605Z"
      },
      {
        "duration": 87,
        "start_time": "2022-07-20T15:56:52.617Z"
      },
      {
        "duration": 6,
        "start_time": "2022-07-20T15:56:52.706Z"
      },
      {
        "duration": 97,
        "start_time": "2022-07-20T15:56:52.716Z"
      },
      {
        "duration": 3,
        "start_time": "2022-07-20T16:17:42.549Z"
      },
      {
        "duration": 5,
        "start_time": "2022-07-20T16:39:17.766Z"
      },
      {
        "duration": 1220,
        "start_time": "2022-07-21T03:55:17.617Z"
      },
      {
        "duration": 963,
        "start_time": "2022-07-21T03:55:18.839Z"
      },
      {
        "duration": 143,
        "start_time": "2022-07-21T03:55:19.804Z"
      },
      {
        "duration": 34,
        "start_time": "2022-07-21T03:55:19.949Z"
      },
      {
        "duration": 9,
        "start_time": "2022-07-21T03:55:19.984Z"
      },
      {
        "duration": 77,
        "start_time": "2022-07-21T03:55:19.995Z"
      },
      {
        "duration": 92,
        "start_time": "2022-07-21T03:55:20.076Z"
      },
      {
        "duration": 17,
        "start_time": "2022-07-21T03:55:20.171Z"
      },
      {
        "duration": 32,
        "start_time": "2022-07-21T03:55:20.190Z"
      },
      {
        "duration": 8,
        "start_time": "2022-07-21T03:55:20.225Z"
      },
      {
        "duration": 46,
        "start_time": "2022-07-21T03:55:20.235Z"
      },
      {
        "duration": 85,
        "start_time": "2022-07-21T03:55:20.283Z"
      },
      {
        "duration": 107,
        "start_time": "2022-07-21T03:55:20.370Z"
      },
      {
        "duration": 27,
        "start_time": "2022-07-21T03:55:20.479Z"
      },
      {
        "duration": 7,
        "start_time": "2022-07-21T03:55:20.508Z"
      },
      {
        "duration": 51,
        "start_time": "2022-07-21T03:55:20.516Z"
      },
      {
        "duration": 5,
        "start_time": "2022-07-21T03:55:20.571Z"
      },
      {
        "duration": 108,
        "start_time": "2022-07-21T03:55:20.577Z"
      },
      {
        "duration": 15,
        "start_time": "2022-07-21T03:55:20.687Z"
      },
      {
        "duration": 9,
        "start_time": "2022-07-21T03:55:20.704Z"
      },
      {
        "duration": 7,
        "start_time": "2022-07-21T03:55:20.715Z"
      },
      {
        "duration": 120,
        "start_time": "2022-07-21T03:55:24.039Z"
      },
      {
        "duration": 3,
        "start_time": "2022-07-21T03:55:56.692Z"
      },
      {
        "duration": 9,
        "start_time": "2022-07-21T03:55:58.805Z"
      },
      {
        "duration": 1224,
        "start_time": "2022-07-21T04:06:05.447Z"
      },
      {
        "duration": 472,
        "start_time": "2022-07-21T04:06:06.675Z"
      },
      {
        "duration": 156,
        "start_time": "2022-07-21T04:06:07.148Z"
      },
      {
        "duration": 26,
        "start_time": "2022-07-21T04:06:07.306Z"
      },
      {
        "duration": 6,
        "start_time": "2022-07-21T04:06:07.334Z"
      },
      {
        "duration": 62,
        "start_time": "2022-07-21T04:06:07.342Z"
      },
      {
        "duration": 13,
        "start_time": "2022-07-21T04:06:07.462Z"
      },
      {
        "duration": 107,
        "start_time": "2022-07-21T04:06:07.477Z"
      },
      {
        "duration": 27,
        "start_time": "2022-07-21T04:06:07.585Z"
      },
      {
        "duration": 7,
        "start_time": "2022-07-21T04:06:07.614Z"
      },
      {
        "duration": 42,
        "start_time": "2022-07-21T04:06:07.624Z"
      },
      {
        "duration": 8,
        "start_time": "2022-07-21T04:06:07.677Z"
      },
      {
        "duration": 45,
        "start_time": "2022-07-21T04:06:07.761Z"
      },
      {
        "duration": 24,
        "start_time": "2022-07-21T04:06:07.808Z"
      },
      {
        "duration": 6,
        "start_time": "2022-07-21T04:06:07.834Z"
      },
      {
        "duration": 39,
        "start_time": "2022-07-21T04:06:07.842Z"
      },
      {
        "duration": 182,
        "start_time": "2022-07-21T04:06:07.886Z"
      },
      {
        "duration": 22,
        "start_time": "2022-07-21T04:06:08.072Z"
      },
      {
        "duration": 12,
        "start_time": "2022-07-21T04:06:08.096Z"
      },
      {
        "duration": 9,
        "start_time": "2022-07-21T04:06:08.110Z"
      },
      {
        "duration": 3,
        "start_time": "2022-07-21T04:06:11.777Z"
      },
      {
        "duration": 6,
        "start_time": "2022-07-21T04:07:32.660Z"
      },
      {
        "duration": 110,
        "start_time": "2022-07-21T04:07:36.840Z"
      },
      {
        "duration": 3,
        "start_time": "2022-07-21T04:08:10.429Z"
      },
      {
        "duration": 9,
        "start_time": "2022-07-21T04:08:14.244Z"
      },
      {
        "duration": 3,
        "start_time": "2022-07-21T04:09:42.036Z"
      },
      {
        "duration": 16,
        "start_time": "2022-07-21T04:09:44.726Z"
      },
      {
        "duration": 3,
        "start_time": "2022-07-21T04:09:51.777Z"
      },
      {
        "duration": 9,
        "start_time": "2022-07-21T04:09:54.697Z"
      },
      {
        "duration": 4,
        "start_time": "2022-07-21T04:10:06.113Z"
      },
      {
        "duration": 3,
        "start_time": "2022-07-21T04:10:09.381Z"
      },
      {
        "duration": 10,
        "start_time": "2022-07-21T04:10:11.541Z"
      },
      {
        "duration": 60,
        "start_time": "2022-07-21T15:22:00.446Z"
      },
      {
        "duration": 1091,
        "start_time": "2022-07-21T15:22:11.133Z"
      },
      {
        "duration": 2024,
        "start_time": "2022-07-21T15:22:12.225Z"
      },
      {
        "duration": 151,
        "start_time": "2022-07-21T15:22:14.250Z"
      },
      {
        "duration": 19,
        "start_time": "2022-07-21T15:22:14.403Z"
      },
      {
        "duration": 7,
        "start_time": "2022-07-21T15:22:14.424Z"
      },
      {
        "duration": 25,
        "start_time": "2022-07-21T15:22:14.451Z"
      },
      {
        "duration": 81,
        "start_time": "2022-07-21T15:22:14.478Z"
      },
      {
        "duration": 99,
        "start_time": "2022-07-21T15:22:14.560Z"
      },
      {
        "duration": 31,
        "start_time": "2022-07-21T15:22:14.663Z"
      },
      {
        "duration": 6,
        "start_time": "2022-07-21T15:22:14.697Z"
      },
      {
        "duration": 18,
        "start_time": "2022-07-21T15:22:14.705Z"
      },
      {
        "duration": 5,
        "start_time": "2022-07-21T15:22:14.760Z"
      },
      {
        "duration": 94,
        "start_time": "2022-07-21T15:22:14.766Z"
      },
      {
        "duration": 34,
        "start_time": "2022-07-21T15:22:14.863Z"
      },
      {
        "duration": 7,
        "start_time": "2022-07-21T15:22:14.899Z"
      },
      {
        "duration": 45,
        "start_time": "2022-07-21T15:22:14.908Z"
      },
      {
        "duration": 6,
        "start_time": "2022-07-21T15:22:14.954Z"
      },
      {
        "duration": 123,
        "start_time": "2022-07-21T15:22:14.961Z"
      },
      {
        "duration": 8,
        "start_time": "2022-07-21T15:22:15.085Z"
      },
      {
        "duration": 4,
        "start_time": "2022-07-21T15:22:15.095Z"
      },
      {
        "duration": 7,
        "start_time": "2022-07-21T15:22:15.101Z"
      },
      {
        "duration": 4,
        "start_time": "2022-07-21T15:22:15.110Z"
      },
      {
        "duration": 50,
        "start_time": "2022-07-21T15:22:15.115Z"
      },
      {
        "duration": 98,
        "start_time": "2022-07-21T15:22:17.841Z"
      },
      {
        "duration": 1050,
        "start_time": "2022-07-21T15:25:28.674Z"
      },
      {
        "duration": 483,
        "start_time": "2022-07-21T15:25:29.726Z"
      },
      {
        "duration": 153,
        "start_time": "2022-07-21T15:25:30.211Z"
      },
      {
        "duration": 21,
        "start_time": "2022-07-21T15:25:30.369Z"
      },
      {
        "duration": 22,
        "start_time": "2022-07-21T15:25:30.391Z"
      },
      {
        "duration": 20,
        "start_time": "2022-07-21T15:25:30.415Z"
      },
      {
        "duration": 106,
        "start_time": "2022-07-21T15:25:30.462Z"
      },
      {
        "duration": 18,
        "start_time": "2022-07-21T15:25:30.570Z"
      },
      {
        "duration": 71,
        "start_time": "2022-07-21T15:25:30.590Z"
      },
      {
        "duration": 8,
        "start_time": "2022-07-21T15:25:30.665Z"
      },
      {
        "duration": 31,
        "start_time": "2022-07-21T15:25:30.675Z"
      },
      {
        "duration": 156,
        "start_time": "2022-07-21T15:25:30.708Z"
      },
      {
        "duration": 11,
        "start_time": "2022-07-21T15:25:30.866Z"
      },
      {
        "duration": 30,
        "start_time": "2022-07-21T15:25:30.879Z"
      },
      {
        "duration": 8,
        "start_time": "2022-07-21T15:25:30.910Z"
      },
      {
        "duration": 39,
        "start_time": "2022-07-21T15:25:30.920Z"
      },
      {
        "duration": 5,
        "start_time": "2022-07-21T15:25:30.961Z"
      },
      {
        "duration": 118,
        "start_time": "2022-07-21T15:25:30.969Z"
      },
      {
        "duration": 29,
        "start_time": "2022-07-21T15:25:31.089Z"
      },
      {
        "duration": 15,
        "start_time": "2022-07-21T15:25:31.120Z"
      },
      {
        "duration": 12,
        "start_time": "2022-07-21T15:25:31.137Z"
      },
      {
        "duration": 25,
        "start_time": "2022-07-21T15:25:31.151Z"
      },
      {
        "duration": 43,
        "start_time": "2022-07-21T15:25:31.178Z"
      },
      {
        "duration": 131,
        "start_time": "2022-07-21T15:25:31.223Z"
      },
      {
        "duration": 821,
        "start_time": "2022-07-21T15:26:12.627Z"
      },
      {
        "duration": 10,
        "start_time": "2022-07-21T15:33:22.026Z"
      },
      {
        "duration": 2427,
        "start_time": "2022-07-21T15:33:38.473Z"
      },
      {
        "duration": 2682,
        "start_time": "2022-07-21T15:34:22.667Z"
      },
      {
        "duration": 2448,
        "start_time": "2022-07-21T15:35:05.750Z"
      },
      {
        "duration": 72,
        "start_time": "2022-07-21T15:36:47.424Z"
      },
      {
        "duration": 2352,
        "start_time": "2022-07-21T15:36:57.322Z"
      },
      {
        "duration": 1051,
        "start_time": "2022-07-21T15:39:46.079Z"
      },
      {
        "duration": 464,
        "start_time": "2022-07-21T15:39:47.132Z"
      },
      {
        "duration": 146,
        "start_time": "2022-07-21T15:39:47.598Z"
      },
      {
        "duration": 22,
        "start_time": "2022-07-21T15:39:47.751Z"
      },
      {
        "duration": 7,
        "start_time": "2022-07-21T15:39:47.774Z"
      },
      {
        "duration": 28,
        "start_time": "2022-07-21T15:39:47.783Z"
      },
      {
        "duration": 10,
        "start_time": "2022-07-21T15:39:47.864Z"
      },
      {
        "duration": 84,
        "start_time": "2022-07-21T15:39:47.875Z"
      },
      {
        "duration": 23,
        "start_time": "2022-07-21T15:39:47.961Z"
      },
      {
        "duration": 6,
        "start_time": "2022-07-21T15:39:47.987Z"
      },
      {
        "duration": 63,
        "start_time": "2022-07-21T15:39:47.995Z"
      },
      {
        "duration": 8,
        "start_time": "2022-07-21T15:39:48.060Z"
      },
      {
        "duration": 95,
        "start_time": "2022-07-21T15:39:48.069Z"
      },
      {
        "duration": 29,
        "start_time": "2022-07-21T15:39:48.166Z"
      },
      {
        "duration": 5,
        "start_time": "2022-07-21T15:39:48.197Z"
      },
      {
        "duration": 19,
        "start_time": "2022-07-21T15:39:48.203Z"
      },
      {
        "duration": 8,
        "start_time": "2022-07-21T15:39:48.253Z"
      },
      {
        "duration": 97,
        "start_time": "2022-07-21T15:39:48.262Z"
      },
      {
        "duration": 16,
        "start_time": "2022-07-21T15:39:48.361Z"
      },
      {
        "duration": 3,
        "start_time": "2022-07-21T15:39:48.379Z"
      },
      {
        "duration": 6,
        "start_time": "2022-07-21T15:39:48.383Z"
      },
      {
        "duration": 4,
        "start_time": "2022-07-21T15:39:48.390Z"
      },
      {
        "duration": 13,
        "start_time": "2022-07-21T15:39:48.396Z"
      },
      {
        "duration": 3829,
        "start_time": "2022-07-21T15:39:48.410Z"
      },
      {
        "duration": 3922,
        "start_time": "2022-07-21T15:40:29.014Z"
      },
      {
        "duration": 3957,
        "start_time": "2022-07-21T15:43:34.314Z"
      },
      {
        "duration": 3970,
        "start_time": "2022-07-21T15:44:33.561Z"
      },
      {
        "duration": 3734,
        "start_time": "2022-07-21T15:49:16.212Z"
      },
      {
        "duration": 4110,
        "start_time": "2022-07-21T15:49:45.200Z"
      },
      {
        "duration": 4189,
        "start_time": "2022-07-21T15:56:46.468Z"
      },
      {
        "duration": 4063,
        "start_time": "2022-07-21T16:09:05.826Z"
      },
      {
        "duration": 3989,
        "start_time": "2022-07-21T16:24:05.269Z"
      },
      {
        "duration": 4,
        "start_time": "2022-07-21T16:37:36.364Z"
      },
      {
        "duration": 4,
        "start_time": "2022-07-21T16:37:45.747Z"
      },
      {
        "duration": 5,
        "start_time": "2022-07-21T16:38:23.031Z"
      },
      {
        "duration": 1260,
        "start_time": "2022-07-21T17:33:06.192Z"
      },
      {
        "duration": 499,
        "start_time": "2022-07-21T17:33:08.687Z"
      },
      {
        "duration": 147,
        "start_time": "2022-07-21T17:33:12.188Z"
      },
      {
        "duration": 22,
        "start_time": "2022-07-21T17:33:49.988Z"
      },
      {
        "duration": 7,
        "start_time": "2022-07-21T17:34:09.212Z"
      },
      {
        "duration": 15,
        "start_time": "2022-07-21T17:44:58.717Z"
      },
      {
        "duration": 16,
        "start_time": "2022-07-21T17:45:28.460Z"
      },
      {
        "duration": 14,
        "start_time": "2022-07-21T17:46:21.480Z"
      },
      {
        "duration": 5,
        "start_time": "2022-07-21T17:46:41.275Z"
      },
      {
        "duration": 4,
        "start_time": "2022-07-21T17:47:10.812Z"
      },
      {
        "duration": 26,
        "start_time": "2022-07-21T17:47:38.959Z"
      },
      {
        "duration": 10,
        "start_time": "2022-07-21T17:47:40.647Z"
      },
      {
        "duration": 23,
        "start_time": "2022-07-21T17:47:43.769Z"
      },
      {
        "duration": 6,
        "start_time": "2022-07-21T17:47:46.142Z"
      },
      {
        "duration": 5,
        "start_time": "2022-07-21T17:47:51.055Z"
      },
      {
        "duration": 35,
        "start_time": "2022-07-21T17:48:14.675Z"
      },
      {
        "duration": 10,
        "start_time": "2022-07-21T17:48:15.617Z"
      },
      {
        "duration": 25,
        "start_time": "2022-07-21T17:48:19.457Z"
      },
      {
        "duration": 7,
        "start_time": "2022-07-21T17:48:20.279Z"
      },
      {
        "duration": 4,
        "start_time": "2022-07-21T17:48:23.246Z"
      },
      {
        "duration": 7,
        "start_time": "2022-07-21T17:53:29.796Z"
      },
      {
        "duration": 4,
        "start_time": "2022-07-21T17:53:50.550Z"
      },
      {
        "duration": 4,
        "start_time": "2022-07-21T17:55:08.686Z"
      },
      {
        "duration": 3,
        "start_time": "2022-07-21T17:57:54.335Z"
      },
      {
        "duration": 4,
        "start_time": "2022-07-21T17:58:55.605Z"
      },
      {
        "duration": 12,
        "start_time": "2022-07-21T17:58:57.397Z"
      },
      {
        "duration": 4,
        "start_time": "2022-07-21T17:59:27.787Z"
      },
      {
        "duration": 3,
        "start_time": "2022-07-21T17:59:37.003Z"
      },
      {
        "duration": 11,
        "start_time": "2022-07-21T17:59:37.992Z"
      },
      {
        "duration": 4061,
        "start_time": "2022-07-21T18:00:04.108Z"
      },
      {
        "duration": 3392,
        "start_time": "2022-07-21T18:02:17.647Z"
      },
      {
        "duration": 4004,
        "start_time": "2022-07-21T18:03:06.158Z"
      },
      {
        "duration": 4,
        "start_time": "2022-07-21T18:03:21.327Z"
      },
      {
        "duration": 11,
        "start_time": "2022-07-21T18:03:22.249Z"
      },
      {
        "duration": 1092,
        "start_time": "2022-07-22T15:50:56.561Z"
      },
      {
        "duration": 1949,
        "start_time": "2022-07-22T15:50:57.656Z"
      },
      {
        "duration": 129,
        "start_time": "2022-07-22T15:50:59.607Z"
      },
      {
        "duration": 32,
        "start_time": "2022-07-22T15:50:59.737Z"
      },
      {
        "duration": 7,
        "start_time": "2022-07-22T15:50:59.771Z"
      },
      {
        "duration": 19,
        "start_time": "2022-07-22T15:50:59.779Z"
      },
      {
        "duration": 57,
        "start_time": "2022-07-22T15:50:59.799Z"
      },
      {
        "duration": 100,
        "start_time": "2022-07-22T15:50:59.859Z"
      },
      {
        "duration": 22,
        "start_time": "2022-07-22T15:50:59.961Z"
      },
      {
        "duration": 6,
        "start_time": "2022-07-22T15:50:59.985Z"
      },
      {
        "duration": 21,
        "start_time": "2022-07-22T15:50:59.994Z"
      },
      {
        "duration": 8,
        "start_time": "2022-07-22T15:51:00.054Z"
      },
      {
        "duration": 14,
        "start_time": "2022-07-22T15:51:00.151Z"
      },
      {
        "duration": 35,
        "start_time": "2022-07-22T15:51:00.168Z"
      },
      {
        "duration": 7,
        "start_time": "2022-07-22T15:51:00.204Z"
      },
      {
        "duration": 40,
        "start_time": "2022-07-22T15:51:00.213Z"
      },
      {
        "duration": 5,
        "start_time": "2022-07-22T15:51:00.255Z"
      },
      {
        "duration": 93,
        "start_time": "2022-07-22T15:51:00.262Z"
      },
      {
        "duration": 18,
        "start_time": "2022-07-22T15:51:00.356Z"
      },
      {
        "duration": 12,
        "start_time": "2022-07-22T15:51:00.375Z"
      },
      {
        "duration": 14,
        "start_time": "2022-07-22T15:51:00.389Z"
      },
      {
        "duration": 3,
        "start_time": "2022-07-22T15:51:09.618Z"
      },
      {
        "duration": 97,
        "start_time": "2022-07-22T15:51:21.268Z"
      },
      {
        "duration": 3,
        "start_time": "2022-07-22T15:51:44.196Z"
      },
      {
        "duration": 11,
        "start_time": "2022-07-22T15:51:47.773Z"
      },
      {
        "duration": 14,
        "start_time": "2022-07-22T15:52:22.384Z"
      },
      {
        "duration": 4062,
        "start_time": "2022-07-22T15:53:08.366Z"
      },
      {
        "duration": 923,
        "start_time": "2022-07-23T07:49:02.513Z"
      },
      {
        "duration": 1553,
        "start_time": "2022-07-23T07:49:03.438Z"
      },
      {
        "duration": 136,
        "start_time": "2022-07-23T07:49:04.992Z"
      },
      {
        "duration": 27,
        "start_time": "2022-07-23T07:49:05.130Z"
      },
      {
        "duration": 6,
        "start_time": "2022-07-23T07:49:05.158Z"
      },
      {
        "duration": 20,
        "start_time": "2022-07-23T07:49:05.165Z"
      },
      {
        "duration": 5,
        "start_time": "2022-07-23T07:49:05.254Z"
      },
      {
        "duration": 101,
        "start_time": "2022-07-23T07:49:05.260Z"
      },
      {
        "duration": 22,
        "start_time": "2022-07-23T07:49:05.362Z"
      },
      {
        "duration": 5,
        "start_time": "2022-07-23T07:49:05.386Z"
      },
      {
        "duration": 17,
        "start_time": "2022-07-23T07:49:05.392Z"
      },
      {
        "duration": 4,
        "start_time": "2022-07-23T07:49:05.453Z"
      },
      {
        "duration": 103,
        "start_time": "2022-07-23T07:49:05.459Z"
      },
      {
        "duration": 24,
        "start_time": "2022-07-23T07:49:05.563Z"
      },
      {
        "duration": 6,
        "start_time": "2022-07-23T07:49:05.589Z"
      },
      {
        "duration": 28,
        "start_time": "2022-07-23T07:49:05.596Z"
      },
      {
        "duration": 5,
        "start_time": "2022-07-23T07:49:05.651Z"
      },
      {
        "duration": 105,
        "start_time": "2022-07-23T07:49:05.657Z"
      },
      {
        "duration": 11,
        "start_time": "2022-07-23T07:49:05.764Z"
      },
      {
        "duration": 6,
        "start_time": "2022-07-23T07:49:05.776Z"
      },
      {
        "duration": 5,
        "start_time": "2022-07-23T07:49:05.783Z"
      },
      {
        "duration": 3,
        "start_time": "2022-07-23T07:49:05.790Z"
      },
      {
        "duration": 11,
        "start_time": "2022-07-23T07:49:05.794Z"
      },
      {
        "duration": 3487,
        "start_time": "2022-07-23T07:49:08.764Z"
      },
      {
        "duration": 1327,
        "start_time": "2022-07-23T07:49:46.790Z"
      },
      {
        "duration": 3796,
        "start_time": "2022-07-23T07:50:21.724Z"
      },
      {
        "duration": 3804,
        "start_time": "2022-07-23T07:52:45.928Z"
      },
      {
        "duration": 1215,
        "start_time": "2022-07-23T07:53:15.199Z"
      },
      {
        "duration": 4130,
        "start_time": "2022-07-23T07:53:23.827Z"
      },
      {
        "duration": 3906,
        "start_time": "2022-07-23T07:54:22.474Z"
      },
      {
        "duration": 1081,
        "start_time": "2022-07-23T08:00:24.615Z"
      },
      {
        "duration": 472,
        "start_time": "2022-07-23T08:00:25.698Z"
      },
      {
        "duration": 166,
        "start_time": "2022-07-23T08:00:26.173Z"
      },
      {
        "duration": 30,
        "start_time": "2022-07-23T08:00:26.340Z"
      },
      {
        "duration": 7,
        "start_time": "2022-07-23T08:00:26.371Z"
      },
      {
        "duration": 18,
        "start_time": "2022-07-23T08:00:26.380Z"
      },
      {
        "duration": 64,
        "start_time": "2022-07-23T08:00:26.399Z"
      },
      {
        "duration": 94,
        "start_time": "2022-07-23T08:00:26.465Z"
      },
      {
        "duration": 22,
        "start_time": "2022-07-23T08:00:26.561Z"
      },
      {
        "duration": 8,
        "start_time": "2022-07-23T08:00:26.586Z"
      },
      {
        "duration": 60,
        "start_time": "2022-07-23T08:00:26.596Z"
      },
      {
        "duration": 6,
        "start_time": "2022-07-23T08:00:26.658Z"
      },
      {
        "duration": 91,
        "start_time": "2022-07-23T08:00:26.666Z"
      },
      {
        "duration": 96,
        "start_time": "2022-07-23T08:00:26.759Z"
      },
      {
        "duration": 7,
        "start_time": "2022-07-23T08:00:26.857Z"
      },
      {
        "duration": 87,
        "start_time": "2022-07-23T08:00:26.865Z"
      },
      {
        "duration": 8,
        "start_time": "2022-07-23T08:00:26.954Z"
      },
      {
        "duration": 6,
        "start_time": "2022-07-23T08:00:27.053Z"
      },
      {
        "duration": 6,
        "start_time": "2022-07-23T08:00:27.061Z"
      },
      {
        "duration": 4,
        "start_time": "2022-07-23T08:00:27.068Z"
      },
      {
        "duration": 9,
        "start_time": "2022-07-23T08:00:27.074Z"
      },
      {
        "duration": 4,
        "start_time": "2022-07-23T08:00:27.085Z"
      },
      {
        "duration": 12,
        "start_time": "2022-07-23T08:00:27.091Z"
      },
      {
        "duration": 3930,
        "start_time": "2022-07-23T08:00:27.104Z"
      },
      {
        "duration": 3561,
        "start_time": "2022-07-23T08:02:56.727Z"
      },
      {
        "duration": 75,
        "start_time": "2022-07-23T08:03:27.359Z"
      },
      {
        "duration": 3806,
        "start_time": "2022-07-23T08:03:46.002Z"
      },
      {
        "duration": 3677,
        "start_time": "2022-07-23T08:15:45.641Z"
      },
      {
        "duration": 3526,
        "start_time": "2022-07-23T08:16:11.777Z"
      },
      {
        "duration": 3989,
        "start_time": "2022-07-23T08:16:47.826Z"
      },
      {
        "duration": 3670,
        "start_time": "2022-07-23T08:17:03.123Z"
      },
      {
        "duration": 3075,
        "start_time": "2022-07-23T08:25:47.427Z"
      }
    ],
    "kernelspec": {
      "display_name": "Python 3 (ipykernel)",
      "language": "python",
      "name": "python3"
    },
    "language_info": {
      "codemirror_mode": {
        "name": "ipython",
        "version": 3
      },
      "file_extension": ".py",
      "mimetype": "text/x-python",
      "name": "python",
      "nbconvert_exporter": "python",
      "pygments_lexer": "ipython3",
      "version": "3.9.5"
    },
    "toc": {
      "base_numbering": 1,
      "nav_menu": {},
      "number_sections": true,
      "sideBar": true,
      "skip_h1_title": true,
      "title_cell": "Table of Contents",
      "title_sidebar": "Contents",
      "toc_cell": false,
      "toc_position": {
        "height": "calc(100% - 180px)",
        "left": "10px",
        "top": "150px",
        "width": "366.391px"
      },
      "toc_section_display": true,
      "toc_window_display": true
    },
    "colab": {
      "provenance": [],
      "toc_visible": true
    }
  },
  "nbformat": 4,
  "nbformat_minor": 0
}
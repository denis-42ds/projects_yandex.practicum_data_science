{
  "cells": [
    {
      "cell_type": "markdown",
      "metadata": {
        "toc": true,
        "id": "ih6mnA1nEvlW"
      },
      "source": [
        "<h1>Содержание<span class=\"tocSkip\"></span></h1>\n",
        "<div class=\"toc\"><ul class=\"toc-item\"><li><span><a href=\"#Подготовка-данных\" data-toc-modified-id=\"Подготовка-данных-1\"><span class=\"toc-item-num\">1&nbsp;&nbsp;</span>Подготовка данных</a></span><ul class=\"toc-item\"><li><span><a href=\"#Вывод\" data-toc-modified-id=\"Вывод-1.1\"><span class=\"toc-item-num\">1.1&nbsp;&nbsp;</span>Вывод</a></span></li></ul></li><li><span><a href=\"#Исследование-задачи\" data-toc-modified-id=\"Исследование-задачи-2\"><span class=\"toc-item-num\">2&nbsp;&nbsp;</span>Исследование задачи</a></span><ul class=\"toc-item\"><li><span><a href=\"#Деление-датафрейма-на-три-выборки\" data-toc-modified-id=\"Деление-датафрейма-на-три-выборки-2.1\"><span class=\"toc-item-num\">2.1&nbsp;&nbsp;</span>Деление датафрейма на три выборки</a></span></li><li><span><a href=\"#Логистическая-регрессия\" data-toc-modified-id=\"Логистическая-регрессия-2.2\"><span class=\"toc-item-num\">2.2&nbsp;&nbsp;</span>Логистическая регрессия</a></span></li><li><span><a href=\"#Дерево-решений\" data-toc-modified-id=\"Дерево-решений-2.3\"><span class=\"toc-item-num\">2.3&nbsp;&nbsp;</span>Дерево решений</a></span></li><li><span><a href=\"#Случайный-лес\" data-toc-modified-id=\"Случайный-лес-2.4\"><span class=\"toc-item-num\">2.4&nbsp;&nbsp;</span>Случайный лес</a></span></li><li><span><a href=\"#Вывод\" data-toc-modified-id=\"Вывод-2.5\"><span class=\"toc-item-num\">2.5&nbsp;&nbsp;</span>Вывод</a></span></li></ul></li><li><span><a href=\"#Борьба-с-дисбалансом\" data-toc-modified-id=\"Борьба-с-дисбалансом-3\"><span class=\"toc-item-num\">3&nbsp;&nbsp;</span>Борьба с дисбалансом</a></span><ul class=\"toc-item\"><li><span><a href=\"#Исследование-баланса-классов\" data-toc-modified-id=\"Исследование-баланса-классов-3.1\"><span class=\"toc-item-num\">3.1&nbsp;&nbsp;</span>Исследование баланса классов</a></span></li><li><span><a href=\"#Балансировка-классов\" data-toc-modified-id=\"Балансировка-классов-3.2\"><span class=\"toc-item-num\">3.2&nbsp;&nbsp;</span>Балансировка классов</a></span></li><li><span><a href=\"#Увеличение-выборки\" data-toc-modified-id=\"Увеличение-выборки-3.3\"><span class=\"toc-item-num\">3.3&nbsp;&nbsp;</span>Увеличение выборки</a></span></li><li><span><a href=\"#Уменьшение-выборки\" data-toc-modified-id=\"Уменьшение-выборки-3.4\"><span class=\"toc-item-num\">3.4&nbsp;&nbsp;</span>Уменьшение выборки</a></span></li><li><span><a href=\"#Вывод\" data-toc-modified-id=\"Вывод-3.5\"><span class=\"toc-item-num\">3.5&nbsp;&nbsp;</span>Вывод</a></span></li></ul></li><li><span><a href=\"#Тестирование-модели\" data-toc-modified-id=\"Тестирование-модели-4\"><span class=\"toc-item-num\">4&nbsp;&nbsp;</span>Тестирование модели</a></span><ul class=\"toc-item\"><li><span><a href=\"#Вывод\" data-toc-modified-id=\"Вывод-4.1\"><span class=\"toc-item-num\">4.1&nbsp;&nbsp;</span>Вывод</a></span></li></ul></li><li><span><a href=\"#Общий-вывод\" data-toc-modified-id=\"Общий-вывод-5\"><span class=\"toc-item-num\">5&nbsp;&nbsp;</span>Общий вывод</a></span></li></ul></div>"
      ]
    },
    {
      "cell_type": "markdown",
      "metadata": {
        "id": "l90rZvz_EvlZ"
      },
      "source": [
        "# Отток клиентов"
      ]
    },
    {
      "cell_type": "markdown",
      "metadata": {
        "id": "LIe2WarNEvla"
      },
      "source": [
        "Из «Бета-Банка» стали уходить клиенты. Каждый месяц. Немного, но заметно. Банковские маркетологи посчитали: сохранять текущих клиентов дешевле, чем привлекать новых.\n",
        "\n",
        "Нужно спрогнозировать, уйдёт клиент из банка в ближайшее время или нет. Вам предоставлены исторические данные о поведении клиентов и расторжении договоров с банком. \n",
        "\n",
        "Постройте модель с предельно большим значением *F1*-меры. Чтобы сдать проект успешно, нужно довести метрику до 0.59. Проверьте *F1*-меру на тестовой выборке самостоятельно.\n",
        "\n",
        "Дополнительно измеряйте *AUC-ROC*, сравнивайте её значение с *F1*-мерой.\n",
        "\n",
        "Источник данных: [https://www.kaggle.com/barelydedicated/bank-customer-churn-modeling](https://www.kaggle.com/barelydedicated/bank-customer-churn-modeling)"
      ]
    },
    {
      "cell_type": "markdown",
      "metadata": {
        "id": "h5EJ7BvIEvlb"
      },
      "source": [
        "<b>Инструкция по выполнению проекта</b>\n",
        "1. Загрузите и подготовьте данные. Поясните порядок действий.\n",
        "2. Исследуйте баланс классов, обучите модель без учёта дисбаланса. Кратко опишите выводы.\n",
        "3. Улучшите качество модели, учитывая дисбаланс классов. Обучите разные модели и найдите лучшую. Кратко опишите выводы.\n",
        "4. Проведите финальное тестирование.\n",
        "\n",
        "<b>Описание данных</b>\n",
        "Данные находятся в файле /datasets/Churn.csv\n",
        "\n",
        "<b>Признаки</b>\n",
        "- RowNumber — индекс строки в данных\n",
        "- CustomerId — уникальный идентификатор клиента\n",
        "- Surname — фамилия\n",
        "- CreditScore — кредитный рейтинг\n",
        "- Geography — страна проживания\n",
        "- Gender — пол\n",
        "- Age — возраст\n",
        "- Tenure — сколько лет человек является клиентом банка\n",
        "- Balance — баланс на счёте\n",
        "- NumOfProducts — количество продуктов банка, используемых клиентом\n",
        "- HasCrCard — наличие кредитной карты\n",
        "- IsActiveMember — активность клиента\n",
        "- EstimatedSalary — предполагаемая зарплата\n",
        "\n",
        "<b>Целевой признак</b>\n",
        "- Exited — факт ухода клиента"
      ]
    },
    {
      "cell_type": "markdown",
      "metadata": {
        "id": "94f90324"
      },
      "source": [
        "<div class=\"alert alert-block alert-success\">\n",
        "<b>Успех:</b> Отличное введение!)\n",
        "</div>"
      ]
    },
    {
      "cell_type": "markdown",
      "metadata": {
        "id": "msaIQVEXEvlf"
      },
      "source": [
        "## Подготовка данных"
      ]
    },
    {
      "cell_type": "markdown",
      "metadata": {
        "id": "_bD8S5O_Evlg"
      },
      "source": [
        "Импортируем необходимые инструменты"
      ]
    },
    {
      "cell_type": "code",
      "execution_count": null,
      "metadata": {
        "id": "mbasqSq3Evli"
      },
      "outputs": [],
      "source": [
        "import pandas as pd\n",
        "import numpy as np\n",
        "from sklearn.model_selection import train_test_split\n",
        "from sklearn.preprocessing import StandardScaler\n",
        "from sklearn.tree import DecisionTreeClassifier\n",
        "from sklearn.ensemble import RandomForestClassifier\n",
        "from sklearn.linear_model import LogisticRegression\n",
        "from sklearn.metrics import f1_score\n",
        "from sklearn.metrics import confusion_matrix\n",
        "from sklearn.metrics import roc_auc_score\n",
        "from sklearn.utils import shuffle\n",
        "import matplotlib.pyplot as plt"
      ]
    },
    {
      "cell_type": "markdown",
      "metadata": {
        "id": "YvugegJVEvlm"
      },
      "source": [
        "Откроем датафрейм и ознакомимся с данными"
      ]
    },
    {
      "cell_type": "code",
      "execution_count": null,
      "metadata": {
        "id": "Fl5-MnCjEvln",
        "outputId": "b158dff8-8dc3-4e3f-c5ae-2326b695442d"
      },
      "outputs": [
        {
          "data": {
            "text/html": [
              "<div>\n",
              "<style scoped>\n",
              "    .dataframe tbody tr th:only-of-type {\n",
              "        vertical-align: middle;\n",
              "    }\n",
              "\n",
              "    .dataframe tbody tr th {\n",
              "        vertical-align: top;\n",
              "    }\n",
              "\n",
              "    .dataframe thead th {\n",
              "        text-align: right;\n",
              "    }\n",
              "</style>\n",
              "<table border=\"1\" class=\"dataframe\">\n",
              "  <thead>\n",
              "    <tr style=\"text-align: right;\">\n",
              "      <th></th>\n",
              "      <th>RowNumber</th>\n",
              "      <th>CustomerId</th>\n",
              "      <th>Surname</th>\n",
              "      <th>CreditScore</th>\n",
              "      <th>Geography</th>\n",
              "      <th>Gender</th>\n",
              "      <th>Age</th>\n",
              "      <th>Tenure</th>\n",
              "      <th>Balance</th>\n",
              "      <th>NumOfProducts</th>\n",
              "      <th>HasCrCard</th>\n",
              "      <th>IsActiveMember</th>\n",
              "      <th>EstimatedSalary</th>\n",
              "      <th>Exited</th>\n",
              "    </tr>\n",
              "  </thead>\n",
              "  <tbody>\n",
              "    <tr>\n",
              "      <th>0</th>\n",
              "      <td>1</td>\n",
              "      <td>15634602</td>\n",
              "      <td>Hargrave</td>\n",
              "      <td>619</td>\n",
              "      <td>France</td>\n",
              "      <td>Female</td>\n",
              "      <td>42</td>\n",
              "      <td>2.0</td>\n",
              "      <td>0.00</td>\n",
              "      <td>1</td>\n",
              "      <td>1</td>\n",
              "      <td>1</td>\n",
              "      <td>101348.88</td>\n",
              "      <td>1</td>\n",
              "    </tr>\n",
              "    <tr>\n",
              "      <th>1</th>\n",
              "      <td>2</td>\n",
              "      <td>15647311</td>\n",
              "      <td>Hill</td>\n",
              "      <td>608</td>\n",
              "      <td>Spain</td>\n",
              "      <td>Female</td>\n",
              "      <td>41</td>\n",
              "      <td>1.0</td>\n",
              "      <td>83807.86</td>\n",
              "      <td>1</td>\n",
              "      <td>0</td>\n",
              "      <td>1</td>\n",
              "      <td>112542.58</td>\n",
              "      <td>0</td>\n",
              "    </tr>\n",
              "    <tr>\n",
              "      <th>2</th>\n",
              "      <td>3</td>\n",
              "      <td>15619304</td>\n",
              "      <td>Onio</td>\n",
              "      <td>502</td>\n",
              "      <td>France</td>\n",
              "      <td>Female</td>\n",
              "      <td>42</td>\n",
              "      <td>8.0</td>\n",
              "      <td>159660.80</td>\n",
              "      <td>3</td>\n",
              "      <td>1</td>\n",
              "      <td>0</td>\n",
              "      <td>113931.57</td>\n",
              "      <td>1</td>\n",
              "    </tr>\n",
              "    <tr>\n",
              "      <th>3</th>\n",
              "      <td>4</td>\n",
              "      <td>15701354</td>\n",
              "      <td>Boni</td>\n",
              "      <td>699</td>\n",
              "      <td>France</td>\n",
              "      <td>Female</td>\n",
              "      <td>39</td>\n",
              "      <td>1.0</td>\n",
              "      <td>0.00</td>\n",
              "      <td>2</td>\n",
              "      <td>0</td>\n",
              "      <td>0</td>\n",
              "      <td>93826.63</td>\n",
              "      <td>0</td>\n",
              "    </tr>\n",
              "    <tr>\n",
              "      <th>4</th>\n",
              "      <td>5</td>\n",
              "      <td>15737888</td>\n",
              "      <td>Mitchell</td>\n",
              "      <td>850</td>\n",
              "      <td>Spain</td>\n",
              "      <td>Female</td>\n",
              "      <td>43</td>\n",
              "      <td>2.0</td>\n",
              "      <td>125510.82</td>\n",
              "      <td>1</td>\n",
              "      <td>1</td>\n",
              "      <td>1</td>\n",
              "      <td>79084.10</td>\n",
              "      <td>0</td>\n",
              "    </tr>\n",
              "  </tbody>\n",
              "</table>\n",
              "</div>"
            ],
            "text/plain": [
              "   RowNumber  CustomerId   Surname  CreditScore Geography  Gender  Age  \\\n",
              "0          1    15634602  Hargrave          619    France  Female   42   \n",
              "1          2    15647311      Hill          608     Spain  Female   41   \n",
              "2          3    15619304      Onio          502    France  Female   42   \n",
              "3          4    15701354      Boni          699    France  Female   39   \n",
              "4          5    15737888  Mitchell          850     Spain  Female   43   \n",
              "\n",
              "   Tenure    Balance  NumOfProducts  HasCrCard  IsActiveMember  \\\n",
              "0     2.0       0.00              1          1               1   \n",
              "1     1.0   83807.86              1          0               1   \n",
              "2     8.0  159660.80              3          1               0   \n",
              "3     1.0       0.00              2          0               0   \n",
              "4     2.0  125510.82              1          1               1   \n",
              "\n",
              "   EstimatedSalary  Exited  \n",
              "0        101348.88       1  \n",
              "1        112542.58       0  \n",
              "2        113931.57       1  \n",
              "3         93826.63       0  \n",
              "4         79084.10       0  "
            ]
          },
          "metadata": {},
          "output_type": "display_data"
        },
        {
          "name": "stdout",
          "output_type": "stream",
          "text": [
            "<class 'pandas.core.frame.DataFrame'>\n",
            "RangeIndex: 10000 entries, 0 to 9999\n",
            "Data columns (total 14 columns):\n",
            " #   Column           Non-Null Count  Dtype  \n",
            "---  ------           --------------  -----  \n",
            " 0   RowNumber        10000 non-null  int64  \n",
            " 1   CustomerId       10000 non-null  int64  \n",
            " 2   Surname          10000 non-null  object \n",
            " 3   CreditScore      10000 non-null  int64  \n",
            " 4   Geography        10000 non-null  object \n",
            " 5   Gender           10000 non-null  object \n",
            " 6   Age              10000 non-null  int64  \n",
            " 7   Tenure           9091 non-null   float64\n",
            " 8   Balance          10000 non-null  float64\n",
            " 9   NumOfProducts    10000 non-null  int64  \n",
            " 10  HasCrCard        10000 non-null  int64  \n",
            " 11  IsActiveMember   10000 non-null  int64  \n",
            " 12  EstimatedSalary  10000 non-null  float64\n",
            " 13  Exited           10000 non-null  int64  \n",
            "dtypes: float64(3), int64(8), object(3)\n",
            "memory usage: 1.1+ MB\n"
          ]
        }
      ],
      "source": [
        "df = pd.read_csv('/datasets/Churn.csv')\n",
        "display(df.head())\n",
        "df.info()"
      ]
    },
    {
      "cell_type": "markdown",
      "metadata": {
        "id": "ff0hM9TmEvlp"
      },
      "source": [
        "Проверим датафрейм на наличие явных дубликатов"
      ]
    },
    {
      "cell_type": "code",
      "execution_count": null,
      "metadata": {
        "id": "J4QK5k2gEvlr",
        "outputId": "9985c67c-b9fd-4254-a9b6-fa1a2d620014"
      },
      "outputs": [
        {
          "data": {
            "text/plain": [
              "0"
            ]
          },
          "execution_count": 3,
          "metadata": {},
          "output_type": "execute_result"
        }
      ],
      "source": [
        "df.duplicated().sum()"
      ]
    },
    {
      "cell_type": "markdown",
      "metadata": {
        "id": "Gwb6A24MEvls"
      },
      "source": [
        "Проверим значения в столбце *Geography*"
      ]
    },
    {
      "cell_type": "code",
      "execution_count": null,
      "metadata": {
        "id": "qcRFKuVSEvlt",
        "outputId": "de0a9700-047f-44ff-b259-8af0ca06b11d"
      },
      "outputs": [
        {
          "data": {
            "text/plain": [
              "France     5014\n",
              "Germany    2509\n",
              "Spain      2477\n",
              "Name: Geography, dtype: int64"
            ]
          },
          "execution_count": 4,
          "metadata": {},
          "output_type": "execute_result"
        }
      ],
      "source": [
        "df['Geography'].value_counts()"
      ]
    },
    {
      "cell_type": "markdown",
      "metadata": {
        "id": "eBxP44xGEvlu"
      },
      "source": [
        "Проверим уникальные значения в столбце *Gender*"
      ]
    },
    {
      "cell_type": "code",
      "execution_count": null,
      "metadata": {
        "id": "dVADSBh9Evlu",
        "outputId": "863211b2-b210-466a-df09-80d2cecf7ddd"
      },
      "outputs": [
        {
          "data": {
            "text/plain": [
              "Male      5457\n",
              "Female    4543\n",
              "Name: Gender, dtype: int64"
            ]
          },
          "execution_count": 5,
          "metadata": {},
          "output_type": "execute_result"
        }
      ],
      "source": [
        "df['Gender'].value_counts()"
      ]
    },
    {
      "cell_type": "markdown",
      "metadata": {
        "id": "kcnu0gfzEvlv"
      },
      "source": [
        "Проверим уникальные значения в столбце *HasCrCard*"
      ]
    },
    {
      "cell_type": "code",
      "execution_count": null,
      "metadata": {
        "id": "5OQt8BEEEvlv",
        "outputId": "87ca52e9-a2d6-4e1f-b7c3-ac0cb40e09e7"
      },
      "outputs": [
        {
          "data": {
            "text/plain": [
              "1    7055\n",
              "0    2945\n",
              "Name: HasCrCard, dtype: int64"
            ]
          },
          "execution_count": 6,
          "metadata": {},
          "output_type": "execute_result"
        }
      ],
      "source": [
        "df['HasCrCard'].value_counts()"
      ]
    },
    {
      "cell_type": "markdown",
      "metadata": {
        "id": "Wa2Q7NqXEvlw"
      },
      "source": [
        "Уникальные значения в столбце *IsActiveMember*"
      ]
    },
    {
      "cell_type": "code",
      "execution_count": null,
      "metadata": {
        "id": "NubAP6xkEvlw",
        "outputId": "29a91874-dbbd-4114-bfa9-769655d689ea"
      },
      "outputs": [
        {
          "data": {
            "text/plain": [
              "1    5151\n",
              "0    4849\n",
              "Name: IsActiveMember, dtype: int64"
            ]
          },
          "execution_count": 7,
          "metadata": {},
          "output_type": "execute_result"
        }
      ],
      "source": [
        "df['IsActiveMember'].value_counts()"
      ]
    },
    {
      "cell_type": "markdown",
      "metadata": {
        "id": "KYEIU-HuEvlw"
      },
      "source": [
        "Уникальные значения в столбце *Exited*"
      ]
    },
    {
      "cell_type": "code",
      "execution_count": null,
      "metadata": {
        "id": "TZmP-lm-Evlx",
        "outputId": "9efe33cb-53c0-407e-8a29-c2b9d21f9131"
      },
      "outputs": [
        {
          "data": {
            "text/plain": [
              "0    7963\n",
              "1    2037\n",
              "Name: Exited, dtype: int64"
            ]
          },
          "execution_count": 8,
          "metadata": {},
          "output_type": "execute_result"
        }
      ],
      "source": [
        "df['Exited'].value_counts()"
      ]
    },
    {
      "cell_type": "markdown",
      "metadata": {
        "id": "pcMyGUdiEvlx"
      },
      "source": [
        "Изучение значений в столбце *Tenure*"
      ]
    },
    {
      "cell_type": "code",
      "execution_count": null,
      "metadata": {
        "id": "RSQkUXbCEvlx",
        "outputId": "a0100a28-4f77-4f30-d31f-5db2cf66959f"
      },
      "outputs": [
        {
          "data": {
            "text/plain": [
              "1.0     952\n",
              "2.0     950\n",
              "8.0     933\n",
              "3.0     928\n",
              "5.0     927\n",
              "7.0     925\n",
              "4.0     885\n",
              "9.0     882\n",
              "6.0     881\n",
              "10.0    446\n",
              "0.0     382\n",
              "Name: Tenure, dtype: int64"
            ]
          },
          "execution_count": 9,
          "metadata": {},
          "output_type": "execute_result"
        }
      ],
      "source": [
        "df['Tenure'].value_counts()"
      ]
    },
    {
      "cell_type": "markdown",
      "metadata": {
        "id": "XYNykAwbEvlz"
      },
      "source": [
        "Заполнение пропусков в столбце *Tenure* значением *-1*, изменение типа данных на *object*"
      ]
    },
    {
      "cell_type": "code",
      "execution_count": null,
      "metadata": {
        "id": "8fCPOPuZEvlz",
        "outputId": "7aa130c8-4e6c-4670-f771-c6e573c20ece"
      },
      "outputs": [
        {
          "name": "stdout",
          "output_type": "stream",
          "text": [
            "<class 'pandas.core.frame.DataFrame'>\n",
            "RangeIndex: 10000 entries, 0 to 9999\n",
            "Data columns (total 14 columns):\n",
            " #   Column           Non-Null Count  Dtype  \n",
            "---  ------           --------------  -----  \n",
            " 0   RowNumber        10000 non-null  int64  \n",
            " 1   CustomerId       10000 non-null  int64  \n",
            " 2   Surname          10000 non-null  object \n",
            " 3   CreditScore      10000 non-null  int64  \n",
            " 4   Geography        10000 non-null  object \n",
            " 5   Gender           10000 non-null  object \n",
            " 6   Age              10000 non-null  int64  \n",
            " 7   Tenure           10000 non-null  object \n",
            " 8   Balance          10000 non-null  float64\n",
            " 9   NumOfProducts    10000 non-null  int64  \n",
            " 10  HasCrCard        10000 non-null  int64  \n",
            " 11  IsActiveMember   10000 non-null  int64  \n",
            " 12  EstimatedSalary  10000 non-null  float64\n",
            " 13  Exited           10000 non-null  int64  \n",
            "dtypes: float64(2), int64(8), object(4)\n",
            "memory usage: 1.1+ MB\n"
          ]
        }
      ],
      "source": [
        "df['Tenure'] = df['Tenure'].fillna(-1)\n",
        "df['Tenure'] = df['Tenure'].astype('object')\n",
        "df.info()"
      ]
    },
    {
      "cell_type": "markdown",
      "metadata": {
        "id": "9uEHopViEvl0"
      },
      "source": [
        "Преобразуем категориальные признаки в численные с помощью техники прямого кодирования *OHE*, удалив столбцы, в которых для нашего исследования нет необходимости: RowNumber, CustomerId, Surname"
      ]
    },
    {
      "cell_type": "code",
      "execution_count": null,
      "metadata": {
        "id": "Xmk1Mm5EEvl0",
        "outputId": "9c9da26a-d8bd-448b-ed43-d433d6ac8b00"
      },
      "outputs": [
        {
          "name": "stdout",
          "output_type": "stream",
          "text": [
            "<class 'pandas.core.frame.DataFrame'>\n",
            "RangeIndex: 10000 entries, 0 to 9999\n",
            "Data columns (total 22 columns):\n",
            " #   Column             Non-Null Count  Dtype  \n",
            "---  ------             --------------  -----  \n",
            " 0   CreditScore        10000 non-null  int64  \n",
            " 1   Age                10000 non-null  int64  \n",
            " 2   Balance            10000 non-null  float64\n",
            " 3   NumOfProducts      10000 non-null  int64  \n",
            " 4   HasCrCard          10000 non-null  int64  \n",
            " 5   IsActiveMember     10000 non-null  int64  \n",
            " 6   EstimatedSalary    10000 non-null  float64\n",
            " 7   Exited             10000 non-null  int64  \n",
            " 8   Geography_Germany  10000 non-null  uint8  \n",
            " 9   Geography_Spain    10000 non-null  uint8  \n",
            " 10  Gender_Male        10000 non-null  uint8  \n",
            " 11  Tenure_0.0         10000 non-null  uint8  \n",
            " 12  Tenure_1.0         10000 non-null  uint8  \n",
            " 13  Tenure_2.0         10000 non-null  uint8  \n",
            " 14  Tenure_3.0         10000 non-null  uint8  \n",
            " 15  Tenure_4.0         10000 non-null  uint8  \n",
            " 16  Tenure_5.0         10000 non-null  uint8  \n",
            " 17  Tenure_6.0         10000 non-null  uint8  \n",
            " 18  Tenure_7.0         10000 non-null  uint8  \n",
            " 19  Tenure_8.0         10000 non-null  uint8  \n",
            " 20  Tenure_9.0         10000 non-null  uint8  \n",
            " 21  Tenure_10.0        10000 non-null  uint8  \n",
            "dtypes: float64(2), int64(6), uint8(14)\n",
            "memory usage: 761.8 KB\n"
          ]
        }
      ],
      "source": [
        "df_ohe = df.drop(['RowNumber', 'CustomerId', 'Surname'], axis=1)\n",
        "df_ohe = pd.get_dummies(df_ohe, drop_first=True)\n",
        "df_ohe.info()"
      ]
    },
    {
      "cell_type": "markdown",
      "metadata": {
        "id": "xwvRjJ6REvl1"
      },
      "source": [
        "### Вывод"
      ]
    },
    {
      "cell_type": "markdown",
      "metadata": {
        "id": "m_bLOehkEvl1"
      },
      "source": [
        "- Системы в пропущенных значениях столбца *Tenure* не наблюдается - заполнены значением *-1*\n",
        "- Преобразованы категориальные признаки в численные\n",
        "- Удалены столбцы, в которых нет необходимости: *RowNumber*, *CustomerId*, *Surname*\n",
        "- Данные в датафрейме подготовлены для исследования."
      ]
    },
    {
      "cell_type": "markdown",
      "metadata": {
        "id": "VCp2eNBQEvl1"
      },
      "source": [
        "## Исследование задачи"
      ]
    },
    {
      "cell_type": "markdown",
      "metadata": {
        "id": "OvAP8Y1kEvl2"
      },
      "source": [
        "### Деление датафрейма на три выборки"
      ]
    },
    {
      "cell_type": "markdown",
      "metadata": {
        "id": "yo5Rj0mUEvl2"
      },
      "source": [
        "Разделим датафрейм, используя функцию *train_test_split* на три выборки: обучающую (60%), валидационную (20%) и тестовую (20%).\n",
        "\n",
        "Выведем результат на экран."
      ]
    },
    {
      "cell_type": "code",
      "execution_count": null,
      "metadata": {
        "id": "D_iiOcOrEvl2",
        "outputId": "67000e3f-c261-43e4-a0d3-209712dcf59b"
      },
      "outputs": [
        {
          "data": {
            "text/plain": [
              "(6000, 22)"
            ]
          },
          "metadata": {},
          "output_type": "display_data"
        },
        {
          "data": {
            "text/plain": [
              "(2000, 22)"
            ]
          },
          "metadata": {},
          "output_type": "display_data"
        },
        {
          "data": {
            "text/plain": [
              "(2000, 22)"
            ]
          },
          "execution_count": 13,
          "metadata": {},
          "output_type": "execute_result"
        }
      ],
      "source": [
        "df_ohe_80, df_ohe_test = train_test_split(df_ohe, test_size=.2, random_state=12345)\n",
        "df_ohe_train, df_ohe_valid = train_test_split(df_ohe_80, test_size=.25, random_state=12345)\n",
        "display(df_ohe_train.shape)\n",
        "display(df_ohe_test.shape)\n",
        "df_ohe_valid.shape"
      ]
    },
    {
      "cell_type": "markdown",
      "metadata": {
        "id": "m2i-S3AcEvl3"
      },
      "source": [
        "Запишем в обучающие признаки данные из обучающей выборки, исключив ненужные столбцы. В целевой признак внесём столбец Exited. Такую же процедуру проделаем с валидационной и тестовой выборками."
      ]
    },
    {
      "cell_type": "code",
      "execution_count": null,
      "metadata": {
        "id": "JNCw44_sEvl3"
      },
      "outputs": [],
      "source": [
        "features_train = df_ohe_train.drop(['Exited'], axis=1)\n",
        "target_train = df_ohe_train['Exited']\n",
        "features_valid = df_ohe_valid.drop(['Exited'], axis=1)\n",
        "target_valid = df_ohe_valid['Exited']\n",
        "features_test = df_ohe_test.drop(['Exited'], axis=1)\n",
        "target_test = df_ohe_test['Exited']\n",
        "features_train_for_test = df_ohe_80.drop(['Exited'], axis=1)\n",
        "target_train_for_test = df_ohe_80['Exited']"
      ]
    },
    {
      "cell_type": "markdown",
      "metadata": {
        "id": "qIYR2XSGEvl4"
      },
      "source": [
        "Масштабирование данных при помощи структуры стандартизации данных *StandardScaler*"
      ]
    },
    {
      "cell_type": "code",
      "execution_count": null,
      "metadata": {
        "id": "cuN50D0ZEvl4"
      },
      "outputs": [],
      "source": [
        "scaler = StandardScaler()\n",
        "scaler.fit(features_train)\n",
        "\n",
        "pd.options.mode.chained_assignment = None\n",
        "features_train = scaler.transform(features_train)\n",
        "features_valid = pd.DataFrame(scaler.transform(features_valid))\n",
        "features_test = pd.DataFrame(scaler.transform(features_test))\n",
        "features_train_for_test = scaler.transform(features_train_for_test)"
      ]
    },
    {
      "cell_type": "markdown",
      "metadata": {
        "id": "vB30st7iEvl4"
      },
      "source": [
        "### Логистическая регрессия"
      ]
    },
    {
      "cell_type": "markdown",
      "metadata": {
        "id": "ApkexvycEvl5"
      },
      "source": [
        "Создадим модель логистической регрессии, обучим её на обучающей выборке, проверим на валидационной, рассчитаем *F1-меру*."
      ]
    },
    {
      "cell_type": "code",
      "execution_count": null,
      "metadata": {
        "id": "Eyox1WaCEvl5",
        "outputId": "42a2a1ce-e261-4f85-c3bb-215f89b41060"
      },
      "outputs": [
        {
          "data": {
            "text/plain": [
              "0.31851851851851853"
            ]
          },
          "execution_count": 16,
          "metadata": {},
          "output_type": "execute_result"
        }
      ],
      "source": [
        "model_lr = LogisticRegression(random_state=12345, solver='liblinear')\n",
        "model_lr.fit(features_train, target_train)\n",
        "predictions_valid = model_lr.predict(features_valid)\n",
        "f1_score(target_valid, predictions_valid)"
      ]
    },
    {
      "cell_type": "markdown",
      "metadata": {
        "id": "MBWRUu_DEvl5"
      },
      "source": [
        "### Дерево решений"
      ]
    },
    {
      "cell_type": "markdown",
      "metadata": {
        "id": "67wJTAswEvl5"
      },
      "source": [
        "Создадим цикл, в котором переберём десять моделей деревьев с разной глубиной, обучим каждую на обучающей выборке, проверим результат обучения на валидационной выборке и выберем из них дерево с максимальной *F1-мерой*."
      ]
    },
    {
      "cell_type": "code",
      "execution_count": null,
      "metadata": {
        "id": "tLkVaepQEvl6",
        "outputId": "2fdb8063-60c6-49c1-a66c-c75767a92ef8"
      },
      "outputs": [
        {
          "data": {
            "text/plain": [
              "0.5557299843014128"
            ]
          },
          "metadata": {},
          "output_type": "display_data"
        },
        {
          "data": {
            "text/plain": [
              "7"
            ]
          },
          "metadata": {},
          "output_type": "display_data"
        },
        {
          "data": {
            "image/png": "[encoded data removed]",
            "text/plain": [
              "<Figure size 432x288 with 1 Axes>"
            ]
          },
          "metadata": {
            "needs_background": "light"
          },
          "output_type": "display_data"
        }
      ],
      "source": [
        "best_result = 0\n",
        "depth = 0\n",
        "depths = []\n",
        "results = []\n",
        "\n",
        "for depth in range(1, 11):\n",
        "    model = DecisionTreeClassifier(random_state=12345, max_depth=depth)\n",
        "    model.fit(features_train, target_train)\n",
        "    predictions_valid = model.predict(features_valid)\n",
        "    result = f1_score(target_valid, predictions_valid)\n",
        "    depths.append(depth)\n",
        "    results.append(result)\n",
        "        \n",
        "    plt.plot(depths, results)\n",
        "    plt.title(\"Зависимость F1-меры от глубины дерева\")\n",
        "    plt.xlabel(\"Глубина дерева\")\n",
        "    plt.ylabel(\"F1-мера\")\n",
        "    plt.grid()\n",
        "    plt.show\n",
        "            \n",
        "    if result > best_result:\n",
        "        best_depth = depth\n",
        "        best_result = result\n",
        "\n",
        "display(best_result, best_depth)"
      ]
    },
    {
      "cell_type": "markdown",
      "metadata": {
        "id": "hxuSbt6iEvl6"
      },
      "source": [
        "### Случайный лес"
      ]
    },
    {
      "cell_type": "markdown",
      "metadata": {
        "id": "ayaiOQcpEvl6"
      },
      "source": [
        "Сначала подберём глубину леса при небольшом количестве деревьев."
      ]
    },
    {
      "cell_type": "code",
      "execution_count": null,
      "metadata": {
        "id": "EFOl2Ba_Evl7",
        "outputId": "fbf54848-5165-49c4-e0d7-759027f665bb"
      },
      "outputs": [
        {
          "data": {
            "text/plain": [
              "(14, 0.5617977528089887)"
            ]
          },
          "execution_count": 18,
          "metadata": {},
          "output_type": "execute_result"
        }
      ],
      "source": [
        "best_result = 0\n",
        "for depth in range(1, 30, 1):\n",
        "    model = RandomForestClassifier(n_estimators=20, max_depth=depth, random_state=12345)\n",
        "    model.fit(features_train, target_train)\n",
        "    predictions_valid = model.predict(features_valid)\n",
        "    result = f1_score(target_valid, predictions_valid)\n",
        "    if result > best_result:\n",
        "        best_result = result\n",
        "        best_depth = depth\n",
        "best_depth, best_result"
      ]
    },
    {
      "cell_type": "markdown",
      "metadata": {
        "id": "PO1vR-gGEvl7"
      },
      "source": [
        "Создадим цикл, в котором переберём модели случайного леса с количеством деревьев от 10 до 201 с шагом 10, обучим каждую на обучающей выборке, проверим результат обучения на валидационной выборке и выберем из них лес с максимальной *F1-мерой*."
      ]
    },
    {
      "cell_type": "code",
      "execution_count": null,
      "metadata": {
        "id": "EmzvjtUOEvl7",
        "outputId": "aab8aae7-05e3-4c6a-dad4-19d23c651ce7"
      },
      "outputs": [
        {
          "data": {
            "text/plain": [
              "0.5617977528089887"
            ]
          },
          "metadata": {},
          "output_type": "display_data"
        },
        {
          "data": {
            "text/plain": [
              "20"
            ]
          },
          "metadata": {},
          "output_type": "display_data"
        },
        {
          "data": {
            "image/png": "[encoded data removed]",
            "text/plain": [
              "<Figure size 432x288 with 1 Axes>"
            ]
          },
          "metadata": {
            "needs_background": "light"
          },
          "output_type": "display_data"
        }
      ],
      "source": [
        "best_model = None\n",
        "best_result = 0\n",
        "n_estimators = []\n",
        "results_rf = []\n",
        "for est in range(10, 201, 10):\n",
        "    model = RandomForestClassifier(random_state=12345, n_estimators=est, max_depth=14)\n",
        "    model.fit(features_train, target_train)\n",
        "    predictions_valid = model.predict(features_valid)\n",
        "    result = f1_score(target_valid, predictions_valid)\n",
        "    n_estimators.append(est)\n",
        "    results_rf.append(result)\n",
        "        \n",
        "    plt.plot(n_estimators, results_rf)\n",
        "    plt.title(\"Зависимость F1-меры от количества деревьев\")\n",
        "    plt.xlabel(\"Количество деревьев\")\n",
        "    plt.ylabel(\"F1-мера\")\n",
        "    plt.grid()\n",
        "    plt.show\n",
        "    \n",
        "    if result > best_result:\n",
        "        best_model = model\n",
        "        best_result = result\n",
        "        best_est = est\n",
        "\n",
        "display(best_result, best_est)"
      ]
    },
    {
      "cell_type": "markdown",
      "metadata": {
        "id": "35BVszQXEvl8"
      },
      "source": [
        "### Вывод"
      ]
    },
    {
      "cell_type": "markdown",
      "metadata": {
        "id": "hioPW5KkEvl8"
      },
      "source": [
        "По результатам исследования моделей без учёта дисбаланса классов можно сделать следующие заключения:\n",
        "- *F1-мера* у модели логистической регрессии получилась наиболее низкой (0.3) - это послужило следствием того, что в представленном датасете, вероятно, более сложные, нелинейные связи между признаками и таргетом\n",
        "- *F1-мера* у модели дерева решений получилась 0.556, глубина дерева при этом равна семи\n",
        "- Рассчётная *F1-мера* у модели случайного леса составила 0.56 (при количестве деревьев 20 и глубине леса 14), что является лучшим результатом.\n",
        "- Ни одна из моделей не дотянула до необходимого значения *F1-меры*\n",
        "- Требуется работа над дисбалансом"
      ]
    },
    {
      "cell_type": "markdown",
      "metadata": {
        "id": "-ORU6-V-Evl9"
      },
      "source": [
        "## Борьба с дисбалансом"
      ]
    },
    {
      "cell_type": "markdown",
      "metadata": {
        "id": "xKIi3q4pEvl9"
      },
      "source": [
        "Визуализация дисбаланса классов"
      ]
    },
    {
      "cell_type": "code",
      "execution_count": null,
      "metadata": {
        "id": "4HuPEyM4Evl-",
        "outputId": "90ec4a30-6706-4635-984c-a695b7643203"
      },
      "outputs": [
        {
          "data": {
            "text/plain": [
              "0    0.7963\n",
              "1    0.2037\n",
              "Name: Exited, dtype: float64"
            ]
          },
          "execution_count": 20,
          "metadata": {},
          "output_type": "execute_result"
        }
      ],
      "source": [
        "df['Exited'].value_counts(normalize=True)"
      ]
    },
    {
      "cell_type": "markdown",
      "metadata": {
        "id": "RDLz7qNUEvl_"
      },
      "source": [
        "### Исследование баланса классов"
      ]
    },
    {
      "cell_type": "markdown",
      "metadata": {
        "id": "CTesxtDyEvl_"
      },
      "source": [
        "Построим матрицу ошибок для выбранной модели при помощи функции *confusion_matrix()*"
      ]
    },
    {
      "cell_type": "code",
      "execution_count": null,
      "metadata": {
        "id": "-gnexk6PEvmA",
        "outputId": "0644d782-de73-43f9-d413-ee190aaa9e06"
      },
      "outputs": [
        {
          "data": {
            "text/plain": [
              "array([[1552,   57],\n",
              "       [ 216,  175]])"
            ]
          },
          "execution_count": 21,
          "metadata": {},
          "output_type": "execute_result"
        }
      ],
      "source": [
        "model = RandomForestClassifier(random_state=12345, n_estimators=20, max_depth=14)\n",
        "model.fit(features_train, target_train)\n",
        "predictions_valid = model.predict(features_valid)\n",
        "confusion_matrix(target_valid, predictions_valid)"
      ]
    },
    {
      "cell_type": "markdown",
      "metadata": {
        "id": "qh9_ss7sEvmA"
      },
      "source": [
        "<b>Вывод</b>\n",
        "\n",
        "- Модель угадывает большое количество истинно отрицательных ответов\n",
        "- Количество угаданных истинно положительных ответов критически мало\n",
        "\n",
        "Соответственно, у модели низкие показатели точности и полноты"
      ]
    },
    {
      "cell_type": "markdown",
      "metadata": {
        "id": "LH-9SzU8EvmA"
      },
      "source": [
        "### Балансировка классов"
      ]
    },
    {
      "cell_type": "markdown",
      "metadata": {
        "id": "v_-wrT8GEvmB"
      },
      "source": [
        "Сбалансируем классы при помощи аргумента *class_weight*. Посчитаем F1-меру и AUC-ROC.\n",
        "\n",
        "Подбор глубины леса при небольшом количестве деревьев"
      ]
    },
    {
      "cell_type": "code",
      "execution_count": null,
      "metadata": {
        "id": "5RHNw_cfEvmB",
        "outputId": "e28d68b6-44df-45cf-8091-7d75667e7a0d"
      },
      "outputs": [
        {
          "data": {
            "text/plain": [
              "(11, 0.6055276381909548)"
            ]
          },
          "execution_count": 22,
          "metadata": {},
          "output_type": "execute_result"
        }
      ],
      "source": [
        "best_result = 0\n",
        "for depth in range(1, 30, 1):\n",
        "    model = RandomForestClassifier(n_estimators=20, max_depth=depth, random_state=12345, class_weight='balanced')\n",
        "    model.fit(features_train, target_train)\n",
        "    predictions_valid = model.predict(features_valid)\n",
        "    result = f1_score(target_valid, predictions_valid)\n",
        "    if result > best_result:\n",
        "        best_result = result\n",
        "        best_depth = depth\n",
        "best_depth, best_result"
      ]
    },
    {
      "cell_type": "markdown",
      "metadata": {
        "id": "G2zeh-xhEvmB"
      },
      "source": [
        "Создадим цикл, в котором переберём модели случайного леса с количеством деревьев от 10 до 201 с шагом 10, обучим каждую на обучающей выборке, проверим результат обучения на валидационной выборке и выберем из них лес с максимальной F1-мерой."
      ]
    },
    {
      "cell_type": "code",
      "execution_count": null,
      "metadata": {
        "id": "RnXzI902EvmB",
        "outputId": "7f58dae3-e38c-49d8-949d-039fa2c374ad"
      },
      "outputs": [
        {
          "data": {
            "text/plain": [
              "'Количество деревьев:'"
            ]
          },
          "metadata": {},
          "output_type": "display_data"
        },
        {
          "data": {
            "text/plain": [
              "20"
            ]
          },
          "metadata": {},
          "output_type": "display_data"
        },
        {
          "data": {
            "text/plain": [
              "'AUC-ROC'"
            ]
          },
          "metadata": {},
          "output_type": "display_data"
        },
        {
          "data": {
            "text/plain": [
              "0.846924031860427"
            ]
          },
          "metadata": {},
          "output_type": "display_data"
        },
        {
          "data": {
            "text/plain": [
              "'F1-мера'"
            ]
          },
          "metadata": {},
          "output_type": "display_data"
        },
        {
          "data": {
            "text/plain": [
              "0.6055276381909548"
            ]
          },
          "metadata": {},
          "output_type": "display_data"
        }
      ],
      "source": [
        "best_model = None\n",
        "best_f1 = 0\n",
        "best_auc_roc = 0\n",
        "\n",
        "for est in range(10, 201, 10):\n",
        "    model = RandomForestClassifier(random_state=12345, n_estimators=est, max_depth=11, class_weight='balanced')\n",
        "    model.fit(features_train, target_train)\n",
        "    predictions_valid = model.predict(features_valid)\n",
        "    f1 = f1_score(target_valid, predictions_valid)\n",
        "    probabilities_valid = model.predict_proba(features_valid)\n",
        "    auc_roc = roc_auc_score(target_valid, probabilities_valid[:, 1])\n",
        "    if f1 > best_f1:\n",
        "        best_model = model\n",
        "        best_f1 = f1\n",
        "        best_est = est\n",
        "        best_auc_roc = auc_roc\n",
        "\n",
        "display('Количество деревьев:', best_est)\n",
        "display('AUC-ROC', best_auc_roc)\n",
        "display('F1-мера', best_f1)"
      ]
    },
    {
      "cell_type": "markdown",
      "metadata": {
        "id": "rUNI0RL5EvmD"
      },
      "source": [
        "<b>Вывод</b>\n",
        "\n",
        "- после балансировки классов достигнуто значение *F1-меры* 0.6\n",
        "- значение *AUC-ROC* равно 0.85\n",
        "- гиперпараметры модели: глубина леса - 11, количество деревьев - 20"
      ]
    },
    {
      "cell_type": "markdown",
      "metadata": {
        "id": "9vAXjObEEvmD"
      },
      "source": [
        "### Увеличение выборки"
      ]
    },
    {
      "cell_type": "markdown",
      "metadata": {
        "id": "-wx1rvgjEvmD"
      },
      "source": [
        "Применим технику *upsampling* для этого создадим функцию *upsample*, которая принимает признаки, цель и количество копий, возвращает увеличенные выборки признаков.\n",
        "\n",
        "Выполним несколько шагов:\n",
        "- Разделим обучающую выборку на отрицательные и положительные объекты\n",
        "- Продублируем объекты положительного класса и объединим их с объектами отрицательного класса\n",
        "- Перемешаем данные функцией *shuffle*\n",
        "- Получим новые обучающие выборки"
      ]
    },
    {
      "cell_type": "code",
      "execution_count": null,
      "metadata": {
        "id": "cX6LrhJUEvmE"
      },
      "outputs": [],
      "source": [
        "def upsample(features, target, repeat):\n",
        "    features_zeros = features[target == 0]\n",
        "    features_ones = features[target == 1]\n",
        "    target_zeros = target[target == 0]\n",
        "    target_ones = target[target == 1]\n",
        "    \n",
        "    features_upsampled = np.concatenate([features_zeros] + [features_ones] * repeat)\n",
        "    target_upsampled = np.concatenate([target_zeros] + [target_ones] * repeat)\n",
        "    \n",
        "    features_upsampled, target_upsampled = shuffle(\n",
        "        features_upsampled, target_upsampled, random_state=12345)\n",
        "    \n",
        "    return features_upsampled, target_upsampled\n",
        "\n",
        "features_upsampled, target_upsampled = upsample(features_train, target_train, 4)"
      ]
    },
    {
      "cell_type": "markdown",
      "metadata": {
        "id": "usQ3-eU_EvmF"
      },
      "source": [
        "Обучим модель случайного леса на новых данных. Найдём значение F1-меры.\n",
        "\n",
        "Подбор глубины леса при небольшом количестве деревьев"
      ]
    },
    {
      "cell_type": "code",
      "execution_count": null,
      "metadata": {
        "id": "NulQ9KtAEvmF",
        "outputId": "1ef33728-6089-45ac-ef14-1044af311096"
      },
      "outputs": [
        {
          "data": {
            "text/plain": [
              "(17, 0.5935828877005347)"
            ]
          },
          "execution_count": 25,
          "metadata": {},
          "output_type": "execute_result"
        }
      ],
      "source": [
        "best_result = 0\n",
        "for depth in range(1, 30, 1):\n",
        "    model = RandomForestClassifier(n_estimators=20, max_depth=depth, random_state=12345)\n",
        "    model.fit(features_upsampled, target_upsampled)\n",
        "    predictions_valid = model.predict(features_valid)\n",
        "    result = f1_score(target_valid, predictions_valid)\n",
        "    if result > best_result:\n",
        "        best_result = result\n",
        "        best_depth = depth\n",
        "best_depth, best_result"
      ]
    },
    {
      "cell_type": "markdown",
      "metadata": {
        "id": "Kdz4FQVQEvmF"
      },
      "source": [
        "Создадим цикл, в котором переберём модели случайного леса с количеством деревьев от 10 до 201 с шагом 10, обучим каждую на обучающей выборке, проверим результат обучения на валидационной выборке и выберем из них лес с максимальной F1-мерой."
      ]
    },
    {
      "cell_type": "code",
      "execution_count": null,
      "metadata": {
        "id": "R1KGdxeIEvmF",
        "outputId": "7505bc95-ecb3-40e2-fdf0-69f46d07224f"
      },
      "outputs": [
        {
          "data": {
            "text/plain": [
              "'Количество деревьев:'"
            ]
          },
          "metadata": {},
          "output_type": "display_data"
        },
        {
          "data": {
            "text/plain": [
              "100"
            ]
          },
          "metadata": {},
          "output_type": "display_data"
        },
        {
          "data": {
            "text/plain": [
              "'AUC-ROC'"
            ]
          },
          "metadata": {},
          "output_type": "display_data"
        },
        {
          "data": {
            "text/plain": [
              "0.8404451304125292"
            ]
          },
          "metadata": {},
          "output_type": "display_data"
        },
        {
          "data": {
            "text/plain": [
              "'F1-мера'"
            ]
          },
          "metadata": {},
          "output_type": "display_data"
        },
        {
          "data": {
            "text/plain": [
              "0.5956284153005464"
            ]
          },
          "metadata": {},
          "output_type": "display_data"
        }
      ],
      "source": [
        "best_model = None\n",
        "best_f1 = 0\n",
        "best_auc_roc = 0\n",
        "\n",
        "for est in range(10, 201, 10):\n",
        "    model = RandomForestClassifier(random_state=12345, n_estimators=est, max_depth=17)\n",
        "    model.fit(features_upsampled, target_upsampled)\n",
        "    predictions_valid = model.predict(features_valid)\n",
        "    f1 = f1_score(target_valid, predictions_valid)\n",
        "    probabilities_valid = model.predict_proba(features_valid)\n",
        "    auc_roc = roc_auc_score(target_valid, probabilities_valid[:, 1])\n",
        "    if f1 > best_f1:\n",
        "        best_model = model\n",
        "        best_f1 = f1\n",
        "        best_est = est\n",
        "        best_auc_roc = auc_roc\n",
        "\n",
        "display('Количество деревьев:', best_est)\n",
        "display('AUC-ROC', best_auc_roc)\n",
        "display('F1-мера', best_f1)"
      ]
    },
    {
      "cell_type": "markdown",
      "metadata": {
        "id": "w3t3k31TEvmG"
      },
      "source": [
        "<b>Вывод</b>\n",
        "\n",
        "- после применения методики *upsampling* получено значение *F1-меры* 0.596\n",
        "- значение *AUC-ROC* равно 0.84\n",
        "- гиперпараметры модели: глубина леса - 17, количество деревьев - 100"
      ]
    },
    {
      "cell_type": "markdown",
      "metadata": {
        "id": "sRa_1HlwEvmH"
      },
      "source": [
        "### Уменьшение выборки"
      ]
    },
    {
      "cell_type": "markdown",
      "metadata": {
        "id": "jEpOxd4SEvmH"
      },
      "source": [
        "Применим технику *downsampling* для этого создадим функцию *downsample*, которая принимает признаки, цель и долю сохраняемых отрицательных объектов, возвращает уменьшенные выборки признаков.\n",
        "\n",
        "Выполним несколько шагов:\n",
        "\n",
        "- Разделим обучающую выборку на отрицательные и положительные объекты\n",
        "- Случайным образом отбросим часть отрицательных объектов и объединим их с положительными объектами\n",
        "- Перемешаем данные функцией shuffle\n",
        "- Получим новые обучающие выборки"
      ]
    },
    {
      "cell_type": "code",
      "execution_count": null,
      "metadata": {
        "id": "cJgLS3Z0EvmH"
      },
      "outputs": [],
      "source": [
        "def downsample(features, target, fraction):\n",
        "    features_zeros = features[target == 0]\n",
        "    features_ones = features[target == 1]\n",
        "    target_zeros = target[target == 0]\n",
        "    target_ones = target[target == 1]\n",
        "\n",
        "    features_downsampled = np.concatenate(\n",
        "        [pd.DataFrame(features_zeros).sample(frac=fraction, random_state=12345)] + [features_ones])\n",
        "    target_downsampled = np.concatenate(\n",
        "        [target_zeros.sample(frac=fraction, random_state=12345)] + [target_ones])\n",
        "    \n",
        "    features_downsampled, target_downsampled = shuffle(\n",
        "        features_downsampled, target_downsampled, random_state=12345)\n",
        "    \n",
        "    return features_downsampled, target_downsampled\n",
        "\n",
        "features_downsampled, target_downsampled = downsample(features_train, target_train, 0.25)"
      ]
    },
    {
      "cell_type": "markdown",
      "metadata": {
        "id": "l2ahsg1gEvmJ"
      },
      "source": [
        "Обучим модель случайного леса на новых данных. Найдём значение F1-меры.\n",
        "\n",
        "Подбор глубины леса при небольшом количестве деревьев"
      ]
    },
    {
      "cell_type": "code",
      "execution_count": null,
      "metadata": {
        "id": "bXvdrBVOEvmK",
        "outputId": "836c8f66-d8a5-4f82-9c41-5e70a00dab41"
      },
      "outputs": [
        {
          "data": {
            "text/plain": [
              "(10, 0.5656370656370657)"
            ]
          },
          "execution_count": 28,
          "metadata": {},
          "output_type": "execute_result"
        }
      ],
      "source": [
        "best_result = 0\n",
        "for depth in range(1, 30, 1):\n",
        "    model = RandomForestClassifier(n_estimators=20, max_depth=depth, random_state=12345)\n",
        "    model.fit(features_downsampled, target_downsampled)\n",
        "    predictions_valid = model.predict(features_valid)\n",
        "    result = f1_score(target_valid, predictions_valid)\n",
        "    if result > best_result:\n",
        "        best_result = result\n",
        "        best_depth = depth\n",
        "best_depth, best_result"
      ]
    },
    {
      "cell_type": "markdown",
      "metadata": {
        "id": "uYjNb5NjEvmL"
      },
      "source": [
        "Создадим цикл, в котором переберём модели случайного леса с количеством деревьев от 10 до 201 с шагом 10, обучим каждую на обучающей выборке, проверим результат обучения на валидационной выборке и выберем из них лес с максимальной F1-мерой."
      ]
    },
    {
      "cell_type": "code",
      "execution_count": null,
      "metadata": {
        "id": "MrBwhyNJEvmL",
        "outputId": "f236b9a4-59d5-4831-9ad6-08a58e22b703"
      },
      "outputs": [
        {
          "data": {
            "text/plain": [
              "'Количество деревьев:'"
            ]
          },
          "metadata": {},
          "output_type": "display_data"
        },
        {
          "data": {
            "text/plain": [
              "20"
            ]
          },
          "metadata": {},
          "output_type": "display_data"
        },
        {
          "data": {
            "text/plain": [
              "'AUC-ROC'"
            ]
          },
          "metadata": {},
          "output_type": "display_data"
        },
        {
          "data": {
            "text/plain": [
              "0.8430503609015146"
            ]
          },
          "metadata": {},
          "output_type": "display_data"
        },
        {
          "data": {
            "text/plain": [
              "'F1-мера'"
            ]
          },
          "metadata": {},
          "output_type": "display_data"
        },
        {
          "data": {
            "text/plain": [
              "0.5656370656370657"
            ]
          },
          "metadata": {},
          "output_type": "display_data"
        }
      ],
      "source": [
        "best_model = None\n",
        "best_f1 = 0\n",
        "best_auc_roc = 0\n",
        "\n",
        "for est in range(10, 201, 10):\n",
        "    model = RandomForestClassifier(random_state=12345, n_estimators=est, max_depth=10)\n",
        "    model.fit(features_downsampled, target_downsampled)\n",
        "    predictions_valid = model.predict(features_valid)\n",
        "    f1 = f1_score(target_valid, predictions_valid)\n",
        "    probabilities_valid = model.predict_proba(features_valid)\n",
        "    auc_roc = roc_auc_score(target_valid, probabilities_valid[:, 1])\n",
        "    if f1 > best_f1:\n",
        "        best_model = model\n",
        "        best_f1 = f1\n",
        "        best_est = est\n",
        "        best_auc_roc = auc_roc\n",
        "\n",
        "display('Количество деревьев:', best_est)\n",
        "display('AUC-ROC', best_auc_roc)\n",
        "display('F1-мера', best_f1)"
      ]
    },
    {
      "cell_type": "markdown",
      "metadata": {
        "id": "353_52wsEvmM"
      },
      "source": [
        "<b>Вывод:</b>\n",
        "    \n",
        "- после применения методики *downsampling* получено значение F1-меры 0.566\n",
        "- значение AUC-ROC равно 0.843\n",
        "- гиперпараметры модели: глубина леса - 10, количество деревьев - 20"
      ]
    },
    {
      "cell_type": "markdown",
      "metadata": {
        "id": "mbtG-vdCEvmN"
      },
      "source": [
        "### Вывод"
      ]
    },
    {
      "cell_type": "markdown",
      "metadata": {
        "id": "oR3pXtaVEvmN"
      },
      "source": [
        "- баланс классов в данных равен 4:1    \n",
        "- матрица ошибок показала, что у выбранной модели низкие показатели точности и полноты\n",
        "- для борьбы с дисбалансом были применены: балансировка классов, увеличение и уменьшение выборки\n",
        "- эффективней всего показала себя техника балансировки классов - её и применим при тестировании модели"
      ]
    },
    {
      "cell_type": "markdown",
      "metadata": {
        "id": "7Fz-DxtnEvmO"
      },
      "source": [
        "## Тестирование модели"
      ]
    },
    {
      "cell_type": "markdown",
      "metadata": {
        "id": "1nL3SmPYEvmO"
      },
      "source": [
        "Для тестирования выбранной модели обучим её на объединённой выборке из обучающей и проверочной, применив технику *upsampling*."
      ]
    },
    {
      "cell_type": "code",
      "execution_count": null,
      "metadata": {
        "id": "FC3NWBxkEvmO",
        "outputId": "66abd0b7-ed03-4a26-f0d5-1c8508a8915e"
      },
      "outputs": [
        {
          "data": {
            "text/plain": [
              "'AUC-ROC'"
            ]
          },
          "metadata": {},
          "output_type": "display_data"
        },
        {
          "data": {
            "text/plain": [
              "0.8596693917111204"
            ]
          },
          "metadata": {},
          "output_type": "display_data"
        },
        {
          "data": {
            "text/plain": [
              "'F1-мера'"
            ]
          },
          "metadata": {},
          "output_type": "display_data"
        },
        {
          "data": {
            "text/plain": [
              "0.625139043381535"
            ]
          },
          "metadata": {},
          "output_type": "display_data"
        }
      ],
      "source": [
        "model = RandomForestClassifier(random_state=12345, n_estimators=20, max_depth=11, class_weight='balanced')\n",
        "model.fit(features_train_for_test, target_train_for_test)\n",
        "predictions_test = model.predict(features_test)\n",
        "\n",
        "probabilities_test = model.predict_proba(features_test)\n",
        "\n",
        "display('AUC-ROC', roc_auc_score(target_test, probabilities_test[:, 1]))\n",
        "display('F1-мера', f1_score(target_test, predictions_test))"
      ]
    },
    {
      "cell_type": "markdown",
      "metadata": {
        "id": "ZgSf2gMPEvmP"
      },
      "source": [
        "### Вывод"
      ]
    },
    {
      "cell_type": "markdown",
      "metadata": {
        "id": "3kQjUCaCEvmQ"
      },
      "source": [
        "- Выбранная модель и техника баласировки классов позволили достичь значения F1-меры 0.625\n",
        "- Значение AUC-ROC получилось равным 0.86, что также выше всех полученных ранее"
      ]
    },
    {
      "cell_type": "markdown",
      "metadata": {
        "id": "aezU-yh7EvmR"
      },
      "source": [
        "## Общий вывод"
      ]
    },
    {
      "cell_type": "markdown",
      "metadata": {
        "id": "Prw-iq4mEvmR"
      },
      "source": [
        "- Для проведения обучения, проверки моделей и тестирования лучшей модели исходный датафрейм был разделён на три выборки: обучающую (60%), валидационную (20%) и тестовую (20%).\n",
        "- В исследовании участвовали три различные алгоритма классификации: дерево решений, случайный лес и логистическая регрессия.\n",
        "- Для выбора оптимальной модели использовались две метрики классификации: F1-мера (это метрика качества классификации, являющаяся средним гармоническим полноты и точности) и AUC-ROC (метрика позволяющая выявить, как сильно наша модель отличается от случайной: значение AUC-ROC случайной модели равно 0.5)\n",
        "- Значение F1-меры при выборе модели оказалось наибольшим у Случайного Леса.\n",
        "- Для борьбы с дисбалансом классов были применены: балансировка классов, увеличение и уменьшение выборки\n",
        "- Эффективней всего показала себя техника балансировки классов - её применили при тестировании модели\n",
        "- По итогам исследования можно сделать заключение о том, что для получения прогноза оттока клиентов наиболее подходящей моделью является модель Случайного Леса с глубиной 11 и количеством деревьев 20: значение F1-меры в тестовой выборке составило 0.625, расчётное значение AUC-ROC оказалось 0.86"
      ]
    }
  ],
  "metadata": {
    "ExecuteTimeLog": [
      {
        "duration": 1514,
        "start_time": "2022-07-03T15:48:40.916Z"
      },
      {
        "duration": 106,
        "start_time": "2022-07-03T15:51:15.851Z"
      },
      {
        "duration": 12,
        "start_time": "2022-07-03T16:02:58.073Z"
      },
      {
        "duration": 12,
        "start_time": "2022-07-03T16:03:06.174Z"
      },
      {
        "duration": 4,
        "start_time": "2022-07-03T16:07:58.951Z"
      },
      {
        "duration": 97,
        "start_time": "2022-07-03T16:08:08.352Z"
      },
      {
        "duration": 4,
        "start_time": "2022-07-03T16:08:24.226Z"
      },
      {
        "duration": 7,
        "start_time": "2022-07-03T16:09:05.778Z"
      },
      {
        "duration": 971,
        "start_time": "2022-07-03T16:09:48.180Z"
      },
      {
        "duration": 11,
        "start_time": "2022-07-03T16:10:21.508Z"
      },
      {
        "duration": 520,
        "start_time": "2022-07-03T16:10:39.792Z"
      },
      {
        "duration": 804,
        "start_time": "2022-07-03T16:10:58.325Z"
      },
      {
        "duration": 8,
        "start_time": "2022-07-03T16:11:11.594Z"
      },
      {
        "duration": 1119,
        "start_time": "2022-07-03T16:27:14.768Z"
      },
      {
        "duration": 6,
        "start_time": "2022-07-03T16:27:28.421Z"
      },
      {
        "duration": 743,
        "start_time": "2022-07-03T16:29:55.176Z"
      },
      {
        "duration": 5,
        "start_time": "2022-07-03T16:39:16.259Z"
      },
      {
        "duration": 27,
        "start_time": "2022-07-03T16:40:21.487Z"
      },
      {
        "duration": 7,
        "start_time": "2022-07-03T16:40:57.392Z"
      },
      {
        "duration": 914,
        "start_time": "2022-07-03T16:42:04.559Z"
      },
      {
        "duration": 9,
        "start_time": "2022-07-03T16:42:19.325Z"
      },
      {
        "duration": 5,
        "start_time": "2022-07-03T16:44:02.288Z"
      },
      {
        "duration": 52,
        "start_time": "2022-07-03T16:44:52.385Z"
      },
      {
        "duration": 6,
        "start_time": "2022-07-03T16:44:59.739Z"
      },
      {
        "duration": 58,
        "start_time": "2022-07-03T16:51:55.174Z"
      },
      {
        "duration": 8,
        "start_time": "2022-07-03T16:52:04.381Z"
      },
      {
        "duration": 4,
        "start_time": "2022-07-03T16:53:39.127Z"
      },
      {
        "duration": 4,
        "start_time": "2022-07-03T16:56:21.917Z"
      },
      {
        "duration": 11,
        "start_time": "2022-07-03T16:57:18.356Z"
      },
      {
        "duration": 11,
        "start_time": "2022-07-03T16:58:00.679Z"
      },
      {
        "duration": 14,
        "start_time": "2022-07-03T16:58:46.284Z"
      },
      {
        "duration": 1229,
        "start_time": "2022-07-03T16:59:10.945Z"
      },
      {
        "duration": 49,
        "start_time": "2022-07-03T16:59:12.176Z"
      },
      {
        "duration": 11,
        "start_time": "2022-07-03T16:59:12.227Z"
      },
      {
        "duration": 5,
        "start_time": "2022-07-03T16:59:12.240Z"
      },
      {
        "duration": 5,
        "start_time": "2022-07-03T16:59:12.258Z"
      },
      {
        "duration": 15,
        "start_time": "2022-07-03T16:59:12.264Z"
      },
      {
        "duration": 10,
        "start_time": "2022-07-03T16:59:12.281Z"
      },
      {
        "duration": 6,
        "start_time": "2022-07-03T16:59:16.157Z"
      },
      {
        "duration": 6,
        "start_time": "2022-07-03T17:00:39.354Z"
      },
      {
        "duration": 15,
        "start_time": "2022-07-03T17:01:01.005Z"
      },
      {
        "duration": 18,
        "start_time": "2022-07-03T17:01:47.911Z"
      },
      {
        "duration": 16,
        "start_time": "2022-07-03T17:02:10.789Z"
      },
      {
        "duration": 1273,
        "start_time": "2022-07-03T17:02:38.304Z"
      },
      {
        "duration": 14,
        "start_time": "2022-07-03T17:06:24.152Z"
      },
      {
        "duration": 17,
        "start_time": "2022-07-03T17:06:42.700Z"
      },
      {
        "duration": 11,
        "start_time": "2022-07-03T17:19:49.839Z"
      },
      {
        "duration": 71,
        "start_time": "2022-07-03T17:20:53.437Z"
      },
      {
        "duration": 9,
        "start_time": "2022-07-03T17:21:13.286Z"
      },
      {
        "duration": 23,
        "start_time": "2022-07-03T17:21:28.237Z"
      },
      {
        "duration": 21,
        "start_time": "2022-07-03T17:22:00.356Z"
      },
      {
        "duration": 22,
        "start_time": "2022-07-03T17:22:13.800Z"
      },
      {
        "duration": 8,
        "start_time": "2022-07-03T17:22:54.900Z"
      },
      {
        "duration": 11,
        "start_time": "2022-07-03T17:23:22.181Z"
      },
      {
        "duration": 1572,
        "start_time": "2022-07-03T17:23:47.347Z"
      },
      {
        "duration": 65,
        "start_time": "2022-07-03T17:23:48.921Z"
      },
      {
        "duration": 18,
        "start_time": "2022-07-03T17:23:48.988Z"
      },
      {
        "duration": 7,
        "start_time": "2022-07-03T17:23:49.010Z"
      },
      {
        "duration": 10,
        "start_time": "2022-07-03T17:23:49.019Z"
      },
      {
        "duration": 8,
        "start_time": "2022-07-03T17:23:49.031Z"
      },
      {
        "duration": 6,
        "start_time": "2022-07-03T17:23:49.041Z"
      },
      {
        "duration": 8,
        "start_time": "2022-07-03T17:23:49.063Z"
      },
      {
        "duration": 7,
        "start_time": "2022-07-03T17:23:55.148Z"
      },
      {
        "duration": 21,
        "start_time": "2022-07-03T17:24:19.900Z"
      },
      {
        "duration": 15,
        "start_time": "2022-07-03T17:24:39.740Z"
      },
      {
        "duration": 47,
        "start_time": "2022-07-03T17:25:10.752Z"
      },
      {
        "duration": 103,
        "start_time": "2022-07-03T17:35:41.447Z"
      },
      {
        "duration": 6,
        "start_time": "2022-07-03T17:35:47.157Z"
      },
      {
        "duration": 8,
        "start_time": "2022-07-03T17:36:04.203Z"
      },
      {
        "duration": 1418,
        "start_time": "2022-07-03T17:36:34.791Z"
      },
      {
        "duration": 54,
        "start_time": "2022-07-03T17:36:36.212Z"
      },
      {
        "duration": 18,
        "start_time": "2022-07-03T17:36:36.274Z"
      },
      {
        "duration": 14,
        "start_time": "2022-07-03T17:36:36.294Z"
      },
      {
        "duration": 9,
        "start_time": "2022-07-03T17:36:36.310Z"
      },
      {
        "duration": 11,
        "start_time": "2022-07-03T17:36:36.320Z"
      },
      {
        "duration": 9,
        "start_time": "2022-07-03T17:36:36.332Z"
      },
      {
        "duration": 25,
        "start_time": "2022-07-03T17:36:36.342Z"
      },
      {
        "duration": 8,
        "start_time": "2022-07-03T17:36:40.546Z"
      },
      {
        "duration": 9,
        "start_time": "2022-07-03T17:38:24.895Z"
      },
      {
        "duration": 10,
        "start_time": "2022-07-03T17:38:43.189Z"
      },
      {
        "duration": 1440,
        "start_time": "2022-07-04T17:35:26.569Z"
      },
      {
        "duration": 78,
        "start_time": "2022-07-04T17:35:28.011Z"
      },
      {
        "duration": 10,
        "start_time": "2022-07-04T17:35:28.091Z"
      },
      {
        "duration": 10,
        "start_time": "2022-07-04T17:35:28.103Z"
      },
      {
        "duration": 16,
        "start_time": "2022-07-04T17:35:28.114Z"
      },
      {
        "duration": 24,
        "start_time": "2022-07-04T17:35:28.132Z"
      },
      {
        "duration": 12,
        "start_time": "2022-07-04T17:35:28.158Z"
      },
      {
        "duration": 25,
        "start_time": "2022-07-04T17:35:28.171Z"
      },
      {
        "duration": 14,
        "start_time": "2022-07-04T17:35:28.197Z"
      },
      {
        "duration": 31,
        "start_time": "2022-07-04T17:36:04.585Z"
      },
      {
        "duration": 26,
        "start_time": "2022-07-04T17:37:24.674Z"
      },
      {
        "duration": 17,
        "start_time": "2022-07-04T17:37:36.233Z"
      },
      {
        "duration": 12,
        "start_time": "2022-07-04T17:37:45.612Z"
      },
      {
        "duration": 13,
        "start_time": "2022-07-04T17:47:00.710Z"
      },
      {
        "duration": 8,
        "start_time": "2022-07-04T17:47:10.894Z"
      },
      {
        "duration": 11,
        "start_time": "2022-07-04T17:47:32.538Z"
      },
      {
        "duration": 5,
        "start_time": "2022-07-04T18:02:42.937Z"
      },
      {
        "duration": 12,
        "start_time": "2022-07-04T18:03:12.936Z"
      },
      {
        "duration": 7,
        "start_time": "2022-07-04T18:06:42.710Z"
      },
      {
        "duration": 106,
        "start_time": "2022-07-04T18:14:05.984Z"
      },
      {
        "duration": 1320,
        "start_time": "2022-07-04T18:14:20.252Z"
      },
      {
        "duration": 53,
        "start_time": "2022-07-04T18:14:21.575Z"
      },
      {
        "duration": 12,
        "start_time": "2022-07-04T18:14:21.629Z"
      },
      {
        "duration": 6,
        "start_time": "2022-07-04T18:14:21.643Z"
      },
      {
        "duration": 7,
        "start_time": "2022-07-04T18:14:21.651Z"
      },
      {
        "duration": 6,
        "start_time": "2022-07-04T18:14:21.660Z"
      },
      {
        "duration": 8,
        "start_time": "2022-07-04T18:14:21.668Z"
      },
      {
        "duration": 7,
        "start_time": "2022-07-04T18:14:21.678Z"
      },
      {
        "duration": 12,
        "start_time": "2022-07-04T18:14:21.687Z"
      },
      {
        "duration": 44,
        "start_time": "2022-07-04T18:14:21.701Z"
      },
      {
        "duration": 8,
        "start_time": "2022-07-04T18:14:21.746Z"
      },
      {
        "duration": 102,
        "start_time": "2022-07-04T18:14:29.180Z"
      },
      {
        "duration": 6,
        "start_time": "2022-07-04T18:16:25.682Z"
      },
      {
        "duration": 6,
        "start_time": "2022-07-04T18:18:21.678Z"
      },
      {
        "duration": 20,
        "start_time": "2022-07-04T18:32:12.145Z"
      },
      {
        "duration": 1273,
        "start_time": "2022-07-04T18:32:39.173Z"
      },
      {
        "duration": 49,
        "start_time": "2022-07-04T18:32:40.448Z"
      },
      {
        "duration": 13,
        "start_time": "2022-07-04T18:32:40.498Z"
      },
      {
        "duration": 5,
        "start_time": "2022-07-04T18:32:40.512Z"
      },
      {
        "duration": 8,
        "start_time": "2022-07-04T18:32:40.519Z"
      },
      {
        "duration": 6,
        "start_time": "2022-07-04T18:32:40.543Z"
      },
      {
        "duration": 8,
        "start_time": "2022-07-04T18:32:40.551Z"
      },
      {
        "duration": 7,
        "start_time": "2022-07-04T18:32:40.561Z"
      },
      {
        "duration": 8,
        "start_time": "2022-07-04T18:32:40.569Z"
      },
      {
        "duration": 15,
        "start_time": "2022-07-04T18:32:40.579Z"
      },
      {
        "duration": 20,
        "start_time": "2022-07-04T18:32:45.086Z"
      },
      {
        "duration": 23,
        "start_time": "2022-07-04T18:33:30.811Z"
      },
      {
        "duration": 1270,
        "start_time": "2022-07-04T18:34:43.164Z"
      },
      {
        "duration": 58,
        "start_time": "2022-07-04T18:34:44.437Z"
      },
      {
        "duration": 29,
        "start_time": "2022-07-04T18:34:44.497Z"
      },
      {
        "duration": 11,
        "start_time": "2022-07-04T18:34:44.529Z"
      },
      {
        "duration": 33,
        "start_time": "2022-07-04T18:34:44.542Z"
      },
      {
        "duration": 13,
        "start_time": "2022-07-04T18:34:44.577Z"
      },
      {
        "duration": 30,
        "start_time": "2022-07-04T18:34:44.592Z"
      },
      {
        "duration": 20,
        "start_time": "2022-07-04T18:34:44.624Z"
      },
      {
        "duration": 15,
        "start_time": "2022-07-04T18:34:44.646Z"
      },
      {
        "duration": 16,
        "start_time": "2022-07-04T18:34:44.664Z"
      },
      {
        "duration": 20,
        "start_time": "2022-07-04T18:34:48.037Z"
      },
      {
        "duration": 19,
        "start_time": "2022-07-04T18:35:33.670Z"
      },
      {
        "duration": 1292,
        "start_time": "2022-07-04T18:37:31.577Z"
      },
      {
        "duration": 51,
        "start_time": "2022-07-04T18:37:32.871Z"
      },
      {
        "duration": 11,
        "start_time": "2022-07-04T18:37:32.924Z"
      },
      {
        "duration": 6,
        "start_time": "2022-07-04T18:37:32.942Z"
      },
      {
        "duration": 7,
        "start_time": "2022-07-04T18:37:32.950Z"
      },
      {
        "duration": 7,
        "start_time": "2022-07-04T18:37:32.958Z"
      },
      {
        "duration": 6,
        "start_time": "2022-07-04T18:37:32.967Z"
      },
      {
        "duration": 7,
        "start_time": "2022-07-04T18:37:32.974Z"
      },
      {
        "duration": 8,
        "start_time": "2022-07-04T18:37:32.983Z"
      },
      {
        "duration": 15,
        "start_time": "2022-07-04T18:37:32.992Z"
      },
      {
        "duration": 21,
        "start_time": "2022-07-04T18:37:37.387Z"
      },
      {
        "duration": 13,
        "start_time": "2022-07-04T18:39:31.658Z"
      },
      {
        "duration": 105,
        "start_time": "2022-07-04T18:40:18.502Z"
      },
      {
        "duration": 8,
        "start_time": "2022-07-04T18:40:45.400Z"
      },
      {
        "duration": 29,
        "start_time": "2022-07-04T18:41:02.343Z"
      },
      {
        "duration": 29,
        "start_time": "2022-07-04T18:41:19.388Z"
      },
      {
        "duration": 16,
        "start_time": "2022-07-04T18:53:50.454Z"
      },
      {
        "duration": 292,
        "start_time": "2022-07-04T18:54:43.840Z"
      },
      {
        "duration": 278,
        "start_time": "2022-07-04T18:57:08.765Z"
      },
      {
        "duration": 3450,
        "start_time": "2022-07-04T19:00:18.883Z"
      },
      {
        "duration": 3513,
        "start_time": "2022-07-04T19:01:50.777Z"
      },
      {
        "duration": 80,
        "start_time": "2022-07-04T19:03:06.540Z"
      },
      {
        "duration": 77,
        "start_time": "2022-07-04T19:03:31.259Z"
      },
      {
        "duration": 174,
        "start_time": "2022-07-04T19:06:36.819Z"
      },
      {
        "duration": 198,
        "start_time": "2022-07-04T19:07:01.523Z"
      },
      {
        "duration": 172,
        "start_time": "2022-07-04T19:07:17.621Z"
      },
      {
        "duration": 3779,
        "start_time": "2022-07-04T19:07:30.890Z"
      },
      {
        "duration": 354,
        "start_time": "2022-07-04T19:11:04.601Z"
      },
      {
        "duration": 3640,
        "start_time": "2022-07-04T19:11:55.046Z"
      },
      {
        "duration": 1576,
        "start_time": "2022-07-05T17:33:33.205Z"
      },
      {
        "duration": 86,
        "start_time": "2022-07-05T17:33:34.783Z"
      },
      {
        "duration": 12,
        "start_time": "2022-07-05T17:33:34.871Z"
      },
      {
        "duration": 7,
        "start_time": "2022-07-05T17:33:34.885Z"
      },
      {
        "duration": 18,
        "start_time": "2022-07-05T17:33:34.893Z"
      },
      {
        "duration": 11,
        "start_time": "2022-07-05T17:33:34.913Z"
      },
      {
        "duration": 13,
        "start_time": "2022-07-05T17:33:34.926Z"
      },
      {
        "duration": 9,
        "start_time": "2022-07-05T17:33:34.941Z"
      },
      {
        "duration": 13,
        "start_time": "2022-07-05T17:33:34.952Z"
      },
      {
        "duration": 21,
        "start_time": "2022-07-05T17:33:34.968Z"
      },
      {
        "duration": 40,
        "start_time": "2022-07-05T17:33:34.991Z"
      },
      {
        "duration": 13,
        "start_time": "2022-07-05T17:33:35.034Z"
      },
      {
        "duration": 7,
        "start_time": "2022-07-05T17:33:35.049Z"
      },
      {
        "duration": 77,
        "start_time": "2022-07-05T17:33:35.059Z"
      },
      {
        "duration": 547,
        "start_time": "2022-07-05T17:33:35.138Z"
      },
      {
        "duration": 4595,
        "start_time": "2022-07-05T17:33:46.727Z"
      },
      {
        "duration": 327,
        "start_time": "2022-07-05T17:44:46.628Z"
      },
      {
        "duration": 450,
        "start_time": "2022-07-05T17:44:59.082Z"
      },
      {
        "duration": 302,
        "start_time": "2022-07-05T17:45:06.246Z"
      },
      {
        "duration": 1500,
        "start_time": "2022-07-05T17:47:43.344Z"
      },
      {
        "duration": 57,
        "start_time": "2022-07-05T17:47:44.848Z"
      },
      {
        "duration": 20,
        "start_time": "2022-07-05T17:47:44.907Z"
      },
      {
        "duration": 7,
        "start_time": "2022-07-05T17:47:44.928Z"
      },
      {
        "duration": 14,
        "start_time": "2022-07-05T17:47:44.938Z"
      },
      {
        "duration": 16,
        "start_time": "2022-07-05T17:47:44.954Z"
      },
      {
        "duration": 14,
        "start_time": "2022-07-05T17:47:44.972Z"
      },
      {
        "duration": 7,
        "start_time": "2022-07-05T17:47:44.988Z"
      },
      {
        "duration": 28,
        "start_time": "2022-07-05T17:47:44.997Z"
      },
      {
        "duration": 15,
        "start_time": "2022-07-05T17:47:45.028Z"
      },
      {
        "duration": 23,
        "start_time": "2022-07-05T17:47:45.045Z"
      },
      {
        "duration": 14,
        "start_time": "2022-07-05T17:47:45.069Z"
      },
      {
        "duration": 42,
        "start_time": "2022-07-05T17:47:45.085Z"
      },
      {
        "duration": 96,
        "start_time": "2022-07-05T17:47:45.131Z"
      },
      {
        "duration": 413,
        "start_time": "2022-07-05T17:47:45.322Z"
      },
      {
        "duration": 4456,
        "start_time": "2022-07-05T17:47:45.737Z"
      },
      {
        "duration": 330,
        "start_time": "2022-07-05T17:48:13.781Z"
      },
      {
        "duration": 5,
        "start_time": "2022-07-05T18:03:58.955Z"
      },
      {
        "duration": 113,
        "start_time": "2022-07-05T18:04:01.644Z"
      },
      {
        "duration": 1368,
        "start_time": "2022-07-05T18:11:34.357Z"
      },
      {
        "duration": 59,
        "start_time": "2022-07-05T18:11:35.728Z"
      },
      {
        "duration": 13,
        "start_time": "2022-07-05T18:11:35.790Z"
      },
      {
        "duration": 10,
        "start_time": "2022-07-05T18:11:35.805Z"
      },
      {
        "duration": 16,
        "start_time": "2022-07-05T18:11:35.824Z"
      },
      {
        "duration": 12,
        "start_time": "2022-07-05T18:11:35.842Z"
      },
      {
        "duration": 15,
        "start_time": "2022-07-05T18:11:35.856Z"
      },
      {
        "duration": 8,
        "start_time": "2022-07-05T18:11:35.874Z"
      },
      {
        "duration": 10,
        "start_time": "2022-07-05T18:11:35.884Z"
      },
      {
        "duration": 35,
        "start_time": "2022-07-05T18:11:35.897Z"
      },
      {
        "duration": 26,
        "start_time": "2022-07-05T18:11:35.937Z"
      },
      {
        "duration": 14,
        "start_time": "2022-07-05T18:11:35.965Z"
      },
      {
        "duration": 9,
        "start_time": "2022-07-05T18:11:35.981Z"
      },
      {
        "duration": 136,
        "start_time": "2022-07-05T18:11:35.992Z"
      },
      {
        "duration": 499,
        "start_time": "2022-07-05T18:11:36.132Z"
      },
      {
        "duration": 4751,
        "start_time": "2022-07-05T18:11:36.633Z"
      },
      {
        "duration": 346,
        "start_time": "2022-07-05T18:11:41.386Z"
      },
      {
        "duration": 20,
        "start_time": "2022-07-05T18:11:41.734Z"
      },
      {
        "duration": 564,
        "start_time": "2022-07-05T18:11:51.838Z"
      },
      {
        "duration": 12,
        "start_time": "2022-07-05T18:21:04.495Z"
      },
      {
        "duration": 133,
        "start_time": "2022-07-05T18:22:14.083Z"
      },
      {
        "duration": 372,
        "start_time": "2022-07-05T18:35:16.551Z"
      },
      {
        "duration": 368,
        "start_time": "2022-07-05T18:35:49.150Z"
      },
      {
        "duration": 336,
        "start_time": "2022-07-05T18:36:20.997Z"
      },
      {
        "duration": 1376,
        "start_time": "2022-07-05T18:36:41.256Z"
      },
      {
        "duration": 54,
        "start_time": "2022-07-05T18:36:42.634Z"
      },
      {
        "duration": 16,
        "start_time": "2022-07-05T18:36:42.690Z"
      },
      {
        "duration": 15,
        "start_time": "2022-07-05T18:36:42.709Z"
      },
      {
        "duration": 7,
        "start_time": "2022-07-05T18:36:42.726Z"
      },
      {
        "duration": 7,
        "start_time": "2022-07-05T18:36:42.736Z"
      },
      {
        "duration": 8,
        "start_time": "2022-07-05T18:36:42.745Z"
      },
      {
        "duration": 12,
        "start_time": "2022-07-05T18:36:42.755Z"
      },
      {
        "duration": 11,
        "start_time": "2022-07-05T18:36:42.769Z"
      },
      {
        "duration": 47,
        "start_time": "2022-07-05T18:36:42.783Z"
      },
      {
        "duration": 23,
        "start_time": "2022-07-05T18:36:42.832Z"
      },
      {
        "duration": 13,
        "start_time": "2022-07-05T18:36:42.857Z"
      },
      {
        "duration": 7,
        "start_time": "2022-07-05T18:36:42.872Z"
      },
      {
        "duration": 145,
        "start_time": "2022-07-05T18:36:42.881Z"
      },
      {
        "duration": 534,
        "start_time": "2022-07-05T18:36:43.028Z"
      },
      {
        "duration": 4426,
        "start_time": "2022-07-05T18:36:43.565Z"
      },
      {
        "duration": 345,
        "start_time": "2022-07-05T18:37:03.290Z"
      },
      {
        "duration": 17,
        "start_time": "2022-07-05T18:37:52.164Z"
      },
      {
        "duration": 595,
        "start_time": "2022-07-05T18:37:56.434Z"
      },
      {
        "duration": 16,
        "start_time": "2022-07-05T18:38:16.958Z"
      },
      {
        "duration": 165,
        "start_time": "2022-07-05T18:38:30.669Z"
      },
      {
        "duration": 1555,
        "start_time": "2022-07-05T18:56:05.508Z"
      },
      {
        "duration": 69,
        "start_time": "2022-07-05T18:56:07.065Z"
      },
      {
        "duration": 18,
        "start_time": "2022-07-05T18:56:07.136Z"
      },
      {
        "duration": 8,
        "start_time": "2022-07-05T18:56:07.156Z"
      },
      {
        "duration": 11,
        "start_time": "2022-07-05T18:56:07.166Z"
      },
      {
        "duration": 12,
        "start_time": "2022-07-05T18:56:07.179Z"
      },
      {
        "duration": 35,
        "start_time": "2022-07-05T18:56:07.194Z"
      },
      {
        "duration": 13,
        "start_time": "2022-07-05T18:56:07.231Z"
      },
      {
        "duration": 11,
        "start_time": "2022-07-05T18:56:07.246Z"
      },
      {
        "duration": 14,
        "start_time": "2022-07-05T18:56:07.260Z"
      },
      {
        "duration": 57,
        "start_time": "2022-07-05T18:56:07.276Z"
      },
      {
        "duration": 16,
        "start_time": "2022-07-05T18:56:07.335Z"
      },
      {
        "duration": 10,
        "start_time": "2022-07-05T18:56:07.353Z"
      },
      {
        "duration": 162,
        "start_time": "2022-07-05T18:56:07.365Z"
      },
      {
        "duration": 447,
        "start_time": "2022-07-05T18:56:07.530Z"
      },
      {
        "duration": 4452,
        "start_time": "2022-07-05T18:56:07.979Z"
      },
      {
        "duration": 346,
        "start_time": "2022-07-05T18:56:19.843Z"
      },
      {
        "duration": 247,
        "start_time": "2022-07-05T19:03:37.957Z"
      },
      {
        "duration": 22,
        "start_time": "2022-07-05T19:03:57.819Z"
      },
      {
        "duration": 430,
        "start_time": "2022-07-05T19:04:09.554Z"
      },
      {
        "duration": 609,
        "start_time": "2022-07-05T19:04:40.863Z"
      },
      {
        "duration": 16,
        "start_time": "2022-07-05T19:10:08.754Z"
      },
      {
        "duration": 184,
        "start_time": "2022-07-05T19:10:12.867Z"
      },
      {
        "duration": 901,
        "start_time": "2022-07-05T19:16:19.181Z"
      },
      {
        "duration": 1600,
        "start_time": "2022-07-06T17:29:28.814Z"
      },
      {
        "duration": 110,
        "start_time": "2022-07-06T17:29:30.416Z"
      },
      {
        "duration": 12,
        "start_time": "2022-07-06T17:29:30.528Z"
      },
      {
        "duration": 34,
        "start_time": "2022-07-06T17:29:30.542Z"
      },
      {
        "duration": 21,
        "start_time": "2022-07-06T17:29:30.578Z"
      },
      {
        "duration": 7,
        "start_time": "2022-07-06T17:29:30.601Z"
      },
      {
        "duration": 10,
        "start_time": "2022-07-06T17:29:30.610Z"
      },
      {
        "duration": 8,
        "start_time": "2022-07-06T17:29:30.622Z"
      },
      {
        "duration": 20,
        "start_time": "2022-07-06T17:29:30.633Z"
      },
      {
        "duration": 33,
        "start_time": "2022-07-06T17:29:30.659Z"
      },
      {
        "duration": 24,
        "start_time": "2022-07-06T17:29:30.694Z"
      },
      {
        "duration": 35,
        "start_time": "2022-07-06T17:29:30.720Z"
      },
      {
        "duration": 23,
        "start_time": "2022-07-06T17:29:30.758Z"
      },
      {
        "duration": 91,
        "start_time": "2022-07-06T17:29:30.784Z"
      },
      {
        "duration": 363,
        "start_time": "2022-07-06T17:29:38.299Z"
      },
      {
        "duration": 131,
        "start_time": "2022-07-06T17:32:27.529Z"
      },
      {
        "duration": 1680,
        "start_time": "2022-07-06T17:32:48.394Z"
      },
      {
        "duration": 2362,
        "start_time": "2022-07-06T17:32:59.124Z"
      },
      {
        "duration": 2220,
        "start_time": "2022-07-06T17:34:40.985Z"
      },
      {
        "duration": 753,
        "start_time": "2022-07-06T17:36:53.184Z"
      },
      {
        "duration": 3873,
        "start_time": "2022-07-06T17:37:50.265Z"
      },
      {
        "duration": 3800,
        "start_time": "2022-07-06T17:39:20.997Z"
      },
      {
        "duration": 3785,
        "start_time": "2022-07-06T17:39:39.734Z"
      },
      {
        "duration": 3778,
        "start_time": "2022-07-06T17:40:13.358Z"
      },
      {
        "duration": 4422,
        "start_time": "2022-07-06T17:40:52.404Z"
      },
      {
        "duration": 14916,
        "start_time": "2022-07-06T17:41:21.982Z"
      },
      {
        "duration": 351,
        "start_time": "2022-07-06T17:43:14.405Z"
      },
      {
        "duration": 327,
        "start_time": "2022-07-06T17:43:35.721Z"
      },
      {
        "duration": 29,
        "start_time": "2022-07-06T17:44:14.161Z"
      },
      {
        "duration": 615,
        "start_time": "2022-07-06T17:44:23.799Z"
      },
      {
        "duration": 13,
        "start_time": "2022-07-06T17:44:42.371Z"
      },
      {
        "duration": 205,
        "start_time": "2022-07-06T17:44:51.419Z"
      },
      {
        "duration": 837,
        "start_time": "2022-07-06T17:45:25.023Z"
      },
      {
        "duration": 1536,
        "start_time": "2022-07-06T18:16:57.392Z"
      },
      {
        "duration": 70,
        "start_time": "2022-07-06T18:16:58.930Z"
      },
      {
        "duration": 12,
        "start_time": "2022-07-06T18:16:59.002Z"
      },
      {
        "duration": 6,
        "start_time": "2022-07-06T18:16:59.015Z"
      },
      {
        "duration": 34,
        "start_time": "2022-07-06T18:16:59.023Z"
      },
      {
        "duration": 8,
        "start_time": "2022-07-06T18:16:59.059Z"
      },
      {
        "duration": 31,
        "start_time": "2022-07-06T18:16:59.069Z"
      },
      {
        "duration": 6,
        "start_time": "2022-07-06T18:16:59.103Z"
      },
      {
        "duration": 9,
        "start_time": "2022-07-06T18:16:59.111Z"
      },
      {
        "duration": 13,
        "start_time": "2022-07-06T18:16:59.122Z"
      },
      {
        "duration": 35,
        "start_time": "2022-07-06T18:16:59.137Z"
      },
      {
        "duration": 37,
        "start_time": "2022-07-06T18:16:59.173Z"
      },
      {
        "duration": 7,
        "start_time": "2022-07-06T18:16:59.211Z"
      },
      {
        "duration": 55,
        "start_time": "2022-07-06T18:16:59.220Z"
      },
      {
        "duration": 483,
        "start_time": "2022-07-06T18:16:59.280Z"
      },
      {
        "duration": 4337,
        "start_time": "2022-07-06T18:16:59.765Z"
      },
      {
        "duration": 16291,
        "start_time": "2022-07-06T18:17:04.107Z"
      },
      {
        "duration": 325,
        "start_time": "2022-07-06T18:17:20.400Z"
      },
      {
        "duration": 371,
        "start_time": "2022-07-06T18:17:20.728Z"
      },
      {
        "duration": 15,
        "start_time": "2022-07-06T18:17:21.101Z"
      },
      {
        "duration": 674,
        "start_time": "2022-07-06T18:17:21.118Z"
      },
      {
        "duration": 14,
        "start_time": "2022-07-06T18:17:21.797Z"
      },
      {
        "duration": 188,
        "start_time": "2022-07-06T18:17:21.813Z"
      },
      {
        "duration": 810,
        "start_time": "2022-07-06T18:17:22.003Z"
      },
      {
        "duration": 1662,
        "start_time": "2022-07-07T16:47:10.788Z"
      },
      {
        "duration": 204,
        "start_time": "2022-07-07T16:47:12.453Z"
      },
      {
        "duration": 18,
        "start_time": "2022-07-07T16:47:12.658Z"
      },
      {
        "duration": 9,
        "start_time": "2022-07-07T16:47:12.678Z"
      },
      {
        "duration": 8,
        "start_time": "2022-07-07T16:47:12.689Z"
      },
      {
        "duration": 26,
        "start_time": "2022-07-07T16:47:12.699Z"
      },
      {
        "duration": 7,
        "start_time": "2022-07-07T16:47:12.727Z"
      },
      {
        "duration": 12,
        "start_time": "2022-07-07T16:47:12.736Z"
      },
      {
        "duration": 12,
        "start_time": "2022-07-07T16:47:12.750Z"
      },
      {
        "duration": 6,
        "start_time": "2022-07-07T16:47:12.764Z"
      },
      {
        "duration": 14,
        "start_time": "2022-07-07T16:47:42.926Z"
      },
      {
        "duration": 14,
        "start_time": "2022-07-07T16:47:55.040Z"
      },
      {
        "duration": 14,
        "start_time": "2022-07-07T16:48:26.117Z"
      },
      {
        "duration": 23,
        "start_time": "2022-07-07T16:48:45.293Z"
      },
      {
        "duration": 11,
        "start_time": "2022-07-07T16:49:54.581Z"
      },
      {
        "duration": 1512,
        "start_time": "2022-07-07T17:08:48.485Z"
      },
      {
        "duration": 84,
        "start_time": "2022-07-07T17:08:49.999Z"
      },
      {
        "duration": 10,
        "start_time": "2022-07-07T17:08:50.085Z"
      },
      {
        "duration": 6,
        "start_time": "2022-07-07T17:08:50.098Z"
      },
      {
        "duration": 56,
        "start_time": "2022-07-07T17:08:50.105Z"
      },
      {
        "duration": 7,
        "start_time": "2022-07-07T17:08:50.167Z"
      },
      {
        "duration": 57,
        "start_time": "2022-07-07T17:08:50.176Z"
      },
      {
        "duration": 31,
        "start_time": "2022-07-07T17:08:50.235Z"
      },
      {
        "duration": 11,
        "start_time": "2022-07-07T17:08:50.268Z"
      },
      {
        "duration": 5,
        "start_time": "2022-07-07T17:08:50.282Z"
      },
      {
        "duration": 22,
        "start_time": "2022-07-07T17:08:50.289Z"
      },
      {
        "duration": 65,
        "start_time": "2022-07-07T17:08:50.313Z"
      },
      {
        "duration": 14,
        "start_time": "2022-07-07T17:08:50.380Z"
      },
      {
        "duration": 7,
        "start_time": "2022-07-07T17:08:50.396Z"
      },
      {
        "duration": 16,
        "start_time": "2022-07-07T17:08:58.650Z"
      },
      {
        "duration": 100,
        "start_time": "2022-07-07T17:09:31.016Z"
      },
      {
        "duration": 306,
        "start_time": "2022-07-07T17:09:40.618Z"
      },
      {
        "duration": 3392,
        "start_time": "2022-07-07T17:09:51.169Z"
      },
      {
        "duration": 13227,
        "start_time": "2022-07-07T17:09:58.222Z"
      },
      {
        "duration": 1459,
        "start_time": "2022-07-07T17:15:07.462Z"
      },
      {
        "duration": 8,
        "start_time": "2022-07-07T17:15:54.025Z"
      },
      {
        "duration": 7,
        "start_time": "2022-07-07T17:18:39.530Z"
      },
      {
        "duration": 8,
        "start_time": "2022-07-07T17:23:28.146Z"
      },
      {
        "duration": 263,
        "start_time": "2022-07-07T17:24:54.146Z"
      },
      {
        "duration": 127,
        "start_time": "2022-07-07T17:28:01.336Z"
      },
      {
        "duration": 3337,
        "start_time": "2022-07-07T17:32:04.785Z"
      },
      {
        "duration": 11517,
        "start_time": "2022-07-07T17:41:00.092Z"
      },
      {
        "duration": 11126,
        "start_time": "2022-07-07T17:41:23.806Z"
      },
      {
        "duration": 12183,
        "start_time": "2022-07-07T17:44:00.044Z"
      },
      {
        "duration": 1329,
        "start_time": "2022-07-07T17:44:56.063Z"
      },
      {
        "duration": 63,
        "start_time": "2022-07-07T17:44:57.394Z"
      },
      {
        "duration": 11,
        "start_time": "2022-07-07T17:44:57.459Z"
      },
      {
        "duration": 5,
        "start_time": "2022-07-07T17:44:57.472Z"
      },
      {
        "duration": 7,
        "start_time": "2022-07-07T17:44:57.479Z"
      },
      {
        "duration": 7,
        "start_time": "2022-07-07T17:44:57.488Z"
      },
      {
        "duration": 5,
        "start_time": "2022-07-07T17:44:57.504Z"
      },
      {
        "duration": 7,
        "start_time": "2022-07-07T17:44:57.511Z"
      },
      {
        "duration": 8,
        "start_time": "2022-07-07T17:44:57.520Z"
      },
      {
        "duration": 5,
        "start_time": "2022-07-07T17:44:57.529Z"
      },
      {
        "duration": 17,
        "start_time": "2022-07-07T17:44:57.535Z"
      },
      {
        "duration": 52,
        "start_time": "2022-07-07T17:44:57.554Z"
      },
      {
        "duration": 11,
        "start_time": "2022-07-07T17:44:57.608Z"
      },
      {
        "duration": 6,
        "start_time": "2022-07-07T17:44:57.622Z"
      },
      {
        "duration": 20,
        "start_time": "2022-07-07T17:44:57.629Z"
      },
      {
        "duration": 62,
        "start_time": "2022-07-07T17:44:57.651Z"
      },
      {
        "duration": 400,
        "start_time": "2022-07-07T17:44:57.715Z"
      },
      {
        "duration": 3064,
        "start_time": "2022-07-07T17:44:58.116Z"
      },
      {
        "duration": 12413,
        "start_time": "2022-07-07T17:45:01.182Z"
      },
      {
        "duration": 13,
        "start_time": "2022-07-07T17:45:13.596Z"
      },
      {
        "duration": 133,
        "start_time": "2022-07-07T17:45:13.610Z"
      },
      {
        "duration": 3137,
        "start_time": "2022-07-07T17:45:13.745Z"
      },
      {
        "duration": 12567,
        "start_time": "2022-07-07T17:45:55.439Z"
      },
      {
        "duration": 121,
        "start_time": "2022-07-07T18:17:00.607Z"
      },
      {
        "duration": 1439,
        "start_time": "2022-07-07T18:18:47.398Z"
      },
      {
        "duration": 63,
        "start_time": "2022-07-07T18:18:48.839Z"
      },
      {
        "duration": 12,
        "start_time": "2022-07-07T18:18:48.904Z"
      },
      {
        "duration": 6,
        "start_time": "2022-07-07T18:18:48.917Z"
      },
      {
        "duration": 8,
        "start_time": "2022-07-07T18:18:48.927Z"
      },
      {
        "duration": 8,
        "start_time": "2022-07-07T18:18:48.937Z"
      },
      {
        "duration": 7,
        "start_time": "2022-07-07T18:18:48.946Z"
      },
      {
        "duration": 9,
        "start_time": "2022-07-07T18:18:48.955Z"
      },
      {
        "duration": 40,
        "start_time": "2022-07-07T18:18:48.965Z"
      },
      {
        "duration": 3,
        "start_time": "2022-07-07T18:18:49.007Z"
      },
      {
        "duration": 19,
        "start_time": "2022-07-07T18:18:49.012Z"
      },
      {
        "duration": 23,
        "start_time": "2022-07-07T18:18:49.033Z"
      },
      {
        "duration": 52,
        "start_time": "2022-07-07T18:18:49.058Z"
      },
      {
        "duration": 8,
        "start_time": "2022-07-07T18:18:49.114Z"
      },
      {
        "duration": 17,
        "start_time": "2022-07-07T18:18:49.123Z"
      },
      {
        "duration": 71,
        "start_time": "2022-07-07T18:18:49.142Z"
      },
      {
        "duration": 446,
        "start_time": "2022-07-07T18:18:49.217Z"
      },
      {
        "duration": 3069,
        "start_time": "2022-07-07T18:18:49.665Z"
      },
      {
        "duration": 13234,
        "start_time": "2022-07-07T18:18:52.736Z"
      },
      {
        "duration": 9,
        "start_time": "2022-07-07T18:19:05.972Z"
      },
      {
        "duration": 151,
        "start_time": "2022-07-07T18:19:05.983Z"
      },
      {
        "duration": 3510,
        "start_time": "2022-07-07T18:19:06.136Z"
      },
      {
        "duration": 12674,
        "start_time": "2022-07-07T18:19:09.648Z"
      },
      {
        "duration": 130,
        "start_time": "2022-07-07T18:19:30.011Z"
      },
      {
        "duration": 4,
        "start_time": "2022-07-07T18:31:56.958Z"
      },
      {
        "duration": 13,
        "start_time": "2022-07-07T18:34:12.151Z"
      },
      {
        "duration": 10,
        "start_time": "2022-07-07T18:34:23.335Z"
      },
      {
        "duration": 19,
        "start_time": "2022-07-07T18:37:24.363Z"
      },
      {
        "duration": 10,
        "start_time": "2022-07-07T18:41:01.647Z"
      },
      {
        "duration": 19,
        "start_time": "2022-07-07T18:41:20.439Z"
      },
      {
        "duration": 274,
        "start_time": "2022-07-07T18:42:02.124Z"
      },
      {
        "duration": 11,
        "start_time": "2022-07-07T18:42:41.539Z"
      },
      {
        "duration": 28,
        "start_time": "2022-07-07T18:43:06.534Z"
      },
      {
        "duration": 1396,
        "start_time": "2022-07-07T18:45:50.145Z"
      },
      {
        "duration": 66,
        "start_time": "2022-07-07T18:45:51.543Z"
      },
      {
        "duration": 11,
        "start_time": "2022-07-07T18:45:51.611Z"
      },
      {
        "duration": 6,
        "start_time": "2022-07-07T18:45:51.624Z"
      },
      {
        "duration": 13,
        "start_time": "2022-07-07T18:45:51.632Z"
      },
      {
        "duration": 10,
        "start_time": "2022-07-07T18:45:51.646Z"
      },
      {
        "duration": 7,
        "start_time": "2022-07-07T18:45:51.658Z"
      },
      {
        "duration": 10,
        "start_time": "2022-07-07T18:45:51.667Z"
      },
      {
        "duration": 31,
        "start_time": "2022-07-07T18:45:51.679Z"
      },
      {
        "duration": 5,
        "start_time": "2022-07-07T18:45:51.714Z"
      },
      {
        "duration": 23,
        "start_time": "2022-07-07T18:45:51.721Z"
      },
      {
        "duration": 25,
        "start_time": "2022-07-07T18:45:51.746Z"
      },
      {
        "duration": 36,
        "start_time": "2022-07-07T18:45:51.772Z"
      },
      {
        "duration": 6,
        "start_time": "2022-07-07T18:45:51.810Z"
      },
      {
        "duration": 15,
        "start_time": "2022-07-07T18:45:51.818Z"
      },
      {
        "duration": 71,
        "start_time": "2022-07-07T18:45:51.835Z"
      },
      {
        "duration": 410,
        "start_time": "2022-07-07T18:45:51.908Z"
      },
      {
        "duration": 3142,
        "start_time": "2022-07-07T18:45:52.319Z"
      },
      {
        "duration": 12752,
        "start_time": "2022-07-07T18:45:55.463Z"
      },
      {
        "duration": 8,
        "start_time": "2022-07-07T18:46:08.217Z"
      },
      {
        "duration": 140,
        "start_time": "2022-07-07T18:46:08.226Z"
      },
      {
        "duration": 3240,
        "start_time": "2022-07-07T18:46:08.368Z"
      },
      {
        "duration": 12040,
        "start_time": "2022-07-07T18:46:11.610Z"
      },
      {
        "duration": 107,
        "start_time": "2022-07-07T18:46:57.352Z"
      },
      {
        "duration": 6,
        "start_time": "2022-07-07T18:47:54.241Z"
      },
      {
        "duration": 9,
        "start_time": "2022-07-07T18:48:07.385Z"
      },
      {
        "duration": 5,
        "start_time": "2022-07-07T18:52:15.482Z"
      },
      {
        "duration": 5,
        "start_time": "2022-07-07T18:53:09.677Z"
      },
      {
        "duration": 8,
        "start_time": "2022-07-07T18:53:20.664Z"
      },
      {
        "duration": 9,
        "start_time": "2022-07-07T18:53:42.321Z"
      },
      {
        "duration": 1404,
        "start_time": "2022-07-07T19:07:05.558Z"
      },
      {
        "duration": 67,
        "start_time": "2022-07-07T19:07:06.964Z"
      },
      {
        "duration": 12,
        "start_time": "2022-07-07T19:07:07.033Z"
      },
      {
        "duration": 6,
        "start_time": "2022-07-07T19:07:07.046Z"
      },
      {
        "duration": 9,
        "start_time": "2022-07-07T19:07:07.054Z"
      },
      {
        "duration": 10,
        "start_time": "2022-07-07T19:07:07.065Z"
      },
      {
        "duration": 28,
        "start_time": "2022-07-07T19:07:07.077Z"
      },
      {
        "duration": 6,
        "start_time": "2022-07-07T19:07:07.106Z"
      },
      {
        "duration": 9,
        "start_time": "2022-07-07T19:07:07.114Z"
      },
      {
        "duration": 4,
        "start_time": "2022-07-07T19:07:07.124Z"
      },
      {
        "duration": 17,
        "start_time": "2022-07-07T19:07:07.130Z"
      },
      {
        "duration": 56,
        "start_time": "2022-07-07T19:07:07.148Z"
      },
      {
        "duration": 14,
        "start_time": "2022-07-07T19:07:07.206Z"
      },
      {
        "duration": 8,
        "start_time": "2022-07-07T19:07:07.223Z"
      },
      {
        "duration": 18,
        "start_time": "2022-07-07T19:07:07.233Z"
      },
      {
        "duration": 60,
        "start_time": "2022-07-07T19:07:07.253Z"
      },
      {
        "duration": 336,
        "start_time": "2022-07-07T19:07:07.404Z"
      },
      {
        "duration": 3187,
        "start_time": "2022-07-07T19:07:07.742Z"
      },
      {
        "duration": 12381,
        "start_time": "2022-07-07T19:07:10.931Z"
      },
      {
        "duration": 10,
        "start_time": "2022-07-07T19:07:23.314Z"
      },
      {
        "duration": 158,
        "start_time": "2022-07-07T19:07:23.325Z"
      },
      {
        "duration": 2988,
        "start_time": "2022-07-07T19:07:23.484Z"
      },
      {
        "duration": 12086,
        "start_time": "2022-07-07T19:07:26.474Z"
      },
      {
        "duration": 117,
        "start_time": "2022-07-07T19:07:52.225Z"
      },
      {
        "duration": 18,
        "start_time": "2022-07-07T19:08:10.117Z"
      },
      {
        "duration": 10,
        "start_time": "2022-07-07T19:08:35.592Z"
      },
      {
        "duration": 12,
        "start_time": "2022-07-07T19:09:17.801Z"
      },
      {
        "duration": 11,
        "start_time": "2022-07-07T19:09:30.170Z"
      },
      {
        "duration": 4,
        "start_time": "2022-07-07T19:09:42.064Z"
      },
      {
        "duration": 10,
        "start_time": "2022-07-07T19:09:56.072Z"
      },
      {
        "duration": 3203,
        "start_time": "2022-07-07T19:10:47.988Z"
      },
      {
        "duration": 4270,
        "start_time": "2022-07-07T19:11:53.555Z"
      },
      {
        "duration": 19141,
        "start_time": "2022-07-07T19:14:12.266Z"
      },
      {
        "duration": 11,
        "start_time": "2022-07-07T19:19:09.385Z"
      },
      {
        "duration": 16,
        "start_time": "2022-07-07T19:19:25.987Z"
      },
      {
        "duration": 18,
        "start_time": "2022-07-07T19:19:56.736Z"
      },
      {
        "duration": 17,
        "start_time": "2022-07-07T19:27:09.187Z"
      },
      {
        "duration": 16,
        "start_time": "2022-07-07T19:29:21.620Z"
      },
      {
        "duration": 1535,
        "start_time": "2022-07-08T17:44:13.086Z"
      },
      {
        "duration": 81,
        "start_time": "2022-07-08T17:44:14.623Z"
      },
      {
        "duration": 12,
        "start_time": "2022-07-08T17:44:14.706Z"
      },
      {
        "duration": 7,
        "start_time": "2022-07-08T17:44:14.720Z"
      },
      {
        "duration": 13,
        "start_time": "2022-07-08T17:44:14.728Z"
      },
      {
        "duration": 6,
        "start_time": "2022-07-08T17:44:14.743Z"
      },
      {
        "duration": 9,
        "start_time": "2022-07-08T17:44:14.751Z"
      },
      {
        "duration": 6,
        "start_time": "2022-07-08T17:44:14.761Z"
      },
      {
        "duration": 10,
        "start_time": "2022-07-08T17:44:14.768Z"
      },
      {
        "duration": 2,
        "start_time": "2022-07-08T17:44:14.803Z"
      },
      {
        "duration": 16,
        "start_time": "2022-07-08T17:44:14.806Z"
      },
      {
        "duration": 20,
        "start_time": "2022-07-08T17:44:14.824Z"
      },
      {
        "duration": 11,
        "start_time": "2022-07-08T17:44:14.846Z"
      },
      {
        "duration": 6,
        "start_time": "2022-07-08T17:44:14.858Z"
      },
      {
        "duration": 46,
        "start_time": "2022-07-08T17:44:14.866Z"
      },
      {
        "duration": 91,
        "start_time": "2022-07-08T17:44:14.914Z"
      },
      {
        "duration": 389,
        "start_time": "2022-07-08T17:44:15.007Z"
      },
      {
        "duration": 2957,
        "start_time": "2022-07-08T17:44:15.400Z"
      },
      {
        "duration": 11843,
        "start_time": "2022-07-08T17:44:18.358Z"
      },
      {
        "duration": 7,
        "start_time": "2022-07-08T17:44:30.202Z"
      },
      {
        "duration": 129,
        "start_time": "2022-07-08T17:44:30.211Z"
      },
      {
        "duration": 2963,
        "start_time": "2022-07-08T17:44:30.341Z"
      },
      {
        "duration": 11741,
        "start_time": "2022-07-08T17:44:33.306Z"
      },
      {
        "duration": 8,
        "start_time": "2022-07-08T17:44:45.048Z"
      },
      {
        "duration": 4236,
        "start_time": "2022-07-08T17:44:45.058Z"
      },
      {
        "duration": 18712,
        "start_time": "2022-07-08T17:44:49.296Z"
      },
      {
        "duration": 110,
        "start_time": "2022-07-08T17:45:14.883Z"
      },
      {
        "duration": 16,
        "start_time": "2022-07-08T17:53:36.753Z"
      },
      {
        "duration": 15,
        "start_time": "2022-07-08T17:54:05.641Z"
      },
      {
        "duration": 16,
        "start_time": "2022-07-08T17:54:20.665Z"
      },
      {
        "duration": 16,
        "start_time": "2022-07-08T17:55:29.525Z"
      },
      {
        "duration": 182,
        "start_time": "2022-07-08T17:58:54.038Z"
      },
      {
        "duration": 192,
        "start_time": "2022-07-08T17:59:07.605Z"
      },
      {
        "duration": 1264,
        "start_time": "2022-07-08T18:04:16.561Z"
      },
      {
        "duration": 57,
        "start_time": "2022-07-08T18:04:17.827Z"
      },
      {
        "duration": 12,
        "start_time": "2022-07-08T18:04:17.886Z"
      },
      {
        "duration": 12,
        "start_time": "2022-07-08T18:04:17.900Z"
      },
      {
        "duration": 24,
        "start_time": "2022-07-08T18:04:17.913Z"
      },
      {
        "duration": 19,
        "start_time": "2022-07-08T18:04:17.939Z"
      },
      {
        "duration": 18,
        "start_time": "2022-07-08T18:04:17.959Z"
      },
      {
        "duration": 23,
        "start_time": "2022-07-08T18:04:17.978Z"
      },
      {
        "duration": 18,
        "start_time": "2022-07-08T18:04:18.003Z"
      },
      {
        "duration": 14,
        "start_time": "2022-07-08T18:04:18.023Z"
      },
      {
        "duration": 26,
        "start_time": "2022-07-08T18:04:18.038Z"
      },
      {
        "duration": 43,
        "start_time": "2022-07-08T18:04:18.066Z"
      },
      {
        "duration": 10,
        "start_time": "2022-07-08T18:04:18.110Z"
      },
      {
        "duration": 20,
        "start_time": "2022-07-08T18:04:18.122Z"
      },
      {
        "duration": 23,
        "start_time": "2022-07-08T18:04:18.143Z"
      },
      {
        "duration": 43,
        "start_time": "2022-07-08T18:04:18.167Z"
      },
      {
        "duration": 441,
        "start_time": "2022-07-08T18:04:18.212Z"
      },
      {
        "duration": 2778,
        "start_time": "2022-07-08T18:04:18.654Z"
      },
      {
        "duration": 11424,
        "start_time": "2022-07-08T18:04:21.433Z"
      },
      {
        "duration": 6,
        "start_time": "2022-07-08T18:04:32.859Z"
      },
      {
        "duration": 134,
        "start_time": "2022-07-08T18:04:32.867Z"
      },
      {
        "duration": 2965,
        "start_time": "2022-07-08T18:04:33.003Z"
      },
      {
        "duration": 11023,
        "start_time": "2022-07-08T18:04:35.969Z"
      },
      {
        "duration": 9,
        "start_time": "2022-07-08T18:04:47.001Z"
      },
      {
        "duration": 4107,
        "start_time": "2022-07-08T18:04:47.012Z"
      },
      {
        "duration": 18109,
        "start_time": "2022-07-08T18:04:51.120Z"
      },
      {
        "duration": 107,
        "start_time": "2022-07-08T18:05:16.405Z"
      },
      {
        "duration": 8,
        "start_time": "2022-07-08T18:07:08.033Z"
      },
      {
        "duration": 3,
        "start_time": "2022-07-08T18:07:54.339Z"
      },
      {
        "duration": 13,
        "start_time": "2022-07-08T18:08:09.359Z"
      },
      {
        "duration": 20,
        "start_time": "2022-07-08T18:11:15.486Z"
      },
      {
        "duration": 12,
        "start_time": "2022-07-08T18:11:24.891Z"
      },
      {
        "duration": 9,
        "start_time": "2022-07-08T18:12:06.660Z"
      },
      {
        "duration": 9,
        "start_time": "2022-07-08T18:12:18.222Z"
      },
      {
        "duration": 10,
        "start_time": "2022-07-08T18:12:24.415Z"
      },
      {
        "duration": 56,
        "start_time": "2022-07-08T18:13:05.552Z"
      },
      {
        "duration": 1299,
        "start_time": "2022-07-08T18:13:38.057Z"
      },
      {
        "duration": 49,
        "start_time": "2022-07-08T18:13:39.358Z"
      },
      {
        "duration": 11,
        "start_time": "2022-07-08T18:13:39.409Z"
      },
      {
        "duration": 11,
        "start_time": "2022-07-08T18:13:39.423Z"
      },
      {
        "duration": 8,
        "start_time": "2022-07-08T18:13:39.435Z"
      },
      {
        "duration": 10,
        "start_time": "2022-07-08T18:13:39.445Z"
      },
      {
        "duration": 6,
        "start_time": "2022-07-08T18:13:39.456Z"
      },
      {
        "duration": 8,
        "start_time": "2022-07-08T18:13:39.463Z"
      },
      {
        "duration": 11,
        "start_time": "2022-07-08T18:13:39.472Z"
      },
      {
        "duration": 2,
        "start_time": "2022-07-08T18:13:39.501Z"
      },
      {
        "duration": 18,
        "start_time": "2022-07-08T18:13:39.505Z"
      },
      {
        "duration": 20,
        "start_time": "2022-07-08T18:13:39.524Z"
      },
      {
        "duration": 10,
        "start_time": "2022-07-08T18:13:39.545Z"
      },
      {
        "duration": 8,
        "start_time": "2022-07-08T18:13:39.556Z"
      },
      {
        "duration": 58,
        "start_time": "2022-07-08T18:13:44.063Z"
      },
      {
        "duration": 83,
        "start_time": "2022-07-08T18:14:01.592Z"
      },
      {
        "duration": 8,
        "start_time": "2022-07-08T18:14:17.557Z"
      },
      {
        "duration": 18,
        "start_time": "2022-07-08T18:14:31.702Z"
      },
      {
        "duration": 26,
        "start_time": "2022-07-08T18:15:07.699Z"
      },
      {
        "duration": 1320,
        "start_time": "2022-07-08T18:16:23.892Z"
      },
      {
        "duration": 63,
        "start_time": "2022-07-08T18:16:25.214Z"
      },
      {
        "duration": 15,
        "start_time": "2022-07-08T18:16:25.279Z"
      },
      {
        "duration": 20,
        "start_time": "2022-07-08T18:16:25.296Z"
      },
      {
        "duration": 22,
        "start_time": "2022-07-08T18:16:25.318Z"
      },
      {
        "duration": 17,
        "start_time": "2022-07-08T18:16:25.341Z"
      },
      {
        "duration": 12,
        "start_time": "2022-07-08T18:16:25.360Z"
      },
      {
        "duration": 12,
        "start_time": "2022-07-08T18:16:25.374Z"
      },
      {
        "duration": 18,
        "start_time": "2022-07-08T18:16:25.388Z"
      },
      {
        "duration": 5,
        "start_time": "2022-07-08T18:16:25.408Z"
      },
      {
        "duration": 17,
        "start_time": "2022-07-08T18:16:25.414Z"
      },
      {
        "duration": 22,
        "start_time": "2022-07-08T18:16:25.432Z"
      },
      {
        "duration": 11,
        "start_time": "2022-07-08T18:16:25.455Z"
      },
      {
        "duration": 7,
        "start_time": "2022-07-08T18:16:25.467Z"
      },
      {
        "duration": 30,
        "start_time": "2022-07-08T18:16:30.044Z"
      },
      {
        "duration": 22,
        "start_time": "2022-07-08T18:16:45.234Z"
      },
      {
        "duration": 319,
        "start_time": "2022-07-08T18:16:50.912Z"
      },
      {
        "duration": 2887,
        "start_time": "2022-07-08T18:16:57.029Z"
      },
      {
        "duration": 11655,
        "start_time": "2022-07-08T18:17:04.737Z"
      },
      {
        "duration": 7,
        "start_time": "2022-07-08T18:17:24.256Z"
      },
      {
        "duration": 118,
        "start_time": "2022-07-08T18:17:29.527Z"
      },
      {
        "duration": 2972,
        "start_time": "2022-07-08T18:17:33.520Z"
      },
      {
        "duration": 11287,
        "start_time": "2022-07-08T18:17:42.950Z"
      },
      {
        "duration": 110,
        "start_time": "2022-07-08T18:18:37.732Z"
      },
      {
        "duration": 53,
        "start_time": "2022-07-08T18:26:05.237Z"
      },
      {
        "duration": 1156,
        "start_time": "2022-07-08T18:26:16.950Z"
      },
      {
        "duration": 49,
        "start_time": "2022-07-08T18:26:18.108Z"
      },
      {
        "duration": 10,
        "start_time": "2022-07-08T18:26:18.159Z"
      },
      {
        "duration": 5,
        "start_time": "2022-07-08T18:26:18.171Z"
      },
      {
        "duration": 6,
        "start_time": "2022-07-08T18:26:18.178Z"
      },
      {
        "duration": 16,
        "start_time": "2022-07-08T18:26:18.186Z"
      },
      {
        "duration": 7,
        "start_time": "2022-07-08T18:26:18.203Z"
      },
      {
        "duration": 6,
        "start_time": "2022-07-08T18:26:18.211Z"
      },
      {
        "duration": 8,
        "start_time": "2022-07-08T18:26:18.219Z"
      },
      {
        "duration": 5,
        "start_time": "2022-07-08T18:26:18.228Z"
      },
      {
        "duration": 14,
        "start_time": "2022-07-08T18:26:18.234Z"
      },
      {
        "duration": 20,
        "start_time": "2022-07-08T18:26:18.249Z"
      },
      {
        "duration": 39,
        "start_time": "2022-07-08T18:26:18.271Z"
      },
      {
        "duration": 6,
        "start_time": "2022-07-08T18:26:18.312Z"
      },
      {
        "duration": 19,
        "start_time": "2022-07-08T18:26:21.337Z"
      },
      {
        "duration": 4,
        "start_time": "2022-07-08T18:27:14.243Z"
      },
      {
        "duration": 16,
        "start_time": "2022-07-08T18:27:28.047Z"
      },
      {
        "duration": 28,
        "start_time": "2022-07-08T18:27:54.707Z"
      },
      {
        "duration": 19,
        "start_time": "2022-07-08T18:28:02.179Z"
      },
      {
        "duration": 1271,
        "start_time": "2022-07-08T18:28:16.379Z"
      },
      {
        "duration": 50,
        "start_time": "2022-07-08T18:28:17.652Z"
      },
      {
        "duration": 11,
        "start_time": "2022-07-08T18:28:17.704Z"
      },
      {
        "duration": 6,
        "start_time": "2022-07-08T18:28:17.716Z"
      },
      {
        "duration": 7,
        "start_time": "2022-07-08T18:28:17.723Z"
      },
      {
        "duration": 7,
        "start_time": "2022-07-08T18:28:17.732Z"
      },
      {
        "duration": 6,
        "start_time": "2022-07-08T18:28:17.740Z"
      },
      {
        "duration": 9,
        "start_time": "2022-07-08T18:28:17.747Z"
      },
      {
        "duration": 7,
        "start_time": "2022-07-08T18:28:17.758Z"
      },
      {
        "duration": 3,
        "start_time": "2022-07-08T18:28:17.767Z"
      },
      {
        "duration": 42,
        "start_time": "2022-07-08T18:28:17.771Z"
      },
      {
        "duration": 21,
        "start_time": "2022-07-08T18:28:17.815Z"
      },
      {
        "duration": 12,
        "start_time": "2022-07-08T18:28:17.837Z"
      },
      {
        "duration": 6,
        "start_time": "2022-07-08T18:28:17.850Z"
      },
      {
        "duration": 16,
        "start_time": "2022-07-08T18:28:20.568Z"
      },
      {
        "duration": 31,
        "start_time": "2022-07-08T18:28:23.433Z"
      },
      {
        "duration": 80,
        "start_time": "2022-07-08T18:29:09.421Z"
      },
      {
        "duration": 319,
        "start_time": "2022-07-08T18:29:12.761Z"
      },
      {
        "duration": 2904,
        "start_time": "2022-07-08T18:29:16.957Z"
      },
      {
        "duration": 11632,
        "start_time": "2022-07-08T18:29:22.711Z"
      },
      {
        "duration": 8,
        "start_time": "2022-07-08T18:29:38.837Z"
      },
      {
        "duration": 122,
        "start_time": "2022-07-08T18:29:43.199Z"
      },
      {
        "duration": 3131,
        "start_time": "2022-07-08T18:29:46.701Z"
      },
      {
        "duration": 11246,
        "start_time": "2022-07-08T18:29:59.002Z"
      },
      {
        "duration": 106,
        "start_time": "2022-07-08T18:30:20.173Z"
      },
      {
        "duration": 1306,
        "start_time": "2022-07-08T18:32:11.585Z"
      },
      {
        "duration": 46,
        "start_time": "2022-07-08T18:32:12.892Z"
      },
      {
        "duration": 10,
        "start_time": "2022-07-08T18:32:12.940Z"
      },
      {
        "duration": 6,
        "start_time": "2022-07-08T18:32:12.952Z"
      },
      {
        "duration": 7,
        "start_time": "2022-07-08T18:32:12.960Z"
      },
      {
        "duration": 8,
        "start_time": "2022-07-08T18:32:12.969Z"
      },
      {
        "duration": 23,
        "start_time": "2022-07-08T18:32:12.978Z"
      },
      {
        "duration": 4,
        "start_time": "2022-07-08T18:32:13.003Z"
      },
      {
        "duration": 20,
        "start_time": "2022-07-08T18:32:13.008Z"
      },
      {
        "duration": 9,
        "start_time": "2022-07-08T18:32:13.029Z"
      },
      {
        "duration": 23,
        "start_time": "2022-07-08T18:32:13.039Z"
      },
      {
        "duration": 20,
        "start_time": "2022-07-08T18:32:13.063Z"
      },
      {
        "duration": 10,
        "start_time": "2022-07-08T18:32:13.085Z"
      },
      {
        "duration": 6,
        "start_time": "2022-07-08T18:32:13.101Z"
      },
      {
        "duration": 5,
        "start_time": "2022-07-08T18:32:43.783Z"
      },
      {
        "duration": 14,
        "start_time": "2022-07-08T18:33:37.873Z"
      },
      {
        "duration": 104,
        "start_time": "2022-07-08T18:33:40.919Z"
      },
      {
        "duration": 1273,
        "start_time": "2022-07-08T18:43:53.201Z"
      },
      {
        "duration": 56,
        "start_time": "2022-07-08T18:43:54.476Z"
      },
      {
        "duration": 11,
        "start_time": "2022-07-08T18:43:54.534Z"
      },
      {
        "duration": 5,
        "start_time": "2022-07-08T18:43:54.547Z"
      },
      {
        "duration": 16,
        "start_time": "2022-07-08T18:43:54.554Z"
      },
      {
        "duration": 7,
        "start_time": "2022-07-08T18:43:54.571Z"
      },
      {
        "duration": 11,
        "start_time": "2022-07-08T18:43:54.580Z"
      },
      {
        "duration": 5,
        "start_time": "2022-07-08T18:43:54.600Z"
      },
      {
        "duration": 5,
        "start_time": "2022-07-08T18:43:54.606Z"
      },
      {
        "duration": 7,
        "start_time": "2022-07-08T18:43:54.614Z"
      },
      {
        "duration": 18,
        "start_time": "2022-07-08T18:43:54.622Z"
      },
      {
        "duration": 21,
        "start_time": "2022-07-08T18:43:54.642Z"
      },
      {
        "duration": 10,
        "start_time": "2022-07-08T18:43:54.665Z"
      },
      {
        "duration": 7,
        "start_time": "2022-07-08T18:43:57.408Z"
      },
      {
        "duration": 105,
        "start_time": "2022-07-08T18:44:53.894Z"
      },
      {
        "duration": 17,
        "start_time": "2022-07-08T18:45:27.008Z"
      },
      {
        "duration": 22,
        "start_time": "2022-07-08T18:45:38.842Z"
      },
      {
        "duration": 1386,
        "start_time": "2022-07-08T18:47:59.110Z"
      },
      {
        "duration": 52,
        "start_time": "2022-07-08T18:48:00.498Z"
      },
      {
        "duration": 12,
        "start_time": "2022-07-08T18:48:00.551Z"
      },
      {
        "duration": 8,
        "start_time": "2022-07-08T18:48:00.565Z"
      },
      {
        "duration": 8,
        "start_time": "2022-07-08T18:48:00.575Z"
      },
      {
        "duration": 17,
        "start_time": "2022-07-08T18:48:00.585Z"
      },
      {
        "duration": 13,
        "start_time": "2022-07-08T18:48:00.603Z"
      },
      {
        "duration": 24,
        "start_time": "2022-07-08T18:48:00.617Z"
      },
      {
        "duration": 16,
        "start_time": "2022-07-08T18:48:00.642Z"
      },
      {
        "duration": 9,
        "start_time": "2022-07-08T18:48:00.662Z"
      },
      {
        "duration": 40,
        "start_time": "2022-07-08T18:48:00.672Z"
      },
      {
        "duration": 23,
        "start_time": "2022-07-08T18:48:00.713Z"
      },
      {
        "duration": 11,
        "start_time": "2022-07-08T18:48:00.737Z"
      },
      {
        "duration": 11,
        "start_time": "2022-07-08T18:48:00.749Z"
      },
      {
        "duration": 29,
        "start_time": "2022-07-08T18:48:00.762Z"
      },
      {
        "duration": 58,
        "start_time": "2022-07-08T18:48:00.793Z"
      },
      {
        "duration": 461,
        "start_time": "2022-07-08T18:48:00.853Z"
      },
      {
        "duration": 2925,
        "start_time": "2022-07-08T18:48:01.315Z"
      },
      {
        "duration": 11654,
        "start_time": "2022-07-08T18:48:04.241Z"
      },
      {
        "duration": 6,
        "start_time": "2022-07-08T18:48:15.900Z"
      },
      {
        "duration": 123,
        "start_time": "2022-07-08T18:48:15.908Z"
      },
      {
        "duration": 2858,
        "start_time": "2022-07-08T18:48:16.033Z"
      },
      {
        "duration": 10849,
        "start_time": "2022-07-08T18:48:18.893Z"
      },
      {
        "duration": 118,
        "start_time": "2022-07-08T18:48:29.743Z"
      },
      {
        "duration": 0,
        "start_time": "2022-07-08T18:48:29.863Z"
      },
      {
        "duration": 0,
        "start_time": "2022-07-08T18:48:29.864Z"
      },
      {
        "duration": 0,
        "start_time": "2022-07-08T18:48:29.865Z"
      },
      {
        "duration": 0,
        "start_time": "2022-07-08T18:48:29.866Z"
      },
      {
        "duration": 0,
        "start_time": "2022-07-08T18:48:29.867Z"
      },
      {
        "duration": 8,
        "start_time": "2022-07-08T18:54:16.762Z"
      },
      {
        "duration": 4167,
        "start_time": "2022-07-08T18:54:24.424Z"
      },
      {
        "duration": 18661,
        "start_time": "2022-07-08T18:54:34.354Z"
      },
      {
        "duration": 15,
        "start_time": "2022-07-08T18:55:49.550Z"
      },
      {
        "duration": 17,
        "start_time": "2022-07-08T18:56:29.597Z"
      },
      {
        "duration": 216,
        "start_time": "2022-07-08T19:10:26.500Z"
      },
      {
        "duration": 550,
        "start_time": "2022-07-08T19:18:06.096Z"
      },
      {
        "duration": 683,
        "start_time": "2022-07-08T19:19:02.994Z"
      },
      {
        "duration": 15,
        "start_time": "2022-07-08T19:25:37.416Z"
      },
      {
        "duration": 9,
        "start_time": "2022-07-08T19:26:09.019Z"
      },
      {
        "duration": 153,
        "start_time": "2022-07-08T19:26:45.682Z"
      },
      {
        "duration": 3997,
        "start_time": "2022-07-08T19:31:13.815Z"
      },
      {
        "duration": 1843,
        "start_time": "2022-07-08T19:32:49.162Z"
      },
      {
        "duration": 6866,
        "start_time": "2022-07-08T19:33:30.980Z"
      },
      {
        "duration": 1314,
        "start_time": "2022-07-08T19:45:33.765Z"
      },
      {
        "duration": 61,
        "start_time": "2022-07-08T19:45:35.082Z"
      },
      {
        "duration": 14,
        "start_time": "2022-07-08T19:45:35.145Z"
      },
      {
        "duration": 8,
        "start_time": "2022-07-08T19:45:35.161Z"
      },
      {
        "duration": 51,
        "start_time": "2022-07-08T19:45:35.171Z"
      },
      {
        "duration": 17,
        "start_time": "2022-07-08T19:45:35.224Z"
      },
      {
        "duration": 19,
        "start_time": "2022-07-08T19:45:35.243Z"
      },
      {
        "duration": 15,
        "start_time": "2022-07-08T19:45:35.264Z"
      },
      {
        "duration": 23,
        "start_time": "2022-07-08T19:45:35.281Z"
      },
      {
        "duration": 40,
        "start_time": "2022-07-08T19:45:35.307Z"
      },
      {
        "duration": 33,
        "start_time": "2022-07-08T19:45:35.350Z"
      },
      {
        "duration": 31,
        "start_time": "2022-07-08T19:45:35.385Z"
      },
      {
        "duration": 15,
        "start_time": "2022-07-08T19:45:35.418Z"
      },
      {
        "duration": 27,
        "start_time": "2022-07-08T19:45:35.435Z"
      },
      {
        "duration": 145,
        "start_time": "2022-07-08T19:45:35.463Z"
      },
      {
        "duration": 0,
        "start_time": "2022-07-08T19:45:35.610Z"
      },
      {
        "duration": 0,
        "start_time": "2022-07-08T19:45:35.610Z"
      },
      {
        "duration": 0,
        "start_time": "2022-07-08T19:45:35.611Z"
      },
      {
        "duration": 0,
        "start_time": "2022-07-08T19:45:35.612Z"
      },
      {
        "duration": 0,
        "start_time": "2022-07-08T19:45:35.613Z"
      },
      {
        "duration": 0,
        "start_time": "2022-07-08T19:45:35.614Z"
      },
      {
        "duration": 0,
        "start_time": "2022-07-08T19:45:35.615Z"
      },
      {
        "duration": 0,
        "start_time": "2022-07-08T19:45:35.615Z"
      },
      {
        "duration": 0,
        "start_time": "2022-07-08T19:45:35.616Z"
      },
      {
        "duration": 0,
        "start_time": "2022-07-08T19:45:35.617Z"
      },
      {
        "duration": 0,
        "start_time": "2022-07-08T19:45:35.618Z"
      },
      {
        "duration": 0,
        "start_time": "2022-07-08T19:45:35.618Z"
      },
      {
        "duration": 0,
        "start_time": "2022-07-08T19:45:35.622Z"
      },
      {
        "duration": 0,
        "start_time": "2022-07-08T19:45:35.625Z"
      },
      {
        "duration": 1276,
        "start_time": "2022-07-08T19:45:56.679Z"
      },
      {
        "duration": 58,
        "start_time": "2022-07-08T19:45:57.957Z"
      },
      {
        "duration": 11,
        "start_time": "2022-07-08T19:45:58.016Z"
      },
      {
        "duration": 10,
        "start_time": "2022-07-08T19:45:58.029Z"
      },
      {
        "duration": 13,
        "start_time": "2022-07-08T19:45:58.040Z"
      },
      {
        "duration": 8,
        "start_time": "2022-07-08T19:45:58.055Z"
      },
      {
        "duration": 10,
        "start_time": "2022-07-08T19:45:58.064Z"
      },
      {
        "duration": 7,
        "start_time": "2022-07-08T19:45:58.075Z"
      },
      {
        "duration": 24,
        "start_time": "2022-07-08T19:45:58.083Z"
      },
      {
        "duration": 12,
        "start_time": "2022-07-08T19:45:58.108Z"
      },
      {
        "duration": 16,
        "start_time": "2022-07-08T19:45:58.122Z"
      },
      {
        "duration": 20,
        "start_time": "2022-07-08T19:45:58.140Z"
      },
      {
        "duration": 10,
        "start_time": "2022-07-08T19:45:58.162Z"
      },
      {
        "duration": 29,
        "start_time": "2022-07-08T19:45:58.175Z"
      },
      {
        "duration": 132,
        "start_time": "2022-07-08T19:45:58.208Z"
      },
      {
        "duration": 0,
        "start_time": "2022-07-08T19:45:58.341Z"
      },
      {
        "duration": 0,
        "start_time": "2022-07-08T19:45:58.343Z"
      },
      {
        "duration": 0,
        "start_time": "2022-07-08T19:45:58.344Z"
      },
      {
        "duration": 0,
        "start_time": "2022-07-08T19:45:58.345Z"
      },
      {
        "duration": 0,
        "start_time": "2022-07-08T19:45:58.346Z"
      },
      {
        "duration": 0,
        "start_time": "2022-07-08T19:45:58.347Z"
      },
      {
        "duration": 0,
        "start_time": "2022-07-08T19:45:58.348Z"
      },
      {
        "duration": 0,
        "start_time": "2022-07-08T19:45:58.350Z"
      },
      {
        "duration": 0,
        "start_time": "2022-07-08T19:45:58.351Z"
      },
      {
        "duration": 0,
        "start_time": "2022-07-08T19:45:58.352Z"
      },
      {
        "duration": 0,
        "start_time": "2022-07-08T19:45:58.353Z"
      },
      {
        "duration": 0,
        "start_time": "2022-07-08T19:45:58.355Z"
      },
      {
        "duration": 0,
        "start_time": "2022-07-08T19:45:58.356Z"
      },
      {
        "duration": 0,
        "start_time": "2022-07-08T19:45:58.357Z"
      },
      {
        "duration": 1286,
        "start_time": "2022-07-08T19:46:38.951Z"
      },
      {
        "duration": 49,
        "start_time": "2022-07-08T19:46:40.238Z"
      },
      {
        "duration": 14,
        "start_time": "2022-07-08T19:46:40.289Z"
      },
      {
        "duration": 15,
        "start_time": "2022-07-08T19:46:40.306Z"
      },
      {
        "duration": 9,
        "start_time": "2022-07-08T19:46:40.323Z"
      },
      {
        "duration": 8,
        "start_time": "2022-07-08T19:46:40.334Z"
      },
      {
        "duration": 5,
        "start_time": "2022-07-08T19:46:40.344Z"
      },
      {
        "duration": 7,
        "start_time": "2022-07-08T19:46:40.351Z"
      },
      {
        "duration": 7,
        "start_time": "2022-07-08T19:46:40.359Z"
      },
      {
        "duration": 4,
        "start_time": "2022-07-08T19:46:40.368Z"
      },
      {
        "duration": 36,
        "start_time": "2022-07-08T19:46:40.373Z"
      },
      {
        "duration": 23,
        "start_time": "2022-07-08T19:46:40.410Z"
      },
      {
        "duration": 13,
        "start_time": "2022-07-08T19:46:40.436Z"
      },
      {
        "duration": 10,
        "start_time": "2022-07-08T19:46:40.451Z"
      },
      {
        "duration": 46,
        "start_time": "2022-07-08T19:46:40.463Z"
      },
      {
        "duration": 21,
        "start_time": "2022-07-08T19:46:40.516Z"
      },
      {
        "duration": 453,
        "start_time": "2022-07-08T19:46:40.539Z"
      },
      {
        "duration": 3025,
        "start_time": "2022-07-08T19:46:40.993Z"
      },
      {
        "duration": 12343,
        "start_time": "2022-07-08T19:46:44.020Z"
      },
      {
        "duration": 8,
        "start_time": "2022-07-08T19:46:56.365Z"
      },
      {
        "duration": 148,
        "start_time": "2022-07-08T19:46:56.375Z"
      },
      {
        "duration": 3087,
        "start_time": "2022-07-08T19:46:56.525Z"
      },
      {
        "duration": 11553,
        "start_time": "2022-07-08T19:46:59.616Z"
      },
      {
        "duration": 7,
        "start_time": "2022-07-08T19:47:11.170Z"
      },
      {
        "duration": 4085,
        "start_time": "2022-07-08T19:47:11.179Z"
      },
      {
        "duration": 18154,
        "start_time": "2022-07-08T19:47:15.266Z"
      },
      {
        "duration": 8,
        "start_time": "2022-07-08T19:47:33.422Z"
      },
      {
        "duration": 1823,
        "start_time": "2022-07-08T19:47:33.433Z"
      },
      {
        "duration": 6993,
        "start_time": "2022-07-08T19:47:35.258Z"
      },
      {
        "duration": 104,
        "start_time": "2022-07-08T19:50:06.116Z"
      },
      {
        "duration": 151,
        "start_time": "2022-07-08T19:51:24.076Z"
      },
      {
        "duration": 1314,
        "start_time": "2022-07-08T19:56:00.241Z"
      },
      {
        "duration": 64,
        "start_time": "2022-07-08T19:56:01.557Z"
      },
      {
        "duration": 17,
        "start_time": "2022-07-08T19:56:01.624Z"
      },
      {
        "duration": 11,
        "start_time": "2022-07-08T19:56:01.643Z"
      },
      {
        "duration": 15,
        "start_time": "2022-07-08T19:56:01.657Z"
      },
      {
        "duration": 29,
        "start_time": "2022-07-08T19:56:01.673Z"
      },
      {
        "duration": 21,
        "start_time": "2022-07-08T19:56:01.710Z"
      },
      {
        "duration": 19,
        "start_time": "2022-07-08T19:56:01.734Z"
      },
      {
        "duration": 21,
        "start_time": "2022-07-08T19:56:01.755Z"
      },
      {
        "duration": 38,
        "start_time": "2022-07-08T19:56:01.778Z"
      },
      {
        "duration": 50,
        "start_time": "2022-07-08T19:56:01.819Z"
      },
      {
        "duration": 24,
        "start_time": "2022-07-08T19:56:01.871Z"
      },
      {
        "duration": 20,
        "start_time": "2022-07-08T19:56:01.896Z"
      },
      {
        "duration": 48,
        "start_time": "2022-07-08T19:56:01.920Z"
      },
      {
        "duration": 79,
        "start_time": "2022-07-08T19:56:01.970Z"
      },
      {
        "duration": 26,
        "start_time": "2022-07-08T19:56:02.051Z"
      },
      {
        "duration": 425,
        "start_time": "2022-07-08T19:56:02.078Z"
      },
      {
        "duration": 3224,
        "start_time": "2022-07-08T19:56:02.516Z"
      },
      {
        "duration": 12079,
        "start_time": "2022-07-08T19:56:05.742Z"
      },
      {
        "duration": 7,
        "start_time": "2022-07-08T19:56:17.823Z"
      },
      {
        "duration": 128,
        "start_time": "2022-07-08T19:56:17.831Z"
      },
      {
        "duration": 3016,
        "start_time": "2022-07-08T19:56:17.961Z"
      },
      {
        "duration": 11443,
        "start_time": "2022-07-08T19:56:20.979Z"
      },
      {
        "duration": 9,
        "start_time": "2022-07-08T19:56:32.424Z"
      },
      {
        "duration": 4412,
        "start_time": "2022-07-08T19:56:32.435Z"
      },
      {
        "duration": 18780,
        "start_time": "2022-07-08T19:56:36.849Z"
      },
      {
        "duration": 9,
        "start_time": "2022-07-08T19:56:55.630Z"
      },
      {
        "duration": 1855,
        "start_time": "2022-07-08T19:56:55.640Z"
      },
      {
        "duration": 6906,
        "start_time": "2022-07-08T19:56:57.496Z"
      },
      {
        "duration": 153,
        "start_time": "2022-07-08T19:57:04.408Z"
      }
    ],
    "kernelspec": {
      "display_name": "Python 3 (ipykernel)",
      "language": "python",
      "name": "python3"
    },
    "language_info": {
      "codemirror_mode": {
        "name": "ipython",
        "version": 3
      },
      "file_extension": ".py",
      "mimetype": "text/x-python",
      "name": "python",
      "nbconvert_exporter": "python",
      "pygments_lexer": "ipython3",
      "version": "3.9.5"
    },
    "toc": {
      "base_numbering": 1,
      "nav_menu": {},
      "number_sections": true,
      "sideBar": true,
      "skip_h1_title": true,
      "title_cell": "Содержание",
      "title_sidebar": "Contents",
      "toc_cell": true,
      "toc_position": {
        "height": "calc(100% - 180px)",
        "left": "10px",
        "top": "150px",
        "width": "361px"
      },
      "toc_section_display": true,
      "toc_window_display": true
    },
    "colab": {
      "provenance": [],
      "toc_visible": true
    }
  },
  "nbformat": 4,
  "nbformat_minor": 0
}
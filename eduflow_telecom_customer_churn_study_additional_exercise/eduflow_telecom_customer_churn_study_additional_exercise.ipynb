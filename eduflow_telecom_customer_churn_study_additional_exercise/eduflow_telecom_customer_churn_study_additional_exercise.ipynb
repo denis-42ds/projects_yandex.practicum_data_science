{
  "nbformat": 4,
  "nbformat_minor": 0,
  "metadata": {
    "colab": {
      "provenance": []
    },
    "kernelspec": {
      "name": "python3",
      "display_name": "Python 3"
    },
    "language_info": {
      "name": "python"
    }
  },
  "cells": [
    {
      "cell_type": "markdown",
      "source": [
        "# Телеком: исследование оттока клиентов"
      ],
      "metadata": {
        "id": "mZqDyU_GaFS1"
      }
    },
    {
      "cell_type": "markdown",
      "source": [
        "**Цель: выяснить связь величин ежемесячных платежей с отказом от обслуживания.**\n",
        "<br>Пока создаётся модель прогнозирования оттока клиентов, отдел маркетинга «Ниединогоразрыва.ком» приступает к проработке способов их удержания. Предстоит собрать нужную для этого информацию.\n",
        "<br>**План действий:**\n",
        "- Исследовательский анализ каждого датафрейма\n",
        "- Сравнение распределения величин ежемесячных платежей всех клиентов и тех, кто ушёл\n",
        "- Расчёт статистик, построение гистограмм\n",
        "- Объединение датафреймов\n",
        "- Анализ единого датафрейма\n",
        "- Построение графиков, отображающих долю пользователей телефонной связи и\n",
        "долю интернет-пользователей для всех клиентов и тех, кто ушёл\n",
        "\n",
        "**Описание данных:**\n",
        "\n",
        "- `contract.csv` — информация о договоре\n",
        "  - `customerID` - идентификатор пользователя\n",
        "  - `BeginDate` - дата заключения договора\n",
        "  - `EndDate` - дата расторжения договора\n",
        "  - `Type` - тип заключённого договора\n",
        "  - `PaperlessBilling` - обмен документами без бумажного носителя\n",
        "  - `PaymentMethod` - способ оплаты и вариант подтверждения платежа\n",
        "  - `MonthlyCharges` - ежемесячный платёж\n",
        "  - `TotalCharges` - всего внесено дунежных средств\n",
        "- `phone.csv` - информация об услугах телефонии\n",
        "  - `customerID` - идентификатор пользователя\n",
        "  - `MultipleLines` - подключение телефонного аппарата к нескольким линиям одновременно\n",
        "- `internet.csv` — информация об интернет-услугах\n",
        "    - `customerID` - идентификатор пользлователя\n",
        "    - `InternetService` - тип подключения к сети интернет\n",
        "    - `OnlineSecurity` - подключение услуги блокировки небезопасных сайтов\n",
        "    - `OnlineBackup` - подключение облачного хранилища файлов для резервного копирования данных\n",
        "    - `DeviceProtection` - подключение антивируса\n",
        "    - `TechSupport` - подключение выделенной линии технической поддержки\n",
        "    - `StreamingTV` - подключение стримингового телевидения\n",
        "    - `StreamingMovies` - подключение каталога фильмов"
      ],
      "metadata": {
        "id": "tqDvESM4aIoZ"
      }
    },
    {
      "cell_type": "markdown",
      "source": [
        "## Инструменты"
      ],
      "metadata": {
        "id": "h8unlH_UaXaL"
      }
    },
    {
      "cell_type": "markdown",
      "source": [
        "Импорт библиотек"
      ],
      "metadata": {
        "id": "f0bYFnuTabOq"
      }
    },
    {
      "cell_type": "code",
      "execution_count": null,
      "metadata": {
        "id": "WwZdopFJZ0I3"
      },
      "outputs": [],
      "source": [
        "import pandas as pd\n",
        "import numpy as np\n",
        "import seaborn as sns\n",
        "import matplotlib.pyplot as plt\n",
        "from scipy import stats as st"
      ]
    },
    {
      "cell_type": "markdown",
      "source": [
        "## Подготовка и анализ данных"
      ],
      "metadata": {
        "id": "Jp4RIA_5aiqn"
      }
    },
    {
      "cell_type": "markdown",
      "source": [
        "Открытие датасетов"
      ],
      "metadata": {
        "id": "5zPcZ4BwhQRo"
      }
    },
    {
      "cell_type": "code",
      "source": [
        "try:\n",
        "  contract = pd.read_csv('/home/contract.csv')\n",
        "  phone = pd.read_csv('/home/phone.csv')\n",
        "  personal = pd.read_csv('/home/personal.csv')\n",
        "  internet = pd.read_csv('/home/internet.csv')\n",
        "except:\n",
        "  contract = pd.read_csv('C:/Users/nvmor/Documents/workshop/projects/final_project/final_provider/contract.csv')\n",
        "  phone = pd.read_csv('C:/Users/nvmor/Documents/workshop/projects/final_project/final_provider/phone.csv')\n",
        "  internet = pd.read_csv('C:/Users/nvmor/Documents/workshop/projects/final_project/final_provider/internet.csv')"
      ],
      "metadata": {
        "id": "IP_xweYGfVtt"
      },
      "execution_count": null,
      "outputs": []
    },
    {
      "cell_type": "markdown",
      "source": [
        "**Открытие файла `contract` и ознакомление со структурой данных**"
      ],
      "metadata": {
        "id": "ZE4W-smgbUhD"
      }
    },
    {
      "cell_type": "code",
      "source": [
        "display(contract.sample(5))\n",
        "contract.info()"
      ],
      "metadata": {
        "colab": {
          "base_uri": "https://localhost:8080/",
          "height": 467
        },
        "id": "O5_48T2danzy",
        "outputId": "641d2c10-da6e-475a-a9ed-150210121aef"
      },
      "execution_count": null,
      "outputs": [
        {
          "output_type": "display_data",
          "data": {
            "text/plain": [
              "      customerID   BeginDate EndDate            Type PaperlessBilling  \\\n",
              "4332  4194-FJARJ  2015-08-01      No        Two year               No   \n",
              "3052  5151-HQRDG  2017-01-01      No  Month-to-month              Yes   \n",
              "3401  4299-OPXEJ  2015-06-01      No        Two year              Yes   \n",
              "759   5684-FJVYR  2014-02-01      No        Two year              Yes   \n",
              "6818  2710-WYVXG  2019-11-01      No        Two year               No   \n",
              "\n",
              "                  PaymentMethod  MonthlyCharges TotalCharges  \n",
              "4332  Bank transfer (automatic)           60.00      3273.95  \n",
              "3052               Mailed check           55.05      2030.75  \n",
              "3401  Bank transfer (automatic)           19.55      1080.55  \n",
              "759   Bank transfer (automatic)           90.35       6563.4  \n",
              "6818               Mailed check           71.10       213.35  "
            ],
            "text/html": [
              "\n",
              "  <div id=\"df-38e79ab5-0907-4f5c-b4a8-63ffa8f37a8b\">\n",
              "    <div class=\"colab-df-container\">\n",
              "      <div>\n",
              "<style scoped>\n",
              "    .dataframe tbody tr th:only-of-type {\n",
              "        vertical-align: middle;\n",
              "    }\n",
              "\n",
              "    .dataframe tbody tr th {\n",
              "        vertical-align: top;\n",
              "    }\n",
              "\n",
              "    .dataframe thead th {\n",
              "        text-align: right;\n",
              "    }\n",
              "</style>\n",
              "<table border=\"1\" class=\"dataframe\">\n",
              "  <thead>\n",
              "    <tr style=\"text-align: right;\">\n",
              "      <th></th>\n",
              "      <th>customerID</th>\n",
              "      <th>BeginDate</th>\n",
              "      <th>EndDate</th>\n",
              "      <th>Type</th>\n",
              "      <th>PaperlessBilling</th>\n",
              "      <th>PaymentMethod</th>\n",
              "      <th>MonthlyCharges</th>\n",
              "      <th>TotalCharges</th>\n",
              "    </tr>\n",
              "  </thead>\n",
              "  <tbody>\n",
              "    <tr>\n",
              "      <th>4332</th>\n",
              "      <td>4194-FJARJ</td>\n",
              "      <td>2015-08-01</td>\n",
              "      <td>No</td>\n",
              "      <td>Two year</td>\n",
              "      <td>No</td>\n",
              "      <td>Bank transfer (automatic)</td>\n",
              "      <td>60.00</td>\n",
              "      <td>3273.95</td>\n",
              "    </tr>\n",
              "    <tr>\n",
              "      <th>3052</th>\n",
              "      <td>5151-HQRDG</td>\n",
              "      <td>2017-01-01</td>\n",
              "      <td>No</td>\n",
              "      <td>Month-to-month</td>\n",
              "      <td>Yes</td>\n",
              "      <td>Mailed check</td>\n",
              "      <td>55.05</td>\n",
              "      <td>2030.75</td>\n",
              "    </tr>\n",
              "    <tr>\n",
              "      <th>3401</th>\n",
              "      <td>4299-OPXEJ</td>\n",
              "      <td>2015-06-01</td>\n",
              "      <td>No</td>\n",
              "      <td>Two year</td>\n",
              "      <td>Yes</td>\n",
              "      <td>Bank transfer (automatic)</td>\n",
              "      <td>19.55</td>\n",
              "      <td>1080.55</td>\n",
              "    </tr>\n",
              "    <tr>\n",
              "      <th>759</th>\n",
              "      <td>5684-FJVYR</td>\n",
              "      <td>2014-02-01</td>\n",
              "      <td>No</td>\n",
              "      <td>Two year</td>\n",
              "      <td>Yes</td>\n",
              "      <td>Bank transfer (automatic)</td>\n",
              "      <td>90.35</td>\n",
              "      <td>6563.4</td>\n",
              "    </tr>\n",
              "    <tr>\n",
              "      <th>6818</th>\n",
              "      <td>2710-WYVXG</td>\n",
              "      <td>2019-11-01</td>\n",
              "      <td>No</td>\n",
              "      <td>Two year</td>\n",
              "      <td>No</td>\n",
              "      <td>Mailed check</td>\n",
              "      <td>71.10</td>\n",
              "      <td>213.35</td>\n",
              "    </tr>\n",
              "  </tbody>\n",
              "</table>\n",
              "</div>\n",
              "      <button class=\"colab-df-convert\" onclick=\"convertToInteractive('df-38e79ab5-0907-4f5c-b4a8-63ffa8f37a8b')\"\n",
              "              title=\"Convert this dataframe to an interactive table.\"\n",
              "              style=\"display:none;\">\n",
              "        \n",
              "  <svg xmlns=\"http://www.w3.org/2000/svg\" height=\"24px\"viewBox=\"0 0 24 24\"\n",
              "       width=\"24px\">\n",
              "    <path d=\"M0 0h24v24H0V0z\" fill=\"none\"/>\n",
              "    <path d=\"M18.56 5.44l.94 2.06.94-2.06 2.06-.94-2.06-.94-.94-2.06-.94 2.06-2.06.94zm-11 1L8.5 8.5l.94-2.06 2.06-.94-2.06-.94L8.5 2.5l-.94 2.06-2.06.94zm10 10l.94 2.06.94-2.06 2.06-.94-2.06-.94-.94-2.06-.94 2.06-2.06.94z\"/><path d=\"M17.41 7.96l-1.37-1.37c-.4-.4-.92-.59-1.43-.59-.52 0-1.04.2-1.43.59L10.3 9.45l-7.72 7.72c-.78.78-.78 2.05 0 2.83L4 21.41c.39.39.9.59 1.41.59.51 0 1.02-.2 1.41-.59l7.78-7.78 2.81-2.81c.8-.78.8-2.07 0-2.86zM5.41 20L4 18.59l7.72-7.72 1.47 1.35L5.41 20z\"/>\n",
              "  </svg>\n",
              "      </button>\n",
              "      \n",
              "  <style>\n",
              "    .colab-df-container {\n",
              "      display:flex;\n",
              "      flex-wrap:wrap;\n",
              "      gap: 12px;\n",
              "    }\n",
              "\n",
              "    .colab-df-convert {\n",
              "      background-color: #E8F0FE;\n",
              "      border: none;\n",
              "      border-radius: 50%;\n",
              "      cursor: pointer;\n",
              "      display: none;\n",
              "      fill: #1967D2;\n",
              "      height: 32px;\n",
              "      padding: 0 0 0 0;\n",
              "      width: 32px;\n",
              "    }\n",
              "\n",
              "    .colab-df-convert:hover {\n",
              "      background-color: #E2EBFA;\n",
              "      box-shadow: 0px 1px 2px rgba(60, 64, 67, 0.3), 0px 1px 3px 1px rgba(60, 64, 67, 0.15);\n",
              "      fill: #174EA6;\n",
              "    }\n",
              "\n",
              "    [theme=dark] .colab-df-convert {\n",
              "      background-color: #3B4455;\n",
              "      fill: #D2E3FC;\n",
              "    }\n",
              "\n",
              "    [theme=dark] .colab-df-convert:hover {\n",
              "      background-color: #434B5C;\n",
              "      box-shadow: 0px 1px 3px 1px rgba(0, 0, 0, 0.15);\n",
              "      filter: drop-shadow(0px 1px 2px rgba(0, 0, 0, 0.3));\n",
              "      fill: #FFFFFF;\n",
              "    }\n",
              "  </style>\n",
              "\n",
              "      <script>\n",
              "        const buttonEl =\n",
              "          document.querySelector('#df-38e79ab5-0907-4f5c-b4a8-63ffa8f37a8b button.colab-df-convert');\n",
              "        buttonEl.style.display =\n",
              "          google.colab.kernel.accessAllowed ? 'block' : 'none';\n",
              "\n",
              "        async function convertToInteractive(key) {\n",
              "          const element = document.querySelector('#df-38e79ab5-0907-4f5c-b4a8-63ffa8f37a8b');\n",
              "          const dataTable =\n",
              "            await google.colab.kernel.invokeFunction('convertToInteractive',\n",
              "                                                     [key], {});\n",
              "          if (!dataTable) return;\n",
              "\n",
              "          const docLinkHtml = 'Like what you see? Visit the ' +\n",
              "            '<a target=\"_blank\" href=https://colab.research.google.com/notebooks/data_table.ipynb>data table notebook</a>'\n",
              "            + ' to learn more about interactive tables.';\n",
              "          element.innerHTML = '';\n",
              "          dataTable['output_type'] = 'display_data';\n",
              "          await google.colab.output.renderOutput(dataTable, element);\n",
              "          const docLink = document.createElement('div');\n",
              "          docLink.innerHTML = docLinkHtml;\n",
              "          element.appendChild(docLink);\n",
              "        }\n",
              "      </script>\n",
              "    </div>\n",
              "  </div>\n",
              "  "
            ]
          },
          "metadata": {}
        },
        {
          "output_type": "stream",
          "name": "stdout",
          "text": [
            "<class 'pandas.core.frame.DataFrame'>\n",
            "RangeIndex: 7043 entries, 0 to 7042\n",
            "Data columns (total 8 columns):\n",
            " #   Column            Non-Null Count  Dtype  \n",
            "---  ------            --------------  -----  \n",
            " 0   customerID        7043 non-null   object \n",
            " 1   BeginDate         7043 non-null   object \n",
            " 2   EndDate           7043 non-null   object \n",
            " 3   Type              7043 non-null   object \n",
            " 4   PaperlessBilling  7043 non-null   object \n",
            " 5   PaymentMethod     7043 non-null   object \n",
            " 6   MonthlyCharges    7043 non-null   float64\n",
            " 7   TotalCharges      7043 non-null   object \n",
            "dtypes: float64(1), object(7)\n",
            "memory usage: 440.3+ KB\n"
          ]
        }
      ]
    },
    {
      "cell_type": "markdown",
      "source": [
        "Для категоризации целевого признака создам функцию `outflow_category`. На вход принимает значения столбца `EndDate`, возвращает 1 при наличии даты расторжения договора, либо 0, если договор действует."
      ],
      "metadata": {
        "id": "3cob_mpcgX57"
      }
    },
    {
      "cell_type": "code",
      "source": [
        "def outflow_category(row):\n",
        "    end_date = row['EndDate']\n",
        "    \n",
        "    try:\n",
        "        if end_date == 'No':\n",
        "            return 0\n",
        "        return 1\n",
        "    except:\n",
        "        display('Введено некорректное значение')\n",
        "        \n",
        "contract['outflow_category'] = contract.apply(outflow_category, axis=1)\n",
        "contract.info()"
      ],
      "metadata": {
        "colab": {
          "base_uri": "https://localhost:8080/"
        },
        "id": "Io3rEY8wgdWR",
        "outputId": "0c674cb3-0064-4eda-e471-ee875186994e"
      },
      "execution_count": null,
      "outputs": [
        {
          "output_type": "stream",
          "name": "stdout",
          "text": [
            "<class 'pandas.core.frame.DataFrame'>\n",
            "RangeIndex: 7043 entries, 0 to 7042\n",
            "Data columns (total 9 columns):\n",
            " #   Column            Non-Null Count  Dtype  \n",
            "---  ------            --------------  -----  \n",
            " 0   customerID        7043 non-null   object \n",
            " 1   BeginDate         7043 non-null   object \n",
            " 2   EndDate           7043 non-null   object \n",
            " 3   Type              7043 non-null   object \n",
            " 4   PaperlessBilling  7043 non-null   object \n",
            " 5   PaymentMethod     7043 non-null   object \n",
            " 6   MonthlyCharges    7043 non-null   float64\n",
            " 7   TotalCharges      7043 non-null   object \n",
            " 8   outflow_category  7043 non-null   int64  \n",
            "dtypes: float64(1), int64(1), object(7)\n",
            "memory usage: 495.3+ KB\n"
          ]
        }
      ]
    },
    {
      "cell_type": "code",
      "source": [
        "contract.outflow_category.value_counts()"
      ],
      "metadata": {
        "colab": {
          "base_uri": "https://localhost:8080/"
        },
        "id": "XMDEb5m8hTXP",
        "outputId": "8a373559-edfe-4f18-b832-00251c75e800"
      },
      "execution_count": null,
      "outputs": [
        {
          "output_type": "execute_result",
          "data": {
            "text/plain": [
              "0    5174\n",
              "1    1869\n",
              "Name: outflow_category, dtype: int64"
            ]
          },
          "metadata": {},
          "execution_count": 5
        }
      ]
    },
    {
      "cell_type": "markdown",
      "source": [
        "Построение \"Ящиков с усами\" для визуализации распределения размера ежемесячного платежа"
      ],
      "metadata": {
        "id": "gcVQJUOnjPLS"
      }
    },
    {
      "cell_type": "code",
      "source": [
        "sns.set_style(\"darkgrid\")\n",
        "fig, axes = plt.subplots(1, 2, figsize=(12, 8))\n",
        "fig.suptitle('Распределение ежемесячного платежа у клиентов', fontsize=14)\n",
        "\n",
        "sns.boxplot(ax=axes[0], data=contract, y='MonthlyCharges')\n",
        "axes[0].set_xlabel('Все клиенты', fontsize=10)\n",
        "axes[0].set_ylabel('Размер ежемесячного платежа', fontsize=10)\n",
        "\n",
        "sns.boxplot(ax=axes[1], data=contract.query('outflow_category == 1'), y='MonthlyCharges')\n",
        "axes[1].set_xlabel('Ушедшие клиенты', fontsize=10)\n",
        "axes[1].set_ylabel('Размер ежемесячного платежа', fontsize=10)\n",
        "\n",
        "plt.show()"
      ],
      "metadata": {
        "colab": {
          "base_uri": "https://localhost:8080/",
          "height": 544
        },
        "id": "7rGjmRg9WOhU",
        "outputId": "e48342ff-6d74-4542-9a02-4cfbfe428f59"
      },
      "execution_count": null,
      "outputs": [
        {
          "output_type": "display_data",
          "data": {
            "text/plain": [
              "<Figure size 864x576 with 2 Axes>"
            ],
            "image/png": "[encoded data removed]"
          },
          "metadata": {}
        }
      ]
    },
    {
      "cell_type": "code",
      "source": [
        "display('Описательные статистики ежемесячных платежей всех клиентов', '', \n",
        "        contract['MonthlyCharges'].describe())"
      ],
      "metadata": {
        "colab": {
          "base_uri": "https://localhost:8080/",
          "height": 210
        },
        "id": "HhGhIN4CtTfU",
        "outputId": "dc97ef97-8987-4584-9d99-05770be9e649"
      },
      "execution_count": null,
      "outputs": [
        {
          "output_type": "display_data",
          "data": {
            "text/plain": [
              "'Описательные статистики ежемесячных платежей всех клиентов'"
            ],
            "application/vnd.google.colaboratory.intrinsic+json": {
              "type": "string"
            }
          },
          "metadata": {}
        },
        {
          "output_type": "display_data",
          "data": {
            "text/plain": [
              "''"
            ],
            "application/vnd.google.colaboratory.intrinsic+json": {
              "type": "string"
            }
          },
          "metadata": {}
        },
        {
          "output_type": "display_data",
          "data": {
            "text/plain": [
              "count    7043.000000\n",
              "mean       64.761692\n",
              "std        30.090047\n",
              "min        18.250000\n",
              "25%        35.500000\n",
              "50%        70.350000\n",
              "75%        89.850000\n",
              "max       118.750000\n",
              "Name: MonthlyCharges, dtype: float64"
            ]
          },
          "metadata": {}
        }
      ]
    },
    {
      "cell_type": "code",
      "source": [
        "display('Описательные статистики ежемесячных платежей ушедших клиентов', '', \n",
        "        contract.query('outflow_category == 1')['MonthlyCharges'].describe())"
      ],
      "metadata": {
        "colab": {
          "base_uri": "https://localhost:8080/",
          "height": 210
        },
        "id": "rJw2xwfdJJzY",
        "outputId": "c6f4f006-38c2-40e6-dbdc-b5dc4c4e63c3"
      },
      "execution_count": null,
      "outputs": [
        {
          "output_type": "display_data",
          "data": {
            "text/plain": [
              "'Описательные статистики ежемесячных платежей ушедших клиентов'"
            ],
            "application/vnd.google.colaboratory.intrinsic+json": {
              "type": "string"
            }
          },
          "metadata": {}
        },
        {
          "output_type": "display_data",
          "data": {
            "text/plain": [
              "''"
            ],
            "application/vnd.google.colaboratory.intrinsic+json": {
              "type": "string"
            }
          },
          "metadata": {}
        },
        {
          "output_type": "display_data",
          "data": {
            "text/plain": [
              "count    1869.000000\n",
              "mean       74.441332\n",
              "std        24.666053\n",
              "min        18.850000\n",
              "25%        56.150000\n",
              "50%        79.650000\n",
              "75%        94.200000\n",
              "max       118.350000\n",
              "Name: MonthlyCharges, dtype: float64"
            ]
          },
          "metadata": {}
        }
      ]
    },
    {
      "cell_type": "markdown",
      "source": [
        "Построение Гистограмм для визуализации распределения размера ежемесячного платежа"
      ],
      "metadata": {
        "id": "lHAJ9KRo4CVd"
      }
    },
    {
      "cell_type": "code",
      "source": [
        "sns.set_style(\"darkgrid\")\n",
        "fig, axes = plt.subplots(1, 2, figsize=(20, 8), sharex=True)\n",
        "fig.suptitle('Распределение ежемесячного платежа у клиентов', fontsize=14)\n",
        "\n",
        "sns.histplot(ax=axes[0], data=contract, x='MonthlyCharges')\n",
        "axes[0].set_title('Все клиенты')\n",
        "axes[0].set_xlabel('Размер ежемесячного платежа', fontsize=10)\n",
        "axes[0].set_ylabel('Количество клиентов', fontsize=10)\n",
        "\n",
        "sns.histplot(ax=axes[1], data=contract.query('outflow_category == 1'), x='MonthlyCharges')\n",
        "axes[1].set_title('Ушедшие клиенты')\n",
        "axes[1].set_xlabel('Размер ежемесячного платежа', fontsize=10)\n",
        "axes[1].set_ylabel('Количество клиентов', fontsize=10)\n",
        "\n",
        "plt.show()"
      ],
      "metadata": {
        "colab": {
          "base_uri": "https://localhost:8080/",
          "height": 554
        },
        "id": "GUiTFMMEkMKR",
        "outputId": "2de7c12b-3fb5-469a-da9d-a987d74d0440"
      },
      "execution_count": null,
      "outputs": [
        {
          "output_type": "display_data",
          "data": {
            "text/plain": [
              "<Figure size 1440x576 with 2 Axes>"
            ],
            "image/png": "[encoded data removed]"
          },
          "metadata": {}
        }
      ]
    },
    {
      "cell_type": "markdown",
      "source": [
        "**Выводы:**\n",
        "- в среднем ежемесячные платежи ушедших клиентов выше, чем у клиентов в целом\n",
        "- медианное значение платежей у них также имеет более высокое значение\n",
        "- минимальное значение платежей практически одинаковое, также, как и максимальное"
      ],
      "metadata": {
        "id": "wBg1YZchaQVQ"
      }
    },
    {
      "cell_type": "markdown",
      "source": [
        "**Открытие файла `phone` и ознакомление со структурой данных**"
      ],
      "metadata": {
        "id": "kNsj6NzQe0Ex"
      }
    },
    {
      "cell_type": "code",
      "source": [
        "display(phone.sample(5))\n",
        "phone.info()"
      ],
      "metadata": {
        "colab": {
          "base_uri": "https://localhost:8080/",
          "height": 362
        },
        "id": "WkHdY7TJdcVm",
        "outputId": "b3e9dd70-90ba-4de2-8c04-658b39e5d2e8"
      },
      "execution_count": null,
      "outputs": [
        {
          "output_type": "display_data",
          "data": {
            "text/plain": [
              "      customerID MultipleLines\n",
              "4329  8224-KDLKN           Yes\n",
              "5073  7228-OMTPN            No\n",
              "2314  9825-YCXWZ            No\n",
              "4979  7856-GANIL           Yes\n",
              "22    6467-CHFZW           Yes"
            ],
            "text/html": [
              "\n",
              "  <div id=\"df-e8e9e3b0-5747-4f33-bb0f-605e77bdc7fd\">\n",
              "    <div class=\"colab-df-container\">\n",
              "      <div>\n",
              "<style scoped>\n",
              "    .dataframe tbody tr th:only-of-type {\n",
              "        vertical-align: middle;\n",
              "    }\n",
              "\n",
              "    .dataframe tbody tr th {\n",
              "        vertical-align: top;\n",
              "    }\n",
              "\n",
              "    .dataframe thead th {\n",
              "        text-align: right;\n",
              "    }\n",
              "</style>\n",
              "<table border=\"1\" class=\"dataframe\">\n",
              "  <thead>\n",
              "    <tr style=\"text-align: right;\">\n",
              "      <th></th>\n",
              "      <th>customerID</th>\n",
              "      <th>MultipleLines</th>\n",
              "    </tr>\n",
              "  </thead>\n",
              "  <tbody>\n",
              "    <tr>\n",
              "      <th>4329</th>\n",
              "      <td>8224-KDLKN</td>\n",
              "      <td>Yes</td>\n",
              "    </tr>\n",
              "    <tr>\n",
              "      <th>5073</th>\n",
              "      <td>7228-OMTPN</td>\n",
              "      <td>No</td>\n",
              "    </tr>\n",
              "    <tr>\n",
              "      <th>2314</th>\n",
              "      <td>9825-YCXWZ</td>\n",
              "      <td>No</td>\n",
              "    </tr>\n",
              "    <tr>\n",
              "      <th>4979</th>\n",
              "      <td>7856-GANIL</td>\n",
              "      <td>Yes</td>\n",
              "    </tr>\n",
              "    <tr>\n",
              "      <th>22</th>\n",
              "      <td>6467-CHFZW</td>\n",
              "      <td>Yes</td>\n",
              "    </tr>\n",
              "  </tbody>\n",
              "</table>\n",
              "</div>\n",
              "      <button class=\"colab-df-convert\" onclick=\"convertToInteractive('df-e8e9e3b0-5747-4f33-bb0f-605e77bdc7fd')\"\n",
              "              title=\"Convert this dataframe to an interactive table.\"\n",
              "              style=\"display:none;\">\n",
              "        \n",
              "  <svg xmlns=\"http://www.w3.org/2000/svg\" height=\"24px\"viewBox=\"0 0 24 24\"\n",
              "       width=\"24px\">\n",
              "    <path d=\"M0 0h24v24H0V0z\" fill=\"none\"/>\n",
              "    <path d=\"M18.56 5.44l.94 2.06.94-2.06 2.06-.94-2.06-.94-.94-2.06-.94 2.06-2.06.94zm-11 1L8.5 8.5l.94-2.06 2.06-.94-2.06-.94L8.5 2.5l-.94 2.06-2.06.94zm10 10l.94 2.06.94-2.06 2.06-.94-2.06-.94-.94-2.06-.94 2.06-2.06.94z\"/><path d=\"M17.41 7.96l-1.37-1.37c-.4-.4-.92-.59-1.43-.59-.52 0-1.04.2-1.43.59L10.3 9.45l-7.72 7.72c-.78.78-.78 2.05 0 2.83L4 21.41c.39.39.9.59 1.41.59.51 0 1.02-.2 1.41-.59l7.78-7.78 2.81-2.81c.8-.78.8-2.07 0-2.86zM5.41 20L4 18.59l7.72-7.72 1.47 1.35L5.41 20z\"/>\n",
              "  </svg>\n",
              "      </button>\n",
              "      \n",
              "  <style>\n",
              "    .colab-df-container {\n",
              "      display:flex;\n",
              "      flex-wrap:wrap;\n",
              "      gap: 12px;\n",
              "    }\n",
              "\n",
              "    .colab-df-convert {\n",
              "      background-color: #E8F0FE;\n",
              "      border: none;\n",
              "      border-radius: 50%;\n",
              "      cursor: pointer;\n",
              "      display: none;\n",
              "      fill: #1967D2;\n",
              "      height: 32px;\n",
              "      padding: 0 0 0 0;\n",
              "      width: 32px;\n",
              "    }\n",
              "\n",
              "    .colab-df-convert:hover {\n",
              "      background-color: #E2EBFA;\n",
              "      box-shadow: 0px 1px 2px rgba(60, 64, 67, 0.3), 0px 1px 3px 1px rgba(60, 64, 67, 0.15);\n",
              "      fill: #174EA6;\n",
              "    }\n",
              "\n",
              "    [theme=dark] .colab-df-convert {\n",
              "      background-color: #3B4455;\n",
              "      fill: #D2E3FC;\n",
              "    }\n",
              "\n",
              "    [theme=dark] .colab-df-convert:hover {\n",
              "      background-color: #434B5C;\n",
              "      box-shadow: 0px 1px 3px 1px rgba(0, 0, 0, 0.15);\n",
              "      filter: drop-shadow(0px 1px 2px rgba(0, 0, 0, 0.3));\n",
              "      fill: #FFFFFF;\n",
              "    }\n",
              "  </style>\n",
              "\n",
              "      <script>\n",
              "        const buttonEl =\n",
              "          document.querySelector('#df-e8e9e3b0-5747-4f33-bb0f-605e77bdc7fd button.colab-df-convert');\n",
              "        buttonEl.style.display =\n",
              "          google.colab.kernel.accessAllowed ? 'block' : 'none';\n",
              "\n",
              "        async function convertToInteractive(key) {\n",
              "          const element = document.querySelector('#df-e8e9e3b0-5747-4f33-bb0f-605e77bdc7fd');\n",
              "          const dataTable =\n",
              "            await google.colab.kernel.invokeFunction('convertToInteractive',\n",
              "                                                     [key], {});\n",
              "          if (!dataTable) return;\n",
              "\n",
              "          const docLinkHtml = 'Like what you see? Visit the ' +\n",
              "            '<a target=\"_blank\" href=https://colab.research.google.com/notebooks/data_table.ipynb>data table notebook</a>'\n",
              "            + ' to learn more about interactive tables.';\n",
              "          element.innerHTML = '';\n",
              "          dataTable['output_type'] = 'display_data';\n",
              "          await google.colab.output.renderOutput(dataTable, element);\n",
              "          const docLink = document.createElement('div');\n",
              "          docLink.innerHTML = docLinkHtml;\n",
              "          element.appendChild(docLink);\n",
              "        }\n",
              "      </script>\n",
              "    </div>\n",
              "  </div>\n",
              "  "
            ]
          },
          "metadata": {}
        },
        {
          "output_type": "stream",
          "name": "stdout",
          "text": [
            "<class 'pandas.core.frame.DataFrame'>\n",
            "RangeIndex: 6361 entries, 0 to 6360\n",
            "Data columns (total 2 columns):\n",
            " #   Column         Non-Null Count  Dtype \n",
            "---  ------         --------------  ----- \n",
            " 0   customerID     6361 non-null   object\n",
            " 1   MultipleLines  6361 non-null   object\n",
            "dtypes: object(2)\n",
            "memory usage: 99.5+ KB\n"
          ]
        }
      ]
    },
    {
      "cell_type": "markdown",
      "source": [
        "Добавление нового столбца для идентификации"
      ],
      "metadata": {
        "id": "TIJVc2K34JWB"
      }
    },
    {
      "cell_type": "code",
      "source": [
        "phone.insert(1, 'phone', 1)"
      ],
      "metadata": {
        "id": "P4W1KuFL4Qj7"
      },
      "execution_count": null,
      "outputs": []
    },
    {
      "cell_type": "markdown",
      "source": [
        "**Открытие файла `internet` и ознакомление со структурой данных**"
      ],
      "metadata": {
        "id": "VMaeh-jBe9LS"
      }
    },
    {
      "cell_type": "code",
      "source": [
        "display(internet.sample(5))\n",
        "internet.info()"
      ],
      "metadata": {
        "colab": {
          "base_uri": "https://localhost:8080/",
          "height": 467
        },
        "id": "o8Hn66clfGFH",
        "outputId": "38803c2e-08f8-4423-faeb-83f148d24bf2"
      },
      "execution_count": null,
      "outputs": [
        {
          "output_type": "display_data",
          "data": {
            "text/plain": [
              "      customerID InternetService OnlineSecurity OnlineBackup DeviceProtection  \\\n",
              "1580  8086-OVPWV     Fiber optic             No           No               No   \n",
              "2449  8336-TAVKX             DSL            Yes          Yes              Yes   \n",
              "1854  8739-XNIKG     Fiber optic             No           No               No   \n",
              "2093  8348-HFYIV             DSL             No           No              Yes   \n",
              "4960  3214-IYUUQ     Fiber optic            Yes          Yes               No   \n",
              "\n",
              "     TechSupport StreamingTV StreamingMovies  \n",
              "1580          No          No             Yes  \n",
              "2449         Yes          No             Yes  \n",
              "1854          No         Yes              No  \n",
              "2093          No         Yes             Yes  \n",
              "4960         Yes          No             Yes  "
            ],
            "text/html": [
              "\n",
              "  <div id=\"df-d3d40032-0669-41d3-9699-bcee72567bda\">\n",
              "    <div class=\"colab-df-container\">\n",
              "      <div>\n",
              "<style scoped>\n",
              "    .dataframe tbody tr th:only-of-type {\n",
              "        vertical-align: middle;\n",
              "    }\n",
              "\n",
              "    .dataframe tbody tr th {\n",
              "        vertical-align: top;\n",
              "    }\n",
              "\n",
              "    .dataframe thead th {\n",
              "        text-align: right;\n",
              "    }\n",
              "</style>\n",
              "<table border=\"1\" class=\"dataframe\">\n",
              "  <thead>\n",
              "    <tr style=\"text-align: right;\">\n",
              "      <th></th>\n",
              "      <th>customerID</th>\n",
              "      <th>InternetService</th>\n",
              "      <th>OnlineSecurity</th>\n",
              "      <th>OnlineBackup</th>\n",
              "      <th>DeviceProtection</th>\n",
              "      <th>TechSupport</th>\n",
              "      <th>StreamingTV</th>\n",
              "      <th>StreamingMovies</th>\n",
              "    </tr>\n",
              "  </thead>\n",
              "  <tbody>\n",
              "    <tr>\n",
              "      <th>1580</th>\n",
              "      <td>8086-OVPWV</td>\n",
              "      <td>Fiber optic</td>\n",
              "      <td>No</td>\n",
              "      <td>No</td>\n",
              "      <td>No</td>\n",
              "      <td>No</td>\n",
              "      <td>No</td>\n",
              "      <td>Yes</td>\n",
              "    </tr>\n",
              "    <tr>\n",
              "      <th>2449</th>\n",
              "      <td>8336-TAVKX</td>\n",
              "      <td>DSL</td>\n",
              "      <td>Yes</td>\n",
              "      <td>Yes</td>\n",
              "      <td>Yes</td>\n",
              "      <td>Yes</td>\n",
              "      <td>No</td>\n",
              "      <td>Yes</td>\n",
              "    </tr>\n",
              "    <tr>\n",
              "      <th>1854</th>\n",
              "      <td>8739-XNIKG</td>\n",
              "      <td>Fiber optic</td>\n",
              "      <td>No</td>\n",
              "      <td>No</td>\n",
              "      <td>No</td>\n",
              "      <td>No</td>\n",
              "      <td>Yes</td>\n",
              "      <td>No</td>\n",
              "    </tr>\n",
              "    <tr>\n",
              "      <th>2093</th>\n",
              "      <td>8348-HFYIV</td>\n",
              "      <td>DSL</td>\n",
              "      <td>No</td>\n",
              "      <td>No</td>\n",
              "      <td>Yes</td>\n",
              "      <td>No</td>\n",
              "      <td>Yes</td>\n",
              "      <td>Yes</td>\n",
              "    </tr>\n",
              "    <tr>\n",
              "      <th>4960</th>\n",
              "      <td>3214-IYUUQ</td>\n",
              "      <td>Fiber optic</td>\n",
              "      <td>Yes</td>\n",
              "      <td>Yes</td>\n",
              "      <td>No</td>\n",
              "      <td>Yes</td>\n",
              "      <td>No</td>\n",
              "      <td>Yes</td>\n",
              "    </tr>\n",
              "  </tbody>\n",
              "</table>\n",
              "</div>\n",
              "      <button class=\"colab-df-convert\" onclick=\"convertToInteractive('df-d3d40032-0669-41d3-9699-bcee72567bda')\"\n",
              "              title=\"Convert this dataframe to an interactive table.\"\n",
              "              style=\"display:none;\">\n",
              "        \n",
              "  <svg xmlns=\"http://www.w3.org/2000/svg\" height=\"24px\"viewBox=\"0 0 24 24\"\n",
              "       width=\"24px\">\n",
              "    <path d=\"M0 0h24v24H0V0z\" fill=\"none\"/>\n",
              "    <path d=\"M18.56 5.44l.94 2.06.94-2.06 2.06-.94-2.06-.94-.94-2.06-.94 2.06-2.06.94zm-11 1L8.5 8.5l.94-2.06 2.06-.94-2.06-.94L8.5 2.5l-.94 2.06-2.06.94zm10 10l.94 2.06.94-2.06 2.06-.94-2.06-.94-.94-2.06-.94 2.06-2.06.94z\"/><path d=\"M17.41 7.96l-1.37-1.37c-.4-.4-.92-.59-1.43-.59-.52 0-1.04.2-1.43.59L10.3 9.45l-7.72 7.72c-.78.78-.78 2.05 0 2.83L4 21.41c.39.39.9.59 1.41.59.51 0 1.02-.2 1.41-.59l7.78-7.78 2.81-2.81c.8-.78.8-2.07 0-2.86zM5.41 20L4 18.59l7.72-7.72 1.47 1.35L5.41 20z\"/>\n",
              "  </svg>\n",
              "      </button>\n",
              "      \n",
              "  <style>\n",
              "    .colab-df-container {\n",
              "      display:flex;\n",
              "      flex-wrap:wrap;\n",
              "      gap: 12px;\n",
              "    }\n",
              "\n",
              "    .colab-df-convert {\n",
              "      background-color: #E8F0FE;\n",
              "      border: none;\n",
              "      border-radius: 50%;\n",
              "      cursor: pointer;\n",
              "      display: none;\n",
              "      fill: #1967D2;\n",
              "      height: 32px;\n",
              "      padding: 0 0 0 0;\n",
              "      width: 32px;\n",
              "    }\n",
              "\n",
              "    .colab-df-convert:hover {\n",
              "      background-color: #E2EBFA;\n",
              "      box-shadow: 0px 1px 2px rgba(60, 64, 67, 0.3), 0px 1px 3px 1px rgba(60, 64, 67, 0.15);\n",
              "      fill: #174EA6;\n",
              "    }\n",
              "\n",
              "    [theme=dark] .colab-df-convert {\n",
              "      background-color: #3B4455;\n",
              "      fill: #D2E3FC;\n",
              "    }\n",
              "\n",
              "    [theme=dark] .colab-df-convert:hover {\n",
              "      background-color: #434B5C;\n",
              "      box-shadow: 0px 1px 3px 1px rgba(0, 0, 0, 0.15);\n",
              "      filter: drop-shadow(0px 1px 2px rgba(0, 0, 0, 0.3));\n",
              "      fill: #FFFFFF;\n",
              "    }\n",
              "  </style>\n",
              "\n",
              "      <script>\n",
              "        const buttonEl =\n",
              "          document.querySelector('#df-d3d40032-0669-41d3-9699-bcee72567bda button.colab-df-convert');\n",
              "        buttonEl.style.display =\n",
              "          google.colab.kernel.accessAllowed ? 'block' : 'none';\n",
              "\n",
              "        async function convertToInteractive(key) {\n",
              "          const element = document.querySelector('#df-d3d40032-0669-41d3-9699-bcee72567bda');\n",
              "          const dataTable =\n",
              "            await google.colab.kernel.invokeFunction('convertToInteractive',\n",
              "                                                     [key], {});\n",
              "          if (!dataTable) return;\n",
              "\n",
              "          const docLinkHtml = 'Like what you see? Visit the ' +\n",
              "            '<a target=\"_blank\" href=https://colab.research.google.com/notebooks/data_table.ipynb>data table notebook</a>'\n",
              "            + ' to learn more about interactive tables.';\n",
              "          element.innerHTML = '';\n",
              "          dataTable['output_type'] = 'display_data';\n",
              "          await google.colab.output.renderOutput(dataTable, element);\n",
              "          const docLink = document.createElement('div');\n",
              "          docLink.innerHTML = docLinkHtml;\n",
              "          element.appendChild(docLink);\n",
              "        }\n",
              "      </script>\n",
              "    </div>\n",
              "  </div>\n",
              "  "
            ]
          },
          "metadata": {}
        },
        {
          "output_type": "stream",
          "name": "stdout",
          "text": [
            "<class 'pandas.core.frame.DataFrame'>\n",
            "RangeIndex: 5517 entries, 0 to 5516\n",
            "Data columns (total 8 columns):\n",
            " #   Column            Non-Null Count  Dtype \n",
            "---  ------            --------------  ----- \n",
            " 0   customerID        5517 non-null   object\n",
            " 1   InternetService   5517 non-null   object\n",
            " 2   OnlineSecurity    5517 non-null   object\n",
            " 3   OnlineBackup      5517 non-null   object\n",
            " 4   DeviceProtection  5517 non-null   object\n",
            " 5   TechSupport       5517 non-null   object\n",
            " 6   StreamingTV       5517 non-null   object\n",
            " 7   StreamingMovies   5517 non-null   object\n",
            "dtypes: object(8)\n",
            "memory usage: 344.9+ KB\n"
          ]
        }
      ]
    },
    {
      "cell_type": "markdown",
      "source": [
        "Добавление нового столбца для идентификации"
      ],
      "metadata": {
        "id": "a-ckS1rd448W"
      }
    },
    {
      "cell_type": "code",
      "source": [
        "internet.insert(1, 'internet', 1)"
      ],
      "metadata": {
        "id": "Bm32o8c24-Q6"
      },
      "execution_count": null,
      "outputs": []
    },
    {
      "cell_type": "markdown",
      "source": [
        "## Объединение датафреймов"
      ],
      "metadata": {
        "id": "kPaGeV4A53Kl"
      }
    },
    {
      "cell_type": "code",
      "source": [
        "all_data = contract.merge(phone, how='left', left_on='customerID', right_on='customerID')\n",
        "all_data = all_data.merge(internet, how='left', left_on='customerID', right_on='customerID')"
      ],
      "metadata": {
        "id": "5jhN7yii7G03"
      },
      "execution_count": null,
      "outputs": []
    },
    {
      "cell_type": "markdown",
      "source": [
        "Отсечение ненужных признаков, заполнение пропусков"
      ],
      "metadata": {
        "id": "F1rl3TwE9rWU"
      }
    },
    {
      "cell_type": "code",
      "source": [
        "filtered_df = all_data[['customerID', 'outflow_category', 'phone', 'internet']]\n",
        "filtered_df = filtered_df.fillna(0)"
      ],
      "metadata": {
        "id": "wBZSBXdP74RS"
      },
      "execution_count": null,
      "outputs": []
    },
    {
      "cell_type": "markdown",
      "source": [
        "Построение графиков"
      ],
      "metadata": {
        "id": "tcPn9alV-76r"
      }
    },
    {
      "cell_type": "code",
      "source": [
        "sns.set()\n",
        "fig, axes = plt.subplots(1, 2, figsize=(20, 8), sharex=True)\n",
        "fig.suptitle('Доли пользователей услуг от общего числа клиентов', y=1.15, fontsize=18)\n",
        "\n",
        "ax1 = plt.subplot(221)\n",
        "ax1.pie(filtered_df.internet.value_counts(), labels = ['Подключён', 'Нет подключения'], \n",
        "        radius=2.5, colors = sns.color_palette('pastel')[0:5], autopct='%.0f%%')\n",
        "ax1.set_title('Интернет', y=1.5, fontsize=14)\n",
        "\n",
        "ax2 = plt.subplot(222)\n",
        "ax2.pie(filtered_df.phone.value_counts(), labels = ['Подключён', 'Нет подключения'], \n",
        "        radius=2.5, colors = sns.color_palette('pastel')[0:5], autopct='%.0f%%')\n",
        "ax2.set_title('Телефон', y=1.5, fontsize=14)\n",
        "\n",
        "plt.show()"
      ],
      "metadata": {
        "colab": {
          "base_uri": "https://localhost:8080/",
          "height": 484
        },
        "id": "k2On2bDr-_vQ",
        "outputId": "c5dad9e1-c442-46b5-a0bc-bf0a2517ffae"
      },
      "execution_count": null,
      "outputs": [
        {
          "output_type": "display_data",
          "data": {
            "text/plain": [
              "<Figure size 1440x576 with 2 Axes>"
            ],
            "image/png": "[encoded data removed]"
          },
          "metadata": {}
        }
      ]
    },
    {
      "cell_type": "code",
      "source": [
        "sns.set()\n",
        "fig, axes = plt.subplots(1, 2, figsize=(20, 8), sharex=True)\n",
        "fig.suptitle('Доли пользователей услуг от числа клиентов, расторгнувших договор', \n",
        "             y=1.15, fontsize=18)\n",
        "\n",
        "ax1 = plt.subplot(221)\n",
        "ax1.pie(filtered_df.query('outflow_category == 1').internet.value_counts(), \n",
        "        labels = ['Был подключён', 'Не было подключения'], radius=2.5, \n",
        "        colors = sns.color_palette('pastel')[0:5], autopct='%.0f%%')\n",
        "ax1.set_title('Интернет', y=1.5, fontsize=14)\n",
        "\n",
        "ax2 = plt.subplot(222)\n",
        "ax2.pie(filtered_df.query('outflow_category == 1').phone.value_counts(), \n",
        "        labels = ['Был подключён', 'Не было подключения'], radius=2.5, \n",
        "        colors = sns.color_palette('pastel')[0:5], autopct='%.0f%%')\n",
        "ax2.set_title('Телефон', y=1.5, fontsize=14)\n",
        "\n",
        "plt.show()"
      ],
      "metadata": {
        "colab": {
          "base_uri": "https://localhost:8080/",
          "height": 484
        },
        "id": "wyX9muLdArPi",
        "outputId": "622f6090-4ba1-4b43-bbcc-923bfec36c20"
      },
      "execution_count": null,
      "outputs": [
        {
          "output_type": "display_data",
          "data": {
            "text/plain": [
              "<Figure size 1440x576 with 2 Axes>"
            ],
            "image/png": "[encoded data removed]"
          },
          "metadata": {}
        }
      ]
    },
    {
      "cell_type": "markdown",
      "source": [
        "Выводы:\n",
        "- из числа действующих клиентов у 22% нет подключения к интернету и у 10% нет подключения к телефонии\n",
        "- из числа ушедших клиентов без подключения к телефонии было примерно такое же количество - 9%, без интернет-услуг было всего лишь 6%"
      ],
      "metadata": {
        "id": "JYjbK74SBe2c"
      }
    },
    {
      "cell_type": "markdown",
      "source": [
        "## Общее заключение"
      ],
      "metadata": {
        "id": "HNc0zFMACWjt"
      }
    },
    {
      "cell_type": "markdown",
      "source": [
        "- в среднем ежемесячные платежи ушедших клиентов выше, чем у клиентов в целом\n",
        "- медианное значение платежей у них также имеет более высокое значение\n",
        "- минимальное значение платежей практически одинаковое, также, как и максимальное\n",
        "- из числа действующих клиентов у 22% нет подключения к интернету и у 10% нет подключения к телефонии\n",
        "- из числа ушедших клиентов без подключения к телефонии было примерно такое же количество - 9%, без интернет-услуг было всего лишь 6%"
      ],
      "metadata": {
        "id": "3Ke5-3Q16EwS"
      }
    }
  ]
}
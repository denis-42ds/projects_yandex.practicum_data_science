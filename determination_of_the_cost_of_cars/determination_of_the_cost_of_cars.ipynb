{
  "cells": [
    {
      "cell_type": "markdown",
      "metadata": {
        "id": "W0W1V6N-Txcm"
      },
      "source": [
        "# Определение стоимости автомобилей"
      ]
    },
    {
      "cell_type": "markdown",
      "metadata": {
        "id": "LCXch4X0Txcn"
      },
      "source": [
        "Сервис по продаже автомобилей с пробегом «Не бит, не крашен» разрабатывает приложение для привлечения новых клиентов. В нём можно быстро узнать рыночную стоимость своего автомобиля. В вашем распоряжении исторические данные: технические характеристики, комплектации и цены автомобилей. Вам нужно построить модель для определения стоимости. \n",
        "\n",
        "Заказчику важны:\n",
        "\n",
        "- качество предсказания;\n",
        "- скорость предсказания;\n",
        "- время обучения."
      ]
    },
    {
      "cell_type": "markdown",
      "metadata": {
        "id": "GGVnepFZTxcn"
      },
      "source": [
        "### Инструкция по выполнению проекта"
      ]
    },
    {
      "cell_type": "markdown",
      "metadata": {
        "id": "HT4H2IaqTxco"
      },
      "source": [
        "Чтобы усилить исследование, не ограничивайтесь градиентным бустингом. Попробуйте более простые модели — иногда они работают лучше. Эти редкие случаи легко пропустить, если всегда применять только бустинг.\n",
        "\n",
        "Поэкспериментируйте и сравните характеристики моделей: время обучения, время предсказания, точность результата.\n",
        "\n",
        "**Основные шаги:**\n",
        "1. Загрузите данные, путь к файлу: /datasets/autos.csv.\n",
        "2. Изучите данные. Заполните пропущенные значения и обработайте аномалии в столбцах. Если среди признаков имеются неинформативные, удалите их.\n",
        "3. Подготовьте выборки для обучения моделей.\n",
        "4. Обучите разные модели, одна из которых — LightGBM, как минимум одна — не бустинг. Для каждой модели попробуйте разные гиперпараметры.\n",
        "5. Проанализируйте время обучения, время предсказания и качество моделей.\n",
        "6. Опираясь на критерии заказчика, выберете лучшую модель, проверьте её качество на тестовой выборке.\n",
        "\n",
        "**Примечания:**\n",
        "- Для оценки качества моделей применяйте метрику RMSE.\n",
        "- Значение метрики RMSE должно быть меньше 2500.\n",
        "- Самостоятельно освойте библиотеку LightGBM и её средствами постройте модели градиентного бустинга.\n",
        "- Время выполнения ячейки кода Jupyter Notebook можно получить специальной командой. Найдите её.\n",
        "- Модель градиентного бустинга может долго обучаться, поэтому измените у неё только два-три параметра.\n",
        "- Если перестанет работать Jupyter Notebook, удалите лишние переменные оператором del."
      ]
    },
    {
      "cell_type": "markdown",
      "metadata": {
        "id": "6RE2rGXtTxcp"
      },
      "source": [
        "### Описание данных"
      ]
    },
    {
      "cell_type": "markdown",
      "metadata": {
        "id": "9K30asjFTxcq"
      },
      "source": [
        "Данные находятся в файле /datasets/autos.csv\n",
        "\n",
        "**Признаки**\n",
        "- *DateCrawled* — дата скачивания анкеты из базы\n",
        "- *VehicleType* — тип автомобильного кузова\n",
        "- *RegistrationYear* — год регистрации автомобиля\n",
        "- *Gearbox* — тип коробки передач\n",
        "- *Power* — мощность (л. с.)\n",
        "- *Model* — модель автомобиля\n",
        "- *Kilometer* — пробег (км)\n",
        "- *RegistrationMonth* — месяц регистрации автомобиля\n",
        "- *FuelType* — тип топлива\n",
        "- *Brand* — марка автомобиля\n",
        "- *NotRepaired* — была машина в ремонте или нет\n",
        "- *DateCreated* — дата создания анкеты\n",
        "- *NumberOfPictures* — количество фотографий автомобиля\n",
        "- *PostalCode* — почтовый индекс владельца анкеты (пользователя)\n",
        "- *LastSeen* — дата последней активности пользователя\n",
        "\n",
        "**Целевой признак**\n",
        "- *Price* — цена (евро)"
      ]
    },
    {
      "cell_type": "markdown",
      "metadata": {
        "id": "8-L72kAaTxcr"
      },
      "source": [
        "## Подготовка данных"
      ]
    },
    {
      "cell_type": "markdown",
      "metadata": {
        "id": "cN6E18llTxcs"
      },
      "source": [
        "Импорт необходимых для исследования инструментов"
      ]
    },
    {
      "cell_type": "code",
      "execution_count": null,
      "metadata": {
        "id": "tMdTbFUPTxct"
      },
      "outputs": [],
      "source": [
        "import pandas as pd\n",
        "import numpy as np\n",
        "import matplotlib.pyplot as plt\n",
        "import seaborn as sns\n",
        "from sklearn.model_selection import train_test_split\n",
        "from sklearn.preprocessing import OrdinalEncoder\n",
        "from sklearn.tree import DecisionTreeRegressor\n",
        "from catboost import CatBoostRegressor, cv, train\n",
        "import lightgbm\n",
        "from sklearn.metrics import mean_squared_error\n",
        "import time"
      ]
    },
    {
      "cell_type": "markdown",
      "metadata": {
        "id": "84cZoEMTTxcv"
      },
      "source": [
        "### Открытие файла и знакомство с данными"
      ]
    },
    {
      "cell_type": "code",
      "execution_count": null,
      "metadata": {
        "scrolled": true,
        "id": "3WjR7MHtTxcv",
        "outputId": "87818e08-69f0-4d8e-d891-e7e8d6da300d"
      },
      "outputs": [
        {
          "data": {
            "text/html": [
              "<div>\n",
              "<style scoped>\n",
              "    .dataframe tbody tr th:only-of-type {\n",
              "        vertical-align: middle;\n",
              "    }\n",
              "\n",
              "    .dataframe tbody tr th {\n",
              "        vertical-align: top;\n",
              "    }\n",
              "\n",
              "    .dataframe thead th {\n",
              "        text-align: right;\n",
              "    }\n",
              "</style>\n",
              "<table border=\"1\" class=\"dataframe\">\n",
              "  <thead>\n",
              "    <tr style=\"text-align: right;\">\n",
              "      <th></th>\n",
              "      <th>DateCrawled</th>\n",
              "      <th>Price</th>\n",
              "      <th>VehicleType</th>\n",
              "      <th>RegistrationYear</th>\n",
              "      <th>Gearbox</th>\n",
              "      <th>Power</th>\n",
              "      <th>Model</th>\n",
              "      <th>Kilometer</th>\n",
              "      <th>RegistrationMonth</th>\n",
              "      <th>FuelType</th>\n",
              "      <th>Brand</th>\n",
              "      <th>NotRepaired</th>\n",
              "      <th>DateCreated</th>\n",
              "      <th>NumberOfPictures</th>\n",
              "      <th>PostalCode</th>\n",
              "      <th>LastSeen</th>\n",
              "    </tr>\n",
              "  </thead>\n",
              "  <tbody>\n",
              "    <tr>\n",
              "      <th>0</th>\n",
              "      <td>2016-03-24 11:52:17</td>\n",
              "      <td>480</td>\n",
              "      <td>NaN</td>\n",
              "      <td>1993</td>\n",
              "      <td>manual</td>\n",
              "      <td>0</td>\n",
              "      <td>golf</td>\n",
              "      <td>150000</td>\n",
              "      <td>0</td>\n",
              "      <td>petrol</td>\n",
              "      <td>volkswagen</td>\n",
              "      <td>NaN</td>\n",
              "      <td>2016-03-24 00:00:00</td>\n",
              "      <td>0</td>\n",
              "      <td>70435</td>\n",
              "      <td>2016-04-07 03:16:57</td>\n",
              "    </tr>\n",
              "    <tr>\n",
              "      <th>1</th>\n",
              "      <td>2016-03-24 10:58:45</td>\n",
              "      <td>18300</td>\n",
              "      <td>coupe</td>\n",
              "      <td>2011</td>\n",
              "      <td>manual</td>\n",
              "      <td>190</td>\n",
              "      <td>NaN</td>\n",
              "      <td>125000</td>\n",
              "      <td>5</td>\n",
              "      <td>gasoline</td>\n",
              "      <td>audi</td>\n",
              "      <td>yes</td>\n",
              "      <td>2016-03-24 00:00:00</td>\n",
              "      <td>0</td>\n",
              "      <td>66954</td>\n",
              "      <td>2016-04-07 01:46:50</td>\n",
              "    </tr>\n",
              "    <tr>\n",
              "      <th>2</th>\n",
              "      <td>2016-03-14 12:52:21</td>\n",
              "      <td>9800</td>\n",
              "      <td>suv</td>\n",
              "      <td>2004</td>\n",
              "      <td>auto</td>\n",
              "      <td>163</td>\n",
              "      <td>grand</td>\n",
              "      <td>125000</td>\n",
              "      <td>8</td>\n",
              "      <td>gasoline</td>\n",
              "      <td>jeep</td>\n",
              "      <td>NaN</td>\n",
              "      <td>2016-03-14 00:00:00</td>\n",
              "      <td>0</td>\n",
              "      <td>90480</td>\n",
              "      <td>2016-04-05 12:47:46</td>\n",
              "    </tr>\n",
              "    <tr>\n",
              "      <th>3</th>\n",
              "      <td>2016-03-17 16:54:04</td>\n",
              "      <td>1500</td>\n",
              "      <td>small</td>\n",
              "      <td>2001</td>\n",
              "      <td>manual</td>\n",
              "      <td>75</td>\n",
              "      <td>golf</td>\n",
              "      <td>150000</td>\n",
              "      <td>6</td>\n",
              "      <td>petrol</td>\n",
              "      <td>volkswagen</td>\n",
              "      <td>no</td>\n",
              "      <td>2016-03-17 00:00:00</td>\n",
              "      <td>0</td>\n",
              "      <td>91074</td>\n",
              "      <td>2016-03-17 17:40:17</td>\n",
              "    </tr>\n",
              "    <tr>\n",
              "      <th>4</th>\n",
              "      <td>2016-03-31 17:25:20</td>\n",
              "      <td>3600</td>\n",
              "      <td>small</td>\n",
              "      <td>2008</td>\n",
              "      <td>manual</td>\n",
              "      <td>69</td>\n",
              "      <td>fabia</td>\n",
              "      <td>90000</td>\n",
              "      <td>7</td>\n",
              "      <td>gasoline</td>\n",
              "      <td>skoda</td>\n",
              "      <td>no</td>\n",
              "      <td>2016-03-31 00:00:00</td>\n",
              "      <td>0</td>\n",
              "      <td>60437</td>\n",
              "      <td>2016-04-06 10:17:21</td>\n",
              "    </tr>\n",
              "  </tbody>\n",
              "</table>\n",
              "</div>"
            ],
            "text/plain": [
              "           DateCrawled  Price VehicleType  RegistrationYear Gearbox  Power  \\\n",
              "0  2016-03-24 11:52:17    480         NaN              1993  manual      0   \n",
              "1  2016-03-24 10:58:45  18300       coupe              2011  manual    190   \n",
              "2  2016-03-14 12:52:21   9800         suv              2004    auto    163   \n",
              "3  2016-03-17 16:54:04   1500       small              2001  manual     75   \n",
              "4  2016-03-31 17:25:20   3600       small              2008  manual     69   \n",
              "\n",
              "   Model  Kilometer  RegistrationMonth  FuelType       Brand NotRepaired  \\\n",
              "0   golf     150000                  0    petrol  volkswagen         NaN   \n",
              "1    NaN     125000                  5  gasoline        audi         yes   \n",
              "2  grand     125000                  8  gasoline        jeep         NaN   \n",
              "3   golf     150000                  6    petrol  volkswagen          no   \n",
              "4  fabia      90000                  7  gasoline       skoda          no   \n",
              "\n",
              "           DateCreated  NumberOfPictures  PostalCode             LastSeen  \n",
              "0  2016-03-24 00:00:00                 0       70435  2016-04-07 03:16:57  \n",
              "1  2016-03-24 00:00:00                 0       66954  2016-04-07 01:46:50  \n",
              "2  2016-03-14 00:00:00                 0       90480  2016-04-05 12:47:46  \n",
              "3  2016-03-17 00:00:00                 0       91074  2016-03-17 17:40:17  \n",
              "4  2016-03-31 00:00:00                 0       60437  2016-04-06 10:17:21  "
            ]
          },
          "metadata": {},
          "output_type": "display_data"
        },
        {
          "name": "stdout",
          "output_type": "stream",
          "text": [
            "<class 'pandas.core.frame.DataFrame'>\n",
            "RangeIndex: 354369 entries, 0 to 354368\n",
            "Data columns (total 16 columns):\n",
            " #   Column             Non-Null Count   Dtype \n",
            "---  ------             --------------   ----- \n",
            " 0   DateCrawled        354369 non-null  object\n",
            " 1   Price              354369 non-null  int64 \n",
            " 2   VehicleType        316879 non-null  object\n",
            " 3   RegistrationYear   354369 non-null  int64 \n",
            " 4   Gearbox            334536 non-null  object\n",
            " 5   Power              354369 non-null  int64 \n",
            " 6   Model              334664 non-null  object\n",
            " 7   Kilometer          354369 non-null  int64 \n",
            " 8   RegistrationMonth  354369 non-null  int64 \n",
            " 9   FuelType           321474 non-null  object\n",
            " 10  Brand              354369 non-null  object\n",
            " 11  NotRepaired        283215 non-null  object\n",
            " 12  DateCreated        354369 non-null  object\n",
            " 13  NumberOfPictures   354369 non-null  int64 \n",
            " 14  PostalCode         354369 non-null  int64 \n",
            " 15  LastSeen           354369 non-null  object\n",
            "dtypes: int64(7), object(9)\n",
            "memory usage: 43.3+ MB\n"
          ]
        }
      ],
      "source": [
        "df = pd.read_csv('/datasets/autos.csv')\n",
        "display(df.head())\n",
        "df.info()"
      ]
    },
    {
      "cell_type": "markdown",
      "metadata": {
        "id": "vrzXAKViTxcw"
      },
      "source": [
        "Уникальные объекты в NumberOfPictures"
      ]
    },
    {
      "cell_type": "code",
      "execution_count": null,
      "metadata": {
        "id": "rwPmXt5bTxcx",
        "outputId": "3dac2268-edd0-4498-b9c4-eb226ba3c3c3"
      },
      "outputs": [
        {
          "data": {
            "text/plain": [
              "array([0])"
            ]
          },
          "execution_count": 3,
          "metadata": {},
          "output_type": "execute_result"
        }
      ],
      "source": [
        "df['NumberOfPictures'].unique()"
      ]
    },
    {
      "cell_type": "markdown",
      "metadata": {
        "id": "jFx0mpA8Txcx"
      },
      "source": [
        "Удаление признаков, которые в исследовании не помогут"
      ]
    },
    {
      "cell_type": "code",
      "execution_count": null,
      "metadata": {
        "id": "EdXnRa3kTxcx",
        "outputId": "1731aa93-6ff6-4c42-9022-86be991ff30b"
      },
      "outputs": [
        {
          "name": "stdout",
          "output_type": "stream",
          "text": [
            "<class 'pandas.core.frame.DataFrame'>\n",
            "RangeIndex: 354369 entries, 0 to 354368\n",
            "Data columns (total 10 columns):\n",
            " #   Column            Non-Null Count   Dtype \n",
            "---  ------            --------------   ----- \n",
            " 0   Price             354369 non-null  int64 \n",
            " 1   VehicleType       316879 non-null  object\n",
            " 2   RegistrationYear  354369 non-null  int64 \n",
            " 3   Gearbox           334536 non-null  object\n",
            " 4   Power             354369 non-null  int64 \n",
            " 5   Kilometer         354369 non-null  int64 \n",
            " 6   FuelType          321474 non-null  object\n",
            " 7   Brand             354369 non-null  object\n",
            " 8   NotRepaired       283215 non-null  object\n",
            " 9   PostalCode        354369 non-null  int64 \n",
            "dtypes: int64(5), object(5)\n",
            "memory usage: 27.0+ MB\n"
          ]
        }
      ],
      "source": [
        "df = (\n",
        "    df.drop(\n",
        "        columns=['DateCrawled', 'Model', \n",
        "                 'RegistrationMonth', 'DateCreated', \n",
        "                 'LastSeen', 'NumberOfPictures'], axis=1)\n",
        ")\n",
        "df.info()"
      ]
    },
    {
      "cell_type": "markdown",
      "metadata": {
        "id": "AMLGX-6kTxcy"
      },
      "source": [
        "Проверка уникальных объектов в целевом признаке"
      ]
    },
    {
      "cell_type": "code",
      "execution_count": null,
      "metadata": {
        "id": "e15cjNXdTxcy",
        "outputId": "6c6da951-3ecc-4d9d-ebf0-cde209e8496c"
      },
      "outputs": [
        {
          "data": {
            "text/plain": [
              "0"
            ]
          },
          "metadata": {},
          "output_type": "display_data"
        },
        {
          "data": {
            "text/plain": [
              "0        10772\n",
              "500       5670\n",
              "1500      5394\n",
              "1000      4649\n",
              "1200      4594\n",
              "         ...  \n",
              "13180        1\n",
              "10879        1\n",
              "2683         1\n",
              "634          1\n",
              "8188         1\n",
              "Name: Price, Length: 3731, dtype: int64"
            ]
          },
          "execution_count": 5,
          "metadata": {},
          "output_type": "execute_result"
        }
      ],
      "source": [
        "display(df['Price'].isna().sum())\n",
        "df['Price'].value_counts()"
      ]
    },
    {
      "cell_type": "markdown",
      "metadata": {
        "id": "RX4vRDxVTxcy"
      },
      "source": [
        "Удаление нулевых значений в целевом признаке"
      ]
    },
    {
      "cell_type": "code",
      "execution_count": null,
      "metadata": {
        "id": "AZnEwu_uTxcz"
      },
      "outputs": [],
      "source": [
        "df = df.loc[df['Price'] != 0]"
      ]
    },
    {
      "cell_type": "markdown",
      "metadata": {
        "id": "nkBDE5T8Txcz"
      },
      "source": [
        "Удаление автомобилей со стоимостью менее 50 евро"
      ]
    },
    {
      "cell_type": "code",
      "execution_count": null,
      "metadata": {
        "id": "c10QxJBeTxcz"
      },
      "outputs": [],
      "source": [
        "df = df.loc[df['Price'] >=50 ]"
      ]
    },
    {
      "cell_type": "markdown",
      "metadata": {
        "id": "vmsK0yLYTxc0"
      },
      "source": [
        "Проверка уникальных объектов в других признаках"
      ]
    },
    {
      "cell_type": "code",
      "execution_count": null,
      "metadata": {
        "id": "NcCI3BjRTxc0",
        "outputId": "7a4e732e-9a09-4272-b4b6-1e3341059689"
      },
      "outputs": [
        {
          "data": {
            "text/plain": [
              "sedan          89169\n",
              "small          77792\n",
              "wagon          63524\n",
              "bus            28272\n",
              "convertible    19820\n",
              "coupe          15568\n",
              "suv            11766\n",
              "other           3056\n",
              "Name: VehicleType, dtype: int64"
            ]
          },
          "metadata": {},
          "output_type": "display_data"
        },
        {
          "data": {
            "text/plain": [
              "manual    260592\n",
              "auto       64690\n",
              "Name: Gearbox, dtype: int64"
            ]
          },
          "metadata": {},
          "output_type": "display_data"
        },
        {
          "data": {
            "text/plain": [
              "petrol      210086\n",
              "gasoline     96973\n",
              "lpg           5155\n",
              "cng            550\n",
              "hybrid         226\n",
              "other          156\n",
              "electric        87\n",
              "Name: FuelType, dtype: int64"
            ]
          },
          "execution_count": 8,
          "metadata": {},
          "output_type": "execute_result"
        }
      ],
      "source": [
        "display(df['VehicleType'].value_counts())\n",
        "display(df['Gearbox'].value_counts())\n",
        "df['FuelType'].value_counts()"
      ]
    },
    {
      "cell_type": "code",
      "execution_count": null,
      "metadata": {
        "id": "4PCBL1kXTxc0",
        "outputId": "3d457331-7aca-4f7a-fa08-4e970f8dc517"
      },
      "outputs": [
        {
          "data": {
            "image/png": "[encoded data removed]",
            "text/plain": [
              "<Figure size 1080x576 with 1 Axes>"
            ]
          },
          "metadata": {
            "needs_background": "light"
          },
          "output_type": "display_data"
        }
      ],
      "source": [
        "plt.figure(figsize=(15, 8))\n",
        "\n",
        "sns.boxplot(data=df['Power'], orient='h')\n",
        "\n",
        "plt.xlim(-10, 500)\n",
        "\n",
        "plt.title('Диаграмма размаха')\n",
        "plt.xlabel('Мощность, л.с.')\n",
        "plt.grid(True)\n",
        "\n",
        "plt.show()"
      ]
    },
    {
      "cell_type": "markdown",
      "metadata": {
        "id": "k4-3kgbtTxc1"
      },
      "source": [
        "Удаление автомобилей с мощностью двигателя более 250 л.с."
      ]
    },
    {
      "cell_type": "code",
      "execution_count": null,
      "metadata": {
        "id": "JClxMKKgTxc1"
      },
      "outputs": [],
      "source": [
        "df = df.loc[df['Power'] < 250]"
      ]
    },
    {
      "cell_type": "code",
      "execution_count": null,
      "metadata": {
        "id": "MZrtFMzITxc1",
        "outputId": "c1443075-5029-4bbd-852a-377a50df2a79"
      },
      "outputs": [
        {
          "name": "stdout",
          "output_type": "stream",
          "text": [
            "<class 'pandas.core.frame.DataFrame'>\n",
            "Int64Index: 333981 entries, 0 to 354368\n",
            "Data columns (total 10 columns):\n",
            " #   Column            Non-Null Count   Dtype \n",
            "---  ------            --------------   ----- \n",
            " 0   Price             333981 non-null  int64 \n",
            " 1   VehicleType       301424 non-null  object\n",
            " 2   RegistrationYear  333981 non-null  int64 \n",
            " 3   Gearbox           317428 non-null  object\n",
            " 4   Power             333981 non-null  int64 \n",
            " 5   Kilometer         333981 non-null  int64 \n",
            " 6   FuelType          305723 non-null  object\n",
            " 7   Brand             333981 non-null  object\n",
            " 8   NotRepaired       270129 non-null  object\n",
            " 9   PostalCode        333981 non-null  int64 \n",
            "dtypes: int64(5), object(5)\n",
            "memory usage: 28.0+ MB\n"
          ]
        }
      ],
      "source": [
        "df.info()"
      ]
    },
    {
      "cell_type": "code",
      "execution_count": null,
      "metadata": {
        "id": "YOS5NdxMTxc2",
        "outputId": "a3780af6-8ca6-4f64-8b22-d9fe68afc03a"
      },
      "outputs": [
        {
          "data": {
            "image/png": "[encoded data removed]",
            "text/plain": [
              "<Figure size 1080x576 with 1 Axes>"
            ]
          },
          "metadata": {
            "needs_background": "light"
          },
          "output_type": "display_data"
        }
      ],
      "source": [
        "plt.figure(figsize=(15, 8))\n",
        "\n",
        "sns.boxplot(data=df['RegistrationYear'], orient='h')\n",
        "\n",
        "plt.xlim(1900, 2100)\n",
        "\n",
        "plt.title('Диаграмма размаха')\n",
        "plt.xlabel('Год регистрации')\n",
        "plt.grid(True)\n",
        "\n",
        "plt.show()"
      ]
    },
    {
      "cell_type": "markdown",
      "metadata": {
        "id": "smDyukwPTxc2"
      },
      "source": [
        "Удаление автомобилей с годом производства менее 1986 и более 2020"
      ]
    },
    {
      "cell_type": "code",
      "execution_count": null,
      "metadata": {
        "id": "Fp9wq8bWTxc2"
      },
      "outputs": [],
      "source": [
        "df = df.loc[df['RegistrationYear'] < 2020]\n",
        "df = df.loc[df['RegistrationYear'] > 1986]"
      ]
    },
    {
      "cell_type": "markdown",
      "metadata": {
        "id": "ppG2RbvxTxc2"
      },
      "source": [
        "Проверка наличия пропусков в количественных признаках"
      ]
    },
    {
      "cell_type": "code",
      "execution_count": null,
      "metadata": {
        "id": "r0toZA6VTxc3",
        "outputId": "06ffc75a-6155-4b49-cbfc-0d13bce1e7f9"
      },
      "outputs": [
        {
          "name": "stdout",
          "output_type": "stream",
          "text": [
            "<class 'pandas.core.frame.DataFrame'>\n",
            "Int64Index: 328038 entries, 0 to 354368\n",
            "Data columns (total 10 columns):\n",
            " #   Column            Non-Null Count   Dtype \n",
            "---  ------            --------------   ----- \n",
            " 0   Price             328038 non-null  int64 \n",
            " 1   VehicleType       296250 non-null  object\n",
            " 2   RegistrationYear  328038 non-null  int64 \n",
            " 3   Gearbox           312482 non-null  object\n",
            " 4   Power             328038 non-null  int64 \n",
            " 5   Kilometer         328038 non-null  int64 \n",
            " 6   FuelType          300850 non-null  object\n",
            " 7   Brand             328038 non-null  object\n",
            " 8   NotRepaired       266037 non-null  object\n",
            " 9   PostalCode        328038 non-null  int64 \n",
            "dtypes: int64(5), object(5)\n",
            "memory usage: 27.5+ MB\n"
          ]
        }
      ],
      "source": [
        "df.info()"
      ]
    },
    {
      "cell_type": "markdown",
      "metadata": {
        "id": "S2KlKm93Txc3"
      },
      "source": [
        "В количественных признаках пропусков не осталось.\n",
        "Заполнение пропущенных значений категориальных признаков заглушкой *unknown*"
      ]
    },
    {
      "cell_type": "code",
      "execution_count": null,
      "metadata": {
        "id": "0UsBzbwoTxc3"
      },
      "outputs": [],
      "source": [
        "df = df.fillna('unknown')"
      ]
    },
    {
      "cell_type": "markdown",
      "metadata": {
        "id": "HY6a3maETxc3"
      },
      "source": [
        "Обозначение категориальных признаков"
      ]
    },
    {
      "cell_type": "code",
      "execution_count": null,
      "metadata": {
        "id": "3JY09yZDTxc4"
      },
      "outputs": [],
      "source": [
        "cat_features = ['VehicleType', 'Gearbox', 'FuelType', 'Brand', 'NotRepaired']"
      ]
    },
    {
      "cell_type": "markdown",
      "metadata": {
        "id": "G1POpdkzTxc4"
      },
      "source": [
        "Преобразуем категориальные признаки в численные с помощью техники порядкового кодирования OE"
      ]
    },
    {
      "cell_type": "code",
      "execution_count": null,
      "metadata": {
        "scrolled": true,
        "id": "UxXJzl37Txc4",
        "outputId": "7093b3ac-ba13-4fca-d28b-97ddd3ebbadf"
      },
      "outputs": [
        {
          "name": "stdout",
          "output_type": "stream",
          "text": [
            "<class 'pandas.core.frame.DataFrame'>\n",
            "Int64Index: 328038 entries, 0 to 354368\n",
            "Data columns (total 10 columns):\n",
            " #   Column            Non-Null Count   Dtype\n",
            "---  ------            --------------   -----\n",
            " 0   Price             328038 non-null  int16\n",
            " 1   VehicleType       328038 non-null  int16\n",
            " 2   RegistrationYear  328038 non-null  int16\n",
            " 3   Gearbox           328038 non-null  int16\n",
            " 4   Power             328038 non-null  int16\n",
            " 5   Kilometer         328038 non-null  int16\n",
            " 6   FuelType          328038 non-null  int16\n",
            " 7   Brand             328038 non-null  int16\n",
            " 8   NotRepaired       328038 non-null  int16\n",
            " 9   PostalCode        328038 non-null  int16\n",
            "dtypes: int16(10)\n",
            "memory usage: 8.8 MB\n"
          ]
        }
      ],
      "source": [
        "encoder = OrdinalEncoder(dtype=np.int16)\n",
        "encoder.fit(df[cat_features])\n",
        "df[cat_features] = encoder.transform(df[cat_features])\n",
        "df = df.astype(np.int16)\n",
        "df.info()"
      ]
    },
    {
      "cell_type": "markdown",
      "metadata": {
        "id": "Yq9xr1h6Txc5"
      },
      "source": [
        "### Вывод"
      ]
    },
    {
      "cell_type": "markdown",
      "metadata": {
        "id": "GzJB89FZTxc5"
      },
      "source": [
        "- Удалены признаки, которые не помогут в исследовании:\n",
        "    - *DateCrawled* — дата скачивания анкеты из базы\n",
        "    - *Model* — модель автомобиля\n",
        "    - *RegistrationMonth* — месяц регистрации автомобиля\n",
        "    - *DateCreated* — дата создания анкеты\n",
        "    - *LastSeen* — дата последней активности пользователя\n",
        "    - *NumberOfPictures* - количество фотографий автомобиля (здесь сохранены только нули)\n",
        "- Удалены нулевые значения в целевом признаке\n",
        "- Пропусков в количественных признаках нет\n",
        "- Пропуски в категориальных признаках заменены заглушкой\n",
        "- Из датафрейма удалено около 7% объектов\n",
        "- Категориальные признаки преобразованы в численные\n",
        "- Данные подготовлены к проведению исследования"
      ]
    },
    {
      "cell_type": "markdown",
      "metadata": {
        "id": "wWx-gPHPTxc5"
      },
      "source": [
        "## Обучение моделей"
      ]
    },
    {
      "cell_type": "markdown",
      "metadata": {
        "id": "PQ0JLha2Txc6"
      },
      "source": [
        "### Подготовка выборок для обучения моделей"
      ]
    },
    {
      "cell_type": "markdown",
      "metadata": {
        "id": "PY6z0Bf6Txc6"
      },
      "source": [
        "Выделение целевых признаков"
      ]
    },
    {
      "cell_type": "code",
      "execution_count": null,
      "metadata": {
        "scrolled": true,
        "id": "yP2kruYzTxc6"
      },
      "outputs": [],
      "source": [
        "target = df[['Price']]\n",
        "features = df.drop(['Price'], axis=1)"
      ]
    },
    {
      "cell_type": "markdown",
      "metadata": {
        "id": "lgBPHaDFTxc6"
      },
      "source": [
        "Деление датафрейма, используя функцию train_test_split на три выборки: обучающую (60%), валидационную (20%) и тестовую (20%)"
      ]
    },
    {
      "cell_type": "code",
      "execution_count": null,
      "metadata": {
        "id": "mgs0r4Q2Txc6",
        "outputId": "11556896-ce7e-4fbf-d7fe-90e0d72982a4"
      },
      "outputs": [
        {
          "data": {
            "text/plain": [
              "((196822, 9), (196822, 1), (65608, 9), (65608, 1), (65608, 9), (65608, 1))"
            ]
          },
          "execution_count": 19,
          "metadata": {},
          "output_type": "execute_result"
        }
      ],
      "source": [
        "features_80, features_test, target_80, target_test = train_test_split(\n",
        "    features, target, test_size=.2, random_state=12345)\n",
        "features_train, features_valid, target_train, target_valid = train_test_split(\n",
        "    features_80, target_80, test_size=.25, random_state=12345)\n",
        "features_train.shape, target_train.shape, features_valid.shape, target_valid.shape, features_test.shape, target_test.shape"
      ]
    },
    {
      "cell_type": "markdown",
      "metadata": {
        "id": "G9LoQdhdTxc7"
      },
      "source": [
        "### Градиентный бустинг *CatBoost*"
      ]
    },
    {
      "cell_type": "markdown",
      "metadata": {
        "id": "MP6UHFeVTxc7"
      },
      "source": [
        "Подбор оптимального значения *RMSE* и глубины в цикле"
      ]
    },
    {
      "cell_type": "code",
      "execution_count": null,
      "metadata": {
        "id": "PhRtqMSsTxc7",
        "outputId": "929da430-5d64-4ad2-e13a-c0b38dcd5c50"
      },
      "outputs": [
        {
          "name": "stdout",
          "output_type": "stream",
          "text": [
            "0:\tlearn: 3575.8833700\ttotal: 97.2ms\tremaining: 2.82s\n",
            "5:\tlearn: 2761.3331699\ttotal: 256ms\tremaining: 1.02s\n",
            "10:\tlearn: 2547.7525730\ttotal: 395ms\tremaining: 681ms\n",
            "15:\tlearn: 2376.1258041\ttotal: 530ms\tremaining: 463ms\n",
            "20:\tlearn: 2302.4983494\ttotal: 666ms\tremaining: 285ms\n",
            "25:\tlearn: 2244.2599811\ttotal: 791ms\tremaining: 122ms\n",
            "29:\tlearn: 2222.3217134\ttotal: 892ms\tremaining: 0us\n",
            "0:\tlearn: 2663.5484362\ttotal: 77.8ms\tremaining: 2.25s\n",
            "5:\tlearn: 1966.6416166\ttotal: 449ms\tremaining: 1.79s\n",
            "10:\tlearn: 1877.9414272\ttotal: 785ms\tremaining: 1.36s\n",
            "15:\tlearn: 1810.7525340\ttotal: 1.13s\tremaining: 987ms\n",
            "20:\tlearn: 1777.9428752\ttotal: 1.45s\tremaining: 621ms\n",
            "25:\tlearn: 1746.7684638\ttotal: 1.77s\tremaining: 272ms\n",
            "29:\tlearn: 1722.5458402\ttotal: 2.02s\tremaining: 0us\n",
            "0:\tlearn: 2314.0646773\ttotal: 152ms\tremaining: 4.41s\n",
            "5:\tlearn: 1781.0114821\ttotal: 904ms\tremaining: 3.61s\n",
            "10:\tlearn: 1685.3031966\ttotal: 1.65s\tremaining: 2.85s\n",
            "15:\tlearn: 1610.6700607\ttotal: 2.31s\tremaining: 2.02s\n",
            "20:\tlearn: 1563.6385429\ttotal: 3.11s\tremaining: 1.33s\n",
            "25:\tlearn: 1530.5404542\ttotal: 3.83s\tremaining: 588ms\n",
            "29:\tlearn: 1513.1028589\ttotal: 4.4s\tremaining: 0us\n",
            "0:\tlearn: 2227.8318470\ttotal: 1.87s\tremaining: 54.1s\n",
            "5:\tlearn: 1630.4569932\ttotal: 9.97s\tremaining: 39.9s\n",
            "10:\tlearn: 1500.3500338\ttotal: 16.5s\tremaining: 28.4s\n",
            "15:\tlearn: 1380.3573065\ttotal: 24.5s\tremaining: 21.5s\n",
            "20:\tlearn: 1315.9232517\ttotal: 32.3s\tremaining: 13.8s\n",
            "25:\tlearn: 1262.7316174\ttotal: 39.9s\tremaining: 6.14s\n",
            "29:\tlearn: 1231.7038492\ttotal: 46s\tremaining: 0us\n"
          ]
        },
        {
          "data": {
            "text/plain": [
              "1636.3559006849168"
            ]
          },
          "metadata": {},
          "output_type": "display_data"
        },
        {
          "data": {
            "text/plain": [
              "11"
            ]
          },
          "metadata": {},
          "output_type": "display_data"
        },
        {
          "name": "stdout",
          "output_type": "stream",
          "text": [
            "CPU times: user 41.2 s, sys: 13.7 s, total: 54.9 s\n",
            "Wall time: 57.1 s\n"
          ]
        },
        {
          "data": {
            "image/png": "[encoded data removed]",
            "text/plain": [
              "<Figure size 432x288 with 1 Axes>"
            ]
          },
          "metadata": {
            "needs_background": "light"
          },
          "output_type": "display_data"
        }
      ],
      "source": [
        "%%time\n",
        "best_result = 5000\n",
        "depth = 0\n",
        "depths = []\n",
        "results = []\n",
        "\n",
        "for depth in range(1, 21, 5):\n",
        "    model_cb = CatBoostRegressor(iterations=30, learning_rate=1, max_depth=depth, random_state=12345, verbose=5)\n",
        "    model_cb.fit(features_train, target_train, cat_features=cat_features)\n",
        "    predictions_valid = model_cb.predict(features_valid)\n",
        "    result = mean_squared_error(target_valid, predictions_valid) ** .5\n",
        "    depths.append(depth)\n",
        "    results.append(result)\n",
        "\n",
        "    plt.plot(depths, results)\n",
        "    plt.title(\"Зависимость RMSE от глубины дерева\")\n",
        "    plt.xlabel(\"Глубина дерева\")\n",
        "    plt.ylabel(\"RMSE\")\n",
        "    plt.grid()\n",
        "    plt.show\n",
        "            \n",
        "    if result < best_result:\n",
        "        best_depth = depth\n",
        "        best_result = result\n",
        "\n",
        "display(best_result, best_depth)"
      ]
    },
    {
      "cell_type": "markdown",
      "metadata": {
        "id": "s526VMi4Txc8"
      },
      "source": [
        "### Модель дерева решений"
      ]
    },
    {
      "cell_type": "markdown",
      "metadata": {
        "id": "3423q0N7Txc8"
      },
      "source": [
        "Создадим цикл, в котором переберём четыре модели деревьев с разной глубиной, обучим каждую на обучающей выборке, проверим результат обучения на валидационной выборке и выберем из них дерево с минимальной *RMSE*."
      ]
    },
    {
      "cell_type": "code",
      "execution_count": null,
      "metadata": {
        "id": "LmQeqjBXTxc9",
        "outputId": "b3e18e78-a25a-4c90-f21b-9b6da4a6a0d4"
      },
      "outputs": [
        {
          "data": {
            "text/plain": [
              "1878.6296288229814"
            ]
          },
          "metadata": {},
          "output_type": "display_data"
        },
        {
          "data": {
            "text/plain": [
              "13"
            ]
          },
          "metadata": {},
          "output_type": "display_data"
        },
        {
          "name": "stdout",
          "output_type": "stream",
          "text": [
            "CPU times: user 3.29 s, sys: 16.6 ms, total: 3.3 s\n",
            "Wall time: 3.31 s\n"
          ]
        },
        {
          "data": {
            "image/png": "[encoded data removed]",
            "text/plain": [
              "<Figure size 432x288 with 1 Axes>"
            ]
          },
          "metadata": {
            "needs_background": "light"
          },
          "output_type": "display_data"
        }
      ],
      "source": [
        "%%time\n",
        "best_result = 5000\n",
        "depth = 0\n",
        "depths = []\n",
        "results = []\n",
        "\n",
        "for depth in range(1, 21, 3):\n",
        "    model_dtr = DecisionTreeRegressor(random_state=12345, max_depth=depth)\n",
        "    model_dtr.fit(features_train, target_train)\n",
        "    predictions_valid = model_dtr.predict(features_valid)\n",
        "    result = mean_squared_error(target_valid, predictions_valid) ** .5\n",
        "    depths.append(depth)\n",
        "    results.append(result)\n",
        "        \n",
        "    plt.plot(depths, results)\n",
        "    plt.title(\"Зависимость RMSE от глубины дерева\")\n",
        "    plt.xlabel(\"Глубина дерева\")\n",
        "    plt.ylabel(\"RMSE\")\n",
        "    plt.grid()\n",
        "    plt.show\n",
        "            \n",
        "    if result < best_result:\n",
        "        best_depth = depth\n",
        "        best_result = result\n",
        "\n",
        "display(best_result, best_depth)"
      ]
    },
    {
      "cell_type": "markdown",
      "metadata": {
        "id": "Jh7J8_ftTxc-"
      },
      "source": [
        "### Градиентный бустинг *LightGBM*"
      ]
    },
    {
      "cell_type": "markdown",
      "metadata": {
        "id": "VZJDCYwpTxc-"
      },
      "source": [
        "Установка параметров"
      ]
    },
    {
      "cell_type": "code",
      "execution_count": null,
      "metadata": {
        "id": "_DDTvnjjTxc-"
      },
      "outputs": [],
      "source": [
        "params = {\"iterations\": 20,\n",
        "          \"learning_rate\": 1,\n",
        "          \"max_depth\": None,\n",
        "          \"loss_function\": \"RMSE\",\n",
        "          \"random_state\": 12345,\n",
        "          \"bootstrap_type\": 'gbdt',\n",
        "          \"min_data_in_leaf\": 1\n",
        "          }\n",
        "\n",
        "lgbm_train_data = lightgbm.Dataset(features_train, label=target_train)\n",
        "\n",
        "arguments = {'learning_rate': 1,\n",
        "         'metric': 'rmse',\n",
        "         'seed': 12345,\n",
        "         'objective': 'regression',\n",
        "         'verbosity': -1,\n",
        "        }\n",
        "\n",
        "max_depth = [1, 6, 11]"
      ]
    },
    {
      "cell_type": "markdown",
      "metadata": {
        "id": "p374fmczTxc-"
      },
      "source": [
        "Поиск лучшей глубины"
      ]
    },
    {
      "cell_type": "code",
      "execution_count": null,
      "metadata": {
        "id": "MkRQlBOJTxc-",
        "outputId": "917a31ae-cf9c-407b-ea5d-5acb047457df"
      },
      "outputs": [
        {
          "name": "stdout",
          "output_type": "stream",
          "text": [
            "CPU times: user 3 µs, sys: 1e+03 ns, total: 4 µs\n",
            "Wall time: 6.68 µs\n"
          ]
        },
        {
          "name": "stderr",
          "output_type": "stream",
          "text": [
            "/opt/conda/lib/python3.9/site-packages/lightgbm/basic.py:2068: UserWarning: categorical_feature in Dataset is overridden.\n",
            "New categorical_feature is ['Brand', 'FuelType', 'Gearbox', 'NotRepaired', 'VehicleType']\n",
            "  _log_warning('categorical_feature in Dataset is overridden.\\n'\n",
            "/opt/conda/lib/python3.9/site-packages/sklearn/model_selection/_split.py:666: UserWarning: The least populated class in y has only 1 members, which is less than n_splits=3.\n",
            "  warnings.warn((\"The least populated class in y has only %d\"\n",
            "/opt/conda/lib/python3.9/site-packages/sklearn/model_selection/_split.py:666: UserWarning: The least populated class in y has only 1 members, which is less than n_splits=3.\n",
            "  warnings.warn((\"The least populated class in y has only %d\"\n",
            "/opt/conda/lib/python3.9/site-packages/sklearn/model_selection/_split.py:666: UserWarning: The least populated class in y has only 1 members, which is less than n_splits=3.\n",
            "  warnings.warn((\"The least populated class in y has only %d\"\n"
          ]
        }
      ],
      "source": [
        "%time\n",
        "best_score = 5000\n",
        "for depth in max_depth:\n",
        "    arguments['max_depth'] = depth\n",
        "    score = lightgbm.cv(arguments, lgbm_train_data, nfold=3, categorical_feature=cat_features)\n",
        "    score = pd.DataFrame(score).iloc[-1]['rmse-mean']\n",
        "    if score < best_score:\n",
        "        best_score = score\n",
        "        best_depth = depth"
      ]
    },
    {
      "cell_type": "markdown",
      "metadata": {
        "id": "i-haE6kmTxc_"
      },
      "source": [
        "Обучение модели с полученными параметрами"
      ]
    },
    {
      "cell_type": "code",
      "execution_count": null,
      "metadata": {
        "id": "xNymf9CETxc_",
        "outputId": "21bf017f-fcf6-4345-e337-d6c8ab5aa154"
      },
      "outputs": [
        {
          "name": "stdout",
          "output_type": "stream",
          "text": [
            "CPU times: user 1min 40s, sys: 581 ms, total: 1min 41s\n",
            "Wall time: 1min 42s\n"
          ]
        },
        {
          "data": {
            "text/plain": [
              "(1703.8985926107168, 6)"
            ]
          },
          "execution_count": 24,
          "metadata": {},
          "output_type": "execute_result"
        }
      ],
      "source": [
        "%%time\n",
        "params['max_depth'] = best_depth\n",
        "lgbm_model = lightgbm.train(arguments, lgbm_train_data, categorical_feature=cat_features, num_boost_round=400)\n",
        "best_score, best_depth"
      ]
    },
    {
      "cell_type": "markdown",
      "metadata": {
        "id": "tUQPrEMVTxc_"
      },
      "source": [
        "### Вывод"
      ]
    },
    {
      "cell_type": "markdown",
      "metadata": {
        "id": "WFtV8OXHTxc_"
      },
      "source": [
        "- Лучший результат *RMSE* показал *CatBoost* с глубиной 11 - 1636, за время 54.6s\n",
        "- Лучший результат *RMSE* показало дерево с глубиной 13 - 1879, за время 3s\n",
        "- Лучший результат *RMSE* показал *LightGBM* с глубиной 6 - 1704, за время 1min 49s\n",
        "\n",
        "<br>По величине *RMSE* все модели удовлетворяют требуемому условию (*RMSE < 2500*)  \n",
        "<br>По скорости обучения Дерево Решений значительно превосходит другие модели"
      ]
    },
    {
      "cell_type": "markdown",
      "metadata": {
        "id": "Xm6sI2hBTxdA"
      },
      "source": [
        "## Анализ моделей"
      ]
    },
    {
      "cell_type": "markdown",
      "metadata": {
        "id": "5PgUyQ0xTxdA"
      },
      "source": [
        "### Обучение модели *DecisionTreeRegressor* и получение предсказаний"
      ]
    },
    {
      "cell_type": "code",
      "execution_count": null,
      "metadata": {
        "id": "AdlokP3xTxdA",
        "outputId": "bce11252-2dfc-4fa9-9df8-cf97b8b2d95a"
      },
      "outputs": [
        {
          "name": "stdout",
          "output_type": "stream",
          "text": [
            "CPU times: user 3 µs, sys: 0 ns, total: 3 µs\n",
            "Wall time: 5.72 µs\n"
          ]
        },
        {
          "data": {
            "text/plain": [
              "1878.6296288229814"
            ]
          },
          "metadata": {},
          "output_type": "display_data"
        }
      ],
      "source": [
        "%time\n",
        "model_dtr = DecisionTreeRegressor(random_state=12345, max_depth=13)\n",
        "model_dtr.fit(features_train, target_train)\n",
        "predictions_valid_dtr = model_dtr.predict(features_valid)\n",
        "display(mean_squared_error(target_valid, predictions_valid_dtr) ** .5)"
      ]
    },
    {
      "cell_type": "markdown",
      "metadata": {
        "id": "BSmkeDdcTxdB"
      },
      "source": [
        "### Обучение модели *CatBoost* и получение предсказаний"
      ]
    },
    {
      "cell_type": "code",
      "execution_count": null,
      "metadata": {
        "id": "VFpsorzzTxdB",
        "outputId": "0a730511-ad02-4aae-9782-bb3516d39f45"
      },
      "outputs": [
        {
          "name": "stdout",
          "output_type": "stream",
          "text": [
            "CPU times: user 3 µs, sys: 0 ns, total: 3 µs\n",
            "Wall time: 5.96 µs\n",
            "0:\tlearn: 2314.0646773\ttotal: 144ms\tremaining: 4.17s\n",
            "5:\tlearn: 1781.0114821\ttotal: 811ms\tremaining: 3.24s\n",
            "10:\tlearn: 1685.3031966\ttotal: 1.43s\tremaining: 2.46s\n",
            "15:\tlearn: 1610.6700607\ttotal: 2.04s\tremaining: 1.78s\n",
            "20:\tlearn: 1563.6385429\ttotal: 2.66s\tremaining: 1.14s\n",
            "25:\tlearn: 1530.5404542\ttotal: 3.28s\tremaining: 505ms\n",
            "29:\tlearn: 1513.1028589\ttotal: 3.78s\tremaining: 0us\n"
          ]
        },
        {
          "data": {
            "text/plain": [
              "1636.3559006849168"
            ]
          },
          "metadata": {},
          "output_type": "display_data"
        }
      ],
      "source": [
        "%time\n",
        "model_cb = CatBoostRegressor(iterations=30, learning_rate=1, max_depth=11, random_state=12345, verbose=5)\n",
        "model_cb.fit(features_train, target_train, cat_features=cat_features)\n",
        "predictions_valid_cb = model_cb.predict(features_valid)\n",
        "display(mean_squared_error(target_valid, predictions_valid_cb) ** .5)"
      ]
    },
    {
      "cell_type": "markdown",
      "metadata": {
        "id": "3dfAdfwpTxdB"
      },
      "source": [
        "### Обучение модели *LightGBM* и получение предсказаний"
      ]
    },
    {
      "cell_type": "code",
      "execution_count": null,
      "metadata": {
        "id": "wo8ZdlyfTxdB",
        "outputId": "53606b8c-d1f0-4ff2-82d4-098ce787d483"
      },
      "outputs": [
        {
          "name": "stdout",
          "output_type": "stream",
          "text": [
            "CPU times: user 3 µs, sys: 0 ns, total: 3 µs\n",
            "Wall time: 6.2 µs\n"
          ]
        },
        {
          "data": {
            "text/plain": [
              "1697.4589365022177"
            ]
          },
          "metadata": {},
          "output_type": "display_data"
        }
      ],
      "source": [
        "%time\n",
        "params['max_depth'] = 6\n",
        "lgbm_test_data = lightgbm.Dataset(features_valid, label=target_valid)\n",
        "predictions_valid_lgbm = lgbm_model.predict(features_valid)\n",
        "display(mean_squared_error(target_valid, predictions_valid_lgbm) ** .5)"
      ]
    },
    {
      "cell_type": "markdown",
      "metadata": {
        "id": "TpD9JB9TTxdC"
      },
      "source": [
        "### Вывод"
      ]
    },
    {
      "cell_type": "markdown",
      "metadata": {
        "id": "e-hj5uU6TxdC"
      },
      "source": [
        "При проведении получения предсказаний модели проявили себя следующим образом:\n",
        "- *DecisionTreeRegressor* - *RMSE* 1879, *time* 9.3 µs\n",
        "- *CatBoost* - *RMSE* 1636, *time* 8.82 µs\n",
        "- *LightGBM* - *RMSE* 1697, *time* 5.48 µs\n",
        "\n",
        "<br>По величине *RMSE* все модели удовлетворяют требуемому условию (*RMSE < 2500*)  \n",
        "<br>По скорости получения предсказаний модели выдают примерно одинаковые результаты"
      ]
    },
    {
      "cell_type": "markdown",
      "metadata": {
        "id": "uSdyXeukTxdC"
      },
      "source": [
        "## Проверка лучшей модели на тестовой выборке"
      ]
    },
    {
      "cell_type": "markdown",
      "metadata": {
        "id": "JA7tsfLcTxdC"
      },
      "source": [
        "Лучшей моделью выбрана модель *DecisionTreeRegressor*. Получение предсказаний на тестовой выборке"
      ]
    },
    {
      "cell_type": "code",
      "execution_count": null,
      "metadata": {
        "id": "zGSHHUNNTxdC",
        "outputId": "95e31117-3171-4d14-c1e8-f291b865a562"
      },
      "outputs": [
        {
          "data": {
            "text/plain": [
              "1849.7759999279917"
            ]
          },
          "metadata": {},
          "output_type": "display_data"
        }
      ],
      "source": [
        "model_dtr = DecisionTreeRegressor(random_state=12345, max_depth=13)\n",
        "model_dtr.fit(features_80, target_80)\n",
        "predictions_test_dtr = model_dtr.predict(features_test)\n",
        "display(mean_squared_error(target_test, predictions_test_dtr) ** .5)"
      ]
    },
    {
      "cell_type": "markdown",
      "metadata": {
        "id": "oJaVi6ypTxdC"
      },
      "source": [
        "**Вывод**\n",
        "<br>Качество предсказаний, полученное на тестовой выборке удовлетворяет обозначенному условию"
      ]
    },
    {
      "cell_type": "markdown",
      "metadata": {
        "id": "YrGdRkVgTxdD"
      },
      "source": [
        "## Общий вывод"
      ]
    },
    {
      "cell_type": "markdown",
      "metadata": {
        "id": "ZX6hYhWDTxdD"
      },
      "source": [
        "По результатам исследования можем сделать следующие выводы:\n",
        "- в ходе предобработки и анализа полученных данных удалены ненужные признаки, категориальные признаки преобразованы в количественные, обработаны пропуски в признаках, удалены аномальные значения признаков\n",
        "- подготовлены выборки для обучения моделей при помощи *train_test_split*\n",
        "- обучены три модели с подбором оптимальных параметров для решения поставленной задачи:\n",
        "    - *DecisionTreeRegressor* - подобрана оптимальныя глубина 13 за 3s\n",
        "    - *CatBoost* - подобрана оптимальная глубина 11 за 54.6s\n",
        "    - *LightGBM* - подобрана оптимальная глубина 6 за 1min 49s\n",
        "- при проведении получения предсказаний модели проявили себя следующим образом:\n",
        "    - *DecisionTreeRegressor* - *RMSE* 1879, *time* 9.3 µs\n",
        "    - *CatBoost* - *RMSE* 1636, *time* 8.82 µs\n",
        "    - *LightGBM* - *RMSE* 1697, *time* 5.48 µs\n",
        "- **общее заключение: для решения поставленной задачи наиболее подходящей моделью является *DecisionTreeRegressor***:\n",
        "    - схожие результаты с остальными моделями по двум из трёх требуемых условий (скорость предсказания и значение *RMSE < 2500*)\n",
        "    - значительно более низкий показатель по третьей метрике заказчика (время обучения)"
      ]
    }
  ],
  "metadata": {
    "ExecuteTimeLog": [
      {
        "duration": 4,
        "start_time": "2022-08-25T17:10:16.294Z"
      },
      {
        "duration": 1495,
        "start_time": "2022-08-25T17:36:20.049Z"
      },
      {
        "duration": 979,
        "start_time": "2022-08-25T17:41:54.529Z"
      },
      {
        "duration": 731,
        "start_time": "2022-08-25T17:41:59.710Z"
      },
      {
        "duration": 814,
        "start_time": "2022-08-25T17:42:25.049Z"
      },
      {
        "duration": 1506,
        "start_time": "2022-08-26T15:22:30.739Z"
      },
      {
        "duration": 1123,
        "start_time": "2022-08-26T15:22:34.838Z"
      },
      {
        "duration": 6,
        "start_time": "2022-08-26T15:23:14.751Z"
      },
      {
        "duration": 9,
        "start_time": "2022-08-26T15:23:35.860Z"
      },
      {
        "duration": 6,
        "start_time": "2022-08-26T15:27:47.284Z"
      },
      {
        "duration": 145,
        "start_time": "2022-08-26T15:30:09.650Z"
      },
      {
        "duration": 12,
        "start_time": "2022-08-26T15:30:58.900Z"
      },
      {
        "duration": 86,
        "start_time": "2022-08-26T15:36:00.453Z"
      },
      {
        "duration": 12,
        "start_time": "2022-08-26T15:37:03.161Z"
      },
      {
        "duration": 12,
        "start_time": "2022-08-26T15:37:28.529Z"
      },
      {
        "duration": 1346,
        "start_time": "2022-08-26T15:38:23.682Z"
      },
      {
        "duration": 838,
        "start_time": "2022-08-26T15:38:26.969Z"
      },
      {
        "duration": 6,
        "start_time": "2022-08-26T15:38:31.381Z"
      },
      {
        "duration": 99,
        "start_time": "2022-08-26T15:38:33.429Z"
      },
      {
        "duration": 19,
        "start_time": "2022-08-26T15:42:32.254Z"
      },
      {
        "duration": 29,
        "start_time": "2022-08-26T15:43:23.575Z"
      },
      {
        "duration": 45,
        "start_time": "2022-08-26T15:44:57.968Z"
      },
      {
        "duration": 30,
        "start_time": "2022-08-26T15:45:46.131Z"
      },
      {
        "duration": 1486,
        "start_time": "2022-08-29T15:25:07.938Z"
      },
      {
        "duration": 2831,
        "start_time": "2022-08-29T15:25:09.426Z"
      },
      {
        "duration": 5,
        "start_time": "2022-08-29T15:25:12.259Z"
      },
      {
        "duration": 113,
        "start_time": "2022-08-29T15:25:12.266Z"
      },
      {
        "duration": 81,
        "start_time": "2022-08-29T15:25:12.381Z"
      },
      {
        "duration": 81,
        "start_time": "2022-08-29T15:32:10.037Z"
      },
      {
        "duration": 5,
        "start_time": "2022-08-29T15:37:09.615Z"
      },
      {
        "duration": 69,
        "start_time": "2022-08-29T15:37:17.355Z"
      },
      {
        "duration": 47,
        "start_time": "2022-08-29T15:37:57.816Z"
      },
      {
        "duration": 61,
        "start_time": "2022-08-29T15:38:00.986Z"
      },
      {
        "duration": 133,
        "start_time": "2022-08-29T15:38:16.426Z"
      },
      {
        "duration": 1366,
        "start_time": "2022-08-29T15:38:49.855Z"
      },
      {
        "duration": 845,
        "start_time": "2022-08-29T15:38:51.223Z"
      },
      {
        "duration": 7,
        "start_time": "2022-08-29T15:38:52.069Z"
      },
      {
        "duration": 112,
        "start_time": "2022-08-29T15:38:52.078Z"
      },
      {
        "duration": 101,
        "start_time": "2022-08-29T15:38:52.192Z"
      },
      {
        "duration": 2,
        "start_time": "2022-08-29T15:38:52.295Z"
      },
      {
        "duration": 7,
        "start_time": "2022-08-29T15:38:52.299Z"
      },
      {
        "duration": 95,
        "start_time": "2022-08-29T15:47:38.960Z"
      },
      {
        "duration": 34,
        "start_time": "2022-08-29T15:47:53.582Z"
      },
      {
        "duration": 39,
        "start_time": "2022-08-29T15:48:09.758Z"
      },
      {
        "duration": 84,
        "start_time": "2022-08-29T15:49:07.427Z"
      },
      {
        "duration": 167,
        "start_time": "2022-08-29T15:49:17.861Z"
      },
      {
        "duration": 23,
        "start_time": "2022-08-29T15:50:37.205Z"
      },
      {
        "duration": 65,
        "start_time": "2022-08-29T15:50:41.204Z"
      },
      {
        "duration": 1405,
        "start_time": "2022-08-29T15:53:34.309Z"
      },
      {
        "duration": 1039,
        "start_time": "2022-08-29T15:53:35.716Z"
      },
      {
        "duration": 9,
        "start_time": "2022-08-29T15:53:36.757Z"
      },
      {
        "duration": 120,
        "start_time": "2022-08-29T15:53:36.768Z"
      },
      {
        "duration": 13,
        "start_time": "2022-08-29T15:53:36.891Z"
      },
      {
        "duration": 52,
        "start_time": "2022-08-29T15:53:36.906Z"
      },
      {
        "duration": 103,
        "start_time": "2022-08-29T15:53:36.960Z"
      },
      {
        "duration": 112,
        "start_time": "2022-08-29T15:53:37.065Z"
      },
      {
        "duration": 92,
        "start_time": "2022-08-29T15:58:53.795Z"
      },
      {
        "duration": 59,
        "start_time": "2022-08-29T15:59:08.850Z"
      },
      {
        "duration": 1339,
        "start_time": "2022-08-29T16:01:19.858Z"
      },
      {
        "duration": 867,
        "start_time": "2022-08-29T16:01:21.199Z"
      },
      {
        "duration": 6,
        "start_time": "2022-08-29T16:01:22.068Z"
      },
      {
        "duration": 109,
        "start_time": "2022-08-29T16:01:22.076Z"
      },
      {
        "duration": 8,
        "start_time": "2022-08-29T16:01:22.187Z"
      },
      {
        "duration": 44,
        "start_time": "2022-08-29T16:01:22.197Z"
      },
      {
        "duration": 91,
        "start_time": "2022-08-29T16:01:22.243Z"
      },
      {
        "duration": 61,
        "start_time": "2022-08-29T16:01:22.336Z"
      },
      {
        "duration": 92,
        "start_time": "2022-08-29T16:01:22.399Z"
      },
      {
        "duration": 219,
        "start_time": "2022-08-29T16:22:33.675Z"
      },
      {
        "duration": 152,
        "start_time": "2022-08-29T16:28:34.453Z"
      },
      {
        "duration": 1708,
        "start_time": "2022-08-30T15:22:47.856Z"
      },
      {
        "duration": 1298,
        "start_time": "2022-08-30T15:22:49.566Z"
      },
      {
        "duration": 6,
        "start_time": "2022-08-30T15:22:50.867Z"
      },
      {
        "duration": 122,
        "start_time": "2022-08-30T15:22:50.875Z"
      },
      {
        "duration": 12,
        "start_time": "2022-08-30T15:22:50.999Z"
      },
      {
        "duration": 33,
        "start_time": "2022-08-30T15:22:51.013Z"
      },
      {
        "duration": 114,
        "start_time": "2022-08-30T15:22:51.048Z"
      },
      {
        "duration": 78,
        "start_time": "2022-08-30T15:22:51.164Z"
      },
      {
        "duration": 109,
        "start_time": "2022-08-30T15:22:51.243Z"
      },
      {
        "duration": 260,
        "start_time": "2022-08-30T15:22:51.354Z"
      },
      {
        "duration": 169,
        "start_time": "2022-08-30T15:22:51.616Z"
      },
      {
        "duration": 54,
        "start_time": "2022-08-30T15:28:59.063Z"
      },
      {
        "duration": 123395,
        "start_time": "2022-08-30T15:35:57.676Z"
      },
      {
        "duration": 31207,
        "start_time": "2022-08-30T15:38:51.952Z"
      },
      {
        "duration": 30832,
        "start_time": "2022-08-30T15:40:26.789Z"
      },
      {
        "duration": 29080,
        "start_time": "2022-08-30T15:47:08.699Z"
      },
      {
        "duration": 101,
        "start_time": "2022-08-30T15:54:50.310Z"
      },
      {
        "duration": 1544,
        "start_time": "2022-08-30T15:54:58.558Z"
      },
      {
        "duration": 1327,
        "start_time": "2022-08-30T15:55:00.104Z"
      },
      {
        "duration": 7,
        "start_time": "2022-08-30T15:55:01.433Z"
      },
      {
        "duration": 118,
        "start_time": "2022-08-30T15:55:01.442Z"
      },
      {
        "duration": 11,
        "start_time": "2022-08-30T15:55:01.562Z"
      },
      {
        "duration": 57,
        "start_time": "2022-08-30T15:55:01.576Z"
      },
      {
        "duration": 105,
        "start_time": "2022-08-30T15:55:01.634Z"
      },
      {
        "duration": 76,
        "start_time": "2022-08-30T15:55:01.742Z"
      },
      {
        "duration": 87,
        "start_time": "2022-08-30T15:55:01.820Z"
      },
      {
        "duration": 260,
        "start_time": "2022-08-30T15:55:01.910Z"
      },
      {
        "duration": 167,
        "start_time": "2022-08-30T15:55:02.172Z"
      },
      {
        "duration": 64,
        "start_time": "2022-08-30T15:55:02.341Z"
      },
      {
        "duration": 1558,
        "start_time": "2022-08-30T15:56:45.038Z"
      },
      {
        "duration": 1328,
        "start_time": "2022-08-30T15:56:46.598Z"
      },
      {
        "duration": 7,
        "start_time": "2022-08-30T15:56:47.928Z"
      },
      {
        "duration": 126,
        "start_time": "2022-08-30T15:56:47.937Z"
      },
      {
        "duration": 11,
        "start_time": "2022-08-30T15:56:48.066Z"
      },
      {
        "duration": 50,
        "start_time": "2022-08-30T15:56:48.079Z"
      },
      {
        "duration": 104,
        "start_time": "2022-08-30T15:56:48.130Z"
      },
      {
        "duration": 91,
        "start_time": "2022-08-30T15:56:48.236Z"
      },
      {
        "duration": 133,
        "start_time": "2022-08-30T15:56:48.330Z"
      },
      {
        "duration": 259,
        "start_time": "2022-08-30T15:56:48.464Z"
      },
      {
        "duration": 164,
        "start_time": "2022-08-30T15:56:48.725Z"
      },
      {
        "duration": 68,
        "start_time": "2022-08-30T15:56:48.891Z"
      },
      {
        "duration": 1621,
        "start_time": "2022-08-30T16:32:54.876Z"
      },
      {
        "duration": 1385,
        "start_time": "2022-08-30T16:32:56.499Z"
      },
      {
        "duration": 8,
        "start_time": "2022-08-30T16:32:57.886Z"
      },
      {
        "duration": 127,
        "start_time": "2022-08-30T16:32:57.904Z"
      },
      {
        "duration": 9,
        "start_time": "2022-08-30T16:32:58.033Z"
      },
      {
        "duration": 38,
        "start_time": "2022-08-30T16:32:58.043Z"
      },
      {
        "duration": 121,
        "start_time": "2022-08-30T16:32:58.082Z"
      },
      {
        "duration": 66,
        "start_time": "2022-08-30T16:32:58.205Z"
      },
      {
        "duration": 130,
        "start_time": "2022-08-30T16:32:58.273Z"
      },
      {
        "duration": 255,
        "start_time": "2022-08-30T16:32:58.406Z"
      },
      {
        "duration": 173,
        "start_time": "2022-08-30T16:32:58.664Z"
      },
      {
        "duration": 67,
        "start_time": "2022-08-30T16:32:58.839Z"
      },
      {
        "duration": 1437,
        "start_time": "2022-08-30T17:30:29.239Z"
      },
      {
        "duration": 1221,
        "start_time": "2022-08-30T17:30:30.679Z"
      },
      {
        "duration": 6,
        "start_time": "2022-08-30T17:30:31.901Z"
      },
      {
        "duration": 108,
        "start_time": "2022-08-30T17:30:31.909Z"
      },
      {
        "duration": 8,
        "start_time": "2022-08-30T17:30:32.019Z"
      },
      {
        "duration": 71,
        "start_time": "2022-08-30T17:30:32.029Z"
      },
      {
        "duration": 79,
        "start_time": "2022-08-30T17:30:32.102Z"
      },
      {
        "duration": 79,
        "start_time": "2022-08-30T17:30:32.183Z"
      },
      {
        "duration": 77,
        "start_time": "2022-08-30T17:30:32.264Z"
      },
      {
        "duration": 245,
        "start_time": "2022-08-30T17:30:41.192Z"
      },
      {
        "duration": 4,
        "start_time": "2022-08-30T17:35:50.606Z"
      },
      {
        "duration": 906,
        "start_time": "2022-08-30T17:35:50.612Z"
      },
      {
        "duration": 5,
        "start_time": "2022-08-30T17:35:51.521Z"
      },
      {
        "duration": 106,
        "start_time": "2022-08-30T17:35:51.528Z"
      },
      {
        "duration": 9,
        "start_time": "2022-08-30T17:35:51.637Z"
      },
      {
        "duration": 22,
        "start_time": "2022-08-30T17:35:51.648Z"
      },
      {
        "duration": 108,
        "start_time": "2022-08-30T17:35:51.673Z"
      },
      {
        "duration": 83,
        "start_time": "2022-08-30T17:35:51.783Z"
      },
      {
        "duration": 79,
        "start_time": "2022-08-30T17:35:51.867Z"
      },
      {
        "duration": 230,
        "start_time": "2022-08-30T17:35:51.948Z"
      },
      {
        "duration": 290,
        "start_time": "2022-08-30T17:35:52.181Z"
      },
      {
        "duration": 84,
        "start_time": "2022-08-30T17:35:59.430Z"
      },
      {
        "duration": 1534,
        "start_time": "2022-08-30T17:37:20.883Z"
      },
      {
        "duration": 1282,
        "start_time": "2022-08-30T17:37:22.419Z"
      },
      {
        "duration": 6,
        "start_time": "2022-08-30T17:37:23.702Z"
      },
      {
        "duration": 127,
        "start_time": "2022-08-30T17:37:23.710Z"
      },
      {
        "duration": 10,
        "start_time": "2022-08-30T17:37:23.839Z"
      },
      {
        "duration": 46,
        "start_time": "2022-08-30T17:37:23.850Z"
      },
      {
        "duration": 85,
        "start_time": "2022-08-30T17:37:23.898Z"
      },
      {
        "duration": 66,
        "start_time": "2022-08-30T17:37:24.003Z"
      },
      {
        "duration": 96,
        "start_time": "2022-08-30T17:37:24.071Z"
      },
      {
        "duration": 245,
        "start_time": "2022-08-30T17:37:24.169Z"
      },
      {
        "duration": 300,
        "start_time": "2022-08-30T17:37:24.416Z"
      },
      {
        "duration": 100,
        "start_time": "2022-08-30T17:37:24.717Z"
      },
      {
        "duration": 28743,
        "start_time": "2022-08-30T17:37:28.968Z"
      },
      {
        "duration": 3,
        "start_time": "2022-08-30T17:38:18.451Z"
      },
      {
        "duration": 1234,
        "start_time": "2022-08-30T17:38:22.513Z"
      },
      {
        "duration": 3,
        "start_time": "2022-08-30T17:43:00.049Z"
      },
      {
        "duration": 954,
        "start_time": "2022-08-30T17:43:16.467Z"
      },
      {
        "duration": 1428,
        "start_time": "2022-08-30T17:45:06.829Z"
      },
      {
        "duration": 1317,
        "start_time": "2022-08-30T17:45:08.259Z"
      },
      {
        "duration": 5,
        "start_time": "2022-08-30T17:45:09.578Z"
      },
      {
        "duration": 119,
        "start_time": "2022-08-30T17:45:09.585Z"
      },
      {
        "duration": 9,
        "start_time": "2022-08-30T17:45:09.706Z"
      },
      {
        "duration": 39,
        "start_time": "2022-08-30T17:45:09.716Z"
      },
      {
        "duration": 101,
        "start_time": "2022-08-30T17:45:09.757Z"
      },
      {
        "duration": 74,
        "start_time": "2022-08-30T17:45:09.860Z"
      },
      {
        "duration": 102,
        "start_time": "2022-08-30T17:45:09.935Z"
      },
      {
        "duration": 270,
        "start_time": "2022-08-30T17:45:10.039Z"
      },
      {
        "duration": 316,
        "start_time": "2022-08-30T17:45:10.311Z"
      },
      {
        "duration": 98,
        "start_time": "2022-08-30T17:45:10.629Z"
      },
      {
        "duration": 28645,
        "start_time": "2022-08-30T17:45:10.729Z"
      },
      {
        "duration": 3,
        "start_time": "2022-08-30T17:45:39.376Z"
      },
      {
        "duration": 8,
        "start_time": "2022-08-30T17:46:30.447Z"
      },
      {
        "duration": 1455,
        "start_time": "2022-08-30T17:46:38.151Z"
      },
      {
        "duration": 1318,
        "start_time": "2022-08-30T17:46:39.608Z"
      },
      {
        "duration": 5,
        "start_time": "2022-08-30T17:46:40.928Z"
      },
      {
        "duration": 139,
        "start_time": "2022-08-30T17:46:40.935Z"
      },
      {
        "duration": 10,
        "start_time": "2022-08-30T17:46:41.076Z"
      },
      {
        "duration": 60,
        "start_time": "2022-08-30T17:46:41.088Z"
      },
      {
        "duration": 89,
        "start_time": "2022-08-30T17:46:41.150Z"
      },
      {
        "duration": 87,
        "start_time": "2022-08-30T17:46:41.241Z"
      },
      {
        "duration": 132,
        "start_time": "2022-08-30T17:46:41.330Z"
      },
      {
        "duration": 250,
        "start_time": "2022-08-30T17:46:41.465Z"
      },
      {
        "duration": 288,
        "start_time": "2022-08-30T17:46:41.717Z"
      },
      {
        "duration": 98,
        "start_time": "2022-08-30T17:46:42.007Z"
      },
      {
        "duration": 28290,
        "start_time": "2022-08-30T17:46:42.107Z"
      },
      {
        "duration": 4,
        "start_time": "2022-08-30T17:47:10.399Z"
      },
      {
        "duration": 58,
        "start_time": "2022-08-30T17:56:40.829Z"
      },
      {
        "duration": 1523,
        "start_time": "2022-08-30T17:56:51.198Z"
      },
      {
        "duration": 1350,
        "start_time": "2022-08-30T17:56:52.723Z"
      },
      {
        "duration": 6,
        "start_time": "2022-08-30T17:56:54.075Z"
      },
      {
        "duration": 129,
        "start_time": "2022-08-30T17:56:54.083Z"
      },
      {
        "duration": 10,
        "start_time": "2022-08-30T17:56:54.220Z"
      },
      {
        "duration": 33,
        "start_time": "2022-08-30T17:56:54.231Z"
      },
      {
        "duration": 103,
        "start_time": "2022-08-30T17:56:54.266Z"
      },
      {
        "duration": 79,
        "start_time": "2022-08-30T17:56:54.371Z"
      },
      {
        "duration": 135,
        "start_time": "2022-08-30T17:56:54.452Z"
      },
      {
        "duration": 256,
        "start_time": "2022-08-30T17:56:54.590Z"
      },
      {
        "duration": 305,
        "start_time": "2022-08-30T17:56:54.848Z"
      },
      {
        "duration": 105,
        "start_time": "2022-08-30T17:56:55.155Z"
      },
      {
        "duration": 28876,
        "start_time": "2022-08-30T17:56:55.261Z"
      },
      {
        "duration": 3,
        "start_time": "2022-08-30T17:57:24.139Z"
      },
      {
        "duration": 128,
        "start_time": "2022-08-30T17:57:24.143Z"
      },
      {
        "duration": 2259,
        "start_time": "2022-08-30T18:00:05.996Z"
      },
      {
        "duration": 9,
        "start_time": "2022-08-30T18:04:19.259Z"
      },
      {
        "duration": 1504,
        "start_time": "2022-08-30T18:06:11.750Z"
      },
      {
        "duration": 1430,
        "start_time": "2022-08-30T18:06:13.256Z"
      },
      {
        "duration": 7,
        "start_time": "2022-08-30T18:06:14.689Z"
      },
      {
        "duration": 124,
        "start_time": "2022-08-30T18:06:14.697Z"
      },
      {
        "duration": 15,
        "start_time": "2022-08-30T18:06:14.825Z"
      },
      {
        "duration": 34,
        "start_time": "2022-08-30T18:06:14.842Z"
      },
      {
        "duration": 110,
        "start_time": "2022-08-30T18:06:14.878Z"
      },
      {
        "duration": 73,
        "start_time": "2022-08-30T18:06:15.007Z"
      },
      {
        "duration": 101,
        "start_time": "2022-08-30T18:06:15.082Z"
      },
      {
        "duration": 1419,
        "start_time": "2022-08-30T18:06:26.918Z"
      },
      {
        "duration": 29,
        "start_time": "2022-08-30T18:08:03.370Z"
      },
      {
        "duration": 23,
        "start_time": "2022-08-30T18:08:15.017Z"
      },
      {
        "duration": 12,
        "start_time": "2022-08-30T18:08:28.031Z"
      },
      {
        "duration": 243,
        "start_time": "2022-08-30T18:08:30.889Z"
      },
      {
        "duration": 300,
        "start_time": "2022-08-30T18:08:35.342Z"
      },
      {
        "duration": 99,
        "start_time": "2022-08-30T18:08:39.243Z"
      },
      {
        "duration": 28352,
        "start_time": "2022-08-30T18:08:42.475Z"
      },
      {
        "duration": 32,
        "start_time": "2022-08-30T18:09:21.350Z"
      },
      {
        "duration": 3,
        "start_time": "2022-08-30T18:10:44.921Z"
      },
      {
        "duration": 1612,
        "start_time": "2022-08-31T15:13:08.841Z"
      },
      {
        "duration": 1346,
        "start_time": "2022-08-31T15:13:10.455Z"
      },
      {
        "duration": 7,
        "start_time": "2022-08-31T15:13:11.803Z"
      },
      {
        "duration": 128,
        "start_time": "2022-08-31T15:13:11.812Z"
      },
      {
        "duration": 10,
        "start_time": "2022-08-31T15:13:11.942Z"
      },
      {
        "duration": 33,
        "start_time": "2022-08-31T15:13:11.953Z"
      },
      {
        "duration": 122,
        "start_time": "2022-08-31T15:13:11.988Z"
      },
      {
        "duration": 73,
        "start_time": "2022-08-31T15:13:12.112Z"
      },
      {
        "duration": 131,
        "start_time": "2022-08-31T15:13:12.187Z"
      },
      {
        "duration": 3,
        "start_time": "2022-08-31T15:13:12.320Z"
      },
      {
        "duration": 246,
        "start_time": "2022-08-31T15:13:12.325Z"
      },
      {
        "duration": 305,
        "start_time": "2022-08-31T15:13:12.573Z"
      },
      {
        "duration": 105,
        "start_time": "2022-08-31T15:13:12.881Z"
      },
      {
        "duration": 28441,
        "start_time": "2022-08-31T15:13:12.990Z"
      },
      {
        "duration": 1462,
        "start_time": "2022-08-31T15:24:16.300Z"
      },
      {
        "duration": 4,
        "start_time": "2022-08-31T15:27:32.767Z"
      },
      {
        "duration": 1250,
        "start_time": "2022-08-31T15:27:32.773Z"
      },
      {
        "duration": 6,
        "start_time": "2022-08-31T15:27:34.024Z"
      },
      {
        "duration": 129,
        "start_time": "2022-08-31T15:27:34.032Z"
      },
      {
        "duration": 11,
        "start_time": "2022-08-31T15:27:34.163Z"
      },
      {
        "duration": 54,
        "start_time": "2022-08-31T15:27:34.176Z"
      },
      {
        "duration": 111,
        "start_time": "2022-08-31T15:27:34.233Z"
      },
      {
        "duration": 83,
        "start_time": "2022-08-31T15:27:34.346Z"
      },
      {
        "duration": 113,
        "start_time": "2022-08-31T15:27:34.432Z"
      },
      {
        "duration": 4,
        "start_time": "2022-08-31T15:27:34.547Z"
      },
      {
        "duration": 242,
        "start_time": "2022-08-31T15:27:34.552Z"
      },
      {
        "duration": 297,
        "start_time": "2022-08-31T15:27:34.796Z"
      },
      {
        "duration": 94,
        "start_time": "2022-08-31T15:27:35.095Z"
      },
      {
        "duration": 26000,
        "start_time": "2022-08-31T15:27:35.191Z"
      },
      {
        "duration": 114,
        "start_time": "2022-08-31T15:29:01.108Z"
      },
      {
        "duration": 10,
        "start_time": "2022-08-31T15:30:33.637Z"
      },
      {
        "duration": 1419,
        "start_time": "2022-08-31T15:31:35.719Z"
      },
      {
        "duration": 1062,
        "start_time": "2022-08-31T15:31:37.140Z"
      },
      {
        "duration": 10,
        "start_time": "2022-08-31T15:31:38.204Z"
      },
      {
        "duration": 131,
        "start_time": "2022-08-31T15:31:38.216Z"
      },
      {
        "duration": 10,
        "start_time": "2022-08-31T15:31:38.349Z"
      },
      {
        "duration": 57,
        "start_time": "2022-08-31T15:31:38.361Z"
      },
      {
        "duration": 107,
        "start_time": "2022-08-31T15:31:38.420Z"
      },
      {
        "duration": 81,
        "start_time": "2022-08-31T15:31:38.529Z"
      },
      {
        "duration": 102,
        "start_time": "2022-08-31T15:31:38.611Z"
      },
      {
        "duration": 2,
        "start_time": "2022-08-31T15:31:38.716Z"
      },
      {
        "duration": 250,
        "start_time": "2022-08-31T15:31:38.720Z"
      },
      {
        "duration": 284,
        "start_time": "2022-08-31T15:31:38.972Z"
      },
      {
        "duration": 111,
        "start_time": "2022-08-31T15:31:39.258Z"
      },
      {
        "duration": 28447,
        "start_time": "2022-08-31T15:31:39.371Z"
      },
      {
        "duration": 3,
        "start_time": "2022-08-31T15:32:07.820Z"
      },
      {
        "duration": 1407,
        "start_time": "2022-08-31T15:34:08.391Z"
      },
      {
        "duration": 1026,
        "start_time": "2022-08-31T15:34:09.800Z"
      },
      {
        "duration": 7,
        "start_time": "2022-08-31T15:34:10.828Z"
      },
      {
        "duration": 146,
        "start_time": "2022-08-31T15:34:10.837Z"
      },
      {
        "duration": 12,
        "start_time": "2022-08-31T15:34:10.985Z"
      },
      {
        "duration": 39,
        "start_time": "2022-08-31T15:34:11.009Z"
      },
      {
        "duration": 102,
        "start_time": "2022-08-31T15:34:11.050Z"
      },
      {
        "duration": 80,
        "start_time": "2022-08-31T15:34:11.154Z"
      },
      {
        "duration": 111,
        "start_time": "2022-08-31T15:34:11.236Z"
      },
      {
        "duration": 2,
        "start_time": "2022-08-31T15:34:11.350Z"
      },
      {
        "duration": 255,
        "start_time": "2022-08-31T15:34:11.354Z"
      },
      {
        "duration": 298,
        "start_time": "2022-08-31T15:34:11.611Z"
      },
      {
        "duration": 91,
        "start_time": "2022-08-31T15:34:11.910Z"
      },
      {
        "duration": 28026,
        "start_time": "2022-08-31T15:34:12.008Z"
      },
      {
        "duration": 3,
        "start_time": "2022-08-31T15:34:40.037Z"
      },
      {
        "duration": 112,
        "start_time": "2022-08-31T15:35:16.818Z"
      },
      {
        "duration": 9,
        "start_time": "2022-08-31T15:41:43.496Z"
      },
      {
        "duration": 13,
        "start_time": "2022-08-31T15:42:34.339Z"
      },
      {
        "duration": 15,
        "start_time": "2022-08-31T15:43:47.345Z"
      },
      {
        "duration": 14,
        "start_time": "2022-08-31T15:45:44.470Z"
      },
      {
        "duration": 11,
        "start_time": "2022-08-31T15:46:14.170Z"
      },
      {
        "duration": 3,
        "start_time": "2022-08-31T15:52:18.201Z"
      },
      {
        "duration": 9,
        "start_time": "2022-08-31T15:53:57.613Z"
      },
      {
        "duration": 3,
        "start_time": "2022-08-31T15:54:19.811Z"
      },
      {
        "duration": 3,
        "start_time": "2022-08-31T16:00:11.661Z"
      },
      {
        "duration": 88,
        "start_time": "2022-08-31T16:05:42.722Z"
      },
      {
        "duration": 115,
        "start_time": "2022-08-31T16:07:39.638Z"
      },
      {
        "duration": 1477,
        "start_time": "2022-08-31T16:14:49.375Z"
      },
      {
        "duration": 1092,
        "start_time": "2022-08-31T16:14:50.854Z"
      },
      {
        "duration": 6,
        "start_time": "2022-08-31T16:14:51.947Z"
      },
      {
        "duration": 138,
        "start_time": "2022-08-31T16:14:51.955Z"
      },
      {
        "duration": 26,
        "start_time": "2022-08-31T16:14:52.095Z"
      },
      {
        "duration": 36,
        "start_time": "2022-08-31T16:14:52.123Z"
      },
      {
        "duration": 108,
        "start_time": "2022-08-31T16:14:52.160Z"
      },
      {
        "duration": 90,
        "start_time": "2022-08-31T16:14:52.269Z"
      },
      {
        "duration": 123,
        "start_time": "2022-08-31T16:14:52.361Z"
      },
      {
        "duration": 3,
        "start_time": "2022-08-31T16:14:52.486Z"
      },
      {
        "duration": 255,
        "start_time": "2022-08-31T16:14:52.491Z"
      },
      {
        "duration": 292,
        "start_time": "2022-08-31T16:14:52.747Z"
      },
      {
        "duration": 96,
        "start_time": "2022-08-31T16:14:53.040Z"
      },
      {
        "duration": 27438,
        "start_time": "2022-08-31T16:14:53.138Z"
      },
      {
        "duration": 3,
        "start_time": "2022-08-31T16:15:20.578Z"
      },
      {
        "duration": 13,
        "start_time": "2022-08-31T16:15:20.582Z"
      },
      {
        "duration": 28,
        "start_time": "2022-08-31T16:15:20.597Z"
      },
      {
        "duration": 4076,
        "start_time": "2022-08-31T16:18:01.536Z"
      },
      {
        "duration": 925,
        "start_time": "2022-08-31T16:23:30.650Z"
      },
      {
        "duration": 1444,
        "start_time": "2022-08-31T16:28:04.054Z"
      },
      {
        "duration": 1394,
        "start_time": "2022-08-31T16:28:05.500Z"
      },
      {
        "duration": 14,
        "start_time": "2022-08-31T16:28:06.896Z"
      },
      {
        "duration": 131,
        "start_time": "2022-08-31T16:28:06.917Z"
      },
      {
        "duration": 10,
        "start_time": "2022-08-31T16:28:07.050Z"
      },
      {
        "duration": 59,
        "start_time": "2022-08-31T16:28:07.062Z"
      },
      {
        "duration": 106,
        "start_time": "2022-08-31T16:28:07.124Z"
      },
      {
        "duration": 121,
        "start_time": "2022-08-31T16:28:07.233Z"
      },
      {
        "duration": 142,
        "start_time": "2022-08-31T16:28:07.356Z"
      },
      {
        "duration": 8,
        "start_time": "2022-08-31T16:28:07.502Z"
      },
      {
        "duration": 270,
        "start_time": "2022-08-31T16:28:07.511Z"
      },
      {
        "duration": 318,
        "start_time": "2022-08-31T16:28:07.782Z"
      },
      {
        "duration": 104,
        "start_time": "2022-08-31T16:28:08.101Z"
      },
      {
        "duration": 27127,
        "start_time": "2022-08-31T16:28:08.207Z"
      },
      {
        "duration": 2,
        "start_time": "2022-08-31T16:28:35.336Z"
      },
      {
        "duration": 15,
        "start_time": "2022-08-31T16:28:35.340Z"
      },
      {
        "duration": 54,
        "start_time": "2022-08-31T16:30:00.000Z"
      },
      {
        "duration": 7,
        "start_time": "2022-08-31T16:30:32.176Z"
      },
      {
        "duration": 1558,
        "start_time": "2022-08-31T16:30:39.309Z"
      },
      {
        "duration": 1275,
        "start_time": "2022-08-31T16:30:40.868Z"
      },
      {
        "duration": 5,
        "start_time": "2022-08-31T16:30:42.145Z"
      },
      {
        "duration": 134,
        "start_time": "2022-08-31T16:30:42.152Z"
      },
      {
        "duration": 21,
        "start_time": "2022-08-31T16:30:42.288Z"
      },
      {
        "duration": 34,
        "start_time": "2022-08-31T16:30:42.310Z"
      },
      {
        "duration": 104,
        "start_time": "2022-08-31T16:30:42.346Z"
      },
      {
        "duration": 81,
        "start_time": "2022-08-31T16:30:42.452Z"
      },
      {
        "duration": 114,
        "start_time": "2022-08-31T16:30:42.535Z"
      },
      {
        "duration": 3,
        "start_time": "2022-08-31T16:30:42.651Z"
      },
      {
        "duration": 255,
        "start_time": "2022-08-31T16:30:42.655Z"
      },
      {
        "duration": 302,
        "start_time": "2022-08-31T16:30:42.912Z"
      },
      {
        "duration": 105,
        "start_time": "2022-08-31T16:30:43.216Z"
      },
      {
        "duration": 45,
        "start_time": "2022-08-31T16:38:39.916Z"
      },
      {
        "duration": 1307,
        "start_time": "2022-08-31T16:38:50.357Z"
      },
      {
        "duration": 1249,
        "start_time": "2022-08-31T16:38:51.666Z"
      },
      {
        "duration": 5,
        "start_time": "2022-08-31T16:38:52.917Z"
      },
      {
        "duration": 129,
        "start_time": "2022-08-31T16:38:52.924Z"
      },
      {
        "duration": 12,
        "start_time": "2022-08-31T16:38:53.056Z"
      },
      {
        "duration": 53,
        "start_time": "2022-08-31T16:38:53.070Z"
      },
      {
        "duration": 116,
        "start_time": "2022-08-31T16:38:53.124Z"
      },
      {
        "duration": 80,
        "start_time": "2022-08-31T16:38:53.241Z"
      },
      {
        "duration": 107,
        "start_time": "2022-08-31T16:38:53.323Z"
      },
      {
        "duration": 3,
        "start_time": "2022-08-31T16:38:53.431Z"
      },
      {
        "duration": 233,
        "start_time": "2022-08-31T16:38:53.435Z"
      },
      {
        "duration": 290,
        "start_time": "2022-08-31T16:38:53.670Z"
      },
      {
        "duration": 93,
        "start_time": "2022-08-31T16:38:53.962Z"
      },
      {
        "duration": 10,
        "start_time": "2022-08-31T16:38:57.231Z"
      },
      {
        "duration": 116,
        "start_time": "2022-08-31T16:39:05.773Z"
      },
      {
        "duration": 9,
        "start_time": "2022-08-31T16:56:46.149Z"
      },
      {
        "duration": 1405,
        "start_time": "2022-08-31T16:57:05.055Z"
      },
      {
        "duration": 1028,
        "start_time": "2022-08-31T16:57:06.462Z"
      },
      {
        "duration": 19,
        "start_time": "2022-08-31T16:57:07.492Z"
      },
      {
        "duration": 129,
        "start_time": "2022-08-31T16:57:07.514Z"
      },
      {
        "duration": 10,
        "start_time": "2022-08-31T16:57:07.645Z"
      },
      {
        "duration": 54,
        "start_time": "2022-08-31T16:57:07.657Z"
      },
      {
        "duration": 100,
        "start_time": "2022-08-31T16:57:07.714Z"
      },
      {
        "duration": 71,
        "start_time": "2022-08-31T16:57:07.816Z"
      },
      {
        "duration": 108,
        "start_time": "2022-08-31T16:57:07.889Z"
      },
      {
        "duration": 3,
        "start_time": "2022-08-31T16:57:08.008Z"
      },
      {
        "duration": 677,
        "start_time": "2022-08-31T16:57:15.586Z"
      },
      {
        "duration": 635,
        "start_time": "2022-08-31T16:57:50.597Z"
      },
      {
        "duration": 654,
        "start_time": "2022-08-31T16:58:24.586Z"
      },
      {
        "duration": 67,
        "start_time": "2022-08-31T16:59:15.435Z"
      },
      {
        "duration": 31,
        "start_time": "2022-08-31T16:59:34.924Z"
      },
      {
        "duration": 3,
        "start_time": "2022-08-31T16:59:43.385Z"
      },
      {
        "duration": 3,
        "start_time": "2022-08-31T17:00:34.594Z"
      },
      {
        "duration": 3140,
        "start_time": "2022-08-31T17:00:51.272Z"
      },
      {
        "duration": 12,
        "start_time": "2022-08-31T17:05:00.386Z"
      },
      {
        "duration": 11,
        "start_time": "2022-08-31T17:06:51.190Z"
      },
      {
        "duration": 80,
        "start_time": "2022-08-31T17:06:58.395Z"
      },
      {
        "duration": 705,
        "start_time": "2022-08-31T17:07:09.310Z"
      },
      {
        "duration": 143,
        "start_time": "2022-08-31T17:07:18.391Z"
      },
      {
        "duration": 7,
        "start_time": "2022-08-31T17:07:21.356Z"
      },
      {
        "duration": 3,
        "start_time": "2022-08-31T17:07:24.219Z"
      },
      {
        "duration": 863,
        "start_time": "2022-08-31T17:07:26.524Z"
      },
      {
        "duration": 725,
        "start_time": "2022-08-31T17:07:57.996Z"
      },
      {
        "duration": 766,
        "start_time": "2022-08-31T17:08:06.915Z"
      },
      {
        "duration": 524,
        "start_time": "2022-08-31T17:08:12.915Z"
      },
      {
        "duration": 11,
        "start_time": "2022-08-31T17:08:16.349Z"
      },
      {
        "duration": 699,
        "start_time": "2022-08-31T17:08:36.251Z"
      },
      {
        "duration": 158,
        "start_time": "2022-08-31T17:08:41.984Z"
      },
      {
        "duration": 10,
        "start_time": "2022-08-31T17:08:45.643Z"
      },
      {
        "duration": 38,
        "start_time": "2022-08-31T17:09:22.374Z"
      },
      {
        "duration": 46,
        "start_time": "2022-08-31T17:09:40.662Z"
      },
      {
        "duration": 31,
        "start_time": "2022-08-31T17:10:43.227Z"
      },
      {
        "duration": 4,
        "start_time": "2022-08-31T17:10:53.215Z"
      },
      {
        "duration": 40,
        "start_time": "2022-08-31T17:11:12.382Z"
      },
      {
        "duration": 40,
        "start_time": "2022-08-31T17:11:53.986Z"
      },
      {
        "duration": 906,
        "start_time": "2022-08-31T17:12:39.597Z"
      },
      {
        "duration": 766,
        "start_time": "2022-08-31T17:13:48.722Z"
      },
      {
        "duration": 1378,
        "start_time": "2022-08-31T17:14:12.638Z"
      },
      {
        "duration": 908,
        "start_time": "2022-08-31T17:14:14.018Z"
      },
      {
        "duration": 6,
        "start_time": "2022-08-31T17:14:14.927Z"
      },
      {
        "duration": 124,
        "start_time": "2022-08-31T17:14:14.934Z"
      },
      {
        "duration": 11,
        "start_time": "2022-08-31T17:14:15.060Z"
      },
      {
        "duration": 48,
        "start_time": "2022-08-31T17:14:15.072Z"
      },
      {
        "duration": 94,
        "start_time": "2022-08-31T17:14:15.122Z"
      },
      {
        "duration": 70,
        "start_time": "2022-08-31T17:14:15.217Z"
      },
      {
        "duration": 107,
        "start_time": "2022-08-31T17:14:15.289Z"
      },
      {
        "duration": 3,
        "start_time": "2022-08-31T17:14:15.398Z"
      },
      {
        "duration": 750,
        "start_time": "2022-08-31T17:14:15.402Z"
      },
      {
        "duration": 145,
        "start_time": "2022-08-31T17:14:16.153Z"
      },
      {
        "duration": 8,
        "start_time": "2022-08-31T17:14:16.310Z"
      },
      {
        "duration": 3,
        "start_time": "2022-08-31T17:14:22.093Z"
      },
      {
        "duration": 1865,
        "start_time": "2022-08-31T17:14:25.008Z"
      },
      {
        "duration": 52,
        "start_time": "2022-08-31T17:15:03.564Z"
      },
      {
        "duration": 675,
        "start_time": "2022-08-31T17:19:01.882Z"
      },
      {
        "duration": 633,
        "start_time": "2022-08-31T17:19:51.117Z"
      },
      {
        "duration": 63,
        "start_time": "2022-08-31T17:20:00.670Z"
      },
      {
        "duration": 2,
        "start_time": "2022-08-31T17:20:11.992Z"
      },
      {
        "duration": 18,
        "start_time": "2022-08-31T17:20:20.823Z"
      },
      {
        "duration": 3,
        "start_time": "2022-08-31T17:20:24.918Z"
      },
      {
        "duration": 20,
        "start_time": "2022-08-31T17:20:27.358Z"
      },
      {
        "duration": 1333,
        "start_time": "2022-08-31T17:21:37.288Z"
      },
      {
        "duration": 0,
        "start_time": "2022-08-31T17:21:38.623Z"
      },
      {
        "duration": 0,
        "start_time": "2022-08-31T17:21:38.624Z"
      },
      {
        "duration": 0,
        "start_time": "2022-08-31T17:21:38.625Z"
      },
      {
        "duration": 0,
        "start_time": "2022-08-31T17:21:38.626Z"
      },
      {
        "duration": 0,
        "start_time": "2022-08-31T17:21:38.627Z"
      },
      {
        "duration": 0,
        "start_time": "2022-08-31T17:21:38.629Z"
      },
      {
        "duration": 0,
        "start_time": "2022-08-31T17:21:38.629Z"
      },
      {
        "duration": 0,
        "start_time": "2022-08-31T17:21:38.630Z"
      },
      {
        "duration": 0,
        "start_time": "2022-08-31T17:21:38.631Z"
      },
      {
        "duration": 1,
        "start_time": "2022-08-31T17:21:38.632Z"
      },
      {
        "duration": 0,
        "start_time": "2022-08-31T17:21:38.634Z"
      },
      {
        "duration": 0,
        "start_time": "2022-08-31T17:21:38.635Z"
      },
      {
        "duration": 0,
        "start_time": "2022-08-31T17:21:38.636Z"
      },
      {
        "duration": 0,
        "start_time": "2022-08-31T17:21:38.638Z"
      },
      {
        "duration": 0,
        "start_time": "2022-08-31T17:21:38.639Z"
      },
      {
        "duration": 0,
        "start_time": "2022-08-31T17:21:38.640Z"
      },
      {
        "duration": 0,
        "start_time": "2022-08-31T17:21:38.641Z"
      },
      {
        "duration": 1428,
        "start_time": "2022-08-31T17:22:10.466Z"
      },
      {
        "duration": 1320,
        "start_time": "2022-08-31T17:22:11.896Z"
      },
      {
        "duration": 5,
        "start_time": "2022-08-31T17:22:13.218Z"
      },
      {
        "duration": 133,
        "start_time": "2022-08-31T17:22:13.225Z"
      },
      {
        "duration": 10,
        "start_time": "2022-08-31T17:22:13.360Z"
      },
      {
        "duration": 52,
        "start_time": "2022-08-31T17:22:13.372Z"
      },
      {
        "duration": 99,
        "start_time": "2022-08-31T17:22:13.426Z"
      },
      {
        "duration": 86,
        "start_time": "2022-08-31T17:22:13.527Z"
      },
      {
        "duration": 101,
        "start_time": "2022-08-31T17:22:13.615Z"
      },
      {
        "duration": 2,
        "start_time": "2022-08-31T17:22:13.719Z"
      },
      {
        "duration": 667,
        "start_time": "2022-08-31T17:22:13.723Z"
      },
      {
        "duration": 66,
        "start_time": "2022-08-31T17:22:14.391Z"
      },
      {
        "duration": 19,
        "start_time": "2022-08-31T17:22:14.459Z"
      },
      {
        "duration": 10,
        "start_time": "2022-08-31T17:22:14.480Z"
      },
      {
        "duration": 1443,
        "start_time": "2022-08-31T17:22:38.865Z"
      },
      {
        "duration": 1244,
        "start_time": "2022-08-31T17:22:40.311Z"
      },
      {
        "duration": 6,
        "start_time": "2022-08-31T17:22:41.557Z"
      },
      {
        "duration": 130,
        "start_time": "2022-08-31T17:22:41.565Z"
      },
      {
        "duration": 13,
        "start_time": "2022-08-31T17:22:41.701Z"
      },
      {
        "duration": 40,
        "start_time": "2022-08-31T17:22:41.716Z"
      },
      {
        "duration": 124,
        "start_time": "2022-08-31T17:22:41.759Z"
      },
      {
        "duration": 82,
        "start_time": "2022-08-31T17:22:41.885Z"
      },
      {
        "duration": 103,
        "start_time": "2022-08-31T17:22:41.969Z"
      },
      {
        "duration": 3,
        "start_time": "2022-08-31T17:22:42.074Z"
      },
      {
        "duration": 659,
        "start_time": "2022-08-31T17:22:42.078Z"
      },
      {
        "duration": 58,
        "start_time": "2022-08-31T17:22:42.739Z"
      },
      {
        "duration": 19,
        "start_time": "2022-08-31T17:22:42.810Z"
      },
      {
        "duration": 7,
        "start_time": "2022-08-31T17:22:42.830Z"
      },
      {
        "duration": 10,
        "start_time": "2022-08-31T17:22:42.838Z"
      },
      {
        "duration": 114,
        "start_time": "2022-08-31T17:22:42.849Z"
      },
      {
        "duration": 0,
        "start_time": "2022-08-31T17:22:42.965Z"
      },
      {
        "duration": 0,
        "start_time": "2022-08-31T17:22:42.966Z"
      },
      {
        "duration": 24727,
        "start_time": "2022-08-31T17:23:14.938Z"
      },
      {
        "duration": 655,
        "start_time": "2022-08-31T17:28:52.114Z"
      },
      {
        "duration": 673,
        "start_time": "2022-08-31T17:29:23.819Z"
      },
      {
        "duration": 51,
        "start_time": "2022-08-31T17:33:20.330Z"
      },
      {
        "duration": 27,
        "start_time": "2022-08-31T17:33:26.177Z"
      },
      {
        "duration": 403,
        "start_time": "2022-08-31T17:36:10.413Z"
      },
      {
        "duration": 424,
        "start_time": "2022-08-31T17:36:32.831Z"
      },
      {
        "duration": 430,
        "start_time": "2022-08-31T17:42:34.444Z"
      },
      {
        "duration": 396,
        "start_time": "2022-08-31T17:42:50.346Z"
      },
      {
        "duration": 418,
        "start_time": "2022-08-31T17:42:57.970Z"
      },
      {
        "duration": 116,
        "start_time": "2022-08-31T17:44:01.352Z"
      },
      {
        "duration": 405,
        "start_time": "2022-08-31T17:44:18.543Z"
      },
      {
        "duration": 421,
        "start_time": "2022-08-31T17:44:34.439Z"
      },
      {
        "duration": 471,
        "start_time": "2022-08-31T17:45:02.799Z"
      },
      {
        "duration": 443,
        "start_time": "2022-08-31T17:45:58.148Z"
      },
      {
        "duration": 438,
        "start_time": "2022-08-31T17:47:19.883Z"
      },
      {
        "duration": 450,
        "start_time": "2022-08-31T17:47:37.365Z"
      },
      {
        "duration": 401,
        "start_time": "2022-08-31T17:48:20.761Z"
      },
      {
        "duration": 2,
        "start_time": "2022-08-31T17:48:46.397Z"
      },
      {
        "duration": 114,
        "start_time": "2022-08-31T17:48:49.396Z"
      },
      {
        "duration": 25,
        "start_time": "2022-08-31T17:48:55.074Z"
      },
      {
        "duration": 2,
        "start_time": "2022-08-31T17:48:58.019Z"
      },
      {
        "duration": 6809,
        "start_time": "2022-08-31T17:49:02.301Z"
      },
      {
        "duration": 60,
        "start_time": "2022-08-31T17:49:46.753Z"
      },
      {
        "duration": 430,
        "start_time": "2022-08-31T17:50:36.569Z"
      },
      {
        "duration": 3,
        "start_time": "2022-08-31T17:50:49.458Z"
      },
      {
        "duration": 104,
        "start_time": "2022-08-31T17:50:51.599Z"
      },
      {
        "duration": 21,
        "start_time": "2022-08-31T17:50:54.671Z"
      },
      {
        "duration": 22,
        "start_time": "2022-08-31T17:51:00.799Z"
      },
      {
        "duration": 479,
        "start_time": "2022-08-31T17:51:38.369Z"
      },
      {
        "duration": 10,
        "start_time": "2022-08-31T17:53:06.862Z"
      },
      {
        "duration": 9,
        "start_time": "2022-08-31T17:53:23.164Z"
      },
      {
        "duration": 12,
        "start_time": "2022-08-31T17:53:35.041Z"
      },
      {
        "duration": 10,
        "start_time": "2022-08-31T17:53:46.293Z"
      },
      {
        "duration": 1413,
        "start_time": "2022-08-31T17:55:36.475Z"
      },
      {
        "duration": 940,
        "start_time": "2022-08-31T17:55:37.890Z"
      },
      {
        "duration": 6,
        "start_time": "2022-08-31T17:55:38.831Z"
      },
      {
        "duration": 128,
        "start_time": "2022-08-31T17:55:38.839Z"
      },
      {
        "duration": 12,
        "start_time": "2022-08-31T17:55:41.861Z"
      },
      {
        "duration": 33,
        "start_time": "2022-08-31T17:56:08.006Z"
      },
      {
        "duration": 87,
        "start_time": "2022-08-31T17:56:10.833Z"
      },
      {
        "duration": 70,
        "start_time": "2022-08-31T17:56:15.280Z"
      },
      {
        "duration": 96,
        "start_time": "2022-08-31T17:56:53.204Z"
      },
      {
        "duration": 6,
        "start_time": "2022-08-31T17:57:10.525Z"
      },
      {
        "duration": 474,
        "start_time": "2022-08-31T17:57:22.256Z"
      },
      {
        "duration": 452,
        "start_time": "2022-08-31T17:58:11.276Z"
      },
      {
        "duration": 3,
        "start_time": "2022-08-31T17:58:24.873Z"
      },
      {
        "duration": 98,
        "start_time": "2022-08-31T17:58:27.246Z"
      },
      {
        "duration": 29,
        "start_time": "2022-08-31T17:58:30.004Z"
      },
      {
        "duration": 3,
        "start_time": "2022-08-31T17:58:34.792Z"
      },
      {
        "duration": 1737,
        "start_time": "2022-08-31T17:58:37.345Z"
      },
      {
        "duration": 22383,
        "start_time": "2022-08-31T17:58:44.469Z"
      },
      {
        "duration": 408,
        "start_time": "2022-08-31T18:02:24.846Z"
      },
      {
        "duration": 3,
        "start_time": "2022-08-31T18:02:33.890Z"
      },
      {
        "duration": 56,
        "start_time": "2022-08-31T18:02:36.386Z"
      },
      {
        "duration": 11,
        "start_time": "2022-08-31T18:02:39.594Z"
      },
      {
        "duration": 3,
        "start_time": "2022-08-31T18:02:42.331Z"
      },
      {
        "duration": 1445,
        "start_time": "2022-08-31T18:03:01.776Z"
      },
      {
        "duration": 1282,
        "start_time": "2022-08-31T18:03:03.223Z"
      },
      {
        "duration": 6,
        "start_time": "2022-08-31T18:03:04.508Z"
      },
      {
        "duration": 134,
        "start_time": "2022-08-31T18:03:04.515Z"
      },
      {
        "duration": 12,
        "start_time": "2022-08-31T18:03:04.652Z"
      },
      {
        "duration": 49,
        "start_time": "2022-08-31T18:03:04.665Z"
      },
      {
        "duration": 101,
        "start_time": "2022-08-31T18:03:04.716Z"
      },
      {
        "duration": 71,
        "start_time": "2022-08-31T18:03:04.819Z"
      },
      {
        "duration": 131,
        "start_time": "2022-08-31T18:03:04.892Z"
      },
      {
        "duration": 468,
        "start_time": "2022-08-31T18:03:05.024Z"
      },
      {
        "duration": 3,
        "start_time": "2022-08-31T18:03:05.494Z"
      },
      {
        "duration": 69,
        "start_time": "2022-08-31T18:03:05.498Z"
      },
      {
        "duration": 14,
        "start_time": "2022-08-31T18:03:05.568Z"
      },
      {
        "duration": 6,
        "start_time": "2022-08-31T18:03:05.584Z"
      },
      {
        "duration": 21764,
        "start_time": "2022-08-31T18:03:08.320Z"
      },
      {
        "duration": 3,
        "start_time": "2022-08-31T18:04:41.872Z"
      },
      {
        "duration": 160,
        "start_time": "2022-08-31T18:04:45.607Z"
      },
      {
        "duration": 3,
        "start_time": "2022-08-31T18:05:10.103Z"
      },
      {
        "duration": 1527,
        "start_time": "2022-08-31T18:07:29.588Z"
      },
      {
        "duration": 1265,
        "start_time": "2022-08-31T18:07:31.116Z"
      },
      {
        "duration": 6,
        "start_time": "2022-08-31T18:07:32.383Z"
      },
      {
        "duration": 123,
        "start_time": "2022-08-31T18:07:32.390Z"
      },
      {
        "duration": 51,
        "start_time": "2022-08-31T18:07:32.515Z"
      },
      {
        "duration": 33,
        "start_time": "2022-08-31T18:07:32.567Z"
      },
      {
        "duration": 85,
        "start_time": "2022-08-31T18:07:32.602Z"
      },
      {
        "duration": 75,
        "start_time": "2022-08-31T18:07:32.688Z"
      },
      {
        "duration": 114,
        "start_time": "2022-08-31T18:07:32.765Z"
      },
      {
        "duration": 443,
        "start_time": "2022-08-31T18:07:32.881Z"
      },
      {
        "duration": 2,
        "start_time": "2022-08-31T18:07:33.326Z"
      },
      {
        "duration": 69,
        "start_time": "2022-08-31T18:07:33.330Z"
      },
      {
        "duration": 16,
        "start_time": "2022-08-31T18:07:33.401Z"
      },
      {
        "duration": 6,
        "start_time": "2022-08-31T18:07:33.418Z"
      },
      {
        "duration": 5,
        "start_time": "2022-08-31T18:07:33.426Z"
      },
      {
        "duration": 21779,
        "start_time": "2022-08-31T18:07:33.433Z"
      },
      {
        "duration": 3,
        "start_time": "2022-08-31T18:07:55.214Z"
      },
      {
        "duration": 1523,
        "start_time": "2022-08-31T18:14:59.067Z"
      },
      {
        "duration": 1202,
        "start_time": "2022-08-31T18:15:00.593Z"
      },
      {
        "duration": 13,
        "start_time": "2022-08-31T18:15:01.797Z"
      },
      {
        "duration": 157,
        "start_time": "2022-08-31T18:15:01.812Z"
      },
      {
        "duration": 10,
        "start_time": "2022-08-31T18:15:01.971Z"
      },
      {
        "duration": 91,
        "start_time": "2022-08-31T18:15:01.983Z"
      },
      {
        "duration": 124,
        "start_time": "2022-08-31T18:15:02.076Z"
      },
      {
        "duration": 98,
        "start_time": "2022-08-31T18:15:02.202Z"
      },
      {
        "duration": 107,
        "start_time": "2022-08-31T18:15:02.301Z"
      },
      {
        "duration": 3,
        "start_time": "2022-08-31T18:15:07.359Z"
      },
      {
        "duration": 481,
        "start_time": "2022-08-31T18:16:24.477Z"
      },
      {
        "duration": 1502,
        "start_time": "2022-09-01T15:19:21.063Z"
      },
      {
        "duration": 1404,
        "start_time": "2022-09-01T15:19:25.102Z"
      },
      {
        "duration": 6,
        "start_time": "2022-09-01T15:19:30.096Z"
      },
      {
        "duration": 102,
        "start_time": "2022-09-01T15:19:33.870Z"
      },
      {
        "duration": 11,
        "start_time": "2022-09-01T15:19:37.650Z"
      },
      {
        "duration": 32,
        "start_time": "2022-09-01T15:19:43.694Z"
      },
      {
        "duration": 76,
        "start_time": "2022-09-01T15:19:48.360Z"
      },
      {
        "duration": 62,
        "start_time": "2022-09-01T15:19:53.615Z"
      },
      {
        "duration": 82,
        "start_time": "2022-09-01T15:20:11.083Z"
      },
      {
        "duration": 3,
        "start_time": "2022-09-01T15:20:17.335Z"
      },
      {
        "duration": 545,
        "start_time": "2022-09-01T15:26:31.306Z"
      },
      {
        "duration": 33,
        "start_time": "2022-09-01T15:33:25.772Z"
      },
      {
        "duration": 26,
        "start_time": "2022-09-01T15:33:45.250Z"
      },
      {
        "duration": 26,
        "start_time": "2022-09-01T15:34:45.254Z"
      },
      {
        "duration": 47,
        "start_time": "2022-09-01T15:37:58.220Z"
      },
      {
        "duration": 21,
        "start_time": "2022-09-01T15:38:36.943Z"
      },
      {
        "duration": 23,
        "start_time": "2022-09-01T15:38:48.411Z"
      },
      {
        "duration": 1420,
        "start_time": "2022-09-01T15:39:26.440Z"
      },
      {
        "duration": 907,
        "start_time": "2022-09-01T15:39:27.862Z"
      },
      {
        "duration": 7,
        "start_time": "2022-09-01T15:39:28.770Z"
      },
      {
        "duration": 156,
        "start_time": "2022-09-01T15:39:28.779Z"
      },
      {
        "duration": 20,
        "start_time": "2022-09-01T15:39:28.937Z"
      },
      {
        "duration": 33,
        "start_time": "2022-09-01T15:39:28.959Z"
      },
      {
        "duration": 99,
        "start_time": "2022-09-01T15:39:28.994Z"
      },
      {
        "duration": 73,
        "start_time": "2022-09-01T15:39:29.094Z"
      },
      {
        "duration": 98,
        "start_time": "2022-09-01T15:39:29.169Z"
      },
      {
        "duration": 3,
        "start_time": "2022-09-01T15:39:29.270Z"
      },
      {
        "duration": 85,
        "start_time": "2022-09-01T15:39:46.975Z"
      },
      {
        "duration": 77,
        "start_time": "2022-09-01T15:40:02.446Z"
      },
      {
        "duration": 810,
        "start_time": "2022-09-01T15:40:07.920Z"
      },
      {
        "duration": 649,
        "start_time": "2022-09-01T15:40:15.111Z"
      },
      {
        "duration": 589,
        "start_time": "2022-09-01T15:40:36.031Z"
      },
      {
        "duration": 72,
        "start_time": "2022-09-01T15:41:09.072Z"
      },
      {
        "duration": 39,
        "start_time": "2022-09-01T15:41:13.439Z"
      },
      {
        "duration": 24902,
        "start_time": "2022-09-01T15:41:21.428Z"
      },
      {
        "duration": 3,
        "start_time": "2022-09-01T15:42:05.748Z"
      },
      {
        "duration": 10721,
        "start_time": "2022-09-01T15:43:11.526Z"
      },
      {
        "duration": 623,
        "start_time": "2022-09-01T15:43:59.718Z"
      },
      {
        "duration": 58,
        "start_time": "2022-09-01T15:44:37.473Z"
      },
      {
        "duration": 18,
        "start_time": "2022-09-01T15:44:40.753Z"
      },
      {
        "duration": 2,
        "start_time": "2022-09-01T15:44:45.114Z"
      },
      {
        "duration": 25576,
        "start_time": "2022-09-01T15:44:50.405Z"
      },
      {
        "duration": 1527,
        "start_time": "2022-09-01T15:58:26.821Z"
      },
      {
        "duration": 1326,
        "start_time": "2022-09-01T15:58:43.847Z"
      },
      {
        "duration": 1393,
        "start_time": "2022-09-01T15:58:45.175Z"
      },
      {
        "duration": 7,
        "start_time": "2022-09-01T15:58:46.570Z"
      },
      {
        "duration": 110,
        "start_time": "2022-09-01T15:58:46.578Z"
      },
      {
        "duration": 10,
        "start_time": "2022-09-01T15:58:46.690Z"
      },
      {
        "duration": 30,
        "start_time": "2022-09-01T15:58:46.702Z"
      },
      {
        "duration": 96,
        "start_time": "2022-09-01T15:58:46.734Z"
      },
      {
        "duration": 73,
        "start_time": "2022-09-01T15:58:46.832Z"
      },
      {
        "duration": 89,
        "start_time": "2022-09-01T15:58:46.907Z"
      },
      {
        "duration": 4,
        "start_time": "2022-09-01T15:58:46.998Z"
      },
      {
        "duration": 860,
        "start_time": "2022-09-01T15:58:47.003Z"
      },
      {
        "duration": 61,
        "start_time": "2022-09-01T15:58:47.865Z"
      },
      {
        "duration": 17,
        "start_time": "2022-09-01T15:58:47.927Z"
      },
      {
        "duration": 1731,
        "start_time": "2022-09-01T15:59:22.693Z"
      },
      {
        "duration": 1352,
        "start_time": "2022-09-01T16:02:03.070Z"
      },
      {
        "duration": 897,
        "start_time": "2022-09-01T16:02:07.753Z"
      },
      {
        "duration": 9,
        "start_time": "2022-09-01T16:02:13.257Z"
      },
      {
        "duration": 106,
        "start_time": "2022-09-01T16:02:16.685Z"
      },
      {
        "duration": 12,
        "start_time": "2022-09-01T16:02:19.441Z"
      },
      {
        "duration": 34,
        "start_time": "2022-09-01T16:02:22.002Z"
      },
      {
        "duration": 78,
        "start_time": "2022-09-01T16:02:24.370Z"
      },
      {
        "duration": 57,
        "start_time": "2022-09-01T16:02:28.094Z"
      },
      {
        "duration": 84,
        "start_time": "2022-09-01T16:02:30.823Z"
      },
      {
        "duration": 4,
        "start_time": "2022-09-01T16:02:33.469Z"
      },
      {
        "duration": 831,
        "start_time": "2022-09-01T16:02:47.799Z"
      },
      {
        "duration": 65,
        "start_time": "2022-09-01T16:02:55.517Z"
      },
      {
        "duration": 18,
        "start_time": "2022-09-01T16:02:58.993Z"
      },
      {
        "duration": 112,
        "start_time": "2022-09-01T16:03:05.907Z"
      },
      {
        "duration": 3,
        "start_time": "2022-09-01T16:03:18.145Z"
      },
      {
        "duration": 3,
        "start_time": "2022-09-01T16:07:13.341Z"
      },
      {
        "duration": 3061,
        "start_time": "2022-09-01T16:08:46.324Z"
      },
      {
        "duration": 3,
        "start_time": "2022-09-01T16:09:19.243Z"
      },
      {
        "duration": 2569,
        "start_time": "2022-09-01T16:09:21.482Z"
      },
      {
        "duration": 1832,
        "start_time": "2022-09-01T16:17:10.951Z"
      },
      {
        "duration": 62384,
        "start_time": "2022-09-01T16:17:26.712Z"
      },
      {
        "duration": 233,
        "start_time": "2022-09-01T16:19:05.851Z"
      },
      {
        "duration": 1722,
        "start_time": "2022-09-01T16:19:16.115Z"
      },
      {
        "duration": 1344,
        "start_time": "2022-09-01T16:21:51.966Z"
      },
      {
        "duration": 870,
        "start_time": "2022-09-01T16:21:53.312Z"
      },
      {
        "duration": 7,
        "start_time": "2022-09-01T16:21:54.184Z"
      },
      {
        "duration": 115,
        "start_time": "2022-09-01T16:21:54.192Z"
      },
      {
        "duration": 12,
        "start_time": "2022-09-01T16:21:54.310Z"
      },
      {
        "duration": 54,
        "start_time": "2022-09-01T16:21:54.324Z"
      },
      {
        "duration": 84,
        "start_time": "2022-09-01T16:21:54.380Z"
      },
      {
        "duration": 59,
        "start_time": "2022-09-01T16:21:54.465Z"
      },
      {
        "duration": 99,
        "start_time": "2022-09-01T16:21:54.526Z"
      },
      {
        "duration": 3,
        "start_time": "2022-09-01T16:21:54.627Z"
      },
      {
        "duration": 846,
        "start_time": "2022-09-01T16:21:54.631Z"
      },
      {
        "duration": 60,
        "start_time": "2022-09-01T16:21:55.478Z"
      },
      {
        "duration": 28,
        "start_time": "2022-09-01T16:21:55.540Z"
      },
      {
        "duration": 2086,
        "start_time": "2022-09-01T16:22:03.554Z"
      },
      {
        "duration": 63745,
        "start_time": "2022-09-01T16:22:24.200Z"
      },
      {
        "duration": 63124,
        "start_time": "2022-09-01T16:24:43.107Z"
      },
      {
        "duration": 62693,
        "start_time": "2022-09-01T16:28:37.307Z"
      },
      {
        "duration": 1744,
        "start_time": "2022-09-01T16:30:46.595Z"
      },
      {
        "duration": 62306,
        "start_time": "2022-09-01T16:35:47.939Z"
      },
      {
        "duration": 1801,
        "start_time": "2022-09-01T16:37:16.886Z"
      },
      {
        "duration": 39,
        "start_time": "2022-09-01T16:50:05.122Z"
      },
      {
        "duration": 27,
        "start_time": "2022-09-01T16:50:39.982Z"
      },
      {
        "duration": 24,
        "start_time": "2022-09-01T16:51:39.772Z"
      },
      {
        "duration": 3,
        "start_time": "2022-09-01T17:40:07.690Z"
      },
      {
        "duration": 10,
        "start_time": "2022-09-01T17:42:10.282Z"
      },
      {
        "duration": 5,
        "start_time": "2022-09-01T17:47:31.954Z"
      },
      {
        "duration": 3,
        "start_time": "2022-09-01T17:47:34.983Z"
      },
      {
        "duration": 62191,
        "start_time": "2022-09-01T17:47:38.184Z"
      },
      {
        "duration": 0,
        "start_time": "2022-09-01T17:48:40.377Z"
      },
      {
        "duration": 3,
        "start_time": "2022-09-01T17:48:47.527Z"
      },
      {
        "duration": 864,
        "start_time": "2022-09-01T17:48:47.531Z"
      },
      {
        "duration": 5,
        "start_time": "2022-09-01T17:48:48.397Z"
      },
      {
        "duration": 122,
        "start_time": "2022-09-01T17:48:48.403Z"
      },
      {
        "duration": 12,
        "start_time": "2022-09-01T17:48:48.527Z"
      },
      {
        "duration": 40,
        "start_time": "2022-09-01T17:48:48.540Z"
      },
      {
        "duration": 89,
        "start_time": "2022-09-01T17:48:48.582Z"
      },
      {
        "duration": 57,
        "start_time": "2022-09-01T17:48:48.672Z"
      },
      {
        "duration": 82,
        "start_time": "2022-09-01T17:48:48.731Z"
      },
      {
        "duration": 3,
        "start_time": "2022-09-01T17:48:48.815Z"
      },
      {
        "duration": 823,
        "start_time": "2022-09-01T17:48:48.820Z"
      },
      {
        "duration": 68,
        "start_time": "2022-09-01T17:48:49.645Z"
      },
      {
        "duration": 17,
        "start_time": "2022-09-01T17:48:49.714Z"
      },
      {
        "duration": 65257,
        "start_time": "2022-09-01T17:48:49.732Z"
      },
      {
        "duration": 1783,
        "start_time": "2022-09-01T17:49:54.991Z"
      },
      {
        "duration": 3,
        "start_time": "2022-09-01T17:49:56.776Z"
      },
      {
        "duration": 4,
        "start_time": "2022-09-01T17:50:04.890Z"
      },
      {
        "duration": 98209,
        "start_time": "2022-09-01T17:50:08.463Z"
      },
      {
        "duration": 1612,
        "start_time": "2022-09-01T17:51:59.842Z"
      },
      {
        "duration": 1072,
        "start_time": "2022-09-01T17:52:01.456Z"
      },
      {
        "duration": 6,
        "start_time": "2022-09-01T17:52:02.530Z"
      },
      {
        "duration": 124,
        "start_time": "2022-09-01T17:52:02.538Z"
      },
      {
        "duration": 17,
        "start_time": "2022-09-01T17:52:02.663Z"
      },
      {
        "duration": 35,
        "start_time": "2022-09-01T17:52:02.682Z"
      },
      {
        "duration": 108,
        "start_time": "2022-09-01T17:52:02.719Z"
      },
      {
        "duration": 101,
        "start_time": "2022-09-01T17:52:02.829Z"
      },
      {
        "duration": 115,
        "start_time": "2022-09-01T17:52:02.932Z"
      },
      {
        "duration": 2,
        "start_time": "2022-09-01T17:52:03.050Z"
      },
      {
        "duration": 903,
        "start_time": "2022-09-01T17:52:03.053Z"
      },
      {
        "duration": 67,
        "start_time": "2022-09-01T17:52:03.957Z"
      },
      {
        "duration": 45,
        "start_time": "2022-09-01T17:52:04.026Z"
      },
      {
        "duration": 64985,
        "start_time": "2022-09-01T17:52:04.073Z"
      },
      {
        "duration": 1824,
        "start_time": "2022-09-01T17:53:09.061Z"
      },
      {
        "duration": 4,
        "start_time": "2022-09-01T17:53:10.887Z"
      },
      {
        "duration": 5,
        "start_time": "2022-09-01T17:53:10.893Z"
      },
      {
        "duration": 95372,
        "start_time": "2022-09-01T17:53:10.900Z"
      },
      {
        "duration": 3,
        "start_time": "2022-09-01T17:56:46.947Z"
      },
      {
        "duration": 4,
        "start_time": "2022-09-01T17:56:49.257Z"
      },
      {
        "duration": 4,
        "start_time": "2022-09-01T17:57:13.751Z"
      },
      {
        "duration": 4,
        "start_time": "2022-09-01T17:57:20.003Z"
      },
      {
        "duration": 288781,
        "start_time": "2022-09-01T17:57:23.247Z"
      },
      {
        "duration": 1378,
        "start_time": "2022-09-01T18:02:23.674Z"
      },
      {
        "duration": 982,
        "start_time": "2022-09-01T18:02:25.053Z"
      },
      {
        "duration": 5,
        "start_time": "2022-09-01T18:02:26.036Z"
      },
      {
        "duration": 116,
        "start_time": "2022-09-01T18:02:26.043Z"
      },
      {
        "duration": 12,
        "start_time": "2022-09-01T18:02:26.166Z"
      },
      {
        "duration": 31,
        "start_time": "2022-09-01T18:02:26.179Z"
      },
      {
        "duration": 97,
        "start_time": "2022-09-01T18:02:26.212Z"
      },
      {
        "duration": 67,
        "start_time": "2022-09-01T18:02:26.310Z"
      },
      {
        "duration": 95,
        "start_time": "2022-09-01T18:02:26.378Z"
      },
      {
        "duration": 3,
        "start_time": "2022-09-01T18:02:26.475Z"
      },
      {
        "duration": 861,
        "start_time": "2022-09-01T18:02:26.479Z"
      },
      {
        "duration": 68,
        "start_time": "2022-09-01T18:02:27.342Z"
      },
      {
        "duration": 15,
        "start_time": "2022-09-01T18:02:27.412Z"
      },
      {
        "duration": 64085,
        "start_time": "2022-09-01T18:02:27.429Z"
      },
      {
        "duration": 1820,
        "start_time": "2022-09-01T18:03:31.516Z"
      },
      {
        "duration": 5,
        "start_time": "2022-09-01T18:03:33.337Z"
      },
      {
        "duration": 541,
        "start_time": "2022-09-01T18:03:33.343Z"
      },
      {
        "duration": 51466,
        "start_time": "2022-09-01T18:05:40.608Z"
      },
      {
        "duration": 352150,
        "start_time": "2022-09-01T18:06:49.109Z"
      },
      {
        "duration": 1495,
        "start_time": "2022-09-02T15:09:38.895Z"
      },
      {
        "duration": 1133,
        "start_time": "2022-09-02T15:09:40.392Z"
      },
      {
        "duration": 12,
        "start_time": "2022-09-02T15:09:41.526Z"
      },
      {
        "duration": 158,
        "start_time": "2022-09-02T15:09:41.540Z"
      },
      {
        "duration": 11,
        "start_time": "2022-09-02T15:09:41.700Z"
      },
      {
        "duration": 50,
        "start_time": "2022-09-02T15:09:41.712Z"
      },
      {
        "duration": 96,
        "start_time": "2022-09-02T15:09:41.765Z"
      },
      {
        "duration": 77,
        "start_time": "2022-09-02T15:09:41.862Z"
      },
      {
        "duration": 100,
        "start_time": "2022-09-02T15:09:41.941Z"
      },
      {
        "duration": 2,
        "start_time": "2022-09-02T15:09:42.043Z"
      },
      {
        "duration": 764,
        "start_time": "2022-09-02T15:09:42.047Z"
      },
      {
        "duration": 68,
        "start_time": "2022-09-02T15:09:42.812Z"
      },
      {
        "duration": 20,
        "start_time": "2022-09-02T15:09:42.881Z"
      },
      {
        "duration": 60720,
        "start_time": "2022-09-02T15:09:42.903Z"
      },
      {
        "duration": 3465,
        "start_time": "2022-09-02T15:10:47.508Z"
      },
      {
        "duration": 475,
        "start_time": "2022-09-02T15:17:25.021Z"
      },
      {
        "duration": 157,
        "start_time": "2022-09-02T15:17:42.036Z"
      },
      {
        "duration": 44,
        "start_time": "2022-09-02T15:17:48.031Z"
      },
      {
        "duration": 9,
        "start_time": "2022-09-02T15:17:50.657Z"
      },
      {
        "duration": 58838,
        "start_time": "2022-09-02T15:17:53.730Z"
      },
      {
        "duration": 3395,
        "start_time": "2022-09-02T15:19:50.323Z"
      },
      {
        "duration": 4,
        "start_time": "2022-09-02T15:20:14.013Z"
      },
      {
        "duration": 91313,
        "start_time": "2022-09-02T15:20:22.141Z"
      },
      {
        "duration": 11,
        "start_time": "2022-09-02T15:22:30.285Z"
      },
      {
        "duration": 12,
        "start_time": "2022-09-02T15:23:06.925Z"
      },
      {
        "duration": 15,
        "start_time": "2022-09-02T15:23:33.865Z"
      },
      {
        "duration": 15,
        "start_time": "2022-09-02T15:23:58.437Z"
      },
      {
        "duration": 12,
        "start_time": "2022-09-02T15:24:10.575Z"
      },
      {
        "duration": 11,
        "start_time": "2022-09-02T15:24:29.040Z"
      },
      {
        "duration": 51,
        "start_time": "2022-09-02T15:24:50.817Z"
      },
      {
        "duration": 1283,
        "start_time": "2022-09-02T15:25:48.985Z"
      },
      {
        "duration": 936,
        "start_time": "2022-09-02T15:25:50.270Z"
      },
      {
        "duration": 5,
        "start_time": "2022-09-02T15:25:51.208Z"
      },
      {
        "duration": 131,
        "start_time": "2022-09-02T15:25:51.216Z"
      },
      {
        "duration": 10,
        "start_time": "2022-09-02T15:25:51.349Z"
      },
      {
        "duration": 30,
        "start_time": "2022-09-02T15:25:51.360Z"
      },
      {
        "duration": 109,
        "start_time": "2022-09-02T15:25:51.391Z"
      },
      {
        "duration": 81,
        "start_time": "2022-09-02T15:25:51.502Z"
      },
      {
        "duration": 104,
        "start_time": "2022-09-02T15:25:51.584Z"
      },
      {
        "duration": 3,
        "start_time": "2022-09-02T15:25:51.691Z"
      },
      {
        "duration": 775,
        "start_time": "2022-09-02T15:25:51.696Z"
      },
      {
        "duration": 85,
        "start_time": "2022-09-02T15:25:58.376Z"
      },
      {
        "duration": 12,
        "start_time": "2022-09-02T15:26:12.486Z"
      },
      {
        "duration": 16,
        "start_time": "2022-09-02T15:30:30.804Z"
      },
      {
        "duration": 12,
        "start_time": "2022-09-02T15:30:54.598Z"
      },
      {
        "duration": 14,
        "start_time": "2022-09-02T15:31:40.793Z"
      },
      {
        "duration": 15,
        "start_time": "2022-09-02T15:32:19.388Z"
      },
      {
        "duration": 14,
        "start_time": "2022-09-02T15:32:24.003Z"
      },
      {
        "duration": 59,
        "start_time": "2022-09-02T15:32:30.121Z"
      },
      {
        "duration": 16,
        "start_time": "2022-09-02T15:32:33.724Z"
      },
      {
        "duration": 65250,
        "start_time": "2022-09-02T15:32:40.636Z"
      },
      {
        "duration": 3360,
        "start_time": "2022-09-02T15:34:17.036Z"
      },
      {
        "duration": 4,
        "start_time": "2022-09-02T15:34:24.855Z"
      },
      {
        "duration": 148371,
        "start_time": "2022-09-02T15:34:28.768Z"
      },
      {
        "duration": 5,
        "start_time": "2022-09-02T15:39:48.112Z"
      },
      {
        "duration": 127,
        "start_time": "2022-09-02T15:39:51.412Z"
      },
      {
        "duration": 66452,
        "start_time": "2022-09-02T15:41:00.606Z"
      },
      {
        "duration": 4,
        "start_time": "2022-09-02T15:42:27.423Z"
      },
      {
        "duration": 189967,
        "start_time": "2022-09-02T15:42:30.986Z"
      },
      {
        "duration": 12,
        "start_time": "2022-09-02T15:46:36.099Z"
      },
      {
        "duration": 7,
        "start_time": "2022-09-02T15:46:47.420Z"
      },
      {
        "duration": 8,
        "start_time": "2022-09-02T15:46:53.249Z"
      },
      {
        "duration": 11742,
        "start_time": "2022-09-02T15:50:31.910Z"
      },
      {
        "duration": 1298,
        "start_time": "2022-09-02T15:52:49.678Z"
      },
      {
        "duration": 917,
        "start_time": "2022-09-02T15:52:52.553Z"
      },
      {
        "duration": 6,
        "start_time": "2022-09-02T15:52:56.938Z"
      },
      {
        "duration": 130,
        "start_time": "2022-09-02T15:52:59.552Z"
      },
      {
        "duration": 11,
        "start_time": "2022-09-02T15:53:02.297Z"
      },
      {
        "duration": 34,
        "start_time": "2022-09-02T15:53:04.299Z"
      },
      {
        "duration": 85,
        "start_time": "2022-09-02T15:53:05.479Z"
      },
      {
        "duration": 67,
        "start_time": "2022-09-02T15:53:10.907Z"
      },
      {
        "duration": 89,
        "start_time": "2022-09-02T15:53:12.357Z"
      },
      {
        "duration": 3,
        "start_time": "2022-09-02T15:53:14.755Z"
      },
      {
        "duration": 748,
        "start_time": "2022-09-02T15:53:27.063Z"
      },
      {
        "duration": 50,
        "start_time": "2022-09-02T15:53:31.012Z"
      },
      {
        "duration": 16,
        "start_time": "2022-09-02T15:53:32.943Z"
      },
      {
        "duration": 5,
        "start_time": "2022-09-02T15:53:40.499Z"
      },
      {
        "duration": 68543,
        "start_time": "2022-09-02T15:53:42.597Z"
      },
      {
        "duration": 1358,
        "start_time": "2022-09-02T15:57:13.424Z"
      },
      {
        "duration": 887,
        "start_time": "2022-09-02T15:57:14.784Z"
      },
      {
        "duration": 5,
        "start_time": "2022-09-02T15:57:15.672Z"
      },
      {
        "duration": 125,
        "start_time": "2022-09-02T15:57:15.679Z"
      },
      {
        "duration": 10,
        "start_time": "2022-09-02T15:57:15.806Z"
      },
      {
        "duration": 45,
        "start_time": "2022-09-02T15:57:15.817Z"
      },
      {
        "duration": 94,
        "start_time": "2022-09-02T15:57:15.863Z"
      },
      {
        "duration": 68,
        "start_time": "2022-09-02T15:57:15.958Z"
      },
      {
        "duration": 100,
        "start_time": "2022-09-02T15:57:16.038Z"
      },
      {
        "duration": 4,
        "start_time": "2022-09-02T15:57:16.141Z"
      },
      {
        "duration": 745,
        "start_time": "2022-09-02T15:57:16.146Z"
      },
      {
        "duration": 48,
        "start_time": "2022-09-02T15:57:16.893Z"
      },
      {
        "duration": 14,
        "start_time": "2022-09-02T15:57:16.943Z"
      },
      {
        "duration": 4,
        "start_time": "2022-09-02T15:57:28.790Z"
      },
      {
        "duration": 109291,
        "start_time": "2022-09-02T15:57:35.256Z"
      },
      {
        "duration": 4,
        "start_time": "2022-09-02T17:34:03.479Z"
      },
      {
        "duration": 553048,
        "start_time": "2022-09-02T17:34:07.109Z"
      },
      {
        "duration": 1408,
        "start_time": "2022-09-02T17:43:33.155Z"
      },
      {
        "duration": 1009,
        "start_time": "2022-09-02T17:43:34.566Z"
      },
      {
        "duration": 5,
        "start_time": "2022-09-02T17:43:35.577Z"
      },
      {
        "duration": 165,
        "start_time": "2022-09-02T17:43:35.584Z"
      },
      {
        "duration": 34,
        "start_time": "2022-09-02T17:43:35.752Z"
      },
      {
        "duration": 60,
        "start_time": "2022-09-02T17:43:35.788Z"
      },
      {
        "duration": 118,
        "start_time": "2022-09-02T17:43:35.853Z"
      },
      {
        "duration": 112,
        "start_time": "2022-09-02T17:43:35.973Z"
      },
      {
        "duration": 141,
        "start_time": "2022-09-02T17:43:36.087Z"
      },
      {
        "duration": 3,
        "start_time": "2022-09-02T17:43:36.229Z"
      },
      {
        "duration": 1020,
        "start_time": "2022-09-02T17:43:36.233Z"
      },
      {
        "duration": 171,
        "start_time": "2022-09-02T17:43:39.348Z"
      },
      {
        "duration": 10,
        "start_time": "2022-09-02T17:43:51.075Z"
      },
      {
        "duration": 10,
        "start_time": "2022-09-02T17:49:14.661Z"
      },
      {
        "duration": 39,
        "start_time": "2022-09-02T17:50:11.127Z"
      },
      {
        "duration": 54,
        "start_time": "2022-09-02T17:50:45.109Z"
      },
      {
        "duration": 1141,
        "start_time": "2022-09-02T17:50:54.980Z"
      },
      {
        "duration": 50,
        "start_time": "2022-09-02T17:52:50.595Z"
      },
      {
        "duration": 918,
        "start_time": "2022-09-02T17:55:08.221Z"
      },
      {
        "duration": 88,
        "start_time": "2022-09-02T17:55:13.850Z"
      },
      {
        "duration": 83,
        "start_time": "2022-09-02T17:55:32.074Z"
      },
      {
        "duration": 78,
        "start_time": "2022-09-02T17:56:02.944Z"
      },
      {
        "duration": 3,
        "start_time": "2022-09-02T17:56:17.950Z"
      },
      {
        "duration": 21,
        "start_time": "2022-09-02T17:56:20.562Z"
      },
      {
        "duration": 89,
        "start_time": "2022-09-02T17:57:02.904Z"
      },
      {
        "duration": 81,
        "start_time": "2022-09-02T17:57:26.668Z"
      },
      {
        "duration": 85,
        "start_time": "2022-09-02T17:58:29.194Z"
      },
      {
        "duration": 91,
        "start_time": "2022-09-02T17:58:38.975Z"
      },
      {
        "duration": 79,
        "start_time": "2022-09-02T17:58:45.300Z"
      },
      {
        "duration": 4,
        "start_time": "2022-09-02T17:58:50.437Z"
      },
      {
        "duration": 66428,
        "start_time": "2022-09-02T17:58:53.326Z"
      },
      {
        "duration": 10,
        "start_time": "2022-09-02T18:01:52.665Z"
      },
      {
        "duration": 1062,
        "start_time": "2022-09-02T18:02:12.297Z"
      },
      {
        "duration": 10,
        "start_time": "2022-09-02T18:07:11.388Z"
      },
      {
        "duration": 13,
        "start_time": "2022-09-02T18:07:20.469Z"
      },
      {
        "duration": 15,
        "start_time": "2022-09-02T18:08:27.090Z"
      },
      {
        "duration": 16,
        "start_time": "2022-09-02T18:08:31.565Z"
      },
      {
        "duration": 14,
        "start_time": "2022-09-02T18:09:11.123Z"
      },
      {
        "duration": 11,
        "start_time": "2022-09-02T18:09:27.726Z"
      },
      {
        "duration": 10,
        "start_time": "2022-09-02T18:10:30.852Z"
      },
      {
        "duration": 1087,
        "start_time": "2022-09-02T18:10:33.929Z"
      },
      {
        "duration": 82,
        "start_time": "2022-09-02T18:13:33.139Z"
      },
      {
        "duration": 4,
        "start_time": "2022-09-02T18:13:46.617Z"
      },
      {
        "duration": 68081,
        "start_time": "2022-09-02T18:13:50.173Z"
      },
      {
        "duration": 3275,
        "start_time": "2022-09-02T18:17:20.635Z"
      },
      {
        "duration": 61947,
        "start_time": "2022-09-02T18:17:30.136Z"
      },
      {
        "duration": 1725,
        "start_time": "2022-09-04T09:42:37.869Z"
      },
      {
        "duration": 0,
        "start_time": "2022-09-04T09:42:39.596Z"
      },
      {
        "duration": 0,
        "start_time": "2022-09-04T09:42:39.597Z"
      },
      {
        "duration": 0,
        "start_time": "2022-09-04T09:42:39.598Z"
      },
      {
        "duration": 0,
        "start_time": "2022-09-04T09:42:39.600Z"
      },
      {
        "duration": 0,
        "start_time": "2022-09-04T09:42:39.601Z"
      },
      {
        "duration": 0,
        "start_time": "2022-09-04T09:42:39.602Z"
      },
      {
        "duration": 0,
        "start_time": "2022-09-04T09:42:39.603Z"
      },
      {
        "duration": 0,
        "start_time": "2022-09-04T09:42:39.605Z"
      },
      {
        "duration": 0,
        "start_time": "2022-09-04T09:42:39.606Z"
      },
      {
        "duration": 0,
        "start_time": "2022-09-04T09:42:39.607Z"
      },
      {
        "duration": 0,
        "start_time": "2022-09-04T09:42:39.608Z"
      },
      {
        "duration": 0,
        "start_time": "2022-09-04T09:42:39.609Z"
      },
      {
        "duration": 274,
        "start_time": "2022-09-04T09:43:24.275Z"
      },
      {
        "duration": 1270,
        "start_time": "2022-09-04T09:43:28.278Z"
      },
      {
        "duration": 6,
        "start_time": "2022-09-04T09:43:33.273Z"
      },
      {
        "duration": 103,
        "start_time": "2022-09-04T09:43:34.377Z"
      },
      {
        "duration": 11,
        "start_time": "2022-09-04T09:43:36.245Z"
      },
      {
        "duration": 31,
        "start_time": "2022-09-04T09:43:37.998Z"
      },
      {
        "duration": 88,
        "start_time": "2022-09-04T09:43:39.728Z"
      },
      {
        "duration": 64,
        "start_time": "2022-09-04T09:43:41.923Z"
      },
      {
        "duration": 62,
        "start_time": "2022-09-04T09:43:43.878Z"
      },
      {
        "duration": 3,
        "start_time": "2022-09-04T09:43:45.677Z"
      },
      {
        "duration": 730,
        "start_time": "2022-09-04T09:43:46.682Z"
      },
      {
        "duration": 40,
        "start_time": "2022-09-04T09:43:51.236Z"
      },
      {
        "duration": 99,
        "start_time": "2022-09-04T09:43:52.972Z"
      },
      {
        "duration": 4,
        "start_time": "2022-09-04T09:43:58.139Z"
      },
      {
        "duration": 28,
        "start_time": "2022-09-04T09:44:00.240Z"
      },
      {
        "duration": 9,
        "start_time": "2022-09-04T09:47:27.781Z"
      },
      {
        "duration": 10,
        "start_time": "2022-09-04T09:47:41.243Z"
      },
      {
        "duration": 4,
        "start_time": "2022-09-04T09:47:50.486Z"
      },
      {
        "duration": 37,
        "start_time": "2022-09-04T09:47:52.726Z"
      },
      {
        "duration": 10,
        "start_time": "2022-09-04T09:48:57.069Z"
      },
      {
        "duration": 31,
        "start_time": "2022-09-04T09:49:14.568Z"
      },
      {
        "duration": 1407,
        "start_time": "2022-09-04T09:49:44.769Z"
      },
      {
        "duration": 838,
        "start_time": "2022-09-04T09:49:46.178Z"
      },
      {
        "duration": 5,
        "start_time": "2022-09-04T09:49:47.018Z"
      },
      {
        "duration": 109,
        "start_time": "2022-09-04T09:49:47.025Z"
      },
      {
        "duration": 22,
        "start_time": "2022-09-04T09:49:47.136Z"
      },
      {
        "duration": 30,
        "start_time": "2022-09-04T09:49:47.159Z"
      },
      {
        "duration": 92,
        "start_time": "2022-09-04T09:49:47.191Z"
      },
      {
        "duration": 57,
        "start_time": "2022-09-04T09:49:47.284Z"
      },
      {
        "duration": 95,
        "start_time": "2022-09-04T09:49:47.343Z"
      },
      {
        "duration": 2,
        "start_time": "2022-09-04T09:49:47.441Z"
      },
      {
        "duration": 713,
        "start_time": "2022-09-04T09:49:47.445Z"
      },
      {
        "duration": 31,
        "start_time": "2022-09-04T09:49:48.160Z"
      },
      {
        "duration": 101,
        "start_time": "2022-09-04T09:49:48.193Z"
      },
      {
        "duration": 133,
        "start_time": "2022-09-04T09:49:55.150Z"
      },
      {
        "duration": 125092,
        "start_time": "2022-09-04T09:50:11.890Z"
      },
      {
        "duration": 3,
        "start_time": "2022-09-04T11:38:04.110Z"
      },
      {
        "duration": 11,
        "start_time": "2022-09-04T11:38:10.500Z"
      },
      {
        "duration": 12,
        "start_time": "2022-09-04T11:42:45.344Z"
      },
      {
        "duration": 5,
        "start_time": "2022-09-04T11:42:53.839Z"
      },
      {
        "duration": 8985,
        "start_time": "2022-09-04T11:42:56.876Z"
      },
      {
        "duration": 1473,
        "start_time": "2022-09-04T11:44:32.546Z"
      },
      {
        "duration": 872,
        "start_time": "2022-09-04T11:44:34.021Z"
      },
      {
        "duration": 8,
        "start_time": "2022-09-04T11:44:34.895Z"
      },
      {
        "duration": 109,
        "start_time": "2022-09-04T11:44:34.904Z"
      },
      {
        "duration": 10,
        "start_time": "2022-09-04T11:44:35.016Z"
      },
      {
        "duration": 43,
        "start_time": "2022-09-04T11:44:35.028Z"
      },
      {
        "duration": 88,
        "start_time": "2022-09-04T11:44:35.073Z"
      },
      {
        "duration": 109,
        "start_time": "2022-09-04T11:44:35.163Z"
      },
      {
        "duration": 130,
        "start_time": "2022-09-04T11:44:35.275Z"
      },
      {
        "duration": 2,
        "start_time": "2022-09-04T11:44:35.407Z"
      },
      {
        "duration": 743,
        "start_time": "2022-09-04T11:44:35.411Z"
      },
      {
        "duration": 28,
        "start_time": "2022-09-04T11:44:36.156Z"
      },
      {
        "duration": 102,
        "start_time": "2022-09-04T11:44:36.185Z"
      },
      {
        "duration": 4,
        "start_time": "2022-09-04T11:44:46.288Z"
      },
      {
        "duration": 75161,
        "start_time": "2022-09-04T11:44:50.238Z"
      },
      {
        "duration": 4,
        "start_time": "2022-09-04T11:47:14.746Z"
      },
      {
        "duration": 25631,
        "start_time": "2022-09-04T11:47:17.441Z"
      },
      {
        "duration": 3,
        "start_time": "2022-09-04T11:48:08.636Z"
      },
      {
        "duration": 83,
        "start_time": "2022-09-04T11:50:05.461Z"
      },
      {
        "duration": 71,
        "start_time": "2022-09-04T11:50:27.647Z"
      },
      {
        "duration": 15620,
        "start_time": "2022-09-04T11:50:35.950Z"
      },
      {
        "duration": 4,
        "start_time": "2022-09-04T11:52:45.610Z"
      },
      {
        "duration": 153193,
        "start_time": "2022-09-04T11:53:26.176Z"
      },
      {
        "duration": 1365,
        "start_time": "2022-09-04T11:56:12.351Z"
      },
      {
        "duration": 893,
        "start_time": "2022-09-04T11:56:13.719Z"
      },
      {
        "duration": 6,
        "start_time": "2022-09-04T11:56:14.614Z"
      },
      {
        "duration": 117,
        "start_time": "2022-09-04T11:56:14.621Z"
      },
      {
        "duration": 26,
        "start_time": "2022-09-04T11:56:14.741Z"
      },
      {
        "duration": 32,
        "start_time": "2022-09-04T11:56:14.769Z"
      },
      {
        "duration": 94,
        "start_time": "2022-09-04T11:56:14.803Z"
      },
      {
        "duration": 66,
        "start_time": "2022-09-04T11:56:14.899Z"
      },
      {
        "duration": 90,
        "start_time": "2022-09-04T11:56:14.967Z"
      },
      {
        "duration": 6,
        "start_time": "2022-09-04T11:56:15.059Z"
      },
      {
        "duration": 828,
        "start_time": "2022-09-04T11:56:15.066Z"
      },
      {
        "duration": 36,
        "start_time": "2022-09-04T11:56:15.896Z"
      },
      {
        "duration": 108,
        "start_time": "2022-09-04T11:56:15.934Z"
      },
      {
        "duration": 4,
        "start_time": "2022-09-04T11:56:20.653Z"
      },
      {
        "duration": 6035,
        "start_time": "2022-09-04T11:56:32.705Z"
      },
      {
        "duration": 21221,
        "start_time": "2022-09-04T11:57:21.152Z"
      },
      {
        "duration": 46,
        "start_time": "2022-09-04T11:57:47.690Z"
      },
      {
        "duration": 45,
        "start_time": "2022-09-04T11:57:57.655Z"
      },
      {
        "duration": 87,
        "start_time": "2022-09-04T11:58:15.495Z"
      },
      {
        "duration": 49,
        "start_time": "2022-09-04T11:58:53.449Z"
      },
      {
        "duration": 12467,
        "start_time": "2022-09-04T11:59:01.491Z"
      },
      {
        "duration": 4,
        "start_time": "2022-09-04T12:00:09.410Z"
      },
      {
        "duration": 253394,
        "start_time": "2022-09-04T12:00:12.278Z"
      },
      {
        "duration": 800525,
        "start_time": "2022-09-04T12:08:05.350Z"
      },
      {
        "duration": 61702,
        "start_time": "2022-09-04T12:22:27.605Z"
      },
      {
        "duration": 3553,
        "start_time": "2022-09-04T12:24:04.835Z"
      },
      {
        "duration": 712,
        "start_time": "2022-09-04T12:25:26.220Z"
      },
      {
        "duration": 5945,
        "start_time": "2022-09-04T12:25:31.454Z"
      },
      {
        "duration": 2307,
        "start_time": "2022-09-04T12:26:28.353Z"
      },
      {
        "duration": 1446,
        "start_time": "2022-09-04T12:29:30.948Z"
      },
      {
        "duration": 877,
        "start_time": "2022-09-04T12:29:32.396Z"
      },
      {
        "duration": 6,
        "start_time": "2022-09-04T12:29:33.275Z"
      },
      {
        "duration": 118,
        "start_time": "2022-09-04T12:29:33.282Z"
      },
      {
        "duration": 11,
        "start_time": "2022-09-04T12:29:33.402Z"
      },
      {
        "duration": 48,
        "start_time": "2022-09-04T12:29:33.415Z"
      },
      {
        "duration": 75,
        "start_time": "2022-09-04T12:29:33.465Z"
      },
      {
        "duration": 59,
        "start_time": "2022-09-04T12:29:33.558Z"
      },
      {
        "duration": 100,
        "start_time": "2022-09-04T12:29:33.618Z"
      },
      {
        "duration": 3,
        "start_time": "2022-09-04T12:29:33.720Z"
      },
      {
        "duration": 751,
        "start_time": "2022-09-04T12:29:33.724Z"
      },
      {
        "duration": 33,
        "start_time": "2022-09-04T12:29:34.476Z"
      },
      {
        "duration": 109,
        "start_time": "2022-09-04T12:29:34.510Z"
      },
      {
        "duration": 58005,
        "start_time": "2022-09-04T12:29:34.621Z"
      },
      {
        "duration": 3407,
        "start_time": "2022-09-04T12:30:32.628Z"
      },
      {
        "duration": 4,
        "start_time": "2022-09-04T12:30:36.037Z"
      },
      {
        "duration": 846428,
        "start_time": "2022-09-04T12:30:36.042Z"
      },
      {
        "duration": 11486,
        "start_time": "2022-09-04T12:44:42.473Z"
      },
      {
        "duration": 717,
        "start_time": "2022-09-04T12:44:53.960Z"
      },
      {
        "duration": 6022,
        "start_time": "2022-09-04T12:44:54.678Z"
      },
      {
        "duration": 2162,
        "start_time": "2022-09-04T12:45:00.702Z"
      },
      {
        "duration": 2893,
        "start_time": "2022-09-04T13:20:33.778Z"
      },
      {
        "duration": 1091,
        "start_time": "2022-09-04T13:20:36.673Z"
      },
      {
        "duration": 6,
        "start_time": "2022-09-04T13:20:37.766Z"
      },
      {
        "duration": 109,
        "start_time": "2022-09-04T13:20:37.774Z"
      },
      {
        "duration": 17,
        "start_time": "2022-09-04T13:20:37.886Z"
      },
      {
        "duration": 29,
        "start_time": "2022-09-04T13:20:37.904Z"
      },
      {
        "duration": 98,
        "start_time": "2022-09-04T13:20:37.935Z"
      },
      {
        "duration": 74,
        "start_time": "2022-09-04T13:20:38.035Z"
      },
      {
        "duration": 87,
        "start_time": "2022-09-04T13:20:38.111Z"
      },
      {
        "duration": 2,
        "start_time": "2022-09-04T13:20:38.200Z"
      },
      {
        "duration": 714,
        "start_time": "2022-09-04T13:20:38.203Z"
      },
      {
        "duration": 26,
        "start_time": "2022-09-04T13:20:38.918Z"
      },
      {
        "duration": 83,
        "start_time": "2022-09-04T13:20:38.945Z"
      },
      {
        "duration": 10,
        "start_time": "2022-09-04T13:20:39.030Z"
      },
      {
        "duration": 55,
        "start_time": "2022-09-04T15:01:29.591Z"
      },
      {
        "duration": 40,
        "start_time": "2022-09-04T15:01:34.925Z"
      },
      {
        "duration": 1466,
        "start_time": "2022-09-04T15:01:52.020Z"
      },
      {
        "duration": 1178,
        "start_time": "2022-09-04T15:01:53.488Z"
      },
      {
        "duration": 6,
        "start_time": "2022-09-04T15:01:54.668Z"
      },
      {
        "duration": 124,
        "start_time": "2022-09-04T15:01:54.676Z"
      },
      {
        "duration": 15,
        "start_time": "2022-09-04T15:01:54.802Z"
      },
      {
        "duration": 31,
        "start_time": "2022-09-04T15:01:54.818Z"
      },
      {
        "duration": 11,
        "start_time": "2022-09-04T15:01:57.898Z"
      },
      {
        "duration": 37,
        "start_time": "2022-09-04T15:02:53.420Z"
      },
      {
        "duration": 5435,
        "start_time": "2022-09-04T15:07:24.603Z"
      },
      {
        "duration": 5249,
        "start_time": "2022-09-04T15:07:50.694Z"
      },
      {
        "duration": 5421,
        "start_time": "2022-09-04T15:08:49.090Z"
      },
      {
        "duration": 5196,
        "start_time": "2022-09-04T15:09:10.791Z"
      },
      {
        "duration": 5264,
        "start_time": "2022-09-04T15:09:37.594Z"
      },
      {
        "duration": 1336,
        "start_time": "2022-09-04T15:15:40.953Z"
      },
      {
        "duration": 980,
        "start_time": "2022-09-04T15:15:44.718Z"
      },
      {
        "duration": 6,
        "start_time": "2022-09-04T15:15:48.622Z"
      },
      {
        "duration": 118,
        "start_time": "2022-09-04T15:15:51.103Z"
      },
      {
        "duration": 17,
        "start_time": "2022-09-04T15:15:53.743Z"
      },
      {
        "duration": 33,
        "start_time": "2022-09-04T15:15:57.582Z"
      },
      {
        "duration": 366,
        "start_time": "2022-09-04T15:20:27.689Z"
      },
      {
        "duration": 47,
        "start_time": "2022-09-04T15:20:57.981Z"
      },
      {
        "duration": 110,
        "start_time": "2022-09-04T15:21:29.592Z"
      },
      {
        "duration": 204,
        "start_time": "2022-09-04T15:22:00.577Z"
      },
      {
        "duration": 127,
        "start_time": "2022-09-04T15:23:05.554Z"
      },
      {
        "duration": 4,
        "start_time": "2022-09-04T15:23:24.772Z"
      },
      {
        "duration": 207,
        "start_time": "2022-09-04T15:24:04.727Z"
      },
      {
        "duration": 191,
        "start_time": "2022-09-04T15:24:28.733Z"
      },
      {
        "duration": 229,
        "start_time": "2022-09-04T15:25:45.816Z"
      },
      {
        "duration": 195,
        "start_time": "2022-09-04T15:26:14.255Z"
      },
      {
        "duration": 160,
        "start_time": "2022-09-04T15:28:36.505Z"
      },
      {
        "duration": 160,
        "start_time": "2022-09-04T15:28:45.569Z"
      },
      {
        "duration": 151,
        "start_time": "2022-09-04T15:28:58.689Z"
      },
      {
        "duration": 151,
        "start_time": "2022-09-04T15:29:06.618Z"
      },
      {
        "duration": 196,
        "start_time": "2022-09-04T15:29:24.950Z"
      },
      {
        "duration": 8,
        "start_time": "2022-09-04T15:30:36.488Z"
      },
      {
        "duration": 34,
        "start_time": "2022-09-04T15:30:44.621Z"
      },
      {
        "duration": 35,
        "start_time": "2022-09-04T15:30:51.256Z"
      },
      {
        "duration": 35,
        "start_time": "2022-09-04T15:31:02.334Z"
      },
      {
        "duration": 35,
        "start_time": "2022-09-04T15:31:08.949Z"
      },
      {
        "duration": 36,
        "start_time": "2022-09-04T15:31:12.713Z"
      },
      {
        "duration": 34,
        "start_time": "2022-09-04T15:31:39.357Z"
      },
      {
        "duration": 11,
        "start_time": "2022-09-04T15:32:57.440Z"
      },
      {
        "duration": 9,
        "start_time": "2022-09-04T15:33:24.102Z"
      },
      {
        "duration": 10,
        "start_time": "2022-09-04T15:33:30.944Z"
      },
      {
        "duration": 9,
        "start_time": "2022-09-04T15:33:37.101Z"
      },
      {
        "duration": 12,
        "start_time": "2022-09-04T15:33:43.957Z"
      },
      {
        "duration": 9,
        "start_time": "2022-09-04T15:33:48.790Z"
      },
      {
        "duration": 10,
        "start_time": "2022-09-04T15:33:53.702Z"
      },
      {
        "duration": 8,
        "start_time": "2022-09-04T15:33:59.404Z"
      },
      {
        "duration": 9,
        "start_time": "2022-09-04T15:34:04.294Z"
      },
      {
        "duration": 8,
        "start_time": "2022-09-04T15:34:09.346Z"
      },
      {
        "duration": 8,
        "start_time": "2022-09-04T15:34:14.963Z"
      },
      {
        "duration": 9,
        "start_time": "2022-09-04T15:34:20.252Z"
      },
      {
        "duration": 9,
        "start_time": "2022-09-04T15:35:52.657Z"
      },
      {
        "duration": 9,
        "start_time": "2022-09-04T15:36:30.702Z"
      },
      {
        "duration": 28,
        "start_time": "2022-09-04T15:40:28.434Z"
      },
      {
        "duration": 94,
        "start_time": "2022-09-04T15:40:42.107Z"
      },
      {
        "duration": 178,
        "start_time": "2022-09-04T15:45:21.201Z"
      },
      {
        "duration": 158,
        "start_time": "2022-09-04T15:45:56.809Z"
      },
      {
        "duration": 149,
        "start_time": "2022-09-04T15:47:56.666Z"
      },
      {
        "duration": 146,
        "start_time": "2022-09-04T15:48:08.083Z"
      },
      {
        "duration": 247,
        "start_time": "2022-09-04T15:48:25.240Z"
      },
      {
        "duration": 161,
        "start_time": "2022-09-04T15:48:48.683Z"
      },
      {
        "duration": 155,
        "start_time": "2022-09-04T15:49:07.029Z"
      },
      {
        "duration": 143,
        "start_time": "2022-09-04T15:50:40.694Z"
      },
      {
        "duration": 9,
        "start_time": "2022-09-04T15:51:49.548Z"
      },
      {
        "duration": 70,
        "start_time": "2022-09-04T15:52:38.726Z"
      },
      {
        "duration": 1131,
        "start_time": "2022-09-04T15:54:00.532Z"
      },
      {
        "duration": 1799,
        "start_time": "2022-09-04T15:55:11.289Z"
      },
      {
        "duration": 855,
        "start_time": "2022-09-04T15:56:17.835Z"
      },
      {
        "duration": 798,
        "start_time": "2022-09-04T15:57:01.516Z"
      },
      {
        "duration": 19,
        "start_time": "2022-09-04T15:57:35.185Z"
      },
      {
        "duration": 5,
        "start_time": "2022-09-04T15:58:31.351Z"
      },
      {
        "duration": 12,
        "start_time": "2022-09-04T15:58:34.227Z"
      },
      {
        "duration": 1359,
        "start_time": "2022-09-04T15:58:57.718Z"
      },
      {
        "duration": 948,
        "start_time": "2022-09-04T15:58:59.079Z"
      },
      {
        "duration": 6,
        "start_time": "2022-09-04T15:59:00.028Z"
      },
      {
        "duration": 126,
        "start_time": "2022-09-04T15:59:00.036Z"
      },
      {
        "duration": 11,
        "start_time": "2022-09-04T15:59:00.164Z"
      },
      {
        "duration": 53,
        "start_time": "2022-09-04T15:59:00.177Z"
      },
      {
        "duration": 29,
        "start_time": "2022-09-04T15:59:00.231Z"
      },
      {
        "duration": 105,
        "start_time": "2022-09-04T15:59:00.262Z"
      },
      {
        "duration": 164,
        "start_time": "2022-09-04T15:59:00.369Z"
      },
      {
        "duration": 25,
        "start_time": "2022-09-04T15:59:00.535Z"
      },
      {
        "duration": 74,
        "start_time": "2022-09-04T15:59:04.985Z"
      },
      {
        "duration": 150,
        "start_time": "2022-09-04T15:59:10.197Z"
      },
      {
        "duration": 146,
        "start_time": "2022-09-04T15:59:19.219Z"
      },
      {
        "duration": 262,
        "start_time": "2022-09-04T16:00:57.319Z"
      },
      {
        "duration": 164,
        "start_time": "2022-09-04T16:01:49.732Z"
      },
      {
        "duration": 144,
        "start_time": "2022-09-04T16:01:53.319Z"
      },
      {
        "duration": 59,
        "start_time": "2022-09-04T16:02:03.708Z"
      },
      {
        "duration": 167,
        "start_time": "2022-09-04T16:02:09.853Z"
      },
      {
        "duration": 148,
        "start_time": "2022-09-04T16:02:19.834Z"
      },
      {
        "duration": 160,
        "start_time": "2022-09-04T16:02:24.045Z"
      },
      {
        "duration": 176,
        "start_time": "2022-09-04T16:02:36.666Z"
      },
      {
        "duration": 1015,
        "start_time": "2022-09-04T16:03:17.727Z"
      },
      {
        "duration": 45,
        "start_time": "2022-09-04T16:03:26.565Z"
      },
      {
        "duration": 71,
        "start_time": "2022-09-04T16:03:29.325Z"
      },
      {
        "duration": 90,
        "start_time": "2022-09-04T16:04:40.761Z"
      },
      {
        "duration": 3,
        "start_time": "2022-09-04T16:04:43.986Z"
      },
      {
        "duration": 757,
        "start_time": "2022-09-04T16:07:27.812Z"
      },
      {
        "duration": 9,
        "start_time": "2022-09-04T16:09:38.896Z"
      },
      {
        "duration": 49,
        "start_time": "2022-09-04T16:09:49.656Z"
      },
      {
        "duration": 10,
        "start_time": "2022-09-04T16:09:53.582Z"
      },
      {
        "duration": 54713,
        "start_time": "2022-09-04T16:10:17.888Z"
      },
      {
        "duration": 3126,
        "start_time": "2022-09-04T16:12:21.257Z"
      },
      {
        "duration": 5,
        "start_time": "2022-09-04T16:12:59.307Z"
      },
      {
        "duration": 119793,
        "start_time": "2022-09-04T16:13:03.628Z"
      },
      {
        "duration": 11072,
        "start_time": "2022-09-04T16:16:27.149Z"
      },
      {
        "duration": 593,
        "start_time": "2022-09-04T16:20:16.084Z"
      },
      {
        "duration": 7260,
        "start_time": "2022-09-04T16:23:17.495Z"
      },
      {
        "duration": 1465,
        "start_time": "2022-09-04T16:24:44.987Z"
      },
      {
        "duration": 5,
        "start_time": "2022-09-04T16:28:00.280Z"
      },
      {
        "duration": 4,
        "start_time": "2022-09-04T16:28:31.160Z"
      },
      {
        "duration": 5,
        "start_time": "2022-09-04T16:28:43.338Z"
      },
      {
        "duration": 5,
        "start_time": "2022-09-04T16:29:26.358Z"
      },
      {
        "duration": 7,
        "start_time": "2022-09-04T16:29:57.022Z"
      },
      {
        "duration": 7,
        "start_time": "2022-09-04T16:30:41.083Z"
      },
      {
        "duration": 1569,
        "start_time": "2022-09-04T16:31:54.704Z"
      },
      {
        "duration": 1096,
        "start_time": "2022-09-04T16:31:56.275Z"
      },
      {
        "duration": 7,
        "start_time": "2022-09-04T16:31:57.373Z"
      },
      {
        "duration": 196,
        "start_time": "2022-09-04T16:31:57.383Z"
      },
      {
        "duration": 12,
        "start_time": "2022-09-04T16:31:57.580Z"
      },
      {
        "duration": 46,
        "start_time": "2022-09-04T16:31:57.594Z"
      },
      {
        "duration": 29,
        "start_time": "2022-09-04T16:31:57.642Z"
      },
      {
        "duration": 137,
        "start_time": "2022-09-04T16:31:57.673Z"
      },
      {
        "duration": 168,
        "start_time": "2022-09-04T16:31:57.813Z"
      },
      {
        "duration": 39,
        "start_time": "2022-09-04T16:31:57.985Z"
      },
      {
        "duration": 112,
        "start_time": "2022-09-04T16:31:58.026Z"
      },
      {
        "duration": 183,
        "start_time": "2022-09-04T16:31:58.139Z"
      },
      {
        "duration": 44,
        "start_time": "2022-09-04T16:31:58.324Z"
      },
      {
        "duration": 88,
        "start_time": "2022-09-04T16:31:58.370Z"
      },
      {
        "duration": 118,
        "start_time": "2022-09-04T16:31:58.461Z"
      },
      {
        "duration": 3,
        "start_time": "2022-09-04T16:31:58.581Z"
      },
      {
        "duration": 751,
        "start_time": "2022-09-04T16:31:58.586Z"
      },
      {
        "duration": 14,
        "start_time": "2022-09-04T16:31:59.339Z"
      },
      {
        "duration": 82,
        "start_time": "2022-09-04T16:31:59.355Z"
      },
      {
        "duration": 57176,
        "start_time": "2022-09-04T16:31:59.439Z"
      },
      {
        "duration": 3437,
        "start_time": "2022-09-04T16:32:56.617Z"
      },
      {
        "duration": 4,
        "start_time": "2022-09-04T16:33:00.056Z"
      },
      {
        "duration": 177564,
        "start_time": "2022-09-04T16:33:00.062Z"
      },
      {
        "duration": 102184,
        "start_time": "2022-09-04T16:35:57.628Z"
      },
      {
        "duration": 646,
        "start_time": "2022-09-04T16:37:39.814Z"
      },
      {
        "duration": 4645,
        "start_time": "2022-09-04T16:37:40.462Z"
      },
      {
        "duration": 1445,
        "start_time": "2022-09-04T16:37:45.109Z"
      },
      {
        "duration": 55,
        "start_time": "2022-09-04T16:37:46.557Z"
      },
      {
        "duration": 836,
        "start_time": "2022-09-04T16:51:32.164Z"
      },
      {
        "duration": 823,
        "start_time": "2022-09-04T16:51:58.877Z"
      },
      {
        "duration": 865,
        "start_time": "2022-09-04T16:52:10.435Z"
      }
    ],
    "kernelspec": {
      "display_name": "Python 3 (ipykernel)",
      "language": "python",
      "name": "python3"
    },
    "language_info": {
      "codemirror_mode": {
        "name": "ipython",
        "version": 3
      },
      "file_extension": ".py",
      "mimetype": "text/x-python",
      "name": "python",
      "nbconvert_exporter": "python",
      "pygments_lexer": "ipython3",
      "version": "3.9.5"
    },
    "toc": {
      "base_numbering": 1,
      "nav_menu": {},
      "number_sections": true,
      "sideBar": true,
      "skip_h1_title": true,
      "title_cell": "Table of Contents",
      "title_sidebar": "Contents",
      "toc_cell": false,
      "toc_position": {
        "height": "calc(100% - 180px)",
        "left": "10px",
        "top": "150px",
        "width": "366.188px"
      },
      "toc_section_display": true,
      "toc_window_display": true
    },
    "colab": {
      "provenance": [],
      "toc_visible": true
    }
  },
  "nbformat": 4,
  "nbformat_minor": 0
}
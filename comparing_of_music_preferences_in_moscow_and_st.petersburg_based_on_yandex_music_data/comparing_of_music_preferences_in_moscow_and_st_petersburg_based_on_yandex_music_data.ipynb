{
  "metadata": {
    "ExecuteTimeLog": [
      {
        "duration": 70,
        "start_time": "2022-04-10T14:33:08.413Z"
      },
      {
        "duration": 8,
        "start_time": "2022-04-10T14:33:27.671Z"
      },
      {
        "duration": 482,
        "start_time": "2022-04-10T14:33:57.601Z"
      },
      {
        "duration": 215,
        "start_time": "2022-04-10T14:34:02.743Z"
      },
      {
        "duration": 26,
        "start_time": "2022-04-10T14:34:08.431Z"
      },
      {
        "duration": 41,
        "start_time": "2022-04-10T14:35:03.251Z"
      },
      {
        "duration": 6,
        "start_time": "2022-04-10T14:42:55.724Z"
      },
      {
        "duration": 177,
        "start_time": "2022-04-10T14:48:24.588Z"
      },
      {
        "duration": 16,
        "start_time": "2022-04-10T14:48:38.393Z"
      },
      {
        "duration": 6,
        "start_time": "2022-04-10T14:48:55.844Z"
      },
      {
        "duration": 17,
        "start_time": "2022-04-10T14:49:12.006Z"
      },
      {
        "duration": 6,
        "start_time": "2022-04-10T14:49:17.004Z"
      },
      {
        "duration": 15,
        "start_time": "2022-04-10T14:49:37.380Z"
      },
      {
        "duration": 9,
        "start_time": "2022-04-10T14:49:59.800Z"
      },
      {
        "duration": 6,
        "start_time": "2022-04-10T14:50:02.665Z"
      },
      {
        "duration": 33,
        "start_time": "2022-04-10T14:50:57.589Z"
      },
      {
        "duration": 43,
        "start_time": "2022-04-10T14:56:55.996Z"
      },
      {
        "duration": 10,
        "start_time": "2022-04-10T14:57:19.491Z"
      },
      {
        "duration": 177,
        "start_time": "2022-04-10T14:57:28.923Z"
      },
      {
        "duration": 9,
        "start_time": "2022-04-10T14:57:54.151Z"
      },
      {
        "duration": 9,
        "start_time": "2022-04-10T14:58:12.597Z"
      },
      {
        "duration": 9,
        "start_time": "2022-04-10T15:00:19.280Z"
      },
      {
        "duration": 2901,
        "start_time": "2022-04-10T15:04:35.766Z"
      },
      {
        "duration": 2790,
        "start_time": "2022-04-10T15:04:39.543Z"
      },
      {
        "duration": 11,
        "start_time": "2022-04-10T15:05:37.383Z"
      },
      {
        "duration": 10,
        "start_time": "2022-04-10T15:05:50.115Z"
      },
      {
        "duration": 10,
        "start_time": "2022-04-10T15:07:24.739Z"
      },
      {
        "duration": 10,
        "start_time": "2022-04-10T15:07:43.395Z"
      },
      {
        "duration": 12,
        "start_time": "2022-04-10T15:08:02.007Z"
      },
      {
        "duration": 10,
        "start_time": "2022-04-10T15:12:46.851Z"
      },
      {
        "duration": 154,
        "start_time": "2022-04-10T15:13:45.937Z"
      },
      {
        "duration": 168,
        "start_time": "2022-04-10T15:14:21.363Z"
      },
      {
        "duration": 12,
        "start_time": "2022-04-10T15:14:44.400Z"
      },
      {
        "duration": 10,
        "start_time": "2022-04-10T15:15:16.211Z"
      },
      {
        "duration": 12,
        "start_time": "2022-04-10T15:20:12.592Z"
      },
      {
        "duration": 2758,
        "start_time": "2022-04-10T15:21:07.646Z"
      },
      {
        "duration": 10,
        "start_time": "2022-04-10T15:22:07.015Z"
      },
      {
        "duration": 4,
        "start_time": "2022-04-10T15:28:37.634Z"
      },
      {
        "duration": 4,
        "start_time": "2022-04-10T15:28:55.786Z"
      },
      {
        "duration": 2662,
        "start_time": "2022-04-10T15:29:06.987Z"
      },
      {
        "duration": 13,
        "start_time": "2022-04-10T15:30:07.124Z"
      },
      {
        "duration": 14,
        "start_time": "2022-04-10T15:31:28.067Z"
      },
      {
        "duration": 162,
        "start_time": "2022-04-10T15:31:40.448Z"
      },
      {
        "duration": 167,
        "start_time": "2022-04-10T15:31:53.579Z"
      },
      {
        "duration": 166,
        "start_time": "2022-04-10T15:32:05.868Z"
      },
      {
        "duration": 55,
        "start_time": "2022-04-10T15:32:39.235Z"
      },
      {
        "duration": 57,
        "start_time": "2022-04-10T15:33:04.620Z"
      },
      {
        "duration": 42,
        "start_time": "2022-04-10T15:33:59.569Z"
      },
      {
        "duration": 37,
        "start_time": "2022-04-10T15:34:11.089Z"
      },
      {
        "duration": 52,
        "start_time": "2022-04-10T15:34:40.528Z"
      },
      {
        "duration": 33,
        "start_time": "2022-04-10T15:34:47.771Z"
      },
      {
        "duration": 48,
        "start_time": "2022-04-10T15:49:53.745Z"
      },
      {
        "duration": 15,
        "start_time": "2022-04-10T15:50:31.948Z"
      },
      {
        "duration": 25,
        "start_time": "2022-04-10T15:56:42.224Z"
      },
      {
        "duration": 71,
        "start_time": "2022-04-10T15:58:48.268Z"
      },
      {
        "duration": 506,
        "start_time": "2022-04-10T15:59:00.737Z"
      },
      {
        "duration": 196,
        "start_time": "2022-04-10T15:59:04.039Z"
      },
      {
        "duration": 26,
        "start_time": "2022-04-10T15:59:12.559Z"
      },
      {
        "duration": 41,
        "start_time": "2022-04-10T15:59:17.164Z"
      },
      {
        "duration": 5,
        "start_time": "2022-04-10T15:59:22.359Z"
      },
      {
        "duration": 18,
        "start_time": "2022-04-10T15:59:26.658Z"
      },
      {
        "duration": 6,
        "start_time": "2022-04-10T15:59:34.755Z"
      },
      {
        "duration": 50,
        "start_time": "2022-04-10T15:59:38.701Z"
      },
      {
        "duration": 73,
        "start_time": "2022-04-10T15:59:57.787Z"
      },
      {
        "duration": 38,
        "start_time": "2022-04-10T16:05:12.781Z"
      },
      {
        "duration": 35,
        "start_time": "2022-04-10T16:05:17.460Z"
      },
      {
        "duration": 133,
        "start_time": "2022-04-10T16:06:02.963Z"
      },
      {
        "duration": 116,
        "start_time": "2022-04-10T16:06:14.295Z"
      },
      {
        "duration": 100,
        "start_time": "2022-04-10T16:06:37.403Z"
      },
      {
        "duration": 100,
        "start_time": "2022-04-10T16:08:46.908Z"
      },
      {
        "duration": 116,
        "start_time": "2022-04-10T16:08:50.222Z"
      },
      {
        "duration": 89,
        "start_time": "2022-04-10T16:08:54.192Z"
      },
      {
        "duration": 15,
        "start_time": "2022-04-10T16:14:40.023Z"
      },
      {
        "duration": 5,
        "start_time": "2022-04-10T16:28:26.930Z"
      },
      {
        "duration": 12,
        "start_time": "2022-04-10T16:28:32.444Z"
      },
      {
        "duration": 16,
        "start_time": "2022-04-10T16:29:15.716Z"
      },
      {
        "duration": 5,
        "start_time": "2022-04-10T16:32:53.228Z"
      },
      {
        "duration": 34,
        "start_time": "2022-04-10T16:32:57.596Z"
      },
      {
        "duration": 37,
        "start_time": "2022-04-10T16:35:24.651Z"
      },
      {
        "duration": 17,
        "start_time": "2022-04-10T16:35:47.085Z"
      },
      {
        "duration": 9,
        "start_time": "2022-04-10T16:39:00.256Z"
      },
      {
        "duration": 48,
        "start_time": "2022-04-10T16:40:50.240Z"
      },
      {
        "duration": 10,
        "start_time": "2022-04-10T16:41:18.341Z"
      },
      {
        "duration": 17,
        "start_time": "2022-04-10T16:41:27.503Z"
      },
      {
        "duration": 23,
        "start_time": "2022-04-10T16:43:06.541Z"
      },
      {
        "duration": 6,
        "start_time": "2022-04-10T17:04:52.630Z"
      },
      {
        "duration": 9,
        "start_time": "2022-04-10T17:05:47.133Z"
      },
      {
        "duration": 38,
        "start_time": "2022-04-10T17:06:14.910Z"
      },
      {
        "duration": 38,
        "start_time": "2022-04-10T17:06:58.330Z"
      },
      {
        "duration": 41,
        "start_time": "2022-04-10T17:07:23.962Z"
      },
      {
        "duration": 7,
        "start_time": "2022-04-10T17:08:26.928Z"
      },
      {
        "duration": 30,
        "start_time": "2022-04-10T17:08:34.334Z"
      },
      {
        "duration": 19,
        "start_time": "2022-04-10T17:08:39.409Z"
      },
      {
        "duration": 20,
        "start_time": "2022-04-10T17:08:44.363Z"
      },
      {
        "duration": 18,
        "start_time": "2022-04-10T17:09:09.855Z"
      },
      {
        "duration": 21,
        "start_time": "2022-04-10T17:09:33.690Z"
      },
      {
        "duration": 21,
        "start_time": "2022-04-10T17:10:04.750Z"
      },
      {
        "duration": 16,
        "start_time": "2022-04-10T17:13:10.968Z"
      },
      {
        "duration": 12,
        "start_time": "2022-04-10T17:18:06.876Z"
      },
      {
        "duration": 18,
        "start_time": "2022-04-10T17:18:26.971Z"
      },
      {
        "duration": 17,
        "start_time": "2022-04-10T17:25:28.437Z"
      },
      {
        "duration": 12,
        "start_time": "2022-04-10T17:27:57.766Z"
      },
      {
        "duration": 75,
        "start_time": "2022-04-11T16:24:30.374Z"
      },
      {
        "duration": 3,
        "start_time": "2022-04-11T16:25:26.663Z"
      },
      {
        "duration": 541,
        "start_time": "2022-04-11T16:26:12.068Z"
      },
      {
        "duration": 211,
        "start_time": "2022-04-11T16:26:12.611Z"
      },
      {
        "duration": 26,
        "start_time": "2022-04-11T16:26:12.825Z"
      },
      {
        "duration": 57,
        "start_time": "2022-04-11T16:26:12.854Z"
      },
      {
        "duration": 5,
        "start_time": "2022-04-11T16:26:12.914Z"
      },
      {
        "duration": 20,
        "start_time": "2022-04-11T16:26:12.921Z"
      },
      {
        "duration": 10,
        "start_time": "2022-04-11T16:26:12.943Z"
      },
      {
        "duration": 34,
        "start_time": "2022-04-11T16:26:12.984Z"
      },
      {
        "duration": 30,
        "start_time": "2022-04-11T16:26:13.021Z"
      },
      {
        "duration": 59,
        "start_time": "2022-04-11T16:26:13.055Z"
      },
      {
        "duration": 124,
        "start_time": "2022-04-11T16:26:13.117Z"
      },
      {
        "duration": 137,
        "start_time": "2022-04-11T16:26:13.244Z"
      },
      {
        "duration": 106,
        "start_time": "2022-04-11T16:26:13.383Z"
      },
      {
        "duration": 15,
        "start_time": "2022-04-11T16:26:13.491Z"
      },
      {
        "duration": 5,
        "start_time": "2022-04-11T16:26:13.508Z"
      },
      {
        "duration": 43,
        "start_time": "2022-04-11T16:26:13.515Z"
      },
      {
        "duration": 15,
        "start_time": "2022-04-11T16:26:13.585Z"
      },
      {
        "duration": 17,
        "start_time": "2022-04-11T16:26:13.602Z"
      },
      {
        "duration": 18,
        "start_time": "2022-04-11T16:26:13.621Z"
      },
      {
        "duration": 44,
        "start_time": "2022-04-11T16:26:13.641Z"
      },
      {
        "duration": 49,
        "start_time": "2022-04-11T16:26:13.688Z"
      },
      {
        "duration": 21,
        "start_time": "2022-04-11T16:26:13.740Z"
      },
      {
        "duration": 36,
        "start_time": "2022-04-11T16:26:13.763Z"
      },
      {
        "duration": 28,
        "start_time": "2022-04-11T16:26:13.801Z"
      },
      {
        "duration": 23,
        "start_time": "2022-04-11T16:26:13.831Z"
      },
      {
        "duration": 39,
        "start_time": "2022-04-11T16:26:13.857Z"
      },
      {
        "duration": 15,
        "start_time": "2022-04-11T16:26:13.899Z"
      },
      {
        "duration": 44,
        "start_time": "2022-04-11T16:26:13.920Z"
      },
      {
        "duration": 7,
        "start_time": "2022-04-11T16:26:13.966Z"
      },
      {
        "duration": 14,
        "start_time": "2022-04-11T16:26:13.975Z"
      },
      {
        "duration": 29,
        "start_time": "2022-04-11T16:26:13.991Z"
      },
      {
        "duration": 25,
        "start_time": "2022-04-11T16:26:14.022Z"
      },
      {
        "duration": 26,
        "start_time": "2022-04-11T16:26:14.050Z"
      },
      {
        "duration": 11,
        "start_time": "2022-04-11T16:26:14.078Z"
      },
      {
        "duration": 13,
        "start_time": "2022-04-11T16:26:14.091Z"
      },
      {
        "duration": 5,
        "start_time": "2022-04-11T16:26:14.106Z"
      },
      {
        "duration": 6,
        "start_time": "2022-04-11T16:26:14.113Z"
      },
      {
        "duration": 6,
        "start_time": "2022-04-11T16:26:14.121Z"
      },
      {
        "duration": 26,
        "start_time": "2022-04-11T16:27:46.707Z"
      },
      {
        "duration": 5,
        "start_time": "2022-04-11T16:36:44.588Z"
      },
      {
        "duration": 8,
        "start_time": "2022-04-11T16:39:11.049Z"
      },
      {
        "duration": 6,
        "start_time": "2022-04-11T16:47:53.723Z"
      },
      {
        "duration": 8,
        "start_time": "2022-04-11T16:47:57.321Z"
      },
      {
        "duration": 2633,
        "start_time": "2022-04-11T16:49:17.713Z"
      },
      {
        "duration": 2333,
        "start_time": "2022-04-11T16:49:47.416Z"
      },
      {
        "duration": 6,
        "start_time": "2022-04-11T16:50:39.707Z"
      },
      {
        "duration": 40,
        "start_time": "2022-04-11T16:50:42.188Z"
      },
      {
        "duration": 6,
        "start_time": "2022-04-11T16:57:01.800Z"
      },
      {
        "duration": 45,
        "start_time": "2022-04-11T16:57:04.890Z"
      },
      {
        "duration": 47,
        "start_time": "2022-04-11T16:57:57.820Z"
      },
      {
        "duration": 46,
        "start_time": "2022-04-11T16:59:13.478Z"
      },
      {
        "duration": 39,
        "start_time": "2022-04-11T17:00:47.045Z"
      },
      {
        "duration": 41,
        "start_time": "2022-04-11T17:01:36.193Z"
      },
      {
        "duration": 9,
        "start_time": "2022-04-11T17:04:07.052Z"
      },
      {
        "duration": 35,
        "start_time": "2022-04-11T17:04:09.987Z"
      },
      {
        "duration": 24,
        "start_time": "2022-04-11T17:04:15.407Z"
      },
      {
        "duration": 32,
        "start_time": "2022-04-11T17:04:20.196Z"
      },
      {
        "duration": 25,
        "start_time": "2022-04-11T17:04:23.349Z"
      },
      {
        "duration": 6,
        "start_time": "2022-04-11T17:07:05.881Z"
      },
      {
        "duration": 32,
        "start_time": "2022-04-11T17:07:08.625Z"
      },
      {
        "duration": 6,
        "start_time": "2022-04-11T17:08:10.953Z"
      },
      {
        "duration": 2485,
        "start_time": "2022-04-11T17:08:14.145Z"
      },
      {
        "duration": 5,
        "start_time": "2022-04-11T17:09:21.000Z"
      },
      {
        "duration": 26,
        "start_time": "2022-04-11T17:09:24.365Z"
      },
      {
        "duration": 17,
        "start_time": "2022-04-11T17:09:41.524Z"
      },
      {
        "duration": 24,
        "start_time": "2022-04-11T17:09:46.706Z"
      },
      {
        "duration": 18,
        "start_time": "2022-04-11T17:09:51.708Z"
      },
      {
        "duration": 21,
        "start_time": "2022-04-11T17:15:06.769Z"
      },
      {
        "duration": 73,
        "start_time": "2022-04-11T17:16:25.951Z"
      },
      {
        "duration": 0,
        "start_time": "2022-04-11T17:16:26.026Z"
      },
      {
        "duration": 0,
        "start_time": "2022-04-11T17:16:26.028Z"
      },
      {
        "duration": 0,
        "start_time": "2022-04-11T17:16:26.029Z"
      },
      {
        "duration": 0,
        "start_time": "2022-04-11T17:16:26.031Z"
      },
      {
        "duration": 513,
        "start_time": "2022-04-11T17:17:06.832Z"
      },
      {
        "duration": 203,
        "start_time": "2022-04-11T17:17:07.348Z"
      },
      {
        "duration": 39,
        "start_time": "2022-04-11T17:17:07.553Z"
      },
      {
        "duration": 41,
        "start_time": "2022-04-11T17:17:07.595Z"
      },
      {
        "duration": 8,
        "start_time": "2022-04-11T17:17:07.639Z"
      },
      {
        "duration": 45,
        "start_time": "2022-04-11T17:17:07.649Z"
      },
      {
        "duration": 17,
        "start_time": "2022-04-11T17:17:07.697Z"
      },
      {
        "duration": 50,
        "start_time": "2022-04-11T17:17:07.717Z"
      },
      {
        "duration": 27,
        "start_time": "2022-04-11T17:17:07.770Z"
      },
      {
        "duration": 34,
        "start_time": "2022-04-11T17:17:07.801Z"
      },
      {
        "duration": 121,
        "start_time": "2022-04-11T17:17:07.838Z"
      },
      {
        "duration": 127,
        "start_time": "2022-04-11T17:17:07.962Z"
      },
      {
        "duration": 102,
        "start_time": "2022-04-11T17:17:08.092Z"
      },
      {
        "duration": 15,
        "start_time": "2022-04-11T17:17:08.196Z"
      },
      {
        "duration": 4,
        "start_time": "2022-04-11T17:17:08.213Z"
      },
      {
        "duration": 67,
        "start_time": "2022-04-11T17:17:08.219Z"
      },
      {
        "duration": 15,
        "start_time": "2022-04-11T17:17:08.288Z"
      },
      {
        "duration": 18,
        "start_time": "2022-04-11T17:17:08.305Z"
      },
      {
        "duration": 17,
        "start_time": "2022-04-11T17:17:08.325Z"
      },
      {
        "duration": 42,
        "start_time": "2022-04-11T17:17:08.344Z"
      },
      {
        "duration": 30,
        "start_time": "2022-04-11T17:17:08.388Z"
      },
      {
        "duration": 20,
        "start_time": "2022-04-11T17:17:08.420Z"
      },
      {
        "duration": 45,
        "start_time": "2022-04-11T17:17:08.443Z"
      },
      {
        "duration": 19,
        "start_time": "2022-04-11T17:17:08.490Z"
      },
      {
        "duration": 24,
        "start_time": "2022-04-11T17:17:08.512Z"
      },
      {
        "duration": 57,
        "start_time": "2022-04-11T17:17:08.539Z"
      },
      {
        "duration": 14,
        "start_time": "2022-04-11T17:17:08.598Z"
      },
      {
        "duration": 17,
        "start_time": "2022-04-11T17:17:08.619Z"
      },
      {
        "duration": 48,
        "start_time": "2022-04-11T17:17:08.639Z"
      },
      {
        "duration": 7,
        "start_time": "2022-04-11T17:17:08.689Z"
      },
      {
        "duration": 30,
        "start_time": "2022-04-11T17:17:08.699Z"
      },
      {
        "duration": 17,
        "start_time": "2022-04-11T17:17:08.732Z"
      },
      {
        "duration": 50,
        "start_time": "2022-04-11T17:17:08.751Z"
      },
      {
        "duration": 16,
        "start_time": "2022-04-11T17:17:08.803Z"
      },
      {
        "duration": 12,
        "start_time": "2022-04-11T17:21:05.751Z"
      },
      {
        "duration": 7,
        "start_time": "2022-04-11T17:21:08.696Z"
      },
      {
        "duration": 9,
        "start_time": "2022-04-11T17:22:51.504Z"
      },
      {
        "duration": 6,
        "start_time": "2022-04-11T17:23:14.902Z"
      },
      {
        "duration": 483,
        "start_time": "2022-04-21T13:37:04.609Z"
      },
      {
        "duration": 204,
        "start_time": "2022-04-21T13:37:05.095Z"
      },
      {
        "duration": 26,
        "start_time": "2022-04-21T13:37:05.301Z"
      },
      {
        "duration": 58,
        "start_time": "2022-04-21T13:37:05.330Z"
      },
      {
        "duration": 5,
        "start_time": "2022-04-21T13:37:05.392Z"
      },
      {
        "duration": 24,
        "start_time": "2022-04-21T13:37:05.400Z"
      },
      {
        "duration": 10,
        "start_time": "2022-04-21T13:37:05.426Z"
      },
      {
        "duration": 63,
        "start_time": "2022-04-21T13:37:05.439Z"
      },
      {
        "duration": 48,
        "start_time": "2022-04-21T13:37:05.539Z"
      },
      {
        "duration": 129,
        "start_time": "2022-04-21T13:37:05.589Z"
      },
      {
        "duration": 136,
        "start_time": "2022-04-21T13:37:05.721Z"
      },
      {
        "duration": 97,
        "start_time": "2022-04-21T13:37:05.859Z"
      },
      {
        "duration": 28,
        "start_time": "2022-04-21T13:37:05.961Z"
      },
      {
        "duration": 5,
        "start_time": "2022-04-21T13:37:05.990Z"
      },
      {
        "duration": 49,
        "start_time": "2022-04-21T13:37:05.997Z"
      },
      {
        "duration": 35,
        "start_time": "2022-04-21T13:37:06.048Z"
      },
      {
        "duration": 17,
        "start_time": "2022-04-21T13:37:06.085Z"
      },
      {
        "duration": 17,
        "start_time": "2022-04-21T13:37:06.104Z"
      },
      {
        "duration": 5,
        "start_time": "2022-04-21T13:37:06.123Z"
      },
      {
        "duration": 62,
        "start_time": "2022-04-21T13:37:06.130Z"
      },
      {
        "duration": 22,
        "start_time": "2022-04-21T13:37:06.194Z"
      },
      {
        "duration": 19,
        "start_time": "2022-04-21T13:37:06.218Z"
      },
      {
        "duration": 52,
        "start_time": "2022-04-21T13:37:06.238Z"
      },
      {
        "duration": 23,
        "start_time": "2022-04-21T13:37:06.291Z"
      },
      {
        "duration": 20,
        "start_time": "2022-04-21T13:37:06.315Z"
      },
      {
        "duration": 12,
        "start_time": "2022-04-21T13:37:06.338Z"
      },
      {
        "duration": 43,
        "start_time": "2022-04-21T13:37:06.352Z"
      },
      {
        "duration": 13,
        "start_time": "2022-04-21T13:37:06.397Z"
      },
      {
        "duration": 6,
        "start_time": "2022-04-21T13:37:06.412Z"
      },
      {
        "duration": 30,
        "start_time": "2022-04-21T13:37:06.420Z"
      },
      {
        "duration": 46,
        "start_time": "2022-04-21T13:37:06.452Z"
      },
      {
        "duration": 24,
        "start_time": "2022-04-21T13:37:06.500Z"
      },
      {
        "duration": 58,
        "start_time": "2022-04-21T13:37:06.527Z"
      },
      {
        "duration": 12,
        "start_time": "2022-04-21T13:37:06.587Z"
      },
      {
        "duration": 6,
        "start_time": "2022-04-21T13:37:06.601Z"
      },
      {
        "duration": 9,
        "start_time": "2022-04-21T13:37:06.610Z"
      },
      {
        "duration": 6,
        "start_time": "2022-04-21T13:37:06.621Z"
      }
    ],
    "colab": {
      "collapsed_sections": [
        "E0vqbgi9ay0H",
        "VUC88oWjTJw2"
      ],
      "name": "yandex_music_project.ipynb",
      "provenance": []
    },
    "kernelspec": {
      "name": "python",
      "display_name": "Python (Pyodide)",
      "language": "python"
    },
    "language_info": {
      "codemirror_mode": {
        "name": "python",
        "version": 3
      },
      "file_extension": ".py",
      "mimetype": "text/x-python",
      "name": "python",
      "nbconvert_exporter": "python",
      "pygments_lexer": "ipython3",
      "version": "3.8"
    },
    "toc": {
      "base_numbering": 1,
      "nav_menu": {},
      "number_sections": true,
      "sideBar": true,
      "skip_h1_title": true,
      "title_cell": "Table of Contents",
      "title_sidebar": "Contents",
      "toc_cell": false,
      "toc_position": {
        "height": "calc(100% - 180px)",
        "left": "10px",
        "top": "150px",
        "width": "390.391px"
      },
      "toc_section_display": true,
      "toc_window_display": true
    }
  },
  "nbformat_minor": 4,
  "nbformat": 4,
  "cells": [
    {
      "cell_type": "markdown",
      "source": "# Сравнение музыкальных предпочтений в Москве и Санкт-Петербурге на основе данных сервиса Яндекс.Музыка",
      "metadata": {
        "id": "E0vqbgi9ay0H"
      }
    },
    {
      "cell_type": "markdown",
      "source": "Сравнение Москвы и Петербурга окружено мифами. Например:\n * Москва — мегаполис, подчинённый жёсткому ритму рабочей недели;\n * Петербург — культурная столица, со своими вкусами.\n\nНа данных Яндекс.Музыки мы сравним поведение пользователей двух столиц.\n\n**Цель исследования** — проверить три гипотезы:\n1. Активность пользователей зависит от дня недели. Причём в Москве и Петербурге это проявляется по-разному.\n2. В понедельник утром в Москве преобладают одни жанры, а в Петербурге — другие. Так же и вечером пятницы преобладают разные жанры — в зависимости от города. \n3. Москва и Петербург предпочитают разные жанры музыки. В Москве чаще слушают поп-музыку, в Петербурге — русский рэп.\n\n**Ход исследования**\n\nДанные о поведении пользователей находятся в файле `yandex_music_project.csv`. \n\nОписание полей:\n\n* `userID` — идентификатор пользователя;\n* `Track` — название трека;  \n* `artist` — имя исполнителя;\n* `genre` — название жанра;\n* `City` — город пользователя;\n* `time` — время начала прослушивания;\n* `Day` — день недели.\n\nПеред проверкой гипотез понадобится обзор данных: \n- Проверка данных на ошибки и оценка их влияния на исследование. \n- Поиск возможности исправить самые критичные ошибки данных.\n \nПлан работы:\n 1. Обзор данных.\n 2. Предобработка данных.\n 3. Проверка гипотез.\n\n",
      "metadata": {
        "id": "VUC88oWjTJw2"
      }
    },
    {
      "cell_type": "markdown",
      "source": "## Обзор данных",
      "metadata": {
        "id": "Ml1hmfXC_Zcs"
      }
    },
    {
      "cell_type": "markdown",
      "source": "Импорт необходимых библиотек.",
      "metadata": {
        "id": "57eAOGIz_Zcs"
      }
    },
    {
      "cell_type": "code",
      "source": "import pandas as pd",
      "metadata": {
        "id": "AXN7PHPN_Zcs"
      },
      "execution_count": 1,
      "outputs": []
    },
    {
      "cell_type": "markdown",
      "source": "Чтение файла с данными и сохранение в `df`:",
      "metadata": {
        "id": "SG23P8tt_Zcs"
      }
    },
    {
      "cell_type": "code",
      "source": "df = pd.read_csv('/datasets/yandex_music_project.csv')",
      "metadata": {
        "id": "fFVu7vqh_Zct"
      },
      "execution_count": 2,
      "outputs": []
    },
    {
      "cell_type": "markdown",
      "source": "Получение первых 10 строк таблицы `df`",
      "metadata": {
        "id": "rDoOMd3uTqnZ"
      }
    },
    {
      "cell_type": "code",
      "source": "df.head(10)",
      "metadata": {
        "id": "oWTVX3gW_Zct"
      },
      "execution_count": 3,
      "outputs": [
        {
          "output_type": "display_data",
          "data": {
            "text/html": [
              "<div>\n",
              "<style scoped>\n",
              "    .dataframe tbody tr th:only-of-type {\n",
              "        vertical-align: middle;\n",
              "    }\n",
              "\n",
              "    .dataframe tbody tr th {\n",
              "        vertical-align: top;\n",
              "    }\n",
              "\n",
              "    .dataframe thead th {\n",
              "        text-align: right;\n",
              "    }\n",
              "</style>\n",
              "<table border=\"1\" class=\"dataframe\">\n",
              "  <thead>\n",
              "    <tr style=\"text-align: right;\">\n",
              "      <th></th>\n",
              "      <th>userID</th>\n",
              "      <th>Track</th>\n",
              "      <th>artist</th>\n",
              "      <th>genre</th>\n",
              "      <th>City</th>\n",
              "      <th>time</th>\n",
              "      <th>Day</th>\n",
              "    </tr>\n",
              "  </thead>\n",
              "  <tbody>\n",
              "    <tr>\n",
              "      <th>0</th>\n",
              "      <td>FFB692EC</td>\n",
              "      <td>Kamigata To Boots</td>\n",
              "      <td>The Mass Missile</td>\n",
              "      <td>rock</td>\n",
              "      <td>Saint-Petersburg</td>\n",
              "      <td>20:28:33</td>\n",
              "      <td>Wednesday</td>\n",
              "    </tr>\n",
              "    <tr>\n",
              "      <th>1</th>\n",
              "      <td>55204538</td>\n",
              "      <td>Delayed Because of Accident</td>\n",
              "      <td>Andreas Rönnberg</td>\n",
              "      <td>rock</td>\n",
              "      <td>Moscow</td>\n",
              "      <td>14:07:09</td>\n",
              "      <td>Friday</td>\n",
              "    </tr>\n",
              "    <tr>\n",
              "      <th>2</th>\n",
              "      <td>20EC38</td>\n",
              "      <td>Funiculì funiculà</td>\n",
              "      <td>Mario Lanza</td>\n",
              "      <td>pop</td>\n",
              "      <td>Saint-Petersburg</td>\n",
              "      <td>20:58:07</td>\n",
              "      <td>Wednesday</td>\n",
              "    </tr>\n",
              "    <tr>\n",
              "      <th>3</th>\n",
              "      <td>A3DD03C9</td>\n",
              "      <td>Dragons in the Sunset</td>\n",
              "      <td>Fire + Ice</td>\n",
              "      <td>folk</td>\n",
              "      <td>Saint-Petersburg</td>\n",
              "      <td>08:37:09</td>\n",
              "      <td>Monday</td>\n",
              "    </tr>\n",
              "    <tr>\n",
              "      <th>4</th>\n",
              "      <td>E2DC1FAE</td>\n",
              "      <td>Soul People</td>\n",
              "      <td>Space Echo</td>\n",
              "      <td>dance</td>\n",
              "      <td>Moscow</td>\n",
              "      <td>08:34:34</td>\n",
              "      <td>Monday</td>\n",
              "    </tr>\n",
              "    <tr>\n",
              "      <th>5</th>\n",
              "      <td>842029A1</td>\n",
              "      <td>Преданная</td>\n",
              "      <td>IMPERVTOR</td>\n",
              "      <td>rusrap</td>\n",
              "      <td>Saint-Petersburg</td>\n",
              "      <td>13:09:41</td>\n",
              "      <td>Friday</td>\n",
              "    </tr>\n",
              "    <tr>\n",
              "      <th>6</th>\n",
              "      <td>4CB90AA5</td>\n",
              "      <td>True</td>\n",
              "      <td>Roman Messer</td>\n",
              "      <td>dance</td>\n",
              "      <td>Moscow</td>\n",
              "      <td>13:00:07</td>\n",
              "      <td>Wednesday</td>\n",
              "    </tr>\n",
              "    <tr>\n",
              "      <th>7</th>\n",
              "      <td>F03E1C1F</td>\n",
              "      <td>Feeling This Way</td>\n",
              "      <td>Polina Griffith</td>\n",
              "      <td>dance</td>\n",
              "      <td>Moscow</td>\n",
              "      <td>20:47:49</td>\n",
              "      <td>Wednesday</td>\n",
              "    </tr>\n",
              "    <tr>\n",
              "      <th>8</th>\n",
              "      <td>8FA1D3BE</td>\n",
              "      <td>И вновь продолжается бой</td>\n",
              "      <td>NaN</td>\n",
              "      <td>ruspop</td>\n",
              "      <td>Moscow</td>\n",
              "      <td>09:17:40</td>\n",
              "      <td>Friday</td>\n",
              "    </tr>\n",
              "    <tr>\n",
              "      <th>9</th>\n",
              "      <td>E772D5C0</td>\n",
              "      <td>Pessimist</td>\n",
              "      <td>NaN</td>\n",
              "      <td>dance</td>\n",
              "      <td>Saint-Petersburg</td>\n",
              "      <td>21:20:49</td>\n",
              "      <td>Wednesday</td>\n",
              "    </tr>\n",
              "  </tbody>\n",
              "</table>\n",
              "</div>"
            ],
            "text/plain": [
              "     userID                        Track            artist   genre  \\\n",
              "0  FFB692EC            Kamigata To Boots  The Mass Missile    rock   \n",
              "1  55204538  Delayed Because of Accident  Andreas Rönnberg    rock   \n",
              "2    20EC38            Funiculì funiculà       Mario Lanza     pop   \n",
              "3  A3DD03C9        Dragons in the Sunset        Fire + Ice    folk   \n",
              "4  E2DC1FAE                  Soul People        Space Echo   dance   \n",
              "5  842029A1                    Преданная         IMPERVTOR  rusrap   \n",
              "6  4CB90AA5                         True      Roman Messer   dance   \n",
              "7  F03E1C1F             Feeling This Way   Polina Griffith   dance   \n",
              "8  8FA1D3BE     И вновь продолжается бой               NaN  ruspop   \n",
              "9  E772D5C0                    Pessimist               NaN   dance   \n",
              "\n",
              "             City        time        Day  \n",
              "0  Saint-Petersburg  20:28:33  Wednesday  \n",
              "1            Moscow  14:07:09     Friday  \n",
              "2  Saint-Petersburg  20:58:07  Wednesday  \n",
              "3  Saint-Petersburg  08:37:09     Monday  \n",
              "4            Moscow  08:34:34     Monday  \n",
              "5  Saint-Petersburg  13:09:41     Friday  \n",
              "6            Moscow  13:00:07  Wednesday  \n",
              "7            Moscow  20:47:49  Wednesday  \n",
              "8            Moscow  09:17:40     Friday  \n",
              "9  Saint-Petersburg  21:20:49  Wednesday  "
            ]
          },
          "metadata": {}
        }
      ]
    },
    {
      "cell_type": "markdown",
      "source": "Получение общей информации о данных в таблице `df`",
      "metadata": {
        "id": "EO73Kwic_Zct"
      }
    },
    {
      "cell_type": "code",
      "source": "df.info()",
      "metadata": {
        "id": "DSf2kIb-_Zct"
      },
      "execution_count": 4,
      "outputs": [
        {
          "name": "stdout",
          "output_type": "stream",
          "text": "<class 'pandas.core.frame.DataFrame'>\n\nRangeIndex: 65079 entries, 0 to 65078\n\nData columns (total 7 columns):\n\n #   Column    Non-Null Count  Dtype \n\n---  ------    --------------  ----- \n\n 0     userID  65079 non-null  object\n\n 1   Track     63848 non-null  object\n\n 2   artist    57876 non-null  object\n\n 3   genre     63881 non-null  object\n\n 4     City    65079 non-null  object\n\n 5   time      65079 non-null  object\n\n 6   Day       65079 non-null  object\n\ndtypes: object(7)\n\nmemory usage: 3.5+ MB\n"
        }
      ]
    },
    {
      "cell_type": "markdown",
      "source": "Итак, в таблице семь столбцов. Тип данных во всех столбцах — `object`.\n\nВ названиях колонок видны три нарушения стиля:\n1. Строчные буквы сочетаются с прописными.\n2. Встречаются пробелы.\n3. Если название колонки состоит из нескольких слов, то их необходимо разделить подчеркиванием \"_\". Нужно использовать snake_case\n\nКоличество значений в столбцах различается. Значит, в данных есть пропущенные значения.",
      "metadata": {
        "id": "TaQ2Iwbr_Zct"
      }
    },
    {
      "cell_type": "markdown",
      "source": "**Выводы**\n\nВ каждой строке таблицы — данные о прослушанном треке. Часть колонок описывает саму композицию: название, исполнителя и жанр. Остальные данные рассказывают о пользователе: из какого он города, когда он слушал музыку. \n\nПредварительно можно утверждать, что, данных достаточно для проверки гипотез. Но встречаются пропуски в данных, а в названиях колонок — расхождения с хорошим стилем.\n\nЧтобы двигаться дальше, нужно устранить проблемы в данных.",
      "metadata": {
        "id": "MCB6-dXG_Zct"
      }
    },
    {
      "cell_type": "markdown",
      "source": "## Предобработка данных",
      "metadata": {
        "id": "SjYF6Ub9_Zct"
      }
    },
    {
      "cell_type": "markdown",
      "source": "### Стиль заголовков\nПеречень названий столбцов таблицы `df`",
      "metadata": {
        "id": "dIaKXr29_Zct"
      }
    },
    {
      "cell_type": "code",
      "source": "df.columns",
      "metadata": {
        "id": "oKOTdF_Q_Zct"
      },
      "execution_count": 5,
      "outputs": [
        {
          "output_type": "display_data",
          "data": {
            "text/plain": [
              "Index(['  userID', 'Track', 'artist', 'genre', '  City  ', 'time', 'Day'], dtype='object')"
            ]
          },
          "metadata": {}
        }
      ]
    },
    {
      "cell_type": "markdown",
      "source": "Приведение названий в соответствие с хорошим стилем",
      "metadata": {
        "id": "zj5534cv_Zct"
      }
    },
    {
      "cell_type": "code",
      "source": "df = df.rename(\n    columns={\n        '  userID': 'user_id',\n        'Track': 'track',\n        '  City  ': 'city',\n        'Day': 'day'\n    }\n)",
      "metadata": {
        "id": "ISlFqs5y_Zct"
      },
      "execution_count": 6,
      "outputs": []
    },
    {
      "cell_type": "markdown",
      "source": "Проверка результатов - перечень названий столбцов",
      "metadata": {
        "id": "1dqbh00J_Zct"
      }
    },
    {
      "cell_type": "code",
      "source": "df.columns",
      "metadata": {
        "id": "d4NOAmTW_Zct"
      },
      "execution_count": 7,
      "outputs": [
        {
          "output_type": "display_data",
          "data": {
            "text/plain": [
              "Index(['user_id', 'track', 'artist', 'genre', 'city', 'time', 'day'], dtype='object')"
            ]
          },
          "metadata": {}
        }
      ]
    },
    {
      "cell_type": "markdown",
      "source": "### Пропуски значений\nПодсчёт пропусков",
      "metadata": {
        "id": "5ISfbcfY_Zct"
      }
    },
    {
      "cell_type": "code",
      "source": "df.isna().sum()",
      "metadata": {
        "id": "RskX29qr_Zct"
      },
      "execution_count": 8,
      "outputs": [
        {
          "execution_count": 8,
          "output_type": "execute_result",
          "data": {
            "text/plain": [
              "user_id       0\n",
              "track      1231\n",
              "artist     7203\n",
              "genre      1198\n",
              "city          0\n",
              "time          0\n",
              "day           0\n",
              "dtype: int64"
            ]
          },
          "metadata": {}
        }
      ]
    },
    {
      "cell_type": "markdown",
      "source": "Не все пропущенные значения влияют на исследование. Так в `track` и `artist` пропуски не важны для нашей работы. Достаточно заменить их явными обозначениями.\n\nНо пропуски в `genre` могут помешать сравнению музыкальных вкусов в Москве и Санкт-Петербурге. На практике было бы правильно установить причину пропусков и восстановить данные. Такой возможности нет в учебном проекте. Придётся:\n* заполнить и эти пропуски явными обозначениями,\n* оценить, насколько они повредят расчётам. ",
      "metadata": {
        "id": "qubhgnlO_Zct"
      }
    },
    {
      "cell_type": "markdown",
      "source": "Перебор названий столбцов в цикле и замена пропущенных значений на `unknown`",
      "metadata": {
        "id": "fSv2laPA_Zct"
      }
    },
    {
      "cell_type": "code",
      "source": "columns_to_replace = df[['track', 'artist', 'genre']]\nfor column in columns_to_replace:\n    df[column] = df[column].fillna('unknown')",
      "metadata": {
        "id": "KplB5qWs_Zct",
        "scrolled": true
      },
      "execution_count": null,
      "outputs": []
    },
    {
      "cell_type": "markdown",
      "source": "Подсчёт пропусков",
      "metadata": {
        "id": "Ilsm-MZo_Zct"
      }
    },
    {
      "cell_type": "code",
      "source": "df.isna().sum()",
      "metadata": {
        "id": "Tq4nYRX4_Zct"
      },
      "execution_count": 10,
      "outputs": [
        {
          "execution_count": 10,
          "output_type": "execute_result",
          "data": {
            "text/plain": [
              "user_id    0\n",
              "track      0\n",
              "artist     0\n",
              "genre      0\n",
              "city       0\n",
              "time       0\n",
              "day        0\n",
              "dtype: int64"
            ]
          },
          "metadata": {}
        }
      ]
    },
    {
      "cell_type": "markdown",
      "source": "### Дубликаты\nПодсчёт явных дубликатов",
      "metadata": {
        "id": "BWKRtBJ3_Zct"
      }
    },
    {
      "cell_type": "code",
      "source": "df.duplicated().sum()",
      "metadata": {
        "id": "36eES_S0_Zct"
      },
      "execution_count": 11,
      "outputs": [
        {
          "execution_count": 11,
          "output_type": "execute_result",
          "data": {
            "text/plain": [
              "3826"
            ]
          },
          "metadata": {}
        }
      ]
    },
    {
      "cell_type": "markdown",
      "source": "Удаление явных дубликатов (с удалением старых индексов и формированием новых)",
      "metadata": {
        "id": "Ot25h6XR_Zct"
      }
    },
    {
      "cell_type": "code",
      "source": "df = df.drop_duplicates().reset_index(drop=True)",
      "metadata": {
        "id": "exFHq6tt_Zct"
      },
      "execution_count": 12,
      "outputs": []
    },
    {
      "cell_type": "markdown",
      "source": "Проверка на отсутствие дубликатов",
      "metadata": {
        "id": "Im2YwBEG_Zct"
      }
    },
    {
      "cell_type": "code",
      "source": "df.duplicated().sum()",
      "metadata": {
        "id": "-8PuNWQ0_Zct"
      },
      "execution_count": 13,
      "outputs": [
        {
          "execution_count": 13,
          "output_type": "execute_result",
          "data": {
            "text/plain": [
              "0"
            ]
          },
          "metadata": {}
        }
      ]
    },
    {
      "cell_type": "markdown",
      "source": "Просмотр уникальных названий жанров для поиска неявных дубликатов",
      "metadata": {
        "id": "eSjWwsOh_Zct"
      }
    },
    {
      "cell_type": "code",
      "source": "sorted(df['genre'].unique())",
      "metadata": {
        "id": "JIUcqzZN_Zct"
      },
      "execution_count": 14,
      "outputs": [
        {
          "execution_count": 14,
          "output_type": "execute_result",
          "data": {
            "text/plain": [
              "['acid',\n",
              " 'acoustic',\n",
              " 'action',\n",
              " 'adult',\n",
              " 'africa',\n",
              " 'afrikaans',\n",
              " 'alternative',\n",
              " 'alternativepunk',\n",
              " 'ambient',\n",
              " 'americana',\n",
              " 'animated',\n",
              " 'anime',\n",
              " 'arabesk',\n",
              " 'arabic',\n",
              " 'arena',\n",
              " 'argentinetango',\n",
              " 'art',\n",
              " 'audiobook',\n",
              " 'author',\n",
              " 'avantgarde',\n",
              " 'axé',\n",
              " 'baile',\n",
              " 'balkan',\n",
              " 'beats',\n",
              " 'bigroom',\n",
              " 'black',\n",
              " 'bluegrass',\n",
              " 'blues',\n",
              " 'bollywood',\n",
              " 'bossa',\n",
              " 'brazilian',\n",
              " 'breakbeat',\n",
              " 'breaks',\n",
              " 'broadway',\n",
              " 'cantautori',\n",
              " 'cantopop',\n",
              " 'canzone',\n",
              " 'caribbean',\n",
              " 'caucasian',\n",
              " 'celtic',\n",
              " 'chamber',\n",
              " 'chanson',\n",
              " 'children',\n",
              " 'chill',\n",
              " 'chinese',\n",
              " 'choral',\n",
              " 'christian',\n",
              " 'christmas',\n",
              " 'classical',\n",
              " 'classicmetal',\n",
              " 'club',\n",
              " 'colombian',\n",
              " 'comedy',\n",
              " 'conjazz',\n",
              " 'contemporary',\n",
              " 'country',\n",
              " 'cuban',\n",
              " 'dance',\n",
              " 'dancehall',\n",
              " 'dancepop',\n",
              " 'dark',\n",
              " 'death',\n",
              " 'deep',\n",
              " 'deutschrock',\n",
              " 'deutschspr',\n",
              " 'dirty',\n",
              " 'disco',\n",
              " 'dnb',\n",
              " 'documentary',\n",
              " 'downbeat',\n",
              " 'downtempo',\n",
              " 'drum',\n",
              " 'dub',\n",
              " 'dubstep',\n",
              " 'eastern',\n",
              " 'easy',\n",
              " 'electronic',\n",
              " 'electropop',\n",
              " 'emo',\n",
              " 'entehno',\n",
              " 'epicmetal',\n",
              " 'estrada',\n",
              " 'ethnic',\n",
              " 'eurofolk',\n",
              " 'european',\n",
              " 'experimental',\n",
              " 'extrememetal',\n",
              " 'fado',\n",
              " 'fairytail',\n",
              " 'film',\n",
              " 'fitness',\n",
              " 'flamenco',\n",
              " 'folk',\n",
              " 'folklore',\n",
              " 'folkmetal',\n",
              " 'folkrock',\n",
              " 'folktronica',\n",
              " 'forró',\n",
              " 'frankreich',\n",
              " 'französisch',\n",
              " 'french',\n",
              " 'funk',\n",
              " 'future',\n",
              " 'gangsta',\n",
              " 'garage',\n",
              " 'german',\n",
              " 'ghazal',\n",
              " 'gitarre',\n",
              " 'glitch',\n",
              " 'gospel',\n",
              " 'gothic',\n",
              " 'grime',\n",
              " 'grunge',\n",
              " 'gypsy',\n",
              " 'handsup',\n",
              " \"hard'n'heavy\",\n",
              " 'hardcore',\n",
              " 'hardstyle',\n",
              " 'hardtechno',\n",
              " 'hip',\n",
              " 'hip-hop',\n",
              " 'hiphop',\n",
              " 'historisch',\n",
              " 'holiday',\n",
              " 'hop',\n",
              " 'horror',\n",
              " 'house',\n",
              " 'hymn',\n",
              " 'idm',\n",
              " 'independent',\n",
              " 'indian',\n",
              " 'indie',\n",
              " 'indipop',\n",
              " 'industrial',\n",
              " 'inspirational',\n",
              " 'instrumental',\n",
              " 'international',\n",
              " 'irish',\n",
              " 'jam',\n",
              " 'japanese',\n",
              " 'jazz',\n",
              " 'jewish',\n",
              " 'jpop',\n",
              " 'jungle',\n",
              " 'k-pop',\n",
              " 'karadeniz',\n",
              " 'karaoke',\n",
              " 'kayokyoku',\n",
              " 'korean',\n",
              " 'laiko',\n",
              " 'latin',\n",
              " 'latino',\n",
              " 'leftfield',\n",
              " 'local',\n",
              " 'lounge',\n",
              " 'loungeelectronic',\n",
              " 'lovers',\n",
              " 'malaysian',\n",
              " 'mandopop',\n",
              " 'marschmusik',\n",
              " 'meditative',\n",
              " 'mediterranean',\n",
              " 'melodic',\n",
              " 'metal',\n",
              " 'metalcore',\n",
              " 'mexican',\n",
              " 'middle',\n",
              " 'minimal',\n",
              " 'miscellaneous',\n",
              " 'modern',\n",
              " 'mood',\n",
              " 'mpb',\n",
              " 'muslim',\n",
              " 'native',\n",
              " 'neoklassik',\n",
              " 'neue',\n",
              " 'new',\n",
              " 'newage',\n",
              " 'newwave',\n",
              " 'nu',\n",
              " 'nujazz',\n",
              " 'numetal',\n",
              " 'oceania',\n",
              " 'old',\n",
              " 'opera',\n",
              " 'orchestral',\n",
              " 'other',\n",
              " 'piano',\n",
              " 'podcasts',\n",
              " 'pop',\n",
              " 'popdance',\n",
              " 'popelectronic',\n",
              " 'popeurodance',\n",
              " 'poprussian',\n",
              " 'post',\n",
              " 'posthardcore',\n",
              " 'postrock',\n",
              " 'power',\n",
              " 'progmetal',\n",
              " 'progressive',\n",
              " 'psychedelic',\n",
              " 'punjabi',\n",
              " 'punk',\n",
              " 'quebecois',\n",
              " 'ragga',\n",
              " 'ram',\n",
              " 'rancheras',\n",
              " 'rap',\n",
              " 'rave',\n",
              " 'reggae',\n",
              " 'reggaeton',\n",
              " 'regional',\n",
              " 'relax',\n",
              " 'religious',\n",
              " 'retro',\n",
              " 'rhythm',\n",
              " 'rnb',\n",
              " 'rnr',\n",
              " 'rock',\n",
              " 'rockabilly',\n",
              " 'rockalternative',\n",
              " 'rockindie',\n",
              " 'rockother',\n",
              " 'romance',\n",
              " 'roots',\n",
              " 'ruspop',\n",
              " 'rusrap',\n",
              " 'rusrock',\n",
              " 'russian',\n",
              " 'salsa',\n",
              " 'samba',\n",
              " 'scenic',\n",
              " 'schlager',\n",
              " 'self',\n",
              " 'sertanejo',\n",
              " 'shanson',\n",
              " 'shoegazing',\n",
              " 'showtunes',\n",
              " 'singer',\n",
              " 'ska',\n",
              " 'skarock',\n",
              " 'slow',\n",
              " 'smooth',\n",
              " 'soft',\n",
              " 'soul',\n",
              " 'soulful',\n",
              " 'sound',\n",
              " 'soundtrack',\n",
              " 'southern',\n",
              " 'specialty',\n",
              " 'speech',\n",
              " 'spiritual',\n",
              " 'sport',\n",
              " 'stonerrock',\n",
              " 'surf',\n",
              " 'swing',\n",
              " 'synthpop',\n",
              " 'synthrock',\n",
              " 'sängerportrait',\n",
              " 'tango',\n",
              " 'tanzorchester',\n",
              " 'taraftar',\n",
              " 'tatar',\n",
              " 'tech',\n",
              " 'techno',\n",
              " 'teen',\n",
              " 'thrash',\n",
              " 'top',\n",
              " 'traditional',\n",
              " 'tradjazz',\n",
              " 'trance',\n",
              " 'tribal',\n",
              " 'trip',\n",
              " 'triphop',\n",
              " 'tropical',\n",
              " 'türk',\n",
              " 'türkçe',\n",
              " 'ukrrock',\n",
              " 'unknown',\n",
              " 'urban',\n",
              " 'uzbek',\n",
              " 'variété',\n",
              " 'vi',\n",
              " 'videogame',\n",
              " 'vocal',\n",
              " 'western',\n",
              " 'world',\n",
              " 'worldbeat',\n",
              " 'ïîï',\n",
              " 'электроника']"
            ]
          },
          "metadata": {}
        }
      ]
    },
    {
      "cell_type": "markdown",
      "source": "Обнаружены следующие неявные дубликаты:\n* *hip*,\n* *hop*,\n* *hip-hop*\n* *электроника*\n* *electronic*\n\nЧтобы очистить от них таблицу, напишем функцию `replace_wrong_genres()` с двумя параметрами: \n* `wrong_genres` — список дубликатов,\n* `correct_genre` — строка с правильным значением.\n\nФункция исправляет колонку `genre` в таблице `df`: заменить каждое значение из списка `wrong_genres` на значение из `correct_genre`.",
      "metadata": {
        "id": "qej-Qmuo_Zct"
      }
    },
    {
      "cell_type": "code",
      "source": "def replace_wrong_genres(wrong_genres, correct_genre):\n    for wrong_genre in wrong_genres:\n        df['genre'] = df['genre'].replace(wrong_genres, correct_genre)",
      "metadata": {
        "id": "ErNDkmns_Zct"
      },
      "execution_count": 15,
      "outputs": []
    },
    {
      "cell_type": "markdown",
      "source": "Устранеие неявных дубликатов вызовом функции `replace_wrong_genres()`",
      "metadata": {
        "id": "aDoBJxbA_Zct"
      }
    },
    {
      "cell_type": "code",
      "source": "wrong_genres = ['hip', 'hop', 'hip-hop']\ncorrect_genre = 'hiphop'\nreplace_wrong_genres(wrong_genres, correct_genre)\nwrong_genres = ['электроника']\ncorrect_genre = 'electronic'\nreplace_wrong_genres(wrong_genres, correct_genre)",
      "metadata": {
        "id": "YN5i2hpmSo09"
      },
      "execution_count": 16,
      "outputs": []
    },
    {
      "cell_type": "markdown",
      "source": "Проверка на неявные дубликаты",
      "metadata": {
        "id": "zQKF16_RG15m"
      }
    },
    {
      "cell_type": "code",
      "source": "sorted(df['genre'].unique())",
      "metadata": {
        "id": "wvixALnFG15m"
      },
      "execution_count": 17,
      "outputs": [
        {
          "execution_count": 17,
          "output_type": "execute_result",
          "data": {
            "text/plain": [
              "['acid',\n",
              " 'acoustic',\n",
              " 'action',\n",
              " 'adult',\n",
              " 'africa',\n",
              " 'afrikaans',\n",
              " 'alternative',\n",
              " 'alternativepunk',\n",
              " 'ambient',\n",
              " 'americana',\n",
              " 'animated',\n",
              " 'anime',\n",
              " 'arabesk',\n",
              " 'arabic',\n",
              " 'arena',\n",
              " 'argentinetango',\n",
              " 'art',\n",
              " 'audiobook',\n",
              " 'author',\n",
              " 'avantgarde',\n",
              " 'axé',\n",
              " 'baile',\n",
              " 'balkan',\n",
              " 'beats',\n",
              " 'bigroom',\n",
              " 'black',\n",
              " 'bluegrass',\n",
              " 'blues',\n",
              " 'bollywood',\n",
              " 'bossa',\n",
              " 'brazilian',\n",
              " 'breakbeat',\n",
              " 'breaks',\n",
              " 'broadway',\n",
              " 'cantautori',\n",
              " 'cantopop',\n",
              " 'canzone',\n",
              " 'caribbean',\n",
              " 'caucasian',\n",
              " 'celtic',\n",
              " 'chamber',\n",
              " 'chanson',\n",
              " 'children',\n",
              " 'chill',\n",
              " 'chinese',\n",
              " 'choral',\n",
              " 'christian',\n",
              " 'christmas',\n",
              " 'classical',\n",
              " 'classicmetal',\n",
              " 'club',\n",
              " 'colombian',\n",
              " 'comedy',\n",
              " 'conjazz',\n",
              " 'contemporary',\n",
              " 'country',\n",
              " 'cuban',\n",
              " 'dance',\n",
              " 'dancehall',\n",
              " 'dancepop',\n",
              " 'dark',\n",
              " 'death',\n",
              " 'deep',\n",
              " 'deutschrock',\n",
              " 'deutschspr',\n",
              " 'dirty',\n",
              " 'disco',\n",
              " 'dnb',\n",
              " 'documentary',\n",
              " 'downbeat',\n",
              " 'downtempo',\n",
              " 'drum',\n",
              " 'dub',\n",
              " 'dubstep',\n",
              " 'eastern',\n",
              " 'easy',\n",
              " 'electronic',\n",
              " 'electropop',\n",
              " 'emo',\n",
              " 'entehno',\n",
              " 'epicmetal',\n",
              " 'estrada',\n",
              " 'ethnic',\n",
              " 'eurofolk',\n",
              " 'european',\n",
              " 'experimental',\n",
              " 'extrememetal',\n",
              " 'fado',\n",
              " 'fairytail',\n",
              " 'film',\n",
              " 'fitness',\n",
              " 'flamenco',\n",
              " 'folk',\n",
              " 'folklore',\n",
              " 'folkmetal',\n",
              " 'folkrock',\n",
              " 'folktronica',\n",
              " 'forró',\n",
              " 'frankreich',\n",
              " 'französisch',\n",
              " 'french',\n",
              " 'funk',\n",
              " 'future',\n",
              " 'gangsta',\n",
              " 'garage',\n",
              " 'german',\n",
              " 'ghazal',\n",
              " 'gitarre',\n",
              " 'glitch',\n",
              " 'gospel',\n",
              " 'gothic',\n",
              " 'grime',\n",
              " 'grunge',\n",
              " 'gypsy',\n",
              " 'handsup',\n",
              " \"hard'n'heavy\",\n",
              " 'hardcore',\n",
              " 'hardstyle',\n",
              " 'hardtechno',\n",
              " 'hiphop',\n",
              " 'historisch',\n",
              " 'holiday',\n",
              " 'horror',\n",
              " 'house',\n",
              " 'hymn',\n",
              " 'idm',\n",
              " 'independent',\n",
              " 'indian',\n",
              " 'indie',\n",
              " 'indipop',\n",
              " 'industrial',\n",
              " 'inspirational',\n",
              " 'instrumental',\n",
              " 'international',\n",
              " 'irish',\n",
              " 'jam',\n",
              " 'japanese',\n",
              " 'jazz',\n",
              " 'jewish',\n",
              " 'jpop',\n",
              " 'jungle',\n",
              " 'k-pop',\n",
              " 'karadeniz',\n",
              " 'karaoke',\n",
              " 'kayokyoku',\n",
              " 'korean',\n",
              " 'laiko',\n",
              " 'latin',\n",
              " 'latino',\n",
              " 'leftfield',\n",
              " 'local',\n",
              " 'lounge',\n",
              " 'loungeelectronic',\n",
              " 'lovers',\n",
              " 'malaysian',\n",
              " 'mandopop',\n",
              " 'marschmusik',\n",
              " 'meditative',\n",
              " 'mediterranean',\n",
              " 'melodic',\n",
              " 'metal',\n",
              " 'metalcore',\n",
              " 'mexican',\n",
              " 'middle',\n",
              " 'minimal',\n",
              " 'miscellaneous',\n",
              " 'modern',\n",
              " 'mood',\n",
              " 'mpb',\n",
              " 'muslim',\n",
              " 'native',\n",
              " 'neoklassik',\n",
              " 'neue',\n",
              " 'new',\n",
              " 'newage',\n",
              " 'newwave',\n",
              " 'nu',\n",
              " 'nujazz',\n",
              " 'numetal',\n",
              " 'oceania',\n",
              " 'old',\n",
              " 'opera',\n",
              " 'orchestral',\n",
              " 'other',\n",
              " 'piano',\n",
              " 'podcasts',\n",
              " 'pop',\n",
              " 'popdance',\n",
              " 'popelectronic',\n",
              " 'popeurodance',\n",
              " 'poprussian',\n",
              " 'post',\n",
              " 'posthardcore',\n",
              " 'postrock',\n",
              " 'power',\n",
              " 'progmetal',\n",
              " 'progressive',\n",
              " 'psychedelic',\n",
              " 'punjabi',\n",
              " 'punk',\n",
              " 'quebecois',\n",
              " 'ragga',\n",
              " 'ram',\n",
              " 'rancheras',\n",
              " 'rap',\n",
              " 'rave',\n",
              " 'reggae',\n",
              " 'reggaeton',\n",
              " 'regional',\n",
              " 'relax',\n",
              " 'religious',\n",
              " 'retro',\n",
              " 'rhythm',\n",
              " 'rnb',\n",
              " 'rnr',\n",
              " 'rock',\n",
              " 'rockabilly',\n",
              " 'rockalternative',\n",
              " 'rockindie',\n",
              " 'rockother',\n",
              " 'romance',\n",
              " 'roots',\n",
              " 'ruspop',\n",
              " 'rusrap',\n",
              " 'rusrock',\n",
              " 'russian',\n",
              " 'salsa',\n",
              " 'samba',\n",
              " 'scenic',\n",
              " 'schlager',\n",
              " 'self',\n",
              " 'sertanejo',\n",
              " 'shanson',\n",
              " 'shoegazing',\n",
              " 'showtunes',\n",
              " 'singer',\n",
              " 'ska',\n",
              " 'skarock',\n",
              " 'slow',\n",
              " 'smooth',\n",
              " 'soft',\n",
              " 'soul',\n",
              " 'soulful',\n",
              " 'sound',\n",
              " 'soundtrack',\n",
              " 'southern',\n",
              " 'specialty',\n",
              " 'speech',\n",
              " 'spiritual',\n",
              " 'sport',\n",
              " 'stonerrock',\n",
              " 'surf',\n",
              " 'swing',\n",
              " 'synthpop',\n",
              " 'synthrock',\n",
              " 'sängerportrait',\n",
              " 'tango',\n",
              " 'tanzorchester',\n",
              " 'taraftar',\n",
              " 'tatar',\n",
              " 'tech',\n",
              " 'techno',\n",
              " 'teen',\n",
              " 'thrash',\n",
              " 'top',\n",
              " 'traditional',\n",
              " 'tradjazz',\n",
              " 'trance',\n",
              " 'tribal',\n",
              " 'trip',\n",
              " 'triphop',\n",
              " 'tropical',\n",
              " 'türk',\n",
              " 'türkçe',\n",
              " 'ukrrock',\n",
              " 'unknown',\n",
              " 'urban',\n",
              " 'uzbek',\n",
              " 'variété',\n",
              " 'vi',\n",
              " 'videogame',\n",
              " 'vocal',\n",
              " 'western',\n",
              " 'world',\n",
              " 'worldbeat',\n",
              " 'ïîï']"
            ]
          },
          "metadata": {}
        }
      ]
    },
    {
      "cell_type": "markdown",
      "source": "**Выводы**\n\nПредобработка обнаружила три проблемы в данных:\n\n- нарушения в стиле заголовков,\n- пропущенные значения,\n- дубликаты — явные и неявные.\n\nЗаголовки исправлены, чтобы упростить работу с таблицей. Без дубликатов исследование станет более точным.\n\nПропущенные значения заменены на `'unknown'`. Ещё предстоит увидеть, не повредят ли исследованию пропуски в колонке `genre`.",
      "metadata": {
        "id": "jz6a9-7HQUDd"
      }
    },
    {
      "cell_type": "markdown",
      "source": "## Проверка гипотез",
      "metadata": {
        "id": "WttZHXH0SqKk"
      }
    },
    {
      "cell_type": "markdown",
      "source": "### Сравнение поведения пользователей двух столиц",
      "metadata": {
        "id": "Im936VVi_Zcu"
      }
    },
    {
      "cell_type": "markdown",
      "source": "Первая гипотеза утверждает, что пользователи по-разному слушают музыку в Москве и Санкт-Петербурге. \n<br>Проверим это предположение по данным о трёх днях недели — понедельнике, среде и пятнице. \n<br>Для этого:\n\n* Разделим пользователей Москвы и Санкт-Петербурга\n* Сравним, сколько треков послушала каждая группа пользователей в понедельник, среду и пятницу.",
      "metadata": {
        "id": "nwt_MuaL_Zcu"
      }
    },
    {
      "cell_type": "markdown",
      "source": "Сначала выполниме каждый из расчётов по отдельности. \n<br>Оценим активность пользователей в каждом городе. \n<br>Сгруппируем данные по городу и посчитаем прослушивания в каждой группе.",
      "metadata": {
        "id": "8Dw_YMmT_Zcu"
      }
    },
    {
      "cell_type": "code",
      "source": "df.groupby('city')['user_id'].count()",
      "metadata": {
        "id": "0_Qs96oh_Zcu"
      },
      "execution_count": 18,
      "outputs": [
        {
          "execution_count": 18,
          "output_type": "execute_result",
          "data": {
            "text/plain": [
              "city\n",
              "Moscow              42741\n",
              "Saint-Petersburg    18512\n",
              "Name: user_id, dtype: int64"
            ]
          },
          "metadata": {}
        }
      ]
    },
    {
      "cell_type": "markdown",
      "source": "В Москве прослушиваний больше, чем в Петербурге. Из этого не следует, что московские пользователи чаще слушают музыку. Просто самих пользователей в Москве больше.\n\nТеперь сгруппируем данные по дню недели и подсчитаем прослушивания в понедельник, среду и пятницу.\n",
      "metadata": {
        "id": "dzli3w8o_Zcu"
      }
    },
    {
      "cell_type": "code",
      "source": "df.groupby('day')['user_id'].count()",
      "metadata": {
        "id": "uZMKjiJz_Zcu"
      },
      "execution_count": 19,
      "outputs": [
        {
          "execution_count": 19,
          "output_type": "execute_result",
          "data": {
            "text/plain": [
              "day\n",
              "Friday       21840\n",
              "Monday       21354\n",
              "Wednesday    18059\n",
              "Name: user_id, dtype: int64"
            ]
          },
          "metadata": {}
        }
      ]
    },
    {
      "cell_type": "markdown",
      "source": "В среднем пользователи из двух городов менее активны по средам. Но картина может измениться, если рассмотреть каждый город в отдельности.",
      "metadata": {
        "id": "cC2tNrlL_Zcu"
      }
    },
    {
      "cell_type": "markdown",
      "source": "Создание функции `number_tracks()`, которая посчитает прослушивания для заданного дня и города. \n<br>Ей понадобятся два параметра:\n* день недели,\n* название города.",
      "metadata": {
        "id": "POzs8bGa_Zcu"
      }
    },
    {
      "cell_type": "code",
      "source": "# Объявляется функция с двумя параметрами: day, city.\ndef number_tracks (day, city):\n# В переменной track_list сохраняются те строки таблицы df, для которых \n# значение в столбце 'day' равно параметру day и одновременно значение\n# в столбце 'city' равно параметру city (используйте последовательную фильтрацию\n# с помощью логической индексации).\n    track_list = df[df['day'] == day]\n    track_list = track_list[track_list['city'] == city]\n# В переменной track_list_count сохраняется число значений столбца 'user_id',\n# рассчитанное методом count() для таблицы track_list.\n    track_list_count = track_list['user_id'].count()\n# Функция возвращает число - значение track_list_count.\n    return track_list_count",
      "metadata": {
        "id": "Nz3GdQB1_Zcu",
        "trusted": true
      },
      "execution_count": 1,
      "outputs": []
    },
    {
      "cell_type": "markdown",
      "source": "Вызов `number_tracks()` шесть раз, меняя значение параметров — так, чтобы получить данные для каждого города в каждый из трёх дней.",
      "metadata": {
        "id": "ytf7xFrFJQ2r"
      }
    },
    {
      "cell_type": "code",
      "source": "# количество прослушиваний в Москве по понедельникам\ndisplay(number_tracks ('Monday', 'Moscow'))",
      "metadata": {
        "id": "rJcRATNQ_Zcu"
      },
      "execution_count": 21,
      "outputs": [
        {
          "output_type": "display_data",
          "data": {
            "text/plain": [
              "15740"
            ]
          },
          "metadata": {}
        }
      ]
    },
    {
      "cell_type": "code",
      "source": "# количество прослушиваний в Санкт-Петербурге по понедельникам\ndisplay(number_tracks ('Monday', 'Saint-Petersburg'))",
      "metadata": {
        "id": "hq_ncZ5T_Zcu"
      },
      "execution_count": 22,
      "outputs": [
        {
          "output_type": "display_data",
          "data": {
            "text/plain": [
              "5614"
            ]
          },
          "metadata": {}
        }
      ]
    },
    {
      "cell_type": "code",
      "source": "# количество прослушиваний в Москве по средам\ndisplay(number_tracks ('Wednesday', 'Moscow'))",
      "metadata": {
        "id": "_NTy2VPU_Zcu"
      },
      "execution_count": 23,
      "outputs": [
        {
          "output_type": "display_data",
          "data": {
            "text/plain": [
              "11056"
            ]
          },
          "metadata": {}
        }
      ]
    },
    {
      "cell_type": "code",
      "source": "# количество прослушиваний в Санкт-Петербурге по средам\ndisplay(number_tracks ('Wednesday', 'Saint-Petersburg'))",
      "metadata": {
        "id": "j2y3TAwo_Zcu"
      },
      "execution_count": 24,
      "outputs": [
        {
          "output_type": "display_data",
          "data": {
            "text/plain": [
              "7003"
            ]
          },
          "metadata": {}
        }
      ]
    },
    {
      "cell_type": "code",
      "source": "# количество прослушиваний в Москве по пятницам\ndisplay(number_tracks ('Friday', 'Moscow'))",
      "metadata": {
        "id": "vYDw5u_K_Zcu"
      },
      "execution_count": 25,
      "outputs": [
        {
          "output_type": "display_data",
          "data": {
            "text/plain": [
              "15945"
            ]
          },
          "metadata": {}
        }
      ]
    },
    {
      "cell_type": "code",
      "source": "# количество прослушиваний в Санкт-Петербурге по пятницам\ndisplay(number_tracks ('Friday', 'Saint-Petersburg'))",
      "metadata": {
        "id": "8_yzFtW3_Zcu"
      },
      "execution_count": 26,
      "outputs": [
        {
          "output_type": "display_data",
          "data": {
            "text/plain": [
              "5895"
            ]
          },
          "metadata": {}
        }
      ]
    },
    {
      "cell_type": "markdown",
      "source": "Создадим c помощью конструктора `pd.DataFrame` таблицу, где\n* названия колонок — `['city', 'monday', 'wednesday', 'friday']`;\n* данные — результаты, которые вы получили с помощью `number_tracks`.",
      "metadata": {
        "id": "7QXffbO-_Zcu"
      }
    },
    {
      "cell_type": "code",
      "source": "columns = ['city', 'monday', 'wednesday', 'friday']\ndata = [\n    ['Moscow', 15740, 11056, 15945],\n    ['Saint-Petersburg', 5614, 7003, 5895]\n]\npd.DataFrame(data=data, columns=columns)",
      "metadata": {
        "id": "APAcLpOr_Zcu"
      },
      "execution_count": 27,
      "outputs": [
        {
          "execution_count": 27,
          "output_type": "execute_result",
          "data": {
            "text/html": [
              "<div>\n",
              "<style scoped>\n",
              "    .dataframe tbody tr th:only-of-type {\n",
              "        vertical-align: middle;\n",
              "    }\n",
              "\n",
              "    .dataframe tbody tr th {\n",
              "        vertical-align: top;\n",
              "    }\n",
              "\n",
              "    .dataframe thead th {\n",
              "        text-align: right;\n",
              "    }\n",
              "</style>\n",
              "<table border=\"1\" class=\"dataframe\">\n",
              "  <thead>\n",
              "    <tr style=\"text-align: right;\">\n",
              "      <th></th>\n",
              "      <th>city</th>\n",
              "      <th>monday</th>\n",
              "      <th>wednesday</th>\n",
              "      <th>friday</th>\n",
              "    </tr>\n",
              "  </thead>\n",
              "  <tbody>\n",
              "    <tr>\n",
              "      <th>0</th>\n",
              "      <td>Moscow</td>\n",
              "      <td>15740</td>\n",
              "      <td>11056</td>\n",
              "      <td>15945</td>\n",
              "    </tr>\n",
              "    <tr>\n",
              "      <th>1</th>\n",
              "      <td>Saint-Petersburg</td>\n",
              "      <td>5614</td>\n",
              "      <td>7003</td>\n",
              "      <td>5895</td>\n",
              "    </tr>\n",
              "  </tbody>\n",
              "</table>\n",
              "</div>"
            ],
            "text/plain": [
              "               city  monday  wednesday  friday\n",
              "0            Moscow   15740      11056   15945\n",
              "1  Saint-Petersburg    5614       7003    5895"
            ]
          },
          "metadata": {}
        }
      ]
    },
    {
      "cell_type": "markdown",
      "source": "**Выводы**\n\nДанные показывают разницу поведения пользователей:\n\n- В Москве пик прослушиваний приходится на понедельник и пятницу, а в среду заметен спад.\n- В Петербурге, наоборот, больше слушают музыку по средам. Активность в понедельник и пятницу здесь почти в равной мере уступает среде.\n\nЗначит, данные говорят в пользу первой гипотезы.",
      "metadata": {
        "id": "-EgPIHYu_Zcu"
      }
    },
    {
      "cell_type": "markdown",
      "source": "### Музыка в начале и в конце недели",
      "metadata": {
        "id": "atZAxtq4_Zcu"
      }
    },
    {
      "cell_type": "markdown",
      "source": "Согласно второй гипотезе, утром в понедельник в Москве преобладают одни жанры, а в Петербурге — другие. Так же и вечером пятницы преобладают разные жанры — в зависимости от города.",
      "metadata": {
        "id": "eXrQqXFH_Zcu"
      }
    },
    {
      "cell_type": "markdown",
      "source": "Сохраним таблицы с данными в две переменные:\n* по Москве — в `moscow_general`;\n* по Санкт-Петербургу — в `spb_general`.",
      "metadata": {
        "id": "S8UcW6Hw_Zcu"
      }
    },
    {
      "cell_type": "code",
      "source": "moscow_general = df[df['city'] == 'Moscow']",
      "metadata": {
        "id": "qeaFfM_P_Zcu"
      },
      "execution_count": 28,
      "outputs": []
    },
    {
      "cell_type": "code",
      "source": "spb_general = df[df['city'] == 'Saint-Petersburg']",
      "metadata": {
        "id": "ORaVRKto_Zcu"
      },
      "execution_count": 29,
      "outputs": []
    },
    {
      "cell_type": "markdown",
      "source": "Создание функции `genre_weekday()` с четырьмя параметрами:\n* таблица (датафрейм) с данными,\n* день недели,\n* начальная временная метка в формате 'hh:mm', \n* последняя временная метка в формате 'hh:mm'.\n\nФункция возвращает информацию о топ-10 жанров тех треков, которые прослушивали в указанный день, в промежутке между двумя отметками времени.",
      "metadata": {
        "id": "MEJV-CX2_Zcu"
      }
    },
    {
      "cell_type": "code",
      "source": "# Объявление функции genre_weekday() с параметрами table, day, time1, time2,\n# которая возвращает информацию о самых популярных жанрах в указанный день в\n# заданное время:\ndef genre_weekday(table, day, time1, time2):\n# 1) в переменную genre_df сохраняются те строки переданного датафрейма table, для\n#    которых одновременно:\n#    - значение в столбце day равно значению аргумента day\n#    - значение в столбце time больше значения аргумента time1\n#    - значение в столбце time меньше значения аргумента time2\n#    Используйте последовательную фильтрацию с помощью логической индексации.\n    genre_df = table[table['day'] == day]\n    genre_df = genre_df[genre_df['time'] > time1]\n    genre_df = genre_df[genre_df['time'] < time2]\n# 2) сгруппировать датафрейм genre_df по столбцу genre, взять один из его\n#    столбцов и посчитать методом count() количество записей для каждого из\n#    присутствующих жанров, получившийся Series записать в переменную\n#    genre_df_count\n    genre_df_count = genre_df.groupby('genre')['user_id'].count()\n# 3) отсортировать genre_df_count по убыванию встречаемости и сохранить\n#    в переменную genre_df_sorted\n    genre_df_sorted = genre_df_count.sort_values(ascending=False)\n# 4) вернуть Series из 10 первых значений genre_df_sorted, это будут топ-10\n#    популярных жанров (в указанный день, в заданное время)\n    return genre_df_sorted.head(10)",
      "metadata": {
        "id": "laJT9BYl_Zcu"
      },
      "execution_count": 30,
      "outputs": []
    },
    {
      "cell_type": "markdown",
      "source": "Cравнение результатов функции `genre_weekday()` для Москвы и Санкт-Петербурга в понедельник утром (с 7:00 до 11:00) и в пятницу вечером (с 17:00 до 23:00):",
      "metadata": {
        "id": "la2s2_PF_Zcu"
      }
    },
    {
      "cell_type": "code",
      "source": "# вызов функции для утра понедельника в Москве (вместо df — таблица moscow_general)\ndisplay(genre_weekday(moscow_general, 'Monday', '07:00', '11:00'))",
      "metadata": {
        "id": "yz7itPUQ_Zcu"
      },
      "execution_count": 31,
      "outputs": [
        {
          "output_type": "display_data",
          "data": {
            "text/plain": [
              "genre\n",
              "pop            781\n",
              "dance          549\n",
              "electronic     480\n",
              "rock           474\n",
              "hiphop         286\n",
              "ruspop         186\n",
              "world          181\n",
              "rusrap         175\n",
              "alternative    164\n",
              "unknown        161\n",
              "Name: user_id, dtype: int64"
            ]
          },
          "metadata": {}
        }
      ]
    },
    {
      "cell_type": "code",
      "source": "# вызов функции для утра понедельника в Петербурге (вместо df — таблица spb_general)\ndisplay(genre_weekday(spb_general, 'Monday', '07:00', '11:00'))",
      "metadata": {
        "id": "kwUcHPdy_Zcu"
      },
      "execution_count": 32,
      "outputs": [
        {
          "output_type": "display_data",
          "data": {
            "text/plain": [
              "genre\n",
              "pop            218\n",
              "dance          182\n",
              "rock           162\n",
              "electronic     147\n",
              "hiphop          80\n",
              "ruspop          64\n",
              "alternative     58\n",
              "rusrap          55\n",
              "jazz            44\n",
              "classical       40\n",
              "Name: user_id, dtype: int64"
            ]
          },
          "metadata": {}
        }
      ]
    },
    {
      "cell_type": "code",
      "source": "# вызов функции для вечера пятницы в Москве\ndisplay(genre_weekday(moscow_general, 'Friday', '17:00', '23:00'))",
      "metadata": {
        "id": "EzXVRE1o_Zcu"
      },
      "execution_count": 33,
      "outputs": [
        {
          "output_type": "display_data",
          "data": {
            "text/plain": [
              "genre\n",
              "pop            713\n",
              "rock           517\n",
              "dance          495\n",
              "electronic     482\n",
              "hiphop         273\n",
              "world          208\n",
              "ruspop         170\n",
              "alternative    163\n",
              "classical      163\n",
              "rusrap         142\n",
              "Name: user_id, dtype: int64"
            ]
          },
          "metadata": {}
        }
      ]
    },
    {
      "cell_type": "code",
      "source": "# вызов функции для вечера пятницы в Петербурге\ndisplay(genre_weekday(spb_general, 'Friday', '17:00', '23:00'))",
      "metadata": {
        "id": "JZaEKu5v_Zcu"
      },
      "execution_count": 34,
      "outputs": [
        {
          "output_type": "display_data",
          "data": {
            "text/plain": [
              "genre\n",
              "pop            256\n",
              "electronic     216\n",
              "rock           216\n",
              "dance          210\n",
              "hiphop          97\n",
              "alternative     63\n",
              "jazz            61\n",
              "classical       60\n",
              "rusrap          59\n",
              "world           54\n",
              "Name: user_id, dtype: int64"
            ]
          },
          "metadata": {}
        }
      ]
    },
    {
      "cell_type": "markdown",
      "source": "**Выводы**\n\nЕсли сравнить топ-10 жанров в понедельник утром, можно сделать такие выводы:\n\n1. В Москве и Петербурге слушают похожую музыку. Единственное отличие — в московский рейтинг вошёл жанр “world”, а в петербургский — джаз и классика.\n\n2. В Москве пропущенных значений оказалось так много, что значение `'unknown'` заняло десятое место среди самых популярных жанров. Значит, пропущенные значения занимают существенную долю в данных и угрожают достоверности исследования.\n\nВечер пятницы не меняет эту картину. Некоторые жанры поднимаются немного выше, другие спускаются, но в целом топ-10 остаётся тем же самым.\n\nТаким образом, вторая гипотеза подтвердилась лишь частично:\n* Пользователи слушают похожую музыку в начале недели и в конце.\n* Разница между Москвой и Петербургом не слишком выражена. В Москве чаще слушают русскую популярную музыку, в Петербурге — джаз.\n\nОднако пропуски в данных ставят под сомнение этот результат. В Москве их так много, что рейтинг топ-10 мог бы выглядеть иначе, если бы не утерянные  данные о жанрах.",
      "metadata": {
        "id": "wrCe4MNX_Zcu"
      }
    },
    {
      "cell_type": "markdown",
      "source": "### Жанровые предпочтения в Москве и Петербурге\n\nГипотеза: Петербург — столица рэпа, музыку этого жанра там слушают чаще, чем в Москве.  А Москва — город контрастов, в котором, тем не менее, преобладает поп-музыка.",
      "metadata": {
        "id": "JolODAqr_Zcu"
      }
    },
    {
      "cell_type": "markdown",
      "source": "Сгруппируем таблицу `moscow_general` по жанру и посчитаем прослушивания треков каждого жанра. Затем отсортируем результат в порядке убывания и сохраним его в таблице `moscow_genres`.",
      "metadata": {
        "id": "DlegSvaT_Zcu"
      }
    },
    {
      "cell_type": "code",
      "source": "moscow_genres = moscow_general.groupby('genre')['genre'].count().sort_values(ascending=False)",
      "metadata": {
        "id": "r19lIPke_Zcu"
      },
      "execution_count": 35,
      "outputs": []
    },
    {
      "cell_type": "markdown",
      "source": "Просмотр первых 10 строк moscow_genres",
      "metadata": {
        "id": "6kMuomxTiIr8"
      }
    },
    {
      "cell_type": "code",
      "source": "display(moscow_genres.head(10))",
      "metadata": {
        "id": "WhCSooF8_Zcv"
      },
      "execution_count": 36,
      "outputs": [
        {
          "output_type": "display_data",
          "data": {
            "text/plain": [
              "genre\n",
              "pop            5892\n",
              "dance          4435\n",
              "rock           3965\n",
              "electronic     3786\n",
              "hiphop         2096\n",
              "classical      1616\n",
              "world          1432\n",
              "alternative    1379\n",
              "ruspop         1372\n",
              "rusrap         1161\n",
              "Name: genre, dtype: int64"
            ]
          },
          "metadata": {}
        }
      ]
    },
    {
      "cell_type": "markdown",
      "source": "Повторим то же и для Петербурга.",
      "metadata": {
        "id": "cnPG2vnN_Zcv"
      }
    },
    {
      "cell_type": "code",
      "source": "spb_genres = spb_general.groupby('genre')['genre'].count().sort_values(ascending=False)",
      "metadata": {
        "id": "gluLIpE7_Zcv"
      },
      "execution_count": 37,
      "outputs": []
    },
    {
      "cell_type": "markdown",
      "source": "Просмотр первых 10 строк spb_genres",
      "metadata": {
        "id": "5Doha_ODgyQ8"
      }
    },
    {
      "cell_type": "code",
      "source": "display(spb_genres.head(10))",
      "metadata": {
        "id": "uaGJHjVU_Zcv"
      },
      "execution_count": 38,
      "outputs": [
        {
          "output_type": "display_data",
          "data": {
            "text/plain": [
              "genre\n",
              "pop            2431\n",
              "dance          1932\n",
              "rock           1879\n",
              "electronic     1737\n",
              "hiphop          960\n",
              "alternative     649\n",
              "classical       646\n",
              "rusrap          564\n",
              "ruspop          538\n",
              "world           515\n",
              "Name: genre, dtype: int64"
            ]
          },
          "metadata": {}
        }
      ]
    },
    {
      "cell_type": "markdown",
      "source": "**Выводы**",
      "metadata": {
        "id": "RY51YJYu_Zcv"
      }
    },
    {
      "cell_type": "markdown",
      "source": "Гипотеза частично подтвердилась:\n* Поп-музыка — самый популярный жанр в Москве, как и предполагала гипотеза. Более того, в топ-10 жанров встречается близкий жанр — русская популярная музыка.\n* Вопреки ожиданиям, рэп одинаково популярен в Москве и Петербурге. \n",
      "metadata": {
        "id": "nVhnJEm__Zcv"
      }
    },
    {
      "cell_type": "markdown",
      "source": "## Итоги исследования",
      "metadata": {
        "id": "ykKQ0N65_Zcv"
      }
    },
    {
      "cell_type": "markdown",
      "source": "В ходе исследования проверены три гипотезы и установлено:\n\n1. День недели по-разному влияет на активность пользователей в Москве и Петербурге. \n\nПервая гипотеза полностью подтвердилась.\n\n2. Музыкальные предпочтения не сильно меняются в течение недели — будь то Москва или Петербург. Небольшие различия заметны в начале недели, по понедельникам:\n* в Москве слушают музыку жанра “world”,\n* в Петербурге — джаз и классику.\n\nТаким образом, вторая гипотеза подтвердилась лишь отчасти. Этот результат мог оказаться иным, если бы не пропуски в данных.\n\n3. Во вкусах пользователей Москвы и Петербурга больше общего чем различий. Вопреки ожиданиям, предпочтения жанров в Петербурге напоминают московские.\n\nТретья гипотеза не подтвердилась. Если различия в предпочтениях и существуют, на основной массе пользователей они незаметны.\n\n**На практике исследования содержат проверки статистических гипотез.**\nИз данных одного сервиса не всегда можно сделать вывод о всех жителях города.",
      "metadata": {
        "id": "tjUwbHb3_Zcv"
      }
    }
  ]
}
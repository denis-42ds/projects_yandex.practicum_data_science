{
  "cells": [
    {
      "cell_type": "markdown",
      "metadata": {
        "id": "-8CRPvWC7EjK"
      },
      "source": [
        "# Определение перспективного продукта для интернет-магазина"
      ]
    },
    {
      "cell_type": "markdown",
      "metadata": {
        "id": "IoG0AMNW7EjK"
      },
      "source": [
        "Вы работаете в интернет-магазине «Стримчик», который продаёт по всему миру компьютерные игры. Из открытых источников доступны исторические данные о продажах игр, оценки пользователей и экспертов, жанры и платформы (например, Xbox или PlayStation). Вам нужно выявить определяющие успешность игры закономерности. Это позволит сделать ставку на потенциально популярный продукт и спланировать рекламные кампании.\n",
        "\n",
        "Перед вами данные до 2016 года. Представим, что сейчас декабрь 2016 г., и вы планируете кампанию на 2017-й. Нужно отработать принцип работы с данными. Неважно, прогнозируете ли вы продажи на 2017 год по данным 2016-го или же 2027-й — по данным 2026 года.\n",
        "\n",
        "В наборе данных попадается аббревиатура ESRB (Entertainment Software Rating Board) — это ассоциация, определяющая возрастной рейтинг компьютерных игр. ESRB оценивает игровой контент и присваивает ему подходящую возрастную категорию, например, «Для взрослых», «Для детей младшего возраста» или «Для подростков»."
      ]
    },
    {
      "cell_type": "markdown",
      "metadata": {
        "id": "QIaTjsF57EjL"
      },
      "source": [
        "### Инструкция по выполнению проекта"
      ]
    },
    {
      "cell_type": "markdown",
      "metadata": {
        "id": "PZZAazuQ7EjM"
      },
      "source": [
        "<b>Шаг 1. Откройте файл с данными и изучите общую информацию</b>\n",
        "\n",
        "Путь к файлу: /datasets/games.csv.\n",
        "\n",
        "<b>Шаг 2. Подготовьте данные</b>\n",
        "- Замените названия столбцов (приведите к нижнему регистру);\n",
        "- Преобразуйте данные в нужные типы. Опишите, в каких столбцах заменили тип данных и почему;\n",
        "- Обработайте пропуски при необходимости:\n",
        "  - Объясните, почему заполнили пропуски определённым образом или почему не стали это делать;\n",
        "  - Опишите причины, которые могли привести к пропускам;\n",
        "  - Обратите внимание на аббревиатуру 'tbd' в столбце с оценкой пользователей. Отдельно разберите это значение и опишите, как его обработать;\n",
        " - Посчитайте суммарные продажи во всех регионах и запишите их в отдельный столбец.\n",
        "\n",
        "<b>Шаг 3. Проведите исследовательский анализ данных</b>\n",
        " - Посмотрите, сколько игр выпускалось в разные годы. Важны ли данные за все периоды?\n",
        " - Посмотрите, как менялись продажи по платформам. Выберите платформы с наибольшими суммарными продажами и постройте распределение по годам. За какой характерный срок появляются новые и исчезают старые платформы?\n",
        " - Возьмите данные за соответствующий актуальный период. Актуальный период определите самостоятельно в результате исследования предыдущих вопросов. Основной фактор — эти данные помогут построить прогноз на 2017 год.\n",
        " - Не учитывайте в работе данные за предыдущие годы.\n",
        " - Какие платформы лидируют по продажам, растут или падают? Выберите несколько потенциально прибыльных платформ.\n",
        " - Постройте график «ящик с усами» по глобальным продажам игр в разбивке по платформам. Опишите результат.\n",
        " - Посмотрите, как влияют на продажи внутри одной популярной платформы отзывы пользователей и критиков. Постройте диаграмму рассеяния и посчитайте корреляцию между отзывами и продажами. Сформулируйте выводы.\n",
        " - Соотнесите выводы с продажами игр на других платформах.\n",
        " - Посмотрите на общее распределение игр по жанрам. Что можно сказать о самых прибыльных жанрах? Выделяются ли жанры с высокими и низкими продажами?\n",
        "\n",
        "<b>Шаг 4. Составьте портрет пользователя каждого региона</b>\n",
        "\n",
        "Определите для пользователя каждого региона (NA, EU, JP):\n",
        " - Самые популярные платформы (топ-5). Опишите различия в долях продаж.\n",
        " - Самые популярные жанры (топ-5). Поясните разницу.\n",
        " - Влияет ли рейтинг ESRB на продажи в отдельном регионе?\n",
        "\n",
        "<b>Шаг 5. Проверьте гипотезы</b>\n",
        " - Средние пользовательские рейтинги платформ Xbox One и PC одинаковые;\n",
        " - Средние пользовательские рейтинги жанров Action (англ. «действие», экшен-игры) и Sports (англ. «спортивные соревнования») разные.\n",
        "Задайте самостоятельно пороговое значение alpha.\n",
        "Поясните:\n",
        " - Как вы сформулировали нулевую и альтернативную гипотезы;\n",
        " - Какой критерий применили для проверки гипотез и почему.\n",
        "\n",
        "<b>Шаг 6. Напишите общий вывод</b>"
      ]
    },
    {
      "cell_type": "markdown",
      "metadata": {
        "id": "k4I8lLQN7EjN"
      },
      "source": [
        "## Знакомство с данными"
      ]
    },
    {
      "cell_type": "markdown",
      "metadata": {
        "id": "L8VSA9TU7EjO"
      },
      "source": [
        "<b>Описание данных</b>\n",
        "\n",
        "Name — название игры\n",
        "\n",
        "Platform — платформа\n",
        "\n",
        "Year_of_Release — год выпуска\n",
        "\n",
        "Genre — жанр игры\n",
        "\n",
        "NA_sales — продажи в Северной Америке (миллионы проданных копий)\n",
        "\n",
        "EU_sales — продажи в Европе (миллионы проданных копий)\n",
        "\n",
        "JP_sales — продажи в Японии (миллионы проданных копий)\n",
        "\n",
        "Other_sales — продажи в других странах (миллионы проданных копий)\n",
        "\n",
        "Critic_Score — оценка критиков (максимум 100)\n",
        "\n",
        "User_Score — оценка пользователей (максимум 10)\n",
        "\n",
        "Rating — рейтинг от организации ESRB (англ. Entertainment Software Rating Board). Эта ассоциация определяет рейтинг компьютерных игр и присваивает им подходящую возрастную категорию.\n",
        "\n",
        "Данные за 2016 год могут быть неполными."
      ]
    },
    {
      "cell_type": "markdown",
      "metadata": {
        "id": "KJ93BMrI7EjO"
      },
      "source": [
        "<b>Импортируем необходимые для исследования библиотеки.</b>"
      ]
    },
    {
      "cell_type": "code",
      "execution_count": null,
      "metadata": {
        "id": "C3pHzMEg7EjP"
      },
      "outputs": [],
      "source": [
        "import pandas as pd\n",
        "import numpy as np\n",
        "import matplotlib.pyplot as plt\n",
        "import seaborn as sns\n",
        "from scipy import stats as st"
      ]
    },
    {
      "cell_type": "markdown",
      "metadata": {
        "id": "6YqwHdFR7EjR"
      },
      "source": [
        "Чтение датасета и первичное изучение информации."
      ]
    },
    {
      "cell_type": "code",
      "execution_count": null,
      "metadata": {
        "scrolled": false,
        "id": "97yoeKpn7EjR",
        "outputId": "af204a02-d32f-4191-b8c8-27976644f17d"
      },
      "outputs": [
        {
          "name": "stdout",
          "output_type": "stream",
          "text": [
            "<class 'pandas.core.frame.DataFrame'>\n",
            "RangeIndex: 16715 entries, 0 to 16714\n",
            "Data columns (total 11 columns):\n",
            " #   Column           Non-Null Count  Dtype  \n",
            "---  ------           --------------  -----  \n",
            " 0   Name             16713 non-null  object \n",
            " 1   Platform         16715 non-null  object \n",
            " 2   Year_of_Release  16446 non-null  float64\n",
            " 3   Genre            16713 non-null  object \n",
            " 4   NA_sales         16715 non-null  float64\n",
            " 5   EU_sales         16715 non-null  float64\n",
            " 6   JP_sales         16715 non-null  float64\n",
            " 7   Other_sales      16715 non-null  float64\n",
            " 8   Critic_Score     8137 non-null   float64\n",
            " 9   User_Score       10014 non-null  object \n",
            " 10  Rating           9949 non-null   object \n",
            "dtypes: float64(6), object(5)\n",
            "memory usage: 1.4+ MB\n"
          ]
        },
        {
          "data": {
            "text/html": [
              "<div>\n",
              "<style scoped>\n",
              "    .dataframe tbody tr th:only-of-type {\n",
              "        vertical-align: middle;\n",
              "    }\n",
              "\n",
              "    .dataframe tbody tr th {\n",
              "        vertical-align: top;\n",
              "    }\n",
              "\n",
              "    .dataframe thead th {\n",
              "        text-align: right;\n",
              "    }\n",
              "</style>\n",
              "<table border=\"1\" class=\"dataframe\">\n",
              "  <thead>\n",
              "    <tr style=\"text-align: right;\">\n",
              "      <th></th>\n",
              "      <th>Name</th>\n",
              "      <th>Platform</th>\n",
              "      <th>Year_of_Release</th>\n",
              "      <th>Genre</th>\n",
              "      <th>NA_sales</th>\n",
              "      <th>EU_sales</th>\n",
              "      <th>JP_sales</th>\n",
              "      <th>Other_sales</th>\n",
              "      <th>Critic_Score</th>\n",
              "      <th>User_Score</th>\n",
              "      <th>Rating</th>\n",
              "    </tr>\n",
              "  </thead>\n",
              "  <tbody>\n",
              "    <tr>\n",
              "      <th>0</th>\n",
              "      <td>Wii Sports</td>\n",
              "      <td>Wii</td>\n",
              "      <td>2006.0</td>\n",
              "      <td>Sports</td>\n",
              "      <td>41.36</td>\n",
              "      <td>28.96</td>\n",
              "      <td>3.77</td>\n",
              "      <td>8.45</td>\n",
              "      <td>76.0</td>\n",
              "      <td>8</td>\n",
              "      <td>E</td>\n",
              "    </tr>\n",
              "    <tr>\n",
              "      <th>1</th>\n",
              "      <td>Super Mario Bros.</td>\n",
              "      <td>NES</td>\n",
              "      <td>1985.0</td>\n",
              "      <td>Platform</td>\n",
              "      <td>29.08</td>\n",
              "      <td>3.58</td>\n",
              "      <td>6.81</td>\n",
              "      <td>0.77</td>\n",
              "      <td>NaN</td>\n",
              "      <td>NaN</td>\n",
              "      <td>NaN</td>\n",
              "    </tr>\n",
              "    <tr>\n",
              "      <th>2</th>\n",
              "      <td>Mario Kart Wii</td>\n",
              "      <td>Wii</td>\n",
              "      <td>2008.0</td>\n",
              "      <td>Racing</td>\n",
              "      <td>15.68</td>\n",
              "      <td>12.76</td>\n",
              "      <td>3.79</td>\n",
              "      <td>3.29</td>\n",
              "      <td>82.0</td>\n",
              "      <td>8.3</td>\n",
              "      <td>E</td>\n",
              "    </tr>\n",
              "    <tr>\n",
              "      <th>3</th>\n",
              "      <td>Wii Sports Resort</td>\n",
              "      <td>Wii</td>\n",
              "      <td>2009.0</td>\n",
              "      <td>Sports</td>\n",
              "      <td>15.61</td>\n",
              "      <td>10.93</td>\n",
              "      <td>3.28</td>\n",
              "      <td>2.95</td>\n",
              "      <td>80.0</td>\n",
              "      <td>8</td>\n",
              "      <td>E</td>\n",
              "    </tr>\n",
              "    <tr>\n",
              "      <th>4</th>\n",
              "      <td>Pokemon Red/Pokemon Blue</td>\n",
              "      <td>GB</td>\n",
              "      <td>1996.0</td>\n",
              "      <td>Role-Playing</td>\n",
              "      <td>11.27</td>\n",
              "      <td>8.89</td>\n",
              "      <td>10.22</td>\n",
              "      <td>1.00</td>\n",
              "      <td>NaN</td>\n",
              "      <td>NaN</td>\n",
              "      <td>NaN</td>\n",
              "    </tr>\n",
              "  </tbody>\n",
              "</table>\n",
              "</div>"
            ],
            "text/plain": [
              "                       Name Platform  Year_of_Release         Genre  NA_sales  \\\n",
              "0                Wii Sports      Wii           2006.0        Sports     41.36   \n",
              "1         Super Mario Bros.      NES           1985.0      Platform     29.08   \n",
              "2            Mario Kart Wii      Wii           2008.0        Racing     15.68   \n",
              "3         Wii Sports Resort      Wii           2009.0        Sports     15.61   \n",
              "4  Pokemon Red/Pokemon Blue       GB           1996.0  Role-Playing     11.27   \n",
              "\n",
              "   EU_sales  JP_sales  Other_sales  Critic_Score User_Score Rating  \n",
              "0     28.96      3.77         8.45          76.0          8      E  \n",
              "1      3.58      6.81         0.77           NaN        NaN    NaN  \n",
              "2     12.76      3.79         3.29          82.0        8.3      E  \n",
              "3     10.93      3.28         2.95          80.0          8      E  \n",
              "4      8.89     10.22         1.00           NaN        NaN    NaN  "
            ]
          },
          "execution_count": 66,
          "metadata": {},
          "output_type": "execute_result"
        }
      ],
      "source": [
        "df = pd.read_csv('/datasets/games.csv')\n",
        "df.info()\n",
        "df.head()"
      ]
    },
    {
      "cell_type": "markdown",
      "metadata": {
        "id": "XarqLXgn7EjS"
      },
      "source": [
        "Проверим датафрейм на наличие явных дубликатов."
      ]
    },
    {
      "cell_type": "code",
      "execution_count": null,
      "metadata": {
        "id": "8bEumYr27EjT",
        "outputId": "f0061128-56de-44a7-d313-2919b48633f6"
      },
      "outputs": [
        {
          "data": {
            "text/plain": [
              "0"
            ]
          },
          "execution_count": 67,
          "metadata": {},
          "output_type": "execute_result"
        }
      ],
      "source": [
        "df.duplicated().sum()"
      ]
    },
    {
      "cell_type": "markdown",
      "metadata": {
        "id": "rcOXi0ZF7EjW"
      },
      "source": [
        "Явных дубликатов не выявлено."
      ]
    },
    {
      "cell_type": "markdown",
      "metadata": {
        "id": "FATpC8Dk7EjW"
      },
      "source": [
        "### Вывод"
      ]
    },
    {
      "cell_type": "markdown",
      "metadata": {
        "id": "iUdOHWSl7EjX"
      },
      "source": [
        "Предварительно можно утверждать, что полноты предоставленных данных достаточно для проведения анализа.\n",
        "\n",
        "Но в датафрейме обнаружены проблемы:\n",
        "- В нескольких столбцах пропущены значения;\n",
        "- Названия столбцов не приведены к нижнему регистру;\n",
        "- Необходимо изменить тип данных в нескольких столбцах."
      ]
    },
    {
      "cell_type": "markdown",
      "metadata": {
        "id": "qDkKDi4P7EjX"
      },
      "source": [
        "## Предобработка данных"
      ]
    },
    {
      "cell_type": "markdown",
      "metadata": {
        "id": "dVXc4y3l7EjX"
      },
      "source": [
        "### Приведение названий столбцов к нижнему регистру"
      ]
    },
    {
      "cell_type": "code",
      "execution_count": null,
      "metadata": {
        "id": "i9Q5B0a37EjY",
        "outputId": "dc126ab3-6576-47d1-d282-b9a6471cf30d"
      },
      "outputs": [
        {
          "data": {
            "text/html": [
              "<div>\n",
              "<style scoped>\n",
              "    .dataframe tbody tr th:only-of-type {\n",
              "        vertical-align: middle;\n",
              "    }\n",
              "\n",
              "    .dataframe tbody tr th {\n",
              "        vertical-align: top;\n",
              "    }\n",
              "\n",
              "    .dataframe thead th {\n",
              "        text-align: right;\n",
              "    }\n",
              "</style>\n",
              "<table border=\"1\" class=\"dataframe\">\n",
              "  <thead>\n",
              "    <tr style=\"text-align: right;\">\n",
              "      <th></th>\n",
              "      <th>name</th>\n",
              "      <th>platform</th>\n",
              "      <th>year_of_release</th>\n",
              "      <th>genre</th>\n",
              "      <th>na_sales</th>\n",
              "      <th>eu_sales</th>\n",
              "      <th>jp_sales</th>\n",
              "      <th>other_sales</th>\n",
              "      <th>critic_score</th>\n",
              "      <th>user_score</th>\n",
              "      <th>rating</th>\n",
              "    </tr>\n",
              "  </thead>\n",
              "  <tbody>\n",
              "    <tr>\n",
              "      <th>0</th>\n",
              "      <td>Wii Sports</td>\n",
              "      <td>Wii</td>\n",
              "      <td>2006.0</td>\n",
              "      <td>Sports</td>\n",
              "      <td>41.36</td>\n",
              "      <td>28.96</td>\n",
              "      <td>3.77</td>\n",
              "      <td>8.45</td>\n",
              "      <td>76.0</td>\n",
              "      <td>8</td>\n",
              "      <td>E</td>\n",
              "    </tr>\n",
              "    <tr>\n",
              "      <th>1</th>\n",
              "      <td>Super Mario Bros.</td>\n",
              "      <td>NES</td>\n",
              "      <td>1985.0</td>\n",
              "      <td>Platform</td>\n",
              "      <td>29.08</td>\n",
              "      <td>3.58</td>\n",
              "      <td>6.81</td>\n",
              "      <td>0.77</td>\n",
              "      <td>NaN</td>\n",
              "      <td>NaN</td>\n",
              "      <td>NaN</td>\n",
              "    </tr>\n",
              "    <tr>\n",
              "      <th>2</th>\n",
              "      <td>Mario Kart Wii</td>\n",
              "      <td>Wii</td>\n",
              "      <td>2008.0</td>\n",
              "      <td>Racing</td>\n",
              "      <td>15.68</td>\n",
              "      <td>12.76</td>\n",
              "      <td>3.79</td>\n",
              "      <td>3.29</td>\n",
              "      <td>82.0</td>\n",
              "      <td>8.3</td>\n",
              "      <td>E</td>\n",
              "    </tr>\n",
              "    <tr>\n",
              "      <th>3</th>\n",
              "      <td>Wii Sports Resort</td>\n",
              "      <td>Wii</td>\n",
              "      <td>2009.0</td>\n",
              "      <td>Sports</td>\n",
              "      <td>15.61</td>\n",
              "      <td>10.93</td>\n",
              "      <td>3.28</td>\n",
              "      <td>2.95</td>\n",
              "      <td>80.0</td>\n",
              "      <td>8</td>\n",
              "      <td>E</td>\n",
              "    </tr>\n",
              "    <tr>\n",
              "      <th>4</th>\n",
              "      <td>Pokemon Red/Pokemon Blue</td>\n",
              "      <td>GB</td>\n",
              "      <td>1996.0</td>\n",
              "      <td>Role-Playing</td>\n",
              "      <td>11.27</td>\n",
              "      <td>8.89</td>\n",
              "      <td>10.22</td>\n",
              "      <td>1.00</td>\n",
              "      <td>NaN</td>\n",
              "      <td>NaN</td>\n",
              "      <td>NaN</td>\n",
              "    </tr>\n",
              "  </tbody>\n",
              "</table>\n",
              "</div>"
            ],
            "text/plain": [
              "                       name platform  year_of_release         genre  na_sales  \\\n",
              "0                Wii Sports      Wii           2006.0        Sports     41.36   \n",
              "1         Super Mario Bros.      NES           1985.0      Platform     29.08   \n",
              "2            Mario Kart Wii      Wii           2008.0        Racing     15.68   \n",
              "3         Wii Sports Resort      Wii           2009.0        Sports     15.61   \n",
              "4  Pokemon Red/Pokemon Blue       GB           1996.0  Role-Playing     11.27   \n",
              "\n",
              "   eu_sales  jp_sales  other_sales  critic_score user_score rating  \n",
              "0     28.96      3.77         8.45          76.0          8      E  \n",
              "1      3.58      6.81         0.77           NaN        NaN    NaN  \n",
              "2     12.76      3.79         3.29          82.0        8.3      E  \n",
              "3     10.93      3.28         2.95          80.0          8      E  \n",
              "4      8.89     10.22         1.00           NaN        NaN    NaN  "
            ]
          },
          "execution_count": 70,
          "metadata": {},
          "output_type": "execute_result"
        }
      ],
      "source": [
        "df.columns = df.columns.str.lower()\n",
        "df.head()"
      ]
    },
    {
      "cell_type": "markdown",
      "metadata": {
        "id": "BG4NpeV17EjZ"
      },
      "source": [
        "### Преобразование типов данных"
      ]
    },
    {
      "cell_type": "markdown",
      "metadata": {
        "id": "rGEU4e0R7EjZ"
      },
      "source": [
        "В столбцах 'year_of_release' и 'critic_score' можно изменить тип данных на 'int' для оптимизации расхода памяти. Помотрим списки значений в этих столбцах."
      ]
    },
    {
      "cell_type": "markdown",
      "metadata": {
        "id": "ULBQP8yH7Eja"
      },
      "source": [
        "Если посмотреть последние строки датафрейма, то в них наблюдается отсутствие оценок и рейтингов у игр, продажи которых на совсем низком уровне (они либо не \"выстрелили\", либо ещё не раскрутились), что вполне логично, как мне кажется.\n",
        "\n",
        "Также я полагаю, что связь между пропусками в оценках и тем, что оценки выставляет американская компания если и есть, то она не должна быть весомой: рейтинговое агенство могло не ставить оценки играм, которые выпускаются не для американского рынка, например, или имеют уровень продаж ниже некой заранее определённой границы."
      ]
    },
    {
      "cell_type": "code",
      "execution_count": null,
      "metadata": {
        "id": "dZ_2VAGh7Eja",
        "outputId": "e852456b-047f-414f-f1e2-df7938562f80"
      },
      "outputs": [
        {
          "data": {
            "text/html": [
              "<div>\n",
              "<style scoped>\n",
              "    .dataframe tbody tr th:only-of-type {\n",
              "        vertical-align: middle;\n",
              "    }\n",
              "\n",
              "    .dataframe tbody tr th {\n",
              "        vertical-align: top;\n",
              "    }\n",
              "\n",
              "    .dataframe thead th {\n",
              "        text-align: right;\n",
              "    }\n",
              "</style>\n",
              "<table border=\"1\" class=\"dataframe\">\n",
              "  <thead>\n",
              "    <tr style=\"text-align: right;\">\n",
              "      <th></th>\n",
              "      <th>name</th>\n",
              "      <th>platform</th>\n",
              "      <th>year_of_release</th>\n",
              "      <th>genre</th>\n",
              "      <th>na_sales</th>\n",
              "      <th>eu_sales</th>\n",
              "      <th>jp_sales</th>\n",
              "      <th>other_sales</th>\n",
              "      <th>critic_score</th>\n",
              "      <th>user_score</th>\n",
              "      <th>rating</th>\n",
              "    </tr>\n",
              "  </thead>\n",
              "  <tbody>\n",
              "    <tr>\n",
              "      <th>16710</th>\n",
              "      <td>Samurai Warriors: Sanada Maru</td>\n",
              "      <td>PS3</td>\n",
              "      <td>2016.0</td>\n",
              "      <td>Action</td>\n",
              "      <td>0.00</td>\n",
              "      <td>0.00</td>\n",
              "      <td>0.01</td>\n",
              "      <td>0.0</td>\n",
              "      <td>NaN</td>\n",
              "      <td>NaN</td>\n",
              "      <td>NaN</td>\n",
              "    </tr>\n",
              "    <tr>\n",
              "      <th>16711</th>\n",
              "      <td>LMA Manager 2007</td>\n",
              "      <td>X360</td>\n",
              "      <td>2006.0</td>\n",
              "      <td>Sports</td>\n",
              "      <td>0.00</td>\n",
              "      <td>0.01</td>\n",
              "      <td>0.00</td>\n",
              "      <td>0.0</td>\n",
              "      <td>NaN</td>\n",
              "      <td>NaN</td>\n",
              "      <td>NaN</td>\n",
              "    </tr>\n",
              "    <tr>\n",
              "      <th>16712</th>\n",
              "      <td>Haitaka no Psychedelica</td>\n",
              "      <td>PSV</td>\n",
              "      <td>2016.0</td>\n",
              "      <td>Adventure</td>\n",
              "      <td>0.00</td>\n",
              "      <td>0.00</td>\n",
              "      <td>0.01</td>\n",
              "      <td>0.0</td>\n",
              "      <td>NaN</td>\n",
              "      <td>NaN</td>\n",
              "      <td>NaN</td>\n",
              "    </tr>\n",
              "    <tr>\n",
              "      <th>16713</th>\n",
              "      <td>Spirits &amp; Spells</td>\n",
              "      <td>GBA</td>\n",
              "      <td>2003.0</td>\n",
              "      <td>Platform</td>\n",
              "      <td>0.01</td>\n",
              "      <td>0.00</td>\n",
              "      <td>0.00</td>\n",
              "      <td>0.0</td>\n",
              "      <td>NaN</td>\n",
              "      <td>NaN</td>\n",
              "      <td>NaN</td>\n",
              "    </tr>\n",
              "    <tr>\n",
              "      <th>16714</th>\n",
              "      <td>Winning Post 8 2016</td>\n",
              "      <td>PSV</td>\n",
              "      <td>2016.0</td>\n",
              "      <td>Simulation</td>\n",
              "      <td>0.00</td>\n",
              "      <td>0.00</td>\n",
              "      <td>0.01</td>\n",
              "      <td>0.0</td>\n",
              "      <td>NaN</td>\n",
              "      <td>NaN</td>\n",
              "      <td>NaN</td>\n",
              "    </tr>\n",
              "  </tbody>\n",
              "</table>\n",
              "</div>"
            ],
            "text/plain": [
              "                                name platform  year_of_release       genre  \\\n",
              "16710  Samurai Warriors: Sanada Maru      PS3           2016.0      Action   \n",
              "16711               LMA Manager 2007     X360           2006.0      Sports   \n",
              "16712        Haitaka no Psychedelica      PSV           2016.0   Adventure   \n",
              "16713               Spirits & Spells      GBA           2003.0    Platform   \n",
              "16714            Winning Post 8 2016      PSV           2016.0  Simulation   \n",
              "\n",
              "       na_sales  eu_sales  jp_sales  other_sales  critic_score user_score  \\\n",
              "16710      0.00      0.00      0.01          0.0           NaN        NaN   \n",
              "16711      0.00      0.01      0.00          0.0           NaN        NaN   \n",
              "16712      0.00      0.00      0.01          0.0           NaN        NaN   \n",
              "16713      0.01      0.00      0.00          0.0           NaN        NaN   \n",
              "16714      0.00      0.00      0.01          0.0           NaN        NaN   \n",
              "\n",
              "      rating  \n",
              "16710    NaN  \n",
              "16711    NaN  \n",
              "16712    NaN  \n",
              "16713    NaN  \n",
              "16714    NaN  "
            ]
          },
          "execution_count": 71,
          "metadata": {},
          "output_type": "execute_result"
        }
      ],
      "source": [
        "df.tail()"
      ]
    },
    {
      "cell_type": "code",
      "execution_count": null,
      "metadata": {
        "scrolled": true,
        "id": "LSqNHXws7Ejb",
        "outputId": "c68a2045-9177-4d7c-83a1-450d08e735c0"
      },
      "outputs": [
        {
          "data": {
            "text/plain": [
              "array([2006., 1985., 2008., 2009., 1996., 1989., 1984., 2005., 1999.,\n",
              "       2007., 2010., 2013., 2004., 1990., 1988., 2002., 2001., 2011.,\n",
              "       1998., 2015., 2012., 2014., 1992., 1997., 1993., 1994., 1982.,\n",
              "       2016., 2003., 1986., 2000.,   nan, 1995., 1991., 1981., 1987.,\n",
              "       1980., 1983.])"
            ]
          },
          "execution_count": 72,
          "metadata": {},
          "output_type": "execute_result"
        }
      ],
      "source": [
        "df['year_of_release'].unique()"
      ]
    },
    {
      "cell_type": "code",
      "execution_count": null,
      "metadata": {
        "scrolled": true,
        "id": "kat2jPu57Ejb",
        "outputId": "efc74664-5b22-4730-9cb3-b48330ce6d59"
      },
      "outputs": [
        {
          "data": {
            "text/plain": [
              "array([76., nan, 82., 80., 89., 58., 87., 91., 61., 97., 95., 77., 88.,\n",
              "       83., 94., 93., 85., 86., 98., 96., 90., 84., 73., 74., 78., 92.,\n",
              "       71., 72., 68., 62., 49., 67., 81., 66., 56., 79., 70., 59., 64.,\n",
              "       75., 60., 63., 69., 50., 25., 42., 44., 55., 48., 57., 29., 47.,\n",
              "       65., 54., 20., 53., 37., 38., 33., 52., 30., 32., 43., 45., 51.,\n",
              "       40., 46., 39., 34., 35., 41., 36., 28., 31., 27., 26., 19., 23.,\n",
              "       24., 21., 17., 22., 13.])"
            ]
          },
          "execution_count": 73,
          "metadata": {},
          "output_type": "execute_result"
        }
      ],
      "source": [
        "df['critic_score'].unique()"
      ]
    },
    {
      "cell_type": "markdown",
      "metadata": {
        "id": "YSUqZEID7Ejc"
      },
      "source": [
        "Аномалий не выявлено. Тип данных можно будет изменить после решения проблемы с пропусками."
      ]
    },
    {
      "cell_type": "markdown",
      "metadata": {
        "id": "phZM1uep7Ejc"
      },
      "source": [
        "В столбце 'user_score' записаны числа типом 'object'. Приведём их к 'float'. Проверим значения данных в этом столбце."
      ]
    },
    {
      "cell_type": "code",
      "execution_count": null,
      "metadata": {
        "id": "6cD_nl_A7Ejc",
        "outputId": "49907cc7-de4f-4a0b-8381-de0aa7fbf52f"
      },
      "outputs": [
        {
          "data": {
            "text/plain": [
              "array(['8', nan, '8.3', '8.5', '6.6', '8.4', '8.6', '7.7', '6.3', '7.4',\n",
              "       '8.2', '9', '7.9', '8.1', '8.7', '7.1', '3.4', '5.3', '4.8', '3.2',\n",
              "       '8.9', '6.4', '7.8', '7.5', '2.6', '7.2', '9.2', '7', '7.3', '4.3',\n",
              "       '7.6', '5.7', '5', '9.1', '6.5', 'tbd', '8.8', '6.9', '9.4', '6.8',\n",
              "       '6.1', '6.7', '5.4', '4', '4.9', '4.5', '9.3', '6.2', '4.2', '6',\n",
              "       '3.7', '4.1', '5.8', '5.6', '5.5', '4.4', '4.6', '5.9', '3.9',\n",
              "       '3.1', '2.9', '5.2', '3.3', '4.7', '5.1', '3.5', '2.5', '1.9', '3',\n",
              "       '2.7', '2.2', '2', '9.5', '2.1', '3.6', '2.8', '1.8', '3.8', '0',\n",
              "       '1.6', '9.6', '2.4', '1.7', '1.1', '0.3', '1.5', '0.7', '1.2',\n",
              "       '2.3', '0.5', '1.3', '0.2', '0.6', '1.4', '0.9', '1', '9.7'],\n",
              "      dtype=object)"
            ]
          },
          "execution_count": 74,
          "metadata": {},
          "output_type": "execute_result"
        }
      ],
      "source": [
        "df['user_score'].unique()"
      ]
    },
    {
      "cell_type": "markdown",
      "metadata": {
        "id": "xBsqzDz_7Ejc"
      },
      "source": [
        "Выявлено аномальное значение 'tbd'."
      ]
    },
    {
      "cell_type": "code",
      "execution_count": null,
      "metadata": {
        "id": "vH0LbkK47Ejd",
        "outputId": "50b494ae-18ae-4871-ef2a-35563194791c"
      },
      "outputs": [
        {
          "data": {
            "text/plain": [
              "name               2424\n",
              "platform           2424\n",
              "year_of_release    2376\n",
              "genre              2424\n",
              "na_sales           2424\n",
              "eu_sales           2424\n",
              "jp_sales           2424\n",
              "other_sales        2424\n",
              "critic_score       1082\n",
              "user_score         2424\n",
              "rating             2374\n",
              "dtype: int64"
            ]
          },
          "metadata": {},
          "output_type": "display_data"
        }
      ],
      "source": [
        "display(df[df['user_score'] == 'tbd'].count())"
      ]
    },
    {
      "cell_type": "markdown",
      "metadata": {
        "id": "aB1uNtYP7Ejd"
      },
      "source": [
        "Удалить строки с данном аномалией нельзя, так как они составляют 15% датафрейма. Поиск в интернете подсказал, что это сокращение может означать, что рейтнг не определён (фактически приравнивается к NaN). Возможно, рейтинг пользователей по этим играм не собирался или не попал в наш датафрейм по ошибке. Приведём данные в столбце к вещественному типу."
      ]
    },
    {
      "cell_type": "code",
      "execution_count": null,
      "metadata": {
        "scrolled": true,
        "id": "y3E2cpTz7Eje",
        "outputId": "9bd5ce17-16f8-4cfb-eeea-3a57a23c4872"
      },
      "outputs": [
        {
          "name": "stdout",
          "output_type": "stream",
          "text": [
            "<class 'pandas.core.frame.DataFrame'>\n",
            "RangeIndex: 16715 entries, 0 to 16714\n",
            "Data columns (total 11 columns):\n",
            " #   Column           Non-Null Count  Dtype  \n",
            "---  ------           --------------  -----  \n",
            " 0   name             16713 non-null  object \n",
            " 1   platform         16715 non-null  object \n",
            " 2   year_of_release  16446 non-null  float64\n",
            " 3   genre            16713 non-null  object \n",
            " 4   na_sales         16715 non-null  float64\n",
            " 5   eu_sales         16715 non-null  float64\n",
            " 6   jp_sales         16715 non-null  float64\n",
            " 7   other_sales      16715 non-null  float64\n",
            " 8   critic_score     8137 non-null   float64\n",
            " 9   user_score       7590 non-null   float64\n",
            " 10  rating           9949 non-null   object \n",
            "dtypes: float64(7), object(4)\n",
            "memory usage: 1.4+ MB\n"
          ]
        }
      ],
      "source": [
        "df['user_score'] = pd.to_numeric(df['user_score'], errors='coerce')\n",
        "df.info()"
      ]
    },
    {
      "cell_type": "markdown",
      "metadata": {
        "id": "v6WRit0J7Ejf"
      },
      "source": [
        "### Обработка пропусков"
      ]
    },
    {
      "cell_type": "markdown",
      "metadata": {
        "id": "bLzWK2MS7Ejf"
      },
      "source": [
        "<b>Проверка пропусков в столбце 'name'.</b>"
      ]
    },
    {
      "cell_type": "code",
      "execution_count": null,
      "metadata": {
        "id": "m7Rt9Kky7Ejf"
      },
      "outputs": [],
      "source": [
        "#df['name'] = df['name'].fillna('SSSTTT')\n",
        "#df[df['name'] == 'SSSTTT']"
      ]
    },
    {
      "cell_type": "markdown",
      "metadata": {
        "id": "6pYBmZT47Ejf"
      },
      "source": [
        "Пропущены названия игр 1993, также у них не заполнены жанр и оценки, довольно низкие продажи. Эти пропуски можно удалить. Причиной пропущенных названий могло быть то, что у игры не было постоянного имени или его решили не фиксировать ввиду невысокой популярности игры."
      ]
    },
    {
      "cell_type": "code",
      "execution_count": null,
      "metadata": {
        "id": "E6LpKnpC7Ejg",
        "outputId": "e1fdaa1e-bb8a-4051-b8a6-e4a36e4e2c7f"
      },
      "outputs": [
        {
          "name": "stdout",
          "output_type": "stream",
          "text": [
            "<class 'pandas.core.frame.DataFrame'>\n",
            "RangeIndex: 16713 entries, 0 to 16712\n",
            "Data columns (total 11 columns):\n",
            " #   Column           Non-Null Count  Dtype  \n",
            "---  ------           --------------  -----  \n",
            " 0   name             16713 non-null  object \n",
            " 1   platform         16713 non-null  object \n",
            " 2   year_of_release  16444 non-null  float64\n",
            " 3   genre            16713 non-null  object \n",
            " 4   na_sales         16713 non-null  float64\n",
            " 5   eu_sales         16713 non-null  float64\n",
            " 6   jp_sales         16713 non-null  float64\n",
            " 7   other_sales      16713 non-null  float64\n",
            " 8   critic_score     8137 non-null   float64\n",
            " 9   user_score       7590 non-null   float64\n",
            " 10  rating           9949 non-null   object \n",
            "dtypes: float64(7), object(4)\n",
            "memory usage: 1.4+ MB\n"
          ]
        }
      ],
      "source": [
        "df = df.dropna(subset=['name']).reset_index(drop=True)\n",
        "df.info()"
      ]
    },
    {
      "cell_type": "markdown",
      "metadata": {
        "id": "w2i5BIFI7Ejg"
      },
      "source": [
        "<b>Проверка пропусков в столбце 'year_of_release'</b>"
      ]
    },
    {
      "cell_type": "code",
      "execution_count": null,
      "metadata": {
        "id": "pcMOzbL77Ejg"
      },
      "outputs": [],
      "source": [
        "#df['year_of_release'] = df['year_of_release'].fillna('SSSTTT')\n",
        "#df[df['year_of_release'] == 'SSSTTT']"
      ]
    },
    {
      "cell_type": "markdown",
      "metadata": {
        "id": "uI_h6BGe7Ejh"
      },
      "source": [
        "Причиной пропущенных значений могла стать ошибка при переносе данных из большой внешней базы. Пропуски занимают 1.5% датафрейма,их замена случайными значениями может исказить картину в дальнейшем исследовании. Принимаю решение об их удалении."
      ]
    },
    {
      "cell_type": "code",
      "execution_count": null,
      "metadata": {
        "scrolled": true,
        "id": "Pl4kSskY7Ejh",
        "outputId": "b041fcd4-063b-49e2-e3b4-ab8180020631"
      },
      "outputs": [
        {
          "name": "stdout",
          "output_type": "stream",
          "text": [
            "<class 'pandas.core.frame.DataFrame'>\n",
            "RangeIndex: 16444 entries, 0 to 16443\n",
            "Data columns (total 11 columns):\n",
            " #   Column           Non-Null Count  Dtype  \n",
            "---  ------           --------------  -----  \n",
            " 0   name             16444 non-null  object \n",
            " 1   platform         16444 non-null  object \n",
            " 2   year_of_release  16444 non-null  float64\n",
            " 3   genre            16444 non-null  object \n",
            " 4   na_sales         16444 non-null  float64\n",
            " 5   eu_sales         16444 non-null  float64\n",
            " 6   jp_sales         16444 non-null  float64\n",
            " 7   other_sales      16444 non-null  float64\n",
            " 8   critic_score     7983 non-null   float64\n",
            " 9   user_score       7463 non-null   float64\n",
            " 10  rating           9768 non-null   object \n",
            "dtypes: float64(7), object(4)\n",
            "memory usage: 1.4+ MB\n"
          ]
        }
      ],
      "source": [
        "df = df.dropna(subset=['year_of_release']).reset_index(drop=True)\n",
        "df.info()"
      ]
    },
    {
      "cell_type": "markdown",
      "metadata": {
        "id": "kiZZKLym7Eji"
      },
      "source": [
        "Изменим тип данных в этом столбце."
      ]
    },
    {
      "cell_type": "code",
      "execution_count": null,
      "metadata": {
        "id": "ShDU0uwk7Eji",
        "outputId": "54a0dd4c-317d-4076-8bc3-9fa6819595ee"
      },
      "outputs": [
        {
          "name": "stdout",
          "output_type": "stream",
          "text": [
            "<class 'pandas.core.frame.DataFrame'>\n",
            "RangeIndex: 16444 entries, 0 to 16443\n",
            "Data columns (total 11 columns):\n",
            " #   Column           Non-Null Count  Dtype  \n",
            "---  ------           --------------  -----  \n",
            " 0   name             16444 non-null  object \n",
            " 1   platform         16444 non-null  object \n",
            " 2   year_of_release  16444 non-null  int64  \n",
            " 3   genre            16444 non-null  object \n",
            " 4   na_sales         16444 non-null  float64\n",
            " 5   eu_sales         16444 non-null  float64\n",
            " 6   jp_sales         16444 non-null  float64\n",
            " 7   other_sales      16444 non-null  float64\n",
            " 8   critic_score     7983 non-null   float64\n",
            " 9   user_score       7463 non-null   float64\n",
            " 10  rating           9768 non-null   object \n",
            "dtypes: float64(6), int64(1), object(4)\n",
            "memory usage: 1.4+ MB\n"
          ]
        }
      ],
      "source": [
        "df['year_of_release'] = df['year_of_release'].astype('int')\n",
        "df.info()"
      ]
    },
    {
      "cell_type": "markdown",
      "metadata": {
        "id": "A3eyW-9-7Ejj"
      },
      "source": [
        "<b>Пропуски в столбцах 'critic_score', 'user_score' и 'rating'.</b>"
      ]
    },
    {
      "cell_type": "code",
      "execution_count": null,
      "metadata": {
        "id": "MU88p1ML7Ejj",
        "outputId": "9be34622-756b-49ee-8f93-70a41e369398"
      },
      "outputs": [
        {
          "data": {
            "text/html": [
              "<div>\n",
              "<style scoped>\n",
              "    .dataframe tbody tr th:only-of-type {\n",
              "        vertical-align: middle;\n",
              "    }\n",
              "\n",
              "    .dataframe tbody tr th {\n",
              "        vertical-align: top;\n",
              "    }\n",
              "\n",
              "    .dataframe thead th {\n",
              "        text-align: right;\n",
              "    }\n",
              "</style>\n",
              "<table border=\"1\" class=\"dataframe\">\n",
              "  <thead>\n",
              "    <tr style=\"text-align: right;\">\n",
              "      <th></th>\n",
              "      <th>name</th>\n",
              "      <th>platform</th>\n",
              "      <th>year_of_release</th>\n",
              "      <th>genre</th>\n",
              "      <th>na_sales</th>\n",
              "      <th>eu_sales</th>\n",
              "      <th>jp_sales</th>\n",
              "      <th>other_sales</th>\n",
              "      <th>critic_score</th>\n",
              "      <th>user_score</th>\n",
              "      <th>rating</th>\n",
              "    </tr>\n",
              "  </thead>\n",
              "  <tbody>\n",
              "    <tr>\n",
              "      <th>0</th>\n",
              "      <td>Wii Sports</td>\n",
              "      <td>Wii</td>\n",
              "      <td>2006</td>\n",
              "      <td>Sports</td>\n",
              "      <td>41.36</td>\n",
              "      <td>28.96</td>\n",
              "      <td>3.77</td>\n",
              "      <td>8.45</td>\n",
              "      <td>76.0</td>\n",
              "      <td>8.0</td>\n",
              "      <td>E</td>\n",
              "    </tr>\n",
              "    <tr>\n",
              "      <th>1</th>\n",
              "      <td>Super Mario Bros.</td>\n",
              "      <td>NES</td>\n",
              "      <td>1985</td>\n",
              "      <td>Platform</td>\n",
              "      <td>29.08</td>\n",
              "      <td>3.58</td>\n",
              "      <td>6.81</td>\n",
              "      <td>0.77</td>\n",
              "      <td>NaN</td>\n",
              "      <td>NaN</td>\n",
              "      <td>NaN</td>\n",
              "    </tr>\n",
              "    <tr>\n",
              "      <th>2</th>\n",
              "      <td>Mario Kart Wii</td>\n",
              "      <td>Wii</td>\n",
              "      <td>2008</td>\n",
              "      <td>Racing</td>\n",
              "      <td>15.68</td>\n",
              "      <td>12.76</td>\n",
              "      <td>3.79</td>\n",
              "      <td>3.29</td>\n",
              "      <td>82.0</td>\n",
              "      <td>8.3</td>\n",
              "      <td>E</td>\n",
              "    </tr>\n",
              "    <tr>\n",
              "      <th>3</th>\n",
              "      <td>Wii Sports Resort</td>\n",
              "      <td>Wii</td>\n",
              "      <td>2009</td>\n",
              "      <td>Sports</td>\n",
              "      <td>15.61</td>\n",
              "      <td>10.93</td>\n",
              "      <td>3.28</td>\n",
              "      <td>2.95</td>\n",
              "      <td>80.0</td>\n",
              "      <td>8.0</td>\n",
              "      <td>E</td>\n",
              "    </tr>\n",
              "    <tr>\n",
              "      <th>4</th>\n",
              "      <td>Pokemon Red/Pokemon Blue</td>\n",
              "      <td>GB</td>\n",
              "      <td>1996</td>\n",
              "      <td>Role-Playing</td>\n",
              "      <td>11.27</td>\n",
              "      <td>8.89</td>\n",
              "      <td>10.22</td>\n",
              "      <td>1.00</td>\n",
              "      <td>NaN</td>\n",
              "      <td>NaN</td>\n",
              "      <td>NaN</td>\n",
              "    </tr>\n",
              "    <tr>\n",
              "      <th>5</th>\n",
              "      <td>Tetris</td>\n",
              "      <td>GB</td>\n",
              "      <td>1989</td>\n",
              "      <td>Puzzle</td>\n",
              "      <td>23.20</td>\n",
              "      <td>2.26</td>\n",
              "      <td>4.22</td>\n",
              "      <td>0.58</td>\n",
              "      <td>NaN</td>\n",
              "      <td>NaN</td>\n",
              "      <td>NaN</td>\n",
              "    </tr>\n",
              "    <tr>\n",
              "      <th>6</th>\n",
              "      <td>New Super Mario Bros.</td>\n",
              "      <td>DS</td>\n",
              "      <td>2006</td>\n",
              "      <td>Platform</td>\n",
              "      <td>11.28</td>\n",
              "      <td>9.14</td>\n",
              "      <td>6.50</td>\n",
              "      <td>2.88</td>\n",
              "      <td>89.0</td>\n",
              "      <td>8.5</td>\n",
              "      <td>E</td>\n",
              "    </tr>\n",
              "    <tr>\n",
              "      <th>7</th>\n",
              "      <td>Wii Play</td>\n",
              "      <td>Wii</td>\n",
              "      <td>2006</td>\n",
              "      <td>Misc</td>\n",
              "      <td>13.96</td>\n",
              "      <td>9.18</td>\n",
              "      <td>2.93</td>\n",
              "      <td>2.84</td>\n",
              "      <td>58.0</td>\n",
              "      <td>6.6</td>\n",
              "      <td>E</td>\n",
              "    </tr>\n",
              "    <tr>\n",
              "      <th>8</th>\n",
              "      <td>New Super Mario Bros. Wii</td>\n",
              "      <td>Wii</td>\n",
              "      <td>2009</td>\n",
              "      <td>Platform</td>\n",
              "      <td>14.44</td>\n",
              "      <td>6.94</td>\n",
              "      <td>4.70</td>\n",
              "      <td>2.24</td>\n",
              "      <td>87.0</td>\n",
              "      <td>8.4</td>\n",
              "      <td>E</td>\n",
              "    </tr>\n",
              "    <tr>\n",
              "      <th>9</th>\n",
              "      <td>Duck Hunt</td>\n",
              "      <td>NES</td>\n",
              "      <td>1984</td>\n",
              "      <td>Shooter</td>\n",
              "      <td>26.93</td>\n",
              "      <td>0.63</td>\n",
              "      <td>0.28</td>\n",
              "      <td>0.47</td>\n",
              "      <td>NaN</td>\n",
              "      <td>NaN</td>\n",
              "      <td>NaN</td>\n",
              "    </tr>\n",
              "  </tbody>\n",
              "</table>\n",
              "</div>"
            ],
            "text/plain": [
              "                        name platform  year_of_release         genre  \\\n",
              "0                 Wii Sports      Wii             2006        Sports   \n",
              "1          Super Mario Bros.      NES             1985      Platform   \n",
              "2             Mario Kart Wii      Wii             2008        Racing   \n",
              "3          Wii Sports Resort      Wii             2009        Sports   \n",
              "4   Pokemon Red/Pokemon Blue       GB             1996  Role-Playing   \n",
              "5                     Tetris       GB             1989        Puzzle   \n",
              "6      New Super Mario Bros.       DS             2006      Platform   \n",
              "7                   Wii Play      Wii             2006          Misc   \n",
              "8  New Super Mario Bros. Wii      Wii             2009      Platform   \n",
              "9                  Duck Hunt      NES             1984       Shooter   \n",
              "\n",
              "   na_sales  eu_sales  jp_sales  other_sales  critic_score  user_score rating  \n",
              "0     41.36     28.96      3.77         8.45          76.0         8.0      E  \n",
              "1     29.08      3.58      6.81         0.77           NaN         NaN    NaN  \n",
              "2     15.68     12.76      3.79         3.29          82.0         8.3      E  \n",
              "3     15.61     10.93      3.28         2.95          80.0         8.0      E  \n",
              "4     11.27      8.89     10.22         1.00           NaN         NaN    NaN  \n",
              "5     23.20      2.26      4.22         0.58           NaN         NaN    NaN  \n",
              "6     11.28      9.14      6.50         2.88          89.0         8.5      E  \n",
              "7     13.96      9.18      2.93         2.84          58.0         6.6      E  \n",
              "8     14.44      6.94      4.70         2.24          87.0         8.4      E  \n",
              "9     26.93      0.63      0.28         0.47           NaN         NaN    NaN  "
            ]
          },
          "execution_count": 82,
          "metadata": {},
          "output_type": "execute_result"
        }
      ],
      "source": [
        "#df['user_score'] = df['user_score'].fillna('SSSTTT')\n",
        "#df[df['user_score'] == 'SSSTTT']\n",
        "df.head(10)"
      ]
    },
    {
      "cell_type": "markdown",
      "metadata": {
        "id": "M0dCcouK7Ejj"
      },
      "source": [
        "Системы в пропусках не наблюдается, кроме того, что они часто отсутствуют в зависимости друг от друга. Пропущенные значения в этих данных могли появиться в следствие того, что эти игры не оценивались или данные не были занесены по ошибке. Заменять их чем-то случайным не станем, удалять также не будем, чтобы не жертвовать почти половиной датафрейма. Оставим так, как есть."
      ]
    },
    {
      "cell_type": "markdown",
      "metadata": {
        "id": "VP7EoyOL7Ejk"
      },
      "source": [
        "Заменим пропуски в столбце с рейтингами значением *Unknown*."
      ]
    },
    {
      "cell_type": "code",
      "execution_count": null,
      "metadata": {
        "id": "y5_yfriH7Ejl"
      },
      "outputs": [],
      "source": [
        "df['rating'] = df['rating'].fillna('Unknown')"
      ]
    },
    {
      "cell_type": "markdown",
      "metadata": {
        "id": "Ys_YeWrU7Ejl"
      },
      "source": [
        "### Суммарные продажи во всех регионах"
      ]
    },
    {
      "cell_type": "code",
      "execution_count": null,
      "metadata": {
        "scrolled": true,
        "id": "1GV4lbLh7Ejl",
        "outputId": "502cc826-87de-4793-c967-4244ed319c75"
      },
      "outputs": [
        {
          "data": {
            "text/html": [
              "<div>\n",
              "<style scoped>\n",
              "    .dataframe tbody tr th:only-of-type {\n",
              "        vertical-align: middle;\n",
              "    }\n",
              "\n",
              "    .dataframe tbody tr th {\n",
              "        vertical-align: top;\n",
              "    }\n",
              "\n",
              "    .dataframe thead th {\n",
              "        text-align: right;\n",
              "    }\n",
              "</style>\n",
              "<table border=\"1\" class=\"dataframe\">\n",
              "  <thead>\n",
              "    <tr style=\"text-align: right;\">\n",
              "      <th></th>\n",
              "      <th>name</th>\n",
              "      <th>platform</th>\n",
              "      <th>year_of_release</th>\n",
              "      <th>genre</th>\n",
              "      <th>na_sales</th>\n",
              "      <th>eu_sales</th>\n",
              "      <th>jp_sales</th>\n",
              "      <th>other_sales</th>\n",
              "      <th>critic_score</th>\n",
              "      <th>user_score</th>\n",
              "      <th>rating</th>\n",
              "    </tr>\n",
              "  </thead>\n",
              "  <tbody>\n",
              "    <tr>\n",
              "      <th>0</th>\n",
              "      <td>Wii Sports</td>\n",
              "      <td>Wii</td>\n",
              "      <td>2006</td>\n",
              "      <td>Sports</td>\n",
              "      <td>41.36</td>\n",
              "      <td>28.96</td>\n",
              "      <td>3.77</td>\n",
              "      <td>8.45</td>\n",
              "      <td>76.0</td>\n",
              "      <td>8.0</td>\n",
              "      <td>E</td>\n",
              "    </tr>\n",
              "    <tr>\n",
              "      <th>1</th>\n",
              "      <td>Super Mario Bros.</td>\n",
              "      <td>NES</td>\n",
              "      <td>1985</td>\n",
              "      <td>Platform</td>\n",
              "      <td>29.08</td>\n",
              "      <td>3.58</td>\n",
              "      <td>6.81</td>\n",
              "      <td>0.77</td>\n",
              "      <td>NaN</td>\n",
              "      <td>NaN</td>\n",
              "      <td>Unknown</td>\n",
              "    </tr>\n",
              "    <tr>\n",
              "      <th>2</th>\n",
              "      <td>Mario Kart Wii</td>\n",
              "      <td>Wii</td>\n",
              "      <td>2008</td>\n",
              "      <td>Racing</td>\n",
              "      <td>15.68</td>\n",
              "      <td>12.76</td>\n",
              "      <td>3.79</td>\n",
              "      <td>3.29</td>\n",
              "      <td>82.0</td>\n",
              "      <td>8.3</td>\n",
              "      <td>E</td>\n",
              "    </tr>\n",
              "    <tr>\n",
              "      <th>3</th>\n",
              "      <td>Wii Sports Resort</td>\n",
              "      <td>Wii</td>\n",
              "      <td>2009</td>\n",
              "      <td>Sports</td>\n",
              "      <td>15.61</td>\n",
              "      <td>10.93</td>\n",
              "      <td>3.28</td>\n",
              "      <td>2.95</td>\n",
              "      <td>80.0</td>\n",
              "      <td>8.0</td>\n",
              "      <td>E</td>\n",
              "    </tr>\n",
              "    <tr>\n",
              "      <th>4</th>\n",
              "      <td>Pokemon Red/Pokemon Blue</td>\n",
              "      <td>GB</td>\n",
              "      <td>1996</td>\n",
              "      <td>Role-Playing</td>\n",
              "      <td>11.27</td>\n",
              "      <td>8.89</td>\n",
              "      <td>10.22</td>\n",
              "      <td>1.00</td>\n",
              "      <td>NaN</td>\n",
              "      <td>NaN</td>\n",
              "      <td>Unknown</td>\n",
              "    </tr>\n",
              "  </tbody>\n",
              "</table>\n",
              "</div>"
            ],
            "text/plain": [
              "                       name platform  year_of_release         genre  na_sales  \\\n",
              "0                Wii Sports      Wii             2006        Sports     41.36   \n",
              "1         Super Mario Bros.      NES             1985      Platform     29.08   \n",
              "2            Mario Kart Wii      Wii             2008        Racing     15.68   \n",
              "3         Wii Sports Resort      Wii             2009        Sports     15.61   \n",
              "4  Pokemon Red/Pokemon Blue       GB             1996  Role-Playing     11.27   \n",
              "\n",
              "   eu_sales  jp_sales  other_sales  critic_score  user_score   rating  \n",
              "0     28.96      3.77         8.45          76.0         8.0        E  \n",
              "1      3.58      6.81         0.77           NaN         NaN  Unknown  \n",
              "2     12.76      3.79         3.29          82.0         8.3        E  \n",
              "3     10.93      3.28         2.95          80.0         8.0        E  \n",
              "4      8.89     10.22         1.00           NaN         NaN  Unknown  "
            ]
          },
          "execution_count": 84,
          "metadata": {},
          "output_type": "execute_result"
        }
      ],
      "source": [
        "df.head()"
      ]
    },
    {
      "cell_type": "code",
      "execution_count": null,
      "metadata": {
        "id": "_KfXdaVi7Ejn",
        "outputId": "d4a4ca7c-64b3-423a-d1d6-1c20967e725e"
      },
      "outputs": [
        {
          "data": {
            "text/html": [
              "<div>\n",
              "<style scoped>\n",
              "    .dataframe tbody tr th:only-of-type {\n",
              "        vertical-align: middle;\n",
              "    }\n",
              "\n",
              "    .dataframe tbody tr th {\n",
              "        vertical-align: top;\n",
              "    }\n",
              "\n",
              "    .dataframe thead th {\n",
              "        text-align: right;\n",
              "    }\n",
              "</style>\n",
              "<table border=\"1\" class=\"dataframe\">\n",
              "  <thead>\n",
              "    <tr style=\"text-align: right;\">\n",
              "      <th></th>\n",
              "      <th>name</th>\n",
              "      <th>platform</th>\n",
              "      <th>year_of_release</th>\n",
              "      <th>genre</th>\n",
              "      <th>na_sales</th>\n",
              "      <th>eu_sales</th>\n",
              "      <th>jp_sales</th>\n",
              "      <th>other_sales</th>\n",
              "      <th>critic_score</th>\n",
              "      <th>user_score</th>\n",
              "      <th>rating</th>\n",
              "      <th>general_sales</th>\n",
              "    </tr>\n",
              "  </thead>\n",
              "  <tbody>\n",
              "    <tr>\n",
              "      <th>0</th>\n",
              "      <td>Wii Sports</td>\n",
              "      <td>Wii</td>\n",
              "      <td>2006</td>\n",
              "      <td>Sports</td>\n",
              "      <td>41.36</td>\n",
              "      <td>28.96</td>\n",
              "      <td>3.77</td>\n",
              "      <td>8.45</td>\n",
              "      <td>76.0</td>\n",
              "      <td>8.0</td>\n",
              "      <td>E</td>\n",
              "      <td>82.54</td>\n",
              "    </tr>\n",
              "    <tr>\n",
              "      <th>1</th>\n",
              "      <td>Super Mario Bros.</td>\n",
              "      <td>NES</td>\n",
              "      <td>1985</td>\n",
              "      <td>Platform</td>\n",
              "      <td>29.08</td>\n",
              "      <td>3.58</td>\n",
              "      <td>6.81</td>\n",
              "      <td>0.77</td>\n",
              "      <td>NaN</td>\n",
              "      <td>NaN</td>\n",
              "      <td>Unknown</td>\n",
              "      <td>40.24</td>\n",
              "    </tr>\n",
              "    <tr>\n",
              "      <th>2</th>\n",
              "      <td>Mario Kart Wii</td>\n",
              "      <td>Wii</td>\n",
              "      <td>2008</td>\n",
              "      <td>Racing</td>\n",
              "      <td>15.68</td>\n",
              "      <td>12.76</td>\n",
              "      <td>3.79</td>\n",
              "      <td>3.29</td>\n",
              "      <td>82.0</td>\n",
              "      <td>8.3</td>\n",
              "      <td>E</td>\n",
              "      <td>35.52</td>\n",
              "    </tr>\n",
              "    <tr>\n",
              "      <th>3</th>\n",
              "      <td>Wii Sports Resort</td>\n",
              "      <td>Wii</td>\n",
              "      <td>2009</td>\n",
              "      <td>Sports</td>\n",
              "      <td>15.61</td>\n",
              "      <td>10.93</td>\n",
              "      <td>3.28</td>\n",
              "      <td>2.95</td>\n",
              "      <td>80.0</td>\n",
              "      <td>8.0</td>\n",
              "      <td>E</td>\n",
              "      <td>32.77</td>\n",
              "    </tr>\n",
              "    <tr>\n",
              "      <th>4</th>\n",
              "      <td>Pokemon Red/Pokemon Blue</td>\n",
              "      <td>GB</td>\n",
              "      <td>1996</td>\n",
              "      <td>Role-Playing</td>\n",
              "      <td>11.27</td>\n",
              "      <td>8.89</td>\n",
              "      <td>10.22</td>\n",
              "      <td>1.00</td>\n",
              "      <td>NaN</td>\n",
              "      <td>NaN</td>\n",
              "      <td>Unknown</td>\n",
              "      <td>31.38</td>\n",
              "    </tr>\n",
              "  </tbody>\n",
              "</table>\n",
              "</div>"
            ],
            "text/plain": [
              "                       name platform  year_of_release         genre  na_sales  \\\n",
              "0                Wii Sports      Wii             2006        Sports     41.36   \n",
              "1         Super Mario Bros.      NES             1985      Platform     29.08   \n",
              "2            Mario Kart Wii      Wii             2008        Racing     15.68   \n",
              "3         Wii Sports Resort      Wii             2009        Sports     15.61   \n",
              "4  Pokemon Red/Pokemon Blue       GB             1996  Role-Playing     11.27   \n",
              "\n",
              "   eu_sales  jp_sales  other_sales  critic_score  user_score   rating  \\\n",
              "0     28.96      3.77         8.45          76.0         8.0        E   \n",
              "1      3.58      6.81         0.77           NaN         NaN  Unknown   \n",
              "2     12.76      3.79         3.29          82.0         8.3        E   \n",
              "3     10.93      3.28         2.95          80.0         8.0        E   \n",
              "4      8.89     10.22         1.00           NaN         NaN  Unknown   \n",
              "\n",
              "   general_sales  \n",
              "0          82.54  \n",
              "1          40.24  \n",
              "2          35.52  \n",
              "3          32.77  \n",
              "4          31.38  "
            ]
          },
          "execution_count": 86,
          "metadata": {},
          "output_type": "execute_result"
        }
      ],
      "source": [
        "df['general_sales'] = df[['na_sales', 'eu_sales', 'jp_sales', 'other_sales']].sum(axis='columns')\n",
        "df.head()"
      ]
    },
    {
      "cell_type": "markdown",
      "metadata": {
        "id": "GKI621xz7Ejn"
      },
      "source": [
        "### Вывод"
      ]
    },
    {
      "cell_type": "markdown",
      "metadata": {
        "id": "aelTQtnS7Ejo"
      },
      "source": [
        "Данные прошли предобработку и готовы к дальнейшему исследованию.\n",
        "Из датафрейма удалено 1.6% данных."
      ]
    },
    {
      "cell_type": "markdown",
      "metadata": {
        "id": "4h8ZfYNU7Ejo"
      },
      "source": [
        "## Исследовательский анализ данных"
      ]
    },
    {
      "cell_type": "markdown",
      "metadata": {
        "id": "qCnkJD-G7Ejo"
      },
      "source": [
        "### Распределение по годам"
      ]
    },
    {
      "cell_type": "code",
      "execution_count": null,
      "metadata": {
        "scrolled": false,
        "id": "whdu1btJ7Ejo",
        "outputId": "318fb6f4-ef5b-460d-d031-e033c54b84d1"
      },
      "outputs": [
        {
          "data": {
            "text/plain": [
              "count    16444.000000\n",
              "mean      2006.486256\n",
              "std          5.875525\n",
              "min       1980.000000\n",
              "25%       2003.000000\n",
              "50%       2007.000000\n",
              "75%       2010.000000\n",
              "max       2016.000000\n",
              "Name: year_of_release, dtype: float64"
            ]
          },
          "metadata": {},
          "output_type": "display_data"
        },
        {
          "data": {
            "text/plain": [
              "<Figure size 1440x720 with 0 Axes>"
            ]
          },
          "execution_count": 87,
          "metadata": {},
          "output_type": "execute_result"
        },
        {
          "data": {
            "image/png": "[encoded data removed]",
            "text/plain": [
              "<Figure size 432x288 with 1 Axes>"
            ]
          },
          "metadata": {
            "needs_background": "light"
          },
          "output_type": "display_data"
        },
        {
          "data": {
            "text/plain": [
              "<Figure size 1440x720 with 0 Axes>"
            ]
          },
          "metadata": {},
          "output_type": "display_data"
        }
      ],
      "source": [
        "display(df['year_of_release'].describe())\n",
        "df['year_of_release'].hist(bins=10)\n",
        "plt.figure(figsize=[20, 10])"
      ]
    },
    {
      "cell_type": "markdown",
      "metadata": {
        "id": "PFl5I-Fg7Ejp"
      },
      "source": [
        "Большая часть выпущенных игр приходится на период с 2002 до 2016 года. Более ранние даты вообще можно не рассматривать. В 2009-2012 годах наблюдается всплеск по производству игр."
      ]
    },
    {
      "cell_type": "markdown",
      "metadata": {
        "id": "v9-wsBn37Ejq"
      },
      "source": [
        "### Динамика продаж по платформам"
      ]
    },
    {
      "cell_type": "markdown",
      "metadata": {
        "id": "AQXi0ya17Ejq"
      },
      "source": [
        "Отсортируем платформы по объёмам продаж."
      ]
    },
    {
      "cell_type": "code",
      "execution_count": null,
      "metadata": {
        "scrolled": false,
        "id": "QuDWLEiu7Ejq",
        "outputId": "e863700b-f88a-49c3-8aef-51decb88cdac"
      },
      "outputs": [
        {
          "data": {
            "text/html": [
              "<div>\n",
              "<style scoped>\n",
              "    .dataframe tbody tr th:only-of-type {\n",
              "        vertical-align: middle;\n",
              "    }\n",
              "\n",
              "    .dataframe tbody tr th {\n",
              "        vertical-align: top;\n",
              "    }\n",
              "\n",
              "    .dataframe thead th {\n",
              "        text-align: right;\n",
              "    }\n",
              "</style>\n",
              "<table border=\"1\" class=\"dataframe\">\n",
              "  <thead>\n",
              "    <tr style=\"text-align: right;\">\n",
              "      <th></th>\n",
              "      <th>general_sales</th>\n",
              "    </tr>\n",
              "    <tr>\n",
              "      <th>platform</th>\n",
              "      <th></th>\n",
              "    </tr>\n",
              "  </thead>\n",
              "  <tbody>\n",
              "    <tr>\n",
              "      <th>PS2</th>\n",
              "      <td>1233.56</td>\n",
              "    </tr>\n",
              "    <tr>\n",
              "      <th>X360</th>\n",
              "      <td>961.24</td>\n",
              "    </tr>\n",
              "    <tr>\n",
              "      <th>PS3</th>\n",
              "      <td>931.34</td>\n",
              "    </tr>\n",
              "    <tr>\n",
              "      <th>Wii</th>\n",
              "      <td>891.18</td>\n",
              "    </tr>\n",
              "    <tr>\n",
              "      <th>DS</th>\n",
              "      <td>802.78</td>\n",
              "    </tr>\n",
              "    <tr>\n",
              "      <th>PS</th>\n",
              "      <td>727.58</td>\n",
              "    </tr>\n",
              "    <tr>\n",
              "      <th>PS4</th>\n",
              "      <td>314.14</td>\n",
              "    </tr>\n",
              "    <tr>\n",
              "      <th>GBA</th>\n",
              "      <td>312.88</td>\n",
              "    </tr>\n",
              "    <tr>\n",
              "      <th>PSP</th>\n",
              "      <td>289.53</td>\n",
              "    </tr>\n",
              "    <tr>\n",
              "      <th>3DS</th>\n",
              "      <td>257.81</td>\n",
              "    </tr>\n",
              "    <tr>\n",
              "      <th>PC</th>\n",
              "      <td>255.76</td>\n",
              "    </tr>\n",
              "    <tr>\n",
              "      <th>GB</th>\n",
              "      <td>254.43</td>\n",
              "    </tr>\n",
              "    <tr>\n",
              "      <th>XB</th>\n",
              "      <td>251.57</td>\n",
              "    </tr>\n",
              "    <tr>\n",
              "      <th>NES</th>\n",
              "      <td>251.05</td>\n",
              "    </tr>\n",
              "    <tr>\n",
              "      <th>N64</th>\n",
              "      <td>218.01</td>\n",
              "    </tr>\n",
              "    <tr>\n",
              "      <th>SNES</th>\n",
              "      <td>200.04</td>\n",
              "    </tr>\n",
              "    <tr>\n",
              "      <th>GC</th>\n",
              "      <td>196.73</td>\n",
              "    </tr>\n",
              "    <tr>\n",
              "      <th>XOne</th>\n",
              "      <td>159.32</td>\n",
              "    </tr>\n",
              "    <tr>\n",
              "      <th>2600</th>\n",
              "      <td>86.48</td>\n",
              "    </tr>\n",
              "    <tr>\n",
              "      <th>WiiU</th>\n",
              "      <td>82.19</td>\n",
              "    </tr>\n",
              "    <tr>\n",
              "      <th>PSV</th>\n",
              "      <td>53.81</td>\n",
              "    </tr>\n",
              "    <tr>\n",
              "      <th>SAT</th>\n",
              "      <td>33.59</td>\n",
              "    </tr>\n",
              "    <tr>\n",
              "      <th>GEN</th>\n",
              "      <td>28.35</td>\n",
              "    </tr>\n",
              "    <tr>\n",
              "      <th>DC</th>\n",
              "      <td>15.95</td>\n",
              "    </tr>\n",
              "    <tr>\n",
              "      <th>SCD</th>\n",
              "      <td>1.86</td>\n",
              "    </tr>\n",
              "    <tr>\n",
              "      <th>NG</th>\n",
              "      <td>1.44</td>\n",
              "    </tr>\n",
              "    <tr>\n",
              "      <th>WS</th>\n",
              "      <td>1.42</td>\n",
              "    </tr>\n",
              "    <tr>\n",
              "      <th>TG16</th>\n",
              "      <td>0.16</td>\n",
              "    </tr>\n",
              "    <tr>\n",
              "      <th>3DO</th>\n",
              "      <td>0.10</td>\n",
              "    </tr>\n",
              "    <tr>\n",
              "      <th>GG</th>\n",
              "      <td>0.04</td>\n",
              "    </tr>\n",
              "    <tr>\n",
              "      <th>PCFX</th>\n",
              "      <td>0.03</td>\n",
              "    </tr>\n",
              "  </tbody>\n",
              "</table>\n",
              "</div>"
            ],
            "text/plain": [
              "          general_sales\n",
              "platform               \n",
              "PS2             1233.56\n",
              "X360             961.24\n",
              "PS3              931.34\n",
              "Wii              891.18\n",
              "DS               802.78\n",
              "PS               727.58\n",
              "PS4              314.14\n",
              "GBA              312.88\n",
              "PSP              289.53\n",
              "3DS              257.81\n",
              "PC               255.76\n",
              "GB               254.43\n",
              "XB               251.57\n",
              "NES              251.05\n",
              "N64              218.01\n",
              "SNES             200.04\n",
              "GC               196.73\n",
              "XOne             159.32\n",
              "2600              86.48\n",
              "WiiU              82.19\n",
              "PSV               53.81\n",
              "SAT               33.59\n",
              "GEN               28.35\n",
              "DC                15.95\n",
              "SCD                1.86\n",
              "NG                 1.44\n",
              "WS                 1.42\n",
              "TG16               0.16\n",
              "3DO                0.10\n",
              "GG                 0.04\n",
              "PCFX               0.03"
            ]
          },
          "execution_count": 88,
          "metadata": {},
          "output_type": "execute_result"
        }
      ],
      "source": [
        "df.pivot_table(index='platform', values='general_sales', aggfunc='sum').sort_values('general_sales', ascending=False)"
      ]
    },
    {
      "cell_type": "markdown",
      "metadata": {
        "id": "h_jKOAkS7Ejq"
      },
      "source": [
        "Посмотрим, как менялись продажи по платформам с самыми большими суммарными объёмами продаж."
      ]
    },
    {
      "cell_type": "code",
      "execution_count": null,
      "metadata": {
        "scrolled": false,
        "id": "1aggpOe97Ejq",
        "outputId": "20a79fd7-3105-4bd0-a716-21a13e61f3a3"
      },
      "outputs": [
        {
          "data": {
            "text/plain": [
              "<AxesSubplot:xlabel='platform,year_of_release'>"
            ]
          },
          "execution_count": 89,
          "metadata": {},
          "output_type": "execute_result"
        },
        {
          "data": {
            "image/png": "[encoded data removed]",
            "text/plain": [
              "<Figure size 2160x1440 with 1 Axes>"
            ]
          },
          "metadata": {
            "needs_background": "light"
          },
          "output_type": "display_data"
        }
      ],
      "source": [
        "(\n",
        "    df\n",
        "    .pivot_table(index=['platform', 'year_of_release'], values='general_sales', aggfunc='sum')\n",
        "    .query('platform in [\"PS2\", \"X360\", \"Wii\", \"PS3\", \"DS\", \"PS\"]')\n",
        "    .plot(y='general_sales',\n",
        "         kind='bar',\n",
        "         figsize=(30,20),\n",
        "         grid=True)\n",
        ")"
      ]
    },
    {
      "cell_type": "markdown",
      "metadata": {
        "id": "8PKNCDHF7Ejt"
      },
      "source": [
        "На графике чётко просматривается периодичность \"жизненного\" цикла игровых платформ, она составляет 8-10 лет."
      ]
    },
    {
      "cell_type": "markdown",
      "metadata": {
        "id": "ZFXd9idi7Ejt"
      },
      "source": [
        "### Выбор и анализ актуального периода для прогноза"
      ]
    },
    {
      "cell_type": "markdown",
      "metadata": {
        "id": "_egIwUh17Eju"
      },
      "source": [
        "За актуальный период для проведения анализа возьмём 2014-2016 гг."
      ]
    },
    {
      "cell_type": "code",
      "execution_count": null,
      "metadata": {
        "scrolled": true,
        "id": "SCWiH6G37Ejv",
        "outputId": "9b7a87c6-7f02-4468-8dcc-e696a1df30f6"
      },
      "outputs": [
        {
          "name": "stdout",
          "output_type": "stream",
          "text": [
            "<class 'pandas.core.frame.DataFrame'>\n",
            "RangeIndex: 1689 entries, 0 to 1688\n",
            "Data columns (total 12 columns):\n",
            " #   Column           Non-Null Count  Dtype  \n",
            "---  ------           --------------  -----  \n",
            " 0   name             1689 non-null   object \n",
            " 1   platform         1689 non-null   object \n",
            " 2   year_of_release  1689 non-null   int64  \n",
            " 3   genre            1689 non-null   object \n",
            " 4   na_sales         1689 non-null   float64\n",
            " 5   eu_sales         1689 non-null   float64\n",
            " 6   jp_sales         1689 non-null   float64\n",
            " 7   other_sales      1689 non-null   float64\n",
            " 8   critic_score     718 non-null    float64\n",
            " 9   user_score       888 non-null    float64\n",
            " 10  rating           1689 non-null   object \n",
            " 11  general_sales    1689 non-null   float64\n",
            "dtypes: float64(7), int64(1), object(4)\n",
            "memory usage: 158.5+ KB\n"
          ]
        }
      ],
      "source": [
        "topical_period = df[df['year_of_release'] >= 2014].reset_index(drop=True)\n",
        "topical_period.info()"
      ]
    },
    {
      "cell_type": "markdown",
      "metadata": {
        "id": "uLMlCzpU7Ejv"
      },
      "source": [
        "Как и во всём представленном датафрейме, здесь много пропусков в оценках и рейтинге. В остальном, срез вполне пригоден для анализа и составления прогноза."
      ]
    },
    {
      "cell_type": "markdown",
      "metadata": {
        "id": "fiRvLz0g7Ejw"
      },
      "source": [
        "#### Проверим консоли, попавшие в выбранный период."
      ]
    },
    {
      "cell_type": "code",
      "execution_count": null,
      "metadata": {
        "scrolled": true,
        "id": "FG21XlNx7Ejw",
        "outputId": "bb17821a-6963-40ab-ac01-001e25115f11"
      },
      "outputs": [
        {
          "data": {
            "text/plain": [
              "array(['PS4', '3DS', 'XOne', 'WiiU', 'PS3', 'X360', 'PC', 'Wii', 'PSV',\n",
              "       'PSP'], dtype=object)"
            ]
          },
          "execution_count": 93,
          "metadata": {},
          "output_type": "execute_result"
        }
      ],
      "source": [
        "topical_period['platform'].unique()"
      ]
    },
    {
      "cell_type": "code",
      "execution_count": null,
      "metadata": {
        "scrolled": false,
        "id": "mXmPWSjD7Ejw",
        "outputId": "d1a68000-7045-4e51-827e-ac483bce6fdb"
      },
      "outputs": [
        {
          "data": {
            "text/plain": [
              "Text(0.5, 1.0, 'PSP')"
            ]
          },
          "execution_count": 94,
          "metadata": {},
          "output_type": "execute_result"
        },
        {
          "data": {
            "image/png": "[encoded data removed]",
            "text/plain": [
              "<Figure size 432x288 with 1 Axes>"
            ]
          },
          "metadata": {
            "needs_background": "light"
          },
          "output_type": "display_data"
        },
        {
          "data": {
            "image/png": "[encoded data removed]",
            "text/plain": [
              "<Figure size 432x288 with 1 Axes>"
            ]
          },
          "metadata": {
            "needs_background": "light"
          },
          "output_type": "display_data"
        },
        {
          "data": {
            "image/png": "[encoded data removed]",
            "text/plain": [
              "<Figure size 432x288 with 1 Axes>"
            ]
          },
          "metadata": {
            "needs_background": "light"
          },
          "output_type": "display_data"
        },
        {
          "data": {
            "image/png": "[encoded data removed]",
            "text/plain": [
              "<Figure size 432x288 with 1 Axes>"
            ]
          },
          "metadata": {
            "needs_background": "light"
          },
          "output_type": "display_data"
        },
        {
          "data": {
            "image/png": "[encoded data removed]",
            "text/plain": [
              "<Figure size 432x288 with 1 Axes>"
            ]
          },
          "metadata": {
            "needs_background": "light"
          },
          "output_type": "display_data"
        },
        {
          "data": {
            "image/png": "[encoded data removed]",
            "text/plain": [
              "<Figure size 432x288 with 1 Axes>"
            ]
          },
          "metadata": {
            "needs_background": "light"
          },
          "output_type": "display_data"
        },
        {
          "data": {
            "image/png": "[encoded data removed]",
            "text/plain": [
              "<Figure size 432x288 with 1 Axes>"
            ]
          },
          "metadata": {
            "needs_background": "light"
          },
          "output_type": "display_data"
        },
        {
          "data": {
            "image/png": "[encoded data removed]",
            "text/plain": [
              "<Figure size 432x288 with 1 Axes>"
            ]
          },
          "metadata": {
            "needs_background": "light"
          },
          "output_type": "display_data"
        },
        {
          "data": {
            "image/png": "[encoded data removed]",
            "text/plain": [
              "<Figure size 432x288 with 1 Axes>"
            ]
          },
          "metadata": {
            "needs_background": "light"
          },
          "output_type": "display_data"
        },
        {
          "data": {
            "image/png": "[encoded data removed]",
            "text/plain": [
              "<Figure size 432x288 with 1 Axes>"
            ]
          },
          "metadata": {
            "needs_background": "light"
          },
          "output_type": "display_data"
        }
      ],
      "source": [
        "(\n",
        "    topical_period\n",
        "    .query('platform == \"PS4\"')\n",
        "    .pivot_table(index='year_of_release', values='general_sales', aggfunc='sum')\n",
        "    .plot(y='general_sales', kind='bar', grid=True)\n",
        ")\n",
        "plt.title('PS4')\n",
        "\n",
        "(\n",
        "    topical_period\n",
        "    .query('platform == \"3DS\"')\n",
        "    .pivot_table(index='year_of_release', values='general_sales', aggfunc='sum')\n",
        "    .plot(y='general_sales', kind='bar', grid=True)\n",
        ")\n",
        "plt.title('3DS')\n",
        "\n",
        "(\n",
        "    topical_period\n",
        "    .query('platform == \"XOne\"')\n",
        "    .pivot_table(index='year_of_release', values='general_sales', aggfunc='sum')\n",
        "    .plot(y='general_sales', kind='bar', grid=True)\n",
        ")\n",
        "plt.title('XOne')\n",
        "\n",
        "(\n",
        "    topical_period\n",
        "    .query('platform == \"WiiU\"')\n",
        "    .pivot_table(index='year_of_release', values='general_sales', aggfunc='sum')\n",
        "    .plot(y='general_sales', kind='bar', grid=True)\n",
        ")\n",
        "plt.title('WiiU')\n",
        "\n",
        "(\n",
        "    topical_period\n",
        "    .query('platform == \"PS3\"')\n",
        "    .pivot_table(index='year_of_release', values='general_sales', aggfunc='sum')\n",
        "    .plot(y='general_sales', kind='bar', grid=True)\n",
        ")\n",
        "plt.title('PS3')\n",
        "\n",
        "(\n",
        "    topical_period\n",
        "    .query('platform == \"X360\"')\n",
        "    .pivot_table(index='year_of_release', values='general_sales', aggfunc='sum')\n",
        "    .plot(y='general_sales', kind='bar', grid=True)\n",
        ")\n",
        "plt.title('X360')\n",
        "\n",
        "(\n",
        "    topical_period\n",
        "    .query('platform == \"PC\"')\n",
        "    .pivot_table(index='year_of_release', values='general_sales', aggfunc='sum')\n",
        "    .plot(y='general_sales', kind='bar', grid=True)\n",
        ")\n",
        "plt.title('PC')\n",
        "\n",
        "(\n",
        "    topical_period\n",
        "    .query('platform == \"Wii\"')\n",
        "    .pivot_table(index='year_of_release', values='general_sales', aggfunc='sum')\n",
        "    .plot(y='general_sales', kind='bar', grid=True)\n",
        ")\n",
        "plt.title('Wii')\n",
        "\n",
        "(\n",
        "    topical_period\n",
        "    .query('platform == \"PSV\"')\n",
        "    .pivot_table(index='year_of_release', values='general_sales', aggfunc='sum')\n",
        "    .plot(y='general_sales', kind='bar', grid=True)\n",
        ")\n",
        "plt.title('PSV')\n",
        "\n",
        "(\n",
        "    topical_period\n",
        "    .query('platform == \"PSP\"')\n",
        "    .pivot_table(index='year_of_release', values='general_sales', aggfunc='sum')\n",
        "    .plot(y='general_sales', kind='bar', grid=True)\n",
        ")\n",
        "plt.title('PSP')"
      ]
    },
    {
      "cell_type": "markdown",
      "metadata": {
        "id": "g7zOUK6k7Ejx"
      },
      "source": [
        "После изучения графиков и, принимая во внимание тот факт, что данные за 2016 год неполные (хотя, мы не знаем, насколько они неполные - может быть они представлены за 11 месяцев), можно рискнуть сделать заключения:\n",
        "\n",
        "- Бесперспективные платформы, у которых наблюдается тенденция к снижению продаж: 3DS, WiiU, PS3, X360, PC, Wii, PSV.\n",
        "- Перспективные платформы (находятся в зоне роста или стагнации по продажам): PS4, XOne, PSP.\n",
        "- При этом объёмы продаж PS4 в два раза больше, чем у XOne, и в 500 раз больше, чем у PSP."
      ]
    },
    {
      "cell_type": "markdown",
      "metadata": {
        "id": "nAXPeFPv7Ejy"
      },
      "source": [
        "#### Построим диаграмму размаха по глобальным продажам игр в разбивке по платформам."
      ]
    },
    {
      "cell_type": "code",
      "execution_count": null,
      "metadata": {
        "id": "ec23Wuh_7Ejz",
        "outputId": "2934401b-ea71-4d77-e0b7-ad7527b17bf0"
      },
      "outputs": [
        {
          "data": {
            "image/png": "[encoded data removed]",
            "text/plain": [
              "<Figure size 1440x720 with 1 Axes>"
            ]
          },
          "metadata": {
            "needs_background": "light"
          },
          "output_type": "display_data"
        }
      ],
      "source": [
        "plt.figure(figsize=(20, 10))\n",
        "\n",
        "sns.boxplot(data=topical_period, x='platform', y='general_sales')\n",
        "\n",
        "plt.ylim(0, .85)\n",
        "\n",
        "plt.title('\"Ящики с усами\" по глобальным продажам игр')\n",
        "plt.xlabel('Продажи, млн. шт.')\n",
        "plt.ylabel('Платформы')\n",
        "\n",
        "plt.show()"
      ]
    },
    {
      "cell_type": "code",
      "execution_count": null,
      "metadata": {
        "id": "52IS14Hy7Ejz",
        "outputId": "637139d1-9eb7-40f9-b5aa-1e12d4548429"
      },
      "outputs": [
        {
          "data": {
            "text/html": [
              "<div>\n",
              "<style scoped>\n",
              "    .dataframe tbody tr th:only-of-type {\n",
              "        vertical-align: middle;\n",
              "    }\n",
              "\n",
              "    .dataframe tbody tr th {\n",
              "        vertical-align: top;\n",
              "    }\n",
              "\n",
              "    .dataframe thead th {\n",
              "        text-align: right;\n",
              "    }\n",
              "</style>\n",
              "<table border=\"1\" class=\"dataframe\">\n",
              "  <thead>\n",
              "    <tr style=\"text-align: right;\">\n",
              "      <th></th>\n",
              "      <th>count</th>\n",
              "      <th>mean</th>\n",
              "      <th>std</th>\n",
              "      <th>min</th>\n",
              "      <th>25%</th>\n",
              "      <th>50%</th>\n",
              "      <th>75%</th>\n",
              "      <th>max</th>\n",
              "    </tr>\n",
              "    <tr>\n",
              "      <th>platform</th>\n",
              "      <th></th>\n",
              "      <th></th>\n",
              "      <th></th>\n",
              "      <th></th>\n",
              "      <th></th>\n",
              "      <th></th>\n",
              "      <th></th>\n",
              "      <th></th>\n",
              "    </tr>\n",
              "  </thead>\n",
              "  <tbody>\n",
              "    <tr>\n",
              "      <th>3DS</th>\n",
              "      <td>212.0</td>\n",
              "      <td>0.408868</td>\n",
              "      <td>1.188368</td>\n",
              "      <td>0.01</td>\n",
              "      <td>0.0300</td>\n",
              "      <td>0.090</td>\n",
              "      <td>0.2500</td>\n",
              "      <td>11.68</td>\n",
              "    </tr>\n",
              "    <tr>\n",
              "      <th>PC</th>\n",
              "      <td>151.0</td>\n",
              "      <td>0.179139</td>\n",
              "      <td>0.329359</td>\n",
              "      <td>0.01</td>\n",
              "      <td>0.0200</td>\n",
              "      <td>0.060</td>\n",
              "      <td>0.2000</td>\n",
              "      <td>3.05</td>\n",
              "    </tr>\n",
              "    <tr>\n",
              "      <th>PS3</th>\n",
              "      <td>219.0</td>\n",
              "      <td>0.311324</td>\n",
              "      <td>0.633059</td>\n",
              "      <td>0.01</td>\n",
              "      <td>0.0400</td>\n",
              "      <td>0.110</td>\n",
              "      <td>0.3250</td>\n",
              "      <td>5.27</td>\n",
              "    </tr>\n",
              "    <tr>\n",
              "      <th>PS4</th>\n",
              "      <td>376.0</td>\n",
              "      <td>0.766356</td>\n",
              "      <td>1.614969</td>\n",
              "      <td>0.01</td>\n",
              "      <td>0.0575</td>\n",
              "      <td>0.185</td>\n",
              "      <td>0.6900</td>\n",
              "      <td>14.63</td>\n",
              "    </tr>\n",
              "    <tr>\n",
              "      <th>PSP</th>\n",
              "      <td>13.0</td>\n",
              "      <td>0.027692</td>\n",
              "      <td>0.027735</td>\n",
              "      <td>0.01</td>\n",
              "      <td>0.0100</td>\n",
              "      <td>0.020</td>\n",
              "      <td>0.0200</td>\n",
              "      <td>0.09</td>\n",
              "    </tr>\n",
              "    <tr>\n",
              "      <th>PSV</th>\n",
              "      <td>295.0</td>\n",
              "      <td>0.075932</td>\n",
              "      <td>0.141591</td>\n",
              "      <td>0.01</td>\n",
              "      <td>0.0200</td>\n",
              "      <td>0.040</td>\n",
              "      <td>0.0900</td>\n",
              "      <td>1.96</td>\n",
              "    </tr>\n",
              "    <tr>\n",
              "      <th>Wii</th>\n",
              "      <td>11.0</td>\n",
              "      <td>0.460909</td>\n",
              "      <td>0.625451</td>\n",
              "      <td>0.01</td>\n",
              "      <td>0.0350</td>\n",
              "      <td>0.180</td>\n",
              "      <td>0.7550</td>\n",
              "      <td>2.01</td>\n",
              "    </tr>\n",
              "    <tr>\n",
              "      <th>WiiU</th>\n",
              "      <td>73.0</td>\n",
              "      <td>0.588767</td>\n",
              "      <td>1.161467</td>\n",
              "      <td>0.01</td>\n",
              "      <td>0.0500</td>\n",
              "      <td>0.190</td>\n",
              "      <td>0.5700</td>\n",
              "      <td>7.09</td>\n",
              "    </tr>\n",
              "    <tr>\n",
              "      <th>X360</th>\n",
              "      <td>111.0</td>\n",
              "      <td>0.434414</td>\n",
              "      <td>0.628967</td>\n",
              "      <td>0.01</td>\n",
              "      <td>0.0700</td>\n",
              "      <td>0.180</td>\n",
              "      <td>0.5050</td>\n",
              "      <td>4.28</td>\n",
              "    </tr>\n",
              "    <tr>\n",
              "      <th>XOne</th>\n",
              "      <td>228.0</td>\n",
              "      <td>0.615614</td>\n",
              "      <td>1.046513</td>\n",
              "      <td>0.01</td>\n",
              "      <td>0.0500</td>\n",
              "      <td>0.205</td>\n",
              "      <td>0.6325</td>\n",
              "      <td>7.39</td>\n",
              "    </tr>\n",
              "  </tbody>\n",
              "</table>\n",
              "</div>"
            ],
            "text/plain": [
              "          count      mean       std   min     25%    50%     75%    max\n",
              "platform                                                               \n",
              "3DS       212.0  0.408868  1.188368  0.01  0.0300  0.090  0.2500  11.68\n",
              "PC        151.0  0.179139  0.329359  0.01  0.0200  0.060  0.2000   3.05\n",
              "PS3       219.0  0.311324  0.633059  0.01  0.0400  0.110  0.3250   5.27\n",
              "PS4       376.0  0.766356  1.614969  0.01  0.0575  0.185  0.6900  14.63\n",
              "PSP        13.0  0.027692  0.027735  0.01  0.0100  0.020  0.0200   0.09\n",
              "PSV       295.0  0.075932  0.141591  0.01  0.0200  0.040  0.0900   1.96\n",
              "Wii        11.0  0.460909  0.625451  0.01  0.0350  0.180  0.7550   2.01\n",
              "WiiU       73.0  0.588767  1.161467  0.01  0.0500  0.190  0.5700   7.09\n",
              "X360      111.0  0.434414  0.628967  0.01  0.0700  0.180  0.5050   4.28\n",
              "XOne      228.0  0.615614  1.046513  0.01  0.0500  0.205  0.6325   7.39"
            ]
          },
          "execution_count": 29,
          "metadata": {},
          "output_type": "execute_result"
        }
      ],
      "source": [
        "topical_period.groupby('platform')['general_sales'].describe()"
      ]
    },
    {
      "cell_type": "markdown",
      "metadata": {
        "id": "XGqh0DvU7Ej0"
      },
      "source": [
        "У всех платформ среднее значение продаж значительно больше медианного. Наибольшее стандартное отклонение наблюдается у платформ PS4, 3DS, WiiU, XOne."
      ]
    },
    {
      "cell_type": "markdown",
      "metadata": {
        "id": "0RPai87b7Ej0"
      },
      "source": [
        "#### Влияние отзывов пользователей и критиков на продажи у XOne ."
      ]
    },
    {
      "cell_type": "code",
      "execution_count": null,
      "metadata": {
        "scrolled": false,
        "id": "g89qJO0o7Ej1",
        "outputId": "2b5e68a9-f10c-4719-c628-073d8310034c"
      },
      "outputs": [
        {
          "data": {
            "text/plain": [
              "Text(0.5, 1.0, 'Влияние отзывов критиков на продажи')"
            ]
          },
          "execution_count": 30,
          "metadata": {},
          "output_type": "execute_result"
        },
        {
          "data": {
            "image/png": "[encoded data removed]",
            "text/plain": [
              "<Figure size 432x288 with 1 Axes>"
            ]
          },
          "metadata": {
            "needs_background": "light"
          },
          "output_type": "display_data"
        },
        {
          "data": {
            "image/png": "[encoded data removed]",
            "text/plain": [
              "<Figure size 432x288 with 1 Axes>"
            ]
          },
          "metadata": {
            "needs_background": "light"
          },
          "output_type": "display_data"
        }
      ],
      "source": [
        "topical_period[topical_period['platform'] == 'XOne'].plot(x='general_sales', y='user_score', kind='scatter')\n",
        "plt.title('Влияние отзывов пользователей на продажи')\n",
        "topical_period[topical_period['platform'] == 'XOne'].plot(x='general_sales', y='critic_score', kind='scatter')\n",
        "plt.title('Влияние отзывов критиков на продажи')"
      ]
    },
    {
      "cell_type": "markdown",
      "metadata": {
        "id": "WGioIc967Ej1"
      },
      "source": [
        "Вычислим коэффициенты корреляции Пирсона попарно между отзывами и продажами."
      ]
    },
    {
      "cell_type": "code",
      "execution_count": null,
      "metadata": {
        "id": "J9_FKJvI7Ej1",
        "outputId": "0bd56578-0f3e-482d-f9a5-dbc4f9dfbb29"
      },
      "outputs": [
        {
          "data": {
            "text/plain": [
              "'Коэффициент корреляции Пирсона между продажами и оценкой пользователей: '"
            ]
          },
          "metadata": {},
          "output_type": "display_data"
        },
        {
          "data": {
            "text/plain": [
              "-0.0703839280647581"
            ]
          },
          "metadata": {},
          "output_type": "display_data"
        },
        {
          "data": {
            "text/plain": [
              "'Коэффициент корреляции Пирсона между продажами и оценкой критиков: '"
            ]
          },
          "metadata": {},
          "output_type": "display_data"
        },
        {
          "data": {
            "text/plain": [
              "0.42867694370333226"
            ]
          },
          "metadata": {},
          "output_type": "display_data"
        }
      ],
      "source": [
        "display(\"Коэффициент корреляции Пирсона между продажами и оценкой пользователей: \",\n",
        "    topical_period[topical_period['platform'] == 'XOne']['general_sales']\n",
        "        .corr(topical_period[topical_period['platform'] == 'XOne']['user_score'])\n",
        ")\n",
        "display(\"Коэффициент корреляции Пирсона между продажами и оценкой критиков: \",\n",
        "    topical_period[topical_period['platform'] == 'XOne']['general_sales']\n",
        "        .corr(topical_period[topical_period['platform'] == 'XOne']['critic_score'])\n",
        ")"
      ]
    },
    {
      "cell_type": "markdown",
      "metadata": {
        "id": "n3vjOU8K7Ej2"
      },
      "source": [
        "Объём продаж и оценки пользователей практически не коррелируют. Между объёмом продаж и оценками критиков наблюдается слабая прямая корреляция."
      ]
    },
    {
      "cell_type": "markdown",
      "metadata": {
        "id": "OXmUaCAE7Ej2"
      },
      "source": [
        "#### Влияние отзывов критиков и пользователей на продажи игр на остальных платформах."
      ]
    },
    {
      "cell_type": "markdown",
      "metadata": {
        "id": "1XLGX4wB7Ej2"
      },
      "source": [
        "Вычислим коэффициенты корреляции Пирсона попарно между отзывами и продажами."
      ]
    },
    {
      "cell_type": "code",
      "execution_count": null,
      "metadata": {
        "id": "X2Gr0Noj7Ej3",
        "outputId": "8bb521d2-91c3-4691-f706-6468e0ca9e3b"
      },
      "outputs": [
        {
          "data": {
            "text/plain": [
              "'Коэффициент корреляции Пирсона между продажами и оценкой пользователей: '"
            ]
          },
          "metadata": {},
          "output_type": "display_data"
        },
        {
          "data": {
            "text/plain": [
              "-0.0025949515406363936"
            ]
          },
          "metadata": {},
          "output_type": "display_data"
        },
        {
          "data": {
            "text/plain": [
              "'Коэффициент корреляции Пирсона между продажами и оценкой критиков: '"
            ]
          },
          "metadata": {},
          "output_type": "display_data"
        },
        {
          "data": {
            "text/plain": [
              "0.302042487886709"
            ]
          },
          "metadata": {},
          "output_type": "display_data"
        }
      ],
      "source": [
        "display(\"Коэффициент корреляции Пирсона между продажами и оценкой пользователей: \",\n",
        "    topical_period[topical_period['platform'] != 'XOne']['general_sales']\n",
        "        .corr(topical_period[topical_period['platform'] != 'XOne']['user_score'])\n",
        ")\n",
        "display(\"Коэффициент корреляции Пирсона между продажами и оценкой критиков: \",\n",
        "    topical_period[topical_period['platform'] != 'XOne']['general_sales']\n",
        "        .corr(topical_period[topical_period['platform'] != 'XOne']['critic_score'])\n",
        ")"
      ]
    },
    {
      "cell_type": "markdown",
      "metadata": {
        "id": "Nks0kJIF7Ej3"
      },
      "source": [
        "Для остальных платформ выводы по корреляции такие же: практически нет связи между продажами и оценкой пользователей, и совсем небольшая прямая связь между продажами и оценками критиков."
      ]
    },
    {
      "cell_type": "markdown",
      "metadata": {
        "id": "9-6RN8tI7Ej3"
      },
      "source": [
        "#### Анализ распределения игр по жанрам."
      ]
    },
    {
      "cell_type": "markdown",
      "metadata": {
        "id": "81XUucNk7Ej3"
      },
      "source": [
        "Общее распределение игр по жанрам."
      ]
    },
    {
      "cell_type": "code",
      "execution_count": null,
      "metadata": {
        "id": "bCo8JAjP7Ej3",
        "outputId": "7e5b7296-25aa-4efa-8f3f-9f9df8bd4415"
      },
      "outputs": [
        {
          "data": {
            "text/plain": [
              "Action          619\n",
              "Role-Playing    221\n",
              "Adventure       185\n",
              "Sports          161\n",
              "Shooter         128\n",
              "Misc            113\n",
              "Racing           69\n",
              "Fighting         60\n",
              "Simulation       44\n",
              "Platform         38\n",
              "Strategy         37\n",
              "Puzzle           14\n",
              "Name: genre, dtype: int64"
            ]
          },
          "execution_count": 33,
          "metadata": {},
          "output_type": "execute_result"
        }
      ],
      "source": [
        "topical_period['genre'].value_counts()"
      ]
    },
    {
      "cell_type": "markdown",
      "metadata": {
        "id": "AZ-itdTV7Ej4"
      },
      "source": [
        "Абсолютный лидер жанр по представленности в выборке - Action. Далее - Misc, Sports, Adventure, Role-Playing."
      ]
    },
    {
      "cell_type": "markdown",
      "metadata": {
        "id": "RmpdXCxW7Ej4"
      },
      "source": [
        "Проверим объёмы продаж по жанрам."
      ]
    },
    {
      "cell_type": "code",
      "execution_count": null,
      "metadata": {
        "scrolled": false,
        "id": "3zV5dmT97Ej4",
        "outputId": "4a49fe92-be75-4dbd-8125-36c38a628549"
      },
      "outputs": [
        {
          "data": {
            "text/html": [
              "<div>\n",
              "<style scoped>\n",
              "    .dataframe tbody tr th:only-of-type {\n",
              "        vertical-align: middle;\n",
              "    }\n",
              "\n",
              "    .dataframe tbody tr th {\n",
              "        vertical-align: top;\n",
              "    }\n",
              "\n",
              "    .dataframe thead th {\n",
              "        text-align: right;\n",
              "    }\n",
              "</style>\n",
              "<table border=\"1\" class=\"dataframe\">\n",
              "  <thead>\n",
              "    <tr style=\"text-align: right;\">\n",
              "      <th></th>\n",
              "      <th>general_sales</th>\n",
              "    </tr>\n",
              "    <tr>\n",
              "      <th>genre</th>\n",
              "      <th></th>\n",
              "    </tr>\n",
              "  </thead>\n",
              "  <tbody>\n",
              "    <tr>\n",
              "      <th>Action</th>\n",
              "      <td>199.36</td>\n",
              "    </tr>\n",
              "    <tr>\n",
              "      <th>Shooter</th>\n",
              "      <td>170.94</td>\n",
              "    </tr>\n",
              "    <tr>\n",
              "      <th>Sports</th>\n",
              "      <td>109.48</td>\n",
              "    </tr>\n",
              "    <tr>\n",
              "      <th>Role-Playing</th>\n",
              "      <td>101.44</td>\n",
              "    </tr>\n",
              "    <tr>\n",
              "      <th>Misc</th>\n",
              "      <td>37.55</td>\n",
              "    </tr>\n",
              "    <tr>\n",
              "      <th>Fighting</th>\n",
              "      <td>28.22</td>\n",
              "    </tr>\n",
              "    <tr>\n",
              "      <th>Racing</th>\n",
              "      <td>27.52</td>\n",
              "    </tr>\n",
              "    <tr>\n",
              "      <th>Platform</th>\n",
              "      <td>18.09</td>\n",
              "    </tr>\n",
              "    <tr>\n",
              "      <th>Adventure</th>\n",
              "      <td>17.55</td>\n",
              "    </tr>\n",
              "    <tr>\n",
              "      <th>Simulation</th>\n",
              "      <td>13.13</td>\n",
              "    </tr>\n",
              "    <tr>\n",
              "      <th>Strategy</th>\n",
              "      <td>3.96</td>\n",
              "    </tr>\n",
              "    <tr>\n",
              "      <th>Puzzle</th>\n",
              "      <td>2.21</td>\n",
              "    </tr>\n",
              "  </tbody>\n",
              "</table>\n",
              "</div>"
            ],
            "text/plain": [
              "              general_sales\n",
              "genre                      \n",
              "Action               199.36\n",
              "Shooter              170.94\n",
              "Sports               109.48\n",
              "Role-Playing         101.44\n",
              "Misc                  37.55\n",
              "Fighting              28.22\n",
              "Racing                27.52\n",
              "Platform              18.09\n",
              "Adventure             17.55\n",
              "Simulation            13.13\n",
              "Strategy               3.96\n",
              "Puzzle                 2.21"
            ]
          },
          "execution_count": 34,
          "metadata": {},
          "output_type": "execute_result"
        }
      ],
      "source": [
        "(\n",
        "    topical_period\n",
        "    .pivot_table(index='genre', values='general_sales', aggfunc='sum')\n",
        "    .sort_values('general_sales', ascending=False)\n",
        ")"
      ]
    },
    {
      "cell_type": "markdown",
      "metadata": {
        "id": "0rMJchpC7Ej4"
      },
      "source": [
        "Наиболее прибыльные жанры: Action, Shooter, Sports, Role-Playing, Misc.\n",
        "\n",
        "Посмотрим на числовое описание данных по продажам игр в различных жанрах."
      ]
    },
    {
      "cell_type": "code",
      "execution_count": null,
      "metadata": {
        "id": "fJsdnKNK7Ej5",
        "outputId": "ab58520d-c7cb-4f6c-ff4d-ca7428474dcf"
      },
      "outputs": [
        {
          "data": {
            "text/html": [
              "<div>\n",
              "<style scoped>\n",
              "    .dataframe tbody tr th:only-of-type {\n",
              "        vertical-align: middle;\n",
              "    }\n",
              "\n",
              "    .dataframe tbody tr th {\n",
              "        vertical-align: top;\n",
              "    }\n",
              "\n",
              "    .dataframe thead th {\n",
              "        text-align: right;\n",
              "    }\n",
              "</style>\n",
              "<table border=\"1\" class=\"dataframe\">\n",
              "  <thead>\n",
              "    <tr style=\"text-align: right;\">\n",
              "      <th></th>\n",
              "      <th>count</th>\n",
              "      <th>mean</th>\n",
              "      <th>std</th>\n",
              "      <th>min</th>\n",
              "      <th>25%</th>\n",
              "      <th>50%</th>\n",
              "      <th>75%</th>\n",
              "      <th>max</th>\n",
              "    </tr>\n",
              "    <tr>\n",
              "      <th>genre</th>\n",
              "      <th></th>\n",
              "      <th></th>\n",
              "      <th></th>\n",
              "      <th></th>\n",
              "      <th></th>\n",
              "      <th></th>\n",
              "      <th></th>\n",
              "      <th></th>\n",
              "    </tr>\n",
              "  </thead>\n",
              "  <tbody>\n",
              "    <tr>\n",
              "      <th>Action</th>\n",
              "      <td>619.0</td>\n",
              "      <td>0.322068</td>\n",
              "      <td>0.798181</td>\n",
              "      <td>0.01</td>\n",
              "      <td>0.0300</td>\n",
              "      <td>0.090</td>\n",
              "      <td>0.2800</td>\n",
              "      <td>12.62</td>\n",
              "    </tr>\n",
              "    <tr>\n",
              "      <th>Adventure</th>\n",
              "      <td>185.0</td>\n",
              "      <td>0.094865</td>\n",
              "      <td>0.203147</td>\n",
              "      <td>0.01</td>\n",
              "      <td>0.0200</td>\n",
              "      <td>0.030</td>\n",
              "      <td>0.0800</td>\n",
              "      <td>1.66</td>\n",
              "    </tr>\n",
              "    <tr>\n",
              "      <th>Fighting</th>\n",
              "      <td>60.0</td>\n",
              "      <td>0.470333</td>\n",
              "      <td>1.188053</td>\n",
              "      <td>0.01</td>\n",
              "      <td>0.0600</td>\n",
              "      <td>0.125</td>\n",
              "      <td>0.3200</td>\n",
              "      <td>7.55</td>\n",
              "    </tr>\n",
              "    <tr>\n",
              "      <th>Misc</th>\n",
              "      <td>113.0</td>\n",
              "      <td>0.332301</td>\n",
              "      <td>0.736999</td>\n",
              "      <td>0.01</td>\n",
              "      <td>0.0300</td>\n",
              "      <td>0.090</td>\n",
              "      <td>0.3200</td>\n",
              "      <td>5.27</td>\n",
              "    </tr>\n",
              "    <tr>\n",
              "      <th>Platform</th>\n",
              "      <td>38.0</td>\n",
              "      <td>0.476053</td>\n",
              "      <td>0.722561</td>\n",
              "      <td>0.01</td>\n",
              "      <td>0.0625</td>\n",
              "      <td>0.140</td>\n",
              "      <td>0.4675</td>\n",
              "      <td>3.21</td>\n",
              "    </tr>\n",
              "    <tr>\n",
              "      <th>Puzzle</th>\n",
              "      <td>14.0</td>\n",
              "      <td>0.157857</td>\n",
              "      <td>0.320629</td>\n",
              "      <td>0.01</td>\n",
              "      <td>0.0200</td>\n",
              "      <td>0.045</td>\n",
              "      <td>0.1000</td>\n",
              "      <td>1.19</td>\n",
              "    </tr>\n",
              "    <tr>\n",
              "      <th>Racing</th>\n",
              "      <td>69.0</td>\n",
              "      <td>0.398841</td>\n",
              "      <td>0.963716</td>\n",
              "      <td>0.01</td>\n",
              "      <td>0.0300</td>\n",
              "      <td>0.090</td>\n",
              "      <td>0.2500</td>\n",
              "      <td>7.09</td>\n",
              "    </tr>\n",
              "    <tr>\n",
              "      <th>Role-Playing</th>\n",
              "      <td>221.0</td>\n",
              "      <td>0.459005</td>\n",
              "      <td>1.177284</td>\n",
              "      <td>0.01</td>\n",
              "      <td>0.0500</td>\n",
              "      <td>0.110</td>\n",
              "      <td>0.3600</td>\n",
              "      <td>11.68</td>\n",
              "    </tr>\n",
              "    <tr>\n",
              "      <th>Shooter</th>\n",
              "      <td>128.0</td>\n",
              "      <td>1.335469</td>\n",
              "      <td>2.050567</td>\n",
              "      <td>0.01</td>\n",
              "      <td>0.1725</td>\n",
              "      <td>0.515</td>\n",
              "      <td>1.6175</td>\n",
              "      <td>14.63</td>\n",
              "    </tr>\n",
              "    <tr>\n",
              "      <th>Simulation</th>\n",
              "      <td>44.0</td>\n",
              "      <td>0.298409</td>\n",
              "      <td>0.646925</td>\n",
              "      <td>0.01</td>\n",
              "      <td>0.0200</td>\n",
              "      <td>0.100</td>\n",
              "      <td>0.3275</td>\n",
              "      <td>3.05</td>\n",
              "    </tr>\n",
              "    <tr>\n",
              "      <th>Sports</th>\n",
              "      <td>161.0</td>\n",
              "      <td>0.680000</td>\n",
              "      <td>1.239736</td>\n",
              "      <td>0.01</td>\n",
              "      <td>0.0600</td>\n",
              "      <td>0.180</td>\n",
              "      <td>0.6400</td>\n",
              "      <td>8.58</td>\n",
              "    </tr>\n",
              "    <tr>\n",
              "      <th>Strategy</th>\n",
              "      <td>37.0</td>\n",
              "      <td>0.107027</td>\n",
              "      <td>0.118412</td>\n",
              "      <td>0.01</td>\n",
              "      <td>0.0300</td>\n",
              "      <td>0.060</td>\n",
              "      <td>0.1400</td>\n",
              "      <td>0.52</td>\n",
              "    </tr>\n",
              "  </tbody>\n",
              "</table>\n",
              "</div>"
            ],
            "text/plain": [
              "              count      mean       std   min     25%    50%     75%    max\n",
              "genre                                                                      \n",
              "Action        619.0  0.322068  0.798181  0.01  0.0300  0.090  0.2800  12.62\n",
              "Adventure     185.0  0.094865  0.203147  0.01  0.0200  0.030  0.0800   1.66\n",
              "Fighting       60.0  0.470333  1.188053  0.01  0.0600  0.125  0.3200   7.55\n",
              "Misc          113.0  0.332301  0.736999  0.01  0.0300  0.090  0.3200   5.27\n",
              "Platform       38.0  0.476053  0.722561  0.01  0.0625  0.140  0.4675   3.21\n",
              "Puzzle         14.0  0.157857  0.320629  0.01  0.0200  0.045  0.1000   1.19\n",
              "Racing         69.0  0.398841  0.963716  0.01  0.0300  0.090  0.2500   7.09\n",
              "Role-Playing  221.0  0.459005  1.177284  0.01  0.0500  0.110  0.3600  11.68\n",
              "Shooter       128.0  1.335469  2.050567  0.01  0.1725  0.515  1.6175  14.63\n",
              "Simulation     44.0  0.298409  0.646925  0.01  0.0200  0.100  0.3275   3.05\n",
              "Sports        161.0  0.680000  1.239736  0.01  0.0600  0.180  0.6400   8.58\n",
              "Strategy       37.0  0.107027  0.118412  0.01  0.0300  0.060  0.1400   0.52"
            ]
          },
          "execution_count": 35,
          "metadata": {},
          "output_type": "execute_result"
        }
      ],
      "source": [
        "topical_period.groupby('genre')['general_sales'].describe()"
      ]
    },
    {
      "cell_type": "markdown",
      "metadata": {
        "id": "7JvOyYj-7Ej5"
      },
      "source": [
        "- У наиболее прибыльных жанров наблюдаем значительную разницу между средними и медианными значениями и большое значение стандартных отклонений, что свидетельствует о неоднородности данных.\n",
        "- Для жанров, приносящих меньше прибыли характерно более низкое стандартное отклонение, но разница между медианой и средним всё же довольно высокая. \n",
        "- После рассмотрения медианных и средних значений можно сделать заключение: жанром-лидером со стабильными продажами с большим отрывом от конкурентов является Shooter."
      ]
    },
    {
      "cell_type": "markdown",
      "metadata": {
        "id": "YUL2OtdV7Ej6"
      },
      "source": [
        "### Вывод"
      ]
    },
    {
      "cell_type": "markdown",
      "metadata": {
        "id": "jSnB0qm67Ej6"
      },
      "source": [
        "- Большая часть выпущенных игр в представленной выборке приходится на период с 2002 до 2016 года.\n",
        "- Периодичность \"жизненного\" цикла игровых платформ составляет 8-10 лет.\n",
        "- Перспективные платформы (находятся в зоне роста или стагнации по продажам): PS4, XOne, PSP.\n",
        "- Вычисление коэффициентов корреляции Пирсона дало следующие результаты: \n",
        "    - практически нет связи между продажами и оценкой пользователей.\n",
        "    - совсем небольшая прямая связь между продажами и оценками критиков.\n",
        "- Жанры-лидеры по представленности в выборке - Action, Role-Playing, Adventure, Sports, Shooter.\n",
        "- Наиболее прибыльный жанр: Shooter."
      ]
    },
    {
      "cell_type": "markdown",
      "metadata": {
        "id": "VrDbr7x27Ej6"
      },
      "source": [
        "## Составление портрета пользователя каждого региона"
      ]
    },
    {
      "cell_type": "code",
      "execution_count": null,
      "metadata": {
        "scrolled": true,
        "id": "ASu9G9DM7Ej7",
        "outputId": "ac788dc0-484d-47d4-9833-5d71385ecee4"
      },
      "outputs": [
        {
          "data": {
            "text/html": [
              "<div>\n",
              "<style scoped>\n",
              "    .dataframe tbody tr th:only-of-type {\n",
              "        vertical-align: middle;\n",
              "    }\n",
              "\n",
              "    .dataframe tbody tr th {\n",
              "        vertical-align: top;\n",
              "    }\n",
              "\n",
              "    .dataframe thead th {\n",
              "        text-align: right;\n",
              "    }\n",
              "</style>\n",
              "<table border=\"1\" class=\"dataframe\">\n",
              "  <thead>\n",
              "    <tr style=\"text-align: right;\">\n",
              "      <th></th>\n",
              "      <th>name</th>\n",
              "      <th>platform</th>\n",
              "      <th>year_of_release</th>\n",
              "      <th>genre</th>\n",
              "      <th>na_sales</th>\n",
              "      <th>eu_sales</th>\n",
              "      <th>jp_sales</th>\n",
              "      <th>other_sales</th>\n",
              "      <th>critic_score</th>\n",
              "      <th>user_score</th>\n",
              "      <th>rating</th>\n",
              "      <th>general_sales</th>\n",
              "    </tr>\n",
              "  </thead>\n",
              "  <tbody>\n",
              "    <tr>\n",
              "      <th>0</th>\n",
              "      <td>Call of Duty: Black Ops 3</td>\n",
              "      <td>PS4</td>\n",
              "      <td>2015</td>\n",
              "      <td>Shooter</td>\n",
              "      <td>6.03</td>\n",
              "      <td>5.86</td>\n",
              "      <td>0.36</td>\n",
              "      <td>2.38</td>\n",
              "      <td>NaN</td>\n",
              "      <td>NaN</td>\n",
              "      <td>Unknown</td>\n",
              "      <td>14.63</td>\n",
              "    </tr>\n",
              "    <tr>\n",
              "      <th>1</th>\n",
              "      <td>Grand Theft Auto V</td>\n",
              "      <td>PS4</td>\n",
              "      <td>2014</td>\n",
              "      <td>Action</td>\n",
              "      <td>3.96</td>\n",
              "      <td>6.31</td>\n",
              "      <td>0.38</td>\n",
              "      <td>1.97</td>\n",
              "      <td>97.0</td>\n",
              "      <td>8.3</td>\n",
              "      <td>M</td>\n",
              "      <td>12.62</td>\n",
              "    </tr>\n",
              "    <tr>\n",
              "      <th>2</th>\n",
              "      <td>Pokemon Omega Ruby/Pokemon Alpha Sapphire</td>\n",
              "      <td>3DS</td>\n",
              "      <td>2014</td>\n",
              "      <td>Role-Playing</td>\n",
              "      <td>4.35</td>\n",
              "      <td>3.49</td>\n",
              "      <td>3.10</td>\n",
              "      <td>0.74</td>\n",
              "      <td>NaN</td>\n",
              "      <td>NaN</td>\n",
              "      <td>Unknown</td>\n",
              "      <td>11.68</td>\n",
              "    </tr>\n",
              "    <tr>\n",
              "      <th>3</th>\n",
              "      <td>FIFA 16</td>\n",
              "      <td>PS4</td>\n",
              "      <td>2015</td>\n",
              "      <td>Sports</td>\n",
              "      <td>1.12</td>\n",
              "      <td>6.12</td>\n",
              "      <td>0.06</td>\n",
              "      <td>1.28</td>\n",
              "      <td>82.0</td>\n",
              "      <td>4.3</td>\n",
              "      <td>E</td>\n",
              "      <td>8.58</td>\n",
              "    </tr>\n",
              "    <tr>\n",
              "      <th>4</th>\n",
              "      <td>Star Wars Battlefront (2015)</td>\n",
              "      <td>PS4</td>\n",
              "      <td>2015</td>\n",
              "      <td>Shooter</td>\n",
              "      <td>2.99</td>\n",
              "      <td>3.49</td>\n",
              "      <td>0.22</td>\n",
              "      <td>1.28</td>\n",
              "      <td>NaN</td>\n",
              "      <td>NaN</td>\n",
              "      <td>Unknown</td>\n",
              "      <td>7.98</td>\n",
              "    </tr>\n",
              "  </tbody>\n",
              "</table>\n",
              "</div>"
            ],
            "text/plain": [
              "                                        name platform  year_of_release  \\\n",
              "0                  Call of Duty: Black Ops 3      PS4             2015   \n",
              "1                         Grand Theft Auto V      PS4             2014   \n",
              "2  Pokemon Omega Ruby/Pokemon Alpha Sapphire      3DS             2014   \n",
              "3                                    FIFA 16      PS4             2015   \n",
              "4               Star Wars Battlefront (2015)      PS4             2015   \n",
              "\n",
              "          genre  na_sales  eu_sales  jp_sales  other_sales  critic_score  \\\n",
              "0       Shooter      6.03      5.86      0.36         2.38           NaN   \n",
              "1        Action      3.96      6.31      0.38         1.97          97.0   \n",
              "2  Role-Playing      4.35      3.49      3.10         0.74           NaN   \n",
              "3        Sports      1.12      6.12      0.06         1.28          82.0   \n",
              "4       Shooter      2.99      3.49      0.22         1.28           NaN   \n",
              "\n",
              "   user_score   rating  general_sales  \n",
              "0         NaN  Unknown          14.63  \n",
              "1         8.3        M          12.62  \n",
              "2         NaN  Unknown          11.68  \n",
              "3         4.3        E           8.58  \n",
              "4         NaN  Unknown           7.98  "
            ]
          },
          "execution_count": 36,
          "metadata": {},
          "output_type": "execute_result"
        }
      ],
      "source": [
        "topical_period.head()"
      ]
    },
    {
      "cell_type": "markdown",
      "metadata": {
        "id": "j-Z46aoJ7Ej7"
      },
      "source": [
        "### Определение топ-5 по популярности платформ для каждого региона"
      ]
    },
    {
      "cell_type": "code",
      "execution_count": null,
      "metadata": {
        "scrolled": false,
        "id": "FEEVOWih7Ej7",
        "outputId": "3cde24a5-06df-459d-c52d-87f9430b709e"
      },
      "outputs": [
        {
          "data": {
            "text/html": [
              "<div>\n",
              "<style scoped>\n",
              "    .dataframe tbody tr th:only-of-type {\n",
              "        vertical-align: middle;\n",
              "    }\n",
              "\n",
              "    .dataframe tbody tr th {\n",
              "        vertical-align: top;\n",
              "    }\n",
              "\n",
              "    .dataframe thead th {\n",
              "        text-align: right;\n",
              "    }\n",
              "</style>\n",
              "<table border=\"1\" class=\"dataframe\">\n",
              "  <thead>\n",
              "    <tr style=\"text-align: right;\">\n",
              "      <th></th>\n",
              "      <th>na_sales</th>\n",
              "    </tr>\n",
              "    <tr>\n",
              "      <th>platform</th>\n",
              "      <th></th>\n",
              "    </tr>\n",
              "  </thead>\n",
              "  <tbody>\n",
              "    <tr>\n",
              "      <th>PS4</th>\n",
              "      <td>98.61</td>\n",
              "    </tr>\n",
              "    <tr>\n",
              "      <th>XOne</th>\n",
              "      <td>81.27</td>\n",
              "    </tr>\n",
              "    <tr>\n",
              "      <th>X360</th>\n",
              "      <td>28.30</td>\n",
              "    </tr>\n",
              "    <tr>\n",
              "      <th>3DS</th>\n",
              "      <td>22.64</td>\n",
              "    </tr>\n",
              "    <tr>\n",
              "      <th>PS3</th>\n",
              "      <td>22.05</td>\n",
              "    </tr>\n",
              "  </tbody>\n",
              "</table>\n",
              "</div>"
            ],
            "text/plain": [
              "          na_sales\n",
              "platform          \n",
              "PS4          98.61\n",
              "XOne         81.27\n",
              "X360         28.30\n",
              "3DS          22.64\n",
              "PS3          22.05"
            ]
          },
          "metadata": {},
          "output_type": "display_data"
        },
        {
          "data": {
            "text/html": [
              "<div>\n",
              "<style scoped>\n",
              "    .dataframe tbody tr th:only-of-type {\n",
              "        vertical-align: middle;\n",
              "    }\n",
              "\n",
              "    .dataframe tbody tr th {\n",
              "        vertical-align: top;\n",
              "    }\n",
              "\n",
              "    .dataframe thead th {\n",
              "        text-align: right;\n",
              "    }\n",
              "</style>\n",
              "<table border=\"1\" class=\"dataframe\">\n",
              "  <thead>\n",
              "    <tr style=\"text-align: right;\">\n",
              "      <th></th>\n",
              "      <th>eu_sales</th>\n",
              "    </tr>\n",
              "    <tr>\n",
              "      <th>platform</th>\n",
              "      <th></th>\n",
              "    </tr>\n",
              "  </thead>\n",
              "  <tbody>\n",
              "    <tr>\n",
              "      <th>PS4</th>\n",
              "      <td>130.04</td>\n",
              "    </tr>\n",
              "    <tr>\n",
              "      <th>XOne</th>\n",
              "      <td>46.25</td>\n",
              "    </tr>\n",
              "    <tr>\n",
              "      <th>PS3</th>\n",
              "      <td>25.54</td>\n",
              "    </tr>\n",
              "    <tr>\n",
              "      <th>PC</th>\n",
              "      <td>17.97</td>\n",
              "    </tr>\n",
              "    <tr>\n",
              "      <th>3DS</th>\n",
              "      <td>16.12</td>\n",
              "    </tr>\n",
              "  </tbody>\n",
              "</table>\n",
              "</div>"
            ],
            "text/plain": [
              "          eu_sales\n",
              "platform          \n",
              "PS4         130.04\n",
              "XOne         46.25\n",
              "PS3          25.54\n",
              "PC           17.97\n",
              "3DS          16.12"
            ]
          },
          "metadata": {},
          "output_type": "display_data"
        },
        {
          "data": {
            "text/html": [
              "<div>\n",
              "<style scoped>\n",
              "    .dataframe tbody tr th:only-of-type {\n",
              "        vertical-align: middle;\n",
              "    }\n",
              "\n",
              "    .dataframe tbody tr th {\n",
              "        vertical-align: top;\n",
              "    }\n",
              "\n",
              "    .dataframe thead th {\n",
              "        text-align: right;\n",
              "    }\n",
              "</style>\n",
              "<table border=\"1\" class=\"dataframe\">\n",
              "  <thead>\n",
              "    <tr style=\"text-align: right;\">\n",
              "      <th></th>\n",
              "      <th>jp_sales</th>\n",
              "    </tr>\n",
              "    <tr>\n",
              "      <th>platform</th>\n",
              "      <th></th>\n",
              "    </tr>\n",
              "  </thead>\n",
              "  <tbody>\n",
              "    <tr>\n",
              "      <th>3DS</th>\n",
              "      <td>44.24</td>\n",
              "    </tr>\n",
              "    <tr>\n",
              "      <th>PS4</th>\n",
              "      <td>15.02</td>\n",
              "    </tr>\n",
              "    <tr>\n",
              "      <th>PSV</th>\n",
              "      <td>14.54</td>\n",
              "    </tr>\n",
              "    <tr>\n",
              "      <th>PS3</th>\n",
              "      <td>11.22</td>\n",
              "    </tr>\n",
              "    <tr>\n",
              "      <th>WiiU</th>\n",
              "      <td>7.31</td>\n",
              "    </tr>\n",
              "  </tbody>\n",
              "</table>\n",
              "</div>"
            ],
            "text/plain": [
              "          jp_sales\n",
              "platform          \n",
              "3DS          44.24\n",
              "PS4          15.02\n",
              "PSV          14.54\n",
              "PS3          11.22\n",
              "WiiU          7.31"
            ]
          },
          "metadata": {},
          "output_type": "display_data"
        }
      ],
      "source": [
        "display(\n",
        "    topical_period\n",
        "    .pivot_table(index='platform', values='na_sales', aggfunc='sum')\n",
        "    .sort_values('na_sales', ascending=False)\n",
        "    .head()\n",
        ")\n",
        "display(\n",
        "    topical_period\n",
        "    .pivot_table(index='platform', values='eu_sales', aggfunc='sum')\n",
        "    .sort_values('eu_sales', ascending=False)\n",
        "    .head()\n",
        ")\n",
        "display(\n",
        "    topical_period\n",
        "    .pivot_table(index='platform', values='jp_sales', aggfunc='sum')\n",
        "    .sort_values('jp_sales', ascending=False)\n",
        "    .head()\n",
        ")"
      ]
    },
    {
      "cell_type": "markdown",
      "metadata": {
        "id": "RKGwPVcz7Ej8"
      },
      "source": [
        "- В Северной Америке и Европе выбор игровых платформ схож, в Японии - игроки в целом отдают предпочтения другим приставкам.\n",
        "- Американские пользователи одинаково примерно в раной степени покупают игры двух лидирующих платформ: PS4 и XOne.\n",
        "- В Европе явное предпочтение отдаётся PS4.\n",
        "- В Японии пользователи больше интересуются Nintendo 3DS."
      ]
    },
    {
      "cell_type": "markdown",
      "metadata": {
        "id": "cUKj9cFW7Ej8"
      },
      "source": [
        "### Определение топ-5 по популярности жанров в каждом регионе"
      ]
    },
    {
      "cell_type": "code",
      "execution_count": null,
      "metadata": {
        "id": "KSBBxNB_7Ej8",
        "outputId": "9a647485-3ec7-47b1-d5d7-89e44ebbffe2"
      },
      "outputs": [
        {
          "data": {
            "text/html": [
              "<div>\n",
              "<style scoped>\n",
              "    .dataframe tbody tr th:only-of-type {\n",
              "        vertical-align: middle;\n",
              "    }\n",
              "\n",
              "    .dataframe tbody tr th {\n",
              "        vertical-align: top;\n",
              "    }\n",
              "\n",
              "    .dataframe thead th {\n",
              "        text-align: right;\n",
              "    }\n",
              "</style>\n",
              "<table border=\"1\" class=\"dataframe\">\n",
              "  <thead>\n",
              "    <tr style=\"text-align: right;\">\n",
              "      <th></th>\n",
              "      <th>na_sales</th>\n",
              "    </tr>\n",
              "    <tr>\n",
              "      <th>genre</th>\n",
              "      <th></th>\n",
              "    </tr>\n",
              "  </thead>\n",
              "  <tbody>\n",
              "    <tr>\n",
              "      <th>Shooter</th>\n",
              "      <td>79.02</td>\n",
              "    </tr>\n",
              "    <tr>\n",
              "      <th>Action</th>\n",
              "      <td>72.53</td>\n",
              "    </tr>\n",
              "    <tr>\n",
              "      <th>Sports</th>\n",
              "      <td>46.13</td>\n",
              "    </tr>\n",
              "    <tr>\n",
              "      <th>Role-Playing</th>\n",
              "      <td>33.47</td>\n",
              "    </tr>\n",
              "    <tr>\n",
              "      <th>Misc</th>\n",
              "      <td>15.05</td>\n",
              "    </tr>\n",
              "  </tbody>\n",
              "</table>\n",
              "</div>"
            ],
            "text/plain": [
              "              na_sales\n",
              "genre                 \n",
              "Shooter          79.02\n",
              "Action           72.53\n",
              "Sports           46.13\n",
              "Role-Playing     33.47\n",
              "Misc             15.05"
            ]
          },
          "metadata": {},
          "output_type": "display_data"
        },
        {
          "data": {
            "text/html": [
              "<div>\n",
              "<style scoped>\n",
              "    .dataframe tbody tr th:only-of-type {\n",
              "        vertical-align: middle;\n",
              "    }\n",
              "\n",
              "    .dataframe tbody tr th {\n",
              "        vertical-align: top;\n",
              "    }\n",
              "\n",
              "    .dataframe thead th {\n",
              "        text-align: right;\n",
              "    }\n",
              "</style>\n",
              "<table border=\"1\" class=\"dataframe\">\n",
              "  <thead>\n",
              "    <tr style=\"text-align: right;\">\n",
              "      <th></th>\n",
              "      <th>eu_sales</th>\n",
              "    </tr>\n",
              "    <tr>\n",
              "      <th>genre</th>\n",
              "      <th></th>\n",
              "    </tr>\n",
              "  </thead>\n",
              "  <tbody>\n",
              "    <tr>\n",
              "      <th>Action</th>\n",
              "      <td>74.68</td>\n",
              "    </tr>\n",
              "    <tr>\n",
              "      <th>Shooter</th>\n",
              "      <td>65.52</td>\n",
              "    </tr>\n",
              "    <tr>\n",
              "      <th>Sports</th>\n",
              "      <td>45.73</td>\n",
              "    </tr>\n",
              "    <tr>\n",
              "      <th>Role-Playing</th>\n",
              "      <td>28.17</td>\n",
              "    </tr>\n",
              "    <tr>\n",
              "      <th>Racing</th>\n",
              "      <td>14.13</td>\n",
              "    </tr>\n",
              "  </tbody>\n",
              "</table>\n",
              "</div>"
            ],
            "text/plain": [
              "              eu_sales\n",
              "genre                 \n",
              "Action           74.68\n",
              "Shooter          65.52\n",
              "Sports           45.73\n",
              "Role-Playing     28.17\n",
              "Racing           14.13"
            ]
          },
          "metadata": {},
          "output_type": "display_data"
        },
        {
          "data": {
            "text/html": [
              "<div>\n",
              "<style scoped>\n",
              "    .dataframe tbody tr th:only-of-type {\n",
              "        vertical-align: middle;\n",
              "    }\n",
              "\n",
              "    .dataframe tbody tr th {\n",
              "        vertical-align: top;\n",
              "    }\n",
              "\n",
              "    .dataframe thead th {\n",
              "        text-align: right;\n",
              "    }\n",
              "</style>\n",
              "<table border=\"1\" class=\"dataframe\">\n",
              "  <thead>\n",
              "    <tr style=\"text-align: right;\">\n",
              "      <th></th>\n",
              "      <th>jp_sales</th>\n",
              "    </tr>\n",
              "    <tr>\n",
              "      <th>genre</th>\n",
              "      <th></th>\n",
              "    </tr>\n",
              "  </thead>\n",
              "  <tbody>\n",
              "    <tr>\n",
              "      <th>Role-Playing</th>\n",
              "      <td>31.16</td>\n",
              "    </tr>\n",
              "    <tr>\n",
              "      <th>Action</th>\n",
              "      <td>29.58</td>\n",
              "    </tr>\n",
              "    <tr>\n",
              "      <th>Fighting</th>\n",
              "      <td>6.37</td>\n",
              "    </tr>\n",
              "    <tr>\n",
              "      <th>Misc</th>\n",
              "      <td>5.61</td>\n",
              "    </tr>\n",
              "    <tr>\n",
              "      <th>Shooter</th>\n",
              "      <td>4.87</td>\n",
              "    </tr>\n",
              "  </tbody>\n",
              "</table>\n",
              "</div>"
            ],
            "text/plain": [
              "              jp_sales\n",
              "genre                 \n",
              "Role-Playing     31.16\n",
              "Action           29.58\n",
              "Fighting          6.37\n",
              "Misc              5.61\n",
              "Shooter           4.87"
            ]
          },
          "metadata": {},
          "output_type": "display_data"
        }
      ],
      "source": [
        "display(\n",
        "    topical_period\n",
        "    .pivot_table(index='genre', values='na_sales', aggfunc='sum')\n",
        "    .sort_values('na_sales', ascending=False)\n",
        "    .head()\n",
        ")\n",
        "display(\n",
        "    topical_period\n",
        "    .pivot_table(index='genre', values='eu_sales', aggfunc='sum')\n",
        "    .sort_values('eu_sales', ascending=False)\n",
        "    .head()\n",
        ")\n",
        "display(\n",
        "    topical_period\n",
        "    .pivot_table(index='genre', values='jp_sales', aggfunc='sum')\n",
        "    .sort_values('jp_sales', ascending=False)\n",
        "    .head()\n",
        ")"
      ]
    },
    {
      "cell_type": "markdown",
      "metadata": {
        "id": "1K0H_ffE7Ej9"
      },
      "source": [
        "- Жанры-лидеры продаж в Северной Америке полностью совпадают с разницей в объёмах около 1.5 раза.\n",
        "- В Японии жанры в целом те же, только предпочтения распределены иначе.\n",
        "- Самый популярный жанр игр - Action."
      ]
    },
    {
      "cell_type": "markdown",
      "metadata": {
        "id": "45CI_DHn7Ej9"
      },
      "source": [
        "### Влияние рейтинга ESRB на продажи в отдельном регионе"
      ]
    },
    {
      "cell_type": "code",
      "execution_count": null,
      "metadata": {
        "scrolled": false,
        "id": "LQoGC8oq7Ej9",
        "outputId": "ef47b977-d079-4d49-d568-60b823d23647"
      },
      "outputs": [
        {
          "data": {
            "text/html": [
              "<div>\n",
              "<style scoped>\n",
              "    .dataframe tbody tr th:only-of-type {\n",
              "        vertical-align: middle;\n",
              "    }\n",
              "\n",
              "    .dataframe tbody tr th {\n",
              "        vertical-align: top;\n",
              "    }\n",
              "\n",
              "    .dataframe thead th {\n",
              "        text-align: right;\n",
              "    }\n",
              "</style>\n",
              "<table border=\"1\" class=\"dataframe\">\n",
              "  <thead>\n",
              "    <tr style=\"text-align: right;\">\n",
              "      <th></th>\n",
              "      <th></th>\n",
              "      <th>na_sales</th>\n",
              "    </tr>\n",
              "    <tr>\n",
              "      <th>platform</th>\n",
              "      <th>rating</th>\n",
              "      <th></th>\n",
              "    </tr>\n",
              "  </thead>\n",
              "  <tbody>\n",
              "    <tr>\n",
              "      <th>XOne</th>\n",
              "      <th>M</th>\n",
              "      <td>38.42</td>\n",
              "    </tr>\n",
              "    <tr>\n",
              "      <th rowspan=\"3\" valign=\"top\">PS4</th>\n",
              "      <th>M</th>\n",
              "      <td>37.72</td>\n",
              "    </tr>\n",
              "    <tr>\n",
              "      <th>Unknown</th>\n",
              "      <td>23.31</td>\n",
              "    </tr>\n",
              "    <tr>\n",
              "      <th>T</th>\n",
              "      <td>16.38</td>\n",
              "    </tr>\n",
              "    <tr>\n",
              "      <th>XOne</th>\n",
              "      <th>Unknown</th>\n",
              "      <td>14.41</td>\n",
              "    </tr>\n",
              "    <tr>\n",
              "      <th>PS4</th>\n",
              "      <th>E</th>\n",
              "      <td>14.38</td>\n",
              "    </tr>\n",
              "    <tr>\n",
              "      <th>3DS</th>\n",
              "      <th>Unknown</th>\n",
              "      <td>13.32</td>\n",
              "    </tr>\n",
              "    <tr>\n",
              "      <th rowspan=\"2\" valign=\"top\">XOne</th>\n",
              "      <th>E</th>\n",
              "      <td>10.97</td>\n",
              "    </tr>\n",
              "    <tr>\n",
              "      <th>T</th>\n",
              "      <td>10.06</td>\n",
              "    </tr>\n",
              "    <tr>\n",
              "      <th>X360</th>\n",
              "      <th>M</th>\n",
              "      <td>8.62</td>\n",
              "    </tr>\n",
              "  </tbody>\n",
              "</table>\n",
              "</div>"
            ],
            "text/plain": [
              "                  na_sales\n",
              "platform rating           \n",
              "XOne     M           38.42\n",
              "PS4      M           37.72\n",
              "         Unknown     23.31\n",
              "         T           16.38\n",
              "XOne     Unknown     14.41\n",
              "PS4      E           14.38\n",
              "3DS      Unknown     13.32\n",
              "XOne     E           10.97\n",
              "         T           10.06\n",
              "X360     M            8.62"
            ]
          },
          "metadata": {},
          "output_type": "display_data"
        },
        {
          "data": {
            "text/html": [
              "<div>\n",
              "<style scoped>\n",
              "    .dataframe tbody tr th:only-of-type {\n",
              "        vertical-align: middle;\n",
              "    }\n",
              "\n",
              "    .dataframe tbody tr th {\n",
              "        vertical-align: top;\n",
              "    }\n",
              "\n",
              "    .dataframe thead th {\n",
              "        text-align: right;\n",
              "    }\n",
              "</style>\n",
              "<table border=\"1\" class=\"dataframe\">\n",
              "  <thead>\n",
              "    <tr style=\"text-align: right;\">\n",
              "      <th></th>\n",
              "      <th></th>\n",
              "      <th>eu_sales</th>\n",
              "    </tr>\n",
              "    <tr>\n",
              "      <th>platform</th>\n",
              "      <th>rating</th>\n",
              "      <th></th>\n",
              "    </tr>\n",
              "  </thead>\n",
              "  <tbody>\n",
              "    <tr>\n",
              "      <th rowspan=\"3\" valign=\"top\">PS4</th>\n",
              "      <th>M</th>\n",
              "      <td>52.81</td>\n",
              "    </tr>\n",
              "    <tr>\n",
              "      <th>Unknown</th>\n",
              "      <td>27.69</td>\n",
              "    </tr>\n",
              "    <tr>\n",
              "      <th>E</th>\n",
              "      <td>25.14</td>\n",
              "    </tr>\n",
              "    <tr>\n",
              "      <th>XOne</th>\n",
              "      <th>M</th>\n",
              "      <td>21.06</td>\n",
              "    </tr>\n",
              "    <tr>\n",
              "      <th>PS4</th>\n",
              "      <th>T</th>\n",
              "      <td>18.31</td>\n",
              "    </tr>\n",
              "    <tr>\n",
              "      <th>3DS</th>\n",
              "      <th>Unknown</th>\n",
              "      <td>8.96</td>\n",
              "    </tr>\n",
              "    <tr>\n",
              "      <th rowspan=\"2\" valign=\"top\">XOne</th>\n",
              "      <th>E</th>\n",
              "      <td>8.74</td>\n",
              "    </tr>\n",
              "    <tr>\n",
              "      <th>Unknown</th>\n",
              "      <td>8.12</td>\n",
              "    </tr>\n",
              "    <tr>\n",
              "      <th>PS3</th>\n",
              "      <th>E</th>\n",
              "      <td>7.62</td>\n",
              "    </tr>\n",
              "    <tr>\n",
              "      <th>PC</th>\n",
              "      <th>M</th>\n",
              "      <td>7.48</td>\n",
              "    </tr>\n",
              "  </tbody>\n",
              "</table>\n",
              "</div>"
            ],
            "text/plain": [
              "                  eu_sales\n",
              "platform rating           \n",
              "PS4      M           52.81\n",
              "         Unknown     27.69\n",
              "         E           25.14\n",
              "XOne     M           21.06\n",
              "PS4      T           18.31\n",
              "3DS      Unknown      8.96\n",
              "XOne     E            8.74\n",
              "         Unknown      8.12\n",
              "PS3      E            7.62\n",
              "PC       M            7.48"
            ]
          },
          "metadata": {},
          "output_type": "display_data"
        },
        {
          "data": {
            "text/html": [
              "<div>\n",
              "<style scoped>\n",
              "    .dataframe tbody tr th:only-of-type {\n",
              "        vertical-align: middle;\n",
              "    }\n",
              "\n",
              "    .dataframe tbody tr th {\n",
              "        vertical-align: top;\n",
              "    }\n",
              "\n",
              "    .dataframe thead th {\n",
              "        text-align: right;\n",
              "    }\n",
              "</style>\n",
              "<table border=\"1\" class=\"dataframe\">\n",
              "  <thead>\n",
              "    <tr style=\"text-align: right;\">\n",
              "      <th></th>\n",
              "      <th></th>\n",
              "      <th>jp_sales</th>\n",
              "    </tr>\n",
              "    <tr>\n",
              "      <th>platform</th>\n",
              "      <th>rating</th>\n",
              "      <th></th>\n",
              "    </tr>\n",
              "  </thead>\n",
              "  <tbody>\n",
              "    <tr>\n",
              "      <th>3DS</th>\n",
              "      <th>Unknown</th>\n",
              "      <td>33.24</td>\n",
              "    </tr>\n",
              "    <tr>\n",
              "      <th>PSV</th>\n",
              "      <th>Unknown</th>\n",
              "      <td>9.36</td>\n",
              "    </tr>\n",
              "    <tr>\n",
              "      <th>PS4</th>\n",
              "      <th>Unknown</th>\n",
              "      <td>6.25</td>\n",
              "    </tr>\n",
              "    <tr>\n",
              "      <th>PS3</th>\n",
              "      <th>Unknown</th>\n",
              "      <td>6.10</td>\n",
              "    </tr>\n",
              "    <tr>\n",
              "      <th>PS4</th>\n",
              "      <th>M</th>\n",
              "      <td>4.87</td>\n",
              "    </tr>\n",
              "    <tr>\n",
              "      <th rowspan=\"2\" valign=\"top\">3DS</th>\n",
              "      <th>T</th>\n",
              "      <td>4.57</td>\n",
              "    </tr>\n",
              "    <tr>\n",
              "      <th>E</th>\n",
              "      <td>4.07</td>\n",
              "    </tr>\n",
              "    <tr>\n",
              "      <th>PSV</th>\n",
              "      <th>T</th>\n",
              "      <td>4.05</td>\n",
              "    </tr>\n",
              "    <tr>\n",
              "      <th>WiiU</th>\n",
              "      <th>E</th>\n",
              "      <td>3.42</td>\n",
              "    </tr>\n",
              "    <tr>\n",
              "      <th>PS4</th>\n",
              "      <th>T</th>\n",
              "      <td>2.97</td>\n",
              "    </tr>\n",
              "  </tbody>\n",
              "</table>\n",
              "</div>"
            ],
            "text/plain": [
              "                  jp_sales\n",
              "platform rating           \n",
              "3DS      Unknown     33.24\n",
              "PSV      Unknown      9.36\n",
              "PS4      Unknown      6.25\n",
              "PS3      Unknown      6.10\n",
              "PS4      M            4.87\n",
              "3DS      T            4.57\n",
              "         E            4.07\n",
              "PSV      T            4.05\n",
              "WiiU     E            3.42\n",
              "PS4      T            2.97"
            ]
          },
          "metadata": {},
          "output_type": "display_data"
        }
      ],
      "source": [
        "display(\n",
        "    topical_period\n",
        "    .pivot_table(index=['platform', 'rating'], values='na_sales', aggfunc='sum')\n",
        "    .sort_values('na_sales', ascending=False)\n",
        "    .head(10)\n",
        ")\n",
        "display(\n",
        "    topical_period\n",
        "    .pivot_table(index=['platform', 'rating'], values='eu_sales', aggfunc='sum')\n",
        "    .sort_values('eu_sales', ascending=False)\n",
        "    .head(10)\n",
        ")\n",
        "display(\n",
        "    topical_period\n",
        "    .pivot_table(index=['platform', 'rating'], values='jp_sales', aggfunc='sum')\n",
        "    .sort_values('jp_sales', ascending=False)\n",
        "    .head(10)\n",
        ")"
      ]
    },
    {
      "cell_type": "markdown",
      "metadata": {
        "id": "OMqTp97v7Ej-"
      },
      "source": [
        "Выводы:\n",
        "- В Северной Америке и Европе у наиболее популярных платформ стоит рейтинг M, но явной связи не прослеживается.\n",
        "- В Японии у самых популярных платформ отсутствует рейтинг. Вероятно, это имеет отношение к тому, что присваиванием этих рейтингов занимается американская компания."
      ]
    },
    {
      "cell_type": "markdown",
      "metadata": {
        "id": "DQbP7EB27Ej_"
      },
      "source": [
        "### Вывод"
      ]
    },
    {
      "cell_type": "markdown",
      "metadata": {
        "id": "fS9eDmcQ7Ej_"
      },
      "source": [
        "- В Северной Америке и Европе выбор игровых платформ схож, в Японии - игроки в целом отдают предпочтения другим приставкам.\n",
        "- Американские пользователи одинаково примерно в раной степени покупают игры двух лидирующих платформ: PS4 и XOne.\n",
        "- В Европе явное предпочтение отдаётся PS4.\n",
        "- В Японии пользователи больше интересуются Nintendo 3DS.\n",
        "    \n",
        "- Жанры-лидеры продаж в Северной Америке полностью совпадают с разницей в объёмах около 1.5 раза.\n",
        "- В Японии жанры в целом те же, только предпочтения распределены иначе.\n",
        "- Самый популярный жанр игр - Action.\n",
        "\n",
        "- В Северной Америке и Европе у наиболее популярных платформ стоит рейтинг M, но явной связи между рейтингом и популярностью не прослеживается.\n",
        "- В Японии у самых популярных платформ отсутствует рейтинг. Вероятно, это имеет отношение к тому, что присваиванием этих рейтингов занимается американская компания."
      ]
    },
    {
      "cell_type": "markdown",
      "metadata": {
        "id": "9vxUI5kw7Ej_"
      },
      "source": [
        "## Проверка гипотез"
      ]
    },
    {
      "cell_type": "markdown",
      "metadata": {
        "id": "oDCwly1U7EkA"
      },
      "source": [
        "### Средние пользовательские рейтинги платформ Xbox One и PC одинаковые"
      ]
    },
    {
      "cell_type": "markdown",
      "metadata": {
        "id": "GbXTAlsl7EkA"
      },
      "source": [
        "Нулевая гипотеза: средние пользовательские рейтинги платформы Xbox One равны средним пользовательским рейтингам платформы PC. Альтернативная гипотеза: средние пользовательские рейтинги платформ Xbox One и PC различаются.\n",
        "\n",
        "Для проверки нулевой гипотезы используем ttest."
      ]
    },
    {
      "cell_type": "code",
      "execution_count": null,
      "metadata": {
        "id": "DhHK7L6B7EkA",
        "outputId": "0be1170e-0812-48f0-888d-a505e39a71f2"
      },
      "outputs": [
        {
          "name": "stdout",
          "output_type": "stream",
          "text": [
            "p-значение: 0.10450507919348415\n",
            "Не получилось отвергнуть нулевую гипотезу\n"
          ]
        }
      ],
      "source": [
        "alpha = .01\n",
        "\n",
        "results = st.ttest_ind(\n",
        "    topical_period[topical_period['platform'] == 'PC']['user_score'].dropna(), \n",
        "    topical_period[topical_period['platform'] == 'XOne']['user_score'].dropna()\n",
        ")\n",
        "\n",
        "print('p-значение:', results.pvalue)\n",
        "\n",
        "if results.pvalue < alpha:\n",
        "    print(\"Отвергаем нулевую гипотезу\")\n",
        "else:\n",
        "    print(\"Не получилось отвергнуть нулевую гипотезу\")"
      ]
    },
    {
      "cell_type": "markdown",
      "metadata": {
        "id": "tWlK5InY7EkA"
      },
      "source": [
        "Проведённый статистический тест не позволяет нам отвергнуть нулевую гипотезу. Но и утверждать, что средние пользовательские рейтинги платформ Xbox One и PC различаются на его основании мы не можем."
      ]
    },
    {
      "cell_type": "markdown",
      "metadata": {
        "id": "I-JEIEIY7EkB"
      },
      "source": [
        "### Средние пользовательские рейтинги жанров Action и Sports разные"
      ]
    },
    {
      "cell_type": "markdown",
      "metadata": {
        "id": "ZLY0UZWR7EkB"
      },
      "source": [
        "Нулевая гипотеза: средние пользовательские рейтинги жанров Action и Sports равны. Альтернативная гипотеза: средние пользовательские рейтинги жанров Action и Sports разные."
      ]
    },
    {
      "cell_type": "code",
      "execution_count": null,
      "metadata": {
        "id": "-FwaFFPF7EkB",
        "outputId": "4052ed1b-a4dc-4ac7-abc7-3b6ad838d034"
      },
      "outputs": [
        {
          "name": "stdout",
          "output_type": "stream",
          "text": [
            "p-значение: 2.8711147985105864e-19\n",
            "Отвергаем нулевую гипотезу\n"
          ]
        }
      ],
      "source": [
        "alpha = .01\n",
        "\n",
        "results = st.ttest_ind(\n",
        "    topical_period[topical_period['genre'] == 'Action']['user_score'].dropna(), \n",
        "    topical_period[topical_period['genre'] == 'Sports']['user_score'].dropna()\n",
        ")\n",
        "\n",
        "print('p-значение:', results.pvalue)\n",
        "\n",
        "if results.pvalue < alpha:\n",
        "    print(\"Отвергаем нулевую гипотезу\")\n",
        "else:\n",
        "    print(\"Не получилось отвергнуть нулевую гипотезу\")"
      ]
    },
    {
      "cell_type": "markdown",
      "metadata": {
        "id": "cbRWQz827EkB"
      },
      "source": [
        "Проведённый статистический тест позволяет отвергнуть нулевую гипотезу. Но утверждать, что средние пользовательские рейтинги жанров Action и Sports разные на его основании мы не можем."
      ]
    },
    {
      "cell_type": "markdown",
      "metadata": {
        "id": "u8nZ3lcT7EkC"
      },
      "source": [
        "## Общий вывод"
      ]
    },
    {
      "cell_type": "markdown",
      "metadata": {
        "id": "AcXJhU1N7EkC"
      },
      "source": [
        "По итогам проведённого исследования можем сделать следующие заключения:\n",
        "- Большая часть выпущенных игр в представленной выборке приходится на период с 2002 до 2016 года.\n",
        "- Периодичность \"жизненного\" цикла игровых платформ составляет 8-10 лет.\n",
        "- Перспективные платформы (находятся в зоне роста или стагнации по продажам): PS4, XOne, PSP.\n",
        "- Вычисление коэффициентов корреляции Пирсона дало следующие результаты: \n",
        "    - практически нет связи между продажами и оценкой пользователей.\n",
        "    - совсем небольшая прямая связь между продажами и оценками критиков.\n",
        "- Жанры-лидеры по представленности в выборке - Action, Role-Playing, Adventure, Sports, Shooter.\n",
        "- Наиболее прибыльный жанр: Shooter.\n",
        "\n",
        "\n",
        "- В Северной Америке и Европе выбор игровых платформ схож, в Японии - игроки в целом отдают предпочтения другим приставкам.\n",
        "- Американские пользователи одинаково примерно в раной степени покупают игры двух лидирующих платформ: PS4 и XOne.\n",
        "- В Европе явное предпочтение отдаётся PS4.\n",
        "- В Японии пользователи больше интересуются Nintendo 3DS.\n",
        "    \n",
        "- Жанры-лидеры продаж в Северной Америке полностью совпадают с разницей в объёмах около 1.5 раза.\n",
        "- В Японии жанры в целом те же, только предпочтения распределены иначе.\n",
        "- Самый популярный жанр игр - Action.\n",
        "\n",
        "- В Северной Америке и Европе у наиболее популярных платформ стоит рейтинг M, но явной связи между рейтингом и популярностью не прослеживается.\n",
        "- В Японии у самых популярных платформ отсутствует рейтинг. Вероятно, это имеет отношение к тому, что присваиванием этих рейтингов занимается американская компания.\n",
        "\n",
        "\n",
        "- Проверка гипотез:\n",
        "    - Средние пользовательские рейтинги платформ Xbox One и PC одинаковые: проведённый статистический тест не позволяет нам отвергнуть нулевую гипотезу. Но и утверждать, что средние пользовательские рейтинги платформ Xbox One и PC различаются на его основании мы не можем.\n",
        "    - Средние пользовательские рейтинги жанров Action и Sports разные: проведённый статистический тест позволяет отвергнуть нулевую гипотезу. Но утверждать, что средние пользовательские рейтинги жанров Action и Sports разные на его основании мы не можем."
      ]
    }
  ],
  "metadata": {
    "ExecuteTimeLog": [
      {
        "duration": 1435,
        "start_time": "2022-05-30T16:19:59.816Z"
      },
      {
        "duration": 109,
        "start_time": "2022-05-30T16:22:02.716Z"
      },
      {
        "duration": 92,
        "start_time": "2022-05-30T16:22:21.319Z"
      },
      {
        "duration": 15,
        "start_time": "2022-05-30T16:31:03.173Z"
      },
      {
        "duration": 99,
        "start_time": "2022-05-30T16:52:01.337Z"
      },
      {
        "duration": 10,
        "start_time": "2022-05-30T16:52:25.716Z"
      },
      {
        "duration": 4,
        "start_time": "2022-05-30T16:56:40.995Z"
      },
      {
        "duration": 16,
        "start_time": "2022-05-30T16:56:57.195Z"
      },
      {
        "duration": 15,
        "start_time": "2022-05-30T16:57:12.079Z"
      },
      {
        "duration": 1100,
        "start_time": "2022-05-30T16:57:31.781Z"
      },
      {
        "duration": 77,
        "start_time": "2022-05-30T16:57:32.883Z"
      },
      {
        "duration": 15,
        "start_time": "2022-05-30T16:57:32.962Z"
      },
      {
        "duration": 15,
        "start_time": "2022-05-30T16:57:32.979Z"
      },
      {
        "duration": 4,
        "start_time": "2022-05-30T17:01:13.641Z"
      },
      {
        "duration": 5,
        "start_time": "2022-05-30T17:02:13.290Z"
      },
      {
        "duration": 106,
        "start_time": "2022-05-30T17:03:23.847Z"
      },
      {
        "duration": 14,
        "start_time": "2022-05-30T17:10:16.713Z"
      },
      {
        "duration": 15,
        "start_time": "2022-05-30T17:10:24.125Z"
      },
      {
        "duration": 5,
        "start_time": "2022-05-30T17:11:06.722Z"
      },
      {
        "duration": 7,
        "start_time": "2022-05-30T17:12:18.986Z"
      },
      {
        "duration": 7,
        "start_time": "2022-05-30T17:12:39.001Z"
      },
      {
        "duration": 1097,
        "start_time": "2022-05-30T17:12:46.688Z"
      },
      {
        "duration": 76,
        "start_time": "2022-05-30T17:12:47.787Z"
      },
      {
        "duration": 15,
        "start_time": "2022-05-30T17:12:47.865Z"
      },
      {
        "duration": 15,
        "start_time": "2022-05-30T17:12:47.882Z"
      },
      {
        "duration": 8,
        "start_time": "2022-05-30T17:12:47.899Z"
      },
      {
        "duration": 6,
        "start_time": "2022-05-30T17:12:53.241Z"
      },
      {
        "duration": 6,
        "start_time": "2022-05-30T17:13:38.274Z"
      },
      {
        "duration": 97,
        "start_time": "2022-05-30T17:17:32.136Z"
      },
      {
        "duration": 10,
        "start_time": "2022-05-30T17:17:45.196Z"
      },
      {
        "duration": 6,
        "start_time": "2022-05-30T17:18:04.977Z"
      },
      {
        "duration": 5,
        "start_time": "2022-05-30T17:18:34.347Z"
      },
      {
        "duration": 5,
        "start_time": "2022-05-30T17:18:45.443Z"
      },
      {
        "duration": 5,
        "start_time": "2022-05-30T17:18:51.129Z"
      },
      {
        "duration": 5,
        "start_time": "2022-05-30T17:22:41.798Z"
      },
      {
        "duration": 22,
        "start_time": "2022-05-30T17:23:03.768Z"
      },
      {
        "duration": 23,
        "start_time": "2022-05-30T17:30:06.934Z"
      },
      {
        "duration": 10,
        "start_time": "2022-05-30T17:33:03.451Z"
      },
      {
        "duration": 18,
        "start_time": "2022-05-30T17:40:14.705Z"
      },
      {
        "duration": 13,
        "start_time": "2022-05-30T17:48:11.538Z"
      },
      {
        "duration": 16,
        "start_time": "2022-05-30T17:49:58.849Z"
      },
      {
        "duration": 8,
        "start_time": "2022-05-30T17:50:19.194Z"
      },
      {
        "duration": 11,
        "start_time": "2022-05-30T17:50:29.293Z"
      },
      {
        "duration": 11,
        "start_time": "2022-05-30T17:51:07.881Z"
      },
      {
        "duration": 16,
        "start_time": "2022-05-30T17:53:35.168Z"
      },
      {
        "duration": 4,
        "start_time": "2022-05-30T17:58:46.191Z"
      },
      {
        "duration": 16,
        "start_time": "2022-05-30T17:58:55.840Z"
      },
      {
        "duration": 1083,
        "start_time": "2022-05-30T17:59:22.199Z"
      },
      {
        "duration": 78,
        "start_time": "2022-05-30T17:59:23.284Z"
      },
      {
        "duration": 16,
        "start_time": "2022-05-30T17:59:23.366Z"
      },
      {
        "duration": 18,
        "start_time": "2022-05-30T17:59:23.383Z"
      },
      {
        "duration": 6,
        "start_time": "2022-05-30T17:59:23.402Z"
      },
      {
        "duration": 9,
        "start_time": "2022-05-30T17:59:23.410Z"
      },
      {
        "duration": 7,
        "start_time": "2022-05-30T17:59:23.421Z"
      },
      {
        "duration": 10,
        "start_time": "2022-05-30T17:59:23.429Z"
      },
      {
        "duration": 17,
        "start_time": "2022-05-30T17:59:23.442Z"
      },
      {
        "duration": 39,
        "start_time": "2022-05-30T17:59:23.461Z"
      },
      {
        "duration": 2,
        "start_time": "2022-05-30T17:59:23.502Z"
      },
      {
        "duration": 20,
        "start_time": "2022-05-30T17:59:23.505Z"
      },
      {
        "duration": 5,
        "start_time": "2022-05-30T18:00:51.913Z"
      },
      {
        "duration": 5,
        "start_time": "2022-05-30T18:01:01.692Z"
      },
      {
        "duration": 1304,
        "start_time": "2022-05-31T16:01:11.622Z"
      },
      {
        "duration": 126,
        "start_time": "2022-05-31T16:01:12.928Z"
      },
      {
        "duration": 16,
        "start_time": "2022-05-31T16:01:13.057Z"
      },
      {
        "duration": 29,
        "start_time": "2022-05-31T16:01:13.076Z"
      },
      {
        "duration": 18,
        "start_time": "2022-05-31T16:01:13.108Z"
      },
      {
        "duration": 5,
        "start_time": "2022-05-31T16:01:13.128Z"
      },
      {
        "duration": 11,
        "start_time": "2022-05-31T16:01:13.135Z"
      },
      {
        "duration": 21,
        "start_time": "2022-05-31T16:01:13.148Z"
      },
      {
        "duration": 30,
        "start_time": "2022-05-31T16:01:13.171Z"
      },
      {
        "duration": 26,
        "start_time": "2022-05-31T16:01:13.203Z"
      },
      {
        "duration": 3,
        "start_time": "2022-05-31T16:01:13.231Z"
      },
      {
        "duration": 21,
        "start_time": "2022-05-31T16:01:13.235Z"
      },
      {
        "duration": 7,
        "start_time": "2022-05-31T16:02:43.490Z"
      },
      {
        "duration": 7,
        "start_time": "2022-05-31T16:06:49.494Z"
      },
      {
        "duration": 7,
        "start_time": "2022-05-31T16:07:22.129Z"
      },
      {
        "duration": 6,
        "start_time": "2022-05-31T16:07:57.215Z"
      },
      {
        "duration": 117,
        "start_time": "2022-05-31T16:08:30.921Z"
      },
      {
        "duration": 482,
        "start_time": "2022-05-31T16:08:46.224Z"
      },
      {
        "duration": 1159,
        "start_time": "2022-05-31T16:09:02.305Z"
      },
      {
        "duration": 84,
        "start_time": "2022-05-31T16:09:03.466Z"
      },
      {
        "duration": 16,
        "start_time": "2022-05-31T16:09:03.552Z"
      },
      {
        "duration": 15,
        "start_time": "2022-05-31T16:09:03.570Z"
      },
      {
        "duration": 5,
        "start_time": "2022-05-31T16:09:03.587Z"
      },
      {
        "duration": 9,
        "start_time": "2022-05-31T16:09:03.594Z"
      },
      {
        "duration": 5,
        "start_time": "2022-05-31T16:09:03.627Z"
      },
      {
        "duration": 14,
        "start_time": "2022-05-31T16:09:03.634Z"
      },
      {
        "duration": 18,
        "start_time": "2022-05-31T16:09:03.650Z"
      },
      {
        "duration": 19,
        "start_time": "2022-05-31T16:09:03.670Z"
      },
      {
        "duration": 4,
        "start_time": "2022-05-31T16:09:03.691Z"
      },
      {
        "duration": 31,
        "start_time": "2022-05-31T16:09:03.696Z"
      },
      {
        "duration": 142,
        "start_time": "2022-05-31T16:10:42.238Z"
      },
      {
        "duration": 31,
        "start_time": "2022-05-31T16:13:06.493Z"
      },
      {
        "duration": 28,
        "start_time": "2022-05-31T16:13:15.856Z"
      },
      {
        "duration": 30,
        "start_time": "2022-05-31T16:14:34.234Z"
      },
      {
        "duration": 18,
        "start_time": "2022-05-31T16:15:14.085Z"
      },
      {
        "duration": 6,
        "start_time": "2022-05-31T16:18:58.053Z"
      },
      {
        "duration": 26,
        "start_time": "2022-05-31T16:19:15.963Z"
      },
      {
        "duration": 28,
        "start_time": "2022-05-31T16:29:14.907Z"
      },
      {
        "duration": 1081,
        "start_time": "2022-05-31T16:29:53.841Z"
      },
      {
        "duration": 94,
        "start_time": "2022-05-31T16:29:54.928Z"
      },
      {
        "duration": 16,
        "start_time": "2022-05-31T16:29:55.024Z"
      },
      {
        "duration": 15,
        "start_time": "2022-05-31T16:29:55.041Z"
      },
      {
        "duration": 5,
        "start_time": "2022-05-31T16:29:55.057Z"
      },
      {
        "duration": 6,
        "start_time": "2022-05-31T16:29:55.063Z"
      },
      {
        "duration": 5,
        "start_time": "2022-05-31T16:29:55.070Z"
      },
      {
        "duration": 10,
        "start_time": "2022-05-31T16:29:55.076Z"
      },
      {
        "duration": 46,
        "start_time": "2022-05-31T16:29:55.088Z"
      },
      {
        "duration": 11,
        "start_time": "2022-05-31T16:29:55.135Z"
      },
      {
        "duration": 3,
        "start_time": "2022-05-31T16:29:55.148Z"
      },
      {
        "duration": 24,
        "start_time": "2022-05-31T16:29:55.152Z"
      },
      {
        "duration": 2,
        "start_time": "2022-05-31T16:29:55.178Z"
      },
      {
        "duration": 45,
        "start_time": "2022-05-31T16:29:55.182Z"
      },
      {
        "duration": 8,
        "start_time": "2022-05-31T16:31:35.764Z"
      },
      {
        "duration": 5,
        "start_time": "2022-05-31T16:32:04.816Z"
      },
      {
        "duration": 5,
        "start_time": "2022-05-31T16:33:57.342Z"
      },
      {
        "duration": 13,
        "start_time": "2022-05-31T16:35:41.127Z"
      },
      {
        "duration": 1075,
        "start_time": "2022-05-31T16:35:57.663Z"
      },
      {
        "duration": 81,
        "start_time": "2022-05-31T16:35:58.740Z"
      },
      {
        "duration": 16,
        "start_time": "2022-05-31T16:35:58.823Z"
      },
      {
        "duration": 16,
        "start_time": "2022-05-31T16:35:58.841Z"
      },
      {
        "duration": 6,
        "start_time": "2022-05-31T16:35:58.858Z"
      },
      {
        "duration": 11,
        "start_time": "2022-05-31T16:35:58.866Z"
      },
      {
        "duration": 11,
        "start_time": "2022-05-31T16:35:58.878Z"
      },
      {
        "duration": 36,
        "start_time": "2022-05-31T16:35:58.891Z"
      },
      {
        "duration": 18,
        "start_time": "2022-05-31T16:35:58.930Z"
      },
      {
        "duration": 13,
        "start_time": "2022-05-31T16:35:58.951Z"
      },
      {
        "duration": 2,
        "start_time": "2022-05-31T16:35:58.966Z"
      },
      {
        "duration": 26,
        "start_time": "2022-05-31T16:35:58.970Z"
      },
      {
        "duration": 2,
        "start_time": "2022-05-31T16:35:58.997Z"
      },
      {
        "duration": 21,
        "start_time": "2022-05-31T16:35:59.026Z"
      },
      {
        "duration": 12,
        "start_time": "2022-05-31T16:35:59.049Z"
      },
      {
        "duration": 5,
        "start_time": "2022-05-31T16:36:47.222Z"
      },
      {
        "duration": 1131,
        "start_time": "2022-05-31T16:37:25.203Z"
      },
      {
        "duration": 79,
        "start_time": "2022-05-31T16:37:26.336Z"
      },
      {
        "duration": 15,
        "start_time": "2022-05-31T16:37:26.417Z"
      },
      {
        "duration": 15,
        "start_time": "2022-05-31T16:37:26.434Z"
      },
      {
        "duration": 5,
        "start_time": "2022-05-31T16:37:26.451Z"
      },
      {
        "duration": 20,
        "start_time": "2022-05-31T16:37:26.457Z"
      },
      {
        "duration": 19,
        "start_time": "2022-05-31T16:37:26.479Z"
      },
      {
        "duration": 13,
        "start_time": "2022-05-31T16:37:26.499Z"
      },
      {
        "duration": 25,
        "start_time": "2022-05-31T16:37:26.514Z"
      },
      {
        "duration": 12,
        "start_time": "2022-05-31T16:37:26.542Z"
      },
      {
        "duration": 6,
        "start_time": "2022-05-31T16:37:26.555Z"
      },
      {
        "duration": 26,
        "start_time": "2022-05-31T16:37:26.563Z"
      },
      {
        "duration": 2,
        "start_time": "2022-05-31T16:37:26.591Z"
      },
      {
        "duration": 32,
        "start_time": "2022-05-31T16:37:26.594Z"
      },
      {
        "duration": 21,
        "start_time": "2022-05-31T16:37:26.628Z"
      },
      {
        "duration": 25,
        "start_time": "2022-05-31T16:48:24.305Z"
      },
      {
        "duration": 1076,
        "start_time": "2022-05-31T16:48:51.270Z"
      },
      {
        "duration": 83,
        "start_time": "2022-05-31T16:48:52.349Z"
      },
      {
        "duration": 17,
        "start_time": "2022-05-31T16:48:52.434Z"
      },
      {
        "duration": 17,
        "start_time": "2022-05-31T16:48:52.453Z"
      },
      {
        "duration": 5,
        "start_time": "2022-05-31T16:48:52.471Z"
      },
      {
        "duration": 14,
        "start_time": "2022-05-31T16:48:52.477Z"
      },
      {
        "duration": 9,
        "start_time": "2022-05-31T16:48:52.493Z"
      },
      {
        "duration": 27,
        "start_time": "2022-05-31T16:48:52.504Z"
      },
      {
        "duration": 26,
        "start_time": "2022-05-31T16:48:52.533Z"
      },
      {
        "duration": 12,
        "start_time": "2022-05-31T16:48:52.561Z"
      },
      {
        "duration": 3,
        "start_time": "2022-05-31T16:48:52.574Z"
      },
      {
        "duration": 30,
        "start_time": "2022-05-31T16:48:52.578Z"
      },
      {
        "duration": 2,
        "start_time": "2022-05-31T16:48:52.610Z"
      },
      {
        "duration": 17,
        "start_time": "2022-05-31T16:48:52.626Z"
      },
      {
        "duration": 1,
        "start_time": "2022-05-31T16:48:52.645Z"
      },
      {
        "duration": 28,
        "start_time": "2022-05-31T16:48:52.648Z"
      },
      {
        "duration": 16,
        "start_time": "2022-05-31T16:54:47.055Z"
      },
      {
        "duration": 1094,
        "start_time": "2022-05-31T16:55:34.941Z"
      },
      {
        "duration": 87,
        "start_time": "2022-05-31T16:55:36.037Z"
      },
      {
        "duration": 18,
        "start_time": "2022-05-31T16:55:36.125Z"
      },
      {
        "duration": 24,
        "start_time": "2022-05-31T16:55:36.146Z"
      },
      {
        "duration": 5,
        "start_time": "2022-05-31T16:55:36.172Z"
      },
      {
        "duration": 6,
        "start_time": "2022-05-31T16:55:36.179Z"
      },
      {
        "duration": 8,
        "start_time": "2022-05-31T16:55:36.186Z"
      },
      {
        "duration": 39,
        "start_time": "2022-05-31T16:55:36.195Z"
      },
      {
        "duration": 21,
        "start_time": "2022-05-31T16:55:36.236Z"
      },
      {
        "duration": 2,
        "start_time": "2022-05-31T16:55:36.260Z"
      },
      {
        "duration": 30,
        "start_time": "2022-05-31T16:55:36.264Z"
      },
      {
        "duration": 2,
        "start_time": "2022-05-31T16:55:36.296Z"
      },
      {
        "duration": 43,
        "start_time": "2022-05-31T16:55:36.300Z"
      },
      {
        "duration": 16,
        "start_time": "2022-05-31T16:55:36.344Z"
      },
      {
        "duration": 2,
        "start_time": "2022-05-31T16:55:36.362Z"
      },
      {
        "duration": 10,
        "start_time": "2022-05-31T16:55:36.366Z"
      },
      {
        "duration": 21,
        "start_time": "2022-05-31T16:59:54.404Z"
      },
      {
        "duration": 17,
        "start_time": "2022-05-31T17:03:07.508Z"
      },
      {
        "duration": 4,
        "start_time": "2022-05-31T17:05:25.122Z"
      },
      {
        "duration": 27,
        "start_time": "2022-05-31T17:06:03.747Z"
      },
      {
        "duration": 29,
        "start_time": "2022-05-31T17:06:17.489Z"
      },
      {
        "duration": 27,
        "start_time": "2022-05-31T17:06:26.631Z"
      },
      {
        "duration": 26,
        "start_time": "2022-05-31T17:06:44.008Z"
      },
      {
        "duration": 16,
        "start_time": "2022-05-31T17:06:58.631Z"
      },
      {
        "duration": 18,
        "start_time": "2022-05-31T17:07:14.510Z"
      },
      {
        "duration": 21,
        "start_time": "2022-05-31T17:07:24.518Z"
      },
      {
        "duration": 14,
        "start_time": "2022-05-31T17:07:41.222Z"
      },
      {
        "duration": 20,
        "start_time": "2022-05-31T17:12:15.640Z"
      },
      {
        "duration": 17,
        "start_time": "2022-05-31T17:14:08.467Z"
      },
      {
        "duration": 16,
        "start_time": "2022-05-31T17:14:28.946Z"
      },
      {
        "duration": 7,
        "start_time": "2022-05-31T17:20:48.072Z"
      },
      {
        "duration": 10,
        "start_time": "2022-05-31T17:23:50.244Z"
      },
      {
        "duration": 265,
        "start_time": "2022-05-31T17:26:32.381Z"
      },
      {
        "duration": 1493,
        "start_time": "2022-05-31T17:27:34.574Z"
      },
      {
        "duration": 183,
        "start_time": "2022-05-31T17:27:41.679Z"
      },
      {
        "duration": 139,
        "start_time": "2022-05-31T17:28:01.649Z"
      },
      {
        "duration": 130,
        "start_time": "2022-05-31T17:29:13.589Z"
      },
      {
        "duration": 154,
        "start_time": "2022-05-31T17:32:16.658Z"
      },
      {
        "duration": 128,
        "start_time": "2022-05-31T17:32:28.186Z"
      },
      {
        "duration": 137,
        "start_time": "2022-05-31T17:33:25.397Z"
      },
      {
        "duration": 54,
        "start_time": "2022-06-01T16:12:33.321Z"
      },
      {
        "duration": 1218,
        "start_time": "2022-06-01T16:12:49.762Z"
      },
      {
        "duration": 122,
        "start_time": "2022-06-01T16:12:50.982Z"
      },
      {
        "duration": 15,
        "start_time": "2022-06-01T16:12:51.106Z"
      },
      {
        "duration": 15,
        "start_time": "2022-06-01T16:12:51.123Z"
      },
      {
        "duration": 5,
        "start_time": "2022-06-01T16:12:51.139Z"
      },
      {
        "duration": 23,
        "start_time": "2022-06-01T16:12:51.145Z"
      },
      {
        "duration": 6,
        "start_time": "2022-06-01T16:12:51.169Z"
      },
      {
        "duration": 10,
        "start_time": "2022-06-01T16:12:51.176Z"
      },
      {
        "duration": 17,
        "start_time": "2022-06-01T16:12:51.188Z"
      },
      {
        "duration": 2,
        "start_time": "2022-06-01T16:12:51.208Z"
      },
      {
        "duration": 21,
        "start_time": "2022-06-01T16:12:51.211Z"
      },
      {
        "duration": 31,
        "start_time": "2022-06-01T16:12:51.234Z"
      },
      {
        "duration": 17,
        "start_time": "2022-06-01T16:12:51.266Z"
      },
      {
        "duration": 14,
        "start_time": "2022-06-01T16:12:51.284Z"
      },
      {
        "duration": 15,
        "start_time": "2022-06-01T16:12:51.300Z"
      },
      {
        "duration": 14,
        "start_time": "2022-06-01T16:12:51.316Z"
      },
      {
        "duration": 15,
        "start_time": "2022-06-01T16:12:51.365Z"
      },
      {
        "duration": 163,
        "start_time": "2022-06-01T16:12:51.381Z"
      },
      {
        "duration": 21,
        "start_time": "2022-06-01T16:12:51.545Z"
      },
      {
        "duration": 79,
        "start_time": "2022-06-01T16:18:34.069Z"
      },
      {
        "duration": 20,
        "start_time": "2022-06-01T16:19:41.578Z"
      },
      {
        "duration": 16,
        "start_time": "2022-06-01T16:24:32.428Z"
      },
      {
        "duration": 15,
        "start_time": "2022-06-01T16:24:52.497Z"
      },
      {
        "duration": 15,
        "start_time": "2022-06-01T16:25:30.484Z"
      },
      {
        "duration": 376,
        "start_time": "2022-06-01T16:29:16.245Z"
      },
      {
        "duration": 23,
        "start_time": "2022-06-01T16:29:54.639Z"
      },
      {
        "duration": 118,
        "start_time": "2022-06-01T16:36:12.292Z"
      },
      {
        "duration": 28,
        "start_time": "2022-06-01T16:36:32.581Z"
      },
      {
        "duration": 14,
        "start_time": "2022-06-01T16:36:59.191Z"
      },
      {
        "duration": 12,
        "start_time": "2022-06-01T16:37:57.804Z"
      },
      {
        "duration": 5,
        "start_time": "2022-06-01T16:39:21.736Z"
      },
      {
        "duration": 12,
        "start_time": "2022-06-01T16:39:54.099Z"
      },
      {
        "duration": 10,
        "start_time": "2022-06-01T16:40:06.936Z"
      },
      {
        "duration": 1068,
        "start_time": "2022-06-01T16:40:49.484Z"
      },
      {
        "duration": 101,
        "start_time": "2022-06-01T16:40:50.554Z"
      },
      {
        "duration": 16,
        "start_time": "2022-06-01T16:40:50.657Z"
      },
      {
        "duration": 16,
        "start_time": "2022-06-01T16:40:50.675Z"
      },
      {
        "duration": 7,
        "start_time": "2022-06-01T16:40:50.693Z"
      },
      {
        "duration": 10,
        "start_time": "2022-06-01T16:40:50.702Z"
      },
      {
        "duration": 7,
        "start_time": "2022-06-01T16:40:50.714Z"
      },
      {
        "duration": 10,
        "start_time": "2022-06-01T16:40:50.723Z"
      },
      {
        "duration": 20,
        "start_time": "2022-06-01T16:40:50.764Z"
      },
      {
        "duration": 3,
        "start_time": "2022-06-01T16:40:50.787Z"
      },
      {
        "duration": 27,
        "start_time": "2022-06-01T16:40:50.792Z"
      },
      {
        "duration": 3,
        "start_time": "2022-06-01T16:40:50.821Z"
      },
      {
        "duration": 63,
        "start_time": "2022-06-01T16:40:50.826Z"
      },
      {
        "duration": 15,
        "start_time": "2022-06-01T16:40:50.891Z"
      },
      {
        "duration": 18,
        "start_time": "2022-06-01T16:40:50.908Z"
      },
      {
        "duration": 44,
        "start_time": "2022-06-01T16:40:50.928Z"
      },
      {
        "duration": 23,
        "start_time": "2022-06-01T16:40:50.974Z"
      },
      {
        "duration": 172,
        "start_time": "2022-06-01T16:40:50.999Z"
      },
      {
        "duration": 17,
        "start_time": "2022-06-01T16:40:51.173Z"
      },
      {
        "duration": 11,
        "start_time": "2022-06-01T16:40:51.192Z"
      },
      {
        "duration": 12,
        "start_time": "2022-06-01T16:43:23.360Z"
      },
      {
        "duration": 25,
        "start_time": "2022-06-01T16:43:49.451Z"
      },
      {
        "duration": 21,
        "start_time": "2022-06-01T16:44:11.162Z"
      },
      {
        "duration": 18,
        "start_time": "2022-06-01T16:44:32.165Z"
      },
      {
        "duration": 1082,
        "start_time": "2022-06-01T16:44:51.815Z"
      },
      {
        "duration": 78,
        "start_time": "2022-06-01T16:44:52.899Z"
      },
      {
        "duration": 15,
        "start_time": "2022-06-01T16:44:52.979Z"
      },
      {
        "duration": 18,
        "start_time": "2022-06-01T16:44:52.995Z"
      },
      {
        "duration": 21,
        "start_time": "2022-06-01T16:44:53.015Z"
      },
      {
        "duration": 22,
        "start_time": "2022-06-01T16:44:53.037Z"
      },
      {
        "duration": 38,
        "start_time": "2022-06-01T16:44:53.060Z"
      },
      {
        "duration": 31,
        "start_time": "2022-06-01T16:44:53.100Z"
      },
      {
        "duration": 38,
        "start_time": "2022-06-01T16:44:53.133Z"
      },
      {
        "duration": 18,
        "start_time": "2022-06-01T16:44:53.173Z"
      },
      {
        "duration": 30,
        "start_time": "2022-06-01T16:44:53.193Z"
      },
      {
        "duration": 7,
        "start_time": "2022-06-01T16:44:53.226Z"
      },
      {
        "duration": 28,
        "start_time": "2022-06-01T16:44:53.235Z"
      },
      {
        "duration": 27,
        "start_time": "2022-06-01T16:44:53.267Z"
      },
      {
        "duration": 40,
        "start_time": "2022-06-01T16:44:53.297Z"
      },
      {
        "duration": 15,
        "start_time": "2022-06-01T16:44:53.339Z"
      },
      {
        "duration": 45,
        "start_time": "2022-06-01T16:44:53.355Z"
      },
      {
        "duration": 165,
        "start_time": "2022-06-01T16:44:53.402Z"
      },
      {
        "duration": 19,
        "start_time": "2022-06-01T16:44:53.570Z"
      },
      {
        "duration": 15,
        "start_time": "2022-06-01T16:44:53.591Z"
      },
      {
        "duration": 20,
        "start_time": "2022-06-01T16:47:07.717Z"
      },
      {
        "duration": 14,
        "start_time": "2022-06-01T16:47:46.908Z"
      },
      {
        "duration": 20,
        "start_time": "2022-06-01T16:48:06.063Z"
      },
      {
        "duration": 22,
        "start_time": "2022-06-01T16:48:15.707Z"
      },
      {
        "duration": 59,
        "start_time": "2022-06-01T16:49:44.805Z"
      },
      {
        "duration": 23,
        "start_time": "2022-06-01T16:49:54.524Z"
      },
      {
        "duration": 20,
        "start_time": "2022-06-01T16:50:47.346Z"
      },
      {
        "duration": 356,
        "start_time": "2022-06-01T16:51:16.161Z"
      },
      {
        "duration": 154,
        "start_time": "2022-06-01T16:55:12.834Z"
      },
      {
        "duration": 127,
        "start_time": "2022-06-01T16:56:23.762Z"
      },
      {
        "duration": 565,
        "start_time": "2022-06-01T16:56:33.401Z"
      },
      {
        "duration": 543,
        "start_time": "2022-06-01T16:57:03.787Z"
      },
      {
        "duration": 241,
        "start_time": "2022-06-01T16:58:17.950Z"
      },
      {
        "duration": 1065,
        "start_time": "2022-06-01T18:22:20.326Z"
      },
      {
        "duration": 80,
        "start_time": "2022-06-01T18:22:21.393Z"
      },
      {
        "duration": 15,
        "start_time": "2022-06-01T18:22:21.474Z"
      },
      {
        "duration": 13,
        "start_time": "2022-06-01T18:22:21.490Z"
      },
      {
        "duration": 7,
        "start_time": "2022-06-01T18:22:21.505Z"
      },
      {
        "duration": 7,
        "start_time": "2022-06-01T18:22:21.514Z"
      },
      {
        "duration": 6,
        "start_time": "2022-06-01T18:22:21.523Z"
      },
      {
        "duration": 10,
        "start_time": "2022-06-01T18:22:21.530Z"
      },
      {
        "duration": 18,
        "start_time": "2022-06-01T18:22:21.564Z"
      },
      {
        "duration": 2,
        "start_time": "2022-06-01T18:22:21.586Z"
      },
      {
        "duration": 28,
        "start_time": "2022-06-01T18:22:21.590Z"
      },
      {
        "duration": 1,
        "start_time": "2022-06-01T18:22:21.620Z"
      },
      {
        "duration": 24,
        "start_time": "2022-06-01T18:22:21.623Z"
      },
      {
        "duration": 13,
        "start_time": "2022-06-01T18:22:21.664Z"
      },
      {
        "duration": 22,
        "start_time": "2022-06-01T18:22:21.678Z"
      },
      {
        "duration": 15,
        "start_time": "2022-06-01T18:22:21.701Z"
      },
      {
        "duration": 16,
        "start_time": "2022-06-01T18:22:21.718Z"
      },
      {
        "duration": 158,
        "start_time": "2022-06-01T18:22:21.735Z"
      },
      {
        "duration": 17,
        "start_time": "2022-06-01T18:22:21.894Z"
      },
      {
        "duration": 168,
        "start_time": "2022-06-01T18:22:21.913Z"
      },
      {
        "duration": 2,
        "start_time": "2022-06-01T18:25:57.527Z"
      },
      {
        "duration": 26,
        "start_time": "2022-06-01T18:29:10.717Z"
      },
      {
        "duration": 482,
        "start_time": "2022-06-01T18:29:17.577Z"
      },
      {
        "duration": 328,
        "start_time": "2022-06-01T18:30:28.407Z"
      },
      {
        "duration": 352,
        "start_time": "2022-06-01T18:33:23.195Z"
      },
      {
        "duration": 279,
        "start_time": "2022-06-01T18:35:04.630Z"
      },
      {
        "duration": 283,
        "start_time": "2022-06-01T18:35:13.948Z"
      },
      {
        "duration": 325,
        "start_time": "2022-06-01T18:35:29.288Z"
      },
      {
        "duration": 340,
        "start_time": "2022-06-01T18:36:45.805Z"
      },
      {
        "duration": 362,
        "start_time": "2022-06-01T18:37:44.884Z"
      },
      {
        "duration": 168,
        "start_time": "2022-06-01T18:48:42.442Z"
      },
      {
        "duration": 382,
        "start_time": "2022-06-01T18:49:03.836Z"
      },
      {
        "duration": 180,
        "start_time": "2022-06-01T19:02:59.331Z"
      },
      {
        "duration": 1122,
        "start_time": "2022-06-01T19:03:15.255Z"
      },
      {
        "duration": 84,
        "start_time": "2022-06-01T19:03:16.379Z"
      },
      {
        "duration": 17,
        "start_time": "2022-06-01T19:03:16.465Z"
      },
      {
        "duration": 16,
        "start_time": "2022-06-01T19:03:16.484Z"
      },
      {
        "duration": 4,
        "start_time": "2022-06-01T19:03:16.502Z"
      },
      {
        "duration": 9,
        "start_time": "2022-06-01T19:03:16.508Z"
      },
      {
        "duration": 8,
        "start_time": "2022-06-01T19:03:16.519Z"
      },
      {
        "duration": 39,
        "start_time": "2022-06-01T19:03:16.529Z"
      },
      {
        "duration": 21,
        "start_time": "2022-06-01T19:03:16.570Z"
      },
      {
        "duration": 2,
        "start_time": "2022-06-01T19:03:16.594Z"
      },
      {
        "duration": 24,
        "start_time": "2022-06-01T19:03:16.597Z"
      },
      {
        "duration": 3,
        "start_time": "2022-06-01T19:03:16.623Z"
      },
      {
        "duration": 45,
        "start_time": "2022-06-01T19:03:16.627Z"
      },
      {
        "duration": 14,
        "start_time": "2022-06-01T19:03:16.674Z"
      },
      {
        "duration": 16,
        "start_time": "2022-06-01T19:03:16.690Z"
      },
      {
        "duration": 15,
        "start_time": "2022-06-01T19:03:16.708Z"
      },
      {
        "duration": 41,
        "start_time": "2022-06-01T19:03:16.725Z"
      },
      {
        "duration": 170,
        "start_time": "2022-06-01T19:03:16.767Z"
      },
      {
        "duration": 29,
        "start_time": "2022-06-01T19:03:16.938Z"
      },
      {
        "duration": 304,
        "start_time": "2022-06-01T19:03:16.969Z"
      },
      {
        "duration": 0,
        "start_time": "2022-06-01T19:03:17.275Z"
      },
      {
        "duration": 255,
        "start_time": "2022-06-01T19:03:40.819Z"
      },
      {
        "duration": 397,
        "start_time": "2022-06-01T19:03:48.939Z"
      },
      {
        "duration": 95,
        "start_time": "2022-06-02T15:17:05.771Z"
      },
      {
        "duration": 1623,
        "start_time": "2022-06-02T15:17:15.001Z"
      },
      {
        "duration": 167,
        "start_time": "2022-06-02T15:17:16.627Z"
      },
      {
        "duration": 23,
        "start_time": "2022-06-02T15:17:16.797Z"
      },
      {
        "duration": 29,
        "start_time": "2022-06-02T15:17:16.822Z"
      },
      {
        "duration": 17,
        "start_time": "2022-06-02T15:17:16.853Z"
      },
      {
        "duration": 26,
        "start_time": "2022-06-02T15:17:16.872Z"
      },
      {
        "duration": 19,
        "start_time": "2022-06-02T15:17:16.901Z"
      },
      {
        "duration": 23,
        "start_time": "2022-06-02T15:17:16.923Z"
      },
      {
        "duration": 28,
        "start_time": "2022-06-02T15:17:16.948Z"
      },
      {
        "duration": 4,
        "start_time": "2022-06-02T15:17:16.979Z"
      },
      {
        "duration": 41,
        "start_time": "2022-06-02T15:17:16.985Z"
      },
      {
        "duration": 3,
        "start_time": "2022-06-02T15:17:17.029Z"
      },
      {
        "duration": 37,
        "start_time": "2022-06-02T15:17:17.034Z"
      },
      {
        "duration": 21,
        "start_time": "2022-06-02T15:17:17.074Z"
      },
      {
        "duration": 49,
        "start_time": "2022-06-02T15:17:17.098Z"
      },
      {
        "duration": 19,
        "start_time": "2022-06-02T15:17:17.150Z"
      },
      {
        "duration": 27,
        "start_time": "2022-06-02T15:17:17.171Z"
      },
      {
        "duration": 206,
        "start_time": "2022-06-02T15:17:17.201Z"
      },
      {
        "duration": 26,
        "start_time": "2022-06-02T15:17:17.409Z"
      },
      {
        "duration": 558,
        "start_time": "2022-06-02T15:17:17.437Z"
      },
      {
        "duration": 44,
        "start_time": "2022-06-02T15:17:17.998Z"
      },
      {
        "duration": 35,
        "start_time": "2022-06-02T15:17:53.027Z"
      },
      {
        "duration": 60,
        "start_time": "2022-06-02T15:22:23.998Z"
      },
      {
        "duration": 174,
        "start_time": "2022-06-02T15:24:09.860Z"
      },
      {
        "duration": 43,
        "start_time": "2022-06-02T15:26:24.816Z"
      },
      {
        "duration": 4308,
        "start_time": "2022-06-02T15:27:28.512Z"
      },
      {
        "duration": 3789,
        "start_time": "2022-06-02T15:27:54.274Z"
      },
      {
        "duration": 4107,
        "start_time": "2022-06-02T15:28:11.369Z"
      },
      {
        "duration": 1844,
        "start_time": "2022-06-02T15:29:09.875Z"
      },
      {
        "duration": 1599,
        "start_time": "2022-06-02T15:29:25.575Z"
      },
      {
        "duration": 1628,
        "start_time": "2022-06-02T15:30:21.772Z"
      },
      {
        "duration": 26,
        "start_time": "2022-06-02T16:44:21.875Z"
      },
      {
        "duration": 75,
        "start_time": "2022-06-02T16:44:54.970Z"
      },
      {
        "duration": 43,
        "start_time": "2022-06-02T16:45:32.650Z"
      },
      {
        "duration": 45,
        "start_time": "2022-06-02T16:46:11.664Z"
      },
      {
        "duration": 49,
        "start_time": "2022-06-02T16:47:42.976Z"
      },
      {
        "duration": 73,
        "start_time": "2022-06-02T16:51:11.017Z"
      },
      {
        "duration": 24,
        "start_time": "2022-06-02T16:51:48.457Z"
      },
      {
        "duration": 23,
        "start_time": "2022-06-02T16:56:09.207Z"
      },
      {
        "duration": 24,
        "start_time": "2022-06-02T16:56:34.865Z"
      },
      {
        "duration": 15,
        "start_time": "2022-06-02T17:03:21.568Z"
      },
      {
        "duration": 4,
        "start_time": "2022-06-02T17:04:00.452Z"
      },
      {
        "duration": 12,
        "start_time": "2022-06-02T17:04:09.806Z"
      },
      {
        "duration": 22,
        "start_time": "2022-06-02T17:05:28.172Z"
      },
      {
        "duration": 6,
        "start_time": "2022-06-02T17:08:23.497Z"
      },
      {
        "duration": 22,
        "start_time": "2022-06-02T17:08:36.746Z"
      },
      {
        "duration": 26,
        "start_time": "2022-06-02T17:09:10.242Z"
      },
      {
        "duration": 16,
        "start_time": "2022-06-02T17:09:18.382Z"
      },
      {
        "duration": 23,
        "start_time": "2022-06-02T17:10:22.170Z"
      },
      {
        "duration": 22,
        "start_time": "2022-06-02T17:12:00.847Z"
      },
      {
        "duration": 19,
        "start_time": "2022-06-02T17:12:14.812Z"
      },
      {
        "duration": 24,
        "start_time": "2022-06-02T17:12:32.853Z"
      },
      {
        "duration": 29,
        "start_time": "2022-06-02T17:16:03.108Z"
      },
      {
        "duration": 7,
        "start_time": "2022-06-02T17:18:31.278Z"
      },
      {
        "duration": 233,
        "start_time": "2022-06-02T17:29:47.014Z"
      },
      {
        "duration": 255,
        "start_time": "2022-06-02T17:33:28.368Z"
      },
      {
        "duration": 278,
        "start_time": "2022-06-02T17:33:35.654Z"
      },
      {
        "duration": 65,
        "start_time": "2022-06-02T17:34:29.110Z"
      },
      {
        "duration": 224,
        "start_time": "2022-06-02T17:34:41.947Z"
      },
      {
        "duration": 305,
        "start_time": "2022-06-02T17:34:46.266Z"
      },
      {
        "duration": 540,
        "start_time": "2022-06-02T17:35:16.116Z"
      },
      {
        "duration": 622,
        "start_time": "2022-06-02T17:35:50.494Z"
      },
      {
        "duration": 2446,
        "start_time": "2022-06-02T17:39:05.286Z"
      },
      {
        "duration": 57,
        "start_time": "2022-06-03T15:36:14.989Z"
      },
      {
        "duration": 1162,
        "start_time": "2022-06-03T15:36:21.174Z"
      },
      {
        "duration": 213,
        "start_time": "2022-06-03T15:36:22.339Z"
      },
      {
        "duration": 16,
        "start_time": "2022-06-03T15:36:22.553Z"
      },
      {
        "duration": 32,
        "start_time": "2022-06-03T15:36:22.571Z"
      },
      {
        "duration": 5,
        "start_time": "2022-06-03T15:36:22.605Z"
      },
      {
        "duration": 7,
        "start_time": "2022-06-03T15:36:22.611Z"
      },
      {
        "duration": 17,
        "start_time": "2022-06-03T15:36:22.619Z"
      },
      {
        "duration": 18,
        "start_time": "2022-06-03T15:36:22.638Z"
      },
      {
        "duration": 17,
        "start_time": "2022-06-03T15:36:22.658Z"
      },
      {
        "duration": 7,
        "start_time": "2022-06-03T15:36:22.677Z"
      },
      {
        "duration": 23,
        "start_time": "2022-06-03T15:36:22.686Z"
      },
      {
        "duration": 3,
        "start_time": "2022-06-03T15:36:22.710Z"
      },
      {
        "duration": 31,
        "start_time": "2022-06-03T15:36:22.714Z"
      },
      {
        "duration": 13,
        "start_time": "2022-06-03T15:36:22.747Z"
      },
      {
        "duration": 30,
        "start_time": "2022-06-03T15:36:22.761Z"
      },
      {
        "duration": 18,
        "start_time": "2022-06-03T15:36:22.793Z"
      },
      {
        "duration": 19,
        "start_time": "2022-06-03T15:36:22.813Z"
      },
      {
        "duration": 158,
        "start_time": "2022-06-03T15:36:22.833Z"
      },
      {
        "duration": 18,
        "start_time": "2022-06-03T15:36:22.993Z"
      },
      {
        "duration": 1418,
        "start_time": "2022-06-03T15:36:23.013Z"
      },
      {
        "duration": 21,
        "start_time": "2022-06-03T15:36:24.433Z"
      },
      {
        "duration": 15,
        "start_time": "2022-06-03T15:36:24.456Z"
      },
      {
        "duration": 2058,
        "start_time": "2022-06-03T15:36:24.474Z"
      },
      {
        "duration": 14,
        "start_time": "2022-06-03T15:36:26.533Z"
      },
      {
        "duration": 8,
        "start_time": "2022-06-03T15:36:26.549Z"
      },
      {
        "duration": 14,
        "start_time": "2022-06-03T15:47:02.358Z"
      },
      {
        "duration": 1031,
        "start_time": "2022-06-03T15:47:10.391Z"
      },
      {
        "duration": 80,
        "start_time": "2022-06-03T15:47:11.424Z"
      },
      {
        "duration": 22,
        "start_time": "2022-06-03T15:47:11.505Z"
      },
      {
        "duration": 18,
        "start_time": "2022-06-03T15:47:11.529Z"
      },
      {
        "duration": 13,
        "start_time": "2022-06-03T15:47:11.548Z"
      },
      {
        "duration": 16,
        "start_time": "2022-06-03T15:47:11.563Z"
      },
      {
        "duration": 14,
        "start_time": "2022-06-03T15:47:11.580Z"
      },
      {
        "duration": 16,
        "start_time": "2022-06-03T15:47:11.595Z"
      },
      {
        "duration": 18,
        "start_time": "2022-06-03T15:47:11.613Z"
      },
      {
        "duration": 2,
        "start_time": "2022-06-03T15:47:11.633Z"
      },
      {
        "duration": 22,
        "start_time": "2022-06-03T15:47:11.637Z"
      },
      {
        "duration": 2,
        "start_time": "2022-06-03T15:47:11.660Z"
      },
      {
        "duration": 20,
        "start_time": "2022-06-03T15:47:11.664Z"
      },
      {
        "duration": 12,
        "start_time": "2022-06-03T15:47:11.686Z"
      },
      {
        "duration": 34,
        "start_time": "2022-06-03T15:47:11.700Z"
      },
      {
        "duration": 25,
        "start_time": "2022-06-03T15:47:11.735Z"
      },
      {
        "duration": 26,
        "start_time": "2022-06-03T15:47:11.762Z"
      },
      {
        "duration": 170,
        "start_time": "2022-06-03T15:47:11.789Z"
      },
      {
        "duration": 18,
        "start_time": "2022-06-03T15:47:11.961Z"
      },
      {
        "duration": 1509,
        "start_time": "2022-06-03T15:47:11.980Z"
      },
      {
        "duration": 17,
        "start_time": "2022-06-03T15:47:13.491Z"
      },
      {
        "duration": 4,
        "start_time": "2022-06-03T15:47:13.510Z"
      },
      {
        "duration": 2240,
        "start_time": "2022-06-03T15:47:13.516Z"
      },
      {
        "duration": 13,
        "start_time": "2022-06-03T15:47:15.758Z"
      },
      {
        "duration": 4,
        "start_time": "2022-06-03T15:47:15.773Z"
      },
      {
        "duration": 1098,
        "start_time": "2022-06-03T15:47:52.318Z"
      },
      {
        "duration": 81,
        "start_time": "2022-06-03T15:47:53.418Z"
      },
      {
        "duration": 17,
        "start_time": "2022-06-03T15:47:53.501Z"
      },
      {
        "duration": 14,
        "start_time": "2022-06-03T15:47:53.521Z"
      },
      {
        "duration": 4,
        "start_time": "2022-06-03T15:47:53.537Z"
      },
      {
        "duration": 9,
        "start_time": "2022-06-03T15:47:53.542Z"
      },
      {
        "duration": 8,
        "start_time": "2022-06-03T15:47:53.552Z"
      },
      {
        "duration": 13,
        "start_time": "2022-06-03T15:47:53.562Z"
      },
      {
        "duration": 17,
        "start_time": "2022-06-03T15:47:53.576Z"
      },
      {
        "duration": 2,
        "start_time": "2022-06-03T15:47:53.596Z"
      },
      {
        "duration": 46,
        "start_time": "2022-06-03T15:47:53.599Z"
      },
      {
        "duration": 3,
        "start_time": "2022-06-03T15:47:53.647Z"
      },
      {
        "duration": 25,
        "start_time": "2022-06-03T15:47:53.651Z"
      },
      {
        "duration": 15,
        "start_time": "2022-06-03T15:47:53.678Z"
      },
      {
        "duration": 34,
        "start_time": "2022-06-03T15:47:53.695Z"
      },
      {
        "duration": 16,
        "start_time": "2022-06-03T15:47:53.730Z"
      },
      {
        "duration": 16,
        "start_time": "2022-06-03T15:47:53.748Z"
      },
      {
        "duration": 169,
        "start_time": "2022-06-03T15:47:53.765Z"
      },
      {
        "duration": 16,
        "start_time": "2022-06-03T15:47:53.935Z"
      },
      {
        "duration": 1446,
        "start_time": "2022-06-03T15:47:53.952Z"
      },
      {
        "duration": 15,
        "start_time": "2022-06-03T15:47:55.400Z"
      },
      {
        "duration": 13,
        "start_time": "2022-06-03T15:47:55.417Z"
      },
      {
        "duration": 2040,
        "start_time": "2022-06-03T15:47:55.431Z"
      },
      {
        "duration": 15,
        "start_time": "2022-06-03T15:47:57.472Z"
      },
      {
        "duration": 11,
        "start_time": "2022-06-03T15:47:57.488Z"
      },
      {
        "duration": 202,
        "start_time": "2022-06-03T15:50:53.183Z"
      },
      {
        "duration": 213,
        "start_time": "2022-06-03T15:55:32.787Z"
      },
      {
        "duration": 108,
        "start_time": "2022-06-03T15:55:47.187Z"
      },
      {
        "duration": 108,
        "start_time": "2022-06-03T15:55:58.749Z"
      },
      {
        "duration": 217,
        "start_time": "2022-06-03T15:56:21.012Z"
      },
      {
        "duration": 8,
        "start_time": "2022-06-03T15:57:15.602Z"
      },
      {
        "duration": 114,
        "start_time": "2022-06-03T15:59:00.568Z"
      },
      {
        "duration": 102,
        "start_time": "2022-06-03T16:01:57.656Z"
      },
      {
        "duration": 108,
        "start_time": "2022-06-03T16:03:19.067Z"
      },
      {
        "duration": 96,
        "start_time": "2022-06-03T16:03:41.987Z"
      },
      {
        "duration": 103,
        "start_time": "2022-06-03T16:04:34.732Z"
      },
      {
        "duration": 186,
        "start_time": "2022-06-03T16:06:06.051Z"
      },
      {
        "duration": 236,
        "start_time": "2022-06-03T16:20:41.442Z"
      },
      {
        "duration": 451,
        "start_time": "2022-06-03T16:20:50.683Z"
      },
      {
        "duration": 216,
        "start_time": "2022-06-03T16:23:18.583Z"
      },
      {
        "duration": 228,
        "start_time": "2022-06-03T16:24:30.582Z"
      },
      {
        "duration": 36,
        "start_time": "2022-06-03T16:25:59.037Z"
      },
      {
        "duration": 215,
        "start_time": "2022-06-03T16:26:15.892Z"
      },
      {
        "duration": 205,
        "start_time": "2022-06-03T16:26:35.945Z"
      },
      {
        "duration": 5,
        "start_time": "2022-06-03T16:26:56.480Z"
      },
      {
        "duration": 687,
        "start_time": "2022-06-03T16:27:01.155Z"
      },
      {
        "duration": 378,
        "start_time": "2022-06-03T16:31:49.407Z"
      },
      {
        "duration": 209,
        "start_time": "2022-06-03T16:32:01.342Z"
      },
      {
        "duration": 477,
        "start_time": "2022-06-03T16:32:32.380Z"
      },
      {
        "duration": 362,
        "start_time": "2022-06-03T16:33:24.280Z"
      },
      {
        "duration": 1127,
        "start_time": "2022-06-03T16:34:15.843Z"
      },
      {
        "duration": 78,
        "start_time": "2022-06-03T16:34:16.971Z"
      },
      {
        "duration": 19,
        "start_time": "2022-06-03T16:34:17.051Z"
      },
      {
        "duration": 15,
        "start_time": "2022-06-03T16:34:17.072Z"
      },
      {
        "duration": 5,
        "start_time": "2022-06-03T16:34:17.089Z"
      },
      {
        "duration": 12,
        "start_time": "2022-06-03T16:34:17.095Z"
      },
      {
        "duration": 9,
        "start_time": "2022-06-03T16:34:17.128Z"
      },
      {
        "duration": 13,
        "start_time": "2022-06-03T16:34:17.139Z"
      },
      {
        "duration": 18,
        "start_time": "2022-06-03T16:34:17.154Z"
      },
      {
        "duration": 2,
        "start_time": "2022-06-03T16:34:17.176Z"
      },
      {
        "duration": 20,
        "start_time": "2022-06-03T16:34:17.180Z"
      },
      {
        "duration": 28,
        "start_time": "2022-06-03T16:34:17.201Z"
      },
      {
        "duration": 24,
        "start_time": "2022-06-03T16:34:17.231Z"
      },
      {
        "duration": 15,
        "start_time": "2022-06-03T16:34:17.256Z"
      },
      {
        "duration": 15,
        "start_time": "2022-06-03T16:34:17.274Z"
      },
      {
        "duration": 38,
        "start_time": "2022-06-03T16:34:17.291Z"
      },
      {
        "duration": 27,
        "start_time": "2022-06-03T16:34:17.331Z"
      },
      {
        "duration": 154,
        "start_time": "2022-06-03T16:34:17.360Z"
      },
      {
        "duration": 23,
        "start_time": "2022-06-03T16:34:17.516Z"
      },
      {
        "duration": 1419,
        "start_time": "2022-06-03T16:34:17.540Z"
      },
      {
        "duration": 16,
        "start_time": "2022-06-03T16:34:18.961Z"
      },
      {
        "duration": 4,
        "start_time": "2022-06-03T16:34:18.979Z"
      },
      {
        "duration": 2076,
        "start_time": "2022-06-03T16:34:18.984Z"
      },
      {
        "duration": 14,
        "start_time": "2022-06-03T16:34:21.062Z"
      },
      {
        "duration": 129,
        "start_time": "2022-06-03T16:34:21.077Z"
      },
      {
        "duration": 412,
        "start_time": "2022-06-03T16:34:31.836Z"
      },
      {
        "duration": 271,
        "start_time": "2022-06-03T16:35:15.467Z"
      },
      {
        "duration": 266,
        "start_time": "2022-06-03T16:42:02.019Z"
      },
      {
        "duration": 253,
        "start_time": "2022-06-03T16:42:19.741Z"
      },
      {
        "duration": 163,
        "start_time": "2022-06-03T16:46:45.633Z"
      },
      {
        "duration": 267,
        "start_time": "2022-06-03T16:48:30.515Z"
      },
      {
        "duration": 369,
        "start_time": "2022-06-03T16:49:17.725Z"
      },
      {
        "duration": 1122,
        "start_time": "2022-06-03T16:50:03.106Z"
      },
      {
        "duration": 82,
        "start_time": "2022-06-03T16:50:04.230Z"
      },
      {
        "duration": 17,
        "start_time": "2022-06-03T16:50:04.313Z"
      },
      {
        "duration": 20,
        "start_time": "2022-06-03T16:50:04.333Z"
      },
      {
        "duration": 7,
        "start_time": "2022-06-03T16:50:04.355Z"
      },
      {
        "duration": 19,
        "start_time": "2022-06-03T16:50:04.364Z"
      },
      {
        "duration": 14,
        "start_time": "2022-06-03T16:50:04.385Z"
      },
      {
        "duration": 35,
        "start_time": "2022-06-03T16:50:04.401Z"
      },
      {
        "duration": 23,
        "start_time": "2022-06-03T16:50:04.438Z"
      },
      {
        "duration": 3,
        "start_time": "2022-06-03T16:50:04.464Z"
      },
      {
        "duration": 31,
        "start_time": "2022-06-03T16:50:04.468Z"
      },
      {
        "duration": 3,
        "start_time": "2022-06-03T16:50:04.501Z"
      },
      {
        "duration": 18,
        "start_time": "2022-06-03T16:50:04.528Z"
      },
      {
        "duration": 13,
        "start_time": "2022-06-03T16:50:04.547Z"
      },
      {
        "duration": 16,
        "start_time": "2022-06-03T16:50:04.562Z"
      },
      {
        "duration": 16,
        "start_time": "2022-06-03T16:50:04.580Z"
      },
      {
        "duration": 39,
        "start_time": "2022-06-03T16:50:04.598Z"
      },
      {
        "duration": 157,
        "start_time": "2022-06-03T16:50:04.639Z"
      },
      {
        "duration": 17,
        "start_time": "2022-06-03T16:50:04.798Z"
      },
      {
        "duration": 1399,
        "start_time": "2022-06-03T16:50:04.817Z"
      },
      {
        "duration": 24,
        "start_time": "2022-06-03T16:50:06.218Z"
      },
      {
        "duration": 4,
        "start_time": "2022-06-03T16:50:06.244Z"
      },
      {
        "duration": 2091,
        "start_time": "2022-06-03T16:50:06.250Z"
      },
      {
        "duration": 17,
        "start_time": "2022-06-03T16:50:08.343Z"
      },
      {
        "duration": 507,
        "start_time": "2022-06-03T16:50:08.361Z"
      },
      {
        "duration": 282,
        "start_time": "2022-06-03T16:51:34.448Z"
      },
      {
        "duration": 258,
        "start_time": "2022-06-03T16:51:48.585Z"
      },
      {
        "duration": 280,
        "start_time": "2022-06-03T16:54:55.696Z"
      },
      {
        "duration": 275,
        "start_time": "2022-06-03T16:56:49.085Z"
      },
      {
        "duration": 279,
        "start_time": "2022-06-03T16:57:16.521Z"
      },
      {
        "duration": 404,
        "start_time": "2022-06-03T16:57:38.346Z"
      },
      {
        "duration": 1126,
        "start_time": "2022-06-03T16:59:07.562Z"
      },
      {
        "duration": 87,
        "start_time": "2022-06-03T16:59:08.690Z"
      },
      {
        "duration": 14,
        "start_time": "2022-06-03T16:59:08.779Z"
      },
      {
        "duration": 14,
        "start_time": "2022-06-03T16:59:08.795Z"
      },
      {
        "duration": 5,
        "start_time": "2022-06-03T16:59:08.829Z"
      },
      {
        "duration": 13,
        "start_time": "2022-06-03T16:59:08.835Z"
      },
      {
        "duration": 21,
        "start_time": "2022-06-03T16:59:08.850Z"
      },
      {
        "duration": 17,
        "start_time": "2022-06-03T16:59:08.873Z"
      },
      {
        "duration": 42,
        "start_time": "2022-06-03T16:59:08.891Z"
      },
      {
        "duration": 4,
        "start_time": "2022-06-03T16:59:08.934Z"
      },
      {
        "duration": 36,
        "start_time": "2022-06-03T16:59:08.940Z"
      },
      {
        "duration": 2,
        "start_time": "2022-06-03T16:59:08.978Z"
      },
      {
        "duration": 19,
        "start_time": "2022-06-03T16:59:08.982Z"
      },
      {
        "duration": 14,
        "start_time": "2022-06-03T16:59:09.004Z"
      },
      {
        "duration": 15,
        "start_time": "2022-06-03T16:59:09.028Z"
      },
      {
        "duration": 19,
        "start_time": "2022-06-03T16:59:09.045Z"
      },
      {
        "duration": 16,
        "start_time": "2022-06-03T16:59:09.066Z"
      },
      {
        "duration": 177,
        "start_time": "2022-06-03T16:59:09.084Z"
      },
      {
        "duration": 17,
        "start_time": "2022-06-03T16:59:09.262Z"
      },
      {
        "duration": 1562,
        "start_time": "2022-06-03T16:59:09.281Z"
      },
      {
        "duration": 17,
        "start_time": "2022-06-03T16:59:10.845Z"
      },
      {
        "duration": 5,
        "start_time": "2022-06-03T16:59:10.863Z"
      },
      {
        "duration": 2241,
        "start_time": "2022-06-03T16:59:10.869Z"
      },
      {
        "duration": 23,
        "start_time": "2022-06-03T16:59:13.112Z"
      },
      {
        "duration": 406,
        "start_time": "2022-06-03T16:59:13.136Z"
      },
      {
        "duration": 262,
        "start_time": "2022-06-03T16:59:34.866Z"
      },
      {
        "duration": 371,
        "start_time": "2022-06-03T17:04:53.202Z"
      },
      {
        "duration": 282,
        "start_time": "2022-06-03T17:05:06.105Z"
      },
      {
        "duration": 318,
        "start_time": "2022-06-03T17:06:14.258Z"
      },
      {
        "duration": 278,
        "start_time": "2022-06-03T17:06:27.517Z"
      },
      {
        "duration": 474,
        "start_time": "2022-06-03T17:06:47.227Z"
      },
      {
        "duration": 280,
        "start_time": "2022-06-03T17:07:03.464Z"
      },
      {
        "duration": 274,
        "start_time": "2022-06-03T17:09:01.778Z"
      },
      {
        "duration": 268,
        "start_time": "2022-06-03T17:09:10.628Z"
      },
      {
        "duration": 254,
        "start_time": "2022-06-03T17:09:40.501Z"
      },
      {
        "duration": 249,
        "start_time": "2022-06-03T17:09:56.099Z"
      },
      {
        "duration": 283,
        "start_time": "2022-06-03T17:10:32.679Z"
      },
      {
        "duration": 280,
        "start_time": "2022-06-03T17:11:57.029Z"
      },
      {
        "duration": 513,
        "start_time": "2022-06-03T17:13:06.019Z"
      },
      {
        "duration": 33,
        "start_time": "2022-06-03T17:19:46.789Z"
      },
      {
        "duration": 47,
        "start_time": "2022-06-03T17:20:43.760Z"
      },
      {
        "duration": 6,
        "start_time": "2022-06-03T17:41:43.977Z"
      },
      {
        "duration": 7,
        "start_time": "2022-06-03T17:44:22.500Z"
      },
      {
        "duration": 7,
        "start_time": "2022-06-03T17:44:56.249Z"
      },
      {
        "duration": 8,
        "start_time": "2022-06-03T17:46:11.502Z"
      },
      {
        "duration": 8,
        "start_time": "2022-06-03T17:46:21.207Z"
      },
      {
        "duration": 8,
        "start_time": "2022-06-03T17:46:35.972Z"
      },
      {
        "duration": 8,
        "start_time": "2022-06-03T17:46:46.915Z"
      },
      {
        "duration": 7,
        "start_time": "2022-06-03T17:47:02.146Z"
      },
      {
        "duration": 10,
        "start_time": "2022-06-03T17:47:10.739Z"
      },
      {
        "duration": 10,
        "start_time": "2022-06-03T17:47:20.722Z"
      },
      {
        "duration": 8,
        "start_time": "2022-06-03T17:47:33.866Z"
      },
      {
        "duration": 12,
        "start_time": "2022-06-03T17:48:02.047Z"
      },
      {
        "duration": 9,
        "start_time": "2022-06-03T17:48:30.049Z"
      },
      {
        "duration": 9,
        "start_time": "2022-06-03T17:48:47.170Z"
      },
      {
        "duration": 8,
        "start_time": "2022-06-03T17:55:34.057Z"
      },
      {
        "duration": 9,
        "start_time": "2022-06-03T17:56:21.978Z"
      },
      {
        "duration": 8,
        "start_time": "2022-06-03T17:56:33.297Z"
      },
      {
        "duration": 10,
        "start_time": "2022-06-03T17:56:57.446Z"
      },
      {
        "duration": 1232,
        "start_time": "2022-06-04T16:35:21.464Z"
      },
      {
        "duration": 123,
        "start_time": "2022-06-04T16:35:22.698Z"
      },
      {
        "duration": 15,
        "start_time": "2022-06-04T16:35:22.823Z"
      },
      {
        "duration": 26,
        "start_time": "2022-06-04T16:35:22.840Z"
      },
      {
        "duration": 7,
        "start_time": "2022-06-04T16:35:22.868Z"
      },
      {
        "duration": 10,
        "start_time": "2022-06-04T16:35:22.877Z"
      },
      {
        "duration": 7,
        "start_time": "2022-06-04T16:35:22.889Z"
      },
      {
        "duration": 10,
        "start_time": "2022-06-04T16:35:22.898Z"
      },
      {
        "duration": 17,
        "start_time": "2022-06-04T16:35:22.910Z"
      },
      {
        "duration": 3,
        "start_time": "2022-06-04T16:35:22.929Z"
      },
      {
        "duration": 31,
        "start_time": "2022-06-04T16:35:22.933Z"
      },
      {
        "duration": 2,
        "start_time": "2022-06-04T16:35:22.966Z"
      },
      {
        "duration": 17,
        "start_time": "2022-06-04T16:35:22.970Z"
      },
      {
        "duration": 13,
        "start_time": "2022-06-04T16:35:22.989Z"
      },
      {
        "duration": 15,
        "start_time": "2022-06-04T16:35:23.004Z"
      },
      {
        "duration": 54,
        "start_time": "2022-06-04T16:35:23.021Z"
      },
      {
        "duration": 15,
        "start_time": "2022-06-04T16:35:23.077Z"
      },
      {
        "duration": 148,
        "start_time": "2022-06-04T16:35:23.093Z"
      },
      {
        "duration": 25,
        "start_time": "2022-06-04T16:35:23.243Z"
      },
      {
        "duration": 1397,
        "start_time": "2022-06-04T16:35:23.270Z"
      },
      {
        "duration": 15,
        "start_time": "2022-06-04T16:35:24.668Z"
      },
      {
        "duration": 4,
        "start_time": "2022-06-04T16:35:24.685Z"
      },
      {
        "duration": 2161,
        "start_time": "2022-06-04T16:35:24.690Z"
      },
      {
        "duration": 375,
        "start_time": "2022-06-04T16:35:26.852Z"
      },
      {
        "duration": 51,
        "start_time": "2022-06-04T16:35:27.229Z"
      },
      {
        "duration": 12,
        "start_time": "2022-06-04T16:35:27.281Z"
      },
      {
        "duration": 97,
        "start_time": "2022-06-04T16:44:41.727Z"
      },
      {
        "duration": 407,
        "start_time": "2022-06-04T16:44:58.109Z"
      },
      {
        "duration": 149,
        "start_time": "2022-06-04T16:45:58.541Z"
      },
      {
        "duration": 113,
        "start_time": "2022-06-04T16:47:14.296Z"
      },
      {
        "duration": 157,
        "start_time": "2022-06-04T16:47:47.264Z"
      },
      {
        "duration": 318,
        "start_time": "2022-06-04T16:49:24.299Z"
      },
      {
        "duration": 306,
        "start_time": "2022-06-04T16:51:35.764Z"
      },
      {
        "duration": 39,
        "start_time": "2022-06-04T16:53:23.444Z"
      },
      {
        "duration": 8,
        "start_time": "2022-06-04T16:55:25.166Z"
      },
      {
        "duration": 12,
        "start_time": "2022-06-04T16:55:43.944Z"
      },
      {
        "duration": 19,
        "start_time": "2022-06-04T16:56:44.962Z"
      },
      {
        "duration": 41,
        "start_time": "2022-06-04T16:56:59.444Z"
      },
      {
        "duration": 22,
        "start_time": "2022-06-04T16:57:03.768Z"
      },
      {
        "duration": 14,
        "start_time": "2022-06-04T16:57:15.004Z"
      },
      {
        "duration": 22,
        "start_time": "2022-06-04T16:57:45.150Z"
      },
      {
        "duration": 20,
        "start_time": "2022-06-04T16:59:22.704Z"
      },
      {
        "duration": 15,
        "start_time": "2022-06-04T16:59:53.142Z"
      },
      {
        "duration": 16,
        "start_time": "2022-06-04T17:11:42.844Z"
      },
      {
        "duration": 20,
        "start_time": "2022-06-04T17:12:18.516Z"
      },
      {
        "duration": 19,
        "start_time": "2022-06-04T17:12:47.004Z"
      },
      {
        "duration": 17,
        "start_time": "2022-06-04T17:13:18.508Z"
      },
      {
        "duration": 9,
        "start_time": "2022-06-04T17:14:06.214Z"
      },
      {
        "duration": 7,
        "start_time": "2022-06-04T17:14:15.137Z"
      },
      {
        "duration": 22,
        "start_time": "2022-06-04T17:14:34.896Z"
      },
      {
        "duration": 16,
        "start_time": "2022-06-04T17:15:17.169Z"
      },
      {
        "duration": 10,
        "start_time": "2022-06-04T17:15:37.914Z"
      },
      {
        "duration": 267,
        "start_time": "2022-06-04T17:17:16.046Z"
      },
      {
        "duration": 5,
        "start_time": "2022-06-04T17:26:47.496Z"
      },
      {
        "duration": 253,
        "start_time": "2022-06-04T17:28:08.035Z"
      },
      {
        "duration": 368,
        "start_time": "2022-06-04T17:28:50.250Z"
      },
      {
        "duration": 330,
        "start_time": "2022-06-04T17:29:37.943Z"
      },
      {
        "duration": 238,
        "start_time": "2022-06-04T17:29:46.804Z"
      },
      {
        "duration": 252,
        "start_time": "2022-06-04T17:30:24.692Z"
      },
      {
        "duration": 270,
        "start_time": "2022-06-04T17:31:36.404Z"
      },
      {
        "duration": 260,
        "start_time": "2022-06-04T17:31:42.951Z"
      },
      {
        "duration": 337,
        "start_time": "2022-06-04T17:33:41.700Z"
      },
      {
        "duration": 438,
        "start_time": "2022-06-04T17:33:57.208Z"
      },
      {
        "duration": 35,
        "start_time": "2022-06-04T17:35:21.100Z"
      },
      {
        "duration": 24,
        "start_time": "2022-06-04T17:35:40.515Z"
      },
      {
        "duration": 23,
        "start_time": "2022-06-04T17:35:51.200Z"
      },
      {
        "duration": 1027,
        "start_time": "2022-06-04T17:36:07.103Z"
      },
      {
        "duration": 76,
        "start_time": "2022-06-04T17:36:08.132Z"
      },
      {
        "duration": 14,
        "start_time": "2022-06-04T17:36:08.210Z"
      },
      {
        "duration": 26,
        "start_time": "2022-06-04T17:36:08.226Z"
      },
      {
        "duration": 12,
        "start_time": "2022-06-04T17:36:08.254Z"
      },
      {
        "duration": 28,
        "start_time": "2022-06-04T17:36:08.267Z"
      },
      {
        "duration": 12,
        "start_time": "2022-06-04T17:36:08.297Z"
      },
      {
        "duration": 21,
        "start_time": "2022-06-04T17:36:08.311Z"
      },
      {
        "duration": 18,
        "start_time": "2022-06-04T17:36:08.333Z"
      },
      {
        "duration": 8,
        "start_time": "2022-06-04T17:36:08.352Z"
      },
      {
        "duration": 39,
        "start_time": "2022-06-04T17:36:08.361Z"
      },
      {
        "duration": 2,
        "start_time": "2022-06-04T17:36:08.401Z"
      },
      {
        "duration": 27,
        "start_time": "2022-06-04T17:36:08.405Z"
      },
      {
        "duration": 15,
        "start_time": "2022-06-04T17:36:08.434Z"
      },
      {
        "duration": 20,
        "start_time": "2022-06-04T17:36:08.450Z"
      },
      {
        "duration": 34,
        "start_time": "2022-06-04T17:36:08.472Z"
      },
      {
        "duration": 35,
        "start_time": "2022-06-04T17:36:08.508Z"
      },
      {
        "duration": 147,
        "start_time": "2022-06-04T17:36:08.544Z"
      },
      {
        "duration": 16,
        "start_time": "2022-06-04T17:36:08.692Z"
      },
      {
        "duration": 1344,
        "start_time": "2022-06-04T17:36:08.710Z"
      },
      {
        "duration": 16,
        "start_time": "2022-06-04T17:36:10.055Z"
      },
      {
        "duration": 10,
        "start_time": "2022-06-04T17:36:10.072Z"
      },
      {
        "duration": 1936,
        "start_time": "2022-06-04T17:36:10.084Z"
      },
      {
        "duration": 347,
        "start_time": "2022-06-04T17:36:12.022Z"
      },
      {
        "duration": 43,
        "start_time": "2022-06-04T17:36:12.370Z"
      },
      {
        "duration": 328,
        "start_time": "2022-06-04T17:36:12.414Z"
      },
      {
        "duration": 18,
        "start_time": "2022-06-04T17:36:12.744Z"
      },
      {
        "duration": 5,
        "start_time": "2022-06-04T17:36:12.763Z"
      },
      {
        "duration": 0,
        "start_time": "2022-06-04T17:36:12.769Z"
      },
      {
        "duration": 0,
        "start_time": "2022-06-04T17:36:12.770Z"
      },
      {
        "duration": 0,
        "start_time": "2022-06-04T17:36:12.771Z"
      },
      {
        "duration": 16,
        "start_time": "2022-06-04T17:36:34.132Z"
      },
      {
        "duration": 4,
        "start_time": "2022-06-04T17:36:39.160Z"
      },
      {
        "duration": 5,
        "start_time": "2022-06-04T17:36:42.702Z"
      },
      {
        "duration": 229,
        "start_time": "2022-06-04T17:37:21.296Z"
      },
      {
        "duration": 334,
        "start_time": "2022-06-04T17:37:28.107Z"
      },
      {
        "duration": 203,
        "start_time": "2022-06-04T17:37:46.437Z"
      },
      {
        "duration": 122,
        "start_time": "2022-06-04T17:38:51.914Z"
      },
      {
        "duration": 125,
        "start_time": "2022-06-04T17:39:16.388Z"
      },
      {
        "duration": 331,
        "start_time": "2022-06-04T17:40:36.732Z"
      },
      {
        "duration": 13,
        "start_time": "2022-06-04T17:42:36.638Z"
      },
      {
        "duration": 7,
        "start_time": "2022-06-04T17:49:07.855Z"
      },
      {
        "duration": 25,
        "start_time": "2022-06-04T17:50:22.364Z"
      },
      {
        "duration": 46,
        "start_time": "2022-06-04T17:55:17.801Z"
      },
      {
        "duration": 37,
        "start_time": "2022-06-04T17:55:27.725Z"
      },
      {
        "duration": 1392,
        "start_time": "2022-06-06T15:27:40.060Z"
      },
      {
        "duration": 511,
        "start_time": "2022-06-06T15:27:41.454Z"
      },
      {
        "duration": 18,
        "start_time": "2022-06-06T15:27:41.966Z"
      },
      {
        "duration": 23,
        "start_time": "2022-06-06T15:27:41.986Z"
      },
      {
        "duration": 5,
        "start_time": "2022-06-06T15:27:42.011Z"
      },
      {
        "duration": 7,
        "start_time": "2022-06-06T15:27:42.018Z"
      },
      {
        "duration": 5,
        "start_time": "2022-06-06T15:27:42.027Z"
      },
      {
        "duration": 11,
        "start_time": "2022-06-06T15:27:42.033Z"
      },
      {
        "duration": 58,
        "start_time": "2022-06-06T15:27:42.046Z"
      },
      {
        "duration": 2,
        "start_time": "2022-06-06T15:27:42.108Z"
      },
      {
        "duration": 25,
        "start_time": "2022-06-06T15:27:42.112Z"
      },
      {
        "duration": 2,
        "start_time": "2022-06-06T15:27:42.139Z"
      },
      {
        "duration": 22,
        "start_time": "2022-06-06T15:27:42.143Z"
      },
      {
        "duration": 39,
        "start_time": "2022-06-06T15:27:42.167Z"
      },
      {
        "duration": 16,
        "start_time": "2022-06-06T15:27:42.208Z"
      },
      {
        "duration": 24,
        "start_time": "2022-06-06T15:27:42.226Z"
      },
      {
        "duration": 17,
        "start_time": "2022-06-06T15:27:42.251Z"
      },
      {
        "duration": 203,
        "start_time": "2022-06-06T15:27:42.270Z"
      },
      {
        "duration": 30,
        "start_time": "2022-06-06T15:27:42.475Z"
      },
      {
        "duration": 1677,
        "start_time": "2022-06-06T15:27:42.507Z"
      },
      {
        "duration": 24,
        "start_time": "2022-06-06T15:27:44.185Z"
      },
      {
        "duration": 5,
        "start_time": "2022-06-06T15:27:44.211Z"
      },
      {
        "duration": 2507,
        "start_time": "2022-06-06T15:27:44.217Z"
      },
      {
        "duration": 445,
        "start_time": "2022-06-06T15:27:46.726Z"
      },
      {
        "duration": 62,
        "start_time": "2022-06-06T15:27:47.172Z"
      },
      {
        "duration": 390,
        "start_time": "2022-06-06T15:27:47.235Z"
      },
      {
        "duration": 17,
        "start_time": "2022-06-06T15:27:47.626Z"
      },
      {
        "duration": 17,
        "start_time": "2022-06-06T15:27:47.646Z"
      },
      {
        "duration": 30,
        "start_time": "2022-06-06T15:27:47.664Z"
      },
      {
        "duration": 33,
        "start_time": "2022-06-06T15:27:47.696Z"
      },
      {
        "duration": 77,
        "start_time": "2022-06-06T15:27:47.731Z"
      },
      {
        "duration": 17,
        "start_time": "2022-06-06T15:27:47.810Z"
      },
      {
        "duration": 33,
        "start_time": "2022-06-06T15:36:06.382Z"
      },
      {
        "duration": 46,
        "start_time": "2022-06-06T15:37:23.505Z"
      },
      {
        "duration": 36,
        "start_time": "2022-06-06T15:37:59.594Z"
      },
      {
        "duration": 36,
        "start_time": "2022-06-06T15:38:14.794Z"
      },
      {
        "duration": 17,
        "start_time": "2022-06-06T15:53:42.606Z"
      },
      {
        "duration": 17,
        "start_time": "2022-06-06T15:54:05.026Z"
      },
      {
        "duration": 39,
        "start_time": "2022-06-06T15:54:58.540Z"
      },
      {
        "duration": 257,
        "start_time": "2022-06-06T16:09:29.254Z"
      },
      {
        "duration": 45,
        "start_time": "2022-06-06T16:18:20.544Z"
      },
      {
        "duration": 24,
        "start_time": "2022-06-06T16:18:47.243Z"
      },
      {
        "duration": 57,
        "start_time": "2022-06-06T16:20:10.747Z"
      },
      {
        "duration": 62,
        "start_time": "2022-06-06T16:24:31.046Z"
      },
      {
        "duration": 48,
        "start_time": "2022-06-06T16:25:02.371Z"
      },
      {
        "duration": 61,
        "start_time": "2022-06-06T16:25:38.244Z"
      },
      {
        "duration": 50,
        "start_time": "2022-06-06T16:30:46.853Z"
      },
      {
        "duration": 9,
        "start_time": "2022-06-06T16:52:31.089Z"
      },
      {
        "duration": 12,
        "start_time": "2022-06-06T16:53:32.902Z"
      },
      {
        "duration": 10,
        "start_time": "2022-06-06T16:54:15.911Z"
      },
      {
        "duration": 9,
        "start_time": "2022-06-06T17:01:34.712Z"
      },
      {
        "duration": 10,
        "start_time": "2022-06-06T17:01:54.624Z"
      },
      {
        "duration": 9,
        "start_time": "2022-06-06T17:02:46.001Z"
      },
      {
        "duration": 1102,
        "start_time": "2022-06-06T17:39:36.202Z"
      },
      {
        "duration": 80,
        "start_time": "2022-06-06T17:39:37.306Z"
      },
      {
        "duration": 16,
        "start_time": "2022-06-06T17:39:37.388Z"
      },
      {
        "duration": 17,
        "start_time": "2022-06-06T17:39:37.406Z"
      },
      {
        "duration": 5,
        "start_time": "2022-06-06T17:39:37.425Z"
      },
      {
        "duration": 7,
        "start_time": "2022-06-06T17:39:37.431Z"
      },
      {
        "duration": 8,
        "start_time": "2022-06-06T17:39:37.439Z"
      },
      {
        "duration": 10,
        "start_time": "2022-06-06T17:39:37.448Z"
      },
      {
        "duration": 48,
        "start_time": "2022-06-06T17:39:37.459Z"
      },
      {
        "duration": 3,
        "start_time": "2022-06-06T17:39:37.509Z"
      },
      {
        "duration": 21,
        "start_time": "2022-06-06T17:39:37.513Z"
      },
      {
        "duration": 2,
        "start_time": "2022-06-06T17:39:37.536Z"
      },
      {
        "duration": 50,
        "start_time": "2022-06-06T17:39:37.540Z"
      },
      {
        "duration": 15,
        "start_time": "2022-06-06T17:39:37.593Z"
      },
      {
        "duration": 17,
        "start_time": "2022-06-06T17:39:37.610Z"
      },
      {
        "duration": 28,
        "start_time": "2022-06-06T17:39:37.628Z"
      },
      {
        "duration": 31,
        "start_time": "2022-06-06T17:39:37.658Z"
      },
      {
        "duration": 177,
        "start_time": "2022-06-06T17:39:37.691Z"
      },
      {
        "duration": 23,
        "start_time": "2022-06-06T17:39:37.870Z"
      },
      {
        "duration": 1640,
        "start_time": "2022-06-06T17:39:37.895Z"
      },
      {
        "duration": 17,
        "start_time": "2022-06-06T17:39:39.537Z"
      },
      {
        "duration": 5,
        "start_time": "2022-06-06T17:39:39.555Z"
      },
      {
        "duration": 2307,
        "start_time": "2022-06-06T17:39:39.561Z"
      },
      {
        "duration": 419,
        "start_time": "2022-06-06T17:39:41.870Z"
      },
      {
        "duration": 51,
        "start_time": "2022-06-06T17:39:42.291Z"
      },
      {
        "duration": 356,
        "start_time": "2022-06-06T17:39:42.344Z"
      },
      {
        "duration": 16,
        "start_time": "2022-06-06T17:39:42.702Z"
      },
      {
        "duration": 19,
        "start_time": "2022-06-06T17:39:42.719Z"
      },
      {
        "duration": 6,
        "start_time": "2022-06-06T17:39:42.740Z"
      },
      {
        "duration": 47,
        "start_time": "2022-06-06T17:39:42.747Z"
      },
      {
        "duration": 44,
        "start_time": "2022-06-06T17:39:42.796Z"
      },
      {
        "duration": 16,
        "start_time": "2022-06-06T17:39:42.841Z"
      },
      {
        "duration": 59,
        "start_time": "2022-06-06T17:39:42.858Z"
      },
      {
        "duration": 40,
        "start_time": "2022-06-06T17:39:42.919Z"
      },
      {
        "duration": 74,
        "start_time": "2022-06-06T17:39:42.961Z"
      },
      {
        "duration": 9,
        "start_time": "2022-06-06T17:39:43.036Z"
      },
      {
        "duration": 8,
        "start_time": "2022-06-06T17:39:43.047Z"
      },
      {
        "duration": 1310,
        "start_time": "2022-06-07T11:10:22.125Z"
      },
      {
        "duration": 129,
        "start_time": "2022-06-07T11:10:23.437Z"
      },
      {
        "duration": 16,
        "start_time": "2022-06-07T11:10:23.567Z"
      },
      {
        "duration": 15,
        "start_time": "2022-06-07T11:10:23.585Z"
      },
      {
        "duration": 5,
        "start_time": "2022-06-07T11:10:23.602Z"
      },
      {
        "duration": 16,
        "start_time": "2022-06-07T11:10:23.608Z"
      },
      {
        "duration": 6,
        "start_time": "2022-06-07T11:10:23.625Z"
      },
      {
        "duration": 23,
        "start_time": "2022-06-07T11:10:23.632Z"
      },
      {
        "duration": 18,
        "start_time": "2022-06-07T11:10:23.657Z"
      },
      {
        "duration": 2,
        "start_time": "2022-06-07T11:10:23.677Z"
      },
      {
        "duration": 20,
        "start_time": "2022-06-07T11:10:23.681Z"
      },
      {
        "duration": 21,
        "start_time": "2022-06-07T11:10:23.703Z"
      },
      {
        "duration": 17,
        "start_time": "2022-06-07T11:10:23.726Z"
      },
      {
        "duration": 14,
        "start_time": "2022-06-07T11:10:23.745Z"
      },
      {
        "duration": 16,
        "start_time": "2022-06-07T11:10:23.761Z"
      },
      {
        "duration": 16,
        "start_time": "2022-06-07T11:10:23.779Z"
      },
      {
        "duration": 16,
        "start_time": "2022-06-07T11:10:23.823Z"
      },
      {
        "duration": 179,
        "start_time": "2022-06-07T11:10:23.840Z"
      },
      {
        "duration": 16,
        "start_time": "2022-06-07T11:10:24.022Z"
      },
      {
        "duration": 1338,
        "start_time": "2022-06-07T11:10:24.040Z"
      },
      {
        "duration": 19,
        "start_time": "2022-06-07T11:10:25.380Z"
      },
      {
        "duration": 4,
        "start_time": "2022-06-07T11:10:25.401Z"
      },
      {
        "duration": 2334,
        "start_time": "2022-06-07T11:10:25.407Z"
      },
      {
        "duration": 455,
        "start_time": "2022-06-07T11:10:27.743Z"
      },
      {
        "duration": 59,
        "start_time": "2022-06-07T11:10:28.200Z"
      },
      {
        "duration": 353,
        "start_time": "2022-06-07T11:10:28.261Z"
      },
      {
        "duration": 18,
        "start_time": "2022-06-07T11:10:28.622Z"
      },
      {
        "duration": 16,
        "start_time": "2022-06-07T11:10:28.645Z"
      },
      {
        "duration": 9,
        "start_time": "2022-06-07T11:10:28.663Z"
      },
      {
        "duration": 49,
        "start_time": "2022-06-07T11:10:28.674Z"
      },
      {
        "duration": 42,
        "start_time": "2022-06-07T11:10:28.725Z"
      },
      {
        "duration": 16,
        "start_time": "2022-06-07T11:10:28.769Z"
      },
      {
        "duration": 63,
        "start_time": "2022-06-07T11:10:28.788Z"
      },
      {
        "duration": 38,
        "start_time": "2022-06-07T11:10:28.853Z"
      },
      {
        "duration": 91,
        "start_time": "2022-06-07T11:10:28.893Z"
      },
      {
        "duration": 10,
        "start_time": "2022-06-07T11:10:28.986Z"
      },
      {
        "duration": 31,
        "start_time": "2022-06-07T11:10:28.998Z"
      },
      {
        "duration": 55,
        "start_time": "2022-06-07T15:21:37.178Z"
      },
      {
        "duration": 1306,
        "start_time": "2022-06-07T15:21:49.991Z"
      },
      {
        "duration": 115,
        "start_time": "2022-06-07T15:21:51.299Z"
      },
      {
        "duration": 16,
        "start_time": "2022-06-07T15:21:51.416Z"
      },
      {
        "duration": 113,
        "start_time": "2022-06-07T15:21:53.535Z"
      },
      {
        "duration": 13,
        "start_time": "2022-06-07T15:23:37.201Z"
      },
      {
        "duration": 12,
        "start_time": "2022-06-07T15:28:06.482Z"
      },
      {
        "duration": 15,
        "start_time": "2022-06-07T15:30:04.604Z"
      },
      {
        "duration": 17,
        "start_time": "2022-06-07T15:33:20.684Z"
      },
      {
        "duration": 6,
        "start_time": "2022-06-07T15:43:25.359Z"
      },
      {
        "duration": 6,
        "start_time": "2022-06-07T15:43:28.477Z"
      },
      {
        "duration": 6,
        "start_time": "2022-06-07T15:43:32.130Z"
      },
      {
        "duration": 13,
        "start_time": "2022-06-07T15:43:35.789Z"
      },
      {
        "duration": 18,
        "start_time": "2022-06-07T15:49:22.728Z"
      },
      {
        "duration": 3,
        "start_time": "2022-06-07T15:49:34.431Z"
      },
      {
        "duration": 30,
        "start_time": "2022-06-07T15:49:38.604Z"
      },
      {
        "duration": 2,
        "start_time": "2022-06-07T15:49:47.970Z"
      },
      {
        "duration": 20,
        "start_time": "2022-06-07T15:49:52.406Z"
      },
      {
        "duration": 16,
        "start_time": "2022-06-07T15:50:29.962Z"
      },
      {
        "duration": 16,
        "start_time": "2022-06-07T15:50:33.396Z"
      },
      {
        "duration": 14,
        "start_time": "2022-06-07T15:51:00.757Z"
      },
      {
        "duration": 14,
        "start_time": "2022-06-07T15:51:04.506Z"
      },
      {
        "duration": 15,
        "start_time": "2022-06-07T15:51:09.877Z"
      },
      {
        "duration": 2,
        "start_time": "2022-06-07T15:51:26.752Z"
      },
      {
        "duration": 17,
        "start_time": "2022-06-07T15:54:19.334Z"
      },
      {
        "duration": 172,
        "start_time": "2022-06-07T15:56:30.106Z"
      },
      {
        "duration": 141,
        "start_time": "2022-06-07T15:57:21.483Z"
      },
      {
        "duration": 17,
        "start_time": "2022-06-07T15:57:48.252Z"
      },
      {
        "duration": 1425,
        "start_time": "2022-06-07T15:58:13.913Z"
      },
      {
        "duration": 15,
        "start_time": "2022-06-07T16:03:07.555Z"
      },
      {
        "duration": 21,
        "start_time": "2022-06-07T16:03:16.748Z"
      },
      {
        "duration": 18,
        "start_time": "2022-06-07T16:03:35.364Z"
      },
      {
        "duration": 17,
        "start_time": "2022-06-07T16:03:44.221Z"
      },
      {
        "duration": 14,
        "start_time": "2022-06-07T16:04:01.555Z"
      },
      {
        "duration": 6,
        "start_time": "2022-06-07T16:05:05.413Z"
      },
      {
        "duration": 1337,
        "start_time": "2022-06-07T16:08:22.031Z"
      },
      {
        "duration": 233,
        "start_time": "2022-06-07T17:36:19.750Z"
      },
      {
        "duration": 320,
        "start_time": "2022-06-07T17:37:36.346Z"
      },
      {
        "duration": 235,
        "start_time": "2022-06-07T17:37:49.774Z"
      },
      {
        "duration": 273,
        "start_time": "2022-06-07T17:38:39.076Z"
      },
      {
        "duration": 224,
        "start_time": "2022-06-07T17:38:51.406Z"
      },
      {
        "duration": 34,
        "start_time": "2022-06-07T17:39:14.503Z"
      },
      {
        "duration": 461,
        "start_time": "2022-06-07T17:46:10.542Z"
      },
      {
        "duration": 378,
        "start_time": "2022-06-07T17:52:58.136Z"
      },
      {
        "duration": 306,
        "start_time": "2022-06-07T17:53:30.553Z"
      },
      {
        "duration": 292,
        "start_time": "2022-06-07T17:55:02.108Z"
      },
      {
        "duration": 308,
        "start_time": "2022-06-07T17:55:27.946Z"
      },
      {
        "duration": 13,
        "start_time": "2022-06-07T17:56:47.157Z"
      },
      {
        "duration": 14,
        "start_time": "2022-06-07T18:00:39.788Z"
      },
      {
        "duration": 14,
        "start_time": "2022-06-07T18:01:10.537Z"
      },
      {
        "duration": 6,
        "start_time": "2022-06-07T18:01:32.065Z"
      },
      {
        "duration": 15,
        "start_time": "2022-06-07T18:01:41.528Z"
      },
      {
        "duration": 42,
        "start_time": "2022-06-07T18:04:05.446Z"
      },
      {
        "duration": 15,
        "start_time": "2022-06-07T18:26:22.957Z"
      },
      {
        "duration": 31,
        "start_time": "2022-06-07T18:26:36.308Z"
      },
      {
        "duration": 39,
        "start_time": "2022-06-07T18:47:25.261Z"
      },
      {
        "duration": 8,
        "start_time": "2022-06-07T18:50:26.605Z"
      },
      {
        "duration": 47,
        "start_time": "2022-06-08T16:19:50.850Z"
      },
      {
        "duration": 1104,
        "start_time": "2022-06-08T16:20:10.299Z"
      },
      {
        "duration": 112,
        "start_time": "2022-06-08T16:20:11.405Z"
      },
      {
        "duration": 15,
        "start_time": "2022-06-08T16:20:11.518Z"
      },
      {
        "duration": 3,
        "start_time": "2022-06-08T16:20:11.534Z"
      },
      {
        "duration": 15,
        "start_time": "2022-06-08T16:20:11.538Z"
      },
      {
        "duration": 22,
        "start_time": "2022-06-08T16:20:17.714Z"
      },
      {
        "duration": 23,
        "start_time": "2022-06-08T16:21:51.606Z"
      },
      {
        "duration": 13,
        "start_time": "2022-06-08T16:22:49.902Z"
      },
      {
        "duration": 15,
        "start_time": "2022-06-08T16:24:17.443Z"
      },
      {
        "duration": 13,
        "start_time": "2022-06-08T16:24:36.906Z"
      },
      {
        "duration": 1280,
        "start_time": "2022-06-09T15:18:47.398Z"
      },
      {
        "duration": 151,
        "start_time": "2022-06-09T15:18:48.681Z"
      },
      {
        "duration": 17,
        "start_time": "2022-06-09T15:18:48.835Z"
      },
      {
        "duration": 38,
        "start_time": "2022-06-09T15:18:48.855Z"
      },
      {
        "duration": 45,
        "start_time": "2022-06-09T15:18:48.895Z"
      },
      {
        "duration": 43,
        "start_time": "2022-06-09T15:18:48.942Z"
      },
      {
        "duration": 32,
        "start_time": "2022-06-09T15:18:48.987Z"
      },
      {
        "duration": 24,
        "start_time": "2022-06-09T15:18:49.021Z"
      },
      {
        "duration": 24,
        "start_time": "2022-06-09T15:18:49.047Z"
      },
      {
        "duration": 41,
        "start_time": "2022-06-09T15:18:49.082Z"
      },
      {
        "duration": 56,
        "start_time": "2022-06-09T15:18:49.125Z"
      },
      {
        "duration": 33,
        "start_time": "2022-06-09T15:18:49.183Z"
      },
      {
        "duration": 92,
        "start_time": "2022-06-09T15:18:49.218Z"
      },
      {
        "duration": 30,
        "start_time": "2022-06-09T15:18:49.312Z"
      },
      {
        "duration": 79,
        "start_time": "2022-06-09T15:18:49.345Z"
      },
      {
        "duration": 44,
        "start_time": "2022-06-09T15:18:49.427Z"
      },
      {
        "duration": 56,
        "start_time": "2022-06-09T15:18:49.480Z"
      },
      {
        "duration": 5,
        "start_time": "2022-06-09T15:19:21.040Z"
      },
      {
        "duration": 5,
        "start_time": "2022-06-09T15:19:24.628Z"
      },
      {
        "duration": 117,
        "start_time": "2022-06-09T15:19:37.952Z"
      },
      {
        "duration": 11,
        "start_time": "2022-06-09T15:19:46.333Z"
      },
      {
        "duration": 1014,
        "start_time": "2022-06-09T15:20:09.827Z"
      },
      {
        "duration": 100,
        "start_time": "2022-06-09T15:20:10.843Z"
      },
      {
        "duration": 16,
        "start_time": "2022-06-09T15:20:10.945Z"
      },
      {
        "duration": 9,
        "start_time": "2022-06-09T15:20:10.963Z"
      },
      {
        "duration": 31,
        "start_time": "2022-06-09T15:20:10.985Z"
      },
      {
        "duration": 18,
        "start_time": "2022-06-09T15:20:11.017Z"
      },
      {
        "duration": 12,
        "start_time": "2022-06-09T15:20:11.037Z"
      },
      {
        "duration": 14,
        "start_time": "2022-06-09T15:20:11.051Z"
      },
      {
        "duration": 22,
        "start_time": "2022-06-09T15:20:11.069Z"
      },
      {
        "duration": 16,
        "start_time": "2022-06-09T15:20:11.094Z"
      },
      {
        "duration": 17,
        "start_time": "2022-06-09T15:20:11.112Z"
      },
      {
        "duration": 2,
        "start_time": "2022-06-09T15:20:11.131Z"
      },
      {
        "duration": 25,
        "start_time": "2022-06-09T15:20:11.135Z"
      },
      {
        "duration": 9,
        "start_time": "2022-06-09T15:20:11.174Z"
      },
      {
        "duration": 27,
        "start_time": "2022-06-09T15:20:11.189Z"
      },
      {
        "duration": 13,
        "start_time": "2022-06-09T15:20:11.218Z"
      },
      {
        "duration": 15,
        "start_time": "2022-06-09T15:20:11.233Z"
      },
      {
        "duration": 4,
        "start_time": "2022-06-09T15:20:16.412Z"
      },
      {
        "duration": 18,
        "start_time": "2022-06-09T15:20:19.101Z"
      },
      {
        "duration": 2,
        "start_time": "2022-06-09T15:20:32.648Z"
      },
      {
        "duration": 1184,
        "start_time": "2022-06-09T15:21:17.694Z"
      },
      {
        "duration": 123,
        "start_time": "2022-06-09T15:21:18.896Z"
      },
      {
        "duration": 25,
        "start_time": "2022-06-09T15:21:19.021Z"
      },
      {
        "duration": 56,
        "start_time": "2022-06-09T15:21:19.048Z"
      },
      {
        "duration": 54,
        "start_time": "2022-06-09T15:21:19.109Z"
      },
      {
        "duration": 92,
        "start_time": "2022-06-09T15:21:19.170Z"
      },
      {
        "duration": 69,
        "start_time": "2022-06-09T15:21:19.264Z"
      },
      {
        "duration": 70,
        "start_time": "2022-06-09T15:21:19.335Z"
      },
      {
        "duration": 31,
        "start_time": "2022-06-09T15:21:19.408Z"
      },
      {
        "duration": 18,
        "start_time": "2022-06-09T15:21:19.442Z"
      },
      {
        "duration": 65,
        "start_time": "2022-06-09T15:21:19.461Z"
      },
      {
        "duration": 19,
        "start_time": "2022-06-09T15:21:19.528Z"
      },
      {
        "duration": 76,
        "start_time": "2022-06-09T15:21:19.548Z"
      },
      {
        "duration": 2,
        "start_time": "2022-06-09T15:21:19.626Z"
      },
      {
        "duration": 37,
        "start_time": "2022-06-09T15:21:19.631Z"
      },
      {
        "duration": 20,
        "start_time": "2022-06-09T15:21:19.672Z"
      },
      {
        "duration": 33,
        "start_time": "2022-06-09T15:21:19.696Z"
      },
      {
        "duration": 25,
        "start_time": "2022-06-09T15:21:19.731Z"
      },
      {
        "duration": 58,
        "start_time": "2022-06-09T15:21:19.758Z"
      },
      {
        "duration": 15,
        "start_time": "2022-06-09T15:21:19.817Z"
      },
      {
        "duration": 76,
        "start_time": "2022-06-09T15:21:19.834Z"
      },
      {
        "duration": 179,
        "start_time": "2022-06-09T15:21:19.912Z"
      },
      {
        "duration": 19,
        "start_time": "2022-06-09T15:21:20.093Z"
      },
      {
        "duration": 1631,
        "start_time": "2022-06-09T15:21:20.114Z"
      },
      {
        "duration": 21,
        "start_time": "2022-06-09T15:21:21.747Z"
      },
      {
        "duration": 22,
        "start_time": "2022-06-09T15:21:21.772Z"
      },
      {
        "duration": 1537,
        "start_time": "2022-06-09T15:21:21.796Z"
      },
      {
        "duration": 577,
        "start_time": "2022-06-09T15:21:23.336Z"
      },
      {
        "duration": 60,
        "start_time": "2022-06-09T15:21:23.915Z"
      },
      {
        "duration": 325,
        "start_time": "2022-06-09T15:21:23.977Z"
      },
      {
        "duration": 15,
        "start_time": "2022-06-09T15:21:24.304Z"
      },
      {
        "duration": 34,
        "start_time": "2022-06-09T15:21:24.320Z"
      },
      {
        "duration": 32,
        "start_time": "2022-06-09T15:21:24.365Z"
      },
      {
        "duration": 28,
        "start_time": "2022-06-09T15:21:24.399Z"
      },
      {
        "duration": 55,
        "start_time": "2022-06-09T15:21:24.428Z"
      },
      {
        "duration": 17,
        "start_time": "2022-06-09T15:21:24.484Z"
      },
      {
        "duration": 60,
        "start_time": "2022-06-09T15:21:24.503Z"
      },
      {
        "duration": 63,
        "start_time": "2022-06-09T15:21:24.564Z"
      },
      {
        "duration": 47,
        "start_time": "2022-06-09T15:21:30.793Z"
      },
      {
        "duration": 7,
        "start_time": "2022-06-09T15:41:40.797Z"
      },
      {
        "duration": 8,
        "start_time": "2022-06-09T15:41:50.733Z"
      },
      {
        "duration": 1136,
        "start_time": "2022-06-09T15:42:51.895Z"
      },
      {
        "duration": 96,
        "start_time": "2022-06-09T15:42:53.033Z"
      },
      {
        "duration": 18,
        "start_time": "2022-06-09T15:42:53.131Z"
      },
      {
        "duration": 19,
        "start_time": "2022-06-09T15:42:53.151Z"
      },
      {
        "duration": 41,
        "start_time": "2022-06-09T15:42:53.177Z"
      },
      {
        "duration": 23,
        "start_time": "2022-06-09T15:42:53.220Z"
      },
      {
        "duration": 9,
        "start_time": "2022-06-09T15:42:53.245Z"
      },
      {
        "duration": 44,
        "start_time": "2022-06-09T15:42:53.256Z"
      },
      {
        "duration": 17,
        "start_time": "2022-06-09T15:42:53.302Z"
      },
      {
        "duration": 16,
        "start_time": "2022-06-09T15:42:53.322Z"
      },
      {
        "duration": 34,
        "start_time": "2022-06-09T15:42:53.340Z"
      },
      {
        "duration": 16,
        "start_time": "2022-06-09T15:42:53.382Z"
      },
      {
        "duration": 22,
        "start_time": "2022-06-09T15:42:53.400Z"
      },
      {
        "duration": 2,
        "start_time": "2022-06-09T15:42:53.424Z"
      },
      {
        "duration": 19,
        "start_time": "2022-06-09T15:42:53.428Z"
      },
      {
        "duration": 14,
        "start_time": "2022-06-09T15:42:53.449Z"
      },
      {
        "duration": 24,
        "start_time": "2022-06-09T15:42:53.466Z"
      },
      {
        "duration": 11,
        "start_time": "2022-06-09T15:42:53.496Z"
      },
      {
        "duration": 20,
        "start_time": "2022-06-09T15:42:53.509Z"
      },
      {
        "duration": 6,
        "start_time": "2022-06-09T15:42:53.531Z"
      },
      {
        "duration": 28,
        "start_time": "2022-06-09T15:42:53.539Z"
      },
      {
        "duration": 178,
        "start_time": "2022-06-09T15:42:53.568Z"
      },
      {
        "duration": 32,
        "start_time": "2022-06-09T15:42:53.748Z"
      },
      {
        "duration": 1545,
        "start_time": "2022-06-09T15:42:53.786Z"
      },
      {
        "duration": 17,
        "start_time": "2022-06-09T15:42:55.333Z"
      },
      {
        "duration": 7,
        "start_time": "2022-06-09T15:42:55.364Z"
      },
      {
        "duration": 1457,
        "start_time": "2022-06-09T15:42:55.373Z"
      },
      {
        "duration": 604,
        "start_time": "2022-06-09T15:42:56.834Z"
      },
      {
        "duration": 68,
        "start_time": "2022-06-09T15:42:57.439Z"
      },
      {
        "duration": 330,
        "start_time": "2022-06-09T15:42:57.509Z"
      },
      {
        "duration": 39,
        "start_time": "2022-06-09T15:42:57.842Z"
      },
      {
        "duration": 22,
        "start_time": "2022-06-09T15:42:57.883Z"
      },
      {
        "duration": 5,
        "start_time": "2022-06-09T15:42:57.907Z"
      },
      {
        "duration": 21,
        "start_time": "2022-06-09T15:42:57.914Z"
      },
      {
        "duration": 58,
        "start_time": "2022-06-09T15:42:57.936Z"
      },
      {
        "duration": 15,
        "start_time": "2022-06-09T15:42:57.995Z"
      },
      {
        "duration": 34,
        "start_time": "2022-06-09T15:42:58.011Z"
      },
      {
        "duration": 58,
        "start_time": "2022-06-09T15:42:58.047Z"
      },
      {
        "duration": 43,
        "start_time": "2022-06-09T15:42:58.107Z"
      },
      {
        "duration": 14,
        "start_time": "2022-06-09T15:42:58.164Z"
      },
      {
        "duration": 37,
        "start_time": "2022-06-09T15:42:58.180Z"
      },
      {
        "duration": 1010,
        "start_time": "2022-06-10T10:12:07.627Z"
      },
      {
        "duration": 67,
        "start_time": "2022-06-10T10:12:08.639Z"
      },
      {
        "duration": 13,
        "start_time": "2022-06-10T10:12:08.707Z"
      },
      {
        "duration": 17,
        "start_time": "2022-06-10T10:12:08.722Z"
      },
      {
        "duration": 3,
        "start_time": "2022-06-10T10:49:57.027Z"
      },
      {
        "duration": 89,
        "start_time": "2022-06-10T10:49:57.039Z"
      },
      {
        "duration": 13,
        "start_time": "2022-06-10T10:49:57.130Z"
      },
      {
        "duration": 25,
        "start_time": "2022-06-10T10:49:57.144Z"
      },
      {
        "duration": 24,
        "start_time": "2022-06-10T10:49:57.171Z"
      },
      {
        "duration": 22,
        "start_time": "2022-06-10T10:49:57.196Z"
      },
      {
        "duration": 25,
        "start_time": "2022-06-10T10:49:57.222Z"
      },
      {
        "duration": 22,
        "start_time": "2022-06-10T10:49:57.248Z"
      },
      {
        "duration": 16,
        "start_time": "2022-06-10T10:49:57.271Z"
      },
      {
        "duration": 34,
        "start_time": "2022-06-10T10:49:57.288Z"
      },
      {
        "duration": 15,
        "start_time": "2022-06-10T10:49:57.324Z"
      },
      {
        "duration": 23,
        "start_time": "2022-06-10T10:49:57.341Z"
      },
      {
        "duration": 10,
        "start_time": "2022-06-10T10:49:57.365Z"
      },
      {
        "duration": 111,
        "start_time": "2022-06-10T10:49:57.377Z"
      },
      {
        "duration": 3,
        "start_time": "2022-06-10T10:49:57.490Z"
      },
      {
        "duration": 83,
        "start_time": "2022-06-10T10:49:57.494Z"
      },
      {
        "duration": 23,
        "start_time": "2022-06-10T10:49:57.579Z"
      },
      {
        "duration": 56,
        "start_time": "2022-06-10T10:49:57.604Z"
      },
      {
        "duration": 29,
        "start_time": "2022-06-10T10:49:57.661Z"
      },
      {
        "duration": 61,
        "start_time": "2022-06-10T10:49:57.692Z"
      },
      {
        "duration": 22,
        "start_time": "2022-06-10T10:49:57.755Z"
      },
      {
        "duration": 45,
        "start_time": "2022-06-10T10:49:57.781Z"
      },
      {
        "duration": 206,
        "start_time": "2022-06-10T10:49:57.830Z"
      },
      {
        "duration": 23,
        "start_time": "2022-06-10T10:49:58.039Z"
      },
      {
        "duration": 1458,
        "start_time": "2022-06-10T10:49:58.064Z"
      },
      {
        "duration": 15,
        "start_time": "2022-06-10T10:49:59.523Z"
      },
      {
        "duration": 109,
        "start_time": "2022-06-10T10:49:59.539Z"
      },
      {
        "duration": 3,
        "start_time": "2022-06-10T10:50:07.673Z"
      },
      {
        "duration": 3,
        "start_time": "2022-06-10T10:53:43.469Z"
      },
      {
        "duration": 64,
        "start_time": "2022-06-10T10:53:43.476Z"
      },
      {
        "duration": 12,
        "start_time": "2022-06-10T10:53:43.541Z"
      },
      {
        "duration": 18,
        "start_time": "2022-06-10T10:53:43.554Z"
      },
      {
        "duration": 2,
        "start_time": "2022-06-10T10:53:43.573Z"
      },
      {
        "duration": 27,
        "start_time": "2022-06-10T10:53:43.577Z"
      },
      {
        "duration": 17,
        "start_time": "2022-06-10T10:53:43.606Z"
      },
      {
        "duration": 9,
        "start_time": "2022-06-10T10:53:43.625Z"
      },
      {
        "duration": 11,
        "start_time": "2022-06-10T10:53:43.635Z"
      },
      {
        "duration": 9,
        "start_time": "2022-06-10T10:53:43.648Z"
      },
      {
        "duration": 8,
        "start_time": "2022-06-10T10:53:43.659Z"
      },
      {
        "duration": 29,
        "start_time": "2022-06-10T10:53:43.669Z"
      },
      {
        "duration": 2,
        "start_time": "2022-06-10T10:53:43.700Z"
      },
      {
        "duration": 20,
        "start_time": "2022-06-10T10:53:43.703Z"
      },
      {
        "duration": 2,
        "start_time": "2022-06-10T10:53:43.724Z"
      },
      {
        "duration": 21,
        "start_time": "2022-06-10T10:53:43.728Z"
      },
      {
        "duration": 11,
        "start_time": "2022-06-10T10:53:43.751Z"
      },
      {
        "duration": 34,
        "start_time": "2022-06-10T10:53:43.763Z"
      },
      {
        "duration": 11,
        "start_time": "2022-06-10T10:53:43.800Z"
      },
      {
        "duration": 18,
        "start_time": "2022-06-10T10:53:43.813Z"
      },
      {
        "duration": 5,
        "start_time": "2022-06-10T10:53:43.833Z"
      },
      {
        "duration": 18,
        "start_time": "2022-06-10T10:53:43.840Z"
      },
      {
        "duration": 143,
        "start_time": "2022-06-10T10:53:43.860Z"
      },
      {
        "duration": 15,
        "start_time": "2022-06-10T10:53:44.004Z"
      },
      {
        "duration": 1162,
        "start_time": "2022-06-10T10:53:44.021Z"
      },
      {
        "duration": 17,
        "start_time": "2022-06-10T10:53:45.185Z"
      },
      {
        "duration": 3,
        "start_time": "2022-06-10T10:53:45.204Z"
      },
      {
        "duration": 17,
        "start_time": "2022-06-10T10:53:45.208Z"
      },
      {
        "duration": 4,
        "start_time": "2022-06-10T10:53:45.227Z"
      },
      {
        "duration": 1178,
        "start_time": "2022-06-10T10:53:45.232Z"
      },
      {
        "duration": 393,
        "start_time": "2022-06-10T10:53:46.412Z"
      },
      {
        "duration": 11,
        "start_time": "2022-06-10T10:53:46.806Z"
      },
      {
        "duration": 3,
        "start_time": "2022-06-10T10:54:05.627Z"
      },
      {
        "duration": 85,
        "start_time": "2022-06-10T10:54:05.635Z"
      },
      {
        "duration": 12,
        "start_time": "2022-06-10T10:54:05.721Z"
      },
      {
        "duration": 26,
        "start_time": "2022-06-10T10:54:05.735Z"
      },
      {
        "duration": 4,
        "start_time": "2022-06-10T10:54:05.763Z"
      },
      {
        "duration": 31,
        "start_time": "2022-06-10T10:54:05.768Z"
      },
      {
        "duration": 21,
        "start_time": "2022-06-10T10:54:05.801Z"
      },
      {
        "duration": 30,
        "start_time": "2022-06-10T10:54:05.823Z"
      },
      {
        "duration": 16,
        "start_time": "2022-06-10T10:54:05.855Z"
      },
      {
        "duration": 12,
        "start_time": "2022-06-10T10:54:05.873Z"
      },
      {
        "duration": 20,
        "start_time": "2022-06-10T10:54:05.887Z"
      },
      {
        "duration": 25,
        "start_time": "2022-06-10T10:54:05.908Z"
      },
      {
        "duration": 6,
        "start_time": "2022-06-10T10:54:05.934Z"
      },
      {
        "duration": 29,
        "start_time": "2022-06-10T10:54:05.941Z"
      },
      {
        "duration": 2,
        "start_time": "2022-06-10T10:54:05.971Z"
      },
      {
        "duration": 27,
        "start_time": "2022-06-10T10:54:05.974Z"
      },
      {
        "duration": 12,
        "start_time": "2022-06-10T10:54:06.002Z"
      },
      {
        "duration": 25,
        "start_time": "2022-06-10T10:54:06.015Z"
      },
      {
        "duration": 22,
        "start_time": "2022-06-10T10:54:06.041Z"
      },
      {
        "duration": 24,
        "start_time": "2022-06-10T10:54:06.065Z"
      },
      {
        "duration": 32,
        "start_time": "2022-06-10T10:54:06.091Z"
      },
      {
        "duration": 42,
        "start_time": "2022-06-10T10:54:06.124Z"
      },
      {
        "duration": 131,
        "start_time": "2022-06-10T10:54:06.168Z"
      },
      {
        "duration": 15,
        "start_time": "2022-06-10T10:54:06.301Z"
      },
      {
        "duration": 1314,
        "start_time": "2022-06-10T10:54:06.318Z"
      },
      {
        "duration": 14,
        "start_time": "2022-06-10T10:54:07.633Z"
      },
      {
        "duration": 3,
        "start_time": "2022-06-10T10:54:07.649Z"
      },
      {
        "duration": 19,
        "start_time": "2022-06-10T10:54:07.654Z"
      },
      {
        "duration": 19,
        "start_time": "2022-06-10T10:54:07.676Z"
      },
      {
        "duration": 1133,
        "start_time": "2022-06-10T10:54:07.697Z"
      },
      {
        "duration": 398,
        "start_time": "2022-06-10T10:54:08.832Z"
      },
      {
        "duration": 459,
        "start_time": "2022-06-10T10:54:09.231Z"
      }
    ],
    "kernelspec": {
      "display_name": "Python 3 (ipykernel)",
      "language": "python",
      "name": "python3"
    },
    "language_info": {
      "codemirror_mode": {
        "name": "ipython",
        "version": 3
      },
      "file_extension": ".py",
      "mimetype": "text/x-python",
      "name": "python",
      "nbconvert_exporter": "python",
      "pygments_lexer": "ipython3",
      "version": "3.9.5"
    },
    "toc": {
      "base_numbering": 1,
      "nav_menu": {},
      "number_sections": true,
      "sideBar": true,
      "skip_h1_title": true,
      "title_cell": "Table of Contents",
      "title_sidebar": "Contents",
      "toc_cell": false,
      "toc_position": {
        "height": "calc(100% - 180px)",
        "left": "10px",
        "top": "150px",
        "width": "382.391px"
      },
      "toc_section_display": true,
      "toc_window_display": true
    },
    "colab": {
      "provenance": [],
      "toc_visible": true
    }
  },
  "nbformat": 4,
  "nbformat_minor": 0
}
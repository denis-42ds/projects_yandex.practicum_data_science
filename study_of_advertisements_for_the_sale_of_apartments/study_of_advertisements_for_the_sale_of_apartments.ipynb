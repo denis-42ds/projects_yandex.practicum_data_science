{
  "cells": [
    {
      "cell_type": "markdown",
      "metadata": {
        "toc": true,
        "id": "iNf3rAVoKeXa"
      },
      "source": [
        "<h1>Содержание<span class=\"tocSkip\"></span></h1>\n",
        "<div class=\"toc\"><ul class=\"toc-item\"><li><span><a href=\"#Изучение-данных-из-файла\" data-toc-modified-id=\"Изучение-данных-из-файла-1\"><span class=\"toc-item-num\">1&nbsp;&nbsp;</span>Изучение данных из файла</a></span><ul class=\"toc-item\"><li><span><a href=\"#Вывод\" data-toc-modified-id=\"Вывод-1.1\"><span class=\"toc-item-num\">1.1&nbsp;&nbsp;</span>Вывод</a></span></li></ul></li><li><span><a href=\"#Предобработка-данных\" data-toc-modified-id=\"Предобработка-данных-2\"><span class=\"toc-item-num\">2&nbsp;&nbsp;</span>Предобработка данных</a></span></li><li><span><a href=\"#Расчёты-и-добавление-результатов-в-таблицу\" data-toc-modified-id=\"Расчёты-и-добавление-результатов-в-таблицу-3\"><span class=\"toc-item-num\">3&nbsp;&nbsp;</span>Расчёты и добавление результатов в таблицу</a></span></li><li><span><a href=\"#Исследовательский-анализ-данных\" data-toc-modified-id=\"Исследовательский-анализ-данных-4\"><span class=\"toc-item-num\">4&nbsp;&nbsp;</span>Исследовательский анализ данных</a></span></li><li><span><a href=\"#Общий-вывод\" data-toc-modified-id=\"Общий-вывод-5\"><span class=\"toc-item-num\">5&nbsp;&nbsp;</span>Общий вывод</a></span></li><li><span><a href=\"#Чек-лист-готовности-проекта\" data-toc-modified-id=\"Чек-лист-готовности-проекта-6\"><span class=\"toc-item-num\">6&nbsp;&nbsp;</span>Чек-лист готовности проекта</a></span></li></ul></div>"
      ]
    },
    {
      "cell_type": "markdown",
      "metadata": {
        "id": "oRB2UncXKeXa"
      },
      "source": [
        "# Исследование объявлений о продаже квартир\n",
        "\n",
        "В вашем распоряжении данные сервиса Яндекc Недвижимость — архив объявлений о продаже квартир в Санкт-Петербурге и соседних населённых пунктах за несколько лет. Нужно научиться определять рыночную стоимость объектов недвижимости. Ваша задача — установить параметры. Это позволит построить автоматизированную систему: она отследит аномалии и мошенническую деятельность. \n",
        "\n",
        "По каждой квартире на продажу доступны два вида данных. Первые вписаны пользователем, вторые получены автоматически на основе картографических данных. Например, расстояние до центра, аэропорта, ближайшего парка и водоёма. "
      ]
    },
    {
      "cell_type": "markdown",
      "metadata": {
        "id": "X4C2Q6M1KeXb"
      },
      "source": [
        "Описание данных\n",
        "- airports_nearest — расстояние до ближайшего аэропорта в метрах (м)\n",
        "- balcony — число балконов\n",
        "- ceiling_height — высота потолков (м)\n",
        "- cityCenters_nearest — расстояние до центра города (м)\n",
        "- days_exposition — сколько дней было размещено объявление (от публикации до снятия)\n",
        "- first_day_exposition — дата публикации\n",
        "- floor — этаж\n",
        "- floors_total — всего этажей в доме\n",
        "- is_apartment — апартаменты (булев тип)\n",
        "- kitchen_area — площадь кухни в квадратных метрах (м²)\n",
        "- last_price — цена на момент снятия с публикации\n",
        "- living_area — жилая площадь в квадратных метрах (м²)\n",
        "- locality_name — название населённого пункта\n",
        "- open_plan — свободная планировка (булев тип)\n",
        "- parks_around3000 — число парков в радиусе 3 км\n",
        "- parks_nearest — расстояние до ближайшего парка (м)\n",
        "- ponds_around3000 — число водоёмов в радиусе 3 км\n",
        "- ponds_nearest — расстояние до ближайшего водоёма (м)\n",
        "- rooms — число комнат\n",
        "- studio — квартира-студия (булев тип)\n",
        "- total_area — площадь квартиры в квадратных метрах (м²)\n",
        "- total_images — число фотографий квартиры в объявлении"
      ]
    },
    {
      "cell_type": "markdown",
      "metadata": {
        "id": "RQX-7y_cKeXc"
      },
      "source": [
        "## Изучение данных из файла"
      ]
    },
    {
      "cell_type": "code",
      "execution_count": null,
      "metadata": {
        "id": "4RNYg4_OKeXd",
        "outputId": "13773ab4-aee2-447b-c9ac-55c8581241fe"
      },
      "outputs": [
        {
          "name": "stdout",
          "output_type": "stream",
          "text": [
            "<class 'pandas.core.frame.DataFrame'>\n",
            "RangeIndex: 23699 entries, 0 to 23698\n",
            "Data columns (total 22 columns):\n",
            " #   Column                Non-Null Count  Dtype  \n",
            "---  ------                --------------  -----  \n",
            " 0   total_images          23699 non-null  int64  \n",
            " 1   last_price            23699 non-null  float64\n",
            " 2   total_area            23699 non-null  float64\n",
            " 3   first_day_exposition  23699 non-null  object \n",
            " 4   rooms                 23699 non-null  int64  \n",
            " 5   ceiling_height        14504 non-null  float64\n",
            " 6   floors_total          23613 non-null  float64\n",
            " 7   living_area           21796 non-null  float64\n",
            " 8   floor                 23699 non-null  int64  \n",
            " 9   is_apartment          2775 non-null   object \n",
            " 10  studio                23699 non-null  bool   \n",
            " 11  open_plan             23699 non-null  bool   \n",
            " 12  kitchen_area          21421 non-null  float64\n",
            " 13  balcony               12180 non-null  float64\n",
            " 14  locality_name         23650 non-null  object \n",
            " 15  airports_nearest      18157 non-null  float64\n",
            " 16  cityCenters_nearest   18180 non-null  float64\n",
            " 17  parks_around3000      18181 non-null  float64\n",
            " 18  parks_nearest         8079 non-null   float64\n",
            " 19  ponds_around3000      18181 non-null  float64\n",
            " 20  ponds_nearest         9110 non-null   float64\n",
            " 21  days_exposition       20518 non-null  float64\n",
            "dtypes: bool(2), float64(14), int64(3), object(3)\n",
            "memory usage: 3.7+ MB\n"
          ]
        }
      ],
      "source": [
        "import matplotlib.pyplot as plt\n",
        "import pandas as pd\n",
        "df = pd.read_csv('/datasets/real_estate_data.csv', sep='\\t', decimal='.')\n",
        "df.info()"
      ]
    },
    {
      "cell_type": "markdown",
      "metadata": {
        "id": "MhaPqVwoKeXf"
      },
      "source": [
        "### Вывод"
      ]
    },
    {
      "cell_type": "markdown",
      "metadata": {
        "id": "ojZS3wXdKeXg"
      },
      "source": [
        "Предварительно можно утверждать, что данных достаточно для проведения анализа.\n",
        "\n",
        "Но в датафрейме обнаружен ряд проблем:\n",
        "- Большое количество пропущенных значений - их нужно детально изучить.\n",
        "- Нужно поправить названия нескольких столбцов.\n",
        "- Необходимо изменить тип данных в нескольких столбцах."
      ]
    },
    {
      "cell_type": "markdown",
      "metadata": {
        "id": "hj-95E10KeXh"
      },
      "source": [
        "## Предобработка данных"
      ]
    },
    {
      "cell_type": "markdown",
      "metadata": {
        "id": "QQmpIeC2KeXh"
      },
      "source": [
        "Предобработку начнём с приведения названий столбцов в соответствие с хорошим стилем."
      ]
    },
    {
      "cell_type": "code",
      "execution_count": null,
      "metadata": {
        "scrolled": true,
        "id": "KMxWir7DKeXh",
        "outputId": "ac93e06e-ea34-4761-a51b-eb6d4bdde270"
      },
      "outputs": [
        {
          "name": "stdout",
          "output_type": "stream",
          "text": [
            "<class 'pandas.core.frame.DataFrame'>\n",
            "RangeIndex: 23699 entries, 0 to 23698\n",
            "Data columns (total 22 columns):\n",
            " #   Column                Non-Null Count  Dtype  \n",
            "---  ------                --------------  -----  \n",
            " 0   total_images          23699 non-null  int64  \n",
            " 1   last_price            23699 non-null  float64\n",
            " 2   total_area            23699 non-null  float64\n",
            " 3   first_day_exposition  23699 non-null  object \n",
            " 4   rooms                 23699 non-null  int64  \n",
            " 5   ceiling_height        14504 non-null  float64\n",
            " 6   floors_total          23613 non-null  float64\n",
            " 7   living_area           21796 non-null  float64\n",
            " 8   floor                 23699 non-null  int64  \n",
            " 9   is_apartment          2775 non-null   object \n",
            " 10  studio                23699 non-null  bool   \n",
            " 11  open_plan             23699 non-null  bool   \n",
            " 12  kitchen_area          21421 non-null  float64\n",
            " 13  balcony               12180 non-null  float64\n",
            " 14  locality_name         23650 non-null  object \n",
            " 15  airports_nearest      18157 non-null  float64\n",
            " 16  city_centers_nearest  18180 non-null  float64\n",
            " 17  parks_around_3000     18181 non-null  float64\n",
            " 18  parks_nearest         8079 non-null   float64\n",
            " 19  ponds_around_3000     18181 non-null  float64\n",
            " 20  ponds_nearest         9110 non-null   float64\n",
            " 21  days_exposition       20518 non-null  float64\n",
            "dtypes: bool(2), float64(14), int64(3), object(3)\n",
            "memory usage: 3.7+ MB\n"
          ]
        }
      ],
      "source": [
        "#Переименование столбцов:\n",
        "df = df.rename(\n",
        "    columns={\n",
        "        'cityCenters_nearest': 'city_centers_nearest',\n",
        "        'parks_around3000': 'parks_around_3000',\n",
        "        'ponds_around3000': 'ponds_around_3000'\n",
        "    }\n",
        ")\n",
        "#Проверка результата:\n",
        "df.info()"
      ]
    },
    {
      "cell_type": "markdown",
      "metadata": {
        "id": "6rt-_9fQKeXi"
      },
      "source": [
        "Проверим данные на наличие явных дубликатов."
      ]
    },
    {
      "cell_type": "code",
      "execution_count": null,
      "metadata": {
        "id": "FZc2sBOgKeXi",
        "outputId": "039a78b3-a3f4-4918-873c-fac94b989723"
      },
      "outputs": [
        {
          "data": {
            "text/plain": [
              "0"
            ]
          },
          "execution_count": 3,
          "metadata": {},
          "output_type": "execute_result"
        }
      ],
      "source": [
        "df.duplicated().sum()"
      ]
    },
    {
      "cell_type": "markdown",
      "metadata": {
        "id": "fBS7sNZEKeXj"
      },
      "source": [
        "Явных дубликатов не обнаружено.\n",
        "Переходим к изучению пропущенных значений."
      ]
    },
    {
      "cell_type": "code",
      "execution_count": null,
      "metadata": {
        "scrolled": true,
        "id": "b_hkICkLKeXj",
        "outputId": "d020e7ff-8aef-4d1f-be09-375de8563f5d"
      },
      "outputs": [
        {
          "data": {
            "text/plain": [
              "total_images                0\n",
              "last_price                  0\n",
              "total_area                  0\n",
              "first_day_exposition        0\n",
              "rooms                       0\n",
              "ceiling_height           9195\n",
              "floors_total               86\n",
              "living_area              1903\n",
              "floor                       0\n",
              "is_apartment            20924\n",
              "studio                      0\n",
              "open_plan                   0\n",
              "kitchen_area             2278\n",
              "balcony                 11519\n",
              "locality_name              49\n",
              "airports_nearest         5542\n",
              "city_centers_nearest     5519\n",
              "parks_around_3000        5518\n",
              "parks_nearest           15620\n",
              "ponds_around_3000        5518\n",
              "ponds_nearest           14589\n",
              "days_exposition          3181\n",
              "dtype: int64"
            ]
          },
          "execution_count": 4,
          "metadata": {},
          "output_type": "execute_result"
        }
      ],
      "source": [
        "#Подсчёт пропусков:\n",
        "df.isna().sum()"
      ]
    },
    {
      "cell_type": "markdown",
      "metadata": {
        "id": "dxha3N1PKeXj"
      },
      "source": [
        "Пропуски в столбце с числом балконов вероятнее всего означают, что в квартирах балконов нет. Заполним эти значения нулями."
      ]
    },
    {
      "cell_type": "code",
      "execution_count": null,
      "metadata": {
        "id": "mjbFZxDKKeXk"
      },
      "outputs": [],
      "source": [
        "df['balcony'] = df['balcony'].fillna(0)"
      ]
    },
    {
      "cell_type": "markdown",
      "metadata": {
        "id": "hwnKJIb2KeXk"
      },
      "source": [
        "Пропуски в столбце с названием населённого пункта могли явиться следствием того, что продавец по какой-то причине решил скрыть эти данные. И мы их можем заменить значением \"Не указан\", так как для косвенного определения географического положения можно использовать данные из других столбцов."
      ]
    },
    {
      "cell_type": "code",
      "execution_count": null,
      "metadata": {
        "id": "rCdiOm6WKeXk"
      },
      "outputs": [],
      "source": [
        "df['locality_name'] = df['locality_name'].fillna('Не указан')"
      ]
    },
    {
      "cell_type": "markdown",
      "metadata": {
        "id": "_vzopk7KKeXk"
      },
      "source": [
        "Пропуски в столбце с общим количеством этажей в доме могут быть следствием того, что у дома всего один этаж, либо продавец случайно или намеренно не указал эту информацию. Этих пропусков совсем немного. Можно ими \"пожертвовать\"."
      ]
    },
    {
      "cell_type": "code",
      "execution_count": null,
      "metadata": {
        "id": "RF1KBecIKeXl",
        "outputId": "ea3323c2-e0d7-4a14-f021-04327cac5504"
      },
      "outputs": [
        {
          "name": "stdout",
          "output_type": "stream",
          "text": [
            "<class 'pandas.core.frame.DataFrame'>\n",
            "Int64Index: 23613 entries, 0 to 23698\n",
            "Data columns (total 22 columns):\n",
            " #   Column                Non-Null Count  Dtype  \n",
            "---  ------                --------------  -----  \n",
            " 0   total_images          23613 non-null  int64  \n",
            " 1   last_price            23613 non-null  float64\n",
            " 2   total_area            23613 non-null  float64\n",
            " 3   first_day_exposition  23613 non-null  object \n",
            " 4   rooms                 23613 non-null  int64  \n",
            " 5   ceiling_height        14495 non-null  float64\n",
            " 6   floors_total          23613 non-null  float64\n",
            " 7   living_area           21743 non-null  float64\n",
            " 8   floor                 23613 non-null  int64  \n",
            " 9   is_apartment          2775 non-null   object \n",
            " 10  studio                23613 non-null  bool   \n",
            " 11  open_plan             23613 non-null  bool   \n",
            " 12  kitchen_area          21382 non-null  float64\n",
            " 13  balcony               23613 non-null  float64\n",
            " 14  locality_name         23613 non-null  object \n",
            " 15  airports_nearest      18081 non-null  float64\n",
            " 16  city_centers_nearest  18104 non-null  float64\n",
            " 17  parks_around_3000     18105 non-null  float64\n",
            " 18  parks_nearest         8045 non-null   float64\n",
            " 19  ponds_around_3000     18105 non-null  float64\n",
            " 20  ponds_nearest         9061 non-null   float64\n",
            " 21  days_exposition       20441 non-null  float64\n",
            "dtypes: bool(2), float64(14), int64(3), object(3)\n",
            "memory usage: 3.8+ MB\n"
          ]
        }
      ],
      "source": [
        "df = df.dropna(subset=['floors_total'])\n",
        "df.info()"
      ]
    },
    {
      "cell_type": "markdown",
      "metadata": {
        "id": "H6ooE0kgKeXl"
      },
      "source": [
        "- Пропуски в столбце с высотой потолков заменить нечем и просто удалить строки с ними мы не можем - это почти половина датафрейма. Их возникновение могло быть следствием того, что продавец по какой-то причине решил утаить этот параметр, либо посчитал эти данные не столь важными.\n",
        "- Пропущенные значения в столбце с жилой площадью заменять нечем, удалять строки с ними пока не будем - они занимают почти 10% данных. Это один из важных параметров. И тот факт, что он не указан, может быть следствием того, что с ним имеются проблемы (например, была сделана незаконная перепланировка).\n",
        "- Пропуски в столбце с площадью кухни заменить нечем, удалять строки с ними не будем - они могут быть обусловлены отсутствием кухни, например.\n",
        "- Данные в столбцах с указанием парков, аэропортов и водоёмов поблизости заполнялись автоматически на основе картографических данных. Пропуски в этих столбцах могут появились вероятно из-за невозможности определения геолокации. Исключить строки с пропусками мы не можем - они занимают приличную часть датафрейма (до 75%). Если потребуется заполнение, то как ориентир можно взять название населённого пункта и проверить какие парки и водоёмы имеются поблизости от него.\n",
        "- Пропуски в столбце с количеством дней размещения объявления от публикации до снятия могут означать, что объявление всё ещё опубликовано. Таких значений 13% от всего датафрейма - эти данные будет разумнее не удалять, а  заполнить разницей между датой публикации и текущей датой, например.\n",
        "- Заполнить пропуски в \"проблемных\" столбцах, ориентируясь на данные о населённых пунктах. Возможно, придётся удалить данные, в которых не указан населённый пункт и имеются пропуски в других столбцах, указывающих на географическое положение."
      ]
    },
    {
      "cell_type": "markdown",
      "metadata": {
        "id": "MlOeMjisKeXm"
      },
      "source": [
        "Переходим к изменению типов данных.\n",
        "\n",
        "- Столбец 'first_day_exposition' - сделаем тип 'datetime'. Для того, чтобы с данными можно было выполнять математические действия.\n",
        "- Столбцы 'last_price', 'floors_total', 'balcony' - сделаем целочисленными. Так как они не могут быть не целыми.\n",
        "- Столбец 'is_apartment' - сделаем булевым. Для оптимизации потребления памяти."
      ]
    },
    {
      "cell_type": "code",
      "execution_count": null,
      "metadata": {
        "id": "62BoRebMKeXm",
        "outputId": "7bf8c146-d298-4bb3-8ead-222793dae8d8"
      },
      "outputs": [
        {
          "data": {
            "text/plain": [
              "False    2725\n",
              "True       50\n",
              "Name: is_apartment, dtype: int64"
            ]
          },
          "execution_count": 8,
          "metadata": {},
          "output_type": "execute_result"
        }
      ],
      "source": [
        "#Проверка количества каждого значения в столбце 'is_apartment'.\n",
        "df['is_apartment'].value_counts()"
      ]
    },
    {
      "cell_type": "code",
      "execution_count": null,
      "metadata": {
        "id": "hjwKL_E0KeXm"
      },
      "outputs": [],
      "source": [
        "#Изменение в столбце 'first_day_exposition':\n",
        "df['first_day_exposition'] = pd.to_datetime(df['first_day_exposition'], format='%Y-%m-%dT%H:%M:%S')\n",
        "\n",
        "#Изменение в столбце 'is_apartment':\n",
        "#df['is_apartment'] = df['is_apartment'].astype('bool')\n",
        "\n",
        "#Изменение типа данных на целочисленный:\n",
        "df['last_price'] = df['last_price'].astype('int')\n",
        "df['floors_total'] = df['floors_total'].astype('int')\n",
        "df['balcony'] = df['balcony'].astype('int')"
      ]
    },
    {
      "cell_type": "markdown",
      "metadata": {
        "id": "pU-IJOijKeXn"
      },
      "source": [
        "Заменим пропущенные значения в столбце 'is_apartment' на 'False'."
      ]
    },
    {
      "cell_type": "code",
      "execution_count": null,
      "metadata": {
        "id": "r7B1qHWYKeXo",
        "outputId": "e61cabad-8b21-4e19-84aa-3ff21c134e5b"
      },
      "outputs": [
        {
          "data": {
            "text/plain": [
              "False    23563\n",
              "True        50\n",
              "Name: is_apartment, dtype: int64"
            ]
          },
          "metadata": {},
          "output_type": "display_data"
        },
        {
          "name": "stdout",
          "output_type": "stream",
          "text": [
            "<class 'pandas.core.frame.DataFrame'>\n",
            "Int64Index: 23613 entries, 0 to 23698\n",
            "Data columns (total 22 columns):\n",
            " #   Column                Non-Null Count  Dtype         \n",
            "---  ------                --------------  -----         \n",
            " 0   total_images          23613 non-null  int64         \n",
            " 1   last_price            23613 non-null  int64         \n",
            " 2   total_area            23613 non-null  float64       \n",
            " 3   first_day_exposition  23613 non-null  datetime64[ns]\n",
            " 4   rooms                 23613 non-null  int64         \n",
            " 5   ceiling_height        14495 non-null  float64       \n",
            " 6   floors_total          23613 non-null  int64         \n",
            " 7   living_area           21743 non-null  float64       \n",
            " 8   floor                 23613 non-null  int64         \n",
            " 9   is_apartment          23613 non-null  bool          \n",
            " 10  studio                23613 non-null  bool          \n",
            " 11  open_plan             23613 non-null  bool          \n",
            " 12  kitchen_area          21382 non-null  float64       \n",
            " 13  balcony               23613 non-null  int64         \n",
            " 14  locality_name         23613 non-null  object        \n",
            " 15  airports_nearest      18081 non-null  float64       \n",
            " 16  city_centers_nearest  18104 non-null  float64       \n",
            " 17  parks_around_3000     18105 non-null  float64       \n",
            " 18  parks_nearest         8045 non-null   float64       \n",
            " 19  ponds_around_3000     18105 non-null  float64       \n",
            " 20  ponds_nearest         9061 non-null   float64       \n",
            " 21  days_exposition       20441 non-null  float64       \n",
            "dtypes: bool(3), datetime64[ns](1), float64(11), int64(6), object(1)\n",
            "memory usage: 3.7+ MB\n"
          ]
        }
      ],
      "source": [
        "df['is_apartment'] = df['is_apartment'].fillna(0)\n",
        "\n",
        "#Изменение в столбце 'is_apartment':\n",
        "df['is_apartment'] = df['is_apartment'].astype('bool')\n",
        "\n",
        "display(df['is_apartment'].value_counts())\n",
        "df.info()"
      ]
    },
    {
      "cell_type": "markdown",
      "metadata": {
        "id": "xqqMbSvZKeXo"
      },
      "source": [
        "## Расчёты и добавление результатов в таблицу"
      ]
    },
    {
      "cell_type": "markdown",
      "metadata": {
        "id": "UJ0EXSflKeXo"
      },
      "source": [
        "Посчитаем и добавим в таблицу цену за квадратный метр."
      ]
    },
    {
      "cell_type": "code",
      "execution_count": null,
      "metadata": {
        "id": "-IzCmOzXKeXo"
      },
      "outputs": [],
      "source": [
        "df['price_per_sq_meter'] = df['last_price'] / df['total_area']"
      ]
    },
    {
      "cell_type": "markdown",
      "metadata": {
        "id": "lVXjxr4fKeXo"
      },
      "source": [
        "Добавим день недели, месяц и год публикации объявления."
      ]
    },
    {
      "cell_type": "code",
      "execution_count": null,
      "metadata": {
        "id": "eu847TptKeXp"
      },
      "outputs": [],
      "source": [
        "df['year_exposition'] = pd.DatetimeIndex(df['first_day_exposition']).year\n",
        "df['month_exposition'] = pd.DatetimeIndex(df['first_day_exposition']).month\n",
        "df['weekday_exposition'] = df['first_day_exposition'].dt.weekday"
      ]
    },
    {
      "cell_type": "markdown",
      "metadata": {
        "id": "fpWKapfuKeXp"
      },
      "source": [
        "Добавим столбец, в котором разделим этаж квартир на группы: 'Первый', 'Последний', 'Другой'."
      ]
    },
    {
      "cell_type": "code",
      "execution_count": null,
      "metadata": {
        "scrolled": true,
        "id": "v-ebaCgoKeXp",
        "outputId": "3444df41-05d7-4d13-a5f3-442ff2295950"
      },
      "outputs": [
        {
          "data": {
            "text/plain": [
              "'другой'"
            ]
          },
          "metadata": {},
          "output_type": "display_data"
        }
      ],
      "source": [
        "#Создание функции.\n",
        "def floor_category(row):\n",
        "    \"\"\"\n",
        "    Возвращает группу этажа по значению из столбца 'floor', используя правила:\n",
        "    - 'первый', если floor = 1;\n",
        "    - 'последний', если floor = floors_total;\n",
        "    - 'другой' - все остальные.\n",
        "    \"\"\"\n",
        "    floor = row['floor']\n",
        "    floors_total = row['floors_total']\n",
        "    \n",
        "    try:\n",
        "        if floor == 1:\n",
        "            return 'первый'\n",
        "        if floor == floors_total:\n",
        "            return 'последний'\n",
        "        return 'другой'\n",
        "    except:\n",
        "        display('Введено некорректное значение')\n",
        "\n",
        "#Проверка работоспособности функции.\n",
        "row_values = [12, 'Nan']\n",
        "row_columns = ['floor', 'floors_total']\n",
        "row = pd.Series(data=row_values, index=row_columns)\n",
        "display(floor_category(row))\n",
        "\n",
        "#Добавление нового столбца в датафрейм.\n",
        "df['floor_category'] = df.apply(floor_category, axis=1)"
      ]
    },
    {
      "cell_type": "markdown",
      "metadata": {
        "id": "mqFoICTUKeXp"
      },
      "source": [
        "Добавление столбца с соотношением жилой и общей площади."
      ]
    },
    {
      "cell_type": "code",
      "execution_count": null,
      "metadata": {
        "id": "-bM7du8mKeXq"
      },
      "outputs": [],
      "source": [
        "df['living_area_ratio'] = df['living_area'] / df['total_area']"
      ]
    },
    {
      "cell_type": "markdown",
      "metadata": {
        "id": "KjIEOcDJKeXq"
      },
      "source": [
        "Добавим столбец с соотношением площади кухни и общей площади."
      ]
    },
    {
      "cell_type": "code",
      "execution_count": null,
      "metadata": {
        "id": "ADH4vL5MKeXq",
        "outputId": "c99e280c-97e7-4bc2-d3c1-1b8a9683677f"
      },
      "outputs": [
        {
          "data": {
            "text/html": [
              "<div>\n",
              "<style scoped>\n",
              "    .dataframe tbody tr th:only-of-type {\n",
              "        vertical-align: middle;\n",
              "    }\n",
              "\n",
              "    .dataframe tbody tr th {\n",
              "        vertical-align: top;\n",
              "    }\n",
              "\n",
              "    .dataframe thead th {\n",
              "        text-align: right;\n",
              "    }\n",
              "</style>\n",
              "<table border=\"1\" class=\"dataframe\">\n",
              "  <thead>\n",
              "    <tr style=\"text-align: right;\">\n",
              "      <th></th>\n",
              "      <th>total_images</th>\n",
              "      <th>last_price</th>\n",
              "      <th>total_area</th>\n",
              "      <th>first_day_exposition</th>\n",
              "      <th>rooms</th>\n",
              "      <th>ceiling_height</th>\n",
              "      <th>floors_total</th>\n",
              "      <th>living_area</th>\n",
              "      <th>floor</th>\n",
              "      <th>is_apartment</th>\n",
              "      <th>...</th>\n",
              "      <th>ponds_around_3000</th>\n",
              "      <th>ponds_nearest</th>\n",
              "      <th>days_exposition</th>\n",
              "      <th>price_per_sq_meter</th>\n",
              "      <th>year_exposition</th>\n",
              "      <th>month_exposition</th>\n",
              "      <th>weekday_exposition</th>\n",
              "      <th>floor_category</th>\n",
              "      <th>living_area_ratio</th>\n",
              "      <th>kitchen_area_ratio</th>\n",
              "    </tr>\n",
              "  </thead>\n",
              "  <tbody>\n",
              "    <tr>\n",
              "      <th>0</th>\n",
              "      <td>20</td>\n",
              "      <td>13000000</td>\n",
              "      <td>108.0</td>\n",
              "      <td>2019-03-07</td>\n",
              "      <td>3</td>\n",
              "      <td>2.70</td>\n",
              "      <td>16</td>\n",
              "      <td>51.0</td>\n",
              "      <td>8</td>\n",
              "      <td>False</td>\n",
              "      <td>...</td>\n",
              "      <td>2.0</td>\n",
              "      <td>755.0</td>\n",
              "      <td>NaN</td>\n",
              "      <td>120370.370370</td>\n",
              "      <td>2019</td>\n",
              "      <td>3</td>\n",
              "      <td>3</td>\n",
              "      <td>другой</td>\n",
              "      <td>0.472222</td>\n",
              "      <td>0.231481</td>\n",
              "    </tr>\n",
              "    <tr>\n",
              "      <th>1</th>\n",
              "      <td>7</td>\n",
              "      <td>3350000</td>\n",
              "      <td>40.4</td>\n",
              "      <td>2018-12-04</td>\n",
              "      <td>1</td>\n",
              "      <td>NaN</td>\n",
              "      <td>11</td>\n",
              "      <td>18.6</td>\n",
              "      <td>1</td>\n",
              "      <td>False</td>\n",
              "      <td>...</td>\n",
              "      <td>0.0</td>\n",
              "      <td>NaN</td>\n",
              "      <td>81.0</td>\n",
              "      <td>82920.792079</td>\n",
              "      <td>2018</td>\n",
              "      <td>12</td>\n",
              "      <td>1</td>\n",
              "      <td>первый</td>\n",
              "      <td>0.460396</td>\n",
              "      <td>0.272277</td>\n",
              "    </tr>\n",
              "    <tr>\n",
              "      <th>2</th>\n",
              "      <td>10</td>\n",
              "      <td>5196000</td>\n",
              "      <td>56.0</td>\n",
              "      <td>2015-08-20</td>\n",
              "      <td>2</td>\n",
              "      <td>NaN</td>\n",
              "      <td>5</td>\n",
              "      <td>34.3</td>\n",
              "      <td>4</td>\n",
              "      <td>False</td>\n",
              "      <td>...</td>\n",
              "      <td>2.0</td>\n",
              "      <td>574.0</td>\n",
              "      <td>558.0</td>\n",
              "      <td>92785.714286</td>\n",
              "      <td>2015</td>\n",
              "      <td>8</td>\n",
              "      <td>3</td>\n",
              "      <td>другой</td>\n",
              "      <td>0.612500</td>\n",
              "      <td>0.148214</td>\n",
              "    </tr>\n",
              "    <tr>\n",
              "      <th>3</th>\n",
              "      <td>0</td>\n",
              "      <td>64900000</td>\n",
              "      <td>159.0</td>\n",
              "      <td>2015-07-24</td>\n",
              "      <td>3</td>\n",
              "      <td>NaN</td>\n",
              "      <td>14</td>\n",
              "      <td>NaN</td>\n",
              "      <td>9</td>\n",
              "      <td>False</td>\n",
              "      <td>...</td>\n",
              "      <td>3.0</td>\n",
              "      <td>234.0</td>\n",
              "      <td>424.0</td>\n",
              "      <td>408176.100629</td>\n",
              "      <td>2015</td>\n",
              "      <td>7</td>\n",
              "      <td>4</td>\n",
              "      <td>другой</td>\n",
              "      <td>NaN</td>\n",
              "      <td>NaN</td>\n",
              "    </tr>\n",
              "    <tr>\n",
              "      <th>4</th>\n",
              "      <td>2</td>\n",
              "      <td>10000000</td>\n",
              "      <td>100.0</td>\n",
              "      <td>2018-06-19</td>\n",
              "      <td>2</td>\n",
              "      <td>3.03</td>\n",
              "      <td>14</td>\n",
              "      <td>32.0</td>\n",
              "      <td>13</td>\n",
              "      <td>False</td>\n",
              "      <td>...</td>\n",
              "      <td>1.0</td>\n",
              "      <td>48.0</td>\n",
              "      <td>121.0</td>\n",
              "      <td>100000.000000</td>\n",
              "      <td>2018</td>\n",
              "      <td>6</td>\n",
              "      <td>1</td>\n",
              "      <td>другой</td>\n",
              "      <td>0.320000</td>\n",
              "      <td>0.410000</td>\n",
              "    </tr>\n",
              "  </tbody>\n",
              "</table>\n",
              "<p>5 rows × 29 columns</p>\n",
              "</div>"
            ],
            "text/plain": [
              "   total_images  last_price  total_area first_day_exposition  rooms  \\\n",
              "0            20    13000000       108.0           2019-03-07      3   \n",
              "1             7     3350000        40.4           2018-12-04      1   \n",
              "2            10     5196000        56.0           2015-08-20      2   \n",
              "3             0    64900000       159.0           2015-07-24      3   \n",
              "4             2    10000000       100.0           2018-06-19      2   \n",
              "\n",
              "   ceiling_height  floors_total  living_area  floor  is_apartment  ...  \\\n",
              "0            2.70            16         51.0      8         False  ...   \n",
              "1             NaN            11         18.6      1         False  ...   \n",
              "2             NaN             5         34.3      4         False  ...   \n",
              "3             NaN            14          NaN      9         False  ...   \n",
              "4            3.03            14         32.0     13         False  ...   \n",
              "\n",
              "   ponds_around_3000  ponds_nearest  days_exposition  price_per_sq_meter  \\\n",
              "0                2.0          755.0              NaN       120370.370370   \n",
              "1                0.0            NaN             81.0        82920.792079   \n",
              "2                2.0          574.0            558.0        92785.714286   \n",
              "3                3.0          234.0            424.0       408176.100629   \n",
              "4                1.0           48.0            121.0       100000.000000   \n",
              "\n",
              "  year_exposition  month_exposition  weekday_exposition  floor_category  \\\n",
              "0            2019                 3                   3          другой   \n",
              "1            2018                12                   1          первый   \n",
              "2            2015                 8                   3          другой   \n",
              "3            2015                 7                   4          другой   \n",
              "4            2018                 6                   1          другой   \n",
              "\n",
              "   living_area_ratio  kitchen_area_ratio  \n",
              "0           0.472222            0.231481  \n",
              "1           0.460396            0.272277  \n",
              "2           0.612500            0.148214  \n",
              "3                NaN                 NaN  \n",
              "4           0.320000            0.410000  \n",
              "\n",
              "[5 rows x 29 columns]"
            ]
          },
          "execution_count": 15,
          "metadata": {},
          "output_type": "execute_result"
        }
      ],
      "source": [
        "df['kitchen_area_ratio'] = df['kitchen_area'] / df['total_area']\n",
        "\n",
        "#Вывод первых пяти строк таблицы.\n",
        "df.head()"
      ]
    },
    {
      "cell_type": "markdown",
      "metadata": {
        "id": "xLxhcpqtKeXq"
      },
      "source": [
        "## Исследовательский анализ данных"
      ]
    },
    {
      "cell_type": "markdown",
      "metadata": {
        "id": "pzE8sp_FKeXq"
      },
      "source": [
        "<b>Изучение параметров квартир, представленных в датафрейме. Начнём с площади.</b>"
      ]
    },
    {
      "cell_type": "code",
      "execution_count": null,
      "metadata": {
        "id": "25F3ynnJKeXr",
        "outputId": "75b04687-3eb3-4106-ad5c-2ed424f736d1"
      },
      "outputs": [
        {
          "data": {
            "text/plain": [
              "count    23613.000000\n",
              "mean        60.340678\n",
              "std         35.648988\n",
              "min         12.000000\n",
              "25%         40.000000\n",
              "50%         52.000000\n",
              "75%         69.800000\n",
              "max        900.000000\n",
              "Name: total_area, dtype: float64"
            ]
          },
          "metadata": {},
          "output_type": "display_data"
        },
        {
          "data": {
            "text/plain": [
              "<AxesSubplot:>"
            ]
          },
          "execution_count": 16,
          "metadata": {},
          "output_type": "execute_result"
        },
        {
          "data": {
            "image/png": "[encoded data removed]",
            "text/plain": [
              "<Figure size 432x288 with 1 Axes>"
            ]
          },
          "metadata": {
            "needs_background": "light"
          },
          "output_type": "display_data"
        }
      ],
      "source": [
        "display(df['total_area'].describe())\n",
        "df['total_area'].hist(bins=100, range=(20, 200))"
      ]
    },
    {
      "cell_type": "markdown",
      "metadata": {
        "id": "5Nr2mQFvKeXr"
      },
      "source": [
        "Основная масса квартир представлена интервалом площадей от 25 до 80 кв.м. При этом среднее и медианное значения практически равны."
      ]
    },
    {
      "cell_type": "markdown",
      "metadata": {
        "id": "u8B_E-RYKeXr"
      },
      "source": [
        "<b>Посмотрим числовое описание данных в колонке цен и построим гистограмму по данным из этой колонки.</b>"
      ]
    },
    {
      "cell_type": "code",
      "execution_count": null,
      "metadata": {
        "scrolled": true,
        "id": "54p2SV8qKeXr",
        "outputId": "d07c5dc8-e891-4807-df60-686588a0d134"
      },
      "outputs": [
        {
          "data": {
            "text/plain": [
              "count    2.361300e+04\n",
              "mean     6.540555e+06\n",
              "std      1.090172e+07\n",
              "min      1.219000e+04\n",
              "25%      3.400000e+06\n",
              "50%      4.650000e+06\n",
              "75%      6.799000e+06\n",
              "max      7.630000e+08\n",
              "Name: last_price, dtype: float64"
            ]
          },
          "metadata": {},
          "output_type": "display_data"
        },
        {
          "data": {
            "text/plain": [
              "<AxesSubplot:>"
            ]
          },
          "execution_count": 17,
          "metadata": {},
          "output_type": "execute_result"
        },
        {
          "data": {
            "image/png": "[encoded data removed]",
            "text/plain": [
              "<Figure size 432x288 with 1 Axes>"
            ]
          },
          "metadata": {
            "needs_background": "light"
          },
          "output_type": "display_data"
        }
      ],
      "source": [
        "display(df['last_price'].describe())\n",
        "df['last_price'].hist(bins=100, range=(900000, 30000000))"
      ]
    },
    {
      "cell_type": "markdown",
      "metadata": {
        "id": "ii9WGPM4KeXr"
      },
      "source": [
        "Большинство квартир продаётся в диапазоне цен от 2 до 8 млн."
      ]
    },
    {
      "cell_type": "markdown",
      "metadata": {
        "id": "_B43y7G-KeXs"
      },
      "source": [
        "<b>Изучение квартир по данным из столбца с чилом комнат.</b>"
      ]
    },
    {
      "cell_type": "code",
      "execution_count": null,
      "metadata": {
        "scrolled": true,
        "id": "7ajI8YJxKeXs",
        "outputId": "f2723c9f-1acf-4337-979f-3c25e770238c"
      },
      "outputs": [
        {
          "data": {
            "text/plain": [
              "count    23613.000000\n",
              "mean         2.071147\n",
              "std          1.078380\n",
              "min          0.000000\n",
              "25%          1.000000\n",
              "50%          2.000000\n",
              "75%          3.000000\n",
              "max         19.000000\n",
              "Name: rooms, dtype: float64"
            ]
          },
          "metadata": {},
          "output_type": "display_data"
        },
        {
          "data": {
            "text/plain": [
              "1     8015\n",
              "2     7913\n",
              "3     5795\n",
              "4     1177\n",
              "5      325\n",
              "0      194\n",
              "6      104\n",
              "7       59\n",
              "8       12\n",
              "9        8\n",
              "10       3\n",
              "11       2\n",
              "14       2\n",
              "19       1\n",
              "16       1\n",
              "12       1\n",
              "15       1\n",
              "Name: rooms, dtype: int64"
            ]
          },
          "execution_count": 18,
          "metadata": {},
          "output_type": "execute_result"
        },
        {
          "data": {
            "image/png": "[encoded data removed]",
            "text/plain": [
              "<Figure size 432x288 with 1 Axes>"
            ]
          },
          "metadata": {
            "needs_background": "light"
          },
          "output_type": "display_data"
        }
      ],
      "source": [
        "display(df['rooms'].describe())\n",
        "df['rooms'].hist(bins=5, range=(0, 5))\n",
        "df['rooms'].value_counts()"
      ]
    },
    {
      "cell_type": "markdown",
      "metadata": {
        "id": "LncDm5IqKeXs"
      },
      "source": [
        "В основном на рынке представлены одно- и двухкомнатные квартиры. Также велика доля трёхкомнатных."
      ]
    },
    {
      "cell_type": "markdown",
      "metadata": {
        "id": "gRuHXLZkKeXs"
      },
      "source": [
        "<b>Анализ квартир по данным о высоте потолков.</b>"
      ]
    },
    {
      "cell_type": "code",
      "execution_count": null,
      "metadata": {
        "scrolled": false,
        "id": "hzgck70YKeXs",
        "outputId": "c5ac16ad-8541-4881-c3db-7fb9004637fe"
      },
      "outputs": [
        {
          "data": {
            "text/plain": [
              "count    14495.000000\n",
              "mean         2.771495\n",
              "std          1.261445\n",
              "min          1.000000\n",
              "25%          2.520000\n",
              "50%          2.650000\n",
              "75%          2.800000\n",
              "max        100.000000\n",
              "Name: ceiling_height, dtype: float64"
            ]
          },
          "metadata": {},
          "output_type": "display_data"
        },
        {
          "data": {
            "text/plain": [
              "<AxesSubplot:>"
            ]
          },
          "execution_count": 19,
          "metadata": {},
          "output_type": "execute_result"
        },
        {
          "data": {
            "image/png": "[encoded data removed]",
            "text/plain": [
              "<Figure size 432x288 with 1 Axes>"
            ]
          },
          "metadata": {
            "needs_background": "light"
          },
          "output_type": "display_data"
        }
      ],
      "source": [
        "display(df['ceiling_height'].describe())\n",
        "df['ceiling_height'].hist(bins=10, range=(2, 5))"
      ]
    },
    {
      "cell_type": "markdown",
      "metadata": {
        "id": "qRYMCjJQKeXt"
      },
      "source": [
        "Большинство квартир на изучаемом рынке с высотой потолков 2.3 - 2.8 метра. Также здесь присутствуют явные аномалии (значение высоты 1 метр и 100 метров)."
      ]
    },
    {
      "cell_type": "markdown",
      "metadata": {
        "id": "Mjb14njNKeXt"
      },
      "source": [
        "<b>Изучение времени продажи квартиры.</b>"
      ]
    },
    {
      "cell_type": "code",
      "execution_count": null,
      "metadata": {
        "scrolled": true,
        "id": "SHuOUquhKeXt",
        "outputId": "159af29f-d7dd-4a4b-c364-ca0d50bd30d8"
      },
      "outputs": [
        {
          "data": {
            "text/plain": [
              "count    20441.000000\n",
              "mean       180.884839\n",
              "std        219.685543\n",
              "min          1.000000\n",
              "25%         45.000000\n",
              "50%         95.000000\n",
              "75%        232.000000\n",
              "max       1580.000000\n",
              "Name: days_exposition, dtype: float64"
            ]
          },
          "metadata": {},
          "output_type": "display_data"
        },
        {
          "data": {
            "text/plain": [
              "<AxesSubplot:>"
            ]
          },
          "execution_count": 20,
          "metadata": {},
          "output_type": "execute_result"
        },
        {
          "data": {
            "image/png": "[encoded data removed]",
            "text/plain": [
              "<Figure size 432x288 with 1 Axes>"
            ]
          },
          "metadata": {
            "needs_background": "light"
          },
          "output_type": "display_data"
        }
      ],
      "source": [
        "display(df['days_exposition'].describe())\n",
        "df['days_exposition'].hist(bins=100, range=(0, 1600))"
      ]
    },
    {
      "cell_type": "markdown",
      "metadata": {
        "id": "AKif0YvCKeXt"
      },
      "source": [
        "Большинство квартир продаётся в течение трёх месяцев. Этот факт подтверждается и медианным значением срока продажи квартиры. А вот средний срок продажи получился равным половине года. Это связано с наличием неликвидных квартир которые не могут продать годами. Быстрой продажей можно считать, если квартира была реализована в течение месяца. Если же время публикации объявления переваливает за 300 дней, то продажа уже явно затянулась."
      ]
    },
    {
      "cell_type": "markdown",
      "metadata": {
        "id": "VYkIrv88KeXu"
      },
      "source": [
        "<b>Исключение редких и выбивающихся значений.</b>"
      ]
    },
    {
      "cell_type": "markdown",
      "metadata": {
        "id": "VdHS-7_sKeXu"
      },
      "source": [
        "Сделаем усредняющие срезы данных, уберём квартиры: \n",
        "- с очень маленькой или слишком большой площадью;\n",
        "- с количеством комнат менее одной и более четырёх;\n",
        "- с высотой потолков менее двух метров и более четырёх с с половиной;\n",
        "- со сроком продажи более 600 дней."
      ]
    },
    {
      "cell_type": "code",
      "execution_count": null,
      "metadata": {
        "id": "pRBR_dNGKeXu",
        "outputId": "aaf01757-c54d-4274-d789-4a9cdfe47e49"
      },
      "outputs": [
        {
          "data": {
            "text/plain": [
              "(0.0, 114.0)"
            ]
          },
          "execution_count": 22,
          "metadata": {},
          "output_type": "execute_result"
        },
        {
          "data": {
            "image/png": "[encoded data removed]",
            "text/plain": [
              "<Figure size 432x288 with 1 Axes>"
            ]
          },
          "metadata": {
            "needs_background": "light"
          },
          "output_type": "display_data"
        }
      ],
      "source": [
        "#Проанализируем выбросы в площади.\n",
        "df.boxplot(column=['total_area'])\n",
        "plt.ylim(0, 114)"
      ]
    },
    {
      "cell_type": "code",
      "execution_count": null,
      "metadata": {
        "id": "jnfVfK-OKeXv"
      },
      "outputs": [],
      "source": [
        "#Исключим квариры с площадью более 114 кв.м.\n",
        "df = df.query('total_area < 114')"
      ]
    },
    {
      "cell_type": "code",
      "execution_count": null,
      "metadata": {
        "id": "a18krWfqKeXv",
        "outputId": "8f555ab1-7647-4b8c-e694-271444e8b47c"
      },
      "outputs": [
        {
          "data": {
            "text/plain": [
              "(0.0, 10.0)"
            ]
          },
          "execution_count": 24,
          "metadata": {},
          "output_type": "execute_result"
        },
        {
          "data": {
            "image/png": "[encoded data removed]",
            "text/plain": [
              "<Figure size 432x288 with 1 Axes>"
            ]
          },
          "metadata": {
            "needs_background": "light"
          },
          "output_type": "display_data"
        }
      ],
      "source": [
        "#Проанализируем выбросы в количестве комнат.\n",
        "df.boxplot(column=['rooms'])\n",
        "plt.ylim(0, 10)"
      ]
    },
    {
      "cell_type": "code",
      "execution_count": null,
      "metadata": {
        "id": "5gFgBcouKeXv"
      },
      "outputs": [],
      "source": [
        "#Исключим квариры с количеством комнат более 6.\n",
        "df = df.query('rooms <= 6')"
      ]
    },
    {
      "cell_type": "markdown",
      "metadata": {
        "id": "sdoz5wzbKeXv"
      },
      "source": [
        "Заполним пропуски в столбце с высотой потолков медианными значениями. И отфильтруем квартиры с высотой потолков от 2.0 до 4.5 метров."
      ]
    },
    {
      "cell_type": "code",
      "execution_count": null,
      "metadata": {
        "scrolled": false,
        "id": "TCiS2B7QKeXw"
      },
      "outputs": [],
      "source": [
        "df['ceiling_height'] = df['ceiling_height'].fillna(df['ceiling_height'].median())\n",
        "\n",
        "df = df.query('(ceiling_height > 2.0) and (ceiling_height < 4.5)')"
      ]
    },
    {
      "cell_type": "code",
      "execution_count": null,
      "metadata": {
        "scrolled": true,
        "id": "2XUD1cnYKeXx",
        "outputId": "776bdf2c-6cc0-48b9-fe70-b2f31d6c3a56"
      },
      "outputs": [
        {
          "name": "stdout",
          "output_type": "stream",
          "text": [
            "<class 'pandas.core.frame.DataFrame'>\n",
            "Int64Index: 22290 entries, 0 to 23698\n",
            "Data columns (total 29 columns):\n",
            " #   Column                Non-Null Count  Dtype         \n",
            "---  ------                --------------  -----         \n",
            " 0   total_images          22290 non-null  int64         \n",
            " 1   last_price            22290 non-null  int64         \n",
            " 2   total_area            22290 non-null  float64       \n",
            " 3   first_day_exposition  22290 non-null  datetime64[ns]\n",
            " 4   rooms                 22290 non-null  int64         \n",
            " 5   ceiling_height        22290 non-null  float64       \n",
            " 6   floors_total          22290 non-null  int64         \n",
            " 7   living_area           20556 non-null  float64       \n",
            " 8   floor                 22290 non-null  int64         \n",
            " 9   is_apartment          22290 non-null  bool          \n",
            " 10  studio                22290 non-null  bool          \n",
            " 11  open_plan             22290 non-null  bool          \n",
            " 12  kitchen_area          20185 non-null  float64       \n",
            " 13  balcony               22290 non-null  int64         \n",
            " 14  locality_name         22290 non-null  object        \n",
            " 15  airports_nearest      16834 non-null  float64       \n",
            " 16  city_centers_nearest  16852 non-null  float64       \n",
            " 17  parks_around_3000     16853 non-null  float64       \n",
            " 18  parks_nearest         7212 non-null   float64       \n",
            " 19  ponds_around_3000     16853 non-null  float64       \n",
            " 20  ponds_nearest         8234 non-null   float64       \n",
            " 21  days_exposition       19452 non-null  float64       \n",
            " 22  price_per_sq_meter    22290 non-null  float64       \n",
            " 23  year_exposition       22290 non-null  int64         \n",
            " 24  month_exposition      22290 non-null  int64         \n",
            " 25  weekday_exposition    22290 non-null  int64         \n",
            " 26  floor_category        22290 non-null  object        \n",
            " 27  living_area_ratio     20556 non-null  float64       \n",
            " 28  kitchen_area_ratio    20185 non-null  float64       \n",
            "dtypes: bool(3), datetime64[ns](1), float64(14), int64(9), object(2)\n",
            "memory usage: 4.7+ MB\n"
          ]
        }
      ],
      "source": [
        "df.info()"
      ]
    },
    {
      "cell_type": "markdown",
      "metadata": {
        "id": "6dCo6JY9KeXx"
      },
      "source": [
        "После удаления редких и выбивающихся значений датафрейм уменьшился на 5.5%."
      ]
    },
    {
      "cell_type": "markdown",
      "metadata": {
        "id": "q9aJf0aoKeXy"
      },
      "source": [
        "<b>Изучение влияния различных факторов на стоимость квартиры.</b>"
      ]
    },
    {
      "cell_type": "markdown",
      "metadata": {
        "id": "jH9x9JhjKeXy"
      },
      "source": [
        "Рассчитаем коэффициенты корреляции между стоимостью квартиры и площадью, числом комнат, удалённостью от центра."
      ]
    },
    {
      "cell_type": "code",
      "execution_count": null,
      "metadata": {
        "scrolled": false,
        "id": "lH7qLB--KeXy",
        "outputId": "e268ef89-68d1-48a8-ffeb-20053e165f9a"
      },
      "outputs": [
        {
          "data": {
            "text/plain": [
              "'Коэффициент корреляции между площадью и стоимостью:'"
            ]
          },
          "metadata": {},
          "output_type": "display_data"
        },
        {
          "data": {
            "text/plain": [
              "0.6851531572511955"
            ]
          },
          "metadata": {},
          "output_type": "display_data"
        },
        {
          "data": {
            "text/plain": [
              "'Коэффициент корреляции между числом комнат и стоимостью:'"
            ]
          },
          "metadata": {},
          "output_type": "display_data"
        },
        {
          "data": {
            "text/plain": [
              "0.3855283352205985"
            ]
          },
          "metadata": {},
          "output_type": "display_data"
        },
        {
          "data": {
            "text/plain": [
              "'Коэффициент корреляции между расстоянием до центра и стоимостью:'"
            ]
          },
          "metadata": {},
          "output_type": "display_data"
        },
        {
          "data": {
            "text/plain": [
              "-0.3375676648150895"
            ]
          },
          "metadata": {},
          "output_type": "display_data"
        }
      ],
      "source": [
        "display('Коэффициент корреляции между площадью и стоимостью:', df['total_area'].corr(df['last_price']))\n",
        "display('Коэффициент корреляции между числом комнат и стоимостью:', df['rooms'].corr(df['last_price']))\n",
        "display('Коэффициент корреляции между расстоянием до центра и стоимостью:', df['city_centers_nearest'].corr(df['last_price']))"
      ]
    },
    {
      "cell_type": "markdown",
      "metadata": {
        "id": "_sl7JJZNKeXy"
      },
      "source": [
        "Вывод: между площадью квартиры и её стоимостью прослеживается явная прямая зависимость. Между числом комнат в квартире и её стоимостью зависимость довольно низкая. Расстояние до центра и стоимость имеют обратную связь (чем больше один параметр, тем меньше другой)."
      ]
    },
    {
      "cell_type": "markdown",
      "metadata": {
        "id": "K2yRa3D6KeXy"
      },
      "source": [
        "Посмотрим  на зависимость цены от того, на каком этаже расположена квартира: первом, последнем или другом."
      ]
    },
    {
      "cell_type": "code",
      "execution_count": null,
      "metadata": {
        "id": "cr59tyiAKeXz",
        "outputId": "06390134-a9af-4900-f1cc-ea0bec973ec0"
      },
      "outputs": [
        {
          "data": {
            "text/html": [
              "<div>\n",
              "<style scoped>\n",
              "    .dataframe tbody tr th:only-of-type {\n",
              "        vertical-align: middle;\n",
              "    }\n",
              "\n",
              "    .dataframe tbody tr th {\n",
              "        vertical-align: top;\n",
              "    }\n",
              "\n",
              "    .dataframe thead th {\n",
              "        text-align: right;\n",
              "    }\n",
              "</style>\n",
              "<table border=\"1\" class=\"dataframe\">\n",
              "  <thead>\n",
              "    <tr style=\"text-align: right;\">\n",
              "      <th></th>\n",
              "      <th>last_price</th>\n",
              "    </tr>\n",
              "    <tr>\n",
              "      <th>floor_category</th>\n",
              "      <th></th>\n",
              "    </tr>\n",
              "  </thead>\n",
              "  <tbody>\n",
              "    <tr>\n",
              "      <th>другой</th>\n",
              "      <td>5.543683e+06</td>\n",
              "    </tr>\n",
              "    <tr>\n",
              "      <th>первый</th>\n",
              "      <td>4.292660e+06</td>\n",
              "    </tr>\n",
              "    <tr>\n",
              "      <th>последний</th>\n",
              "      <td>4.846850e+06</td>\n",
              "    </tr>\n",
              "  </tbody>\n",
              "</table>\n",
              "</div>"
            ],
            "text/plain": [
              "                  last_price\n",
              "floor_category              \n",
              "другой          5.543683e+06\n",
              "первый          4.292660e+06\n",
              "последний       4.846850e+06"
            ]
          },
          "execution_count": 29,
          "metadata": {},
          "output_type": "execute_result"
        }
      ],
      "source": [
        "df.pivot_table(index='floor_category', values='last_price')"
      ]
    },
    {
      "cell_type": "markdown",
      "metadata": {
        "id": "GpMimixSKeXz"
      },
      "source": [
        "Вывод: в среднем, квартиры, расположенные на первом и последнем этажах, стоят ниже, чем те, которые находятся на других."
      ]
    },
    {
      "cell_type": "markdown",
      "metadata": {
        "id": "Iq6B2iGMKeXz"
      },
      "source": [
        "Посмотрим связь между годом размещения объявления о продаже квартиры и её стоимостью по всем квартирам из выборки."
      ]
    },
    {
      "cell_type": "code",
      "execution_count": null,
      "metadata": {
        "scrolled": false,
        "id": "LYqGQkDNKeXz",
        "outputId": "a85b5c0c-d385-4325-a953-6d74f50539ca"
      },
      "outputs": [
        {
          "data": {
            "text/html": [
              "<div>\n",
              "<style scoped>\n",
              "    .dataframe tbody tr th:only-of-type {\n",
              "        vertical-align: middle;\n",
              "    }\n",
              "\n",
              "    .dataframe tbody tr th {\n",
              "        vertical-align: top;\n",
              "    }\n",
              "\n",
              "    .dataframe thead th {\n",
              "        text-align: right;\n",
              "    }\n",
              "</style>\n",
              "<table border=\"1\" class=\"dataframe\">\n",
              "  <thead>\n",
              "    <tr style=\"text-align: right;\">\n",
              "      <th></th>\n",
              "      <th>last_price</th>\n",
              "    </tr>\n",
              "    <tr>\n",
              "      <th>year_exposition</th>\n",
              "      <th></th>\n",
              "    </tr>\n",
              "  </thead>\n",
              "  <tbody>\n",
              "    <tr>\n",
              "      <th>2014</th>\n",
              "      <td>7.848364e+06</td>\n",
              "    </tr>\n",
              "    <tr>\n",
              "      <th>2015</th>\n",
              "      <td>5.805149e+06</td>\n",
              "    </tr>\n",
              "    <tr>\n",
              "      <th>2016</th>\n",
              "      <td>5.270245e+06</td>\n",
              "    </tr>\n",
              "    <tr>\n",
              "      <th>2017</th>\n",
              "      <td>5.174448e+06</td>\n",
              "    </tr>\n",
              "    <tr>\n",
              "      <th>2018</th>\n",
              "      <td>5.186637e+06</td>\n",
              "    </tr>\n",
              "    <tr>\n",
              "      <th>2019</th>\n",
              "      <td>5.646237e+06</td>\n",
              "    </tr>\n",
              "  </tbody>\n",
              "</table>\n",
              "</div>"
            ],
            "text/plain": [
              "                   last_price\n",
              "year_exposition              \n",
              "2014             7.848364e+06\n",
              "2015             5.805149e+06\n",
              "2016             5.270245e+06\n",
              "2017             5.174448e+06\n",
              "2018             5.186637e+06\n",
              "2019             5.646237e+06"
            ]
          },
          "execution_count": 30,
          "metadata": {},
          "output_type": "execute_result"
        }
      ],
      "source": [
        "df.pivot_table(index='year_exposition', values='last_price')"
      ]
    },
    {
      "cell_type": "markdown",
      "metadata": {
        "id": "WzhEYdiEKeXz"
      },
      "source": [
        "Вывод: квартиры с самой высокой стоимостью были выставлены на продажу в 2014 году. По остальным годам большой разницы не наблюдается."
      ]
    },
    {
      "cell_type": "markdown",
      "metadata": {
        "id": "7XnccCoGKeXz"
      },
      "source": [
        "Посмотрим связь между месяцем размещения объявления о продаже квартиры и её стоимостью по всем квартирам."
      ]
    },
    {
      "cell_type": "code",
      "execution_count": null,
      "metadata": {
        "scrolled": true,
        "id": "BaYiFLHsKeX0",
        "outputId": "639b8363-9e1a-4e5f-b13a-a97c1e8fccd6"
      },
      "outputs": [
        {
          "data": {
            "text/html": [
              "<div>\n",
              "<style scoped>\n",
              "    .dataframe tbody tr th:only-of-type {\n",
              "        vertical-align: middle;\n",
              "    }\n",
              "\n",
              "    .dataframe tbody tr th {\n",
              "        vertical-align: top;\n",
              "    }\n",
              "\n",
              "    .dataframe thead th {\n",
              "        text-align: right;\n",
              "    }\n",
              "</style>\n",
              "<table border=\"1\" class=\"dataframe\">\n",
              "  <thead>\n",
              "    <tr style=\"text-align: right;\">\n",
              "      <th></th>\n",
              "      <th>last_price</th>\n",
              "    </tr>\n",
              "    <tr>\n",
              "      <th>month_exposition</th>\n",
              "      <th></th>\n",
              "    </tr>\n",
              "  </thead>\n",
              "  <tbody>\n",
              "    <tr>\n",
              "      <th>1</th>\n",
              "      <td>5.285561e+06</td>\n",
              "    </tr>\n",
              "    <tr>\n",
              "      <th>2</th>\n",
              "      <td>5.283446e+06</td>\n",
              "    </tr>\n",
              "    <tr>\n",
              "      <th>3</th>\n",
              "      <td>5.279125e+06</td>\n",
              "    </tr>\n",
              "    <tr>\n",
              "      <th>4</th>\n",
              "      <td>5.411016e+06</td>\n",
              "    </tr>\n",
              "    <tr>\n",
              "      <th>5</th>\n",
              "      <td>5.142496e+06</td>\n",
              "    </tr>\n",
              "    <tr>\n",
              "      <th>6</th>\n",
              "      <td>5.224978e+06</td>\n",
              "    </tr>\n",
              "    <tr>\n",
              "      <th>7</th>\n",
              "      <td>5.227881e+06</td>\n",
              "    </tr>\n",
              "    <tr>\n",
              "      <th>8</th>\n",
              "      <td>5.339512e+06</td>\n",
              "    </tr>\n",
              "    <tr>\n",
              "      <th>9</th>\n",
              "      <td>5.415277e+06</td>\n",
              "    </tr>\n",
              "    <tr>\n",
              "      <th>10</th>\n",
              "      <td>5.246489e+06</td>\n",
              "    </tr>\n",
              "    <tr>\n",
              "      <th>11</th>\n",
              "      <td>5.291563e+06</td>\n",
              "    </tr>\n",
              "    <tr>\n",
              "      <th>12</th>\n",
              "      <td>5.240950e+06</td>\n",
              "    </tr>\n",
              "  </tbody>\n",
              "</table>\n",
              "</div>"
            ],
            "text/plain": [
              "                    last_price\n",
              "month_exposition              \n",
              "1                 5.285561e+06\n",
              "2                 5.283446e+06\n",
              "3                 5.279125e+06\n",
              "4                 5.411016e+06\n",
              "5                 5.142496e+06\n",
              "6                 5.224978e+06\n",
              "7                 5.227881e+06\n",
              "8                 5.339512e+06\n",
              "9                 5.415277e+06\n",
              "10                5.246489e+06\n",
              "11                5.291563e+06\n",
              "12                5.240950e+06"
            ]
          },
          "execution_count": 31,
          "metadata": {},
          "output_type": "execute_result"
        }
      ],
      "source": [
        "df.pivot_table(index='month_exposition', values='last_price')"
      ]
    },
    {
      "cell_type": "markdown",
      "metadata": {
        "id": "p_-AK1cjKeX0"
      },
      "source": [
        "Вывод: между месяцем публикации объявления и стоимстью квартиры связи нет."
      ]
    },
    {
      "cell_type": "markdown",
      "metadata": {
        "id": "HljUPNnEKeX0"
      },
      "source": [
        "Посмотрим связь между днём публикации объявления о продаже квартиры и её стоимостью по всем квартирам."
      ]
    },
    {
      "cell_type": "code",
      "execution_count": null,
      "metadata": {
        "id": "Sy-tRE4tKeX1",
        "outputId": "d1355a11-bd75-4e0a-b1cd-339828c9a961"
      },
      "outputs": [
        {
          "data": {
            "text/html": [
              "<div>\n",
              "<style scoped>\n",
              "    .dataframe tbody tr th:only-of-type {\n",
              "        vertical-align: middle;\n",
              "    }\n",
              "\n",
              "    .dataframe tbody tr th {\n",
              "        vertical-align: top;\n",
              "    }\n",
              "\n",
              "    .dataframe thead th {\n",
              "        text-align: right;\n",
              "    }\n",
              "</style>\n",
              "<table border=\"1\" class=\"dataframe\">\n",
              "  <thead>\n",
              "    <tr style=\"text-align: right;\">\n",
              "      <th></th>\n",
              "      <th>last_price</th>\n",
              "    </tr>\n",
              "    <tr>\n",
              "      <th>weekday_exposition</th>\n",
              "      <th></th>\n",
              "    </tr>\n",
              "  </thead>\n",
              "  <tbody>\n",
              "    <tr>\n",
              "      <th>0</th>\n",
              "      <td>5.320231e+06</td>\n",
              "    </tr>\n",
              "    <tr>\n",
              "      <th>1</th>\n",
              "      <td>5.349164e+06</td>\n",
              "    </tr>\n",
              "    <tr>\n",
              "      <th>2</th>\n",
              "      <td>5.314488e+06</td>\n",
              "    </tr>\n",
              "    <tr>\n",
              "      <th>3</th>\n",
              "      <td>5.363159e+06</td>\n",
              "    </tr>\n",
              "    <tr>\n",
              "      <th>4</th>\n",
              "      <td>5.230887e+06</td>\n",
              "    </tr>\n",
              "    <tr>\n",
              "      <th>5</th>\n",
              "      <td>5.130386e+06</td>\n",
              "    </tr>\n",
              "    <tr>\n",
              "      <th>6</th>\n",
              "      <td>5.160653e+06</td>\n",
              "    </tr>\n",
              "  </tbody>\n",
              "</table>\n",
              "</div>"
            ],
            "text/plain": [
              "                      last_price\n",
              "weekday_exposition              \n",
              "0                   5.320231e+06\n",
              "1                   5.349164e+06\n",
              "2                   5.314488e+06\n",
              "3                   5.363159e+06\n",
              "4                   5.230887e+06\n",
              "5                   5.130386e+06\n",
              "6                   5.160653e+06"
            ]
          },
          "execution_count": 32,
          "metadata": {},
          "output_type": "execute_result"
        }
      ],
      "source": [
        "df.pivot_table(index='weekday_exposition', values='last_price')"
      ]
    },
    {
      "cell_type": "markdown",
      "metadata": {
        "id": "rVyWLmUeKeX1"
      },
      "source": [
        "Вывод: между днём недели публикации объявления о продаже квартиры и стоимостью квартиры связи нет."
      ]
    },
    {
      "cell_type": "code",
      "execution_count": null,
      "metadata": {
        "id": "hT59gaNyKeX3",
        "outputId": "9aad62c5-89e8-4c42-803f-1dc855b6a225"
      },
      "outputs": [
        {
          "data": {
            "text/plain": [
              "array([[<AxesSubplot:xlabel='total_area', ylabel='total_area'>,\n",
              "        <AxesSubplot:xlabel='rooms', ylabel='total_area'>,\n",
              "        <AxesSubplot:xlabel='city_centers_nearest', ylabel='total_area'>,\n",
              "        <AxesSubplot:xlabel='year_exposition', ylabel='total_area'>,\n",
              "        <AxesSubplot:xlabel='month_exposition', ylabel='total_area'>,\n",
              "        <AxesSubplot:xlabel='weekday_exposition', ylabel='total_area'>,\n",
              "        <AxesSubplot:xlabel='last_price', ylabel='total_area'>],\n",
              "       [<AxesSubplot:xlabel='total_area', ylabel='rooms'>,\n",
              "        <AxesSubplot:xlabel='rooms', ylabel='rooms'>,\n",
              "        <AxesSubplot:xlabel='city_centers_nearest', ylabel='rooms'>,\n",
              "        <AxesSubplot:xlabel='year_exposition', ylabel='rooms'>,\n",
              "        <AxesSubplot:xlabel='month_exposition', ylabel='rooms'>,\n",
              "        <AxesSubplot:xlabel='weekday_exposition', ylabel='rooms'>,\n",
              "        <AxesSubplot:xlabel='last_price', ylabel='rooms'>],\n",
              "       [<AxesSubplot:xlabel='total_area', ylabel='city_centers_nearest'>,\n",
              "        <AxesSubplot:xlabel='rooms', ylabel='city_centers_nearest'>,\n",
              "        <AxesSubplot:xlabel='city_centers_nearest', ylabel='city_centers_nearest'>,\n",
              "        <AxesSubplot:xlabel='year_exposition', ylabel='city_centers_nearest'>,\n",
              "        <AxesSubplot:xlabel='month_exposition', ylabel='city_centers_nearest'>,\n",
              "        <AxesSubplot:xlabel='weekday_exposition', ylabel='city_centers_nearest'>,\n",
              "        <AxesSubplot:xlabel='last_price', ylabel='city_centers_nearest'>],\n",
              "       [<AxesSubplot:xlabel='total_area', ylabel='year_exposition'>,\n",
              "        <AxesSubplot:xlabel='rooms', ylabel='year_exposition'>,\n",
              "        <AxesSubplot:xlabel='city_centers_nearest', ylabel='year_exposition'>,\n",
              "        <AxesSubplot:xlabel='year_exposition', ylabel='year_exposition'>,\n",
              "        <AxesSubplot:xlabel='month_exposition', ylabel='year_exposition'>,\n",
              "        <AxesSubplot:xlabel='weekday_exposition', ylabel='year_exposition'>,\n",
              "        <AxesSubplot:xlabel='last_price', ylabel='year_exposition'>],\n",
              "       [<AxesSubplot:xlabel='total_area', ylabel='month_exposition'>,\n",
              "        <AxesSubplot:xlabel='rooms', ylabel='month_exposition'>,\n",
              "        <AxesSubplot:xlabel='city_centers_nearest', ylabel='month_exposition'>,\n",
              "        <AxesSubplot:xlabel='year_exposition', ylabel='month_exposition'>,\n",
              "        <AxesSubplot:xlabel='month_exposition', ylabel='month_exposition'>,\n",
              "        <AxesSubplot:xlabel='weekday_exposition', ylabel='month_exposition'>,\n",
              "        <AxesSubplot:xlabel='last_price', ylabel='month_exposition'>],\n",
              "       [<AxesSubplot:xlabel='total_area', ylabel='weekday_exposition'>,\n",
              "        <AxesSubplot:xlabel='rooms', ylabel='weekday_exposition'>,\n",
              "        <AxesSubplot:xlabel='city_centers_nearest', ylabel='weekday_exposition'>,\n",
              "        <AxesSubplot:xlabel='year_exposition', ylabel='weekday_exposition'>,\n",
              "        <AxesSubplot:xlabel='month_exposition', ylabel='weekday_exposition'>,\n",
              "        <AxesSubplot:xlabel='weekday_exposition', ylabel='weekday_exposition'>,\n",
              "        <AxesSubplot:xlabel='last_price', ylabel='weekday_exposition'>],\n",
              "       [<AxesSubplot:xlabel='total_area', ylabel='last_price'>,\n",
              "        <AxesSubplot:xlabel='rooms', ylabel='last_price'>,\n",
              "        <AxesSubplot:xlabel='city_centers_nearest', ylabel='last_price'>,\n",
              "        <AxesSubplot:xlabel='year_exposition', ylabel='last_price'>,\n",
              "        <AxesSubplot:xlabel='month_exposition', ylabel='last_price'>,\n",
              "        <AxesSubplot:xlabel='weekday_exposition', ylabel='last_price'>,\n",
              "        <AxesSubplot:xlabel='last_price', ylabel='last_price'>]],\n",
              "      dtype=object)"
            ]
          },
          "execution_count": 33,
          "metadata": {},
          "output_type": "execute_result"
        },
        {
          "data": {
            "image/png": "[encoded data removed]",
            "text/plain": [
              "<Figure size 1080x1080 with 49 Axes>"
            ]
          },
          "metadata": {
            "needs_background": "light"
          },
          "output_type": "display_data"
        }
      ],
      "source": [
        "analysis_by_parameters = df[['total_area', 'rooms', 'city_centers_nearest', 'floor_category', 'year_exposition', 'month_exposition', 'weekday_exposition', 'last_price']]\n",
        "pd.plotting.scatter_matrix(analysis_by_parameters, figsize=(15, 15))"
      ]
    },
    {
      "cell_type": "markdown",
      "metadata": {
        "id": "7qF89RKqKeX3"
      },
      "source": [
        "<b>Детальное изучение десяти населённых пунктов - рекордсменов по количеству объявлений.</b>"
      ]
    },
    {
      "cell_type": "code",
      "execution_count": null,
      "metadata": {
        "id": "EqREg4H4KeX3",
        "outputId": "3862ba6d-5c7f-4a72-b3af-977ae8f293f4"
      },
      "outputs": [
        {
          "data": {
            "text/plain": [
              "Санкт-Петербург      14455\n",
              "посёлок Мурино         518\n",
              "посёлок Шушары         436\n",
              "Всеволожск             394\n",
              "Пушкин                 347\n",
              "Колпино                336\n",
              "посёлок Парголово      326\n",
              "Гатчина                303\n",
              "деревня Кудрово        298\n",
              "Выборг                 224\n",
              "Name: locality_name, dtype: int64"
            ]
          },
          "metadata": {},
          "output_type": "display_data"
        }
      ],
      "source": [
        "#Создание переменной со списком топ-10 локаций по количеству объявлений и вывод списка.\n",
        "locality_top_10 = df['locality_name'].value_counts().head(10)\n",
        "display(locality_top_10)"
      ]
    },
    {
      "cell_type": "code",
      "execution_count": null,
      "metadata": {
        "id": "9tI3QOWpKeX4",
        "outputId": "5ef47cd4-68d9-4091-a9d8-9714430c4137"
      },
      "outputs": [
        {
          "data": {
            "text/html": [
              "<div>\n",
              "<style scoped>\n",
              "    .dataframe tbody tr th:only-of-type {\n",
              "        vertical-align: middle;\n",
              "    }\n",
              "\n",
              "    .dataframe tbody tr th {\n",
              "        vertical-align: top;\n",
              "    }\n",
              "\n",
              "    .dataframe thead th {\n",
              "        text-align: right;\n",
              "    }\n",
              "</style>\n",
              "<table border=\"1\" class=\"dataframe\">\n",
              "  <thead>\n",
              "    <tr style=\"text-align: right;\">\n",
              "      <th></th>\n",
              "      <th>price_per_sq_meter</th>\n",
              "    </tr>\n",
              "    <tr>\n",
              "      <th>locality_name</th>\n",
              "      <th></th>\n",
              "    </tr>\n",
              "  </thead>\n",
              "  <tbody>\n",
              "    <tr>\n",
              "      <th>Всеволожск</th>\n",
              "      <td>68738.959134</td>\n",
              "    </tr>\n",
              "    <tr>\n",
              "      <th>Выборг</th>\n",
              "      <td>58243.741445</td>\n",
              "    </tr>\n",
              "    <tr>\n",
              "      <th>Гатчина</th>\n",
              "      <td>68931.687349</td>\n",
              "    </tr>\n",
              "    <tr>\n",
              "      <th>Колпино</th>\n",
              "      <td>75370.025473</td>\n",
              "    </tr>\n",
              "    <tr>\n",
              "      <th>Пушкин</th>\n",
              "      <td>101960.374907</td>\n",
              "    </tr>\n",
              "    <tr>\n",
              "      <th>Санкт-Петербург</th>\n",
              "      <td>110634.960036</td>\n",
              "    </tr>\n",
              "    <tr>\n",
              "      <th>деревня Кудрово</th>\n",
              "      <td>92409.726322</td>\n",
              "    </tr>\n",
              "    <tr>\n",
              "      <th>посёлок Мурино</th>\n",
              "      <td>85645.903323</td>\n",
              "    </tr>\n",
              "    <tr>\n",
              "      <th>посёлок Парголово</th>\n",
              "      <td>90332.263023</td>\n",
              "    </tr>\n",
              "    <tr>\n",
              "      <th>посёлок Шушары</th>\n",
              "      <td>78578.068204</td>\n",
              "    </tr>\n",
              "  </tbody>\n",
              "</table>\n",
              "</div>"
            ],
            "text/plain": [
              "                   price_per_sq_meter\n",
              "locality_name                        \n",
              "Всеволожск               68738.959134\n",
              "Выборг                   58243.741445\n",
              "Гатчина                  68931.687349\n",
              "Колпино                  75370.025473\n",
              "Пушкин                  101960.374907\n",
              "Санкт-Петербург         110634.960036\n",
              "деревня Кудрово          92409.726322\n",
              "посёлок Мурино           85645.903323\n",
              "посёлок Парголово        90332.263023\n",
              "посёлок Шушары           78578.068204"
            ]
          },
          "execution_count": 35,
          "metadata": {},
          "output_type": "execute_result"
        }
      ],
      "source": [
        "#Вывод средней стоимости за квадратный метр.\n",
        "df.query('locality_name in @locality_top_10.index').pivot_table(index='locality_name', values='price_per_sq_meter')"
      ]
    },
    {
      "cell_type": "markdown",
      "metadata": {
        "id": "Tq7HKi8QKeX4"
      },
      "source": [
        "Вывод: самая высокая средняя стоимость за квадратный метр в Санкт-Петербурге и Пушкине, самая низкая - в Выборге."
      ]
    },
    {
      "cell_type": "markdown",
      "metadata": {
        "id": "DAVVvWO9KeX4"
      },
      "source": [
        "<b>Выяснение, какая область входит в центр.</b>"
      ]
    },
    {
      "cell_type": "markdown",
      "metadata": {
        "id": "HbClZdh2KeX4"
      },
      "source": [
        "Создание столбца с расстоянием до центра в километрах с округлением до целого."
      ]
    },
    {
      "cell_type": "code",
      "execution_count": null,
      "metadata": {
        "id": "rhBgtjYWKeX5"
      },
      "outputs": [],
      "source": [
        "df['city_center_nearest_km'] = (df['city_centers_nearest']/1000).round()"
      ]
    },
    {
      "cell_type": "markdown",
      "metadata": {
        "id": "-FB1i2TIKeX5"
      },
      "source": [
        "Определение центральной области."
      ]
    },
    {
      "cell_type": "code",
      "execution_count": null,
      "metadata": {
        "id": "VsfwAcJNKeX5",
        "outputId": "78c5903d-63d1-4bc7-90e3-d42e669706f9"
      },
      "outputs": [
        {
          "data": {
            "text/plain": [
              "<AxesSubplot:xlabel='city_center_nearest_km'>"
            ]
          },
          "execution_count": 37,
          "metadata": {},
          "output_type": "execute_result"
        },
        {
          "data": {
            "image/png": "[encoded data removed]",
            "text/plain": [
              "<Figure size 864x360 with 1 Axes>"
            ]
          },
          "metadata": {
            "needs_background": "light"
          },
          "output_type": "display_data"
        }
      ],
      "source": [
        "#Градация по километрам в Санкт-Петербурге.\n",
        "gradation_by_km = df.query('locality_name == \"Санкт-Петербург\"')['city_center_nearest_km'].value_counts()\n",
        "\n",
        "#Средняя цена квартиры для каждого километра.\n",
        "(\n",
        "    df\n",
        "    .query('(city_center_nearest_km in @gradation_by_km.index) and (locality_name == \"Санкт-Петербург\")')\n",
        "    .pivot_table(index='city_center_nearest_km', values='last_price')\n",
        "    .plot(grid=True, figsize=(12, 5))\n",
        ")"
      ]
    },
    {
      "cell_type": "markdown",
      "metadata": {
        "id": "MmMtJ5g_KeX6"
      },
      "source": [
        "Границы центральной области: \"яма\" на 2.5-3 км. может означать, что там продаётся жильё без ремонта, например, в совсем плохом состоянии, а после 5 км. начинается окончательное снижение цен. <b>За центральную область принимаю радиус 5 км.</b>"
      ]
    },
    {
      "cell_type": "markdown",
      "metadata": {
        "id": "LYhciS-LKeX6"
      },
      "source": [
        "<b>Детальное изучение квартир в центре города.</b>"
      ]
    },
    {
      "cell_type": "markdown",
      "metadata": {
        "id": "-yzoaliQKeX7"
      },
      "source": [
        "Выделим сегмент квартир в центре."
      ]
    },
    {
      "cell_type": "code",
      "execution_count": null,
      "metadata": {
        "id": "Bc2kjIxqKeX7",
        "outputId": "7802be2a-5e48-402b-dc0e-8ee601062024"
      },
      "outputs": [
        {
          "name": "stdout",
          "output_type": "stream",
          "text": [
            "<class 'pandas.core.frame.DataFrame'>\n",
            "Int64Index: 1880 entries, 24 to 23691\n",
            "Data columns (total 30 columns):\n",
            " #   Column                  Non-Null Count  Dtype         \n",
            "---  ------                  --------------  -----         \n",
            " 0   total_images            1880 non-null   int64         \n",
            " 1   last_price              1880 non-null   int64         \n",
            " 2   total_area              1880 non-null   float64       \n",
            " 3   first_day_exposition    1880 non-null   datetime64[ns]\n",
            " 4   rooms                   1880 non-null   int64         \n",
            " 5   ceiling_height          1880 non-null   float64       \n",
            " 6   floors_total            1880 non-null   int64         \n",
            " 7   living_area             1754 non-null   float64       \n",
            " 8   floor                   1880 non-null   int64         \n",
            " 9   is_apartment            1880 non-null   bool          \n",
            " 10  studio                  1880 non-null   bool          \n",
            " 11  open_plan               1880 non-null   bool          \n",
            " 12  kitchen_area            1718 non-null   float64       \n",
            " 13  balcony                 1880 non-null   int64         \n",
            " 14  locality_name           1880 non-null   object        \n",
            " 15  airports_nearest        1879 non-null   float64       \n",
            " 16  city_centers_nearest    1880 non-null   float64       \n",
            " 17  parks_around_3000       1880 non-null   float64       \n",
            " 18  parks_nearest           1198 non-null   float64       \n",
            " 19  ponds_around_3000       1880 non-null   float64       \n",
            " 20  ponds_nearest           1376 non-null   float64       \n",
            " 21  days_exposition         1603 non-null   float64       \n",
            " 22  price_per_sq_meter      1880 non-null   float64       \n",
            " 23  year_exposition         1880 non-null   int64         \n",
            " 24  month_exposition        1880 non-null   int64         \n",
            " 25  weekday_exposition      1880 non-null   int64         \n",
            " 26  floor_category          1880 non-null   object        \n",
            " 27  living_area_ratio       1754 non-null   float64       \n",
            " 28  kitchen_area_ratio      1718 non-null   float64       \n",
            " 29  city_center_nearest_km  1880 non-null   float64       \n",
            "dtypes: bool(3), datetime64[ns](1), float64(15), int64(9), object(2)\n",
            "memory usage: 416.8+ KB\n"
          ]
        }
      ],
      "source": [
        "#quarters_in_center = df.query('(locality_name == \"Санкт-Петербург\") and (city_center_nearest_km <= 2.5)')\n",
        "quarters_in_center = df.query('(locality_name == \"Санкт-Петербург\") and (city_center_nearest_km <= 5)')\n",
        "quarters_in_center.info()"
      ]
    },
    {
      "cell_type": "markdown",
      "metadata": {
        "id": "rXL99W1ZKeX7"
      },
      "source": [
        "Изучение следующих параметров этих квартир: площадь, цена, число комнат, высота потолков."
      ]
    },
    {
      "cell_type": "code",
      "execution_count": null,
      "metadata": {
        "scrolled": true,
        "id": "WU5Meuk4KeX7",
        "outputId": "c7573a2d-db76-4ba0-de75-d7aba9ca676c"
      },
      "outputs": [
        {
          "data": {
            "text/plain": [
              "count    1880.000000\n",
              "mean       71.463585\n",
              "std        22.274066\n",
              "min        12.000000\n",
              "25%        54.775000\n",
              "50%        70.950000\n",
              "75%        89.400000\n",
              "max       113.900000\n",
              "Name: total_area, dtype: float64"
            ]
          },
          "metadata": {},
          "output_type": "display_data"
        },
        {
          "data": {
            "text/plain": [
              "<AxesSubplot:>"
            ]
          },
          "execution_count": 39,
          "metadata": {},
          "output_type": "execute_result"
        },
        {
          "data": {
            "image/png": "[encoded data removed]",
            "text/plain": [
              "<Figure size 432x288 with 1 Axes>"
            ]
          },
          "metadata": {
            "needs_background": "light"
          },
          "output_type": "display_data"
        }
      ],
      "source": [
        "#Анализ площадей.\n",
        "display(quarters_in_center['total_area'].describe())\n",
        "quarters_in_center['total_area'].hist(bins=100, range=(20, 120))"
      ]
    },
    {
      "cell_type": "markdown",
      "metadata": {
        "id": "aazw2mcBKeX8"
      },
      "source": [
        "Вывод: большинство квартир с площадью от 40 до 100 кв.м., что больше, чем по всей базе в среднем."
      ]
    },
    {
      "cell_type": "code",
      "execution_count": null,
      "metadata": {
        "scrolled": true,
        "id": "IrorsxJkKeX8",
        "outputId": "7def0633-6d99-4941-90c6-bb81a0cbf950"
      },
      "outputs": [
        {
          "data": {
            "text/plain": [
              "count    1.880000e+03\n",
              "mean     9.439024e+06\n",
              "std      5.180670e+06\n",
              "min      1.600000e+06\n",
              "25%      6.499750e+06\n",
              "50%      8.200000e+06\n",
              "75%      1.090000e+07\n",
              "max      5.300000e+07\n",
              "Name: last_price, dtype: float64"
            ]
          },
          "metadata": {},
          "output_type": "display_data"
        },
        {
          "data": {
            "text/plain": [
              "<AxesSubplot:>"
            ]
          },
          "execution_count": 40,
          "metadata": {},
          "output_type": "execute_result"
        },
        {
          "data": {
            "image/png": "[encoded data removed]",
            "text/plain": [
              "<Figure size 432x288 with 1 Axes>"
            ]
          },
          "metadata": {
            "needs_background": "light"
          },
          "output_type": "display_data"
        }
      ],
      "source": [
        "#Анализ стоимости.\n",
        "display(quarters_in_center['last_price'].describe())\n",
        "quarters_in_center['last_price'].hist(bins=30, range=(5000000, 20000000))"
      ]
    },
    {
      "cell_type": "markdown",
      "metadata": {
        "id": "1C-yVzFKKeX8"
      },
      "source": [
        "Вывод: основная масса квартир имеет стоимость около 80-90 млн. Это гораздо дороже, чем в среднем по базе данных."
      ]
    },
    {
      "cell_type": "code",
      "execution_count": null,
      "metadata": {
        "id": "d-v_M27NKeX8",
        "outputId": "206ce80e-c5b4-41e9-f1fe-cfc81d50c28a"
      },
      "outputs": [
        {
          "data": {
            "text/plain": [
              "count    1880.000000\n",
              "mean        2.446809\n",
              "std         0.973486\n",
              "min         0.000000\n",
              "25%         2.000000\n",
              "50%         2.000000\n",
              "75%         3.000000\n",
              "max         6.000000\n",
              "Name: rooms, dtype: float64"
            ]
          },
          "metadata": {},
          "output_type": "display_data"
        },
        {
          "data": {
            "text/plain": [
              "<AxesSubplot:>"
            ]
          },
          "execution_count": 41,
          "metadata": {},
          "output_type": "execute_result"
        },
        {
          "data": {
            "image/png": "[encoded data removed]",
            "text/plain": [
              "<Figure size 432x288 with 1 Axes>"
            ]
          },
          "metadata": {
            "needs_background": "light"
          },
          "output_type": "display_data"
        }
      ],
      "source": [
        "#Анализ количетсва комнат.\n",
        "display(quarters_in_center['rooms'].describe())\n",
        "quarters_in_center['rooms'].hist(bins=10, range=(0, 4))"
      ]
    },
    {
      "cell_type": "markdown",
      "metadata": {
        "id": "LXBzEJsWKeX9"
      },
      "source": [
        "Вывод: большая часть квартир имеют две или три комнаты. В среднем по базе - 1-2 комнаты."
      ]
    },
    {
      "cell_type": "code",
      "execution_count": null,
      "metadata": {
        "id": "V-5PmrlJKeX9",
        "outputId": "85aa0998-ec4c-4da8-b773-4588d13eba97"
      },
      "outputs": [
        {
          "data": {
            "text/plain": [
              "count    1880.000000\n",
              "mean        2.936234\n",
              "std         0.345614\n",
              "min         2.400000\n",
              "25%         2.640000\n",
              "50%         2.820000\n",
              "75%         3.150000\n",
              "max         4.370000\n",
              "Name: ceiling_height, dtype: float64"
            ]
          },
          "metadata": {},
          "output_type": "display_data"
        },
        {
          "data": {
            "text/plain": [
              "<AxesSubplot:>"
            ]
          },
          "execution_count": 42,
          "metadata": {},
          "output_type": "execute_result"
        },
        {
          "data": {
            "image/png": "[encoded data removed]",
            "text/plain": [
              "<Figure size 432x288 with 1 Axes>"
            ]
          },
          "metadata": {
            "needs_background": "light"
          },
          "output_type": "display_data"
        }
      ],
      "source": [
        "#Анализ высоты потолков.\n",
        "display(quarters_in_center['ceiling_height'].describe())\n",
        "quarters_in_center['ceiling_height'].hist(bins=10, range=(2, 5))"
      ]
    },
    {
      "cell_type": "markdown",
      "metadata": {
        "id": "xx-C3kTcKeX9"
      },
      "source": [
        "Вывод: высота потолков у большинства квартир от 2.6 до 2.9 м. И это соответствует средним значениям по базе."
      ]
    },
    {
      "cell_type": "markdown",
      "metadata": {
        "id": "EtXDb-LqKeX9"
      },
      "source": [
        "Выделение факторов, влияющих на стоимость квартир в центре."
      ]
    },
    {
      "cell_type": "code",
      "execution_count": null,
      "metadata": {
        "id": "vduDCtEYKeX9",
        "outputId": "6683f4f3-6882-4e6d-ad26-832795c7bcdc"
      },
      "outputs": [
        {
          "data": {
            "text/plain": [
              "'Коэффициент корреляции между площадью и стоимостью:'"
            ]
          },
          "metadata": {},
          "output_type": "display_data"
        },
        {
          "data": {
            "text/plain": [
              "0.5199952893447635"
            ]
          },
          "metadata": {},
          "output_type": "display_data"
        },
        {
          "data": {
            "text/plain": [
              "'Коэффициент корреляции между числом комнат и стоимостью:'"
            ]
          },
          "metadata": {},
          "output_type": "display_data"
        },
        {
          "data": {
            "text/plain": [
              "0.20862671973635744"
            ]
          },
          "metadata": {},
          "output_type": "display_data"
        },
        {
          "data": {
            "text/plain": [
              "'Коэффициент корреляции между расстоянием до центра и стоимостью:'"
            ]
          },
          "metadata": {},
          "output_type": "display_data"
        },
        {
          "data": {
            "text/plain": [
              "-0.08651271051307355"
            ]
          },
          "metadata": {},
          "output_type": "display_data"
        }
      ],
      "source": [
        "display('Коэффициент корреляции между площадью и стоимостью:', quarters_in_center['total_area'].corr(df['last_price']))\n",
        "display('Коэффициент корреляции между числом комнат и стоимостью:', quarters_in_center['rooms'].corr(df['last_price']))\n",
        "display('Коэффициент корреляции между расстоянием до центра и стоимостью:', quarters_in_center['city_centers_nearest'].corr(df['last_price']))"
      ]
    },
    {
      "cell_type": "markdown",
      "metadata": {
        "id": "e-dUmxBpKeX-"
      },
      "source": [
        "Выводы: между площадью и стоимостью имеется прямая зависимость (как и в базе в целом), число комнат и расстояние до центра практически не влияют на стоимость этих квартир (по базе - расстояние до центра имеет значение)."
      ]
    },
    {
      "cell_type": "code",
      "execution_count": null,
      "metadata": {
        "id": "ovdnguoZKeX-",
        "outputId": "a5cbf5d7-98f9-4421-ae80-7a258cb4c80f"
      },
      "outputs": [
        {
          "data": {
            "text/html": [
              "<div>\n",
              "<style scoped>\n",
              "    .dataframe tbody tr th:only-of-type {\n",
              "        vertical-align: middle;\n",
              "    }\n",
              "\n",
              "    .dataframe tbody tr th {\n",
              "        vertical-align: top;\n",
              "    }\n",
              "\n",
              "    .dataframe thead th {\n",
              "        text-align: right;\n",
              "    }\n",
              "</style>\n",
              "<table border=\"1\" class=\"dataframe\">\n",
              "  <thead>\n",
              "    <tr style=\"text-align: right;\">\n",
              "      <th></th>\n",
              "      <th>last_price</th>\n",
              "    </tr>\n",
              "    <tr>\n",
              "      <th>floor_category</th>\n",
              "      <th></th>\n",
              "    </tr>\n",
              "  </thead>\n",
              "  <tbody>\n",
              "    <tr>\n",
              "      <th>другой</th>\n",
              "      <td>9.902976e+06</td>\n",
              "    </tr>\n",
              "    <tr>\n",
              "      <th>первый</th>\n",
              "      <td>7.316704e+06</td>\n",
              "    </tr>\n",
              "    <tr>\n",
              "      <th>последний</th>\n",
              "      <td>9.262149e+06</td>\n",
              "    </tr>\n",
              "  </tbody>\n",
              "</table>\n",
              "</div>"
            ],
            "text/plain": [
              "                  last_price\n",
              "floor_category              \n",
              "другой          9.902976e+06\n",
              "первый          7.316704e+06\n",
              "последний       9.262149e+06"
            ]
          },
          "execution_count": 44,
          "metadata": {},
          "output_type": "execute_result"
        }
      ],
      "source": [
        "#Связь между этажом и стоимостью.\n",
        "quarters_in_center.pivot_table(index='floor_category', values='last_price')"
      ]
    },
    {
      "cell_type": "markdown",
      "metadata": {
        "id": "4l_dWRssKeX-"
      },
      "source": [
        "Самый дешёвый этаж - первый, следом - последний, на других этажах квартиры с более высокой ценой."
      ]
    },
    {
      "cell_type": "code",
      "execution_count": null,
      "metadata": {
        "id": "b-HmbTasKeX_",
        "outputId": "3e7c1b2a-70b4-45c2-fce9-9c9cd0f3495b"
      },
      "outputs": [
        {
          "data": {
            "text/html": [
              "<div>\n",
              "<style scoped>\n",
              "    .dataframe tbody tr th:only-of-type {\n",
              "        vertical-align: middle;\n",
              "    }\n",
              "\n",
              "    .dataframe tbody tr th {\n",
              "        vertical-align: top;\n",
              "    }\n",
              "\n",
              "    .dataframe thead th {\n",
              "        text-align: right;\n",
              "    }\n",
              "</style>\n",
              "<table border=\"1\" class=\"dataframe\">\n",
              "  <thead>\n",
              "    <tr style=\"text-align: right;\">\n",
              "      <th></th>\n",
              "      <th>last_price</th>\n",
              "    </tr>\n",
              "    <tr>\n",
              "      <th>year_exposition</th>\n",
              "      <th></th>\n",
              "    </tr>\n",
              "  </thead>\n",
              "  <tbody>\n",
              "    <tr>\n",
              "      <th>2014</th>\n",
              "      <td>1.837866e+07</td>\n",
              "    </tr>\n",
              "    <tr>\n",
              "      <th>2015</th>\n",
              "      <td>9.277335e+06</td>\n",
              "    </tr>\n",
              "    <tr>\n",
              "      <th>2016</th>\n",
              "      <td>8.822373e+06</td>\n",
              "    </tr>\n",
              "    <tr>\n",
              "      <th>2017</th>\n",
              "      <td>9.189822e+06</td>\n",
              "    </tr>\n",
              "    <tr>\n",
              "      <th>2018</th>\n",
              "      <td>9.493305e+06</td>\n",
              "    </tr>\n",
              "    <tr>\n",
              "      <th>2019</th>\n",
              "      <td>1.069342e+07</td>\n",
              "    </tr>\n",
              "  </tbody>\n",
              "</table>\n",
              "</div>"
            ],
            "text/plain": [
              "                   last_price\n",
              "year_exposition              \n",
              "2014             1.837866e+07\n",
              "2015             9.277335e+06\n",
              "2016             8.822373e+06\n",
              "2017             9.189822e+06\n",
              "2018             9.493305e+06\n",
              "2019             1.069342e+07"
            ]
          },
          "execution_count": 45,
          "metadata": {},
          "output_type": "execute_result"
        }
      ],
      "source": [
        "#Связь между стоимостью квартиры и годом публикации объявления.\n",
        "quarters_in_center.pivot_table(index='year_exposition', values='last_price')"
      ]
    },
    {
      "cell_type": "markdown",
      "metadata": {
        "id": "KO1_Gy7RKeYE"
      },
      "source": [
        "Вывод: наиболее дорогие квартиры были выставлены на продажу в 2014 и 2019 годах. Что частично соответствует данным по базе в целом - самый дорогой год был 2014."
      ]
    },
    {
      "cell_type": "code",
      "execution_count": null,
      "metadata": {
        "id": "ltOufGpUKeYE",
        "outputId": "40e3b3fb-907d-40cb-e8f5-512e6c59e7e9"
      },
      "outputs": [
        {
          "data": {
            "text/html": [
              "<div>\n",
              "<style scoped>\n",
              "    .dataframe tbody tr th:only-of-type {\n",
              "        vertical-align: middle;\n",
              "    }\n",
              "\n",
              "    .dataframe tbody tr th {\n",
              "        vertical-align: top;\n",
              "    }\n",
              "\n",
              "    .dataframe thead th {\n",
              "        text-align: right;\n",
              "    }\n",
              "</style>\n",
              "<table border=\"1\" class=\"dataframe\">\n",
              "  <thead>\n",
              "    <tr style=\"text-align: right;\">\n",
              "      <th></th>\n",
              "      <th>last_price</th>\n",
              "    </tr>\n",
              "    <tr>\n",
              "      <th>month_exposition</th>\n",
              "      <th></th>\n",
              "    </tr>\n",
              "  </thead>\n",
              "  <tbody>\n",
              "    <tr>\n",
              "      <th>1</th>\n",
              "      <td>9.835566e+06</td>\n",
              "    </tr>\n",
              "    <tr>\n",
              "      <th>2</th>\n",
              "      <td>9.975207e+06</td>\n",
              "    </tr>\n",
              "    <tr>\n",
              "      <th>3</th>\n",
              "      <td>1.006708e+07</td>\n",
              "    </tr>\n",
              "    <tr>\n",
              "      <th>4</th>\n",
              "      <td>9.893181e+06</td>\n",
              "    </tr>\n",
              "    <tr>\n",
              "      <th>5</th>\n",
              "      <td>8.432069e+06</td>\n",
              "    </tr>\n",
              "    <tr>\n",
              "      <th>6</th>\n",
              "      <td>8.948895e+06</td>\n",
              "    </tr>\n",
              "    <tr>\n",
              "      <th>7</th>\n",
              "      <td>9.213038e+06</td>\n",
              "    </tr>\n",
              "    <tr>\n",
              "      <th>8</th>\n",
              "      <td>9.477723e+06</td>\n",
              "    </tr>\n",
              "    <tr>\n",
              "      <th>9</th>\n",
              "      <td>9.344504e+06</td>\n",
              "    </tr>\n",
              "    <tr>\n",
              "      <th>10</th>\n",
              "      <td>9.365908e+06</td>\n",
              "    </tr>\n",
              "    <tr>\n",
              "      <th>11</th>\n",
              "      <td>9.250739e+06</td>\n",
              "    </tr>\n",
              "    <tr>\n",
              "      <th>12</th>\n",
              "      <td>8.747563e+06</td>\n",
              "    </tr>\n",
              "  </tbody>\n",
              "</table>\n",
              "</div>"
            ],
            "text/plain": [
              "                    last_price\n",
              "month_exposition              \n",
              "1                 9.835566e+06\n",
              "2                 9.975207e+06\n",
              "3                 1.006708e+07\n",
              "4                 9.893181e+06\n",
              "5                 8.432069e+06\n",
              "6                 8.948895e+06\n",
              "7                 9.213038e+06\n",
              "8                 9.477723e+06\n",
              "9                 9.344504e+06\n",
              "10                9.365908e+06\n",
              "11                9.250739e+06\n",
              "12                8.747563e+06"
            ]
          },
          "execution_count": 46,
          "metadata": {},
          "output_type": "execute_result"
        }
      ],
      "source": [
        "#Связь между стоимостью квартиры и месяцем публикации объявления.\n",
        "quarters_in_center.pivot_table(index='month_exposition', values='last_price')"
      ]
    },
    {
      "cell_type": "markdown",
      "metadata": {
        "id": "FPuy6JccKeYF"
      },
      "source": [
        "Вывод: самые дорогие квартиры выставлялись на продажу в марте. По всей базе связь не обнаружена."
      ]
    },
    {
      "cell_type": "code",
      "execution_count": null,
      "metadata": {
        "id": "NKcDoWaBKeYF",
        "outputId": "1188d2f7-4963-4470-b17d-97201191d9fc"
      },
      "outputs": [
        {
          "data": {
            "text/html": [
              "<div>\n",
              "<style scoped>\n",
              "    .dataframe tbody tr th:only-of-type {\n",
              "        vertical-align: middle;\n",
              "    }\n",
              "\n",
              "    .dataframe tbody tr th {\n",
              "        vertical-align: top;\n",
              "    }\n",
              "\n",
              "    .dataframe thead th {\n",
              "        text-align: right;\n",
              "    }\n",
              "</style>\n",
              "<table border=\"1\" class=\"dataframe\">\n",
              "  <thead>\n",
              "    <tr style=\"text-align: right;\">\n",
              "      <th></th>\n",
              "      <th>last_price</th>\n",
              "    </tr>\n",
              "    <tr>\n",
              "      <th>weekday_exposition</th>\n",
              "      <th></th>\n",
              "    </tr>\n",
              "  </thead>\n",
              "  <tbody>\n",
              "    <tr>\n",
              "      <th>0</th>\n",
              "      <td>9.689832e+06</td>\n",
              "    </tr>\n",
              "    <tr>\n",
              "      <th>1</th>\n",
              "      <td>9.486393e+06</td>\n",
              "    </tr>\n",
              "    <tr>\n",
              "      <th>2</th>\n",
              "      <td>9.394488e+06</td>\n",
              "    </tr>\n",
              "    <tr>\n",
              "      <th>3</th>\n",
              "      <td>9.849137e+06</td>\n",
              "    </tr>\n",
              "    <tr>\n",
              "      <th>4</th>\n",
              "      <td>9.016233e+06</td>\n",
              "    </tr>\n",
              "    <tr>\n",
              "      <th>5</th>\n",
              "      <td>8.625887e+06</td>\n",
              "    </tr>\n",
              "    <tr>\n",
              "      <th>6</th>\n",
              "      <td>9.513504e+06</td>\n",
              "    </tr>\n",
              "  </tbody>\n",
              "</table>\n",
              "</div>"
            ],
            "text/plain": [
              "                      last_price\n",
              "weekday_exposition              \n",
              "0                   9.689832e+06\n",
              "1                   9.486393e+06\n",
              "2                   9.394488e+06\n",
              "3                   9.849137e+06\n",
              "4                   9.016233e+06\n",
              "5                   8.625887e+06\n",
              "6                   9.513504e+06"
            ]
          },
          "execution_count": 47,
          "metadata": {},
          "output_type": "execute_result"
        }
      ],
      "source": [
        "#Связь между стоимостью квартиры и днём недели публикации объявления.\n",
        "quarters_in_center.pivot_table(index='weekday_exposition', values='last_price')"
      ]
    },
    {
      "cell_type": "markdown",
      "metadata": {
        "id": "QMI1qgT7KeYG"
      },
      "source": [
        "Вывод: наиболее дешёвые квартиры выставлялись на продажу по субботам. По базе в целом связи стоимости с днём недели нет."
      ]
    },
    {
      "cell_type": "markdown",
      "metadata": {
        "id": "M1cNGGJEKeYG"
      },
      "source": [
        "## Общий вывод"
      ]
    },
    {
      "cell_type": "markdown",
      "metadata": {
        "id": "pDf6_DqHKeYG"
      },
      "source": [
        "По итогам изучения предоставленного датасета можно сделать следующие выводы по представленным квартирам в целом:\n",
        "- Основная масса квартир представлена интервалом площадей от 25 до 80 кв.м.\n",
        "- Большинство квартир продаётся в диапазоне цен от 2 до 8 млн.\n",
        "- В основном на рынке представлены одно- и двухкомнатные квартиры. Также велика доля трёхкомнатных.\n",
        "- Большинство квартир на изучаемом рынке с высотой потолков 2.3 - 2.8 метра.\n",
        "- Большинство квартир продаётся в течение трёх месяцев.\n",
        "- Между площадью квартиры и её стоимостью прослеживается явная прямая зависимость. \n",
        "- Между числом комнат в квартире и её стоимостью зависимость довольно низкая. \n",
        "- Расстояние до центра и стоимость имеют обратную связь (чем больше один параметр, тем меньше другой).\n",
        "- В среднем, квартиры, расположенные на первом и последнем этажах, стоят ниже, чем те, которые находятся на других.\n",
        "- Квартиры с самой высокой стоимостью были выставлены на продажу в 2014 году. По остальным годам большой разницы в цене не наблюдается.\n",
        "- Между месяцем и днём недели публикации объявления о продаже квартиры и стоимостью квартиры связи нет.\n",
        "\n",
        "И отдельно по квартирам из центра города:\n",
        "- Большинство квартир с площадью от 40 до 100 кв.м.\n",
        "- Основная масса квартир имеет стоимость 80-90 млн.\n",
        "- Большая часть квартир имеют две или три комнаты.\n",
        "- Высота потолков у большинства квартир от 2.6 до 2.9 м.\n",
        "- Между площадью и стоимостью имеется прямая зависимость.\n",
        "- Число комнат и расстояние до центра практически не влияют на стоимость этих квартир.\n",
        "- В среднем, квартиры, расположенные на первом и последнем этажах, стоят ниже, чем те, которые находятся на других.\n",
        "- Наиболее дорогие квартиры были выставлены на продажу в 2014 и 2019 годах.\n",
        "- Самые дорогие квартиры выставлялись на продажу в марте.\n",
        "- Наиболее дешёвые квартиры выставлялись на продажу по субботам."
      ]
    }
  ],
  "metadata": {
    "ExecuteTimeLog": [
      {
        "duration": 465,
        "start_time": "2022-05-07T09:20:08.616Z"
      },
      {
        "duration": 62,
        "start_time": "2022-05-07T09:20:13.441Z"
      },
      {
        "duration": 69,
        "start_time": "2022-05-07T09:20:32.506Z"
      },
      {
        "duration": 90,
        "start_time": "2022-05-07T09:24:18.683Z"
      },
      {
        "duration": 97,
        "start_time": "2022-05-07T09:25:00.815Z"
      },
      {
        "duration": 99,
        "start_time": "2022-05-07T09:25:11.322Z"
      },
      {
        "duration": 98,
        "start_time": "2022-05-07T09:25:40.513Z"
      },
      {
        "duration": 71,
        "start_time": "2022-05-07T09:25:50.531Z"
      },
      {
        "duration": 83,
        "start_time": "2022-05-07T09:26:23.317Z"
      },
      {
        "duration": 70,
        "start_time": "2022-05-07T09:26:30.654Z"
      },
      {
        "duration": 71,
        "start_time": "2022-05-07T09:26:36.893Z"
      },
      {
        "duration": 66,
        "start_time": "2022-05-07T09:26:38.150Z"
      },
      {
        "duration": 83,
        "start_time": "2022-05-07T09:26:45.349Z"
      },
      {
        "duration": 88,
        "start_time": "2022-05-07T09:28:04.512Z"
      },
      {
        "duration": 76,
        "start_time": "2022-05-07T14:39:38.719Z"
      },
      {
        "duration": 622,
        "start_time": "2022-05-07T14:40:21.111Z"
      },
      {
        "duration": 56,
        "start_time": "2022-05-07T14:40:25.313Z"
      },
      {
        "duration": 45,
        "start_time": "2022-05-07T14:40:56.130Z"
      },
      {
        "duration": 41,
        "start_time": "2022-05-07T14:41:27.043Z"
      },
      {
        "duration": 26,
        "start_time": "2022-05-07T14:41:58.379Z"
      },
      {
        "duration": 13,
        "start_time": "2022-05-07T14:45:44.433Z"
      },
      {
        "duration": 2204,
        "start_time": "2022-05-07T15:02:04.841Z"
      },
      {
        "duration": 4,
        "start_time": "2022-05-07T15:02:28.492Z"
      },
      {
        "duration": 22,
        "start_time": "2022-05-07T15:02:41.969Z"
      },
      {
        "duration": 5,
        "start_time": "2022-05-07T15:03:12.744Z"
      },
      {
        "duration": 49,
        "start_time": "2022-05-07T15:08:59.230Z"
      },
      {
        "duration": 31,
        "start_time": "2022-05-07T15:10:02.290Z"
      },
      {
        "duration": 623,
        "start_time": "2022-05-07T15:25:13.267Z"
      },
      {
        "duration": 36,
        "start_time": "2022-05-07T15:25:13.894Z"
      },
      {
        "duration": 80,
        "start_time": "2022-05-07T15:25:13.932Z"
      },
      {
        "duration": 39,
        "start_time": "2022-05-07T15:25:14.016Z"
      },
      {
        "duration": 5,
        "start_time": "2022-05-07T15:25:17.892Z"
      },
      {
        "duration": 24,
        "start_time": "2022-05-07T15:35:23.712Z"
      },
      {
        "duration": 49,
        "start_time": "2022-05-07T15:35:51.631Z"
      },
      {
        "duration": 26,
        "start_time": "2022-05-07T15:36:11.337Z"
      },
      {
        "duration": 149,
        "start_time": "2022-05-07T15:36:18.077Z"
      },
      {
        "duration": 13,
        "start_time": "2022-05-07T15:36:57.648Z"
      },
      {
        "duration": 5,
        "start_time": "2022-05-07T15:37:24.519Z"
      },
      {
        "duration": 8,
        "start_time": "2022-05-07T15:37:33.629Z"
      },
      {
        "duration": 8,
        "start_time": "2022-05-07T15:38:07.569Z"
      },
      {
        "duration": 22,
        "start_time": "2022-05-07T15:44:57.525Z"
      },
      {
        "duration": 26,
        "start_time": "2022-05-07T15:45:14.440Z"
      },
      {
        "duration": 54,
        "start_time": "2022-05-07T15:45:28.094Z"
      },
      {
        "duration": 6,
        "start_time": "2022-05-07T15:46:31.758Z"
      },
      {
        "duration": 12,
        "start_time": "2022-05-07T15:53:48.034Z"
      },
      {
        "duration": 30,
        "start_time": "2022-05-07T15:53:54.183Z"
      },
      {
        "duration": 13,
        "start_time": "2022-05-07T15:58:48.774Z"
      },
      {
        "duration": 9,
        "start_time": "2022-05-07T15:59:14.984Z"
      },
      {
        "duration": 55,
        "start_time": "2022-05-07T15:59:37.162Z"
      },
      {
        "duration": 66,
        "start_time": "2022-05-07T16:01:53.495Z"
      },
      {
        "duration": 58,
        "start_time": "2022-05-07T16:07:06.478Z"
      },
      {
        "duration": 7,
        "start_time": "2022-05-07T16:07:28.217Z"
      },
      {
        "duration": 11,
        "start_time": "2022-05-07T16:07:51.953Z"
      },
      {
        "duration": 12,
        "start_time": "2022-05-07T16:08:25.393Z"
      },
      {
        "duration": 4,
        "start_time": "2022-05-07T16:17:05.825Z"
      },
      {
        "duration": 1875,
        "start_time": "2022-05-07T16:17:12.258Z"
      },
      {
        "duration": 66,
        "start_time": "2022-05-07T16:17:25.717Z"
      },
      {
        "duration": 63,
        "start_time": "2022-05-07T16:18:56.083Z"
      },
      {
        "duration": 31,
        "start_time": "2022-05-07T16:20:05.343Z"
      },
      {
        "duration": 15,
        "start_time": "2022-05-07T16:28:22.997Z"
      },
      {
        "duration": 5,
        "start_time": "2022-05-07T16:29:02.222Z"
      },
      {
        "duration": 50,
        "start_time": "2022-05-07T16:30:23.785Z"
      },
      {
        "duration": 76,
        "start_time": "2022-05-07T16:32:05.443Z"
      },
      {
        "duration": 47,
        "start_time": "2022-05-08T06:09:04.584Z"
      },
      {
        "duration": 524,
        "start_time": "2022-05-08T06:09:18.274Z"
      },
      {
        "duration": 15,
        "start_time": "2022-05-08T06:09:18.800Z"
      },
      {
        "duration": 31,
        "start_time": "2022-05-08T06:09:18.817Z"
      },
      {
        "duration": 8,
        "start_time": "2022-05-08T06:09:18.850Z"
      },
      {
        "duration": 4,
        "start_time": "2022-05-08T06:09:18.860Z"
      },
      {
        "duration": 6,
        "start_time": "2022-05-08T06:09:18.865Z"
      },
      {
        "duration": 34,
        "start_time": "2022-05-08T06:09:24.894Z"
      },
      {
        "duration": 2,
        "start_time": "2022-05-08T06:16:24.187Z"
      },
      {
        "duration": 23,
        "start_time": "2022-05-08T06:42:59.455Z"
      },
      {
        "duration": 43,
        "start_time": "2022-05-08T06:45:32.159Z"
      },
      {
        "duration": 1061,
        "start_time": "2022-05-08T06:46:32.996Z"
      },
      {
        "duration": 1058,
        "start_time": "2022-05-08T06:46:40.731Z"
      },
      {
        "duration": 9,
        "start_time": "2022-05-08T06:47:24.946Z"
      },
      {
        "duration": 26,
        "start_time": "2022-05-08T06:47:33.225Z"
      },
      {
        "duration": 23,
        "start_time": "2022-05-08T06:47:55.385Z"
      },
      {
        "duration": 3,
        "start_time": "2022-05-08T06:48:29.113Z"
      },
      {
        "duration": 108,
        "start_time": "2022-05-08T06:51:09.544Z"
      },
      {
        "duration": 47,
        "start_time": "2022-05-08T06:52:01.444Z"
      },
      {
        "duration": 12,
        "start_time": "2022-05-08T06:52:07.469Z"
      },
      {
        "duration": 1605,
        "start_time": "2022-05-08T06:56:19.194Z"
      },
      {
        "duration": 774,
        "start_time": "2022-05-08T06:57:09.297Z"
      },
      {
        "duration": 22,
        "start_time": "2022-05-08T07:02:17.071Z"
      },
      {
        "duration": 14,
        "start_time": "2022-05-08T07:03:40.436Z"
      },
      {
        "duration": 22,
        "start_time": "2022-05-08T07:05:51.189Z"
      },
      {
        "duration": 13,
        "start_time": "2022-05-08T07:06:38.009Z"
      },
      {
        "duration": 29,
        "start_time": "2022-05-08T07:10:18.700Z"
      },
      {
        "duration": 12,
        "start_time": "2022-05-08T07:14:20.656Z"
      },
      {
        "duration": 36,
        "start_time": "2022-05-08T07:20:44.100Z"
      },
      {
        "duration": 2,
        "start_time": "2022-05-08T07:24:53.265Z"
      },
      {
        "duration": 3,
        "start_time": "2022-05-08T07:25:01.141Z"
      },
      {
        "duration": 23,
        "start_time": "2022-05-08T07:29:33.160Z"
      },
      {
        "duration": 55,
        "start_time": "2022-05-08T07:32:40.128Z"
      },
      {
        "duration": 15,
        "start_time": "2022-05-08T07:34:54.895Z"
      },
      {
        "duration": 34,
        "start_time": "2022-05-08T07:34:55.302Z"
      },
      {
        "duration": 23,
        "start_time": "2022-05-08T07:35:23.580Z"
      },
      {
        "duration": 25,
        "start_time": "2022-05-08T07:35:46.671Z"
      },
      {
        "duration": 4,
        "start_time": "2022-05-08T07:36:25.049Z"
      },
      {
        "duration": 5,
        "start_time": "2022-05-08T07:43:54.787Z"
      },
      {
        "duration": 29,
        "start_time": "2022-05-08T07:45:56.550Z"
      },
      {
        "duration": 31,
        "start_time": "2022-05-08T07:53:05.761Z"
      },
      {
        "duration": 92,
        "start_time": "2022-05-09T15:00:24.153Z"
      },
      {
        "duration": 15,
        "start_time": "2022-05-09T15:00:35.786Z"
      },
      {
        "duration": 14,
        "start_time": "2022-05-09T15:00:59.238Z"
      },
      {
        "duration": 13,
        "start_time": "2022-05-09T15:01:22.808Z"
      },
      {
        "duration": 12,
        "start_time": "2022-05-09T15:01:40.834Z"
      },
      {
        "duration": 13,
        "start_time": "2022-05-09T15:02:24.321Z"
      },
      {
        "duration": 19,
        "start_time": "2022-05-09T15:02:42.045Z"
      },
      {
        "duration": 13,
        "start_time": "2022-05-09T15:02:51.684Z"
      },
      {
        "duration": 13,
        "start_time": "2022-05-09T15:02:57.766Z"
      },
      {
        "duration": 13,
        "start_time": "2022-05-09T15:03:04.168Z"
      },
      {
        "duration": 11,
        "start_time": "2022-05-09T15:11:46.552Z"
      },
      {
        "duration": 12,
        "start_time": "2022-05-09T15:24:11.354Z"
      },
      {
        "duration": 631,
        "start_time": "2022-05-09T15:24:31.233Z"
      },
      {
        "duration": 24,
        "start_time": "2022-05-09T15:24:31.867Z"
      },
      {
        "duration": 52,
        "start_time": "2022-05-09T15:24:31.893Z"
      },
      {
        "duration": 20,
        "start_time": "2022-05-09T15:24:31.948Z"
      },
      {
        "duration": 15,
        "start_time": "2022-05-09T15:24:31.972Z"
      },
      {
        "duration": 29,
        "start_time": "2022-05-09T15:24:31.991Z"
      },
      {
        "duration": 30,
        "start_time": "2022-05-09T15:24:32.026Z"
      },
      {
        "duration": 59,
        "start_time": "2022-05-09T15:24:32.058Z"
      },
      {
        "duration": 5,
        "start_time": "2022-05-09T15:24:32.125Z"
      },
      {
        "duration": 20,
        "start_time": "2022-05-09T15:24:32.133Z"
      },
      {
        "duration": 70,
        "start_time": "2022-05-09T15:24:32.156Z"
      },
      {
        "duration": 9,
        "start_time": "2022-05-09T15:24:37.558Z"
      },
      {
        "duration": 9,
        "start_time": "2022-05-09T15:24:45.964Z"
      },
      {
        "duration": 10,
        "start_time": "2022-05-09T15:24:50.951Z"
      },
      {
        "duration": 85,
        "start_time": "2022-05-09T15:24:57.488Z"
      },
      {
        "duration": 12,
        "start_time": "2022-05-09T15:25:04.816Z"
      },
      {
        "duration": 671,
        "start_time": "2022-05-09T15:27:24.971Z"
      },
      {
        "duration": 570,
        "start_time": "2022-05-09T15:28:06.666Z"
      },
      {
        "duration": 517,
        "start_time": "2022-05-09T15:43:46.410Z"
      },
      {
        "duration": 7,
        "start_time": "2022-05-09T15:47:26.729Z"
      },
      {
        "duration": 53,
        "start_time": "2022-05-09T15:47:36.687Z"
      },
      {
        "duration": 59,
        "start_time": "2022-05-09T15:47:54.311Z"
      },
      {
        "duration": 36,
        "start_time": "2022-05-09T15:50:24.147Z"
      },
      {
        "duration": 1141,
        "start_time": "2022-05-09T15:59:45.866Z"
      },
      {
        "duration": 700,
        "start_time": "2022-05-09T16:00:00.131Z"
      },
      {
        "duration": 405,
        "start_time": "2022-05-09T16:00:09.731Z"
      },
      {
        "duration": 23,
        "start_time": "2022-05-09T16:01:01.940Z"
      },
      {
        "duration": 484,
        "start_time": "2022-05-09T16:01:54.072Z"
      },
      {
        "duration": 413,
        "start_time": "2022-05-09T16:02:24.650Z"
      },
      {
        "duration": 296,
        "start_time": "2022-05-09T16:02:44.646Z"
      },
      {
        "duration": 2211,
        "start_time": "2022-05-09T16:02:58.616Z"
      },
      {
        "duration": 2256,
        "start_time": "2022-05-09T16:03:20.946Z"
      },
      {
        "duration": 2291,
        "start_time": "2022-05-09T16:03:45.985Z"
      },
      {
        "duration": 400,
        "start_time": "2022-05-09T16:03:53.880Z"
      },
      {
        "duration": 302,
        "start_time": "2022-05-09T16:04:13.466Z"
      },
      {
        "duration": 392,
        "start_time": "2022-05-09T16:04:20.311Z"
      },
      {
        "duration": 365,
        "start_time": "2022-05-09T16:04:35.338Z"
      },
      {
        "duration": 492,
        "start_time": "2022-05-09T16:11:28.414Z"
      },
      {
        "duration": 702,
        "start_time": "2022-05-09T16:12:31.092Z"
      },
      {
        "duration": 546,
        "start_time": "2022-05-09T16:15:39.567Z"
      },
      {
        "duration": 304,
        "start_time": "2022-05-09T16:16:26.852Z"
      },
      {
        "duration": 266,
        "start_time": "2022-05-09T16:16:44.150Z"
      },
      {
        "duration": 246,
        "start_time": "2022-05-09T16:17:13.888Z"
      },
      {
        "duration": 271,
        "start_time": "2022-05-09T16:17:35.188Z"
      },
      {
        "duration": 13,
        "start_time": "2022-05-09T16:19:41.595Z"
      },
      {
        "duration": 37,
        "start_time": "2022-05-09T16:20:52.558Z"
      },
      {
        "duration": 449,
        "start_time": "2022-05-09T16:21:08.297Z"
      },
      {
        "duration": 374,
        "start_time": "2022-05-09T16:21:22.803Z"
      },
      {
        "duration": 445,
        "start_time": "2022-05-09T16:21:34.053Z"
      },
      {
        "duration": 507,
        "start_time": "2022-05-09T16:21:48.349Z"
      },
      {
        "duration": 246,
        "start_time": "2022-05-09T16:21:58.175Z"
      },
      {
        "duration": 71,
        "start_time": "2022-05-11T15:15:18.482Z"
      },
      {
        "duration": 494,
        "start_time": "2022-05-11T15:15:27.886Z"
      },
      {
        "duration": 16,
        "start_time": "2022-05-11T15:15:28.382Z"
      },
      {
        "duration": 29,
        "start_time": "2022-05-11T15:15:28.400Z"
      },
      {
        "duration": 21,
        "start_time": "2022-05-11T15:15:28.431Z"
      },
      {
        "duration": 3,
        "start_time": "2022-05-11T15:15:28.453Z"
      },
      {
        "duration": 5,
        "start_time": "2022-05-11T15:15:28.458Z"
      },
      {
        "duration": 13,
        "start_time": "2022-05-11T15:15:28.464Z"
      },
      {
        "duration": 34,
        "start_time": "2022-05-11T15:15:28.478Z"
      },
      {
        "duration": 3,
        "start_time": "2022-05-11T15:15:28.547Z"
      },
      {
        "duration": 7,
        "start_time": "2022-05-11T15:15:28.552Z"
      },
      {
        "duration": 33,
        "start_time": "2022-05-11T15:15:28.561Z"
      },
      {
        "duration": 362,
        "start_time": "2022-05-11T15:15:28.596Z"
      },
      {
        "duration": 22,
        "start_time": "2022-05-11T15:15:28.960Z"
      },
      {
        "duration": 25,
        "start_time": "2022-05-11T15:15:28.984Z"
      },
      {
        "duration": 622,
        "start_time": "2022-05-11T15:15:29.011Z"
      },
      {
        "duration": 240,
        "start_time": "2022-05-11T15:15:29.635Z"
      },
      {
        "duration": 207,
        "start_time": "2022-05-11T15:15:29.876Z"
      },
      {
        "duration": 131,
        "start_time": "2022-05-11T15:15:30.085Z"
      },
      {
        "duration": 180,
        "start_time": "2022-05-11T15:15:36.657Z"
      },
      {
        "duration": 164,
        "start_time": "2022-05-11T15:46:51.619Z"
      },
      {
        "duration": 161,
        "start_time": "2022-05-11T15:47:27.029Z"
      },
      {
        "duration": 157,
        "start_time": "2022-05-11T15:47:54.054Z"
      },
      {
        "duration": 242,
        "start_time": "2022-05-11T15:48:13.262Z"
      },
      {
        "duration": 157,
        "start_time": "2022-05-11T15:48:59.506Z"
      },
      {
        "duration": 204,
        "start_time": "2022-05-11T15:50:35.299Z"
      },
      {
        "duration": 1183,
        "start_time": "2022-05-11T15:50:47.340Z"
      },
      {
        "duration": 110,
        "start_time": "2022-05-11T15:51:03.218Z"
      },
      {
        "duration": 268,
        "start_time": "2022-05-11T15:51:14.053Z"
      },
      {
        "duration": 204,
        "start_time": "2022-05-11T15:51:30.180Z"
      },
      {
        "duration": 327,
        "start_time": "2022-05-11T15:52:12.162Z"
      },
      {
        "duration": 29,
        "start_time": "2022-05-11T16:13:27.666Z"
      },
      {
        "duration": 203,
        "start_time": "2022-05-11T16:15:10.678Z"
      },
      {
        "duration": 200,
        "start_time": "2022-05-11T16:19:45.821Z"
      },
      {
        "duration": 208,
        "start_time": "2022-05-11T16:20:05.776Z"
      },
      {
        "duration": 235,
        "start_time": "2022-05-11T16:20:19.300Z"
      },
      {
        "duration": 210,
        "start_time": "2022-05-11T16:20:57.588Z"
      },
      {
        "duration": 205,
        "start_time": "2022-05-11T16:21:01.120Z"
      },
      {
        "duration": 391,
        "start_time": "2022-05-11T16:21:19.972Z"
      },
      {
        "duration": 197,
        "start_time": "2022-05-11T16:21:27.630Z"
      },
      {
        "duration": 223,
        "start_time": "2022-05-11T16:24:30.233Z"
      },
      {
        "duration": 218,
        "start_time": "2022-05-11T16:24:37.935Z"
      },
      {
        "duration": 199,
        "start_time": "2022-05-11T16:24:49.949Z"
      },
      {
        "duration": 128,
        "start_time": "2022-05-11T16:27:17.733Z"
      },
      {
        "duration": 116,
        "start_time": "2022-05-11T16:29:10.111Z"
      },
      {
        "duration": 127,
        "start_time": "2022-05-11T16:29:20.881Z"
      },
      {
        "duration": 205,
        "start_time": "2022-05-11T16:41:31.920Z"
      },
      {
        "duration": 118,
        "start_time": "2022-05-11T16:43:40.620Z"
      },
      {
        "duration": 167,
        "start_time": "2022-05-11T16:47:29.504Z"
      },
      {
        "duration": 405,
        "start_time": "2022-05-11T16:48:01.038Z"
      },
      {
        "duration": 278,
        "start_time": "2022-05-11T16:54:00.608Z"
      },
      {
        "duration": 206,
        "start_time": "2022-05-11T16:54:36.598Z"
      },
      {
        "duration": 219,
        "start_time": "2022-05-11T16:58:36.234Z"
      },
      {
        "duration": 211,
        "start_time": "2022-05-11T16:58:44.728Z"
      },
      {
        "duration": 210,
        "start_time": "2022-05-11T16:58:55.225Z"
      },
      {
        "duration": 228,
        "start_time": "2022-05-11T16:59:06.317Z"
      },
      {
        "duration": 226,
        "start_time": "2022-05-11T16:59:33.717Z"
      },
      {
        "duration": 2,
        "start_time": "2022-05-11T17:15:42.060Z"
      },
      {
        "duration": 214,
        "start_time": "2022-05-11T17:17:22.681Z"
      },
      {
        "duration": 425,
        "start_time": "2022-05-11T17:17:53.606Z"
      },
      {
        "duration": 220,
        "start_time": "2022-05-11T17:18:30.864Z"
      },
      {
        "duration": 2,
        "start_time": "2022-05-11T17:18:44.889Z"
      },
      {
        "duration": 15,
        "start_time": "2022-05-11T17:27:38.776Z"
      },
      {
        "duration": 227,
        "start_time": "2022-05-11T17:28:06.463Z"
      },
      {
        "duration": 206,
        "start_time": "2022-05-11T17:29:51.732Z"
      },
      {
        "duration": 223,
        "start_time": "2022-05-11T17:31:15.044Z"
      },
      {
        "duration": 213,
        "start_time": "2022-05-11T17:33:33.161Z"
      },
      {
        "duration": 232,
        "start_time": "2022-05-11T17:33:45.887Z"
      },
      {
        "duration": 249,
        "start_time": "2022-05-11T17:36:28.070Z"
      },
      {
        "duration": 20,
        "start_time": "2022-05-11T17:37:06.580Z"
      },
      {
        "duration": 150,
        "start_time": "2022-05-11T17:39:27.321Z"
      },
      {
        "duration": 154,
        "start_time": "2022-05-11T17:40:57.499Z"
      },
      {
        "duration": 245,
        "start_time": "2022-05-11T17:41:18.891Z"
      },
      {
        "duration": 239,
        "start_time": "2022-05-11T17:41:34.561Z"
      },
      {
        "duration": 467,
        "start_time": "2022-05-11T17:43:11.893Z"
      },
      {
        "duration": 240,
        "start_time": "2022-05-11T17:43:23.602Z"
      },
      {
        "duration": 673,
        "start_time": "2022-05-12T16:05:46.938Z"
      },
      {
        "duration": 31,
        "start_time": "2022-05-12T16:05:47.614Z"
      },
      {
        "duration": 43,
        "start_time": "2022-05-12T16:05:47.648Z"
      },
      {
        "duration": 36,
        "start_time": "2022-05-12T16:05:47.694Z"
      },
      {
        "duration": 701,
        "start_time": "2022-05-12T16:06:32.906Z"
      },
      {
        "duration": 36,
        "start_time": "2022-05-12T16:06:33.610Z"
      },
      {
        "duration": 46,
        "start_time": "2022-05-12T16:06:33.648Z"
      },
      {
        "duration": 31,
        "start_time": "2022-05-12T16:06:33.697Z"
      },
      {
        "duration": 10,
        "start_time": "2022-05-12T16:06:33.731Z"
      },
      {
        "duration": 6,
        "start_time": "2022-05-12T16:06:39.768Z"
      },
      {
        "duration": 44,
        "start_time": "2022-05-12T16:10:34.899Z"
      },
      {
        "duration": 20,
        "start_time": "2022-05-12T16:11:39.597Z"
      },
      {
        "duration": 60,
        "start_time": "2022-05-12T16:11:45.038Z"
      },
      {
        "duration": 56,
        "start_time": "2022-05-12T16:14:53.477Z"
      },
      {
        "duration": 22,
        "start_time": "2022-05-12T16:15:10.011Z"
      },
      {
        "duration": 6,
        "start_time": "2022-05-12T16:24:57.194Z"
      },
      {
        "duration": 48,
        "start_time": "2022-05-12T16:25:01.049Z"
      },
      {
        "duration": 17,
        "start_time": "2022-05-12T16:25:11.380Z"
      },
      {
        "duration": 816,
        "start_time": "2022-05-12T16:25:16.267Z"
      },
      {
        "duration": 446,
        "start_time": "2022-05-12T16:25:57.123Z"
      },
      {
        "duration": 5,
        "start_time": "2022-05-12T16:26:04.308Z"
      },
      {
        "duration": 38,
        "start_time": "2022-05-12T16:26:09.446Z"
      },
      {
        "duration": 1037,
        "start_time": "2022-05-12T16:26:35.533Z"
      },
      {
        "duration": 376,
        "start_time": "2022-05-12T16:26:41.339Z"
      },
      {
        "duration": 227,
        "start_time": "2022-05-12T16:26:45.920Z"
      },
      {
        "duration": 231,
        "start_time": "2022-05-12T16:26:50.510Z"
      },
      {
        "duration": 628,
        "start_time": "2022-05-12T16:26:56.057Z"
      },
      {
        "duration": 11,
        "start_time": "2022-05-12T16:40:34.234Z"
      },
      {
        "duration": 163,
        "start_time": "2022-05-12T16:42:11.755Z"
      },
      {
        "duration": 491,
        "start_time": "2022-05-12T16:42:36.516Z"
      },
      {
        "duration": 507,
        "start_time": "2022-05-12T16:43:10.792Z"
      },
      {
        "duration": 416,
        "start_time": "2022-05-12T16:46:43.366Z"
      },
      {
        "duration": 422,
        "start_time": "2022-05-12T16:49:16.981Z"
      },
      {
        "duration": 417,
        "start_time": "2022-05-12T16:50:12.458Z"
      },
      {
        "duration": 212,
        "start_time": "2022-05-12T16:51:44.851Z"
      },
      {
        "duration": 301,
        "start_time": "2022-05-12T16:52:27.662Z"
      },
      {
        "duration": 205,
        "start_time": "2022-05-12T16:53:01.997Z"
      },
      {
        "duration": 8,
        "start_time": "2022-05-12T16:53:16.679Z"
      },
      {
        "duration": 210,
        "start_time": "2022-05-12T16:54:43.639Z"
      },
      {
        "duration": 882,
        "start_time": "2022-05-12T16:55:31.994Z"
      },
      {
        "duration": 48,
        "start_time": "2022-05-12T16:55:32.880Z"
      },
      {
        "duration": 62,
        "start_time": "2022-05-12T16:55:32.931Z"
      },
      {
        "duration": 35,
        "start_time": "2022-05-12T16:55:32.997Z"
      },
      {
        "duration": 25,
        "start_time": "2022-05-12T16:55:33.034Z"
      },
      {
        "duration": 33,
        "start_time": "2022-05-12T16:55:33.061Z"
      },
      {
        "duration": 63,
        "start_time": "2022-05-12T16:55:33.097Z"
      },
      {
        "duration": 22,
        "start_time": "2022-05-12T16:55:33.162Z"
      },
      {
        "duration": 43,
        "start_time": "2022-05-12T16:55:33.186Z"
      },
      {
        "duration": 10,
        "start_time": "2022-05-12T16:55:33.233Z"
      },
      {
        "duration": 33,
        "start_time": "2022-05-12T16:55:33.245Z"
      },
      {
        "duration": 550,
        "start_time": "2022-05-12T16:55:33.281Z"
      },
      {
        "duration": 6,
        "start_time": "2022-05-12T16:55:33.834Z"
      },
      {
        "duration": 70,
        "start_time": "2022-05-12T16:55:33.842Z"
      },
      {
        "duration": 751,
        "start_time": "2022-05-12T16:55:33.915Z"
      },
      {
        "duration": 591,
        "start_time": "2022-05-12T16:55:34.669Z"
      },
      {
        "duration": 214,
        "start_time": "2022-05-12T16:55:38.443Z"
      },
      {
        "duration": 209,
        "start_time": "2022-05-12T16:56:06.162Z"
      },
      {
        "duration": 9,
        "start_time": "2022-05-12T16:56:10.739Z"
      },
      {
        "duration": 221,
        "start_time": "2022-05-12T16:57:11.537Z"
      },
      {
        "duration": 58,
        "start_time": "2022-05-12T16:58:51.093Z"
      },
      {
        "duration": 71,
        "start_time": "2022-05-12T17:01:20.218Z"
      },
      {
        "duration": 10,
        "start_time": "2022-05-12T17:01:53.921Z"
      },
      {
        "duration": 60,
        "start_time": "2022-05-12T17:02:23.245Z"
      },
      {
        "duration": 867,
        "start_time": "2022-05-12T17:08:13.731Z"
      },
      {
        "duration": 38,
        "start_time": "2022-05-12T17:08:14.602Z"
      },
      {
        "duration": 42,
        "start_time": "2022-05-12T17:08:14.642Z"
      },
      {
        "duration": 36,
        "start_time": "2022-05-12T17:08:14.688Z"
      },
      {
        "duration": 5,
        "start_time": "2022-05-12T17:08:14.727Z"
      },
      {
        "duration": 8,
        "start_time": "2022-05-12T17:08:14.734Z"
      },
      {
        "duration": 35,
        "start_time": "2022-05-12T17:08:14.745Z"
      },
      {
        "duration": 52,
        "start_time": "2022-05-12T17:08:14.782Z"
      },
      {
        "duration": 20,
        "start_time": "2022-05-12T17:08:14.836Z"
      },
      {
        "duration": 5,
        "start_time": "2022-05-12T17:08:14.860Z"
      },
      {
        "duration": 57,
        "start_time": "2022-05-12T17:08:14.867Z"
      },
      {
        "duration": 527,
        "start_time": "2022-05-12T17:08:14.927Z"
      },
      {
        "duration": 6,
        "start_time": "2022-05-12T17:08:15.456Z"
      },
      {
        "duration": 62,
        "start_time": "2022-05-12T17:08:15.464Z"
      },
      {
        "duration": 1049,
        "start_time": "2022-05-12T17:08:15.528Z"
      },
      {
        "duration": 740,
        "start_time": "2022-05-12T17:08:16.581Z"
      },
      {
        "duration": 353,
        "start_time": "2022-05-12T17:08:17.325Z"
      },
      {
        "duration": 246,
        "start_time": "2022-05-12T17:08:17.681Z"
      },
      {
        "duration": 343,
        "start_time": "2022-05-12T17:09:36.667Z"
      },
      {
        "duration": 236,
        "start_time": "2022-05-12T17:10:10.435Z"
      },
      {
        "duration": 238,
        "start_time": "2022-05-12T17:10:47.922Z"
      },
      {
        "duration": 231,
        "start_time": "2022-05-12T17:13:19.478Z"
      },
      {
        "duration": 230,
        "start_time": "2022-05-12T17:13:36.643Z"
      },
      {
        "duration": 432,
        "start_time": "2022-05-12T17:14:59.814Z"
      },
      {
        "duration": 681,
        "start_time": "2022-05-12T17:16:49.482Z"
      },
      {
        "duration": 24,
        "start_time": "2022-05-12T17:16:50.167Z"
      },
      {
        "duration": 68,
        "start_time": "2022-05-12T17:16:50.193Z"
      },
      {
        "duration": 13,
        "start_time": "2022-05-12T17:16:50.263Z"
      },
      {
        "duration": 6,
        "start_time": "2022-05-12T17:16:50.279Z"
      },
      {
        "duration": 39,
        "start_time": "2022-05-12T17:16:50.287Z"
      },
      {
        "duration": 30,
        "start_time": "2022-05-12T17:16:50.329Z"
      },
      {
        "duration": 19,
        "start_time": "2022-05-12T17:16:50.362Z"
      },
      {
        "duration": 46,
        "start_time": "2022-05-12T17:16:50.383Z"
      },
      {
        "duration": 6,
        "start_time": "2022-05-12T17:16:50.431Z"
      },
      {
        "duration": 22,
        "start_time": "2022-05-12T17:16:50.439Z"
      },
      {
        "duration": 535,
        "start_time": "2022-05-12T17:16:50.463Z"
      },
      {
        "duration": 5,
        "start_time": "2022-05-12T17:16:51.000Z"
      },
      {
        "duration": 55,
        "start_time": "2022-05-12T17:16:51.009Z"
      },
      {
        "duration": 744,
        "start_time": "2022-05-12T17:16:51.066Z"
      },
      {
        "duration": 488,
        "start_time": "2022-05-12T17:16:51.813Z"
      },
      {
        "duration": 236,
        "start_time": "2022-05-12T17:16:52.303Z"
      },
      {
        "duration": 236,
        "start_time": "2022-05-12T17:16:52.541Z"
      },
      {
        "duration": 422,
        "start_time": "2022-05-12T17:16:58.014Z"
      },
      {
        "duration": 390,
        "start_time": "2022-05-12T17:17:16.147Z"
      },
      {
        "duration": 61,
        "start_time": "2022-05-12T17:18:26.444Z"
      },
      {
        "duration": 35,
        "start_time": "2022-05-12T17:18:55.672Z"
      },
      {
        "duration": 32,
        "start_time": "2022-05-12T17:19:03.783Z"
      },
      {
        "duration": 24,
        "start_time": "2022-05-12T17:19:12.228Z"
      },
      {
        "duration": 25,
        "start_time": "2022-05-12T17:19:19.587Z"
      },
      {
        "duration": 624,
        "start_time": "2022-05-12T17:19:47.420Z"
      },
      {
        "duration": 24,
        "start_time": "2022-05-12T17:19:48.046Z"
      },
      {
        "duration": 62,
        "start_time": "2022-05-12T17:19:48.072Z"
      },
      {
        "duration": 13,
        "start_time": "2022-05-12T17:19:48.137Z"
      },
      {
        "duration": 5,
        "start_time": "2022-05-12T17:19:48.152Z"
      },
      {
        "duration": 8,
        "start_time": "2022-05-12T17:19:48.160Z"
      },
      {
        "duration": 62,
        "start_time": "2022-05-12T17:19:48.170Z"
      },
      {
        "duration": 20,
        "start_time": "2022-05-12T17:19:48.234Z"
      },
      {
        "duration": 21,
        "start_time": "2022-05-12T17:19:48.256Z"
      },
      {
        "duration": 5,
        "start_time": "2022-05-12T17:19:48.281Z"
      },
      {
        "duration": 53,
        "start_time": "2022-05-12T17:19:48.288Z"
      },
      {
        "duration": 513,
        "start_time": "2022-05-12T17:19:48.343Z"
      },
      {
        "duration": 5,
        "start_time": "2022-05-12T17:19:48.859Z"
      },
      {
        "duration": 41,
        "start_time": "2022-05-12T17:19:48.866Z"
      },
      {
        "duration": 725,
        "start_time": "2022-05-12T17:19:48.909Z"
      },
      {
        "duration": 462,
        "start_time": "2022-05-12T17:19:49.636Z"
      },
      {
        "duration": 235,
        "start_time": "2022-05-12T17:19:50.100Z"
      },
      {
        "duration": 234,
        "start_time": "2022-05-12T17:19:50.337Z"
      },
      {
        "duration": 394,
        "start_time": "2022-05-12T17:19:50.573Z"
      },
      {
        "duration": 37,
        "start_time": "2022-05-12T17:19:54.018Z"
      },
      {
        "duration": 40,
        "start_time": "2022-05-12T17:20:11.963Z"
      },
      {
        "duration": 28,
        "start_time": "2022-05-12T17:20:26.661Z"
      },
      {
        "duration": 40,
        "start_time": "2022-05-12T17:20:33.484Z"
      },
      {
        "duration": 63,
        "start_time": "2022-05-12T17:20:43.700Z"
      },
      {
        "duration": 47,
        "start_time": "2022-05-12T17:21:06.135Z"
      },
      {
        "duration": 604,
        "start_time": "2022-05-12T17:22:51.164Z"
      },
      {
        "duration": 25,
        "start_time": "2022-05-12T17:22:51.772Z"
      },
      {
        "duration": 63,
        "start_time": "2022-05-12T17:22:51.799Z"
      },
      {
        "duration": 13,
        "start_time": "2022-05-12T17:22:51.865Z"
      },
      {
        "duration": 30,
        "start_time": "2022-05-12T17:22:51.880Z"
      },
      {
        "duration": 16,
        "start_time": "2022-05-12T17:22:51.912Z"
      },
      {
        "duration": 85,
        "start_time": "2022-05-12T17:22:51.930Z"
      },
      {
        "duration": 28,
        "start_time": "2022-05-12T17:22:52.018Z"
      },
      {
        "duration": 26,
        "start_time": "2022-05-12T17:22:52.048Z"
      },
      {
        "duration": 10,
        "start_time": "2022-05-12T17:22:52.078Z"
      },
      {
        "duration": 29,
        "start_time": "2022-05-12T17:22:52.091Z"
      },
      {
        "duration": 545,
        "start_time": "2022-05-12T17:22:52.123Z"
      },
      {
        "duration": 7,
        "start_time": "2022-05-12T17:22:52.670Z"
      },
      {
        "duration": 53,
        "start_time": "2022-05-12T17:22:52.679Z"
      },
      {
        "duration": 710,
        "start_time": "2022-05-12T17:22:52.735Z"
      },
      {
        "duration": 466,
        "start_time": "2022-05-12T17:22:53.447Z"
      },
      {
        "duration": 227,
        "start_time": "2022-05-12T17:22:53.915Z"
      },
      {
        "duration": 231,
        "start_time": "2022-05-12T17:22:54.144Z"
      },
      {
        "duration": 380,
        "start_time": "2022-05-12T17:22:54.377Z"
      },
      {
        "duration": 72,
        "start_time": "2022-05-12T17:22:54.759Z"
      },
      {
        "duration": 37,
        "start_time": "2022-05-12T17:23:28.585Z"
      },
      {
        "duration": 30,
        "start_time": "2022-05-12T17:24:55.802Z"
      },
      {
        "duration": 20,
        "start_time": "2022-05-12T17:25:43.713Z"
      },
      {
        "duration": 12,
        "start_time": "2022-05-12T17:25:56.408Z"
      },
      {
        "duration": 20,
        "start_time": "2022-05-12T17:26:00.444Z"
      },
      {
        "duration": 626,
        "start_time": "2022-05-12T17:26:28.942Z"
      },
      {
        "duration": 23,
        "start_time": "2022-05-12T17:26:29.571Z"
      },
      {
        "duration": 58,
        "start_time": "2022-05-12T17:26:29.597Z"
      },
      {
        "duration": 13,
        "start_time": "2022-05-12T17:26:29.658Z"
      },
      {
        "duration": 10,
        "start_time": "2022-05-12T17:26:29.674Z"
      },
      {
        "duration": 15,
        "start_time": "2022-05-12T17:26:29.686Z"
      },
      {
        "duration": 31,
        "start_time": "2022-05-12T17:26:29.725Z"
      },
      {
        "duration": 19,
        "start_time": "2022-05-12T17:26:29.758Z"
      },
      {
        "duration": 48,
        "start_time": "2022-05-12T17:26:29.780Z"
      },
      {
        "duration": 6,
        "start_time": "2022-05-12T17:26:29.834Z"
      },
      {
        "duration": 20,
        "start_time": "2022-05-12T17:26:29.842Z"
      },
      {
        "duration": 558,
        "start_time": "2022-05-12T17:26:29.865Z"
      },
      {
        "duration": 6,
        "start_time": "2022-05-12T17:26:30.425Z"
      },
      {
        "duration": 80,
        "start_time": "2022-05-12T17:26:30.433Z"
      },
      {
        "duration": 756,
        "start_time": "2022-05-12T17:26:30.515Z"
      },
      {
        "duration": 483,
        "start_time": "2022-05-12T17:26:31.273Z"
      },
      {
        "duration": 241,
        "start_time": "2022-05-12T17:26:31.758Z"
      },
      {
        "duration": 238,
        "start_time": "2022-05-12T17:26:32.001Z"
      },
      {
        "duration": 414,
        "start_time": "2022-05-12T17:26:32.241Z"
      },
      {
        "duration": 39,
        "start_time": "2022-05-12T17:26:32.657Z"
      },
      {
        "duration": 33,
        "start_time": "2022-05-12T17:26:32.698Z"
      },
      {
        "duration": 28,
        "start_time": "2022-05-12T17:26:32.734Z"
      },
      {
        "duration": 22,
        "start_time": "2022-05-12T17:28:47.138Z"
      },
      {
        "duration": 26,
        "start_time": "2022-05-12T17:33:42.066Z"
      },
      {
        "duration": 34,
        "start_time": "2022-05-12T17:35:53.331Z"
      },
      {
        "duration": 36,
        "start_time": "2022-05-12T17:36:42.438Z"
      },
      {
        "duration": 647,
        "start_time": "2022-05-12T17:37:15.898Z"
      },
      {
        "duration": 21,
        "start_time": "2022-05-12T17:37:16.548Z"
      },
      {
        "duration": 58,
        "start_time": "2022-05-12T17:37:16.572Z"
      },
      {
        "duration": 12,
        "start_time": "2022-05-12T17:37:16.633Z"
      },
      {
        "duration": 5,
        "start_time": "2022-05-12T17:37:16.647Z"
      },
      {
        "duration": 8,
        "start_time": "2022-05-12T17:37:16.654Z"
      },
      {
        "duration": 60,
        "start_time": "2022-05-12T17:37:16.664Z"
      },
      {
        "duration": 18,
        "start_time": "2022-05-12T17:37:16.727Z"
      },
      {
        "duration": 19,
        "start_time": "2022-05-12T17:37:16.747Z"
      },
      {
        "duration": 5,
        "start_time": "2022-05-12T17:37:16.769Z"
      },
      {
        "duration": 51,
        "start_time": "2022-05-12T17:37:16.776Z"
      },
      {
        "duration": 537,
        "start_time": "2022-05-12T17:37:16.829Z"
      },
      {
        "duration": 5,
        "start_time": "2022-05-12T17:37:17.369Z"
      },
      {
        "duration": 53,
        "start_time": "2022-05-12T17:37:17.376Z"
      },
      {
        "duration": 689,
        "start_time": "2022-05-12T17:37:17.431Z"
      },
      {
        "duration": 562,
        "start_time": "2022-05-12T17:37:18.124Z"
      },
      {
        "duration": 229,
        "start_time": "2022-05-12T17:37:18.688Z"
      },
      {
        "duration": 228,
        "start_time": "2022-05-12T17:37:18.924Z"
      },
      {
        "duration": 396,
        "start_time": "2022-05-12T17:37:19.154Z"
      },
      {
        "duration": 31,
        "start_time": "2022-05-12T17:37:19.552Z"
      },
      {
        "duration": 53,
        "start_time": "2022-05-12T17:37:19.585Z"
      },
      {
        "duration": 36,
        "start_time": "2022-05-12T17:37:54.495Z"
      },
      {
        "duration": 12,
        "start_time": "2022-05-12T17:38:38.823Z"
      },
      {
        "duration": 25,
        "start_time": "2022-05-12T17:38:42.095Z"
      },
      {
        "duration": 705,
        "start_time": "2022-05-12T17:40:17.706Z"
      },
      {
        "duration": 25,
        "start_time": "2022-05-12T17:40:18.415Z"
      },
      {
        "duration": 44,
        "start_time": "2022-05-12T17:40:18.442Z"
      },
      {
        "duration": 44,
        "start_time": "2022-05-12T17:40:18.489Z"
      },
      {
        "duration": 6,
        "start_time": "2022-05-12T17:40:18.538Z"
      },
      {
        "duration": 9,
        "start_time": "2022-05-12T17:40:18.547Z"
      },
      {
        "duration": 30,
        "start_time": "2022-05-12T17:40:18.559Z"
      },
      {
        "duration": 48,
        "start_time": "2022-05-12T17:40:18.591Z"
      },
      {
        "duration": 21,
        "start_time": "2022-05-12T17:40:18.642Z"
      },
      {
        "duration": 5,
        "start_time": "2022-05-12T17:40:18.665Z"
      },
      {
        "duration": 60,
        "start_time": "2022-05-12T17:40:18.672Z"
      },
      {
        "duration": 552,
        "start_time": "2022-05-12T17:40:18.735Z"
      },
      {
        "duration": 6,
        "start_time": "2022-05-12T17:40:19.289Z"
      },
      {
        "duration": 56,
        "start_time": "2022-05-12T17:40:19.299Z"
      },
      {
        "duration": 772,
        "start_time": "2022-05-12T17:40:19.357Z"
      },
      {
        "duration": 484,
        "start_time": "2022-05-12T17:40:20.133Z"
      },
      {
        "duration": 358,
        "start_time": "2022-05-12T17:40:20.626Z"
      },
      {
        "duration": 370,
        "start_time": "2022-05-12T17:40:20.987Z"
      },
      {
        "duration": 552,
        "start_time": "2022-05-12T17:40:21.360Z"
      },
      {
        "duration": 48,
        "start_time": "2022-05-12T17:40:21.914Z"
      },
      {
        "duration": 19,
        "start_time": "2022-05-12T17:40:25.213Z"
      },
      {
        "duration": 400,
        "start_time": "2022-05-12T17:40:46.073Z"
      },
      {
        "duration": 398,
        "start_time": "2022-05-12T17:41:20.146Z"
      },
      {
        "duration": 482,
        "start_time": "2022-05-12T17:42:20.774Z"
      },
      {
        "duration": 23,
        "start_time": "2022-05-12T17:42:50.214Z"
      },
      {
        "duration": 668,
        "start_time": "2022-05-12T17:43:18.243Z"
      },
      {
        "duration": 36,
        "start_time": "2022-05-12T17:43:18.914Z"
      },
      {
        "duration": 71,
        "start_time": "2022-05-12T17:43:18.953Z"
      },
      {
        "duration": 13,
        "start_time": "2022-05-12T17:43:19.027Z"
      },
      {
        "duration": 5,
        "start_time": "2022-05-12T17:43:19.042Z"
      },
      {
        "duration": 13,
        "start_time": "2022-05-12T17:43:19.049Z"
      },
      {
        "duration": 60,
        "start_time": "2022-05-12T17:43:19.065Z"
      },
      {
        "duration": 19,
        "start_time": "2022-05-12T17:43:19.127Z"
      },
      {
        "duration": 20,
        "start_time": "2022-05-12T17:43:19.149Z"
      },
      {
        "duration": 6,
        "start_time": "2022-05-12T17:43:19.172Z"
      },
      {
        "duration": 54,
        "start_time": "2022-05-12T17:43:19.180Z"
      },
      {
        "duration": 635,
        "start_time": "2022-05-12T17:43:19.236Z"
      },
      {
        "duration": 6,
        "start_time": "2022-05-12T17:43:19.874Z"
      },
      {
        "duration": 59,
        "start_time": "2022-05-12T17:43:19.882Z"
      },
      {
        "duration": 2684,
        "start_time": "2022-05-12T17:43:19.943Z"
      },
      {
        "duration": 482,
        "start_time": "2022-05-12T17:43:22.630Z"
      },
      {
        "duration": 258,
        "start_time": "2022-05-12T17:43:23.115Z"
      },
      {
        "duration": 287,
        "start_time": "2022-05-12T17:43:23.376Z"
      },
      {
        "duration": 454,
        "start_time": "2022-05-12T17:43:23.666Z"
      },
      {
        "duration": 42,
        "start_time": "2022-05-12T17:43:24.125Z"
      },
      {
        "duration": 20,
        "start_time": "2022-05-12T17:43:24.172Z"
      },
      {
        "duration": 31,
        "start_time": "2022-05-12T17:43:26.959Z"
      },
      {
        "duration": 28,
        "start_time": "2022-05-12T17:44:31.384Z"
      },
      {
        "duration": 48,
        "start_time": "2022-05-14T12:04:50.128Z"
      },
      {
        "duration": 524,
        "start_time": "2022-05-14T12:05:08.307Z"
      },
      {
        "duration": 15,
        "start_time": "2022-05-14T12:05:08.834Z"
      },
      {
        "duration": 30,
        "start_time": "2022-05-14T12:05:08.851Z"
      },
      {
        "duration": 26,
        "start_time": "2022-05-14T12:05:08.882Z"
      },
      {
        "duration": 4,
        "start_time": "2022-05-14T12:05:08.910Z"
      },
      {
        "duration": 6,
        "start_time": "2022-05-14T12:05:08.915Z"
      },
      {
        "duration": 21,
        "start_time": "2022-05-14T12:05:08.923Z"
      },
      {
        "duration": 15,
        "start_time": "2022-05-14T12:05:08.946Z"
      },
      {
        "duration": 14,
        "start_time": "2022-05-14T12:05:08.962Z"
      },
      {
        "duration": 31,
        "start_time": "2022-05-14T12:05:08.978Z"
      },
      {
        "duration": 15,
        "start_time": "2022-05-14T12:05:09.010Z"
      },
      {
        "duration": 350,
        "start_time": "2022-05-14T12:05:09.026Z"
      },
      {
        "duration": 4,
        "start_time": "2022-05-14T12:05:09.377Z"
      },
      {
        "duration": 37,
        "start_time": "2022-05-14T12:05:09.384Z"
      },
      {
        "duration": 695,
        "start_time": "2022-05-14T12:05:09.422Z"
      },
      {
        "duration": 275,
        "start_time": "2022-05-14T12:05:10.119Z"
      },
      {
        "duration": 162,
        "start_time": "2022-05-14T12:05:10.395Z"
      },
      {
        "duration": 156,
        "start_time": "2022-05-14T12:05:10.559Z"
      },
      {
        "duration": 261,
        "start_time": "2022-05-14T12:05:10.717Z"
      },
      {
        "duration": 31,
        "start_time": "2022-05-14T12:05:10.979Z"
      },
      {
        "duration": 12,
        "start_time": "2022-05-14T12:05:11.011Z"
      },
      {
        "duration": 19,
        "start_time": "2022-05-14T12:05:11.024Z"
      },
      {
        "duration": 5,
        "start_time": "2022-05-14T12:10:58.311Z"
      },
      {
        "duration": 7,
        "start_time": "2022-05-14T12:14:46.211Z"
      },
      {
        "duration": 113,
        "start_time": "2022-05-14T12:14:54.453Z"
      },
      {
        "duration": 6,
        "start_time": "2022-05-14T12:15:07.486Z"
      },
      {
        "duration": 7,
        "start_time": "2022-05-14T12:15:20.108Z"
      },
      {
        "duration": 12,
        "start_time": "2022-05-14T12:16:34.877Z"
      },
      {
        "duration": 11,
        "start_time": "2022-05-14T12:21:14.638Z"
      },
      {
        "duration": 2,
        "start_time": "2022-05-14T12:23:55.134Z"
      },
      {
        "duration": 13,
        "start_time": "2022-05-14T12:28:09.943Z"
      },
      {
        "duration": 14,
        "start_time": "2022-05-14T12:37:59.879Z"
      },
      {
        "duration": 14,
        "start_time": "2022-05-14T12:41:11.507Z"
      },
      {
        "duration": 16,
        "start_time": "2022-05-14T12:41:20.708Z"
      },
      {
        "duration": 20,
        "start_time": "2022-05-14T12:42:13.199Z"
      },
      {
        "duration": 24,
        "start_time": "2022-05-14T12:42:55.989Z"
      },
      {
        "duration": 16,
        "start_time": "2022-05-14T12:44:53.816Z"
      },
      {
        "duration": 14,
        "start_time": "2022-05-14T12:45:03.950Z"
      },
      {
        "duration": 14,
        "start_time": "2022-05-14T12:45:18.275Z"
      },
      {
        "duration": 15,
        "start_time": "2022-05-14T12:59:58.985Z"
      },
      {
        "duration": 8,
        "start_time": "2022-05-14T13:00:46.772Z"
      },
      {
        "duration": 7,
        "start_time": "2022-05-14T13:00:58.668Z"
      },
      {
        "duration": 5,
        "start_time": "2022-05-14T13:02:09.871Z"
      },
      {
        "duration": 7,
        "start_time": "2022-05-14T13:02:30.227Z"
      },
      {
        "duration": 78,
        "start_time": "2022-05-14T13:02:50.435Z"
      },
      {
        "duration": 7,
        "start_time": "2022-05-14T13:03:20.898Z"
      },
      {
        "duration": 7,
        "start_time": "2022-05-14T13:04:28.464Z"
      },
      {
        "duration": 7,
        "start_time": "2022-05-14T13:04:39.738Z"
      },
      {
        "duration": 16,
        "start_time": "2022-05-14T13:07:38.276Z"
      },
      {
        "duration": 1071,
        "start_time": "2022-05-14T13:10:20.288Z"
      },
      {
        "duration": 504,
        "start_time": "2022-05-14T13:11:11.265Z"
      },
      {
        "duration": 16,
        "start_time": "2022-05-14T13:18:37.712Z"
      },
      {
        "duration": 6,
        "start_time": "2022-05-14T13:19:09.404Z"
      },
      {
        "duration": 7,
        "start_time": "2022-05-14T13:19:26.801Z"
      },
      {
        "duration": 13,
        "start_time": "2022-05-14T13:20:07.114Z"
      },
      {
        "duration": 15,
        "start_time": "2022-05-14T13:20:17.986Z"
      },
      {
        "duration": 14,
        "start_time": "2022-05-14T13:20:26.550Z"
      },
      {
        "duration": 6,
        "start_time": "2022-05-14T13:21:10.155Z"
      },
      {
        "duration": 8,
        "start_time": "2022-05-14T13:21:22.786Z"
      },
      {
        "duration": 7,
        "start_time": "2022-05-14T13:21:36.739Z"
      },
      {
        "duration": 8,
        "start_time": "2022-05-14T13:22:10.950Z"
      },
      {
        "duration": 8,
        "start_time": "2022-05-14T13:22:50.429Z"
      },
      {
        "duration": 27,
        "start_time": "2022-05-14T13:23:41.765Z"
      },
      {
        "duration": 12,
        "start_time": "2022-05-14T13:23:53.808Z"
      },
      {
        "duration": 17,
        "start_time": "2022-05-14T13:24:05.219Z"
      },
      {
        "duration": 109,
        "start_time": "2022-05-14T13:24:42.823Z"
      },
      {
        "duration": 18,
        "start_time": "2022-05-14T13:24:52.899Z"
      },
      {
        "duration": 25,
        "start_time": "2022-05-14T13:27:23.148Z"
      },
      {
        "duration": 17,
        "start_time": "2022-05-14T13:29:58.134Z"
      },
      {
        "duration": 529,
        "start_time": "2022-05-14T13:30:18.707Z"
      },
      {
        "duration": 18,
        "start_time": "2022-05-14T13:30:19.238Z"
      },
      {
        "duration": 33,
        "start_time": "2022-05-14T13:30:19.257Z"
      },
      {
        "duration": 12,
        "start_time": "2022-05-14T13:30:19.306Z"
      },
      {
        "duration": 4,
        "start_time": "2022-05-14T13:30:19.320Z"
      },
      {
        "duration": 7,
        "start_time": "2022-05-14T13:30:19.326Z"
      },
      {
        "duration": 22,
        "start_time": "2022-05-14T13:30:19.335Z"
      },
      {
        "duration": 16,
        "start_time": "2022-05-14T13:30:19.359Z"
      },
      {
        "duration": 16,
        "start_time": "2022-05-14T13:30:19.407Z"
      },
      {
        "duration": 4,
        "start_time": "2022-05-14T13:30:19.425Z"
      },
      {
        "duration": 15,
        "start_time": "2022-05-14T13:30:19.431Z"
      },
      {
        "duration": 377,
        "start_time": "2022-05-14T13:30:19.448Z"
      },
      {
        "duration": 5,
        "start_time": "2022-05-14T13:30:19.827Z"
      },
      {
        "duration": 30,
        "start_time": "2022-05-14T13:30:19.834Z"
      },
      {
        "duration": 510,
        "start_time": "2022-05-14T13:30:19.866Z"
      },
      {
        "duration": 321,
        "start_time": "2022-05-14T13:30:20.378Z"
      },
      {
        "duration": 169,
        "start_time": "2022-05-14T13:30:20.701Z"
      },
      {
        "duration": 164,
        "start_time": "2022-05-14T13:30:20.872Z"
      },
      {
        "duration": 269,
        "start_time": "2022-05-14T13:30:21.038Z"
      },
      {
        "duration": 23,
        "start_time": "2022-05-14T13:30:21.309Z"
      },
      {
        "duration": 12,
        "start_time": "2022-05-14T13:30:21.333Z"
      },
      {
        "duration": 20,
        "start_time": "2022-05-14T13:30:21.346Z"
      },
      {
        "duration": 43,
        "start_time": "2022-05-14T13:30:21.367Z"
      },
      {
        "duration": 16,
        "start_time": "2022-05-14T13:30:21.411Z"
      },
      {
        "duration": 14,
        "start_time": "2022-05-14T13:30:21.429Z"
      },
      {
        "duration": 13,
        "start_time": "2022-05-14T13:30:21.445Z"
      },
      {
        "duration": 14,
        "start_time": "2022-05-14T13:30:21.460Z"
      },
      {
        "duration": 14,
        "start_time": "2022-05-14T13:30:21.509Z"
      },
      {
        "duration": 7,
        "start_time": "2022-05-14T13:30:21.524Z"
      },
      {
        "duration": 105,
        "start_time": "2022-05-14T13:30:21.532Z"
      },
      {
        "duration": 16,
        "start_time": "2022-05-14T13:31:23.431Z"
      },
      {
        "duration": 41,
        "start_time": "2022-05-14T13:32:50.477Z"
      },
      {
        "duration": 19,
        "start_time": "2022-05-14T13:33:19.352Z"
      },
      {
        "duration": 2,
        "start_time": "2022-05-14T13:34:56.767Z"
      },
      {
        "duration": 1107,
        "start_time": "2022-05-14T13:34:59.670Z"
      },
      {
        "duration": 8,
        "start_time": "2022-05-14T13:35:35.598Z"
      },
      {
        "duration": 14,
        "start_time": "2022-05-14T13:35:38.276Z"
      },
      {
        "duration": 19,
        "start_time": "2022-05-14T13:35:52.462Z"
      },
      {
        "duration": 7,
        "start_time": "2022-05-14T13:36:43.541Z"
      },
      {
        "duration": 13,
        "start_time": "2022-05-14T13:38:33.259Z"
      },
      {
        "duration": 18,
        "start_time": "2022-05-14T13:38:42.482Z"
      },
      {
        "duration": 18,
        "start_time": "2022-05-14T13:42:20.303Z"
      },
      {
        "duration": 7,
        "start_time": "2022-05-14T13:43:50.893Z"
      },
      {
        "duration": 19,
        "start_time": "2022-05-14T13:43:54.283Z"
      },
      {
        "duration": 14,
        "start_time": "2022-05-14T13:46:53.042Z"
      },
      {
        "duration": 13,
        "start_time": "2022-05-14T13:49:20.590Z"
      },
      {
        "duration": 51,
        "start_time": "2022-05-14T14:01:38.249Z"
      },
      {
        "duration": 514,
        "start_time": "2022-05-14T14:01:51.501Z"
      },
      {
        "duration": 16,
        "start_time": "2022-05-14T14:01:52.017Z"
      },
      {
        "duration": 30,
        "start_time": "2022-05-14T14:01:52.034Z"
      },
      {
        "duration": 9,
        "start_time": "2022-05-14T14:01:52.066Z"
      },
      {
        "duration": 3,
        "start_time": "2022-05-14T14:01:52.077Z"
      },
      {
        "duration": 4,
        "start_time": "2022-05-14T14:01:52.107Z"
      },
      {
        "duration": 23,
        "start_time": "2022-05-14T14:01:52.113Z"
      },
      {
        "duration": 14,
        "start_time": "2022-05-14T14:01:52.137Z"
      },
      {
        "duration": 12,
        "start_time": "2022-05-14T14:01:52.152Z"
      },
      {
        "duration": 3,
        "start_time": "2022-05-14T14:01:52.167Z"
      },
      {
        "duration": 43,
        "start_time": "2022-05-14T14:01:52.171Z"
      },
      {
        "duration": 316,
        "start_time": "2022-05-14T14:01:52.216Z"
      },
      {
        "duration": 4,
        "start_time": "2022-05-14T14:01:52.533Z"
      },
      {
        "duration": 28,
        "start_time": "2022-05-14T14:01:52.539Z"
      },
      {
        "duration": 478,
        "start_time": "2022-05-14T14:01:52.568Z"
      },
      {
        "duration": 328,
        "start_time": "2022-05-14T14:01:53.048Z"
      },
      {
        "duration": 150,
        "start_time": "2022-05-14T14:01:53.378Z"
      },
      {
        "duration": 156,
        "start_time": "2022-05-14T14:01:53.530Z"
      },
      {
        "duration": 266,
        "start_time": "2022-05-14T14:01:53.688Z"
      },
      {
        "duration": 23,
        "start_time": "2022-05-14T14:01:53.955Z"
      },
      {
        "duration": 30,
        "start_time": "2022-05-14T14:01:53.980Z"
      },
      {
        "duration": 21,
        "start_time": "2022-05-14T14:01:54.012Z"
      },
      {
        "duration": 15,
        "start_time": "2022-05-14T14:01:54.035Z"
      },
      {
        "duration": 16,
        "start_time": "2022-05-14T14:01:54.052Z"
      },
      {
        "duration": 16,
        "start_time": "2022-05-14T14:01:54.107Z"
      },
      {
        "duration": 15,
        "start_time": "2022-05-14T14:01:54.125Z"
      },
      {
        "duration": 14,
        "start_time": "2022-05-14T14:01:54.141Z"
      },
      {
        "duration": 7,
        "start_time": "2022-05-14T14:01:54.158Z"
      },
      {
        "duration": 56,
        "start_time": "2022-05-14T14:01:54.167Z"
      },
      {
        "duration": 14,
        "start_time": "2022-05-14T14:01:54.224Z"
      },
      {
        "duration": 41,
        "start_time": "2022-05-14T14:07:39.556Z"
      },
      {
        "duration": 78,
        "start_time": "2022-05-14T14:19:16.617Z"
      },
      {
        "duration": 4,
        "start_time": "2022-05-14T14:20:41.396Z"
      },
      {
        "duration": 6,
        "start_time": "2022-05-14T14:21:07.217Z"
      },
      {
        "duration": 7,
        "start_time": "2022-05-14T14:22:33.457Z"
      },
      {
        "duration": 44,
        "start_time": "2022-05-14T14:24:18.697Z"
      },
      {
        "duration": 4,
        "start_time": "2022-05-14T14:24:58.739Z"
      },
      {
        "duration": 41,
        "start_time": "2022-05-14T14:25:02.776Z"
      },
      {
        "duration": 8,
        "start_time": "2022-05-14T14:27:37.066Z"
      },
      {
        "duration": 10,
        "start_time": "2022-05-14T14:27:56.489Z"
      },
      {
        "duration": 9,
        "start_time": "2022-05-14T14:28:46.577Z"
      },
      {
        "duration": 108,
        "start_time": "2022-05-14T14:35:55.665Z"
      },
      {
        "duration": 22,
        "start_time": "2022-05-14T14:36:10.178Z"
      },
      {
        "duration": 467,
        "start_time": "2022-05-14T14:36:22.657Z"
      },
      {
        "duration": 17,
        "start_time": "2022-05-14T14:36:23.126Z"
      },
      {
        "duration": 31,
        "start_time": "2022-05-14T14:36:23.144Z"
      },
      {
        "duration": 10,
        "start_time": "2022-05-14T14:36:23.176Z"
      },
      {
        "duration": 4,
        "start_time": "2022-05-14T14:36:23.208Z"
      },
      {
        "duration": 6,
        "start_time": "2022-05-14T14:36:23.213Z"
      },
      {
        "duration": 21,
        "start_time": "2022-05-14T14:36:23.220Z"
      },
      {
        "duration": 15,
        "start_time": "2022-05-14T14:36:23.243Z"
      },
      {
        "duration": 14,
        "start_time": "2022-05-14T14:36:23.259Z"
      },
      {
        "duration": 3,
        "start_time": "2022-05-14T14:36:23.308Z"
      },
      {
        "duration": 16,
        "start_time": "2022-05-14T14:36:23.313Z"
      },
      {
        "duration": 347,
        "start_time": "2022-05-14T14:36:23.330Z"
      },
      {
        "duration": 5,
        "start_time": "2022-05-14T14:36:23.678Z"
      },
      {
        "duration": 32,
        "start_time": "2022-05-14T14:36:23.686Z"
      },
      {
        "duration": 464,
        "start_time": "2022-05-14T14:36:23.720Z"
      },
      {
        "duration": 334,
        "start_time": "2022-05-14T14:36:24.185Z"
      },
      {
        "duration": 143,
        "start_time": "2022-05-14T14:36:24.520Z"
      },
      {
        "duration": 152,
        "start_time": "2022-05-14T14:36:24.664Z"
      },
      {
        "duration": 250,
        "start_time": "2022-05-14T14:36:24.818Z"
      },
      {
        "duration": 21,
        "start_time": "2022-05-14T14:36:25.070Z"
      },
      {
        "duration": 14,
        "start_time": "2022-05-14T14:36:25.093Z"
      },
      {
        "duration": 19,
        "start_time": "2022-05-14T14:36:25.109Z"
      },
      {
        "duration": 11,
        "start_time": "2022-05-14T14:36:25.130Z"
      },
      {
        "duration": 13,
        "start_time": "2022-05-14T14:36:25.143Z"
      },
      {
        "duration": 12,
        "start_time": "2022-05-14T14:36:25.158Z"
      },
      {
        "duration": 38,
        "start_time": "2022-05-14T14:36:25.172Z"
      },
      {
        "duration": 13,
        "start_time": "2022-05-14T14:36:25.212Z"
      },
      {
        "duration": 6,
        "start_time": "2022-05-14T14:36:25.227Z"
      },
      {
        "duration": 20,
        "start_time": "2022-05-14T14:36:25.235Z"
      },
      {
        "duration": 12,
        "start_time": "2022-05-14T14:36:25.257Z"
      },
      {
        "duration": 38,
        "start_time": "2022-05-14T14:36:25.270Z"
      },
      {
        "duration": 23,
        "start_time": "2022-05-14T14:36:25.310Z"
      },
      {
        "duration": 20,
        "start_time": "2022-05-14T14:37:22.960Z"
      },
      {
        "duration": 79,
        "start_time": "2022-05-14T14:37:55.194Z"
      },
      {
        "duration": 12,
        "start_time": "2022-05-14T14:38:08.440Z"
      },
      {
        "duration": 23,
        "start_time": "2022-05-14T14:41:24.279Z"
      },
      {
        "duration": 23,
        "start_time": "2022-05-14T14:41:46.210Z"
      },
      {
        "duration": 11,
        "start_time": "2022-05-14T14:42:52.711Z"
      },
      {
        "duration": 24,
        "start_time": "2022-05-14T14:43:12.131Z"
      },
      {
        "duration": 56,
        "start_time": "2022-05-14T14:44:59.756Z"
      },
      {
        "duration": 43,
        "start_time": "2022-05-14T14:46:18.878Z"
      },
      {
        "duration": 86,
        "start_time": "2022-05-14T14:46:58.337Z"
      },
      {
        "duration": 44,
        "start_time": "2022-05-14T14:47:09.062Z"
      },
      {
        "duration": 41,
        "start_time": "2022-05-14T14:47:37.074Z"
      },
      {
        "duration": 41,
        "start_time": "2022-05-14T14:47:50.220Z"
      },
      {
        "duration": 23,
        "start_time": "2022-05-14T14:47:58.698Z"
      },
      {
        "duration": 12,
        "start_time": "2022-05-14T14:48:24.769Z"
      },
      {
        "duration": 27,
        "start_time": "2022-05-14T14:51:09.727Z"
      },
      {
        "duration": 167,
        "start_time": "2022-05-14T14:53:33.158Z"
      },
      {
        "duration": 177,
        "start_time": "2022-05-14T14:57:44.986Z"
      },
      {
        "duration": 7,
        "start_time": "2022-05-14T15:11:49.605Z"
      },
      {
        "duration": 38,
        "start_time": "2022-05-14T15:12:07.819Z"
      },
      {
        "duration": 7,
        "start_time": "2022-05-14T15:12:39.593Z"
      },
      {
        "duration": 16,
        "start_time": "2022-05-14T15:12:59.093Z"
      },
      {
        "duration": 6,
        "start_time": "2022-05-14T15:16:12.897Z"
      },
      {
        "duration": 242,
        "start_time": "2022-05-14T15:17:02.016Z"
      },
      {
        "duration": 312,
        "start_time": "2022-05-14T15:17:48.116Z"
      },
      {
        "duration": 256,
        "start_time": "2022-05-14T15:18:48.404Z"
      },
      {
        "duration": 234,
        "start_time": "2022-05-14T15:18:53.477Z"
      },
      {
        "duration": 246,
        "start_time": "2022-05-14T15:20:00.096Z"
      },
      {
        "duration": 241,
        "start_time": "2022-05-14T15:21:50.916Z"
      },
      {
        "duration": 239,
        "start_time": "2022-05-14T15:23:01.228Z"
      },
      {
        "duration": 332,
        "start_time": "2022-05-14T15:23:45.316Z"
      },
      {
        "duration": 147,
        "start_time": "2022-05-14T15:24:01.276Z"
      },
      {
        "duration": 200,
        "start_time": "2022-05-14T15:24:14.124Z"
      },
      {
        "duration": 155,
        "start_time": "2022-05-14T15:24:25.628Z"
      },
      {
        "duration": 169,
        "start_time": "2022-05-14T15:24:55.509Z"
      },
      {
        "duration": 156,
        "start_time": "2022-05-14T15:25:01.636Z"
      },
      {
        "duration": 169,
        "start_time": "2022-05-14T15:25:18.997Z"
      },
      {
        "duration": 155,
        "start_time": "2022-05-14T15:26:13.176Z"
      },
      {
        "duration": 240,
        "start_time": "2022-05-14T15:29:04.496Z"
      },
      {
        "duration": 348,
        "start_time": "2022-05-14T15:29:22.764Z"
      },
      {
        "duration": 140,
        "start_time": "2022-05-14T15:29:30.275Z"
      },
      {
        "duration": 233,
        "start_time": "2022-05-14T15:31:29.348Z"
      },
      {
        "duration": 234,
        "start_time": "2022-05-14T15:31:42.676Z"
      },
      {
        "duration": 143,
        "start_time": "2022-05-14T15:31:52.364Z"
      },
      {
        "duration": 15,
        "start_time": "2022-05-14T15:37:03.245Z"
      },
      {
        "duration": 13,
        "start_time": "2022-05-14T15:39:57.385Z"
      },
      {
        "duration": 14,
        "start_time": "2022-05-14T15:40:36.075Z"
      },
      {
        "duration": 13,
        "start_time": "2022-05-14T15:42:07.032Z"
      },
      {
        "duration": 13,
        "start_time": "2022-05-14T15:43:44.446Z"
      },
      {
        "duration": 13,
        "start_time": "2022-05-14T15:44:00.435Z"
      },
      {
        "duration": 13,
        "start_time": "2022-05-14T15:44:18.556Z"
      },
      {
        "duration": 13,
        "start_time": "2022-05-14T15:45:43.505Z"
      },
      {
        "duration": 488,
        "start_time": "2022-05-14T15:49:53.844Z"
      },
      {
        "duration": 16,
        "start_time": "2022-05-14T15:49:54.334Z"
      },
      {
        "duration": 30,
        "start_time": "2022-05-14T15:49:54.351Z"
      },
      {
        "duration": 24,
        "start_time": "2022-05-14T15:49:54.383Z"
      },
      {
        "duration": 4,
        "start_time": "2022-05-14T15:49:54.409Z"
      },
      {
        "duration": 7,
        "start_time": "2022-05-14T15:49:54.414Z"
      },
      {
        "duration": 21,
        "start_time": "2022-05-14T15:49:54.423Z"
      },
      {
        "duration": 15,
        "start_time": "2022-05-14T15:49:54.445Z"
      },
      {
        "duration": 13,
        "start_time": "2022-05-14T15:49:54.462Z"
      },
      {
        "duration": 34,
        "start_time": "2022-05-14T15:49:54.477Z"
      },
      {
        "duration": 15,
        "start_time": "2022-05-14T15:49:54.513Z"
      },
      {
        "duration": 349,
        "start_time": "2022-05-14T15:49:54.529Z"
      },
      {
        "duration": 4,
        "start_time": "2022-05-14T15:49:54.880Z"
      },
      {
        "duration": 34,
        "start_time": "2022-05-14T15:49:54.885Z"
      },
      {
        "duration": 451,
        "start_time": "2022-05-14T15:49:54.920Z"
      },
      {
        "duration": 312,
        "start_time": "2022-05-14T15:49:55.372Z"
      },
      {
        "duration": 148,
        "start_time": "2022-05-14T15:49:55.686Z"
      },
      {
        "duration": 152,
        "start_time": "2022-05-14T15:49:55.836Z"
      },
      {
        "duration": 263,
        "start_time": "2022-05-14T15:49:55.990Z"
      },
      {
        "duration": 22,
        "start_time": "2022-05-14T15:49:56.255Z"
      },
      {
        "duration": 11,
        "start_time": "2022-05-14T15:49:56.279Z"
      },
      {
        "duration": 34,
        "start_time": "2022-05-14T15:49:56.291Z"
      },
      {
        "duration": 12,
        "start_time": "2022-05-14T15:49:56.326Z"
      },
      {
        "duration": 14,
        "start_time": "2022-05-14T15:49:56.340Z"
      },
      {
        "duration": 12,
        "start_time": "2022-05-14T15:49:56.356Z"
      },
      {
        "duration": 48,
        "start_time": "2022-05-14T15:49:56.370Z"
      },
      {
        "duration": 15,
        "start_time": "2022-05-14T15:49:56.420Z"
      },
      {
        "duration": 8,
        "start_time": "2022-05-14T15:49:56.439Z"
      },
      {
        "duration": 19,
        "start_time": "2022-05-14T15:49:56.449Z"
      },
      {
        "duration": 6,
        "start_time": "2022-05-14T15:49:56.507Z"
      },
      {
        "duration": 192,
        "start_time": "2022-05-14T15:49:56.515Z"
      },
      {
        "duration": 18,
        "start_time": "2022-05-14T15:49:56.709Z"
      },
      {
        "duration": 267,
        "start_time": "2022-05-14T15:49:56.729Z"
      },
      {
        "duration": 167,
        "start_time": "2022-05-14T15:49:56.998Z"
      },
      {
        "duration": 151,
        "start_time": "2022-05-14T15:49:57.167Z"
      },
      {
        "duration": 217,
        "start_time": "2022-05-14T15:49:57.319Z"
      },
      {
        "duration": 14,
        "start_time": "2022-05-14T15:49:57.537Z"
      },
      {
        "duration": 14,
        "start_time": "2022-05-14T15:49:57.552Z"
      },
      {
        "duration": 40,
        "start_time": "2022-05-14T15:49:57.568Z"
      },
      {
        "duration": 15,
        "start_time": "2022-05-14T15:49:57.610Z"
      },
      {
        "duration": 13,
        "start_time": "2022-05-14T15:49:57.626Z"
      },
      {
        "duration": 24,
        "start_time": "2022-05-14T16:48:57.733Z"
      },
      {
        "duration": 529,
        "start_time": "2022-05-14T16:51:27.919Z"
      },
      {
        "duration": 17,
        "start_time": "2022-05-14T16:51:28.450Z"
      },
      {
        "duration": 41,
        "start_time": "2022-05-14T16:51:28.469Z"
      },
      {
        "duration": 11,
        "start_time": "2022-05-14T16:51:28.513Z"
      },
      {
        "duration": 4,
        "start_time": "2022-05-14T16:51:28.526Z"
      },
      {
        "duration": 13,
        "start_time": "2022-05-14T16:51:28.531Z"
      },
      {
        "duration": 23,
        "start_time": "2022-05-14T16:51:28.546Z"
      },
      {
        "duration": 42,
        "start_time": "2022-05-14T16:51:28.570Z"
      },
      {
        "duration": 15,
        "start_time": "2022-05-14T16:51:28.614Z"
      },
      {
        "duration": 4,
        "start_time": "2022-05-14T16:51:28.632Z"
      },
      {
        "duration": 15,
        "start_time": "2022-05-14T16:51:28.637Z"
      },
      {
        "duration": 358,
        "start_time": "2022-05-14T16:51:28.653Z"
      },
      {
        "duration": 4,
        "start_time": "2022-05-14T16:51:29.013Z"
      },
      {
        "duration": 29,
        "start_time": "2022-05-14T16:51:29.019Z"
      },
      {
        "duration": 469,
        "start_time": "2022-05-14T16:51:29.050Z"
      },
      {
        "duration": 325,
        "start_time": "2022-05-14T16:51:29.521Z"
      },
      {
        "duration": 146,
        "start_time": "2022-05-14T16:51:29.848Z"
      },
      {
        "duration": 165,
        "start_time": "2022-05-14T16:51:29.995Z"
      },
      {
        "duration": 260,
        "start_time": "2022-05-14T16:51:30.162Z"
      },
      {
        "duration": 22,
        "start_time": "2022-05-14T16:51:30.424Z"
      },
      {
        "duration": 11,
        "start_time": "2022-05-14T16:51:30.448Z"
      },
      {
        "duration": 20,
        "start_time": "2022-05-14T16:51:30.461Z"
      },
      {
        "duration": 15,
        "start_time": "2022-05-14T16:51:30.507Z"
      },
      {
        "duration": 16,
        "start_time": "2022-05-14T16:51:30.524Z"
      },
      {
        "duration": 14,
        "start_time": "2022-05-14T16:51:30.542Z"
      },
      {
        "duration": 50,
        "start_time": "2022-05-14T16:51:30.558Z"
      },
      {
        "duration": 14,
        "start_time": "2022-05-14T16:51:30.610Z"
      },
      {
        "duration": 8,
        "start_time": "2022-05-14T16:51:30.627Z"
      },
      {
        "duration": 20,
        "start_time": "2022-05-14T16:51:30.636Z"
      },
      {
        "duration": 4,
        "start_time": "2022-05-14T16:51:30.658Z"
      },
      {
        "duration": 215,
        "start_time": "2022-05-14T16:51:30.663Z"
      },
      {
        "duration": 28,
        "start_time": "2022-05-14T16:51:30.879Z"
      },
      {
        "duration": 256,
        "start_time": "2022-05-14T16:51:30.909Z"
      },
      {
        "duration": 172,
        "start_time": "2022-05-14T16:51:31.167Z"
      },
      {
        "duration": 144,
        "start_time": "2022-05-14T16:51:31.341Z"
      },
      {
        "duration": 221,
        "start_time": "2022-05-14T16:51:31.487Z"
      },
      {
        "duration": 14,
        "start_time": "2022-05-14T16:51:31.710Z"
      },
      {
        "duration": 13,
        "start_time": "2022-05-14T16:51:31.726Z"
      },
      {
        "duration": 13,
        "start_time": "2022-05-14T16:51:31.741Z"
      },
      {
        "duration": 16,
        "start_time": "2022-05-14T16:51:31.755Z"
      },
      {
        "duration": 14,
        "start_time": "2022-05-14T16:51:31.807Z"
      },
      {
        "duration": 490,
        "start_time": "2022-05-14T17:14:51.195Z"
      },
      {
        "duration": 13,
        "start_time": "2022-05-14T17:14:51.686Z"
      },
      {
        "duration": 24,
        "start_time": "2022-05-14T17:14:51.701Z"
      },
      {
        "duration": 7,
        "start_time": "2022-05-14T17:14:51.727Z"
      },
      {
        "duration": 5,
        "start_time": "2022-05-14T17:14:51.736Z"
      },
      {
        "duration": 7,
        "start_time": "2022-05-14T17:14:51.742Z"
      },
      {
        "duration": 20,
        "start_time": "2022-05-14T17:14:51.750Z"
      },
      {
        "duration": 32,
        "start_time": "2022-05-14T17:14:51.772Z"
      },
      {
        "duration": 13,
        "start_time": "2022-05-14T17:14:51.805Z"
      },
      {
        "duration": 4,
        "start_time": "2022-05-14T17:14:51.820Z"
      },
      {
        "duration": 14,
        "start_time": "2022-05-14T17:14:51.825Z"
      },
      {
        "duration": 308,
        "start_time": "2022-05-14T17:14:51.840Z"
      },
      {
        "duration": 4,
        "start_time": "2022-05-14T17:14:52.149Z"
      },
      {
        "duration": 27,
        "start_time": "2022-05-14T17:14:52.155Z"
      },
      {
        "duration": 457,
        "start_time": "2022-05-14T17:14:52.184Z"
      },
      {
        "duration": 255,
        "start_time": "2022-05-14T17:14:52.642Z"
      },
      {
        "duration": 123,
        "start_time": "2022-05-14T17:14:52.898Z"
      },
      {
        "duration": 121,
        "start_time": "2022-05-14T17:14:53.022Z"
      },
      {
        "duration": 206,
        "start_time": "2022-05-14T17:14:53.145Z"
      },
      {
        "duration": 20,
        "start_time": "2022-05-14T17:14:53.352Z"
      },
      {
        "duration": 9,
        "start_time": "2022-05-14T17:14:53.373Z"
      },
      {
        "duration": 31,
        "start_time": "2022-05-14T17:14:53.384Z"
      },
      {
        "duration": 11,
        "start_time": "2022-05-14T17:14:53.417Z"
      },
      {
        "duration": 12,
        "start_time": "2022-05-14T17:14:53.430Z"
      },
      {
        "duration": 11,
        "start_time": "2022-05-14T17:14:53.443Z"
      },
      {
        "duration": 10,
        "start_time": "2022-05-14T17:14:53.455Z"
      },
      {
        "duration": 11,
        "start_time": "2022-05-14T17:14:53.500Z"
      },
      {
        "duration": 6,
        "start_time": "2022-05-14T17:14:53.514Z"
      },
      {
        "duration": 16,
        "start_time": "2022-05-14T17:14:53.521Z"
      },
      {
        "duration": 3,
        "start_time": "2022-05-14T17:14:53.538Z"
      },
      {
        "duration": 166,
        "start_time": "2022-05-14T17:14:53.542Z"
      },
      {
        "duration": 14,
        "start_time": "2022-05-14T17:14:53.709Z"
      },
      {
        "duration": 205,
        "start_time": "2022-05-14T17:14:53.725Z"
      },
      {
        "duration": 135,
        "start_time": "2022-05-14T17:14:53.931Z"
      },
      {
        "duration": 124,
        "start_time": "2022-05-14T17:14:54.068Z"
      },
      {
        "duration": 177,
        "start_time": "2022-05-14T17:14:54.193Z"
      },
      {
        "duration": 28,
        "start_time": "2022-05-14T17:14:54.372Z"
      },
      {
        "duration": 12,
        "start_time": "2022-05-14T17:14:54.401Z"
      },
      {
        "duration": 14,
        "start_time": "2022-05-14T17:14:54.415Z"
      },
      {
        "duration": 16,
        "start_time": "2022-05-14T17:14:54.430Z"
      },
      {
        "duration": 11,
        "start_time": "2022-05-14T17:14:54.447Z"
      },
      {
        "duration": 6,
        "start_time": "2022-05-14T17:21:59.988Z"
      },
      {
        "duration": 4,
        "start_time": "2022-05-14T17:32:37.348Z"
      },
      {
        "duration": 477,
        "start_time": "2022-05-14T17:49:09.134Z"
      },
      {
        "duration": 14,
        "start_time": "2022-05-14T17:49:09.614Z"
      },
      {
        "duration": 26,
        "start_time": "2022-05-14T17:49:09.630Z"
      },
      {
        "duration": 8,
        "start_time": "2022-05-14T17:49:09.658Z"
      },
      {
        "duration": 4,
        "start_time": "2022-05-14T17:49:09.667Z"
      },
      {
        "duration": 28,
        "start_time": "2022-05-14T17:49:09.672Z"
      },
      {
        "duration": 21,
        "start_time": "2022-05-14T17:49:09.702Z"
      },
      {
        "duration": 16,
        "start_time": "2022-05-14T17:49:09.725Z"
      },
      {
        "duration": 13,
        "start_time": "2022-05-14T17:49:09.743Z"
      },
      {
        "duration": 3,
        "start_time": "2022-05-14T17:49:09.759Z"
      },
      {
        "duration": 36,
        "start_time": "2022-05-14T17:49:09.764Z"
      },
      {
        "duration": 330,
        "start_time": "2022-05-14T17:49:09.803Z"
      },
      {
        "duration": 4,
        "start_time": "2022-05-14T17:49:10.134Z"
      },
      {
        "duration": 25,
        "start_time": "2022-05-14T17:49:10.139Z"
      },
      {
        "duration": 481,
        "start_time": "2022-05-14T17:49:10.166Z"
      },
      {
        "duration": 298,
        "start_time": "2022-05-14T17:49:10.648Z"
      },
      {
        "duration": 133,
        "start_time": "2022-05-14T17:49:10.947Z"
      },
      {
        "duration": 135,
        "start_time": "2022-05-14T17:49:11.082Z"
      },
      {
        "duration": 213,
        "start_time": "2022-05-14T17:49:11.219Z"
      },
      {
        "duration": 20,
        "start_time": "2022-05-14T17:49:11.434Z"
      },
      {
        "duration": 10,
        "start_time": "2022-05-14T17:49:11.455Z"
      },
      {
        "duration": 38,
        "start_time": "2022-05-14T17:49:11.466Z"
      },
      {
        "duration": 14,
        "start_time": "2022-05-14T17:49:11.506Z"
      },
      {
        "duration": 12,
        "start_time": "2022-05-14T17:49:11.522Z"
      },
      {
        "duration": 10,
        "start_time": "2022-05-14T17:49:11.536Z"
      },
      {
        "duration": 12,
        "start_time": "2022-05-14T17:49:11.548Z"
      },
      {
        "duration": 53,
        "start_time": "2022-05-14T17:49:11.562Z"
      },
      {
        "duration": 11,
        "start_time": "2022-05-14T17:49:11.619Z"
      },
      {
        "duration": 16,
        "start_time": "2022-05-14T17:49:11.632Z"
      },
      {
        "duration": 4,
        "start_time": "2022-05-14T17:49:11.649Z"
      },
      {
        "duration": 180,
        "start_time": "2022-05-14T17:49:11.655Z"
      },
      {
        "duration": 15,
        "start_time": "2022-05-14T17:49:11.837Z"
      },
      {
        "duration": 229,
        "start_time": "2022-05-14T17:49:11.853Z"
      },
      {
        "duration": 141,
        "start_time": "2022-05-14T17:49:12.084Z"
      },
      {
        "duration": 148,
        "start_time": "2022-05-14T17:49:12.227Z"
      },
      {
        "duration": 200,
        "start_time": "2022-05-14T17:49:12.377Z"
      },
      {
        "duration": 25,
        "start_time": "2022-05-14T17:49:12.578Z"
      },
      {
        "duration": 17,
        "start_time": "2022-05-14T17:49:12.605Z"
      },
      {
        "duration": 17,
        "start_time": "2022-05-14T17:49:12.624Z"
      },
      {
        "duration": 22,
        "start_time": "2022-05-14T17:49:12.643Z"
      },
      {
        "duration": 13,
        "start_time": "2022-05-14T17:49:12.667Z"
      },
      {
        "duration": 679,
        "start_time": "2022-05-15T07:36:41.277Z"
      },
      {
        "duration": 23,
        "start_time": "2022-05-15T07:36:41.959Z"
      },
      {
        "duration": 59,
        "start_time": "2022-05-15T07:36:41.984Z"
      },
      {
        "duration": 12,
        "start_time": "2022-05-15T07:36:42.045Z"
      },
      {
        "duration": 6,
        "start_time": "2022-05-15T07:36:42.059Z"
      },
      {
        "duration": 10,
        "start_time": "2022-05-15T07:36:42.067Z"
      },
      {
        "duration": 50,
        "start_time": "2022-05-15T07:36:47.892Z"
      },
      {
        "duration": 27,
        "start_time": "2022-05-15T07:37:01.066Z"
      },
      {
        "duration": 19,
        "start_time": "2022-05-15T07:37:13.186Z"
      },
      {
        "duration": 23,
        "start_time": "2022-05-15T07:37:43.800Z"
      },
      {
        "duration": 23,
        "start_time": "2022-05-15T07:38:12.474Z"
      },
      {
        "duration": 703,
        "start_time": "2022-05-15T07:39:51.368Z"
      },
      {
        "duration": 25,
        "start_time": "2022-05-15T07:39:52.074Z"
      },
      {
        "duration": 66,
        "start_time": "2022-05-15T07:39:52.101Z"
      },
      {
        "duration": 13,
        "start_time": "2022-05-15T07:39:52.169Z"
      },
      {
        "duration": 5,
        "start_time": "2022-05-15T07:39:52.184Z"
      },
      {
        "duration": 35,
        "start_time": "2022-05-15T07:39:52.191Z"
      },
      {
        "duration": 43,
        "start_time": "2022-05-15T07:39:55.801Z"
      },
      {
        "duration": 28,
        "start_time": "2022-05-15T07:40:43.255Z"
      },
      {
        "duration": 9,
        "start_time": "2022-05-15T07:42:06.462Z"
      },
      {
        "duration": 17,
        "start_time": "2022-05-15T07:44:37.917Z"
      },
      {
        "duration": 24,
        "start_time": "2022-05-15T07:44:48.638Z"
      },
      {
        "duration": 211,
        "start_time": "2022-05-15T07:45:51.192Z"
      },
      {
        "duration": 1147,
        "start_time": "2022-05-15T07:46:23.505Z"
      },
      {
        "duration": 130,
        "start_time": "2022-05-15T07:46:39.601Z"
      },
      {
        "duration": 62,
        "start_time": "2022-05-15T07:50:23.639Z"
      },
      {
        "duration": 708,
        "start_time": "2022-05-15T07:53:44.257Z"
      },
      {
        "duration": 24,
        "start_time": "2022-05-15T07:53:44.968Z"
      },
      {
        "duration": 65,
        "start_time": "2022-05-15T07:53:44.994Z"
      },
      {
        "duration": 13,
        "start_time": "2022-05-15T07:53:45.062Z"
      },
      {
        "duration": 9,
        "start_time": "2022-05-15T07:53:45.078Z"
      },
      {
        "duration": 11,
        "start_time": "2022-05-15T07:53:45.090Z"
      },
      {
        "duration": 30,
        "start_time": "2022-05-15T07:53:45.125Z"
      },
      {
        "duration": 9,
        "start_time": "2022-05-15T07:53:45.158Z"
      },
      {
        "duration": 16,
        "start_time": "2022-05-15T07:53:47.544Z"
      },
      {
        "duration": 29,
        "start_time": "2022-05-15T07:53:55.438Z"
      },
      {
        "duration": 8,
        "start_time": "2022-05-15T07:56:42.795Z"
      },
      {
        "duration": 14,
        "start_time": "2022-05-15T07:57:14.777Z"
      },
      {
        "duration": 6,
        "start_time": "2022-05-15T07:57:58.487Z"
      },
      {
        "duration": 10,
        "start_time": "2022-05-15T07:58:09.990Z"
      },
      {
        "duration": 9,
        "start_time": "2022-05-15T07:58:34.251Z"
      },
      {
        "duration": 9,
        "start_time": "2022-05-15T07:59:40.585Z"
      },
      {
        "duration": 22,
        "start_time": "2022-05-15T07:59:57.687Z"
      },
      {
        "duration": 24,
        "start_time": "2022-05-15T08:00:54.413Z"
      },
      {
        "duration": 24,
        "start_time": "2022-05-15T08:04:12.382Z"
      },
      {
        "duration": 628,
        "start_time": "2022-05-15T08:04:33.724Z"
      },
      {
        "duration": 22,
        "start_time": "2022-05-15T08:04:34.355Z"
      },
      {
        "duration": 59,
        "start_time": "2022-05-15T08:04:34.379Z"
      },
      {
        "duration": 11,
        "start_time": "2022-05-15T08:04:34.441Z"
      },
      {
        "duration": 9,
        "start_time": "2022-05-15T08:04:34.455Z"
      },
      {
        "duration": 15,
        "start_time": "2022-05-15T08:04:34.467Z"
      },
      {
        "duration": 54,
        "start_time": "2022-05-15T08:04:34.484Z"
      },
      {
        "duration": 9,
        "start_time": "2022-05-15T08:04:34.540Z"
      },
      {
        "duration": 18,
        "start_time": "2022-05-15T08:04:34.551Z"
      },
      {
        "duration": 38,
        "start_time": "2022-05-15T08:04:37.822Z"
      },
      {
        "duration": 36,
        "start_time": "2022-05-15T08:05:28.448Z"
      },
      {
        "duration": 880,
        "start_time": "2022-05-15T08:05:56.336Z"
      },
      {
        "duration": 30,
        "start_time": "2022-05-15T08:05:57.219Z"
      },
      {
        "duration": 45,
        "start_time": "2022-05-15T08:05:57.252Z"
      },
      {
        "duration": 15,
        "start_time": "2022-05-15T08:05:57.326Z"
      },
      {
        "duration": 20,
        "start_time": "2022-05-15T08:05:57.343Z"
      },
      {
        "duration": 21,
        "start_time": "2022-05-15T08:05:57.365Z"
      },
      {
        "duration": 48,
        "start_time": "2022-05-15T08:05:57.388Z"
      },
      {
        "duration": 10,
        "start_time": "2022-05-15T08:05:57.440Z"
      },
      {
        "duration": 19,
        "start_time": "2022-05-15T08:05:57.453Z"
      },
      {
        "duration": 40,
        "start_time": "2022-05-15T08:06:01.715Z"
      },
      {
        "duration": 5,
        "start_time": "2022-05-15T08:07:22.314Z"
      },
      {
        "duration": 15,
        "start_time": "2022-05-15T08:07:26.453Z"
      },
      {
        "duration": 489,
        "start_time": "2022-05-15T08:07:30.174Z"
      },
      {
        "duration": 6,
        "start_time": "2022-05-15T08:07:33.427Z"
      },
      {
        "duration": 42,
        "start_time": "2022-05-15T08:07:37.691Z"
      },
      {
        "duration": 1048,
        "start_time": "2022-05-15T08:07:50.534Z"
      },
      {
        "duration": 430,
        "start_time": "2022-05-15T08:08:10.616Z"
      },
      {
        "duration": 227,
        "start_time": "2022-05-15T08:08:14.877Z"
      },
      {
        "duration": 225,
        "start_time": "2022-05-15T08:08:44.396Z"
      },
      {
        "duration": 418,
        "start_time": "2022-05-15T08:09:31.926Z"
      },
      {
        "duration": 3,
        "start_time": "2022-05-15T08:11:58.984Z"
      },
      {
        "duration": 176,
        "start_time": "2022-05-15T08:12:52.585Z"
      },
      {
        "duration": 949,
        "start_time": "2022-05-15T08:17:54.240Z"
      },
      {
        "duration": 23,
        "start_time": "2022-05-15T08:17:55.192Z"
      },
      {
        "duration": 40,
        "start_time": "2022-05-15T08:17:55.225Z"
      },
      {
        "duration": 13,
        "start_time": "2022-05-15T08:17:55.268Z"
      },
      {
        "duration": 40,
        "start_time": "2022-05-15T08:17:55.283Z"
      },
      {
        "duration": 6,
        "start_time": "2022-05-15T08:17:55.326Z"
      },
      {
        "duration": 35,
        "start_time": "2022-05-15T08:17:55.335Z"
      },
      {
        "duration": 10,
        "start_time": "2022-05-15T08:17:55.372Z"
      },
      {
        "duration": 45,
        "start_time": "2022-05-15T08:17:55.385Z"
      },
      {
        "duration": 39,
        "start_time": "2022-05-15T08:17:55.435Z"
      },
      {
        "duration": 6,
        "start_time": "2022-05-15T08:17:55.476Z"
      },
      {
        "duration": 44,
        "start_time": "2022-05-15T08:17:55.484Z"
      },
      {
        "duration": 486,
        "start_time": "2022-05-15T08:17:55.530Z"
      },
      {
        "duration": 8,
        "start_time": "2022-05-15T08:17:56.019Z"
      },
      {
        "duration": 48,
        "start_time": "2022-05-15T08:17:56.030Z"
      },
      {
        "duration": 438,
        "start_time": "2022-05-15T08:17:56.080Z"
      },
      {
        "duration": 469,
        "start_time": "2022-05-15T08:17:56.525Z"
      },
      {
        "duration": 234,
        "start_time": "2022-05-15T08:17:56.996Z"
      },
      {
        "duration": 241,
        "start_time": "2022-05-15T08:17:57.232Z"
      },
      {
        "duration": 411,
        "start_time": "2022-05-15T08:17:57.476Z"
      },
      {
        "duration": 5,
        "start_time": "2022-05-15T08:17:57.889Z"
      },
      {
        "duration": 179,
        "start_time": "2022-05-15T08:18:03.602Z"
      },
      {
        "duration": 194,
        "start_time": "2022-05-15T08:19:36.065Z"
      },
      {
        "duration": 187,
        "start_time": "2022-05-15T08:21:39.856Z"
      },
      {
        "duration": 177,
        "start_time": "2022-05-15T08:23:40.780Z"
      },
      {
        "duration": 261,
        "start_time": "2022-05-15T08:24:21.888Z"
      },
      {
        "duration": 291,
        "start_time": "2022-05-15T08:24:27.299Z"
      },
      {
        "duration": 169,
        "start_time": "2022-05-15T08:24:43.573Z"
      },
      {
        "duration": 170,
        "start_time": "2022-05-15T08:25:09.499Z"
      },
      {
        "duration": 169,
        "start_time": "2022-05-15T08:25:15.046Z"
      },
      {
        "duration": 167,
        "start_time": "2022-05-15T08:25:21.846Z"
      },
      {
        "duration": 204,
        "start_time": "2022-05-15T08:26:17.420Z"
      },
      {
        "duration": 17,
        "start_time": "2022-05-15T08:27:11.881Z"
      },
      {
        "duration": 176,
        "start_time": "2022-05-15T08:27:55.648Z"
      },
      {
        "duration": 16,
        "start_time": "2022-05-15T08:28:15.647Z"
      },
      {
        "duration": 174,
        "start_time": "2022-05-15T08:28:23.913Z"
      },
      {
        "duration": 167,
        "start_time": "2022-05-15T08:28:30.849Z"
      },
      {
        "duration": 181,
        "start_time": "2022-05-15T08:28:36.918Z"
      },
      {
        "duration": 4,
        "start_time": "2022-05-15T08:28:41.902Z"
      },
      {
        "duration": 178,
        "start_time": "2022-05-15T08:28:48.032Z"
      },
      {
        "duration": 169,
        "start_time": "2022-05-15T08:28:52.052Z"
      },
      {
        "duration": 999,
        "start_time": "2022-05-15T08:29:02.500Z"
      },
      {
        "duration": 31,
        "start_time": "2022-05-15T08:29:03.502Z"
      },
      {
        "duration": 45,
        "start_time": "2022-05-15T08:29:03.535Z"
      },
      {
        "duration": 12,
        "start_time": "2022-05-15T08:29:03.583Z"
      },
      {
        "duration": 28,
        "start_time": "2022-05-15T08:29:03.597Z"
      },
      {
        "duration": 28,
        "start_time": "2022-05-15T08:29:03.627Z"
      },
      {
        "duration": 42,
        "start_time": "2022-05-15T08:29:03.657Z"
      },
      {
        "duration": 10,
        "start_time": "2022-05-15T08:29:03.701Z"
      },
      {
        "duration": 21,
        "start_time": "2022-05-15T08:29:03.713Z"
      },
      {
        "duration": 44,
        "start_time": "2022-05-15T08:29:03.739Z"
      },
      {
        "duration": 6,
        "start_time": "2022-05-15T08:29:03.786Z"
      },
      {
        "duration": 41,
        "start_time": "2022-05-15T08:29:03.795Z"
      },
      {
        "duration": 498,
        "start_time": "2022-05-15T08:29:03.838Z"
      },
      {
        "duration": 7,
        "start_time": "2022-05-15T08:29:04.338Z"
      },
      {
        "duration": 46,
        "start_time": "2022-05-15T08:29:04.347Z"
      },
      {
        "duration": 440,
        "start_time": "2022-05-15T08:29:04.396Z"
      },
      {
        "duration": 495,
        "start_time": "2022-05-15T08:29:04.839Z"
      },
      {
        "duration": 243,
        "start_time": "2022-05-15T08:29:05.337Z"
      },
      {
        "duration": 245,
        "start_time": "2022-05-15T08:29:05.582Z"
      },
      {
        "duration": 523,
        "start_time": "2022-05-15T08:29:05.829Z"
      },
      {
        "duration": 3,
        "start_time": "2022-05-15T08:29:06.355Z"
      },
      {
        "duration": 182,
        "start_time": "2022-05-15T08:29:10.066Z"
      },
      {
        "duration": 17,
        "start_time": "2022-05-15T08:29:16.355Z"
      },
      {
        "duration": 164,
        "start_time": "2022-05-15T08:29:54.376Z"
      },
      {
        "duration": 196,
        "start_time": "2022-05-15T08:30:14.423Z"
      },
      {
        "duration": 193,
        "start_time": "2022-05-15T08:30:30.523Z"
      },
      {
        "duration": 158,
        "start_time": "2022-05-15T08:30:38.011Z"
      },
      {
        "duration": 16,
        "start_time": "2022-05-15T08:31:48.314Z"
      },
      {
        "duration": 18,
        "start_time": "2022-05-15T08:32:40.233Z"
      },
      {
        "duration": 22,
        "start_time": "2022-05-15T08:34:30.530Z"
      },
      {
        "duration": 12,
        "start_time": "2022-05-15T08:43:20.504Z"
      },
      {
        "duration": 161,
        "start_time": "2022-05-15T08:43:24.540Z"
      },
      {
        "duration": 995,
        "start_time": "2022-05-15T08:43:49.106Z"
      },
      {
        "duration": 28,
        "start_time": "2022-05-15T08:43:50.104Z"
      },
      {
        "duration": 40,
        "start_time": "2022-05-15T08:43:50.134Z"
      },
      {
        "duration": 12,
        "start_time": "2022-05-15T08:43:50.177Z"
      },
      {
        "duration": 34,
        "start_time": "2022-05-15T08:43:50.191Z"
      },
      {
        "duration": 13,
        "start_time": "2022-05-15T08:43:50.227Z"
      },
      {
        "duration": 39,
        "start_time": "2022-05-15T08:43:50.242Z"
      },
      {
        "duration": 10,
        "start_time": "2022-05-15T08:43:50.283Z"
      },
      {
        "duration": 42,
        "start_time": "2022-05-15T08:43:50.295Z"
      },
      {
        "duration": 40,
        "start_time": "2022-05-15T08:43:50.342Z"
      },
      {
        "duration": 5,
        "start_time": "2022-05-15T08:43:50.384Z"
      },
      {
        "duration": 47,
        "start_time": "2022-05-15T08:43:50.392Z"
      },
      {
        "duration": 471,
        "start_time": "2022-05-15T08:43:50.442Z"
      },
      {
        "duration": 12,
        "start_time": "2022-05-15T08:43:50.915Z"
      },
      {
        "duration": 41,
        "start_time": "2022-05-15T08:43:50.929Z"
      },
      {
        "duration": 426,
        "start_time": "2022-05-15T08:43:50.972Z"
      },
      {
        "duration": 463,
        "start_time": "2022-05-15T08:43:51.400Z"
      },
      {
        "duration": 235,
        "start_time": "2022-05-15T08:43:51.865Z"
      },
      {
        "duration": 236,
        "start_time": "2022-05-15T08:43:52.102Z"
      },
      {
        "duration": 394,
        "start_time": "2022-05-15T08:43:52.341Z"
      },
      {
        "duration": 4,
        "start_time": "2022-05-15T08:43:52.737Z"
      },
      {
        "duration": 196,
        "start_time": "2022-05-15T08:43:52.743Z"
      },
      {
        "duration": 17,
        "start_time": "2022-05-15T08:43:52.941Z"
      },
      {
        "duration": 180,
        "start_time": "2022-05-15T08:43:52.960Z"
      },
      {
        "duration": 15,
        "start_time": "2022-05-15T08:43:53.142Z"
      },
      {
        "duration": 17,
        "start_time": "2022-05-15T08:43:57.198Z"
      },
      {
        "duration": 22,
        "start_time": "2022-05-15T08:44:45.489Z"
      },
      {
        "duration": 18,
        "start_time": "2022-05-15T08:46:34.754Z"
      },
      {
        "duration": 23,
        "start_time": "2022-05-15T08:55:33.242Z"
      },
      {
        "duration": 20,
        "start_time": "2022-05-15T08:55:36.496Z"
      },
      {
        "duration": 22,
        "start_time": "2022-05-15T08:55:39.857Z"
      },
      {
        "duration": 20,
        "start_time": "2022-05-15T08:55:44.259Z"
      },
      {
        "duration": 2367,
        "start_time": "2022-05-15T08:57:14.632Z"
      },
      {
        "duration": 11,
        "start_time": "2022-05-15T08:59:06.946Z"
      },
      {
        "duration": 1971,
        "start_time": "2022-05-15T08:59:28.179Z"
      },
      {
        "duration": 1994,
        "start_time": "2022-05-15T09:06:53.293Z"
      },
      {
        "duration": 2062,
        "start_time": "2022-05-15T09:07:30.614Z"
      },
      {
        "duration": 6,
        "start_time": "2022-05-15T09:10:59.090Z"
      },
      {
        "duration": 24,
        "start_time": "2022-05-15T09:11:19.868Z"
      },
      {
        "duration": 6939,
        "start_time": "2022-05-15T09:12:09.402Z"
      },
      {
        "duration": 7464,
        "start_time": "2022-05-15T09:13:52.051Z"
      },
      {
        "duration": 7510,
        "start_time": "2022-05-15T09:14:14.550Z"
      },
      {
        "duration": 7896,
        "start_time": "2022-05-15T09:14:44.616Z"
      },
      {
        "duration": 11,
        "start_time": "2022-05-15T09:19:51.095Z"
      },
      {
        "duration": 33,
        "start_time": "2022-05-15T09:19:56.405Z"
      },
      {
        "duration": 8,
        "start_time": "2022-05-15T09:20:02.016Z"
      },
      {
        "duration": 417,
        "start_time": "2022-05-15T09:20:34.703Z"
      },
      {
        "duration": 926,
        "start_time": "2022-05-15T09:26:18.563Z"
      },
      {
        "duration": 32,
        "start_time": "2022-05-15T09:26:19.492Z"
      },
      {
        "duration": 43,
        "start_time": "2022-05-15T09:26:19.527Z"
      },
      {
        "duration": 13,
        "start_time": "2022-05-15T09:26:19.572Z"
      },
      {
        "duration": 5,
        "start_time": "2022-05-15T09:26:19.589Z"
      },
      {
        "duration": 7,
        "start_time": "2022-05-15T09:26:19.626Z"
      },
      {
        "duration": 36,
        "start_time": "2022-05-15T09:26:19.635Z"
      },
      {
        "duration": 10,
        "start_time": "2022-05-15T09:26:19.673Z"
      },
      {
        "duration": 47,
        "start_time": "2022-05-15T09:26:19.685Z"
      },
      {
        "duration": 38,
        "start_time": "2022-05-15T09:26:19.734Z"
      },
      {
        "duration": 5,
        "start_time": "2022-05-15T09:26:19.774Z"
      },
      {
        "duration": 45,
        "start_time": "2022-05-15T09:26:19.782Z"
      },
      {
        "duration": 560,
        "start_time": "2022-05-15T09:26:19.829Z"
      },
      {
        "duration": 5,
        "start_time": "2022-05-15T09:26:20.393Z"
      },
      {
        "duration": 52,
        "start_time": "2022-05-15T09:26:20.400Z"
      },
      {
        "duration": 459,
        "start_time": "2022-05-15T09:26:20.454Z"
      },
      {
        "duration": 404,
        "start_time": "2022-05-15T09:26:20.915Z"
      },
      {
        "duration": 223,
        "start_time": "2022-05-15T09:26:21.324Z"
      },
      {
        "duration": 234,
        "start_time": "2022-05-15T09:26:21.549Z"
      },
      {
        "duration": 397,
        "start_time": "2022-05-15T09:26:21.785Z"
      },
      {
        "duration": 3,
        "start_time": "2022-05-15T09:26:22.184Z"
      },
      {
        "duration": 192,
        "start_time": "2022-05-15T09:26:22.191Z"
      },
      {
        "duration": 17,
        "start_time": "2022-05-15T09:26:22.386Z"
      },
      {
        "duration": 193,
        "start_time": "2022-05-15T09:26:22.405Z"
      },
      {
        "duration": 29,
        "start_time": "2022-05-15T09:26:22.601Z"
      },
      {
        "duration": 17,
        "start_time": "2022-05-15T09:26:22.632Z"
      },
      {
        "duration": 21,
        "start_time": "2022-05-15T09:26:22.652Z"
      },
      {
        "duration": 58,
        "start_time": "2022-05-15T09:26:22.675Z"
      },
      {
        "duration": 21,
        "start_time": "2022-05-15T09:26:22.736Z"
      },
      {
        "duration": 19,
        "start_time": "2022-05-15T09:26:22.759Z"
      },
      {
        "duration": 61,
        "start_time": "2022-05-15T09:26:22.781Z"
      },
      {
        "duration": 19,
        "start_time": "2022-05-15T09:26:22.844Z"
      },
      {
        "duration": 8012,
        "start_time": "2022-05-15T09:26:22.866Z"
      },
      {
        "duration": 13,
        "start_time": "2022-05-15T09:26:30.881Z"
      },
      {
        "duration": 36,
        "start_time": "2022-05-15T09:26:30.897Z"
      },
      {
        "duration": 7,
        "start_time": "2022-05-15T09:26:30.936Z"
      },
      {
        "duration": 300,
        "start_time": "2022-05-15T09:26:35.539Z"
      },
      {
        "duration": 2311,
        "start_time": "2022-05-15T09:37:12.495Z"
      },
      {
        "duration": 284,
        "start_time": "2022-05-15T09:37:55.593Z"
      },
      {
        "duration": 2479,
        "start_time": "2022-05-15T09:38:13.176Z"
      },
      {
        "duration": 283,
        "start_time": "2022-05-15T09:38:51.478Z"
      },
      {
        "duration": 2897,
        "start_time": "2022-05-15T09:39:16.275Z"
      },
      {
        "duration": 3420,
        "start_time": "2022-05-15T09:41:23.725Z"
      },
      {
        "duration": 268,
        "start_time": "2022-05-15T09:42:11.726Z"
      },
      {
        "duration": 270,
        "start_time": "2022-05-15T09:42:36.394Z"
      },
      {
        "duration": 305,
        "start_time": "2022-05-15T09:42:59.726Z"
      },
      {
        "duration": 538,
        "start_time": "2022-05-15T09:44:38.706Z"
      },
      {
        "duration": 1068,
        "start_time": "2022-05-15T09:47:44.772Z"
      },
      {
        "duration": 24,
        "start_time": "2022-05-15T09:47:45.843Z"
      },
      {
        "duration": 65,
        "start_time": "2022-05-15T09:47:45.870Z"
      },
      {
        "duration": 13,
        "start_time": "2022-05-15T09:47:45.937Z"
      },
      {
        "duration": 18,
        "start_time": "2022-05-15T09:47:45.953Z"
      },
      {
        "duration": 20,
        "start_time": "2022-05-15T09:47:45.973Z"
      },
      {
        "duration": 45,
        "start_time": "2022-05-15T09:47:45.996Z"
      },
      {
        "duration": 10,
        "start_time": "2022-05-15T09:47:46.044Z"
      },
      {
        "duration": 21,
        "start_time": "2022-05-15T09:47:46.056Z"
      },
      {
        "duration": 66,
        "start_time": "2022-05-15T09:47:46.079Z"
      },
      {
        "duration": 7,
        "start_time": "2022-05-15T09:47:46.147Z"
      },
      {
        "duration": 21,
        "start_time": "2022-05-15T09:47:46.156Z"
      },
      {
        "duration": 572,
        "start_time": "2022-05-15T09:47:46.179Z"
      },
      {
        "duration": 6,
        "start_time": "2022-05-15T09:47:46.755Z"
      },
      {
        "duration": 63,
        "start_time": "2022-05-15T09:47:46.763Z"
      },
      {
        "duration": 472,
        "start_time": "2022-05-15T09:47:46.828Z"
      },
      {
        "duration": 422,
        "start_time": "2022-05-15T09:47:47.302Z"
      },
      {
        "duration": 235,
        "start_time": "2022-05-15T09:47:47.728Z"
      },
      {
        "duration": 236,
        "start_time": "2022-05-15T09:47:47.966Z"
      },
      {
        "duration": 397,
        "start_time": "2022-05-15T09:47:48.205Z"
      },
      {
        "duration": 3,
        "start_time": "2022-05-15T09:47:48.604Z"
      },
      {
        "duration": 197,
        "start_time": "2022-05-15T09:47:48.609Z"
      },
      {
        "duration": 24,
        "start_time": "2022-05-15T09:47:48.809Z"
      },
      {
        "duration": 174,
        "start_time": "2022-05-15T09:47:48.836Z"
      },
      {
        "duration": 24,
        "start_time": "2022-05-15T09:47:49.012Z"
      },
      {
        "duration": 16,
        "start_time": "2022-05-15T09:47:49.038Z"
      },
      {
        "duration": 21,
        "start_time": "2022-05-15T09:47:49.056Z"
      },
      {
        "duration": 54,
        "start_time": "2022-05-15T09:47:49.079Z"
      },
      {
        "duration": 21,
        "start_time": "2022-05-15T09:47:49.135Z"
      },
      {
        "duration": 18,
        "start_time": "2022-05-15T09:47:49.159Z"
      },
      {
        "duration": 59,
        "start_time": "2022-05-15T09:47:49.180Z"
      },
      {
        "duration": 18,
        "start_time": "2022-05-15T09:47:49.241Z"
      },
      {
        "duration": 7763,
        "start_time": "2022-05-15T09:47:49.262Z"
      },
      {
        "duration": 11,
        "start_time": "2022-05-15T09:47:57.028Z"
      },
      {
        "duration": 43,
        "start_time": "2022-05-15T09:47:57.042Z"
      },
      {
        "duration": 6,
        "start_time": "2022-05-15T09:47:57.087Z"
      },
      {
        "duration": 336,
        "start_time": "2022-05-15T09:47:57.096Z"
      },
      {
        "duration": 1024,
        "start_time": "2022-05-15T09:53:31.517Z"
      },
      {
        "duration": 22,
        "start_time": "2022-05-15T09:53:32.544Z"
      },
      {
        "duration": 65,
        "start_time": "2022-05-15T09:53:32.568Z"
      },
      {
        "duration": 12,
        "start_time": "2022-05-15T09:53:32.636Z"
      },
      {
        "duration": 5,
        "start_time": "2022-05-15T09:53:32.651Z"
      },
      {
        "duration": 8,
        "start_time": "2022-05-15T09:53:32.658Z"
      },
      {
        "duration": 56,
        "start_time": "2022-05-15T09:53:32.668Z"
      },
      {
        "duration": 9,
        "start_time": "2022-05-15T09:53:32.727Z"
      },
      {
        "duration": 21,
        "start_time": "2022-05-15T09:53:32.738Z"
      },
      {
        "duration": 69,
        "start_time": "2022-05-15T09:53:32.763Z"
      },
      {
        "duration": 5,
        "start_time": "2022-05-15T09:53:32.834Z"
      },
      {
        "duration": 35,
        "start_time": "2022-05-15T09:53:32.841Z"
      },
      {
        "duration": 477,
        "start_time": "2022-05-15T09:53:32.879Z"
      },
      {
        "duration": 6,
        "start_time": "2022-05-15T09:53:33.358Z"
      },
      {
        "duration": 48,
        "start_time": "2022-05-15T09:53:33.366Z"
      },
      {
        "duration": 414,
        "start_time": "2022-05-15T09:53:33.425Z"
      },
      {
        "duration": 473,
        "start_time": "2022-05-15T09:53:33.841Z"
      },
      {
        "duration": 241,
        "start_time": "2022-05-15T09:53:34.317Z"
      },
      {
        "duration": 237,
        "start_time": "2022-05-15T09:53:34.560Z"
      },
      {
        "duration": 405,
        "start_time": "2022-05-15T09:53:34.800Z"
      },
      {
        "duration": 4,
        "start_time": "2022-05-15T09:53:35.208Z"
      },
      {
        "duration": 195,
        "start_time": "2022-05-15T09:53:35.224Z"
      },
      {
        "duration": 16,
        "start_time": "2022-05-15T09:53:35.426Z"
      },
      {
        "duration": 193,
        "start_time": "2022-05-15T09:53:35.445Z"
      },
      {
        "duration": 15,
        "start_time": "2022-05-15T09:53:35.641Z"
      },
      {
        "duration": 20,
        "start_time": "2022-05-15T09:53:35.659Z"
      },
      {
        "duration": 44,
        "start_time": "2022-05-15T09:53:35.681Z"
      },
      {
        "duration": 18,
        "start_time": "2022-05-15T09:53:35.730Z"
      },
      {
        "duration": 22,
        "start_time": "2022-05-15T09:53:35.750Z"
      },
      {
        "duration": 60,
        "start_time": "2022-05-15T09:53:35.774Z"
      },
      {
        "duration": 21,
        "start_time": "2022-05-15T09:53:35.836Z"
      },
      {
        "duration": 19,
        "start_time": "2022-05-15T09:53:35.859Z"
      },
      {
        "duration": 7509,
        "start_time": "2022-05-15T09:53:35.880Z"
      },
      {
        "duration": 11,
        "start_time": "2022-05-15T09:53:43.392Z"
      },
      {
        "duration": 42,
        "start_time": "2022-05-15T09:53:43.405Z"
      },
      {
        "duration": 6,
        "start_time": "2022-05-15T09:53:43.449Z"
      },
      {
        "duration": 312,
        "start_time": "2022-05-15T09:53:43.458Z"
      },
      {
        "duration": 25,
        "start_time": "2022-05-15T09:53:51.084Z"
      },
      {
        "duration": 6764,
        "start_time": "2022-05-15T09:55:32.924Z"
      },
      {
        "duration": 6884,
        "start_time": "2022-05-15T09:55:59.819Z"
      },
      {
        "duration": 26,
        "start_time": "2022-05-15T10:12:36.735Z"
      },
      {
        "duration": 1040,
        "start_time": "2022-05-15T10:13:19.860Z"
      },
      {
        "duration": 32,
        "start_time": "2022-05-15T10:13:20.904Z"
      },
      {
        "duration": 42,
        "start_time": "2022-05-15T10:13:20.939Z"
      },
      {
        "duration": 44,
        "start_time": "2022-05-15T10:13:20.984Z"
      },
      {
        "duration": 5,
        "start_time": "2022-05-15T10:13:21.032Z"
      },
      {
        "duration": 13,
        "start_time": "2022-05-15T10:13:21.040Z"
      },
      {
        "duration": 35,
        "start_time": "2022-05-15T10:13:21.058Z"
      },
      {
        "duration": 31,
        "start_time": "2022-05-15T10:13:21.095Z"
      },
      {
        "duration": 21,
        "start_time": "2022-05-15T10:13:21.129Z"
      },
      {
        "duration": 40,
        "start_time": "2022-05-15T10:13:21.153Z"
      },
      {
        "duration": 30,
        "start_time": "2022-05-15T10:13:21.195Z"
      },
      {
        "duration": 36,
        "start_time": "2022-05-15T10:13:21.228Z"
      },
      {
        "duration": 498,
        "start_time": "2022-05-15T10:13:21.266Z"
      },
      {
        "duration": 5,
        "start_time": "2022-05-15T10:13:21.769Z"
      },
      {
        "duration": 63,
        "start_time": "2022-05-15T10:13:21.776Z"
      },
      {
        "duration": 500,
        "start_time": "2022-05-15T10:13:21.841Z"
      },
      {
        "duration": 453,
        "start_time": "2022-05-15T10:13:22.345Z"
      },
      {
        "duration": 247,
        "start_time": "2022-05-15T10:13:22.801Z"
      },
      {
        "duration": 251,
        "start_time": "2022-05-15T10:13:23.050Z"
      },
      {
        "duration": 516,
        "start_time": "2022-05-15T10:13:23.304Z"
      },
      {
        "duration": 6,
        "start_time": "2022-05-15T10:13:23.825Z"
      },
      {
        "duration": 226,
        "start_time": "2022-05-15T10:13:23.833Z"
      },
      {
        "duration": 17,
        "start_time": "2022-05-15T10:13:24.062Z"
      },
      {
        "duration": 203,
        "start_time": "2022-05-15T10:13:24.082Z"
      },
      {
        "duration": 17,
        "start_time": "2022-05-15T10:13:24.288Z"
      },
      {
        "duration": 26,
        "start_time": "2022-05-15T10:13:24.324Z"
      },
      {
        "duration": 24,
        "start_time": "2022-05-15T10:13:24.353Z"
      },
      {
        "duration": 63,
        "start_time": "2022-05-15T10:13:24.379Z"
      },
      {
        "duration": 29,
        "start_time": "2022-05-15T10:13:24.445Z"
      },
      {
        "duration": 24,
        "start_time": "2022-05-15T10:13:24.477Z"
      },
      {
        "duration": 54,
        "start_time": "2022-05-15T10:13:24.503Z"
      },
      {
        "duration": 20,
        "start_time": "2022-05-15T10:13:24.560Z"
      },
      {
        "duration": 10077,
        "start_time": "2022-05-15T10:13:24.584Z"
      },
      {
        "duration": 11,
        "start_time": "2022-05-15T10:13:34.664Z"
      },
      {
        "duration": 38,
        "start_time": "2022-05-15T10:13:34.677Z"
      },
      {
        "duration": 7,
        "start_time": "2022-05-15T10:13:34.736Z"
      },
      {
        "duration": 314,
        "start_time": "2022-05-15T10:13:34.746Z"
      },
      {
        "duration": 31,
        "start_time": "2022-05-15T10:15:21.402Z"
      },
      {
        "duration": 411,
        "start_time": "2022-05-15T10:15:28.750Z"
      },
      {
        "duration": 379,
        "start_time": "2022-05-15T10:15:48.867Z"
      },
      {
        "duration": 257,
        "start_time": "2022-05-15T10:16:59.791Z"
      },
      {
        "duration": 295,
        "start_time": "2022-05-15T10:18:17.211Z"
      },
      {
        "duration": 237,
        "start_time": "2022-05-15T10:20:19.390Z"
      },
      {
        "duration": 343,
        "start_time": "2022-05-15T10:20:41.770Z"
      },
      {
        "duration": 30,
        "start_time": "2022-05-15T10:20:54.838Z"
      },
      {
        "duration": 19,
        "start_time": "2022-05-15T10:21:21.171Z"
      },
      {
        "duration": 21,
        "start_time": "2022-05-15T10:24:10.463Z"
      },
      {
        "duration": 20,
        "start_time": "2022-05-15T10:26:18.071Z"
      },
      {
        "duration": 23,
        "start_time": "2022-05-15T10:29:10.727Z"
      },
      {
        "duration": 1745,
        "start_time": "2022-05-15T15:20:21.931Z"
      },
      {
        "duration": 41,
        "start_time": "2022-05-15T15:20:23.680Z"
      },
      {
        "duration": 44,
        "start_time": "2022-05-15T15:20:23.724Z"
      },
      {
        "duration": 35,
        "start_time": "2022-05-15T15:20:23.771Z"
      },
      {
        "duration": 26,
        "start_time": "2022-05-15T15:20:23.811Z"
      },
      {
        "duration": 9,
        "start_time": "2022-05-15T15:20:23.840Z"
      },
      {
        "duration": 38,
        "start_time": "2022-05-15T15:20:23.851Z"
      },
      {
        "duration": 15,
        "start_time": "2022-05-15T15:20:23.900Z"
      },
      {
        "duration": 35,
        "start_time": "2022-05-15T15:20:23.918Z"
      },
      {
        "duration": 86,
        "start_time": "2022-05-15T15:20:23.956Z"
      },
      {
        "duration": 5,
        "start_time": "2022-05-15T15:20:24.044Z"
      },
      {
        "duration": 20,
        "start_time": "2022-05-15T15:20:24.051Z"
      },
      {
        "duration": 793,
        "start_time": "2022-05-15T15:20:24.074Z"
      },
      {
        "duration": 19,
        "start_time": "2022-05-15T15:20:24.874Z"
      },
      {
        "duration": 63,
        "start_time": "2022-05-15T15:20:24.897Z"
      },
      {
        "duration": 586,
        "start_time": "2022-05-15T15:20:24.962Z"
      },
      {
        "duration": 468,
        "start_time": "2022-05-15T15:20:25.550Z"
      },
      {
        "duration": 249,
        "start_time": "2022-05-15T15:20:26.022Z"
      },
      {
        "duration": 283,
        "start_time": "2022-05-15T15:20:26.274Z"
      },
      {
        "duration": 463,
        "start_time": "2022-05-15T15:20:26.559Z"
      },
      {
        "duration": 4,
        "start_time": "2022-05-15T15:20:27.024Z"
      },
      {
        "duration": 213,
        "start_time": "2022-05-15T15:20:27.031Z"
      },
      {
        "duration": 16,
        "start_time": "2022-05-15T15:20:27.246Z"
      },
      {
        "duration": 205,
        "start_time": "2022-05-15T15:20:27.264Z"
      },
      {
        "duration": 34,
        "start_time": "2022-05-15T15:20:27.471Z"
      },
      {
        "duration": 23,
        "start_time": "2022-05-15T15:20:27.512Z"
      },
      {
        "duration": 20,
        "start_time": "2022-05-15T15:20:27.537Z"
      },
      {
        "duration": 45,
        "start_time": "2022-05-15T15:20:27.559Z"
      },
      {
        "duration": 28,
        "start_time": "2022-05-15T15:20:27.608Z"
      },
      {
        "duration": 19,
        "start_time": "2022-05-15T15:20:27.639Z"
      },
      {
        "duration": 31,
        "start_time": "2022-05-15T15:20:27.705Z"
      },
      {
        "duration": 20,
        "start_time": "2022-05-15T15:20:27.738Z"
      },
      {
        "duration": 8749,
        "start_time": "2022-05-15T15:20:27.761Z"
      },
      {
        "duration": 10,
        "start_time": "2022-05-15T15:20:36.512Z"
      },
      {
        "duration": 30,
        "start_time": "2022-05-15T15:20:36.525Z"
      },
      {
        "duration": 7,
        "start_time": "2022-05-15T15:20:36.557Z"
      },
      {
        "duration": 387,
        "start_time": "2022-05-15T15:20:36.566Z"
      },
      {
        "duration": 47,
        "start_time": "2022-05-15T15:20:36.956Z"
      },
      {
        "duration": 450,
        "start_time": "2022-05-15T15:20:37.006Z"
      },
      {
        "duration": 314,
        "start_time": "2022-05-15T15:20:37.458Z"
      },
      {
        "duration": 282,
        "start_time": "2022-05-15T15:20:37.778Z"
      },
      {
        "duration": 228,
        "start_time": "2022-05-15T15:20:38.062Z"
      },
      {
        "duration": 30,
        "start_time": "2022-05-15T15:20:38.293Z"
      },
      {
        "duration": 19,
        "start_time": "2022-05-15T15:20:38.325Z"
      },
      {
        "duration": 70,
        "start_time": "2022-05-15T15:20:38.347Z"
      },
      {
        "duration": 20,
        "start_time": "2022-05-15T15:20:38.419Z"
      },
      {
        "duration": 19,
        "start_time": "2022-05-15T15:20:38.442Z"
      },
      {
        "duration": 1139,
        "start_time": "2022-05-15T15:40:24.284Z"
      },
      {
        "duration": 25,
        "start_time": "2022-05-15T15:40:25.426Z"
      },
      {
        "duration": 54,
        "start_time": "2022-05-15T15:40:25.453Z"
      },
      {
        "duration": 13,
        "start_time": "2022-05-15T15:40:25.511Z"
      },
      {
        "duration": 5,
        "start_time": "2022-05-15T15:40:25.527Z"
      },
      {
        "duration": 11,
        "start_time": "2022-05-15T15:40:25.535Z"
      },
      {
        "duration": 78,
        "start_time": "2022-05-15T15:40:25.548Z"
      },
      {
        "duration": 9,
        "start_time": "2022-05-15T15:40:25.628Z"
      },
      {
        "duration": 21,
        "start_time": "2022-05-15T15:40:25.639Z"
      },
      {
        "duration": 66,
        "start_time": "2022-05-15T15:40:25.665Z"
      },
      {
        "duration": 7,
        "start_time": "2022-05-15T15:40:25.734Z"
      },
      {
        "duration": 22,
        "start_time": "2022-05-15T15:40:25.743Z"
      },
      {
        "duration": 512,
        "start_time": "2022-05-15T15:40:25.767Z"
      },
      {
        "duration": 12,
        "start_time": "2022-05-15T15:40:26.282Z"
      },
      {
        "duration": 57,
        "start_time": "2022-05-15T15:40:26.296Z"
      },
      {
        "duration": 414,
        "start_time": "2022-05-15T15:40:26.355Z"
      },
      {
        "duration": 474,
        "start_time": "2022-05-15T15:40:26.772Z"
      },
      {
        "duration": 254,
        "start_time": "2022-05-15T15:40:27.248Z"
      },
      {
        "duration": 246,
        "start_time": "2022-05-15T15:40:27.505Z"
      },
      {
        "duration": 420,
        "start_time": "2022-05-15T15:40:27.754Z"
      },
      {
        "duration": 3,
        "start_time": "2022-05-15T15:40:28.177Z"
      },
      {
        "duration": 197,
        "start_time": "2022-05-15T15:40:28.195Z"
      },
      {
        "duration": 19,
        "start_time": "2022-05-15T15:40:28.395Z"
      },
      {
        "duration": 194,
        "start_time": "2022-05-15T15:40:28.417Z"
      },
      {
        "duration": 16,
        "start_time": "2022-05-15T15:40:28.616Z"
      },
      {
        "duration": 20,
        "start_time": "2022-05-15T15:40:28.634Z"
      },
      {
        "duration": 49,
        "start_time": "2022-05-15T15:40:28.656Z"
      },
      {
        "duration": 22,
        "start_time": "2022-05-15T15:40:28.712Z"
      },
      {
        "duration": 79,
        "start_time": "2022-05-15T15:40:28.737Z"
      },
      {
        "duration": 29,
        "start_time": "2022-05-15T15:40:28.819Z"
      },
      {
        "duration": 44,
        "start_time": "2022-05-15T15:40:28.852Z"
      },
      {
        "duration": 25,
        "start_time": "2022-05-15T15:40:28.900Z"
      },
      {
        "duration": 8290,
        "start_time": "2022-05-15T15:40:28.928Z"
      },
      {
        "duration": 13,
        "start_time": "2022-05-15T15:40:37.220Z"
      },
      {
        "duration": 36,
        "start_time": "2022-05-15T15:40:37.236Z"
      },
      {
        "duration": 6,
        "start_time": "2022-05-15T15:40:37.275Z"
      },
      {
        "duration": 329,
        "start_time": "2022-05-15T15:40:37.284Z"
      },
      {
        "duration": 25,
        "start_time": "2022-05-15T15:40:37.616Z"
      },
      {
        "duration": 416,
        "start_time": "2022-05-15T15:40:37.644Z"
      },
      {
        "duration": 303,
        "start_time": "2022-05-15T15:40:38.063Z"
      },
      {
        "duration": 278,
        "start_time": "2022-05-15T15:40:38.370Z"
      },
      {
        "duration": 235,
        "start_time": "2022-05-15T15:40:38.650Z"
      },
      {
        "duration": 36,
        "start_time": "2022-05-15T15:40:38.887Z"
      },
      {
        "duration": 29,
        "start_time": "2022-05-15T15:40:38.926Z"
      },
      {
        "duration": 63,
        "start_time": "2022-05-15T15:40:38.957Z"
      },
      {
        "duration": 20,
        "start_time": "2022-05-15T15:40:39.023Z"
      },
      {
        "duration": 50,
        "start_time": "2022-05-15T15:40:39.045Z"
      }
    ],
    "kernelspec": {
      "display_name": "Python 3 (ipykernel)",
      "language": "python",
      "name": "python3"
    },
    "language_info": {
      "codemirror_mode": {
        "name": "ipython",
        "version": 3
      },
      "file_extension": ".py",
      "mimetype": "text/x-python",
      "name": "python",
      "nbconvert_exporter": "python",
      "pygments_lexer": "ipython3",
      "version": "3.9.5"
    },
    "toc": {
      "base_numbering": 1,
      "nav_menu": {},
      "number_sections": true,
      "sideBar": true,
      "skip_h1_title": true,
      "title_cell": "Содержание",
      "title_sidebar": "Contents",
      "toc_cell": true,
      "toc_position": {
        "height": "calc(100% - 180px)",
        "left": "10px",
        "top": "150px",
        "width": "366.391px"
      },
      "toc_section_display": true,
      "toc_window_display": false
    },
    "colab": {
      "provenance": [],
      "toc_visible": true
    }
  },
  "nbformat": 4,
  "nbformat_minor": 0
}